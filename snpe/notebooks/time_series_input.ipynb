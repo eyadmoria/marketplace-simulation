{
 "cells": [
  {
   "cell_type": "code",
   "execution_count": 1,
   "metadata": {},
   "outputs": [],
   "source": [
    "%load_ext autoreload\n",
    "%autoreload 2"
   ]
  },
  {
   "cell_type": "code",
   "execution_count": 2,
   "metadata": {},
   "outputs": [
    {
     "data": {
      "application/javascript": [
       "\n",
       "            setTimeout(function() {\n",
       "                var nbb_cell_id = 2;\n",
       "                var nbb_unformatted_code = \"# Just a formatting related plugin\\n%load_ext nb_black\";\n",
       "                var nbb_formatted_code = \"# Just a formatting related plugin\\n%load_ext nb_black\";\n",
       "                var nbb_cells = Jupyter.notebook.get_cells();\n",
       "                for (var i = 0; i < nbb_cells.length; ++i) {\n",
       "                    if (nbb_cells[i].input_prompt_number == nbb_cell_id) {\n",
       "                        if (nbb_cells[i].get_text() == nbb_unformatted_code) {\n",
       "                             nbb_cells[i].set_text(nbb_formatted_code);\n",
       "                        }\n",
       "                        break;\n",
       "                    }\n",
       "                }\n",
       "            }, 500);\n",
       "            "
      ],
      "text/plain": [
       "<IPython.core.display.Javascript object>"
      ]
     },
     "metadata": {},
     "output_type": "display_data"
    }
   ],
   "source": [
    "# Just a formatting related plugin\n",
    "%load_ext nb_black"
   ]
  },
  {
   "cell_type": "code",
   "execution_count": 3,
   "metadata": {},
   "outputs": [
    {
     "data": {
      "application/javascript": [
       "\n",
       "            setTimeout(function() {\n",
       "                var nbb_cell_id = 3;\n",
       "                var nbb_unformatted_code = \"%matplotlib inline\\nimport matplotlib.pyplot as plt\";\n",
       "                var nbb_formatted_code = \"%matplotlib inline\\nimport matplotlib.pyplot as plt\";\n",
       "                var nbb_cells = Jupyter.notebook.get_cells();\n",
       "                for (var i = 0; i < nbb_cells.length; ++i) {\n",
       "                    if (nbb_cells[i].input_prompt_number == nbb_cell_id) {\n",
       "                        if (nbb_cells[i].get_text() == nbb_unformatted_code) {\n",
       "                             nbb_cells[i].set_text(nbb_formatted_code);\n",
       "                        }\n",
       "                        break;\n",
       "                    }\n",
       "                }\n",
       "            }, 500);\n",
       "            "
      ],
      "text/plain": [
       "<IPython.core.display.Javascript object>"
      ]
     },
     "metadata": {},
     "output_type": "display_data"
    }
   ],
   "source": [
    "%matplotlib inline\n",
    "import matplotlib.pyplot as plt"
   ]
  },
  {
   "cell_type": "code",
   "execution_count": 4,
   "metadata": {},
   "outputs": [
    {
     "data": {
      "application/javascript": [
       "\n",
       "            setTimeout(function() {\n",
       "                var nbb_cell_id = 4;\n",
       "                var nbb_unformatted_code = \"import sys\\n\\nsys.path.append(\\\"../\\\")\";\n",
       "                var nbb_formatted_code = \"import sys\\n\\nsys.path.append(\\\"../\\\")\";\n",
       "                var nbb_cells = Jupyter.notebook.get_cells();\n",
       "                for (var i = 0; i < nbb_cells.length; ++i) {\n",
       "                    if (nbb_cells[i].input_prompt_number == nbb_cell_id) {\n",
       "                        if (nbb_cells[i].get_text() == nbb_unformatted_code) {\n",
       "                             nbb_cells[i].set_text(nbb_formatted_code);\n",
       "                        }\n",
       "                        break;\n",
       "                    }\n",
       "                }\n",
       "            }, 500);\n",
       "            "
      ],
      "text/plain": [
       "<IPython.core.display.Javascript object>"
      ]
     },
     "metadata": {},
     "output_type": "display_data"
    }
   ],
   "source": [
    "import sys\n",
    "\n",
    "sys.path.append(\"../\")"
   ]
  },
  {
   "cell_type": "code",
   "execution_count": 5,
   "metadata": {},
   "outputs": [
    {
     "data": {
      "application/javascript": [
       "\n",
       "            setTimeout(function() {\n",
       "                var nbb_cell_id = 5;\n",
       "                var nbb_unformatted_code = \"import numpy as np\\nimport torch\\nfrom pathlib import Path\\n\\nimport sbi\\nfrom sbi import utils as utils\\nfrom sbi.inference.base import infer\\nfrom sbi.inference import SNPE, prepare_for_sbi, simulate_for_sbi\\n\\nfrom snpe.simulations.simulator_class import DoubleRhoSimulator\";\n",
       "                var nbb_formatted_code = \"import numpy as np\\nimport torch\\nfrom pathlib import Path\\n\\nimport sbi\\nfrom sbi import utils as utils\\nfrom sbi.inference.base import infer\\nfrom sbi.inference import SNPE, prepare_for_sbi, simulate_for_sbi\\n\\nfrom snpe.simulations.simulator_class import DoubleRhoSimulator\";\n",
       "                var nbb_cells = Jupyter.notebook.get_cells();\n",
       "                for (var i = 0; i < nbb_cells.length; ++i) {\n",
       "                    if (nbb_cells[i].input_prompt_number == nbb_cell_id) {\n",
       "                        if (nbb_cells[i].get_text() == nbb_unformatted_code) {\n",
       "                             nbb_cells[i].set_text(nbb_formatted_code);\n",
       "                        }\n",
       "                        break;\n",
       "                    }\n",
       "                }\n",
       "            }, 500);\n",
       "            "
      ],
      "text/plain": [
       "<IPython.core.display.Javascript object>"
      ]
     },
     "metadata": {},
     "output_type": "display_data"
    }
   ],
   "source": [
    "import numpy as np\n",
    "import torch\n",
    "from pathlib import Path\n",
    "\n",
    "import sbi\n",
    "from sbi import utils as utils\n",
    "from sbi.inference.base import infer\n",
    "from sbi.inference import SNPE, prepare_for_sbi, simulate_for_sbi\n",
    "\n",
    "from snpe.simulations.simulator_class import DoubleRhoSimulator"
   ]
  },
  {
   "cell_type": "code",
   "execution_count": 20,
   "metadata": {},
   "outputs": [
    {
     "data": {
      "application/javascript": [
       "\n",
       "            setTimeout(function() {\n",
       "                var nbb_cell_id = 20;\n",
       "                var nbb_unformatted_code = \"import pandas as pd\\nimport pyreadr\";\n",
       "                var nbb_formatted_code = \"import pandas as pd\\nimport pyreadr\";\n",
       "                var nbb_cells = Jupyter.notebook.get_cells();\n",
       "                for (var i = 0; i < nbb_cells.length; ++i) {\n",
       "                    if (nbb_cells[i].input_prompt_number == nbb_cell_id) {\n",
       "                        if (nbb_cells[i].get_text() == nbb_unformatted_code) {\n",
       "                             nbb_cells[i].set_text(nbb_formatted_code);\n",
       "                        }\n",
       "                        break;\n",
       "                    }\n",
       "                }\n",
       "            }, 500);\n",
       "            "
      ],
      "text/plain": [
       "<IPython.core.display.Javascript object>"
      ]
     },
     "metadata": {},
     "output_type": "display_data"
    }
   ],
   "source": [
    "import pandas as pd\n",
    "import pyreadr"
   ]
  },
  {
   "cell_type": "code",
   "execution_count": 6,
   "metadata": {},
   "outputs": [
    {
     "data": {
      "text/plain": [
       "'0.14.2'"
      ]
     },
     "execution_count": 6,
     "metadata": {},
     "output_type": "execute_result"
    },
    {
     "data": {
      "application/javascript": [
       "\n",
       "            setTimeout(function() {\n",
       "                var nbb_cell_id = 6;\n",
       "                var nbb_unformatted_code = \"sbi.__version__\";\n",
       "                var nbb_formatted_code = \"sbi.__version__\";\n",
       "                var nbb_cells = Jupyter.notebook.get_cells();\n",
       "                for (var i = 0; i < nbb_cells.length; ++i) {\n",
       "                    if (nbb_cells[i].input_prompt_number == nbb_cell_id) {\n",
       "                        if (nbb_cells[i].get_text() == nbb_unformatted_code) {\n",
       "                             nbb_cells[i].set_text(nbb_formatted_code);\n",
       "                        }\n",
       "                        break;\n",
       "                    }\n",
       "                }\n",
       "            }, 500);\n",
       "            "
      ],
      "text/plain": [
       "<IPython.core.display.Javascript object>"
      ]
     },
     "metadata": {},
     "output_type": "display_data"
    }
   ],
   "source": [
    "sbi.__version__"
   ]
  },
  {
   "cell_type": "code",
   "execution_count": 7,
   "metadata": {},
   "outputs": [
    {
     "data": {
      "text/plain": [
       "device(type='cuda')"
      ]
     },
     "execution_count": 7,
     "metadata": {},
     "output_type": "execute_result"
    },
    {
     "data": {
      "application/javascript": [
       "\n",
       "            setTimeout(function() {\n",
       "                var nbb_cell_id = 7;\n",
       "                var nbb_unformatted_code = \"torch.device(\\\"cuda\\\")\";\n",
       "                var nbb_formatted_code = \"torch.device(\\\"cuda\\\")\";\n",
       "                var nbb_cells = Jupyter.notebook.get_cells();\n",
       "                for (var i = 0; i < nbb_cells.length; ++i) {\n",
       "                    if (nbb_cells[i].input_prompt_number == nbb_cell_id) {\n",
       "                        if (nbb_cells[i].get_text() == nbb_unformatted_code) {\n",
       "                             nbb_cells[i].set_text(nbb_formatted_code);\n",
       "                        }\n",
       "                        break;\n",
       "                    }\n",
       "                }\n",
       "            }, 500);\n",
       "            "
      ],
      "text/plain": [
       "<IPython.core.display.Javascript object>"
      ]
     },
     "metadata": {},
     "output_type": "display_data"
    }
   ],
   "source": [
    "torch.device(\"cuda\")"
   ]
  },
  {
   "cell_type": "code",
   "execution_count": 11,
   "metadata": {},
   "outputs": [
    {
     "data": {
      "text/plain": [
       "8"
      ]
     },
     "execution_count": 11,
     "metadata": {},
     "output_type": "execute_result"
    },
    {
     "data": {
      "application/javascript": [
       "\n",
       "            setTimeout(function() {\n",
       "                var nbb_cell_id = 11;\n",
       "                var nbb_unformatted_code = \"torch.get_num_threads()\";\n",
       "                var nbb_formatted_code = \"torch.get_num_threads()\";\n",
       "                var nbb_cells = Jupyter.notebook.get_cells();\n",
       "                for (var i = 0; i < nbb_cells.length; ++i) {\n",
       "                    if (nbb_cells[i].input_prompt_number == nbb_cell_id) {\n",
       "                        if (nbb_cells[i].get_text() == nbb_unformatted_code) {\n",
       "                             nbb_cells[i].set_text(nbb_formatted_code);\n",
       "                        }\n",
       "                        break;\n",
       "                    }\n",
       "                }\n",
       "            }, 500);\n",
       "            "
      ],
      "text/plain": [
       "<IPython.core.display.Javascript object>"
      ]
     },
     "metadata": {},
     "output_type": "display_data"
    }
   ],
   "source": [
    "torch.get_num_threads()"
   ]
  },
  {
   "cell_type": "code",
   "execution_count": 9,
   "metadata": {},
   "outputs": [
    {
     "data": {
      "application/javascript": [
       "\n",
       "            setTimeout(function() {\n",
       "                var nbb_cell_id = 9;\n",
       "                var nbb_unformatted_code = \"torch.set_num_threads(8)\";\n",
       "                var nbb_formatted_code = \"torch.set_num_threads(8)\";\n",
       "                var nbb_cells = Jupyter.notebook.get_cells();\n",
       "                for (var i = 0; i < nbb_cells.length; ++i) {\n",
       "                    if (nbb_cells[i].input_prompt_number == nbb_cell_id) {\n",
       "                        if (nbb_cells[i].get_text() == nbb_unformatted_code) {\n",
       "                             nbb_cells[i].set_text(nbb_formatted_code);\n",
       "                        }\n",
       "                        break;\n",
       "                    }\n",
       "                }\n",
       "            }, 500);\n",
       "            "
      ],
      "text/plain": [
       "<IPython.core.display.Javascript object>"
      ]
     },
     "metadata": {},
     "output_type": "display_data"
    }
   ],
   "source": [
    "torch.set_num_threads(8)"
   ]
  },
  {
   "cell_type": "markdown",
   "metadata": {},
   "source": [
    "# Simulate time series of review histograms"
   ]
  },
  {
   "cell_type": "code",
   "execution_count": 11,
   "metadata": {},
   "outputs": [
    {
     "data": {
      "application/javascript": [
       "\n",
       "            setTimeout(function() {\n",
       "                var nbb_cell_id = 11;\n",
       "                var nbb_unformatted_code = \"params = {\\n    \\\"review_prior\\\": np.ones(5),\\n    \\\"tendency_to_rate\\\": 0.05,\\n    \\\"simulation_type\\\": \\\"timeseries\\\",\\n}\\nsimulator = DoubleRhoSimulator(params)\";\n",
       "                var nbb_formatted_code = \"params = {\\n    \\\"review_prior\\\": np.ones(5),\\n    \\\"tendency_to_rate\\\": 0.05,\\n    \\\"simulation_type\\\": \\\"timeseries\\\",\\n}\\nsimulator = DoubleRhoSimulator(params)\";\n",
       "                var nbb_cells = Jupyter.notebook.get_cells();\n",
       "                for (var i = 0; i < nbb_cells.length; ++i) {\n",
       "                    if (nbb_cells[i].input_prompt_number == nbb_cell_id) {\n",
       "                        if (nbb_cells[i].get_text() == nbb_unformatted_code) {\n",
       "                             nbb_cells[i].set_text(nbb_formatted_code);\n",
       "                        }\n",
       "                        break;\n",
       "                    }\n",
       "                }\n",
       "            }, 500);\n",
       "            "
      ],
      "text/plain": [
       "<IPython.core.display.Javascript object>"
      ]
     },
     "metadata": {},
     "output_type": "display_data"
    }
   ],
   "source": [
    "params = {\n",
    "    \"review_prior\": np.ones(5),\n",
    "    \"tendency_to_rate\": 0.05,\n",
    "    \"simulation_type\": \"timeseries\",\n",
    "}\n",
    "simulator = DoubleRhoSimulator(params)"
   ]
  },
  {
   "cell_type": "code",
   "execution_count": 13,
   "metadata": {},
   "outputs": [
    {
     "data": {
      "application/javascript": [
       "\n",
       "            setTimeout(function() {\n",
       "                var nbb_cell_id = 13;\n",
       "                var nbb_unformatted_code = \"simulator.load_simulator(Path(\\\"../artifacts/hyperparameter_tuning/cnn_tuning/\\\"))\";\n",
       "                var nbb_formatted_code = \"simulator.load_simulator(Path(\\\"../artifacts/hyperparameter_tuning/cnn_tuning/\\\"))\";\n",
       "                var nbb_cells = Jupyter.notebook.get_cells();\n",
       "                for (var i = 0; i < nbb_cells.length; ++i) {\n",
       "                    if (nbb_cells[i].input_prompt_number == nbb_cell_id) {\n",
       "                        if (nbb_cells[i].get_text() == nbb_unformatted_code) {\n",
       "                             nbb_cells[i].set_text(nbb_formatted_code);\n",
       "                        }\n",
       "                        break;\n",
       "                    }\n",
       "                }\n",
       "            }, 500);\n",
       "            "
      ],
      "text/plain": [
       "<IPython.core.display.Javascript object>"
      ]
     },
     "metadata": {},
     "output_type": "display_data"
    }
   ],
   "source": [
    "simulator.load_simulator(Path(\"../artifacts/hyperparameter_tuning/cnn_tuning/\"))"
   ]
  },
  {
   "cell_type": "code",
   "execution_count": 12,
   "metadata": {},
   "outputs": [
    {
     "name": "stderr",
     "output_type": "stream",
     "text": [
      "Simulations: 100%|██████████| 5000/5000 [20:36<00:00,  4.04it/s] \n"
     ]
    },
    {
     "data": {
      "application/javascript": [
       "\n",
       "            setTimeout(function() {\n",
       "                var nbb_cell_id = 12;\n",
       "                var nbb_unformatted_code = \"#simulator.simulate(num_simulations=20_000)\\nsimulator.simulate(num_simulations=5_000)\";\n",
       "                var nbb_formatted_code = \"# simulator.simulate(num_simulations=20_000)\\nsimulator.simulate(num_simulations=5_000)\";\n",
       "                var nbb_cells = Jupyter.notebook.get_cells();\n",
       "                for (var i = 0; i < nbb_cells.length; ++i) {\n",
       "                    if (nbb_cells[i].input_prompt_number == nbb_cell_id) {\n",
       "                        if (nbb_cells[i].get_text() == nbb_unformatted_code) {\n",
       "                             nbb_cells[i].set_text(nbb_formatted_code);\n",
       "                        }\n",
       "                        break;\n",
       "                    }\n",
       "                }\n",
       "            }, 500);\n",
       "            "
      ],
      "text/plain": [
       "<IPython.core.display.Javascript object>"
      ]
     },
     "metadata": {},
     "output_type": "display_data"
    }
   ],
   "source": [
    "# simulator.simulate(num_simulations=20_000)\n",
    "simulator.simulate(num_simulations=5_000)"
   ]
  },
  {
   "cell_type": "code",
   "execution_count": 13,
   "metadata": {},
   "outputs": [
    {
     "data": {
      "application/javascript": [
       "\n",
       "            setTimeout(function() {\n",
       "                var nbb_cell_id = 13;\n",
       "                var nbb_unformatted_code = \"simulator.save_simulations(Path(\\\"./\\\"))\";\n",
       "                var nbb_formatted_code = \"simulator.save_simulations(Path(\\\"./\\\"))\";\n",
       "                var nbb_cells = Jupyter.notebook.get_cells();\n",
       "                for (var i = 0; i < nbb_cells.length; ++i) {\n",
       "                    if (nbb_cells[i].input_prompt_number == nbb_cell_id) {\n",
       "                        if (nbb_cells[i].get_text() == nbb_unformatted_code) {\n",
       "                             nbb_cells[i].set_text(nbb_formatted_code);\n",
       "                        }\n",
       "                        break;\n",
       "                    }\n",
       "                }\n",
       "            }, 500);\n",
       "            "
      ],
      "text/plain": [
       "<IPython.core.display.Javascript object>"
      ]
     },
     "metadata": {},
     "output_type": "display_data"
    }
   ],
   "source": [
    "simulator.save_simulations(Path(\"./\"))"
   ]
  },
  {
   "cell_type": "code",
   "execution_count": 17,
   "metadata": {},
   "outputs": [
    {
     "data": {
      "text/plain": [
       "(array([2969., 2931., 2939., 3009., 3007., 3049., 3118., 2960., 3022.,\n",
       "        2996.]),\n",
       " array([  21.,  519., 1017., 1515., 2013., 2511., 3009., 3507., 4005.,\n",
       "        4503., 5001.]),\n",
       " <BarContainer object of 10 artists>)"
      ]
     },
     "execution_count": 17,
     "metadata": {},
     "output_type": "execute_result"
    },
    {
     "data": {
      "image/png": "[encoded data removed]",
      "text/plain": [
       "<Figure size 432x288 with 1 Axes>"
      ]
     },
     "metadata": {
      "needs_background": "light"
     },
     "output_type": "display_data"
    },
    {
     "data": {
      "application/javascript": [
       "\n",
       "            setTimeout(function() {\n",
       "                var nbb_cell_id = 17;\n",
       "                var nbb_unformatted_code = \"plt.hist([len(simulation) for simulation in simulator.simulations])\";\n",
       "                var nbb_formatted_code = \"plt.hist([len(simulation) for simulation in simulator.simulations])\";\n",
       "                var nbb_cells = Jupyter.notebook.get_cells();\n",
       "                for (var i = 0; i < nbb_cells.length; ++i) {\n",
       "                    if (nbb_cells[i].input_prompt_number == nbb_cell_id) {\n",
       "                        if (nbb_cells[i].get_text() == nbb_unformatted_code) {\n",
       "                             nbb_cells[i].set_text(nbb_formatted_code);\n",
       "                        }\n",
       "                        break;\n",
       "                    }\n",
       "                }\n",
       "            }, 500);\n",
       "            "
      ],
      "text/plain": [
       "<IPython.core.display.Javascript object>"
      ]
     },
     "metadata": {},
     "output_type": "display_data"
    }
   ],
   "source": [
    "plt.hist([len(simulation) for simulation in simulator.simulations])"
   ]
  },
  {
   "cell_type": "markdown",
   "metadata": {},
   "source": [
    "# Testing"
   ]
  },
  {
   "cell_type": "code",
   "execution_count": 14,
   "metadata": {},
   "outputs": [
    {
     "data": {
      "application/javascript": [
       "\n",
       "            setTimeout(function() {\n",
       "                var nbb_cell_id = 14;\n",
       "                var nbb_unformatted_code = \"from torch.utils import data\";\n",
       "                var nbb_formatted_code = \"from torch.utils import data\";\n",
       "                var nbb_cells = Jupyter.notebook.get_cells();\n",
       "                for (var i = 0; i < nbb_cells.length; ++i) {\n",
       "                    if (nbb_cells[i].input_prompt_number == nbb_cell_id) {\n",
       "                        if (nbb_cells[i].get_text() == nbb_unformatted_code) {\n",
       "                             nbb_cells[i].set_text(nbb_formatted_code);\n",
       "                        }\n",
       "                        break;\n",
       "                    }\n",
       "                }\n",
       "            }, 500);\n",
       "            "
      ],
      "text/plain": [
       "<IPython.core.display.Javascript object>"
      ]
     },
     "metadata": {},
     "output_type": "display_data"
    }
   ],
   "source": [
    "from torch.utils import data"
   ]
  },
  {
   "cell_type": "code",
   "execution_count": 297,
   "metadata": {},
   "outputs": [
    {
     "data": {
      "application/javascript": [
       "\n",
       "            setTimeout(function() {\n",
       "                var nbb_cell_id = 297;\n",
       "                var nbb_unformatted_code = \"simulations = [\\n    torch.from_numpy(simulation).type(torch.FloatTensor)\\n    for simulation in simulator.simulations\\n]\\nparameters = torch.from_numpy(simulator.simulation_parameters[\\\"rho\\\"]).type(\\n    torch.FloatTensor\\n)\";\n",
       "                var nbb_formatted_code = \"simulations = [\\n    torch.from_numpy(simulation).type(torch.FloatTensor)\\n    for simulation in simulator.simulations\\n]\\nparameters = torch.from_numpy(simulator.simulation_parameters[\\\"rho\\\"]).type(\\n    torch.FloatTensor\\n)\";\n",
       "                var nbb_cells = Jupyter.notebook.get_cells();\n",
       "                for (var i = 0; i < nbb_cells.length; ++i) {\n",
       "                    if (nbb_cells[i].input_prompt_number == nbb_cell_id) {\n",
       "                        if (nbb_cells[i].get_text() == nbb_unformatted_code) {\n",
       "                             nbb_cells[i].set_text(nbb_formatted_code);\n",
       "                        }\n",
       "                        break;\n",
       "                    }\n",
       "                }\n",
       "            }, 500);\n",
       "            "
      ],
      "text/plain": [
       "<IPython.core.display.Javascript object>"
      ]
     },
     "metadata": {},
     "output_type": "display_data"
    }
   ],
   "source": [
    "simulations = [\n",
    "    torch.from_numpy(simulation).type(torch.FloatTensor)\n",
    "    for simulation in simulator.simulations\n",
    "]\n",
    "parameters = torch.from_numpy(simulator.simulation_parameters[\"rho\"]).type(\n",
    "    torch.FloatTensor\n",
    ")"
   ]
  },
  {
   "cell_type": "code",
   "execution_count": 298,
   "metadata": {},
   "outputs": [
    {
     "data": {
      "application/javascript": [
       "\n",
       "            setTimeout(function() {\n",
       "                var nbb_cell_id = 298;\n",
       "                var nbb_unformatted_code = \"sim_lens = [len(simulation) for simulation in simulations]\\nmax_len = max(sim_lens)\\n\\npadded_simulations = simulations[0].data.new_empty((len(simulations), max_len, 5))\\nfor i, simulation in enumerate(simulations):\\n    padded_simulations[i, : sim_lens[i], :] = simulation\\n    if sim_lens[i] < max_len:\\n        padded_simulations[i, sim_lens[i] :, :] = torch.from_numpy(np.array(np.nan))\\npadded_simulations = padded_simulations.permute(0, 2, 1)\";\n",
       "                var nbb_formatted_code = \"sim_lens = [len(simulation) for simulation in simulations]\\nmax_len = max(sim_lens)\\n\\npadded_simulations = simulations[0].data.new_empty((len(simulations), max_len, 5))\\nfor i, simulation in enumerate(simulations):\\n    padded_simulations[i, : sim_lens[i], :] = simulation\\n    if sim_lens[i] < max_len:\\n        padded_simulations[i, sim_lens[i] :, :] = torch.from_numpy(np.array(np.nan))\\npadded_simulations = padded_simulations.permute(0, 2, 1)\";\n",
       "                var nbb_cells = Jupyter.notebook.get_cells();\n",
       "                for (var i = 0; i < nbb_cells.length; ++i) {\n",
       "                    if (nbb_cells[i].input_prompt_number == nbb_cell_id) {\n",
       "                        if (nbb_cells[i].get_text() == nbb_unformatted_code) {\n",
       "                             nbb_cells[i].set_text(nbb_formatted_code);\n",
       "                        }\n",
       "                        break;\n",
       "                    }\n",
       "                }\n",
       "            }, 500);\n",
       "            "
      ],
      "text/plain": [
       "<IPython.core.display.Javascript object>"
      ]
     },
     "metadata": {},
     "output_type": "display_data"
    }
   ],
   "source": [
    "sim_lens = [len(simulation) for simulation in simulations]\n",
    "max_len = max(sim_lens)\n",
    "\n",
    "padded_simulations = simulations[0].data.new_empty((len(simulations), max_len, 5))\n",
    "for i, simulation in enumerate(simulations):\n",
    "    padded_simulations[i, : sim_lens[i], :] = simulation\n",
    "    if sim_lens[i] < max_len:\n",
    "        padded_simulations[i, sim_lens[i] :, :] = torch.from_numpy(np.array(np.nan))\n",
    "padded_simulations = padded_simulations.permute(0, 2, 1)"
   ]
  },
  {
   "cell_type": "code",
   "execution_count": 299,
   "metadata": {},
   "outputs": [
    {
     "data": {
      "text/plain": [
       "2490"
      ]
     },
     "execution_count": 299,
     "metadata": {},
     "output_type": "execute_result"
    },
    {
     "data": {
      "application/javascript": [
       "\n",
       "            setTimeout(function() {\n",
       "                var nbb_cell_id = 299;\n",
       "                var nbb_unformatted_code = \"int(torch.nonzero(torch.isnan(padded_simulations[0, 0, :]))[0])\";\n",
       "                var nbb_formatted_code = \"int(torch.nonzero(torch.isnan(padded_simulations[0, 0, :]))[0])\";\n",
       "                var nbb_cells = Jupyter.notebook.get_cells();\n",
       "                for (var i = 0; i < nbb_cells.length; ++i) {\n",
       "                    if (nbb_cells[i].input_prompt_number == nbb_cell_id) {\n",
       "                        if (nbb_cells[i].get_text() == nbb_unformatted_code) {\n",
       "                             nbb_cells[i].set_text(nbb_formatted_code);\n",
       "                        }\n",
       "                        break;\n",
       "                    }\n",
       "                }\n",
       "            }, 500);\n",
       "            "
      ],
      "text/plain": [
       "<IPython.core.display.Javascript object>"
      ]
     },
     "metadata": {},
     "output_type": "display_data"
    }
   ],
   "source": [
    "int(torch.nonzero(torch.isnan(padded_simulations[0, 0, :]))[0])"
   ]
  },
  {
   "cell_type": "code",
   "execution_count": 300,
   "metadata": {},
   "outputs": [
    {
     "data": {
      "text/plain": [
       "tensor([[2490]])"
      ]
     },
     "execution_count": 300,
     "metadata": {},
     "output_type": "execute_result"
    },
    {
     "data": {
      "application/javascript": [
       "\n",
       "            setTimeout(function() {\n",
       "                var nbb_cell_id = 300;\n",
       "                var nbb_unformatted_code = \"torch.nonzero(torch.isnan(padded_simulations[0, 0, :2491]))\";\n",
       "                var nbb_formatted_code = \"torch.nonzero(torch.isnan(padded_simulations[0, 0, :2491]))\";\n",
       "                var nbb_cells = Jupyter.notebook.get_cells();\n",
       "                for (var i = 0; i < nbb_cells.length; ++i) {\n",
       "                    if (nbb_cells[i].input_prompt_number == nbb_cell_id) {\n",
       "                        if (nbb_cells[i].get_text() == nbb_unformatted_code) {\n",
       "                             nbb_cells[i].set_text(nbb_formatted_code);\n",
       "                        }\n",
       "                        break;\n",
       "                    }\n",
       "                }\n",
       "            }, 500);\n",
       "            "
      ],
      "text/plain": [
       "<IPython.core.display.Javascript object>"
      ]
     },
     "metadata": {},
     "output_type": "display_data"
    }
   ],
   "source": [
    "torch.nonzero(torch.isnan(padded_simulations[0, 0, :2491]))"
   ]
  },
  {
   "cell_type": "code",
   "execution_count": 329,
   "metadata": {},
   "outputs": [
    {
     "data": {
      "text/plain": [
       "torch.Size([5000, 5, 3001])"
      ]
     },
     "execution_count": 329,
     "metadata": {},
     "output_type": "execute_result"
    },
    {
     "data": {
      "application/javascript": [
       "\n",
       "            setTimeout(function() {\n",
       "                var nbb_cell_id = 329;\n",
       "                var nbb_unformatted_code = \"padded_simulations.size()\";\n",
       "                var nbb_formatted_code = \"padded_simulations.size()\";\n",
       "                var nbb_cells = Jupyter.notebook.get_cells();\n",
       "                for (var i = 0; i < nbb_cells.length; ++i) {\n",
       "                    if (nbb_cells[i].input_prompt_number == nbb_cell_id) {\n",
       "                        if (nbb_cells[i].get_text() == nbb_unformatted_code) {\n",
       "                             nbb_cells[i].set_text(nbb_formatted_code);\n",
       "                        }\n",
       "                        break;\n",
       "                    }\n",
       "                }\n",
       "            }, 500);\n",
       "            "
      ],
      "text/plain": [
       "<IPython.core.display.Javascript object>"
      ]
     },
     "metadata": {},
     "output_type": "display_data"
    }
   ],
   "source": [
    "padded_simulations.size()"
   ]
  },
  {
   "cell_type": "code",
   "execution_count": 304,
   "metadata": {},
   "outputs": [
    {
     "data": {
      "text/plain": [
       "511"
      ]
     },
     "execution_count": 304,
     "metadata": {},
     "output_type": "execute_result"
    },
    {
     "data": {
      "application/javascript": [
       "\n",
       "            setTimeout(function() {\n",
       "                var nbb_cell_id = 304;\n",
       "                var nbb_unformatted_code = \"len(torch.nonzero(torch.isnan(padded_simulations[0, 0, :])))\";\n",
       "                var nbb_formatted_code = \"len(torch.nonzero(torch.isnan(padded_simulations[0, 0, :])))\";\n",
       "                var nbb_cells = Jupyter.notebook.get_cells();\n",
       "                for (var i = 0; i < nbb_cells.length; ++i) {\n",
       "                    if (nbb_cells[i].input_prompt_number == nbb_cell_id) {\n",
       "                        if (nbb_cells[i].get_text() == nbb_unformatted_code) {\n",
       "                             nbb_cells[i].set_text(nbb_formatted_code);\n",
       "                        }\n",
       "                        break;\n",
       "                    }\n",
       "                }\n",
       "            }, 500);\n",
       "            "
      ],
      "text/plain": [
       "<IPython.core.display.Javascript object>"
      ]
     },
     "metadata": {},
     "output_type": "display_data"
    }
   ],
   "source": [
    "len(torch.nonzero(torch.isnan(padded_simulations[0, 0, :])))"
   ]
  },
  {
   "cell_type": "code",
   "execution_count": null,
   "metadata": {},
   "outputs": [],
   "source": []
  },
  {
   "cell_type": "code",
   "execution_count": null,
   "metadata": {},
   "outputs": [],
   "source": [
    "x_lens = [len(simulation) for simulation in x]\n",
    "max_x_len = max(x_lens)\n",
    "\n",
    "out_x = x[0].data.new_empty((len(x), max_x_len, 5))\n",
    "for i, simulation in enumerate(x):\n",
    "    out_x[i, : x_lens[i], :] = simulation\n",
    "    if x_lens[i] < max_x_len:\n",
    "        out_x[i, x_lens[i] :, :] = simulation[-1, :].repeat((max_x_len - x_lens[i], 1))"
   ]
  },
  {
   "cell_type": "code",
   "execution_count": 13,
   "metadata": {},
   "outputs": [
    {
     "data": {
      "application/javascript": [
       "\n",
       "            setTimeout(function() {\n",
       "                var nbb_cell_id = 13;\n",
       "                var nbb_unformatted_code = \"class SbiDataset(torch.utils.data.Dataset):\\n    \\\"Characterizes a dataset for PyTorch\\\"\\n\\n    def __init__(self, theta, x, prior_masks):\\n        \\\"Initialization\\\"\\n        self.theta = theta\\n        self.x = x\\n        self.prior_masks = prior_masks\\n\\n    def __len__(self):\\n        \\\"Denotes the total number of samples\\\"\\n        return len(self.theta)\\n\\n    def __getitem__(self, index):\\n        \\\"Generates one sample of data\\\"\\n        return self.theta[index], self.x[index], self.prior_masks[index]\";\n",
       "                var nbb_formatted_code = \"class SbiDataset(torch.utils.data.Dataset):\\n    \\\"Characterizes a dataset for PyTorch\\\"\\n\\n    def __init__(self, theta, x, prior_masks):\\n        \\\"Initialization\\\"\\n        self.theta = theta\\n        self.x = x\\n        self.prior_masks = prior_masks\\n\\n    def __len__(self):\\n        \\\"Denotes the total number of samples\\\"\\n        return len(self.theta)\\n\\n    def __getitem__(self, index):\\n        \\\"Generates one sample of data\\\"\\n        return self.theta[index], self.x[index], self.prior_masks[index]\";\n",
       "                var nbb_cells = Jupyter.notebook.get_cells();\n",
       "                for (var i = 0; i < nbb_cells.length; ++i) {\n",
       "                    if (nbb_cells[i].input_prompt_number == nbb_cell_id) {\n",
       "                        if (nbb_cells[i].get_text() == nbb_unformatted_code) {\n",
       "                             nbb_cells[i].set_text(nbb_formatted_code);\n",
       "                        }\n",
       "                        break;\n",
       "                    }\n",
       "                }\n",
       "            }, 500);\n",
       "            "
      ],
      "text/plain": [
       "<IPython.core.display.Javascript object>"
      ]
     },
     "metadata": {},
     "output_type": "display_data"
    }
   ],
   "source": [
    "# Batch by length of time-series\n",
    "# https://discuss.pytorch.org/t/tensorflow-esque-bucket-by-sequence-length/41284\n",
    "# Not using anymore \n",
    "\n",
    "class SbiDataset(torch.utils.data.Dataset):\n",
    "    \"Characterizes a dataset for PyTorch\"\n",
    "\n",
    "    def __init__(self, theta, x, prior_masks):\n",
    "        \"Initialization\"\n",
    "        self.theta = theta\n",
    "        self.x = x\n",
    "        self.prior_masks = prior_masks\n",
    "\n",
    "    def __len__(self):\n",
    "        \"Denotes the total number of samples\"\n",
    "        return len(self.theta)\n",
    "\n",
    "    def __getitem__(self, index):\n",
    "        \"Generates one sample of data\"\n",
    "        return self.theta[index], self.x[index], self.prior_masks[index]"
   ]
  },
  {
   "cell_type": "code",
   "execution_count": 330,
   "metadata": {},
   "outputs": [
    {
     "data": {
      "application/javascript": [
       "\n",
       "            setTimeout(function() {\n",
       "                var nbb_cell_id = 330;\n",
       "                var nbb_unformatted_code = \"def pad_collate(batch):\\n    (theta, x, prior_masks) = zip(*batch)\\n    x_lens = []\\n    for simulation in x:\\n        nan_values = torch.nonzero(torch.isnan(simulation[0, :]))\\n        if len(nan_values) > 0:\\n            x_lens.append(nan_values[0])\\n        else:\\n            x_lens.append(len(simulation[0, :]))\\n    max_x_len = max(x_lens)\\n\\n    \\\"\\\"\\\"\\n    out_x = x[0].data.new_empty((len(x), max_x_len, 5))\\n    for i, simulation in enumerate(x):\\n        if x_lens[i] == max_x_len:\\n            out_x[i, :, :] = simulation[:max_x_len, :]\\n        else:\\n            out_x[i, : x_lens[i], :] = simulation[: x_lens[i], :]\\n            out_x[i, x_lens[i] :, :] = simulation[x_lens[i] - 1, :].repeat(\\n                (max_x_len - x_lens[i], 1)\\n            )\\n\\n    return theta, out_x.permute(0, 2, 1), prior_masks\\n    \\\"\\\"\\\"\\n    out_x = x[0].data.new_empty((len(x), 5, max_x_len))\\n    for i, simulation in enumerate(x):\\n        if x_lens[i] == max_x_len:\\n            out_x[i, :, :] = simulation[:, :max_x_len]\\n        else:\\n            out_x[i, :, : x_lens[i]] = simulation[:, : x_lens[i]]\\n            out_x[i, :, x_lens[i] :] = simulation[:, x_lens[i] - 1].repeat(\\n                (1, max_x_len - x_lens[i])\\n            )\\n    return (\\n        torch.cat([param[None, :] for param in theta]),\\n        out_x,\\n        torch.cat(prior_masks, axis=0)[:, None],\\n    )\";\n",
       "                var nbb_formatted_code = \"def pad_collate(batch):\\n    (theta, x, prior_masks) = zip(*batch)\\n    x_lens = []\\n    for simulation in x:\\n        nan_values = torch.nonzero(torch.isnan(simulation[0, :]))\\n        if len(nan_values) > 0:\\n            x_lens.append(nan_values[0])\\n        else:\\n            x_lens.append(len(simulation[0, :]))\\n    max_x_len = max(x_lens)\\n\\n    \\\"\\\"\\\"\\n    out_x = x[0].data.new_empty((len(x), max_x_len, 5))\\n    for i, simulation in enumerate(x):\\n        if x_lens[i] == max_x_len:\\n            out_x[i, :, :] = simulation[:max_x_len, :]\\n        else:\\n            out_x[i, : x_lens[i], :] = simulation[: x_lens[i], :]\\n            out_x[i, x_lens[i] :, :] = simulation[x_lens[i] - 1, :].repeat(\\n                (max_x_len - x_lens[i], 1)\\n            )\\n\\n    return theta, out_x.permute(0, 2, 1), prior_masks\\n    \\\"\\\"\\\"\\n    out_x = x[0].data.new_empty((len(x), 5, max_x_len))\\n    for i, simulation in enumerate(x):\\n        if x_lens[i] == max_x_len:\\n            out_x[i, :, :] = simulation[:, :max_x_len]\\n        else:\\n            out_x[i, :, : x_lens[i]] = simulation[:, : x_lens[i]]\\n            out_x[i, :, x_lens[i] :] = simulation[:, x_lens[i] - 1].repeat(\\n                (1, max_x_len - x_lens[i])\\n            )\\n    return (\\n        torch.cat([param[None, :] for param in theta]),\\n        out_x,\\n        torch.cat(prior_masks, axis=0)[:, None],\\n    )\";\n",
       "                var nbb_cells = Jupyter.notebook.get_cells();\n",
       "                for (var i = 0; i < nbb_cells.length; ++i) {\n",
       "                    if (nbb_cells[i].input_prompt_number == nbb_cell_id) {\n",
       "                        if (nbb_cells[i].get_text() == nbb_unformatted_code) {\n",
       "                             nbb_cells[i].set_text(nbb_formatted_code);\n",
       "                        }\n",
       "                        break;\n",
       "                    }\n",
       "                }\n",
       "            }, 500);\n",
       "            "
      ],
      "text/plain": [
       "<IPython.core.display.Javascript object>"
      ]
     },
     "metadata": {},
     "output_type": "display_data"
    }
   ],
   "source": [
    "def pad_collate(batch):\n",
    "    (theta, x, prior_masks) = zip(*batch)\n",
    "    x_lens = []\n",
    "    for simulation in x:\n",
    "        nan_values = torch.nonzero(torch.isnan(simulation[0, :]))\n",
    "        if len(nan_values) > 0:\n",
    "            x_lens.append(nan_values[0])\n",
    "        else:\n",
    "            x_lens.append(len(simulation[0, :]))\n",
    "    max_x_len = max(x_lens)\n",
    "\n",
    "    \"\"\"\n",
    "    out_x = x[0].data.new_empty((len(x), max_x_len, 5))\n",
    "    for i, simulation in enumerate(x):\n",
    "        if x_lens[i] == max_x_len:\n",
    "            out_x[i, :, :] = simulation[:max_x_len, :]\n",
    "        else:\n",
    "            out_x[i, : x_lens[i], :] = simulation[: x_lens[i], :]\n",
    "            out_x[i, x_lens[i] :, :] = simulation[x_lens[i] - 1, :].repeat(\n",
    "                (max_x_len - x_lens[i], 1)\n",
    "            )\n",
    "\n",
    "    return theta, out_x.permute(0, 2, 1), prior_masks\n",
    "    \"\"\"\n",
    "    out_x = x[0].data.new_empty((len(x), 5, max_x_len))\n",
    "    for i, simulation in enumerate(x):\n",
    "        if x_lens[i] == max_x_len:\n",
    "            out_x[i, :, :] = simulation[:, :max_x_len]\n",
    "        else:\n",
    "            out_x[i, :, : x_lens[i]] = simulation[:, : x_lens[i]]\n",
    "            out_x[i, :, x_lens[i] :] = simulation[:, x_lens[i] - 1].repeat(\n",
    "                (1, max_x_len - x_lens[i])\n",
    "            )\n",
    "    return (\n",
    "        torch.cat([param[None, :] for param in theta]),\n",
    "        out_x,\n",
    "        torch.cat(prior_masks, axis=0)[:, None],\n",
    "    )"
   ]
  },
  {
   "cell_type": "code",
   "execution_count": 331,
   "metadata": {},
   "outputs": [
    {
     "data": {
      "application/javascript": [
       "\n",
       "            setTimeout(function() {\n",
       "                var nbb_cell_id = 331;\n",
       "                var nbb_unformatted_code = \"class GlobalMaxPooling1D(torch.nn.Module):\\n    def __init__(self, data_format=\\\"channels_last\\\"):\\n        super(GlobalMaxPooling1D, self).__init__()\\n        self.data_format = data_format\\n        self.step_axis = 1 if self.data_format == \\\"channels_last\\\" else 2\\n\\n    def forward(self, input):\\n        return torch.max(input, axis=self.step_axis).values\";\n",
       "                var nbb_formatted_code = \"class GlobalMaxPooling1D(torch.nn.Module):\\n    def __init__(self, data_format=\\\"channels_last\\\"):\\n        super(GlobalMaxPooling1D, self).__init__()\\n        self.data_format = data_format\\n        self.step_axis = 1 if self.data_format == \\\"channels_last\\\" else 2\\n\\n    def forward(self, input):\\n        return torch.max(input, axis=self.step_axis).values\";\n",
       "                var nbb_cells = Jupyter.notebook.get_cells();\n",
       "                for (var i = 0; i < nbb_cells.length; ++i) {\n",
       "                    if (nbb_cells[i].input_prompt_number == nbb_cell_id) {\n",
       "                        if (nbb_cells[i].get_text() == nbb_unformatted_code) {\n",
       "                             nbb_cells[i].set_text(nbb_formatted_code);\n",
       "                        }\n",
       "                        break;\n",
       "                    }\n",
       "                }\n",
       "            }, 500);\n",
       "            "
      ],
      "text/plain": [
       "<IPython.core.display.Javascript object>"
      ]
     },
     "metadata": {},
     "output_type": "display_data"
    }
   ],
   "source": [
    "class GlobalMaxPooling1D(torch.nn.Module):\n",
    "    def __init__(self, data_format=\"channels_last\"):\n",
    "        super(GlobalMaxPooling1D, self).__init__()\n",
    "        self.data_format = data_format\n",
    "        self.step_axis = 1 if self.data_format == \"channels_last\" else 2\n",
    "\n",
    "    def forward(self, input):\n",
    "        return torch.max(input, axis=self.step_axis).values"
   ]
  },
  {
   "cell_type": "code",
   "execution_count": 332,
   "metadata": {},
   "outputs": [
    {
     "data": {
      "application/javascript": [
       "\n",
       "            setTimeout(function() {\n",
       "                var nbb_cell_id = 332;\n",
       "                var nbb_unformatted_code = \"dim = 32\\nkernel_size = 5\\n\\nembedding_net = torch.nn.Sequential(\\n    torch.nn.Conv1d(\\n        in_channels=5,\\n        out_channels=dim,\\n        kernel_size=kernel_size,\\n        padding=(kernel_size - 1),\\n        dilation=1,\\n    ),\\n    torch.nn.LeakyReLU(),\\n    torch.nn.Conv1d(\\n        in_channels=dim,\\n        out_channels=dim,\\n        kernel_size=kernel_size,\\n        padding=(kernel_size - 1) * 2,\\n        dilation=2,\\n    ),\\n    torch.nn.LeakyReLU(),\\n    torch.nn.Conv1d(\\n        in_channels=dim,\\n        out_channels=dim,\\n        kernel_size=kernel_size,\\n        padding=(kernel_size - 1) * 4,\\n        dilation=4,\\n    ),\\n    torch.nn.LeakyReLU(),\\n    torch.nn.Conv1d(\\n        in_channels=dim,\\n        out_channels=dim,\\n        kernel_size=kernel_size,\\n        padding=(kernel_size - 1) * 8,\\n        dilation=8,\\n    ),\\n    torch.nn.LeakyReLU(),\\n    GlobalMaxPooling1D(data_format=\\\"channels_not_last\\\"),\\n    torch.nn.LeakyReLU(),\\n)\";\n",
       "                var nbb_formatted_code = \"dim = 32\\nkernel_size = 5\\n\\nembedding_net = torch.nn.Sequential(\\n    torch.nn.Conv1d(\\n        in_channels=5,\\n        out_channels=dim,\\n        kernel_size=kernel_size,\\n        padding=(kernel_size - 1),\\n        dilation=1,\\n    ),\\n    torch.nn.LeakyReLU(),\\n    torch.nn.Conv1d(\\n        in_channels=dim,\\n        out_channels=dim,\\n        kernel_size=kernel_size,\\n        padding=(kernel_size - 1) * 2,\\n        dilation=2,\\n    ),\\n    torch.nn.LeakyReLU(),\\n    torch.nn.Conv1d(\\n        in_channels=dim,\\n        out_channels=dim,\\n        kernel_size=kernel_size,\\n        padding=(kernel_size - 1) * 4,\\n        dilation=4,\\n    ),\\n    torch.nn.LeakyReLU(),\\n    torch.nn.Conv1d(\\n        in_channels=dim,\\n        out_channels=dim,\\n        kernel_size=kernel_size,\\n        padding=(kernel_size - 1) * 8,\\n        dilation=8,\\n    ),\\n    torch.nn.LeakyReLU(),\\n    GlobalMaxPooling1D(data_format=\\\"channels_not_last\\\"),\\n    torch.nn.LeakyReLU(),\\n)\";\n",
       "                var nbb_cells = Jupyter.notebook.get_cells();\n",
       "                for (var i = 0; i < nbb_cells.length; ++i) {\n",
       "                    if (nbb_cells[i].input_prompt_number == nbb_cell_id) {\n",
       "                        if (nbb_cells[i].get_text() == nbb_unformatted_code) {\n",
       "                             nbb_cells[i].set_text(nbb_formatted_code);\n",
       "                        }\n",
       "                        break;\n",
       "                    }\n",
       "                }\n",
       "            }, 500);\n",
       "            "
      ],
      "text/plain": [
       "<IPython.core.display.Javascript object>"
      ]
     },
     "metadata": {},
     "output_type": "display_data"
    }
   ],
   "source": [
    "dim = 32\n",
    "kernel_size = 5\n",
    "\n",
    "embedding_net = torch.nn.Sequential(\n",
    "    torch.nn.Conv1d(\n",
    "        in_channels=5,\n",
    "        out_channels=dim,\n",
    "        kernel_size=kernel_size,\n",
    "        padding=(kernel_size - 1),\n",
    "        dilation=1,\n",
    "    ),\n",
    "    torch.nn.LeakyReLU(),\n",
    "    torch.nn.Conv1d(\n",
    "        in_channels=dim,\n",
    "        out_channels=dim,\n",
    "        kernel_size=kernel_size,\n",
    "        padding=(kernel_size - 1) * 2,\n",
    "        dilation=2,\n",
    "    ),\n",
    "    torch.nn.LeakyReLU(),\n",
    "    torch.nn.Conv1d(\n",
    "        in_channels=dim,\n",
    "        out_channels=dim,\n",
    "        kernel_size=kernel_size,\n",
    "        padding=(kernel_size - 1) * 4,\n",
    "        dilation=4,\n",
    "    ),\n",
    "    torch.nn.LeakyReLU(),\n",
    "    torch.nn.Conv1d(\n",
    "        in_channels=dim,\n",
    "        out_channels=dim,\n",
    "        kernel_size=kernel_size,\n",
    "        padding=(kernel_size - 1) * 8,\n",
    "        dilation=8,\n",
    "    ),\n",
    "    torch.nn.LeakyReLU(),\n",
    "    GlobalMaxPooling1D(data_format=\"channels_not_last\"),\n",
    "    torch.nn.LeakyReLU(),\n",
    ")"
   ]
  },
  {
   "cell_type": "code",
   "execution_count": 333,
   "metadata": {},
   "outputs": [
    {
     "data": {
      "text/plain": [
       "'1.8.0a0+65d5004'"
      ]
     },
     "execution_count": 333,
     "metadata": {},
     "output_type": "execute_result"
    },
    {
     "data": {
      "application/javascript": [
       "\n",
       "            setTimeout(function() {\n",
       "                var nbb_cell_id = 333;\n",
       "                var nbb_unformatted_code = \"torch.__version__\";\n",
       "                var nbb_formatted_code = \"torch.__version__\";\n",
       "                var nbb_cells = Jupyter.notebook.get_cells();\n",
       "                for (var i = 0; i < nbb_cells.length; ++i) {\n",
       "                    if (nbb_cells[i].input_prompt_number == nbb_cell_id) {\n",
       "                        if (nbb_cells[i].get_text() == nbb_unformatted_code) {\n",
       "                             nbb_cells[i].set_text(nbb_formatted_code);\n",
       "                        }\n",
       "                        break;\n",
       "                    }\n",
       "                }\n",
       "            }, 500);\n",
       "            "
      ],
      "text/plain": [
       "<IPython.core.display.Javascript object>"
      ]
     },
     "metadata": {},
     "output_type": "display_data"
    }
   ],
   "source": [
    "torch.__version__"
   ]
  },
  {
   "cell_type": "code",
   "execution_count": 334,
   "metadata": {},
   "outputs": [
    {
     "data": {
      "application/javascript": [
       "\n",
       "            setTimeout(function() {\n",
       "                var nbb_cell_id = 334;\n",
       "                var nbb_unformatted_code = \"# 2 parameters, positive and negative rho\\nprior = utils.BoxUniform(\\n    low=torch.tensor([0.0, 0.0]).type(torch.FloatTensor),\\n    high=torch.tensor([4.0, 4.0]).type(torch.FloatTensor),\\n)\";\n",
       "                var nbb_formatted_code = \"# 2 parameters, positive and negative rho\\nprior = utils.BoxUniform(\\n    low=torch.tensor([0.0, 0.0]).type(torch.FloatTensor),\\n    high=torch.tensor([4.0, 4.0]).type(torch.FloatTensor),\\n)\";\n",
       "                var nbb_cells = Jupyter.notebook.get_cells();\n",
       "                for (var i = 0; i < nbb_cells.length; ++i) {\n",
       "                    if (nbb_cells[i].input_prompt_number == nbb_cell_id) {\n",
       "                        if (nbb_cells[i].get_text() == nbb_unformatted_code) {\n",
       "                             nbb_cells[i].set_text(nbb_formatted_code);\n",
       "                        }\n",
       "                        break;\n",
       "                    }\n",
       "                }\n",
       "            }, 500);\n",
       "            "
      ],
      "text/plain": [
       "<IPython.core.display.Javascript object>"
      ]
     },
     "metadata": {},
     "output_type": "display_data"
    }
   ],
   "source": [
    "# 2 parameters, positive and negative rho\n",
    "prior = utils.BoxUniform(\n",
    "    low=torch.tensor([0.0, 0.0]).type(torch.FloatTensor),\n",
    "    high=torch.tensor([4.0, 4.0]).type(torch.FloatTensor),\n",
    ")"
   ]
  },
  {
   "cell_type": "code",
   "execution_count": 335,
   "metadata": {},
   "outputs": [
    {
     "data": {
      "application/javascript": [
       "\n",
       "            setTimeout(function() {\n",
       "                var nbb_cell_id = 335;\n",
       "                var nbb_unformatted_code = \"neural_posterior = utils.posterior_nn(\\n    model=\\\"maf\\\", embedding_net=embedding_net, z_score_x=False\\n)\";\n",
       "                var nbb_formatted_code = \"neural_posterior = utils.posterior_nn(\\n    model=\\\"maf\\\", embedding_net=embedding_net, z_score_x=False\\n)\";\n",
       "                var nbb_cells = Jupyter.notebook.get_cells();\n",
       "                for (var i = 0; i < nbb_cells.length; ++i) {\n",
       "                    if (nbb_cells[i].input_prompt_number == nbb_cell_id) {\n",
       "                        if (nbb_cells[i].get_text() == nbb_unformatted_code) {\n",
       "                             nbb_cells[i].set_text(nbb_formatted_code);\n",
       "                        }\n",
       "                        break;\n",
       "                    }\n",
       "                }\n",
       "            }, 500);\n",
       "            "
      ],
      "text/plain": [
       "<IPython.core.display.Javascript object>"
      ]
     },
     "metadata": {},
     "output_type": "display_data"
    }
   ],
   "source": [
    "neural_posterior = utils.posterior_nn(\n",
    "    model=\"maf\", embedding_net=embedding_net, z_score_x=False\n",
    ")"
   ]
  },
  {
   "cell_type": "code",
   "execution_count": 336,
   "metadata": {},
   "outputs": [
    {
     "data": {
      "application/javascript": [
       "\n",
       "            setTimeout(function() {\n",
       "                var nbb_cell_id = 336;\n",
       "                var nbb_unformatted_code = \"inference = SNPE(\\n    prior=prior,\\n    density_estimator=neural_posterior,\\n    device=\\\"cpu\\\",\\n    show_progress_bars=True,\\n)\";\n",
       "                var nbb_formatted_code = \"inference = SNPE(\\n    prior=prior,\\n    density_estimator=neural_posterior,\\n    device=\\\"cpu\\\",\\n    show_progress_bars=True,\\n)\";\n",
       "                var nbb_cells = Jupyter.notebook.get_cells();\n",
       "                for (var i = 0; i < nbb_cells.length; ++i) {\n",
       "                    if (nbb_cells[i].input_prompt_number == nbb_cell_id) {\n",
       "                        if (nbb_cells[i].get_text() == nbb_unformatted_code) {\n",
       "                             nbb_cells[i].set_text(nbb_formatted_code);\n",
       "                        }\n",
       "                        break;\n",
       "                    }\n",
       "                }\n",
       "            }, 500);\n",
       "            "
      ],
      "text/plain": [
       "<IPython.core.display.Javascript object>"
      ]
     },
     "metadata": {},
     "output_type": "display_data"
    }
   ],
   "source": [
    "inference = SNPE(\n",
    "    prior=prior,\n",
    "    density_estimator=neural_posterior,\n",
    "    device=\"cpu\",\n",
    "    show_progress_bars=True,\n",
    ")"
   ]
  },
  {
   "cell_type": "code",
   "execution_count": 337,
   "metadata": {},
   "outputs": [
    {
     "data": {
      "application/javascript": [
       "\n",
       "            setTimeout(function() {\n",
       "                var nbb_cell_id = 337;\n",
       "                var nbb_unformatted_code = \"inference = inference.append_simulations(parameters, padded_simulations)\";\n",
       "                var nbb_formatted_code = \"inference = inference.append_simulations(parameters, padded_simulations)\";\n",
       "                var nbb_cells = Jupyter.notebook.get_cells();\n",
       "                for (var i = 0; i < nbb_cells.length; ++i) {\n",
       "                    if (nbb_cells[i].input_prompt_number == nbb_cell_id) {\n",
       "                        if (nbb_cells[i].get_text() == nbb_unformatted_code) {\n",
       "                             nbb_cells[i].set_text(nbb_formatted_code);\n",
       "                        }\n",
       "                        break;\n",
       "                    }\n",
       "                }\n",
       "            }, 500);\n",
       "            "
      ],
      "text/plain": [
       "<IPython.core.display.Javascript object>"
      ]
     },
     "metadata": {},
     "output_type": "display_data"
    }
   ],
   "source": [
    "inference = inference.append_simulations(parameters, padded_simulations)"
   ]
  },
  {
   "cell_type": "code",
   "execution_count": 338,
   "metadata": {},
   "outputs": [
    {
     "name": "stderr",
     "output_type": "stream",
     "text": [
      "WARNING:root:Found 4999 NaN simulations and 0 Inf simulations. Training might fail. Consider setting `exclude_invalid_x=True`.\n"
     ]
    },
    {
     "name": "stdout",
     "output_type": "stream",
     "text": [
      "Neural network successfully converged after 20 epochs.\n",
      "\n",
      "        -------------------------\n",
      "        ||||| ROUND 1 STATS |||||:\n",
      "        -------------------------\n",
      "        Epochs trained: 20\n",
      "        Best validation performance: -inf\n",
      "        -------------------------\n",
      "        \n"
     ]
    },
    {
     "data": {
      "application/javascript": [
       "\n",
       "            setTimeout(function() {\n",
       "                var nbb_cell_id = 338;\n",
       "                var nbb_unformatted_code = \"density_estimator = inference.train(\\n    training_batch_size=50,\\n    show_train_summary=True,\\n    exclude_invalid_x=False,\\n    dataloader_kwargs={\\\"collate_fn\\\": pad_collate},\\n)\";\n",
       "                var nbb_formatted_code = \"density_estimator = inference.train(\\n    training_batch_size=50,\\n    show_train_summary=True,\\n    exclude_invalid_x=False,\\n    dataloader_kwargs={\\\"collate_fn\\\": pad_collate},\\n)\";\n",
       "                var nbb_cells = Jupyter.notebook.get_cells();\n",
       "                for (var i = 0; i < nbb_cells.length; ++i) {\n",
       "                    if (nbb_cells[i].input_prompt_number == nbb_cell_id) {\n",
       "                        if (nbb_cells[i].get_text() == nbb_unformatted_code) {\n",
       "                             nbb_cells[i].set_text(nbb_formatted_code);\n",
       "                        }\n",
       "                        break;\n",
       "                    }\n",
       "                }\n",
       "            }, 500);\n",
       "            "
      ],
      "text/plain": [
       "<IPython.core.display.Javascript object>"
      ]
     },
     "metadata": {},
     "output_type": "display_data"
    }
   ],
   "source": [
    "density_estimator = inference.train(\n",
    "    training_batch_size=50,\n",
    "    show_train_summary=True,\n",
    "    exclude_invalid_x=False,\n",
    "    dataloader_kwargs={\"collate_fn\": pad_collate},\n",
    ")"
   ]
  },
  {
   "cell_type": "code",
   "execution_count": 313,
   "metadata": {},
   "outputs": [
    {
     "name": "stderr",
     "output_type": "stream",
     "text": [
      "WARNING:root:Found 4999 NaN simulations and 0 Inf simulations. Training might fail. Consider setting `exclude_invalid_x=True`.\n"
     ]
    },
    {
     "data": {
      "application/javascript": [
       "\n",
       "            setTimeout(function() {\n",
       "                var nbb_cell_id = 313;\n",
       "                var nbb_unformatted_code = \"theta, x, prior_masks = inference.get_simulations(0, False)\";\n",
       "                var nbb_formatted_code = \"theta, x, prior_masks = inference.get_simulations(0, False)\";\n",
       "                var nbb_cells = Jupyter.notebook.get_cells();\n",
       "                for (var i = 0; i < nbb_cells.length; ++i) {\n",
       "                    if (nbb_cells[i].input_prompt_number == nbb_cell_id) {\n",
       "                        if (nbb_cells[i].get_text() == nbb_unformatted_code) {\n",
       "                             nbb_cells[i].set_text(nbb_formatted_code);\n",
       "                        }\n",
       "                        break;\n",
       "                    }\n",
       "                }\n",
       "            }, 500);\n",
       "            "
      ],
      "text/plain": [
       "<IPython.core.display.Javascript object>"
      ]
     },
     "metadata": {},
     "output_type": "display_data"
    }
   ],
   "source": [
    "theta, x, prior_masks = inference.get_simulations(0, False)"
   ]
  },
  {
   "cell_type": "code",
   "execution_count": 314,
   "metadata": {},
   "outputs": [
    {
     "data": {
      "application/javascript": [
       "\n",
       "            setTimeout(function() {\n",
       "                var nbb_cell_id = 314;\n",
       "                var nbb_unformatted_code = \"validation_fraction = 0.2\\nnum_total_examples = len(theta)\\nnum_training_examples = int((1 - validation_fraction) * num_total_examples)\\nnum_validation_examples = num_total_examples - num_training_examples\\n\\npermuted_indices = torch.randperm(num_total_examples)\\ninference.train_indices, inference.val_indices = (\\n    permuted_indices[:num_training_examples],\\n    permuted_indices[num_training_examples:],\\n)\";\n",
       "                var nbb_formatted_code = \"validation_fraction = 0.2\\nnum_total_examples = len(theta)\\nnum_training_examples = int((1 - validation_fraction) * num_total_examples)\\nnum_validation_examples = num_total_examples - num_training_examples\\n\\npermuted_indices = torch.randperm(num_total_examples)\\ninference.train_indices, inference.val_indices = (\\n    permuted_indices[:num_training_examples],\\n    permuted_indices[num_training_examples:],\\n)\";\n",
       "                var nbb_cells = Jupyter.notebook.get_cells();\n",
       "                for (var i = 0; i < nbb_cells.length; ++i) {\n",
       "                    if (nbb_cells[i].input_prompt_number == nbb_cell_id) {\n",
       "                        if (nbb_cells[i].get_text() == nbb_unformatted_code) {\n",
       "                             nbb_cells[i].set_text(nbb_formatted_code);\n",
       "                        }\n",
       "                        break;\n",
       "                    }\n",
       "                }\n",
       "            }, 500);\n",
       "            "
      ],
      "text/plain": [
       "<IPython.core.display.Javascript object>"
      ]
     },
     "metadata": {},
     "output_type": "display_data"
    }
   ],
   "source": [
    "validation_fraction = 0.2\n",
    "num_total_examples = len(theta)\n",
    "num_training_examples = int((1 - validation_fraction) * num_total_examples)\n",
    "num_validation_examples = num_total_examples - num_training_examples\n",
    "\n",
    "permuted_indices = torch.randperm(num_total_examples)\n",
    "inference.train_indices, inference.val_indices = (\n",
    "    permuted_indices[:num_training_examples],\n",
    "    permuted_indices[num_training_examples:],\n",
    ")"
   ]
  },
  {
   "cell_type": "code",
   "execution_count": 315,
   "metadata": {},
   "outputs": [
    {
     "data": {
      "application/javascript": [
       "\n",
       "            setTimeout(function() {\n",
       "                var nbb_cell_id = 315;\n",
       "                var nbb_unformatted_code = \"dataset = data.TensorDataset(theta, x, prior_masks)\";\n",
       "                var nbb_formatted_code = \"dataset = data.TensorDataset(theta, x, prior_masks)\";\n",
       "                var nbb_cells = Jupyter.notebook.get_cells();\n",
       "                for (var i = 0; i < nbb_cells.length; ++i) {\n",
       "                    if (nbb_cells[i].input_prompt_number == nbb_cell_id) {\n",
       "                        if (nbb_cells[i].get_text() == nbb_unformatted_code) {\n",
       "                             nbb_cells[i].set_text(nbb_formatted_code);\n",
       "                        }\n",
       "                        break;\n",
       "                    }\n",
       "                }\n",
       "            }, 500);\n",
       "            "
      ],
      "text/plain": [
       "<IPython.core.display.Javascript object>"
      ]
     },
     "metadata": {},
     "output_type": "display_data"
    }
   ],
   "source": [
    "dataset = data.TensorDataset(theta, x, prior_masks)"
   ]
  },
  {
   "cell_type": "code",
   "execution_count": 316,
   "metadata": {},
   "outputs": [
    {
     "data": {
      "application/javascript": [
       "\n",
       "            setTimeout(function() {\n",
       "                var nbb_cell_id = 316;\n",
       "                var nbb_unformatted_code = \"dataloader_kwargs = {\\\"collate_fn\\\": pad_collate}\\ntraining_batch_size = 50\\n\\ntrain_loader_kwargs = {\\n    \\\"batch_size\\\": min(training_batch_size, num_training_examples),\\n    \\\"drop_last\\\": True,\\n    \\\"sampler\\\": data.sampler.SubsetRandomSampler(inference.train_indices),\\n}\\ntrain_loader_kwargs = (\\n    dict(train_loader_kwargs, **dataloader_kwargs)\\n    if dataloader_kwargs is not None\\n    else train_loader_kwargs\\n)\\nval_loader_kwargs = {\\n    \\\"batch_size\\\": min(training_batch_size, num_validation_examples),\\n    \\\"shuffle\\\": False,\\n    \\\"drop_last\\\": True,\\n    \\\"sampler\\\": data.sampler.SubsetRandomSampler(inference.val_indices),\\n}\\nval_loader_kwargs = (\\n    dict(val_loader_kwargs, **dataloader_kwargs)\\n    if dataloader_kwargs is not None\\n    else val_loader_kwargs\\n)\";\n",
       "                var nbb_formatted_code = \"dataloader_kwargs = {\\\"collate_fn\\\": pad_collate}\\ntraining_batch_size = 50\\n\\ntrain_loader_kwargs = {\\n    \\\"batch_size\\\": min(training_batch_size, num_training_examples),\\n    \\\"drop_last\\\": True,\\n    \\\"sampler\\\": data.sampler.SubsetRandomSampler(inference.train_indices),\\n}\\ntrain_loader_kwargs = (\\n    dict(train_loader_kwargs, **dataloader_kwargs)\\n    if dataloader_kwargs is not None\\n    else train_loader_kwargs\\n)\\nval_loader_kwargs = {\\n    \\\"batch_size\\\": min(training_batch_size, num_validation_examples),\\n    \\\"shuffle\\\": False,\\n    \\\"drop_last\\\": True,\\n    \\\"sampler\\\": data.sampler.SubsetRandomSampler(inference.val_indices),\\n}\\nval_loader_kwargs = (\\n    dict(val_loader_kwargs, **dataloader_kwargs)\\n    if dataloader_kwargs is not None\\n    else val_loader_kwargs\\n)\";\n",
       "                var nbb_cells = Jupyter.notebook.get_cells();\n",
       "                for (var i = 0; i < nbb_cells.length; ++i) {\n",
       "                    if (nbb_cells[i].input_prompt_number == nbb_cell_id) {\n",
       "                        if (nbb_cells[i].get_text() == nbb_unformatted_code) {\n",
       "                             nbb_cells[i].set_text(nbb_formatted_code);\n",
       "                        }\n",
       "                        break;\n",
       "                    }\n",
       "                }\n",
       "            }, 500);\n",
       "            "
      ],
      "text/plain": [
       "<IPython.core.display.Javascript object>"
      ]
     },
     "metadata": {},
     "output_type": "display_data"
    }
   ],
   "source": [
    "dataloader_kwargs = {\"collate_fn\": pad_collate}\n",
    "training_batch_size = 50\n",
    "\n",
    "train_loader_kwargs = {\n",
    "    \"batch_size\": min(training_batch_size, num_training_examples),\n",
    "    \"drop_last\": True,\n",
    "    \"sampler\": data.sampler.SubsetRandomSampler(inference.train_indices),\n",
    "}\n",
    "train_loader_kwargs = (\n",
    "    dict(train_loader_kwargs, **dataloader_kwargs)\n",
    "    if dataloader_kwargs is not None\n",
    "    else train_loader_kwargs\n",
    ")\n",
    "val_loader_kwargs = {\n",
    "    \"batch_size\": min(training_batch_size, num_validation_examples),\n",
    "    \"shuffle\": False,\n",
    "    \"drop_last\": True,\n",
    "    \"sampler\": data.sampler.SubsetRandomSampler(inference.val_indices),\n",
    "}\n",
    "val_loader_kwargs = (\n",
    "    dict(val_loader_kwargs, **dataloader_kwargs)\n",
    "    if dataloader_kwargs is not None\n",
    "    else val_loader_kwargs\n",
    ")"
   ]
  },
  {
   "cell_type": "code",
   "execution_count": 317,
   "metadata": {},
   "outputs": [
    {
     "data": {
      "application/javascript": [
       "\n",
       "            setTimeout(function() {\n",
       "                var nbb_cell_id = 317;\n",
       "                var nbb_unformatted_code = \"train_loader = data.DataLoader(dataset, **train_loader_kwargs)\\nval_loader = data.DataLoader(dataset, **val_loader_kwargs)\";\n",
       "                var nbb_formatted_code = \"train_loader = data.DataLoader(dataset, **train_loader_kwargs)\\nval_loader = data.DataLoader(dataset, **val_loader_kwargs)\";\n",
       "                var nbb_cells = Jupyter.notebook.get_cells();\n",
       "                for (var i = 0; i < nbb_cells.length; ++i) {\n",
       "                    if (nbb_cells[i].input_prompt_number == nbb_cell_id) {\n",
       "                        if (nbb_cells[i].get_text() == nbb_unformatted_code) {\n",
       "                             nbb_cells[i].set_text(nbb_formatted_code);\n",
       "                        }\n",
       "                        break;\n",
       "                    }\n",
       "                }\n",
       "            }, 500);\n",
       "            "
      ],
      "text/plain": [
       "<IPython.core.display.Javascript object>"
      ]
     },
     "metadata": {},
     "output_type": "display_data"
    }
   ],
   "source": [
    "train_loader = data.DataLoader(dataset, **train_loader_kwargs)\n",
    "val_loader = data.DataLoader(dataset, **val_loader_kwargs)"
   ]
  },
  {
   "cell_type": "code",
   "execution_count": 318,
   "metadata": {},
   "outputs": [
    {
     "data": {
      "application/javascript": [
       "\n",
       "            setTimeout(function() {\n",
       "                var nbb_cell_id = 318;\n",
       "                var nbb_unformatted_code = \"for batch in train_loader:\\n    if torch.sum(torch.isnan(batch[1])) > 0:\\n        print(batch)\";\n",
       "                var nbb_formatted_code = \"for batch in train_loader:\\n    if torch.sum(torch.isnan(batch[1])) > 0:\\n        print(batch)\";\n",
       "                var nbb_cells = Jupyter.notebook.get_cells();\n",
       "                for (var i = 0; i < nbb_cells.length; ++i) {\n",
       "                    if (nbb_cells[i].input_prompt_number == nbb_cell_id) {\n",
       "                        if (nbb_cells[i].get_text() == nbb_unformatted_code) {\n",
       "                             nbb_cells[i].set_text(nbb_formatted_code);\n",
       "                        }\n",
       "                        break;\n",
       "                    }\n",
       "                }\n",
       "            }, 500);\n",
       "            "
      ],
      "text/plain": [
       "<IPython.core.display.Javascript object>"
      ]
     },
     "metadata": {},
     "output_type": "display_data"
    }
   ],
   "source": [
    "for batch in train_loader:\n",
    "    if torch.sum(torch.isnan(batch[1])) > 0:\n",
    "        print(batch)"
   ]
  },
  {
   "cell_type": "code",
   "execution_count": 291,
   "metadata": {},
   "outputs": [
    {
     "data": {
      "application/javascript": [
       "\n",
       "            setTimeout(function() {\n",
       "                var nbb_cell_id = 291;\n",
       "                var nbb_unformatted_code = \"batch = next(iter(val_loader))\";\n",
       "                var nbb_formatted_code = \"batch = next(iter(val_loader))\";\n",
       "                var nbb_cells = Jupyter.notebook.get_cells();\n",
       "                for (var i = 0; i < nbb_cells.length; ++i) {\n",
       "                    if (nbb_cells[i].input_prompt_number == nbb_cell_id) {\n",
       "                        if (nbb_cells[i].get_text() == nbb_unformatted_code) {\n",
       "                             nbb_cells[i].set_text(nbb_formatted_code);\n",
       "                        }\n",
       "                        break;\n",
       "                    }\n",
       "                }\n",
       "            }, 500);\n",
       "            "
      ],
      "text/plain": [
       "<IPython.core.display.Javascript object>"
      ]
     },
     "metadata": {},
     "output_type": "display_data"
    }
   ],
   "source": [
    "batch = next(iter(val_loader))"
   ]
  },
  {
   "cell_type": "code",
   "execution_count": 342,
   "metadata": {},
   "outputs": [
    {
     "data": {
      "text/plain": [
       "torch.Size([50, 5, 2831])"
      ]
     },
     "execution_count": 342,
     "metadata": {},
     "output_type": "execute_result"
    },
    {
     "data": {
      "application/javascript": [
       "\n",
       "            setTimeout(function() {\n",
       "                var nbb_cell_id = 342;\n",
       "                var nbb_unformatted_code = \"batch[1].shape\";\n",
       "                var nbb_formatted_code = \"batch[1].shape\";\n",
       "                var nbb_cells = Jupyter.notebook.get_cells();\n",
       "                for (var i = 0; i < nbb_cells.length; ++i) {\n",
       "                    if (nbb_cells[i].input_prompt_number == nbb_cell_id) {\n",
       "                        if (nbb_cells[i].get_text() == nbb_unformatted_code) {\n",
       "                             nbb_cells[i].set_text(nbb_formatted_code);\n",
       "                        }\n",
       "                        break;\n",
       "                    }\n",
       "                }\n",
       "            }, 500);\n",
       "            "
      ],
      "text/plain": [
       "<IPython.core.display.Javascript object>"
      ]
     },
     "metadata": {},
     "output_type": "display_data"
    }
   ],
   "source": [
    "batch[1].shape"
   ]
  },
  {
   "cell_type": "code",
   "execution_count": 187,
   "metadata": {},
   "outputs": [
    {
     "data": {
      "application/javascript": [
       "\n",
       "            setTimeout(function() {\n",
       "                var nbb_cell_id = 187;\n",
       "                var nbb_unformatted_code = \"val_loader_kwargs = {\\n    \\\"batch_size\\\": min(training_batch_size, num_validation_examples),\\n    \\\"shuffle\\\": False,\\n    \\\"drop_last\\\": True,\\n    \\\"sampler\\\": data.sampler.SubsetRandomSampler(inference.val_indices),\\n}\";\n",
       "                var nbb_formatted_code = \"val_loader_kwargs = {\\n    \\\"batch_size\\\": min(training_batch_size, num_validation_examples),\\n    \\\"shuffle\\\": False,\\n    \\\"drop_last\\\": True,\\n    \\\"sampler\\\": data.sampler.SubsetRandomSampler(inference.val_indices),\\n}\";\n",
       "                var nbb_cells = Jupyter.notebook.get_cells();\n",
       "                for (var i = 0; i < nbb_cells.length; ++i) {\n",
       "                    if (nbb_cells[i].input_prompt_number == nbb_cell_id) {\n",
       "                        if (nbb_cells[i].get_text() == nbb_unformatted_code) {\n",
       "                             nbb_cells[i].set_text(nbb_formatted_code);\n",
       "                        }\n",
       "                        break;\n",
       "                    }\n",
       "                }\n",
       "            }, 500);\n",
       "            "
      ],
      "text/plain": [
       "<IPython.core.display.Javascript object>"
      ]
     },
     "metadata": {},
     "output_type": "display_data"
    }
   ],
   "source": [
    "val_loader_kwargs = {\n",
    "    \"batch_size\": min(training_batch_size, num_validation_examples),\n",
    "    \"shuffle\": False,\n",
    "    \"drop_last\": True,\n",
    "    \"sampler\": data.sampler.SubsetRandomSampler(inference.val_indices),\n",
    "}"
   ]
  },
  {
   "cell_type": "code",
   "execution_count": 341,
   "metadata": {},
   "outputs": [
    {
     "data": {
      "text/plain": [
       "torch.Size([50, 1])"
      ]
     },
     "execution_count": 341,
     "metadata": {},
     "output_type": "execute_result"
    },
    {
     "data": {
      "application/javascript": [
       "\n",
       "            setTimeout(function() {\n",
       "                var nbb_cell_id = 341;\n",
       "                var nbb_unformatted_code = \"batch[2].shape\";\n",
       "                var nbb_formatted_code = \"batch[2].shape\";\n",
       "                var nbb_cells = Jupyter.notebook.get_cells();\n",
       "                for (var i = 0; i < nbb_cells.length; ++i) {\n",
       "                    if (nbb_cells[i].input_prompt_number == nbb_cell_id) {\n",
       "                        if (nbb_cells[i].get_text() == nbb_unformatted_code) {\n",
       "                             nbb_cells[i].set_text(nbb_formatted_code);\n",
       "                        }\n",
       "                        break;\n",
       "                    }\n",
       "                }\n",
       "            }, 500);\n",
       "            "
      ],
      "text/plain": [
       "<IPython.core.display.Javascript object>"
      ]
     },
     "metadata": {},
     "output_type": "display_data"
    }
   ],
   "source": [
    "batch[2].shape"
   ]
  },
  {
   "cell_type": "code",
   "execution_count": 339,
   "metadata": {},
   "outputs": [
    {
     "data": {
      "text/plain": [
       "[nan,\n",
       " nan,\n",
       " nan,\n",
       " nan,\n",
       " nan,\n",
       " nan,\n",
       " nan,\n",
       " nan,\n",
       " nan,\n",
       " nan,\n",
       " nan,\n",
       " nan,\n",
       " nan,\n",
       " nan,\n",
       " nan,\n",
       " nan,\n",
       " nan,\n",
       " nan,\n",
       " nan,\n",
       " nan]"
      ]
     },
     "execution_count": 339,
     "metadata": {},
     "output_type": "execute_result"
    },
    {
     "data": {
      "application/javascript": [
       "\n",
       "            setTimeout(function() {\n",
       "                var nbb_cell_id = 339;\n",
       "                var nbb_unformatted_code = \"inference._summary[\\\"validation_log_probs\\\"]\";\n",
       "                var nbb_formatted_code = \"inference._summary[\\\"validation_log_probs\\\"]\";\n",
       "                var nbb_cells = Jupyter.notebook.get_cells();\n",
       "                for (var i = 0; i < nbb_cells.length; ++i) {\n",
       "                    if (nbb_cells[i].input_prompt_number == nbb_cell_id) {\n",
       "                        if (nbb_cells[i].get_text() == nbb_unformatted_code) {\n",
       "                             nbb_cells[i].set_text(nbb_formatted_code);\n",
       "                        }\n",
       "                        break;\n",
       "                    }\n",
       "                }\n",
       "            }, 500);\n",
       "            "
      ],
      "text/plain": [
       "<IPython.core.display.Javascript object>"
      ]
     },
     "metadata": {},
     "output_type": "display_data"
    }
   ],
   "source": [
    "inference._summary[\"validation_log_probs\"]"
   ]
  },
  {
   "cell_type": "code",
   "execution_count": 340,
   "metadata": {},
   "outputs": [
    {
     "data": {
      "text/plain": [
       "Sequential(\n",
       "  (0): Conv1d(5, 32, kernel_size=(5,), stride=(1,), padding=(4,))\n",
       "  (1): LeakyReLU(negative_slope=0.01)\n",
       "  (2): Conv1d(32, 32, kernel_size=(5,), stride=(1,), padding=(8,), dilation=(2,))\n",
       "  (3): LeakyReLU(negative_slope=0.01)\n",
       "  (4): Conv1d(32, 32, kernel_size=(5,), stride=(1,), padding=(16,), dilation=(4,))\n",
       "  (5): LeakyReLU(negative_slope=0.01)\n",
       "  (6): Conv1d(32, 32, kernel_size=(5,), stride=(1,), padding=(32,), dilation=(8,))\n",
       "  (7): LeakyReLU(negative_slope=0.01)\n",
       "  (8): GlobalMaxPooling1D()\n",
       "  (9): LeakyReLU(negative_slope=0.01)\n",
       ")"
      ]
     },
     "execution_count": 340,
     "metadata": {},
     "output_type": "execute_result"
    },
    {
     "data": {
      "application/javascript": [
       "\n",
       "            setTimeout(function() {\n",
       "                var nbb_cell_id = 340;\n",
       "                var nbb_unformatted_code = \"inference._neural_net._embedding_net\";\n",
       "                var nbb_formatted_code = \"inference._neural_net._embedding_net\";\n",
       "                var nbb_cells = Jupyter.notebook.get_cells();\n",
       "                for (var i = 0; i < nbb_cells.length; ++i) {\n",
       "                    if (nbb_cells[i].input_prompt_number == nbb_cell_id) {\n",
       "                        if (nbb_cells[i].get_text() == nbb_unformatted_code) {\n",
       "                             nbb_cells[i].set_text(nbb_formatted_code);\n",
       "                        }\n",
       "                        break;\n",
       "                    }\n",
       "                }\n",
       "            }, 500);\n",
       "            "
      ],
      "text/plain": [
       "<IPython.core.display.Javascript object>"
      ]
     },
     "metadata": {},
     "output_type": "display_data"
    }
   ],
   "source": [
    "inference._neural_net._embedding_net"
   ]
  },
  {
   "cell_type": "code",
   "execution_count": 347,
   "metadata": {},
   "outputs": [
    {
     "ename": "TypeError",
     "evalue": "'NoneType' object is not callable",
     "output_type": "error",
     "traceback": [
      "\u001b[0;31m---------------------------------------------------------------------------\u001b[0m",
      "\u001b[0;31mTypeError\u001b[0m                                 Traceback (most recent call last)",
      "\u001b[0;32m<ipython-input-347-28bbed89d705>\u001b[0m in \u001b[0;36m<module>\u001b[0;34m\u001b[0m\n\u001b[1;32m      2\u001b[0m \u001b[0mproposal\u001b[0m \u001b[0;34m=\u001b[0m \u001b[0minference\u001b[0m\u001b[0;34m.\u001b[0m\u001b[0m_proposal_roundwise\u001b[0m\u001b[0;34m[\u001b[0m\u001b[0;34m-\u001b[0m\u001b[0;36m1\u001b[0m\u001b[0;34m]\u001b[0m\u001b[0;34m\u001b[0m\u001b[0;34m\u001b[0m\u001b[0m\n\u001b[1;32m      3\u001b[0m \u001b[0;34m\u001b[0m\u001b[0m\n\u001b[0;32m----> 4\u001b[0;31m \u001b[0minference\u001b[0m\u001b[0;34m.\u001b[0m\u001b[0m_loss\u001b[0m\u001b[0;34m(\u001b[0m\u001b[0mbatch\u001b[0m\u001b[0;34m[\u001b[0m\u001b[0;36m0\u001b[0m\u001b[0;34m]\u001b[0m\u001b[0;34m,\u001b[0m \u001b[0mbatch\u001b[0m\u001b[0;34m[\u001b[0m\u001b[0;36m1\u001b[0m\u001b[0;34m]\u001b[0m\u001b[0;34m,\u001b[0m \u001b[0mbatch\u001b[0m\u001b[0;34m[\u001b[0m\u001b[0;36m2\u001b[0m\u001b[0;34m]\u001b[0m\u001b[0;34m,\u001b[0m \u001b[0mcalibration_kernel\u001b[0m\u001b[0;34m,\u001b[0m \u001b[0mproposal\u001b[0m\u001b[0;34m)\u001b[0m\u001b[0;34m\u001b[0m\u001b[0;34m\u001b[0m\u001b[0m\n\u001b[0m",
      "\u001b[0;32m/media/glia/code_projects/sbi/sbi/inference/snpe/snpe_base.py\u001b[0m in \u001b[0;36m_loss\u001b[0;34m(self, theta, x, masks, proposal, calibration_kernel)\u001b[0m\n\u001b[1;32m    458\u001b[0m             \u001b[0mlog_prob\u001b[0m \u001b[0;34m=\u001b[0m \u001b[0mself\u001b[0m\u001b[0;34m.\u001b[0m\u001b[0m_log_prob_proposal_posterior\u001b[0m\u001b[0;34m(\u001b[0m\u001b[0mtheta\u001b[0m\u001b[0;34m,\u001b[0m \u001b[0mx\u001b[0m\u001b[0;34m,\u001b[0m \u001b[0mmasks\u001b[0m\u001b[0;34m,\u001b[0m \u001b[0mproposal\u001b[0m\u001b[0;34m)\u001b[0m\u001b[0;34m\u001b[0m\u001b[0;34m\u001b[0m\u001b[0m\n\u001b[1;32m    459\u001b[0m \u001b[0;34m\u001b[0m\u001b[0m\n\u001b[0;32m--> 460\u001b[0;31m         \u001b[0;32mreturn\u001b[0m \u001b[0;34m-\u001b[0m\u001b[0;34m(\u001b[0m\u001b[0mcalibration_kernel\u001b[0m\u001b[0;34m(\u001b[0m\u001b[0mx\u001b[0m\u001b[0;34m)\u001b[0m \u001b[0;34m*\u001b[0m \u001b[0mlog_prob\u001b[0m\u001b[0;34m)\u001b[0m\u001b[0;34m\u001b[0m\u001b[0;34m\u001b[0m\u001b[0m\n\u001b[0m\u001b[1;32m    461\u001b[0m \u001b[0;34m\u001b[0m\u001b[0m\n\u001b[1;32m    462\u001b[0m     \u001b[0;32mdef\u001b[0m \u001b[0m_check_proposal\u001b[0m\u001b[0;34m(\u001b[0m\u001b[0mself\u001b[0m\u001b[0;34m,\u001b[0m \u001b[0mproposal\u001b[0m\u001b[0;34m)\u001b[0m\u001b[0;34m:\u001b[0m\u001b[0;34m\u001b[0m\u001b[0;34m\u001b[0m\u001b[0m\n",
      "\u001b[0;31mTypeError\u001b[0m: 'NoneType' object is not callable"
     ]
    },
    {
     "data": {
      "application/javascript": [
       "\n",
       "            setTimeout(function() {\n",
       "                var nbb_cell_id = 347;\n",
       "                var nbb_unformatted_code = \"calibration_kernel = lambda x: torch.ones([len(x)], device=inference._device)\\nproposal = inference._proposal_roundwise[-1]\\n\\ninference._loss(batch[0], batch[1], batch[2], calibration_kernel, proposal)\";\n",
       "                var nbb_formatted_code = \"calibration_kernel = lambda x: torch.ones([len(x)], device=inference._device)\\nproposal = inference._proposal_roundwise[-1]\\n\\ninference._loss(batch[0], batch[1], batch[2], calibration_kernel, proposal)\";\n",
       "                var nbb_cells = Jupyter.notebook.get_cells();\n",
       "                for (var i = 0; i < nbb_cells.length; ++i) {\n",
       "                    if (nbb_cells[i].input_prompt_number == nbb_cell_id) {\n",
       "                        if (nbb_cells[i].get_text() == nbb_unformatted_code) {\n",
       "                             nbb_cells[i].set_text(nbb_formatted_code);\n",
       "                        }\n",
       "                        break;\n",
       "                    }\n",
       "                }\n",
       "            }, 500);\n",
       "            "
      ],
      "text/plain": [
       "<IPython.core.display.Javascript object>"
      ]
     },
     "metadata": {},
     "output_type": "display_data"
    }
   ],
   "source": [
    "calibration_kernel = lambda x: torch.ones([len(x)], device=inference._device)\n",
    "proposal = inference._proposal_roundwise[-1]\n",
    "\n",
    "inference._loss(batch[0], batch[1], batch[2], calibration_kernel, proposal)"
   ]
  },
  {
   "cell_type": "code",
   "execution_count": 350,
   "metadata": {},
   "outputs": [
    {
     "data": {
      "text/plain": [
       "tensor([nan, nan, nan, nan, nan, nan, nan, nan, nan, nan, nan, nan, nan, nan, nan, nan, nan, nan, nan, nan, nan, nan, nan, nan,\n",
       "        nan, nan, nan, nan, nan, nan, nan, nan, nan, nan, nan, nan, nan, nan, nan, nan, nan, nan, nan, nan, nan, nan, nan, nan,\n",
       "        nan, nan], grad_fn=<AddBackward0>)"
      ]
     },
     "execution_count": 350,
     "metadata": {},
     "output_type": "execute_result"
    },
    {
     "data": {
      "application/javascript": [
       "\n",
       "            setTimeout(function() {\n",
       "                var nbb_cell_id = 350;\n",
       "                var nbb_unformatted_code = \"inference._neural_net.log_prob(batch[0], batch[1])\";\n",
       "                var nbb_formatted_code = \"inference._neural_net.log_prob(batch[0], batch[1])\";\n",
       "                var nbb_cells = Jupyter.notebook.get_cells();\n",
       "                for (var i = 0; i < nbb_cells.length; ++i) {\n",
       "                    if (nbb_cells[i].input_prompt_number == nbb_cell_id) {\n",
       "                        if (nbb_cells[i].get_text() == nbb_unformatted_code) {\n",
       "                             nbb_cells[i].set_text(nbb_formatted_code);\n",
       "                        }\n",
       "                        break;\n",
       "                    }\n",
       "                }\n",
       "            }, 500);\n",
       "            "
      ],
      "text/plain": [
       "<IPython.core.display.Javascript object>"
      ]
     },
     "metadata": {},
     "output_type": "display_data"
    }
   ],
   "source": [
    "inference._neural_net.log_prob(batch[0], batch[1])"
   ]
  },
  {
   "cell_type": "code",
   "execution_count": 367,
   "metadata": {},
   "outputs": [
    {
     "data": {
      "text/plain": [
       "nflows.transforms.base.CompositeTransform"
      ]
     },
     "execution_count": 367,
     "metadata": {},
     "output_type": "execute_result"
    },
    {
     "data": {
      "application/javascript": [
       "\n",
       "            setTimeout(function() {\n",
       "                var nbb_cell_id = 367;\n",
       "                var nbb_unformatted_code = \"type(inference._neural_net._transform)\";\n",
       "                var nbb_formatted_code = \"type(inference._neural_net._transform)\";\n",
       "                var nbb_cells = Jupyter.notebook.get_cells();\n",
       "                for (var i = 0; i < nbb_cells.length; ++i) {\n",
       "                    if (nbb_cells[i].input_prompt_number == nbb_cell_id) {\n",
       "                        if (nbb_cells[i].get_text() == nbb_unformatted_code) {\n",
       "                             nbb_cells[i].set_text(nbb_formatted_code);\n",
       "                        }\n",
       "                        break;\n",
       "                    }\n",
       "                }\n",
       "            }, 500);\n",
       "            "
      ],
      "text/plain": [
       "<IPython.core.display.Javascript object>"
      ]
     },
     "metadata": {},
     "output_type": "display_data"
    }
   ],
   "source": [
    "type(inference._neural_net._transform)"
   ]
  },
  {
   "cell_type": "code",
   "execution_count": 362,
   "metadata": {},
   "outputs": [
    {
     "data": {
      "text/plain": [
       "torch.Size([50, 32])"
      ]
     },
     "execution_count": 362,
     "metadata": {},
     "output_type": "execute_result"
    },
    {
     "data": {
      "application/javascript": [
       "\n",
       "            setTimeout(function() {\n",
       "                var nbb_cell_id = 362;\n",
       "                var nbb_unformatted_code = \"embedded_context = inference._neural_net._embedding_net(batch[1])\\nembedded_context.shape\";\n",
       "                var nbb_formatted_code = \"embedded_context = inference._neural_net._embedding_net(batch[1])\\nembedded_context.shape\";\n",
       "                var nbb_cells = Jupyter.notebook.get_cells();\n",
       "                for (var i = 0; i < nbb_cells.length; ++i) {\n",
       "                    if (nbb_cells[i].input_prompt_number == nbb_cell_id) {\n",
       "                        if (nbb_cells[i].get_text() == nbb_unformatted_code) {\n",
       "                             nbb_cells[i].set_text(nbb_formatted_code);\n",
       "                        }\n",
       "                        break;\n",
       "                    }\n",
       "                }\n",
       "            }, 500);\n",
       "            "
      ],
      "text/plain": [
       "<IPython.core.display.Javascript object>"
      ]
     },
     "metadata": {},
     "output_type": "display_data"
    }
   ],
   "source": [
    "embedded_context = inference._neural_net._embedding_net(batch[1])\n",
    "embedded_context.shape"
   ]
  },
  {
   "cell_type": "code",
   "execution_count": 363,
   "metadata": {},
   "outputs": [
    {
     "data": {
      "application/javascript": [
       "\n",
       "            setTimeout(function() {\n",
       "                var nbb_cell_id = 363;\n",
       "                var nbb_unformatted_code = \"noise, logabsdet = inference._neural_net._transform(batch[0], context=embedded_context)\";\n",
       "                var nbb_formatted_code = \"noise, logabsdet = inference._neural_net._transform(batch[0], context=embedded_context)\";\n",
       "                var nbb_cells = Jupyter.notebook.get_cells();\n",
       "                for (var i = 0; i < nbb_cells.length; ++i) {\n",
       "                    if (nbb_cells[i].input_prompt_number == nbb_cell_id) {\n",
       "                        if (nbb_cells[i].get_text() == nbb_unformatted_code) {\n",
       "                             nbb_cells[i].set_text(nbb_formatted_code);\n",
       "                        }\n",
       "                        break;\n",
       "                    }\n",
       "                }\n",
       "            }, 500);\n",
       "            "
      ],
      "text/plain": [
       "<IPython.core.display.Javascript object>"
      ]
     },
     "metadata": {},
     "output_type": "display_data"
    }
   ],
   "source": [
    "noise, logabsdet = inference._neural_net._transform(batch[0], context=embedded_context)"
   ]
  },
  {
   "cell_type": "code",
   "execution_count": 378,
   "metadata": {},
   "outputs": [
    {
     "data": {
      "text/plain": [
       "torch.Size([50, 2])"
      ]
     },
     "execution_count": 378,
     "metadata": {},
     "output_type": "execute_result"
    },
    {
     "data": {
      "application/javascript": [
       "\n",
       "            setTimeout(function() {\n",
       "                var nbb_cell_id = 378;\n",
       "                var nbb_unformatted_code = \"batch[0].shape\";\n",
       "                var nbb_formatted_code = \"batch[0].shape\";\n",
       "                var nbb_cells = Jupyter.notebook.get_cells();\n",
       "                for (var i = 0; i < nbb_cells.length; ++i) {\n",
       "                    if (nbb_cells[i].input_prompt_number == nbb_cell_id) {\n",
       "                        if (nbb_cells[i].get_text() == nbb_unformatted_code) {\n",
       "                             nbb_cells[i].set_text(nbb_formatted_code);\n",
       "                        }\n",
       "                        break;\n",
       "                    }\n",
       "                }\n",
       "            }, 500);\n",
       "            "
      ],
      "text/plain": [
       "<IPython.core.display.Javascript object>"
      ]
     },
     "metadata": {},
     "output_type": "display_data"
    }
   ],
   "source": [
    "batch[0].shape"
   ]
  },
  {
   "cell_type": "code",
   "execution_count": 372,
   "metadata": {},
   "outputs": [
    {
     "data": {
      "application/javascript": [
       "\n",
       "            setTimeout(function() {\n",
       "                var nbb_cell_id = 372;\n",
       "                var nbb_unformatted_code = \"funcs = inference._neural_net._transform._transforms\";\n",
       "                var nbb_formatted_code = \"funcs = inference._neural_net._transform._transforms\";\n",
       "                var nbb_cells = Jupyter.notebook.get_cells();\n",
       "                for (var i = 0; i < nbb_cells.length; ++i) {\n",
       "                    if (nbb_cells[i].input_prompt_number == nbb_cell_id) {\n",
       "                        if (nbb_cells[i].get_text() == nbb_unformatted_code) {\n",
       "                             nbb_cells[i].set_text(nbb_formatted_code);\n",
       "                        }\n",
       "                        break;\n",
       "                    }\n",
       "                }\n",
       "            }, 500);\n",
       "            "
      ],
      "text/plain": [
       "<IPython.core.display.Javascript object>"
      ]
     },
     "metadata": {},
     "output_type": "display_data"
    }
   ],
   "source": [
    "funcs = inference._neural_net._transform._transforms"
   ]
  },
  {
   "cell_type": "code",
   "execution_count": 383,
   "metadata": {},
   "outputs": [
    {
     "data": {
      "application/javascript": [
       "\n",
       "            setTimeout(function() {\n",
       "                var nbb_cell_id = 383;\n",
       "                var nbb_unformatted_code = \"output = funcs[0](batch[0], embedded_context)\";\n",
       "                var nbb_formatted_code = \"output = funcs[0](batch[0], embedded_context)\";\n",
       "                var nbb_cells = Jupyter.notebook.get_cells();\n",
       "                for (var i = 0; i < nbb_cells.length; ++i) {\n",
       "                    if (nbb_cells[i].input_prompt_number == nbb_cell_id) {\n",
       "                        if (nbb_cells[i].get_text() == nbb_unformatted_code) {\n",
       "                             nbb_cells[i].set_text(nbb_formatted_code);\n",
       "                        }\n",
       "                        break;\n",
       "                    }\n",
       "                }\n",
       "            }, 500);\n",
       "            "
      ],
      "text/plain": [
       "<IPython.core.display.Javascript object>"
      ]
     },
     "metadata": {},
     "output_type": "display_data"
    }
   ],
   "source": [
    "output = funcs[0](batch[0], embedded_context)"
   ]
  },
  {
   "cell_type": "code",
   "execution_count": 394,
   "metadata": {},
   "outputs": [
    {
     "data": {
      "text/plain": [
       "tensor([[ 2.5113e+00,  1.0580e+00,  4.8916e-01,  5.9571e-01,  1.5836e+00,\n",
       "          6.1876e-01,  2.6522e-01,  8.0801e-02,  2.2957e+00,  1.0312e-01,\n",
       "          1.5233e+00,  6.1204e-01,  7.9613e-01,  7.0672e-01, -7.3818e-07,\n",
       "          1.2850e+00,  4.7510e-01,  1.6540e+00,  1.2027e+00,  1.8042e+00,\n",
       "          1.2620e+00,  1.4153e+00,  2.3188e+00,  1.5748e+00,  1.6403e-01,\n",
       "          1.2145e+00,  1.2749e+00,  9.0538e-01,  6.7170e-02,  1.1587e+00,\n",
       "          4.9226e-02,  7.7660e-01],\n",
       "        [ 3.1293e+00,  9.0136e-01,  1.5473e-01,  9.1228e-01,  1.5474e+00,\n",
       "          6.2536e-01,  2.6384e-01,  2.6619e-01,  2.1917e+00, -6.9791e-06,\n",
       "          1.5950e+00,  9.7544e-02,  2.2587e-02,  3.2819e-01, -1.8370e-06,\n",
       "          1.4423e+00,  1.3951e+00,  1.8478e+00,  1.5963e+00,  2.1966e+00,\n",
       "          9.2115e-01,  1.3336e+00,  2.9138e+00,  1.4567e+00,  1.3662e-01,\n",
       "          9.1841e-01,  3.4990e-01,  1.0697e+00,  1.6917e-01,  9.3338e-01,\n",
       "          3.8452e-02,  9.3570e-01],\n",
       "        [ 2.2175e+01,  1.0745e+01,  8.3944e+00,  8.5558e+00,  2.4078e+01,\n",
       "          5.9854e+00,  3.6082e+00,  2.7006e+00,  1.1987e+01, -5.4640e-06,\n",
       "          1.5985e+01,  3.0552e+00,  3.5473e+00,  8.2419e-01,  1.0793e+00,\n",
       "          1.5186e+01,  1.5087e+01,  1.6573e+01,  1.0556e+01,  1.7722e+01,\n",
       "          8.0370e+00,  1.8153e+01,  2.4430e+01,  3.9094e+00,  1.4376e+00,\n",
       "          8.2857e+00,  1.4024e+00,  9.3396e+00,  7.6983e-02,  6.3819e+00,\n",
       "          5.9704e-02,  8.1998e+00]], grad_fn=<SliceBackward>)"
      ]
     },
     "execution_count": 394,
     "metadata": {},
     "output_type": "execute_result"
    },
    {
     "data": {
      "application/javascript": [
       "\n",
       "            setTimeout(function() {\n",
       "                var nbb_cell_id = 394;\n",
       "                var nbb_unformatted_code = \"embedded_context[:3, :]\";\n",
       "                var nbb_formatted_code = \"embedded_context[:3, :]\";\n",
       "                var nbb_cells = Jupyter.notebook.get_cells();\n",
       "                for (var i = 0; i < nbb_cells.length; ++i) {\n",
       "                    if (nbb_cells[i].input_prompt_number == nbb_cell_id) {\n",
       "                        if (nbb_cells[i].get_text() == nbb_unformatted_code) {\n",
       "                             nbb_cells[i].set_text(nbb_formatted_code);\n",
       "                        }\n",
       "                        break;\n",
       "                    }\n",
       "                }\n",
       "            }, 500);\n",
       "            "
      ],
      "text/plain": [
       "<IPython.core.display.Javascript object>"
      ]
     },
     "metadata": {},
     "output_type": "display_data"
    }
   ],
   "source": [
    "embedded_context[:3, :]"
   ]
  },
  {
   "cell_type": "code",
   "execution_count": null,
   "metadata": {},
   "outputs": [],
   "source": []
  },
  {
   "cell_type": "code",
   "execution_count": null,
   "metadata": {},
   "outputs": [],
   "source": [
    "embedded_context = self._embedding_net(context)\n",
    "noise, logabsdet = self._transform(inputs, context=embedded_context)\n",
    "log_prob = self._distribution.log_prob(noise, context=embedded_context)\n",
    "return log_prob + logabsdet\n"
   ]
  },
  {
   "cell_type": "code",
   "execution_count": null,
   "metadata": {},
   "outputs": [],
   "source": []
  },
  {
   "cell_type": "code",
   "execution_count": null,
   "metadata": {},
   "outputs": [],
   "source": []
  },
  {
   "cell_type": "code",
   "execution_count": null,
   "metadata": {},
   "outputs": [],
   "source": []
  },
  {
   "cell_type": "code",
   "execution_count": 25,
   "metadata": {},
   "outputs": [
    {
     "data": {
      "text/plain": [
       "Flow(\n",
       "  (_transform): CompositeTransform(\n",
       "    (_transforms): ModuleList(\n",
       "      (0): AffineTransform()\n",
       "      (1): CompositeTransform(\n",
       "        (_transforms): ModuleList(\n",
       "          (0): CompositeTransform(\n",
       "            (_transforms): ModuleList(\n",
       "              (0): MaskedAffineAutoregressiveTransform(\n",
       "                (autoregressive_net): MADE(\n",
       "                  (initial_layer): MaskedLinear(in_features=2, out_features=50, bias=True)\n",
       "                  (context_layer): Linear(in_features=32, out_features=50, bias=True)\n",
       "                  (blocks): ModuleList(\n",
       "                    (0): MaskedFeedforwardBlock(\n",
       "                      (batch_norm): BatchNorm1d(50, eps=0.001, momentum=0.1, affine=True, track_running_stats=True)\n",
       "                      (linear): MaskedLinear(in_features=50, out_features=50, bias=True)\n",
       "                      (dropout): Dropout(p=0.0, inplace=False)\n",
       "                    )\n",
       "                    (1): MaskedFeedforwardBlock(\n",
       "                      (batch_norm): BatchNorm1d(50, eps=0.001, momentum=0.1, affine=True, track_running_stats=True)\n",
       "                      (linear): MaskedLinear(in_features=50, out_features=50, bias=True)\n",
       "                      (dropout): Dropout(p=0.0, inplace=False)\n",
       "                    )\n",
       "                  )\n",
       "                  (final_layer): MaskedLinear(in_features=50, out_features=4, bias=True)\n",
       "                )\n",
       "              )\n",
       "              (1): RandomPermutation()\n",
       "            )\n",
       "          )\n",
       "          (1): CompositeTransform(\n",
       "            (_transforms): ModuleList(\n",
       "              (0): MaskedAffineAutoregressiveTransform(\n",
       "                (autoregressive_net): MADE(\n",
       "                  (initial_layer): MaskedLinear(in_features=2, out_features=50, bias=True)\n",
       "                  (context_layer): Linear(in_features=32, out_features=50, bias=True)\n",
       "                  (blocks): ModuleList(\n",
       "                    (0): MaskedFeedforwardBlock(\n",
       "                      (batch_norm): BatchNorm1d(50, eps=0.001, momentum=0.1, affine=True, track_running_stats=True)\n",
       "                      (linear): MaskedLinear(in_features=50, out_features=50, bias=True)\n",
       "                      (dropout): Dropout(p=0.0, inplace=False)\n",
       "                    )\n",
       "                    (1): MaskedFeedforwardBlock(\n",
       "                      (batch_norm): BatchNorm1d(50, eps=0.001, momentum=0.1, affine=True, track_running_stats=True)\n",
       "                      (linear): MaskedLinear(in_features=50, out_features=50, bias=True)\n",
       "                      (dropout): Dropout(p=0.0, inplace=False)\n",
       "                    )\n",
       "                  )\n",
       "                  (final_layer): MaskedLinear(in_features=50, out_features=4, bias=True)\n",
       "                )\n",
       "              )\n",
       "              (1): RandomPermutation()\n",
       "            )\n",
       "          )\n",
       "          (2): CompositeTransform(\n",
       "            (_transforms): ModuleList(\n",
       "              (0): MaskedAffineAutoregressiveTransform(\n",
       "                (autoregressive_net): MADE(\n",
       "                  (initial_layer): MaskedLinear(in_features=2, out_features=50, bias=True)\n",
       "                  (context_layer): Linear(in_features=32, out_features=50, bias=True)\n",
       "                  (blocks): ModuleList(\n",
       "                    (0): MaskedFeedforwardBlock(\n",
       "                      (batch_norm): BatchNorm1d(50, eps=0.001, momentum=0.1, affine=True, track_running_stats=True)\n",
       "                      (linear): MaskedLinear(in_features=50, out_features=50, bias=True)\n",
       "                      (dropout): Dropout(p=0.0, inplace=False)\n",
       "                    )\n",
       "                    (1): MaskedFeedforwardBlock(\n",
       "                      (batch_norm): BatchNorm1d(50, eps=0.001, momentum=0.1, affine=True, track_running_stats=True)\n",
       "                      (linear): MaskedLinear(in_features=50, out_features=50, bias=True)\n",
       "                      (dropout): Dropout(p=0.0, inplace=False)\n",
       "                    )\n",
       "                  )\n",
       "                  (final_layer): MaskedLinear(in_features=50, out_features=4, bias=True)\n",
       "                )\n",
       "              )\n",
       "              (1): RandomPermutation()\n",
       "            )\n",
       "          )\n",
       "          (3): CompositeTransform(\n",
       "            (_transforms): ModuleList(\n",
       "              (0): MaskedAffineAutoregressiveTransform(\n",
       "                (autoregressive_net): MADE(\n",
       "                  (initial_layer): MaskedLinear(in_features=2, out_features=50, bias=True)\n",
       "                  (context_layer): Linear(in_features=32, out_features=50, bias=True)\n",
       "                  (blocks): ModuleList(\n",
       "                    (0): MaskedFeedforwardBlock(\n",
       "                      (batch_norm): BatchNorm1d(50, eps=0.001, momentum=0.1, affine=True, track_running_stats=True)\n",
       "                      (linear): MaskedLinear(in_features=50, out_features=50, bias=True)\n",
       "                      (dropout): Dropout(p=0.0, inplace=False)\n",
       "                    )\n",
       "                    (1): MaskedFeedforwardBlock(\n",
       "                      (batch_norm): BatchNorm1d(50, eps=0.001, momentum=0.1, affine=True, track_running_stats=True)\n",
       "                      (linear): MaskedLinear(in_features=50, out_features=50, bias=True)\n",
       "                      (dropout): Dropout(p=0.0, inplace=False)\n",
       "                    )\n",
       "                  )\n",
       "                  (final_layer): MaskedLinear(in_features=50, out_features=4, bias=True)\n",
       "                )\n",
       "              )\n",
       "              (1): RandomPermutation()\n",
       "            )\n",
       "          )\n",
       "          (4): CompositeTransform(\n",
       "            (_transforms): ModuleList(\n",
       "              (0): MaskedAffineAutoregressiveTransform(\n",
       "                (autoregressive_net): MADE(\n",
       "                  (initial_layer): MaskedLinear(in_features=2, out_features=50, bias=True)\n",
       "                  (context_layer): Linear(in_features=32, out_features=50, bias=True)\n",
       "                  (blocks): ModuleList(\n",
       "                    (0): MaskedFeedforwardBlock(\n",
       "                      (batch_norm): BatchNorm1d(50, eps=0.001, momentum=0.1, affine=True, track_running_stats=True)\n",
       "                      (linear): MaskedLinear(in_features=50, out_features=50, bias=True)\n",
       "                      (dropout): Dropout(p=0.0, inplace=False)\n",
       "                    )\n",
       "                    (1): MaskedFeedforwardBlock(\n",
       "                      (batch_norm): BatchNorm1d(50, eps=0.001, momentum=0.1, affine=True, track_running_stats=True)\n",
       "                      (linear): MaskedLinear(in_features=50, out_features=50, bias=True)\n",
       "                      (dropout): Dropout(p=0.0, inplace=False)\n",
       "                    )\n",
       "                  )\n",
       "                  (final_layer): MaskedLinear(in_features=50, out_features=4, bias=True)\n",
       "                )\n",
       "              )\n",
       "              (1): RandomPermutation()\n",
       "            )\n",
       "          )\n",
       "        )\n",
       "      )\n",
       "    )\n",
       "  )\n",
       "  (_distribution): StandardNormal()\n",
       "  (_embedding_net): Sequential(\n",
       "    (0): Standardize()\n",
       "    (1): Sequential(\n",
       "      (0): Conv1d(5, 8, kernel_size=(5,), stride=(1,), padding=(4,))\n",
       "      (1): LeakyReLU(negative_slope=0.01)\n",
       "      (2): Conv1d(8, 8, kernel_size=(5,), stride=(1,), padding=(8,), dilation=(2,))\n",
       "      (3): LeakyReLU(negative_slope=0.01)\n",
       "      (4): Conv1d(8, 8, kernel_size=(5,), stride=(1,), padding=(16,), dilation=(4,))\n",
       "      (5): LeakyReLU(negative_slope=0.01)\n",
       "      (6): Conv1d(8, 8, kernel_size=(5,), stride=(1,), padding=(32,), dilation=(8,))\n",
       "      (7): LeakyReLU(negative_slope=0.01)\n",
       "      (8): MaxPool1d(kernel_size=5, stride=5, padding=0, dilation=1, ceil_mode=False)\n",
       "      (9): Flatten(start_dim=1, end_dim=-1)\n",
       "      (10): Linear(in_features=4896, out_features=128, bias=True)\n",
       "      (11): Linear(in_features=128, out_features=32, bias=True)\n",
       "    )\n",
       "  )\n",
       ")"
      ]
     },
     "execution_count": 25,
     "metadata": {},
     "output_type": "execute_result"
    },
    {
     "data": {
      "application/javascript": [
       "\n",
       "            setTimeout(function() {\n",
       "                var nbb_cell_id = 25;\n",
       "                var nbb_unformatted_code = \"inference._neural_net.to(device=\\\"cpu\\\")\";\n",
       "                var nbb_formatted_code = \"inference._neural_net.to(device=\\\"cpu\\\")\";\n",
       "                var nbb_cells = Jupyter.notebook.get_cells();\n",
       "                for (var i = 0; i < nbb_cells.length; ++i) {\n",
       "                    if (nbb_cells[i].input_prompt_number == nbb_cell_id) {\n",
       "                        if (nbb_cells[i].get_text() == nbb_unformatted_code) {\n",
       "                             nbb_cells[i].set_text(nbb_formatted_code);\n",
       "                        }\n",
       "                        break;\n",
       "                    }\n",
       "                }\n",
       "            }, 500);\n",
       "            "
      ],
      "text/plain": [
       "<IPython.core.display.Javascript object>"
      ]
     },
     "metadata": {},
     "output_type": "display_data"
    }
   ],
   "source": [
    "inference._neural_net.to(device=\"cpu\")"
   ]
  },
  {
   "cell_type": "code",
   "execution_count": 26,
   "metadata": {},
   "outputs": [
    {
     "data": {
      "application/javascript": [
       "\n",
       "            setTimeout(function() {\n",
       "                var nbb_cell_id = 26;\n",
       "                var nbb_unformatted_code = \"posterior = inference.build_posterior(density_estimator)\";\n",
       "                var nbb_formatted_code = \"posterior = inference.build_posterior(density_estimator)\";\n",
       "                var nbb_cells = Jupyter.notebook.get_cells();\n",
       "                for (var i = 0; i < nbb_cells.length; ++i) {\n",
       "                    if (nbb_cells[i].input_prompt_number == nbb_cell_id) {\n",
       "                        if (nbb_cells[i].get_text() == nbb_unformatted_code) {\n",
       "                             nbb_cells[i].set_text(nbb_formatted_code);\n",
       "                        }\n",
       "                        break;\n",
       "                    }\n",
       "                }\n",
       "            }, 500);\n",
       "            "
      ],
      "text/plain": [
       "<IPython.core.display.Javascript object>"
      ]
     },
     "metadata": {},
     "output_type": "display_data"
    }
   ],
   "source": [
    "posterior = inference.build_posterior(density_estimator)"
   ]
  },
  {
   "cell_type": "code",
   "execution_count": 32,
   "metadata": {},
   "outputs": [
    {
     "name": "stderr",
     "output_type": "stream",
     "text": [
      "/home/narendra/.local/lib/python3.7/site-packages/ipykernel_launcher.py:2: UserWarning: To copy construct from a tensor, it is recommended to use sourceTensor.clone().detach() or sourceTensor.clone().detach().requires_grad_(True), rather than torch.tensor(sourceTensor).\n",
      "  \n"
     ]
    },
    {
     "data": {
      "application/vnd.jupyter.widget-view+json": {
       "model_id": "921b76e8f9e84297806e29a225557b31",
       "version_major": 2,
       "version_minor": 0
      },
      "text/plain": [
       "HBox(children=(HTML(value='Drawing 10000 posterior samples'), FloatProgress(value=0.0, max=10000.0), HTML(valu…"
      ]
     },
     "metadata": {},
     "output_type": "display_data"
    },
    {
     "name": "stdout",
     "output_type": "stream",
     "text": [
      "\n"
     ]
    },
    {
     "name": "stderr",
     "output_type": "stream",
     "text": [
      "/home/narendra/.local/lib/python3.7/site-packages/ipykernel_launcher.py:5: UserWarning: To copy construct from a tensor, it is recommended to use sourceTensor.clone().detach() or sourceTensor.clone().detach().requires_grad_(True), rather than torch.tensor(sourceTensor).\n",
      "  \"\"\"\n"
     ]
    },
    {
     "data": {
      "application/vnd.jupyter.widget-view+json": {
       "model_id": "16989394201a4c5482ad04f1517e96ba",
       "version_major": 2,
       "version_minor": 0
      },
      "text/plain": [
       "HBox(children=(HTML(value='Drawing 10000 posterior samples'), FloatProgress(value=0.0, max=10000.0), HTML(valu…"
      ]
     },
     "metadata": {},
     "output_type": "display_data"
    },
    {
     "name": "stdout",
     "output_type": "stream",
     "text": [
      "\n"
     ]
    },
    {
     "name": "stderr",
     "output_type": "stream",
     "text": [
      "/home/narendra/.local/lib/python3.7/site-packages/ipykernel_launcher.py:8: UserWarning: To copy construct from a tensor, it is recommended to use sourceTensor.clone().detach() or sourceTensor.clone().detach().requires_grad_(True), rather than torch.tensor(sourceTensor).\n",
      "  \n"
     ]
    },
    {
     "data": {
      "application/vnd.jupyter.widget-view+json": {
       "model_id": "020fbd8503884f85a3d2c4b725076ec2",
       "version_major": 2,
       "version_minor": 0
      },
      "text/plain": [
       "HBox(children=(HTML(value='Drawing 10000 posterior samples'), FloatProgress(value=0.0, max=10000.0), HTML(valu…"
      ]
     },
     "metadata": {},
     "output_type": "display_data"
    },
    {
     "name": "stdout",
     "output_type": "stream",
     "text": [
      "\n"
     ]
    },
    {
     "data": {
      "application/javascript": [
       "\n",
       "            setTimeout(function() {\n",
       "                var nbb_cell_id = 32;\n",
       "                var nbb_unformatted_code = \"samples1 = posterior.sample(\\n    (10000,), x=torch.tensor(simulations[100, :, :][None, :, :]).type(torch.FloatTensor)\\n)\\nsamples2 = posterior.sample(\\n    (10000,), x=torch.tensor(simulations[200, :, :][None, :, :]).type(torch.FloatTensor)\\n)\\nsamples3 = posterior.sample(\\n    (10000,), x=torch.tensor(simulations[300, :, :][None, :, :]).type(torch.FloatTensor)\\n)\";\n",
       "                var nbb_formatted_code = \"samples1 = posterior.sample(\\n    (10000,), x=torch.tensor(simulations[100, :, :][None, :, :]).type(torch.FloatTensor)\\n)\\nsamples2 = posterior.sample(\\n    (10000,), x=torch.tensor(simulations[200, :, :][None, :, :]).type(torch.FloatTensor)\\n)\\nsamples3 = posterior.sample(\\n    (10000,), x=torch.tensor(simulations[300, :, :][None, :, :]).type(torch.FloatTensor)\\n)\";\n",
       "                var nbb_cells = Jupyter.notebook.get_cells();\n",
       "                for (var i = 0; i < nbb_cells.length; ++i) {\n",
       "                    if (nbb_cells[i].input_prompt_number == nbb_cell_id) {\n",
       "                        if (nbb_cells[i].get_text() == nbb_unformatted_code) {\n",
       "                             nbb_cells[i].set_text(nbb_formatted_code);\n",
       "                        }\n",
       "                        break;\n",
       "                    }\n",
       "                }\n",
       "            }, 500);\n",
       "            "
      ],
      "text/plain": [
       "<IPython.core.display.Javascript object>"
      ]
     },
     "metadata": {},
     "output_type": "display_data"
    }
   ],
   "source": [
    "samples1 = posterior.sample(\n",
    "    (10000,), x=torch.tensor(simulations[100, :, :][None, :, :]).type(torch.FloatTensor)\n",
    ")\n",
    "samples2 = posterior.sample(\n",
    "    (10000,), x=torch.tensor(simulations[200, :, :][None, :, :]).type(torch.FloatTensor)\n",
    ")\n",
    "samples3 = posterior.sample(\n",
    "    (10000,), x=torch.tensor(simulations[300, :, :][None, :, :]).type(torch.FloatTensor)\n",
    ")"
   ]
  },
  {
   "cell_type": "code",
   "execution_count": 33,
   "metadata": {},
   "outputs": [
    {
     "name": "stdout",
     "output_type": "stream",
     "text": [
      "tensor([3.2699, 1.7343])\n"
     ]
    },
    {
     "data": {
      "image/png": "[encoded data removed]",
      "text/plain": [
       "<Figure size 360x360 with 4 Axes>"
      ]
     },
     "metadata": {
      "needs_background": "light"
     },
     "output_type": "display_data"
    },
    {
     "data": {
      "application/javascript": [
       "\n",
       "            setTimeout(function() {\n",
       "                var nbb_cell_id = 33;\n",
       "                var nbb_unformatted_code = \"print(parameters[100, :])\\n_ = utils.pairplot(samples1, fig_size=(5, 5))\";\n",
       "                var nbb_formatted_code = \"print(parameters[100, :])\\n_ = utils.pairplot(samples1, fig_size=(5, 5))\";\n",
       "                var nbb_cells = Jupyter.notebook.get_cells();\n",
       "                for (var i = 0; i < nbb_cells.length; ++i) {\n",
       "                    if (nbb_cells[i].input_prompt_number == nbb_cell_id) {\n",
       "                        if (nbb_cells[i].get_text() == nbb_unformatted_code) {\n",
       "                             nbb_cells[i].set_text(nbb_formatted_code);\n",
       "                        }\n",
       "                        break;\n",
       "                    }\n",
       "                }\n",
       "            }, 500);\n",
       "            "
      ],
      "text/plain": [
       "<IPython.core.display.Javascript object>"
      ]
     },
     "metadata": {},
     "output_type": "display_data"
    }
   ],
   "source": [
    "print(parameters[100, :])\n",
    "_ = utils.pairplot(samples1, fig_size=(5, 5))"
   ]
  },
  {
   "cell_type": "code",
   "execution_count": 34,
   "metadata": {},
   "outputs": [
    {
     "name": "stdout",
     "output_type": "stream",
     "text": [
      "tensor([0.8032, 1.6031])\n"
     ]
    },
    {
     "data": {
      "image/png": "[encoded data removed]",
      "text/plain": [
       "<Figure size 360x360 with 4 Axes>"
      ]
     },
     "metadata": {
      "needs_background": "light"
     },
     "output_type": "display_data"
    },
    {
     "data": {
      "application/javascript": [
       "\n",
       "            setTimeout(function() {\n",
       "                var nbb_cell_id = 34;\n",
       "                var nbb_unformatted_code = \"print(parameters[200, :])\\n_ = utils.pairplot(samples2, fig_size=(5, 5))\";\n",
       "                var nbb_formatted_code = \"print(parameters[200, :])\\n_ = utils.pairplot(samples2, fig_size=(5, 5))\";\n",
       "                var nbb_cells = Jupyter.notebook.get_cells();\n",
       "                for (var i = 0; i < nbb_cells.length; ++i) {\n",
       "                    if (nbb_cells[i].input_prompt_number == nbb_cell_id) {\n",
       "                        if (nbb_cells[i].get_text() == nbb_unformatted_code) {\n",
       "                             nbb_cells[i].set_text(nbb_formatted_code);\n",
       "                        }\n",
       "                        break;\n",
       "                    }\n",
       "                }\n",
       "            }, 500);\n",
       "            "
      ],
      "text/plain": [
       "<IPython.core.display.Javascript object>"
      ]
     },
     "metadata": {},
     "output_type": "display_data"
    }
   ],
   "source": [
    "print(parameters[200, :])\n",
    "_ = utils.pairplot(samples2, fig_size=(5, 5))"
   ]
  },
  {
   "cell_type": "markdown",
   "metadata": {},
   "source": [
    "**The time series model is able to capture the bi-modal distribution here, which the histogram model wasn't able to capture at all (see next section). So, heavily U-shaped distributions weren't being diagnosed very well by the histogram based model**"
   ]
  },
  {
   "cell_type": "code",
   "execution_count": 35,
   "metadata": {},
   "outputs": [
    {
     "name": "stdout",
     "output_type": "stream",
     "text": [
      "tensor([3.0813, 0.8259])\n"
     ]
    },
    {
     "data": {
      "image/png": "[encoded data removed]",
      "text/plain": [
       "<Figure size 360x360 with 4 Axes>"
      ]
     },
     "metadata": {
      "needs_background": "light"
     },
     "output_type": "display_data"
    },
    {
     "data": {
      "application/javascript": [
       "\n",
       "            setTimeout(function() {\n",
       "                var nbb_cell_id = 35;\n",
       "                var nbb_unformatted_code = \"print(parameters[300, :])\\n_ = utils.pairplot(samples3, fig_size=(5, 5))\";\n",
       "                var nbb_formatted_code = \"print(parameters[300, :])\\n_ = utils.pairplot(samples3, fig_size=(5, 5))\";\n",
       "                var nbb_cells = Jupyter.notebook.get_cells();\n",
       "                for (var i = 0; i < nbb_cells.length; ++i) {\n",
       "                    if (nbb_cells[i].input_prompt_number == nbb_cell_id) {\n",
       "                        if (nbb_cells[i].get_text() == nbb_unformatted_code) {\n",
       "                             nbb_cells[i].set_text(nbb_formatted_code);\n",
       "                        }\n",
       "                        break;\n",
       "                    }\n",
       "                }\n",
       "            }, 500);\n",
       "            "
      ],
      "text/plain": [
       "<IPython.core.display.Javascript object>"
      ]
     },
     "metadata": {},
     "output_type": "display_data"
    }
   ],
   "source": [
    "print(parameters[300, :])\n",
    "_ = utils.pairplot(samples3, fig_size=(5, 5))"
   ]
  },
  {
   "cell_type": "code",
   "execution_count": 126,
   "metadata": {},
   "outputs": [
    {
     "data": {
      "application/javascript": [
       "\n",
       "            setTimeout(function() {\n",
       "                var nbb_cell_id = 126;\n",
       "                var nbb_unformatted_code = \"a = torch.rand((10, 4))\\nb = [torch.rand((np.random.randint(2, 25), 5)) for i in range(10)]\\nc = torch.rand((10, 8))\";\n",
       "                var nbb_formatted_code = \"a = torch.rand((10, 4))\\nb = [torch.rand((np.random.randint(2, 25), 5)) for i in range(10)]\\nc = torch.rand((10, 8))\";\n",
       "                var nbb_cells = Jupyter.notebook.get_cells();\n",
       "                for (var i = 0; i < nbb_cells.length; ++i) {\n",
       "                    if (nbb_cells[i].input_prompt_number == nbb_cell_id) {\n",
       "                        if (nbb_cells[i].get_text() == nbb_unformatted_code) {\n",
       "                             nbb_cells[i].set_text(nbb_formatted_code);\n",
       "                        }\n",
       "                        break;\n",
       "                    }\n",
       "                }\n",
       "            }, 500);\n",
       "            "
      ],
      "text/plain": [
       "<IPython.core.display.Javascript object>"
      ]
     },
     "metadata": {},
     "output_type": "display_data"
    }
   ],
   "source": [
    "a = torch.rand((10, 4))\n",
    "b = [torch.rand((np.random.randint(2, 25), 5)) for i in range(10)]\n",
    "c = torch.rand((10, 8))"
   ]
  },
  {
   "cell_type": "code",
   "execution_count": 134,
   "metadata": {},
   "outputs": [
    {
     "data": {
      "application/javascript": [
       "\n",
       "            setTimeout(function() {\n",
       "                var nbb_cell_id = 134;\n",
       "                var nbb_unformatted_code = \"dataset = SbiDataset(\\n    a,\\n    b,\\n    c,\\n)\";\n",
       "                var nbb_formatted_code = \"dataset = SbiDataset(\\n    a,\\n    b,\\n    c,\\n)\";\n",
       "                var nbb_cells = Jupyter.notebook.get_cells();\n",
       "                for (var i = 0; i < nbb_cells.length; ++i) {\n",
       "                    if (nbb_cells[i].input_prompt_number == nbb_cell_id) {\n",
       "                        if (nbb_cells[i].get_text() == nbb_unformatted_code) {\n",
       "                             nbb_cells[i].set_text(nbb_formatted_code);\n",
       "                        }\n",
       "                        break;\n",
       "                    }\n",
       "                }\n",
       "            }, 500);\n",
       "            "
      ],
      "text/plain": [
       "<IPython.core.display.Javascript object>"
      ]
     },
     "metadata": {},
     "output_type": "display_data"
    }
   ],
   "source": [
    "dataset = SbiDataset(\n",
    "    a,\n",
    "    b,\n",
    "    c,\n",
    ")"
   ]
  },
  {
   "cell_type": "code",
   "execution_count": 135,
   "metadata": {},
   "outputs": [
    {
     "data": {
      "text/plain": [
       "<__main__.SbiDataset at 0x7ff79fcdda90>"
      ]
     },
     "execution_count": 135,
     "metadata": {},
     "output_type": "execute_result"
    },
    {
     "data": {
      "application/javascript": [
       "\n",
       "            setTimeout(function() {\n",
       "                var nbb_cell_id = 135;\n",
       "                var nbb_unformatted_code = \"dataset\";\n",
       "                var nbb_formatted_code = \"dataset\";\n",
       "                var nbb_cells = Jupyter.notebook.get_cells();\n",
       "                for (var i = 0; i < nbb_cells.length; ++i) {\n",
       "                    if (nbb_cells[i].input_prompt_number == nbb_cell_id) {\n",
       "                        if (nbb_cells[i].get_text() == nbb_unformatted_code) {\n",
       "                             nbb_cells[i].set_text(nbb_formatted_code);\n",
       "                        }\n",
       "                        break;\n",
       "                    }\n",
       "                }\n",
       "            }, 500);\n",
       "            "
      ],
      "text/plain": [
       "<IPython.core.display.Javascript object>"
      ]
     },
     "metadata": {},
     "output_type": "display_data"
    }
   ],
   "source": [
    "dataset"
   ]
  },
  {
   "cell_type": "code",
   "execution_count": 136,
   "metadata": {},
   "outputs": [
    {
     "data": {
      "application/javascript": [
       "\n",
       "            setTimeout(function() {\n",
       "                var nbb_cell_id = 136;\n",
       "                var nbb_unformatted_code = \"num_total_examples = len(a)\\npermuted_indices = torch.randperm(num_total_examples)\\nnum_training_examples = int((1 - 0.2) * num_total_examples)\\nnum_validation_examples = num_total_examples - num_training_examples\\ntrain_indices, val_indices = (\\n    permuted_indices[:num_training_examples],\\n    permuted_indices[num_training_examples:],\\n)\";\n",
       "                var nbb_formatted_code = \"num_total_examples = len(a)\\npermuted_indices = torch.randperm(num_total_examples)\\nnum_training_examples = int((1 - 0.2) * num_total_examples)\\nnum_validation_examples = num_total_examples - num_training_examples\\ntrain_indices, val_indices = (\\n    permuted_indices[:num_training_examples],\\n    permuted_indices[num_training_examples:],\\n)\";\n",
       "                var nbb_cells = Jupyter.notebook.get_cells();\n",
       "                for (var i = 0; i < nbb_cells.length; ++i) {\n",
       "                    if (nbb_cells[i].input_prompt_number == nbb_cell_id) {\n",
       "                        if (nbb_cells[i].get_text() == nbb_unformatted_code) {\n",
       "                             nbb_cells[i].set_text(nbb_formatted_code);\n",
       "                        }\n",
       "                        break;\n",
       "                    }\n",
       "                }\n",
       "            }, 500);\n",
       "            "
      ],
      "text/plain": [
       "<IPython.core.display.Javascript object>"
      ]
     },
     "metadata": {},
     "output_type": "display_data"
    }
   ],
   "source": [
    "num_total_examples = len(a)\n",
    "permuted_indices = torch.randperm(num_total_examples)\n",
    "num_training_examples = int((1 - 0.2) * num_total_examples)\n",
    "num_validation_examples = num_total_examples - num_training_examples\n",
    "train_indices, val_indices = (\n",
    "    permuted_indices[:num_training_examples],\n",
    "    permuted_indices[num_training_examples:],\n",
    ")"
   ]
  },
  {
   "cell_type": "code",
   "execution_count": 137,
   "metadata": {},
   "outputs": [
    {
     "data": {
      "text/plain": [
       "(torch.Size([8]), torch.Size([2]))"
      ]
     },
     "execution_count": 137,
     "metadata": {},
     "output_type": "execute_result"
    },
    {
     "data": {
      "application/javascript": [
       "\n",
       "            setTimeout(function() {\n",
       "                var nbb_cell_id = 137;\n",
       "                var nbb_unformatted_code = \"train_indices.shape, val_indices.shape\";\n",
       "                var nbb_formatted_code = \"train_indices.shape, val_indices.shape\";\n",
       "                var nbb_cells = Jupyter.notebook.get_cells();\n",
       "                for (var i = 0; i < nbb_cells.length; ++i) {\n",
       "                    if (nbb_cells[i].input_prompt_number == nbb_cell_id) {\n",
       "                        if (nbb_cells[i].get_text() == nbb_unformatted_code) {\n",
       "                             nbb_cells[i].set_text(nbb_formatted_code);\n",
       "                        }\n",
       "                        break;\n",
       "                    }\n",
       "                }\n",
       "            }, 500);\n",
       "            "
      ],
      "text/plain": [
       "<IPython.core.display.Javascript object>"
      ]
     },
     "metadata": {},
     "output_type": "display_data"
    }
   ],
   "source": [
    "train_indices.shape, val_indices.shape"
   ]
  },
  {
   "cell_type": "code",
   "execution_count": 138,
   "metadata": {},
   "outputs": [
    {
     "data": {
      "application/javascript": [
       "\n",
       "            setTimeout(function() {\n",
       "                var nbb_cell_id = 138;\n",
       "                var nbb_unformatted_code = \"train_loader = data.DataLoader(\\n    dataset,\\n    batch_size=3,\\n    drop_last=True,\\n    sampler=data.SubsetRandomSampler(train_indices),\\n    collate_fn=pad_collate,\\n)\";\n",
       "                var nbb_formatted_code = \"train_loader = data.DataLoader(\\n    dataset,\\n    batch_size=3,\\n    drop_last=True,\\n    sampler=data.SubsetRandomSampler(train_indices),\\n    collate_fn=pad_collate,\\n)\";\n",
       "                var nbb_cells = Jupyter.notebook.get_cells();\n",
       "                for (var i = 0; i < nbb_cells.length; ++i) {\n",
       "                    if (nbb_cells[i].input_prompt_number == nbb_cell_id) {\n",
       "                        if (nbb_cells[i].get_text() == nbb_unformatted_code) {\n",
       "                             nbb_cells[i].set_text(nbb_formatted_code);\n",
       "                        }\n",
       "                        break;\n",
       "                    }\n",
       "                }\n",
       "            }, 500);\n",
       "            "
      ],
      "text/plain": [
       "<IPython.core.display.Javascript object>"
      ]
     },
     "metadata": {},
     "output_type": "display_data"
    }
   ],
   "source": [
    "train_loader = data.DataLoader(\n",
    "    dataset,\n",
    "    batch_size=3,\n",
    "    drop_last=True,\n",
    "    sampler=data.SubsetRandomSampler(train_indices),\n",
    "    collate_fn=pad_collate,\n",
    ")"
   ]
  },
  {
   "cell_type": "code",
   "execution_count": 118,
   "metadata": {},
   "outputs": [
    {
     "data": {
      "application/javascript": [
       "\n",
       "            setTimeout(function() {\n",
       "                var nbb_cell_id = 118;\n",
       "                var nbb_unformatted_code = \"val_loader = data.DataLoader(\\n    dataset,\\n    batch_size=1,\\n    drop_last=True,\\n    sampler=data.SubsetRandomSampler(val_indices),\\n)\";\n",
       "                var nbb_formatted_code = \"val_loader = data.DataLoader(\\n    dataset,\\n    batch_size=1,\\n    drop_last=True,\\n    sampler=data.SubsetRandomSampler(val_indices),\\n)\";\n",
       "                var nbb_cells = Jupyter.notebook.get_cells();\n",
       "                for (var i = 0; i < nbb_cells.length; ++i) {\n",
       "                    if (nbb_cells[i].input_prompt_number == nbb_cell_id) {\n",
       "                        if (nbb_cells[i].get_text() == nbb_unformatted_code) {\n",
       "                             nbb_cells[i].set_text(nbb_formatted_code);\n",
       "                        }\n",
       "                        break;\n",
       "                    }\n",
       "                }\n",
       "            }, 500);\n",
       "            "
      ],
      "text/plain": [
       "<IPython.core.display.Javascript object>"
      ]
     },
     "metadata": {},
     "output_type": "display_data"
    }
   ],
   "source": [
    "val_loader = data.DataLoader(\n",
    "    dataset,\n",
    "    batch_size=1,\n",
    "    drop_last=True,\n",
    "    sampler=data.SubsetRandomSampler(val_indices),\n",
    ")"
   ]
  },
  {
   "cell_type": "code",
   "execution_count": 139,
   "metadata": {},
   "outputs": [
    {
     "name": "stdout",
     "output_type": "stream",
     "text": [
      "((tensor([0.0938, 0.2266, 0.5865, 0.0844]), tensor([0.6467, 0.3087, 0.4649, 0.9545]), tensor([0.4500, 0.7960, 0.2956, 0.9495])), tensor([[[0.2255, 0.3298, 0.6563, 0.5343, 0.3766, 0.3344, 0.2329, 0.3316,\n",
      "          0.2487, 0.2490, 0.3193, 0.2103, 0.1466],\n",
      "         [0.4529, 0.3691, 0.0236, 0.9328, 0.4257, 0.0886, 0.9011, 0.5593,\n",
      "          0.6986, 0.4687, 0.4945, 0.0837, 0.2472],\n",
      "         [0.5774, 0.5915, 0.1212, 0.2699, 0.1313, 0.3425, 0.4248, 0.8032,\n",
      "          0.9498, 0.2343, 0.0633, 0.3433, 0.3722],\n",
      "         [0.5073, 0.3947, 0.8633, 0.2476, 0.0686, 0.1055, 0.3620, 0.3604,\n",
      "          0.8582, 0.0306, 0.8948, 0.7048, 0.7239],\n",
      "         [0.3927, 0.3932, 0.5278, 0.9778, 0.5840, 0.0418, 0.9231, 0.2934,\n",
      "          0.1010, 0.8491, 0.4362, 0.9943, 0.3718]],\n",
      "\n",
      "        [[0.3574, 0.3402, 0.5825, 0.9969, 0.9969, 0.9969, 0.9969, 0.9969,\n",
      "          0.9969, 0.9969, 0.9969, 0.9969, 0.9969],\n",
      "         [0.8613, 0.3894, 0.5489, 0.8201, 0.8201, 0.8201, 0.8201, 0.8201,\n",
      "          0.8201, 0.8201, 0.8201, 0.8201, 0.8201],\n",
      "         [0.4282, 0.8622, 0.2736, 0.1108, 0.1108, 0.1108, 0.1108, 0.1108,\n",
      "          0.1108, 0.1108, 0.1108, 0.1108, 0.1108],\n",
      "         [0.7637, 0.9026, 0.6068, 0.0344, 0.0344, 0.0344, 0.0344, 0.0344,\n",
      "          0.0344, 0.0344, 0.0344, 0.0344, 0.0344],\n",
      "         [0.5270, 0.8398, 0.7336, 0.8131, 0.8131, 0.8131, 0.8131, 0.8131,\n",
      "          0.8131, 0.8131, 0.8131, 0.8131, 0.8131]],\n",
      "\n",
      "        [[0.2835, 0.3671, 0.3804, 0.9739, 0.6005, 0.8104, 0.1734, 0.5123,\n",
      "          0.5123, 0.5123, 0.5123, 0.5123, 0.5123],\n",
      "         [0.7954, 0.8705, 0.9041, 0.3556, 0.9441, 0.1240, 0.8112, 0.0729,\n",
      "          0.0729, 0.0729, 0.0729, 0.0729, 0.0729],\n",
      "         [0.8103, 0.8813, 0.2654, 0.4395, 0.4074, 0.0202, 0.6270, 0.2360,\n",
      "          0.2360, 0.2360, 0.2360, 0.2360, 0.2360],\n",
      "         [0.2248, 0.9245, 0.0137, 0.7974, 0.3761, 0.5526, 0.9088, 0.9844,\n",
      "          0.9844, 0.9844, 0.9844, 0.9844, 0.9844],\n",
      "         [0.2337, 0.5803, 0.1252, 0.9781, 0.7921, 0.8253, 0.8194, 0.5876,\n",
      "          0.5876, 0.5876, 0.5876, 0.5876, 0.5876]]]), (tensor([0.7194, 0.3055, 0.8835, 0.0562, 0.9826, 0.9658, 0.1086, 0.2718]), tensor([0.5930, 0.3240, 0.5921, 0.9466, 0.9959, 0.0091, 0.4722, 0.6534]), tensor([0.6222, 0.9836, 0.5412, 0.8591, 0.6507, 0.6454, 0.0692, 0.7130])))\n",
      "((tensor([0.0500, 0.0321, 0.2051, 0.1753]), tensor([0.2422, 0.7778, 0.7086, 0.5269]), tensor([0.3505, 0.4194, 0.4076, 0.0388])), tensor([[[0.6867, 0.7470, 0.5506, 0.5862, 0.5862, 0.5862, 0.5862, 0.5862,\n",
      "          0.5862, 0.5862, 0.5862, 0.5862, 0.5862, 0.5862, 0.5862, 0.5862,\n",
      "          0.5862, 0.5862],\n",
      "         [0.1264, 0.0179, 0.8213, 0.7431, 0.7431, 0.7431, 0.7431, 0.7431,\n",
      "          0.7431, 0.7431, 0.7431, 0.7431, 0.7431, 0.7431, 0.7431, 0.7431,\n",
      "          0.7431, 0.7431],\n",
      "         [0.3548, 0.9307, 0.4523, 0.8159, 0.8159, 0.8159, 0.8159, 0.8159,\n",
      "          0.8159, 0.8159, 0.8159, 0.8159, 0.8159, 0.8159, 0.8159, 0.8159,\n",
      "          0.8159, 0.8159],\n",
      "         [0.2871, 0.6383, 0.9839, 0.1674, 0.1674, 0.1674, 0.1674, 0.1674,\n",
      "          0.1674, 0.1674, 0.1674, 0.1674, 0.1674, 0.1674, 0.1674, 0.1674,\n",
      "          0.1674, 0.1674],\n",
      "         [0.9213, 0.0280, 0.1740, 0.5185, 0.5185, 0.5185, 0.5185, 0.5185,\n",
      "          0.5185, 0.5185, 0.5185, 0.5185, 0.5185, 0.5185, 0.5185, 0.5185,\n",
      "          0.5185, 0.5185]],\n",
      "\n",
      "        [[0.6655, 0.4568, 0.8572, 0.0102, 0.0102, 0.0102, 0.0102, 0.0102,\n",
      "          0.0102, 0.0102, 0.0102, 0.0102, 0.0102, 0.0102, 0.0102, 0.0102,\n",
      "          0.0102, 0.0102],\n",
      "         [0.6709, 0.3418, 0.1759, 0.1782, 0.1782, 0.1782, 0.1782, 0.1782,\n",
      "          0.1782, 0.1782, 0.1782, 0.1782, 0.1782, 0.1782, 0.1782, 0.1782,\n",
      "          0.1782, 0.1782],\n",
      "         [0.4744, 0.6827, 0.3044, 0.4968, 0.4968, 0.4968, 0.4968, 0.4968,\n",
      "          0.4968, 0.4968, 0.4968, 0.4968, 0.4968, 0.4968, 0.4968, 0.4968,\n",
      "          0.4968, 0.4968],\n",
      "         [0.0951, 0.4358, 0.1828, 0.0899, 0.0899, 0.0899, 0.0899, 0.0899,\n",
      "          0.0899, 0.0899, 0.0899, 0.0899, 0.0899, 0.0899, 0.0899, 0.0899,\n",
      "          0.0899, 0.0899],\n",
      "         [0.2906, 0.7291, 0.4397, 0.6892, 0.6892, 0.6892, 0.6892, 0.6892,\n",
      "          0.6892, 0.6892, 0.6892, 0.6892, 0.6892, 0.6892, 0.6892, 0.6892,\n",
      "          0.6892, 0.6892]],\n",
      "\n",
      "        [[0.6741, 0.1525, 0.1527, 0.1497, 0.7811, 0.9711, 0.8608, 0.5410,\n",
      "          0.3119, 0.3983, 0.7591, 0.4122, 0.3176, 0.3244, 0.6016, 0.0725,\n",
      "          0.3333, 0.5327],\n",
      "         [0.2007, 0.2383, 0.7372, 0.4555, 0.9124, 0.6809, 0.2557, 0.1285,\n",
      "          0.6496, 0.4809, 0.6394, 0.3439, 0.4052, 0.7202, 0.0859, 0.3294,\n",
      "          0.8066, 0.9768],\n",
      "         [0.4292, 0.4725, 0.1108, 0.2408, 0.2204, 0.0556, 0.6075, 0.4387,\n",
      "          0.0333, 0.4016, 0.2365, 0.5402, 0.0957, 0.7848, 0.8583, 0.3472,\n",
      "          0.9515, 0.3744],\n",
      "         [0.7658, 0.9571, 0.7645, 0.6780, 0.4609, 0.1601, 0.1317, 0.7957,\n",
      "          0.5785, 0.8338, 0.5369, 0.2630, 0.3283, 0.0341, 0.7666, 0.5929,\n",
      "          0.6519, 0.8127],\n",
      "         [0.5431, 0.2407, 0.5721, 0.7498, 0.9206, 0.6776, 0.0736, 0.4280,\n",
      "          0.7136, 0.4156, 0.3062, 0.7466, 0.7049, 0.5360, 0.0802, 0.6387,\n",
      "          0.0515, 0.1991]]]), (tensor([0.4172, 0.8979, 0.3551, 0.4617, 0.1224, 0.3398, 0.6707, 0.9605]), tensor([0.7391, 0.8059, 0.8668, 0.0390, 0.8826, 0.6137, 0.2765, 0.9229]), tensor([0.6152, 0.9511, 0.4704, 0.2855, 0.1914, 0.5392, 0.7692, 0.9179])))\n"
     ]
    },
    {
     "data": {
      "application/javascript": [
       "\n",
       "            setTimeout(function() {\n",
       "                var nbb_cell_id = 139;\n",
       "                var nbb_unformatted_code = \"for batch in train_loader:\\n    print(batch)\";\n",
       "                var nbb_formatted_code = \"for batch in train_loader:\\n    print(batch)\";\n",
       "                var nbb_cells = Jupyter.notebook.get_cells();\n",
       "                for (var i = 0; i < nbb_cells.length; ++i) {\n",
       "                    if (nbb_cells[i].input_prompt_number == nbb_cell_id) {\n",
       "                        if (nbb_cells[i].get_text() == nbb_unformatted_code) {\n",
       "                             nbb_cells[i].set_text(nbb_formatted_code);\n",
       "                        }\n",
       "                        break;\n",
       "                    }\n",
       "                }\n",
       "            }, 500);\n",
       "            "
      ],
      "text/plain": [
       "<IPython.core.display.Javascript object>"
      ]
     },
     "metadata": {},
     "output_type": "display_data"
    }
   ],
   "source": [
    "for batch in train_loader:\n",
    "    print(batch)"
   ]
  },
  {
   "cell_type": "code",
   "execution_count": 140,
   "metadata": {},
   "outputs": [
    {
     "data": {
      "text/plain": [
       "torch.Size([3, 5, 18])"
      ]
     },
     "execution_count": 140,
     "metadata": {},
     "output_type": "execute_result"
    },
    {
     "data": {
      "application/javascript": [
       "\n",
       "            setTimeout(function() {\n",
       "                var nbb_cell_id = 140;\n",
       "                var nbb_unformatted_code = \"batch[1].size()\";\n",
       "                var nbb_formatted_code = \"batch[1].size()\";\n",
       "                var nbb_cells = Jupyter.notebook.get_cells();\n",
       "                for (var i = 0; i < nbb_cells.length; ++i) {\n",
       "                    if (nbb_cells[i].input_prompt_number == nbb_cell_id) {\n",
       "                        if (nbb_cells[i].get_text() == nbb_unformatted_code) {\n",
       "                             nbb_cells[i].set_text(nbb_formatted_code);\n",
       "                        }\n",
       "                        break;\n",
       "                    }\n",
       "                }\n",
       "            }, 500);\n",
       "            "
      ],
      "text/plain": [
       "<IPython.core.display.Javascript object>"
      ]
     },
     "metadata": {},
     "output_type": "display_data"
    }
   ],
   "source": [
    "batch[1].size()"
   ]
  },
  {
   "cell_type": "code",
   "execution_count": 101,
   "metadata": {},
   "outputs": [
    {
     "data": {
      "text/plain": [
       "tensor([2, 5, 7, 6, 0, 9, 1, 8])"
      ]
     },
     "execution_count": 101,
     "metadata": {},
     "output_type": "execute_result"
    },
    {
     "data": {
      "application/javascript": [
       "\n",
       "            setTimeout(function() {\n",
       "                var nbb_cell_id = 101;\n",
       "                var nbb_unformatted_code = \"train_indices\";\n",
       "                var nbb_formatted_code = \"train_indices\";\n",
       "                var nbb_cells = Jupyter.notebook.get_cells();\n",
       "                for (var i = 0; i < nbb_cells.length; ++i) {\n",
       "                    if (nbb_cells[i].input_prompt_number == nbb_cell_id) {\n",
       "                        if (nbb_cells[i].get_text() == nbb_unformatted_code) {\n",
       "                             nbb_cells[i].set_text(nbb_formatted_code);\n",
       "                        }\n",
       "                        break;\n",
       "                    }\n",
       "                }\n",
       "            }, 500);\n",
       "            "
      ],
      "text/plain": [
       "<IPython.core.display.Javascript object>"
      ]
     },
     "metadata": {},
     "output_type": "display_data"
    }
   ],
   "source": [
    "train_indices"
   ]
  },
  {
   "cell_type": "code",
   "execution_count": 141,
   "metadata": {},
   "outputs": [
    {
     "data": {
      "application/javascript": [
       "\n",
       "            setTimeout(function() {\n",
       "                var nbb_cell_id = 141;\n",
       "                var nbb_unformatted_code = \"test = embedding_net(batch[1])\";\n",
       "                var nbb_formatted_code = \"test = embedding_net(batch[1])\";\n",
       "                var nbb_cells = Jupyter.notebook.get_cells();\n",
       "                for (var i = 0; i < nbb_cells.length; ++i) {\n",
       "                    if (nbb_cells[i].input_prompt_number == nbb_cell_id) {\n",
       "                        if (nbb_cells[i].get_text() == nbb_unformatted_code) {\n",
       "                             nbb_cells[i].set_text(nbb_formatted_code);\n",
       "                        }\n",
       "                        break;\n",
       "                    }\n",
       "                }\n",
       "            }, 500);\n",
       "            "
      ],
      "text/plain": [
       "<IPython.core.display.Javascript object>"
      ]
     },
     "metadata": {},
     "output_type": "display_data"
    }
   ],
   "source": [
    "test = embedding_net(batch[1])"
   ]
  },
  {
   "cell_type": "code",
   "execution_count": 143,
   "metadata": {},
   "outputs": [
    {
     "data": {
      "text/plain": [
       "torch.Size([3, 32])"
      ]
     },
     "execution_count": 143,
     "metadata": {},
     "output_type": "execute_result"
    },
    {
     "data": {
      "application/javascript": [
       "\n",
       "            setTimeout(function() {\n",
       "                var nbb_cell_id = 143;\n",
       "                var nbb_unformatted_code = \"test.size()\";\n",
       "                var nbb_formatted_code = \"test.size()\";\n",
       "                var nbb_cells = Jupyter.notebook.get_cells();\n",
       "                for (var i = 0; i < nbb_cells.length; ++i) {\n",
       "                    if (nbb_cells[i].input_prompt_number == nbb_cell_id) {\n",
       "                        if (nbb_cells[i].get_text() == nbb_unformatted_code) {\n",
       "                             nbb_cells[i].set_text(nbb_formatted_code);\n",
       "                        }\n",
       "                        break;\n",
       "                    }\n",
       "                }\n",
       "            }, 500);\n",
       "            "
      ],
      "text/plain": [
       "<IPython.core.display.Javascript object>"
      ]
     },
     "metadata": {},
     "output_type": "display_data"
    }
   ],
   "source": [
    "test.size()"
   ]
  },
  {
   "cell_type": "code",
   "execution_count": 40,
   "metadata": {},
   "outputs": [
    {
     "data": {
      "text/plain": [
       "tensor([[0.1474, 0.5095, 0.7636, 0.5653],\n",
       "        [0.1474, 0.5095, 0.7636, 0.5653],\n",
       "        [0.1474, 0.5095, 0.7636, 0.5653],\n",
       "        [0.1474, 0.5095, 0.7636, 0.5653],\n",
       "        [0.1474, 0.5095, 0.7636, 0.5653]])"
      ]
     },
     "execution_count": 40,
     "metadata": {},
     "output_type": "execute_result"
    },
    {
     "data": {
      "application/javascript": [
       "\n",
       "            setTimeout(function() {\n",
       "                var nbb_cell_id = 40;\n",
       "                var nbb_unformatted_code = \"batch[0].data[-1, :].repeat((5, 1))\";\n",
       "                var nbb_formatted_code = \"batch[0].data[-1, :].repeat((5, 1))\";\n",
       "                var nbb_cells = Jupyter.notebook.get_cells();\n",
       "                for (var i = 0; i < nbb_cells.length; ++i) {\n",
       "                    if (nbb_cells[i].input_prompt_number == nbb_cell_id) {\n",
       "                        if (nbb_cells[i].get_text() == nbb_unformatted_code) {\n",
       "                             nbb_cells[i].set_text(nbb_formatted_code);\n",
       "                        }\n",
       "                        break;\n",
       "                    }\n",
       "                }\n",
       "            }, 500);\n",
       "            "
      ],
      "text/plain": [
       "<IPython.core.display.Javascript object>"
      ]
     },
     "metadata": {},
     "output_type": "display_data"
    }
   ],
   "source": [
    "batch[0].data[-1, :].repeat((5, 1))"
   ]
  },
  {
   "cell_type": "code",
   "execution_count": 39,
   "metadata": {},
   "outputs": [
    {
     "data": {
      "text/plain": [
       "tensor([[0.9683, 0.9324, 0.2058, 0.3007],\n",
       "        [0.2246, 0.4083, 0.1650, 0.4630],\n",
       "        [0.1474, 0.5095, 0.7636, 0.5653]])"
      ]
     },
     "execution_count": 39,
     "metadata": {},
     "output_type": "execute_result"
    },
    {
     "data": {
      "application/javascript": [
       "\n",
       "            setTimeout(function() {\n",
       "                var nbb_cell_id = 39;\n",
       "                var nbb_unformatted_code = \"batch[0]\";\n",
       "                var nbb_formatted_code = \"batch[0]\";\n",
       "                var nbb_cells = Jupyter.notebook.get_cells();\n",
       "                for (var i = 0; i < nbb_cells.length; ++i) {\n",
       "                    if (nbb_cells[i].input_prompt_number == nbb_cell_id) {\n",
       "                        if (nbb_cells[i].get_text() == nbb_unformatted_code) {\n",
       "                             nbb_cells[i].set_text(nbb_formatted_code);\n",
       "                        }\n",
       "                        break;\n",
       "                    }\n",
       "                }\n",
       "            }, 500);\n",
       "            "
      ],
      "text/plain": [
       "<IPython.core.display.Javascript object>"
      ]
     },
     "metadata": {},
     "output_type": "display_data"
    }
   ],
   "source": [
    "batch[0]"
   ]
  },
  {
   "cell_type": "code",
   "execution_count": 18,
   "metadata": {},
   "outputs": [
    {
     "data": {
      "text/plain": [
       "(1060, 5)"
      ]
     },
     "execution_count": 18,
     "metadata": {},
     "output_type": "execute_result"
    },
    {
     "data": {
      "application/javascript": [
       "\n",
       "            setTimeout(function() {\n",
       "                var nbb_cell_id = 18;\n",
       "                var nbb_unformatted_code = \"simulator.simulations[0].shape\";\n",
       "                var nbb_formatted_code = \"simulator.simulations[0].shape\";\n",
       "                var nbb_cells = Jupyter.notebook.get_cells();\n",
       "                for (var i = 0; i < nbb_cells.length; ++i) {\n",
       "                    if (nbb_cells[i].input_prompt_number == nbb_cell_id) {\n",
       "                        if (nbb_cells[i].get_text() == nbb_unformatted_code) {\n",
       "                             nbb_cells[i].set_text(nbb_formatted_code);\n",
       "                        }\n",
       "                        break;\n",
       "                    }\n",
       "                }\n",
       "            }, 500);\n",
       "            "
      ],
      "text/plain": [
       "<IPython.core.display.Javascript object>"
      ]
     },
     "metadata": {},
     "output_type": "display_data"
    }
   ],
   "source": [
    "simulator.simulations[0].shape"
   ]
  },
  {
   "cell_type": "code",
   "execution_count": 76,
   "metadata": {},
   "outputs": [
    {
     "data": {
      "application/javascript": [
       "\n",
       "            setTimeout(function() {\n",
       "                var nbb_cell_id = 76;\n",
       "                var nbb_unformatted_code = \"# 2 parameters, positive and negative rho\\nprior = utils.BoxUniform(\\n    low=torch.tensor([0.0, 0.0]).type(torch.FloatTensor),\\n    high=torch.tensor([4.0, 4.0]).type(torch.FloatTensor),\\n)\";\n",
       "                var nbb_formatted_code = \"# 2 parameters, positive and negative rho\\nprior = utils.BoxUniform(\\n    low=torch.tensor([0.0, 0.0]).type(torch.FloatTensor),\\n    high=torch.tensor([4.0, 4.0]).type(torch.FloatTensor),\\n)\";\n",
       "                var nbb_cells = Jupyter.notebook.get_cells();\n",
       "                for (var i = 0; i < nbb_cells.length; ++i) {\n",
       "                    if (nbb_cells[i].input_prompt_number == nbb_cell_id) {\n",
       "                        if (nbb_cells[i].get_text() == nbb_unformatted_code) {\n",
       "                             nbb_cells[i].set_text(nbb_formatted_code);\n",
       "                        }\n",
       "                        break;\n",
       "                    }\n",
       "                }\n",
       "            }, 500);\n",
       "            "
      ],
      "text/plain": [
       "<IPython.core.display.Javascript object>"
      ]
     },
     "metadata": {},
     "output_type": "display_data"
    }
   ],
   "source": [
    "# 2 parameters, positive and negative rho\n",
    "prior = utils.BoxUniform(\n",
    "    low=torch.tensor([0.0, 0.0]).type(torch.FloatTensor),\n",
    "    high=torch.tensor([4.0, 4.0]).type(torch.FloatTensor),\n",
    ")"
   ]
  },
  {
   "cell_type": "code",
   "execution_count": 77,
   "metadata": {},
   "outputs": [
    {
     "data": {
      "application/javascript": [
       "\n",
       "            setTimeout(function() {\n",
       "                var nbb_cell_id = 77;\n",
       "                var nbb_unformatted_code = \"neural_posterior = utils.posterior_nn(\\n    model=\\\"made\\\",\\n    embedding_net=embedding_net,\\n)\";\n",
       "                var nbb_formatted_code = \"neural_posterior = utils.posterior_nn(\\n    model=\\\"made\\\",\\n    embedding_net=embedding_net,\\n)\";\n",
       "                var nbb_cells = Jupyter.notebook.get_cells();\n",
       "                for (var i = 0; i < nbb_cells.length; ++i) {\n",
       "                    if (nbb_cells[i].input_prompt_number == nbb_cell_id) {\n",
       "                        if (nbb_cells[i].get_text() == nbb_unformatted_code) {\n",
       "                             nbb_cells[i].set_text(nbb_formatted_code);\n",
       "                        }\n",
       "                        break;\n",
       "                    }\n",
       "                }\n",
       "            }, 500);\n",
       "            "
      ],
      "text/plain": [
       "<IPython.core.display.Javascript object>"
      ]
     },
     "metadata": {},
     "output_type": "display_data"
    }
   ],
   "source": [
    "neural_posterior = utils.posterior_nn(\n",
    "    model=\"made\",\n",
    "    embedding_net=embedding_net,\n",
    ")"
   ]
  },
  {
   "cell_type": "code",
   "execution_count": 78,
   "metadata": {},
   "outputs": [
    {
     "data": {
      "application/javascript": [
       "\n",
       "            setTimeout(function() {\n",
       "                var nbb_cell_id = 78;\n",
       "                var nbb_unformatted_code = \"inference = SNPE(\\n    prior=prior,\\n    density_estimator=neural_posterior,\\n    device=\\\"cpu\\\",\\n    show_progress_bars=True,\\n)\";\n",
       "                var nbb_formatted_code = \"inference = SNPE(\\n    prior=prior,\\n    density_estimator=neural_posterior,\\n    device=\\\"cpu\\\",\\n    show_progress_bars=True,\\n)\";\n",
       "                var nbb_cells = Jupyter.notebook.get_cells();\n",
       "                for (var i = 0; i < nbb_cells.length; ++i) {\n",
       "                    if (nbb_cells[i].input_prompt_number == nbb_cell_id) {\n",
       "                        if (nbb_cells[i].get_text() == nbb_unformatted_code) {\n",
       "                             nbb_cells[i].set_text(nbb_formatted_code);\n",
       "                        }\n",
       "                        break;\n",
       "                    }\n",
       "                }\n",
       "            }, 500);\n",
       "            "
      ],
      "text/plain": [
       "<IPython.core.display.Javascript object>"
      ]
     },
     "metadata": {},
     "output_type": "display_data"
    }
   ],
   "source": [
    "inference = SNPE(\n",
    "    prior=prior,\n",
    "    density_estimator=neural_posterior,\n",
    "    device=\"cpu\",\n",
    "    show_progress_bars=True,\n",
    ")"
   ]
  },
  {
   "cell_type": "code",
   "execution_count": 13,
   "metadata": {},
   "outputs": [
    {
     "data": {
      "text/plain": [
       "array([array([[  0.,   0.,   0.,   0.,   0.],\n",
       "       [  0.,   0.,   0.,   0.,   1.],\n",
       "       [  1.,   0.,   0.,   0.,   1.],\n",
       "       ...,\n",
       "       [370., 255., 162.,  91., 179.],\n",
       "       [371., 255., 162.,  91., 179.],\n",
       "       [371., 256., 162.,  91., 179.]]),\n",
       "       array([[  0.,   0.,   0.,   0.,   0.],\n",
       "       [  1.,   0.,   0.,   0.,   0.],\n",
       "       [  2.,   0.,   0.,   0.,   0.],\n",
       "       ...,\n",
       "       [111., 124.,  88.,  78.,  60.],\n",
       "       [111., 124.,  88.,  79.,  60.],\n",
       "       [111., 124.,  88.,  80.,  60.]]),\n",
       "       array([[  0.,   0.,   0.,   0.,   0.],\n",
       "       [  1.,   0.,   0.,   0.,   0.],\n",
       "       [  1.,   1.,   0.,   0.,   0.],\n",
       "       ...,\n",
       "       [ 16., 339., 224.,  42.,   4.],\n",
       "       [ 16., 340., 224.,  42.,   4.],\n",
       "       [ 16., 340., 225.,  42.,   4.]]),\n",
       "       ...,\n",
       "       array([[  0.,   0.,   0.,   0.,   0.],\n",
       "       [  0.,   0.,   1.,   0.,   0.],\n",
       "       [  0.,   1.,   1.,   0.,   0.],\n",
       "       ...,\n",
       "       [ 58., 443., 159.,  67.,  35.],\n",
       "       [ 58., 444., 159.,  67.,  35.],\n",
       "       [ 58., 445., 159.,  67.,  35.]]),\n",
       "       array([[  0.,   0.,   0.,   0.,   0.],\n",
       "       [  0.,   1.,   0.,   0.,   0.],\n",
       "       [  0.,   2.,   0.,   0.,   0.],\n",
       "       ...,\n",
       "       [ 41., 516., 532.,  27.,   2.],\n",
       "       [ 41., 516., 533.,  27.,   2.],\n",
       "       [ 41., 516., 534.,  27.,   2.]]),\n",
       "       array([[0.000e+00, 0.000e+00, 0.000e+00, 0.000e+00, 0.000e+00],\n",
       "       [1.000e+00, 0.000e+00, 0.000e+00, 0.000e+00, 0.000e+00],\n",
       "       [2.000e+00, 0.000e+00, 0.000e+00, 0.000e+00, 0.000e+00],\n",
       "       ...,\n",
       "       [5.580e+02, 1.047e+03, 9.300e+01, 2.000e+00, 5.690e+02],\n",
       "       [5.580e+02, 1.048e+03, 9.300e+01, 2.000e+00, 5.690e+02],\n",
       "       [5.590e+02, 1.048e+03, 9.300e+01, 2.000e+00, 5.690e+02]])],\n",
       "      dtype=object)"
      ]
     },
     "execution_count": 13,
     "metadata": {},
     "output_type": "execute_result"
    },
    {
     "data": {
      "application/javascript": [
       "\n",
       "            setTimeout(function() {\n",
       "                var nbb_cell_id = 13;\n",
       "                var nbb_unformatted_code = \"simulator.simulations\";\n",
       "                var nbb_formatted_code = \"simulator.simulations\";\n",
       "                var nbb_cells = Jupyter.notebook.get_cells();\n",
       "                for (var i = 0; i < nbb_cells.length; ++i) {\n",
       "                    if (nbb_cells[i].input_prompt_number == nbb_cell_id) {\n",
       "                        if (nbb_cells[i].get_text() == nbb_unformatted_code) {\n",
       "                             nbb_cells[i].set_text(nbb_formatted_code);\n",
       "                        }\n",
       "                        break;\n",
       "                    }\n",
       "                }\n",
       "            }, 500);\n",
       "            "
      ],
      "text/plain": [
       "<IPython.core.display.Javascript object>"
      ]
     },
     "metadata": {},
     "output_type": "display_data"
    }
   ],
   "source": [
    "simulator.simulations"
   ]
  },
  {
   "cell_type": "code",
   "execution_count": 13,
   "metadata": {},
   "outputs": [
    {
     "data": {
      "application/javascript": [
       "\n",
       "            setTimeout(function() {\n",
       "                var nbb_cell_id = 13;\n",
       "                var nbb_unformatted_code = \"simulations = [\\n    torch.from_numpy(simulation).type(torch.FloatTensor)\\n    for simulation in simulator.simulations\\n]\\nparameters = torch.from_numpy(simulator.simulation_parameters[\\\"rho\\\"]).type(\\n    torch.FloatTensor\\n)\";\n",
       "                var nbb_formatted_code = \"simulations = [\\n    torch.from_numpy(simulation).type(torch.FloatTensor)\\n    for simulation in simulator.simulations\\n]\\nparameters = torch.from_numpy(simulator.simulation_parameters[\\\"rho\\\"]).type(\\n    torch.FloatTensor\\n)\";\n",
       "                var nbb_cells = Jupyter.notebook.get_cells();\n",
       "                for (var i = 0; i < nbb_cells.length; ++i) {\n",
       "                    if (nbb_cells[i].input_prompt_number == nbb_cell_id) {\n",
       "                        if (nbb_cells[i].get_text() == nbb_unformatted_code) {\n",
       "                             nbb_cells[i].set_text(nbb_formatted_code);\n",
       "                        }\n",
       "                        break;\n",
       "                    }\n",
       "                }\n",
       "            }, 500);\n",
       "            "
      ],
      "text/plain": [
       "<IPython.core.display.Javascript object>"
      ]
     },
     "metadata": {},
     "output_type": "display_data"
    }
   ],
   "source": [
    "simulations = [\n",
    "    torch.from_numpy(simulation).type(torch.FloatTensor)\n",
    "    for simulation in simulator.simulations\n",
    "]\n",
    "parameters = torch.from_numpy(simulator.simulation_parameters[\"rho\"]).type(\n",
    "    torch.FloatTensor\n",
    ")"
   ]
  },
  {
   "cell_type": "code",
   "execution_count": 43,
   "metadata": {},
   "outputs": [
    {
     "ename": "TypeError",
     "evalue": "expected Tensor as element 0 in argument 0, but got list",
     "output_type": "error",
     "traceback": [
      "\u001b[0;31m---------------------------------------------------------------------------\u001b[0m",
      "\u001b[0;31mTypeError\u001b[0m                                 Traceback (most recent call last)",
      "\u001b[0;32m<ipython-input-43-c60ae9c2b270>\u001b[0m in \u001b[0;36m<module>\u001b[0;34m\u001b[0m\n\u001b[1;32m      1\u001b[0m density_estimator = inference.append_simulations(parameters, simulations).train(\n\u001b[0;32m----> 2\u001b[0;31m     \u001b[0mtraining_batch_size\u001b[0m\u001b[0;34m=\u001b[0m\u001b[0;36m50\u001b[0m\u001b[0;34m,\u001b[0m \u001b[0mshow_train_summary\u001b[0m\u001b[0;34m=\u001b[0m\u001b[0;32mTrue\u001b[0m\u001b[0;34m\u001b[0m\u001b[0;34m\u001b[0m\u001b[0m\n\u001b[0m\u001b[1;32m      3\u001b[0m )\n",
      "\u001b[0;32m<ipython-input-39-d243974708a9>\u001b[0m in \u001b[0;36mtrain\u001b[0;34m(self, training_batch_size, learning_rate, validation_fraction, stop_after_epochs, max_num_epochs, clip_max_norm, calibration_kernel, exclude_invalid_x, discard_prior_samples, retrain_from_scratch_each_round, show_train_summary)\u001b[0m\n\u001b[1;32m     74\u001b[0m \u001b[0;34m\u001b[0m\u001b[0m\n\u001b[1;32m     75\u001b[0m     \u001b[0;31m# Load data from most recent round.\u001b[0m\u001b[0;34m\u001b[0m\u001b[0;34m\u001b[0m\u001b[0;34m\u001b[0m\u001b[0m\n\u001b[0;32m---> 76\u001b[0;31m     \u001b[0mtheta\u001b[0m\u001b[0;34m,\u001b[0m \u001b[0mx\u001b[0m\u001b[0;34m,\u001b[0m \u001b[0m_\u001b[0m \u001b[0;34m=\u001b[0m \u001b[0mself\u001b[0m\u001b[0;34m.\u001b[0m\u001b[0mget_simulations\u001b[0m\u001b[0;34m(\u001b[0m\u001b[0mself\u001b[0m\u001b[0;34m.\u001b[0m\u001b[0m_round\u001b[0m\u001b[0;34m,\u001b[0m \u001b[0mexclude_invalid_x\u001b[0m\u001b[0;34m,\u001b[0m \u001b[0;32mFalse\u001b[0m\u001b[0;34m)\u001b[0m\u001b[0;34m\u001b[0m\u001b[0;34m\u001b[0m\u001b[0m\n\u001b[0m\u001b[1;32m     77\u001b[0m \u001b[0;34m\u001b[0m\u001b[0m\n\u001b[1;32m     78\u001b[0m     \u001b[0;31m# Starting index for the training set (1 = discard round-0 samples).\u001b[0m\u001b[0;34m\u001b[0m\u001b[0;34m\u001b[0m\u001b[0;34m\u001b[0m\u001b[0m\n",
      "\u001b[0;32m/etc/anaconda3/envs/sbi/lib/python3.7/site-packages/sbi/inference/base.py\u001b[0m in \u001b[0;36mget_simulations\u001b[0;34m(self, starting_round, exclude_invalid_x, warn_on_invalid)\u001b[0m\n\u001b[1;32m    240\u001b[0m         )\n\u001b[1;32m    241\u001b[0m         x = get_simulations_since_round(\n\u001b[0;32m--> 242\u001b[0;31m             \u001b[0mself\u001b[0m\u001b[0;34m.\u001b[0m\u001b[0m_x_roundwise\u001b[0m\u001b[0;34m,\u001b[0m \u001b[0mself\u001b[0m\u001b[0;34m.\u001b[0m\u001b[0m_data_round_index\u001b[0m\u001b[0;34m,\u001b[0m \u001b[0mstarting_round\u001b[0m\u001b[0;34m\u001b[0m\u001b[0;34m\u001b[0m\u001b[0m\n\u001b[0m\u001b[1;32m    243\u001b[0m         )\n\u001b[1;32m    244\u001b[0m         prior_masks = get_simulations_since_round(\n",
      "\u001b[0;32m/etc/anaconda3/envs/sbi/lib/python3.7/site-packages/sbi/utils/sbiutils.py\u001b[0m in \u001b[0;36mget_simulations_since_round\u001b[0;34m(data, data_round_indices, starting_round_index)\u001b[0m\n\u001b[1;32m    318\u001b[0m     \"\"\"\n\u001b[1;32m    319\u001b[0m     return torch.cat(\n\u001b[0;32m--> 320\u001b[0;31m         \u001b[0;34m[\u001b[0m\u001b[0mt\u001b[0m \u001b[0;32mfor\u001b[0m \u001b[0mt\u001b[0m\u001b[0;34m,\u001b[0m \u001b[0mr\u001b[0m \u001b[0;32min\u001b[0m \u001b[0mzip\u001b[0m\u001b[0;34m(\u001b[0m\u001b[0mdata\u001b[0m\u001b[0;34m,\u001b[0m \u001b[0mdata_round_indices\u001b[0m\u001b[0;34m)\u001b[0m \u001b[0;32mif\u001b[0m \u001b[0mr\u001b[0m \u001b[0;34m>=\u001b[0m \u001b[0mstarting_round_index\u001b[0m\u001b[0;34m]\u001b[0m\u001b[0;34m\u001b[0m\u001b[0;34m\u001b[0m\u001b[0m\n\u001b[0m\u001b[1;32m    321\u001b[0m     )\n\u001b[1;32m    322\u001b[0m \u001b[0;34m\u001b[0m\u001b[0m\n",
      "\u001b[0;31mTypeError\u001b[0m: expected Tensor as element 0 in argument 0, but got list"
     ]
    },
    {
     "data": {
      "application/javascript": [
       "\n",
       "            setTimeout(function() {\n",
       "                var nbb_cell_id = 43;\n",
       "                var nbb_unformatted_code = \"density_estimator = inference.append_simulations(parameters, simulations).train(\\n    training_batch_size=50, show_train_summary=True\\n)\";\n",
       "                var nbb_formatted_code = \"density_estimator = inference.append_simulations(parameters, simulations).train(\\n    training_batch_size=50, show_train_summary=True\\n)\";\n",
       "                var nbb_cells = Jupyter.notebook.get_cells();\n",
       "                for (var i = 0; i < nbb_cells.length; ++i) {\n",
       "                    if (nbb_cells[i].input_prompt_number == nbb_cell_id) {\n",
       "                        if (nbb_cells[i].get_text() == nbb_unformatted_code) {\n",
       "                             nbb_cells[i].set_text(nbb_formatted_code);\n",
       "                        }\n",
       "                        break;\n",
       "                    }\n",
       "                }\n",
       "            }, 500);\n",
       "            "
      ],
      "text/plain": [
       "<IPython.core.display.Javascript object>"
      ]
     },
     "metadata": {},
     "output_type": "display_data"
    }
   ],
   "source": [
    "density_estimator = inference.append_simulations(parameters, simulations).train(\n",
    "    training_batch_size=50, show_train_summary=True\n",
    ")"
   ]
  },
  {
   "cell_type": "code",
   "execution_count": 49,
   "metadata": {},
   "outputs": [
    {
     "ename": "ValueError",
     "evalue": "too many values to unpack (expected 3)",
     "output_type": "error",
     "traceback": [
      "\u001b[0;31m---------------------------------------------------------------------------\u001b[0m",
      "\u001b[0;31mValueError\u001b[0m                                Traceback (most recent call last)",
      "\u001b[0;32m<ipython-input-49-33618a949608>\u001b[0m in \u001b[0;36m<module>\u001b[0;34m\u001b[0m\n\u001b[1;32m      3\u001b[0m         \u001b[0;34m[\u001b[0m\u001b[0mi\u001b[0m \u001b[0;32mfor\u001b[0m \u001b[0mi\u001b[0m \u001b[0;32min\u001b[0m \u001b[0mrange\u001b[0m\u001b[0;34m(\u001b[0m\u001b[0mlen\u001b[0m\u001b[0;34m(\u001b[0m\u001b[0msimulations\u001b[0m\u001b[0;34m)\u001b[0m\u001b[0;34m)\u001b[0m\u001b[0;34m]\u001b[0m\u001b[0;34m,\u001b[0m\u001b[0;34m\u001b[0m\u001b[0;34m\u001b[0m\u001b[0m\n\u001b[1;32m      4\u001b[0m         \u001b[0msimulations\u001b[0m\u001b[0;34m,\u001b[0m\u001b[0;34m\u001b[0m\u001b[0;34m\u001b[0m\u001b[0m\n\u001b[0;32m----> 5\u001b[0;31m         \u001b[0;34m[\u001b[0m\u001b[0mi\u001b[0m \u001b[0;32mfor\u001b[0m \u001b[0mi\u001b[0m \u001b[0;32min\u001b[0m \u001b[0mrange\u001b[0m\u001b[0;34m(\u001b[0m\u001b[0mlen\u001b[0m\u001b[0;34m(\u001b[0m\u001b[0msimulations\u001b[0m\u001b[0;34m)\u001b[0m\u001b[0;34m)\u001b[0m\u001b[0;34m]\u001b[0m\u001b[0;34m,\u001b[0m\u001b[0;34m\u001b[0m\u001b[0;34m\u001b[0m\u001b[0m\n\u001b[0m\u001b[1;32m      6\u001b[0m     ]\n\u001b[1;32m      7\u001b[0m )\n",
      "\u001b[0;32m<ipython-input-14-64bd5acd072b>\u001b[0m in \u001b[0;36mpad_collate\u001b[0;34m(batch)\u001b[0m\n\u001b[1;32m      1\u001b[0m \u001b[0;32mdef\u001b[0m \u001b[0mpad_collate\u001b[0m\u001b[0;34m(\u001b[0m\u001b[0mbatch\u001b[0m\u001b[0;34m)\u001b[0m\u001b[0;34m:\u001b[0m\u001b[0;34m\u001b[0m\u001b[0;34m\u001b[0m\u001b[0m\n\u001b[0;32m----> 2\u001b[0;31m     \u001b[0;34m(\u001b[0m\u001b[0mtheta\u001b[0m\u001b[0;34m,\u001b[0m \u001b[0mx\u001b[0m\u001b[0;34m,\u001b[0m \u001b[0mprior_masks\u001b[0m\u001b[0;34m)\u001b[0m \u001b[0;34m=\u001b[0m \u001b[0mzip\u001b[0m\u001b[0;34m(\u001b[0m\u001b[0;34m*\u001b[0m\u001b[0mbatch\u001b[0m\u001b[0;34m)\u001b[0m\u001b[0;34m\u001b[0m\u001b[0;34m\u001b[0m\u001b[0m\n\u001b[0m\u001b[1;32m      3\u001b[0m     \u001b[0mx_lens\u001b[0m \u001b[0;34m=\u001b[0m \u001b[0;34m[\u001b[0m\u001b[0mlen\u001b[0m\u001b[0;34m(\u001b[0m\u001b[0msimulation\u001b[0m\u001b[0;34m)\u001b[0m \u001b[0;32mfor\u001b[0m \u001b[0msimulation\u001b[0m \u001b[0;32min\u001b[0m \u001b[0mx\u001b[0m\u001b[0;34m]\u001b[0m\u001b[0;34m\u001b[0m\u001b[0;34m\u001b[0m\u001b[0m\n\u001b[1;32m      4\u001b[0m     \u001b[0mmax_x_len\u001b[0m \u001b[0;34m=\u001b[0m \u001b[0mmax\u001b[0m\u001b[0;34m(\u001b[0m\u001b[0mx_lens\u001b[0m\u001b[0;34m)\u001b[0m\u001b[0;34m\u001b[0m\u001b[0;34m\u001b[0m\u001b[0m\n\u001b[1;32m      5\u001b[0m \u001b[0;34m\u001b[0m\u001b[0m\n",
      "\u001b[0;31mValueError\u001b[0m: too many values to unpack (expected 3)"
     ]
    },
    {
     "data": {
      "application/javascript": [
       "\n",
       "            setTimeout(function() {\n",
       "                var nbb_cell_id = 49;\n",
       "                var nbb_unformatted_code = \"a = pad_collate(\\n    [\\n        [i for i in range(len(simulations))],\\n        simulations,\\n        [i for i in range(len(simulations))],\\n    ]\\n)\";\n",
       "                var nbb_formatted_code = \"a = pad_collate(\\n    [\\n        [i for i in range(len(simulations))],\\n        simulations,\\n        [i for i in range(len(simulations))],\\n    ]\\n)\";\n",
       "                var nbb_cells = Jupyter.notebook.get_cells();\n",
       "                for (var i = 0; i < nbb_cells.length; ++i) {\n",
       "                    if (nbb_cells[i].input_prompt_number == nbb_cell_id) {\n",
       "                        if (nbb_cells[i].get_text() == nbb_unformatted_code) {\n",
       "                             nbb_cells[i].set_text(nbb_formatted_code);\n",
       "                        }\n",
       "                        break;\n",
       "                    }\n",
       "                }\n",
       "            }, 500);\n",
       "            "
      ],
      "text/plain": [
       "<IPython.core.display.Javascript object>"
      ]
     },
     "metadata": {},
     "output_type": "display_data"
    }
   ],
   "source": [
    "a = pad_collate(\n",
    "    [\n",
    "        [i for i in range(len(simulations))],\n",
    "        simulations,\n",
    "        [i for i in range(len(simulations))],\n",
    "    ]\n",
    ")"
   ]
  },
  {
   "cell_type": "code",
   "execution_count": 50,
   "metadata": {},
   "outputs": [
    {
     "data": {
      "application/javascript": [
       "\n",
       "            setTimeout(function() {\n",
       "                var nbb_cell_id = 50;\n",
       "                var nbb_unformatted_code = \"b= [\\n        [i for i in range(len(simulations))],\\n        simulations,\\n        [i for i in range(len(simulations))],\\n    ]\";\n",
       "                var nbb_formatted_code = \"b = [\\n    [i for i in range(len(simulations))],\\n    simulations,\\n    [i for i in range(len(simulations))],\\n]\";\n",
       "                var nbb_cells = Jupyter.notebook.get_cells();\n",
       "                for (var i = 0; i < nbb_cells.length; ++i) {\n",
       "                    if (nbb_cells[i].input_prompt_number == nbb_cell_id) {\n",
       "                        if (nbb_cells[i].get_text() == nbb_unformatted_code) {\n",
       "                             nbb_cells[i].set_text(nbb_formatted_code);\n",
       "                        }\n",
       "                        break;\n",
       "                    }\n",
       "                }\n",
       "            }, 500);\n",
       "            "
      ],
      "text/plain": [
       "<IPython.core.display.Javascript object>"
      ]
     },
     "metadata": {},
     "output_type": "display_data"
    }
   ],
   "source": [
    "b = [\n",
    "    [i for i in range(len(simulations))],\n",
    "    simulations,\n",
    "    [i for i in range(len(simulations))],\n",
    "]"
   ]
  },
  {
   "cell_type": "code",
   "execution_count": 51,
   "metadata": {},
   "outputs": [
    {
     "data": {
      "text/plain": [
       "3"
      ]
     },
     "execution_count": 51,
     "metadata": {},
     "output_type": "execute_result"
    },
    {
     "data": {
      "application/javascript": [
       "\n",
       "            setTimeout(function() {\n",
       "                var nbb_cell_id = 51;\n",
       "                var nbb_unformatted_code = \"len(b)\";\n",
       "                var nbb_formatted_code = \"len(b)\";\n",
       "                var nbb_cells = Jupyter.notebook.get_cells();\n",
       "                for (var i = 0; i < nbb_cells.length; ++i) {\n",
       "                    if (nbb_cells[i].input_prompt_number == nbb_cell_id) {\n",
       "                        if (nbb_cells[i].get_text() == nbb_unformatted_code) {\n",
       "                             nbb_cells[i].set_text(nbb_formatted_code);\n",
       "                        }\n",
       "                        break;\n",
       "                    }\n",
       "                }\n",
       "            }, 500);\n",
       "            "
      ],
      "text/plain": [
       "<IPython.core.display.Javascript object>"
      ]
     },
     "metadata": {},
     "output_type": "display_data"
    }
   ],
   "source": [
    "len(b)"
   ]
  },
  {
   "cell_type": "code",
   "execution_count": 14,
   "metadata": {},
   "outputs": [
    {
     "data": {
      "application/javascript": [
       "\n",
       "            setTimeout(function() {\n",
       "                var nbb_cell_id = 14;\n",
       "                var nbb_unformatted_code = \"x = simulations\";\n",
       "                var nbb_formatted_code = \"x = simulations\";\n",
       "                var nbb_cells = Jupyter.notebook.get_cells();\n",
       "                for (var i = 0; i < nbb_cells.length; ++i) {\n",
       "                    if (nbb_cells[i].input_prompt_number == nbb_cell_id) {\n",
       "                        if (nbb_cells[i].get_text() == nbb_unformatted_code) {\n",
       "                             nbb_cells[i].set_text(nbb_formatted_code);\n",
       "                        }\n",
       "                        break;\n",
       "                    }\n",
       "                }\n",
       "            }, 500);\n",
       "            "
      ],
      "text/plain": [
       "<IPython.core.display.Javascript object>"
      ]
     },
     "metadata": {},
     "output_type": "display_data"
    }
   ],
   "source": [
    "x = simulations"
   ]
  },
  {
   "cell_type": "code",
   "execution_count": 15,
   "metadata": {},
   "outputs": [
    {
     "data": {
      "application/javascript": [
       "\n",
       "            setTimeout(function() {\n",
       "                var nbb_cell_id = 15;\n",
       "                var nbb_unformatted_code = \"x_lens = [len(simulation) for simulation in x]\\nmax_x_len = max(x_lens)\\n\\nout_x = x[0].data.new_empty((len(x), max_x_len, 5))\\nfor i, simulation in enumerate(x):\\n    out_x[i, : x_lens[i], :] = simulation\\n    if x_lens[i] < max_x_len:\\n        out_x[i, x_lens[i] :, :] = simulation[-1, :].repeat((max_x_len - x_lens[i], 1))\";\n",
       "                var nbb_formatted_code = \"x_lens = [len(simulation) for simulation in x]\\nmax_x_len = max(x_lens)\\n\\nout_x = x[0].data.new_empty((len(x), max_x_len, 5))\\nfor i, simulation in enumerate(x):\\n    out_x[i, : x_lens[i], :] = simulation\\n    if x_lens[i] < max_x_len:\\n        out_x[i, x_lens[i] :, :] = simulation[-1, :].repeat((max_x_len - x_lens[i], 1))\";\n",
       "                var nbb_cells = Jupyter.notebook.get_cells();\n",
       "                for (var i = 0; i < nbb_cells.length; ++i) {\n",
       "                    if (nbb_cells[i].input_prompt_number == nbb_cell_id) {\n",
       "                        if (nbb_cells[i].get_text() == nbb_unformatted_code) {\n",
       "                             nbb_cells[i].set_text(nbb_formatted_code);\n",
       "                        }\n",
       "                        break;\n",
       "                    }\n",
       "                }\n",
       "            }, 500);\n",
       "            "
      ],
      "text/plain": [
       "<IPython.core.display.Javascript object>"
      ]
     },
     "metadata": {},
     "output_type": "display_data"
    }
   ],
   "source": [
    "x_lens = [len(simulation) for simulation in x]\n",
    "max_x_len = max(x_lens)\n",
    "\n",
    "out_x = x[0].data.new_empty((len(x), max_x_len, 5))\n",
    "for i, simulation in enumerate(x):\n",
    "    out_x[i, : x_lens[i], :] = simulation\n",
    "    if x_lens[i] < max_x_len:\n",
    "        out_x[i, x_lens[i] :, :] = simulation[-1, :].repeat((max_x_len - x_lens[i], 1))"
   ]
  },
  {
   "cell_type": "code",
   "execution_count": 16,
   "metadata": {},
   "outputs": [
    {
     "data": {
      "text/plain": [
       "torch.Size([20000, 3001, 5])"
      ]
     },
     "execution_count": 16,
     "metadata": {},
     "output_type": "execute_result"
    },
    {
     "data": {
      "application/javascript": [
       "\n",
       "            setTimeout(function() {\n",
       "                var nbb_cell_id = 16;\n",
       "                var nbb_unformatted_code = \"out_x.shape\";\n",
       "                var nbb_formatted_code = \"out_x.shape\";\n",
       "                var nbb_cells = Jupyter.notebook.get_cells();\n",
       "                for (var i = 0; i < nbb_cells.length; ++i) {\n",
       "                    if (nbb_cells[i].input_prompt_number == nbb_cell_id) {\n",
       "                        if (nbb_cells[i].get_text() == nbb_unformatted_code) {\n",
       "                             nbb_cells[i].set_text(nbb_formatted_code);\n",
       "                        }\n",
       "                        break;\n",
       "                    }\n",
       "                }\n",
       "            }, 500);\n",
       "            "
      ],
      "text/plain": [
       "<IPython.core.display.Javascript object>"
      ]
     },
     "metadata": {},
     "output_type": "display_data"
    }
   ],
   "source": [
    "out_x.shape"
   ]
  },
  {
   "cell_type": "code",
   "execution_count": 17,
   "metadata": {},
   "outputs": [
    {
     "data": {
      "application/javascript": [
       "\n",
       "            setTimeout(function() {\n",
       "                var nbb_cell_id = 17;\n",
       "                var nbb_unformatted_code = \"dim = 8\\nkernel_size = 5\\n\\nembedding_net = torch.nn.Sequential(\\n    torch.nn.Conv1d(\\n        in_channels=5,\\n        out_channels=dim,\\n        kernel_size=kernel_size,\\n        padding=(kernel_size - 1),\\n        dilation=1,\\n    ),\\n    torch.nn.LeakyReLU(),\\n    torch.nn.Conv1d(\\n        in_channels=dim,\\n        out_channels=dim,\\n        kernel_size=kernel_size,\\n        padding=(kernel_size - 1) * 2,\\n        dilation=2,\\n    ),\\n    torch.nn.LeakyReLU(),\\n    torch.nn.Conv1d(\\n        in_channels=dim,\\n        out_channels=dim,\\n        kernel_size=kernel_size,\\n        padding=(kernel_size - 1) * 4,\\n        dilation=4,\\n    ),\\n    torch.nn.LeakyReLU(),\\n    torch.nn.Conv1d(\\n        in_channels=dim,\\n        out_channels=dim,\\n        kernel_size=kernel_size,\\n        padding=(kernel_size - 1) * 8,\\n        dilation=8,\\n    ),\\n    torch.nn.LeakyReLU(),\\n    torch.nn.MaxPool1d(kernel_size=5),\\n    torch.nn.Flatten(start_dim=1),\\n    torch.nn.Linear(4896, 128),\\n    torch.nn.Linear(128, 32),\\n)\";\n",
       "                var nbb_formatted_code = \"dim = 8\\nkernel_size = 5\\n\\nembedding_net = torch.nn.Sequential(\\n    torch.nn.Conv1d(\\n        in_channels=5,\\n        out_channels=dim,\\n        kernel_size=kernel_size,\\n        padding=(kernel_size - 1),\\n        dilation=1,\\n    ),\\n    torch.nn.LeakyReLU(),\\n    torch.nn.Conv1d(\\n        in_channels=dim,\\n        out_channels=dim,\\n        kernel_size=kernel_size,\\n        padding=(kernel_size - 1) * 2,\\n        dilation=2,\\n    ),\\n    torch.nn.LeakyReLU(),\\n    torch.nn.Conv1d(\\n        in_channels=dim,\\n        out_channels=dim,\\n        kernel_size=kernel_size,\\n        padding=(kernel_size - 1) * 4,\\n        dilation=4,\\n    ),\\n    torch.nn.LeakyReLU(),\\n    torch.nn.Conv1d(\\n        in_channels=dim,\\n        out_channels=dim,\\n        kernel_size=kernel_size,\\n        padding=(kernel_size - 1) * 8,\\n        dilation=8,\\n    ),\\n    torch.nn.LeakyReLU(),\\n    torch.nn.MaxPool1d(kernel_size=5),\\n    torch.nn.Flatten(start_dim=1),\\n    torch.nn.Linear(4896, 128),\\n    torch.nn.Linear(128, 32),\\n)\";\n",
       "                var nbb_cells = Jupyter.notebook.get_cells();\n",
       "                for (var i = 0; i < nbb_cells.length; ++i) {\n",
       "                    if (nbb_cells[i].input_prompt_number == nbb_cell_id) {\n",
       "                        if (nbb_cells[i].get_text() == nbb_unformatted_code) {\n",
       "                             nbb_cells[i].set_text(nbb_formatted_code);\n",
       "                        }\n",
       "                        break;\n",
       "                    }\n",
       "                }\n",
       "            }, 500);\n",
       "            "
      ],
      "text/plain": [
       "<IPython.core.display.Javascript object>"
      ]
     },
     "metadata": {},
     "output_type": "display_data"
    }
   ],
   "source": [
    "dim = 8\n",
    "kernel_size = 5\n",
    "\n",
    "embedding_net = torch.nn.Sequential(\n",
    "    torch.nn.Conv1d(\n",
    "        in_channels=5,\n",
    "        out_channels=dim,\n",
    "        kernel_size=kernel_size,\n",
    "        padding=(kernel_size - 1),\n",
    "        dilation=1,\n",
    "    ),\n",
    "    torch.nn.LeakyReLU(),\n",
    "    torch.nn.Conv1d(\n",
    "        in_channels=dim,\n",
    "        out_channels=dim,\n",
    "        kernel_size=kernel_size,\n",
    "        padding=(kernel_size - 1) * 2,\n",
    "        dilation=2,\n",
    "    ),\n",
    "    torch.nn.LeakyReLU(),\n",
    "    torch.nn.Conv1d(\n",
    "        in_channels=dim,\n",
    "        out_channels=dim,\n",
    "        kernel_size=kernel_size,\n",
    "        padding=(kernel_size - 1) * 4,\n",
    "        dilation=4,\n",
    "    ),\n",
    "    torch.nn.LeakyReLU(),\n",
    "    torch.nn.Conv1d(\n",
    "        in_channels=dim,\n",
    "        out_channels=dim,\n",
    "        kernel_size=kernel_size,\n",
    "        padding=(kernel_size - 1) * 8,\n",
    "        dilation=8,\n",
    "    ),\n",
    "    torch.nn.LeakyReLU(),\n",
    "    torch.nn.MaxPool1d(kernel_size=5),\n",
    "    torch.nn.Flatten(start_dim=1),\n",
    "    torch.nn.Linear(4896, 128),\n",
    "    torch.nn.Linear(128, 32),\n",
    ")"
   ]
  },
  {
   "cell_type": "code",
   "execution_count": 18,
   "metadata": {},
   "outputs": [
    {
     "data": {
      "text/plain": [
       "torch.Size([20000, 5, 3001])"
      ]
     },
     "execution_count": 18,
     "metadata": {},
     "output_type": "execute_result"
    },
    {
     "data": {
      "application/javascript": [
       "\n",
       "            setTimeout(function() {\n",
       "                var nbb_cell_id = 18;\n",
       "                var nbb_unformatted_code = \"simulations = out_x.permute(0, 2, 1)\\nsimulations.size()\";\n",
       "                var nbb_formatted_code = \"simulations = out_x.permute(0, 2, 1)\\nsimulations.size()\";\n",
       "                var nbb_cells = Jupyter.notebook.get_cells();\n",
       "                for (var i = 0; i < nbb_cells.length; ++i) {\n",
       "                    if (nbb_cells[i].input_prompt_number == nbb_cell_id) {\n",
       "                        if (nbb_cells[i].get_text() == nbb_unformatted_code) {\n",
       "                             nbb_cells[i].set_text(nbb_formatted_code);\n",
       "                        }\n",
       "                        break;\n",
       "                    }\n",
       "                }\n",
       "            }, 500);\n",
       "            "
      ],
      "text/plain": [
       "<IPython.core.display.Javascript object>"
      ]
     },
     "metadata": {},
     "output_type": "display_data"
    }
   ],
   "source": [
    "simulations = out_x.permute(0, 2, 1)\n",
    "simulations.size()"
   ]
  },
  {
   "cell_type": "code",
   "execution_count": 19,
   "metadata": {},
   "outputs": [
    {
     "data": {
      "application/javascript": [
       "\n",
       "            setTimeout(function() {\n",
       "                var nbb_cell_id = 19;\n",
       "                var nbb_unformatted_code = \"a = embedding_net(simulations[:10, :, :])\";\n",
       "                var nbb_formatted_code = \"a = embedding_net(simulations[:10, :, :])\";\n",
       "                var nbb_cells = Jupyter.notebook.get_cells();\n",
       "                for (var i = 0; i < nbb_cells.length; ++i) {\n",
       "                    if (nbb_cells[i].input_prompt_number == nbb_cell_id) {\n",
       "                        if (nbb_cells[i].get_text() == nbb_unformatted_code) {\n",
       "                             nbb_cells[i].set_text(nbb_formatted_code);\n",
       "                        }\n",
       "                        break;\n",
       "                    }\n",
       "                }\n",
       "            }, 500);\n",
       "            "
      ],
      "text/plain": [
       "<IPython.core.display.Javascript object>"
      ]
     },
     "metadata": {},
     "output_type": "display_data"
    }
   ],
   "source": [
    "a = embedding_net(simulations[:10, :, :])"
   ]
  },
  {
   "cell_type": "code",
   "execution_count": 20,
   "metadata": {},
   "outputs": [
    {
     "data": {
      "text/plain": [
       "torch.Size([10, 32])"
      ]
     },
     "execution_count": 20,
     "metadata": {},
     "output_type": "execute_result"
    },
    {
     "data": {
      "application/javascript": [
       "\n",
       "            setTimeout(function() {\n",
       "                var nbb_cell_id = 20;\n",
       "                var nbb_unformatted_code = \"a.size()\";\n",
       "                var nbb_formatted_code = \"a.size()\";\n",
       "                var nbb_cells = Jupyter.notebook.get_cells();\n",
       "                for (var i = 0; i < nbb_cells.length; ++i) {\n",
       "                    if (nbb_cells[i].input_prompt_number == nbb_cell_id) {\n",
       "                        if (nbb_cells[i].get_text() == nbb_unformatted_code) {\n",
       "                             nbb_cells[i].set_text(nbb_formatted_code);\n",
       "                        }\n",
       "                        break;\n",
       "                    }\n",
       "                }\n",
       "            }, 500);\n",
       "            "
      ],
      "text/plain": [
       "<IPython.core.display.Javascript object>"
      ]
     },
     "metadata": {},
     "output_type": "display_data"
    }
   ],
   "source": [
    "a.size()"
   ]
  },
  {
   "cell_type": "code",
   "execution_count": 21,
   "metadata": {},
   "outputs": [
    {
     "data": {
      "application/javascript": [
       "\n",
       "            setTimeout(function() {\n",
       "                var nbb_cell_id = 21;\n",
       "                var nbb_unformatted_code = \"# 2 parameters, positive and negative rho\\nprior = utils.BoxUniform(\\n    low=torch.tensor([0.0, 0.0]).type(torch.FloatTensor),\\n    high=torch.tensor([4.0, 4.0]).type(torch.FloatTensor),\\n)\";\n",
       "                var nbb_formatted_code = \"# 2 parameters, positive and negative rho\\nprior = utils.BoxUniform(\\n    low=torch.tensor([0.0, 0.0]).type(torch.FloatTensor),\\n    high=torch.tensor([4.0, 4.0]).type(torch.FloatTensor),\\n)\";\n",
       "                var nbb_cells = Jupyter.notebook.get_cells();\n",
       "                for (var i = 0; i < nbb_cells.length; ++i) {\n",
       "                    if (nbb_cells[i].input_prompt_number == nbb_cell_id) {\n",
       "                        if (nbb_cells[i].get_text() == nbb_unformatted_code) {\n",
       "                             nbb_cells[i].set_text(nbb_formatted_code);\n",
       "                        }\n",
       "                        break;\n",
       "                    }\n",
       "                }\n",
       "            }, 500);\n",
       "            "
      ],
      "text/plain": [
       "<IPython.core.display.Javascript object>"
      ]
     },
     "metadata": {},
     "output_type": "display_data"
    }
   ],
   "source": [
    "# 2 parameters, positive and negative rho\n",
    "prior = utils.BoxUniform(\n",
    "    low=torch.tensor([0.0, 0.0]).type(torch.FloatTensor),\n",
    "    high=torch.tensor([4.0, 4.0]).type(torch.FloatTensor),\n",
    ")"
   ]
  },
  {
   "cell_type": "code",
   "execution_count": 22,
   "metadata": {},
   "outputs": [
    {
     "data": {
      "application/javascript": [
       "\n",
       "            setTimeout(function() {\n",
       "                var nbb_cell_id = 22;\n",
       "                var nbb_unformatted_code = \"neural_posterior = utils.posterior_nn(\\n    model=\\\"maf\\\",\\n    embedding_net=embedding_net,\\n)\";\n",
       "                var nbb_formatted_code = \"neural_posterior = utils.posterior_nn(\\n    model=\\\"maf\\\",\\n    embedding_net=embedding_net,\\n)\";\n",
       "                var nbb_cells = Jupyter.notebook.get_cells();\n",
       "                for (var i = 0; i < nbb_cells.length; ++i) {\n",
       "                    if (nbb_cells[i].input_prompt_number == nbb_cell_id) {\n",
       "                        if (nbb_cells[i].get_text() == nbb_unformatted_code) {\n",
       "                             nbb_cells[i].set_text(nbb_formatted_code);\n",
       "                        }\n",
       "                        break;\n",
       "                    }\n",
       "                }\n",
       "            }, 500);\n",
       "            "
      ],
      "text/plain": [
       "<IPython.core.display.Javascript object>"
      ]
     },
     "metadata": {},
     "output_type": "display_data"
    }
   ],
   "source": [
    "neural_posterior = utils.posterior_nn(\n",
    "    model=\"maf\",\n",
    "    embedding_net=embedding_net,\n",
    ")"
   ]
  },
  {
   "cell_type": "code",
   "execution_count": 23,
   "metadata": {},
   "outputs": [
    {
     "name": "stderr",
     "output_type": "stream",
     "text": [
      "/etc/anaconda3/envs/sbi/lib/python3.7/site-packages/sbi/utils/torchutils.py:31: UserWarning: GPU was selected as a device for training the neural network. Note\n",
      "                   that we expect **no** significant speed ups in training for the\n",
      "                   default architectures we provide. Using the GPU will be effective\n",
      "                   only for large neural networks with operations that are fast on the\n",
      "                   GPU, e.g., for a CNN or RNN `embedding_net`.\n",
      "  GPU, e.g., for a CNN or RNN `embedding_net`.\"\"\"\n"
     ]
    },
    {
     "data": {
      "application/javascript": [
       "\n",
       "            setTimeout(function() {\n",
       "                var nbb_cell_id = 23;\n",
       "                var nbb_unformatted_code = \"inference = SNPE(\\n    prior=prior,\\n    density_estimator=neural_posterior,\\n    device=\\\"gpu\\\",\\n    show_progress_bars=True,\\n)\";\n",
       "                var nbb_formatted_code = \"inference = SNPE(\\n    prior=prior,\\n    density_estimator=neural_posterior,\\n    device=\\\"gpu\\\",\\n    show_progress_bars=True,\\n)\";\n",
       "                var nbb_cells = Jupyter.notebook.get_cells();\n",
       "                for (var i = 0; i < nbb_cells.length; ++i) {\n",
       "                    if (nbb_cells[i].input_prompt_number == nbb_cell_id) {\n",
       "                        if (nbb_cells[i].get_text() == nbb_unformatted_code) {\n",
       "                             nbb_cells[i].set_text(nbb_formatted_code);\n",
       "                        }\n",
       "                        break;\n",
       "                    }\n",
       "                }\n",
       "            }, 500);\n",
       "            "
      ],
      "text/plain": [
       "<IPython.core.display.Javascript object>"
      ]
     },
     "metadata": {},
     "output_type": "display_data"
    }
   ],
   "source": [
    "inference = SNPE(\n",
    "    prior=prior,\n",
    "    density_estimator=neural_posterior,\n",
    "    device=\"gpu\",\n",
    "    show_progress_bars=True,\n",
    ")"
   ]
  },
  {
   "cell_type": "code",
   "execution_count": 24,
   "metadata": {},
   "outputs": [
    {
     "name": "stdout",
     "output_type": "stream",
     "text": [
      "Neural network successfully converged after 118 epochs.\n",
      "\n",
      "        -------------------------\n",
      "        ||||| ROUND 1 STATS |||||:\n",
      "        -------------------------\n",
      "        Epochs trained: 118\n",
      "        Best validation performance: 0.3919\n",
      "        -------------------------\n",
      "        \n"
     ]
    },
    {
     "data": {
      "application/javascript": [
       "\n",
       "            setTimeout(function() {\n",
       "                var nbb_cell_id = 24;\n",
       "                var nbb_unformatted_code = \"density_estimator = inference.append_simulations(parameters, simulations).train(\\n    training_batch_size=50, show_train_summary=True\\n)\";\n",
       "                var nbb_formatted_code = \"density_estimator = inference.append_simulations(parameters, simulations).train(\\n    training_batch_size=50, show_train_summary=True\\n)\";\n",
       "                var nbb_cells = Jupyter.notebook.get_cells();\n",
       "                for (var i = 0; i < nbb_cells.length; ++i) {\n",
       "                    if (nbb_cells[i].input_prompt_number == nbb_cell_id) {\n",
       "                        if (nbb_cells[i].get_text() == nbb_unformatted_code) {\n",
       "                             nbb_cells[i].set_text(nbb_formatted_code);\n",
       "                        }\n",
       "                        break;\n",
       "                    }\n",
       "                }\n",
       "            }, 500);\n",
       "            "
      ],
      "text/plain": [
       "<IPython.core.display.Javascript object>"
      ]
     },
     "metadata": {},
     "output_type": "display_data"
    }
   ],
   "source": [
    "density_estimator = inference.append_simulations(parameters, simulations).train(\n",
    "    training_batch_size=50, show_train_summary=True\n",
    ")"
   ]
  },
  {
   "cell_type": "code",
   "execution_count": 25,
   "metadata": {},
   "outputs": [
    {
     "data": {
      "text/plain": [
       "Flow(\n",
       "  (_transform): CompositeTransform(\n",
       "    (_transforms): ModuleList(\n",
       "      (0): AffineTransform()\n",
       "      (1): CompositeTransform(\n",
       "        (_transforms): ModuleList(\n",
       "          (0): CompositeTransform(\n",
       "            (_transforms): ModuleList(\n",
       "              (0): MaskedAffineAutoregressiveTransform(\n",
       "                (autoregressive_net): MADE(\n",
       "                  (initial_layer): MaskedLinear(in_features=2, out_features=50, bias=True)\n",
       "                  (context_layer): Linear(in_features=32, out_features=50, bias=True)\n",
       "                  (blocks): ModuleList(\n",
       "                    (0): MaskedFeedforwardBlock(\n",
       "                      (batch_norm): BatchNorm1d(50, eps=0.001, momentum=0.1, affine=True, track_running_stats=True)\n",
       "                      (linear): MaskedLinear(in_features=50, out_features=50, bias=True)\n",
       "                      (dropout): Dropout(p=0.0, inplace=False)\n",
       "                    )\n",
       "                    (1): MaskedFeedforwardBlock(\n",
       "                      (batch_norm): BatchNorm1d(50, eps=0.001, momentum=0.1, affine=True, track_running_stats=True)\n",
       "                      (linear): MaskedLinear(in_features=50, out_features=50, bias=True)\n",
       "                      (dropout): Dropout(p=0.0, inplace=False)\n",
       "                    )\n",
       "                  )\n",
       "                  (final_layer): MaskedLinear(in_features=50, out_features=4, bias=True)\n",
       "                )\n",
       "              )\n",
       "              (1): RandomPermutation()\n",
       "            )\n",
       "          )\n",
       "          (1): CompositeTransform(\n",
       "            (_transforms): ModuleList(\n",
       "              (0): MaskedAffineAutoregressiveTransform(\n",
       "                (autoregressive_net): MADE(\n",
       "                  (initial_layer): MaskedLinear(in_features=2, out_features=50, bias=True)\n",
       "                  (context_layer): Linear(in_features=32, out_features=50, bias=True)\n",
       "                  (blocks): ModuleList(\n",
       "                    (0): MaskedFeedforwardBlock(\n",
       "                      (batch_norm): BatchNorm1d(50, eps=0.001, momentum=0.1, affine=True, track_running_stats=True)\n",
       "                      (linear): MaskedLinear(in_features=50, out_features=50, bias=True)\n",
       "                      (dropout): Dropout(p=0.0, inplace=False)\n",
       "                    )\n",
       "                    (1): MaskedFeedforwardBlock(\n",
       "                      (batch_norm): BatchNorm1d(50, eps=0.001, momentum=0.1, affine=True, track_running_stats=True)\n",
       "                      (linear): MaskedLinear(in_features=50, out_features=50, bias=True)\n",
       "                      (dropout): Dropout(p=0.0, inplace=False)\n",
       "                    )\n",
       "                  )\n",
       "                  (final_layer): MaskedLinear(in_features=50, out_features=4, bias=True)\n",
       "                )\n",
       "              )\n",
       "              (1): RandomPermutation()\n",
       "            )\n",
       "          )\n",
       "          (2): CompositeTransform(\n",
       "            (_transforms): ModuleList(\n",
       "              (0): MaskedAffineAutoregressiveTransform(\n",
       "                (autoregressive_net): MADE(\n",
       "                  (initial_layer): MaskedLinear(in_features=2, out_features=50, bias=True)\n",
       "                  (context_layer): Linear(in_features=32, out_features=50, bias=True)\n",
       "                  (blocks): ModuleList(\n",
       "                    (0): MaskedFeedforwardBlock(\n",
       "                      (batch_norm): BatchNorm1d(50, eps=0.001, momentum=0.1, affine=True, track_running_stats=True)\n",
       "                      (linear): MaskedLinear(in_features=50, out_features=50, bias=True)\n",
       "                      (dropout): Dropout(p=0.0, inplace=False)\n",
       "                    )\n",
       "                    (1): MaskedFeedforwardBlock(\n",
       "                      (batch_norm): BatchNorm1d(50, eps=0.001, momentum=0.1, affine=True, track_running_stats=True)\n",
       "                      (linear): MaskedLinear(in_features=50, out_features=50, bias=True)\n",
       "                      (dropout): Dropout(p=0.0, inplace=False)\n",
       "                    )\n",
       "                  )\n",
       "                  (final_layer): MaskedLinear(in_features=50, out_features=4, bias=True)\n",
       "                )\n",
       "              )\n",
       "              (1): RandomPermutation()\n",
       "            )\n",
       "          )\n",
       "          (3): CompositeTransform(\n",
       "            (_transforms): ModuleList(\n",
       "              (0): MaskedAffineAutoregressiveTransform(\n",
       "                (autoregressive_net): MADE(\n",
       "                  (initial_layer): MaskedLinear(in_features=2, out_features=50, bias=True)\n",
       "                  (context_layer): Linear(in_features=32, out_features=50, bias=True)\n",
       "                  (blocks): ModuleList(\n",
       "                    (0): MaskedFeedforwardBlock(\n",
       "                      (batch_norm): BatchNorm1d(50, eps=0.001, momentum=0.1, affine=True, track_running_stats=True)\n",
       "                      (linear): MaskedLinear(in_features=50, out_features=50, bias=True)\n",
       "                      (dropout): Dropout(p=0.0, inplace=False)\n",
       "                    )\n",
       "                    (1): MaskedFeedforwardBlock(\n",
       "                      (batch_norm): BatchNorm1d(50, eps=0.001, momentum=0.1, affine=True, track_running_stats=True)\n",
       "                      (linear): MaskedLinear(in_features=50, out_features=50, bias=True)\n",
       "                      (dropout): Dropout(p=0.0, inplace=False)\n",
       "                    )\n",
       "                  )\n",
       "                  (final_layer): MaskedLinear(in_features=50, out_features=4, bias=True)\n",
       "                )\n",
       "              )\n",
       "              (1): RandomPermutation()\n",
       "            )\n",
       "          )\n",
       "          (4): CompositeTransform(\n",
       "            (_transforms): ModuleList(\n",
       "              (0): MaskedAffineAutoregressiveTransform(\n",
       "                (autoregressive_net): MADE(\n",
       "                  (initial_layer): MaskedLinear(in_features=2, out_features=50, bias=True)\n",
       "                  (context_layer): Linear(in_features=32, out_features=50, bias=True)\n",
       "                  (blocks): ModuleList(\n",
       "                    (0): MaskedFeedforwardBlock(\n",
       "                      (batch_norm): BatchNorm1d(50, eps=0.001, momentum=0.1, affine=True, track_running_stats=True)\n",
       "                      (linear): MaskedLinear(in_features=50, out_features=50, bias=True)\n",
       "                      (dropout): Dropout(p=0.0, inplace=False)\n",
       "                    )\n",
       "                    (1): MaskedFeedforwardBlock(\n",
       "                      (batch_norm): BatchNorm1d(50, eps=0.001, momentum=0.1, affine=True, track_running_stats=True)\n",
       "                      (linear): MaskedLinear(in_features=50, out_features=50, bias=True)\n",
       "                      (dropout): Dropout(p=0.0, inplace=False)\n",
       "                    )\n",
       "                  )\n",
       "                  (final_layer): MaskedLinear(in_features=50, out_features=4, bias=True)\n",
       "                )\n",
       "              )\n",
       "              (1): RandomPermutation()\n",
       "            )\n",
       "          )\n",
       "        )\n",
       "      )\n",
       "    )\n",
       "  )\n",
       "  (_distribution): StandardNormal()\n",
       "  (_embedding_net): Sequential(\n",
       "    (0): Standardize()\n",
       "    (1): Sequential(\n",
       "      (0): Conv1d(5, 8, kernel_size=(5,), stride=(1,), padding=(4,))\n",
       "      (1): LeakyReLU(negative_slope=0.01)\n",
       "      (2): Conv1d(8, 8, kernel_size=(5,), stride=(1,), padding=(8,), dilation=(2,))\n",
       "      (3): LeakyReLU(negative_slope=0.01)\n",
       "      (4): Conv1d(8, 8, kernel_size=(5,), stride=(1,), padding=(16,), dilation=(4,))\n",
       "      (5): LeakyReLU(negative_slope=0.01)\n",
       "      (6): Conv1d(8, 8, kernel_size=(5,), stride=(1,), padding=(32,), dilation=(8,))\n",
       "      (7): LeakyReLU(negative_slope=0.01)\n",
       "      (8): MaxPool1d(kernel_size=5, stride=5, padding=0, dilation=1, ceil_mode=False)\n",
       "      (9): Flatten(start_dim=1, end_dim=-1)\n",
       "      (10): Linear(in_features=4896, out_features=128, bias=True)\n",
       "      (11): Linear(in_features=128, out_features=32, bias=True)\n",
       "    )\n",
       "  )\n",
       ")"
      ]
     },
     "execution_count": 25,
     "metadata": {},
     "output_type": "execute_result"
    },
    {
     "data": {
      "application/javascript": [
       "\n",
       "            setTimeout(function() {\n",
       "                var nbb_cell_id = 25;\n",
       "                var nbb_unformatted_code = \"inference._neural_net.to(device=\\\"cpu\\\")\";\n",
       "                var nbb_formatted_code = \"inference._neural_net.to(device=\\\"cpu\\\")\";\n",
       "                var nbb_cells = Jupyter.notebook.get_cells();\n",
       "                for (var i = 0; i < nbb_cells.length; ++i) {\n",
       "                    if (nbb_cells[i].input_prompt_number == nbb_cell_id) {\n",
       "                        if (nbb_cells[i].get_text() == nbb_unformatted_code) {\n",
       "                             nbb_cells[i].set_text(nbb_formatted_code);\n",
       "                        }\n",
       "                        break;\n",
       "                    }\n",
       "                }\n",
       "            }, 500);\n",
       "            "
      ],
      "text/plain": [
       "<IPython.core.display.Javascript object>"
      ]
     },
     "metadata": {},
     "output_type": "display_data"
    }
   ],
   "source": [
    "inference._neural_net.to(device=\"cpu\")"
   ]
  },
  {
   "cell_type": "code",
   "execution_count": 26,
   "metadata": {},
   "outputs": [
    {
     "data": {
      "application/javascript": [
       "\n",
       "            setTimeout(function() {\n",
       "                var nbb_cell_id = 26;\n",
       "                var nbb_unformatted_code = \"posterior = inference.build_posterior(density_estimator)\";\n",
       "                var nbb_formatted_code = \"posterior = inference.build_posterior(density_estimator)\";\n",
       "                var nbb_cells = Jupyter.notebook.get_cells();\n",
       "                for (var i = 0; i < nbb_cells.length; ++i) {\n",
       "                    if (nbb_cells[i].input_prompt_number == nbb_cell_id) {\n",
       "                        if (nbb_cells[i].get_text() == nbb_unformatted_code) {\n",
       "                             nbb_cells[i].set_text(nbb_formatted_code);\n",
       "                        }\n",
       "                        break;\n",
       "                    }\n",
       "                }\n",
       "            }, 500);\n",
       "            "
      ],
      "text/plain": [
       "<IPython.core.display.Javascript object>"
      ]
     },
     "metadata": {},
     "output_type": "display_data"
    }
   ],
   "source": [
    "posterior = inference.build_posterior(density_estimator)"
   ]
  },
  {
   "cell_type": "code",
   "execution_count": 32,
   "metadata": {},
   "outputs": [
    {
     "name": "stderr",
     "output_type": "stream",
     "text": [
      "/home/narendra/.local/lib/python3.7/site-packages/ipykernel_launcher.py:2: UserWarning: To copy construct from a tensor, it is recommended to use sourceTensor.clone().detach() or sourceTensor.clone().detach().requires_grad_(True), rather than torch.tensor(sourceTensor).\n",
      "  \n"
     ]
    },
    {
     "data": {
      "application/vnd.jupyter.widget-view+json": {
       "model_id": "921b76e8f9e84297806e29a225557b31",
       "version_major": 2,
       "version_minor": 0
      },
      "text/plain": [
       "HBox(children=(HTML(value='Drawing 10000 posterior samples'), FloatProgress(value=0.0, max=10000.0), HTML(valu…"
      ]
     },
     "metadata": {},
     "output_type": "display_data"
    },
    {
     "name": "stdout",
     "output_type": "stream",
     "text": [
      "\n"
     ]
    },
    {
     "name": "stderr",
     "output_type": "stream",
     "text": [
      "/home/narendra/.local/lib/python3.7/site-packages/ipykernel_launcher.py:5: UserWarning: To copy construct from a tensor, it is recommended to use sourceTensor.clone().detach() or sourceTensor.clone().detach().requires_grad_(True), rather than torch.tensor(sourceTensor).\n",
      "  \"\"\"\n"
     ]
    },
    {
     "data": {
      "application/vnd.jupyter.widget-view+json": {
       "model_id": "16989394201a4c5482ad04f1517e96ba",
       "version_major": 2,
       "version_minor": 0
      },
      "text/plain": [
       "HBox(children=(HTML(value='Drawing 10000 posterior samples'), FloatProgress(value=0.0, max=10000.0), HTML(valu…"
      ]
     },
     "metadata": {},
     "output_type": "display_data"
    },
    {
     "name": "stdout",
     "output_type": "stream",
     "text": [
      "\n"
     ]
    },
    {
     "name": "stderr",
     "output_type": "stream",
     "text": [
      "/home/narendra/.local/lib/python3.7/site-packages/ipykernel_launcher.py:8: UserWarning: To copy construct from a tensor, it is recommended to use sourceTensor.clone().detach() or sourceTensor.clone().detach().requires_grad_(True), rather than torch.tensor(sourceTensor).\n",
      "  \n"
     ]
    },
    {
     "data": {
      "application/vnd.jupyter.widget-view+json": {
       "model_id": "020fbd8503884f85a3d2c4b725076ec2",
       "version_major": 2,
       "version_minor": 0
      },
      "text/plain": [
       "HBox(children=(HTML(value='Drawing 10000 posterior samples'), FloatProgress(value=0.0, max=10000.0), HTML(valu…"
      ]
     },
     "metadata": {},
     "output_type": "display_data"
    },
    {
     "name": "stdout",
     "output_type": "stream",
     "text": [
      "\n"
     ]
    },
    {
     "data": {
      "application/javascript": [
       "\n",
       "            setTimeout(function() {\n",
       "                var nbb_cell_id = 32;\n",
       "                var nbb_unformatted_code = \"samples1 = posterior.sample(\\n    (10000,), x=torch.tensor(simulations[100, :, :][None, :, :]).type(torch.FloatTensor)\\n)\\nsamples2 = posterior.sample(\\n    (10000,), x=torch.tensor(simulations[200, :, :][None, :, :]).type(torch.FloatTensor)\\n)\\nsamples3 = posterior.sample(\\n    (10000,), x=torch.tensor(simulations[300, :, :][None, :, :]).type(torch.FloatTensor)\\n)\";\n",
       "                var nbb_formatted_code = \"samples1 = posterior.sample(\\n    (10000,), x=torch.tensor(simulations[100, :, :][None, :, :]).type(torch.FloatTensor)\\n)\\nsamples2 = posterior.sample(\\n    (10000,), x=torch.tensor(simulations[200, :, :][None, :, :]).type(torch.FloatTensor)\\n)\\nsamples3 = posterior.sample(\\n    (10000,), x=torch.tensor(simulations[300, :, :][None, :, :]).type(torch.FloatTensor)\\n)\";\n",
       "                var nbb_cells = Jupyter.notebook.get_cells();\n",
       "                for (var i = 0; i < nbb_cells.length; ++i) {\n",
       "                    if (nbb_cells[i].input_prompt_number == nbb_cell_id) {\n",
       "                        if (nbb_cells[i].get_text() == nbb_unformatted_code) {\n",
       "                             nbb_cells[i].set_text(nbb_formatted_code);\n",
       "                        }\n",
       "                        break;\n",
       "                    }\n",
       "                }\n",
       "            }, 500);\n",
       "            "
      ],
      "text/plain": [
       "<IPython.core.display.Javascript object>"
      ]
     },
     "metadata": {},
     "output_type": "display_data"
    }
   ],
   "source": [
    "samples1 = posterior.sample(\n",
    "    (10000,), x=torch.tensor(simulations[100, :, :][None, :, :]).type(torch.FloatTensor)\n",
    ")\n",
    "samples2 = posterior.sample(\n",
    "    (10000,), x=torch.tensor(simulations[200, :, :][None, :, :]).type(torch.FloatTensor)\n",
    ")\n",
    "samples3 = posterior.sample(\n",
    "    (10000,), x=torch.tensor(simulations[300, :, :][None, :, :]).type(torch.FloatTensor)\n",
    ")"
   ]
  },
  {
   "cell_type": "code",
   "execution_count": 33,
   "metadata": {},
   "outputs": [
    {
     "name": "stdout",
     "output_type": "stream",
     "text": [
      "tensor([3.2699, 1.7343])\n"
     ]
    },
    {
     "data": {
      "image/png": "[encoded data removed]",
      "text/plain": [
       "<Figure size 360x360 with 4 Axes>"
      ]
     },
     "metadata": {
      "needs_background": "light"
     },
     "output_type": "display_data"
    },
    {
     "data": {
      "application/javascript": [
       "\n",
       "            setTimeout(function() {\n",
       "                var nbb_cell_id = 33;\n",
       "                var nbb_unformatted_code = \"print(parameters[100, :])\\n_ = utils.pairplot(samples1, fig_size=(5, 5))\";\n",
       "                var nbb_formatted_code = \"print(parameters[100, :])\\n_ = utils.pairplot(samples1, fig_size=(5, 5))\";\n",
       "                var nbb_cells = Jupyter.notebook.get_cells();\n",
       "                for (var i = 0; i < nbb_cells.length; ++i) {\n",
       "                    if (nbb_cells[i].input_prompt_number == nbb_cell_id) {\n",
       "                        if (nbb_cells[i].get_text() == nbb_unformatted_code) {\n",
       "                             nbb_cells[i].set_text(nbb_formatted_code);\n",
       "                        }\n",
       "                        break;\n",
       "                    }\n",
       "                }\n",
       "            }, 500);\n",
       "            "
      ],
      "text/plain": [
       "<IPython.core.display.Javascript object>"
      ]
     },
     "metadata": {},
     "output_type": "display_data"
    }
   ],
   "source": [
    "print(parameters[100, :])\n",
    "_ = utils.pairplot(samples1, fig_size=(5, 5))"
   ]
  },
  {
   "cell_type": "code",
   "execution_count": 34,
   "metadata": {},
   "outputs": [
    {
     "name": "stdout",
     "output_type": "stream",
     "text": [
      "tensor([0.8032, 1.6031])\n"
     ]
    },
    {
     "data": {
      "image/png": "[encoded data removed]",
      "text/plain": [
       "<Figure size 360x360 with 4 Axes>"
      ]
     },
     "metadata": {
      "needs_background": "light"
     },
     "output_type": "display_data"
    },
    {
     "data": {
      "application/javascript": [
       "\n",
       "            setTimeout(function() {\n",
       "                var nbb_cell_id = 34;\n",
       "                var nbb_unformatted_code = \"print(parameters[200, :])\\n_ = utils.pairplot(samples2, fig_size=(5, 5))\";\n",
       "                var nbb_formatted_code = \"print(parameters[200, :])\\n_ = utils.pairplot(samples2, fig_size=(5, 5))\";\n",
       "                var nbb_cells = Jupyter.notebook.get_cells();\n",
       "                for (var i = 0; i < nbb_cells.length; ++i) {\n",
       "                    if (nbb_cells[i].input_prompt_number == nbb_cell_id) {\n",
       "                        if (nbb_cells[i].get_text() == nbb_unformatted_code) {\n",
       "                             nbb_cells[i].set_text(nbb_formatted_code);\n",
       "                        }\n",
       "                        break;\n",
       "                    }\n",
       "                }\n",
       "            }, 500);\n",
       "            "
      ],
      "text/plain": [
       "<IPython.core.display.Javascript object>"
      ]
     },
     "metadata": {},
     "output_type": "display_data"
    }
   ],
   "source": [
    "print(parameters[200, :])\n",
    "_ = utils.pairplot(samples2, fig_size=(5, 5))"
   ]
  },
  {
   "cell_type": "markdown",
   "metadata": {},
   "source": [
    "**The time series model is able to capture the bi-modal distribution here, which the histogram model wasn't able to capture at all (see next section). So, heavily U-shaped distributions weren't being diagnosed very well by the histogram based model**"
   ]
  },
  {
   "cell_type": "code",
   "execution_count": 35,
   "metadata": {},
   "outputs": [
    {
     "name": "stdout",
     "output_type": "stream",
     "text": [
      "tensor([3.0813, 0.8259])\n"
     ]
    },
    {
     "data": {
      "image/png": "[encoded data removed]",
      "text/plain": [
       "<Figure size 360x360 with 4 Axes>"
      ]
     },
     "metadata": {
      "needs_background": "light"
     },
     "output_type": "display_data"
    },
    {
     "data": {
      "application/javascript": [
       "\n",
       "            setTimeout(function() {\n",
       "                var nbb_cell_id = 35;\n",
       "                var nbb_unformatted_code = \"print(parameters[300, :])\\n_ = utils.pairplot(samples3, fig_size=(5, 5))\";\n",
       "                var nbb_formatted_code = \"print(parameters[300, :])\\n_ = utils.pairplot(samples3, fig_size=(5, 5))\";\n",
       "                var nbb_cells = Jupyter.notebook.get_cells();\n",
       "                for (var i = 0; i < nbb_cells.length; ++i) {\n",
       "                    if (nbb_cells[i].input_prompt_number == nbb_cell_id) {\n",
       "                        if (nbb_cells[i].get_text() == nbb_unformatted_code) {\n",
       "                             nbb_cells[i].set_text(nbb_formatted_code);\n",
       "                        }\n",
       "                        break;\n",
       "                    }\n",
       "                }\n",
       "            }, 500);\n",
       "            "
      ],
      "text/plain": [
       "<IPython.core.display.Javascript object>"
      ]
     },
     "metadata": {},
     "output_type": "display_data"
    }
   ],
   "source": [
    "print(parameters[300, :])\n",
    "_ = utils.pairplot(samples3, fig_size=(5, 5))"
   ]
  },
  {
   "cell_type": "code",
   "execution_count": 39,
   "metadata": {},
   "outputs": [
    {
     "data": {
      "text/plain": [
       "tensor([8.4200e+02, 1.9000e+02, 1.0000e+00, 0.0000e+00, 1.0270e+03])"
      ]
     },
     "execution_count": 39,
     "metadata": {},
     "output_type": "execute_result"
    },
    {
     "data": {
      "application/javascript": [
       "\n",
       "            setTimeout(function() {\n",
       "                var nbb_cell_id = 39;\n",
       "                var nbb_unformatted_code = \"simulations[200][:, -1]\";\n",
       "                var nbb_formatted_code = \"simulations[200][:, -1]\";\n",
       "                var nbb_cells = Jupyter.notebook.get_cells();\n",
       "                for (var i = 0; i < nbb_cells.length; ++i) {\n",
       "                    if (nbb_cells[i].input_prompt_number == nbb_cell_id) {\n",
       "                        if (nbb_cells[i].get_text() == nbb_unformatted_code) {\n",
       "                             nbb_cells[i].set_text(nbb_formatted_code);\n",
       "                        }\n",
       "                        break;\n",
       "                    }\n",
       "                }\n",
       "            }, 500);\n",
       "            "
      ],
      "text/plain": [
       "<IPython.core.display.Javascript object>"
      ]
     },
     "metadata": {},
     "output_type": "display_data"
    }
   ],
   "source": [
    "simulations[200][:, -1]"
   ]
  },
  {
   "cell_type": "code",
   "execution_count": 40,
   "metadata": {},
   "outputs": [
    {
     "data": {
      "application/javascript": [
       "\n",
       "            setTimeout(function() {\n",
       "                var nbb_cell_id = 40;\n",
       "                var nbb_unformatted_code = \"a = simulations[200][:, -1].numpy()\";\n",
       "                var nbb_formatted_code = \"a = simulations[200][:, -1].numpy()\";\n",
       "                var nbb_cells = Jupyter.notebook.get_cells();\n",
       "                for (var i = 0; i < nbb_cells.length; ++i) {\n",
       "                    if (nbb_cells[i].input_prompt_number == nbb_cell_id) {\n",
       "                        if (nbb_cells[i].get_text() == nbb_unformatted_code) {\n",
       "                             nbb_cells[i].set_text(nbb_formatted_code);\n",
       "                        }\n",
       "                        break;\n",
       "                    }\n",
       "                }\n",
       "            }, 500);\n",
       "            "
      ],
      "text/plain": [
       "<IPython.core.display.Javascript object>"
      ]
     },
     "metadata": {},
     "output_type": "display_data"
    }
   ],
   "source": [
    "a = simulations[200][:, -1].numpy()"
   ]
  },
  {
   "cell_type": "code",
   "execution_count": 43,
   "metadata": {},
   "outputs": [
    {
     "name": "stdout",
     "output_type": "stream",
     "text": [
      "842.0\n",
      "190.0\n",
      "1.0\n",
      "0.0\n",
      "1027.0\n"
     ]
    },
    {
     "data": {
      "application/javascript": [
       "\n",
       "            setTimeout(function() {\n",
       "                var nbb_cell_id = 43;\n",
       "                var nbb_unformatted_code = \"for i in range(5):\\n    print(a[i])\";\n",
       "                var nbb_formatted_code = \"for i in range(5):\\n    print(a[i])\";\n",
       "                var nbb_cells = Jupyter.notebook.get_cells();\n",
       "                for (var i = 0; i < nbb_cells.length; ++i) {\n",
       "                    if (nbb_cells[i].input_prompt_number == nbb_cell_id) {\n",
       "                        if (nbb_cells[i].get_text() == nbb_unformatted_code) {\n",
       "                             nbb_cells[i].set_text(nbb_formatted_code);\n",
       "                        }\n",
       "                        break;\n",
       "                    }\n",
       "                }\n",
       "            }, 500);\n",
       "            "
      ],
      "text/plain": [
       "<IPython.core.display.Javascript object>"
      ]
     },
     "metadata": {},
     "output_type": "display_data"
    }
   ],
   "source": [
    "for i in range(5):\n",
    "    print(a[i])"
   ]
  },
  {
   "cell_type": "markdown",
   "metadata": {},
   "source": [
    "# Also do the same with old histogram method"
   ]
  },
  {
   "cell_type": "code",
   "execution_count": 45,
   "metadata": {},
   "outputs": [
    {
     "data": {
      "application/javascript": [
       "\n",
       "            setTimeout(function() {\n",
       "                var nbb_cell_id = 45;\n",
       "                var nbb_unformatted_code = \"theta = []\\noutput = []\\nfor i in range(len(simulator.simulations)):\\n    theta.append(simulator.simulation_parameters[\\\"rho\\\"][i, :])\\n    output.append(simulator.simulations[i][-1, :])\";\n",
       "                var nbb_formatted_code = \"theta = []\\noutput = []\\nfor i in range(len(simulator.simulations)):\\n    theta.append(simulator.simulation_parameters[\\\"rho\\\"][i, :])\\n    output.append(simulator.simulations[i][-1, :])\";\n",
       "                var nbb_cells = Jupyter.notebook.get_cells();\n",
       "                for (var i = 0; i < nbb_cells.length; ++i) {\n",
       "                    if (nbb_cells[i].input_prompt_number == nbb_cell_id) {\n",
       "                        if (nbb_cells[i].get_text() == nbb_unformatted_code) {\n",
       "                             nbb_cells[i].set_text(nbb_formatted_code);\n",
       "                        }\n",
       "                        break;\n",
       "                    }\n",
       "                }\n",
       "            }, 500);\n",
       "            "
      ],
      "text/plain": [
       "<IPython.core.display.Javascript object>"
      ]
     },
     "metadata": {},
     "output_type": "display_data"
    }
   ],
   "source": [
    "theta = []\n",
    "output = []\n",
    "for i in range(len(simulator.simulations)):\n",
    "    theta.append(simulator.simulation_parameters[\"rho\"][i, :])\n",
    "    output.append(simulator.simulations[i][-1, :])"
   ]
  },
  {
   "cell_type": "code",
   "execution_count": 46,
   "metadata": {},
   "outputs": [
    {
     "data": {
      "text/plain": [
       "((20000, 2), (20000, 5))"
      ]
     },
     "execution_count": 46,
     "metadata": {},
     "output_type": "execute_result"
    },
    {
     "data": {
      "application/javascript": [
       "\n",
       "            setTimeout(function() {\n",
       "                var nbb_cell_id = 46;\n",
       "                var nbb_unformatted_code = \"theta = np.array(theta)\\noutput = np.array(output)\\ntheta.shape, output.shape\";\n",
       "                var nbb_formatted_code = \"theta = np.array(theta)\\noutput = np.array(output)\\ntheta.shape, output.shape\";\n",
       "                var nbb_cells = Jupyter.notebook.get_cells();\n",
       "                for (var i = 0; i < nbb_cells.length; ++i) {\n",
       "                    if (nbb_cells[i].input_prompt_number == nbb_cell_id) {\n",
       "                        if (nbb_cells[i].get_text() == nbb_unformatted_code) {\n",
       "                             nbb_cells[i].set_text(nbb_formatted_code);\n",
       "                        }\n",
       "                        break;\n",
       "                    }\n",
       "                }\n",
       "            }, 500);\n",
       "            "
      ],
      "text/plain": [
       "<IPython.core.display.Javascript object>"
      ]
     },
     "metadata": {},
     "output_type": "display_data"
    }
   ],
   "source": [
    "theta = np.array(theta)\n",
    "output = np.array(output)\n",
    "theta.shape, output.shape"
   ]
  },
  {
   "cell_type": "code",
   "execution_count": 47,
   "metadata": {},
   "outputs": [
    {
     "data": {
      "application/javascript": [
       "\n",
       "            setTimeout(function() {\n",
       "                var nbb_cell_id = 47;\n",
       "                var nbb_unformatted_code = \"# Convert everything into torch tensors to be fed into SNPE\\noutput = torch.from_numpy(output).type(torch.FloatTensor)\\n# theta = torch.from_numpy(theta).type(torch.FloatTensor)\\ntheta = torch.from_numpy(theta).type(torch.FloatTensor)\";\n",
       "                var nbb_formatted_code = \"# Convert everything into torch tensors to be fed into SNPE\\noutput = torch.from_numpy(output).type(torch.FloatTensor)\\n# theta = torch.from_numpy(theta).type(torch.FloatTensor)\\ntheta = torch.from_numpy(theta).type(torch.FloatTensor)\";\n",
       "                var nbb_cells = Jupyter.notebook.get_cells();\n",
       "                for (var i = 0; i < nbb_cells.length; ++i) {\n",
       "                    if (nbb_cells[i].input_prompt_number == nbb_cell_id) {\n",
       "                        if (nbb_cells[i].get_text() == nbb_unformatted_code) {\n",
       "                             nbb_cells[i].set_text(nbb_formatted_code);\n",
       "                        }\n",
       "                        break;\n",
       "                    }\n",
       "                }\n",
       "            }, 500);\n",
       "            "
      ],
      "text/plain": [
       "<IPython.core.display.Javascript object>"
      ]
     },
     "metadata": {},
     "output_type": "display_data"
    }
   ],
   "source": [
    "# Convert everything into torch tensors to be fed into SNPE\n",
    "output = torch.from_numpy(output).type(torch.FloatTensor)\n",
    "# theta = torch.from_numpy(theta).type(torch.FloatTensor)\n",
    "theta = torch.from_numpy(theta).type(torch.FloatTensor)"
   ]
  },
  {
   "cell_type": "code",
   "execution_count": 50,
   "metadata": {},
   "outputs": [
    {
     "data": {
      "application/javascript": [
       "\n",
       "            setTimeout(function() {\n",
       "                var nbb_cell_id = 50;\n",
       "                var nbb_unformatted_code = \"# 2 parameters, positive and negative rho\\nprior = utils.BoxUniform(\\n    low=torch.tensor([0.0, 0.0]).type(torch.FloatTensor),\\n    high=torch.tensor([4.0, 4.0]).type(torch.FloatTensor),\\n)\";\n",
       "                var nbb_formatted_code = \"# 2 parameters, positive and negative rho\\nprior = utils.BoxUniform(\\n    low=torch.tensor([0.0, 0.0]).type(torch.FloatTensor),\\n    high=torch.tensor([4.0, 4.0]).type(torch.FloatTensor),\\n)\";\n",
       "                var nbb_cells = Jupyter.notebook.get_cells();\n",
       "                for (var i = 0; i < nbb_cells.length; ++i) {\n",
       "                    if (nbb_cells[i].input_prompt_number == nbb_cell_id) {\n",
       "                        if (nbb_cells[i].get_text() == nbb_unformatted_code) {\n",
       "                             nbb_cells[i].set_text(nbb_formatted_code);\n",
       "                        }\n",
       "                        break;\n",
       "                    }\n",
       "                }\n",
       "            }, 500);\n",
       "            "
      ],
      "text/plain": [
       "<IPython.core.display.Javascript object>"
      ]
     },
     "metadata": {},
     "output_type": "display_data"
    }
   ],
   "source": [
    "# 2 parameters, positive and negative rho\n",
    "prior = utils.BoxUniform(\n",
    "    low=torch.tensor([0.0, 0.0]).type(torch.FloatTensor),\n",
    "    high=torch.tensor([4.0, 4.0]).type(torch.FloatTensor),\n",
    ")"
   ]
  },
  {
   "cell_type": "code",
   "execution_count": 51,
   "metadata": {},
   "outputs": [
    {
     "data": {
      "application/javascript": [
       "\n",
       "            setTimeout(function() {\n",
       "                var nbb_cell_id = 51;\n",
       "                var nbb_unformatted_code = \"inference = SNPE(prior, device=\\\"cpu\\\", show_progress_bars=True)\";\n",
       "                var nbb_formatted_code = \"inference = SNPE(prior, device=\\\"cpu\\\", show_progress_bars=True)\";\n",
       "                var nbb_cells = Jupyter.notebook.get_cells();\n",
       "                for (var i = 0; i < nbb_cells.length; ++i) {\n",
       "                    if (nbb_cells[i].input_prompt_number == nbb_cell_id) {\n",
       "                        if (nbb_cells[i].get_text() == nbb_unformatted_code) {\n",
       "                             nbb_cells[i].set_text(nbb_formatted_code);\n",
       "                        }\n",
       "                        break;\n",
       "                    }\n",
       "                }\n",
       "            }, 500);\n",
       "            "
      ],
      "text/plain": [
       "<IPython.core.display.Javascript object>"
      ]
     },
     "metadata": {},
     "output_type": "display_data"
    }
   ],
   "source": [
    "inference = SNPE(prior, device=\"cpu\", show_progress_bars=True)"
   ]
  },
  {
   "cell_type": "code",
   "execution_count": 52,
   "metadata": {},
   "outputs": [
    {
     "name": "stdout",
     "output_type": "stream",
     "text": [
      "Neural network successfully converged after 191 epochs.\n",
      "\n",
      "        -------------------------\n",
      "        ||||| ROUND 1 STATS |||||:\n",
      "        -------------------------\n",
      "        Epochs trained: 191\n",
      "        Best validation performance: -0.0894\n",
      "        -------------------------\n",
      "        \n"
     ]
    },
    {
     "data": {
      "application/javascript": [
       "\n",
       "            setTimeout(function() {\n",
       "                var nbb_cell_id = 52;\n",
       "                var nbb_unformatted_code = \"density_estimator = inference.append_simulations(theta, output).train(\\n    training_batch_size=50, show_train_summary=True\\n)\";\n",
       "                var nbb_formatted_code = \"density_estimator = inference.append_simulations(theta, output).train(\\n    training_batch_size=50, show_train_summary=True\\n)\";\n",
       "                var nbb_cells = Jupyter.notebook.get_cells();\n",
       "                for (var i = 0; i < nbb_cells.length; ++i) {\n",
       "                    if (nbb_cells[i].input_prompt_number == nbb_cell_id) {\n",
       "                        if (nbb_cells[i].get_text() == nbb_unformatted_code) {\n",
       "                             nbb_cells[i].set_text(nbb_formatted_code);\n",
       "                        }\n",
       "                        break;\n",
       "                    }\n",
       "                }\n",
       "            }, 500);\n",
       "            "
      ],
      "text/plain": [
       "<IPython.core.display.Javascript object>"
      ]
     },
     "metadata": {},
     "output_type": "display_data"
    }
   ],
   "source": [
    "density_estimator = inference.append_simulations(theta, output).train(\n",
    "    training_batch_size=50, show_train_summary=True\n",
    ")"
   ]
  },
  {
   "cell_type": "code",
   "execution_count": 53,
   "metadata": {},
   "outputs": [
    {
     "data": {
      "application/javascript": [
       "\n",
       "            setTimeout(function() {\n",
       "                var nbb_cell_id = 53;\n",
       "                var nbb_unformatted_code = \"posterior = inference.build_posterior(density_estimator)\";\n",
       "                var nbb_formatted_code = \"posterior = inference.build_posterior(density_estimator)\";\n",
       "                var nbb_cells = Jupyter.notebook.get_cells();\n",
       "                for (var i = 0; i < nbb_cells.length; ++i) {\n",
       "                    if (nbb_cells[i].input_prompt_number == nbb_cell_id) {\n",
       "                        if (nbb_cells[i].get_text() == nbb_unformatted_code) {\n",
       "                             nbb_cells[i].set_text(nbb_formatted_code);\n",
       "                        }\n",
       "                        break;\n",
       "                    }\n",
       "                }\n",
       "            }, 500);\n",
       "            "
      ],
      "text/plain": [
       "<IPython.core.display.Javascript object>"
      ]
     },
     "metadata": {},
     "output_type": "display_data"
    }
   ],
   "source": [
    "posterior = inference.build_posterior(density_estimator)"
   ]
  },
  {
   "cell_type": "code",
   "execution_count": 56,
   "metadata": {},
   "outputs": [
    {
     "name": "stderr",
     "output_type": "stream",
     "text": [
      "/home/narendra/.local/lib/python3.7/site-packages/ipykernel_launcher.py:2: UserWarning: To copy construct from a tensor, it is recommended to use sourceTensor.clone().detach() or sourceTensor.clone().detach().requires_grad_(True), rather than torch.tensor(sourceTensor).\n",
      "  \n"
     ]
    },
    {
     "data": {
      "application/vnd.jupyter.widget-view+json": {
       "model_id": "4759587120e14491bd7fb03fdb018e7a",
       "version_major": 2,
       "version_minor": 0
      },
      "text/plain": [
       "HBox(children=(HTML(value='Drawing 10000 posterior samples'), FloatProgress(value=0.0, max=10000.0), HTML(valu…"
      ]
     },
     "metadata": {},
     "output_type": "display_data"
    },
    {
     "name": "stderr",
     "output_type": "stream",
     "text": [
      "/home/narendra/.local/lib/python3.7/site-packages/ipykernel_launcher.py:5: UserWarning: To copy construct from a tensor, it is recommended to use sourceTensor.clone().detach() or sourceTensor.clone().detach().requires_grad_(True), rather than torch.tensor(sourceTensor).\n",
      "  \"\"\"\n"
     ]
    },
    {
     "name": "stdout",
     "output_type": "stream",
     "text": [
      "\n"
     ]
    },
    {
     "data": {
      "application/vnd.jupyter.widget-view+json": {
       "model_id": "63326e583b3a40708007e0c9b017dfdd",
       "version_major": 2,
       "version_minor": 0
      },
      "text/plain": [
       "HBox(children=(HTML(value='Drawing 10000 posterior samples'), FloatProgress(value=0.0, max=10000.0), HTML(valu…"
      ]
     },
     "metadata": {},
     "output_type": "display_data"
    },
    {
     "name": "stdout",
     "output_type": "stream",
     "text": [
      "\n"
     ]
    },
    {
     "name": "stderr",
     "output_type": "stream",
     "text": [
      "/home/narendra/.local/lib/python3.7/site-packages/ipykernel_launcher.py:8: UserWarning: To copy construct from a tensor, it is recommended to use sourceTensor.clone().detach() or sourceTensor.clone().detach().requires_grad_(True), rather than torch.tensor(sourceTensor).\n",
      "  \n"
     ]
    },
    {
     "data": {
      "application/vnd.jupyter.widget-view+json": {
       "model_id": "850def6b9f814192862a8961a9654af7",
       "version_major": 2,
       "version_minor": 0
      },
      "text/plain": [
       "HBox(children=(HTML(value='Drawing 10000 posterior samples'), FloatProgress(value=0.0, max=10000.0), HTML(valu…"
      ]
     },
     "metadata": {},
     "output_type": "display_data"
    },
    {
     "name": "stdout",
     "output_type": "stream",
     "text": [
      "\n"
     ]
    },
    {
     "data": {
      "application/javascript": [
       "\n",
       "            setTimeout(function() {\n",
       "                var nbb_cell_id = 56;\n",
       "                var nbb_unformatted_code = \"samples1 = posterior.sample(\\n    (10000,), x=torch.tensor(output[100, :]).type(torch.FloatTensor)\\n)\\nsamples2 = posterior.sample(\\n    (10000,), x=torch.tensor(output[200, :]).type(torch.FloatTensor)\\n)\\nsamples3 = posterior.sample(\\n    (10000,), x=torch.tensor(output[300, :]).type(torch.FloatTensor)\\n)\";\n",
       "                var nbb_formatted_code = \"samples1 = posterior.sample(\\n    (10000,), x=torch.tensor(output[100, :]).type(torch.FloatTensor)\\n)\\nsamples2 = posterior.sample(\\n    (10000,), x=torch.tensor(output[200, :]).type(torch.FloatTensor)\\n)\\nsamples3 = posterior.sample(\\n    (10000,), x=torch.tensor(output[300, :]).type(torch.FloatTensor)\\n)\";\n",
       "                var nbb_cells = Jupyter.notebook.get_cells();\n",
       "                for (var i = 0; i < nbb_cells.length; ++i) {\n",
       "                    if (nbb_cells[i].input_prompt_number == nbb_cell_id) {\n",
       "                        if (nbb_cells[i].get_text() == nbb_unformatted_code) {\n",
       "                             nbb_cells[i].set_text(nbb_formatted_code);\n",
       "                        }\n",
       "                        break;\n",
       "                    }\n",
       "                }\n",
       "            }, 500);\n",
       "            "
      ],
      "text/plain": [
       "<IPython.core.display.Javascript object>"
      ]
     },
     "metadata": {},
     "output_type": "display_data"
    }
   ],
   "source": [
    "samples1 = posterior.sample(\n",
    "    (10000,), x=torch.tensor(output[100, :]).type(torch.FloatTensor)\n",
    ")\n",
    "samples2 = posterior.sample(\n",
    "    (10000,), x=torch.tensor(output[200, :]).type(torch.FloatTensor)\n",
    ")\n",
    "samples3 = posterior.sample(\n",
    "    (10000,), x=torch.tensor(output[300, :]).type(torch.FloatTensor)\n",
    ")"
   ]
  },
  {
   "cell_type": "code",
   "execution_count": 57,
   "metadata": {},
   "outputs": [
    {
     "name": "stdout",
     "output_type": "stream",
     "text": [
      "tensor([3.2699, 1.7343])\n"
     ]
    },
    {
     "data": {
      "image/png": "[encoded data removed]",
      "text/plain": [
       "<Figure size 360x360 with 4 Axes>"
      ]
     },
     "metadata": {
      "needs_background": "light"
     },
     "output_type": "display_data"
    },
    {
     "data": {
      "application/javascript": [
       "\n",
       "            setTimeout(function() {\n",
       "                var nbb_cell_id = 57;\n",
       "                var nbb_unformatted_code = \"print(theta[100, :])\\n_ = utils.pairplot(samples1, fig_size=(5, 5))\";\n",
       "                var nbb_formatted_code = \"print(theta[100, :])\\n_ = utils.pairplot(samples1, fig_size=(5, 5))\";\n",
       "                var nbb_cells = Jupyter.notebook.get_cells();\n",
       "                for (var i = 0; i < nbb_cells.length; ++i) {\n",
       "                    if (nbb_cells[i].input_prompt_number == nbb_cell_id) {\n",
       "                        if (nbb_cells[i].get_text() == nbb_unformatted_code) {\n",
       "                             nbb_cells[i].set_text(nbb_formatted_code);\n",
       "                        }\n",
       "                        break;\n",
       "                    }\n",
       "                }\n",
       "            }, 500);\n",
       "            "
      ],
      "text/plain": [
       "<IPython.core.display.Javascript object>"
      ]
     },
     "metadata": {},
     "output_type": "display_data"
    }
   ],
   "source": [
    "print(theta[100, :])\n",
    "_ = utils.pairplot(samples1, fig_size=(5, 5))"
   ]
  },
  {
   "cell_type": "code",
   "execution_count": 58,
   "metadata": {},
   "outputs": [
    {
     "name": "stdout",
     "output_type": "stream",
     "text": [
      "tensor([0.8032, 1.6031])\n"
     ]
    },
    {
     "data": {
      "image/png": "[encoded data removed]",
      "text/plain": [
       "<Figure size 360x360 with 4 Axes>"
      ]
     },
     "metadata": {
      "needs_background": "light"
     },
     "output_type": "display_data"
    },
    {
     "data": {
      "application/javascript": [
       "\n",
       "            setTimeout(function() {\n",
       "                var nbb_cell_id = 58;\n",
       "                var nbb_unformatted_code = \"print(theta[200, :])\\n_ = utils.pairplot(samples2, fig_size=(5, 5))\";\n",
       "                var nbb_formatted_code = \"print(theta[200, :])\\n_ = utils.pairplot(samples2, fig_size=(5, 5))\";\n",
       "                var nbb_cells = Jupyter.notebook.get_cells();\n",
       "                for (var i = 0; i < nbb_cells.length; ++i) {\n",
       "                    if (nbb_cells[i].input_prompt_number == nbb_cell_id) {\n",
       "                        if (nbb_cells[i].get_text() == nbb_unformatted_code) {\n",
       "                             nbb_cells[i].set_text(nbb_formatted_code);\n",
       "                        }\n",
       "                        break;\n",
       "                    }\n",
       "                }\n",
       "            }, 500);\n",
       "            "
      ],
      "text/plain": [
       "<IPython.core.display.Javascript object>"
      ]
     },
     "metadata": {},
     "output_type": "display_data"
    }
   ],
   "source": [
    "print(theta[200, :])\n",
    "_ = utils.pairplot(samples2, fig_size=(5, 5))"
   ]
  },
  {
   "cell_type": "code",
   "execution_count": 59,
   "metadata": {},
   "outputs": [
    {
     "name": "stdout",
     "output_type": "stream",
     "text": [
      "tensor([3.0813, 0.8259])\n"
     ]
    },
    {
     "data": {
      "image/png": "[encoded data removed]",
      "text/plain": [
       "<Figure size 360x360 with 4 Axes>"
      ]
     },
     "metadata": {
      "needs_background": "light"
     },
     "output_type": "display_data"
    },
    {
     "data": {
      "application/javascript": [
       "\n",
       "            setTimeout(function() {\n",
       "                var nbb_cell_id = 59;\n",
       "                var nbb_unformatted_code = \"print(theta[300, :])\\n_ = utils.pairplot(samples3, fig_size=(5, 5))\";\n",
       "                var nbb_formatted_code = \"print(theta[300, :])\\n_ = utils.pairplot(samples3, fig_size=(5, 5))\";\n",
       "                var nbb_cells = Jupyter.notebook.get_cells();\n",
       "                for (var i = 0; i < nbb_cells.length; ++i) {\n",
       "                    if (nbb_cells[i].input_prompt_number == nbb_cell_id) {\n",
       "                        if (nbb_cells[i].get_text() == nbb_unformatted_code) {\n",
       "                             nbb_cells[i].set_text(nbb_formatted_code);\n",
       "                        }\n",
       "                        break;\n",
       "                    }\n",
       "                }\n",
       "            }, 500);\n",
       "            "
      ],
      "text/plain": [
       "<IPython.core.display.Javascript object>"
      ]
     },
     "metadata": {},
     "output_type": "display_data"
    }
   ],
   "source": [
    "print(theta[300, :])\n",
    "_ = utils.pairplot(samples3, fig_size=(5, 5))"
   ]
  },
  {
   "cell_type": "code",
   "execution_count": null,
   "metadata": {},
   "outputs": [],
   "source": []
  },
  {
   "cell_type": "markdown",
   "metadata": {},
   "source": [
    "# Compare time-series and histogram validation performance on series longer than 1000"
   ]
  },
  {
   "cell_type": "markdown",
   "metadata": {},
   "source": [
    "# First histogram inference"
   ]
  },
  {
   "cell_type": "code",
   "execution_count": 12,
   "metadata": {},
   "outputs": [
    {
     "data": {
      "text/plain": [
       "array([array([[  0.,   0.,   0.,   0.,   0.],\n",
       "       [  0.,   0.,   0.,   0.,   1.],\n",
       "       [  1.,   0.,   0.,   0.,   1.],\n",
       "       ...,\n",
       "       [370., 255., 162.,  91., 179.],\n",
       "       [371., 255., 162.,  91., 179.],\n",
       "       [371., 256., 162.,  91., 179.]]),\n",
       "       array([[  0.,   0.,   0.,   0.,   0.],\n",
       "       [  1.,   0.,   0.,   0.,   0.],\n",
       "       [  2.,   0.,   0.,   0.,   0.],\n",
       "       ...,\n",
       "       [111., 124.,  88.,  78.,  60.],\n",
       "       [111., 124.,  88.,  79.,  60.],\n",
       "       [111., 124.,  88.,  80.,  60.]]),\n",
       "       array([[  0.,   0.,   0.,   0.,   0.],\n",
       "       [  1.,   0.,   0.,   0.,   0.],\n",
       "       [  1.,   1.,   0.,   0.,   0.],\n",
       "       ...,\n",
       "       [ 16., 339., 224.,  42.,   4.],\n",
       "       [ 16., 340., 224.,  42.,   4.],\n",
       "       [ 16., 340., 225.,  42.,   4.]]),\n",
       "       ...,\n",
       "       array([[  0.,   0.,   0.,   0.,   0.],\n",
       "       [  0.,   0.,   1.,   0.,   0.],\n",
       "       [  0.,   1.,   1.,   0.,   0.],\n",
       "       ...,\n",
       "       [ 58., 443., 159.,  67.,  35.],\n",
       "       [ 58., 444., 159.,  67.,  35.],\n",
       "       [ 58., 445., 159.,  67.,  35.]]),\n",
       "       array([[  0.,   0.,   0.,   0.,   0.],\n",
       "       [  0.,   1.,   0.,   0.,   0.],\n",
       "       [  0.,   2.,   0.,   0.,   0.],\n",
       "       ...,\n",
       "       [ 41., 516., 532.,  27.,   2.],\n",
       "       [ 41., 516., 533.,  27.,   2.],\n",
       "       [ 41., 516., 534.,  27.,   2.]]),\n",
       "       array([[0.000e+00, 0.000e+00, 0.000e+00, 0.000e+00, 0.000e+00],\n",
       "       [1.000e+00, 0.000e+00, 0.000e+00, 0.000e+00, 0.000e+00],\n",
       "       [2.000e+00, 0.000e+00, 0.000e+00, 0.000e+00, 0.000e+00],\n",
       "       ...,\n",
       "       [5.580e+02, 1.047e+03, 9.300e+01, 2.000e+00, 5.690e+02],\n",
       "       [5.580e+02, 1.048e+03, 9.300e+01, 2.000e+00, 5.690e+02],\n",
       "       [5.590e+02, 1.048e+03, 9.300e+01, 2.000e+00, 5.690e+02]])],\n",
       "      dtype=object)"
      ]
     },
     "execution_count": 12,
     "metadata": {},
     "output_type": "execute_result"
    },
    {
     "data": {
      "application/javascript": [
       "\n",
       "            setTimeout(function() {\n",
       "                var nbb_cell_id = 12;\n",
       "                var nbb_unformatted_code = \"simulator.simulations\";\n",
       "                var nbb_formatted_code = \"simulator.simulations\";\n",
       "                var nbb_cells = Jupyter.notebook.get_cells();\n",
       "                for (var i = 0; i < nbb_cells.length; ++i) {\n",
       "                    if (nbb_cells[i].input_prompt_number == nbb_cell_id) {\n",
       "                        if (nbb_cells[i].get_text() == nbb_unformatted_code) {\n",
       "                             nbb_cells[i].set_text(nbb_formatted_code);\n",
       "                        }\n",
       "                        break;\n",
       "                    }\n",
       "                }\n",
       "            }, 500);\n",
       "            "
      ],
      "text/plain": [
       "<IPython.core.display.Javascript object>"
      ]
     },
     "metadata": {},
     "output_type": "display_data"
    }
   ],
   "source": [
    "simulator.simulations"
   ]
  },
  {
   "cell_type": "code",
   "execution_count": 17,
   "metadata": {},
   "outputs": [
    {
     "data": {
      "text/plain": [
       "(20000, 2)"
      ]
     },
     "execution_count": 17,
     "metadata": {},
     "output_type": "execute_result"
    },
    {
     "data": {
      "application/javascript": [
       "\n",
       "            setTimeout(function() {\n",
       "                var nbb_cell_id = 17;\n",
       "                var nbb_unformatted_code = \"simulator.simulation_parameters[\\\"rho\\\"].shape\";\n",
       "                var nbb_formatted_code = \"simulator.simulation_parameters[\\\"rho\\\"].shape\";\n",
       "                var nbb_cells = Jupyter.notebook.get_cells();\n",
       "                for (var i = 0; i < nbb_cells.length; ++i) {\n",
       "                    if (nbb_cells[i].input_prompt_number == nbb_cell_id) {\n",
       "                        if (nbb_cells[i].get_text() == nbb_unformatted_code) {\n",
       "                             nbb_cells[i].set_text(nbb_formatted_code);\n",
       "                        }\n",
       "                        break;\n",
       "                    }\n",
       "                }\n",
       "            }, 500);\n",
       "            "
      ],
      "text/plain": [
       "<IPython.core.display.Javascript object>"
      ]
     },
     "metadata": {},
     "output_type": "display_data"
    }
   ],
   "source": [
    "simulator.simulation_parameters[\"rho\"].shape"
   ]
  },
  {
   "cell_type": "code",
   "execution_count": 24,
   "metadata": {},
   "outputs": [
    {
     "data": {
      "application/javascript": [
       "\n",
       "            setTimeout(function() {\n",
       "                var nbb_cell_id = 24;\n",
       "                var nbb_unformatted_code = \"theta = []\\noutput = []\\nfor i in range(len(simulator.simulations)):\\n    if len(simulator.simulations[i]) > 1000:\\n        theta.append(simulator.simulation_parameters[\\\"rho\\\"][i, :])\\n        output.append(simulator.simulations[i][1000, :])\";\n",
       "                var nbb_formatted_code = \"theta = []\\noutput = []\\nfor i in range(len(simulator.simulations)):\\n    if len(simulator.simulations[i]) > 1000:\\n        theta.append(simulator.simulation_parameters[\\\"rho\\\"][i, :])\\n        output.append(simulator.simulations[i][1000, :])\";\n",
       "                var nbb_cells = Jupyter.notebook.get_cells();\n",
       "                for (var i = 0; i < nbb_cells.length; ++i) {\n",
       "                    if (nbb_cells[i].input_prompt_number == nbb_cell_id) {\n",
       "                        if (nbb_cells[i].get_text() == nbb_unformatted_code) {\n",
       "                             nbb_cells[i].set_text(nbb_formatted_code);\n",
       "                        }\n",
       "                        break;\n",
       "                    }\n",
       "                }\n",
       "            }, 500);\n",
       "            "
      ],
      "text/plain": [
       "<IPython.core.display.Javascript object>"
      ]
     },
     "metadata": {},
     "output_type": "display_data"
    }
   ],
   "source": [
    "theta = []\n",
    "output = []\n",
    "for i in range(len(simulator.simulations)):\n",
    "    if len(simulator.simulations[i]) > 1000:\n",
    "        theta.append(simulator.simulation_parameters[\"rho\"][i, :])\n",
    "        output.append(simulator.simulations[i][1000, :])"
   ]
  },
  {
   "cell_type": "code",
   "execution_count": 25,
   "metadata": {},
   "outputs": [
    {
     "data": {
      "text/plain": [
       "((13391, 2), (13391, 5))"
      ]
     },
     "execution_count": 25,
     "metadata": {},
     "output_type": "execute_result"
    },
    {
     "data": {
      "application/javascript": [
       "\n",
       "            setTimeout(function() {\n",
       "                var nbb_cell_id = 25;\n",
       "                var nbb_unformatted_code = \"theta = np.array(theta)\\noutput = np.array(output)\\ntheta.shape, output.shape\";\n",
       "                var nbb_formatted_code = \"theta = np.array(theta)\\noutput = np.array(output)\\ntheta.shape, output.shape\";\n",
       "                var nbb_cells = Jupyter.notebook.get_cells();\n",
       "                for (var i = 0; i < nbb_cells.length; ++i) {\n",
       "                    if (nbb_cells[i].input_prompt_number == nbb_cell_id) {\n",
       "                        if (nbb_cells[i].get_text() == nbb_unformatted_code) {\n",
       "                             nbb_cells[i].set_text(nbb_formatted_code);\n",
       "                        }\n",
       "                        break;\n",
       "                    }\n",
       "                }\n",
       "            }, 500);\n",
       "            "
      ],
      "text/plain": [
       "<IPython.core.display.Javascript object>"
      ]
     },
     "metadata": {},
     "output_type": "display_data"
    }
   ],
   "source": [
    "theta = np.array(theta)\n",
    "output = np.array(output)\n",
    "theta.shape, output.shape"
   ]
  },
  {
   "cell_type": "code",
   "execution_count": 26,
   "metadata": {},
   "outputs": [
    {
     "data": {
      "application/javascript": [
       "\n",
       "            setTimeout(function() {\n",
       "                var nbb_cell_id = 26;\n",
       "                var nbb_unformatted_code = \"# Convert everything into torch tensors to be fed into SNPE\\noutput = torch.from_numpy(output).type(torch.FloatTensor)\\n# theta = torch.from_numpy(theta).type(torch.FloatTensor)\\ntheta = torch.from_numpy(theta).type(torch.FloatTensor)\";\n",
       "                var nbb_formatted_code = \"# Convert everything into torch tensors to be fed into SNPE\\noutput = torch.from_numpy(output).type(torch.FloatTensor)\\n# theta = torch.from_numpy(theta).type(torch.FloatTensor)\\ntheta = torch.from_numpy(theta).type(torch.FloatTensor)\";\n",
       "                var nbb_cells = Jupyter.notebook.get_cells();\n",
       "                for (var i = 0; i < nbb_cells.length; ++i) {\n",
       "                    if (nbb_cells[i].input_prompt_number == nbb_cell_id) {\n",
       "                        if (nbb_cells[i].get_text() == nbb_unformatted_code) {\n",
       "                             nbb_cells[i].set_text(nbb_formatted_code);\n",
       "                        }\n",
       "                        break;\n",
       "                    }\n",
       "                }\n",
       "            }, 500);\n",
       "            "
      ],
      "text/plain": [
       "<IPython.core.display.Javascript object>"
      ]
     },
     "metadata": {},
     "output_type": "display_data"
    }
   ],
   "source": [
    "# Convert everything into torch tensors to be fed into SNPE\n",
    "output = torch.from_numpy(output).type(torch.FloatTensor)\n",
    "# theta = torch.from_numpy(theta).type(torch.FloatTensor)\n",
    "theta = torch.from_numpy(theta).type(torch.FloatTensor)"
   ]
  },
  {
   "cell_type": "code",
   "execution_count": 28,
   "metadata": {},
   "outputs": [
    {
     "data": {
      "application/javascript": [
       "\n",
       "            setTimeout(function() {\n",
       "                var nbb_cell_id = 28;\n",
       "                var nbb_unformatted_code = \"# 2 parameters, positive and negative rho\\nprior = utils.BoxUniform(\\n    low=torch.tensor([0.0, 0.0]).type(torch.FloatTensor),\\n    high=torch.tensor([4.0, 4.0]).type(torch.FloatTensor),\\n)\";\n",
       "                var nbb_formatted_code = \"# 2 parameters, positive and negative rho\\nprior = utils.BoxUniform(\\n    low=torch.tensor([0.0, 0.0]).type(torch.FloatTensor),\\n    high=torch.tensor([4.0, 4.0]).type(torch.FloatTensor),\\n)\";\n",
       "                var nbb_cells = Jupyter.notebook.get_cells();\n",
       "                for (var i = 0; i < nbb_cells.length; ++i) {\n",
       "                    if (nbb_cells[i].input_prompt_number == nbb_cell_id) {\n",
       "                        if (nbb_cells[i].get_text() == nbb_unformatted_code) {\n",
       "                             nbb_cells[i].set_text(nbb_formatted_code);\n",
       "                        }\n",
       "                        break;\n",
       "                    }\n",
       "                }\n",
       "            }, 500);\n",
       "            "
      ],
      "text/plain": [
       "<IPython.core.display.Javascript object>"
      ]
     },
     "metadata": {},
     "output_type": "display_data"
    }
   ],
   "source": [
    "# 2 parameters, positive and negative rho\n",
    "prior = utils.BoxUniform(\n",
    "    low=torch.tensor([0.0, 0.0]).type(torch.FloatTensor),\n",
    "    high=torch.tensor([4.0, 4.0]).type(torch.FloatTensor),\n",
    ")"
   ]
  },
  {
   "cell_type": "code",
   "execution_count": 29,
   "metadata": {},
   "outputs": [
    {
     "data": {
      "application/javascript": [
       "\n",
       "            setTimeout(function() {\n",
       "                var nbb_cell_id = 29;\n",
       "                var nbb_unformatted_code = \"inference = SNPE(prior, device=\\\"cpu\\\", show_progress_bars=True)\";\n",
       "                var nbb_formatted_code = \"inference = SNPE(prior, device=\\\"cpu\\\", show_progress_bars=True)\";\n",
       "                var nbb_cells = Jupyter.notebook.get_cells();\n",
       "                for (var i = 0; i < nbb_cells.length; ++i) {\n",
       "                    if (nbb_cells[i].input_prompt_number == nbb_cell_id) {\n",
       "                        if (nbb_cells[i].get_text() == nbb_unformatted_code) {\n",
       "                             nbb_cells[i].set_text(nbb_formatted_code);\n",
       "                        }\n",
       "                        break;\n",
       "                    }\n",
       "                }\n",
       "            }, 500);\n",
       "            "
      ],
      "text/plain": [
       "<IPython.core.display.Javascript object>"
      ]
     },
     "metadata": {},
     "output_type": "display_data"
    }
   ],
   "source": [
    "inference = SNPE(prior, device=\"cpu\", show_progress_bars=True)"
   ]
  },
  {
   "cell_type": "code",
   "execution_count": 31,
   "metadata": {},
   "outputs": [
    {
     "name": "stdout",
     "output_type": "stream",
     "text": [
      "Neural network successfully converged after 166 epochs.\n",
      "\n",
      "        -------------------------\n",
      "        ||||| ROUND 1 STATS |||||:\n",
      "        -------------------------\n",
      "        Epochs trained: 166\n",
      "        Best validation performance: 0.0321\n",
      "        -------------------------\n",
      "        \n"
     ]
    },
    {
     "data": {
      "application/javascript": [
       "\n",
       "            setTimeout(function() {\n",
       "                var nbb_cell_id = 31;\n",
       "                var nbb_unformatted_code = \"density_estimator = inference.append_simulations(theta, output).train(\\n    training_batch_size=50, show_train_summary=True\\n)\";\n",
       "                var nbb_formatted_code = \"density_estimator = inference.append_simulations(theta, output).train(\\n    training_batch_size=50, show_train_summary=True\\n)\";\n",
       "                var nbb_cells = Jupyter.notebook.get_cells();\n",
       "                for (var i = 0; i < nbb_cells.length; ++i) {\n",
       "                    if (nbb_cells[i].input_prompt_number == nbb_cell_id) {\n",
       "                        if (nbb_cells[i].get_text() == nbb_unformatted_code) {\n",
       "                             nbb_cells[i].set_text(nbb_formatted_code);\n",
       "                        }\n",
       "                        break;\n",
       "                    }\n",
       "                }\n",
       "            }, 500);\n",
       "            "
      ],
      "text/plain": [
       "<IPython.core.display.Javascript object>"
      ]
     },
     "metadata": {},
     "output_type": "display_data"
    }
   ],
   "source": [
    "density_estimator = inference.append_simulations(theta, output).train(\n",
    "    training_batch_size=50, show_train_summary=True\n",
    ")"
   ]
  },
  {
   "cell_type": "code",
   "execution_count": 34,
   "metadata": {},
   "outputs": [
    {
     "data": {
      "application/javascript": [
       "\n",
       "            setTimeout(function() {\n",
       "                var nbb_cell_id = 34;\n",
       "                var nbb_unformatted_code = \"posterior = inference.build_posterior(density_estimator)\";\n",
       "                var nbb_formatted_code = \"posterior = inference.build_posterior(density_estimator)\";\n",
       "                var nbb_cells = Jupyter.notebook.get_cells();\n",
       "                for (var i = 0; i < nbb_cells.length; ++i) {\n",
       "                    if (nbb_cells[i].input_prompt_number == nbb_cell_id) {\n",
       "                        if (nbb_cells[i].get_text() == nbb_unformatted_code) {\n",
       "                             nbb_cells[i].set_text(nbb_formatted_code);\n",
       "                        }\n",
       "                        break;\n",
       "                    }\n",
       "                }\n",
       "            }, 500);\n",
       "            "
      ],
      "text/plain": [
       "<IPython.core.display.Javascript object>"
      ]
     },
     "metadata": {},
     "output_type": "display_data"
    }
   ],
   "source": [
    "posterior = inference.build_posterior(density_estimator)"
   ]
  },
  {
   "cell_type": "code",
   "execution_count": 35,
   "metadata": {},
   "outputs": [
    {
     "name": "stderr",
     "output_type": "stream",
     "text": [
      "/home/narendra/.local/lib/python3.7/site-packages/ipykernel_launcher.py:1: UserWarning: To copy construct from a tensor, it is recommended to use sourceTensor.clone().detach() or sourceTensor.clone().detach().requires_grad_(True), rather than torch.tensor(sourceTensor).\n",
      "  \"\"\"Entry point for launching an IPython kernel.\n"
     ]
    },
    {
     "data": {
      "application/vnd.jupyter.widget-view+json": {
       "model_id": "",
       "version_major": 2,
       "version_minor": 0
      },
      "text/plain": [
       "HBox(children=(HTML(value='Drawing 10000 posterior samples'), FloatProgress(value=0.0, max=10000.0), HTML(valu…"
      ]
     },
     "metadata": {},
     "output_type": "display_data"
    },
    {
     "name": "stdout",
     "output_type": "stream",
     "text": [
      "\n"
     ]
    },
    {
     "name": "stderr",
     "output_type": "stream",
     "text": [
      "/home/narendra/.local/lib/python3.7/site-packages/ipykernel_launcher.py:2: UserWarning: To copy construct from a tensor, it is recommended to use sourceTensor.clone().detach() or sourceTensor.clone().detach().requires_grad_(True), rather than torch.tensor(sourceTensor).\n",
      "  \n"
     ]
    },
    {
     "data": {
      "application/vnd.jupyter.widget-view+json": {
       "model_id": "",
       "version_major": 2,
       "version_minor": 0
      },
      "text/plain": [
       "HBox(children=(HTML(value='Drawing 10000 posterior samples'), FloatProgress(value=0.0, max=10000.0), HTML(valu…"
      ]
     },
     "metadata": {},
     "output_type": "display_data"
    },
    {
     "name": "stdout",
     "output_type": "stream",
     "text": [
      "\n"
     ]
    },
    {
     "name": "stderr",
     "output_type": "stream",
     "text": [
      "/home/narendra/.local/lib/python3.7/site-packages/ipykernel_launcher.py:3: UserWarning: To copy construct from a tensor, it is recommended to use sourceTensor.clone().detach() or sourceTensor.clone().detach().requires_grad_(True), rather than torch.tensor(sourceTensor).\n",
      "  This is separate from the ipykernel package so we can avoid doing imports until\n"
     ]
    },
    {
     "data": {
      "application/vnd.jupyter.widget-view+json": {
       "model_id": "",
       "version_major": 2,
       "version_minor": 0
      },
      "text/plain": [
       "HBox(children=(HTML(value='Drawing 10000 posterior samples'), FloatProgress(value=0.0, max=10000.0), HTML(valu…"
      ]
     },
     "metadata": {},
     "output_type": "display_data"
    },
    {
     "name": "stdout",
     "output_type": "stream",
     "text": [
      "\n"
     ]
    },
    {
     "data": {
      "application/javascript": [
       "\n",
       "            setTimeout(function() {\n",
       "                var nbb_cell_id = 35;\n",
       "                var nbb_unformatted_code = \"samples1 = posterior.sample((10000,), x=torch.tensor(output[100, :]).type(torch.FloatTensor))\\nsamples2 = posterior.sample((10000,), x=torch.tensor(output[200, :]).type(torch.FloatTensor))\\nsamples3 = posterior.sample((10000,), x=torch.tensor(output[300, :]).type(torch.FloatTensor))\";\n",
       "                var nbb_formatted_code = \"samples1 = posterior.sample(\\n    (10000,), x=torch.tensor(output[100, :]).type(torch.FloatTensor)\\n)\\nsamples2 = posterior.sample(\\n    (10000,), x=torch.tensor(output[200, :]).type(torch.FloatTensor)\\n)\\nsamples3 = posterior.sample(\\n    (10000,), x=torch.tensor(output[300, :]).type(torch.FloatTensor)\\n)\";\n",
       "                var nbb_cells = Jupyter.notebook.get_cells();\n",
       "                for (var i = 0; i < nbb_cells.length; ++i) {\n",
       "                    if (nbb_cells[i].input_prompt_number == nbb_cell_id) {\n",
       "                        if (nbb_cells[i].get_text() == nbb_unformatted_code) {\n",
       "                             nbb_cells[i].set_text(nbb_formatted_code);\n",
       "                        }\n",
       "                        break;\n",
       "                    }\n",
       "                }\n",
       "            }, 500);\n",
       "            "
      ],
      "text/plain": [
       "<IPython.core.display.Javascript object>"
      ]
     },
     "metadata": {},
     "output_type": "display_data"
    }
   ],
   "source": [
    "samples1 = posterior.sample(\n",
    "    (10000,), x=torch.tensor(output[100, :]).type(torch.FloatTensor)\n",
    ")\n",
    "samples2 = posterior.sample(\n",
    "    (10000,), x=torch.tensor(output[200, :]).type(torch.FloatTensor)\n",
    ")\n",
    "samples3 = posterior.sample(\n",
    "    (10000,), x=torch.tensor(output[300, :]).type(torch.FloatTensor)\n",
    ")"
   ]
  },
  {
   "cell_type": "code",
   "execution_count": 37,
   "metadata": {},
   "outputs": [
    {
     "name": "stdout",
     "output_type": "stream",
     "text": [
      "tensor([1.5518, 1.7110])\n"
     ]
    },
    {
     "data": {
      "image/png": "[encoded data removed]",
      "text/plain": [
       "<Figure size 360x360 with 4 Axes>"
      ]
     },
     "metadata": {
      "needs_background": "light"
     },
     "output_type": "display_data"
    },
    {
     "data": {
      "application/javascript": [
       "\n",
       "            setTimeout(function() {\n",
       "                var nbb_cell_id = 37;\n",
       "                var nbb_unformatted_code = \"print(theta[100, :])\\n_ = utils.pairplot(samples1, fig_size=(5, 5))\";\n",
       "                var nbb_formatted_code = \"print(theta[100, :])\\n_ = utils.pairplot(samples1, fig_size=(5, 5))\";\n",
       "                var nbb_cells = Jupyter.notebook.get_cells();\n",
       "                for (var i = 0; i < nbb_cells.length; ++i) {\n",
       "                    if (nbb_cells[i].input_prompt_number == nbb_cell_id) {\n",
       "                        if (nbb_cells[i].get_text() == nbb_unformatted_code) {\n",
       "                             nbb_cells[i].set_text(nbb_formatted_code);\n",
       "                        }\n",
       "                        break;\n",
       "                    }\n",
       "                }\n",
       "            }, 500);\n",
       "            "
      ],
      "text/plain": [
       "<IPython.core.display.Javascript object>"
      ]
     },
     "metadata": {},
     "output_type": "display_data"
    }
   ],
   "source": [
    "print(theta[100, :])\n",
    "_ = utils.pairplot(samples1, fig_size=(5, 5))"
   ]
  },
  {
   "cell_type": "code",
   "execution_count": 38,
   "metadata": {},
   "outputs": [
    {
     "name": "stdout",
     "output_type": "stream",
     "text": [
      "tensor([0.2831, 0.6709])\n"
     ]
    },
    {
     "data": {
      "image/png": "[encoded data removed]",
      "text/plain": [
       "<Figure size 360x360 with 4 Axes>"
      ]
     },
     "metadata": {
      "needs_background": "light"
     },
     "output_type": "display_data"
    },
    {
     "data": {
      "application/javascript": [
       "\n",
       "            setTimeout(function() {\n",
       "                var nbb_cell_id = 38;\n",
       "                var nbb_unformatted_code = \"print(theta[200, :])\\n_ = utils.pairplot(samples2, fig_size=(5, 5))\";\n",
       "                var nbb_formatted_code = \"print(theta[200, :])\\n_ = utils.pairplot(samples2, fig_size=(5, 5))\";\n",
       "                var nbb_cells = Jupyter.notebook.get_cells();\n",
       "                for (var i = 0; i < nbb_cells.length; ++i) {\n",
       "                    if (nbb_cells[i].input_prompt_number == nbb_cell_id) {\n",
       "                        if (nbb_cells[i].get_text() == nbb_unformatted_code) {\n",
       "                             nbb_cells[i].set_text(nbb_formatted_code);\n",
       "                        }\n",
       "                        break;\n",
       "                    }\n",
       "                }\n",
       "            }, 500);\n",
       "            "
      ],
      "text/plain": [
       "<IPython.core.display.Javascript object>"
      ]
     },
     "metadata": {},
     "output_type": "display_data"
    }
   ],
   "source": [
    "print(theta[200, :])\n",
    "_ = utils.pairplot(samples2, fig_size=(5, 5))"
   ]
  },
  {
   "cell_type": "code",
   "execution_count": 39,
   "metadata": {},
   "outputs": [
    {
     "name": "stdout",
     "output_type": "stream",
     "text": [
      "tensor([0.1540, 1.7882])\n"
     ]
    },
    {
     "data": {
      "image/png": "[encoded data removed]",
      "text/plain": [
       "<Figure size 360x360 with 4 Axes>"
      ]
     },
     "metadata": {
      "needs_background": "light"
     },
     "output_type": "display_data"
    },
    {
     "data": {
      "application/javascript": [
       "\n",
       "            setTimeout(function() {\n",
       "                var nbb_cell_id = 39;\n",
       "                var nbb_unformatted_code = \"print(theta[300, :])\\n_ = utils.pairplot(samples3, fig_size=(5, 5))\";\n",
       "                var nbb_formatted_code = \"print(theta[300, :])\\n_ = utils.pairplot(samples3, fig_size=(5, 5))\";\n",
       "                var nbb_cells = Jupyter.notebook.get_cells();\n",
       "                for (var i = 0; i < nbb_cells.length; ++i) {\n",
       "                    if (nbb_cells[i].input_prompt_number == nbb_cell_id) {\n",
       "                        if (nbb_cells[i].get_text() == nbb_unformatted_code) {\n",
       "                             nbb_cells[i].set_text(nbb_formatted_code);\n",
       "                        }\n",
       "                        break;\n",
       "                    }\n",
       "                }\n",
       "            }, 500);\n",
       "            "
      ],
      "text/plain": [
       "<IPython.core.display.Javascript object>"
      ]
     },
     "metadata": {},
     "output_type": "display_data"
    }
   ],
   "source": [
    "print(theta[300, :])\n",
    "_ = utils.pairplot(samples3, fig_size=(5, 5))"
   ]
  },
  {
   "cell_type": "markdown",
   "metadata": {},
   "source": [
    "# Now time-series inference"
   ]
  },
  {
   "cell_type": "code",
   "execution_count": 42,
   "metadata": {},
   "outputs": [
    {
     "data": {
      "application/javascript": [
       "\n",
       "            setTimeout(function() {\n",
       "                var nbb_cell_id = 42;\n",
       "                var nbb_unformatted_code = \"theta = []\\noutput = []\\nfor i in range(len(simulator.simulations)):\\n    if len(simulator.simulations[i]) > 1000:\\n        theta.append(simulator.simulation_parameters[\\\"rho\\\"][i, :])\\n        output.append(simulator.simulations[i][:1000, :])\";\n",
       "                var nbb_formatted_code = \"theta = []\\noutput = []\\nfor i in range(len(simulator.simulations)):\\n    if len(simulator.simulations[i]) > 1000:\\n        theta.append(simulator.simulation_parameters[\\\"rho\\\"][i, :])\\n        output.append(simulator.simulations[i][:1000, :])\";\n",
       "                var nbb_cells = Jupyter.notebook.get_cells();\n",
       "                for (var i = 0; i < nbb_cells.length; ++i) {\n",
       "                    if (nbb_cells[i].input_prompt_number == nbb_cell_id) {\n",
       "                        if (nbb_cells[i].get_text() == nbb_unformatted_code) {\n",
       "                             nbb_cells[i].set_text(nbb_formatted_code);\n",
       "                        }\n",
       "                        break;\n",
       "                    }\n",
       "                }\n",
       "            }, 500);\n",
       "            "
      ],
      "text/plain": [
       "<IPython.core.display.Javascript object>"
      ]
     },
     "metadata": {},
     "output_type": "display_data"
    }
   ],
   "source": [
    "theta = []\n",
    "output = []\n",
    "for i in range(len(simulator.simulations)):\n",
    "    if len(simulator.simulations[i]) > 1000:\n",
    "        theta.append(simulator.simulation_parameters[\"rho\"][i, :])\n",
    "        output.append(simulator.simulations[i][:1000, :])"
   ]
  },
  {
   "cell_type": "code",
   "execution_count": 43,
   "metadata": {},
   "outputs": [
    {
     "data": {
      "text/plain": [
       "((13391, 2), (13391, 5, 1000))"
      ]
     },
     "execution_count": 43,
     "metadata": {},
     "output_type": "execute_result"
    },
    {
     "data": {
      "application/javascript": [
       "\n",
       "            setTimeout(function() {\n",
       "                var nbb_cell_id = 43;\n",
       "                var nbb_unformatted_code = \"theta = np.array(theta)\\noutput = np.array(output)\\noutput = np.swapaxes(output, 1, 2)\\ntheta.shape, output.shape\";\n",
       "                var nbb_formatted_code = \"theta = np.array(theta)\\noutput = np.array(output)\\noutput = np.swapaxes(output, 1, 2)\\ntheta.shape, output.shape\";\n",
       "                var nbb_cells = Jupyter.notebook.get_cells();\n",
       "                for (var i = 0; i < nbb_cells.length; ++i) {\n",
       "                    if (nbb_cells[i].input_prompt_number == nbb_cell_id) {\n",
       "                        if (nbb_cells[i].get_text() == nbb_unformatted_code) {\n",
       "                             nbb_cells[i].set_text(nbb_formatted_code);\n",
       "                        }\n",
       "                        break;\n",
       "                    }\n",
       "                }\n",
       "            }, 500);\n",
       "            "
      ],
      "text/plain": [
       "<IPython.core.display.Javascript object>"
      ]
     },
     "metadata": {},
     "output_type": "display_data"
    }
   ],
   "source": [
    "theta = np.array(theta)\n",
    "output = np.array(output)\n",
    "output = np.swapaxes(output, 1, 2)\n",
    "theta.shape, output.shape"
   ]
  },
  {
   "cell_type": "code",
   "execution_count": 54,
   "metadata": {},
   "outputs": [
    {
     "data": {
      "application/javascript": [
       "\n",
       "            setTimeout(function() {\n",
       "                var nbb_cell_id = 54;\n",
       "                var nbb_unformatted_code = \"# Convert everything into torch tensors to be fed into SNPE\\noutput = torch.from_numpy(output).type(torch.FloatTensor)\\n# theta = torch.from_numpy(theta).type(torch.FloatTensor)\\ntheta = torch.from_numpy(theta).type(torch.FloatTensor)\";\n",
       "                var nbb_formatted_code = \"# Convert everything into torch tensors to be fed into SNPE\\noutput = torch.from_numpy(output).type(torch.FloatTensor)\\n# theta = torch.from_numpy(theta).type(torch.FloatTensor)\\ntheta = torch.from_numpy(theta).type(torch.FloatTensor)\";\n",
       "                var nbb_cells = Jupyter.notebook.get_cells();\n",
       "                for (var i = 0; i < nbb_cells.length; ++i) {\n",
       "                    if (nbb_cells[i].input_prompt_number == nbb_cell_id) {\n",
       "                        if (nbb_cells[i].get_text() == nbb_unformatted_code) {\n",
       "                             nbb_cells[i].set_text(nbb_formatted_code);\n",
       "                        }\n",
       "                        break;\n",
       "                    }\n",
       "                }\n",
       "            }, 500);\n",
       "            "
      ],
      "text/plain": [
       "<IPython.core.display.Javascript object>"
      ]
     },
     "metadata": {},
     "output_type": "display_data"
    }
   ],
   "source": [
    "# Convert everything into torch tensors to be fed into SNPE\n",
    "output = torch.from_numpy(output).type(torch.FloatTensor)\n",
    "# theta = torch.from_numpy(theta).type(torch.FloatTensor)\n",
    "theta = torch.from_numpy(theta).type(torch.FloatTensor)"
   ]
  },
  {
   "cell_type": "code",
   "execution_count": 55,
   "metadata": {},
   "outputs": [
    {
     "data": {
      "application/javascript": [
       "\n",
       "            setTimeout(function() {\n",
       "                var nbb_cell_id = 55;\n",
       "                var nbb_unformatted_code = \"dim = 8\\nkernel_size = 5\\n\\nembedding_net = torch.nn.Sequential(\\n    torch.nn.Conv1d(\\n        in_channels=5,\\n        out_channels=dim,\\n        kernel_size=kernel_size,\\n        padding=(kernel_size - 1),\\n        dilation=1,\\n    ),\\n    torch.nn.LeakyReLU(),\\n    torch.nn.Conv1d(\\n        in_channels=dim,\\n        out_channels=dim,\\n        kernel_size=kernel_size,\\n        padding=(kernel_size - 1) * 2,\\n        dilation=2,\\n    ),\\n    torch.nn.LeakyReLU(),\\n    torch.nn.Conv1d(\\n        in_channels=dim,\\n        out_channels=dim,\\n        kernel_size=kernel_size,\\n        padding=(kernel_size - 1) * 4,\\n        dilation=4,\\n    ),\\n    torch.nn.LeakyReLU(),\\n    torch.nn.Conv1d(\\n        in_channels=dim,\\n        out_channels=dim,\\n        kernel_size=kernel_size,\\n        padding=(kernel_size - 1) * 8,\\n        dilation=8,\\n    ),\\n    torch.nn.LeakyReLU(),\\n    torch.nn.MaxPool1d(kernel_size=5),\\n    torch.nn.Flatten(start_dim=1),\\n    torch.nn.Linear(1696, 128),\\n    torch.nn.Linear(128, 32),\\n)\";\n",
       "                var nbb_formatted_code = \"dim = 8\\nkernel_size = 5\\n\\nembedding_net = torch.nn.Sequential(\\n    torch.nn.Conv1d(\\n        in_channels=5,\\n        out_channels=dim,\\n        kernel_size=kernel_size,\\n        padding=(kernel_size - 1),\\n        dilation=1,\\n    ),\\n    torch.nn.LeakyReLU(),\\n    torch.nn.Conv1d(\\n        in_channels=dim,\\n        out_channels=dim,\\n        kernel_size=kernel_size,\\n        padding=(kernel_size - 1) * 2,\\n        dilation=2,\\n    ),\\n    torch.nn.LeakyReLU(),\\n    torch.nn.Conv1d(\\n        in_channels=dim,\\n        out_channels=dim,\\n        kernel_size=kernel_size,\\n        padding=(kernel_size - 1) * 4,\\n        dilation=4,\\n    ),\\n    torch.nn.LeakyReLU(),\\n    torch.nn.Conv1d(\\n        in_channels=dim,\\n        out_channels=dim,\\n        kernel_size=kernel_size,\\n        padding=(kernel_size - 1) * 8,\\n        dilation=8,\\n    ),\\n    torch.nn.LeakyReLU(),\\n    torch.nn.MaxPool1d(kernel_size=5),\\n    torch.nn.Flatten(start_dim=1),\\n    torch.nn.Linear(1696, 128),\\n    torch.nn.Linear(128, 32),\\n)\";\n",
       "                var nbb_cells = Jupyter.notebook.get_cells();\n",
       "                for (var i = 0; i < nbb_cells.length; ++i) {\n",
       "                    if (nbb_cells[i].input_prompt_number == nbb_cell_id) {\n",
       "                        if (nbb_cells[i].get_text() == nbb_unformatted_code) {\n",
       "                             nbb_cells[i].set_text(nbb_formatted_code);\n",
       "                        }\n",
       "                        break;\n",
       "                    }\n",
       "                }\n",
       "            }, 500);\n",
       "            "
      ],
      "text/plain": [
       "<IPython.core.display.Javascript object>"
      ]
     },
     "metadata": {},
     "output_type": "display_data"
    }
   ],
   "source": [
    "dim = 8\n",
    "kernel_size = 5\n",
    "\n",
    "embedding_net = torch.nn.Sequential(\n",
    "    torch.nn.Conv1d(\n",
    "        in_channels=5,\n",
    "        out_channels=dim,\n",
    "        kernel_size=kernel_size,\n",
    "        padding=(kernel_size - 1),\n",
    "        dilation=1,\n",
    "    ),\n",
    "    torch.nn.LeakyReLU(),\n",
    "    torch.nn.Conv1d(\n",
    "        in_channels=dim,\n",
    "        out_channels=dim,\n",
    "        kernel_size=kernel_size,\n",
    "        padding=(kernel_size - 1) * 2,\n",
    "        dilation=2,\n",
    "    ),\n",
    "    torch.nn.LeakyReLU(),\n",
    "    torch.nn.Conv1d(\n",
    "        in_channels=dim,\n",
    "        out_channels=dim,\n",
    "        kernel_size=kernel_size,\n",
    "        padding=(kernel_size - 1) * 4,\n",
    "        dilation=4,\n",
    "    ),\n",
    "    torch.nn.LeakyReLU(),\n",
    "    torch.nn.Conv1d(\n",
    "        in_channels=dim,\n",
    "        out_channels=dim,\n",
    "        kernel_size=kernel_size,\n",
    "        padding=(kernel_size - 1) * 8,\n",
    "        dilation=8,\n",
    "    ),\n",
    "    torch.nn.LeakyReLU(),\n",
    "    torch.nn.MaxPool1d(kernel_size=5),\n",
    "    torch.nn.Flatten(start_dim=1),\n",
    "    torch.nn.Linear(1696, 128),\n",
    "    torch.nn.Linear(128, 32),\n",
    ")"
   ]
  },
  {
   "cell_type": "code",
   "execution_count": 62,
   "metadata": {},
   "outputs": [
    {
     "data": {
      "application/javascript": [
       "\n",
       "            setTimeout(function() {\n",
       "                var nbb_cell_id = 62;\n",
       "                var nbb_unformatted_code = \"# 2 parameters, positive and negative rho\\nprior = utils.BoxUniform(\\n    low=torch.tensor([0.0, 0.0]).type(torch.FloatTensor),\\n    high=torch.tensor([4.0, 4.0]).type(torch.FloatTensor),\\n)\";\n",
       "                var nbb_formatted_code = \"# 2 parameters, positive and negative rho\\nprior = utils.BoxUniform(\\n    low=torch.tensor([0.0, 0.0]).type(torch.FloatTensor),\\n    high=torch.tensor([4.0, 4.0]).type(torch.FloatTensor),\\n)\";\n",
       "                var nbb_cells = Jupyter.notebook.get_cells();\n",
       "                for (var i = 0; i < nbb_cells.length; ++i) {\n",
       "                    if (nbb_cells[i].input_prompt_number == nbb_cell_id) {\n",
       "                        if (nbb_cells[i].get_text() == nbb_unformatted_code) {\n",
       "                             nbb_cells[i].set_text(nbb_formatted_code);\n",
       "                        }\n",
       "                        break;\n",
       "                    }\n",
       "                }\n",
       "            }, 500);\n",
       "            "
      ],
      "text/plain": [
       "<IPython.core.display.Javascript object>"
      ]
     },
     "metadata": {},
     "output_type": "display_data"
    }
   ],
   "source": [
    "# 2 parameters, positive and negative rho\n",
    "prior = utils.BoxUniform(\n",
    "    low=torch.tensor([0.0, 0.0]).type(torch.FloatTensor),\n",
    "    high=torch.tensor([4.0, 4.0]).type(torch.FloatTensor),\n",
    ")"
   ]
  },
  {
   "cell_type": "code",
   "execution_count": 63,
   "metadata": {},
   "outputs": [
    {
     "data": {
      "application/javascript": [
       "\n",
       "            setTimeout(function() {\n",
       "                var nbb_cell_id = 63;\n",
       "                var nbb_unformatted_code = \"neural_posterior = utils.posterior_nn(\\n    model=\\\"maf\\\",\\n    embedding_net=embedding_net,\\n)\";\n",
       "                var nbb_formatted_code = \"neural_posterior = utils.posterior_nn(\\n    model=\\\"maf\\\",\\n    embedding_net=embedding_net,\\n)\";\n",
       "                var nbb_cells = Jupyter.notebook.get_cells();\n",
       "                for (var i = 0; i < nbb_cells.length; ++i) {\n",
       "                    if (nbb_cells[i].input_prompt_number == nbb_cell_id) {\n",
       "                        if (nbb_cells[i].get_text() == nbb_unformatted_code) {\n",
       "                             nbb_cells[i].set_text(nbb_formatted_code);\n",
       "                        }\n",
       "                        break;\n",
       "                    }\n",
       "                }\n",
       "            }, 500);\n",
       "            "
      ],
      "text/plain": [
       "<IPython.core.display.Javascript object>"
      ]
     },
     "metadata": {},
     "output_type": "display_data"
    }
   ],
   "source": [
    "neural_posterior = utils.posterior_nn(\n",
    "    model=\"maf\",\n",
    "    embedding_net=embedding_net,\n",
    ")"
   ]
  },
  {
   "cell_type": "code",
   "execution_count": 64,
   "metadata": {},
   "outputs": [
    {
     "data": {
      "application/javascript": [
       "\n",
       "            setTimeout(function() {\n",
       "                var nbb_cell_id = 64;\n",
       "                var nbb_unformatted_code = \"inference = SNPE(\\n    prior=prior,\\n    density_estimator=neural_posterior,\\n    device=\\\"gpu\\\",\\n    show_progress_bars=True,\\n)\";\n",
       "                var nbb_formatted_code = \"inference = SNPE(\\n    prior=prior,\\n    density_estimator=neural_posterior,\\n    device=\\\"gpu\\\",\\n    show_progress_bars=True,\\n)\";\n",
       "                var nbb_cells = Jupyter.notebook.get_cells();\n",
       "                for (var i = 0; i < nbb_cells.length; ++i) {\n",
       "                    if (nbb_cells[i].input_prompt_number == nbb_cell_id) {\n",
       "                        if (nbb_cells[i].get_text() == nbb_unformatted_code) {\n",
       "                             nbb_cells[i].set_text(nbb_formatted_code);\n",
       "                        }\n",
       "                        break;\n",
       "                    }\n",
       "                }\n",
       "            }, 500);\n",
       "            "
      ],
      "text/plain": [
       "<IPython.core.display.Javascript object>"
      ]
     },
     "metadata": {},
     "output_type": "display_data"
    }
   ],
   "source": [
    "inference = SNPE(\n",
    "    prior=prior,\n",
    "    density_estimator=neural_posterior,\n",
    "    device=\"gpu\",\n",
    "    show_progress_bars=True,\n",
    ")"
   ]
  },
  {
   "cell_type": "code",
   "execution_count": 65,
   "metadata": {},
   "outputs": [
    {
     "name": "stdout",
     "output_type": "stream",
     "text": [
      "Neural network successfully converged after 142 epochs.\n",
      "\n",
      "        -------------------------\n",
      "        ||||| ROUND 1 STATS |||||:\n",
      "        -------------------------\n",
      "        Epochs trained: 142\n",
      "        Best validation performance: 0.4678\n",
      "        -------------------------\n",
      "        \n"
     ]
    },
    {
     "data": {
      "application/javascript": [
       "\n",
       "            setTimeout(function() {\n",
       "                var nbb_cell_id = 65;\n",
       "                var nbb_unformatted_code = \"density_estimator = inference.append_simulations(theta, output).train(\\n    training_batch_size=50, show_train_summary=True\\n)\";\n",
       "                var nbb_formatted_code = \"density_estimator = inference.append_simulations(theta, output).train(\\n    training_batch_size=50, show_train_summary=True\\n)\";\n",
       "                var nbb_cells = Jupyter.notebook.get_cells();\n",
       "                for (var i = 0; i < nbb_cells.length; ++i) {\n",
       "                    if (nbb_cells[i].input_prompt_number == nbb_cell_id) {\n",
       "                        if (nbb_cells[i].get_text() == nbb_unformatted_code) {\n",
       "                             nbb_cells[i].set_text(nbb_formatted_code);\n",
       "                        }\n",
       "                        break;\n",
       "                    }\n",
       "                }\n",
       "            }, 500);\n",
       "            "
      ],
      "text/plain": [
       "<IPython.core.display.Javascript object>"
      ]
     },
     "metadata": {},
     "output_type": "display_data"
    }
   ],
   "source": [
    "density_estimator = inference.append_simulations(theta, output).train(\n",
    "    training_batch_size=50, show_train_summary=True\n",
    ")"
   ]
  },
  {
   "cell_type": "code",
   "execution_count": 67,
   "metadata": {},
   "outputs": [
    {
     "data": {
      "text/plain": [
       "Flow(\n",
       "  (_transform): CompositeTransform(\n",
       "    (_transforms): ModuleList(\n",
       "      (0): AffineTransform()\n",
       "      (1): CompositeTransform(\n",
       "        (_transforms): ModuleList(\n",
       "          (0): CompositeTransform(\n",
       "            (_transforms): ModuleList(\n",
       "              (0): MaskedAffineAutoregressiveTransform(\n",
       "                (autoregressive_net): MADE(\n",
       "                  (initial_layer): MaskedLinear(in_features=2, out_features=50, bias=True)\n",
       "                  (context_layer): Linear(in_features=32, out_features=50, bias=True)\n",
       "                  (blocks): ModuleList(\n",
       "                    (0): MaskedFeedforwardBlock(\n",
       "                      (batch_norm): BatchNorm1d(50, eps=0.001, momentum=0.1, affine=True, track_running_stats=True)\n",
       "                      (linear): MaskedLinear(in_features=50, out_features=50, bias=True)\n",
       "                      (dropout): Dropout(p=0.0, inplace=False)\n",
       "                    )\n",
       "                    (1): MaskedFeedforwardBlock(\n",
       "                      (batch_norm): BatchNorm1d(50, eps=0.001, momentum=0.1, affine=True, track_running_stats=True)\n",
       "                      (linear): MaskedLinear(in_features=50, out_features=50, bias=True)\n",
       "                      (dropout): Dropout(p=0.0, inplace=False)\n",
       "                    )\n",
       "                  )\n",
       "                  (final_layer): MaskedLinear(in_features=50, out_features=4, bias=True)\n",
       "                )\n",
       "              )\n",
       "              (1): RandomPermutation()\n",
       "            )\n",
       "          )\n",
       "          (1): CompositeTransform(\n",
       "            (_transforms): ModuleList(\n",
       "              (0): MaskedAffineAutoregressiveTransform(\n",
       "                (autoregressive_net): MADE(\n",
       "                  (initial_layer): MaskedLinear(in_features=2, out_features=50, bias=True)\n",
       "                  (context_layer): Linear(in_features=32, out_features=50, bias=True)\n",
       "                  (blocks): ModuleList(\n",
       "                    (0): MaskedFeedforwardBlock(\n",
       "                      (batch_norm): BatchNorm1d(50, eps=0.001, momentum=0.1, affine=True, track_running_stats=True)\n",
       "                      (linear): MaskedLinear(in_features=50, out_features=50, bias=True)\n",
       "                      (dropout): Dropout(p=0.0, inplace=False)\n",
       "                    )\n",
       "                    (1): MaskedFeedforwardBlock(\n",
       "                      (batch_norm): BatchNorm1d(50, eps=0.001, momentum=0.1, affine=True, track_running_stats=True)\n",
       "                      (linear): MaskedLinear(in_features=50, out_features=50, bias=True)\n",
       "                      (dropout): Dropout(p=0.0, inplace=False)\n",
       "                    )\n",
       "                  )\n",
       "                  (final_layer): MaskedLinear(in_features=50, out_features=4, bias=True)\n",
       "                )\n",
       "              )\n",
       "              (1): RandomPermutation()\n",
       "            )\n",
       "          )\n",
       "          (2): CompositeTransform(\n",
       "            (_transforms): ModuleList(\n",
       "              (0): MaskedAffineAutoregressiveTransform(\n",
       "                (autoregressive_net): MADE(\n",
       "                  (initial_layer): MaskedLinear(in_features=2, out_features=50, bias=True)\n",
       "                  (context_layer): Linear(in_features=32, out_features=50, bias=True)\n",
       "                  (blocks): ModuleList(\n",
       "                    (0): MaskedFeedforwardBlock(\n",
       "                      (batch_norm): BatchNorm1d(50, eps=0.001, momentum=0.1, affine=True, track_running_stats=True)\n",
       "                      (linear): MaskedLinear(in_features=50, out_features=50, bias=True)\n",
       "                      (dropout): Dropout(p=0.0, inplace=False)\n",
       "                    )\n",
       "                    (1): MaskedFeedforwardBlock(\n",
       "                      (batch_norm): BatchNorm1d(50, eps=0.001, momentum=0.1, affine=True, track_running_stats=True)\n",
       "                      (linear): MaskedLinear(in_features=50, out_features=50, bias=True)\n",
       "                      (dropout): Dropout(p=0.0, inplace=False)\n",
       "                    )\n",
       "                  )\n",
       "                  (final_layer): MaskedLinear(in_features=50, out_features=4, bias=True)\n",
       "                )\n",
       "              )\n",
       "              (1): RandomPermutation()\n",
       "            )\n",
       "          )\n",
       "          (3): CompositeTransform(\n",
       "            (_transforms): ModuleList(\n",
       "              (0): MaskedAffineAutoregressiveTransform(\n",
       "                (autoregressive_net): MADE(\n",
       "                  (initial_layer): MaskedLinear(in_features=2, out_features=50, bias=True)\n",
       "                  (context_layer): Linear(in_features=32, out_features=50, bias=True)\n",
       "                  (blocks): ModuleList(\n",
       "                    (0): MaskedFeedforwardBlock(\n",
       "                      (batch_norm): BatchNorm1d(50, eps=0.001, momentum=0.1, affine=True, track_running_stats=True)\n",
       "                      (linear): MaskedLinear(in_features=50, out_features=50, bias=True)\n",
       "                      (dropout): Dropout(p=0.0, inplace=False)\n",
       "                    )\n",
       "                    (1): MaskedFeedforwardBlock(\n",
       "                      (batch_norm): BatchNorm1d(50, eps=0.001, momentum=0.1, affine=True, track_running_stats=True)\n",
       "                      (linear): MaskedLinear(in_features=50, out_features=50, bias=True)\n",
       "                      (dropout): Dropout(p=0.0, inplace=False)\n",
       "                    )\n",
       "                  )\n",
       "                  (final_layer): MaskedLinear(in_features=50, out_features=4, bias=True)\n",
       "                )\n",
       "              )\n",
       "              (1): RandomPermutation()\n",
       "            )\n",
       "          )\n",
       "          (4): CompositeTransform(\n",
       "            (_transforms): ModuleList(\n",
       "              (0): MaskedAffineAutoregressiveTransform(\n",
       "                (autoregressive_net): MADE(\n",
       "                  (initial_layer): MaskedLinear(in_features=2, out_features=50, bias=True)\n",
       "                  (context_layer): Linear(in_features=32, out_features=50, bias=True)\n",
       "                  (blocks): ModuleList(\n",
       "                    (0): MaskedFeedforwardBlock(\n",
       "                      (batch_norm): BatchNorm1d(50, eps=0.001, momentum=0.1, affine=True, track_running_stats=True)\n",
       "                      (linear): MaskedLinear(in_features=50, out_features=50, bias=True)\n",
       "                      (dropout): Dropout(p=0.0, inplace=False)\n",
       "                    )\n",
       "                    (1): MaskedFeedforwardBlock(\n",
       "                      (batch_norm): BatchNorm1d(50, eps=0.001, momentum=0.1, affine=True, track_running_stats=True)\n",
       "                      (linear): MaskedLinear(in_features=50, out_features=50, bias=True)\n",
       "                      (dropout): Dropout(p=0.0, inplace=False)\n",
       "                    )\n",
       "                  )\n",
       "                  (final_layer): MaskedLinear(in_features=50, out_features=4, bias=True)\n",
       "                )\n",
       "              )\n",
       "              (1): RandomPermutation()\n",
       "            )\n",
       "          )\n",
       "        )\n",
       "      )\n",
       "    )\n",
       "  )\n",
       "  (_distribution): StandardNormal()\n",
       "  (_embedding_net): Sequential(\n",
       "    (0): Standardize()\n",
       "    (1): Sequential(\n",
       "      (0): Conv1d(5, 8, kernel_size=(5,), stride=(1,), padding=(4,))\n",
       "      (1): LeakyReLU(negative_slope=0.01)\n",
       "      (2): Conv1d(8, 8, kernel_size=(5,), stride=(1,), padding=(8,), dilation=(2,))\n",
       "      (3): LeakyReLU(negative_slope=0.01)\n",
       "      (4): Conv1d(8, 8, kernel_size=(5,), stride=(1,), padding=(16,), dilation=(4,))\n",
       "      (5): LeakyReLU(negative_slope=0.01)\n",
       "      (6): Conv1d(8, 8, kernel_size=(5,), stride=(1,), padding=(32,), dilation=(8,))\n",
       "      (7): LeakyReLU(negative_slope=0.01)\n",
       "      (8): MaxPool1d(kernel_size=5, stride=5, padding=0, dilation=1, ceil_mode=False)\n",
       "      (9): Flatten(start_dim=1, end_dim=-1)\n",
       "      (10): Linear(in_features=1696, out_features=128, bias=True)\n",
       "      (11): Linear(in_features=128, out_features=32, bias=True)\n",
       "    )\n",
       "  )\n",
       ")"
      ]
     },
     "execution_count": 67,
     "metadata": {},
     "output_type": "execute_result"
    },
    {
     "data": {
      "application/javascript": [
       "\n",
       "            setTimeout(function() {\n",
       "                var nbb_cell_id = 67;\n",
       "                var nbb_unformatted_code = \"inference._neural_net.to(device=\\\"cpu\\\") \";\n",
       "                var nbb_formatted_code = \"inference._neural_net.to(device=\\\"cpu\\\")\";\n",
       "                var nbb_cells = Jupyter.notebook.get_cells();\n",
       "                for (var i = 0; i < nbb_cells.length; ++i) {\n",
       "                    if (nbb_cells[i].input_prompt_number == nbb_cell_id) {\n",
       "                        if (nbb_cells[i].get_text() == nbb_unformatted_code) {\n",
       "                             nbb_cells[i].set_text(nbb_formatted_code);\n",
       "                        }\n",
       "                        break;\n",
       "                    }\n",
       "                }\n",
       "            }, 500);\n",
       "            "
      ],
      "text/plain": [
       "<IPython.core.display.Javascript object>"
      ]
     },
     "metadata": {},
     "output_type": "display_data"
    }
   ],
   "source": [
    "inference._neural_net.to(device=\"cpu\")"
   ]
  },
  {
   "cell_type": "code",
   "execution_count": 68,
   "metadata": {},
   "outputs": [
    {
     "data": {
      "application/javascript": [
       "\n",
       "            setTimeout(function() {\n",
       "                var nbb_cell_id = 68;\n",
       "                var nbb_unformatted_code = \"posterior = inference.build_posterior(density_estimator)\";\n",
       "                var nbb_formatted_code = \"posterior = inference.build_posterior(density_estimator)\";\n",
       "                var nbb_cells = Jupyter.notebook.get_cells();\n",
       "                for (var i = 0; i < nbb_cells.length; ++i) {\n",
       "                    if (nbb_cells[i].input_prompt_number == nbb_cell_id) {\n",
       "                        if (nbb_cells[i].get_text() == nbb_unformatted_code) {\n",
       "                             nbb_cells[i].set_text(nbb_formatted_code);\n",
       "                        }\n",
       "                        break;\n",
       "                    }\n",
       "                }\n",
       "            }, 500);\n",
       "            "
      ],
      "text/plain": [
       "<IPython.core.display.Javascript object>"
      ]
     },
     "metadata": {},
     "output_type": "display_data"
    }
   ],
   "source": [
    "posterior = inference.build_posterior(density_estimator)"
   ]
  },
  {
   "cell_type": "code",
   "execution_count": 69,
   "metadata": {},
   "outputs": [
    {
     "name": "stderr",
     "output_type": "stream",
     "text": [
      "/home/narendra/.local/lib/python3.7/site-packages/ipykernel_launcher.py:2: UserWarning: To copy construct from a tensor, it is recommended to use sourceTensor.clone().detach() or sourceTensor.clone().detach().requires_grad_(True), rather than torch.tensor(sourceTensor).\n",
      "  \n"
     ]
    },
    {
     "data": {
      "application/vnd.jupyter.widget-view+json": {
       "model_id": "3854f5bdee9a4669b6f1fadf3974ec80",
       "version_major": 2,
       "version_minor": 0
      },
      "text/plain": [
       "HBox(children=(HTML(value='Drawing 10000 posterior samples'), FloatProgress(value=0.0, max=10000.0), HTML(valu…"
      ]
     },
     "metadata": {},
     "output_type": "display_data"
    },
    {
     "name": "stdout",
     "output_type": "stream",
     "text": [
      "\n"
     ]
    },
    {
     "name": "stderr",
     "output_type": "stream",
     "text": [
      "/home/narendra/.local/lib/python3.7/site-packages/ipykernel_launcher.py:5: UserWarning: To copy construct from a tensor, it is recommended to use sourceTensor.clone().detach() or sourceTensor.clone().detach().requires_grad_(True), rather than torch.tensor(sourceTensor).\n",
      "  \"\"\"\n"
     ]
    },
    {
     "data": {
      "application/vnd.jupyter.widget-view+json": {
       "model_id": "57ff8b17326946cd845802f206c72eec",
       "version_major": 2,
       "version_minor": 0
      },
      "text/plain": [
       "HBox(children=(HTML(value='Drawing 10000 posterior samples'), FloatProgress(value=0.0, max=10000.0), HTML(valu…"
      ]
     },
     "metadata": {},
     "output_type": "display_data"
    },
    {
     "name": "stdout",
     "output_type": "stream",
     "text": [
      "\n"
     ]
    },
    {
     "name": "stderr",
     "output_type": "stream",
     "text": [
      "/home/narendra/.local/lib/python3.7/site-packages/ipykernel_launcher.py:8: UserWarning: To copy construct from a tensor, it is recommended to use sourceTensor.clone().detach() or sourceTensor.clone().detach().requires_grad_(True), rather than torch.tensor(sourceTensor).\n",
      "  \n"
     ]
    },
    {
     "data": {
      "application/vnd.jupyter.widget-view+json": {
       "model_id": "03572e949ede4a9782faaa830e3d7105",
       "version_major": 2,
       "version_minor": 0
      },
      "text/plain": [
       "HBox(children=(HTML(value='Drawing 10000 posterior samples'), FloatProgress(value=0.0, max=10000.0), HTML(valu…"
      ]
     },
     "metadata": {},
     "output_type": "display_data"
    },
    {
     "name": "stdout",
     "output_type": "stream",
     "text": [
      "\n"
     ]
    },
    {
     "data": {
      "application/javascript": [
       "\n",
       "            setTimeout(function() {\n",
       "                var nbb_cell_id = 69;\n",
       "                var nbb_unformatted_code = \"samples1 = posterior.sample(\\n    (10000,), x=torch.tensor(output[100, :, :][None, :, :]).type(torch.FloatTensor)\\n)\\nsamples2 = posterior.sample(\\n    (10000,), x=torch.tensor(output[200, :, :][None, :, :]).type(torch.FloatTensor)\\n)\\nsamples3 = posterior.sample(\\n    (10000,), x=torch.tensor(output[300, :, :][None, :, :]).type(torch.FloatTensor)\\n)\";\n",
       "                var nbb_formatted_code = \"samples1 = posterior.sample(\\n    (10000,), x=torch.tensor(output[100, :, :][None, :, :]).type(torch.FloatTensor)\\n)\\nsamples2 = posterior.sample(\\n    (10000,), x=torch.tensor(output[200, :, :][None, :, :]).type(torch.FloatTensor)\\n)\\nsamples3 = posterior.sample(\\n    (10000,), x=torch.tensor(output[300, :, :][None, :, :]).type(torch.FloatTensor)\\n)\";\n",
       "                var nbb_cells = Jupyter.notebook.get_cells();\n",
       "                for (var i = 0; i < nbb_cells.length; ++i) {\n",
       "                    if (nbb_cells[i].input_prompt_number == nbb_cell_id) {\n",
       "                        if (nbb_cells[i].get_text() == nbb_unformatted_code) {\n",
       "                             nbb_cells[i].set_text(nbb_formatted_code);\n",
       "                        }\n",
       "                        break;\n",
       "                    }\n",
       "                }\n",
       "            }, 500);\n",
       "            "
      ],
      "text/plain": [
       "<IPython.core.display.Javascript object>"
      ]
     },
     "metadata": {},
     "output_type": "display_data"
    }
   ],
   "source": [
    "samples1 = posterior.sample(\n",
    "    (10000,), x=torch.tensor(output[100, :, :][None, :, :]).type(torch.FloatTensor)\n",
    ")\n",
    "samples2 = posterior.sample(\n",
    "    (10000,), x=torch.tensor(output[200, :, :][None, :, :]).type(torch.FloatTensor)\n",
    ")\n",
    "samples3 = posterior.sample(\n",
    "    (10000,), x=torch.tensor(output[300, :, :][None, :, :]).type(torch.FloatTensor)\n",
    ")"
   ]
  },
  {
   "cell_type": "code",
   "execution_count": 70,
   "metadata": {},
   "outputs": [
    {
     "name": "stdout",
     "output_type": "stream",
     "text": [
      "tensor([1.5518, 1.7110])\n"
     ]
    },
    {
     "data": {
      "image/png": "[encoded data removed]",
      "text/plain": [
       "<Figure size 360x360 with 4 Axes>"
      ]
     },
     "metadata": {
      "needs_background": "light"
     },
     "output_type": "display_data"
    },
    {
     "data": {
      "application/javascript": [
       "\n",
       "            setTimeout(function() {\n",
       "                var nbb_cell_id = 70;\n",
       "                var nbb_unformatted_code = \"print(theta[100, :])\\n_ = utils.pairplot(samples1, fig_size=(5, 5))\";\n",
       "                var nbb_formatted_code = \"print(theta[100, :])\\n_ = utils.pairplot(samples1, fig_size=(5, 5))\";\n",
       "                var nbb_cells = Jupyter.notebook.get_cells();\n",
       "                for (var i = 0; i < nbb_cells.length; ++i) {\n",
       "                    if (nbb_cells[i].input_prompt_number == nbb_cell_id) {\n",
       "                        if (nbb_cells[i].get_text() == nbb_unformatted_code) {\n",
       "                             nbb_cells[i].set_text(nbb_formatted_code);\n",
       "                        }\n",
       "                        break;\n",
       "                    }\n",
       "                }\n",
       "            }, 500);\n",
       "            "
      ],
      "text/plain": [
       "<IPython.core.display.Javascript object>"
      ]
     },
     "metadata": {},
     "output_type": "display_data"
    }
   ],
   "source": [
    "print(theta[100, :])\n",
    "_ = utils.pairplot(samples1, fig_size=(5, 5))"
   ]
  },
  {
   "cell_type": "code",
   "execution_count": 71,
   "metadata": {},
   "outputs": [
    {
     "name": "stdout",
     "output_type": "stream",
     "text": [
      "tensor([0.2831, 0.6709])\n"
     ]
    },
    {
     "data": {
      "image/png": "[encoded data removed]",
      "text/plain": [
       "<Figure size 360x360 with 4 Axes>"
      ]
     },
     "metadata": {
      "needs_background": "light"
     },
     "output_type": "display_data"
    },
    {
     "data": {
      "application/javascript": [
       "\n",
       "            setTimeout(function() {\n",
       "                var nbb_cell_id = 71;\n",
       "                var nbb_unformatted_code = \"print(theta[200, :])\\n_ = utils.pairplot(samples2, fig_size=(5, 5))\";\n",
       "                var nbb_formatted_code = \"print(theta[200, :])\\n_ = utils.pairplot(samples2, fig_size=(5, 5))\";\n",
       "                var nbb_cells = Jupyter.notebook.get_cells();\n",
       "                for (var i = 0; i < nbb_cells.length; ++i) {\n",
       "                    if (nbb_cells[i].input_prompt_number == nbb_cell_id) {\n",
       "                        if (nbb_cells[i].get_text() == nbb_unformatted_code) {\n",
       "                             nbb_cells[i].set_text(nbb_formatted_code);\n",
       "                        }\n",
       "                        break;\n",
       "                    }\n",
       "                }\n",
       "            }, 500);\n",
       "            "
      ],
      "text/plain": [
       "<IPython.core.display.Javascript object>"
      ]
     },
     "metadata": {},
     "output_type": "display_data"
    }
   ],
   "source": [
    "print(theta[200, :])\n",
    "_ = utils.pairplot(samples2, fig_size=(5, 5))"
   ]
  },
  {
   "cell_type": "code",
   "execution_count": 72,
   "metadata": {},
   "outputs": [
    {
     "name": "stdout",
     "output_type": "stream",
     "text": [
      "tensor([0.1540, 1.7882])\n"
     ]
    },
    {
     "data": {
      "image/png": "[encoded data removed]",
      "text/plain": [
       "<Figure size 360x360 with 4 Axes>"
      ]
     },
     "metadata": {
      "needs_background": "light"
     },
     "output_type": "display_data"
    },
    {
     "data": {
      "application/javascript": [
       "\n",
       "            setTimeout(function() {\n",
       "                var nbb_cell_id = 72;\n",
       "                var nbb_unformatted_code = \"print(theta[300, :])\\n_ = utils.pairplot(samples3, fig_size=(5, 5))\";\n",
       "                var nbb_formatted_code = \"print(theta[300, :])\\n_ = utils.pairplot(samples3, fig_size=(5, 5))\";\n",
       "                var nbb_cells = Jupyter.notebook.get_cells();\n",
       "                for (var i = 0; i < nbb_cells.length; ++i) {\n",
       "                    if (nbb_cells[i].input_prompt_number == nbb_cell_id) {\n",
       "                        if (nbb_cells[i].get_text() == nbb_unformatted_code) {\n",
       "                             nbb_cells[i].set_text(nbb_formatted_code);\n",
       "                        }\n",
       "                        break;\n",
       "                    }\n",
       "                }\n",
       "            }, 500);\n",
       "            "
      ],
      "text/plain": [
       "<IPython.core.display.Javascript object>"
      ]
     },
     "metadata": {},
     "output_type": "display_data"
    }
   ],
   "source": [
    "print(theta[300, :])\n",
    "_ = utils.pairplot(samples3, fig_size=(5, 5))"
   ]
  },
  {
   "cell_type": "markdown",
   "metadata": {},
   "source": [
    "# Time series inference on observed data"
   ]
  },
  {
   "cell_type": "code",
   "execution_count": 21,
   "metadata": {},
   "outputs": [
    {
     "data": {
      "text/html": [
       "<div>\n",
       "<style scoped>\n",
       "    .dataframe tbody tr th:only-of-type {\n",
       "        vertical-align: middle;\n",
       "    }\n",
       "\n",
       "    .dataframe tbody tr th {\n",
       "        vertical-align: top;\n",
       "    }\n",
       "\n",
       "    .dataframe thead th {\n",
       "        text-align: right;\n",
       "    }\n",
       "</style>\n",
       "<table border=\"1\" class=\"dataframe\">\n",
       "  <thead>\n",
       "    <tr style=\"text-align: right;\">\n",
       "      <th></th>\n",
       "      <th>asin</th>\n",
       "      <th>reviewerID</th>\n",
       "      <th>overall</th>\n",
       "      <th>verified</th>\n",
       "      <th>reviewTime</th>\n",
       "      <th>style</th>\n",
       "      <th>reviewerName</th>\n",
       "      <th>unixReviewTime</th>\n",
       "      <th>roll_date.x</th>\n",
       "      <th>val</th>\n",
       "      <th>...</th>\n",
       "      <th>category</th>\n",
       "      <th>description.x</th>\n",
       "      <th>brand</th>\n",
       "      <th>feature</th>\n",
       "      <th>main_cat</th>\n",
       "      <th>tech1</th>\n",
       "      <th>tech2</th>\n",
       "      <th>productGroup</th>\n",
       "      <th>description.y</th>\n",
       "      <th>title</th>\n",
       "    </tr>\n",
       "  </thead>\n",
       "  <tbody>\n",
       "    <tr>\n",
       "      <th>0</th>\n",
       "      <td>B00000K2YR</td>\n",
       "      <td>A2K1QRBOBJ3YM6</td>\n",
       "      <td>5.0</td>\n",
       "      <td>False</td>\n",
       "      <td>12 14, 2000</td>\n",
       "      <td>{'Package Type:': ' Standard Packaging'}</td>\n",
       "      <td>E. JOHNSON</td>\n",
       "      <td>976752000</td>\n",
       "      <td>2000-12-14</td>\n",
       "      <td>76.29</td>\n",
       "      <td>...</td>\n",
       "      <td>['Electronics', 'Portable Audio &amp; Video', 'CB ...</td>\n",
       "      <td>['Midland Micro 40CH Hand held CB', '', 'Havin...</td>\n",
       "      <td>Midland</td>\n",
       "      <td>['Portable CB radio with 40 CB channels, 10 NO...</td>\n",
       "      <td>Home Audio &amp; Theater</td>\n",
       "      <td></td>\n",
       "      <td></td>\n",
       "      <td>Speakers</td>\n",
       "      <td>&lt;div class=\"aplus\"&gt; &lt;p&gt;Having a CB radio while...</td>\n",
       "      <td>Midland 75-822 40 Channel CB-Way Radio</td>\n",
       "    </tr>\n",
       "    <tr>\n",
       "      <th>1</th>\n",
       "      <td>B00000K2YR</td>\n",
       "      <td>AXTPPOVT8JWWY</td>\n",
       "      <td>5.0</td>\n",
       "      <td>False</td>\n",
       "      <td>05 27, 2001</td>\n",
       "      <td>{'Package Type:': ' Standard Packaging'}</td>\n",
       "      <td>Tim Hauser</td>\n",
       "      <td>990921600</td>\n",
       "      <td>2001-05-27</td>\n",
       "      <td>76.29</td>\n",
       "      <td>...</td>\n",
       "      <td>['Electronics', 'Portable Audio &amp; Video', 'CB ...</td>\n",
       "      <td>['Midland Micro 40CH Hand held CB', '', 'Havin...</td>\n",
       "      <td>Midland</td>\n",
       "      <td>['Portable CB radio with 40 CB channels, 10 NO...</td>\n",
       "      <td>Home Audio &amp; Theater</td>\n",
       "      <td></td>\n",
       "      <td></td>\n",
       "      <td>Speakers</td>\n",
       "      <td>&lt;div class=\"aplus\"&gt; &lt;p&gt;Having a CB radio while...</td>\n",
       "      <td>Midland 75-822 40 Channel CB-Way Radio</td>\n",
       "    </tr>\n",
       "    <tr>\n",
       "      <th>2</th>\n",
       "      <td>B00000K2YR</td>\n",
       "      <td>A1ARE4DLUTEXGY</td>\n",
       "      <td>3.0</td>\n",
       "      <td>False</td>\n",
       "      <td>11 12, 2001</td>\n",
       "      <td>{'Package Type:': ' Standard Packaging'}</td>\n",
       "      <td>KIER L CHRISTENSEN</td>\n",
       "      <td>1005523200</td>\n",
       "      <td>2001-11-12</td>\n",
       "      <td>76.29</td>\n",
       "      <td>...</td>\n",
       "      <td>['Electronics', 'Portable Audio &amp; Video', 'CB ...</td>\n",
       "      <td>['Midland Micro 40CH Hand held CB', '', 'Havin...</td>\n",
       "      <td>Midland</td>\n",
       "      <td>['Portable CB radio with 40 CB channels, 10 NO...</td>\n",
       "      <td>Home Audio &amp; Theater</td>\n",
       "      <td></td>\n",
       "      <td></td>\n",
       "      <td>Speakers</td>\n",
       "      <td>&lt;div class=\"aplus\"&gt; &lt;p&gt;Having a CB radio while...</td>\n",
       "      <td>Midland 75-822 40 Channel CB-Way Radio</td>\n",
       "    </tr>\n",
       "    <tr>\n",
       "      <th>3</th>\n",
       "      <td>B00000K2YR</td>\n",
       "      <td>A2CJ99C2FIA17N</td>\n",
       "      <td>5.0</td>\n",
       "      <td>False</td>\n",
       "      <td>07 11, 2004</td>\n",
       "      <td>{'Package Type:': ' Standard Packaging'}</td>\n",
       "      <td>Ethan</td>\n",
       "      <td>1089504000</td>\n",
       "      <td>2004-07-11</td>\n",
       "      <td>76.29</td>\n",
       "      <td>...</td>\n",
       "      <td>['Electronics', 'Portable Audio &amp; Video', 'CB ...</td>\n",
       "      <td>['Midland Micro 40CH Hand held CB', '', 'Havin...</td>\n",
       "      <td>Midland</td>\n",
       "      <td>['Portable CB radio with 40 CB channels, 10 NO...</td>\n",
       "      <td>Home Audio &amp; Theater</td>\n",
       "      <td></td>\n",
       "      <td></td>\n",
       "      <td>Speakers</td>\n",
       "      <td>&lt;div class=\"aplus\"&gt; &lt;p&gt;Having a CB radio while...</td>\n",
       "      <td>Midland 75-822 40 Channel CB-Way Radio</td>\n",
       "    </tr>\n",
       "    <tr>\n",
       "      <th>4</th>\n",
       "      <td>B00000K2YR</td>\n",
       "      <td>A120TM984C8SYV</td>\n",
       "      <td>1.0</td>\n",
       "      <td>True</td>\n",
       "      <td>04 3, 2005</td>\n",
       "      <td>{'Package Type:': ' Standard Packaging'}</td>\n",
       "      <td>S. Ellington</td>\n",
       "      <td>1112486400</td>\n",
       "      <td>2005-04-03</td>\n",
       "      <td>76.29</td>\n",
       "      <td>...</td>\n",
       "      <td>['Electronics', 'Portable Audio &amp; Video', 'CB ...</td>\n",
       "      <td>['Midland Micro 40CH Hand held CB', '', 'Havin...</td>\n",
       "      <td>Midland</td>\n",
       "      <td>['Portable CB radio with 40 CB channels, 10 NO...</td>\n",
       "      <td>Home Audio &amp; Theater</td>\n",
       "      <td></td>\n",
       "      <td></td>\n",
       "      <td>Speakers</td>\n",
       "      <td>&lt;div class=\"aplus\"&gt; &lt;p&gt;Having a CB radio while...</td>\n",
       "      <td>Midland 75-822 40 Channel CB-Way Radio</td>\n",
       "    </tr>\n",
       "  </tbody>\n",
       "</table>\n",
       "<p>5 rows × 22 columns</p>\n",
       "</div>"
      ],
      "text/plain": [
       "         asin      reviewerID  overall  verified   reviewTime  \\\n",
       "0  B00000K2YR  A2K1QRBOBJ3YM6      5.0     False  12 14, 2000   \n",
       "1  B00000K2YR   AXTPPOVT8JWWY      5.0     False  05 27, 2001   \n",
       "2  B00000K2YR  A1ARE4DLUTEXGY      3.0     False  11 12, 2001   \n",
       "3  B00000K2YR  A2CJ99C2FIA17N      5.0     False  07 11, 2004   \n",
       "4  B00000K2YR  A120TM984C8SYV      1.0      True   04 3, 2005   \n",
       "\n",
       "                                      style        reviewerName  \\\n",
       "0  {'Package Type:': ' Standard Packaging'}          E. JOHNSON   \n",
       "1  {'Package Type:': ' Standard Packaging'}          Tim Hauser   \n",
       "2  {'Package Type:': ' Standard Packaging'}  KIER L CHRISTENSEN   \n",
       "3  {'Package Type:': ' Standard Packaging'}               Ethan   \n",
       "4  {'Package Type:': ' Standard Packaging'}        S. Ellington   \n",
       "\n",
       "   unixReviewTime roll_date.x    val  ...  \\\n",
       "0       976752000  2000-12-14  76.29  ...   \n",
       "1       990921600  2001-05-27  76.29  ...   \n",
       "2      1005523200  2001-11-12  76.29  ...   \n",
       "3      1089504000  2004-07-11  76.29  ...   \n",
       "4      1112486400  2005-04-03  76.29  ...   \n",
       "\n",
       "                                            category  \\\n",
       "0  ['Electronics', 'Portable Audio & Video', 'CB ...   \n",
       "1  ['Electronics', 'Portable Audio & Video', 'CB ...   \n",
       "2  ['Electronics', 'Portable Audio & Video', 'CB ...   \n",
       "3  ['Electronics', 'Portable Audio & Video', 'CB ...   \n",
       "4  ['Electronics', 'Portable Audio & Video', 'CB ...   \n",
       "\n",
       "                                       description.x    brand  \\\n",
       "0  ['Midland Micro 40CH Hand held CB', '', 'Havin...  Midland   \n",
       "1  ['Midland Micro 40CH Hand held CB', '', 'Havin...  Midland   \n",
       "2  ['Midland Micro 40CH Hand held CB', '', 'Havin...  Midland   \n",
       "3  ['Midland Micro 40CH Hand held CB', '', 'Havin...  Midland   \n",
       "4  ['Midland Micro 40CH Hand held CB', '', 'Havin...  Midland   \n",
       "\n",
       "                                             feature              main_cat  \\\n",
       "0  ['Portable CB radio with 40 CB channels, 10 NO...  Home Audio & Theater   \n",
       "1  ['Portable CB radio with 40 CB channels, 10 NO...  Home Audio & Theater   \n",
       "2  ['Portable CB radio with 40 CB channels, 10 NO...  Home Audio & Theater   \n",
       "3  ['Portable CB radio with 40 CB channels, 10 NO...  Home Audio & Theater   \n",
       "4  ['Portable CB radio with 40 CB channels, 10 NO...  Home Audio & Theater   \n",
       "\n",
       "  tech1 tech2 productGroup                                      description.y  \\\n",
       "0                 Speakers  <div class=\"aplus\"> <p>Having a CB radio while...   \n",
       "1                 Speakers  <div class=\"aplus\"> <p>Having a CB radio while...   \n",
       "2                 Speakers  <div class=\"aplus\"> <p>Having a CB radio while...   \n",
       "3                 Speakers  <div class=\"aplus\"> <p>Having a CB radio while...   \n",
       "4                 Speakers  <div class=\"aplus\"> <p>Having a CB radio while...   \n",
       "\n",
       "                                    title  \n",
       "0  Midland 75-822 40 Channel CB-Way Radio  \n",
       "1  Midland 75-822 40 Channel CB-Way Radio  \n",
       "2  Midland 75-822 40 Channel CB-Way Radio  \n",
       "3  Midland 75-822 40 Channel CB-Way Radio  \n",
       "4  Midland 75-822 40 Channel CB-Way Radio  \n",
       "\n",
       "[5 rows x 22 columns]"
      ]
     },
     "execution_count": 21,
     "metadata": {},
     "output_type": "execute_result"
    },
    {
     "data": {
      "application/javascript": [
       "\n",
       "            setTimeout(function() {\n",
       "                var nbb_cell_id = 21;\n",
       "                var nbb_unformatted_code = \"speakers_timeseries = pyreadr.read_r(\\\"../artifacts/hyperparameter_tuning/cnn_tuning/rating_speakers_SNPE.Rds\\\")\\nspeakers_timeseries = speakers_timeseries[None]\\nspeakers_timeseries.head()\";\n",
       "                var nbb_formatted_code = \"speakers_timeseries = pyreadr.read_r(\\n    \\\"../artifacts/hyperparameter_tuning/cnn_tuning/rating_speakers_SNPE.Rds\\\"\\n)\\nspeakers_timeseries = speakers_timeseries[None]\\nspeakers_timeseries.head()\";\n",
       "                var nbb_cells = Jupyter.notebook.get_cells();\n",
       "                for (var i = 0; i < nbb_cells.length; ++i) {\n",
       "                    if (nbb_cells[i].input_prompt_number == nbb_cell_id) {\n",
       "                        if (nbb_cells[i].get_text() == nbb_unformatted_code) {\n",
       "                             nbb_cells[i].set_text(nbb_formatted_code);\n",
       "                        }\n",
       "                        break;\n",
       "                    }\n",
       "                }\n",
       "            }, 500);\n",
       "            "
      ],
      "text/plain": [
       "<IPython.core.display.Javascript object>"
      ]
     },
     "metadata": {},
     "output_type": "display_data"
    }
   ],
   "source": [
    "speakers_timeseries = pyreadr.read_r(\"../artifacts/hyperparameter_tuning/cnn_tuning/rating_speakers_SNPE.Rds\")\n",
    "speakers_timeseries = speakers_timeseries[None]\n",
    "speakers_timeseries.head()"
   ]
  },
  {
   "cell_type": "code",
   "execution_count": 23,
   "metadata": {},
   "outputs": [
    {
     "data": {
      "text/html": [
       "<div>\n",
       "<style scoped>\n",
       "    .dataframe tbody tr th:only-of-type {\n",
       "        vertical-align: middle;\n",
       "    }\n",
       "\n",
       "    .dataframe tbody tr th {\n",
       "        vertical-align: top;\n",
       "    }\n",
       "\n",
       "    .dataframe thead th {\n",
       "        text-align: right;\n",
       "    }\n",
       "</style>\n",
       "<table border=\"1\" class=\"dataframe\">\n",
       "  <thead>\n",
       "    <tr style=\"text-align: right;\">\n",
       "      <th></th>\n",
       "      <th>asin</th>\n",
       "      <th>val</th>\n",
       "      <th>productGroup</th>\n",
       "      <th>brand</th>\n",
       "    </tr>\n",
       "  </thead>\n",
       "  <tbody>\n",
       "    <tr>\n",
       "      <th>0</th>\n",
       "      <td>B00000K2YR</td>\n",
       "      <td>77.860</td>\n",
       "      <td>Speakers</td>\n",
       "      <td>Midland</td>\n",
       "    </tr>\n",
       "    <tr>\n",
       "      <th>1</th>\n",
       "      <td>B00001P4XA</td>\n",
       "      <td>17.530</td>\n",
       "      <td>Speakers</td>\n",
       "      <td>Koss</td>\n",
       "    </tr>\n",
       "    <tr>\n",
       "      <th>2</th>\n",
       "      <td>B00001P4XH</td>\n",
       "      <td>9.010</td>\n",
       "      <td>Speakers</td>\n",
       "      <td>Koss</td>\n",
       "    </tr>\n",
       "    <tr>\n",
       "      <th>3</th>\n",
       "      <td>B00001P4ZH</td>\n",
       "      <td>39.355</td>\n",
       "      <td>Speakers</td>\n",
       "      <td>Koss</td>\n",
       "    </tr>\n",
       "    <tr>\n",
       "      <th>4</th>\n",
       "      <td>B00001P505</td>\n",
       "      <td>22.955</td>\n",
       "      <td>Speakers</td>\n",
       "      <td>Koss</td>\n",
       "    </tr>\n",
       "  </tbody>\n",
       "</table>\n",
       "</div>"
      ],
      "text/plain": [
       "         asin     val productGroup    brand\n",
       "0  B00000K2YR  77.860     Speakers  Midland\n",
       "1  B00001P4XA  17.530     Speakers     Koss\n",
       "2  B00001P4XH   9.010     Speakers     Koss\n",
       "3  B00001P4ZH  39.355     Speakers     Koss\n",
       "4  B00001P505  22.955     Speakers     Koss"
      ]
     },
     "execution_count": 23,
     "metadata": {},
     "output_type": "execute_result"
    },
    {
     "data": {
      "application/javascript": [
       "\n",
       "            setTimeout(function() {\n",
       "                var nbb_cell_id = 23;\n",
       "                var nbb_unformatted_code = \"# Load up the price info\\nspeakers_price = pd.read_csv(\\\"../artifacts/hyperparameter_tuning/cnn_tuning/speakers_prod_price_brand_snpe.txt\\\", sep=\\\"\\\\t\\\")\\nspeakers_price.head()\";\n",
       "                var nbb_formatted_code = \"# Load up the price info\\nspeakers_price = pd.read_csv(\\n    \\\"../artifacts/hyperparameter_tuning/cnn_tuning/speakers_prod_price_brand_snpe.txt\\\",\\n    sep=\\\"\\\\t\\\",\\n)\\nspeakers_price.head()\";\n",
       "                var nbb_cells = Jupyter.notebook.get_cells();\n",
       "                for (var i = 0; i < nbb_cells.length; ++i) {\n",
       "                    if (nbb_cells[i].input_prompt_number == nbb_cell_id) {\n",
       "                        if (nbb_cells[i].get_text() == nbb_unformatted_code) {\n",
       "                             nbb_cells[i].set_text(nbb_formatted_code);\n",
       "                        }\n",
       "                        break;\n",
       "                    }\n",
       "                }\n",
       "            }, 500);\n",
       "            "
      ],
      "text/plain": [
       "<IPython.core.display.Javascript object>"
      ]
     },
     "metadata": {},
     "output_type": "display_data"
    }
   ],
   "source": [
    "# Load up the price info\n",
    "speakers_price = pd.read_csv(\"../artifacts/hyperparameter_tuning/cnn_tuning/speakers_prod_price_brand_snpe.txt\", sep=\"\\t\")\n",
    "speakers_price.head()"
   ]
  },
  {
   "cell_type": "code",
   "execution_count": 25,
   "metadata": {},
   "outputs": [
    {
     "data": {
      "application/javascript": [
       "\n",
       "            setTimeout(function() {\n",
       "                var nbb_cell_id = 25;\n",
       "                var nbb_unformatted_code = \"assert speakers_price.shape[0] == speakers_timeseries.asin.unique().shape[0]\";\n",
       "                var nbb_formatted_code = \"assert speakers_price.shape[0] == speakers_timeseries.asin.unique().shape[0]\";\n",
       "                var nbb_cells = Jupyter.notebook.get_cells();\n",
       "                for (var i = 0; i < nbb_cells.length; ++i) {\n",
       "                    if (nbb_cells[i].input_prompt_number == nbb_cell_id) {\n",
       "                        if (nbb_cells[i].get_text() == nbb_unformatted_code) {\n",
       "                             nbb_cells[i].set_text(nbb_formatted_code);\n",
       "                        }\n",
       "                        break;\n",
       "                    }\n",
       "                }\n",
       "            }, 500);\n",
       "            "
      ],
      "text/plain": [
       "<IPython.core.display.Javascript object>"
      ]
     },
     "metadata": {},
     "output_type": "display_data"
    }
   ],
   "source": [
    "assert speakers_price.shape[0] == speakers_timeseries.asin.unique().shape[0]"
   ]
  },
  {
   "cell_type": "code",
   "execution_count": 26,
   "metadata": {},
   "outputs": [
    {
     "data": {
      "application/javascript": [
       "\n",
       "            setTimeout(function() {\n",
       "                var nbb_cell_id = 26;\n",
       "                var nbb_unformatted_code = \"pd.testing.assert_frame_equal(speakers_timeseries, speakers_timeseries.sort_values([\\\"asin\\\", \\\"unixReviewTime\\\"]))\";\n",
       "                var nbb_formatted_code = \"pd.testing.assert_frame_equal(\\n    speakers_timeseries, speakers_timeseries.sort_values([\\\"asin\\\", \\\"unixReviewTime\\\"])\\n)\";\n",
       "                var nbb_cells = Jupyter.notebook.get_cells();\n",
       "                for (var i = 0; i < nbb_cells.length; ++i) {\n",
       "                    if (nbb_cells[i].input_prompt_number == nbb_cell_id) {\n",
       "                        if (nbb_cells[i].get_text() == nbb_unformatted_code) {\n",
       "                             nbb_cells[i].set_text(nbb_formatted_code);\n",
       "                        }\n",
       "                        break;\n",
       "                    }\n",
       "                }\n",
       "            }, 500);\n",
       "            "
      ],
      "text/plain": [
       "<IPython.core.display.Javascript object>"
      ]
     },
     "metadata": {},
     "output_type": "display_data"
    }
   ],
   "source": [
    "pd.testing.assert_frame_equal(speakers_timeseries, speakers_timeseries.sort_values([\"asin\", \"unixReviewTime\"]))"
   ]
  },
  {
   "cell_type": "code",
   "execution_count": 27,
   "metadata": {},
   "outputs": [
    {
     "data": {
      "application/javascript": [
       "\n",
       "            setTimeout(function() {\n",
       "                var nbb_cell_id = 27;\n",
       "                var nbb_unformatted_code = \"pd.testing.assert_frame_equal(speakers_price, speakers_price.sort_values(\\\"asin\\\"))\";\n",
       "                var nbb_formatted_code = \"pd.testing.assert_frame_equal(speakers_price, speakers_price.sort_values(\\\"asin\\\"))\";\n",
       "                var nbb_cells = Jupyter.notebook.get_cells();\n",
       "                for (var i = 0; i < nbb_cells.length; ++i) {\n",
       "                    if (nbb_cells[i].input_prompt_number == nbb_cell_id) {\n",
       "                        if (nbb_cells[i].get_text() == nbb_unformatted_code) {\n",
       "                             nbb_cells[i].set_text(nbb_formatted_code);\n",
       "                        }\n",
       "                        break;\n",
       "                    }\n",
       "                }\n",
       "            }, 500);\n",
       "            "
      ],
      "text/plain": [
       "<IPython.core.display.Javascript object>"
      ]
     },
     "metadata": {},
     "output_type": "display_data"
    }
   ],
   "source": [
    "pd.testing.assert_frame_equal(speakers_price, speakers_price.sort_values(\"asin\"))"
   ]
  },
  {
   "cell_type": "code",
   "execution_count": 37,
   "metadata": {},
   "outputs": [
    {
     "data": {
      "application/javascript": [
       "\n",
       "            setTimeout(function() {\n",
       "                var nbb_cell_id = 37;\n",
       "                var nbb_unformatted_code = \"# Now run through the product in the timeseries DF and convert their ratings into arrays that can be fed\\n# into SNPE inference engine\\nfrom collections import deque\\n\\ntimeseries_data = []\\nfor product in speakers_price.asin:\\n    # We only simulate upto 5001 reviews, so we cut off all observed timeseries at that number as well\\n    timeseries = deque([np.zeros(5)], maxlen=5001)\\n    ratings = np.array(\\n        speakers_timeseries.loc[speakers_timeseries.asin == product, \\\"overall\\\"]\\n    )\\n    ratings = ratings[:5000]\\n    for rating in ratings:\\n        current_histogram = timeseries[-1].copy()\\n        current_histogram[int(rating - 1)] += 1\\n        timeseries.append(current_histogram)\\n    timeseries_data.append(np.array(timeseries))\\ntimeseries_data = np.array(timeseries_data, dtype=\\\"object\\\")\";\n",
       "                var nbb_formatted_code = \"# Now run through the product in the timeseries DF and convert their ratings into arrays that can be fed\\n# into SNPE inference engine\\nfrom collections import deque\\n\\ntimeseries_data = []\\nfor product in speakers_price.asin:\\n    # We only simulate upto 5001 reviews, so we cut off all observed timeseries at that number as well\\n    timeseries = deque([np.zeros(5)], maxlen=5001)\\n    ratings = np.array(\\n        speakers_timeseries.loc[speakers_timeseries.asin == product, \\\"overall\\\"]\\n    )\\n    ratings = ratings[:5000]\\n    for rating in ratings:\\n        current_histogram = timeseries[-1].copy()\\n        current_histogram[int(rating - 1)] += 1\\n        timeseries.append(current_histogram)\\n    timeseries_data.append(np.array(timeseries))\\ntimeseries_data = np.array(timeseries_data, dtype=\\\"object\\\")\";\n",
       "                var nbb_cells = Jupyter.notebook.get_cells();\n",
       "                for (var i = 0; i < nbb_cells.length; ++i) {\n",
       "                    if (nbb_cells[i].input_prompt_number == nbb_cell_id) {\n",
       "                        if (nbb_cells[i].get_text() == nbb_unformatted_code) {\n",
       "                             nbb_cells[i].set_text(nbb_formatted_code);\n",
       "                        }\n",
       "                        break;\n",
       "                    }\n",
       "                }\n",
       "            }, 500);\n",
       "            "
      ],
      "text/plain": [
       "<IPython.core.display.Javascript object>"
      ]
     },
     "metadata": {},
     "output_type": "display_data"
    }
   ],
   "source": [
    "# Now run through the product in the timeseries DF and convert their ratings into arrays that can be fed\n",
    "# into SNPE inference engine\n",
    "from collections import deque\n",
    "\n",
    "timeseries_data = []\n",
    "for product in speakers_price.asin:\n",
    "    # We only simulate upto 5001 reviews, so we cut off all observed timeseries at that number as well\n",
    "    timeseries = deque([np.zeros(5)], maxlen=5001)\n",
    "    ratings = np.array(\n",
    "        speakers_timeseries.loc[speakers_timeseries.asin == product, \"overall\"]\n",
    "    )\n",
    "    ratings = ratings[:5000]\n",
    "    for rating in ratings:\n",
    "        current_histogram = timeseries[-1].copy()\n",
    "        current_histogram[int(rating - 1)] += 1\n",
    "        timeseries.append(current_histogram)\n",
    "    timeseries_data.append(np.array(timeseries))\n",
    "timeseries_data = np.array(timeseries_data, dtype=\"object\")"
   ]
  },
  {
   "cell_type": "code",
   "execution_count": 41,
   "metadata": {},
   "outputs": [
    {
     "data": {
      "text/plain": [
       "(array([753., 102.,  36.,  20.,  12.,  10.,   6.,   6.,   3.,  11.]),\n",
       " array([3.0000e+00, 5.0280e+02, 1.0026e+03, 1.5024e+03, 2.0022e+03,\n",
       "        2.5020e+03, 3.0018e+03, 3.5016e+03, 4.0014e+03, 4.5012e+03,\n",
       "        5.0010e+03]),\n",
       " <a list of 10 Patch objects>)"
      ]
     },
     "execution_count": 41,
     "metadata": {},
     "output_type": "execute_result"
    },
    {
     "data": {
      "image/png": "[encoded data removed]",
      "text/plain": [
       "<Figure size 432x288 with 1 Axes>"
      ]
     },
     "metadata": {
      "needs_background": "light"
     },
     "output_type": "display_data"
    },
    {
     "data": {
      "application/javascript": [
       "\n",
       "            setTimeout(function() {\n",
       "                var nbb_cell_id = 41;\n",
       "                var nbb_unformatted_code = \"lens = [len(series) for series in timeseries_data]\\nplt.hist(lens)\";\n",
       "                var nbb_formatted_code = \"lens = [len(series) for series in timeseries_data]\\nplt.hist(lens)\";\n",
       "                var nbb_cells = Jupyter.notebook.get_cells();\n",
       "                for (var i = 0; i < nbb_cells.length; ++i) {\n",
       "                    if (nbb_cells[i].input_prompt_number == nbb_cell_id) {\n",
       "                        if (nbb_cells[i].get_text() == nbb_unformatted_code) {\n",
       "                             nbb_cells[i].set_text(nbb_formatted_code);\n",
       "                        }\n",
       "                        break;\n",
       "                    }\n",
       "                }\n",
       "            }, 500);\n",
       "            "
      ],
      "text/plain": [
       "<IPython.core.display.Javascript object>"
      ]
     },
     "metadata": {},
     "output_type": "display_data"
    }
   ],
   "source": [
    "lens = [len(series) for series in timeseries_data]\n",
    "plt.hist(lens)"
   ]
  },
  {
   "cell_type": "code",
   "execution_count": null,
   "metadata": {},
   "outputs": [],
   "source": []
  }
 ],
 "metadata": {
  "kernelspec": {
   "display_name": "Python 3 (ipykernel)",
   "language": "python",
   "name": "python3"
  },
  "language_info": {
   "codemirror_mode": {
    "name": "ipython",
    "version": 3
   },
   "file_extension": ".py",
   "mimetype": "text/x-python",
   "name": "python",
   "nbconvert_exporter": "python",
   "pygments_lexer": "ipython3",
   "version": "3.9.7"
  }
 },
 "nbformat": 4,
 "nbformat_minor": 4
}
