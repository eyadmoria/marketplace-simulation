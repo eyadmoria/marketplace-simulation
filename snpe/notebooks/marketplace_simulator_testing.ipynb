{
 "cells": [
  {
   "cell_type": "code",
   "execution_count": 1,
   "id": "66d13067",
   "metadata": {},
   "outputs": [],
   "source": [
    "%load_ext autoreload\n",
    "%autoreload 2"
   ]
  },
  {
   "cell_type": "code",
   "execution_count": 2,
   "id": "3db9cdfd",
   "metadata": {},
   "outputs": [
    {
     "data": {
      "application/javascript": [
       "\n",
       "            setTimeout(function() {\n",
       "                var nbb_cell_id = 2;\n",
       "                var nbb_unformatted_code = \"# Just a formatting related plugin\\n%load_ext nb_black\";\n",
       "                var nbb_formatted_code = \"# Just a formatting related plugin\\n%load_ext nb_black\";\n",
       "                var nbb_cells = Jupyter.notebook.get_cells();\n",
       "                for (var i = 0; i < nbb_cells.length; ++i) {\n",
       "                    if (nbb_cells[i].input_prompt_number == nbb_cell_id) {\n",
       "                        if (nbb_cells[i].get_text() == nbb_unformatted_code) {\n",
       "                             nbb_cells[i].set_text(nbb_formatted_code);\n",
       "                        }\n",
       "                        break;\n",
       "                    }\n",
       "                }\n",
       "            }, 500);\n",
       "            "
      ],
      "text/plain": [
       "<IPython.core.display.Javascript object>"
      ]
     },
     "metadata": {},
     "output_type": "display_data"
    }
   ],
   "source": [
    "# Just a formatting related plugin\n",
    "%load_ext nb_black"
   ]
  },
  {
   "cell_type": "code",
   "execution_count": 3,
   "id": "f9ce141c",
   "metadata": {},
   "outputs": [
    {
     "data": {
      "application/javascript": [
       "\n",
       "            setTimeout(function() {\n",
       "                var nbb_cell_id = 3;\n",
       "                var nbb_unformatted_code = \"%matplotlib inline\\nimport matplotlib.pyplot as plt\";\n",
       "                var nbb_formatted_code = \"%matplotlib inline\\nimport matplotlib.pyplot as plt\";\n",
       "                var nbb_cells = Jupyter.notebook.get_cells();\n",
       "                for (var i = 0; i < nbb_cells.length; ++i) {\n",
       "                    if (nbb_cells[i].input_prompt_number == nbb_cell_id) {\n",
       "                        if (nbb_cells[i].get_text() == nbb_unformatted_code) {\n",
       "                             nbb_cells[i].set_text(nbb_formatted_code);\n",
       "                        }\n",
       "                        break;\n",
       "                    }\n",
       "                }\n",
       "            }, 500);\n",
       "            "
      ],
      "text/plain": [
       "<IPython.core.display.Javascript object>"
      ]
     },
     "metadata": {},
     "output_type": "display_data"
    }
   ],
   "source": [
    "%matplotlib inline\n",
    "import matplotlib.pyplot as plt"
   ]
  },
  {
   "cell_type": "code",
   "execution_count": 4,
   "id": "13490303",
   "metadata": {},
   "outputs": [
    {
     "data": {
      "application/javascript": [
       "\n",
       "            setTimeout(function() {\n",
       "                var nbb_cell_id = 4;\n",
       "                var nbb_unformatted_code = \"import sys\\n\\nsys.path.append(\\\"../\\\")\";\n",
       "                var nbb_formatted_code = \"import sys\\n\\nsys.path.append(\\\"../\\\")\";\n",
       "                var nbb_cells = Jupyter.notebook.get_cells();\n",
       "                for (var i = 0; i < nbb_cells.length; ++i) {\n",
       "                    if (nbb_cells[i].input_prompt_number == nbb_cell_id) {\n",
       "                        if (nbb_cells[i].get_text() == nbb_unformatted_code) {\n",
       "                             nbb_cells[i].set_text(nbb_formatted_code);\n",
       "                        }\n",
       "                        break;\n",
       "                    }\n",
       "                }\n",
       "            }, 500);\n",
       "            "
      ],
      "text/plain": [
       "<IPython.core.display.Javascript object>"
      ]
     },
     "metadata": {},
     "output_type": "display_data"
    }
   ],
   "source": [
    "import sys\n",
    "\n",
    "sys.path.append(\"../\")"
   ]
  },
  {
   "cell_type": "code",
   "execution_count": 5,
   "id": "7c88a053",
   "metadata": {},
   "outputs": [
    {
     "data": {
      "application/javascript": [
       "\n",
       "            setTimeout(function() {\n",
       "                var nbb_cell_id = 5;\n",
       "                var nbb_unformatted_code = \"from snpe.simulations.marketplace_simulator_class import MarketplaceSimulator\\nfrom collections import deque\\nfrom pathlib import Path\\n\\nimport numpy as np\\nimport pandas as pd\\n\\nfrom numpy.random import default_rng\\nfrom scipy.spatial.distance import cdist\\nfrom snpe.utils.statistics import review_histogram_means\\nimport pyreadr\\nfrom pathlib import Path\";\n",
       "                var nbb_formatted_code = \"from snpe.simulations.marketplace_simulator_class import MarketplaceSimulator\\nfrom collections import deque\\nfrom pathlib import Path\\n\\nimport numpy as np\\nimport pandas as pd\\n\\nfrom numpy.random import default_rng\\nfrom scipy.spatial.distance import cdist\\nfrom snpe.utils.statistics import review_histogram_means\\nimport pyreadr\\nfrom pathlib import Path\";\n",
       "                var nbb_cells = Jupyter.notebook.get_cells();\n",
       "                for (var i = 0; i < nbb_cells.length; ++i) {\n",
       "                    if (nbb_cells[i].input_prompt_number == nbb_cell_id) {\n",
       "                        if (nbb_cells[i].get_text() == nbb_unformatted_code) {\n",
       "                             nbb_cells[i].set_text(nbb_formatted_code);\n",
       "                        }\n",
       "                        break;\n",
       "                    }\n",
       "                }\n",
       "            }, 500);\n",
       "            "
      ],
      "text/plain": [
       "<IPython.core.display.Javascript object>"
      ]
     },
     "metadata": {},
     "output_type": "display_data"
    }
   ],
   "source": [
    "from snpe.simulations.marketplace_simulator_class import MarketplaceSimulator\n",
    "from collections import deque\n",
    "from pathlib import Path\n",
    "\n",
    "import numpy as np\n",
    "import pandas as pd\n",
    "\n",
    "from numpy.random import default_rng\n",
    "from scipy.spatial.distance import cdist\n",
    "from snpe.utils.statistics import review_histogram_means\n",
    "import pyreadr\n",
    "from pathlib import Path"
   ]
  },
  {
   "cell_type": "code",
   "execution_count": 6,
   "id": "47820053",
   "metadata": {},
   "outputs": [
    {
     "data": {
      "application/javascript": [
       "\n",
       "            setTimeout(function() {\n",
       "                var nbb_cell_id = 6;\n",
       "                var nbb_unformatted_code = \"ARTIFACT_PATH = Path(\\\"../../../gcs_mount/artifacts/rating_spacing_simulator\\\")\\n# ARTIFACT_PATH = Path(\\\"/data/reputation-systems/snpe/artifacts/rating_spacing_simulator\\\")\";\n",
       "                var nbb_formatted_code = \"ARTIFACT_PATH = Path(\\\"../../../gcs_mount/artifacts/rating_spacing_simulator\\\")\\n# ARTIFACT_PATH = Path(\\\"/data/reputation-systems/snpe/artifacts/rating_spacing_simulator\\\")\";\n",
       "                var nbb_cells = Jupyter.notebook.get_cells();\n",
       "                for (var i = 0; i < nbb_cells.length; ++i) {\n",
       "                    if (nbb_cells[i].input_prompt_number == nbb_cell_id) {\n",
       "                        if (nbb_cells[i].get_text() == nbb_unformatted_code) {\n",
       "                             nbb_cells[i].set_text(nbb_formatted_code);\n",
       "                        }\n",
       "                        break;\n",
       "                    }\n",
       "                }\n",
       "            }, 500);\n",
       "            "
      ],
      "text/plain": [
       "<IPython.core.display.Javascript object>"
      ]
     },
     "metadata": {},
     "output_type": "display_data"
    }
   ],
   "source": [
    "ARTIFACT_PATH = Path(\"../../../gcs_mount/artifacts/rating_spacing_simulator\")\n",
    "# ARTIFACT_PATH = Path(\"/data/reputation-systems/snpe/artifacts/rating_spacing_simulator\")"
   ]
  },
  {
   "cell_type": "markdown",
   "id": "e10204f2",
   "metadata": {},
   "source": [
    "# Use the final class for marketplace simulations"
   ]
  },
  {
   "cell_type": "code",
   "execution_count": 7,
   "id": "dcd84ea6",
   "metadata": {},
   "outputs": [
    {
     "data": {
      "application/javascript": [
       "\n",
       "            setTimeout(function() {\n",
       "                var nbb_cell_id = 7;\n",
       "                var nbb_unformatted_code = \"params = {\\n    \\\"review_prior\\\": np.ones(5),\\n    \\\"tendency_to_rate\\\": 0.05,\\n    \\\"simulation_type\\\": \\\"timeseries\\\",\\n    \\\"previous_rating_measure\\\": \\\"mode of latest\\\",\\n    \\\"min_reviews_for_herding\\\": 6,\\n    \\\"num_latest_reviews_for_herding\\\": 5,\\n    \\\"num_products\\\": 1400,\\n    # \\\"num_products\\\": 100,\\n    \\\"num_total_marketplace_reviews\\\": 140_000,\\n    # \\\"num_total_marketplace_reviews\\\": 5_000,\\n    \\\"consideration_set_size\\\": 5,\\n    \\\"one_star_lowest_limit\\\": -1.5,\\n    \\\"five_star_highest_limit\\\": 1.5,\\n    \\\"max_bias_5_star\\\": 0.25,\\n}\";\n",
       "                var nbb_formatted_code = \"params = {\\n    \\\"review_prior\\\": np.ones(5),\\n    \\\"tendency_to_rate\\\": 0.05,\\n    \\\"simulation_type\\\": \\\"timeseries\\\",\\n    \\\"previous_rating_measure\\\": \\\"mode of latest\\\",\\n    \\\"min_reviews_for_herding\\\": 6,\\n    \\\"num_latest_reviews_for_herding\\\": 5,\\n    \\\"num_products\\\": 1400,\\n    # \\\"num_products\\\": 100,\\n    \\\"num_total_marketplace_reviews\\\": 140_000,\\n    # \\\"num_total_marketplace_reviews\\\": 5_000,\\n    \\\"consideration_set_size\\\": 5,\\n    \\\"one_star_lowest_limit\\\": -1.5,\\n    \\\"five_star_highest_limit\\\": 1.5,\\n    \\\"max_bias_5_star\\\": 0.25,\\n}\";\n",
       "                var nbb_cells = Jupyter.notebook.get_cells();\n",
       "                for (var i = 0; i < nbb_cells.length; ++i) {\n",
       "                    if (nbb_cells[i].input_prompt_number == nbb_cell_id) {\n",
       "                        if (nbb_cells[i].get_text() == nbb_unformatted_code) {\n",
       "                             nbb_cells[i].set_text(nbb_formatted_code);\n",
       "                        }\n",
       "                        break;\n",
       "                    }\n",
       "                }\n",
       "            }, 500);\n",
       "            "
      ],
      "text/plain": [
       "<IPython.core.display.Javascript object>"
      ]
     },
     "metadata": {},
     "output_type": "display_data"
    }
   ],
   "source": [
    "params = {\n",
    "    \"review_prior\": np.ones(5),\n",
    "    \"tendency_to_rate\": 0.05,\n",
    "    \"simulation_type\": \"timeseries\",\n",
    "    \"previous_rating_measure\": \"mode of latest\",\n",
    "    \"min_reviews_for_herding\": 6,\n",
    "    \"num_latest_reviews_for_herding\": 5,\n",
    "    \"num_products\": 1400,\n",
    "    # \"num_products\": 100,\n",
    "    \"num_total_marketplace_reviews\": 140_000,\n",
    "    # \"num_total_marketplace_reviews\": 5_000,\n",
    "    \"consideration_set_size\": 5,\n",
    "    \"one_star_lowest_limit\": -1.5,\n",
    "    \"five_star_highest_limit\": 1.5,\n",
    "    \"max_bias_5_star\": 0.25,\n",
    "}"
   ]
  },
  {
   "cell_type": "code",
   "execution_count": 8,
   "id": "e3c81989",
   "metadata": {},
   "outputs": [
    {
     "data": {
      "application/javascript": [
       "\n",
       "            setTimeout(function() {\n",
       "                var nbb_cell_id = 8;\n",
       "                var nbb_unformatted_code = \"simulator = MarketplaceSimulator(params)\";\n",
       "                var nbb_formatted_code = \"simulator = MarketplaceSimulator(params)\";\n",
       "                var nbb_cells = Jupyter.notebook.get_cells();\n",
       "                for (var i = 0; i < nbb_cells.length; ++i) {\n",
       "                    if (nbb_cells[i].input_prompt_number == nbb_cell_id) {\n",
       "                        if (nbb_cells[i].get_text() == nbb_unformatted_code) {\n",
       "                             nbb_cells[i].set_text(nbb_formatted_code);\n",
       "                        }\n",
       "                        break;\n",
       "                    }\n",
       "                }\n",
       "            }, 500);\n",
       "            "
      ],
      "text/plain": [
       "<IPython.core.display.Javascript object>"
      ]
     },
     "metadata": {},
     "output_type": "display_data"
    }
   ],
   "source": [
    "simulator = MarketplaceSimulator(params)"
   ]
  },
  {
   "cell_type": "code",
   "execution_count": 9,
   "id": "7f3715c4",
   "metadata": {},
   "outputs": [
    {
     "name": "stdout",
     "output_type": "stream",
     "text": [
      "Loaded product embedding density estimator: \n",
      " GaussianMixture(max_iter=500, n_components=10, n_init=5, random_state=42,\n",
      "                verbose=2, verbose_interval=20)\n",
      "Loaded user embedding density estimator: \n",
      " GaussianMixture(max_iter=500, n_components=10, n_init=5, random_state=42,\n",
      "                verbose=2, verbose_interval=20)\n",
      "\t Device set to cpu, using torch num threads=32\n",
      "Using the dense network: \n",
      " Sequential(\n",
      "  (0): Linear(in_features=100, out_features=256, bias=True)\n",
      "  (1): LeakyReLU(negative_slope=0.01)\n",
      "  (2): Linear(in_features=256, out_features=128, bias=True)\n",
      "  (3): LeakyReLU(negative_slope=0.01)\n",
      "  (4): Linear(in_features=128, out_features=64, bias=True)\n",
      "  (5): LeakyReLU(negative_slope=0.01)\n",
      "  (6): Linear(in_features=64, out_features=5, bias=True)\n",
      ")\n",
      "Loaded embedding -> rating predictor model: \n",
      " RatingPredictorModel(\n",
      "  (net): Sequential(\n",
      "    (0): Linear(in_features=100, out_features=256, bias=True)\n",
      "    (1): LeakyReLU(negative_slope=0.01)\n",
      "    (2): Linear(in_features=256, out_features=128, bias=True)\n",
      "    (3): LeakyReLU(negative_slope=0.01)\n",
      "    (4): Linear(in_features=128, out_features=64, bias=True)\n",
      "    (5): LeakyReLU(negative_slope=0.01)\n",
      "    (6): Linear(in_features=64, out_features=5, bias=True)\n",
      "  )\n",
      ")\n"
     ]
    },
    {
     "data": {
      "application/vnd.jupyter.widget-view+json": {
       "model_id": "52795a2046a14155bf1cdca821f1ebf9",
       "version_major": 2,
       "version_minor": 0
      },
      "text/plain": [
       "Worker 1:   0%|          | 0/140000 [00:00<?, ?it/s]"
      ]
     },
     "metadata": {},
     "output_type": "display_data"
    },
    {
     "data": {
      "application/vnd.jupyter.widget-view+json": {
       "model_id": "5b594bea2f264c57983a1e816d3492ce",
       "version_major": 2,
       "version_minor": 0
      },
      "text/plain": [
       "Worker 2:   0%|          | 0/140000 [00:00<?, ?it/s]"
      ]
     },
     "metadata": {},
     "output_type": "display_data"
    },
    {
     "data": {
      "application/vnd.jupyter.widget-view+json": {
       "model_id": "41a43c1edfea4b85836798b717695e9f",
       "version_major": 2,
       "version_minor": 0
      },
      "text/plain": [
       "Worker 3:   0%|          | 0/140000 [00:00<?, ?it/s]"
      ]
     },
     "metadata": {},
     "output_type": "display_data"
    },
    {
     "data": {
      "application/vnd.jupyter.widget-view+json": {
       "model_id": "efcb5ca5b9154f748aa5754d5a5e1aa2",
       "version_major": 2,
       "version_minor": 0
      },
      "text/plain": [
       "Worker 4:   0%|          | 0/140000 [00:00<?, ?it/s]"
      ]
     },
     "metadata": {},
     "output_type": "display_data"
    },
    {
     "data": {
      "application/vnd.jupyter.widget-view+json": {
       "model_id": "fab8f45cf5034d7a9fdddc1589e94200",
       "version_major": 2,
       "version_minor": 0
      },
      "text/plain": [
       "Worker 5:   0%|          | 0/140000 [00:00<?, ?it/s]"
      ]
     },
     "metadata": {},
     "output_type": "display_data"
    },
    {
     "data": {
      "application/vnd.jupyter.widget-view+json": {
       "model_id": "51551655b25543719bb2b5b16505d428",
       "version_major": 2,
       "version_minor": 0
      },
      "text/plain": [
       "Worker 6:   0%|          | 0/140000 [00:00<?, ?it/s]"
      ]
     },
     "metadata": {},
     "output_type": "display_data"
    },
    {
     "data": {
      "application/vnd.jupyter.widget-view+json": {
       "model_id": "21813a898bce49f7883052638ce762d2",
       "version_major": 2,
       "version_minor": 0
      },
      "text/plain": [
       "Worker 7:   0%|          | 0/140000 [00:00<?, ?it/s]"
      ]
     },
     "metadata": {},
     "output_type": "display_data"
    },
    {
     "data": {
      "application/vnd.jupyter.widget-view+json": {
       "model_id": "da0a4a499bb04594aea469800864fc89",
       "version_major": 2,
       "version_minor": 0
      },
      "text/plain": [
       "Worker 8:   0%|          | 0/140000 [00:00<?, ?it/s]"
      ]
     },
     "metadata": {},
     "output_type": "display_data"
    },
    {
     "data": {
      "application/vnd.jupyter.widget-view+json": {
       "model_id": "539eff4532d54abd975638a2214fd0f1",
       "version_major": 2,
       "version_minor": 0
      },
      "text/plain": [
       "Worker 9:   0%|          | 0/140000 [00:00<?, ?it/s]"
      ]
     },
     "metadata": {},
     "output_type": "display_data"
    },
    {
     "data": {
      "application/vnd.jupyter.widget-view+json": {
       "model_id": "7d684967b6fd45e0ac5a1ee96f38c76a",
       "version_major": 2,
       "version_minor": 0
      },
      "text/plain": [
       "Worker 10:   0%|          | 0/140000 [00:00<?, ?it/s]"
      ]
     },
     "metadata": {},
     "output_type": "display_data"
    },
    {
     "data": {
      "application/vnd.jupyter.widget-view+json": {
       "model_id": "2d5b12b0fa174acf80c31b390869e3c4",
       "version_major": 2,
       "version_minor": 0
      },
      "text/plain": [
       "Worker 11:   0%|          | 0/140000 [00:00<?, ?it/s]"
      ]
     },
     "metadata": {},
     "output_type": "display_data"
    },
    {
     "data": {
      "application/vnd.jupyter.widget-view+json": {
       "model_id": "f7f6e146f37a42359bea557543bc2b6d",
       "version_major": 2,
       "version_minor": 0
      },
      "text/plain": [
       "Worker 12:   0%|          | 0/140000 [00:00<?, ?it/s]"
      ]
     },
     "metadata": {},
     "output_type": "display_data"
    },
    {
     "data": {
      "application/vnd.jupyter.widget-view+json": {
       "model_id": "56763455dc914f8c9c5911916895d48e",
       "version_major": 2,
       "version_minor": 0
      },
      "text/plain": [
       "Worker 13:   0%|          | 0/140000 [00:00<?, ?it/s]"
      ]
     },
     "metadata": {},
     "output_type": "display_data"
    },
    {
     "data": {
      "application/vnd.jupyter.widget-view+json": {
       "model_id": "65c3c608f8d24447b74c41e8589d2671",
       "version_major": 2,
       "version_minor": 0
      },
      "text/plain": [
       "Worker 14:   0%|          | 0/140000 [00:00<?, ?it/s]"
      ]
     },
     "metadata": {},
     "output_type": "display_data"
    },
    {
     "data": {
      "application/vnd.jupyter.widget-view+json": {
       "model_id": "984f34edd47c4025b49c8bf0a4da26e6",
       "version_major": 2,
       "version_minor": 0
      },
      "text/plain": [
       "Worker 15:   0%|          | 0/140000 [00:00<?, ?it/s]"
      ]
     },
     "metadata": {},
     "output_type": "display_data"
    },
    {
     "data": {
      "application/vnd.jupyter.widget-view+json": {
       "model_id": "7ec0b549de7b445abf73a3ee47fd0978",
       "version_major": 2,
       "version_minor": 0
      },
      "text/plain": [
       "Worker 16:   0%|          | 0/140000 [00:00<?, ?it/s]"
      ]
     },
     "metadata": {},
     "output_type": "display_data"
    },
    {
     "data": {
      "application/vnd.jupyter.widget-view+json": {
       "model_id": "e2d571fd43a744b7b004565bee2de363",
       "version_major": 2,
       "version_minor": 0
      },
      "text/plain": [
       "Worker 17:   0%|          | 0/140000 [00:00<?, ?it/s]"
      ]
     },
     "metadata": {},
     "output_type": "display_data"
    },
    {
     "data": {
      "application/vnd.jupyter.widget-view+json": {
       "model_id": "7818daeb5a5941e28341085df0c9dfee",
       "version_major": 2,
       "version_minor": 0
      },
      "text/plain": [
       "Worker 18:   0%|          | 0/140000 [00:00<?, ?it/s]"
      ]
     },
     "metadata": {},
     "output_type": "display_data"
    },
    {
     "data": {
      "application/vnd.jupyter.widget-view+json": {
       "model_id": "43ee17f36184456b9f1c01d7b8972521",
       "version_major": 2,
       "version_minor": 0
      },
      "text/plain": [
       "Worker 19:   0%|          | 0/140000 [00:00<?, ?it/s]"
      ]
     },
     "metadata": {},
     "output_type": "display_data"
    },
    {
     "data": {
      "application/vnd.jupyter.widget-view+json": {
       "model_id": "db5679e8de334cf5bcdef102fb54f042",
       "version_major": 2,
       "version_minor": 0
      },
      "text/plain": [
       "Worker 20:   0%|          | 0/140000 [00:00<?, ?it/s]"
      ]
     },
     "metadata": {},
     "output_type": "display_data"
    },
    {
     "data": {
      "application/vnd.jupyter.widget-view+json": {
       "model_id": "54b534783374428ca9ce780b9041e591",
       "version_major": 2,
       "version_minor": 0
      },
      "text/plain": [
       "Worker 21:   0%|          | 0/140000 [00:00<?, ?it/s]"
      ]
     },
     "metadata": {},
     "output_type": "display_data"
    },
    {
     "data": {
      "application/vnd.jupyter.widget-view+json": {
       "model_id": "851f2ed3e81c46739828689ae111dfaf",
       "version_major": 2,
       "version_minor": 0
      },
      "text/plain": [
       "Worker 22:   0%|          | 0/140000 [00:00<?, ?it/s]"
      ]
     },
     "metadata": {},
     "output_type": "display_data"
    },
    {
     "data": {
      "application/vnd.jupyter.widget-view+json": {
       "model_id": "3f57e597db534bc8bbde0172221842c4",
       "version_major": 2,
       "version_minor": 0
      },
      "text/plain": [
       "Worker 23:   0%|          | 0/140000 [00:00<?, ?it/s]"
      ]
     },
     "metadata": {},
     "output_type": "display_data"
    },
    {
     "data": {
      "application/vnd.jupyter.widget-view+json": {
       "model_id": "31200e3e1e9844ad93cdc8533cc09a8b",
       "version_major": 2,
       "version_minor": 0
      },
      "text/plain": [
       "Worker 24:   0%|          | 0/140000 [00:00<?, ?it/s]"
      ]
     },
     "metadata": {},
     "output_type": "display_data"
    },
    {
     "data": {
      "application/vnd.jupyter.widget-view+json": {
       "model_id": "5564819e827a4ec488e2a687d549dd8f",
       "version_major": 2,
       "version_minor": 0
      },
      "text/plain": [
       "Worker 25:   0%|          | 0/140000 [00:00<?, ?it/s]"
      ]
     },
     "metadata": {},
     "output_type": "display_data"
    },
    {
     "data": {
      "application/vnd.jupyter.widget-view+json": {
       "model_id": "4f24385fe41645d691b3108a2f199d3a",
       "version_major": 2,
       "version_minor": 0
      },
      "text/plain": [
       "Worker 26:   0%|          | 0/140000 [00:00<?, ?it/s]"
      ]
     },
     "metadata": {},
     "output_type": "display_data"
    },
    {
     "data": {
      "application/vnd.jupyter.widget-view+json": {
       "model_id": "76f34c89a526454fa4720852b1ca28bb",
       "version_major": 2,
       "version_minor": 0
      },
      "text/plain": [
       "Worker 27:   0%|          | 0/140000 [00:00<?, ?it/s]"
      ]
     },
     "metadata": {},
     "output_type": "display_data"
    },
    {
     "data": {
      "application/vnd.jupyter.widget-view+json": {
       "model_id": "6923729ff9ea43ee8345256b497ae534",
       "version_major": 2,
       "version_minor": 0
      },
      "text/plain": [
       "Worker 28:   0%|          | 0/140000 [00:00<?, ?it/s]"
      ]
     },
     "metadata": {},
     "output_type": "display_data"
    },
    {
     "data": {
      "application/vnd.jupyter.widget-view+json": {
       "model_id": "3028cbc788fa4f90a42316c7de1ba4ca",
       "version_major": 2,
       "version_minor": 0
      },
      "text/plain": [
       "Worker 29:   0%|          | 0/140000 [00:00<?, ?it/s]"
      ]
     },
     "metadata": {},
     "output_type": "display_data"
    },
    {
     "data": {
      "application/vnd.jupyter.widget-view+json": {
       "model_id": "0a39a201405c48cfade8e84205cbf637",
       "version_major": 2,
       "version_minor": 0
      },
      "text/plain": [
       "Worker 30:   0%|          | 0/140000 [00:00<?, ?it/s]"
      ]
     },
     "metadata": {},
     "output_type": "display_data"
    },
    {
     "data": {
      "application/vnd.jupyter.widget-view+json": {
       "model_id": "e3af896cb0a646ddb621ef1aec257762",
       "version_major": 2,
       "version_minor": 0
      },
      "text/plain": [
       "Worker 31:   0%|          | 0/140000 [00:00<?, ?it/s]"
      ]
     },
     "metadata": {},
     "output_type": "display_data"
    },
    {
     "data": {
      "application/vnd.jupyter.widget-view+json": {
       "model_id": "ebaace3f488a457da308f4312c9bf104",
       "version_major": 2,
       "version_minor": 0
      },
      "text/plain": [
       "Worker 32:   0%|          | 0/140000 [00:00<?, ?it/s]"
      ]
     },
     "metadata": {},
     "output_type": "display_data"
    },
    {
     "data": {
      "application/javascript": [
       "\n",
       "            setTimeout(function() {\n",
       "                var nbb_cell_id = 9;\n",
       "                var nbb_unformatted_code = \"simulator.simulate(num_simulations=32, embeddings_artifact_path=ARTIFACT_PATH)\";\n",
       "                var nbb_formatted_code = \"simulator.simulate(num_simulations=32, embeddings_artifact_path=ARTIFACT_PATH)\";\n",
       "                var nbb_cells = Jupyter.notebook.get_cells();\n",
       "                for (var i = 0; i < nbb_cells.length; ++i) {\n",
       "                    if (nbb_cells[i].input_prompt_number == nbb_cell_id) {\n",
       "                        if (nbb_cells[i].get_text() == nbb_unformatted_code) {\n",
       "                             nbb_cells[i].set_text(nbb_formatted_code);\n",
       "                        }\n",
       "                        break;\n",
       "                    }\n",
       "                }\n",
       "            }, 500);\n",
       "            "
      ],
      "text/plain": [
       "<IPython.core.display.Javascript object>"
      ]
     },
     "metadata": {},
     "output_type": "display_data"
    }
   ],
   "source": [
    "simulator.simulate(num_simulations=32, embeddings_artifact_path=ARTIFACT_PATH)"
   ]
  },
  {
   "cell_type": "code",
   "execution_count": 10,
   "id": "4807dc80",
   "metadata": {},
   "outputs": [
    {
     "data": {
      "text/plain": [
       "32"
      ]
     },
     "execution_count": 10,
     "metadata": {},
     "output_type": "execute_result"
    },
    {
     "data": {
      "application/javascript": [
       "\n",
       "            setTimeout(function() {\n",
       "                var nbb_cell_id = 10;\n",
       "                var nbb_unformatted_code = \"len(simulator.simulations)\";\n",
       "                var nbb_formatted_code = \"len(simulator.simulations)\";\n",
       "                var nbb_cells = Jupyter.notebook.get_cells();\n",
       "                for (var i = 0; i < nbb_cells.length; ++i) {\n",
       "                    if (nbb_cells[i].input_prompt_number == nbb_cell_id) {\n",
       "                        if (nbb_cells[i].get_text() == nbb_unformatted_code) {\n",
       "                             nbb_cells[i].set_text(nbb_formatted_code);\n",
       "                        }\n",
       "                        break;\n",
       "                    }\n",
       "                }\n",
       "            }, 500);\n",
       "            "
      ],
      "text/plain": [
       "<IPython.core.display.Javascript object>"
      ]
     },
     "metadata": {},
     "output_type": "display_data"
    }
   ],
   "source": [
    "len(simulator.simulations)"
   ]
  },
  {
   "cell_type": "code",
   "execution_count": 11,
   "id": "877cceda",
   "metadata": {},
   "outputs": [
    {
     "data": {
      "application/javascript": [
       "\n",
       "            setTimeout(function() {\n",
       "                var nbb_cell_id = 11;\n",
       "                var nbb_unformatted_code = \"simulator.save_simulations(ARTIFACT_PATH)\";\n",
       "                var nbb_formatted_code = \"simulator.save_simulations(ARTIFACT_PATH)\";\n",
       "                var nbb_cells = Jupyter.notebook.get_cells();\n",
       "                for (var i = 0; i < nbb_cells.length; ++i) {\n",
       "                    if (nbb_cells[i].input_prompt_number == nbb_cell_id) {\n",
       "                        if (nbb_cells[i].get_text() == nbb_unformatted_code) {\n",
       "                             nbb_cells[i].set_text(nbb_formatted_code);\n",
       "                        }\n",
       "                        break;\n",
       "                    }\n",
       "                }\n",
       "            }, 500);\n",
       "            "
      ],
      "text/plain": [
       "<IPython.core.display.Javascript object>"
      ]
     },
     "metadata": {},
     "output_type": "display_data"
    }
   ],
   "source": [
    "simulator.save_simulations(ARTIFACT_PATH)"
   ]
  },
  {
   "cell_type": "code",
   "execution_count": 12,
   "id": "96b7deda",
   "metadata": {},
   "outputs": [
    {
     "data": {
      "text/plain": [
       "79"
      ]
     },
     "execution_count": 12,
     "metadata": {},
     "output_type": "execute_result"
    },
    {
     "data": {
      "application/javascript": [
       "\n",
       "            setTimeout(function() {\n",
       "                var nbb_cell_id = 12;\n",
       "                var nbb_unformatted_code = \"len(simulator.simulations[0][10])\";\n",
       "                var nbb_formatted_code = \"len(simulator.simulations[0][10])\";\n",
       "                var nbb_cells = Jupyter.notebook.get_cells();\n",
       "                for (var i = 0; i < nbb_cells.length; ++i) {\n",
       "                    if (nbb_cells[i].input_prompt_number == nbb_cell_id) {\n",
       "                        if (nbb_cells[i].get_text() == nbb_unformatted_code) {\n",
       "                             nbb_cells[i].set_text(nbb_formatted_code);\n",
       "                        }\n",
       "                        break;\n",
       "                    }\n",
       "                }\n",
       "            }, 500);\n",
       "            "
      ],
      "text/plain": [
       "<IPython.core.display.Javascript object>"
      ]
     },
     "metadata": {},
     "output_type": "display_data"
    }
   ],
   "source": [
    "len(simulator.simulations[0][10])"
   ]
  },
  {
   "cell_type": "code",
   "execution_count": 13,
   "id": "ea0d5d9f",
   "metadata": {},
   "outputs": [
    {
     "data": {
      "text/plain": [
       "array([[  1.,   1.,   1.,   1.,   1.],\n",
       "       [  1.,   1.,   1.,   1.,   2.],\n",
       "       [  1.,   1.,   1.,   1.,   3.],\n",
       "       [  1.,   1.,   1.,   1.,   4.],\n",
       "       [  1.,   1.,   1.,   1.,   5.],\n",
       "       [  1.,   1.,   1.,   1.,   6.],\n",
       "       [  1.,   1.,   1.,   1.,   7.],\n",
       "       [  1.,   1.,   1.,   1.,   8.],\n",
       "       [  1.,   1.,   1.,   1.,   9.],\n",
       "       [  1.,   1.,   1.,   1.,  10.],\n",
       "       [  1.,   1.,   1.,   2.,  10.],\n",
       "       [  1.,   1.,   1.,   2.,  11.],\n",
       "       [  1.,   1.,   1.,   3.,  11.],\n",
       "       [  1.,   1.,   1.,   3.,  12.],\n",
       "       [  1.,   1.,   1.,   4.,  12.],\n",
       "       [  1.,   1.,   1.,   5.,  12.],\n",
       "       [  1.,   1.,   1.,   6.,  12.],\n",
       "       [  1.,   1.,   1.,   6.,  13.],\n",
       "       [  1.,   1.,   1.,   7.,  13.],\n",
       "       [  1.,   1.,   2.,   7.,  13.],\n",
       "       [  1.,   1.,   2.,   7.,  14.],\n",
       "       [  1.,   1.,   2.,   7.,  15.],\n",
       "       [  1.,   1.,   2.,   8.,  15.],\n",
       "       [  1.,   1.,   2.,   9.,  15.],\n",
       "       [  1.,   1.,   2.,   9.,  16.],\n",
       "       [  1.,   1.,   2.,   9.,  17.],\n",
       "       [  1.,   1.,   2.,   9.,  18.],\n",
       "       [  1.,   1.,   2.,  10.,  18.],\n",
       "       [  1.,   1.,   2.,  10.,  19.],\n",
       "       [  1.,   1.,   2.,  10.,  20.],\n",
       "       [  1.,   1.,   2.,  11.,  20.],\n",
       "       [  1.,   1.,   2.,  11.,  21.],\n",
       "       [  1.,   1.,   2.,  12.,  21.],\n",
       "       [  1.,   1.,   2.,  12.,  22.],\n",
       "       [  1.,   1.,   2.,  12.,  23.],\n",
       "       [  1.,   1.,   2.,  13.,  23.],\n",
       "       [  1.,   1.,   2.,  14.,  23.],\n",
       "       [  1.,   1.,   2.,  15.,  23.],\n",
       "       [  1.,   1.,   2.,  16.,  23.],\n",
       "       [  1.,   1.,   2.,  17.,  23.],\n",
       "       [  1.,   1.,   2.,  18.,  23.],\n",
       "       [  1.,   1.,   2.,  19.,  23.],\n",
       "       [  1.,   1.,   2.,  20.,  23.],\n",
       "       [  1.,   1.,   2.,  21.,  23.],\n",
       "       [  1.,   1.,   2.,  22.,  23.],\n",
       "       [  1.,   1.,   2.,  22.,  24.],\n",
       "       [  1.,   1.,   2.,  22.,  25.],\n",
       "       [  1.,   1.,   2.,  23.,  25.],\n",
       "       [  1.,   1.,   2.,  24.,  25.],\n",
       "       [  1.,   1.,   2.,  24.,  26.],\n",
       "       [  1.,   1.,   2.,  24.,  27.],\n",
       "       [  1.,   1.,   2.,  24.,  28.],\n",
       "       [  1.,   1.,   2.,  24.,  29.],\n",
       "       [  1.,   1.,   2.,  25.,  29.],\n",
       "       [  1.,   1.,   3.,  25.,  29.],\n",
       "       [  1.,   1.,   3.,  26.,  29.],\n",
       "       [  1.,   1.,   3.,  26.,  30.],\n",
       "       [  1.,   1.,   3.,  27.,  30.],\n",
       "       [  1.,   1.,   3.,  28.,  30.],\n",
       "       [  1.,   1.,   3.,  29.,  30.],\n",
       "       [  1.,   1.,   4.,  29.,  30.],\n",
       "       [  1.,   1.,   4.,  30.,  30.],\n",
       "       [  1.,   1.,   4.,  31.,  30.],\n",
       "       [  1.,   1.,   4.,  31.,  31.],\n",
       "       [  1.,   1.,   4.,  31.,  32.],\n",
       "       [  1.,   1.,   4.,  31.,  33.],\n",
       "       [  1.,   1.,   4.,  32.,  33.],\n",
       "       [  1.,   1.,   4.,  33.,  33.],\n",
       "       [  1.,   1.,   4.,  34.,  33.],\n",
       "       [  1.,   1.,   4.,  35.,  33.],\n",
       "       [  1.,   1.,   4.,  36.,  33.],\n",
       "       [  1.,   1.,   4.,  36.,  34.],\n",
       "       [  1.,   1.,   4.,  37.,  34.],\n",
       "       [  1.,   1.,   4.,  38.,  34.],\n",
       "       [  1.,   1.,   4.,  39.,  34.],\n",
       "       [  1.,   1.,   4.,  39.,  35.],\n",
       "       [  1.,   1.,   4.,  40.,  35.],\n",
       "       [  1.,   1.,   4.,  41.,  35.],\n",
       "       [  1.,   2.,   4.,  41.,  35.],\n",
       "       [  1.,   2.,   4.,  42.,  35.],\n",
       "       [  1.,   2.,   4.,  43.,  35.],\n",
       "       [  1.,   2.,   4.,  44.,  35.],\n",
       "       [  1.,   2.,   4.,  44.,  36.],\n",
       "       [  1.,   2.,   4.,  45.,  36.],\n",
       "       [  1.,   2.,   4.,  45.,  37.],\n",
       "       [  1.,   2.,   4.,  46.,  37.],\n",
       "       [  1.,   2.,   4.,  47.,  37.],\n",
       "       [  1.,   2.,   4.,  48.,  37.],\n",
       "       [  1.,   2.,   4.,  49.,  37.],\n",
       "       [  1.,   2.,   4.,  50.,  37.],\n",
       "       [  1.,   2.,   5.,  50.,  37.],\n",
       "       [  1.,   2.,   5.,  51.,  37.],\n",
       "       [  1.,   2.,   5.,  52.,  37.],\n",
       "       [  1.,   2.,   5.,  53.,  37.],\n",
       "       [  1.,   2.,   5.,  54.,  37.],\n",
       "       [  1.,   2.,   5.,  55.,  37.],\n",
       "       [  1.,   2.,   5.,  56.,  37.],\n",
       "       [  1.,   2.,   5.,  57.,  37.],\n",
       "       [  1.,   2.,   5.,  58.,  37.],\n",
       "       [  1.,   3.,   5.,  58.,  37.],\n",
       "       [  1.,   3.,   5.,  59.,  37.],\n",
       "       [  1.,   3.,   5.,  59.,  38.],\n",
       "       [  1.,   3.,   5.,  60.,  38.],\n",
       "       [  1.,   3.,   5.,  61.,  38.],\n",
       "       [  1.,   3.,   5.,  62.,  38.],\n",
       "       [  1.,   3.,   5.,  63.,  38.],\n",
       "       [  1.,   3.,   5.,  64.,  38.],\n",
       "       [  1.,   3.,   5.,  65.,  38.],\n",
       "       [  1.,   3.,   5.,  66.,  38.],\n",
       "       [  1.,   3.,   5.,  66.,  39.],\n",
       "       [  1.,   3.,   5.,  66.,  40.],\n",
       "       [  1.,   3.,   5.,  66.,  41.],\n",
       "       [  1.,   3.,   5.,  67.,  41.],\n",
       "       [  1.,   3.,   5.,  67.,  42.],\n",
       "       [  1.,   3.,   5.,  67.,  43.],\n",
       "       [  1.,   3.,   5.,  68.,  43.],\n",
       "       [  1.,   3.,   5.,  69.,  43.],\n",
       "       [  1.,   3.,   5.,  69.,  44.],\n",
       "       [  1.,   3.,   5.,  70.,  44.],\n",
       "       [  1.,   3.,   6.,  70.,  44.],\n",
       "       [  1.,   3.,   6.,  70.,  45.],\n",
       "       [  1.,   3.,   6.,  71.,  45.],\n",
       "       [  1.,   3.,   6.,  72.,  45.],\n",
       "       [  1.,   3.,   6.,  72.,  46.],\n",
       "       [  1.,   3.,   6.,  73.,  46.],\n",
       "       [  1.,   3.,   6.,  74.,  46.],\n",
       "       [  1.,   3.,   6.,  75.,  46.],\n",
       "       [  1.,   3.,   6.,  76.,  46.],\n",
       "       [  1.,   3.,   6.,  77.,  46.],\n",
       "       [  1.,   3.,   6.,  78.,  46.],\n",
       "       [  1.,   3.,   6.,  79.,  46.],\n",
       "       [  1.,   3.,   6.,  79.,  47.],\n",
       "       [  1.,   3.,   6.,  80.,  47.],\n",
       "       [  1.,   3.,   6.,  81.,  47.],\n",
       "       [  1.,   3.,   6.,  81.,  48.],\n",
       "       [  1.,   3.,   6.,  82.,  48.],\n",
       "       [  1.,   3.,   6.,  82.,  49.],\n",
       "       [  1.,   3.,   6.,  82.,  50.],\n",
       "       [  1.,   3.,   6.,  83.,  50.],\n",
       "       [  1.,   3.,   6.,  84.,  50.],\n",
       "       [  1.,   3.,   6.,  84.,  51.],\n",
       "       [  1.,   3.,   6.,  85.,  51.],\n",
       "       [  1.,   3.,   7.,  85.,  51.],\n",
       "       [  1.,   4.,   7.,  85.,  51.],\n",
       "       [  1.,   4.,   7.,  86.,  51.],\n",
       "       [  2.,   4.,   7.,  86.,  51.],\n",
       "       [  2.,   4.,   7.,  86.,  52.],\n",
       "       [  2.,   4.,   7.,  87.,  52.],\n",
       "       [  2.,   4.,   7.,  87.,  53.],\n",
       "       [  2.,   4.,   7.,  87.,  54.],\n",
       "       [  2.,   4.,   7.,  87.,  55.],\n",
       "       [  2.,   4.,   7.,  88.,  55.],\n",
       "       [  2.,   4.,   7.,  89.,  55.],\n",
       "       [  2.,   4.,   7.,  90.,  55.],\n",
       "       [  2.,   4.,   7.,  91.,  55.],\n",
       "       [  2.,   4.,   7.,  91.,  56.],\n",
       "       [  2.,   4.,   7.,  91.,  57.],\n",
       "       [  2.,   4.,   7.,  92.,  57.],\n",
       "       [  2.,   4.,   7.,  93.,  57.],\n",
       "       [  2.,   4.,   7.,  94.,  57.],\n",
       "       [  2.,   4.,   7.,  95.,  57.],\n",
       "       [  2.,   4.,   7.,  96.,  57.],\n",
       "       [  2.,   4.,   7.,  97.,  57.],\n",
       "       [  2.,   4.,   7.,  98.,  57.],\n",
       "       [  2.,   4.,   7.,  98.,  58.],\n",
       "       [  2.,   4.,   7.,  99.,  58.],\n",
       "       [  2.,   4.,   7.,  99.,  59.],\n",
       "       [  2.,   4.,   7.,  99.,  60.],\n",
       "       [  2.,   4.,   7.,  99.,  61.],\n",
       "       [  2.,   4.,   7.,  99.,  62.],\n",
       "       [  2.,   4.,   7., 100.,  62.],\n",
       "       [  2.,   4.,   7., 100.,  63.],\n",
       "       [  2.,   4.,   7., 101.,  63.],\n",
       "       [  2.,   4.,   7., 101.,  64.],\n",
       "       [  2.,   4.,   7., 101.,  65.],\n",
       "       [  2.,   4.,   7., 102.,  65.],\n",
       "       [  2.,   4.,   7., 102.,  66.]])"
      ]
     },
     "execution_count": 13,
     "metadata": {},
     "output_type": "execute_result"
    },
    {
     "data": {
      "application/javascript": [
       "\n",
       "            setTimeout(function() {\n",
       "                var nbb_cell_id = 13;\n",
       "                var nbb_unformatted_code = \"simulator.simulations[10][99]\";\n",
       "                var nbb_formatted_code = \"simulator.simulations[10][99]\";\n",
       "                var nbb_cells = Jupyter.notebook.get_cells();\n",
       "                for (var i = 0; i < nbb_cells.length; ++i) {\n",
       "                    if (nbb_cells[i].input_prompt_number == nbb_cell_id) {\n",
       "                        if (nbb_cells[i].get_text() == nbb_unformatted_code) {\n",
       "                             nbb_cells[i].set_text(nbb_formatted_code);\n",
       "                        }\n",
       "                        break;\n",
       "                    }\n",
       "                }\n",
       "            }, 500);\n",
       "            "
      ],
      "text/plain": [
       "<IPython.core.display.Javascript object>"
      ]
     },
     "metadata": {},
     "output_type": "display_data"
    }
   ],
   "source": [
    "simulator.simulations[10][99]"
   ]
  },
  {
   "cell_type": "code",
   "execution_count": 14,
   "id": "dbb5714a",
   "metadata": {},
   "outputs": [
    {
     "data": {
      "text/plain": [
       "44800"
      ]
     },
     "execution_count": 14,
     "metadata": {},
     "output_type": "execute_result"
    },
    {
     "data": {
      "application/javascript": [
       "\n",
       "            setTimeout(function() {\n",
       "                var nbb_cell_id = 14;\n",
       "                var nbb_unformatted_code = \"num_reviews = []\\nfor sim in simulator.simulations:\\n    num_reviews += [len(prods) for prods in sim]\\nlen(num_reviews)\";\n",
       "                var nbb_formatted_code = \"num_reviews = []\\nfor sim in simulator.simulations:\\n    num_reviews += [len(prods) for prods in sim]\\nlen(num_reviews)\";\n",
       "                var nbb_cells = Jupyter.notebook.get_cells();\n",
       "                for (var i = 0; i < nbb_cells.length; ++i) {\n",
       "                    if (nbb_cells[i].input_prompt_number == nbb_cell_id) {\n",
       "                        if (nbb_cells[i].get_text() == nbb_unformatted_code) {\n",
       "                             nbb_cells[i].set_text(nbb_formatted_code);\n",
       "                        }\n",
       "                        break;\n",
       "                    }\n",
       "                }\n",
       "            }, 500);\n",
       "            "
      ],
      "text/plain": [
       "<IPython.core.display.Javascript object>"
      ]
     },
     "metadata": {},
     "output_type": "display_data"
    }
   ],
   "source": [
    "num_reviews = []\n",
    "for sim in simulator.simulations:\n",
    "    num_reviews += [len(prods) for prods in sim]\n",
    "len(num_reviews)"
   ]
  },
  {
   "cell_type": "code",
   "execution_count": 15,
   "id": "25ff238b",
   "metadata": {},
   "outputs": [
    {
     "data": {
      "text/plain": [
       "(array([  4,   5,   6,   7,   8,   9,  10,  11,  12,  13,  14,  15,  16,\n",
       "         17,  18,  19,  20,  21,  22,  23,  24,  25,  26,  27,  28,  29,\n",
       "         30,  31,  32,  33,  34,  35,  36,  37,  38,  39,  40,  41,  42,\n",
       "         43,  44,  45,  46,  47,  48,  49,  50,  51,  52,  53,  54,  55,\n",
       "         56,  57,  58,  59,  60,  61,  62,  63,  64,  65,  66,  67,  68,\n",
       "         69,  70,  71,  72,  73,  74,  75,  76,  77,  78,  79,  80,  81,\n",
       "         82,  83,  84,  85,  86,  87,  88,  89,  90,  91,  92,  93,  94,\n",
       "         95,  96,  97,  98,  99, 100, 101, 102, 103, 104, 105, 106, 107,\n",
       "        108, 109, 110, 111, 112, 113, 114, 115, 116, 117, 118, 119, 120,\n",
       "        121, 122, 123, 124, 125, 126, 127, 128, 129, 130, 131, 132, 133,\n",
       "        134, 135, 136, 137, 138, 139, 140, 141, 142, 143, 144, 145, 146,\n",
       "        147, 148, 149, 150, 151, 152, 153, 154, 155, 156, 157, 158, 159,\n",
       "        160, 161, 162, 163, 164, 165, 166, 167, 168, 169, 170, 171, 172,\n",
       "        173, 174, 175, 176, 177, 178, 179, 180, 181, 182, 183, 184, 185,\n",
       "        186, 187, 188, 189, 190, 191, 192, 193, 194, 195, 196, 197, 198,\n",
       "        199, 200, 201, 202, 203, 204, 205, 206, 207, 208, 209, 210, 211,\n",
       "        212, 213, 214, 215, 216, 217, 218, 219, 220, 221, 222, 223, 224,\n",
       "        225, 226, 227, 228, 229, 230, 231, 232, 233, 234, 235, 236, 237,\n",
       "        238, 239, 240, 241, 242, 243, 244, 245, 246, 247, 248, 249, 250,\n",
       "        251, 252, 253, 254, 255, 256, 257, 258, 259, 260, 261, 262, 263,\n",
       "        264, 265, 266, 267, 268, 269, 270, 271, 272, 273, 274, 275, 276,\n",
       "        277, 278, 279, 280, 281, 282, 283, 284, 285, 286, 287, 288, 289,\n",
       "        290, 291, 292, 293, 294, 295, 296, 297, 298, 299, 300, 301, 302,\n",
       "        303, 304, 305, 306, 307, 308, 309, 310, 311, 312, 313, 314, 315,\n",
       "        316, 317, 318, 319, 320, 321, 322, 323, 324, 325, 326, 328, 329,\n",
       "        330, 331, 332, 333, 334, 335, 336, 337, 338, 339, 340, 341, 342,\n",
       "        343, 344, 345, 346, 347, 348, 349, 350, 351, 352, 353, 354, 355,\n",
       "        356, 357, 358, 359, 361, 362, 363, 364, 365, 366, 367, 369, 370,\n",
       "        371, 372, 373, 374, 376, 377, 380, 383, 384, 385, 386, 387, 388,\n",
       "        389, 390, 391, 392, 399, 400, 401, 402, 405, 406, 412, 413, 414,\n",
       "        418, 420, 424, 427, 429, 433, 434, 436, 437, 443, 448, 449, 454,\n",
       "        455, 458, 461, 464, 473, 508, 551, 564]),\n",
       " array([  1,   2,   4,   5,  10,  23,  29,  40,  55,  68,  68,  94, 114,\n",
       "        115, 124, 146, 153, 166, 157, 185, 183, 190, 212, 225, 237, 241,\n",
       "        222, 260, 286, 272, 268, 290, 292, 285, 277, 290, 328, 313, 328,\n",
       "        324, 327, 369, 355, 374, 358, 363, 412, 375, 381, 365, 394, 400,\n",
       "        383, 405, 401, 387, 405, 438, 446, 422, 448, 426, 472, 407, 412,\n",
       "        406, 417, 391, 360, 401, 404, 382, 378, 393, 363, 363, 349, 367,\n",
       "        371, 346, 364, 329, 347, 308, 333, 314, 312, 318, 286, 302, 239,\n",
       "        286, 279, 243, 256, 275, 243, 236, 245, 258, 223, 213, 213, 243,\n",
       "        182, 216, 177, 185, 177, 201, 196, 163, 167, 164, 180, 175, 178,\n",
       "        161, 150, 137, 181, 141, 122, 137, 148, 143, 149, 129, 131, 133,\n",
       "        126, 128, 119, 142, 140, 119, 139, 148, 137, 135, 132, 139, 141,\n",
       "        134, 130, 124, 119, 133, 118, 131, 135, 118, 125, 119, 109, 113,\n",
       "        104, 124, 117, 112, 108, 119, 111, 114, 110,  98,  92, 133, 113,\n",
       "        112, 108, 107, 116,  94, 105,  97,  95, 106, 112, 107,  97, 114,\n",
       "        114,  91,  82, 103,  83, 102, 115,  93,  82,  78,  88,  81,  85,\n",
       "         95,  91,  86,  87,  64,  73,  73,  84,  70,  68,  61,  66,  66,\n",
       "         77,  63,  52,  62,  69,  49,  58,  62,  51,  56,  60,  54,  58,\n",
       "         48,  49,  36,  43,  45,  45,  47,  61,  36,  41,  43,  40,  38,\n",
       "         43,  46,  42,  37,  34,  37,  41,  34,  37,  31,  34,  30,  39,\n",
       "         30,  26,  24,  21,  20,  23,  25,  24,  18,  26,  19,  18,  20,\n",
       "         16,  22,  24,  23,  17,  13,  18,  29,  15,  16,  20,  15,  15,\n",
       "         11,  18,  18,  17,   7,  13,  14,  19,  22,  13,  10,  14,   7,\n",
       "          8,  15,  13,  10,   9,   5,   8,   7,  12,   7,  10,   7,   9,\n",
       "          8,  15,   8,   9,  12,   8,   9,   7,   8,   9,   7,  11,   6,\n",
       "          6,   6,  13,   4,   4,   3,  10,   2,   4,   4,   5,   7,   7,\n",
       "          7,   3,   4,   7,   5,   8,   5,   2,   3,   3,   4,   4,   1,\n",
       "          3,   3,   5,   3,   5,   3,   3,   2,   3,   3,   2,   5,   2,\n",
       "          1,   4,   2,   1,   1,   3,   1,   2,   1,   2,   1,   2,   1,\n",
       "          3,   3,   1,   1,   5,   3,   3,   1,   2,   2,   2,   1,   1,\n",
       "          1,   1,   1,   1,   2,   1,   1,   4,   2,   2,   1,   1,   2,\n",
       "          1,   1,   1,   3,   1,   1,   1,   1,   1,   2,   1,   1,   2,\n",
       "          1,   1,   3,   1,   1,   1,   1,   1]))"
      ]
     },
     "execution_count": 15,
     "metadata": {},
     "output_type": "execute_result"
    },
    {
     "data": {
      "application/javascript": [
       "\n",
       "            setTimeout(function() {\n",
       "                var nbb_cell_id = 15;\n",
       "                var nbb_unformatted_code = \"np.unique(num_reviews, return_counts=True)\";\n",
       "                var nbb_formatted_code = \"np.unique(num_reviews, return_counts=True)\";\n",
       "                var nbb_cells = Jupyter.notebook.get_cells();\n",
       "                for (var i = 0; i < nbb_cells.length; ++i) {\n",
       "                    if (nbb_cells[i].input_prompt_number == nbb_cell_id) {\n",
       "                        if (nbb_cells[i].get_text() == nbb_unformatted_code) {\n",
       "                             nbb_cells[i].set_text(nbb_formatted_code);\n",
       "                        }\n",
       "                        break;\n",
       "                    }\n",
       "                }\n",
       "            }, 500);\n",
       "            "
      ],
      "text/plain": [
       "<IPython.core.display.Javascript object>"
      ]
     },
     "metadata": {},
     "output_type": "display_data"
    }
   ],
   "source": [
    "np.unique(num_reviews, return_counts=True)"
   ]
  },
  {
   "cell_type": "code",
   "execution_count": 16,
   "id": "ae32bb94",
   "metadata": {},
   "outputs": [
    {
     "data": {
      "text/plain": [
       "(array([1.2931e+04, 1.7729e+04, 7.4210e+03, 4.5680e+03, 1.5590e+03,\n",
       "        4.4400e+02, 1.0500e+02, 3.1000e+01, 9.0000e+00, 3.0000e+00]),\n",
       " array([  4.,  60., 116., 172., 228., 284., 340., 396., 452., 508., 564.]),\n",
       " <BarContainer object of 10 artists>)"
      ]
     },
     "execution_count": 16,
     "metadata": {},
     "output_type": "execute_result"
    },
    {
     "data": {
      "image/png": "[encoded data removed]",
      "text/plain": [
       "<Figure size 432x288 with 1 Axes>"
      ]
     },
     "metadata": {
      "needs_background": "light"
     },
     "output_type": "display_data"
    },
    {
     "data": {
      "application/javascript": [
       "\n",
       "            setTimeout(function() {\n",
       "                var nbb_cell_id = 16;\n",
       "                var nbb_unformatted_code = \"plt.hist(num_reviews)\";\n",
       "                var nbb_formatted_code = \"plt.hist(num_reviews)\";\n",
       "                var nbb_cells = Jupyter.notebook.get_cells();\n",
       "                for (var i = 0; i < nbb_cells.length; ++i) {\n",
       "                    if (nbb_cells[i].input_prompt_number == nbb_cell_id) {\n",
       "                        if (nbb_cells[i].get_text() == nbb_unformatted_code) {\n",
       "                             nbb_cells[i].set_text(nbb_formatted_code);\n",
       "                        }\n",
       "                        break;\n",
       "                    }\n",
       "                }\n",
       "            }, 500);\n",
       "            "
      ],
      "text/plain": [
       "<IPython.core.display.Javascript object>"
      ]
     },
     "metadata": {},
     "output_type": "display_data"
    }
   ],
   "source": [
    "plt.hist(num_reviews)"
   ]
  },
  {
   "cell_type": "code",
   "execution_count": 17,
   "id": "9530fa59",
   "metadata": {},
   "outputs": [
    {
     "data": {
      "application/javascript": [
       "\n",
       "            setTimeout(function() {\n",
       "                var nbb_cell_id = 17;\n",
       "                var nbb_unformatted_code = \"ratings = np.zeros(5)\\nfor sim in simulator.simulations:\\n    for prods in sim:\\n        ratings += prods[-1]\";\n",
       "                var nbb_formatted_code = \"ratings = np.zeros(5)\\nfor sim in simulator.simulations:\\n    for prods in sim:\\n        ratings += prods[-1]\";\n",
       "                var nbb_cells = Jupyter.notebook.get_cells();\n",
       "                for (var i = 0; i < nbb_cells.length; ++i) {\n",
       "                    if (nbb_cells[i].input_prompt_number == nbb_cell_id) {\n",
       "                        if (nbb_cells[i].get_text() == nbb_unformatted_code) {\n",
       "                             nbb_cells[i].set_text(nbb_formatted_code);\n",
       "                        }\n",
       "                        break;\n",
       "                    }\n",
       "                }\n",
       "            }, 500);\n",
       "            "
      ],
      "text/plain": [
       "<IPython.core.display.Javascript object>"
      ]
     },
     "metadata": {},
     "output_type": "display_data"
    }
   ],
   "source": [
    "ratings = np.zeros(5)\n",
    "for sim in simulator.simulations:\n",
    "    for prods in sim:\n",
    "        ratings += prods[-1]"
   ]
  },
  {
   "cell_type": "code",
   "execution_count": 18,
   "id": "e6287de9",
   "metadata": {},
   "outputs": [
    {
     "data": {
      "text/plain": [
       "array([ 591960.,  263364.,  614166., 1009830., 2224680.])"
      ]
     },
     "execution_count": 18,
     "metadata": {},
     "output_type": "execute_result"
    },
    {
     "data": {
      "application/javascript": [
       "\n",
       "            setTimeout(function() {\n",
       "                var nbb_cell_id = 18;\n",
       "                var nbb_unformatted_code = \"ratings\";\n",
       "                var nbb_formatted_code = \"ratings\";\n",
       "                var nbb_cells = Jupyter.notebook.get_cells();\n",
       "                for (var i = 0; i < nbb_cells.length; ++i) {\n",
       "                    if (nbb_cells[i].input_prompt_number == nbb_cell_id) {\n",
       "                        if (nbb_cells[i].get_text() == nbb_unformatted_code) {\n",
       "                             nbb_cells[i].set_text(nbb_formatted_code);\n",
       "                        }\n",
       "                        break;\n",
       "                    }\n",
       "                }\n",
       "            }, 500);\n",
       "            "
      ],
      "text/plain": [
       "<IPython.core.display.Javascript object>"
      ]
     },
     "metadata": {},
     "output_type": "display_data"
    }
   ],
   "source": [
    "ratings"
   ]
  },
  {
   "cell_type": "code",
   "execution_count": 19,
   "id": "c60cd1f8",
   "metadata": {},
   "outputs": [
    {
     "data": {
      "text/plain": [
       "[<matplotlib.lines.Line2D at 0x7fc8259c57f0>]"
      ]
     },
     "execution_count": 19,
     "metadata": {},
     "output_type": "execute_result"
    },
    {
     "data": {
      "image/png": "[encoded data removed]",
      "text/plain": [
       "<Figure size 432x288 with 1 Axes>"
      ]
     },
     "metadata": {
      "needs_background": "light"
     },
     "output_type": "display_data"
    },
    {
     "data": {
      "application/javascript": [
       "\n",
       "            setTimeout(function() {\n",
       "                var nbb_cell_id = 19;\n",
       "                var nbb_unformatted_code = \"plt.plot(ratings)\";\n",
       "                var nbb_formatted_code = \"plt.plot(ratings)\";\n",
       "                var nbb_cells = Jupyter.notebook.get_cells();\n",
       "                for (var i = 0; i < nbb_cells.length; ++i) {\n",
       "                    if (nbb_cells[i].input_prompt_number == nbb_cell_id) {\n",
       "                        if (nbb_cells[i].get_text() == nbb_unformatted_code) {\n",
       "                             nbb_cells[i].set_text(nbb_formatted_code);\n",
       "                        }\n",
       "                        break;\n",
       "                    }\n",
       "                }\n",
       "            }, 500);\n",
       "            "
      ],
      "text/plain": [
       "<IPython.core.display.Javascript object>"
      ]
     },
     "metadata": {},
     "output_type": "display_data"
    }
   ],
   "source": [
    "plt.plot(ratings)"
   ]
  },
  {
   "cell_type": "code",
   "execution_count": 20,
   "id": "d20e6d08",
   "metadata": {},
   "outputs": [
    {
     "data": {
      "application/javascript": [
       "\n",
       "            setTimeout(function() {\n",
       "                var nbb_cell_id = 20;\n",
       "                var nbb_unformatted_code = \"index = []\\nfor sim in simulator.simulations:\\n    for prods in sim:\\n        diff = np.sum(prods[-1][3:]) - np.sum(prods[-1][:2])\\n        index.append(diff)\";\n",
       "                var nbb_formatted_code = \"index = []\\nfor sim in simulator.simulations:\\n    for prods in sim:\\n        diff = np.sum(prods[-1][3:]) - np.sum(prods[-1][:2])\\n        index.append(diff)\";\n",
       "                var nbb_cells = Jupyter.notebook.get_cells();\n",
       "                for (var i = 0; i < nbb_cells.length; ++i) {\n",
       "                    if (nbb_cells[i].input_prompt_number == nbb_cell_id) {\n",
       "                        if (nbb_cells[i].get_text() == nbb_unformatted_code) {\n",
       "                             nbb_cells[i].set_text(nbb_formatted_code);\n",
       "                        }\n",
       "                        break;\n",
       "                    }\n",
       "                }\n",
       "            }, 500);\n",
       "            "
      ],
      "text/plain": [
       "<IPython.core.display.Javascript object>"
      ]
     },
     "metadata": {},
     "output_type": "display_data"
    }
   ],
   "source": [
    "index = []\n",
    "for sim in simulator.simulations:\n",
    "    for prods in sim:\n",
    "        diff = np.sum(prods[-1][3:]) - np.sum(prods[-1][:2])\n",
    "        index.append(diff)"
   ]
  },
  {
   "cell_type": "code",
   "execution_count": 21,
   "id": "cdd41faa",
   "metadata": {},
   "outputs": [
    {
     "data": {
      "text/plain": [
       "(array([1.6730e+03, 1.6471e+04, 1.4116e+04, 6.3770e+03, 3.9770e+03,\n",
       "        1.5710e+03, 4.6400e+02, 1.0900e+02, 2.8000e+01, 1.4000e+01]),\n",
       " array([-43. ,  -5.2,  32.6,  70.4, 108.2, 146. , 183.8, 221.6, 259.4,\n",
       "        297.2, 335. ]),\n",
       " <BarContainer object of 10 artists>)"
      ]
     },
     "execution_count": 21,
     "metadata": {},
     "output_type": "execute_result"
    },
    {
     "data": {
      "image/png": "[encoded data removed]",
      "text/plain": [
       "<Figure size 432x288 with 1 Axes>"
      ]
     },
     "metadata": {
      "needs_background": "light"
     },
     "output_type": "display_data"
    },
    {
     "data": {
      "application/javascript": [
       "\n",
       "            setTimeout(function() {\n",
       "                var nbb_cell_id = 21;\n",
       "                var nbb_unformatted_code = \"plt.hist(index)\";\n",
       "                var nbb_formatted_code = \"plt.hist(index)\";\n",
       "                var nbb_cells = Jupyter.notebook.get_cells();\n",
       "                for (var i = 0; i < nbb_cells.length; ++i) {\n",
       "                    if (nbb_cells[i].input_prompt_number == nbb_cell_id) {\n",
       "                        if (nbb_cells[i].get_text() == nbb_unformatted_code) {\n",
       "                             nbb_cells[i].set_text(nbb_formatted_code);\n",
       "                        }\n",
       "                        break;\n",
       "                    }\n",
       "                }\n",
       "            }, 500);\n",
       "            "
      ],
      "text/plain": [
       "<IPython.core.display.Javascript object>"
      ]
     },
     "metadata": {},
     "output_type": "display_data"
    }
   ],
   "source": [
    "plt.hist(index)"
   ]
  },
  {
   "cell_type": "code",
   "execution_count": 22,
   "id": "cd2b167e",
   "metadata": {},
   "outputs": [
    {
     "name": "stdout",
     "output_type": "stream",
     "text": [
      "0.9390178571428571\n"
     ]
    },
    {
     "data": {
      "application/javascript": [
       "\n",
       "            setTimeout(function() {\n",
       "                var nbb_cell_id = 22;\n",
       "                var nbb_unformatted_code = \"print(np.mean(np.array(index) >= 0))\";\n",
       "                var nbb_formatted_code = \"print(np.mean(np.array(index) >= 0))\";\n",
       "                var nbb_cells = Jupyter.notebook.get_cells();\n",
       "                for (var i = 0; i < nbb_cells.length; ++i) {\n",
       "                    if (nbb_cells[i].input_prompt_number == nbb_cell_id) {\n",
       "                        if (nbb_cells[i].get_text() == nbb_unformatted_code) {\n",
       "                             nbb_cells[i].set_text(nbb_formatted_code);\n",
       "                        }\n",
       "                        break;\n",
       "                    }\n",
       "                }\n",
       "            }, 500);\n",
       "            "
      ],
      "text/plain": [
       "<IPython.core.display.Javascript object>"
      ]
     },
     "metadata": {},
     "output_type": "display_data"
    }
   ],
   "source": [
    "print(np.mean(np.array(index) >= 0))"
   ]
  },
  {
   "cell_type": "code",
   "execution_count": null,
   "id": "80d2219d",
   "metadata": {},
   "outputs": [],
   "source": []
  },
  {
   "cell_type": "code",
   "execution_count": 21,
   "id": "284d7882",
   "metadata": {},
   "outputs": [
    {
     "data": {
      "text/plain": [
       "2000"
      ]
     },
     "execution_count": 21,
     "metadata": {},
     "output_type": "execute_result"
    },
    {
     "data": {
      "application/javascript": [
       "\n",
       "            setTimeout(function() {\n",
       "                var nbb_cell_id = 21;\n",
       "                var nbb_unformatted_code = \"num_reviews = []\\nfor sim in simulator.simulations:\\n    num_reviews += [len(prods) for prods in sim]\\nlen(num_reviews)\";\n",
       "                var nbb_formatted_code = \"num_reviews = []\\nfor sim in simulator.simulations:\\n    num_reviews += [len(prods) for prods in sim]\\nlen(num_reviews)\";\n",
       "                var nbb_cells = Jupyter.notebook.get_cells();\n",
       "                for (var i = 0; i < nbb_cells.length; ++i) {\n",
       "                    if (nbb_cells[i].input_prompt_number == nbb_cell_id) {\n",
       "                        if (nbb_cells[i].get_text() == nbb_unformatted_code) {\n",
       "                             nbb_cells[i].set_text(nbb_formatted_code);\n",
       "                        }\n",
       "                        break;\n",
       "                    }\n",
       "                }\n",
       "            }, 500);\n",
       "            "
      ],
      "text/plain": [
       "<IPython.core.display.Javascript object>"
      ]
     },
     "metadata": {},
     "output_type": "display_data"
    }
   ],
   "source": [
    "num_reviews = []\n",
    "for sim in simulator.simulations:\n",
    "    num_reviews += [len(prods) for prods in sim]\n",
    "len(num_reviews)"
   ]
  },
  {
   "cell_type": "code",
   "execution_count": 22,
   "id": "53b5d23a",
   "metadata": {},
   "outputs": [
    {
     "data": {
      "text/plain": [
       "(array([703., 332., 270., 278., 203., 127.,  50.,  30.,   4.,   3.]),\n",
       " array([  6. ,  46.7,  87.4, 128.1, 168.8, 209.5, 250.2, 290.9, 331.6,\n",
       "        372.3, 413. ]),\n",
       " <BarContainer object of 10 artists>)"
      ]
     },
     "execution_count": 22,
     "metadata": {},
     "output_type": "execute_result"
    },
    {
     "data": {
      "image/png": "[encoded data removed]",
      "text/plain": [
       "<Figure size 432x288 with 1 Axes>"
      ]
     },
     "metadata": {
      "needs_background": "light"
     },
     "output_type": "display_data"
    },
    {
     "data": {
      "application/javascript": [
       "\n",
       "            setTimeout(function() {\n",
       "                var nbb_cell_id = 22;\n",
       "                var nbb_unformatted_code = \"plt.hist(num_reviews)\";\n",
       "                var nbb_formatted_code = \"plt.hist(num_reviews)\";\n",
       "                var nbb_cells = Jupyter.notebook.get_cells();\n",
       "                for (var i = 0; i < nbb_cells.length; ++i) {\n",
       "                    if (nbb_cells[i].input_prompt_number == nbb_cell_id) {\n",
       "                        if (nbb_cells[i].get_text() == nbb_unformatted_code) {\n",
       "                             nbb_cells[i].set_text(nbb_formatted_code);\n",
       "                        }\n",
       "                        break;\n",
       "                    }\n",
       "                }\n",
       "            }, 500);\n",
       "            "
      ],
      "text/plain": [
       "<IPython.core.display.Javascript object>"
      ]
     },
     "metadata": {},
     "output_type": "display_data"
    }
   ],
   "source": [
    "plt.hist(num_reviews)"
   ]
  },
  {
   "cell_type": "code",
   "execution_count": 19,
   "id": "c024cf6c",
   "metadata": {},
   "outputs": [
    {
     "data": {
      "text/plain": [
       "numpy.ndarray"
      ]
     },
     "execution_count": 19,
     "metadata": {},
     "output_type": "execute_result"
    },
    {
     "data": {
      "application/javascript": [
       "\n",
       "            setTimeout(function() {\n",
       "                var nbb_cell_id = 19;\n",
       "                var nbb_unformatted_code = \"type(simulator.simulations)\";\n",
       "                var nbb_formatted_code = \"type(simulator.simulations)\";\n",
       "                var nbb_cells = Jupyter.notebook.get_cells();\n",
       "                for (var i = 0; i < nbb_cells.length; ++i) {\n",
       "                    if (nbb_cells[i].input_prompt_number == nbb_cell_id) {\n",
       "                        if (nbb_cells[i].get_text() == nbb_unformatted_code) {\n",
       "                             nbb_cells[i].set_text(nbb_formatted_code);\n",
       "                        }\n",
       "                        break;\n",
       "                    }\n",
       "                }\n",
       "            }, 500);\n",
       "            "
      ],
      "text/plain": [
       "<IPython.core.display.Javascript object>"
      ]
     },
     "metadata": {},
     "output_type": "display_data"
    }
   ],
   "source": [
    "type(simulator.simulations)"
   ]
  },
  {
   "cell_type": "markdown",
   "id": "f4c8b86d",
   "metadata": {},
   "source": [
    "# Testing out all the code"
   ]
  },
  {
   "cell_type": "code",
   "execution_count": 17,
   "id": "187ea7d1",
   "metadata": {},
   "outputs": [
    {
     "data": {
      "application/javascript": [
       "\n",
       "            setTimeout(function() {\n",
       "                var nbb_cell_id = 17;\n",
       "                var nbb_unformatted_code = \"params = {\\n    \\\"review_prior\\\": np.ones(5),\\n    \\\"tendency_to_rate\\\": 0.05,\\n    \\\"simulation_type\\\": \\\"timeseries\\\",\\n    \\\"previous_rating_measure\\\": \\\"mode\\\",\\n    \\\"min_reviews_for_herding\\\": 5,\\n    \\\"num_products\\\": 1400,\\n    \\\"num_total_marketplace_reviews\\\": 140_000,\\n    \\\"consideration_set_size\\\": 5,\\n}\";\n",
       "                var nbb_formatted_code = \"params = {\\n    \\\"review_prior\\\": np.ones(5),\\n    \\\"tendency_to_rate\\\": 0.05,\\n    \\\"simulation_type\\\": \\\"timeseries\\\",\\n    \\\"previous_rating_measure\\\": \\\"mode\\\",\\n    \\\"min_reviews_for_herding\\\": 5,\\n    \\\"num_products\\\": 1400,\\n    \\\"num_total_marketplace_reviews\\\": 140_000,\\n    \\\"consideration_set_size\\\": 5,\\n}\";\n",
       "                var nbb_cells = Jupyter.notebook.get_cells();\n",
       "                for (var i = 0; i < nbb_cells.length; ++i) {\n",
       "                    if (nbb_cells[i].input_prompt_number == nbb_cell_id) {\n",
       "                        if (nbb_cells[i].get_text() == nbb_unformatted_code) {\n",
       "                             nbb_cells[i].set_text(nbb_formatted_code);\n",
       "                        }\n",
       "                        break;\n",
       "                    }\n",
       "                }\n",
       "            }, 500);\n",
       "            "
      ],
      "text/plain": [
       "<IPython.core.display.Javascript object>"
      ]
     },
     "metadata": {},
     "output_type": "display_data"
    }
   ],
   "source": [
    "params = {\n",
    "    \"review_prior\": np.ones(5),\n",
    "    \"tendency_to_rate\": 0.05,\n",
    "    \"simulation_type\": \"timeseries\",\n",
    "    \"previous_rating_measure\": \"mode\",\n",
    "    \"min_reviews_for_herding\": 5,\n",
    "    \"num_products\": 1400,\n",
    "    \"num_total_marketplace_reviews\": 140_000,\n",
    "    \"consideration_set_size\": 5,\n",
    "}"
   ]
  },
  {
   "cell_type": "code",
   "execution_count": 18,
   "id": "0ec5853f",
   "metadata": {},
   "outputs": [
    {
     "data": {
      "application/javascript": [
       "\n",
       "            setTimeout(function() {\n",
       "                var nbb_cell_id = 18;\n",
       "                var nbb_unformatted_code = \"simulator = MarketplaceSimulator(params)\";\n",
       "                var nbb_formatted_code = \"simulator = MarketplaceSimulator(params)\";\n",
       "                var nbb_cells = Jupyter.notebook.get_cells();\n",
       "                for (var i = 0; i < nbb_cells.length; ++i) {\n",
       "                    if (nbb_cells[i].input_prompt_number == nbb_cell_id) {\n",
       "                        if (nbb_cells[i].get_text() == nbb_unformatted_code) {\n",
       "                             nbb_cells[i].set_text(nbb_formatted_code);\n",
       "                        }\n",
       "                        break;\n",
       "                    }\n",
       "                }\n",
       "            }, 500);\n",
       "            "
      ],
      "text/plain": [
       "<IPython.core.display.Javascript object>"
      ]
     },
     "metadata": {},
     "output_type": "display_data"
    }
   ],
   "source": [
    "simulator = MarketplaceSimulator(params)"
   ]
  },
  {
   "cell_type": "code",
   "execution_count": 19,
   "id": "1522a2bb",
   "metadata": {},
   "outputs": [
    {
     "name": "stdout",
     "output_type": "stream",
     "text": [
      "Loaded product embedding density estimator: \n",
      " GaussianMixture(max_iter=500, n_components=10, n_init=5, random_state=42,\n",
      "                verbose=2, verbose_interval=20)\n",
      "Loaded user embedding density estimator: \n",
      " GaussianMixture(max_iter=500, n_components=10, n_init=5, random_state=42,\n",
      "                verbose=2, verbose_interval=20)\n",
      "\t Device set to cpu, using torch num threads=16\n",
      "Using the dense network: \n",
      " Sequential(\n",
      "  (0): Linear(in_features=100, out_features=256, bias=True)\n",
      "  (1): LeakyReLU(negative_slope=0.01)\n",
      "  (2): Linear(in_features=256, out_features=128, bias=True)\n",
      "  (3): LeakyReLU(negative_slope=0.01)\n",
      "  (4): Linear(in_features=128, out_features=64, bias=True)\n",
      "  (5): LeakyReLU(negative_slope=0.01)\n",
      "  (6): Linear(in_features=64, out_features=5, bias=True)\n",
      ")\n",
      "Loaded embedding -> rating predictor model: \n",
      " RatingPredictorModel(\n",
      "  (net): Sequential(\n",
      "    (0): Linear(in_features=100, out_features=256, bias=True)\n",
      "    (1): LeakyReLU(negative_slope=0.01)\n",
      "    (2): Linear(in_features=256, out_features=128, bias=True)\n",
      "    (3): LeakyReLU(negative_slope=0.01)\n",
      "    (4): Linear(in_features=128, out_features=64, bias=True)\n",
      "    (5): LeakyReLU(negative_slope=0.01)\n",
      "    (6): Linear(in_features=64, out_features=5, bias=True)\n",
      "  )\n",
      ")\n"
     ]
    },
    {
     "data": {
      "application/javascript": [
       "\n",
       "            setTimeout(function() {\n",
       "                var nbb_cell_id = 19;\n",
       "                var nbb_unformatted_code = \"simulator.load_embedding_density_estimators()\\nsimulator.load_embedding_rating_predictor()\";\n",
       "                var nbb_formatted_code = \"simulator.load_embedding_density_estimators()\\nsimulator.load_embedding_rating_predictor()\";\n",
       "                var nbb_cells = Jupyter.notebook.get_cells();\n",
       "                for (var i = 0; i < nbb_cells.length; ++i) {\n",
       "                    if (nbb_cells[i].input_prompt_number == nbb_cell_id) {\n",
       "                        if (nbb_cells[i].get_text() == nbb_unformatted_code) {\n",
       "                             nbb_cells[i].set_text(nbb_formatted_code);\n",
       "                        }\n",
       "                        break;\n",
       "                    }\n",
       "                }\n",
       "            }, 500);\n",
       "            "
      ],
      "text/plain": [
       "<IPython.core.display.Javascript object>"
      ]
     },
     "metadata": {},
     "output_type": "display_data"
    }
   ],
   "source": [
    "simulator.load_embedding_density_estimators()\n",
    "simulator.load_embedding_rating_predictor()"
   ]
  },
  {
   "cell_type": "code",
   "execution_count": null,
   "id": "4c4c3dc1",
   "metadata": {},
   "outputs": [],
   "source": []
  },
  {
   "cell_type": "code",
   "execution_count": 9,
   "id": "5b5db026",
   "metadata": {},
   "outputs": [
    {
     "data": {
      "application/javascript": [
       "\n",
       "            setTimeout(function() {\n",
       "                var nbb_cell_id = 9;\n",
       "                var nbb_unformatted_code = \"product_embeddings, _ = simulator.embedding_density_estimator.product_model.sample(n_samples=simulator.num_products)\";\n",
       "                var nbb_formatted_code = \"product_embeddings, _ = simulator.embedding_density_estimator.product_model.sample(\\n    n_samples=simulator.num_products\\n)\";\n",
       "                var nbb_cells = Jupyter.notebook.get_cells();\n",
       "                for (var i = 0; i < nbb_cells.length; ++i) {\n",
       "                    if (nbb_cells[i].input_prompt_number == nbb_cell_id) {\n",
       "                        if (nbb_cells[i].get_text() == nbb_unformatted_code) {\n",
       "                             nbb_cells[i].set_text(nbb_formatted_code);\n",
       "                        }\n",
       "                        break;\n",
       "                    }\n",
       "                }\n",
       "            }, 500);\n",
       "            "
      ],
      "text/plain": [
       "<IPython.core.display.Javascript object>"
      ]
     },
     "metadata": {},
     "output_type": "display_data"
    }
   ],
   "source": [
    "product_embeddings, _ = simulator.embedding_density_estimator.product_model.sample(n_samples=simulator.num_products)"
   ]
  },
  {
   "cell_type": "code",
   "execution_count": 11,
   "id": "606e4d9a",
   "metadata": {},
   "outputs": [
    {
     "data": {
      "text/plain": [
       "(1400, 100)"
      ]
     },
     "execution_count": 11,
     "metadata": {},
     "output_type": "execute_result"
    },
    {
     "data": {
      "application/javascript": [
       "\n",
       "            setTimeout(function() {\n",
       "                var nbb_cell_id = 11;\n",
       "                var nbb_unformatted_code = \"product_embeddings.shape\";\n",
       "                var nbb_formatted_code = \"product_embeddings.shape\";\n",
       "                var nbb_cells = Jupyter.notebook.get_cells();\n",
       "                for (var i = 0; i < nbb_cells.length; ++i) {\n",
       "                    if (nbb_cells[i].input_prompt_number == nbb_cell_id) {\n",
       "                        if (nbb_cells[i].get_text() == nbb_unformatted_code) {\n",
       "                             nbb_cells[i].set_text(nbb_formatted_code);\n",
       "                        }\n",
       "                        break;\n",
       "                    }\n",
       "                }\n",
       "            }, 500);\n",
       "            "
      ],
      "text/plain": [
       "<IPython.core.display.Javascript object>"
      ]
     },
     "metadata": {},
     "output_type": "display_data"
    }
   ],
   "source": [
    "product_embeddings.shape"
   ]
  },
  {
   "cell_type": "code",
   "execution_count": 12,
   "id": "25cb9b7f",
   "metadata": {},
   "outputs": [
    {
     "data": {
      "application/javascript": [
       "\n",
       "            setTimeout(function() {\n",
       "                var nbb_cell_id = 12;\n",
       "                var nbb_unformatted_code = \"pred_product_ratings = simulator.predict_ratings_from_embeddings(product_embeddings.copy())\";\n",
       "                var nbb_formatted_code = \"pred_product_ratings = simulator.predict_ratings_from_embeddings(\\n    product_embeddings.copy()\\n)\";\n",
       "                var nbb_cells = Jupyter.notebook.get_cells();\n",
       "                for (var i = 0; i < nbb_cells.length; ++i) {\n",
       "                    if (nbb_cells[i].input_prompt_number == nbb_cell_id) {\n",
       "                        if (nbb_cells[i].get_text() == nbb_unformatted_code) {\n",
       "                             nbb_cells[i].set_text(nbb_formatted_code);\n",
       "                        }\n",
       "                        break;\n",
       "                    }\n",
       "                }\n",
       "            }, 500);\n",
       "            "
      ],
      "text/plain": [
       "<IPython.core.display.Javascript object>"
      ]
     },
     "metadata": {},
     "output_type": "display_data"
    }
   ],
   "source": [
    "pred_product_ratings = simulator.predict_ratings_from_embeddings(product_embeddings.copy())"
   ]
  },
  {
   "cell_type": "code",
   "execution_count": 15,
   "id": "9c5b8c80",
   "metadata": {},
   "outputs": [
    {
     "name": "stdout",
     "output_type": "stream",
     "text": [
      "(1400, 5)\n"
     ]
    },
    {
     "data": {
      "text/plain": [
       "array([[ 3.992155 ,  2.2148726,  3.6162026, 11.657198 , 24.450998 ],\n",
       "       [ 3.3254642,  2.0040736,  2.995513 ,  8.312327 , 16.183367 ],\n",
       "       [ 3.6264749,  2.1039028,  3.2744224,  9.753601 , 19.620234 ],\n",
       "       ...,\n",
       "       [ 3.7359502,  2.1414642,  3.3798559, 10.358535 , 21.143726 ],\n",
       "       [ 3.9027734,  2.1929007,  3.5380857, 11.236549 , 23.334326 ],\n",
       "       [ 3.645616 ,  2.1119294,  3.2960632,  9.896704 , 20.019041 ]],\n",
       "      dtype=float32)"
      ]
     },
     "execution_count": 15,
     "metadata": {},
     "output_type": "execute_result"
    },
    {
     "data": {
      "application/javascript": [
       "\n",
       "            setTimeout(function() {\n",
       "                var nbb_cell_id = 15;\n",
       "                var nbb_unformatted_code = \"print(pred_product_ratings.shape)\\npred_product_ratings\";\n",
       "                var nbb_formatted_code = \"print(pred_product_ratings.shape)\\npred_product_ratings\";\n",
       "                var nbb_cells = Jupyter.notebook.get_cells();\n",
       "                for (var i = 0; i < nbb_cells.length; ++i) {\n",
       "                    if (nbb_cells[i].input_prompt_number == nbb_cell_id) {\n",
       "                        if (nbb_cells[i].get_text() == nbb_unformatted_code) {\n",
       "                             nbb_cells[i].set_text(nbb_formatted_code);\n",
       "                        }\n",
       "                        break;\n",
       "                    }\n",
       "                }\n",
       "            }, 500);\n",
       "            "
      ],
      "text/plain": [
       "<IPython.core.display.Javascript object>"
      ]
     },
     "metadata": {},
     "output_type": "display_data"
    }
   ],
   "source": [
    "print(pred_product_ratings.shape)\n",
    "pred_product_ratings"
   ]
  },
  {
   "cell_type": "code",
   "execution_count": 16,
   "id": "cd61fcbd",
   "metadata": {},
   "outputs": [
    {
     "data": {
      "text/plain": [
       "(array([  5.,  26., 118., 295., 466., 280., 126.,  53.,  23.,   8.]),\n",
       " array([2.5516927, 2.8050284, 3.0583644, 3.3117   , 3.5650358, 3.8183718,\n",
       "        4.0717072, 4.325043 , 4.578379 , 4.8317146, 5.0850506],\n",
       "       dtype=float32),\n",
       " <BarContainer object of 10 artists>)"
      ]
     },
     "execution_count": 16,
     "metadata": {},
     "output_type": "execute_result"
    },
    {
     "data": {
      "image/png": "[encoded data removed]",
      "text/plain": [
       "<Figure size 432x288 with 1 Axes>"
      ]
     },
     "metadata": {
      "needs_background": "light"
     },
     "output_type": "display_data"
    },
    {
     "data": {
      "application/javascript": [
       "\n",
       "            setTimeout(function() {\n",
       "                var nbb_cell_id = 16;\n",
       "                var nbb_unformatted_code = \"plt.hist(pred_product_ratings[:, 0])\";\n",
       "                var nbb_formatted_code = \"plt.hist(pred_product_ratings[:, 0])\";\n",
       "                var nbb_cells = Jupyter.notebook.get_cells();\n",
       "                for (var i = 0; i < nbb_cells.length; ++i) {\n",
       "                    if (nbb_cells[i].input_prompt_number == nbb_cell_id) {\n",
       "                        if (nbb_cells[i].get_text() == nbb_unformatted_code) {\n",
       "                             nbb_cells[i].set_text(nbb_formatted_code);\n",
       "                        }\n",
       "                        break;\n",
       "                    }\n",
       "                }\n",
       "            }, 500);\n",
       "            "
      ],
      "text/plain": [
       "<IPython.core.display.Javascript object>"
      ]
     },
     "metadata": {},
     "output_type": "display_data"
    }
   ],
   "source": [
    "plt.hist(pred_product_ratings[:, 0])"
   ]
  },
  {
   "cell_type": "code",
   "execution_count": 17,
   "id": "933fae03",
   "metadata": {},
   "outputs": [
    {
     "data": {
      "text/plain": [
       "(array([ 10.,  79., 276., 472., 320., 131.,  70.,  26.,  10.,   6.]),\n",
       " array([20.507717, 25.78635 , 31.064983, 36.343616, 41.62225 , 46.900887,\n",
       "        52.17952 , 57.458153, 62.736786, 68.01542 , 73.29405 ],\n",
       "       dtype=float32),\n",
       " <BarContainer object of 10 artists>)"
      ]
     },
     "execution_count": 17,
     "metadata": {},
     "output_type": "execute_result"
    },
    {
     "data": {
      "image/png": "[encoded data removed]",
      "text/plain": [
       "<Figure size 432x288 with 1 Axes>"
      ]
     },
     "metadata": {
      "needs_background": "light"
     },
     "output_type": "display_data"
    },
    {
     "data": {
      "application/javascript": [
       "\n",
       "            setTimeout(function() {\n",
       "                var nbb_cell_id = 17;\n",
       "                var nbb_unformatted_code = \"plt.hist(np.sum(pred_product_ratings, axis=1))\";\n",
       "                var nbb_formatted_code = \"plt.hist(np.sum(pred_product_ratings, axis=1))\";\n",
       "                var nbb_cells = Jupyter.notebook.get_cells();\n",
       "                for (var i = 0; i < nbb_cells.length; ++i) {\n",
       "                    if (nbb_cells[i].input_prompt_number == nbb_cell_id) {\n",
       "                        if (nbb_cells[i].get_text() == nbb_unformatted_code) {\n",
       "                             nbb_cells[i].set_text(nbb_formatted_code);\n",
       "                        }\n",
       "                        break;\n",
       "                    }\n",
       "                }\n",
       "            }, 500);\n",
       "            "
      ],
      "text/plain": [
       "<IPython.core.display.Javascript object>"
      ]
     },
     "metadata": {},
     "output_type": "display_data"
    }
   ],
   "source": [
    "plt.hist(np.sum(pred_product_ratings, axis=1))"
   ]
  },
  {
   "cell_type": "code",
   "execution_count": 19,
   "id": "bca29d6b",
   "metadata": {},
   "outputs": [
    {
     "data": {
      "application/javascript": [
       "\n",
       "            setTimeout(function() {\n",
       "                var nbb_cell_id = 19;\n",
       "                var nbb_unformatted_code = \"simulated_reviews = [\\n    deque([np.ones(5)], maxlen=140_000 * 30) for prod in range(simulator.num_products)\\n]\";\n",
       "                var nbb_formatted_code = \"simulated_reviews = [\\n    deque([np.ones(5)], maxlen=140_000 * 30) for prod in range(simulator.num_products)\\n]\";\n",
       "                var nbb_cells = Jupyter.notebook.get_cells();\n",
       "                for (var i = 0; i < nbb_cells.length; ++i) {\n",
       "                    if (nbb_cells[i].input_prompt_number == nbb_cell_id) {\n",
       "                        if (nbb_cells[i].get_text() == nbb_unformatted_code) {\n",
       "                             nbb_cells[i].set_text(nbb_formatted_code);\n",
       "                        }\n",
       "                        break;\n",
       "                    }\n",
       "                }\n",
       "            }, 500);\n",
       "            "
      ],
      "text/plain": [
       "<IPython.core.display.Javascript object>"
      ]
     },
     "metadata": {},
     "output_type": "display_data"
    }
   ],
   "source": [
    "simulated_reviews = [\n",
    "    deque([np.ones(5)], maxlen=140_000 * 30) for prod in range(simulator.num_products)\n",
    "]"
   ]
  },
  {
   "cell_type": "code",
   "execution_count": 169,
   "id": "9abee49b",
   "metadata": {},
   "outputs": [
    {
     "data": {
      "application/javascript": [
       "\n",
       "            setTimeout(function() {\n",
       "                var nbb_cell_id = 169;\n",
       "                var nbb_unformatted_code = \"a = simulator.embedding_density_estimator.user_model.means_\";\n",
       "                var nbb_formatted_code = \"a = simulator.embedding_density_estimator.user_model.means_\";\n",
       "                var nbb_cells = Jupyter.notebook.get_cells();\n",
       "                for (var i = 0; i < nbb_cells.length; ++i) {\n",
       "                    if (nbb_cells[i].input_prompt_number == nbb_cell_id) {\n",
       "                        if (nbb_cells[i].get_text() == nbb_unformatted_code) {\n",
       "                             nbb_cells[i].set_text(nbb_formatted_code);\n",
       "                        }\n",
       "                        break;\n",
       "                    }\n",
       "                }\n",
       "            }, 500);\n",
       "            "
      ],
      "text/plain": [
       "<IPython.core.display.Javascript object>"
      ]
     },
     "metadata": {},
     "output_type": "display_data"
    }
   ],
   "source": [
    "a = simulator.embedding_density_estimator.user_model.means_"
   ]
  },
  {
   "cell_type": "code",
   "execution_count": null,
   "id": "bd915fd2",
   "metadata": {},
   "outputs": [],
   "source": []
  },
  {
   "cell_type": "code",
   "execution_count": null,
   "id": "bca5c5dc",
   "metadata": {},
   "outputs": [],
   "source": []
  },
  {
   "cell_type": "code",
   "execution_count": 35,
   "id": "40791136",
   "metadata": {},
   "outputs": [
    {
     "data": {
      "text/plain": [
       "GaussianMixture(max_iter=500, n_components=10, n_init=5, verbose=2,\n",
       "                verbose_interval=20)"
      ]
     },
     "execution_count": 35,
     "metadata": {},
     "output_type": "execute_result"
    },
    {
     "data": {
      "application/javascript": [
       "\n",
       "            setTimeout(function() {\n",
       "                var nbb_cell_id = 35;\n",
       "                var nbb_unformatted_code = \"simulator.embedding_density_estimator.user_model.set_params(\\n    **{\\\"random_state\\\": None}\\n)\";\n",
       "                var nbb_formatted_code = \"simulator.embedding_density_estimator.user_model.set_params(**{\\\"random_state\\\": None})\";\n",
       "                var nbb_cells = Jupyter.notebook.get_cells();\n",
       "                for (var i = 0; i < nbb_cells.length; ++i) {\n",
       "                    if (nbb_cells[i].input_prompt_number == nbb_cell_id) {\n",
       "                        if (nbb_cells[i].get_text() == nbb_unformatted_code) {\n",
       "                             nbb_cells[i].set_text(nbb_formatted_code);\n",
       "                        }\n",
       "                        break;\n",
       "                    }\n",
       "                }\n",
       "            }, 500);\n",
       "            "
      ],
      "text/plain": [
       "<IPython.core.display.Javascript object>"
      ]
     },
     "metadata": {},
     "output_type": "display_data"
    }
   ],
   "source": [
    "simulator.embedding_density_estimator.user_model.set_params(**{\"random_state\": None})"
   ]
  },
  {
   "cell_type": "code",
   "execution_count": 171,
   "id": "918998b2",
   "metadata": {},
   "outputs": [
    {
     "data": {
      "application/javascript": [
       "\n",
       "            setTimeout(function() {\n",
       "                var nbb_cell_id = 171;\n",
       "                var nbb_unformatted_code = \"b = simulator.embedding_density_estimator.user_model.means_\";\n",
       "                var nbb_formatted_code = \"b = simulator.embedding_density_estimator.user_model.means_\";\n",
       "                var nbb_cells = Jupyter.notebook.get_cells();\n",
       "                for (var i = 0; i < nbb_cells.length; ++i) {\n",
       "                    if (nbb_cells[i].input_prompt_number == nbb_cell_id) {\n",
       "                        if (nbb_cells[i].get_text() == nbb_unformatted_code) {\n",
       "                             nbb_cells[i].set_text(nbb_formatted_code);\n",
       "                        }\n",
       "                        break;\n",
       "                    }\n",
       "                }\n",
       "            }, 500);\n",
       "            "
      ],
      "text/plain": [
       "<IPython.core.display.Javascript object>"
      ]
     },
     "metadata": {},
     "output_type": "display_data"
    }
   ],
   "source": [
    "b = simulator.embedding_density_estimator.user_model.means_"
   ]
  },
  {
   "cell_type": "code",
   "execution_count": 175,
   "id": "fbf136f5",
   "metadata": {},
   "outputs": [
    {
     "data": {
      "application/javascript": [
       "\n",
       "            setTimeout(function() {\n",
       "                var nbb_cell_id = 175;\n",
       "                var nbb_unformatted_code = \"np.testing.assert_array_equal(a, b)\";\n",
       "                var nbb_formatted_code = \"np.testing.assert_array_equal(a, b)\";\n",
       "                var nbb_cells = Jupyter.notebook.get_cells();\n",
       "                for (var i = 0; i < nbb_cells.length; ++i) {\n",
       "                    if (nbb_cells[i].input_prompt_number == nbb_cell_id) {\n",
       "                        if (nbb_cells[i].get_text() == nbb_unformatted_code) {\n",
       "                             nbb_cells[i].set_text(nbb_formatted_code);\n",
       "                        }\n",
       "                        break;\n",
       "                    }\n",
       "                }\n",
       "            }, 500);\n",
       "            "
      ],
      "text/plain": [
       "<IPython.core.display.Javascript object>"
      ]
     },
     "metadata": {},
     "output_type": "display_data"
    }
   ],
   "source": [
    "np.testing.assert_array_equal(a, b)"
   ]
  },
  {
   "cell_type": "code",
   "execution_count": 46,
   "id": "13d0c35e",
   "metadata": {},
   "outputs": [
    {
     "data": {
      "application/javascript": [
       "\n",
       "            setTimeout(function() {\n",
       "                var nbb_cell_id = 46;\n",
       "                var nbb_unformatted_code = \"visitor_embedding, _ = simulator.embedding_density_estimator.user_model.sample()\";\n",
       "                var nbb_formatted_code = \"visitor_embedding, _ = simulator.embedding_density_estimator.user_model.sample()\";\n",
       "                var nbb_cells = Jupyter.notebook.get_cells();\n",
       "                for (var i = 0; i < nbb_cells.length; ++i) {\n",
       "                    if (nbb_cells[i].input_prompt_number == nbb_cell_id) {\n",
       "                        if (nbb_cells[i].get_text() == nbb_unformatted_code) {\n",
       "                             nbb_cells[i].set_text(nbb_formatted_code);\n",
       "                        }\n",
       "                        break;\n",
       "                    }\n",
       "                }\n",
       "            }, 500);\n",
       "            "
      ],
      "text/plain": [
       "<IPython.core.display.Javascript object>"
      ]
     },
     "metadata": {},
     "output_type": "display_data"
    }
   ],
   "source": [
    "visitor_embedding, _ = simulator.embedding_density_estimator.user_model.sample()"
   ]
  },
  {
   "cell_type": "code",
   "execution_count": 47,
   "id": "9d99f051",
   "metadata": {},
   "outputs": [
    {
     "data": {
      "text/plain": [
       "array([[-9.94471905e-03,  1.56075438e-02,  7.79502569e-03,\n",
       "        -1.12857744e-02,  2.52078174e-03,  2.15934560e-02,\n",
       "        -3.15823833e-03,  2.18566768e-02, -1.40509780e-02,\n",
       "         3.01345145e-02,  1.60581175e-02, -1.48453992e-03,\n",
       "         4.89257958e-03, -1.22493753e-02,  2.15138061e-02,\n",
       "         1.60048715e-02, -7.66464472e-04, -2.82060059e-02,\n",
       "        -4.49418981e-03,  5.11166734e-03, -1.54044432e-02,\n",
       "         1.30650383e-02,  1.56614077e-03, -2.17345143e-02,\n",
       "         3.25516032e-03, -1.71410225e-02,  2.25682819e-02,\n",
       "        -4.84687868e-03, -1.61248981e-02, -1.31485741e-03,\n",
       "        -2.69240676e-03, -2.19804853e-02, -9.34042511e-03,\n",
       "         4.63695015e-03, -1.17862793e-02,  1.76259885e-02,\n",
       "        -1.66825071e-02, -9.86574527e-04, -6.78067281e-03,\n",
       "         5.24545258e-05, -1.43217380e-02,  1.09753202e-02,\n",
       "         1.50967182e-02,  7.85777565e-03, -7.34276853e-03,\n",
       "        -1.23668873e-02, -1.06200670e-02,  8.52963255e-03,\n",
       "        -3.04719708e-02, -6.86381534e-03,  3.26186966e-03,\n",
       "         2.23315294e-03, -7.78011023e-03, -9.93094623e-03,\n",
       "         1.75168205e-02,  5.11215290e-03, -1.84931217e-02,\n",
       "        -1.97062837e-02, -1.11684110e-02,  2.97739636e-03,\n",
       "        -2.84233868e-03,  1.39567209e-02,  1.43183048e-02,\n",
       "         1.72541391e-03,  9.25052231e-03,  5.08668819e-03,\n",
       "        -3.73983796e-03, -1.01827257e-02, -4.28253363e-03,\n",
       "         9.64991072e-03, -2.08692165e-02, -2.12414713e-02,\n",
       "         3.34763623e-03,  1.65366479e-02, -3.18310176e-02,\n",
       "        -1.41857874e-02,  1.33080503e-02, -1.07789266e-02,\n",
       "         6.96603944e-03, -7.81440966e-03,  1.44253577e-02,\n",
       "         2.69791204e-03, -6.89508407e-04,  2.65157108e-02,\n",
       "        -2.03713482e-03,  2.99255334e-02, -9.53534893e-03,\n",
       "         1.96411410e-02, -1.75792555e-02,  1.96958519e-03,\n",
       "        -8.01837733e-03, -2.12110861e-02, -1.08172518e-02,\n",
       "         2.65955589e-03,  2.25565482e-02, -1.96442235e-02,\n",
       "        -1.27914501e-02, -1.04318772e-02, -2.20814600e-02,\n",
       "         7.81052138e-03]])"
      ]
     },
     "execution_count": 47,
     "metadata": {},
     "output_type": "execute_result"
    },
    {
     "data": {
      "application/javascript": [
       "\n",
       "            setTimeout(function() {\n",
       "                var nbb_cell_id = 47;\n",
       "                var nbb_unformatted_code = \"visitor_embedding\";\n",
       "                var nbb_formatted_code = \"visitor_embedding\";\n",
       "                var nbb_cells = Jupyter.notebook.get_cells();\n",
       "                for (var i = 0; i < nbb_cells.length; ++i) {\n",
       "                    if (nbb_cells[i].input_prompt_number == nbb_cell_id) {\n",
       "                        if (nbb_cells[i].get_text() == nbb_unformatted_code) {\n",
       "                             nbb_cells[i].set_text(nbb_formatted_code);\n",
       "                        }\n",
       "                        break;\n",
       "                    }\n",
       "                }\n",
       "            }, 500);\n",
       "            "
      ],
      "text/plain": [
       "<IPython.core.display.Javascript object>"
      ]
     },
     "metadata": {},
     "output_type": "display_data"
    }
   ],
   "source": [
    "visitor_embedding"
   ]
  },
  {
   "cell_type": "code",
   "execution_count": 153,
   "id": "cc7386fa",
   "metadata": {},
   "outputs": [
    {
     "data": {
      "application/javascript": [
       "\n",
       "            setTimeout(function() {\n",
       "                var nbb_cell_id = 153;\n",
       "                var nbb_unformatted_code = \"cos_sim = 1.0 - cdist(\\n    product_embeddings, visitor_embedding.reshape(1, -1), metric=\\\"cosine\\\"\\n)\";\n",
       "                var nbb_formatted_code = \"cos_sim = 1.0 - cdist(\\n    product_embeddings, visitor_embedding.reshape(1, -1), metric=\\\"cosine\\\"\\n)\";\n",
       "                var nbb_cells = Jupyter.notebook.get_cells();\n",
       "                for (var i = 0; i < nbb_cells.length; ++i) {\n",
       "                    if (nbb_cells[i].input_prompt_number == nbb_cell_id) {\n",
       "                        if (nbb_cells[i].get_text() == nbb_unformatted_code) {\n",
       "                             nbb_cells[i].set_text(nbb_formatted_code);\n",
       "                        }\n",
       "                        break;\n",
       "                    }\n",
       "                }\n",
       "            }, 500);\n",
       "            "
      ],
      "text/plain": [
       "<IPython.core.display.Javascript object>"
      ]
     },
     "metadata": {},
     "output_type": "display_data"
    }
   ],
   "source": [
    "cos_sim = 1.0 - cdist(\n",
    "    product_embeddings, visitor_embedding.reshape(1, -1), metric=\"cosine\"\n",
    ")"
   ]
  },
  {
   "cell_type": "code",
   "execution_count": 154,
   "id": "0dfa0cc0",
   "metadata": {},
   "outputs": [
    {
     "data": {
      "text/plain": [
       "array([-0.12618368, -0.047115  , -0.12163457, ..., -0.09801649,\n",
       "       -0.04537332, -0.18790948])"
      ]
     },
     "execution_count": 154,
     "metadata": {},
     "output_type": "execute_result"
    },
    {
     "data": {
      "application/javascript": [
       "\n",
       "            setTimeout(function() {\n",
       "                var nbb_cell_id = 154;\n",
       "                var nbb_unformatted_code = \"cos_sim = cos_sim.flatten()\\ncos_sim\";\n",
       "                var nbb_formatted_code = \"cos_sim = cos_sim.flatten()\\ncos_sim\";\n",
       "                var nbb_cells = Jupyter.notebook.get_cells();\n",
       "                for (var i = 0; i < nbb_cells.length; ++i) {\n",
       "                    if (nbb_cells[i].input_prompt_number == nbb_cell_id) {\n",
       "                        if (nbb_cells[i].get_text() == nbb_unformatted_code) {\n",
       "                             nbb_cells[i].set_text(nbb_formatted_code);\n",
       "                        }\n",
       "                        break;\n",
       "                    }\n",
       "                }\n",
       "            }, 500);\n",
       "            "
      ],
      "text/plain": [
       "<IPython.core.display.Javascript object>"
      ]
     },
     "metadata": {},
     "output_type": "display_data"
    }
   ],
   "source": [
    "cos_sim = cos_sim.flatten()\n",
    "cos_sim"
   ]
  },
  {
   "cell_type": "code",
   "execution_count": 155,
   "id": "36c9ccd0",
   "metadata": {},
   "outputs": [
    {
     "data": {
      "application/javascript": [
       "\n",
       "            setTimeout(function() {\n",
       "                var nbb_cell_id = 155;\n",
       "                var nbb_unformatted_code = \"consideration_set = np.argpartition(cos_sim, -simulator.consideration_set_size)[\\n    -simulator.consideration_set_size :\\n]\";\n",
       "                var nbb_formatted_code = \"consideration_set = np.argpartition(cos_sim, -simulator.consideration_set_size)[\\n    -simulator.consideration_set_size :\\n]\";\n",
       "                var nbb_cells = Jupyter.notebook.get_cells();\n",
       "                for (var i = 0; i < nbb_cells.length; ++i) {\n",
       "                    if (nbb_cells[i].input_prompt_number == nbb_cell_id) {\n",
       "                        if (nbb_cells[i].get_text() == nbb_unformatted_code) {\n",
       "                             nbb_cells[i].set_text(nbb_formatted_code);\n",
       "                        }\n",
       "                        break;\n",
       "                    }\n",
       "                }\n",
       "            }, 500);\n",
       "            "
      ],
      "text/plain": [
       "<IPython.core.display.Javascript object>"
      ]
     },
     "metadata": {},
     "output_type": "display_data"
    }
   ],
   "source": [
    "consideration_set = np.argpartition(cos_sim, -simulator.consideration_set_size)[\n",
    "    -simulator.consideration_set_size :\n",
    "]"
   ]
  },
  {
   "cell_type": "code",
   "execution_count": 156,
   "id": "2ad4e98b",
   "metadata": {},
   "outputs": [
    {
     "data": {
      "text/plain": [
       "array([1217,  968, 1206, 1351,   50])"
      ]
     },
     "execution_count": 156,
     "metadata": {},
     "output_type": "execute_result"
    },
    {
     "data": {
      "application/javascript": [
       "\n",
       "            setTimeout(function() {\n",
       "                var nbb_cell_id = 156;\n",
       "                var nbb_unformatted_code = \"consideration_set\";\n",
       "                var nbb_formatted_code = \"consideration_set\";\n",
       "                var nbb_cells = Jupyter.notebook.get_cells();\n",
       "                for (var i = 0; i < nbb_cells.length; ++i) {\n",
       "                    if (nbb_cells[i].input_prompt_number == nbb_cell_id) {\n",
       "                        if (nbb_cells[i].get_text() == nbb_unformatted_code) {\n",
       "                             nbb_cells[i].set_text(nbb_formatted_code);\n",
       "                        }\n",
       "                        break;\n",
       "                    }\n",
       "                }\n",
       "            }, 500);\n",
       "            "
      ],
      "text/plain": [
       "<IPython.core.display.Javascript object>"
      ]
     },
     "metadata": {},
     "output_type": "display_data"
    }
   ],
   "source": [
    "consideration_set"
   ]
  },
  {
   "cell_type": "code",
   "execution_count": 29,
   "id": "0796bbb5",
   "metadata": {},
   "outputs": [
    {
     "data": {
      "text/plain": [
       "array([0.27730374, 0.27773617, 0.28027689, 0.28103054, 0.35510101])"
      ]
     },
     "execution_count": 29,
     "metadata": {},
     "output_type": "execute_result"
    },
    {
     "data": {
      "application/javascript": [
       "\n",
       "            setTimeout(function() {\n",
       "                var nbb_cell_id = 29;\n",
       "                var nbb_unformatted_code = \"cos_sim[consideration_set]\";\n",
       "                var nbb_formatted_code = \"cos_sim[consideration_set]\";\n",
       "                var nbb_cells = Jupyter.notebook.get_cells();\n",
       "                for (var i = 0; i < nbb_cells.length; ++i) {\n",
       "                    if (nbb_cells[i].input_prompt_number == nbb_cell_id) {\n",
       "                        if (nbb_cells[i].get_text() == nbb_unformatted_code) {\n",
       "                             nbb_cells[i].set_text(nbb_formatted_code);\n",
       "                        }\n",
       "                        break;\n",
       "                    }\n",
       "                }\n",
       "            }, 500);\n",
       "            "
      ],
      "text/plain": [
       "<IPython.core.display.Javascript object>"
      ]
     },
     "metadata": {},
     "output_type": "display_data"
    }
   ],
   "source": [
    "cos_sim[consideration_set]"
   ]
  },
  {
   "cell_type": "code",
   "execution_count": 36,
   "id": "91523a4b",
   "metadata": {},
   "outputs": [
    {
     "data": {
      "application/javascript": [
       "\n",
       "            setTimeout(function() {\n",
       "                var nbb_cell_id = 36;\n",
       "                var nbb_unformatted_code = \"chosen_product = simulator.multinomial_choice(\\n    consideration_set, cos_sim, simulated_reviews\\n)\";\n",
       "                var nbb_formatted_code = \"chosen_product = simulator.multinomial_choice(\\n    consideration_set, cos_sim, simulated_reviews\\n)\";\n",
       "                var nbb_cells = Jupyter.notebook.get_cells();\n",
       "                for (var i = 0; i < nbb_cells.length; ++i) {\n",
       "                    if (nbb_cells[i].input_prompt_number == nbb_cell_id) {\n",
       "                        if (nbb_cells[i].get_text() == nbb_unformatted_code) {\n",
       "                             nbb_cells[i].set_text(nbb_formatted_code);\n",
       "                        }\n",
       "                        break;\n",
       "                    }\n",
       "                }\n",
       "            }, 500);\n",
       "            "
      ],
      "text/plain": [
       "<IPython.core.display.Javascript object>"
      ]
     },
     "metadata": {},
     "output_type": "display_data"
    }
   ],
   "source": [
    "chosen_product = simulator.multinomial_choice(\n",
    "    consideration_set, cos_sim, simulated_reviews\n",
    ")"
   ]
  },
  {
   "cell_type": "code",
   "execution_count": 37,
   "id": "e86f26cc",
   "metadata": {},
   "outputs": [
    {
     "data": {
      "text/plain": [
       "968"
      ]
     },
     "execution_count": 37,
     "metadata": {},
     "output_type": "execute_result"
    },
    {
     "data": {
      "application/javascript": [
       "\n",
       "            setTimeout(function() {\n",
       "                var nbb_cell_id = 37;\n",
       "                var nbb_unformatted_code = \"chosen_product\";\n",
       "                var nbb_formatted_code = \"chosen_product\";\n",
       "                var nbb_cells = Jupyter.notebook.get_cells();\n",
       "                for (var i = 0; i < nbb_cells.length; ++i) {\n",
       "                    if (nbb_cells[i].input_prompt_number == nbb_cell_id) {\n",
       "                        if (nbb_cells[i].get_text() == nbb_unformatted_code) {\n",
       "                             nbb_cells[i].set_text(nbb_formatted_code);\n",
       "                        }\n",
       "                        break;\n",
       "                    }\n",
       "                }\n",
       "            }, 500);\n",
       "            "
      ],
      "text/plain": [
       "<IPython.core.display.Javascript object>"
      ]
     },
     "metadata": {},
     "output_type": "display_data"
    }
   ],
   "source": [
    "chosen_product"
   ]
  },
  {
   "cell_type": "code",
   "execution_count": 38,
   "id": "c0c3e739",
   "metadata": {},
   "outputs": [
    {
     "data": {
      "application/javascript": [
       "\n",
       "            setTimeout(function() {\n",
       "                var nbb_cell_id = 38;\n",
       "                var nbb_unformatted_code = \"simulator.simulation_parameters = simulator.generate_simulation_parameters(1 * simulator.num_products)\";\n",
       "                var nbb_formatted_code = \"simulator.simulation_parameters = simulator.generate_simulation_parameters(\\n    1 * simulator.num_products\\n)\";\n",
       "                var nbb_cells = Jupyter.notebook.get_cells();\n",
       "                for (var i = 0; i < nbb_cells.length; ++i) {\n",
       "                    if (nbb_cells[i].input_prompt_number == nbb_cell_id) {\n",
       "                        if (nbb_cells[i].get_text() == nbb_unformatted_code) {\n",
       "                             nbb_cells[i].set_text(nbb_formatted_code);\n",
       "                        }\n",
       "                        break;\n",
       "                    }\n",
       "                }\n",
       "            }, 500);\n",
       "            "
      ],
      "text/plain": [
       "<IPython.core.display.Javascript object>"
      ]
     },
     "metadata": {},
     "output_type": "display_data"
    }
   ],
   "source": [
    "simulator.simulation_parameters = simulator.generate_simulation_parameters(\n",
    "    1 * simulator.num_products\n",
    ")"
   ]
  },
  {
   "cell_type": "code",
   "execution_count": 40,
   "id": "517e0920",
   "metadata": {},
   "outputs": [
    {
     "data": {
      "text/plain": [
       "((1400, 2), (1400,))"
      ]
     },
     "execution_count": 40,
     "metadata": {},
     "output_type": "execute_result"
    },
    {
     "data": {
      "application/javascript": [
       "\n",
       "            setTimeout(function() {\n",
       "                var nbb_cell_id = 40;\n",
       "                var nbb_unformatted_code = \"simulator.simulation_parameters[\\\"rho\\\"].shape, simulator.simulation_parameters[\\\"h_p\\\"].shape\";\n",
       "                var nbb_formatted_code = \"simulator.simulation_parameters[\\\"rho\\\"].shape, simulator.simulation_parameters[\\n    \\\"h_p\\\"\\n].shape\";\n",
       "                var nbb_cells = Jupyter.notebook.get_cells();\n",
       "                for (var i = 0; i < nbb_cells.length; ++i) {\n",
       "                    if (nbb_cells[i].input_prompt_number == nbb_cell_id) {\n",
       "                        if (nbb_cells[i].get_text() == nbb_unformatted_code) {\n",
       "                             nbb_cells[i].set_text(nbb_formatted_code);\n",
       "                        }\n",
       "                        break;\n",
       "                    }\n",
       "                }\n",
       "            }, 500);\n",
       "            "
      ],
      "text/plain": [
       "<IPython.core.display.Javascript object>"
      ]
     },
     "metadata": {},
     "output_type": "display_data"
    }
   ],
   "source": [
    "simulator.simulation_parameters[\"rho\"].shape, simulator.simulation_parameters[\n",
    "    \"h_p\"\n",
    "].shape"
   ]
  },
  {
   "cell_type": "code",
   "execution_count": 72,
   "id": "9e4d385a",
   "metadata": {},
   "outputs": [
    {
     "data": {
      "text/plain": [
       "968"
      ]
     },
     "execution_count": 72,
     "metadata": {},
     "output_type": "execute_result"
    },
    {
     "data": {
      "application/javascript": [
       "\n",
       "            setTimeout(function() {\n",
       "                var nbb_cell_id = 72;\n",
       "                var nbb_unformatted_code = \"simulation_id = (0 * simulator.num_products) + chosen_product\\nsimulation_id\";\n",
       "                var nbb_formatted_code = \"simulation_id = (0 * simulator.num_products) + chosen_product\\nsimulation_id\";\n",
       "                var nbb_cells = Jupyter.notebook.get_cells();\n",
       "                for (var i = 0; i < nbb_cells.length; ++i) {\n",
       "                    if (nbb_cells[i].input_prompt_number == nbb_cell_id) {\n",
       "                        if (nbb_cells[i].get_text() == nbb_unformatted_code) {\n",
       "                             nbb_cells[i].set_text(nbb_formatted_code);\n",
       "                        }\n",
       "                        break;\n",
       "                    }\n",
       "                }\n",
       "            }, 500);\n",
       "            "
      ],
      "text/plain": [
       "<IPython.core.display.Javascript object>"
      ]
     },
     "metadata": {},
     "output_type": "display_data"
    }
   ],
   "source": [
    "simulation_id = (0 * simulator.num_products) + chosen_product\n",
    "simulation_id"
   ]
  },
  {
   "cell_type": "code",
   "execution_count": 129,
   "id": "7f6163d9",
   "metadata": {},
   "outputs": [
    {
     "name": "stdout",
     "output_type": "stream",
     "text": [
      "149\n"
     ]
    },
    {
     "data": {
      "application/javascript": [
       "\n",
       "            setTimeout(function() {\n",
       "                var nbb_cell_id = 129;\n",
       "                var nbb_unformatted_code = \"count = 0\\nfor i in range(1000):\\n    rating_index = simulator.simulate_visitor_journey(\\n        simulated_reviews=simulated_reviews[chosen_product][-1],\\n        simulation_id=simulation_id,\\n        use_h_u=False,\\n        product_final_ratings=pred_product_ratings[chosen_product, :],\\n    )\\n    if rating_index is not None:\\n        count += 1\\nprint(count)\";\n",
       "                var nbb_formatted_code = \"count = 0\\nfor i in range(1000):\\n    rating_index = simulator.simulate_visitor_journey(\\n        simulated_reviews=simulated_reviews[chosen_product][-1],\\n        simulation_id=simulation_id,\\n        use_h_u=False,\\n        product_final_ratings=pred_product_ratings[chosen_product, :],\\n    )\\n    if rating_index is not None:\\n        count += 1\\nprint(count)\";\n",
       "                var nbb_cells = Jupyter.notebook.get_cells();\n",
       "                for (var i = 0; i < nbb_cells.length; ++i) {\n",
       "                    if (nbb_cells[i].input_prompt_number == nbb_cell_id) {\n",
       "                        if (nbb_cells[i].get_text() == nbb_unformatted_code) {\n",
       "                             nbb_cells[i].set_text(nbb_formatted_code);\n",
       "                        }\n",
       "                        break;\n",
       "                    }\n",
       "                }\n",
       "            }, 500);\n",
       "            "
      ],
      "text/plain": [
       "<IPython.core.display.Javascript object>"
      ]
     },
     "metadata": {},
     "output_type": "display_data"
    }
   ],
   "source": [
    "count = 0\n",
    "for i in range(1000):\n",
    "    rating_index = simulator.simulate_visitor_journey(\n",
    "        simulated_reviews=simulated_reviews[chosen_product][-1],\n",
    "        simulation_id=simulation_id,\n",
    "        use_h_u=False,\n",
    "        product_final_ratings=pred_product_ratings[chosen_product, :],\n",
    "    )\n",
    "    if rating_index is not None:\n",
    "        count += 1\n",
    "print(count)"
   ]
  },
  {
   "cell_type": "code",
   "execution_count": 130,
   "id": "edb86e7b",
   "metadata": {},
   "outputs": [
    {
     "data": {
      "text/plain": [
       "False"
      ]
     },
     "execution_count": 130,
     "metadata": {},
     "output_type": "execute_result"
    },
    {
     "data": {
      "application/javascript": [
       "\n",
       "            setTimeout(function() {\n",
       "                var nbb_cell_id = 130;\n",
       "                var nbb_unformatted_code = \"rating_index is None\";\n",
       "                var nbb_formatted_code = \"rating_index is None\";\n",
       "                var nbb_cells = Jupyter.notebook.get_cells();\n",
       "                for (var i = 0; i < nbb_cells.length; ++i) {\n",
       "                    if (nbb_cells[i].input_prompt_number == nbb_cell_id) {\n",
       "                        if (nbb_cells[i].get_text() == nbb_unformatted_code) {\n",
       "                             nbb_cells[i].set_text(nbb_formatted_code);\n",
       "                        }\n",
       "                        break;\n",
       "                    }\n",
       "                }\n",
       "            }, 500);\n",
       "            "
      ],
      "text/plain": [
       "<IPython.core.display.Javascript object>"
      ]
     },
     "metadata": {},
     "output_type": "display_data"
    }
   ],
   "source": [
    "rating_index is None"
   ]
  },
  {
   "cell_type": "code",
   "execution_count": 136,
   "id": "51bb2127",
   "metadata": {},
   "outputs": [
    {
     "data": {
      "text/plain": [
       "0"
      ]
     },
     "execution_count": 136,
     "metadata": {},
     "output_type": "execute_result"
    },
    {
     "data": {
      "application/javascript": [
       "\n",
       "            setTimeout(function() {\n",
       "                var nbb_cell_id = 136;\n",
       "                var nbb_unformatted_code = \"rating_index\";\n",
       "                var nbb_formatted_code = \"rating_index\";\n",
       "                var nbb_cells = Jupyter.notebook.get_cells();\n",
       "                for (var i = 0; i < nbb_cells.length; ++i) {\n",
       "                    if (nbb_cells[i].input_prompt_number == nbb_cell_id) {\n",
       "                        if (nbb_cells[i].get_text() == nbb_unformatted_code) {\n",
       "                             nbb_cells[i].set_text(nbb_formatted_code);\n",
       "                        }\n",
       "                        break;\n",
       "                    }\n",
       "                }\n",
       "            }, 500);\n",
       "            "
      ],
      "text/plain": [
       "<IPython.core.display.Javascript object>"
      ]
     },
     "metadata": {},
     "output_type": "display_data"
    }
   ],
   "source": [
    "rating_index"
   ]
  },
  {
   "cell_type": "code",
   "execution_count": 131,
   "id": "a8f71743",
   "metadata": {},
   "outputs": [
    {
     "data": {
      "text/plain": [
       "array([1., 1., 1., 1., 1.])"
      ]
     },
     "execution_count": 131,
     "metadata": {},
     "output_type": "execute_result"
    },
    {
     "data": {
      "application/javascript": [
       "\n",
       "            setTimeout(function() {\n",
       "                var nbb_cell_id = 131;\n",
       "                var nbb_unformatted_code = \"current_histogram = simulated_reviews[chosen_product][-1].copy()\\ncurrent_histogram\";\n",
       "                var nbb_formatted_code = \"current_histogram = simulated_reviews[chosen_product][-1].copy()\\ncurrent_histogram\";\n",
       "                var nbb_cells = Jupyter.notebook.get_cells();\n",
       "                for (var i = 0; i < nbb_cells.length; ++i) {\n",
       "                    if (nbb_cells[i].input_prompt_number == nbb_cell_id) {\n",
       "                        if (nbb_cells[i].get_text() == nbb_unformatted_code) {\n",
       "                             nbb_cells[i].set_text(nbb_formatted_code);\n",
       "                        }\n",
       "                        break;\n",
       "                    }\n",
       "                }\n",
       "            }, 500);\n",
       "            "
      ],
      "text/plain": [
       "<IPython.core.display.Javascript object>"
      ]
     },
     "metadata": {},
     "output_type": "display_data"
    }
   ],
   "source": [
    "current_histogram = simulated_reviews[chosen_product][-1].copy()\n",
    "current_histogram"
   ]
  },
  {
   "cell_type": "code",
   "execution_count": 132,
   "id": "93ca62a3",
   "metadata": {},
   "outputs": [
    {
     "data": {
      "text/plain": [
       "array([2., 1., 1., 1., 1.])"
      ]
     },
     "execution_count": 132,
     "metadata": {},
     "output_type": "execute_result"
    },
    {
     "data": {
      "application/javascript": [
       "\n",
       "            setTimeout(function() {\n",
       "                var nbb_cell_id = 132;\n",
       "                var nbb_unformatted_code = \"current_histogram[rating_index] += 1\\ncurrent_histogram\";\n",
       "                var nbb_formatted_code = \"current_histogram[rating_index] += 1\\ncurrent_histogram\";\n",
       "                var nbb_cells = Jupyter.notebook.get_cells();\n",
       "                for (var i = 0; i < nbb_cells.length; ++i) {\n",
       "                    if (nbb_cells[i].input_prompt_number == nbb_cell_id) {\n",
       "                        if (nbb_cells[i].get_text() == nbb_unformatted_code) {\n",
       "                             nbb_cells[i].set_text(nbb_formatted_code);\n",
       "                        }\n",
       "                        break;\n",
       "                    }\n",
       "                }\n",
       "            }, 500);\n",
       "            "
      ],
      "text/plain": [
       "<IPython.core.display.Javascript object>"
      ]
     },
     "metadata": {},
     "output_type": "display_data"
    }
   ],
   "source": [
    "current_histogram[rating_index] += 1\n",
    "current_histogram"
   ]
  },
  {
   "cell_type": "code",
   "execution_count": 133,
   "id": "87d54fbc",
   "metadata": {},
   "outputs": [
    {
     "data": {
      "application/javascript": [
       "\n",
       "            setTimeout(function() {\n",
       "                var nbb_cell_id = 133;\n",
       "                var nbb_unformatted_code = \"simulated_reviews[chosen_product].append(current_histogram)\";\n",
       "                var nbb_formatted_code = \"simulated_reviews[chosen_product].append(current_histogram)\";\n",
       "                var nbb_cells = Jupyter.notebook.get_cells();\n",
       "                for (var i = 0; i < nbb_cells.length; ++i) {\n",
       "                    if (nbb_cells[i].input_prompt_number == nbb_cell_id) {\n",
       "                        if (nbb_cells[i].get_text() == nbb_unformatted_code) {\n",
       "                             nbb_cells[i].set_text(nbb_formatted_code);\n",
       "                        }\n",
       "                        break;\n",
       "                    }\n",
       "                }\n",
       "            }, 500);\n",
       "            "
      ],
      "text/plain": [
       "<IPython.core.display.Javascript object>"
      ]
     },
     "metadata": {},
     "output_type": "display_data"
    }
   ],
   "source": [
    "simulated_reviews[chosen_product].append(current_histogram)"
   ]
  },
  {
   "cell_type": "code",
   "execution_count": 139,
   "id": "c54a24df",
   "metadata": {},
   "outputs": [
    {
     "data": {
      "text/plain": [
       "deque([array([1., 1., 1., 1., 1.]), array([2., 1., 1., 1., 1.])])"
      ]
     },
     "execution_count": 139,
     "metadata": {},
     "output_type": "execute_result"
    },
    {
     "data": {
      "application/javascript": [
       "\n",
       "            setTimeout(function() {\n",
       "                var nbb_cell_id = 139;\n",
       "                var nbb_unformatted_code = \"simulated_reviews[chosen_product]\";\n",
       "                var nbb_formatted_code = \"simulated_reviews[chosen_product]\";\n",
       "                var nbb_cells = Jupyter.notebook.get_cells();\n",
       "                for (var i = 0; i < nbb_cells.length; ++i) {\n",
       "                    if (nbb_cells[i].input_prompt_number == nbb_cell_id) {\n",
       "                        if (nbb_cells[i].get_text() == nbb_unformatted_code) {\n",
       "                             nbb_cells[i].set_text(nbb_formatted_code);\n",
       "                        }\n",
       "                        break;\n",
       "                    }\n",
       "                }\n",
       "            }, 500);\n",
       "            "
      ],
      "text/plain": [
       "<IPython.core.display.Javascript object>"
      ]
     },
     "metadata": {},
     "output_type": "display_data"
    }
   ],
   "source": [
    "simulated_reviews[chosen_product]"
   ]
  },
  {
   "cell_type": "code",
   "execution_count": 140,
   "id": "7de1b97d",
   "metadata": {},
   "outputs": [
    {
     "data": {
      "text/plain": [
       "'timeseries'"
      ]
     },
     "execution_count": 140,
     "metadata": {},
     "output_type": "execute_result"
    },
    {
     "data": {
      "application/javascript": [
       "\n",
       "            setTimeout(function() {\n",
       "                var nbb_cell_id = 140;\n",
       "                var nbb_unformatted_code = \"simulator.simulation_type\";\n",
       "                var nbb_formatted_code = \"simulator.simulation_type\";\n",
       "                var nbb_cells = Jupyter.notebook.get_cells();\n",
       "                for (var i = 0; i < nbb_cells.length; ++i) {\n",
       "                    if (nbb_cells[i].input_prompt_number == nbb_cell_id) {\n",
       "                        if (nbb_cells[i].get_text() == nbb_unformatted_code) {\n",
       "                             nbb_cells[i].set_text(nbb_formatted_code);\n",
       "                        }\n",
       "                        break;\n",
       "                    }\n",
       "                }\n",
       "            }, 500);\n",
       "            "
      ],
      "text/plain": [
       "<IPython.core.display.Javascript object>"
      ]
     },
     "metadata": {},
     "output_type": "display_data"
    }
   ],
   "source": [
    "simulator.simulation_type"
   ]
  },
  {
   "cell_type": "code",
   "execution_count": 142,
   "id": "a3821fe8",
   "metadata": {},
   "outputs": [
    {
     "data": {
      "application/javascript": [
       "\n",
       "            setTimeout(function() {\n",
       "                var nbb_cell_id = 142;\n",
       "                var nbb_unformatted_code = \"output = np.array([np.array(timeseries) for timeseries in simulated_reviews], dtype=object)\";\n",
       "                var nbb_formatted_code = \"output = np.array(\\n    [np.array(timeseries) for timeseries in simulated_reviews], dtype=object\\n)\";\n",
       "                var nbb_cells = Jupyter.notebook.get_cells();\n",
       "                for (var i = 0; i < nbb_cells.length; ++i) {\n",
       "                    if (nbb_cells[i].input_prompt_number == nbb_cell_id) {\n",
       "                        if (nbb_cells[i].get_text() == nbb_unformatted_code) {\n",
       "                             nbb_cells[i].set_text(nbb_formatted_code);\n",
       "                        }\n",
       "                        break;\n",
       "                    }\n",
       "                }\n",
       "            }, 500);\n",
       "            "
      ],
      "text/plain": [
       "<IPython.core.display.Javascript object>"
      ]
     },
     "metadata": {},
     "output_type": "display_data"
    }
   ],
   "source": [
    "output = np.array(\n",
    "    [np.array(timeseries) for timeseries in simulated_reviews], dtype=object\n",
    ")"
   ]
  },
  {
   "cell_type": "code",
   "execution_count": 144,
   "id": "f1bf92da",
   "metadata": {},
   "outputs": [
    {
     "data": {
      "text/plain": [
       "(array([1, 2]), array([1399,    1]))"
      ]
     },
     "execution_count": 144,
     "metadata": {},
     "output_type": "execute_result"
    },
    {
     "data": {
      "application/javascript": [
       "\n",
       "            setTimeout(function() {\n",
       "                var nbb_cell_id = 144;\n",
       "                var nbb_unformatted_code = \"np.unique([len(a) for a in output], return_counts=True)\";\n",
       "                var nbb_formatted_code = \"np.unique([len(a) for a in output], return_counts=True)\";\n",
       "                var nbb_cells = Jupyter.notebook.get_cells();\n",
       "                for (var i = 0; i < nbb_cells.length; ++i) {\n",
       "                    if (nbb_cells[i].input_prompt_number == nbb_cell_id) {\n",
       "                        if (nbb_cells[i].get_text() == nbb_unformatted_code) {\n",
       "                             nbb_cells[i].set_text(nbb_formatted_code);\n",
       "                        }\n",
       "                        break;\n",
       "                    }\n",
       "                }\n",
       "            }, 500);\n",
       "            "
      ],
      "text/plain": [
       "<IPython.core.display.Javascript object>"
      ]
     },
     "metadata": {},
     "output_type": "display_data"
    }
   ],
   "source": [
    "np.unique([len(a) for a in output], return_counts=True)"
   ]
  },
  {
   "cell_type": "code",
   "execution_count": null,
   "id": "c8e6bec4",
   "metadata": {},
   "outputs": [],
   "source": []
  },
  {
   "cell_type": "code",
   "execution_count": null,
   "id": "b6a2ef64",
   "metadata": {},
   "outputs": [],
   "source": []
  },
  {
   "cell_type": "code",
   "execution_count": 109,
   "id": "7de606ef",
   "metadata": {},
   "outputs": [
    {
     "data": {
      "text/plain": [
       "array([2., 2., 2., 2., 2.])"
      ]
     },
     "execution_count": 109,
     "metadata": {},
     "output_type": "execute_result"
    },
    {
     "data": {
      "application/javascript": [
       "\n",
       "            setTimeout(function() {\n",
       "                var nbb_cell_id = 109;\n",
       "                var nbb_unformatted_code = \"review_posterior = simulator.convolve_prior_with_existing_reviews(\\n    simulated_reviews[chosen_product][-1]\\n)\\nreview_posterior\";\n",
       "                var nbb_formatted_code = \"review_posterior = simulator.convolve_prior_with_existing_reviews(\\n    simulated_reviews[chosen_product][-1]\\n)\\nreview_posterior\";\n",
       "                var nbb_cells = Jupyter.notebook.get_cells();\n",
       "                for (var i = 0; i < nbb_cells.length; ++i) {\n",
       "                    if (nbb_cells[i].input_prompt_number == nbb_cell_id) {\n",
       "                        if (nbb_cells[i].get_text() == nbb_unformatted_code) {\n",
       "                             nbb_cells[i].set_text(nbb_formatted_code);\n",
       "                        }\n",
       "                        break;\n",
       "                    }\n",
       "                }\n",
       "            }, 500);\n",
       "            "
      ],
      "text/plain": [
       "<IPython.core.display.Javascript object>"
      ]
     },
     "metadata": {},
     "output_type": "display_data"
    }
   ],
   "source": [
    "review_posterior = simulator.convolve_prior_with_existing_reviews(\n",
    "    simulated_reviews[chosen_product][-1]\n",
    ")\n",
    "review_posterior"
   ]
  },
  {
   "cell_type": "code",
   "execution_count": 110,
   "id": "12867620",
   "metadata": {},
   "outputs": [
    {
     "name": "stdout",
     "output_type": "stream",
     "text": [
      "[0.29268055 0.3453778  0.07599624 0.0555718  0.23037361]\n"
     ]
    },
    {
     "data": {
      "text/plain": [
       "2.5855801058574572"
      ]
     },
     "execution_count": 110,
     "metadata": {},
     "output_type": "execute_result"
    },
    {
     "data": {
      "application/javascript": [
       "\n",
       "            setTimeout(function() {\n",
       "                var nbb_cell_id = 110;\n",
       "                var nbb_unformatted_code = \"expected_experience_dist = np.random.dirichlet(review_posterior)\\nprint(expected_experience_dist)\\nexpected_experience = np.sum(expected_experience_dist * np.arange(1, 6))\\nexpected_experience\";\n",
       "                var nbb_formatted_code = \"expected_experience_dist = np.random.dirichlet(review_posterior)\\nprint(expected_experience_dist)\\nexpected_experience = np.sum(expected_experience_dist * np.arange(1, 6))\\nexpected_experience\";\n",
       "                var nbb_cells = Jupyter.notebook.get_cells();\n",
       "                for (var i = 0; i < nbb_cells.length; ++i) {\n",
       "                    if (nbb_cells[i].input_prompt_number == nbb_cell_id) {\n",
       "                        if (nbb_cells[i].get_text() == nbb_unformatted_code) {\n",
       "                             nbb_cells[i].set_text(nbb_formatted_code);\n",
       "                        }\n",
       "                        break;\n",
       "                    }\n",
       "                }\n",
       "            }, 500);\n",
       "            "
      ],
      "text/plain": [
       "<IPython.core.display.Javascript object>"
      ]
     },
     "metadata": {},
     "output_type": "display_data"
    }
   ],
   "source": [
    "expected_experience_dist = np.random.dirichlet(review_posterior)\n",
    "print(expected_experience_dist)\n",
    "expected_experience = np.sum(expected_experience_dist * np.arange(1, 6))\n",
    "expected_experience"
   ]
  },
  {
   "cell_type": "code",
   "execution_count": 52,
   "id": "b9347897",
   "metadata": {},
   "outputs": [
    {
     "data": {
      "text/plain": [
       "(array([  5.,  15.,  56., 126., 195., 266., 200., 106.,  28.,   3.]),\n",
       " array([1.5309263 , 1.80950304, 2.08807978, 2.36665652, 2.64523326,\n",
       "        2.92381   , 3.20238674, 3.48096348, 3.75954022, 4.03811696,\n",
       "        4.3166937 ]),\n",
       " <BarContainer object of 10 artists>)"
      ]
     },
     "execution_count": 52,
     "metadata": {},
     "output_type": "execute_result"
    },
    {
     "data": {
      "image/png": "[encoded data removed]",
      "text/plain": [
       "<Figure size 432x288 with 1 Axes>"
      ]
     },
     "metadata": {
      "needs_background": "light"
     },
     "output_type": "display_data"
    },
    {
     "data": {
      "application/javascript": [
       "\n",
       "            setTimeout(function() {\n",
       "                var nbb_cell_id = 52;\n",
       "                var nbb_unformatted_code = \"expected_experiences = []\\nfor i in range(1000):\\n    expected_experience_dist = np.random.dirichlet(review_posterior)\\n    expected_experience = np.sum(expected_experience_dist * np.arange(1, 6))\\n    expected_experiences.append(expected_experience)\\nplt.hist(expected_experiences)\";\n",
       "                var nbb_formatted_code = \"expected_experiences = []\\nfor i in range(1000):\\n    expected_experience_dist = np.random.dirichlet(review_posterior)\\n    expected_experience = np.sum(expected_experience_dist * np.arange(1, 6))\\n    expected_experiences.append(expected_experience)\\nplt.hist(expected_experiences)\";\n",
       "                var nbb_cells = Jupyter.notebook.get_cells();\n",
       "                for (var i = 0; i < nbb_cells.length; ++i) {\n",
       "                    if (nbb_cells[i].input_prompt_number == nbb_cell_id) {\n",
       "                        if (nbb_cells[i].get_text() == nbb_unformatted_code) {\n",
       "                             nbb_cells[i].set_text(nbb_formatted_code);\n",
       "                        }\n",
       "                        break;\n",
       "                    }\n",
       "                }\n",
       "            }, 500);\n",
       "            "
      ],
      "text/plain": [
       "<IPython.core.display.Javascript object>"
      ]
     },
     "metadata": {},
     "output_type": "display_data"
    }
   ],
   "source": [
    "expected_experiences = []\n",
    "for i in range(1000):\n",
    "    expected_experience_dist = np.random.dirichlet(review_posterior)\n",
    "    expected_experience = np.sum(expected_experience_dist * np.arange(1, 6))\n",
    "    expected_experiences.append(expected_experience)\n",
    "plt.hist(expected_experiences)"
   ]
  },
  {
   "cell_type": "code",
   "execution_count": 111,
   "id": "f5207bf8",
   "metadata": {},
   "outputs": [
    {
     "data": {
      "text/plain": [
       "array([ 3.8042698,  2.1617506,  3.4376125, 10.6826725, 21.937807 ],\n",
       "      dtype=float32)"
      ]
     },
     "execution_count": 111,
     "metadata": {},
     "output_type": "execute_result"
    },
    {
     "data": {
      "application/javascript": [
       "\n",
       "            setTimeout(function() {\n",
       "                var nbb_cell_id = 111;\n",
       "                var nbb_unformatted_code = \"pred_product_ratings[chosen_product]\";\n",
       "                var nbb_formatted_code = \"pred_product_ratings[chosen_product]\";\n",
       "                var nbb_cells = Jupyter.notebook.get_cells();\n",
       "                for (var i = 0; i < nbb_cells.length; ++i) {\n",
       "                    if (nbb_cells[i].input_prompt_number == nbb_cell_id) {\n",
       "                        if (nbb_cells[i].get_text() == nbb_unformatted_code) {\n",
       "                             nbb_cells[i].set_text(nbb_formatted_code);\n",
       "                        }\n",
       "                        break;\n",
       "                    }\n",
       "                }\n",
       "            }, 500);\n",
       "            "
      ],
      "text/plain": [
       "<IPython.core.display.Javascript object>"
      ]
     },
     "metadata": {},
     "output_type": "display_data"
    }
   ],
   "source": [
    "pred_product_ratings[chosen_product]"
   ]
  },
  {
   "cell_type": "code",
   "execution_count": 51,
   "id": "ee075486",
   "metadata": {},
   "outputs": [
    {
     "data": {
      "text/plain": [
       "(array([  3.,   4.,  27.,  82., 219., 424., 389., 169.,  66.,  17.]),\n",
       " array([3.77823147, 3.824517  , 3.87080254, 3.91708807, 3.9633736 ,\n",
       "        4.00965914, 4.05594467, 4.1022302 , 4.14851573, 4.19480127,\n",
       "        4.2410868 ]),\n",
       " <BarContainer object of 10 artists>)"
      ]
     },
     "execution_count": 51,
     "metadata": {},
     "output_type": "execute_result"
    },
    {
     "data": {
      "image/png": "[encoded data removed]",
      "text/plain": [
       "<Figure size 432x288 with 1 Axes>"
      ]
     },
     "metadata": {
      "needs_background": "light"
     },
     "output_type": "display_data"
    },
    {
     "data": {
      "application/javascript": [
       "\n",
       "            setTimeout(function() {\n",
       "                var nbb_cell_id = 51;\n",
       "                var nbb_unformatted_code = \"mean_ratings = np.sum(np.arange(1, 6)[None, :] * pred_product_ratings, axis=1) / pred_product_ratings.sum(axis=1)\\nplt.hist(mean_ratings)\";\n",
       "                var nbb_formatted_code = \"mean_ratings = np.sum(\\n    np.arange(1, 6)[None, :] * pred_product_ratings, axis=1\\n) / pred_product_ratings.sum(axis=1)\\nplt.hist(mean_ratings)\";\n",
       "                var nbb_cells = Jupyter.notebook.get_cells();\n",
       "                for (var i = 0; i < nbb_cells.length; ++i) {\n",
       "                    if (nbb_cells[i].input_prompt_number == nbb_cell_id) {\n",
       "                        if (nbb_cells[i].get_text() == nbb_unformatted_code) {\n",
       "                             nbb_cells[i].set_text(nbb_formatted_code);\n",
       "                        }\n",
       "                        break;\n",
       "                    }\n",
       "                }\n",
       "            }, 500);\n",
       "            "
      ],
      "text/plain": [
       "<IPython.core.display.Javascript object>"
      ]
     },
     "metadata": {},
     "output_type": "display_data"
    }
   ],
   "source": [
    "mean_ratings = np.sum(\n",
    "    np.arange(1, 6)[None, :] * pred_product_ratings, axis=1\n",
    ") / pred_product_ratings.sum(axis=1)\n",
    "plt.hist(mean_ratings)"
   ]
  },
  {
   "cell_type": "code",
   "execution_count": 112,
   "id": "f2a902b2",
   "metadata": {},
   "outputs": [
    {
     "data": {
      "application/javascript": [
       "\n",
       "            setTimeout(function() {\n",
       "                var nbb_cell_id = 112;\n",
       "                var nbb_unformatted_code = \"experience = simulator.get_actual_experience(\\n    expected_experience_dist, product_final_ratings=pred_product_ratings[chosen_product]\\n)\";\n",
       "                var nbb_formatted_code = \"experience = simulator.get_actual_experience(\\n    expected_experience_dist, product_final_ratings=pred_product_ratings[chosen_product]\\n)\";\n",
       "                var nbb_cells = Jupyter.notebook.get_cells();\n",
       "                for (var i = 0; i < nbb_cells.length; ++i) {\n",
       "                    if (nbb_cells[i].input_prompt_number == nbb_cell_id) {\n",
       "                        if (nbb_cells[i].get_text() == nbb_unformatted_code) {\n",
       "                             nbb_cells[i].set_text(nbb_formatted_code);\n",
       "                        }\n",
       "                        break;\n",
       "                    }\n",
       "                }\n",
       "            }, 500);\n",
       "            "
      ],
      "text/plain": [
       "<IPython.core.display.Javascript object>"
      ]
     },
     "metadata": {},
     "output_type": "display_data"
    }
   ],
   "source": [
    "experience = simulator.get_actual_experience(\n",
    "    expected_experience_dist, product_final_ratings=pred_product_ratings[chosen_product]\n",
    ")"
   ]
  },
  {
   "cell_type": "code",
   "execution_count": 113,
   "id": "c7f6b0fb",
   "metadata": {},
   "outputs": [
    {
     "data": {
      "text/plain": [
       "5.0"
      ]
     },
     "execution_count": 113,
     "metadata": {},
     "output_type": "execute_result"
    },
    {
     "data": {
      "application/javascript": [
       "\n",
       "            setTimeout(function() {\n",
       "                var nbb_cell_id = 113;\n",
       "                var nbb_unformatted_code = \"experience\";\n",
       "                var nbb_formatted_code = \"experience\";\n",
       "                var nbb_cells = Jupyter.notebook.get_cells();\n",
       "                for (var i = 0; i < nbb_cells.length; ++i) {\n",
       "                    if (nbb_cells[i].input_prompt_number == nbb_cell_id) {\n",
       "                        if (nbb_cells[i].get_text() == nbb_unformatted_code) {\n",
       "                             nbb_cells[i].set_text(nbb_formatted_code);\n",
       "                        }\n",
       "                        break;\n",
       "                    }\n",
       "                }\n",
       "            }, 500);\n",
       "            "
      ],
      "text/plain": [
       "<IPython.core.display.Javascript object>"
      ]
     },
     "metadata": {},
     "output_type": "display_data"
    }
   ],
   "source": [
    "experience"
   ]
  },
  {
   "cell_type": "code",
   "execution_count": 61,
   "id": "509c845d",
   "metadata": {},
   "outputs": [
    {
     "name": "stdout",
     "output_type": "stream",
     "text": [
      "[0.11942709 0.07140238 0.10706023 0.15978916 0.54232114]\n"
     ]
    },
    {
     "data": {
      "text/plain": [
       "4.0"
      ]
     },
     "execution_count": 61,
     "metadata": {},
     "output_type": "execute_result"
    },
    {
     "data": {
      "application/javascript": [
       "\n",
       "            setTimeout(function() {\n",
       "                var nbb_cell_id = 61;\n",
       "                var nbb_unformatted_code = \"actual_experience_dist = np.random.dirichlet(pred_product_ratings[chosen_product])\\nprint(actual_experience_dist)\\nactual_experience = (\\n    np.where(np.random.multinomial(1, actual_experience_dist))[0][0] + 1.0\\n)\\nactual_experience\";\n",
       "                var nbb_formatted_code = \"actual_experience_dist = np.random.dirichlet(pred_product_ratings[chosen_product])\\nprint(actual_experience_dist)\\nactual_experience = (\\n    np.where(np.random.multinomial(1, actual_experience_dist))[0][0] + 1.0\\n)\\nactual_experience\";\n",
       "                var nbb_cells = Jupyter.notebook.get_cells();\n",
       "                for (var i = 0; i < nbb_cells.length; ++i) {\n",
       "                    if (nbb_cells[i].input_prompt_number == nbb_cell_id) {\n",
       "                        if (nbb_cells[i].get_text() == nbb_unformatted_code) {\n",
       "                             nbb_cells[i].set_text(nbb_formatted_code);\n",
       "                        }\n",
       "                        break;\n",
       "                    }\n",
       "                }\n",
       "            }, 500);\n",
       "            "
      ],
      "text/plain": [
       "<IPython.core.display.Javascript object>"
      ]
     },
     "metadata": {},
     "output_type": "display_data"
    }
   ],
   "source": [
    "actual_experience_dist = np.random.dirichlet(pred_product_ratings[chosen_product])\n",
    "print(actual_experience_dist)\n",
    "actual_experience = (\n",
    "    np.where(np.random.multinomial(1, actual_experience_dist))[0][0] + 1.0\n",
    ")\n",
    "actual_experience"
   ]
  },
  {
   "cell_type": "code",
   "execution_count": 114,
   "id": "6bca3922",
   "metadata": {},
   "outputs": [
    {
     "data": {
      "text/plain": [
       "2.4144198941425428"
      ]
     },
     "execution_count": 114,
     "metadata": {},
     "output_type": "execute_result"
    },
    {
     "data": {
      "application/javascript": [
       "\n",
       "            setTimeout(function() {\n",
       "                var nbb_cell_id = 114;\n",
       "                var nbb_unformatted_code = \"delta = simulator.mismatch_calculator(experience, expected_experience)\\ndelta\";\n",
       "                var nbb_formatted_code = \"delta = simulator.mismatch_calculator(experience, expected_experience)\\ndelta\";\n",
       "                var nbb_cells = Jupyter.notebook.get_cells();\n",
       "                for (var i = 0; i < nbb_cells.length; ++i) {\n",
       "                    if (nbb_cells[i].input_prompt_number == nbb_cell_id) {\n",
       "                        if (nbb_cells[i].get_text() == nbb_unformatted_code) {\n",
       "                             nbb_cells[i].set_text(nbb_formatted_code);\n",
       "                        }\n",
       "                        break;\n",
       "                    }\n",
       "                }\n",
       "            }, 500);\n",
       "            "
      ],
      "text/plain": [
       "<IPython.core.display.Javascript object>"
      ]
     },
     "metadata": {},
     "output_type": "display_data"
    }
   ],
   "source": [
    "delta = simulator.mismatch_calculator(experience, expected_experience)\n",
    "delta"
   ]
  },
  {
   "cell_type": "code",
   "execution_count": 115,
   "id": "e549eab3",
   "metadata": {},
   "outputs": [
    {
     "data": {
      "text/plain": [
       "array([1.04011502, 3.87123176])"
      ]
     },
     "execution_count": 115,
     "metadata": {},
     "output_type": "execute_result"
    },
    {
     "data": {
      "application/javascript": [
       "\n",
       "            setTimeout(function() {\n",
       "                var nbb_cell_id = 115;\n",
       "                var nbb_unformatted_code = \"simulator.simulation_parameters[\\\"rho\\\"][chosen_product]\";\n",
       "                var nbb_formatted_code = \"simulator.simulation_parameters[\\\"rho\\\"][chosen_product]\";\n",
       "                var nbb_cells = Jupyter.notebook.get_cells();\n",
       "                for (var i = 0; i < nbb_cells.length; ++i) {\n",
       "                    if (nbb_cells[i].input_prompt_number == nbb_cell_id) {\n",
       "                        if (nbb_cells[i].get_text() == nbb_unformatted_code) {\n",
       "                             nbb_cells[i].set_text(nbb_formatted_code);\n",
       "                        }\n",
       "                        break;\n",
       "                    }\n",
       "                }\n",
       "            }, 500);\n",
       "            "
      ],
      "text/plain": [
       "<IPython.core.display.Javascript object>"
      ]
     },
     "metadata": {},
     "output_type": "display_data"
    }
   ],
   "source": [
    "simulator.simulation_parameters[\"rho\"][chosen_product]"
   ]
  },
  {
   "cell_type": "code",
   "execution_count": 70,
   "id": "fdc7798c",
   "metadata": {},
   "outputs": [
    {
     "data": {
      "text/plain": [
       "<matplotlib.collections.PathCollection at 0x7fb6d2545c10>"
      ]
     },
     "execution_count": 70,
     "metadata": {},
     "output_type": "execute_result"
    },
    {
     "data": {
      "image/png": "[encoded data removed]",
      "text/plain": [
       "<Figure size 432x288 with 1 Axes>"
      ]
     },
     "metadata": {
      "needs_background": "light"
     },
     "output_type": "display_data"
    },
    {
     "data": {
      "application/javascript": [
       "\n",
       "            setTimeout(function() {\n",
       "                var nbb_cell_id = 70;\n",
       "                var nbb_unformatted_code = \"plt.scatter(\\n    simulator.simulation_parameters[\\\"rho\\\"][:, 0],\\n    simulator.simulation_parameters[\\\"rho\\\"][:, 1],\\n    alpha=0.4,\\n    s=0.5,\\n)\";\n",
       "                var nbb_formatted_code = \"plt.scatter(\\n    simulator.simulation_parameters[\\\"rho\\\"][:, 0],\\n    simulator.simulation_parameters[\\\"rho\\\"][:, 1],\\n    alpha=0.4,\\n    s=0.5,\\n)\";\n",
       "                var nbb_cells = Jupyter.notebook.get_cells();\n",
       "                for (var i = 0; i < nbb_cells.length; ++i) {\n",
       "                    if (nbb_cells[i].input_prompt_number == nbb_cell_id) {\n",
       "                        if (nbb_cells[i].get_text() == nbb_unformatted_code) {\n",
       "                             nbb_cells[i].set_text(nbb_formatted_code);\n",
       "                        }\n",
       "                        break;\n",
       "                    }\n",
       "                }\n",
       "            }, 500);\n",
       "            "
      ],
      "text/plain": [
       "<IPython.core.display.Javascript object>"
      ]
     },
     "metadata": {},
     "output_type": "display_data"
    }
   ],
   "source": [
    "plt.scatter(\n",
    "    simulator.simulation_parameters[\"rho\"][:, 0],\n",
    "    simulator.simulation_parameters[\"rho\"][:, 1],\n",
    "    alpha=0.4,\n",
    "    s=0.5,\n",
    ")"
   ]
  },
  {
   "cell_type": "code",
   "execution_count": 116,
   "id": "81a1ca88",
   "metadata": {},
   "outputs": [
    {
     "data": {
      "text/plain": [
       "4"
      ]
     },
     "execution_count": 116,
     "metadata": {},
     "output_type": "execute_result"
    },
    {
     "data": {
      "application/javascript": [
       "\n",
       "            setTimeout(function() {\n",
       "                var nbb_cell_id = 116;\n",
       "                var nbb_unformatted_code = \"rating_index = simulator.rating_calculator(delta)\\nrating_index\";\n",
       "                var nbb_formatted_code = \"rating_index = simulator.rating_calculator(delta)\\nrating_index\";\n",
       "                var nbb_cells = Jupyter.notebook.get_cells();\n",
       "                for (var i = 0; i < nbb_cells.length; ++i) {\n",
       "                    if (nbb_cells[i].input_prompt_number == nbb_cell_id) {\n",
       "                        if (nbb_cells[i].get_text() == nbb_unformatted_code) {\n",
       "                             nbb_cells[i].set_text(nbb_formatted_code);\n",
       "                        }\n",
       "                        break;\n",
       "                    }\n",
       "                }\n",
       "            }, 500);\n",
       "            "
      ],
      "text/plain": [
       "<IPython.core.display.Javascript object>"
      ]
     },
     "metadata": {},
     "output_type": "display_data"
    }
   ],
   "source": [
    "rating_index = simulator.rating_calculator(delta)\n",
    "rating_index"
   ]
  },
  {
   "cell_type": "code",
   "execution_count": 117,
   "id": "d77946c8",
   "metadata": {},
   "outputs": [
    {
     "data": {
      "text/plain": [
       "True"
      ]
     },
     "execution_count": 117,
     "metadata": {},
     "output_type": "execute_result"
    },
    {
     "data": {
      "application/javascript": [
       "\n",
       "            setTimeout(function() {\n",
       "                var nbb_cell_id = 117;\n",
       "                var nbb_unformatted_code = \"decision_to_rate = simulator.decision_to_leave_review(delta, simulation_id)\\ndecision_to_rate\";\n",
       "                var nbb_formatted_code = \"decision_to_rate = simulator.decision_to_leave_review(delta, simulation_id)\\ndecision_to_rate\";\n",
       "                var nbb_cells = Jupyter.notebook.get_cells();\n",
       "                for (var i = 0; i < nbb_cells.length; ++i) {\n",
       "                    if (nbb_cells[i].input_prompt_number == nbb_cell_id) {\n",
       "                        if (nbb_cells[i].get_text() == nbb_unformatted_code) {\n",
       "                             nbb_cells[i].set_text(nbb_formatted_code);\n",
       "                        }\n",
       "                        break;\n",
       "                    }\n",
       "                }\n",
       "            }, 500);\n",
       "            "
      ],
      "text/plain": [
       "<IPython.core.display.Javascript object>"
      ]
     },
     "metadata": {},
     "output_type": "display_data"
    }
   ],
   "source": [
    "decision_to_rate = simulator.decision_to_leave_review(delta, simulation_id)\n",
    "decision_to_rate"
   ]
  },
  {
   "cell_type": "code",
   "execution_count": 77,
   "id": "6e2f7110",
   "metadata": {},
   "outputs": [
    {
     "data": {
      "text/plain": [
       "-1.122907064662865"
      ]
     },
     "execution_count": 77,
     "metadata": {},
     "output_type": "execute_result"
    },
    {
     "data": {
      "application/javascript": [
       "\n",
       "            setTimeout(function() {\n",
       "                var nbb_cell_id = 77;\n",
       "                var nbb_unformatted_code = \"delta\";\n",
       "                var nbb_formatted_code = \"delta\";\n",
       "                var nbb_cells = Jupyter.notebook.get_cells();\n",
       "                for (var i = 0; i < nbb_cells.length; ++i) {\n",
       "                    if (nbb_cells[i].input_prompt_number == nbb_cell_id) {\n",
       "                        if (nbb_cells[i].get_text() == nbb_unformatted_code) {\n",
       "                             nbb_cells[i].set_text(nbb_formatted_code);\n",
       "                        }\n",
       "                        break;\n",
       "                    }\n",
       "                }\n",
       "            }, 500);\n",
       "            "
      ],
      "text/plain": [
       "<IPython.core.display.Javascript object>"
      ]
     },
     "metadata": {},
     "output_type": "display_data"
    }
   ],
   "source": [
    "delta"
   ]
  },
  {
   "cell_type": "code",
   "execution_count": null,
   "id": "463f1899",
   "metadata": {},
   "outputs": [],
   "source": []
  },
  {
   "cell_type": "markdown",
   "id": "82a0e697",
   "metadata": {},
   "source": [
    "# Count the number of products and reviews in the real marketplace"
   ]
  },
  {
   "cell_type": "code",
   "execution_count": 22,
   "id": "86a6590a",
   "metadata": {},
   "outputs": [
    {
     "data": {
      "text/html": [
       "<div>\n",
       "<style scoped>\n",
       "    .dataframe tbody tr th:only-of-type {\n",
       "        vertical-align: middle;\n",
       "    }\n",
       "\n",
       "    .dataframe tbody tr th {\n",
       "        vertical-align: top;\n",
       "    }\n",
       "\n",
       "    .dataframe thead th {\n",
       "        text-align: right;\n",
       "    }\n",
       "</style>\n",
       "<table border=\"1\" class=\"dataframe\">\n",
       "  <thead>\n",
       "    <tr style=\"text-align: right;\">\n",
       "      <th></th>\n",
       "      <th>asin</th>\n",
       "      <th>overall</th>\n",
       "      <th>ReviewId</th>\n",
       "      <th>unixReviewTime</th>\n",
       "      <th>rootcategoryid</th>\n",
       "    </tr>\n",
       "  </thead>\n",
       "  <tbody>\n",
       "    <tr>\n",
       "      <th>0</th>\n",
       "      <td>670155</td>\n",
       "      <td>4</td>\n",
       "      <td>3480905</td>\n",
       "      <td>2009-02-10</td>\n",
       "      <td>33005908</td>\n",
       "    </tr>\n",
       "    <tr>\n",
       "      <th>1</th>\n",
       "      <td>670155</td>\n",
       "      <td>3</td>\n",
       "      <td>3535864</td>\n",
       "      <td>2009-02-24</td>\n",
       "      <td>33005908</td>\n",
       "    </tr>\n",
       "    <tr>\n",
       "      <th>2</th>\n",
       "      <td>670155</td>\n",
       "      <td>5</td>\n",
       "      <td>3539112</td>\n",
       "      <td>2009-02-24</td>\n",
       "      <td>33005908</td>\n",
       "    </tr>\n",
       "    <tr>\n",
       "      <th>3</th>\n",
       "      <td>670155</td>\n",
       "      <td>4</td>\n",
       "      <td>3539514</td>\n",
       "      <td>2009-02-25</td>\n",
       "      <td>33005908</td>\n",
       "    </tr>\n",
       "    <tr>\n",
       "      <th>4</th>\n",
       "      <td>670155</td>\n",
       "      <td>1</td>\n",
       "      <td>3556157</td>\n",
       "      <td>2009-03-05</td>\n",
       "      <td>33005908</td>\n",
       "    </tr>\n",
       "  </tbody>\n",
       "</table>\n",
       "</div>"
      ],
      "text/plain": [
       "     asin  overall  ReviewId unixReviewTime  rootcategoryid\n",
       "0  670155        4   3480905     2009-02-10        33005908\n",
       "1  670155        3   3535864     2009-02-24        33005908\n",
       "2  670155        5   3539112     2009-02-24        33005908\n",
       "3  670155        4   3539514     2009-02-25        33005908\n",
       "4  670155        1   3556157     2009-03-05        33005908"
      ]
     },
     "execution_count": 22,
     "metadata": {},
     "output_type": "execute_result"
    },
    {
     "data": {
      "application/javascript": [
       "\n",
       "            setTimeout(function() {\n",
       "                var nbb_cell_id = 22;\n",
       "                var nbb_unformatted_code = \"reviews = pyreadr.read_r(\\n    \\\"/data/Dropbox/SNPE/all_data/reviews_bazaarvoice_main_vars.Rds\\\"\\n)\\nreviews = reviews[None]\\nreviews.head()\";\n",
       "                var nbb_formatted_code = \"reviews = pyreadr.read_r(\\n    \\\"/data/Dropbox/SNPE/all_data/reviews_bazaarvoice_main_vars.Rds\\\"\\n)\\nreviews = reviews[None]\\nreviews.head()\";\n",
       "                var nbb_cells = Jupyter.notebook.get_cells();\n",
       "                for (var i = 0; i < nbb_cells.length; ++i) {\n",
       "                    if (nbb_cells[i].input_prompt_number == nbb_cell_id) {\n",
       "                        if (nbb_cells[i].get_text() == nbb_unformatted_code) {\n",
       "                             nbb_cells[i].set_text(nbb_formatted_code);\n",
       "                        }\n",
       "                        break;\n",
       "                    }\n",
       "                }\n",
       "            }, 500);\n",
       "            "
      ],
      "text/plain": [
       "<IPython.core.display.Javascript object>"
      ]
     },
     "metadata": {},
     "output_type": "display_data"
    }
   ],
   "source": [
    "reviews = pyreadr.read_r(\n",
    "    \"/data/Dropbox/SNPE/all_data/reviews_bazaarvoice_main_vars.Rds\"\n",
    ")\n",
    "reviews = reviews[None]\n",
    "reviews.head()"
   ]
  },
  {
   "cell_type": "code",
   "execution_count": 23,
   "id": "d635d12d",
   "metadata": {},
   "outputs": [
    {
     "data": {
      "text/plain": [
       "(1406,)"
      ]
     },
     "execution_count": 23,
     "metadata": {},
     "output_type": "execute_result"
    },
    {
     "data": {
      "application/javascript": [
       "\n",
       "            setTimeout(function() {\n",
       "                var nbb_cell_id = 23;\n",
       "                var nbb_unformatted_code = \"reviews.asin.unique().shape\";\n",
       "                var nbb_formatted_code = \"reviews.asin.unique().shape\";\n",
       "                var nbb_cells = Jupyter.notebook.get_cells();\n",
       "                for (var i = 0; i < nbb_cells.length; ++i) {\n",
       "                    if (nbb_cells[i].input_prompt_number == nbb_cell_id) {\n",
       "                        if (nbb_cells[i].get_text() == nbb_unformatted_code) {\n",
       "                             nbb_cells[i].set_text(nbb_formatted_code);\n",
       "                        }\n",
       "                        break;\n",
       "                    }\n",
       "                }\n",
       "            }, 500);\n",
       "            "
      ],
      "text/plain": [
       "<IPython.core.display.Javascript object>"
      ]
     },
     "metadata": {},
     "output_type": "display_data"
    }
   ],
   "source": [
    "reviews.asin.unique().shape"
   ]
  },
  {
   "cell_type": "code",
   "execution_count": 24,
   "id": "46e16143",
   "metadata": {},
   "outputs": [
    {
     "data": {
      "text/plain": [
       "(135275, 5)"
      ]
     },
     "execution_count": 24,
     "metadata": {},
     "output_type": "execute_result"
    },
    {
     "data": {
      "application/javascript": [
       "\n",
       "            setTimeout(function() {\n",
       "                var nbb_cell_id = 24;\n",
       "                var nbb_unformatted_code = \"reviews.shape\";\n",
       "                var nbb_formatted_code = \"reviews.shape\";\n",
       "                var nbb_cells = Jupyter.notebook.get_cells();\n",
       "                for (var i = 0; i < nbb_cells.length; ++i) {\n",
       "                    if (nbb_cells[i].input_prompt_number == nbb_cell_id) {\n",
       "                        if (nbb_cells[i].get_text() == nbb_unformatted_code) {\n",
       "                             nbb_cells[i].set_text(nbb_formatted_code);\n",
       "                        }\n",
       "                        break;\n",
       "                    }\n",
       "                }\n",
       "            }, 500);\n",
       "            "
      ],
      "text/plain": [
       "<IPython.core.display.Javascript object>"
      ]
     },
     "metadata": {},
     "output_type": "display_data"
    }
   ],
   "source": [
    "reviews.shape"
   ]
  },
  {
   "cell_type": "code",
   "execution_count": 25,
   "id": "9927ceb9",
   "metadata": {},
   "outputs": [
    {
     "data": {
      "text/plain": [
       "<AxesSubplot:>"
      ]
     },
     "execution_count": 25,
     "metadata": {},
     "output_type": "execute_result"
    },
    {
     "data": {
      "image/png": "[encoded data removed]",
      "text/plain": [
       "<Figure size 432x288 with 1 Axes>"
      ]
     },
     "metadata": {
      "needs_background": "light"
     },
     "output_type": "display_data"
    },
    {
     "data": {
      "application/javascript": [
       "\n",
       "            setTimeout(function() {\n",
       "                var nbb_cell_id = 25;\n",
       "                var nbb_unformatted_code = \"reviews.asin.value_counts().hist()\";\n",
       "                var nbb_formatted_code = \"reviews.asin.value_counts().hist()\";\n",
       "                var nbb_cells = Jupyter.notebook.get_cells();\n",
       "                for (var i = 0; i < nbb_cells.length; ++i) {\n",
       "                    if (nbb_cells[i].input_prompt_number == nbb_cell_id) {\n",
       "                        if (nbb_cells[i].get_text() == nbb_unformatted_code) {\n",
       "                             nbb_cells[i].set_text(nbb_formatted_code);\n",
       "                        }\n",
       "                        break;\n",
       "                    }\n",
       "                }\n",
       "            }, 500);\n",
       "            "
      ],
      "text/plain": [
       "<IPython.core.display.Javascript object>"
      ]
     },
     "metadata": {},
     "output_type": "display_data"
    }
   ],
   "source": [
    "reviews.asin.value_counts().hist()"
   ]
  },
  {
   "cell_type": "code",
   "execution_count": null,
   "id": "8735397a",
   "metadata": {},
   "outputs": [],
   "source": []
  },
  {
   "cell_type": "code",
   "execution_count": null,
   "id": "675a6c26",
   "metadata": {},
   "outputs": [],
   "source": []
  },
  {
   "cell_type": "markdown",
   "id": "f1f8425f",
   "metadata": {},
   "source": [
    "# Testing out all the code"
   ]
  },
  {
   "cell_type": "code",
   "execution_count": 11,
   "id": "cb986a02",
   "metadata": {},
   "outputs": [
    {
     "data": {
      "application/javascript": [
       "\n",
       "            setTimeout(function() {\n",
       "                var nbb_cell_id = 11;\n",
       "                var nbb_unformatted_code = \"simulator.load_embedding_density_estimators(None)\";\n",
       "                var nbb_formatted_code = \"simulator.load_embedding_density_estimators(None)\";\n",
       "                var nbb_cells = Jupyter.notebook.get_cells();\n",
       "                for (var i = 0; i < nbb_cells.length; ++i) {\n",
       "                    if (nbb_cells[i].input_prompt_number == nbb_cell_id) {\n",
       "                        if (nbb_cells[i].get_text() == nbb_unformatted_code) {\n",
       "                             nbb_cells[i].set_text(nbb_formatted_code);\n",
       "                        }\n",
       "                        break;\n",
       "                    }\n",
       "                }\n",
       "            }, 500);\n",
       "            "
      ],
      "text/plain": [
       "<IPython.core.display.Javascript object>"
      ]
     },
     "metadata": {},
     "output_type": "display_data"
    }
   ],
   "source": [
    "simulator.load_embedding_density_estimators(None)"
   ]
  },
  {
   "cell_type": "code",
   "execution_count": 12,
   "id": "116dbec5",
   "metadata": {},
   "outputs": [
    {
     "data": {
      "application/javascript": [
       "\n",
       "            setTimeout(function() {\n",
       "                var nbb_cell_id = 12;\n",
       "                var nbb_unformatted_code = \"num_simulations = 100\\nsimulator.simulation_parameters = simulator.generate_simulation_parameters(\\n    num_simulations * simulator.num_products\\n)\";\n",
       "                var nbb_formatted_code = \"num_simulations = 100\\nsimulator.simulation_parameters = simulator.generate_simulation_parameters(\\n    num_simulations * simulator.num_products\\n)\";\n",
       "                var nbb_cells = Jupyter.notebook.get_cells();\n",
       "                for (var i = 0; i < nbb_cells.length; ++i) {\n",
       "                    if (nbb_cells[i].input_prompt_number == nbb_cell_id) {\n",
       "                        if (nbb_cells[i].get_text() == nbb_unformatted_code) {\n",
       "                             nbb_cells[i].set_text(nbb_formatted_code);\n",
       "                        }\n",
       "                        break;\n",
       "                    }\n",
       "                }\n",
       "            }, 500);\n",
       "            "
      ],
      "text/plain": [
       "<IPython.core.display.Javascript object>"
      ]
     },
     "metadata": {},
     "output_type": "display_data"
    }
   ],
   "source": [
    "num_simulations = 100\n",
    "simulator.simulation_parameters = simulator.generate_simulation_parameters(\n",
    "    num_simulations * simulator.num_products\n",
    ")"
   ]
  },
  {
   "cell_type": "code",
   "execution_count": 13,
   "id": "ba8d3a17",
   "metadata": {},
   "outputs": [
    {
     "data": {
      "text/plain": [
       "(2000,)"
      ]
     },
     "execution_count": 13,
     "metadata": {},
     "output_type": "execute_result"
    },
    {
     "data": {
      "application/javascript": [
       "\n",
       "            setTimeout(function() {\n",
       "                var nbb_cell_id = 13;\n",
       "                var nbb_unformatted_code = \"simulator.simulation_parameters[\\\"h_p\\\"].shape\";\n",
       "                var nbb_formatted_code = \"simulator.simulation_parameters[\\\"h_p\\\"].shape\";\n",
       "                var nbb_cells = Jupyter.notebook.get_cells();\n",
       "                for (var i = 0; i < nbb_cells.length; ++i) {\n",
       "                    if (nbb_cells[i].input_prompt_number == nbb_cell_id) {\n",
       "                        if (nbb_cells[i].get_text() == nbb_unformatted_code) {\n",
       "                             nbb_cells[i].set_text(nbb_formatted_code);\n",
       "                        }\n",
       "                        break;\n",
       "                    }\n",
       "                }\n",
       "            }, 500);\n",
       "            "
      ],
      "text/plain": [
       "<IPython.core.display.Javascript object>"
      ]
     },
     "metadata": {},
     "output_type": "display_data"
    }
   ],
   "source": [
    "simulator.simulation_parameters[\"h_p\"].shape"
   ]
  },
  {
   "cell_type": "code",
   "execution_count": 14,
   "id": "8a7feea2",
   "metadata": {},
   "outputs": [
    {
     "data": {
      "text/plain": [
       "60000"
      ]
     },
     "execution_count": 14,
     "metadata": {},
     "output_type": "execute_result"
    },
    {
     "data": {
      "application/javascript": [
       "\n",
       "            setTimeout(function() {\n",
       "                var nbb_cell_id = 14;\n",
       "                var nbb_unformatted_code = \"total_visitors = simulator.num_total_marketplace_reviews * 30\\ntotal_visitors\";\n",
       "                var nbb_formatted_code = \"total_visitors = simulator.num_total_marketplace_reviews * 30\\ntotal_visitors\";\n",
       "                var nbb_cells = Jupyter.notebook.get_cells();\n",
       "                for (var i = 0; i < nbb_cells.length; ++i) {\n",
       "                    if (nbb_cells[i].input_prompt_number == nbb_cell_id) {\n",
       "                        if (nbb_cells[i].get_text() == nbb_unformatted_code) {\n",
       "                             nbb_cells[i].set_text(nbb_formatted_code);\n",
       "                        }\n",
       "                        break;\n",
       "                    }\n",
       "                }\n",
       "            }, 500);\n",
       "            "
      ],
      "text/plain": [
       "<IPython.core.display.Javascript object>"
      ]
     },
     "metadata": {},
     "output_type": "display_data"
    }
   ],
   "source": [
    "total_visitors = simulator.num_total_marketplace_reviews * 30\n",
    "total_visitors"
   ]
  },
  {
   "cell_type": "code",
   "execution_count": 12,
   "id": "bfa151bb",
   "metadata": {},
   "outputs": [
    {
     "data": {
      "application/javascript": [
       "\n",
       "            setTimeout(function() {\n",
       "                var nbb_cell_id = 12;\n",
       "                var nbb_unformatted_code = \"simulated_reviews = [\\n    deque([np.ones(5)], maxlen=total_visitors) for prod in range(simulator.num_products)\\n]\";\n",
       "                var nbb_formatted_code = \"simulated_reviews = [\\n    deque([np.ones(5)], maxlen=total_visitors) for prod in range(simulator.num_products)\\n]\";\n",
       "                var nbb_cells = Jupyter.notebook.get_cells();\n",
       "                for (var i = 0; i < nbb_cells.length; ++i) {\n",
       "                    if (nbb_cells[i].input_prompt_number == nbb_cell_id) {\n",
       "                        if (nbb_cells[i].get_text() == nbb_unformatted_code) {\n",
       "                             nbb_cells[i].set_text(nbb_formatted_code);\n",
       "                        }\n",
       "                        break;\n",
       "                    }\n",
       "                }\n",
       "            }, 500);\n",
       "            "
      ],
      "text/plain": [
       "<IPython.core.display.Javascript object>"
      ]
     },
     "metadata": {},
     "output_type": "display_data"
    }
   ],
   "source": [
    "simulated_reviews = [\n",
    "    deque([np.ones(5)], maxlen=total_visitors) for prod in range(simulator.num_products)\n",
    "]"
   ]
  },
  {
   "cell_type": "code",
   "execution_count": 13,
   "id": "3ddd0f7a",
   "metadata": {},
   "outputs": [
    {
     "data": {
      "text/plain": [
       "2000"
      ]
     },
     "execution_count": 13,
     "metadata": {},
     "output_type": "execute_result"
    },
    {
     "data": {
      "application/javascript": [
       "\n",
       "            setTimeout(function() {\n",
       "                var nbb_cell_id = 13;\n",
       "                var nbb_unformatted_code = \"len(simulated_reviews)\";\n",
       "                var nbb_formatted_code = \"len(simulated_reviews)\";\n",
       "                var nbb_cells = Jupyter.notebook.get_cells();\n",
       "                for (var i = 0; i < nbb_cells.length; ++i) {\n",
       "                    if (nbb_cells[i].input_prompt_number == nbb_cell_id) {\n",
       "                        if (nbb_cells[i].get_text() == nbb_unformatted_code) {\n",
       "                             nbb_cells[i].set_text(nbb_formatted_code);\n",
       "                        }\n",
       "                        break;\n",
       "                    }\n",
       "                }\n",
       "            }, 500);\n",
       "            "
      ],
      "text/plain": [
       "<IPython.core.display.Javascript object>"
      ]
     },
     "metadata": {},
     "output_type": "display_data"
    }
   ],
   "source": [
    "len(simulated_reviews)"
   ]
  },
  {
   "cell_type": "code",
   "execution_count": 14,
   "id": "bb9371cd",
   "metadata": {},
   "outputs": [
    {
     "data": {
      "application/javascript": [
       "\n",
       "            setTimeout(function() {\n",
       "                var nbb_cell_id = 14;\n",
       "                var nbb_unformatted_code = \"product_embeddings = simulator.embedding_density_estimators[\\n    \\\"products\\\"\\n].multivariate_normal(np.zeros(100), np.diag(np.ones(100)), size=simulator.num_products)\";\n",
       "                var nbb_formatted_code = \"product_embeddings = simulator.embedding_density_estimators[\\n    \\\"products\\\"\\n].multivariate_normal(np.zeros(100), np.diag(np.ones(100)), size=simulator.num_products)\";\n",
       "                var nbb_cells = Jupyter.notebook.get_cells();\n",
       "                for (var i = 0; i < nbb_cells.length; ++i) {\n",
       "                    if (nbb_cells[i].input_prompt_number == nbb_cell_id) {\n",
       "                        if (nbb_cells[i].get_text() == nbb_unformatted_code) {\n",
       "                             nbb_cells[i].set_text(nbb_formatted_code);\n",
       "                        }\n",
       "                        break;\n",
       "                    }\n",
       "                }\n",
       "            }, 500);\n",
       "            "
      ],
      "text/plain": [
       "<IPython.core.display.Javascript object>"
      ]
     },
     "metadata": {},
     "output_type": "display_data"
    }
   ],
   "source": [
    "product_embeddings = simulator.embedding_density_estimators[\n",
    "    \"products\"\n",
    "].multivariate_normal(np.zeros(100), np.diag(np.ones(100)), size=simulator.num_products)"
   ]
  },
  {
   "cell_type": "code",
   "execution_count": 15,
   "id": "467e8509",
   "metadata": {},
   "outputs": [
    {
     "data": {
      "text/plain": [
       "(2000, 100)"
      ]
     },
     "execution_count": 15,
     "metadata": {},
     "output_type": "execute_result"
    },
    {
     "data": {
      "application/javascript": [
       "\n",
       "            setTimeout(function() {\n",
       "                var nbb_cell_id = 15;\n",
       "                var nbb_unformatted_code = \"product_embeddings.shape\";\n",
       "                var nbb_formatted_code = \"product_embeddings.shape\";\n",
       "                var nbb_cells = Jupyter.notebook.get_cells();\n",
       "                for (var i = 0; i < nbb_cells.length; ++i) {\n",
       "                    if (nbb_cells[i].input_prompt_number == nbb_cell_id) {\n",
       "                        if (nbb_cells[i].get_text() == nbb_unformatted_code) {\n",
       "                             nbb_cells[i].set_text(nbb_formatted_code);\n",
       "                        }\n",
       "                        break;\n",
       "                    }\n",
       "                }\n",
       "            }, 500);\n",
       "            "
      ],
      "text/plain": [
       "<IPython.core.display.Javascript object>"
      ]
     },
     "metadata": {},
     "output_type": "display_data"
    }
   ],
   "source": [
    "product_embeddings.shape"
   ]
  },
  {
   "cell_type": "code",
   "execution_count": 16,
   "id": "2855a16e",
   "metadata": {},
   "outputs": [
    {
     "data": {
      "application/javascript": [
       "\n",
       "            setTimeout(function() {\n",
       "                var nbb_cell_id = 16;\n",
       "                var nbb_unformatted_code = \"visitor_embedding = simulator.embedding_density_estimators[\\n    \\\"visitors\\\"\\n].multivariate_normal(np.zeros(100), np.diag(np.ones(100)))\";\n",
       "                var nbb_formatted_code = \"visitor_embedding = simulator.embedding_density_estimators[\\n    \\\"visitors\\\"\\n].multivariate_normal(np.zeros(100), np.diag(np.ones(100)))\";\n",
       "                var nbb_cells = Jupyter.notebook.get_cells();\n",
       "                for (var i = 0; i < nbb_cells.length; ++i) {\n",
       "                    if (nbb_cells[i].input_prompt_number == nbb_cell_id) {\n",
       "                        if (nbb_cells[i].get_text() == nbb_unformatted_code) {\n",
       "                             nbb_cells[i].set_text(nbb_formatted_code);\n",
       "                        }\n",
       "                        break;\n",
       "                    }\n",
       "                }\n",
       "            }, 500);\n",
       "            "
      ],
      "text/plain": [
       "<IPython.core.display.Javascript object>"
      ]
     },
     "metadata": {},
     "output_type": "display_data"
    }
   ],
   "source": [
    "visitor_embedding = simulator.embedding_density_estimators[\n",
    "    \"visitors\"\n",
    "].multivariate_normal(np.zeros(100), np.diag(np.ones(100)))"
   ]
  },
  {
   "cell_type": "code",
   "execution_count": 17,
   "id": "96d7697f",
   "metadata": {},
   "outputs": [
    {
     "data": {
      "text/plain": [
       "(100,)"
      ]
     },
     "execution_count": 17,
     "metadata": {},
     "output_type": "execute_result"
    },
    {
     "data": {
      "application/javascript": [
       "\n",
       "            setTimeout(function() {\n",
       "                var nbb_cell_id = 17;\n",
       "                var nbb_unformatted_code = \"visitor_embedding.shape\";\n",
       "                var nbb_formatted_code = \"visitor_embedding.shape\";\n",
       "                var nbb_cells = Jupyter.notebook.get_cells();\n",
       "                for (var i = 0; i < nbb_cells.length; ++i) {\n",
       "                    if (nbb_cells[i].input_prompt_number == nbb_cell_id) {\n",
       "                        if (nbb_cells[i].get_text() == nbb_unformatted_code) {\n",
       "                             nbb_cells[i].set_text(nbb_formatted_code);\n",
       "                        }\n",
       "                        break;\n",
       "                    }\n",
       "                }\n",
       "            }, 500);\n",
       "            "
      ],
      "text/plain": [
       "<IPython.core.display.Javascript object>"
      ]
     },
     "metadata": {},
     "output_type": "display_data"
    }
   ],
   "source": [
    "visitor_embedding.shape"
   ]
  },
  {
   "cell_type": "code",
   "execution_count": 18,
   "id": "190f035c",
   "metadata": {},
   "outputs": [
    {
     "data": {
      "text/plain": [
       "(2000, 1)"
      ]
     },
     "execution_count": 18,
     "metadata": {},
     "output_type": "execute_result"
    },
    {
     "data": {
      "application/javascript": [
       "\n",
       "            setTimeout(function() {\n",
       "                var nbb_cell_id = 18;\n",
       "                var nbb_unformatted_code = \"cos_sim = 1.0 - cdist(\\n    product_embeddings, visitor_embedding.reshape(1, -1), metric=\\\"cosine\\\"\\n)\\ncos_sim.shape\";\n",
       "                var nbb_formatted_code = \"cos_sim = 1.0 - cdist(\\n    product_embeddings, visitor_embedding.reshape(1, -1), metric=\\\"cosine\\\"\\n)\\ncos_sim.shape\";\n",
       "                var nbb_cells = Jupyter.notebook.get_cells();\n",
       "                for (var i = 0; i < nbb_cells.length; ++i) {\n",
       "                    if (nbb_cells[i].input_prompt_number == nbb_cell_id) {\n",
       "                        if (nbb_cells[i].get_text() == nbb_unformatted_code) {\n",
       "                             nbb_cells[i].set_text(nbb_formatted_code);\n",
       "                        }\n",
       "                        break;\n",
       "                    }\n",
       "                }\n",
       "            }, 500);\n",
       "            "
      ],
      "text/plain": [
       "<IPython.core.display.Javascript object>"
      ]
     },
     "metadata": {},
     "output_type": "display_data"
    }
   ],
   "source": [
    "cos_sim = 1.0 - cdist(\n",
    "    product_embeddings, visitor_embedding.reshape(1, -1), metric=\"cosine\"\n",
    ")\n",
    "cos_sim.shape"
   ]
  },
  {
   "cell_type": "code",
   "execution_count": 19,
   "id": "4797988b",
   "metadata": {},
   "outputs": [
    {
     "data": {
      "text/plain": [
       "(array([  6.,  35., 135., 366., 491., 485., 300., 139.,  36.,   7.]),\n",
       " array([-0.33563476, -0.26806207, -0.20048938, -0.1329167 , -0.06534401,\n",
       "         0.00222867,  0.06980136,  0.13737405,  0.20494673,  0.27251942,\n",
       "         0.34009211]),\n",
       " <BarContainer object of 10 artists>)"
      ]
     },
     "execution_count": 19,
     "metadata": {},
     "output_type": "execute_result"
    },
    {
     "data": {
      "image/png": "[encoded data removed]",
      "text/plain": [
       "<Figure size 432x288 with 1 Axes>"
      ]
     },
     "metadata": {
      "needs_background": "light"
     },
     "output_type": "display_data"
    },
    {
     "data": {
      "application/javascript": [
       "\n",
       "            setTimeout(function() {\n",
       "                var nbb_cell_id = 19;\n",
       "                var nbb_unformatted_code = \"plt.hist(cos_sim)\";\n",
       "                var nbb_formatted_code = \"plt.hist(cos_sim)\";\n",
       "                var nbb_cells = Jupyter.notebook.get_cells();\n",
       "                for (var i = 0; i < nbb_cells.length; ++i) {\n",
       "                    if (nbb_cells[i].input_prompt_number == nbb_cell_id) {\n",
       "                        if (nbb_cells[i].get_text() == nbb_unformatted_code) {\n",
       "                             nbb_cells[i].set_text(nbb_formatted_code);\n",
       "                        }\n",
       "                        break;\n",
       "                    }\n",
       "                }\n",
       "            }, 500);\n",
       "            "
      ],
      "text/plain": [
       "<IPython.core.display.Javascript object>"
      ]
     },
     "metadata": {},
     "output_type": "display_data"
    }
   ],
   "source": [
    "plt.hist(cos_sim)"
   ]
  },
  {
   "cell_type": "code",
   "execution_count": 21,
   "id": "43b534af",
   "metadata": {},
   "outputs": [
    {
     "data": {
      "text/plain": [
       "array([1318,  496, 1450, 1221, 1383])"
      ]
     },
     "execution_count": 21,
     "metadata": {},
     "output_type": "execute_result"
    },
    {
     "data": {
      "application/javascript": [
       "\n",
       "            setTimeout(function() {\n",
       "                var nbb_cell_id = 21;\n",
       "                var nbb_unformatted_code = \"consideration_set = np.argpartition(cos_sim.flatten(), -simulator.consideration_set_size)[\\n    -simulator.consideration_set_size :\\n]\\nconsideration_set\";\n",
       "                var nbb_formatted_code = \"consideration_set = np.argpartition(\\n    cos_sim.flatten(), -simulator.consideration_set_size\\n)[-simulator.consideration_set_size :]\\nconsideration_set\";\n",
       "                var nbb_cells = Jupyter.notebook.get_cells();\n",
       "                for (var i = 0; i < nbb_cells.length; ++i) {\n",
       "                    if (nbb_cells[i].input_prompt_number == nbb_cell_id) {\n",
       "                        if (nbb_cells[i].get_text() == nbb_unformatted_code) {\n",
       "                             nbb_cells[i].set_text(nbb_formatted_code);\n",
       "                        }\n",
       "                        break;\n",
       "                    }\n",
       "                }\n",
       "            }, 500);\n",
       "            "
      ],
      "text/plain": [
       "<IPython.core.display.Javascript object>"
      ]
     },
     "metadata": {},
     "output_type": "display_data"
    }
   ],
   "source": [
    "consideration_set = np.argpartition(\n",
    "    cos_sim.flatten(), -simulator.consideration_set_size\n",
    ")[-simulator.consideration_set_size :]\n",
    "consideration_set"
   ]
  },
  {
   "cell_type": "code",
   "execution_count": 24,
   "id": "e51ccd0f",
   "metadata": {},
   "outputs": [
    {
     "data": {
      "text/plain": [
       "array([0.29318424, 0.29486742, 0.3145481 , 0.3274308 , 0.34009211])"
      ]
     },
     "execution_count": 24,
     "metadata": {},
     "output_type": "execute_result"
    },
    {
     "data": {
      "application/javascript": [
       "\n",
       "            setTimeout(function() {\n",
       "                var nbb_cell_id = 24;\n",
       "                var nbb_unformatted_code = \"np.sort(cos_sim.flatten())[-5:]\";\n",
       "                var nbb_formatted_code = \"np.sort(cos_sim.flatten())[-5:]\";\n",
       "                var nbb_cells = Jupyter.notebook.get_cells();\n",
       "                for (var i = 0; i < nbb_cells.length; ++i) {\n",
       "                    if (nbb_cells[i].input_prompt_number == nbb_cell_id) {\n",
       "                        if (nbb_cells[i].get_text() == nbb_unformatted_code) {\n",
       "                             nbb_cells[i].set_text(nbb_formatted_code);\n",
       "                        }\n",
       "                        break;\n",
       "                    }\n",
       "                }\n",
       "            }, 500);\n",
       "            "
      ],
      "text/plain": [
       "<IPython.core.display.Javascript object>"
      ]
     },
     "metadata": {},
     "output_type": "display_data"
    }
   ],
   "source": [
    "np.sort(cos_sim.flatten())[-5:]"
   ]
  },
  {
   "cell_type": "code",
   "execution_count": 25,
   "id": "614107f8",
   "metadata": {},
   "outputs": [
    {
     "data": {
      "text/plain": [
       "array([0.29318424, 0.29486742, 0.3145481 , 0.34009211, 0.3274308 ])"
      ]
     },
     "execution_count": 25,
     "metadata": {},
     "output_type": "execute_result"
    },
    {
     "data": {
      "application/javascript": [
       "\n",
       "            setTimeout(function() {\n",
       "                var nbb_cell_id = 25;\n",
       "                var nbb_unformatted_code = \"cos_sim = cos_sim.flatten()\\ncos_sim[consideration_set]\";\n",
       "                var nbb_formatted_code = \"cos_sim = cos_sim.flatten()\\ncos_sim[consideration_set]\";\n",
       "                var nbb_cells = Jupyter.notebook.get_cells();\n",
       "                for (var i = 0; i < nbb_cells.length; ++i) {\n",
       "                    if (nbb_cells[i].input_prompt_number == nbb_cell_id) {\n",
       "                        if (nbb_cells[i].get_text() == nbb_unformatted_code) {\n",
       "                             nbb_cells[i].set_text(nbb_formatted_code);\n",
       "                        }\n",
       "                        break;\n",
       "                    }\n",
       "                }\n",
       "            }, 500);\n",
       "            "
      ],
      "text/plain": [
       "<IPython.core.display.Javascript object>"
      ]
     },
     "metadata": {},
     "output_type": "display_data"
    }
   ],
   "source": [
    "cos_sim = cos_sim.flatten()\n",
    "cos_sim[consideration_set]"
   ]
  },
  {
   "cell_type": "code",
   "execution_count": 26,
   "id": "446edb53",
   "metadata": {},
   "outputs": [
    {
     "data": {
      "text/plain": [
       "array([0.29318424, 0.29486742, 0.3145481 , 0.34009211, 0.3274308 ])"
      ]
     },
     "execution_count": 26,
     "metadata": {},
     "output_type": "execute_result"
    },
    {
     "data": {
      "application/javascript": [
       "\n",
       "            setTimeout(function() {\n",
       "                var nbb_cell_id = 26;\n",
       "                var nbb_unformatted_code = \"adj = np.random.random()\\nconsideration_set_cos_sim = cos_sim[consideration_set]\\nconsideration_set_cos_sim\";\n",
       "                var nbb_formatted_code = \"adj = np.random.random()\\nconsideration_set_cos_sim = cos_sim[consideration_set]\\nconsideration_set_cos_sim\";\n",
       "                var nbb_cells = Jupyter.notebook.get_cells();\n",
       "                for (var i = 0; i < nbb_cells.length; ++i) {\n",
       "                    if (nbb_cells[i].input_prompt_number == nbb_cell_id) {\n",
       "                        if (nbb_cells[i].get_text() == nbb_unformatted_code) {\n",
       "                             nbb_cells[i].set_text(nbb_formatted_code);\n",
       "                        }\n",
       "                        break;\n",
       "                    }\n",
       "                }\n",
       "            }, 500);\n",
       "            "
      ],
      "text/plain": [
       "<IPython.core.display.Javascript object>"
      ]
     },
     "metadata": {},
     "output_type": "display_data"
    }
   ],
   "source": [
    "adj = np.random.random()\n",
    "consideration_set_cos_sim = cos_sim[consideration_set]\n",
    "consideration_set_cos_sim"
   ]
  },
  {
   "cell_type": "code",
   "execution_count": 27,
   "id": "84d06765",
   "metadata": {},
   "outputs": [
    {
     "data": {
      "text/plain": [
       "(5, 5)"
      ]
     },
     "execution_count": 27,
     "metadata": {},
     "output_type": "execute_result"
    },
    {
     "data": {
      "application/javascript": [
       "\n",
       "            setTimeout(function() {\n",
       "                var nbb_cell_id = 27;\n",
       "                var nbb_unformatted_code = \"consideration_set_reviews = np.array([simulated_reviews[prod][-1] for prod in consideration_set])\\nconsideration_set_reviews.shape\";\n",
       "                var nbb_formatted_code = \"consideration_set_reviews = np.array(\\n    [simulated_reviews[prod][-1] for prod in consideration_set]\\n)\\nconsideration_set_reviews.shape\";\n",
       "                var nbb_cells = Jupyter.notebook.get_cells();\n",
       "                for (var i = 0; i < nbb_cells.length; ++i) {\n",
       "                    if (nbb_cells[i].input_prompt_number == nbb_cell_id) {\n",
       "                        if (nbb_cells[i].get_text() == nbb_unformatted_code) {\n",
       "                             nbb_cells[i].set_text(nbb_formatted_code);\n",
       "                        }\n",
       "                        break;\n",
       "                    }\n",
       "                }\n",
       "            }, 500);\n",
       "            "
      ],
      "text/plain": [
       "<IPython.core.display.Javascript object>"
      ]
     },
     "metadata": {},
     "output_type": "display_data"
    }
   ],
   "source": [
    "consideration_set_reviews = np.array(\n",
    "    [simulated_reviews[prod][-1] for prod in consideration_set]\n",
    ")\n",
    "consideration_set_reviews.shape"
   ]
  },
  {
   "cell_type": "code",
   "execution_count": 28,
   "id": "d9234f57",
   "metadata": {},
   "outputs": [
    {
     "data": {
      "text/plain": [
       "array([[1., 1., 1., 1., 1.],\n",
       "       [1., 1., 1., 1., 1.],\n",
       "       [1., 1., 1., 1., 1.],\n",
       "       [1., 1., 1., 1., 1.],\n",
       "       [1., 1., 1., 1., 1.]])"
      ]
     },
     "execution_count": 28,
     "metadata": {},
     "output_type": "execute_result"
    },
    {
     "data": {
      "application/javascript": [
       "\n",
       "            setTimeout(function() {\n",
       "                var nbb_cell_id = 28;\n",
       "                var nbb_unformatted_code = \"consideration_set_reviews\";\n",
       "                var nbb_formatted_code = \"consideration_set_reviews\";\n",
       "                var nbb_cells = Jupyter.notebook.get_cells();\n",
       "                for (var i = 0; i < nbb_cells.length; ++i) {\n",
       "                    if (nbb_cells[i].input_prompt_number == nbb_cell_id) {\n",
       "                        if (nbb_cells[i].get_text() == nbb_unformatted_code) {\n",
       "                             nbb_cells[i].set_text(nbb_formatted_code);\n",
       "                        }\n",
       "                        break;\n",
       "                    }\n",
       "                }\n",
       "            }, 500);\n",
       "            "
      ],
      "text/plain": [
       "<IPython.core.display.Javascript object>"
      ]
     },
     "metadata": {},
     "output_type": "display_data"
    }
   ],
   "source": [
    "consideration_set_reviews"
   ]
  },
  {
   "cell_type": "code",
   "execution_count": 29,
   "id": "5da67c3d",
   "metadata": {},
   "outputs": [
    {
     "data": {
      "text/plain": [
       "array([3., 3., 3., 3., 3.])"
      ]
     },
     "execution_count": 29,
     "metadata": {},
     "output_type": "execute_result"
    },
    {
     "data": {
      "application/javascript": [
       "\n",
       "            setTimeout(function() {\n",
       "                var nbb_cell_id = 29;\n",
       "                var nbb_unformatted_code = \"consideration_set_avg_ratings = review_histogram_means(consideration_set_reviews)\\nconsideration_set_avg_ratings\";\n",
       "                var nbb_formatted_code = \"consideration_set_avg_ratings = review_histogram_means(consideration_set_reviews)\\nconsideration_set_avg_ratings\";\n",
       "                var nbb_cells = Jupyter.notebook.get_cells();\n",
       "                for (var i = 0; i < nbb_cells.length; ++i) {\n",
       "                    if (nbb_cells[i].input_prompt_number == nbb_cell_id) {\n",
       "                        if (nbb_cells[i].get_text() == nbb_unformatted_code) {\n",
       "                             nbb_cells[i].set_text(nbb_formatted_code);\n",
       "                        }\n",
       "                        break;\n",
       "                    }\n",
       "                }\n",
       "            }, 500);\n",
       "            "
      ],
      "text/plain": [
       "<IPython.core.display.Javascript object>"
      ]
     },
     "metadata": {},
     "output_type": "display_data"
    }
   ],
   "source": [
    "consideration_set_avg_ratings = review_histogram_means(consideration_set_reviews)\n",
    "consideration_set_avg_ratings"
   ]
  },
  {
   "cell_type": "code",
   "execution_count": 30,
   "id": "2db1e9fc",
   "metadata": {},
   "outputs": [
    {
     "name": "stdout",
     "output_type": "stream",
     "text": [
      "[0.64659212 0.64743371 0.65727405 0.67004605 0.6637154 ] [0.6 0.6 0.6 0.6 0.6]\n"
     ]
    },
    {
     "data": {
      "application/javascript": [
       "\n",
       "            setTimeout(function() {\n",
       "                var nbb_cell_id = 30;\n",
       "                var nbb_unformatted_code = \"# Adjusting both cosine similarities and avg ratings to be on the same scale - 0 to 1\\nconsideration_set_cos_sim = (consideration_set_cos_sim + 1.0) / 2.0\\nconsideration_set_avg_ratings /= 5.0\\nprint(consideration_set_cos_sim, consideration_set_avg_ratings)\";\n",
       "                var nbb_formatted_code = \"# Adjusting both cosine similarities and avg ratings to be on the same scale - 0 to 1\\nconsideration_set_cos_sim = (consideration_set_cos_sim + 1.0) / 2.0\\nconsideration_set_avg_ratings /= 5.0\\nprint(consideration_set_cos_sim, consideration_set_avg_ratings)\";\n",
       "                var nbb_cells = Jupyter.notebook.get_cells();\n",
       "                for (var i = 0; i < nbb_cells.length; ++i) {\n",
       "                    if (nbb_cells[i].input_prompt_number == nbb_cell_id) {\n",
       "                        if (nbb_cells[i].get_text() == nbb_unformatted_code) {\n",
       "                             nbb_cells[i].set_text(nbb_formatted_code);\n",
       "                        }\n",
       "                        break;\n",
       "                    }\n",
       "                }\n",
       "            }, 500);\n",
       "            "
      ],
      "text/plain": [
       "<IPython.core.display.Javascript object>"
      ]
     },
     "metadata": {},
     "output_type": "display_data"
    }
   ],
   "source": [
    "# Adjusting both cosine similarities and avg ratings to be on the same scale - 0 to 1\n",
    "consideration_set_cos_sim = (consideration_set_cos_sim + 1.0) / 2.0\n",
    "consideration_set_avg_ratings /= 5.0\n",
    "print(consideration_set_cos_sim, consideration_set_avg_ratings)"
   ]
  },
  {
   "cell_type": "code",
   "execution_count": 31,
   "id": "1d6a4c1b",
   "metadata": {},
   "outputs": [
    {
     "data": {
      "text/plain": [
       "array([0.62198681, 0.62238395, 0.62702761, 0.63305471, 0.63006728])"
      ]
     },
     "execution_count": 31,
     "metadata": {},
     "output_type": "execute_result"
    },
    {
     "data": {
      "application/javascript": [
       "\n",
       "            setTimeout(function() {\n",
       "                var nbb_cell_id = 31;\n",
       "                var nbb_unformatted_code = \"# Linear combination of cosine similarity and avg ratings using the adjuster\\nscores = (adj * consideration_set_cos_sim) + ((1 - adj) * consideration_set_avg_ratings)\\nscores\";\n",
       "                var nbb_formatted_code = \"# Linear combination of cosine similarity and avg ratings using the adjuster\\nscores = (adj * consideration_set_cos_sim) + ((1 - adj) * consideration_set_avg_ratings)\\nscores\";\n",
       "                var nbb_cells = Jupyter.notebook.get_cells();\n",
       "                for (var i = 0; i < nbb_cells.length; ++i) {\n",
       "                    if (nbb_cells[i].input_prompt_number == nbb_cell_id) {\n",
       "                        if (nbb_cells[i].get_text() == nbb_unformatted_code) {\n",
       "                             nbb_cells[i].set_text(nbb_formatted_code);\n",
       "                        }\n",
       "                        break;\n",
       "                    }\n",
       "                }\n",
       "            }, 500);\n",
       "            "
      ],
      "text/plain": [
       "<IPython.core.display.Javascript object>"
      ]
     },
     "metadata": {},
     "output_type": "display_data"
    }
   ],
   "source": [
    "# Linear combination of cosine similarity and avg ratings using the adjuster\n",
    "scores = (adj * consideration_set_cos_sim) + ((1 - adj) * consideration_set_avg_ratings)\n",
    "scores"
   ]
  },
  {
   "cell_type": "code",
   "execution_count": 33,
   "id": "eec616ff",
   "metadata": {},
   "outputs": [
    {
     "name": "stdout",
     "output_type": "stream",
     "text": [
      "[0.19901712 0.19909618 0.20002286 0.20123206 0.20063179]\n",
      "4\n"
     ]
    },
    {
     "data": {
      "application/javascript": [
       "\n",
       "            setTimeout(function() {\n",
       "                var nbb_cell_id = 33;\n",
       "                var nbb_unformatted_code = \"# Calculate a shifted softmax to guard against over and underflow errors\\n# https://stackoverflow.com/questions/42599498/numercially-stable-softmax\\nexps = np.exp(scores - np.max(scores))\\nchoice_p = exps / np.sum(exps)\\nprint(choice_p)\\n# Finally pick a product according to these choice probabilities\\nchoice_index = np.where(np.random.multinomial(1, choice_p))[0][0]\\nprint(choice_index)\";\n",
       "                var nbb_formatted_code = \"# Calculate a shifted softmax to guard against over and underflow errors\\n# https://stackoverflow.com/questions/42599498/numercially-stable-softmax\\nexps = np.exp(scores - np.max(scores))\\nchoice_p = exps / np.sum(exps)\\nprint(choice_p)\\n# Finally pick a product according to these choice probabilities\\nchoice_index = np.where(np.random.multinomial(1, choice_p))[0][0]\\nprint(choice_index)\";\n",
       "                var nbb_cells = Jupyter.notebook.get_cells();\n",
       "                for (var i = 0; i < nbb_cells.length; ++i) {\n",
       "                    if (nbb_cells[i].input_prompt_number == nbb_cell_id) {\n",
       "                        if (nbb_cells[i].get_text() == nbb_unformatted_code) {\n",
       "                             nbb_cells[i].set_text(nbb_formatted_code);\n",
       "                        }\n",
       "                        break;\n",
       "                    }\n",
       "                }\n",
       "            }, 500);\n",
       "            "
      ],
      "text/plain": [
       "<IPython.core.display.Javascript object>"
      ]
     },
     "metadata": {},
     "output_type": "display_data"
    }
   ],
   "source": [
    "# Calculate a shifted softmax to guard against over and underflow errors\n",
    "# https://stackoverflow.com/questions/42599498/numercially-stable-softmax\n",
    "exps = np.exp(scores - np.max(scores))\n",
    "choice_p = exps / np.sum(exps)\n",
    "print(choice_p)\n",
    "# Finally pick a product according to these choice probabilities\n",
    "choice_index = np.where(np.random.multinomial(1, choice_p))[0][0]\n",
    "print(choice_index)"
   ]
  },
  {
   "cell_type": "code",
   "execution_count": 34,
   "id": "b605c16e",
   "metadata": {},
   "outputs": [
    {
     "data": {
      "text/plain": [
       "1383"
      ]
     },
     "execution_count": 34,
     "metadata": {},
     "output_type": "execute_result"
    },
    {
     "data": {
      "application/javascript": [
       "\n",
       "            setTimeout(function() {\n",
       "                var nbb_cell_id = 34;\n",
       "                var nbb_unformatted_code = \"consideration_set[choice_index]\";\n",
       "                var nbb_formatted_code = \"consideration_set[choice_index]\";\n",
       "                var nbb_cells = Jupyter.notebook.get_cells();\n",
       "                for (var i = 0; i < nbb_cells.length; ++i) {\n",
       "                    if (nbb_cells[i].input_prompt_number == nbb_cell_id) {\n",
       "                        if (nbb_cells[i].get_text() == nbb_unformatted_code) {\n",
       "                             nbb_cells[i].set_text(nbb_formatted_code);\n",
       "                        }\n",
       "                        break;\n",
       "                    }\n",
       "                }\n",
       "            }, 500);\n",
       "            "
      ],
      "text/plain": [
       "<IPython.core.display.Javascript object>"
      ]
     },
     "metadata": {},
     "output_type": "display_data"
    }
   ],
   "source": [
    "consideration_set[choice_index]"
   ]
  },
  {
   "cell_type": "code",
   "execution_count": 38,
   "id": "5db7ae5a",
   "metadata": {},
   "outputs": [
    {
     "data": {
      "text/plain": [
       "496"
      ]
     },
     "execution_count": 38,
     "metadata": {},
     "output_type": "execute_result"
    },
    {
     "data": {
      "application/javascript": [
       "\n",
       "            setTimeout(function() {\n",
       "                var nbb_cell_id = 38;\n",
       "                var nbb_unformatted_code = \"chosen_product = simulator.multinomial_choice(\\n    consideration_set, cos_sim, simulated_reviews\\n)\\nchosen_product\";\n",
       "                var nbb_formatted_code = \"chosen_product = simulator.multinomial_choice(\\n    consideration_set, cos_sim, simulated_reviews\\n)\\nchosen_product\";\n",
       "                var nbb_cells = Jupyter.notebook.get_cells();\n",
       "                for (var i = 0; i < nbb_cells.length; ++i) {\n",
       "                    if (nbb_cells[i].input_prompt_number == nbb_cell_id) {\n",
       "                        if (nbb_cells[i].get_text() == nbb_unformatted_code) {\n",
       "                             nbb_cells[i].set_text(nbb_formatted_code);\n",
       "                        }\n",
       "                        break;\n",
       "                    }\n",
       "                }\n",
       "            }, 500);\n",
       "            "
      ],
      "text/plain": [
       "<IPython.core.display.Javascript object>"
      ]
     },
     "metadata": {},
     "output_type": "display_data"
    }
   ],
   "source": [
    "chosen_product = simulator.multinomial_choice(\n",
    "    consideration_set, cos_sim, simulated_reviews\n",
    ")\n",
    "chosen_product"
   ]
  },
  {
   "cell_type": "code",
   "execution_count": 39,
   "id": "a423d134",
   "metadata": {},
   "outputs": [
    {
     "data": {
      "application/javascript": [
       "\n",
       "            setTimeout(function() {\n",
       "                var nbb_cell_id = 39;\n",
       "                var nbb_unformatted_code = \"chosen_product = simulator.simulate_visitor_choice(product_embeddings, simulated_reviews)\";\n",
       "                var nbb_formatted_code = \"chosen_product = simulator.simulate_visitor_choice(\\n    product_embeddings, simulated_reviews\\n)\";\n",
       "                var nbb_cells = Jupyter.notebook.get_cells();\n",
       "                for (var i = 0; i < nbb_cells.length; ++i) {\n",
       "                    if (nbb_cells[i].input_prompt_number == nbb_cell_id) {\n",
       "                        if (nbb_cells[i].get_text() == nbb_unformatted_code) {\n",
       "                             nbb_cells[i].set_text(nbb_formatted_code);\n",
       "                        }\n",
       "                        break;\n",
       "                    }\n",
       "                }\n",
       "            }, 500);\n",
       "            "
      ],
      "text/plain": [
       "<IPython.core.display.Javascript object>"
      ]
     },
     "metadata": {},
     "output_type": "display_data"
    }
   ],
   "source": [
    "chosen_product = simulator.simulate_visitor_choice(\n",
    "    product_embeddings, simulated_reviews\n",
    ")"
   ]
  },
  {
   "cell_type": "code",
   "execution_count": 40,
   "id": "ed3d2599",
   "metadata": {},
   "outputs": [
    {
     "data": {
      "text/plain": [
       "625"
      ]
     },
     "execution_count": 40,
     "metadata": {},
     "output_type": "execute_result"
    },
    {
     "data": {
      "application/javascript": [
       "\n",
       "            setTimeout(function() {\n",
       "                var nbb_cell_id = 40;\n",
       "                var nbb_unformatted_code = \"chosen_product\";\n",
       "                var nbb_formatted_code = \"chosen_product\";\n",
       "                var nbb_cells = Jupyter.notebook.get_cells();\n",
       "                for (var i = 0; i < nbb_cells.length; ++i) {\n",
       "                    if (nbb_cells[i].input_prompt_number == nbb_cell_id) {\n",
       "                        if (nbb_cells[i].get_text() == nbb_unformatted_code) {\n",
       "                             nbb_cells[i].set_text(nbb_formatted_code);\n",
       "                        }\n",
       "                        break;\n",
       "                    }\n",
       "                }\n",
       "            }, 500);\n",
       "            "
      ],
      "text/plain": [
       "<IPython.core.display.Javascript object>"
      ]
     },
     "metadata": {},
     "output_type": "display_data"
    }
   ],
   "source": [
    "chosen_product"
   ]
  },
  {
   "cell_type": "code",
   "execution_count": 41,
   "id": "5a3807c0",
   "metadata": {},
   "outputs": [
    {
     "data": {
      "text/plain": [
       "625"
      ]
     },
     "execution_count": 41,
     "metadata": {},
     "output_type": "execute_result"
    },
    {
     "data": {
      "application/javascript": [
       "\n",
       "            setTimeout(function() {\n",
       "                var nbb_cell_id = 41;\n",
       "                var nbb_unformatted_code = \"simulation_id = (0 * simulator.num_products) + chosen_product\\nsimulation_id\";\n",
       "                var nbb_formatted_code = \"simulation_id = (0 * simulator.num_products) + chosen_product\\nsimulation_id\";\n",
       "                var nbb_cells = Jupyter.notebook.get_cells();\n",
       "                for (var i = 0; i < nbb_cells.length; ++i) {\n",
       "                    if (nbb_cells[i].input_prompt_number == nbb_cell_id) {\n",
       "                        if (nbb_cells[i].get_text() == nbb_unformatted_code) {\n",
       "                             nbb_cells[i].set_text(nbb_formatted_code);\n",
       "                        }\n",
       "                        break;\n",
       "                    }\n",
       "                }\n",
       "            }, 500);\n",
       "            "
      ],
      "text/plain": [
       "<IPython.core.display.Javascript object>"
      ]
     },
     "metadata": {},
     "output_type": "display_data"
    }
   ],
   "source": [
    "simulation_id = (0 * simulator.num_products) + chosen_product\n",
    "simulation_id"
   ]
  },
  {
   "cell_type": "code",
   "execution_count": 42,
   "id": "7bc40e61",
   "metadata": {},
   "outputs": [
    {
     "data": {
      "text/plain": [
       "array([1., 1., 1., 1., 1.])"
      ]
     },
     "execution_count": 42,
     "metadata": {},
     "output_type": "execute_result"
    },
    {
     "data": {
      "application/javascript": [
       "\n",
       "            setTimeout(function() {\n",
       "                var nbb_cell_id = 42;\n",
       "                var nbb_unformatted_code = \"simulated_reviews[chosen_product][-1]\";\n",
       "                var nbb_formatted_code = \"simulated_reviews[chosen_product][-1]\";\n",
       "                var nbb_cells = Jupyter.notebook.get_cells();\n",
       "                for (var i = 0; i < nbb_cells.length; ++i) {\n",
       "                    if (nbb_cells[i].input_prompt_number == nbb_cell_id) {\n",
       "                        if (nbb_cells[i].get_text() == nbb_unformatted_code) {\n",
       "                             nbb_cells[i].set_text(nbb_formatted_code);\n",
       "                        }\n",
       "                        break;\n",
       "                    }\n",
       "                }\n",
       "            }, 500);\n",
       "            "
      ],
      "text/plain": [
       "<IPython.core.display.Javascript object>"
      ]
     },
     "metadata": {},
     "output_type": "display_data"
    }
   ],
   "source": [
    "simulated_reviews[chosen_product][-1]"
   ]
  },
  {
   "cell_type": "code",
   "execution_count": 47,
   "id": "4c7bf0d0",
   "metadata": {},
   "outputs": [
    {
     "data": {
      "text/plain": [
       "0"
      ]
     },
     "execution_count": 47,
     "metadata": {},
     "output_type": "execute_result"
    },
    {
     "data": {
      "application/javascript": [
       "\n",
       "            setTimeout(function() {\n",
       "                var nbb_cell_id = 47;\n",
       "                var nbb_unformatted_code = \"rating_index = simulator.simulate_visitor_journey(\\n    simulated_reviews[chosen_product][-1], simulation_id, False\\n)\\nrating_index\";\n",
       "                var nbb_formatted_code = \"rating_index = simulator.simulate_visitor_journey(\\n    simulated_reviews[chosen_product][-1], simulation_id, False\\n)\\nrating_index\";\n",
       "                var nbb_cells = Jupyter.notebook.get_cells();\n",
       "                for (var i = 0; i < nbb_cells.length; ++i) {\n",
       "                    if (nbb_cells[i].input_prompt_number == nbb_cell_id) {\n",
       "                        if (nbb_cells[i].get_text() == nbb_unformatted_code) {\n",
       "                             nbb_cells[i].set_text(nbb_formatted_code);\n",
       "                        }\n",
       "                        break;\n",
       "                    }\n",
       "                }\n",
       "            }, 500);\n",
       "            "
      ],
      "text/plain": [
       "<IPython.core.display.Javascript object>"
      ]
     },
     "metadata": {},
     "output_type": "display_data"
    }
   ],
   "source": [
    "rating_index = simulator.simulate_visitor_journey(\n",
    "    simulated_reviews[chosen_product][-1], simulation_id, False\n",
    ")\n",
    "rating_index"
   ]
  },
  {
   "cell_type": "code",
   "execution_count": 15,
   "id": "ec422aed",
   "metadata": {},
   "outputs": [
    {
     "name": "stderr",
     "output_type": "stream",
     "text": [
      "../snpe/simulations/marketplace_simulator_class.py:138: VisibleDeprecationWarning: Creating an ndarray from ragged nested sequences (which is a list-or-tuple of lists-or-tuples-or ndarrays with different lengths or shapes) is deprecated. If you meant to do this, you must specify 'dtype=object' when creating the ndarray.\n",
      "  return np.array([np.array(timeseries) for timeseries in simulated_reviews])\n"
     ]
    },
    {
     "data": {
      "application/javascript": [
       "\n",
       "            setTimeout(function() {\n",
       "                var nbb_cell_id = 15;\n",
       "                var nbb_unformatted_code = \"a = simulator.simulate_marketplace(1)\";\n",
       "                var nbb_formatted_code = \"a = simulator.simulate_marketplace(1)\";\n",
       "                var nbb_cells = Jupyter.notebook.get_cells();\n",
       "                for (var i = 0; i < nbb_cells.length; ++i) {\n",
       "                    if (nbb_cells[i].input_prompt_number == nbb_cell_id) {\n",
       "                        if (nbb_cells[i].get_text() == nbb_unformatted_code) {\n",
       "                             nbb_cells[i].set_text(nbb_formatted_code);\n",
       "                        }\n",
       "                        break;\n",
       "                    }\n",
       "                }\n",
       "            }, 500);\n",
       "            "
      ],
      "text/plain": [
       "<IPython.core.display.Javascript object>"
      ]
     },
     "metadata": {},
     "output_type": "display_data"
    }
   ],
   "source": [
    "a = simulator.simulate_marketplace(1)"
   ]
  },
  {
   "cell_type": "code",
   "execution_count": 21,
   "id": "93d94e6c",
   "metadata": {},
   "outputs": [
    {
     "data": {
      "text/plain": [
       "(array([6., 3., 1., 2., 0., 1., 2., 2., 1., 2.]),\n",
       " array([  8. ,  31.1,  54.2,  77.3, 100.4, 123.5, 146.6, 169.7, 192.8,\n",
       "        215.9, 239. ]),\n",
       " <BarContainer object of 10 artists>)"
      ]
     },
     "execution_count": 21,
     "metadata": {},
     "output_type": "execute_result"
    },
    {
     "data": {
      "image/png": "[encoded data removed]",
      "text/plain": [
       "<Figure size 432x288 with 1 Axes>"
      ]
     },
     "metadata": {
      "needs_background": "light"
     },
     "output_type": "display_data"
    },
    {
     "data": {
      "application/javascript": [
       "\n",
       "            setTimeout(function() {\n",
       "                var nbb_cell_id = 21;\n",
       "                var nbb_unformatted_code = \"plt.hist([len(a[i]) for i in range(len(a))])\";\n",
       "                var nbb_formatted_code = \"plt.hist([len(a[i]) for i in range(len(a))])\";\n",
       "                var nbb_cells = Jupyter.notebook.get_cells();\n",
       "                for (var i = 0; i < nbb_cells.length; ++i) {\n",
       "                    if (nbb_cells[i].input_prompt_number == nbb_cell_id) {\n",
       "                        if (nbb_cells[i].get_text() == nbb_unformatted_code) {\n",
       "                             nbb_cells[i].set_text(nbb_formatted_code);\n",
       "                        }\n",
       "                        break;\n",
       "                    }\n",
       "                }\n",
       "            }, 500);\n",
       "            "
      ],
      "text/plain": [
       "<IPython.core.display.Javascript object>"
      ]
     },
     "metadata": {},
     "output_type": "display_data"
    }
   ],
   "source": [
    "plt.hist([len(a[i]) for i in range(len(a))])"
   ]
  },
  {
   "cell_type": "code",
   "execution_count": 22,
   "id": "f36cd9f4",
   "metadata": {},
   "outputs": [
    {
     "data": {
      "text/plain": [
       "[<matplotlib.lines.Line2D at 0x7f8f11450700>]"
      ]
     },
     "execution_count": 22,
     "metadata": {},
     "output_type": "execute_result"
    },
    {
     "data": {
      "image/png": "[encoded data removed]",
      "text/plain": [
       "<Figure size 432x288 with 1 Axes>"
      ]
     },
     "metadata": {
      "needs_background": "light"
     },
     "output_type": "display_data"
    },
    {
     "data": {
      "application/javascript": [
       "\n",
       "            setTimeout(function() {\n",
       "                var nbb_cell_id = 22;\n",
       "                var nbb_unformatted_code = \"plt.plot([len(a[i]) for i in range(len(a))])\";\n",
       "                var nbb_formatted_code = \"plt.plot([len(a[i]) for i in range(len(a))])\";\n",
       "                var nbb_cells = Jupyter.notebook.get_cells();\n",
       "                for (var i = 0; i < nbb_cells.length; ++i) {\n",
       "                    if (nbb_cells[i].input_prompt_number == nbb_cell_id) {\n",
       "                        if (nbb_cells[i].get_text() == nbb_unformatted_code) {\n",
       "                             nbb_cells[i].set_text(nbb_formatted_code);\n",
       "                        }\n",
       "                        break;\n",
       "                    }\n",
       "                }\n",
       "            }, 500);\n",
       "            "
      ],
      "text/plain": [
       "<IPython.core.display.Javascript object>"
      ]
     },
     "metadata": {},
     "output_type": "display_data"
    }
   ],
   "source": [
    "plt.plot([len(a[i]) for i in range(len(a))])"
   ]
  },
  {
   "cell_type": "code",
   "execution_count": 23,
   "id": "bcbfa315",
   "metadata": {},
   "outputs": [
    {
     "data": {
      "text/plain": [
       "2020"
      ]
     },
     "execution_count": 23,
     "metadata": {},
     "output_type": "execute_result"
    },
    {
     "data": {
      "application/javascript": [
       "\n",
       "            setTimeout(function() {\n",
       "                var nbb_cell_id = 23;\n",
       "                var nbb_unformatted_code = \"np.sum([len(a[i]) for i in range(len(a))])\";\n",
       "                var nbb_formatted_code = \"np.sum([len(a[i]) for i in range(len(a))])\";\n",
       "                var nbb_cells = Jupyter.notebook.get_cells();\n",
       "                for (var i = 0; i < nbb_cells.length; ++i) {\n",
       "                    if (nbb_cells[i].input_prompt_number == nbb_cell_id) {\n",
       "                        if (nbb_cells[i].get_text() == nbb_unformatted_code) {\n",
       "                             nbb_cells[i].set_text(nbb_formatted_code);\n",
       "                        }\n",
       "                        break;\n",
       "                    }\n",
       "                }\n",
       "            }, 500);\n",
       "            "
      ],
      "text/plain": [
       "<IPython.core.display.Javascript object>"
      ]
     },
     "metadata": {},
     "output_type": "display_data"
    }
   ],
   "source": [
    "np.sum([len(a[i]) for i in range(len(a))])"
   ]
  },
  {
   "cell_type": "code",
   "execution_count": null,
   "id": "78889d14",
   "metadata": {},
   "outputs": [],
   "source": []
  }
 ],
 "metadata": {
  "kernelspec": {
   "display_name": "Python 3 (ipykernel)",
   "language": "python",
   "name": "python3"
  },
  "language_info": {
   "codemirror_mode": {
    "name": "ipython",
    "version": 3
   },
   "file_extension": ".py",
   "mimetype": "text/x-python",
   "name": "python",
   "nbconvert_exporter": "python",
   "pygments_lexer": "ipython3",
   "version": "3.9.12"
  }
 },
 "nbformat": 4,
 "nbformat_minor": 5
}
