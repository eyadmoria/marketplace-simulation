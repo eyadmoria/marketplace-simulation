{
 "cells": [
  {
   "cell_type": "raw",
   "id": "51d00e1a",
   "metadata": {},
   "source": []
  },
  {
   "cell_type": "markdown",
   "id": "96879790",
   "metadata": {},
   "source": [
    "# This notebook is for use on cloud services where interactive use of matplotlib is hard. A script similar to this notebook is in in: snpe/marketplace_simulator_analysis.py"
   ]
  },
  {
   "cell_type": "code",
   "execution_count": 1,
   "id": "d2095d65",
   "metadata": {},
   "outputs": [],
   "source": [
    "%load_ext autoreload\n",
    "%autoreload 2"
   ]
  },
  {
   "cell_type": "code",
   "execution_count": 2,
   "id": "14912a32",
   "metadata": {},
   "outputs": [
    {
     "data": {
      "application/javascript": [
       "\n",
       "            setTimeout(function() {\n",
       "                var nbb_cell_id = 2;\n",
       "                var nbb_unformatted_code = \"# Just a formatting related plugin\\n%load_ext nb_black\";\n",
       "                var nbb_formatted_code = \"# Just a formatting related plugin\\n%load_ext nb_black\";\n",
       "                var nbb_cells = Jupyter.notebook.get_cells();\n",
       "                for (var i = 0; i < nbb_cells.length; ++i) {\n",
       "                    if (nbb_cells[i].input_prompt_number == nbb_cell_id) {\n",
       "                        if (nbb_cells[i].get_text() == nbb_unformatted_code) {\n",
       "                             nbb_cells[i].set_text(nbb_formatted_code);\n",
       "                        }\n",
       "                        break;\n",
       "                    }\n",
       "                }\n",
       "            }, 500);\n",
       "            "
      ],
      "text/plain": [
       "<IPython.core.display.Javascript object>"
      ]
     },
     "metadata": {},
     "output_type": "display_data"
    }
   ],
   "source": [
    "# Just a formatting related plugin\n",
    "%load_ext nb_black"
   ]
  },
  {
   "cell_type": "code",
   "execution_count": 3,
   "id": "93ff67e7",
   "metadata": {},
   "outputs": [
    {
     "data": {
      "application/javascript": [
       "\n",
       "            setTimeout(function() {\n",
       "                var nbb_cell_id = 3;\n",
       "                var nbb_unformatted_code = \"%matplotlib inline\\nimport matplotlib.pyplot as plt\";\n",
       "                var nbb_formatted_code = \"%matplotlib inline\\nimport matplotlib.pyplot as plt\";\n",
       "                var nbb_cells = Jupyter.notebook.get_cells();\n",
       "                for (var i = 0; i < nbb_cells.length; ++i) {\n",
       "                    if (nbb_cells[i].input_prompt_number == nbb_cell_id) {\n",
       "                        if (nbb_cells[i].get_text() == nbb_unformatted_code) {\n",
       "                             nbb_cells[i].set_text(nbb_formatted_code);\n",
       "                        }\n",
       "                        break;\n",
       "                    }\n",
       "                }\n",
       "            }, 500);\n",
       "            "
      ],
      "text/plain": [
       "<IPython.core.display.Javascript object>"
      ]
     },
     "metadata": {},
     "output_type": "display_data"
    }
   ],
   "source": [
    "%matplotlib inline\n",
    "import matplotlib.pyplot as plt"
   ]
  },
  {
   "cell_type": "code",
   "execution_count": 4,
   "id": "6c45ecfb",
   "metadata": {},
   "outputs": [
    {
     "data": {
      "application/javascript": [
       "\n",
       "            setTimeout(function() {\n",
       "                var nbb_cell_id = 4;\n",
       "                var nbb_unformatted_code = \"import sys\\n\\nsys.path.append(\\\"../\\\")\";\n",
       "                var nbb_formatted_code = \"import sys\\n\\nsys.path.append(\\\"../\\\")\";\n",
       "                var nbb_cells = Jupyter.notebook.get_cells();\n",
       "                for (var i = 0; i < nbb_cells.length; ++i) {\n",
       "                    if (nbb_cells[i].input_prompt_number == nbb_cell_id) {\n",
       "                        if (nbb_cells[i].get_text() == nbb_unformatted_code) {\n",
       "                             nbb_cells[i].set_text(nbb_formatted_code);\n",
       "                        }\n",
       "                        break;\n",
       "                    }\n",
       "                }\n",
       "            }, 500);\n",
       "            "
      ],
      "text/plain": [
       "<IPython.core.display.Javascript object>"
      ]
     },
     "metadata": {},
     "output_type": "display_data"
    }
   ],
   "source": [
    "import sys\n",
    "\n",
    "sys.path.append(\"../\")"
   ]
  },
  {
   "cell_type": "code",
   "execution_count": 5,
   "id": "6a5b57e5",
   "metadata": {},
   "outputs": [
    {
     "name": "stderr",
     "output_type": "stream",
     "text": [
      "/opt/conda/lib/python3.7/site-packages/tqdm/auto.py:22: TqdmWarning: IProgress not found. Please update jupyter and ipywidgets. See https://ipywidgets.readthedocs.io/en/stable/user_install.html\n",
      "  from .autonotebook import tqdm as notebook_tqdm\n"
     ]
    },
    {
     "data": {
      "application/javascript": [
       "\n",
       "            setTimeout(function() {\n",
       "                var nbb_cell_id = 5;\n",
       "                var nbb_unformatted_code = \"import multiprocessing as mp\\n\\nfrom collections import deque\\nfrom pathlib import Path\\nfrom typing import Dict, Optional\\n\\nimport arviz\\nimport pickle\\n\\nimport numpy as np\\nimport pandas as pd\\nimport pyreadr\\nimport sbi\\nimport sbi.utils as sbi_utils\\nimport seaborn as sns\\nimport statsmodels.formula.api as smf\\nimport torch\\n\\nfrom joblib import Parallel, delayed\\nfrom matplotlib.lines import Line2D\\nfrom scipy.stats import ttest_ind\\nfrom snpe.inference import inference_class\\nfrom snpe.simulations import simulator_class, marketplace_simulator_class\\nfrom snpe.embeddings.embeddings_to_ratings import EmbeddingRatingPredictor\\nfrom snpe.utils.statistics import review_histogram_correlation\\nfrom snpe.utils.tqdm_utils import tqdm_joblib\\nfrom tqdm import tqdm\\n\\n# Set plotting parameters\\nsns.set(style=\\\"white\\\", context=\\\"talk\\\", font_scale=2.5)\\nsns.set_color_codes(palette=\\\"colorblind\\\")\\nsns.set_style(\\\"ticks\\\", {\\\"axes.linewidth\\\": 2.0})\";\n",
       "                var nbb_formatted_code = \"import multiprocessing as mp\\n\\nfrom collections import deque\\nfrom pathlib import Path\\nfrom typing import Dict, Optional\\n\\nimport arviz\\nimport pickle\\n\\nimport numpy as np\\nimport pandas as pd\\nimport pyreadr\\nimport sbi\\nimport sbi.utils as sbi_utils\\nimport seaborn as sns\\nimport statsmodels.formula.api as smf\\nimport torch\\n\\nfrom joblib import Parallel, delayed\\nfrom matplotlib.lines import Line2D\\nfrom scipy.stats import ttest_ind\\nfrom snpe.inference import inference_class\\nfrom snpe.simulations import simulator_class, marketplace_simulator_class\\nfrom snpe.embeddings.embeddings_to_ratings import EmbeddingRatingPredictor\\nfrom snpe.utils.statistics import review_histogram_correlation\\nfrom snpe.utils.tqdm_utils import tqdm_joblib\\nfrom tqdm import tqdm\\n\\n# Set plotting parameters\\nsns.set(style=\\\"white\\\", context=\\\"talk\\\", font_scale=2.5)\\nsns.set_color_codes(palette=\\\"colorblind\\\")\\nsns.set_style(\\\"ticks\\\", {\\\"axes.linewidth\\\": 2.0})\";\n",
       "                var nbb_cells = Jupyter.notebook.get_cells();\n",
       "                for (var i = 0; i < nbb_cells.length; ++i) {\n",
       "                    if (nbb_cells[i].input_prompt_number == nbb_cell_id) {\n",
       "                        if (nbb_cells[i].get_text() == nbb_unformatted_code) {\n",
       "                             nbb_cells[i].set_text(nbb_formatted_code);\n",
       "                        }\n",
       "                        break;\n",
       "                    }\n",
       "                }\n",
       "            }, 500);\n",
       "            "
      ],
      "text/plain": [
       "<IPython.core.display.Javascript object>"
      ]
     },
     "metadata": {},
     "output_type": "display_data"
    }
   ],
   "source": [
    "import multiprocessing as mp\n",
    "\n",
    "from collections import deque\n",
    "from pathlib import Path\n",
    "from typing import Dict, Optional\n",
    "\n",
    "import arviz\n",
    "import pickle\n",
    "\n",
    "import numpy as np\n",
    "import pandas as pd\n",
    "import pyreadr\n",
    "import sbi\n",
    "import sbi.utils as sbi_utils\n",
    "import seaborn as sns\n",
    "import statsmodels.formula.api as smf\n",
    "import torch\n",
    "\n",
    "from joblib import Parallel, delayed\n",
    "from matplotlib.lines import Line2D\n",
    "from scipy.stats import ttest_ind\n",
    "from snpe.inference import inference_class\n",
    "from snpe.simulations import simulator_class, marketplace_simulator_class\n",
    "from snpe.embeddings.embeddings_to_ratings import EmbeddingRatingPredictor\n",
    "from snpe.utils.statistics import review_histogram_correlation\n",
    "from snpe.utils.tqdm_utils import tqdm_joblib\n",
    "from tqdm import tqdm\n",
    "\n",
    "# Set plotting parameters\n",
    "sns.set(style=\"white\", context=\"talk\", font_scale=2.5)\n",
    "sns.set_color_codes(palette=\"colorblind\")\n",
    "sns.set_style(\"ticks\", {\"axes.linewidth\": 2.0})"
   ]
  },
  {
   "cell_type": "code",
   "execution_count": 39,
   "id": "cd004dff",
   "metadata": {},
   "outputs": [
    {
     "data": {
      "application/javascript": [
       "\n",
       "            setTimeout(function() {\n",
       "                var nbb_cell_id = 39;\n",
       "                var nbb_unformatted_code = \"ARTIFACT_PATH = Path(\\\"../../../gcs_mount/artifacts/rating_spacing_simulator\\\")\\n# ARTIFACT_PATH = Path(\\\"/data/reputation-systems/snpe/artifacts/rating_spacing_simulator\\\")\";\n",
       "                var nbb_formatted_code = \"ARTIFACT_PATH = Path(\\\"../../../gcs_mount/artifacts/rating_spacing_simulator\\\")\\n# ARTIFACT_PATH = Path(\\\"/data/reputation-systems/snpe/artifacts/rating_spacing_simulator\\\")\";\n",
       "                var nbb_cells = Jupyter.notebook.get_cells();\n",
       "                for (var i = 0; i < nbb_cells.length; ++i) {\n",
       "                    if (nbb_cells[i].input_prompt_number == nbb_cell_id) {\n",
       "                        if (nbb_cells[i].get_text() == nbb_unformatted_code) {\n",
       "                             nbb_cells[i].set_text(nbb_formatted_code);\n",
       "                        }\n",
       "                        break;\n",
       "                    }\n",
       "                }\n",
       "            }, 500);\n",
       "            "
      ],
      "text/plain": [
       "<IPython.core.display.Javascript object>"
      ]
     },
     "metadata": {},
     "output_type": "display_data"
    }
   ],
   "source": [
    "ARTIFACT_PATH = Path(\"../../../gcs_mount/artifacts/rating_spacing_simulator\")\n",
    "# ARTIFACT_PATH = Path(\"/data/reputation-systems/snpe/artifacts/rating_spacing_simulator\")"
   ]
  },
  {
   "cell_type": "markdown",
   "id": "9573d550",
   "metadata": {},
   "source": [
    "# Functions"
   ]
  },
  {
   "cell_type": "code",
   "execution_count": 7,
   "id": "28e1af35",
   "metadata": {},
   "outputs": [
    {
     "data": {
      "application/javascript": [
       "\n",
       "            setTimeout(function() {\n",
       "                var nbb_cell_id = 7;\n",
       "                var nbb_unformatted_code = \"def generate_and_save_simulations(\\n    num_simulations: int,\\n    review_prior: np.array,\\n    tendency_to_rate: float,\\n    simulation_type: str,\\n    previous_rating_measure: str,\\n    min_reviews_for_herding: int,\\n    herding_differentiating_measure: str,\\n) -> None:\\n    params = {\\n        \\\"review_prior\\\": review_prior,\\n        \\\"tendency_to_rate\\\": tendency_to_rate,\\n        \\\"simulation_type\\\": simulation_type,\\n        \\\"previous_rating_measure\\\": previous_rating_measure,\\n        \\\"min_reviews_for_herding\\\": min_reviews_for_herding,\\n        \\\"herding_differentiating_measure\\\": herding_differentiating_measure,\\n    }\\n    simulator = simulator_class.DoubleHerdingSimulator(params)\\n    simulator.simulate(num_simulations=num_simulations)\\n    simulator.save_simulations(ARTIFACT_PATH)\";\n",
       "                var nbb_formatted_code = \"def generate_and_save_simulations(\\n    num_simulations: int,\\n    review_prior: np.array,\\n    tendency_to_rate: float,\\n    simulation_type: str,\\n    previous_rating_measure: str,\\n    min_reviews_for_herding: int,\\n    herding_differentiating_measure: str,\\n) -> None:\\n    params = {\\n        \\\"review_prior\\\": review_prior,\\n        \\\"tendency_to_rate\\\": tendency_to_rate,\\n        \\\"simulation_type\\\": simulation_type,\\n        \\\"previous_rating_measure\\\": previous_rating_measure,\\n        \\\"min_reviews_for_herding\\\": min_reviews_for_herding,\\n        \\\"herding_differentiating_measure\\\": herding_differentiating_measure,\\n    }\\n    simulator = simulator_class.DoubleHerdingSimulator(params)\\n    simulator.simulate(num_simulations=num_simulations)\\n    simulator.save_simulations(ARTIFACT_PATH)\";\n",
       "                var nbb_cells = Jupyter.notebook.get_cells();\n",
       "                for (var i = 0; i < nbb_cells.length; ++i) {\n",
       "                    if (nbb_cells[i].input_prompt_number == nbb_cell_id) {\n",
       "                        if (nbb_cells[i].get_text() == nbb_unformatted_code) {\n",
       "                             nbb_cells[i].set_text(nbb_formatted_code);\n",
       "                        }\n",
       "                        break;\n",
       "                    }\n",
       "                }\n",
       "            }, 500);\n",
       "            "
      ],
      "text/plain": [
       "<IPython.core.display.Javascript object>"
      ]
     },
     "metadata": {},
     "output_type": "display_data"
    }
   ],
   "source": [
    "def generate_and_save_simulations(\n",
    "    num_simulations: int,\n",
    "    review_prior: np.ndarray,\n",
    "    tendency_to_rate: float,\n",
    "    simulation_type: str,\n",
    "    previous_rating_measure: str,\n",
    "    min_reviews_for_herding: int,\n",
    "    herding_differentiating_measure: str,\n",
    ") -> None:\n",
    "    params = {\n",
    "        \"review_prior\": review_prior,\n",
    "        \"tendency_to_rate\": tendency_to_rate,\n",
    "        \"simulation_type\": simulation_type,\n",
    "        \"previous_rating_measure\": previous_rating_measure,\n",
    "        \"min_reviews_for_herding\": min_reviews_for_herding,\n",
    "        \"herding_differentiating_measure\": herding_differentiating_measure,\n",
    "    }\n",
    "    simulator = simulator_class.DoubleHerdingSimulator(params)\n",
    "    simulator.simulate(num_simulations=num_simulations)\n",
    "    simulator.save_simulations(ARTIFACT_PATH)"
   ]
  },
  {
   "cell_type": "code",
   "execution_count": 8,
   "id": "36374aba",
   "metadata": {},
   "outputs": [
    {
     "data": {
      "application/javascript": [
       "\n",
       "            setTimeout(function() {\n",
       "                var nbb_cell_id = 8;\n",
       "                var nbb_unformatted_code = \"def infer_and_save_posterior(\\n    device: str, simulator_type: str, simulation_type: str, params: Dict\\n) -> None:\\n    parameter_prior = sbi_utils.BoxUniform(\\n        low=torch.tensor([0.0, 0.0, 0.0]).type(torch.FloatTensor),\\n        high=torch.tensor([4.0, 4.0, 1.0]).type(torch.FloatTensor),\\n        device=device,\\n    )\\n    inferrer = inference_class.TimeSeriesInference(\\n        parameter_prior=parameter_prior, device=device\\n    )\\n    inferrer.load_simulator(\\n        dirname=ARTIFACT_PATH,\\n        simulator_type=simulator_type,\\n        simulation_type=simulation_type,\\n    )\\n    batch_size = params.pop(\\\"batch_size\\\")\\n    learning_rate = params.pop(\\\"learning_rate\\\")\\n    hidden_features = params.pop(\\\"hidden_features\\\")\\n    num_transforms = params.pop(\\\"num_transforms\\\")\\n    inferrer.infer_snpe_posterior(\\n        embedding_net_conf=params,\\n        batch_size=batch_size,\\n        learning_rate=learning_rate,\\n        hidden_features=hidden_features,\\n        num_transforms=num_transforms,\\n    )\\n    inferrer.save_inference(ARTIFACT_PATH)\";\n",
       "                var nbb_formatted_code = \"def infer_and_save_posterior(\\n    device: str, simulator_type: str, simulation_type: str, params: Dict\\n) -> None:\\n    parameter_prior = sbi_utils.BoxUniform(\\n        low=torch.tensor([0.0, 0.0, 0.0]).type(torch.FloatTensor),\\n        high=torch.tensor([4.0, 4.0, 1.0]).type(torch.FloatTensor),\\n        device=device,\\n    )\\n    inferrer = inference_class.TimeSeriesInference(\\n        parameter_prior=parameter_prior, device=device\\n    )\\n    inferrer.load_simulator(\\n        dirname=ARTIFACT_PATH,\\n        simulator_type=simulator_type,\\n        simulation_type=simulation_type,\\n    )\\n    batch_size = params.pop(\\\"batch_size\\\")\\n    learning_rate = params.pop(\\\"learning_rate\\\")\\n    hidden_features = params.pop(\\\"hidden_features\\\")\\n    num_transforms = params.pop(\\\"num_transforms\\\")\\n    inferrer.infer_snpe_posterior(\\n        embedding_net_conf=params,\\n        batch_size=batch_size,\\n        learning_rate=learning_rate,\\n        hidden_features=hidden_features,\\n        num_transforms=num_transforms,\\n    )\\n    inferrer.save_inference(ARTIFACT_PATH)\";\n",
       "                var nbb_cells = Jupyter.notebook.get_cells();\n",
       "                for (var i = 0; i < nbb_cells.length; ++i) {\n",
       "                    if (nbb_cells[i].input_prompt_number == nbb_cell_id) {\n",
       "                        if (nbb_cells[i].get_text() == nbb_unformatted_code) {\n",
       "                             nbb_cells[i].set_text(nbb_formatted_code);\n",
       "                        }\n",
       "                        break;\n",
       "                    }\n",
       "                }\n",
       "            }, 500);\n",
       "            "
      ],
      "text/plain": [
       "<IPython.core.display.Javascript object>"
      ]
     },
     "metadata": {},
     "output_type": "display_data"
    }
   ],
   "source": [
    "def infer_and_save_posterior(\n",
    "    device: str, simulator_type: str, simulation_type: str, params: Dict\n",
    ") -> None:\n",
    "    parameter_prior = sbi_utils.BoxUniform(\n",
    "        low=torch.tensor([0.0, 0.0, 0.0]).type(torch.FloatTensor),\n",
    "        high=torch.tensor([4.0, 4.0, 1.0]).type(torch.FloatTensor),\n",
    "        device=device,\n",
    "    )\n",
    "    inferrer = inference_class.TimeSeriesInference(\n",
    "        parameter_prior=parameter_prior, device=device\n",
    "    )\n",
    "    inferrer.load_simulator(\n",
    "        dirname=ARTIFACT_PATH,\n",
    "        simulator_type=simulator_type,\n",
    "        simulation_type=simulation_type,\n",
    "    )\n",
    "    batch_size = params.pop(\"batch_size\")\n",
    "    learning_rate = params.pop(\"learning_rate\")\n",
    "    hidden_features = params.pop(\"hidden_features\")\n",
    "    num_transforms = params.pop(\"num_transforms\")\n",
    "    inferrer.infer_snpe_posterior(\n",
    "        embedding_net_conf=params,\n",
    "        batch_size=batch_size,\n",
    "        learning_rate=learning_rate,\n",
    "        hidden_features=hidden_features,\n",
    "        num_transforms=num_transforms,\n",
    "    )\n",
    "    inferrer.save_inference(ARTIFACT_PATH)"
   ]
  },
  {
   "cell_type": "code",
   "execution_count": 7,
   "id": "528a78b2",
   "metadata": {},
   "outputs": [
    {
     "data": {
      "application/javascript": [
       "\n",
       "            setTimeout(function() {\n",
       "                var nbb_cell_id = 7;\n",
       "                var nbb_unformatted_code = \"def sample_posterior_with_observed(\\n    device: str,\\n    observations: np.array,\\n    num_samples: int,\\n    simulator_type: str,\\n    simulation_type: str,\\n) -> np.ndarray:\\n    # The parameter prior doesn't matter here as it will be overridden by that of the loaded inference object\\n    parameter_prior = sbi.utils.BoxUniform(\\n        low=torch.tensor([0.0, 0.0, 0.0]).type(torch.FloatTensor),\\n        high=torch.tensor([4.0, 4.0, 1.0]).type(torch.FloatTensor),\\n        device=device,\\n    )\\n    inferrer = inference_class.TimeSeriesInference(\\n        parameter_prior=parameter_prior, device=device\\n    )\\n    inferrer.load_simulator(\\n        dirname=ARTIFACT_PATH,\\n        simulator_type=simulator_type,\\n        simulation_type=simulation_type,\\n    )\\n    inferrer.load_inference(dirname=ARTIFACT_PATH)\\n    posterior_samples = inferrer.get_posterior_samples(\\n        observations, num_samples=num_samples\\n    )\\n    return posterior_samples\";\n",
       "                var nbb_formatted_code = \"def sample_posterior_with_observed(\\n    device: str,\\n    observations: np.array,\\n    num_samples: int,\\n    simulator_type: str,\\n    simulation_type: str,\\n) -> np.ndarray:\\n    # The parameter prior doesn't matter here as it will be overridden by that of the loaded inference object\\n    parameter_prior = sbi.utils.BoxUniform(\\n        low=torch.tensor([0.0, 0.0, 0.0]).type(torch.FloatTensor),\\n        high=torch.tensor([4.0, 4.0, 1.0]).type(torch.FloatTensor),\\n        device=device,\\n    )\\n    inferrer = inference_class.TimeSeriesInference(\\n        parameter_prior=parameter_prior, device=device\\n    )\\n    inferrer.load_simulator(\\n        dirname=ARTIFACT_PATH,\\n        simulator_type=simulator_type,\\n        simulation_type=simulation_type,\\n    )\\n    inferrer.load_inference(dirname=ARTIFACT_PATH)\\n    posterior_samples = inferrer.get_posterior_samples(\\n        observations, num_samples=num_samples\\n    )\\n    return posterior_samples\";\n",
       "                var nbb_cells = Jupyter.notebook.get_cells();\n",
       "                for (var i = 0; i < nbb_cells.length; ++i) {\n",
       "                    if (nbb_cells[i].input_prompt_number == nbb_cell_id) {\n",
       "                        if (nbb_cells[i].get_text() == nbb_unformatted_code) {\n",
       "                             nbb_cells[i].set_text(nbb_formatted_code);\n",
       "                        }\n",
       "                        break;\n",
       "                    }\n",
       "                }\n",
       "            }, 500);\n",
       "            "
      ],
      "text/plain": [
       "<IPython.core.display.Javascript object>"
      ]
     },
     "metadata": {},
     "output_type": "display_data"
    }
   ],
   "source": [
    "def sample_posterior_with_observed(\n",
    "    device: str,\n",
    "    observations: np.array,\n",
    "    num_samples: int,\n",
    "    simulator_type: str,\n",
    "    simulation_type: str,\n",
    ") -> np.ndarray:\n",
    "    # The parameter prior doesn't matter here as it will be overridden by that of the loaded inference object\n",
    "    parameter_prior = sbi.utils.BoxUniform(\n",
    "        low=torch.tensor([0.0, 0.0, 0.0]).type(torch.FloatTensor),\n",
    "        high=torch.tensor([4.0, 4.0, 1.0]).type(torch.FloatTensor),\n",
    "        device=device,\n",
    "    )\n",
    "    inferrer = inference_class.TimeSeriesInference(\n",
    "        parameter_prior=parameter_prior, device=device\n",
    "    )\n",
    "    inferrer.load_simulator(\n",
    "        dirname=ARTIFACT_PATH,\n",
    "        simulator_type=simulator_type,\n",
    "        simulation_type=simulation_type,\n",
    "    )\n",
    "    inferrer.load_inference(dirname=ARTIFACT_PATH)\n",
    "    posterior_samples = inferrer.get_posterior_samples(\n",
    "        observations, num_samples=num_samples\n",
    "    )\n",
    "    return posterior_samples"
   ]
  },
  {
   "cell_type": "code",
   "execution_count": 8,
   "id": "9b01fbd2",
   "metadata": {},
   "outputs": [
    {
     "data": {
      "application/javascript": [
       "\n",
       "            setTimeout(function() {\n",
       "                var nbb_cell_id = 8;\n",
       "                var nbb_unformatted_code = \"def plot_mean_posteriors_for_products(posterior_samples: np.ndarray) -> None:\\n    fig, ax = plt.subplots(1, 2, squeeze=False)\\n    ax[0, 0].hist(\\n        np.mean(posterior_samples[:, :, 0], axis=0),\\n        color=sns.xkcd_rgb[\\\"cerulean\\\"],\\n        alpha=0.5,\\n        bins=10,\\n        label=r\\\"$\\\\rho_{-}$\\\",\\n    )\\n    ax[0, 0].hist(\\n        np.mean(posterior_samples[:, :, 1], axis=0),\\n        color=sns.xkcd_rgb[\\\"dark orange\\\"],\\n        alpha=0.5,\\n        bins=10,\\n        label=r\\\"$\\\\rho_{+}$\\\",\\n    )\\n    ax[0, 1].hist(\\n        np.mean(posterior_samples[:, :, 2], axis=0),\\n        color=sns.xkcd_rgb[\\\"black\\\"],\\n        alpha=0.5,\\n        bins=10,\\n        label=r\\\"$h_p$\\\",\\n    )\\n    ax[0, 0].legend(fontsize=20)\\n    ax[0, 1].legend(fontsize=20)\\n    ax[0, 0].set_xticks([0, 1, 2, 3, 4])\\n    ax[0, 1].set_xticks([0, 0.5, 1])\\n    ax[0, 0].tick_params(axis=\\\"both\\\", labelsize=23)\\n    ax[0, 1].tick_params(axis=\\\"both\\\", labelsize=23)\\n    # add a big axis, hide frame\\n    fig.add_subplot(111, frameon=False)\\n    # hide tick and tick label of the big axis\\n    plt.tick_params(labelcolor=\\\"none\\\", top=False, bottom=False, left=False, right=False)\\n    # plt.xlabel(r\\\"$\\\\rho_{-}, \\\\rho_{+}$\\\")\\n    plt.ylabel(\\n        f\\\"Number of products (Total = {posterior_samples.shape[1]})\\\", fontsize=28\\n    )\\n    fig.savefig(ARTIFACT_PATH / \\\"mean_posteriors.png\\\", bbox_inches=\\\"tight\\\")\";\n",
       "                var nbb_formatted_code = \"def plot_mean_posteriors_for_products(posterior_samples: np.ndarray) -> None:\\n    fig, ax = plt.subplots(1, 2, squeeze=False)\\n    ax[0, 0].hist(\\n        np.mean(posterior_samples[:, :, 0], axis=0),\\n        color=sns.xkcd_rgb[\\\"cerulean\\\"],\\n        alpha=0.5,\\n        bins=10,\\n        label=r\\\"$\\\\rho_{-}$\\\",\\n    )\\n    ax[0, 0].hist(\\n        np.mean(posterior_samples[:, :, 1], axis=0),\\n        color=sns.xkcd_rgb[\\\"dark orange\\\"],\\n        alpha=0.5,\\n        bins=10,\\n        label=r\\\"$\\\\rho_{+}$\\\",\\n    )\\n    ax[0, 1].hist(\\n        np.mean(posterior_samples[:, :, 2], axis=0),\\n        color=sns.xkcd_rgb[\\\"black\\\"],\\n        alpha=0.5,\\n        bins=10,\\n        label=r\\\"$h_p$\\\",\\n    )\\n    ax[0, 0].legend(fontsize=20)\\n    ax[0, 1].legend(fontsize=20)\\n    ax[0, 0].set_xticks([0, 1, 2, 3, 4])\\n    ax[0, 1].set_xticks([0, 0.5, 1])\\n    ax[0, 0].tick_params(axis=\\\"both\\\", labelsize=23)\\n    ax[0, 1].tick_params(axis=\\\"both\\\", labelsize=23)\\n    # add a big axis, hide frame\\n    fig.add_subplot(111, frameon=False)\\n    # hide tick and tick label of the big axis\\n    plt.tick_params(labelcolor=\\\"none\\\", top=False, bottom=False, left=False, right=False)\\n    # plt.xlabel(r\\\"$\\\\rho_{-}, \\\\rho_{+}$\\\")\\n    plt.ylabel(\\n        f\\\"Number of products (Total = {posterior_samples.shape[1]})\\\", fontsize=28\\n    )\\n    fig.savefig(ARTIFACT_PATH / \\\"mean_posteriors.png\\\", bbox_inches=\\\"tight\\\")\";\n",
       "                var nbb_cells = Jupyter.notebook.get_cells();\n",
       "                for (var i = 0; i < nbb_cells.length; ++i) {\n",
       "                    if (nbb_cells[i].input_prompt_number == nbb_cell_id) {\n",
       "                        if (nbb_cells[i].get_text() == nbb_unformatted_code) {\n",
       "                             nbb_cells[i].set_text(nbb_formatted_code);\n",
       "                        }\n",
       "                        break;\n",
       "                    }\n",
       "                }\n",
       "            }, 500);\n",
       "            "
      ],
      "text/plain": [
       "<IPython.core.display.Javascript object>"
      ]
     },
     "metadata": {},
     "output_type": "display_data"
    }
   ],
   "source": [
    "def plot_mean_posteriors_for_products(posterior_samples: np.ndarray) -> None:\n",
    "    fig, ax = plt.subplots(1, 2, squeeze=False)\n",
    "    ax[0, 0].hist(\n",
    "        np.mean(posterior_samples[:, :, 0], axis=0),\n",
    "        color=sns.xkcd_rgb[\"cerulean\"],\n",
    "        alpha=0.5,\n",
    "        bins=10,\n",
    "        label=r\"$\\rho_{-}$\",\n",
    "    )\n",
    "    ax[0, 0].hist(\n",
    "        np.mean(posterior_samples[:, :, 1], axis=0),\n",
    "        color=sns.xkcd_rgb[\"dark orange\"],\n",
    "        alpha=0.5,\n",
    "        bins=10,\n",
    "        label=r\"$\\rho_{+}$\",\n",
    "    )\n",
    "    ax[0, 1].hist(\n",
    "        np.mean(posterior_samples[:, :, 2], axis=0),\n",
    "        color=sns.xkcd_rgb[\"black\"],\n",
    "        alpha=0.5,\n",
    "        bins=10,\n",
    "        label=r\"$h_p$\",\n",
    "    )\n",
    "    ax[0, 0].legend(fontsize=20)\n",
    "    ax[0, 1].legend(fontsize=20)\n",
    "    ax[0, 0].set_xticks([0, 1, 2, 3, 4])\n",
    "    ax[0, 1].set_xticks([0, 0.5, 1])\n",
    "    ax[0, 0].tick_params(axis=\"both\", labelsize=23)\n",
    "    ax[0, 1].tick_params(axis=\"both\", labelsize=23)\n",
    "    # add a big axis, hide frame\n",
    "    fig.add_subplot(111, frameon=False)\n",
    "    # hide tick and tick label of the big axis\n",
    "    plt.tick_params(labelcolor=\"none\", top=False, bottom=False, left=False, right=False)\n",
    "    # plt.xlabel(r\"$\\rho_{-}, \\rho_{+}$\")\n",
    "    plt.ylabel(\n",
    "        f\"Number of products (Total = {posterior_samples.shape[1]})\", fontsize=28\n",
    "    )\n",
    "    fig.savefig(ARTIFACT_PATH / \"mean_posteriors.png\", bbox_inches=\"tight\")"
   ]
  },
  {
   "cell_type": "code",
   "execution_count": 28,
   "id": "598b9a61",
   "metadata": {},
   "outputs": [
    {
     "data": {
      "application/javascript": [
       "\n",
       "            setTimeout(function() {\n",
       "                var nbb_cell_id = 28;\n",
       "                var nbb_unformatted_code = \"# In marketplace simulations, we cannot just supply a set of rho params, then simulate and infer on these simulations\\n# to test if the inference can recover the initially provided params\\n# So we instead sample from the posterior of a separate set of marketplace simulations not used in training and see\\n# if parameters are recovered on this new set\\ndef sample_posterior_on_simulations(\\n    device: str,\\n    num_samples: int,\\n    simulator_type: str,\\n    simulation_type: str,\\n    max_inference_length: int,\\n) -> np.ndarray:\\n    # We load the larger simulation (over 64 marketplaces) as the separate simulation for the inference to be tested on\\n    params = {\\n        \\\"review_prior\\\": np.ones(5),\\n        \\\"tendency_to_rate\\\": 0.05,\\n        \\\"simulation_type\\\": simulation_type,\\n        \\\"previous_rating_measure\\\": \\\"mode\\\",\\n        \\\"min_reviews_for_herding\\\": 5,\\n        \\\"num_products\\\": 1400,\\n        # \\\"num_products\\\": 100,\\n        \\\"num_total_marketplace_reviews\\\": 300_000,\\n        # \\\"num_total_marketplace_reviews\\\": 5_000,\\n        \\\"consideration_set_size\\\": 5,\\n    }\\n    simulator = marketplace_simulator_class.MarketplaceSimulator(params)\\n    simulator.load_simulator(ARTIFACT_PATH / \\\"large_simulation\\\")\\n    # We pick all simulations from a single marketplace as the observations on which we wish to obtain\\n    # posterior samples\\n    # These are the observations for the posterior sampling function defined above\\n    observations = simulator.simulations[0]\\n    # Also pick the simulation parameters corresponding to these simulations\\n    simulation_params = simulator.simulation_parameters.copy()\\n    simulation_params[\\\"rho\\\"] = simulation_params[\\\"rho\\\"][:len(observations), :]\\n    simulation_params[\\\"h_p\\\"] = simulation_params[\\\"h_p\\\"][:len(observations)]\\n    # Cut the observations to the max length seen during SNPE training\\n    observations = np.array(\\n        [obs[:max_inference_length, :] for obs in observations], dtype=\\\"object\\\"\\n    )\\n    posterior_samples = sample_posterior_with_observed(\\n        device, observations, num_samples, simulator_type, simulation_type\\n    )\\n    return posterior_samples, simulation_params\";\n",
       "                var nbb_formatted_code = \"# In marketplace simulations, we cannot just supply a set of rho params, then simulate and infer on these simulations\\n# to test if the inference can recover the initially provided params\\n# So we instead sample from the posterior of a separate set of marketplace simulations not used in training and see\\n# if parameters are recovered on this new set\\ndef sample_posterior_on_simulations(\\n    device: str,\\n    num_samples: int,\\n    simulator_type: str,\\n    simulation_type: str,\\n    max_inference_length: int,\\n) -> np.ndarray:\\n    # We load the larger simulation (over 64 marketplaces) as the separate simulation for the inference to be tested on\\n    params = {\\n        \\\"review_prior\\\": np.ones(5),\\n        \\\"tendency_to_rate\\\": 0.05,\\n        \\\"simulation_type\\\": simulation_type,\\n        \\\"previous_rating_measure\\\": \\\"mode\\\",\\n        \\\"min_reviews_for_herding\\\": 5,\\n        \\\"num_products\\\": 1400,\\n        # \\\"num_products\\\": 100,\\n        \\\"num_total_marketplace_reviews\\\": 300_000,\\n        # \\\"num_total_marketplace_reviews\\\": 5_000,\\n        \\\"consideration_set_size\\\": 5,\\n    }\\n    simulator = marketplace_simulator_class.MarketplaceSimulator(params)\\n    simulator.load_simulator(ARTIFACT_PATH / \\\"large_simulation\\\")\\n    # We pick all simulations from a single marketplace as the observations on which we wish to obtain\\n    # posterior samples\\n    # These are the observations for the posterior sampling function defined above\\n    observations = simulator.simulations[0]\\n    # Also pick the simulation parameters corresponding to these simulations\\n    simulation_params = simulator.simulation_parameters.copy()\\n    simulation_params[\\\"rho\\\"] = simulation_params[\\\"rho\\\"][: len(observations), :]\\n    simulation_params[\\\"h_p\\\"] = simulation_params[\\\"h_p\\\"][: len(observations)]\\n    # Cut the observations to the max length seen during SNPE training\\n    observations = np.array(\\n        [obs[:max_inference_length, :] for obs in observations], dtype=\\\"object\\\"\\n    )\\n    posterior_samples = sample_posterior_with_observed(\\n        device, observations, num_samples, simulator_type, simulation_type\\n    )\\n    return posterior_samples, simulation_params\";\n",
       "                var nbb_cells = Jupyter.notebook.get_cells();\n",
       "                for (var i = 0; i < nbb_cells.length; ++i) {\n",
       "                    if (nbb_cells[i].input_prompt_number == nbb_cell_id) {\n",
       "                        if (nbb_cells[i].get_text() == nbb_unformatted_code) {\n",
       "                             nbb_cells[i].set_text(nbb_formatted_code);\n",
       "                        }\n",
       "                        break;\n",
       "                    }\n",
       "                }\n",
       "            }, 500);\n",
       "            "
      ],
      "text/plain": [
       "<IPython.core.display.Javascript object>"
      ]
     },
     "metadata": {},
     "output_type": "display_data"
    }
   ],
   "source": [
    "# In marketplace simulations, we cannot just supply a set of rho params, then simulate and infer on these simulations\n",
    "# to test if the inference can recover the initially provided params\n",
    "# So we instead sample from the posterior of a separate set of marketplace simulations not used in training and see\n",
    "# if parameters are recovered on this new set\n",
    "def sample_posterior_on_simulations(\n",
    "    device: str,\n",
    "    num_samples: int,\n",
    "    simulator_type: str,\n",
    "    simulation_type: str,\n",
    "    max_inference_length: int,\n",
    ") -> np.ndarray:\n",
    "    # We load the larger simulation (over 64 marketplaces) as the separate simulation for the inference to be tested on\n",
    "    params = {\n",
    "        \"review_prior\": np.ones(5),\n",
    "        \"tendency_to_rate\": 0.05,\n",
    "        \"simulation_type\": simulation_type,\n",
    "        \"previous_rating_measure\": \"mode\",\n",
    "        \"min_reviews_for_herding\": 5,\n",
    "        \"num_products\": 1400,\n",
    "        # \"num_products\": 100,\n",
    "        \"num_total_marketplace_reviews\": 300_000,\n",
    "        # \"num_total_marketplace_reviews\": 5_000,\n",
    "        \"consideration_set_size\": 5,\n",
    "    }\n",
    "    simulator = marketplace_simulator_class.MarketplaceSimulator(params)\n",
    "    simulator.load_simulator(ARTIFACT_PATH / \"large_simulation\")\n",
    "    # We pick all simulations from a single marketplace as the observations on which we wish to obtain\n",
    "    # posterior samples\n",
    "    # These are the observations for the posterior sampling function defined above\n",
    "    observations = simulator.simulations[0]\n",
    "    # Also pick the simulation parameters corresponding to these simulations\n",
    "    simulation_params = simulator.simulation_parameters.copy()\n",
    "    simulation_params[\"rho\"] = simulation_params[\"rho\"][: len(observations), :]\n",
    "    simulation_params[\"h_p\"] = simulation_params[\"h_p\"][: len(observations)]\n",
    "    # Cut the observations to the max length seen during SNPE training\n",
    "    observations = np.array(\n",
    "        [obs[:max_inference_length, :] for obs in observations], dtype=\"object\"\n",
    "    )\n",
    "    posterior_samples = sample_posterior_with_observed(\n",
    "        device, observations, num_samples, simulator_type, simulation_type\n",
    "    )\n",
    "    return posterior_samples, simulation_params"
   ]
  },
  {
   "cell_type": "code",
   "execution_count": null,
   "id": "474c7807",
   "metadata": {},
   "outputs": [],
   "source": []
  },
  {
   "cell_type": "code",
   "execution_count": null,
   "id": "3842065e",
   "metadata": {},
   "outputs": [],
   "source": []
  },
  {
   "cell_type": "code",
   "execution_count": null,
   "id": "de7ed42d",
   "metadata": {},
   "outputs": [],
   "source": []
  },
  {
   "cell_type": "markdown",
   "id": "c7c94a14",
   "metadata": {},
   "source": [
    "# Actual code to run the functions above"
   ]
  },
  {
   "cell_type": "code",
   "execution_count": 9,
   "id": "59f5405e",
   "metadata": {},
   "outputs": [
    {
     "data": {
      "text/plain": [
       "16"
      ]
     },
     "execution_count": 9,
     "metadata": {},
     "output_type": "execute_result"
    },
    {
     "data": {
      "application/javascript": [
       "\n",
       "            setTimeout(function() {\n",
       "                var nbb_cell_id = 9;\n",
       "                var nbb_unformatted_code = \"torch.set_num_threads(mp.cpu_count())\\ntorch.get_num_threads()\";\n",
       "                var nbb_formatted_code = \"torch.set_num_threads(mp.cpu_count())\\ntorch.get_num_threads()\";\n",
       "                var nbb_cells = Jupyter.notebook.get_cells();\n",
       "                for (var i = 0; i < nbb_cells.length; ++i) {\n",
       "                    if (nbb_cells[i].input_prompt_number == nbb_cell_id) {\n",
       "                        if (nbb_cells[i].get_text() == nbb_unformatted_code) {\n",
       "                             nbb_cells[i].set_text(nbb_formatted_code);\n",
       "                        }\n",
       "                        break;\n",
       "                    }\n",
       "                }\n",
       "            }, 500);\n",
       "            "
      ],
      "text/plain": [
       "<IPython.core.display.Javascript object>"
      ]
     },
     "metadata": {},
     "output_type": "display_data"
    }
   ],
   "source": [
    "torch.set_num_threads(mp.cpu_count())\n",
    "torch.get_num_threads()"
   ]
  },
  {
   "cell_type": "code",
   "execution_count": 16,
   "id": "dd1108c8",
   "metadata": {},
   "outputs": [
    {
     "data": {
      "application/javascript": [
       "\n",
       "            setTimeout(function() {\n",
       "                var nbb_cell_id = 16;\n",
       "                var nbb_unformatted_code = \"inference_params = {\\n    \\\"batch_size\\\": 128,\\n    \\\"learning_rate\\\": 1.9e-4,\\n    \\\"hidden_features\\\": 35,\\n    \\\"num_transforms\\\": 5,\\n    \\\"num_conv_layers\\\": 2,\\n    \\\"num_channels\\\": 10,\\n    \\\"conv_kernel_size\\\": 5,\\n    \\\"maxpool_kernel_size\\\": 9,\\n    \\\"num_dense_layers\\\": 1,\\n}\";\n",
       "                var nbb_formatted_code = \"inference_params = {\\n    \\\"batch_size\\\": 128,\\n    \\\"learning_rate\\\": 1.9e-4,\\n    \\\"hidden_features\\\": 35,\\n    \\\"num_transforms\\\": 5,\\n    \\\"num_conv_layers\\\": 2,\\n    \\\"num_channels\\\": 10,\\n    \\\"conv_kernel_size\\\": 5,\\n    \\\"maxpool_kernel_size\\\": 9,\\n    \\\"num_dense_layers\\\": 1,\\n}\";\n",
       "                var nbb_cells = Jupyter.notebook.get_cells();\n",
       "                for (var i = 0; i < nbb_cells.length; ++i) {\n",
       "                    if (nbb_cells[i].input_prompt_number == nbb_cell_id) {\n",
       "                        if (nbb_cells[i].get_text() == nbb_unformatted_code) {\n",
       "                             nbb_cells[i].set_text(nbb_formatted_code);\n",
       "                        }\n",
       "                        break;\n",
       "                    }\n",
       "                }\n",
       "            }, 500);\n",
       "            "
      ],
      "text/plain": [
       "<IPython.core.display.Javascript object>"
      ]
     },
     "metadata": {},
     "output_type": "display_data"
    }
   ],
   "source": [
    "inference_params = {\n",
    "    \"batch_size\": 128,\n",
    "    \"learning_rate\": 1.9e-4,\n",
    "    \"hidden_features\": 35,\n",
    "    \"num_transforms\": 5,\n",
    "    \"num_conv_layers\": 2,\n",
    "    \"num_channels\": 10,\n",
    "    \"conv_kernel_size\": 5,\n",
    "    \"maxpool_kernel_size\": 9,\n",
    "    \"num_dense_layers\": 1,\n",
    "}"
   ]
  },
  {
   "cell_type": "code",
   "execution_count": 17,
   "id": "9a001f49",
   "metadata": {},
   "outputs": [
    {
     "name": "stdout",
     "output_type": "stream",
     "text": [
      "Embedding net created: \n",
      " Sequential(\n",
      "  (0): Conv1d(5, 10, kernel_size=(5,), stride=(1,), padding=(2,))\n",
      "  (1): LeakyReLU(negative_slope=0.01)\n",
      "  (2): Conv1d(10, 10, kernel_size=(5,), stride=(1,), padding=(4,), dilation=(2,))\n",
      "  (3): MaxPool1d(kernel_size=9, stride=9, padding=0, dilation=1, ceil_mode=False)\n",
      "  (4): Flatten(start_dim=1, end_dim=-1)\n",
      "  (5): LeakyReLU(negative_slope=0.01)\n",
      "  (6): Linear(in_features=740, out_features=32, bias=True)\n",
      ")\n"
     ]
    },
    {
     "name": "stderr",
     "output_type": "stream",
     "text": [
      "/opt/conda/lib/python3.7/site-packages/sbi/utils/user_input_checks.py:684: UserWarning: Data x has device 'cpu' different from the training_device 'cuda:0', moving x to the training_device 'cuda:0'.\n",
      "  f\"Data x has device '{x.device}' \"\n",
      "/opt/conda/lib/python3.7/site-packages/sbi/utils/user_input_checks.py:692: UserWarning: Parameters theta has device 'cpu' different from the training_device 'cuda:0', moving theta to the training_device 'cuda:0'.\n",
      "  f\"Parameters theta has device '{theta.device}' \"\n",
      "/opt/conda/lib/python3.7/site-packages/sbi/utils/user_input_checks.py:428: UserWarning: Mismatch between the device of the data fed to the embedding_net and the device of the embedding_net's weights. Fed data has device 'cuda:0' vs embedding_net weights have device 'cpu'. Automatically switching the embedding_net's device to 'cuda:0', which could otherwise be done manually using the line `embedding_net.to('cuda:0')`.\n",
      "  \"Mismatch between the device of the data fed \"\n"
     ]
    },
    {
     "name": "stdout",
     "output_type": "stream",
     "text": [
      " Neural network successfully converged after 234 epochs.\n",
      "        -------------------------\n",
      "        ||||| ROUND 1 STATS |||||:\n",
      "        -------------------------\n",
      "        Epochs trained: 234\n",
      "        Best validation performance: 1.0422\n",
      "        -------------------------\n",
      "        \n"
     ]
    },
    {
     "data": {
      "application/javascript": [
       "\n",
       "            setTimeout(function() {\n",
       "                var nbb_cell_id = 17;\n",
       "                var nbb_unformatted_code = \"infer_and_save_posterior(\\\"cuda\\\", \\\"marketplace\\\", \\\"timeseries\\\", inference_params)\";\n",
       "                var nbb_formatted_code = \"infer_and_save_posterior(\\\"cuda\\\", \\\"marketplace\\\", \\\"timeseries\\\", inference_params)\";\n",
       "                var nbb_cells = Jupyter.notebook.get_cells();\n",
       "                for (var i = 0; i < nbb_cells.length; ++i) {\n",
       "                    if (nbb_cells[i].input_prompt_number == nbb_cell_id) {\n",
       "                        if (nbb_cells[i].get_text() == nbb_unformatted_code) {\n",
       "                             nbb_cells[i].set_text(nbb_formatted_code);\n",
       "                        }\n",
       "                        break;\n",
       "                    }\n",
       "                }\n",
       "            }, 500);\n",
       "            "
      ],
      "text/plain": [
       "<IPython.core.display.Javascript object>"
      ]
     },
     "metadata": {},
     "output_type": "display_data"
    }
   ],
   "source": [
    "infer_and_save_posterior(\"cuda\", \"marketplace\", \"timeseries\", inference_params)"
   ]
  },
  {
   "cell_type": "code",
   "execution_count": 30,
   "id": "38085283",
   "metadata": {},
   "outputs": [
    {
     "data": {
      "application/javascript": [
       "\n",
       "            setTimeout(function() {\n",
       "                var nbb_cell_id = 30;\n",
       "                var nbb_unformatted_code = \"posterior_simulations, simulation_parameters = sample_posterior_on_simulations(\\n    \\\"cuda\\\", 10_000, \\\"marketplace\\\", \\\"timeseries\\\", 673\\n)\";\n",
       "                var nbb_formatted_code = \"posterior_simulations, simulation_parameters = sample_posterior_on_simulations(\\n    \\\"cuda\\\", 10_000, \\\"marketplace\\\", \\\"timeseries\\\", 673\\n)\";\n",
       "                var nbb_cells = Jupyter.notebook.get_cells();\n",
       "                for (var i = 0; i < nbb_cells.length; ++i) {\n",
       "                    if (nbb_cells[i].input_prompt_number == nbb_cell_id) {\n",
       "                        if (nbb_cells[i].get_text() == nbb_unformatted_code) {\n",
       "                             nbb_cells[i].set_text(nbb_formatted_code);\n",
       "                        }\n",
       "                        break;\n",
       "                    }\n",
       "                }\n",
       "            }, 500);\n",
       "            "
      ],
      "text/plain": [
       "<IPython.core.display.Javascript object>"
      ]
     },
     "metadata": {},
     "output_type": "display_data"
    }
   ],
   "source": [
    "posterior_simulations, simulation_parameters = sample_posterior_on_simulations(\n",
    "    \"cuda\", 10_000, \"marketplace\", \"timeseries\", 673\n",
    ")"
   ]
  },
  {
   "cell_type": "code",
   "execution_count": 31,
   "id": "b13fcc0a",
   "metadata": {},
   "outputs": [
    {
     "data": {
      "text/plain": [
       "(10000, 1400, 3)"
      ]
     },
     "execution_count": 31,
     "metadata": {},
     "output_type": "execute_result"
    },
    {
     "data": {
      "application/javascript": [
       "\n",
       "            setTimeout(function() {\n",
       "                var nbb_cell_id = 31;\n",
       "                var nbb_unformatted_code = \"posterior_simulations.shape\";\n",
       "                var nbb_formatted_code = \"posterior_simulations.shape\";\n",
       "                var nbb_cells = Jupyter.notebook.get_cells();\n",
       "                for (var i = 0; i < nbb_cells.length; ++i) {\n",
       "                    if (nbb_cells[i].input_prompt_number == nbb_cell_id) {\n",
       "                        if (nbb_cells[i].get_text() == nbb_unformatted_code) {\n",
       "                             nbb_cells[i].set_text(nbb_formatted_code);\n",
       "                        }\n",
       "                        break;\n",
       "                    }\n",
       "                }\n",
       "            }, 500);\n",
       "            "
      ],
      "text/plain": [
       "<IPython.core.display.Javascript object>"
      ]
     },
     "metadata": {},
     "output_type": "display_data"
    }
   ],
   "source": [
    "posterior_simulations.shape"
   ]
  },
  {
   "cell_type": "code",
   "execution_count": 33,
   "id": "f428e4ce",
   "metadata": {},
   "outputs": [
    {
     "data": {
      "text/plain": [
       "(1400, 2)"
      ]
     },
     "execution_count": 33,
     "metadata": {},
     "output_type": "execute_result"
    },
    {
     "data": {
      "application/javascript": [
       "\n",
       "            setTimeout(function() {\n",
       "                var nbb_cell_id = 33;\n",
       "                var nbb_unformatted_code = \"simulation_parameters[\\\"rho\\\"].shape\";\n",
       "                var nbb_formatted_code = \"simulation_parameters[\\\"rho\\\"].shape\";\n",
       "                var nbb_cells = Jupyter.notebook.get_cells();\n",
       "                for (var i = 0; i < nbb_cells.length; ++i) {\n",
       "                    if (nbb_cells[i].input_prompt_number == nbb_cell_id) {\n",
       "                        if (nbb_cells[i].get_text() == nbb_unformatted_code) {\n",
       "                             nbb_cells[i].set_text(nbb_formatted_code);\n",
       "                        }\n",
       "                        break;\n",
       "                    }\n",
       "                }\n",
       "            }, 500);\n",
       "            "
      ],
      "text/plain": [
       "<IPython.core.display.Javascript object>"
      ]
     },
     "metadata": {},
     "output_type": "display_data"
    }
   ],
   "source": [
    "simulation_parameters[\"rho\"].shape"
   ]
  },
  {
   "cell_type": "code",
   "execution_count": 40,
   "id": "c348c647",
   "metadata": {},
   "outputs": [
    {
     "data": {
      "application/javascript": [
       "\n",
       "            setTimeout(function() {\n",
       "                var nbb_cell_id = 40;\n",
       "                var nbb_unformatted_code = \"save_dict = {\\n    \\\"posterior_simulations\\\": posterior_simulations,\\n    \\\"simulation_parameters\\\": simulation_parameters,\\n}\";\n",
       "                var nbb_formatted_code = \"save_dict = {\\n    \\\"posterior_simulations\\\": posterior_simulations,\\n    \\\"simulation_parameters\\\": simulation_parameters,\\n}\";\n",
       "                var nbb_cells = Jupyter.notebook.get_cells();\n",
       "                for (var i = 0; i < nbb_cells.length; ++i) {\n",
       "                    if (nbb_cells[i].input_prompt_number == nbb_cell_id) {\n",
       "                        if (nbb_cells[i].get_text() == nbb_unformatted_code) {\n",
       "                             nbb_cells[i].set_text(nbb_formatted_code);\n",
       "                        }\n",
       "                        break;\n",
       "                    }\n",
       "                }\n",
       "            }, 500);\n",
       "            "
      ],
      "text/plain": [
       "<IPython.core.display.Javascript object>"
      ]
     },
     "metadata": {},
     "output_type": "display_data"
    }
   ],
   "source": [
    "save_dict = {\n",
    "    \"posterior_simulations\": posterior_simulations,\n",
    "    \"simulation_parameters\": simulation_parameters,\n",
    "}"
   ]
  },
  {
   "cell_type": "code",
   "execution_count": 41,
   "id": "8291b29e",
   "metadata": {},
   "outputs": [
    {
     "data": {
      "application/javascript": [
       "\n",
       "            setTimeout(function() {\n",
       "                var nbb_cell_id = 41;\n",
       "                var nbb_unformatted_code = \"with open(ARTIFACT_PATH / \\\"posterior_inference_on_simulations.pkl\\\", \\\"wb\\\") as f:\\n    pickle.dump(save_dict, f)\";\n",
       "                var nbb_formatted_code = \"with open(ARTIFACT_PATH / \\\"posterior_inference_on_simulations.pkl\\\", \\\"wb\\\") as f:\\n    pickle.dump(save_dict, f)\";\n",
       "                var nbb_cells = Jupyter.notebook.get_cells();\n",
       "                for (var i = 0; i < nbb_cells.length; ++i) {\n",
       "                    if (nbb_cells[i].input_prompt_number == nbb_cell_id) {\n",
       "                        if (nbb_cells[i].get_text() == nbb_unformatted_code) {\n",
       "                             nbb_cells[i].set_text(nbb_formatted_code);\n",
       "                        }\n",
       "                        break;\n",
       "                    }\n",
       "                }\n",
       "            }, 500);\n",
       "            "
      ],
      "text/plain": [
       "<IPython.core.display.Javascript object>"
      ]
     },
     "metadata": {},
     "output_type": "display_data"
    }
   ],
   "source": [
    "with open(ARTIFACT_PATH / \"posterior_inference_on_simulations.pkl\", \"wb\") as f:\n",
    "    pickle.dump(save_dict, f)"
   ]
  },
  {
   "cell_type": "code",
   "execution_count": null,
   "id": "6b41d9c7",
   "metadata": {},
   "outputs": [],
   "source": []
  },
  {
   "cell_type": "code",
   "execution_count": null,
   "id": "fb62a4ca",
   "metadata": {},
   "outputs": [],
   "source": []
  },
  {
   "cell_type": "markdown",
   "id": "991605ac",
   "metadata": {},
   "source": [
    "# Working with the observed data"
   ]
  },
  {
   "cell_type": "code",
   "execution_count": 7,
   "id": "ad754950",
   "metadata": {},
   "outputs": [
    {
     "data": {
      "text/html": [
       "<div>\n",
       "<style scoped>\n",
       "    .dataframe tbody tr th:only-of-type {\n",
       "        vertical-align: middle;\n",
       "    }\n",
       "\n",
       "    .dataframe tbody tr th {\n",
       "        vertical-align: top;\n",
       "    }\n",
       "\n",
       "    .dataframe thead th {\n",
       "        text-align: right;\n",
       "    }\n",
       "</style>\n",
       "<table border=\"1\" class=\"dataframe\">\n",
       "  <thead>\n",
       "    <tr style=\"text-align: right;\">\n",
       "      <th></th>\n",
       "      <th>asin</th>\n",
       "      <th>overall</th>\n",
       "      <th>ReviewId</th>\n",
       "      <th>unixReviewTime</th>\n",
       "      <th>rootcategoryid</th>\n",
       "    </tr>\n",
       "  </thead>\n",
       "  <tbody>\n",
       "    <tr>\n",
       "      <th>0</th>\n",
       "      <td>670155</td>\n",
       "      <td>4</td>\n",
       "      <td>3480905</td>\n",
       "      <td>2009-02-10</td>\n",
       "      <td>33005908</td>\n",
       "    </tr>\n",
       "    <tr>\n",
       "      <th>1</th>\n",
       "      <td>670155</td>\n",
       "      <td>3</td>\n",
       "      <td>3535864</td>\n",
       "      <td>2009-02-24</td>\n",
       "      <td>33005908</td>\n",
       "    </tr>\n",
       "    <tr>\n",
       "      <th>2</th>\n",
       "      <td>670155</td>\n",
       "      <td>5</td>\n",
       "      <td>3539112</td>\n",
       "      <td>2009-02-24</td>\n",
       "      <td>33005908</td>\n",
       "    </tr>\n",
       "    <tr>\n",
       "      <th>3</th>\n",
       "      <td>670155</td>\n",
       "      <td>4</td>\n",
       "      <td>3539514</td>\n",
       "      <td>2009-02-25</td>\n",
       "      <td>33005908</td>\n",
       "    </tr>\n",
       "    <tr>\n",
       "      <th>4</th>\n",
       "      <td>670155</td>\n",
       "      <td>1</td>\n",
       "      <td>3556157</td>\n",
       "      <td>2009-03-05</td>\n",
       "      <td>33005908</td>\n",
       "    </tr>\n",
       "  </tbody>\n",
       "</table>\n",
       "</div>"
      ],
      "text/plain": [
       "     asin  overall  ReviewId unixReviewTime  rootcategoryid\n",
       "0  670155        4   3480905     2009-02-10        33005908\n",
       "1  670155        3   3535864     2009-02-24        33005908\n",
       "2  670155        5   3539112     2009-02-24        33005908\n",
       "3  670155        4   3539514     2009-02-25        33005908\n",
       "4  670155        1   3556157     2009-03-05        33005908"
      ]
     },
     "execution_count": 7,
     "metadata": {},
     "output_type": "execute_result"
    },
    {
     "data": {
      "application/javascript": [
       "\n",
       "            setTimeout(function() {\n",
       "                var nbb_cell_id = 7;\n",
       "                var nbb_unformatted_code = \"# reviews = pyreadr.read_r(\\n#    \\\"/data/Dropbox/SNPE/all_data/reviews_bazaarvoice_main_vars.Rds\\\"\\n# )\\nreviews = pyreadr.read_r(ARTIFACT_PATH / \\\"reviews_bazaarvoice_main_vars.Rds\\\")\\n# reviews = pyreadr.read_r(\\n#    Path(\\\"../../../gcs_mount/artifacts/marketplace/\\\")\\n#    / \\\"reviews_bazaarvoice_main_vars.Rds\\\"\\n# )\\nreviews = reviews[None]\\nreviews.head()\";\n",
       "                var nbb_formatted_code = \"# reviews = pyreadr.read_r(\\n#    \\\"/data/Dropbox/SNPE/all_data/reviews_bazaarvoice_main_vars.Rds\\\"\\n# )\\nreviews = pyreadr.read_r(ARTIFACT_PATH / \\\"reviews_bazaarvoice_main_vars.Rds\\\")\\n# reviews = pyreadr.read_r(\\n#    Path(\\\"../../../gcs_mount/artifacts/marketplace/\\\")\\n#    / \\\"reviews_bazaarvoice_main_vars.Rds\\\"\\n# )\\nreviews = reviews[None]\\nreviews.head()\";\n",
       "                var nbb_cells = Jupyter.notebook.get_cells();\n",
       "                for (var i = 0; i < nbb_cells.length; ++i) {\n",
       "                    if (nbb_cells[i].input_prompt_number == nbb_cell_id) {\n",
       "                        if (nbb_cells[i].get_text() == nbb_unformatted_code) {\n",
       "                             nbb_cells[i].set_text(nbb_formatted_code);\n",
       "                        }\n",
       "                        break;\n",
       "                    }\n",
       "                }\n",
       "            }, 500);\n",
       "            "
      ],
      "text/plain": [
       "<IPython.core.display.Javascript object>"
      ]
     },
     "metadata": {},
     "output_type": "display_data"
    }
   ],
   "source": [
    "# reviews = pyreadr.read_r(\n",
    "#    \"/data/Dropbox/SNPE/all_data/reviews_bazaarvoice_main_vars.Rds\"\n",
    "# )\n",
    "reviews = pyreadr.read_r(ARTIFACT_PATH / \"reviews_bazaarvoice_main_vars.Rds\")\n",
    "# reviews = pyreadr.read_r(\n",
    "#    Path(\"../../../gcs_mount/artifacts/marketplace/\")\n",
    "#    / \"reviews_bazaarvoice_main_vars.Rds\"\n",
    "# )\n",
    "reviews = reviews[None]\n",
    "reviews.head()"
   ]
  },
  {
   "cell_type": "code",
   "execution_count": 8,
   "id": "513aa7ab",
   "metadata": {},
   "outputs": [
    {
     "data": {
      "application/javascript": [
       "\n",
       "            setTimeout(function() {\n",
       "                var nbb_cell_id = 8;\n",
       "                var nbb_unformatted_code = \"pd.testing.assert_frame_equal(reviews, reviews.sort_values([\\\"asin\\\", \\\"unixReviewTime\\\"]))\";\n",
       "                var nbb_formatted_code = \"pd.testing.assert_frame_equal(reviews, reviews.sort_values([\\\"asin\\\", \\\"unixReviewTime\\\"]))\";\n",
       "                var nbb_cells = Jupyter.notebook.get_cells();\n",
       "                for (var i = 0; i < nbb_cells.length; ++i) {\n",
       "                    if (nbb_cells[i].input_prompt_number == nbb_cell_id) {\n",
       "                        if (nbb_cells[i].get_text() == nbb_unformatted_code) {\n",
       "                             nbb_cells[i].set_text(nbb_formatted_code);\n",
       "                        }\n",
       "                        break;\n",
       "                    }\n",
       "                }\n",
       "            }, 500);\n",
       "            "
      ],
      "text/plain": [
       "<IPython.core.display.Javascript object>"
      ]
     },
     "metadata": {},
     "output_type": "display_data"
    }
   ],
   "source": [
    "pd.testing.assert_frame_equal(reviews, reviews.sort_values([\"asin\", \"unixReviewTime\"]))"
   ]
  },
  {
   "cell_type": "code",
   "execution_count": 9,
   "id": "06236636",
   "metadata": {},
   "outputs": [
    {
     "data": {
      "text/plain": [
       "1293"
      ]
     },
     "execution_count": 9,
     "metadata": {},
     "output_type": "execute_result"
    },
    {
     "data": {
      "application/javascript": [
       "\n",
       "            setTimeout(function() {\n",
       "                var nbb_cell_id = 9;\n",
       "                var nbb_unformatted_code = \"reviews.asin.value_counts().max()\";\n",
       "                var nbb_formatted_code = \"reviews.asin.value_counts().max()\";\n",
       "                var nbb_cells = Jupyter.notebook.get_cells();\n",
       "                for (var i = 0; i < nbb_cells.length; ++i) {\n",
       "                    if (nbb_cells[i].input_prompt_number == nbb_cell_id) {\n",
       "                        if (nbb_cells[i].get_text() == nbb_unformatted_code) {\n",
       "                             nbb_cells[i].set_text(nbb_formatted_code);\n",
       "                        }\n",
       "                        break;\n",
       "                    }\n",
       "                }\n",
       "            }, 500);\n",
       "            "
      ],
      "text/plain": [
       "<IPython.core.display.Javascript object>"
      ]
     },
     "metadata": {},
     "output_type": "display_data"
    }
   ],
   "source": [
    "reviews.asin.value_counts().max()"
   ]
  },
  {
   "cell_type": "code",
   "execution_count": 10,
   "id": "47c4e894",
   "metadata": {},
   "outputs": [
    {
     "data": {
      "text/plain": [
       "(1406,)"
      ]
     },
     "execution_count": 10,
     "metadata": {},
     "output_type": "execute_result"
    },
    {
     "data": {
      "application/javascript": [
       "\n",
       "            setTimeout(function() {\n",
       "                var nbb_cell_id = 10;\n",
       "                var nbb_unformatted_code = \"reviews.asin.unique().shape\";\n",
       "                var nbb_formatted_code = \"reviews.asin.unique().shape\";\n",
       "                var nbb_cells = Jupyter.notebook.get_cells();\n",
       "                for (var i = 0; i < nbb_cells.length; ++i) {\n",
       "                    if (nbb_cells[i].input_prompt_number == nbb_cell_id) {\n",
       "                        if (nbb_cells[i].get_text() == nbb_unformatted_code) {\n",
       "                             nbb_cells[i].set_text(nbb_formatted_code);\n",
       "                        }\n",
       "                        break;\n",
       "                    }\n",
       "                }\n",
       "            }, 500);\n",
       "            "
      ],
      "text/plain": [
       "<IPython.core.display.Javascript object>"
      ]
     },
     "metadata": {},
     "output_type": "display_data"
    }
   ],
   "source": [
    "reviews.asin.unique().shape"
   ]
  },
  {
   "cell_type": "code",
   "execution_count": 11,
   "id": "2eb1016e",
   "metadata": {},
   "outputs": [
    {
     "data": {
      "text/plain": [
       "count    1406.000000\n",
       "mean       96.212660\n",
       "std       126.677148\n",
       "min         1.000000\n",
       "25%        25.250000\n",
       "50%        51.000000\n",
       "75%       113.000000\n",
       "max      1293.000000\n",
       "Name: asin, dtype: float64"
      ]
     },
     "execution_count": 11,
     "metadata": {},
     "output_type": "execute_result"
    },
    {
     "data": {
      "application/javascript": [
       "\n",
       "            setTimeout(function() {\n",
       "                var nbb_cell_id = 11;\n",
       "                var nbb_unformatted_code = \"reviews.asin.value_counts().describe()\";\n",
       "                var nbb_formatted_code = \"reviews.asin.value_counts().describe()\";\n",
       "                var nbb_cells = Jupyter.notebook.get_cells();\n",
       "                for (var i = 0; i < nbb_cells.length; ++i) {\n",
       "                    if (nbb_cells[i].input_prompt_number == nbb_cell_id) {\n",
       "                        if (nbb_cells[i].get_text() == nbb_unformatted_code) {\n",
       "                             nbb_cells[i].set_text(nbb_formatted_code);\n",
       "                        }\n",
       "                        break;\n",
       "                    }\n",
       "                }\n",
       "            }, 500);\n",
       "            "
      ],
      "text/plain": [
       "<IPython.core.display.Javascript object>"
      ]
     },
     "metadata": {},
     "output_type": "display_data"
    }
   ],
   "source": [
    "reviews.asin.value_counts().describe()"
   ]
  },
  {
   "cell_type": "code",
   "execution_count": 12,
   "id": "d7749342",
   "metadata": {},
   "outputs": [
    {
     "data": {
      "application/javascript": [
       "\n",
       "            setTimeout(function() {\n",
       "                var nbb_cell_id = 12;\n",
       "                var nbb_unformatted_code = \"# Pull out the ratings from the timeseries DF and convert them into a format\\n# that can be fed into the inference engine\\n# Also save a list of the asin values to have the order in which products appear in the timeseries list\\ntimeseries_data = []\\ntimeseries_asin = []\\nfor product in reviews.asin.unique():\\n    # We were cutting off at 5001 reviews earlier when we could control the number of reviews per product in the sims\\n    # But now, we put the max len of the deque a little higher than the number of reviews\\n    # for the most reviewed product (around 1300)\\n    # Actually we have to use the length that the simulations were padded to during inference (=longest simulated\\n    # review timeseries = 673 in this case). Also remember that we add [1, 1, 1, 1, 1] at the beginning as the\\n    # starting histogram, so the product ratings need to be cut to 672\\n    timeseries = deque([np.ones(5)], maxlen=673)\\n    ratings = np.array(reviews.loc[reviews.asin == product, \\\"overall\\\"])\\n    ratings = ratings[:672]\\n    for rating in ratings:\\n        current_histogram = timeseries[-1].copy()\\n        current_histogram[int(rating - 1)] += 1\\n        timeseries.append(current_histogram)\\n    timeseries_data.append(np.array(timeseries))\\n    timeseries_asin.append(product)\\ntimeseries_data = np.array(timeseries_data, dtype=\\\"object\\\")\\ntimeseries_asin = np.array(timeseries_asin, dtype=\\\"int\\\")\";\n",
       "                var nbb_formatted_code = \"# Pull out the ratings from the timeseries DF and convert them into a format\\n# that can be fed into the inference engine\\n# Also save a list of the asin values to have the order in which products appear in the timeseries list\\ntimeseries_data = []\\ntimeseries_asin = []\\nfor product in reviews.asin.unique():\\n    # We were cutting off at 5001 reviews earlier when we could control the number of reviews per product in the sims\\n    # But now, we put the max len of the deque a little higher than the number of reviews\\n    # for the most reviewed product (around 1300)\\n    # Actually we have to use the length that the simulations were padded to during inference (=longest simulated\\n    # review timeseries = 673 in this case). Also remember that we add [1, 1, 1, 1, 1] at the beginning as the\\n    # starting histogram, so the product ratings need to be cut to 672\\n    timeseries = deque([np.ones(5)], maxlen=673)\\n    ratings = np.array(reviews.loc[reviews.asin == product, \\\"overall\\\"])\\n    ratings = ratings[:672]\\n    for rating in ratings:\\n        current_histogram = timeseries[-1].copy()\\n        current_histogram[int(rating - 1)] += 1\\n        timeseries.append(current_histogram)\\n    timeseries_data.append(np.array(timeseries))\\n    timeseries_asin.append(product)\\ntimeseries_data = np.array(timeseries_data, dtype=\\\"object\\\")\\ntimeseries_asin = np.array(timeseries_asin, dtype=\\\"int\\\")\";\n",
       "                var nbb_cells = Jupyter.notebook.get_cells();\n",
       "                for (var i = 0; i < nbb_cells.length; ++i) {\n",
       "                    if (nbb_cells[i].input_prompt_number == nbb_cell_id) {\n",
       "                        if (nbb_cells[i].get_text() == nbb_unformatted_code) {\n",
       "                             nbb_cells[i].set_text(nbb_formatted_code);\n",
       "                        }\n",
       "                        break;\n",
       "                    }\n",
       "                }\n",
       "            }, 500);\n",
       "            "
      ],
      "text/plain": [
       "<IPython.core.display.Javascript object>"
      ]
     },
     "metadata": {},
     "output_type": "display_data"
    }
   ],
   "source": [
    "# Pull out the ratings from the timeseries DF and convert them into a format\n",
    "# that can be fed into the inference engine\n",
    "# Also save a list of the asin values to have the order in which products appear in the timeseries list\n",
    "timeseries_data = []\n",
    "timeseries_asin = []\n",
    "for product in reviews.asin.unique():\n",
    "    # We were cutting off at 5001 reviews earlier when we could control the number of reviews per product in the sims\n",
    "    # But now, we put the max len of the deque a little higher than the number of reviews\n",
    "    # for the most reviewed product (around 1300)\n",
    "    # Actually we have to use the length that the simulations were padded to during inference (=longest simulated\n",
    "    # review timeseries = 673 in this case). Also remember that we add [1, 1, 1, 1, 1] at the beginning as the\n",
    "    # starting histogram, so the product ratings need to be cut to 672\n",
    "    timeseries = deque([np.ones(5)], maxlen=673)\n",
    "    ratings = np.array(reviews.loc[reviews.asin == product, \"overall\"])\n",
    "    ratings = ratings[:672]\n",
    "    for rating in ratings:\n",
    "        current_histogram = timeseries[-1].copy()\n",
    "        current_histogram[int(rating - 1)] += 1\n",
    "        timeseries.append(current_histogram)\n",
    "    timeseries_data.append(np.array(timeseries))\n",
    "    timeseries_asin.append(product)\n",
    "timeseries_data = np.array(timeseries_data, dtype=\"object\")\n",
    "timeseries_asin = np.array(timeseries_asin, dtype=\"int\")"
   ]
  },
  {
   "cell_type": "code",
   "execution_count": 13,
   "id": "fd22904a",
   "metadata": {},
   "outputs": [
    {
     "data": {
      "text/plain": [
       "(1406,)"
      ]
     },
     "execution_count": 13,
     "metadata": {},
     "output_type": "execute_result"
    },
    {
     "data": {
      "application/javascript": [
       "\n",
       "            setTimeout(function() {\n",
       "                var nbb_cell_id = 13;\n",
       "                var nbb_unformatted_code = \"timeseries_data.shape\";\n",
       "                var nbb_formatted_code = \"timeseries_data.shape\";\n",
       "                var nbb_cells = Jupyter.notebook.get_cells();\n",
       "                for (var i = 0; i < nbb_cells.length; ++i) {\n",
       "                    if (nbb_cells[i].input_prompt_number == nbb_cell_id) {\n",
       "                        if (nbb_cells[i].get_text() == nbb_unformatted_code) {\n",
       "                             nbb_cells[i].set_text(nbb_formatted_code);\n",
       "                        }\n",
       "                        break;\n",
       "                    }\n",
       "                }\n",
       "            }, 500);\n",
       "            "
      ],
      "text/plain": [
       "<IPython.core.display.Javascript object>"
      ]
     },
     "metadata": {},
     "output_type": "display_data"
    }
   ],
   "source": [
    "timeseries_data.shape"
   ]
  },
  {
   "cell_type": "code",
   "execution_count": 14,
   "id": "757fb374",
   "metadata": {},
   "outputs": [
    {
     "data": {
      "text/plain": [
       "array([ 670155,  671312, 1017360, ..., 9822904, 9822911, 9827954])"
      ]
     },
     "execution_count": 14,
     "metadata": {},
     "output_type": "execute_result"
    },
    {
     "data": {
      "application/javascript": [
       "\n",
       "            setTimeout(function() {\n",
       "                var nbb_cell_id = 14;\n",
       "                var nbb_unformatted_code = \"timeseries_asin\";\n",
       "                var nbb_formatted_code = \"timeseries_asin\";\n",
       "                var nbb_cells = Jupyter.notebook.get_cells();\n",
       "                for (var i = 0; i < nbb_cells.length; ++i) {\n",
       "                    if (nbb_cells[i].input_prompt_number == nbb_cell_id) {\n",
       "                        if (nbb_cells[i].get_text() == nbb_unformatted_code) {\n",
       "                             nbb_cells[i].set_text(nbb_formatted_code);\n",
       "                        }\n",
       "                        break;\n",
       "                    }\n",
       "                }\n",
       "            }, 500);\n",
       "            "
      ],
      "text/plain": [
       "<IPython.core.display.Javascript object>"
      ]
     },
     "metadata": {},
     "output_type": "display_data"
    }
   ],
   "source": [
    "timeseries_asin"
   ]
  },
  {
   "cell_type": "code",
   "execution_count": 15,
   "id": "94051a49",
   "metadata": {},
   "outputs": [
    {
     "ename": "NameError",
     "evalue": "name 'sample_posterior_with_observed' is not defined",
     "output_type": "error",
     "traceback": [
      "\u001b[0;31m---------------------------------------------------------------------------\u001b[0m",
      "\u001b[0;31mNameError\u001b[0m                                 Traceback (most recent call last)",
      "Input \u001b[0;32mIn [15]\u001b[0m, in \u001b[0;36m<cell line: 1>\u001b[0;34m()\u001b[0m\n\u001b[0;32m----> 1\u001b[0m posterior_samples \u001b[38;5;241m=\u001b[39m \u001b[43msample_posterior_with_observed\u001b[49m(\n\u001b[1;32m      2\u001b[0m     \u001b[38;5;124m\"\u001b[39m\u001b[38;5;124mcuda\u001b[39m\u001b[38;5;124m\"\u001b[39m, timeseries_data, \u001b[38;5;241m10_000\u001b[39m, \u001b[38;5;124m\"\u001b[39m\u001b[38;5;124mmarketplace\u001b[39m\u001b[38;5;124m\"\u001b[39m, \u001b[38;5;124m\"\u001b[39m\u001b[38;5;124mtimeseries\u001b[39m\u001b[38;5;124m\"\u001b[39m\n\u001b[1;32m      3\u001b[0m )\n",
      "\u001b[0;31mNameError\u001b[0m: name 'sample_posterior_with_observed' is not defined"
     ]
    },
    {
     "data": {
      "application/javascript": [
       "\n",
       "            setTimeout(function() {\n",
       "                var nbb_cell_id = 15;\n",
       "                var nbb_unformatted_code = \"posterior_samples = sample_posterior_with_observed(\\n    \\\"cuda\\\", timeseries_data, 10_000, \\\"marketplace\\\", \\\"timeseries\\\"\\n)\";\n",
       "                var nbb_formatted_code = \"posterior_samples = sample_posterior_with_observed(\\n    \\\"cuda\\\", timeseries_data, 10_000, \\\"marketplace\\\", \\\"timeseries\\\"\\n)\";\n",
       "                var nbb_cells = Jupyter.notebook.get_cells();\n",
       "                for (var i = 0; i < nbb_cells.length; ++i) {\n",
       "                    if (nbb_cells[i].input_prompt_number == nbb_cell_id) {\n",
       "                        if (nbb_cells[i].get_text() == nbb_unformatted_code) {\n",
       "                             nbb_cells[i].set_text(nbb_formatted_code);\n",
       "                        }\n",
       "                        break;\n",
       "                    }\n",
       "                }\n",
       "            }, 500);\n",
       "            "
      ],
      "text/plain": [
       "<IPython.core.display.Javascript object>"
      ]
     },
     "metadata": {},
     "output_type": "display_data"
    }
   ],
   "source": [
    "posterior_samples = sample_posterior_with_observed(\n",
    "    \"cuda\", timeseries_data, 10_000, \"marketplace\", \"timeseries\"\n",
    ")"
   ]
  },
  {
   "cell_type": "code",
   "execution_count": 18,
   "id": "d4f3a604",
   "metadata": {},
   "outputs": [
    {
     "data": {
      "text/plain": [
       "(array([  2.,   0.,   1.,   2.,   2.,   1.,   0.,   2.,   2.,   3.,   3.,\n",
       "          2.,   2.,   1.,   0.,   5., 113., 330., 374.,  73.,  30.,  30.,\n",
       "         26.,  25.,  20.,  22.,   9.,  19.,  13.,  30.,  17.,   8.,  10.,\n",
       "         12.,  17.,   8.,   9.,   9.,   9.,   9.,  10.,   9.,  18.,  12.,\n",
       "         14.,  26.,   9.,  23.,  32.,   3.]),\n",
       " array([0.13319318, 0.20103309, 0.26887301, 0.33671293, 0.40455284,\n",
       "        0.47239276, 0.54023268, 0.60807259, 0.67591251, 0.74375243,\n",
       "        0.81159234, 0.87943226, 0.94727218, 1.01511209, 1.08295201,\n",
       "        1.15079193, 1.21863184, 1.28647176, 1.35431168, 1.42215159,\n",
       "        1.48999151, 1.55783143, 1.62567134, 1.69351126, 1.76135118,\n",
       "        1.82919109, 1.89703101, 1.96487092, 2.03271084, 2.10055076,\n",
       "        2.16839067, 2.23623059, 2.30407051, 2.37191042, 2.43975034,\n",
       "        2.50759026, 2.57543017, 2.64327009, 2.71111001, 2.77894992,\n",
       "        2.84678984, 2.91462976, 2.98246967, 3.05030959, 3.11814951,\n",
       "        3.18598942, 3.25382934, 3.32166926, 3.38950917, 3.45734909,\n",
       "        3.525189  ]),\n",
       " <BarContainer object of 50 artists>)"
      ]
     },
     "execution_count": 18,
     "metadata": {},
     "output_type": "execute_result"
    },
    {
     "data": {
      "image/png": "[encoded data removed]",
      "text/plain": [
       "<Figure size 432x288 with 1 Axes>"
      ]
     },
     "metadata": {},
     "output_type": "display_data"
    },
    {
     "data": {
      "application/javascript": [
       "\n",
       "            setTimeout(function() {\n",
       "                var nbb_cell_id = 18;\n",
       "                var nbb_unformatted_code = \"plt.hist(np.mean(posterior_samples[:, :, 0], axis=0), alpha=0.5, bins=50)\\nplt.hist(np.mean(posterior_samples[:, :, 1], axis=0), alpha=0.5, bins=50)\";\n",
       "                var nbb_formatted_code = \"plt.hist(np.mean(posterior_samples[:, :, 0], axis=0), alpha=0.5, bins=50)\\nplt.hist(np.mean(posterior_samples[:, :, 1], axis=0), alpha=0.5, bins=50)\";\n",
       "                var nbb_cells = Jupyter.notebook.get_cells();\n",
       "                for (var i = 0; i < nbb_cells.length; ++i) {\n",
       "                    if (nbb_cells[i].input_prompt_number == nbb_cell_id) {\n",
       "                        if (nbb_cells[i].get_text() == nbb_unformatted_code) {\n",
       "                             nbb_cells[i].set_text(nbb_formatted_code);\n",
       "                        }\n",
       "                        break;\n",
       "                    }\n",
       "                }\n",
       "            }, 500);\n",
       "            "
      ],
      "text/plain": [
       "<IPython.core.display.Javascript object>"
      ]
     },
     "metadata": {},
     "output_type": "display_data"
    }
   ],
   "source": [
    "plt.hist(np.mean(posterior_samples[:, :, 0], axis=0), alpha=0.5, bins=50)\n",
    "plt.hist(np.mean(posterior_samples[:, :, 1], axis=0), alpha=0.5, bins=50)"
   ]
  },
  {
   "cell_type": "code",
   "execution_count": 19,
   "id": "d6d796a0",
   "metadata": {},
   "outputs": [
    {
     "data": {
      "text/plain": [
       "(array([  2.,   1.,   3.,  19., 139., 263., 286., 269., 140.,  48.,  24.,\n",
       "         36.,  17.,  16.,  14.,  11.,  17.,   6.,   7.,   5.,  12.,   9.,\n",
       "          1.,   3.,   5.,   0.,   1.,   5.,   6.,   3.,   3.,   5.,   2.,\n",
       "          0.,   4.,  10.,   5.,   1.,   2.,   1.,   1.,   0.,   0.,   0.,\n",
       "          0.,   0.,   0.,   1.,   2.,   1.]),\n",
       " array([0.01632377, 0.02974917, 0.04317456, 0.05659995, 0.07002535,\n",
       "        0.08345074, 0.09687613, 0.11030152, 0.12372692, 0.13715231,\n",
       "        0.1505777 , 0.1640031 , 0.17742849, 0.19085388, 0.20427927,\n",
       "        0.21770467, 0.23113006, 0.24455545, 0.25798085, 0.27140624,\n",
       "        0.28483163, 0.29825703, 0.31168242, 0.32510781, 0.3385332 ,\n",
       "        0.3519586 , 0.36538399, 0.37880938, 0.39223478, 0.40566017,\n",
       "        0.41908556, 0.43251095, 0.44593635, 0.45936174, 0.47278713,\n",
       "        0.48621253, 0.49963792, 0.51306331, 0.5264887 , 0.5399141 ,\n",
       "        0.55333949, 0.56676488, 0.58019028, 0.59361567, 0.60704106,\n",
       "        0.62046645, 0.63389185, 0.64731724, 0.66074263, 0.67416803,\n",
       "        0.68759342]),\n",
       " <BarContainer object of 50 artists>)"
      ]
     },
     "execution_count": 19,
     "metadata": {},
     "output_type": "execute_result"
    },
    {
     "data": {
      "image/png": "[encoded data removed]",
      "text/plain": [
       "<Figure size 432x288 with 1 Axes>"
      ]
     },
     "metadata": {},
     "output_type": "display_data"
    },
    {
     "data": {
      "application/javascript": [
       "\n",
       "            setTimeout(function() {\n",
       "                var nbb_cell_id = 19;\n",
       "                var nbb_unformatted_code = \"plt.hist(np.mean(posterior_samples[:, :, 2], axis=0), alpha=0.5, bins=50)\";\n",
       "                var nbb_formatted_code = \"plt.hist(np.mean(posterior_samples[:, :, 2], axis=0), alpha=0.5, bins=50)\";\n",
       "                var nbb_cells = Jupyter.notebook.get_cells();\n",
       "                for (var i = 0; i < nbb_cells.length; ++i) {\n",
       "                    if (nbb_cells[i].input_prompt_number == nbb_cell_id) {\n",
       "                        if (nbb_cells[i].get_text() == nbb_unformatted_code) {\n",
       "                             nbb_cells[i].set_text(nbb_formatted_code);\n",
       "                        }\n",
       "                        break;\n",
       "                    }\n",
       "                }\n",
       "            }, 500);\n",
       "            "
      ],
      "text/plain": [
       "<IPython.core.display.Javascript object>"
      ]
     },
     "metadata": {},
     "output_type": "display_data"
    }
   ],
   "source": [
    "plt.hist(np.mean(posterior_samples[:, :, 2], axis=0), alpha=0.5, bins=50)"
   ]
  },
  {
   "cell_type": "code",
   "execution_count": 20,
   "id": "166e7beb",
   "metadata": {},
   "outputs": [
    {
     "data": {
      "text/plain": [
       "(10000, 1406, 3)"
      ]
     },
     "execution_count": 20,
     "metadata": {},
     "output_type": "execute_result"
    },
    {
     "data": {
      "application/javascript": [
       "\n",
       "            setTimeout(function() {\n",
       "                var nbb_cell_id = 20;\n",
       "                var nbb_unformatted_code = \"posterior_samples.shape\";\n",
       "                var nbb_formatted_code = \"posterior_samples.shape\";\n",
       "                var nbb_cells = Jupyter.notebook.get_cells();\n",
       "                for (var i = 0; i < nbb_cells.length; ++i) {\n",
       "                    if (nbb_cells[i].input_prompt_number == nbb_cell_id) {\n",
       "                        if (nbb_cells[i].get_text() == nbb_unformatted_code) {\n",
       "                             nbb_cells[i].set_text(nbb_formatted_code);\n",
       "                        }\n",
       "                        break;\n",
       "                    }\n",
       "                }\n",
       "            }, 500);\n",
       "            "
      ],
      "text/plain": [
       "<IPython.core.display.Javascript object>"
      ]
     },
     "metadata": {},
     "output_type": "display_data"
    }
   ],
   "source": [
    "posterior_samples.shape"
   ]
  },
  {
   "cell_type": "code",
   "execution_count": 21,
   "id": "4bace4a9",
   "metadata": {},
   "outputs": [
    {
     "data": {
      "application/javascript": [
       "\n",
       "            setTimeout(function() {\n",
       "                var nbb_cell_id = 21;\n",
       "                var nbb_unformatted_code = \"np.save(ARTIFACT_PATH / \\\"posterior_samples_bazaarvoice.npy\\\", posterior_samples)\";\n",
       "                var nbb_formatted_code = \"np.save(ARTIFACT_PATH / \\\"posterior_samples_bazaarvoice.npy\\\", posterior_samples)\";\n",
       "                var nbb_cells = Jupyter.notebook.get_cells();\n",
       "                for (var i = 0; i < nbb_cells.length; ++i) {\n",
       "                    if (nbb_cells[i].input_prompt_number == nbb_cell_id) {\n",
       "                        if (nbb_cells[i].get_text() == nbb_unformatted_code) {\n",
       "                             nbb_cells[i].set_text(nbb_formatted_code);\n",
       "                        }\n",
       "                        break;\n",
       "                    }\n",
       "                }\n",
       "            }, 500);\n",
       "            "
      ],
      "text/plain": [
       "<IPython.core.display.Javascript object>"
      ]
     },
     "metadata": {},
     "output_type": "display_data"
    }
   ],
   "source": [
    "np.save(ARTIFACT_PATH / \"posterior_samples_bazaarvoice.npy\", posterior_samples)"
   ]
  },
  {
   "cell_type": "code",
   "execution_count": null,
   "id": "08ab0d21",
   "metadata": {},
   "outputs": [],
   "source": []
  },
  {
   "cell_type": "code",
   "execution_count": null,
   "id": "bb526683",
   "metadata": {},
   "outputs": [],
   "source": []
  },
  {
   "cell_type": "markdown",
   "id": "d475064b",
   "metadata": {},
   "source": [
    "# Use the inferred posterior samples to conduct simulations"
   ]
  },
  {
   "cell_type": "code",
   "execution_count": 15,
   "id": "0929a1eb",
   "metadata": {},
   "outputs": [
    {
     "data": {
      "text/plain": [
       "(10000, 1406, 3)"
      ]
     },
     "execution_count": 15,
     "metadata": {},
     "output_type": "execute_result"
    },
    {
     "data": {
      "application/javascript": [
       "\n",
       "            setTimeout(function() {\n",
       "                var nbb_cell_id = 15;\n",
       "                var nbb_unformatted_code = \"posterior_samples = np.load(ARTIFACT_PATH / \\\"posterior_samples_bazaarvoice.npy\\\")\\nposterior_samples.shape\";\n",
       "                var nbb_formatted_code = \"posterior_samples = np.load(ARTIFACT_PATH / \\\"posterior_samples_bazaarvoice.npy\\\")\\nposterior_samples.shape\";\n",
       "                var nbb_cells = Jupyter.notebook.get_cells();\n",
       "                for (var i = 0; i < nbb_cells.length; ++i) {\n",
       "                    if (nbb_cells[i].input_prompt_number == nbb_cell_id) {\n",
       "                        if (nbb_cells[i].get_text() == nbb_unformatted_code) {\n",
       "                             nbb_cells[i].set_text(nbb_formatted_code);\n",
       "                        }\n",
       "                        break;\n",
       "                    }\n",
       "                }\n",
       "            }, 500);\n",
       "            "
      ],
      "text/plain": [
       "<IPython.core.display.Javascript object>"
      ]
     },
     "metadata": {},
     "output_type": "display_data"
    }
   ],
   "source": [
    "posterior_samples = np.load(ARTIFACT_PATH / \"posterior_samples_bazaarvoice.npy\")\n",
    "posterior_samples.shape"
   ]
  },
  {
   "cell_type": "code",
   "execution_count": 16,
   "id": "287e36c2",
   "metadata": {},
   "outputs": [
    {
     "data": {
      "text/plain": [
       "(2000, 1406, 3)"
      ]
     },
     "execution_count": 16,
     "metadata": {},
     "output_type": "execute_result"
    },
    {
     "data": {
      "application/javascript": [
       "\n",
       "            setTimeout(function() {\n",
       "                var nbb_cell_id = 16;\n",
       "                var nbb_unformatted_code = \"# Downsample the posterior samples so that we don't have to mmap a huge array when joblib parallelizes simulations\\nposterior_samples = posterior_samples[::5, :, :]\\nposterior_samples.shape\";\n",
       "                var nbb_formatted_code = \"# Downsample the posterior samples so that we don't have to mmap a huge array when joblib parallelizes simulations\\nposterior_samples = posterior_samples[::5, :, :]\\nposterior_samples.shape\";\n",
       "                var nbb_cells = Jupyter.notebook.get_cells();\n",
       "                for (var i = 0; i < nbb_cells.length; ++i) {\n",
       "                    if (nbb_cells[i].input_prompt_number == nbb_cell_id) {\n",
       "                        if (nbb_cells[i].get_text() == nbb_unformatted_code) {\n",
       "                             nbb_cells[i].set_text(nbb_formatted_code);\n",
       "                        }\n",
       "                        break;\n",
       "                    }\n",
       "                }\n",
       "            }, 500);\n",
       "            "
      ],
      "text/plain": [
       "<IPython.core.display.Javascript object>"
      ]
     },
     "metadata": {},
     "output_type": "display_data"
    }
   ],
   "source": [
    "# Downsample the posterior samples so that we don't have to mmap a huge array when joblib parallelizes simulations\n",
    "posterior_samples = posterior_samples[::5, :, :]\n",
    "posterior_samples.shape"
   ]
  },
  {
   "cell_type": "code",
   "execution_count": 17,
   "id": "b677aa16",
   "metadata": {},
   "outputs": [
    {
     "data": {
      "text/plain": [
       "(array([  2.,   0.,   1.,   2.,   2.,   1.,   0.,   2.,   2.,   3.,   3.,\n",
       "          2.,   2.,   1.,   1.,   4., 119., 333., 373.,  67.,  30.,  28.,\n",
       "         26.,  27.,  22.,  19.,  10.,  19.,  12.,  28.,  21.,   6.,  11.,\n",
       "         10.,  18.,   8.,  11.,   8.,   8.,   9.,  10.,  10.,  18.,  10.,\n",
       "         15.,  22.,  13.,  24.,  30.,   3.]),\n",
       " array([0.13305121, 0.20100449, 0.26895778, 0.33691107, 0.40486436,\n",
       "        0.47281765, 0.54077093, 0.60872422, 0.67667751, 0.7446308 ,\n",
       "        0.81258409, 0.88053738, 0.94849066, 1.01644395, 1.08439724,\n",
       "        1.15235053, 1.22030382, 1.2882571 , 1.35621039, 1.42416368,\n",
       "        1.49211697, 1.56007026, 1.62802354, 1.69597683, 1.76393012,\n",
       "        1.83188341, 1.8998367 , 1.96778998, 2.03574327, 2.10369656,\n",
       "        2.17164985, 2.23960314, 2.30755642, 2.37550971, 2.443463  ,\n",
       "        2.51141629, 2.57936958, 2.64732286, 2.71527615, 2.78322944,\n",
       "        2.85118273, 2.91913602, 2.9870893 , 3.05504259, 3.12299588,\n",
       "        3.19094917, 3.25890246, 3.32685574, 3.39480903, 3.46276232,\n",
       "        3.53071561]),\n",
       " <BarContainer object of 50 artists>)"
      ]
     },
     "execution_count": 17,
     "metadata": {},
     "output_type": "execute_result"
    },
    {
     "data": {
      "image/png": "[encoded data removed]",
      "text/plain": [
       "<Figure size 432x288 with 1 Axes>"
      ]
     },
     "metadata": {},
     "output_type": "display_data"
    },
    {
     "data": {
      "application/javascript": [
       "\n",
       "            setTimeout(function() {\n",
       "                var nbb_cell_id = 17;\n",
       "                var nbb_unformatted_code = \"plt.hist(np.mean(posterior_samples[:, :, 0], axis=0), alpha=0.5, bins=50)\\nplt.hist(np.mean(posterior_samples[:, :, 1], axis=0), alpha=0.5, bins=50)\";\n",
       "                var nbb_formatted_code = \"plt.hist(np.mean(posterior_samples[:, :, 0], axis=0), alpha=0.5, bins=50)\\nplt.hist(np.mean(posterior_samples[:, :, 1], axis=0), alpha=0.5, bins=50)\";\n",
       "                var nbb_cells = Jupyter.notebook.get_cells();\n",
       "                for (var i = 0; i < nbb_cells.length; ++i) {\n",
       "                    if (nbb_cells[i].input_prompt_number == nbb_cell_id) {\n",
       "                        if (nbb_cells[i].get_text() == nbb_unformatted_code) {\n",
       "                             nbb_cells[i].set_text(nbb_formatted_code);\n",
       "                        }\n",
       "                        break;\n",
       "                    }\n",
       "                }\n",
       "            }, 500);\n",
       "            "
      ],
      "text/plain": [
       "<IPython.core.display.Javascript object>"
      ]
     },
     "metadata": {},
     "output_type": "display_data"
    }
   ],
   "source": [
    "plt.hist(np.mean(posterior_samples[:, :, 0], axis=0), alpha=0.5, bins=50)\n",
    "plt.hist(np.mean(posterior_samples[:, :, 1], axis=0), alpha=0.5, bins=50)"
   ]
  },
  {
   "cell_type": "markdown",
   "id": "f69042f3",
   "metadata": {},
   "source": [
    "**Use the asin (same as productid) of the products to get the embeddings for these products\n",
    "We will use the EmbeddingRatingPredictor class to get the embeddings merged on the DF of product reviews**\n"
   ]
  },
  {
   "cell_type": "code",
   "execution_count": 28,
   "id": "56013edd",
   "metadata": {},
   "outputs": [
    {
     "name": "stdout",
     "output_type": "stream",
     "text": [
      "\t Device set to cpu, using torch num threads=16\n",
      "Using the dense network: \n",
      " Sequential(\n",
      "  (0): Linear(in_features=100, out_features=256, bias=True)\n",
      "  (1): LeakyReLU(negative_slope=0.01)\n",
      "  (2): Linear(in_features=256, out_features=128, bias=True)\n",
      "  (3): LeakyReLU(negative_slope=0.01)\n",
      "  (4): Linear(in_features=128, out_features=64, bias=True)\n",
      "  (5): LeakyReLU(negative_slope=0.01)\n",
      "  (6): Linear(in_features=64, out_features=5, bias=True)\n",
      ")\n"
     ]
    },
    {
     "data": {
      "application/javascript": [
       "\n",
       "            setTimeout(function() {\n",
       "                var nbb_cell_id = 28;\n",
       "                var nbb_unformatted_code = \"embedding_model = EmbeddingRatingPredictor(artifact_path=ARTIFACT_PATH)\";\n",
       "                var nbb_formatted_code = \"embedding_model = EmbeddingRatingPredictor(artifact_path=ARTIFACT_PATH)\";\n",
       "                var nbb_cells = Jupyter.notebook.get_cells();\n",
       "                for (var i = 0; i < nbb_cells.length; ++i) {\n",
       "                    if (nbb_cells[i].input_prompt_number == nbb_cell_id) {\n",
       "                        if (nbb_cells[i].get_text() == nbb_unformatted_code) {\n",
       "                             nbb_cells[i].set_text(nbb_formatted_code);\n",
       "                        }\n",
       "                        break;\n",
       "                    }\n",
       "                }\n",
       "            }, 500);\n",
       "            "
      ],
      "text/plain": [
       "<IPython.core.display.Javascript object>"
      ]
     },
     "metadata": {},
     "output_type": "display_data"
    }
   ],
   "source": [
    "embedding_model = EmbeddingRatingPredictor(artifact_path=ARTIFACT_PATH)"
   ]
  },
  {
   "cell_type": "code",
   "execution_count": 29,
   "id": "e7966556",
   "metadata": {},
   "outputs": [
    {
     "name": "stdout",
     "output_type": "stream",
     "text": [
      "Merged product embeddings with review histograms and produced merged DF of shape: (13598, 8)\n"
     ]
    },
    {
     "data": {
      "text/html": [
       "<div>\n",
       "<style scoped>\n",
       "    .dataframe tbody tr th:only-of-type {\n",
       "        vertical-align: middle;\n",
       "    }\n",
       "\n",
       "    .dataframe tbody tr th {\n",
       "        vertical-align: top;\n",
       "    }\n",
       "\n",
       "    .dataframe thead th {\n",
       "        text-align: right;\n",
       "    }\n",
       "</style>\n",
       "<table border=\"1\" class=\"dataframe\">\n",
       "  <thead>\n",
       "    <tr style=\"text-align: right;\">\n",
       "      <th></th>\n",
       "      <th>productid</th>\n",
       "      <th>embedding</th>\n",
       "      <th>asin</th>\n",
       "      <th>1</th>\n",
       "      <th>2</th>\n",
       "      <th>3</th>\n",
       "      <th>4</th>\n",
       "      <th>5</th>\n",
       "    </tr>\n",
       "  </thead>\n",
       "  <tbody>\n",
       "    <tr>\n",
       "      <th>0</th>\n",
       "      <td>2398095</td>\n",
       "      <td>[-0.00132273, 0.00133095, 0.00121696, 0.000980...</td>\n",
       "      <td>2398095</td>\n",
       "      <td>18</td>\n",
       "      <td>7</td>\n",
       "      <td>20</td>\n",
       "      <td>44</td>\n",
       "      <td>98</td>\n",
       "    </tr>\n",
       "    <tr>\n",
       "      <th>1</th>\n",
       "      <td>2457747</td>\n",
       "      <td>[0.00190553, -0.000276951, 0.00347389, -0.0042...</td>\n",
       "      <td>2457747</td>\n",
       "      <td>12</td>\n",
       "      <td>4</td>\n",
       "      <td>6</td>\n",
       "      <td>23</td>\n",
       "      <td>48</td>\n",
       "    </tr>\n",
       "    <tr>\n",
       "      <th>2</th>\n",
       "      <td>2629881</td>\n",
       "      <td>[0.000376349, 0.0025969, -0.00219417, 0.000960...</td>\n",
       "      <td>2629881</td>\n",
       "      <td>12</td>\n",
       "      <td>8</td>\n",
       "      <td>18</td>\n",
       "      <td>37</td>\n",
       "      <td>93</td>\n",
       "    </tr>\n",
       "    <tr>\n",
       "      <th>3</th>\n",
       "      <td>2621353</td>\n",
       "      <td>[0.000548561, -0.000543399, -5.87009e-05, -0.0...</td>\n",
       "      <td>2621353</td>\n",
       "      <td>6</td>\n",
       "      <td>2</td>\n",
       "      <td>4</td>\n",
       "      <td>48</td>\n",
       "      <td>153</td>\n",
       "    </tr>\n",
       "    <tr>\n",
       "      <th>4</th>\n",
       "      <td>1222540</td>\n",
       "      <td>[0.000302659, 0.000807013, -0.0032046, 0.00455...</td>\n",
       "      <td>1222540</td>\n",
       "      <td>15</td>\n",
       "      <td>4</td>\n",
       "      <td>6</td>\n",
       "      <td>27</td>\n",
       "      <td>147</td>\n",
       "    </tr>\n",
       "  </tbody>\n",
       "</table>\n",
       "</div>"
      ],
      "text/plain": [
       "   productid                                          embedding     asin   1  \\\n",
       "0    2398095  [-0.00132273, 0.00133095, 0.00121696, 0.000980...  2398095  18   \n",
       "1    2457747  [0.00190553, -0.000276951, 0.00347389, -0.0042...  2457747  12   \n",
       "2    2629881  [0.000376349, 0.0025969, -0.00219417, 0.000960...  2629881  12   \n",
       "3    2621353  [0.000548561, -0.000543399, -5.87009e-05, -0.0...  2621353   6   \n",
       "4    1222540  [0.000302659, 0.000807013, -0.0032046, 0.00455...  1222540  15   \n",
       "\n",
       "   2   3   4    5  \n",
       "0  7  20  44   98  \n",
       "1  4   6  23   48  \n",
       "2  8  18  37   93  \n",
       "3  2   4  48  153  \n",
       "4  4   6  27  147  "
      ]
     },
     "execution_count": 29,
     "metadata": {},
     "output_type": "execute_result"
    },
    {
     "data": {
      "application/javascript": [
       "\n",
       "            setTimeout(function() {\n",
       "                var nbb_cell_id = 29;\n",
       "                var nbb_unformatted_code = \"embedding_df = embedding_model.process_input_data()\\nembedding_df.head()\";\n",
       "                var nbb_formatted_code = \"embedding_df = embedding_model.process_input_data()\\nembedding_df.head()\";\n",
       "                var nbb_cells = Jupyter.notebook.get_cells();\n",
       "                for (var i = 0; i < nbb_cells.length; ++i) {\n",
       "                    if (nbb_cells[i].input_prompt_number == nbb_cell_id) {\n",
       "                        if (nbb_cells[i].get_text() == nbb_unformatted_code) {\n",
       "                             nbb_cells[i].set_text(nbb_formatted_code);\n",
       "                        }\n",
       "                        break;\n",
       "                    }\n",
       "                }\n",
       "            }, 500);\n",
       "            "
      ],
      "text/plain": [
       "<IPython.core.display.Javascript object>"
      ]
     },
     "metadata": {},
     "output_type": "display_data"
    }
   ],
   "source": [
    "embedding_df = embedding_model.process_input_data()\n",
    "embedding_df.head()"
   ]
  },
  {
   "cell_type": "code",
   "execution_count": 30,
   "id": "5f061da6",
   "metadata": {},
   "outputs": [
    {
     "data": {
      "application/javascript": [
       "\n",
       "            setTimeout(function() {\n",
       "                var nbb_cell_id = 30;\n",
       "                var nbb_unformatted_code = \"# Check if all 1406 products for which we have posterior samples are in the embedding DF\\nassert pd.Series(timeseries_asin).isin(embedding_df.productid[:]).sum() == 1406\";\n",
       "                var nbb_formatted_code = \"# Check if all 1406 products for which we have posterior samples are in the embedding DF\\nassert pd.Series(timeseries_asin).isin(embedding_df.productid[:]).sum() == 1406\";\n",
       "                var nbb_cells = Jupyter.notebook.get_cells();\n",
       "                for (var i = 0; i < nbb_cells.length; ++i) {\n",
       "                    if (nbb_cells[i].input_prompt_number == nbb_cell_id) {\n",
       "                        if (nbb_cells[i].get_text() == nbb_unformatted_code) {\n",
       "                             nbb_cells[i].set_text(nbb_formatted_code);\n",
       "                        }\n",
       "                        break;\n",
       "                    }\n",
       "                }\n",
       "            }, 500);\n",
       "            "
      ],
      "text/plain": [
       "<IPython.core.display.Javascript object>"
      ]
     },
     "metadata": {},
     "output_type": "display_data"
    }
   ],
   "source": [
    "# Check if all 1406 products for which we have posterior samples are in the embedding DF\n",
    "assert pd.Series(timeseries_asin).isin(embedding_df.productid[:]).sum() == 1406"
   ]
  },
  {
   "cell_type": "code",
   "execution_count": 31,
   "id": "9946bf4a",
   "metadata": {},
   "outputs": [
    {
     "data": {
      "application/javascript": [
       "\n",
       "            setTimeout(function() {\n",
       "                var nbb_cell_id = 31;\n",
       "                var nbb_unformatted_code = \"prod_embeddings = np.zeros(\\n    (timeseries_asin.shape[0], embedding_df[\\\"embedding\\\"][0].shape[0]), dtype=np.float64\\n)\";\n",
       "                var nbb_formatted_code = \"prod_embeddings = np.zeros(\\n    (timeseries_asin.shape[0], embedding_df[\\\"embedding\\\"][0].shape[0]), dtype=np.float64\\n)\";\n",
       "                var nbb_cells = Jupyter.notebook.get_cells();\n",
       "                for (var i = 0; i < nbb_cells.length; ++i) {\n",
       "                    if (nbb_cells[i].input_prompt_number == nbb_cell_id) {\n",
       "                        if (nbb_cells[i].get_text() == nbb_unformatted_code) {\n",
       "                             nbb_cells[i].set_text(nbb_formatted_code);\n",
       "                        }\n",
       "                        break;\n",
       "                    }\n",
       "                }\n",
       "            }, 500);\n",
       "            "
      ],
      "text/plain": [
       "<IPython.core.display.Javascript object>"
      ]
     },
     "metadata": {},
     "output_type": "display_data"
    }
   ],
   "source": [
    "prod_embeddings = np.zeros(\n",
    "    (timeseries_asin.shape[0], embedding_df[\"embedding\"][0].shape[0]), dtype=np.float64\n",
    ")"
   ]
  },
  {
   "cell_type": "code",
   "execution_count": 32,
   "id": "ca876318",
   "metadata": {},
   "outputs": [
    {
     "data": {
      "application/javascript": [
       "\n",
       "            setTimeout(function() {\n",
       "                var nbb_cell_id = 32;\n",
       "                var nbb_unformatted_code = \"for i, asin in enumerate(timeseries_asin):\\n    prod_embeddings[i, :] = embedding_df[\\\"embedding\\\"][\\n        np.where(embedding_df[\\\"asin\\\"] == asin)[0][0]\\n    ]\";\n",
       "                var nbb_formatted_code = \"for i, asin in enumerate(timeseries_asin):\\n    prod_embeddings[i, :] = embedding_df[\\\"embedding\\\"][\\n        np.where(embedding_df[\\\"asin\\\"] == asin)[0][0]\\n    ]\";\n",
       "                var nbb_cells = Jupyter.notebook.get_cells();\n",
       "                for (var i = 0; i < nbb_cells.length; ++i) {\n",
       "                    if (nbb_cells[i].input_prompt_number == nbb_cell_id) {\n",
       "                        if (nbb_cells[i].get_text() == nbb_unformatted_code) {\n",
       "                             nbb_cells[i].set_text(nbb_formatted_code);\n",
       "                        }\n",
       "                        break;\n",
       "                    }\n",
       "                }\n",
       "            }, 500);\n",
       "            "
      ],
      "text/plain": [
       "<IPython.core.display.Javascript object>"
      ]
     },
     "metadata": {},
     "output_type": "display_data"
    }
   ],
   "source": [
    "for i, asin in enumerate(timeseries_asin):\n",
    "    prod_embeddings[i, :] = embedding_df[\"embedding\"][\n",
    "        np.where(embedding_df[\"asin\"] == asin)[0][0]\n",
    "    ]"
   ]
  },
  {
   "cell_type": "code",
   "execution_count": 33,
   "id": "c042e5e3",
   "metadata": {},
   "outputs": [
    {
     "data": {
      "application/javascript": [
       "\n",
       "            setTimeout(function() {\n",
       "                var nbb_cell_id = 33;\n",
       "                var nbb_unformatted_code = \"# Check that all entries in prod_embeddings have been filled and no zeros remain\\nfor i in range(prod_embeddings.shape[0]):\\n    np.testing.assert_raises(\\n        AssertionError,\\n        np.testing.assert_array_equal,\\n        prod_embeddings[i, :],\\n        np.zeros(prod_embeddings.shape[1]),\\n    )\";\n",
       "                var nbb_formatted_code = \"# Check that all entries in prod_embeddings have been filled and no zeros remain\\nfor i in range(prod_embeddings.shape[0]):\\n    np.testing.assert_raises(\\n        AssertionError,\\n        np.testing.assert_array_equal,\\n        prod_embeddings[i, :],\\n        np.zeros(prod_embeddings.shape[1]),\\n    )\";\n",
       "                var nbb_cells = Jupyter.notebook.get_cells();\n",
       "                for (var i = 0; i < nbb_cells.length; ++i) {\n",
       "                    if (nbb_cells[i].input_prompt_number == nbb_cell_id) {\n",
       "                        if (nbb_cells[i].get_text() == nbb_unformatted_code) {\n",
       "                             nbb_cells[i].set_text(nbb_formatted_code);\n",
       "                        }\n",
       "                        break;\n",
       "                    }\n",
       "                }\n",
       "            }, 500);\n",
       "            "
      ],
      "text/plain": [
       "<IPython.core.display.Javascript object>"
      ]
     },
     "metadata": {},
     "output_type": "display_data"
    }
   ],
   "source": [
    "# Check that all entries in prod_embeddings have been filled and no zeros remain\n",
    "for i in range(prod_embeddings.shape[0]):\n",
    "    np.testing.assert_raises(\n",
    "        AssertionError,\n",
    "        np.testing.assert_array_equal,\n",
    "        prod_embeddings[i, :],\n",
    "        np.zeros(prod_embeddings.shape[1]),\n",
    "    )"
   ]
  },
  {
   "cell_type": "code",
   "execution_count": 34,
   "id": "ae6fcc3e",
   "metadata": {},
   "outputs": [
    {
     "data": {
      "text/plain": [
       "array([[-4.11681e-03,  1.80585e-03, -8.98450e-03, ..., -2.05065e-04,\n",
       "         8.51237e-03,  1.09170e-02],\n",
       "       [ 1.72160e-02, -3.38803e-03, -1.87432e-02, ...,  2.71445e-02,\n",
       "        -5.06557e-02,  1.00737e-02],\n",
       "       [ 2.91070e-03,  1.99935e-02, -1.98807e-02, ...,  9.78761e-03,\n",
       "        -2.26701e-02,  5.75858e-03],\n",
       "       ...,\n",
       "       [ 3.81901e-02,  8.14957e-03, -1.07116e-02, ..., -5.54681e-03,\n",
       "        -1.45016e-02, -1.08123e-02],\n",
       "       [ 9.04170e-05, -3.05208e-03,  5.90112e-03, ...,  1.61582e-02,\n",
       "        -2.63187e-03,  4.46484e-04],\n",
       "       [-2.59947e-04,  1.16812e-03, -1.80062e-02, ..., -2.28944e-03,\n",
       "        -1.58445e-02, -2.84723e-02]])"
      ]
     },
     "execution_count": 34,
     "metadata": {},
     "output_type": "execute_result"
    },
    {
     "data": {
      "application/javascript": [
       "\n",
       "            setTimeout(function() {\n",
       "                var nbb_cell_id = 34;\n",
       "                var nbb_unformatted_code = \"prod_embeddings\";\n",
       "                var nbb_formatted_code = \"prod_embeddings\";\n",
       "                var nbb_cells = Jupyter.notebook.get_cells();\n",
       "                for (var i = 0; i < nbb_cells.length; ++i) {\n",
       "                    if (nbb_cells[i].input_prompt_number == nbb_cell_id) {\n",
       "                        if (nbb_cells[i].get_text() == nbb_unformatted_code) {\n",
       "                             nbb_cells[i].set_text(nbb_formatted_code);\n",
       "                        }\n",
       "                        break;\n",
       "                    }\n",
       "                }\n",
       "            }, 500);\n",
       "            "
      ],
      "text/plain": [
       "<IPython.core.display.Javascript object>"
      ]
     },
     "metadata": {},
     "output_type": "display_data"
    }
   ],
   "source": [
    "prod_embeddings"
   ]
  },
  {
   "cell_type": "code",
   "execution_count": 35,
   "id": "f1c664d9",
   "metadata": {},
   "outputs": [
    {
     "data": {
      "text/plain": [
       "(1406,)"
      ]
     },
     "execution_count": 35,
     "metadata": {},
     "output_type": "execute_result"
    },
    {
     "data": {
      "application/javascript": [
       "\n",
       "            setTimeout(function() {\n",
       "                var nbb_cell_id = 35;\n",
       "                var nbb_unformatted_code = \"timeseries_data.shape\";\n",
       "                var nbb_formatted_code = \"timeseries_data.shape\";\n",
       "                var nbb_cells = Jupyter.notebook.get_cells();\n",
       "                for (var i = 0; i < nbb_cells.length; ++i) {\n",
       "                    if (nbb_cells[i].input_prompt_number == nbb_cell_id) {\n",
       "                        if (nbb_cells[i].get_text() == nbb_unformatted_code) {\n",
       "                             nbb_cells[i].set_text(nbb_formatted_code);\n",
       "                        }\n",
       "                        break;\n",
       "                    }\n",
       "                }\n",
       "            }, 500);\n",
       "            "
      ],
      "text/plain": [
       "<IPython.core.display.Javascript object>"
      ]
     },
     "metadata": {},
     "output_type": "display_data"
    }
   ],
   "source": [
    "timeseries_data.shape"
   ]
  },
  {
   "cell_type": "code",
   "execution_count": 36,
   "id": "3686d3d3",
   "metadata": {},
   "outputs": [
    {
     "data": {
      "text/plain": [
       "(array([828., 293., 112.,  62.,  40.,  22.,  13.,  15.,   8.,  13.]),\n",
       " array([  2. ,  69.1, 136.2, 203.3, 270.4, 337.5, 404.6, 471.7, 538.8,\n",
       "        605.9, 673. ]),\n",
       " <BarContainer object of 10 artists>)"
      ]
     },
     "execution_count": 36,
     "metadata": {},
     "output_type": "execute_result"
    },
    {
     "data": {
      "image/png": "[encoded data removed]",
      "text/plain": [
       "<Figure size 432x288 with 1 Axes>"
      ]
     },
     "metadata": {},
     "output_type": "display_data"
    },
    {
     "data": {
      "application/javascript": [
       "\n",
       "            setTimeout(function() {\n",
       "                var nbb_cell_id = 36;\n",
       "                var nbb_unformatted_code = \"plt.hist([len(timeseries) for timeseries in timeseries_data])\";\n",
       "                var nbb_formatted_code = \"plt.hist([len(timeseries) for timeseries in timeseries_data])\";\n",
       "                var nbb_cells = Jupyter.notebook.get_cells();\n",
       "                for (var i = 0; i < nbb_cells.length; ++i) {\n",
       "                    if (nbb_cells[i].input_prompt_number == nbb_cell_id) {\n",
       "                        if (nbb_cells[i].get_text() == nbb_unformatted_code) {\n",
       "                             nbb_cells[i].set_text(nbb_formatted_code);\n",
       "                        }\n",
       "                        break;\n",
       "                    }\n",
       "                }\n",
       "            }, 500);\n",
       "            "
      ],
      "text/plain": [
       "<IPython.core.display.Javascript object>"
      ]
     },
     "metadata": {},
     "output_type": "display_data"
    }
   ],
   "source": [
    "plt.hist([len(timeseries) for timeseries in timeseries_data])"
   ]
  },
  {
   "cell_type": "markdown",
   "id": "1857f5b7",
   "metadata": {},
   "source": [
    "**We will cut off the review timeseries for each product halfway. We will use the first half of each timeseries as input to the simulation process, and will try to predict the 2nd half through the simulations** "
   ]
  },
  {
   "cell_type": "code",
   "execution_count": 15,
   "id": "9a0a8ae6",
   "metadata": {},
   "outputs": [
    {
     "data": {
      "application/javascript": [
       "\n",
       "            setTimeout(function() {\n",
       "                var nbb_cell_id = 15;\n",
       "                var nbb_unformatted_code = \"timeseries_input = []\\ntimeseries_half_len = np.zeros(len(timeseries_data), dtype=int)\\nfor i, timeseries in enumerate(timeseries_data):\\n    timeseries_half_len[i] = len(timeseries) // 2\\n    timeseries_input.append(timeseries[: timeseries_half_len[i], :])\";\n",
       "                var nbb_formatted_code = \"timeseries_input = []\\ntimeseries_half_len = np.zeros(len(timeseries_data), dtype=int)\\nfor i, timeseries in enumerate(timeseries_data):\\n    timeseries_half_len[i] = len(timeseries) // 2\\n    timeseries_input.append(timeseries[: timeseries_half_len[i], :])\";\n",
       "                var nbb_cells = Jupyter.notebook.get_cells();\n",
       "                for (var i = 0; i < nbb_cells.length; ++i) {\n",
       "                    if (nbb_cells[i].input_prompt_number == nbb_cell_id) {\n",
       "                        if (nbb_cells[i].get_text() == nbb_unformatted_code) {\n",
       "                             nbb_cells[i].set_text(nbb_formatted_code);\n",
       "                        }\n",
       "                        break;\n",
       "                    }\n",
       "                }\n",
       "            }, 500);\n",
       "            "
      ],
      "text/plain": [
       "<IPython.core.display.Javascript object>"
      ]
     },
     "metadata": {},
     "output_type": "display_data"
    }
   ],
   "source": [
    "timeseries_input = []\n",
    "timeseries_half_len = np.zeros(len(timeseries_data), dtype=int)\n",
    "for i, timeseries in enumerate(timeseries_data):\n",
    "    timeseries_half_len[i] = len(timeseries) // 2\n",
    "    timeseries_input.append(timeseries[: timeseries_half_len[i], :])"
   ]
  },
  {
   "cell_type": "code",
   "execution_count": 16,
   "id": "9988d522",
   "metadata": {},
   "outputs": [
    {
     "data": {
      "application/javascript": [
       "\n",
       "            setTimeout(function() {\n",
       "                var nbb_cell_id = 16;\n",
       "                var nbb_unformatted_code = \"# Check that halving the timeseries has not resulted in zero ratings for any product\\nassert np.sum(timeseries_half_len == 0) == 0\";\n",
       "                var nbb_formatted_code = \"# Check that halving the timeseries has not resulted in zero ratings for any product\\nassert np.sum(timeseries_half_len == 0) == 0\";\n",
       "                var nbb_cells = Jupyter.notebook.get_cells();\n",
       "                for (var i = 0; i < nbb_cells.length; ++i) {\n",
       "                    if (nbb_cells[i].input_prompt_number == nbb_cell_id) {\n",
       "                        if (nbb_cells[i].get_text() == nbb_unformatted_code) {\n",
       "                             nbb_cells[i].set_text(nbb_formatted_code);\n",
       "                        }\n",
       "                        break;\n",
       "                    }\n",
       "                }\n",
       "            }, 500);\n",
       "            "
      ],
      "text/plain": [
       "<IPython.core.display.Javascript object>"
      ]
     },
     "metadata": {},
     "output_type": "display_data"
    }
   ],
   "source": [
    "# Check that halving the timeseries has not resulted in zero ratings for any product\n",
    "assert np.sum(timeseries_half_len == 0) == 0"
   ]
  },
  {
   "cell_type": "code",
   "execution_count": 17,
   "id": "85a7f557",
   "metadata": {},
   "outputs": [
    {
     "data": {
      "text/html": [
       "<div>\n",
       "<style scoped>\n",
       "    .dataframe tbody tr th:only-of-type {\n",
       "        vertical-align: middle;\n",
       "    }\n",
       "\n",
       "    .dataframe tbody tr th {\n",
       "        vertical-align: top;\n",
       "    }\n",
       "\n",
       "    .dataframe thead th {\n",
       "        text-align: right;\n",
       "    }\n",
       "</style>\n",
       "<table border=\"1\" class=\"dataframe\">\n",
       "  <thead>\n",
       "    <tr style=\"text-align: right;\">\n",
       "      <th></th>\n",
       "      <th>0</th>\n",
       "    </tr>\n",
       "  </thead>\n",
       "  <tbody>\n",
       "    <tr>\n",
       "      <th>count</th>\n",
       "      <td>1406.000000</td>\n",
       "    </tr>\n",
       "    <tr>\n",
       "      <th>mean</th>\n",
       "      <td>47.539118</td>\n",
       "    </tr>\n",
       "    <tr>\n",
       "      <th>std</th>\n",
       "      <td>58.152000</td>\n",
       "    </tr>\n",
       "    <tr>\n",
       "      <th>min</th>\n",
       "      <td>1.000000</td>\n",
       "    </tr>\n",
       "    <tr>\n",
       "      <th>25%</th>\n",
       "      <td>13.000000</td>\n",
       "    </tr>\n",
       "    <tr>\n",
       "      <th>50%</th>\n",
       "      <td>26.000000</td>\n",
       "    </tr>\n",
       "    <tr>\n",
       "      <th>75%</th>\n",
       "      <td>57.000000</td>\n",
       "    </tr>\n",
       "    <tr>\n",
       "      <th>max</th>\n",
       "      <td>336.000000</td>\n",
       "    </tr>\n",
       "  </tbody>\n",
       "</table>\n",
       "</div>"
      ],
      "text/plain": [
       "                 0\n",
       "count  1406.000000\n",
       "mean     47.539118\n",
       "std      58.152000\n",
       "min       1.000000\n",
       "25%      13.000000\n",
       "50%      26.000000\n",
       "75%      57.000000\n",
       "max     336.000000"
      ]
     },
     "execution_count": 17,
     "metadata": {},
     "output_type": "execute_result"
    },
    {
     "data": {
      "application/javascript": [
       "\n",
       "            setTimeout(function() {\n",
       "                var nbb_cell_id = 17;\n",
       "                var nbb_unformatted_code = \"pd.DataFrame(timeseries_half_len).describe()\";\n",
       "                var nbb_formatted_code = \"pd.DataFrame(timeseries_half_len).describe()\";\n",
       "                var nbb_cells = Jupyter.notebook.get_cells();\n",
       "                for (var i = 0; i < nbb_cells.length; ++i) {\n",
       "                    if (nbb_cells[i].input_prompt_number == nbb_cell_id) {\n",
       "                        if (nbb_cells[i].get_text() == nbb_unformatted_code) {\n",
       "                             nbb_cells[i].set_text(nbb_formatted_code);\n",
       "                        }\n",
       "                        break;\n",
       "                    }\n",
       "                }\n",
       "            }, 500);\n",
       "            "
      ],
      "text/plain": [
       "<IPython.core.display.Javascript object>"
      ]
     },
     "metadata": {},
     "output_type": "display_data"
    }
   ],
   "source": [
    "pd.DataFrame(timeseries_half_len).describe()"
   ]
  },
  {
   "cell_type": "code",
   "execution_count": 18,
   "id": "8b9b228b",
   "metadata": {},
   "outputs": [
    {
     "data": {
      "application/javascript": [
       "\n",
       "            setTimeout(function() {\n",
       "                var nbb_cell_id = 18;\n",
       "                var nbb_unformatted_code = \"timeseries_input = np.array(timeseries_input, dtype=object)\";\n",
       "                var nbb_formatted_code = \"timeseries_input = np.array(timeseries_input, dtype=object)\";\n",
       "                var nbb_cells = Jupyter.notebook.get_cells();\n",
       "                for (var i = 0; i < nbb_cells.length; ++i) {\n",
       "                    if (nbb_cells[i].input_prompt_number == nbb_cell_id) {\n",
       "                        if (nbb_cells[i].get_text() == nbb_unformatted_code) {\n",
       "                             nbb_cells[i].set_text(nbb_formatted_code);\n",
       "                        }\n",
       "                        break;\n",
       "                    }\n",
       "                }\n",
       "            }, 500);\n",
       "            "
      ],
      "text/plain": [
       "<IPython.core.display.Javascript object>"
      ]
     },
     "metadata": {},
     "output_type": "display_data"
    }
   ],
   "source": [
    "timeseries_input = np.array(timeseries_input, dtype=object)"
   ]
  },
  {
   "cell_type": "code",
   "execution_count": 19,
   "id": "513b78d7",
   "metadata": {},
   "outputs": [
    {
     "data": {
      "text/plain": [
       "1406"
      ]
     },
     "execution_count": 19,
     "metadata": {},
     "output_type": "execute_result"
    },
    {
     "data": {
      "application/javascript": [
       "\n",
       "            setTimeout(function() {\n",
       "                var nbb_cell_id = 19;\n",
       "                var nbb_unformatted_code = \"len(timeseries_input)\";\n",
       "                var nbb_formatted_code = \"len(timeseries_input)\";\n",
       "                var nbb_cells = Jupyter.notebook.get_cells();\n",
       "                for (var i = 0; i < nbb_cells.length; ++i) {\n",
       "                    if (nbb_cells[i].input_prompt_number == nbb_cell_id) {\n",
       "                        if (nbb_cells[i].get_text() == nbb_unformatted_code) {\n",
       "                             nbb_cells[i].set_text(nbb_formatted_code);\n",
       "                        }\n",
       "                        break;\n",
       "                    }\n",
       "                }\n",
       "            }, 500);\n",
       "            "
      ],
      "text/plain": [
       "<IPython.core.display.Javascript object>"
      ]
     },
     "metadata": {},
     "output_type": "display_data"
    }
   ],
   "source": [
    "len(timeseries_input)"
   ]
  },
  {
   "cell_type": "code",
   "execution_count": 20,
   "id": "1eab9cfb",
   "metadata": {},
   "outputs": [
    {
     "data": {
      "text/plain": [
       "66840"
      ]
     },
     "execution_count": 20,
     "metadata": {},
     "output_type": "execute_result"
    },
    {
     "data": {
      "application/javascript": [
       "\n",
       "            setTimeout(function() {\n",
       "                var nbb_cell_id = 20;\n",
       "                var nbb_unformatted_code = \"np.sum(timeseries_half_len)\";\n",
       "                var nbb_formatted_code = \"np.sum(timeseries_half_len)\";\n",
       "                var nbb_cells = Jupyter.notebook.get_cells();\n",
       "                for (var i = 0; i < nbb_cells.length; ++i) {\n",
       "                    if (nbb_cells[i].input_prompt_number == nbb_cell_id) {\n",
       "                        if (nbb_cells[i].get_text() == nbb_unformatted_code) {\n",
       "                             nbb_cells[i].set_text(nbb_formatted_code);\n",
       "                        }\n",
       "                        break;\n",
       "                    }\n",
       "                }\n",
       "            }, 500);\n",
       "            "
      ],
      "text/plain": [
       "<IPython.core.display.Javascript object>"
      ]
     },
     "metadata": {},
     "output_type": "display_data"
    }
   ],
   "source": [
    "np.sum(timeseries_half_len)"
   ]
  },
  {
   "cell_type": "code",
   "execution_count": 22,
   "id": "ba13c5d0",
   "metadata": {},
   "outputs": [
    {
     "data": {
      "application/javascript": [
       "\n",
       "            setTimeout(function() {\n",
       "                var nbb_cell_id = 22;\n",
       "                var nbb_unformatted_code = \"# Create the dict of simulator parameters\\nsimulator_params = {\\n    \\\"review_prior\\\": np.ones(5),\\n    \\\"tendency_to_rate\\\": 0.05,\\n    \\\"simulation_type\\\": \\\"timeseries\\\",\\n    \\\"previous_rating_measure\\\": \\\"mode\\\",\\n    \\\"min_reviews_for_herding\\\": 5,\\n    # \\\"num_products\\\": posterior_samples.shape[1],\\n    \\\"num_products\\\": 100,\\n    # \\\"num_total_marketplace_reviews\\\": 140_000,\\n    \\\"num_total_marketplace_reviews\\\": 10_000,\\n    \\\"consideration_set_size\\\": 5,\\n}\\nnum_marketplaces = 32\";\n",
       "                var nbb_formatted_code = \"# Create the dict of simulator parameters\\nsimulator_params = {\\n    \\\"review_prior\\\": np.ones(5),\\n    \\\"tendency_to_rate\\\": 0.05,\\n    \\\"simulation_type\\\": \\\"timeseries\\\",\\n    \\\"previous_rating_measure\\\": \\\"mode\\\",\\n    \\\"min_reviews_for_herding\\\": 5,\\n    # \\\"num_products\\\": posterior_samples.shape[1],\\n    \\\"num_products\\\": 100,\\n    # \\\"num_total_marketplace_reviews\\\": 140_000,\\n    \\\"num_total_marketplace_reviews\\\": 10_000,\\n    \\\"consideration_set_size\\\": 5,\\n}\\nnum_marketplaces = 32\";\n",
       "                var nbb_cells = Jupyter.notebook.get_cells();\n",
       "                for (var i = 0; i < nbb_cells.length; ++i) {\n",
       "                    if (nbb_cells[i].input_prompt_number == nbb_cell_id) {\n",
       "                        if (nbb_cells[i].get_text() == nbb_unformatted_code) {\n",
       "                             nbb_cells[i].set_text(nbb_formatted_code);\n",
       "                        }\n",
       "                        break;\n",
       "                    }\n",
       "                }\n",
       "            }, 500);\n",
       "            "
      ],
      "text/plain": [
       "<IPython.core.display.Javascript object>"
      ]
     },
     "metadata": {},
     "output_type": "display_data"
    }
   ],
   "source": [
    "# Create the dict of simulator parameters\n",
    "simulator_params = {\n",
    "    \"review_prior\": np.ones(5),\n",
    "    \"tendency_to_rate\": 0.05,\n",
    "    \"simulation_type\": \"timeseries\",\n",
    "    \"previous_rating_measure\": \"mode\",\n",
    "    \"min_reviews_for_herding\": 5,\n",
    "    # \"num_products\": posterior_samples.shape[1],\n",
    "    \"num_products\": 100,\n",
    "    # \"num_total_marketplace_reviews\": 140_000,\n",
    "    \"num_total_marketplace_reviews\": 10_000,\n",
    "    \"consideration_set_size\": 5,\n",
    "}\n",
    "num_marketplaces = 32"
   ]
  },
  {
   "cell_type": "code",
   "execution_count": 34,
   "id": "8c2e70bd",
   "metadata": {},
   "outputs": [
    {
     "data": {
      "text/plain": [
       "(2000, 44992, 3)"
      ]
     },
     "execution_count": 34,
     "metadata": {},
     "output_type": "execute_result"
    },
    {
     "data": {
      "application/javascript": [
       "\n",
       "            setTimeout(function() {\n",
       "                var nbb_cell_id = 34;\n",
       "                var nbb_unformatted_code = \"# Sample from the posteriors to build a simulation parameter dict that we can use to input during simulations\\n# Since the posteriors were already sampled at random from the underlying normalizing flow, we can just\\n# directly use them\\nreshaped_posterior = np.tile(\\n    posterior_samples[:, None, :, :], (1, num_marketplaces, 1, 1)\\n).reshape(posterior_samples.shape[0], -1, 3)\\nreshaped_posterior.shape\";\n",
       "                var nbb_formatted_code = \"# Sample from the posteriors to build a simulation parameter dict that we can use to input during simulations\\n# Since the posteriors were already sampled at random from the underlying normalizing flow, we can just\\n# directly use them\\nreshaped_posterior = np.tile(\\n    posterior_samples[:, None, :, :], (1, num_marketplaces, 1, 1)\\n).reshape(posterior_samples.shape[0], -1, 3)\\nreshaped_posterior.shape\";\n",
       "                var nbb_cells = Jupyter.notebook.get_cells();\n",
       "                for (var i = 0; i < nbb_cells.length; ++i) {\n",
       "                    if (nbb_cells[i].input_prompt_number == nbb_cell_id) {\n",
       "                        if (nbb_cells[i].get_text() == nbb_unformatted_code) {\n",
       "                             nbb_cells[i].set_text(nbb_formatted_code);\n",
       "                        }\n",
       "                        break;\n",
       "                    }\n",
       "                }\n",
       "            }, 500);\n",
       "            "
      ],
      "text/plain": [
       "<IPython.core.display.Javascript object>"
      ]
     },
     "metadata": {},
     "output_type": "display_data"
    }
   ],
   "source": [
    "# Sample from the posteriors to build a simulation parameter dict that we can use to input during simulations\n",
    "# Since the posteriors were already sampled at random from the underlying normalizing flow, we can just\n",
    "# directly use them\n",
    "reshaped_posterior = np.tile(\n",
    "    posterior_samples[:, None, :, :], (1, num_marketplaces, 1, 1)\n",
    ").reshape(posterior_samples.shape[0], -1, 3)\n",
    "reshaped_posterior.shape"
   ]
  },
  {
   "cell_type": "code",
   "execution_count": 35,
   "id": "0ef0e439",
   "metadata": {},
   "outputs": [
    {
     "data": {
      "application/javascript": [
       "\n",
       "            setTimeout(function() {\n",
       "                var nbb_cell_id = 35;\n",
       "                var nbb_unformatted_code = \"for i in range(num_marketplaces):\\n    np.testing.assert_array_equal(\\n        reshaped_posterior[\\n            :, posterior_samples.shape[1] * i : posterior_samples.shape[1] * (i + 1), :\\n        ],\\n        posterior_samples[:, :, :],\\n    )\\nsimulation_params = {\\n    \\\"rho\\\": reshaped_posterior[:, :, :2],\\n    \\\"h_p\\\": reshaped_posterior[:, :, 2],\\n}\";\n",
       "                var nbb_formatted_code = \"for i in range(num_marketplaces):\\n    np.testing.assert_array_equal(\\n        reshaped_posterior[\\n            :, posterior_samples.shape[1] * i : posterior_samples.shape[1] * (i + 1), :\\n        ],\\n        posterior_samples[:, :, :],\\n    )\\nsimulation_params = {\\n    \\\"rho\\\": reshaped_posterior[:, :, :2],\\n    \\\"h_p\\\": reshaped_posterior[:, :, 2],\\n}\";\n",
       "                var nbb_cells = Jupyter.notebook.get_cells();\n",
       "                for (var i = 0; i < nbb_cells.length; ++i) {\n",
       "                    if (nbb_cells[i].input_prompt_number == nbb_cell_id) {\n",
       "                        if (nbb_cells[i].get_text() == nbb_unformatted_code) {\n",
       "                             nbb_cells[i].set_text(nbb_formatted_code);\n",
       "                        }\n",
       "                        break;\n",
       "                    }\n",
       "                }\n",
       "            }, 500);\n",
       "            "
      ],
      "text/plain": [
       "<IPython.core.display.Javascript object>"
      ]
     },
     "metadata": {},
     "output_type": "display_data"
    }
   ],
   "source": [
    "for i in range(num_marketplaces):\n",
    "    np.testing.assert_array_equal(\n",
    "        reshaped_posterior[\n",
    "            :, posterior_samples.shape[1] * i : posterior_samples.shape[1] * (i + 1), :\n",
    "        ],\n",
    "        posterior_samples[:, :, :],\n",
    "    )\n",
    "simulation_params = {\n",
    "    \"rho\": reshaped_posterior[:, :, :2],\n",
    "    \"h_p\": reshaped_posterior[:, :, 2],\n",
    "}"
   ]
  },
  {
   "cell_type": "code",
   "execution_count": 36,
   "id": "6cff576e",
   "metadata": {
    "scrolled": true
   },
   "outputs": [
    {
     "data": {
      "application/javascript": [
       "\n",
       "            setTimeout(function() {\n",
       "                var nbb_cell_id = 36;\n",
       "                var nbb_unformatted_code = \"simulator = marketplace_simulator_class.MarketplaceSimulator(simulator_params)\";\n",
       "                var nbb_formatted_code = \"simulator = marketplace_simulator_class.MarketplaceSimulator(simulator_params)\";\n",
       "                var nbb_cells = Jupyter.notebook.get_cells();\n",
       "                for (var i = 0; i < nbb_cells.length; ++i) {\n",
       "                    if (nbb_cells[i].input_prompt_number == nbb_cell_id) {\n",
       "                        if (nbb_cells[i].get_text() == nbb_unformatted_code) {\n",
       "                             nbb_cells[i].set_text(nbb_formatted_code);\n",
       "                        }\n",
       "                        break;\n",
       "                    }\n",
       "                }\n",
       "            }, 500);\n",
       "            "
      ],
      "text/plain": [
       "<IPython.core.display.Javascript object>"
      ]
     },
     "metadata": {},
     "output_type": "display_data"
    }
   ],
   "source": [
    "simulator = marketplace_simulator_class.MarketplaceSimulator(simulator_params)"
   ]
  },
  {
   "cell_type": "code",
   "execution_count": 37,
   "id": "cc2d64e0",
   "metadata": {},
   "outputs": [
    {
     "name": "stderr",
     "output_type": "stream",
     "text": [
      "/opt/conda/lib/python3.9/site-packages/sklearn/base.py:329: UserWarning: Trying to unpickle estimator GaussianMixture from version 0.24.2 when using version 1.0.2. This might lead to breaking code or invalid results. Use at your own risk. For more info please refer to:\n",
      "https://scikit-learn.org/stable/modules/model_persistence.html#security-maintainability-limitations\n",
      "  warnings.warn(\n"
     ]
    },
    {
     "name": "stdout",
     "output_type": "stream",
     "text": [
      "Loaded product embedding density estimator: \n",
      " GaussianMixture(max_iter=500, n_components=10, n_init=5, random_state=42,\n",
      "                verbose=2, verbose_interval=20)\n",
      "Loaded user embedding density estimator: \n",
      " GaussianMixture(max_iter=500, n_components=10, n_init=5, random_state=42,\n",
      "                verbose=2, verbose_interval=20)\n",
      "\t Device set to cpu, using torch num threads=32\n",
      "Using the dense network: \n",
      " Sequential(\n",
      "  (0): Linear(in_features=100, out_features=256, bias=True)\n",
      "  (1): LeakyReLU(negative_slope=0.01)\n",
      "  (2): Linear(in_features=256, out_features=128, bias=True)\n",
      "  (3): LeakyReLU(negative_slope=0.01)\n",
      "  (4): Linear(in_features=128, out_features=64, bias=True)\n",
      "  (5): LeakyReLU(negative_slope=0.01)\n",
      "  (6): Linear(in_features=64, out_features=5, bias=True)\n",
      ")\n",
      "Loaded embedding -> rating predictor model: \n",
      " RatingPredictorModel(\n",
      "  (net): Sequential(\n",
      "    (0): Linear(in_features=100, out_features=256, bias=True)\n",
      "    (1): LeakyReLU(negative_slope=0.01)\n",
      "    (2): Linear(in_features=256, out_features=128, bias=True)\n",
      "    (3): LeakyReLU(negative_slope=0.01)\n",
      "    (4): Linear(in_features=128, out_features=64, bias=True)\n",
      "    (5): LeakyReLU(negative_slope=0.01)\n",
      "    (6): Linear(in_features=64, out_features=5, bias=True)\n",
      "  )\n",
      ")\n"
     ]
    },
    {
     "data": {
      "application/vnd.jupyter.widget-view+json": {
       "model_id": "4192119fa1de4e198a4f4939fe9c2192",
       "version_major": 2,
       "version_minor": 0
      },
      "text/plain": [
       "Worker 1:   0%|          | 0/140000 [00:00<?, ?it/s]"
      ]
     },
     "metadata": {},
     "output_type": "display_data"
    },
    {
     "data": {
      "application/vnd.jupyter.widget-view+json": {
       "model_id": "abde0e9207234c2a9f678dcc3c7d0833",
       "version_major": 2,
       "version_minor": 0
      },
      "text/plain": [
       "Worker 2:   0%|          | 0/140000 [00:00<?, ?it/s]"
      ]
     },
     "metadata": {},
     "output_type": "display_data"
    },
    {
     "data": {
      "application/vnd.jupyter.widget-view+json": {
       "model_id": "926815b300914826bea1a0b460555867",
       "version_major": 2,
       "version_minor": 0
      },
      "text/plain": [
       "Worker 3:   0%|          | 0/140000 [00:00<?, ?it/s]"
      ]
     },
     "metadata": {},
     "output_type": "display_data"
    },
    {
     "data": {
      "application/vnd.jupyter.widget-view+json": {
       "model_id": "e47db6cc5c2d4bc29a82d1b8ae29396e",
       "version_major": 2,
       "version_minor": 0
      },
      "text/plain": [
       "Worker 4:   0%|          | 0/140000 [00:00<?, ?it/s]"
      ]
     },
     "metadata": {},
     "output_type": "display_data"
    },
    {
     "data": {
      "application/vnd.jupyter.widget-view+json": {
       "model_id": "6f4a1e8310484eb6b6d1978414bcd573",
       "version_major": 2,
       "version_minor": 0
      },
      "text/plain": [
       "Worker 5:   0%|          | 0/140000 [00:00<?, ?it/s]"
      ]
     },
     "metadata": {},
     "output_type": "display_data"
    },
    {
     "data": {
      "application/vnd.jupyter.widget-view+json": {
       "model_id": "42d05e39bb9146d1afe6b51a2121cd8a",
       "version_major": 2,
       "version_minor": 0
      },
      "text/plain": [
       "Worker 6:   0%|          | 0/140000 [00:00<?, ?it/s]"
      ]
     },
     "metadata": {},
     "output_type": "display_data"
    },
    {
     "data": {
      "application/vnd.jupyter.widget-view+json": {
       "model_id": "fdd9feea460c47c9a9a9969d52030067",
       "version_major": 2,
       "version_minor": 0
      },
      "text/plain": [
       "Worker 7:   0%|          | 0/140000 [00:00<?, ?it/s]"
      ]
     },
     "metadata": {},
     "output_type": "display_data"
    },
    {
     "data": {
      "application/vnd.jupyter.widget-view+json": {
       "model_id": "799be4568e3d42be860619d421d910dc",
       "version_major": 2,
       "version_minor": 0
      },
      "text/plain": [
       "Worker 8:   0%|          | 0/140000 [00:00<?, ?it/s]"
      ]
     },
     "metadata": {},
     "output_type": "display_data"
    },
    {
     "data": {
      "application/vnd.jupyter.widget-view+json": {
       "model_id": "e6bb6ef7ebc4462b9e7a5ce86a97cbd4",
       "version_major": 2,
       "version_minor": 0
      },
      "text/plain": [
       "Worker 9:   0%|          | 0/140000 [00:00<?, ?it/s]"
      ]
     },
     "metadata": {},
     "output_type": "display_data"
    },
    {
     "data": {
      "application/vnd.jupyter.widget-view+json": {
       "model_id": "5c9282f8d15b485eab081a916f89d763",
       "version_major": 2,
       "version_minor": 0
      },
      "text/plain": [
       "Worker 10:   0%|          | 0/140000 [00:00<?, ?it/s]"
      ]
     },
     "metadata": {},
     "output_type": "display_data"
    },
    {
     "data": {
      "application/vnd.jupyter.widget-view+json": {
       "model_id": "9021c644ca8b47de8f32948fbc1a2c86",
       "version_major": 2,
       "version_minor": 0
      },
      "text/plain": [
       "Worker 11:   0%|          | 0/140000 [00:00<?, ?it/s]"
      ]
     },
     "metadata": {},
     "output_type": "display_data"
    },
    {
     "data": {
      "application/vnd.jupyter.widget-view+json": {
       "model_id": "642186850f654c629d5e2d6f737dfef2",
       "version_major": 2,
       "version_minor": 0
      },
      "text/plain": [
       "Worker 12:   0%|          | 0/140000 [00:00<?, ?it/s]"
      ]
     },
     "metadata": {},
     "output_type": "display_data"
    },
    {
     "data": {
      "application/vnd.jupyter.widget-view+json": {
       "model_id": "9d50c636201549f1abae66103435b8dd",
       "version_major": 2,
       "version_minor": 0
      },
      "text/plain": [
       "Worker 13:   0%|          | 0/140000 [00:00<?, ?it/s]"
      ]
     },
     "metadata": {},
     "output_type": "display_data"
    },
    {
     "data": {
      "application/vnd.jupyter.widget-view+json": {
       "model_id": "5c0bd2554996411ca62301a0a6205e8c",
       "version_major": 2,
       "version_minor": 0
      },
      "text/plain": [
       "Worker 14:   0%|          | 0/140000 [00:00<?, ?it/s]"
      ]
     },
     "metadata": {},
     "output_type": "display_data"
    },
    {
     "data": {
      "application/vnd.jupyter.widget-view+json": {
       "model_id": "58ce3206de004aa3af8836a43975d008",
       "version_major": 2,
       "version_minor": 0
      },
      "text/plain": [
       "Worker 15:   0%|          | 0/140000 [00:00<?, ?it/s]"
      ]
     },
     "metadata": {},
     "output_type": "display_data"
    },
    {
     "data": {
      "application/vnd.jupyter.widget-view+json": {
       "model_id": "5963408f94b34b3883f13445b778f2c6",
       "version_major": 2,
       "version_minor": 0
      },
      "text/plain": [
       "Worker 16:   0%|          | 0/140000 [00:00<?, ?it/s]"
      ]
     },
     "metadata": {},
     "output_type": "display_data"
    },
    {
     "data": {
      "application/vnd.jupyter.widget-view+json": {
       "model_id": "87c1812af12c42e4a3c1c66e25fa6990",
       "version_major": 2,
       "version_minor": 0
      },
      "text/plain": [
       "Worker 17:   0%|          | 0/140000 [00:00<?, ?it/s]"
      ]
     },
     "metadata": {},
     "output_type": "display_data"
    },
    {
     "data": {
      "application/vnd.jupyter.widget-view+json": {
       "model_id": "15271ceb7209422ab7abf037f4c08adc",
       "version_major": 2,
       "version_minor": 0
      },
      "text/plain": [
       "Worker 18:   0%|          | 0/140000 [00:00<?, ?it/s]"
      ]
     },
     "metadata": {},
     "output_type": "display_data"
    },
    {
     "data": {
      "application/vnd.jupyter.widget-view+json": {
       "model_id": "597fce64cec84c9b9db0ebd7957f8a37",
       "version_major": 2,
       "version_minor": 0
      },
      "text/plain": [
       "Worker 19:   0%|          | 0/140000 [00:00<?, ?it/s]"
      ]
     },
     "metadata": {},
     "output_type": "display_data"
    },
    {
     "data": {
      "application/vnd.jupyter.widget-view+json": {
       "model_id": "ee846654e48243638c546a3f2ffef7c4",
       "version_major": 2,
       "version_minor": 0
      },
      "text/plain": [
       "Worker 20:   0%|          | 0/140000 [00:00<?, ?it/s]"
      ]
     },
     "metadata": {},
     "output_type": "display_data"
    },
    {
     "data": {
      "application/vnd.jupyter.widget-view+json": {
       "model_id": "594d50aefcd54717a05616af0f73dfeb",
       "version_major": 2,
       "version_minor": 0
      },
      "text/plain": [
       "Worker 21:   0%|          | 0/140000 [00:00<?, ?it/s]"
      ]
     },
     "metadata": {},
     "output_type": "display_data"
    },
    {
     "data": {
      "application/vnd.jupyter.widget-view+json": {
       "model_id": "0dffeb8b32f4466993c9874173ebf9c7",
       "version_major": 2,
       "version_minor": 0
      },
      "text/plain": [
       "Worker 22:   0%|          | 0/140000 [00:00<?, ?it/s]"
      ]
     },
     "metadata": {},
     "output_type": "display_data"
    },
    {
     "data": {
      "application/vnd.jupyter.widget-view+json": {
       "model_id": "ff07e12c75c94540b5e540e23428e379",
       "version_major": 2,
       "version_minor": 0
      },
      "text/plain": [
       "Worker 23:   0%|          | 0/140000 [00:00<?, ?it/s]"
      ]
     },
     "metadata": {},
     "output_type": "display_data"
    },
    {
     "data": {
      "application/vnd.jupyter.widget-view+json": {
       "model_id": "9ec3edff817b4aa29d6bf8cc582b21d5",
       "version_major": 2,
       "version_minor": 0
      },
      "text/plain": [
       "Worker 24:   0%|          | 0/140000 [00:00<?, ?it/s]"
      ]
     },
     "metadata": {},
     "output_type": "display_data"
    },
    {
     "data": {
      "application/vnd.jupyter.widget-view+json": {
       "model_id": "914e7bef0cb24e2490068c3c8f9011ca",
       "version_major": 2,
       "version_minor": 0
      },
      "text/plain": [
       "Worker 25:   0%|          | 0/140000 [00:00<?, ?it/s]"
      ]
     },
     "metadata": {},
     "output_type": "display_data"
    },
    {
     "data": {
      "application/vnd.jupyter.widget-view+json": {
       "model_id": "85226acb51f24a65b29107f7f039ac13",
       "version_major": 2,
       "version_minor": 0
      },
      "text/plain": [
       "Worker 26:   0%|          | 0/140000 [00:00<?, ?it/s]"
      ]
     },
     "metadata": {},
     "output_type": "display_data"
    },
    {
     "data": {
      "application/vnd.jupyter.widget-view+json": {
       "model_id": "508f27d7c4964595a0aed61d588b8226",
       "version_major": 2,
       "version_minor": 0
      },
      "text/plain": [
       "Worker 27:   0%|          | 0/140000 [00:00<?, ?it/s]"
      ]
     },
     "metadata": {},
     "output_type": "display_data"
    },
    {
     "data": {
      "application/vnd.jupyter.widget-view+json": {
       "model_id": "9ba385a332a64d24b7b634ef46c0c32a",
       "version_major": 2,
       "version_minor": 0
      },
      "text/plain": [
       "Worker 28:   0%|          | 0/140000 [00:00<?, ?it/s]"
      ]
     },
     "metadata": {},
     "output_type": "display_data"
    },
    {
     "data": {
      "application/vnd.jupyter.widget-view+json": {
       "model_id": "9443c048d609473e81c8e1571acd0046",
       "version_major": 2,
       "version_minor": 0
      },
      "text/plain": [
       "Worker 29:   0%|          | 0/140000 [00:00<?, ?it/s]"
      ]
     },
     "metadata": {},
     "output_type": "display_data"
    },
    {
     "data": {
      "application/vnd.jupyter.widget-view+json": {
       "model_id": "8b382af43c5f456c90d2fb86147df4e7",
       "version_major": 2,
       "version_minor": 0
      },
      "text/plain": [
       "Worker 30:   0%|          | 0/140000 [00:00<?, ?it/s]"
      ]
     },
     "metadata": {},
     "output_type": "display_data"
    },
    {
     "data": {
      "application/vnd.jupyter.widget-view+json": {
       "model_id": "2169c2f1ae2d4545aed663429908c9b6",
       "version_major": 2,
       "version_minor": 0
      },
      "text/plain": [
       "Worker 31:   0%|          | 0/140000 [00:00<?, ?it/s]"
      ]
     },
     "metadata": {},
     "output_type": "display_data"
    },
    {
     "data": {
      "application/vnd.jupyter.widget-view+json": {
       "model_id": "af906f23756a4c81b236983c4a5d07d7",
       "version_major": 2,
       "version_minor": 0
      },
      "text/plain": [
       "Worker 32:   0%|          | 0/140000 [00:00<?, ?it/s]"
      ]
     },
     "metadata": {},
     "output_type": "display_data"
    },
    {
     "data": {
      "application/javascript": [
       "\n",
       "            setTimeout(function() {\n",
       "                var nbb_cell_id = 37;\n",
       "                var nbb_unformatted_code = \"simulator.simulate(\\n    num_simulations=num_marketplaces,\\n    simulation_parameters=simulation_params,\\n    existing_reviews=timeseries_input,\\n    product_embeddings=prod_embeddings,\\n    embeddings_artifact_path=ARTIFACT_PATH,\\n)\";\n",
       "                var nbb_formatted_code = \"simulator.simulate(\\n    num_simulations=num_marketplaces,\\n    simulation_parameters=simulation_params,\\n    existing_reviews=timeseries_input,\\n    product_embeddings=prod_embeddings,\\n    embeddings_artifact_path=ARTIFACT_PATH,\\n)\";\n",
       "                var nbb_cells = Jupyter.notebook.get_cells();\n",
       "                for (var i = 0; i < nbb_cells.length; ++i) {\n",
       "                    if (nbb_cells[i].input_prompt_number == nbb_cell_id) {\n",
       "                        if (nbb_cells[i].get_text() == nbb_unformatted_code) {\n",
       "                             nbb_cells[i].set_text(nbb_formatted_code);\n",
       "                        }\n",
       "                        break;\n",
       "                    }\n",
       "                }\n",
       "            }, 500);\n",
       "            "
      ],
      "text/plain": [
       "<IPython.core.display.Javascript object>"
      ]
     },
     "metadata": {},
     "output_type": "display_data"
    }
   ],
   "source": [
    "simulator.simulate(\n",
    "    num_simulations=num_marketplaces,\n",
    "    simulation_parameters=simulation_params,\n",
    "    existing_reviews=timeseries_input,\n",
    "    product_embeddings=prod_embeddings,\n",
    "    embeddings_artifact_path=ARTIFACT_PATH,\n",
    ")"
   ]
  },
  {
   "cell_type": "code",
   "execution_count": 38,
   "id": "55670771",
   "metadata": {},
   "outputs": [
    {
     "data": {
      "text/plain": [
       "32"
      ]
     },
     "execution_count": 38,
     "metadata": {},
     "output_type": "execute_result"
    },
    {
     "data": {
      "application/javascript": [
       "\n",
       "            setTimeout(function() {\n",
       "                var nbb_cell_id = 38;\n",
       "                var nbb_unformatted_code = \"len(simulator.simulations)\";\n",
       "                var nbb_formatted_code = \"len(simulator.simulations)\";\n",
       "                var nbb_cells = Jupyter.notebook.get_cells();\n",
       "                for (var i = 0; i < nbb_cells.length; ++i) {\n",
       "                    if (nbb_cells[i].input_prompt_number == nbb_cell_id) {\n",
       "                        if (nbb_cells[i].get_text() == nbb_unformatted_code) {\n",
       "                             nbb_cells[i].set_text(nbb_formatted_code);\n",
       "                        }\n",
       "                        break;\n",
       "                    }\n",
       "                }\n",
       "            }, 500);\n",
       "            "
      ],
      "text/plain": [
       "<IPython.core.display.Javascript object>"
      ]
     },
     "metadata": {},
     "output_type": "display_data"
    }
   ],
   "source": [
    "len(simulator.simulations)"
   ]
  },
  {
   "cell_type": "code",
   "execution_count": 39,
   "id": "f8bd94b1",
   "metadata": {},
   "outputs": [
    {
     "data": {
      "application/javascript": [
       "\n",
       "            setTimeout(function() {\n",
       "                var nbb_cell_id = 39;\n",
       "                var nbb_unformatted_code = \"simulator.save_simulations(ARTIFACT_PATH / \\\"simulations_from_posterior\\\")\";\n",
       "                var nbb_formatted_code = \"simulator.save_simulations(ARTIFACT_PATH / \\\"simulations_from_posterior\\\")\";\n",
       "                var nbb_cells = Jupyter.notebook.get_cells();\n",
       "                for (var i = 0; i < nbb_cells.length; ++i) {\n",
       "                    if (nbb_cells[i].input_prompt_number == nbb_cell_id) {\n",
       "                        if (nbb_cells[i].get_text() == nbb_unformatted_code) {\n",
       "                             nbb_cells[i].set_text(nbb_formatted_code);\n",
       "                        }\n",
       "                        break;\n",
       "                    }\n",
       "                }\n",
       "            }, 500);\n",
       "            "
      ],
      "text/plain": [
       "<IPython.core.display.Javascript object>"
      ]
     },
     "metadata": {},
     "output_type": "display_data"
    }
   ],
   "source": [
    "simulator.save_simulations(ARTIFACT_PATH / \"simulations_from_posterior\")"
   ]
  },
  {
   "cell_type": "code",
   "execution_count": 40,
   "id": "bafc317b",
   "metadata": {},
   "outputs": [
    {
     "data": {
      "application/javascript": [
       "\n",
       "            setTimeout(function() {\n",
       "                var nbb_cell_id = 40;\n",
       "                var nbb_unformatted_code = \"np.save(\\n    ARTIFACT_PATH / \\\"simulations_from_posterior\\\" / \\\"timeseries_input.npy\\\",\\n    timeseries_input,\\n)\\nnp.save(\\n    ARTIFACT_PATH / \\\"simulations_from_posterior\\\" / \\\"timeseries_half_len\\\",\\n    timeseries_half_len,\\n)\";\n",
       "                var nbb_formatted_code = \"np.save(\\n    ARTIFACT_PATH / \\\"simulations_from_posterior\\\" / \\\"timeseries_input.npy\\\",\\n    timeseries_input,\\n)\\nnp.save(\\n    ARTIFACT_PATH / \\\"simulations_from_posterior\\\" / \\\"timeseries_half_len\\\",\\n    timeseries_half_len,\\n)\";\n",
       "                var nbb_cells = Jupyter.notebook.get_cells();\n",
       "                for (var i = 0; i < nbb_cells.length; ++i) {\n",
       "                    if (nbb_cells[i].input_prompt_number == nbb_cell_id) {\n",
       "                        if (nbb_cells[i].get_text() == nbb_unformatted_code) {\n",
       "                             nbb_cells[i].set_text(nbb_formatted_code);\n",
       "                        }\n",
       "                        break;\n",
       "                    }\n",
       "                }\n",
       "            }, 500);\n",
       "            "
      ],
      "text/plain": [
       "<IPython.core.display.Javascript object>"
      ]
     },
     "metadata": {},
     "output_type": "display_data"
    }
   ],
   "source": [
    "np.save(\n",
    "    ARTIFACT_PATH / \"simulations_from_posterior\" / \"timeseries_input.npy\",\n",
    "    timeseries_input,\n",
    ")\n",
    "np.save(\n",
    "    ARTIFACT_PATH / \"simulations_from_posterior\" / \"timeseries_half_len\",\n",
    "    timeseries_half_len,\n",
    ")"
   ]
  },
  {
   "cell_type": "code",
   "execution_count": 23,
   "id": "60c6ce39",
   "metadata": {},
   "outputs": [
    {
     "data": {
      "application/javascript": [
       "\n",
       "            setTimeout(function() {\n",
       "                var nbb_cell_id = 23;\n",
       "                var nbb_unformatted_code = \"# Load the simulations that have already been run\\nsimulator = marketplace_simulator_class.MarketplaceSimulator(simulator_params)\\nsimulator.load_simulator(ARTIFACT_PATH / \\\"simulations_from_posterior\\\")\";\n",
       "                var nbb_formatted_code = \"# Load the simulations that have already been run\\nsimulator = marketplace_simulator_class.MarketplaceSimulator(simulator_params)\\nsimulator.load_simulator(ARTIFACT_PATH / \\\"simulations_from_posterior\\\")\";\n",
       "                var nbb_cells = Jupyter.notebook.get_cells();\n",
       "                for (var i = 0; i < nbb_cells.length; ++i) {\n",
       "                    if (nbb_cells[i].input_prompt_number == nbb_cell_id) {\n",
       "                        if (nbb_cells[i].get_text() == nbb_unformatted_code) {\n",
       "                             nbb_cells[i].set_text(nbb_formatted_code);\n",
       "                        }\n",
       "                        break;\n",
       "                    }\n",
       "                }\n",
       "            }, 500);\n",
       "            "
      ],
      "text/plain": [
       "<IPython.core.display.Javascript object>"
      ]
     },
     "metadata": {},
     "output_type": "display_data"
    }
   ],
   "source": [
    "# Load the simulations that have already been run\n",
    "simulator = marketplace_simulator_class.MarketplaceSimulator(simulator_params)\n",
    "simulator.load_simulator(ARTIFACT_PATH / \"simulations_from_posterior\")"
   ]
  },
  {
   "cell_type": "markdown",
   "id": "dc900afb",
   "metadata": {},
   "source": [
    "**Check the total number of reviews generated in the simulation**"
   ]
  },
  {
   "cell_type": "code",
   "execution_count": 24,
   "id": "61a65289",
   "metadata": {},
   "outputs": [
    {
     "data": {
      "application/javascript": [
       "\n",
       "            setTimeout(function() {\n",
       "                var nbb_cell_id = 24;\n",
       "                var nbb_unformatted_code = \"num_reviews = np.array(\\n    [[len(product) for product in simulation] for simulation in simulator.simulations]\\n)\";\n",
       "                var nbb_formatted_code = \"num_reviews = np.array(\\n    [[len(product) for product in simulation] for simulation in simulator.simulations]\\n)\";\n",
       "                var nbb_cells = Jupyter.notebook.get_cells();\n",
       "                for (var i = 0; i < nbb_cells.length; ++i) {\n",
       "                    if (nbb_cells[i].input_prompt_number == nbb_cell_id) {\n",
       "                        if (nbb_cells[i].get_text() == nbb_unformatted_code) {\n",
       "                             nbb_cells[i].set_text(nbb_formatted_code);\n",
       "                        }\n",
       "                        break;\n",
       "                    }\n",
       "                }\n",
       "            }, 500);\n",
       "            "
      ],
      "text/plain": [
       "<IPython.core.display.Javascript object>"
      ]
     },
     "metadata": {},
     "output_type": "display_data"
    }
   ],
   "source": [
    "num_reviews = np.array(\n",
    "    [[len(product) for product in simulation] for simulation in simulator.simulations]\n",
    ")"
   ]
  },
  {
   "cell_type": "code",
   "execution_count": 25,
   "id": "fa633b34",
   "metadata": {},
   "outputs": [
    {
     "data": {
      "text/plain": [
       "(32, 1406)"
      ]
     },
     "execution_count": 25,
     "metadata": {},
     "output_type": "execute_result"
    },
    {
     "data": {
      "application/javascript": [
       "\n",
       "            setTimeout(function() {\n",
       "                var nbb_cell_id = 25;\n",
       "                var nbb_unformatted_code = \"num_reviews.shape\";\n",
       "                var nbb_formatted_code = \"num_reviews.shape\";\n",
       "                var nbb_cells = Jupyter.notebook.get_cells();\n",
       "                for (var i = 0; i < nbb_cells.length; ++i) {\n",
       "                    if (nbb_cells[i].input_prompt_number == nbb_cell_id) {\n",
       "                        if (nbb_cells[i].get_text() == nbb_unformatted_code) {\n",
       "                             nbb_cells[i].set_text(nbb_formatted_code);\n",
       "                        }\n",
       "                        break;\n",
       "                    }\n",
       "                }\n",
       "            }, 500);\n",
       "            "
      ],
      "text/plain": [
       "<IPython.core.display.Javascript object>"
      ]
     },
     "metadata": {},
     "output_type": "display_data"
    }
   ],
   "source": [
    "num_reviews.shape"
   ]
  },
  {
   "cell_type": "code",
   "execution_count": 26,
   "id": "16f1cc74",
   "metadata": {},
   "outputs": [
    {
     "data": {
      "text/plain": [
       "array([141406, 141406, 141406, 141406, 141406, 141406, 141406, 141406,\n",
       "       141406, 141406, 141406, 141406, 141406, 141406, 141406, 141406,\n",
       "       141406, 141406, 141406, 141406, 141406, 141406, 141406, 141406,\n",
       "       141406, 141406, 141406, 141406, 141406, 141406, 141406, 141406])"
      ]
     },
     "execution_count": 26,
     "metadata": {},
     "output_type": "execute_result"
    },
    {
     "data": {
      "application/javascript": [
       "\n",
       "            setTimeout(function() {\n",
       "                var nbb_cell_id = 26;\n",
       "                var nbb_unformatted_code = \"np.sum(num_reviews, axis=1)\";\n",
       "                var nbb_formatted_code = \"np.sum(num_reviews, axis=1)\";\n",
       "                var nbb_cells = Jupyter.notebook.get_cells();\n",
       "                for (var i = 0; i < nbb_cells.length; ++i) {\n",
       "                    if (nbb_cells[i].input_prompt_number == nbb_cell_id) {\n",
       "                        if (nbb_cells[i].get_text() == nbb_unformatted_code) {\n",
       "                             nbb_cells[i].set_text(nbb_formatted_code);\n",
       "                        }\n",
       "                        break;\n",
       "                    }\n",
       "                }\n",
       "            }, 500);\n",
       "            "
      ],
      "text/plain": [
       "<IPython.core.display.Javascript object>"
      ]
     },
     "metadata": {},
     "output_type": "display_data"
    }
   ],
   "source": [
    "np.sum(num_reviews, axis=1)"
   ]
  },
  {
   "cell_type": "markdown",
   "id": "a84bc26f",
   "metadata": {},
   "source": [
    "**Run some tests to check that the simulations have been done correctly, i.e, the first half of the simulated reviews is the same as the input reviews and the 2nd half is different**"
   ]
  },
  {
   "cell_type": "code",
   "execution_count": 52,
   "id": "c222acdd",
   "metadata": {},
   "outputs": [
    {
     "data": {
      "text/plain": [
       "(32, 1406)"
      ]
     },
     "execution_count": 52,
     "metadata": {},
     "output_type": "execute_result"
    },
    {
     "data": {
      "application/javascript": [
       "\n",
       "            setTimeout(function() {\n",
       "                var nbb_cell_id = 52;\n",
       "                var nbb_unformatted_code = \"simulator.simulations.shape\";\n",
       "                var nbb_formatted_code = \"simulator.simulations.shape\";\n",
       "                var nbb_cells = Jupyter.notebook.get_cells();\n",
       "                for (var i = 0; i < nbb_cells.length; ++i) {\n",
       "                    if (nbb_cells[i].input_prompt_number == nbb_cell_id) {\n",
       "                        if (nbb_cells[i].get_text() == nbb_unformatted_code) {\n",
       "                             nbb_cells[i].set_text(nbb_formatted_code);\n",
       "                        }\n",
       "                        break;\n",
       "                    }\n",
       "                }\n",
       "            }, 500);\n",
       "            "
      ],
      "text/plain": [
       "<IPython.core.display.Javascript object>"
      ]
     },
     "metadata": {},
     "output_type": "display_data"
    }
   ],
   "source": [
    "simulator.simulations.shape"
   ]
  },
  {
   "cell_type": "code",
   "execution_count": 55,
   "id": "307b6775",
   "metadata": {},
   "outputs": [
    {
     "data": {
      "application/javascript": [
       "\n",
       "            setTimeout(function() {\n",
       "                var nbb_cell_id = 55;\n",
       "                var nbb_unformatted_code = \"for sim in range(simulator.simulations.shape[0]):\\n    for product in range(simulator.simulations.shape[1]):\\n        np.testing.assert_array_equal(\\n            simulator.simulations[sim, product][: timeseries_half_len[product]],\\n            timeseries_input[product],\\n        )\";\n",
       "                var nbb_formatted_code = \"for sim in range(simulator.simulations.shape[0]):\\n    for product in range(simulator.simulations.shape[1]):\\n        np.testing.assert_array_equal(\\n            simulator.simulations[sim, product][: timeseries_half_len[product]],\\n            timeseries_input[product],\\n        )\";\n",
       "                var nbb_cells = Jupyter.notebook.get_cells();\n",
       "                for (var i = 0; i < nbb_cells.length; ++i) {\n",
       "                    if (nbb_cells[i].input_prompt_number == nbb_cell_id) {\n",
       "                        if (nbb_cells[i].get_text() == nbb_unformatted_code) {\n",
       "                             nbb_cells[i].set_text(nbb_formatted_code);\n",
       "                        }\n",
       "                        break;\n",
       "                    }\n",
       "                }\n",
       "            }, 500);\n",
       "            "
      ],
      "text/plain": [
       "<IPython.core.display.Javascript object>"
      ]
     },
     "metadata": {},
     "output_type": "display_data"
    }
   ],
   "source": [
    "for sim in range(simulator.simulations.shape[0]):\n",
    "    for product in range(simulator.simulations.shape[1]):\n",
    "        np.testing.assert_array_equal(\n",
    "            simulator.simulations[sim, product][: timeseries_half_len[product]],\n",
    "            timeseries_input[product],\n",
    "        )"
   ]
  },
  {
   "cell_type": "code",
   "execution_count": 56,
   "id": "d2b70d0f",
   "metadata": {},
   "outputs": [
    {
     "data": {
      "text/plain": [
       "array([[ 2.,  2.,  6., 36., 92.],\n",
       "       [ 2.,  2.,  6., 36., 93.],\n",
       "       [ 2.,  2.,  6., 36., 94.],\n",
       "       [ 2.,  2.,  6., 36., 95.],\n",
       "       [ 3.,  2.,  6., 36., 95.],\n",
       "       [ 4.,  2.,  6., 36., 95.],\n",
       "       [ 5.,  2.,  6., 36., 95.]])"
      ]
     },
     "execution_count": 56,
     "metadata": {},
     "output_type": "execute_result"
    },
    {
     "data": {
      "application/javascript": [
       "\n",
       "            setTimeout(function() {\n",
       "                var nbb_cell_id = 56;\n",
       "                var nbb_unformatted_code = \"simulator.simulations[0, 1205][timeseries_half_len[1205] - 5: timeseries_half_len[1205]+2]\";\n",
       "                var nbb_formatted_code = \"simulator.simulations[0, 1205][\\n    timeseries_half_len[1205] - 5 : timeseries_half_len[1205] + 2\\n]\";\n",
       "                var nbb_cells = Jupyter.notebook.get_cells();\n",
       "                for (var i = 0; i < nbb_cells.length; ++i) {\n",
       "                    if (nbb_cells[i].input_prompt_number == nbb_cell_id) {\n",
       "                        if (nbb_cells[i].get_text() == nbb_unformatted_code) {\n",
       "                             nbb_cells[i].set_text(nbb_formatted_code);\n",
       "                        }\n",
       "                        break;\n",
       "                    }\n",
       "                }\n",
       "            }, 500);\n",
       "            "
      ],
      "text/plain": [
       "<IPython.core.display.Javascript object>"
      ]
     },
     "metadata": {},
     "output_type": "display_data"
    }
   ],
   "source": [
    "simulator.simulations[0, 1205][\n",
    "    timeseries_half_len[1205] - 5 : timeseries_half_len[1205] + 2\n",
    "]"
   ]
  },
  {
   "cell_type": "code",
   "execution_count": 57,
   "id": "61dc235a",
   "metadata": {},
   "outputs": [
    {
     "data": {
      "text/plain": [
       "array([[ 2.,  2.,  6., 36., 92.],\n",
       "       [ 2.,  2.,  6., 36., 93.],\n",
       "       [ 2.,  2.,  6., 36., 94.],\n",
       "       [ 2.,  2.,  6., 36., 95.],\n",
       "       [ 3.,  2.,  6., 36., 95.]])"
      ]
     },
     "execution_count": 57,
     "metadata": {},
     "output_type": "execute_result"
    },
    {
     "data": {
      "application/javascript": [
       "\n",
       "            setTimeout(function() {\n",
       "                var nbb_cell_id = 57;\n",
       "                var nbb_unformatted_code = \"timeseries_input[1205][-5:]\";\n",
       "                var nbb_formatted_code = \"timeseries_input[1205][-5:]\";\n",
       "                var nbb_cells = Jupyter.notebook.get_cells();\n",
       "                for (var i = 0; i < nbb_cells.length; ++i) {\n",
       "                    if (nbb_cells[i].input_prompt_number == nbb_cell_id) {\n",
       "                        if (nbb_cells[i].get_text() == nbb_unformatted_code) {\n",
       "                             nbb_cells[i].set_text(nbb_formatted_code);\n",
       "                        }\n",
       "                        break;\n",
       "                    }\n",
       "                }\n",
       "            }, 500);\n",
       "            "
      ],
      "text/plain": [
       "<IPython.core.display.Javascript object>"
      ]
     },
     "metadata": {},
     "output_type": "display_data"
    }
   ],
   "source": [
    "timeseries_input[1205][-5:]"
   ]
  },
  {
   "cell_type": "code",
   "execution_count": null,
   "id": "7ce0a91c",
   "metadata": {},
   "outputs": [],
   "source": []
  },
  {
   "cell_type": "code",
   "execution_count": null,
   "id": "9b4d505c",
   "metadata": {},
   "outputs": [],
   "source": []
  },
  {
   "cell_type": "code",
   "execution_count": null,
   "id": "436c22ce",
   "metadata": {},
   "outputs": [],
   "source": []
  },
  {
   "cell_type": "code",
   "execution_count": 58,
   "id": "8b89fbec",
   "metadata": {},
   "outputs": [
    {
     "data": {
      "text/plain": [
       "44992"
      ]
     },
     "execution_count": 58,
     "metadata": {},
     "output_type": "execute_result"
    },
    {
     "data": {
      "application/javascript": [
       "\n",
       "            setTimeout(function() {\n",
       "                var nbb_cell_id = 58;\n",
       "                var nbb_unformatted_code = \"num_reviews = []\\nfor sim in simulator.simulations:\\n    num_reviews += [len(prods) for prods in sim]\\nlen(num_reviews)\";\n",
       "                var nbb_formatted_code = \"num_reviews = []\\nfor sim in simulator.simulations:\\n    num_reviews += [len(prods) for prods in sim]\\nlen(num_reviews)\";\n",
       "                var nbb_cells = Jupyter.notebook.get_cells();\n",
       "                for (var i = 0; i < nbb_cells.length; ++i) {\n",
       "                    if (nbb_cells[i].input_prompt_number == nbb_cell_id) {\n",
       "                        if (nbb_cells[i].get_text() == nbb_unformatted_code) {\n",
       "                             nbb_cells[i].set_text(nbb_formatted_code);\n",
       "                        }\n",
       "                        break;\n",
       "                    }\n",
       "                }\n",
       "            }, 500);\n",
       "            "
      ],
      "text/plain": [
       "<IPython.core.display.Javascript object>"
      ]
     },
     "metadata": {},
     "output_type": "display_data"
    }
   ],
   "source": [
    "num_reviews = []\n",
    "for sim in simulator.simulations:\n",
    "    num_reviews += [len(prods) for prods in sim]\n",
    "len(num_reviews)"
   ]
  },
  {
   "cell_type": "code",
   "execution_count": 59,
   "id": "34794dcf",
   "metadata": {},
   "outputs": [
    {
     "data": {
      "text/plain": [
       "(array([1.6247e+04, 1.4699e+04, 6.5560e+03, 3.2600e+03, 1.4900e+03,\n",
       "        1.0190e+03, 6.8900e+02, 3.6600e+02, 3.5700e+02, 1.7700e+02,\n",
       "        3.8000e+01, 2.0000e+01, 1.2000e+01, 2.2000e+01, 8.0000e+00,\n",
       "        0.0000e+00, 0.0000e+00, 1.0000e+00, 1.8000e+01, 1.3000e+01]),\n",
       " array([   5. ,   56.3,  107.6,  158.9,  210.2,  261.5,  312.8,  364.1,\n",
       "         415.4,  466.7,  518. ,  569.3,  620.6,  671.9,  723.2,  774.5,\n",
       "         825.8,  877.1,  928.4,  979.7, 1031. ]),\n",
       " <BarContainer object of 20 artists>)"
      ]
     },
     "execution_count": 59,
     "metadata": {},
     "output_type": "execute_result"
    },
    {
     "data": {
      "image/png": "[encoded data removed]",
      "text/plain": [
       "<Figure size 432x288 with 1 Axes>"
      ]
     },
     "metadata": {},
     "output_type": "display_data"
    },
    {
     "data": {
      "application/javascript": [
       "\n",
       "            setTimeout(function() {\n",
       "                var nbb_cell_id = 59;\n",
       "                var nbb_unformatted_code = \"plt.hist(num_reviews, bins=20)\";\n",
       "                var nbb_formatted_code = \"plt.hist(num_reviews, bins=20)\";\n",
       "                var nbb_cells = Jupyter.notebook.get_cells();\n",
       "                for (var i = 0; i < nbb_cells.length; ++i) {\n",
       "                    if (nbb_cells[i].input_prompt_number == nbb_cell_id) {\n",
       "                        if (nbb_cells[i].get_text() == nbb_unformatted_code) {\n",
       "                             nbb_cells[i].set_text(nbb_formatted_code);\n",
       "                        }\n",
       "                        break;\n",
       "                    }\n",
       "                }\n",
       "            }, 500);\n",
       "            "
      ],
      "text/plain": [
       "<IPython.core.display.Javascript object>"
      ]
     },
     "metadata": {},
     "output_type": "display_data"
    }
   ],
   "source": [
    "plt.hist(num_reviews, bins=20)"
   ]
  },
  {
   "cell_type": "code",
   "execution_count": 18,
   "id": "bba62da0",
   "metadata": {},
   "outputs": [
    {
     "data": {
      "text/plain": [
       "(array([1.3729e+04, 7.3290e+03, 9.9700e+02, 2.7000e+02, 1.1400e+02,\n",
       "        4.3000e+01, 8.0000e+00, 2.0000e+00, 2.0000e+00, 2.0000e+00]),\n",
       " array([  8. , 105.2, 202.4, 299.6, 396.8, 494. , 591.2, 688.4, 785.6,\n",
       "        882.8, 980. ]),\n",
       " <BarContainer object of 10 artists>)"
      ]
     },
     "execution_count": 18,
     "metadata": {},
     "output_type": "execute_result"
    },
    {
     "data": {
      "image/png": "[encoded data removed]",
      "text/plain": [
       "<Figure size 432x288 with 1 Axes>"
      ]
     },
     "metadata": {},
     "output_type": "display_data"
    },
    {
     "data": {
      "application/javascript": [
       "\n",
       "            setTimeout(function() {\n",
       "                var nbb_cell_id = 18;\n",
       "                var nbb_unformatted_code = \"plt.hist(num_reviews)\";\n",
       "                var nbb_formatted_code = \"plt.hist(num_reviews)\";\n",
       "                var nbb_cells = Jupyter.notebook.get_cells();\n",
       "                for (var i = 0; i < nbb_cells.length; ++i) {\n",
       "                    if (nbb_cells[i].input_prompt_number == nbb_cell_id) {\n",
       "                        if (nbb_cells[i].get_text() == nbb_unformatted_code) {\n",
       "                             nbb_cells[i].set_text(nbb_formatted_code);\n",
       "                        }\n",
       "                        break;\n",
       "                    }\n",
       "                }\n",
       "            }, 500);\n",
       "            "
      ],
      "text/plain": [
       "<IPython.core.display.Javascript object>"
      ]
     },
     "metadata": {},
     "output_type": "display_data"
    }
   ],
   "source": [
    "plt.hist(num_reviews)"
   ]
  },
  {
   "cell_type": "code",
   "execution_count": 60,
   "id": "14f2c827",
   "metadata": {},
   "outputs": [
    {
     "data": {
      "text/html": [
       "<div>\n",
       "<style scoped>\n",
       "    .dataframe tbody tr th:only-of-type {\n",
       "        vertical-align: middle;\n",
       "    }\n",
       "\n",
       "    .dataframe tbody tr th {\n",
       "        vertical-align: top;\n",
       "    }\n",
       "\n",
       "    .dataframe thead th {\n",
       "        text-align: right;\n",
       "    }\n",
       "</style>\n",
       "<table border=\"1\" class=\"dataframe\">\n",
       "  <thead>\n",
       "    <tr style=\"text-align: right;\">\n",
       "      <th></th>\n",
       "      <th>num_reviews</th>\n",
       "    </tr>\n",
       "  </thead>\n",
       "  <tbody>\n",
       "    <tr>\n",
       "      <th>count</th>\n",
       "      <td>44992.000000</td>\n",
       "    </tr>\n",
       "    <tr>\n",
       "      <th>mean</th>\n",
       "      <td>100.573257</td>\n",
       "    </tr>\n",
       "    <tr>\n",
       "      <th>std</th>\n",
       "      <td>89.700324</td>\n",
       "    </tr>\n",
       "    <tr>\n",
       "      <th>min</th>\n",
       "      <td>5.000000</td>\n",
       "    </tr>\n",
       "    <tr>\n",
       "      <th>25%</th>\n",
       "      <td>43.000000</td>\n",
       "    </tr>\n",
       "    <tr>\n",
       "      <th>50%</th>\n",
       "      <td>75.000000</td>\n",
       "    </tr>\n",
       "    <tr>\n",
       "      <th>75%</th>\n",
       "      <td>125.000000</td>\n",
       "    </tr>\n",
       "    <tr>\n",
       "      <th>max</th>\n",
       "      <td>1031.000000</td>\n",
       "    </tr>\n",
       "  </tbody>\n",
       "</table>\n",
       "</div>"
      ],
      "text/plain": [
       "        num_reviews\n",
       "count  44992.000000\n",
       "mean     100.573257\n",
       "std       89.700324\n",
       "min        5.000000\n",
       "25%       43.000000\n",
       "50%       75.000000\n",
       "75%      125.000000\n",
       "max     1031.000000"
      ]
     },
     "execution_count": 60,
     "metadata": {},
     "output_type": "execute_result"
    },
    {
     "data": {
      "application/javascript": [
       "\n",
       "            setTimeout(function() {\n",
       "                var nbb_cell_id = 60;\n",
       "                var nbb_unformatted_code = \"pd.DataFrame({\\\"num_reviews\\\": num_reviews}).describe()\";\n",
       "                var nbb_formatted_code = \"pd.DataFrame({\\\"num_reviews\\\": num_reviews}).describe()\";\n",
       "                var nbb_cells = Jupyter.notebook.get_cells();\n",
       "                for (var i = 0; i < nbb_cells.length; ++i) {\n",
       "                    if (nbb_cells[i].input_prompt_number == nbb_cell_id) {\n",
       "                        if (nbb_cells[i].get_text() == nbb_unformatted_code) {\n",
       "                             nbb_cells[i].set_text(nbb_formatted_code);\n",
       "                        }\n",
       "                        break;\n",
       "                    }\n",
       "                }\n",
       "            }, 500);\n",
       "            "
      ],
      "text/plain": [
       "<IPython.core.display.Javascript object>"
      ]
     },
     "metadata": {},
     "output_type": "display_data"
    }
   ],
   "source": [
    "pd.DataFrame({\"num_reviews\": num_reviews}).describe()"
   ]
  },
  {
   "cell_type": "code",
   "execution_count": 75,
   "id": "479d9033",
   "metadata": {},
   "outputs": [
    {
     "data": {
      "text/html": [
       "<div>\n",
       "<style scoped>\n",
       "    .dataframe tbody tr th:only-of-type {\n",
       "        vertical-align: middle;\n",
       "    }\n",
       "\n",
       "    .dataframe tbody tr th {\n",
       "        vertical-align: top;\n",
       "    }\n",
       "\n",
       "    .dataframe thead th {\n",
       "        text-align: right;\n",
       "    }\n",
       "</style>\n",
       "<table border=\"1\" class=\"dataframe\">\n",
       "  <thead>\n",
       "    <tr style=\"text-align: right;\">\n",
       "      <th></th>\n",
       "      <th>num_reviews</th>\n",
       "    </tr>\n",
       "  </thead>\n",
       "  <tbody>\n",
       "    <tr>\n",
       "      <th>count</th>\n",
       "      <td>1406.000000</td>\n",
       "    </tr>\n",
       "    <tr>\n",
       "      <th>mean</th>\n",
       "      <td>96.212660</td>\n",
       "    </tr>\n",
       "    <tr>\n",
       "      <th>std</th>\n",
       "      <td>126.677148</td>\n",
       "    </tr>\n",
       "    <tr>\n",
       "      <th>min</th>\n",
       "      <td>1.000000</td>\n",
       "    </tr>\n",
       "    <tr>\n",
       "      <th>25%</th>\n",
       "      <td>25.250000</td>\n",
       "    </tr>\n",
       "    <tr>\n",
       "      <th>50%</th>\n",
       "      <td>51.000000</td>\n",
       "    </tr>\n",
       "    <tr>\n",
       "      <th>75%</th>\n",
       "      <td>113.000000</td>\n",
       "    </tr>\n",
       "    <tr>\n",
       "      <th>max</th>\n",
       "      <td>1293.000000</td>\n",
       "    </tr>\n",
       "  </tbody>\n",
       "</table>\n",
       "</div>"
      ],
      "text/plain": [
       "       num_reviews\n",
       "count  1406.000000\n",
       "mean     96.212660\n",
       "std     126.677148\n",
       "min       1.000000\n",
       "25%      25.250000\n",
       "50%      51.000000\n",
       "75%     113.000000\n",
       "max    1293.000000"
      ]
     },
     "execution_count": 75,
     "metadata": {},
     "output_type": "execute_result"
    },
    {
     "data": {
      "application/javascript": [
       "\n",
       "            setTimeout(function() {\n",
       "                var nbb_cell_id = 75;\n",
       "                var nbb_unformatted_code = \"idx = np.array([np.where(embedding_df[\\\"asin\\\"] == asin)[0][0] for asin in timeseries_asin])\\npd.DataFrame({\\\"num_reviews\\\": np.sum(embedding_df.iloc[idx, 3:], axis=1)}).describe()\";\n",
       "                var nbb_formatted_code = \"idx = np.array(\\n    [np.where(embedding_df[\\\"asin\\\"] == asin)[0][0] for asin in timeseries_asin]\\n)\\npd.DataFrame({\\\"num_reviews\\\": np.sum(embedding_df.iloc[idx, 3:], axis=1)}).describe()\";\n",
       "                var nbb_cells = Jupyter.notebook.get_cells();\n",
       "                for (var i = 0; i < nbb_cells.length; ++i) {\n",
       "                    if (nbb_cells[i].input_prompt_number == nbb_cell_id) {\n",
       "                        if (nbb_cells[i].get_text() == nbb_unformatted_code) {\n",
       "                             nbb_cells[i].set_text(nbb_formatted_code);\n",
       "                        }\n",
       "                        break;\n",
       "                    }\n",
       "                }\n",
       "            }, 500);\n",
       "            "
      ],
      "text/plain": [
       "<IPython.core.display.Javascript object>"
      ]
     },
     "metadata": {},
     "output_type": "display_data"
    }
   ],
   "source": [
    "idx = np.array(\n",
    "    [np.where(embedding_df[\"asin\"] == asin)[0][0] for asin in timeseries_asin]\n",
    ")\n",
    "pd.DataFrame({\"num_reviews\": np.sum(embedding_df.iloc[idx, 3:], axis=1)}).describe()"
   ]
  },
  {
   "cell_type": "code",
   "execution_count": 77,
   "id": "9ae9ebcd",
   "metadata": {},
   "outputs": [
    {
     "data": {
      "text/plain": [
       "(array([811., 295., 118.,  60.,  49.,  16.,  19.,  13.,   9.,   6.,   1.,\n",
       "          0.,   5.,   1.,   0.,   1.,   0.,   0.,   1.,   1.]),\n",
       " array([1.0000e+00, 6.5600e+01, 1.3020e+02, 1.9480e+02, 2.5940e+02,\n",
       "        3.2400e+02, 3.8860e+02, 4.5320e+02, 5.1780e+02, 5.8240e+02,\n",
       "        6.4700e+02, 7.1160e+02, 7.7620e+02, 8.4080e+02, 9.0540e+02,\n",
       "        9.7000e+02, 1.0346e+03, 1.0992e+03, 1.1638e+03, 1.2284e+03,\n",
       "        1.2930e+03]),\n",
       " <BarContainer object of 20 artists>)"
      ]
     },
     "execution_count": 77,
     "metadata": {},
     "output_type": "execute_result"
    },
    {
     "data": {
      "image/png": "[encoded data removed]",
      "text/plain": [
       "<Figure size 432x288 with 1 Axes>"
      ]
     },
     "metadata": {},
     "output_type": "display_data"
    },
    {
     "data": {
      "application/javascript": [
       "\n",
       "            setTimeout(function() {\n",
       "                var nbb_cell_id = 77;\n",
       "                var nbb_unformatted_code = \"plt.hist(np.sum(embedding_df.iloc[idx, 3:], axis=1), bins=20)\";\n",
       "                var nbb_formatted_code = \"plt.hist(np.sum(embedding_df.iloc[idx, 3:], axis=1), bins=20)\";\n",
       "                var nbb_cells = Jupyter.notebook.get_cells();\n",
       "                for (var i = 0; i < nbb_cells.length; ++i) {\n",
       "                    if (nbb_cells[i].input_prompt_number == nbb_cell_id) {\n",
       "                        if (nbb_cells[i].get_text() == nbb_unformatted_code) {\n",
       "                             nbb_cells[i].set_text(nbb_formatted_code);\n",
       "                        }\n",
       "                        break;\n",
       "                    }\n",
       "                }\n",
       "            }, 500);\n",
       "            "
      ],
      "text/plain": [
       "<IPython.core.display.Javascript object>"
      ]
     },
     "metadata": {},
     "output_type": "display_data"
    }
   ],
   "source": [
    "plt.hist(np.sum(embedding_df.iloc[idx, 3:], axis=1), bins=20)"
   ]
  },
  {
   "cell_type": "code",
   "execution_count": 32,
   "id": "91471f4e",
   "metadata": {},
   "outputs": [
    {
     "data": {
      "text/html": [
       "<div>\n",
       "<style scoped>\n",
       "    .dataframe tbody tr th:only-of-type {\n",
       "        vertical-align: middle;\n",
       "    }\n",
       "\n",
       "    .dataframe tbody tr th {\n",
       "        vertical-align: top;\n",
       "    }\n",
       "\n",
       "    .dataframe thead th {\n",
       "        text-align: right;\n",
       "    }\n",
       "</style>\n",
       "<table border=\"1\" class=\"dataframe\">\n",
       "  <thead>\n",
       "    <tr style=\"text-align: right;\">\n",
       "      <th></th>\n",
       "      <th>num_reviews</th>\n",
       "    </tr>\n",
       "  </thead>\n",
       "  <tbody>\n",
       "    <tr>\n",
       "      <th>count</th>\n",
       "      <td>22496.000000</td>\n",
       "    </tr>\n",
       "    <tr>\n",
       "      <th>mean</th>\n",
       "      <td>4.556188</td>\n",
       "    </tr>\n",
       "    <tr>\n",
       "      <th>std</th>\n",
       "      <td>2.486156</td>\n",
       "    </tr>\n",
       "    <tr>\n",
       "      <th>min</th>\n",
       "      <td>1.000000</td>\n",
       "    </tr>\n",
       "    <tr>\n",
       "      <th>25%</th>\n",
       "      <td>3.000000</td>\n",
       "    </tr>\n",
       "    <tr>\n",
       "      <th>50%</th>\n",
       "      <td>4.000000</td>\n",
       "    </tr>\n",
       "    <tr>\n",
       "      <th>75%</th>\n",
       "      <td>6.000000</td>\n",
       "    </tr>\n",
       "    <tr>\n",
       "      <th>max</th>\n",
       "      <td>33.000000</td>\n",
       "    </tr>\n",
       "  </tbody>\n",
       "</table>\n",
       "</div>"
      ],
      "text/plain": [
       "        num_reviews\n",
       "count  22496.000000\n",
       "mean       4.556188\n",
       "std        2.486156\n",
       "min        1.000000\n",
       "25%        3.000000\n",
       "50%        4.000000\n",
       "75%        6.000000\n",
       "max       33.000000"
      ]
     },
     "execution_count": 32,
     "metadata": {},
     "output_type": "execute_result"
    },
    {
     "data": {
      "application/javascript": [
       "\n",
       "            setTimeout(function() {\n",
       "                var nbb_cell_id = 32;\n",
       "                var nbb_unformatted_code = \"pd.DataFrame({\\\"num_reviews\\\": num_reviews}).describe()\";\n",
       "                var nbb_formatted_code = \"pd.DataFrame({\\\"num_reviews\\\": num_reviews}).describe()\";\n",
       "                var nbb_cells = Jupyter.notebook.get_cells();\n",
       "                for (var i = 0; i < nbb_cells.length; ++i) {\n",
       "                    if (nbb_cells[i].input_prompt_number == nbb_cell_id) {\n",
       "                        if (nbb_cells[i].get_text() == nbb_unformatted_code) {\n",
       "                             nbb_cells[i].set_text(nbb_formatted_code);\n",
       "                        }\n",
       "                        break;\n",
       "                    }\n",
       "                }\n",
       "            }, 500);\n",
       "            "
      ],
      "text/plain": [
       "<IPython.core.display.Javascript object>"
      ]
     },
     "metadata": {},
     "output_type": "display_data"
    }
   ],
   "source": [
    "pd.DataFrame({\"num_reviews\": num_reviews}).describe()"
   ]
  },
  {
   "cell_type": "code",
   "execution_count": 45,
   "id": "ae03ee38",
   "metadata": {},
   "outputs": [
    {
     "data": {
      "application/javascript": [
       "\n",
       "            setTimeout(function() {\n",
       "                var nbb_cell_id = 45;\n",
       "                var nbb_unformatted_code = \"ratings = np.zeros(5)\\nfor sim in simulator.simulations:\\n    for prods in sim:\\n        ratings += prods[-1]\";\n",
       "                var nbb_formatted_code = \"ratings = np.zeros(5)\\nfor sim in simulator.simulations:\\n    for prods in sim:\\n        ratings += prods[-1]\";\n",
       "                var nbb_cells = Jupyter.notebook.get_cells();\n",
       "                for (var i = 0; i < nbb_cells.length; ++i) {\n",
       "                    if (nbb_cells[i].input_prompt_number == nbb_cell_id) {\n",
       "                        if (nbb_cells[i].get_text() == nbb_unformatted_code) {\n",
       "                             nbb_cells[i].set_text(nbb_formatted_code);\n",
       "                        }\n",
       "                        break;\n",
       "                    }\n",
       "                }\n",
       "            }, 500);\n",
       "            "
      ],
      "text/plain": [
       "<IPython.core.display.Javascript object>"
      ]
     },
     "metadata": {},
     "output_type": "display_data"
    }
   ],
   "source": [
    "ratings = np.zeros(5)\n",
    "for sim in simulator.simulations:\n",
    "    for prods in sim:\n",
    "        ratings += prods[-1]"
   ]
  },
  {
   "cell_type": "code",
   "execution_count": 46,
   "id": "181d681f",
   "metadata": {},
   "outputs": [
    {
     "data": {
      "text/plain": [
       "[<matplotlib.lines.Line2D at 0x7f9be4a643d0>]"
      ]
     },
     "execution_count": 46,
     "metadata": {},
     "output_type": "execute_result"
    },
    {
     "data": {
      "image/png": "[encoded data removed]",
      "text/plain": [
       "<Figure size 432x288 with 1 Axes>"
      ]
     },
     "metadata": {},
     "output_type": "display_data"
    },
    {
     "data": {
      "application/javascript": [
       "\n",
       "            setTimeout(function() {\n",
       "                var nbb_cell_id = 46;\n",
       "                var nbb_unformatted_code = \"plt.plot(np.arange(5), ratings)\";\n",
       "                var nbb_formatted_code = \"plt.plot(np.arange(5), ratings)\";\n",
       "                var nbb_cells = Jupyter.notebook.get_cells();\n",
       "                for (var i = 0; i < nbb_cells.length; ++i) {\n",
       "                    if (nbb_cells[i].input_prompt_number == nbb_cell_id) {\n",
       "                        if (nbb_cells[i].get_text() == nbb_unformatted_code) {\n",
       "                             nbb_cells[i].set_text(nbb_formatted_code);\n",
       "                        }\n",
       "                        break;\n",
       "                    }\n",
       "                }\n",
       "            }, 500);\n",
       "            "
      ],
      "text/plain": [
       "<IPython.core.display.Javascript object>"
      ]
     },
     "metadata": {},
     "output_type": "display_data"
    }
   ],
   "source": [
    "plt.plot(np.arange(5), ratings)"
   ]
  },
  {
   "cell_type": "code",
   "execution_count": 47,
   "id": "a0192b4f",
   "metadata": {},
   "outputs": [
    {
     "data": {
      "application/javascript": [
       "\n",
       "            setTimeout(function() {\n",
       "                var nbb_cell_id = 47;\n",
       "                var nbb_unformatted_code = \"index = []\\nfor sim in simulator.simulations:\\n    for prods in sim:\\n        diff = np.sum(prods[-1][3:]) - np.sum(prods[-1][:2])\\n        index.append(diff)\";\n",
       "                var nbb_formatted_code = \"index = []\\nfor sim in simulator.simulations:\\n    for prods in sim:\\n        diff = np.sum(prods[-1][3:]) - np.sum(prods[-1][:2])\\n        index.append(diff)\";\n",
       "                var nbb_cells = Jupyter.notebook.get_cells();\n",
       "                for (var i = 0; i < nbb_cells.length; ++i) {\n",
       "                    if (nbb_cells[i].input_prompt_number == nbb_cell_id) {\n",
       "                        if (nbb_cells[i].get_text() == nbb_unformatted_code) {\n",
       "                             nbb_cells[i].set_text(nbb_formatted_code);\n",
       "                        }\n",
       "                        break;\n",
       "                    }\n",
       "                }\n",
       "            }, 500);\n",
       "            "
      ],
      "text/plain": [
       "<IPython.core.display.Javascript object>"
      ]
     },
     "metadata": {},
     "output_type": "display_data"
    }
   ],
   "source": [
    "index = []\n",
    "for sim in simulator.simulations:\n",
    "    for prods in sim:\n",
    "        diff = np.sum(prods[-1][3:]) - np.sum(prods[-1][:2])\n",
    "        index.append(diff)"
   ]
  },
  {
   "cell_type": "code",
   "execution_count": 48,
   "id": "cb2f5491",
   "metadata": {},
   "outputs": [
    {
     "data": {
      "text/plain": [
       "(array([5.6720e+03, 2.2501e+04, 1.1638e+04, 2.9480e+03, 1.3660e+03,\n",
       "        5.9800e+02, 2.0500e+02, 1.6000e+01, 1.9000e+01, 2.9000e+01]),\n",
       " array([-36. ,   9.4,  54.8, 100.2, 145.6, 191. , 236.4, 281.8, 327.2,\n",
       "        372.6, 418. ]),\n",
       " <BarContainer object of 10 artists>)"
      ]
     },
     "execution_count": 48,
     "metadata": {},
     "output_type": "execute_result"
    },
    {
     "data": {
      "image/png": "[encoded data removed]",
      "text/plain": [
       "<Figure size 432x288 with 1 Axes>"
      ]
     },
     "metadata": {},
     "output_type": "display_data"
    },
    {
     "data": {
      "application/javascript": [
       "\n",
       "            setTimeout(function() {\n",
       "                var nbb_cell_id = 48;\n",
       "                var nbb_unformatted_code = \"plt.hist(index)\";\n",
       "                var nbb_formatted_code = \"plt.hist(index)\";\n",
       "                var nbb_cells = Jupyter.notebook.get_cells();\n",
       "                for (var i = 0; i < nbb_cells.length; ++i) {\n",
       "                    if (nbb_cells[i].input_prompt_number == nbb_cell_id) {\n",
       "                        if (nbb_cells[i].get_text() == nbb_unformatted_code) {\n",
       "                             nbb_cells[i].set_text(nbb_formatted_code);\n",
       "                        }\n",
       "                        break;\n",
       "                    }\n",
       "                }\n",
       "            }, 500);\n",
       "            "
      ],
      "text/plain": [
       "<IPython.core.display.Javascript object>"
      ]
     },
     "metadata": {},
     "output_type": "display_data"
    }
   ],
   "source": [
    "plt.hist(index)"
   ]
  },
  {
   "cell_type": "code",
   "execution_count": 39,
   "id": "e64cac1a",
   "metadata": {},
   "outputs": [
    {
     "name": "stdout",
     "output_type": "stream",
     "text": [
      "0.9697724039829303\n"
     ]
    },
    {
     "data": {
      "application/javascript": [
       "\n",
       "            setTimeout(function() {\n",
       "                var nbb_cell_id = 39;\n",
       "                var nbb_unformatted_code = \"print(np.mean(np.array(index) >= 0))\";\n",
       "                var nbb_formatted_code = \"print(np.mean(np.array(index) >= 0))\";\n",
       "                var nbb_cells = Jupyter.notebook.get_cells();\n",
       "                for (var i = 0; i < nbb_cells.length; ++i) {\n",
       "                    if (nbb_cells[i].input_prompt_number == nbb_cell_id) {\n",
       "                        if (nbb_cells[i].get_text() == nbb_unformatted_code) {\n",
       "                             nbb_cells[i].set_text(nbb_formatted_code);\n",
       "                        }\n",
       "                        break;\n",
       "                    }\n",
       "                }\n",
       "            }, 500);\n",
       "            "
      ],
      "text/plain": [
       "<IPython.core.display.Javascript object>"
      ]
     },
     "metadata": {},
     "output_type": "display_data"
    }
   ],
   "source": [
    "print(np.mean(np.array(index) >= 0))"
   ]
  },
  {
   "cell_type": "code",
   "execution_count": 40,
   "id": "10187247",
   "metadata": {},
   "outputs": [
    {
     "data": {
      "text/html": [
       "<div>\n",
       "<style scoped>\n",
       "    .dataframe tbody tr th:only-of-type {\n",
       "        vertical-align: middle;\n",
       "    }\n",
       "\n",
       "    .dataframe tbody tr th {\n",
       "        vertical-align: top;\n",
       "    }\n",
       "\n",
       "    .dataframe thead th {\n",
       "        text-align: right;\n",
       "    }\n",
       "</style>\n",
       "<table border=\"1\" class=\"dataframe\">\n",
       "  <thead>\n",
       "    <tr style=\"text-align: right;\">\n",
       "      <th></th>\n",
       "      <th>productid</th>\n",
       "      <th>embedding</th>\n",
       "      <th>asin</th>\n",
       "      <th>1</th>\n",
       "      <th>2</th>\n",
       "      <th>3</th>\n",
       "      <th>4</th>\n",
       "      <th>5</th>\n",
       "    </tr>\n",
       "  </thead>\n",
       "  <tbody>\n",
       "    <tr>\n",
       "      <th>0</th>\n",
       "      <td>2398095</td>\n",
       "      <td>[-0.00132273, 0.00133095, 0.00121696, 0.000980...</td>\n",
       "      <td>2398095</td>\n",
       "      <td>18</td>\n",
       "      <td>7</td>\n",
       "      <td>20</td>\n",
       "      <td>44</td>\n",
       "      <td>98</td>\n",
       "    </tr>\n",
       "    <tr>\n",
       "      <th>1</th>\n",
       "      <td>2457747</td>\n",
       "      <td>[0.00190553, -0.000276951, 0.00347389, -0.0042...</td>\n",
       "      <td>2457747</td>\n",
       "      <td>12</td>\n",
       "      <td>4</td>\n",
       "      <td>6</td>\n",
       "      <td>23</td>\n",
       "      <td>48</td>\n",
       "    </tr>\n",
       "    <tr>\n",
       "      <th>2</th>\n",
       "      <td>2629881</td>\n",
       "      <td>[0.000376349, 0.0025969, -0.00219417, 0.000960...</td>\n",
       "      <td>2629881</td>\n",
       "      <td>12</td>\n",
       "      <td>8</td>\n",
       "      <td>18</td>\n",
       "      <td>37</td>\n",
       "      <td>93</td>\n",
       "    </tr>\n",
       "    <tr>\n",
       "      <th>3</th>\n",
       "      <td>2621353</td>\n",
       "      <td>[0.000548561, -0.000543399, -5.87009e-05, -0.0...</td>\n",
       "      <td>2621353</td>\n",
       "      <td>6</td>\n",
       "      <td>2</td>\n",
       "      <td>4</td>\n",
       "      <td>48</td>\n",
       "      <td>153</td>\n",
       "    </tr>\n",
       "    <tr>\n",
       "      <th>4</th>\n",
       "      <td>1222540</td>\n",
       "      <td>[0.000302659, 0.000807013, -0.0032046, 0.00455...</td>\n",
       "      <td>1222540</td>\n",
       "      <td>15</td>\n",
       "      <td>4</td>\n",
       "      <td>6</td>\n",
       "      <td>27</td>\n",
       "      <td>147</td>\n",
       "    </tr>\n",
       "  </tbody>\n",
       "</table>\n",
       "</div>"
      ],
      "text/plain": [
       "   productid                                          embedding     asin   1  \\\n",
       "0    2398095  [-0.00132273, 0.00133095, 0.00121696, 0.000980...  2398095  18   \n",
       "1    2457747  [0.00190553, -0.000276951, 0.00347389, -0.0042...  2457747  12   \n",
       "2    2629881  [0.000376349, 0.0025969, -0.00219417, 0.000960...  2629881  12   \n",
       "3    2621353  [0.000548561, -0.000543399, -5.87009e-05, -0.0...  2621353   6   \n",
       "4    1222540  [0.000302659, 0.000807013, -0.0032046, 0.00455...  1222540  15   \n",
       "\n",
       "   2   3   4    5  \n",
       "0  7  20  44   98  \n",
       "1  4   6  23   48  \n",
       "2  8  18  37   93  \n",
       "3  2   4  48  153  \n",
       "4  4   6  27  147  "
      ]
     },
     "execution_count": 40,
     "metadata": {},
     "output_type": "execute_result"
    },
    {
     "data": {
      "application/javascript": [
       "\n",
       "            setTimeout(function() {\n",
       "                var nbb_cell_id = 40;\n",
       "                var nbb_unformatted_code = \"embedding_df.head()\";\n",
       "                var nbb_formatted_code = \"embedding_df.head()\";\n",
       "                var nbb_cells = Jupyter.notebook.get_cells();\n",
       "                for (var i = 0; i < nbb_cells.length; ++i) {\n",
       "                    if (nbb_cells[i].input_prompt_number == nbb_cell_id) {\n",
       "                        if (nbb_cells[i].get_text() == nbb_unformatted_code) {\n",
       "                             nbb_cells[i].set_text(nbb_formatted_code);\n",
       "                        }\n",
       "                        break;\n",
       "                    }\n",
       "                }\n",
       "            }, 500);\n",
       "            "
      ],
      "text/plain": [
       "<IPython.core.display.Javascript object>"
      ]
     },
     "metadata": {},
     "output_type": "display_data"
    }
   ],
   "source": [
    "embedding_df.head()"
   ]
  },
  {
   "cell_type": "code",
   "execution_count": 41,
   "id": "e3280596",
   "metadata": {},
   "outputs": [
    {
     "data": {
      "text/plain": [
       "[<matplotlib.lines.Line2D at 0x7f43add65a90>]"
      ]
     },
     "execution_count": 41,
     "metadata": {},
     "output_type": "execute_result"
    },
    {
     "data": {
      "image/png": "[encoded data removed]",
      "text/plain": [
       "<Figure size 432x288 with 1 Axes>"
      ]
     },
     "metadata": {},
     "output_type": "display_data"
    },
    {
     "data": {
      "application/javascript": [
       "\n",
       "            setTimeout(function() {\n",
       "                var nbb_cell_id = 41;\n",
       "                var nbb_unformatted_code = \"plt.plot(np.sum(embedding_df.iloc[:, 3:], axis=0))\";\n",
       "                var nbb_formatted_code = \"plt.plot(np.sum(embedding_df.iloc[:, 3:], axis=0))\";\n",
       "                var nbb_cells = Jupyter.notebook.get_cells();\n",
       "                for (var i = 0; i < nbb_cells.length; ++i) {\n",
       "                    if (nbb_cells[i].input_prompt_number == nbb_cell_id) {\n",
       "                        if (nbb_cells[i].get_text() == nbb_unformatted_code) {\n",
       "                             nbb_cells[i].set_text(nbb_formatted_code);\n",
       "                        }\n",
       "                        break;\n",
       "                    }\n",
       "                }\n",
       "            }, 500);\n",
       "            "
      ],
      "text/plain": [
       "<IPython.core.display.Javascript object>"
      ]
     },
     "metadata": {},
     "output_type": "display_data"
    }
   ],
   "source": [
    "plt.plot(np.sum(embedding_df.iloc[:, 3:], axis=0))"
   ]
  },
  {
   "cell_type": "markdown",
   "id": "66f2d07b",
   "metadata": {},
   "source": [
    "**We will try to compare the final histograms for a few products with those in the real data**"
   ]
  },
  {
   "cell_type": "code",
   "execution_count": 49,
   "id": "11148f60",
   "metadata": {},
   "outputs": [
    {
     "data": {
      "text/plain": [
       "1760"
      ]
     },
     "execution_count": 49,
     "metadata": {},
     "output_type": "execute_result"
    },
    {
     "data": {
      "application/javascript": [
       "\n",
       "            setTimeout(function() {\n",
       "                var nbb_cell_id = 49;\n",
       "                var nbb_unformatted_code = \"idx = np.where(embedding_df[\\\"asin\\\"] == timeseries_asin[0])[0][0]\\nidx\";\n",
       "                var nbb_formatted_code = \"idx = np.where(embedding_df[\\\"asin\\\"] == timeseries_asin[0])[0][0]\\nidx\";\n",
       "                var nbb_cells = Jupyter.notebook.get_cells();\n",
       "                for (var i = 0; i < nbb_cells.length; ++i) {\n",
       "                    if (nbb_cells[i].input_prompt_number == nbb_cell_id) {\n",
       "                        if (nbb_cells[i].get_text() == nbb_unformatted_code) {\n",
       "                             nbb_cells[i].set_text(nbb_formatted_code);\n",
       "                        }\n",
       "                        break;\n",
       "                    }\n",
       "                }\n",
       "            }, 500);\n",
       "            "
      ],
      "text/plain": [
       "<IPython.core.display.Javascript object>"
      ]
     },
     "metadata": {},
     "output_type": "display_data"
    }
   ],
   "source": [
    "idx = np.where(embedding_df[\"asin\"] == timeseries_asin[0])[0][0]\n",
    "idx"
   ]
  },
  {
   "cell_type": "code",
   "execution_count": 50,
   "id": "21f47336",
   "metadata": {},
   "outputs": [
    {
     "data": {
      "text/plain": [
       "productid                                               670155\n",
       "embedding    [-0.00411681, 0.00180585, -0.0089845, -0.00767...\n",
       "asin                                                    670155\n",
       "1                                                           16\n",
       "2                                                            8\n",
       "3                                                            9\n",
       "4                                                           44\n",
       "5                                                           24\n",
       "Name: 1760, dtype: object"
      ]
     },
     "execution_count": 50,
     "metadata": {},
     "output_type": "execute_result"
    },
    {
     "data": {
      "application/javascript": [
       "\n",
       "            setTimeout(function() {\n",
       "                var nbb_cell_id = 50;\n",
       "                var nbb_unformatted_code = \"embedding_df.iloc[1760, :]\";\n",
       "                var nbb_formatted_code = \"embedding_df.iloc[1760, :]\";\n",
       "                var nbb_cells = Jupyter.notebook.get_cells();\n",
       "                for (var i = 0; i < nbb_cells.length; ++i) {\n",
       "                    if (nbb_cells[i].input_prompt_number == nbb_cell_id) {\n",
       "                        if (nbb_cells[i].get_text() == nbb_unformatted_code) {\n",
       "                             nbb_cells[i].set_text(nbb_formatted_code);\n",
       "                        }\n",
       "                        break;\n",
       "                    }\n",
       "                }\n",
       "            }, 500);\n",
       "            "
      ],
      "text/plain": [
       "<IPython.core.display.Javascript object>"
      ]
     },
     "metadata": {},
     "output_type": "display_data"
    }
   ],
   "source": [
    "embedding_df.iloc[1760, :]"
   ]
  },
  {
   "cell_type": "code",
   "execution_count": 52,
   "id": "2420eacb",
   "metadata": {},
   "outputs": [
    {
     "data": {
      "application/javascript": [
       "\n",
       "            setTimeout(function() {\n",
       "                var nbb_cell_id = 52;\n",
       "                var nbb_unformatted_code = \"sims = []\\nfor sim in simulator.simulations:\\n    sims.append(sim[0][-1])\";\n",
       "                var nbb_formatted_code = \"sims = []\\nfor sim in simulator.simulations:\\n    sims.append(sim[0][-1])\";\n",
       "                var nbb_cells = Jupyter.notebook.get_cells();\n",
       "                for (var i = 0; i < nbb_cells.length; ++i) {\n",
       "                    if (nbb_cells[i].input_prompt_number == nbb_cell_id) {\n",
       "                        if (nbb_cells[i].get_text() == nbb_unformatted_code) {\n",
       "                             nbb_cells[i].set_text(nbb_formatted_code);\n",
       "                        }\n",
       "                        break;\n",
       "                    }\n",
       "                }\n",
       "            }, 500);\n",
       "            "
      ],
      "text/plain": [
       "<IPython.core.display.Javascript object>"
      ]
     },
     "metadata": {},
     "output_type": "display_data"
    }
   ],
   "source": [
    "sims = []\n",
    "for sim in simulator.simulations:\n",
    "    sims.append(sim[0][-1])"
   ]
  },
  {
   "cell_type": "code",
   "execution_count": 54,
   "id": "5a2e955a",
   "metadata": {},
   "outputs": [
    {
     "data": {
      "application/javascript": [
       "\n",
       "            setTimeout(function() {\n",
       "                var nbb_cell_id = 54;\n",
       "                var nbb_unformatted_code = \"sims = np.array(sims)\\nsims /= np.sum(sims, axis = 1)[:, None]\";\n",
       "                var nbb_formatted_code = \"sims = np.array(sims)\\nsims /= np.sum(sims, axis=1)[:, None]\";\n",
       "                var nbb_cells = Jupyter.notebook.get_cells();\n",
       "                for (var i = 0; i < nbb_cells.length; ++i) {\n",
       "                    if (nbb_cells[i].input_prompt_number == nbb_cell_id) {\n",
       "                        if (nbb_cells[i].get_text() == nbb_unformatted_code) {\n",
       "                             nbb_cells[i].set_text(nbb_formatted_code);\n",
       "                        }\n",
       "                        break;\n",
       "                    }\n",
       "                }\n",
       "            }, 500);\n",
       "            "
      ],
      "text/plain": [
       "<IPython.core.display.Javascript object>"
      ]
     },
     "metadata": {},
     "output_type": "display_data"
    }
   ],
   "source": [
    "sims = np.array(sims)\n",
    "sims /= np.sum(sims, axis=1)[:, None]"
   ]
  },
  {
   "cell_type": "code",
   "execution_count": 55,
   "id": "30d81f5c",
   "metadata": {},
   "outputs": [
    {
     "data": {
      "text/plain": [
       "array([[0.18363273, 0.10379242, 0.1237525 , 0.23952096, 0.3493014 ],\n",
       "       [0.16816143, 0.09865471, 0.10538117, 0.31838565, 0.30941704],\n",
       "       [0.18997912, 0.09812109, 0.07933194, 0.31524008, 0.31732777],\n",
       "       [0.16666667, 0.09670782, 0.1255144 , 0.29218107, 0.31893004],\n",
       "       [0.18979592, 0.08571429, 0.10204082, 0.27755102, 0.34489796],\n",
       "       [0.18548387, 0.09274194, 0.12096774, 0.26612903, 0.33467742],\n",
       "       [0.18942731, 0.09251101, 0.11013216, 0.27753304, 0.33039648],\n",
       "       [0.18103448, 0.09482759, 0.11637931, 0.32543103, 0.28232759],\n",
       "       [0.17634855, 0.10580913, 0.12240664, 0.24688797, 0.34854772],\n",
       "       [0.18585859, 0.09494949, 0.10909091, 0.28282828, 0.32727273],\n",
       "       [0.19650655, 0.10262009, 0.10480349, 0.22052402, 0.37554585],\n",
       "       [0.18502203, 0.10132159, 0.12334802, 0.24008811, 0.35022026],\n",
       "       [0.18811881, 0.1009901 , 0.08910891, 0.26336634, 0.35841584],\n",
       "       [0.17269076, 0.1064257 , 0.09437751, 0.33333333, 0.29317269],\n",
       "       [0.16363636, 0.10505051, 0.13737374, 0.26666667, 0.32727273],\n",
       "       [0.16478555, 0.11512415, 0.0993228 , 0.30925508, 0.31151242]])"
      ]
     },
     "execution_count": 55,
     "metadata": {},
     "output_type": "execute_result"
    },
    {
     "data": {
      "application/javascript": [
       "\n",
       "            setTimeout(function() {\n",
       "                var nbb_cell_id = 55;\n",
       "                var nbb_unformatted_code = \"sims\";\n",
       "                var nbb_formatted_code = \"sims\";\n",
       "                var nbb_cells = Jupyter.notebook.get_cells();\n",
       "                for (var i = 0; i < nbb_cells.length; ++i) {\n",
       "                    if (nbb_cells[i].input_prompt_number == nbb_cell_id) {\n",
       "                        if (nbb_cells[i].get_text() == nbb_unformatted_code) {\n",
       "                             nbb_cells[i].set_text(nbb_formatted_code);\n",
       "                        }\n",
       "                        break;\n",
       "                    }\n",
       "                }\n",
       "            }, 500);\n",
       "            "
      ],
      "text/plain": [
       "<IPython.core.display.Javascript object>"
      ]
     },
     "metadata": {},
     "output_type": "display_data"
    }
   ],
   "source": [
    "sims"
   ]
  },
  {
   "cell_type": "code",
   "execution_count": 58,
   "id": "13247624",
   "metadata": {},
   "outputs": [
    {
     "data": {
      "text/plain": [
       "[<matplotlib.lines.Line2D at 0x7f43a4a1e370>]"
      ]
     },
     "execution_count": 58,
     "metadata": {},
     "output_type": "execute_result"
    },
    {
     "data": {
      "image/png": "[encoded data removed]",
      "text/plain": [
       "<Figure size 432x288 with 1 Axes>"
      ]
     },
     "metadata": {},
     "output_type": "display_data"
    },
    {
     "data": {
      "application/javascript": [
       "\n",
       "            setTimeout(function() {\n",
       "                var nbb_cell_id = 58;\n",
       "                var nbb_unformatted_code = \"plt.plot(sims.T)\\nplt.plot(embedding_df.iloc[1760, 3:]/np.sum(embedding_df.iloc[1760, 3:]), color=\\\"black\\\")\";\n",
       "                var nbb_formatted_code = \"plt.plot(sims.T)\\nplt.plot(\\n    embedding_df.iloc[1760, 3:] / np.sum(embedding_df.iloc[1760, 3:]), color=\\\"black\\\"\\n)\";\n",
       "                var nbb_cells = Jupyter.notebook.get_cells();\n",
       "                for (var i = 0; i < nbb_cells.length; ++i) {\n",
       "                    if (nbb_cells[i].input_prompt_number == nbb_cell_id) {\n",
       "                        if (nbb_cells[i].get_text() == nbb_unformatted_code) {\n",
       "                             nbb_cells[i].set_text(nbb_formatted_code);\n",
       "                        }\n",
       "                        break;\n",
       "                    }\n",
       "                }\n",
       "            }, 500);\n",
       "            "
      ],
      "text/plain": [
       "<IPython.core.display.Javascript object>"
      ]
     },
     "metadata": {},
     "output_type": "display_data"
    }
   ],
   "source": [
    "plt.plot(sims.T)\n",
    "plt.plot(\n",
    "    embedding_df.iloc[1760, 3:] / np.sum(embedding_df.iloc[1760, 3:]), color=\"black\"\n",
    ")"
   ]
  },
  {
   "cell_type": "code",
   "execution_count": 68,
   "id": "930d0fc4",
   "metadata": {},
   "outputs": [
    {
     "data": {
      "text/plain": [
       "3722"
      ]
     },
     "execution_count": 68,
     "metadata": {},
     "output_type": "execute_result"
    },
    {
     "data": {
      "application/javascript": [
       "\n",
       "            setTimeout(function() {\n",
       "                var nbb_cell_id = 68;\n",
       "                var nbb_unformatted_code = \"idx = np.where(embedding_df[\\\"asin\\\"] == timeseries_asin[1000])[0][0]\\nidx\";\n",
       "                var nbb_formatted_code = \"idx = np.where(embedding_df[\\\"asin\\\"] == timeseries_asin[1000])[0][0]\\nidx\";\n",
       "                var nbb_cells = Jupyter.notebook.get_cells();\n",
       "                for (var i = 0; i < nbb_cells.length; ++i) {\n",
       "                    if (nbb_cells[i].input_prompt_number == nbb_cell_id) {\n",
       "                        if (nbb_cells[i].get_text() == nbb_unformatted_code) {\n",
       "                             nbb_cells[i].set_text(nbb_formatted_code);\n",
       "                        }\n",
       "                        break;\n",
       "                    }\n",
       "                }\n",
       "            }, 500);\n",
       "            "
      ],
      "text/plain": [
       "<IPython.core.display.Javascript object>"
      ]
     },
     "metadata": {},
     "output_type": "display_data"
    }
   ],
   "source": [
    "idx = np.where(embedding_df[\"asin\"] == timeseries_asin[1000])[0][0]\n",
    "idx"
   ]
  },
  {
   "cell_type": "code",
   "execution_count": 69,
   "id": "8dfb73bc",
   "metadata": {},
   "outputs": [
    {
     "data": {
      "text/plain": [
       "productid                                              6247836\n",
       "embedding    [-0.0526099, 0.0766598, 0.00164629, -0.0169849...\n",
       "asin                                                   6247836\n",
       "1                                                            3\n",
       "2                                                            2\n",
       "3                                                            2\n",
       "4                                                            6\n",
       "5                                                           19\n",
       "Name: 3722, dtype: object"
      ]
     },
     "execution_count": 69,
     "metadata": {},
     "output_type": "execute_result"
    },
    {
     "data": {
      "application/javascript": [
       "\n",
       "            setTimeout(function() {\n",
       "                var nbb_cell_id = 69;\n",
       "                var nbb_unformatted_code = \"embedding_df.iloc[3722, :]\";\n",
       "                var nbb_formatted_code = \"embedding_df.iloc[3722, :]\";\n",
       "                var nbb_cells = Jupyter.notebook.get_cells();\n",
       "                for (var i = 0; i < nbb_cells.length; ++i) {\n",
       "                    if (nbb_cells[i].input_prompt_number == nbb_cell_id) {\n",
       "                        if (nbb_cells[i].get_text() == nbb_unformatted_code) {\n",
       "                             nbb_cells[i].set_text(nbb_formatted_code);\n",
       "                        }\n",
       "                        break;\n",
       "                    }\n",
       "                }\n",
       "            }, 500);\n",
       "            "
      ],
      "text/plain": [
       "<IPython.core.display.Javascript object>"
      ]
     },
     "metadata": {},
     "output_type": "display_data"
    }
   ],
   "source": [
    "embedding_df.iloc[3722, :]"
   ]
  },
  {
   "cell_type": "code",
   "execution_count": 70,
   "id": "30e8f542",
   "metadata": {},
   "outputs": [
    {
     "data": {
      "application/javascript": [
       "\n",
       "            setTimeout(function() {\n",
       "                var nbb_cell_id = 70;\n",
       "                var nbb_unformatted_code = \"sims = []\\nfor sim in simulator.simulations:\\n    sims.append(sim[1000][-1])\";\n",
       "                var nbb_formatted_code = \"sims = []\\nfor sim in simulator.simulations:\\n    sims.append(sim[1000][-1])\";\n",
       "                var nbb_cells = Jupyter.notebook.get_cells();\n",
       "                for (var i = 0; i < nbb_cells.length; ++i) {\n",
       "                    if (nbb_cells[i].input_prompt_number == nbb_cell_id) {\n",
       "                        if (nbb_cells[i].get_text() == nbb_unformatted_code) {\n",
       "                             nbb_cells[i].set_text(nbb_formatted_code);\n",
       "                        }\n",
       "                        break;\n",
       "                    }\n",
       "                }\n",
       "            }, 500);\n",
       "            "
      ],
      "text/plain": [
       "<IPython.core.display.Javascript object>"
      ]
     },
     "metadata": {},
     "output_type": "display_data"
    }
   ],
   "source": [
    "sims = []\n",
    "for sim in simulator.simulations:\n",
    "    sims.append(sim[1000][-1])"
   ]
  },
  {
   "cell_type": "code",
   "execution_count": 71,
   "id": "d63dd96e",
   "metadata": {},
   "outputs": [
    {
     "data": {
      "application/javascript": [
       "\n",
       "            setTimeout(function() {\n",
       "                var nbb_cell_id = 71;\n",
       "                var nbb_unformatted_code = \"sims = np.array(sims)\\nsims /= np.sum(sims, axis=1)[:, None]\";\n",
       "                var nbb_formatted_code = \"sims = np.array(sims)\\nsims /= np.sum(sims, axis=1)[:, None]\";\n",
       "                var nbb_cells = Jupyter.notebook.get_cells();\n",
       "                for (var i = 0; i < nbb_cells.length; ++i) {\n",
       "                    if (nbb_cells[i].input_prompt_number == nbb_cell_id) {\n",
       "                        if (nbb_cells[i].get_text() == nbb_unformatted_code) {\n",
       "                             nbb_cells[i].set_text(nbb_formatted_code);\n",
       "                        }\n",
       "                        break;\n",
       "                    }\n",
       "                }\n",
       "            }, 500);\n",
       "            "
      ],
      "text/plain": [
       "<IPython.core.display.Javascript object>"
      ]
     },
     "metadata": {},
     "output_type": "display_data"
    }
   ],
   "source": [
    "sims = np.array(sims)\n",
    "sims /= np.sum(sims, axis=1)[:, None]"
   ]
  },
  {
   "cell_type": "code",
   "execution_count": 72,
   "id": "28f6bd25",
   "metadata": {},
   "outputs": [
    {
     "data": {
      "text/plain": [
       "array([[0.10526316, 0.05263158, 0.1754386 , 0.22807018, 0.43859649],\n",
       "       [0.14285714, 0.05194805, 0.12987013, 0.28571429, 0.38961039],\n",
       "       [0.06666667, 0.11666667, 0.06666667, 0.38333333, 0.36666667],\n",
       "       [0.13114754, 0.06557377, 0.13114754, 0.18032787, 0.49180328],\n",
       "       [0.09230769, 0.09230769, 0.15384615, 0.21538462, 0.44615385],\n",
       "       [0.12962963, 0.05555556, 0.14814815, 0.2962963 , 0.37037037],\n",
       "       [0.12068966, 0.06896552, 0.15517241, 0.22413793, 0.43103448],\n",
       "       [0.09259259, 0.07407407, 0.09259259, 0.27777778, 0.46296296],\n",
       "       [0.11764706, 0.05882353, 0.17647059, 0.22058824, 0.42647059],\n",
       "       [0.1       , 0.1       , 0.16666667, 0.18333333, 0.45      ],\n",
       "       [0.09677419, 0.06451613, 0.17741935, 0.22580645, 0.43548387],\n",
       "       [0.10344828, 0.06896552, 0.17241379, 0.20689655, 0.44827586],\n",
       "       [0.14285714, 0.05357143, 0.16071429, 0.17857143, 0.46428571],\n",
       "       [0.13888889, 0.05555556, 0.09722222, 0.26388889, 0.44444444],\n",
       "       [0.12857143, 0.07142857, 0.08571429, 0.28571429, 0.42857143],\n",
       "       [0.11290323, 0.06451613, 0.16129032, 0.19354839, 0.46774194]])"
      ]
     },
     "execution_count": 72,
     "metadata": {},
     "output_type": "execute_result"
    },
    {
     "data": {
      "application/javascript": [
       "\n",
       "            setTimeout(function() {\n",
       "                var nbb_cell_id = 72;\n",
       "                var nbb_unformatted_code = \"sims\";\n",
       "                var nbb_formatted_code = \"sims\";\n",
       "                var nbb_cells = Jupyter.notebook.get_cells();\n",
       "                for (var i = 0; i < nbb_cells.length; ++i) {\n",
       "                    if (nbb_cells[i].input_prompt_number == nbb_cell_id) {\n",
       "                        if (nbb_cells[i].get_text() == nbb_unformatted_code) {\n",
       "                             nbb_cells[i].set_text(nbb_formatted_code);\n",
       "                        }\n",
       "                        break;\n",
       "                    }\n",
       "                }\n",
       "            }, 500);\n",
       "            "
      ],
      "text/plain": [
       "<IPython.core.display.Javascript object>"
      ]
     },
     "metadata": {},
     "output_type": "display_data"
    }
   ],
   "source": [
    "sims"
   ]
  },
  {
   "cell_type": "code",
   "execution_count": 73,
   "id": "3d018b7c",
   "metadata": {},
   "outputs": [
    {
     "data": {
      "text/plain": [
       "[<matplotlib.lines.Line2D at 0x7f43ae6a6160>]"
      ]
     },
     "execution_count": 73,
     "metadata": {},
     "output_type": "execute_result"
    },
    {
     "data": {
      "image/png": "[encoded data removed]",
      "text/plain": [
       "<Figure size 432x288 with 1 Axes>"
      ]
     },
     "metadata": {},
     "output_type": "display_data"
    },
    {
     "data": {
      "application/javascript": [
       "\n",
       "            setTimeout(function() {\n",
       "                var nbb_cell_id = 73;\n",
       "                var nbb_unformatted_code = \"plt.plot(sims.T)\\nplt.plot(\\n    embedding_df.iloc[5048, 3:] / np.sum(embedding_df.iloc[5048, 3:]), color=\\\"black\\\"\\n)\";\n",
       "                var nbb_formatted_code = \"plt.plot(sims.T)\\nplt.plot(\\n    embedding_df.iloc[5048, 3:] / np.sum(embedding_df.iloc[5048, 3:]), color=\\\"black\\\"\\n)\";\n",
       "                var nbb_cells = Jupyter.notebook.get_cells();\n",
       "                for (var i = 0; i < nbb_cells.length; ++i) {\n",
       "                    if (nbb_cells[i].input_prompt_number == nbb_cell_id) {\n",
       "                        if (nbb_cells[i].get_text() == nbb_unformatted_code) {\n",
       "                             nbb_cells[i].set_text(nbb_formatted_code);\n",
       "                        }\n",
       "                        break;\n",
       "                    }\n",
       "                }\n",
       "            }, 500);\n",
       "            "
      ],
      "text/plain": [
       "<IPython.core.display.Javascript object>"
      ]
     },
     "metadata": {},
     "output_type": "display_data"
    }
   ],
   "source": [
    "plt.plot(sims.T)\n",
    "plt.plot(\n",
    "    embedding_df.iloc[5048, 3:] / np.sum(embedding_df.iloc[5048, 3:]), color=\"black\"\n",
    ")"
   ]
  },
  {
   "cell_type": "code",
   "execution_count": 88,
   "id": "8bae12be",
   "metadata": {},
   "outputs": [
    {
     "data": {
      "text/plain": [
       "(4, 5)"
      ]
     },
     "execution_count": 88,
     "metadata": {},
     "output_type": "execute_result"
    },
    {
     "data": {
      "application/javascript": [
       "\n",
       "            setTimeout(function() {\n",
       "                var nbb_cell_id = 88;\n",
       "                var nbb_unformatted_code = \"timeseries_data[1].shape\";\n",
       "                var nbb_formatted_code = \"timeseries_data[1].shape\";\n",
       "                var nbb_cells = Jupyter.notebook.get_cells();\n",
       "                for (var i = 0; i < nbb_cells.length; ++i) {\n",
       "                    if (nbb_cells[i].input_prompt_number == nbb_cell_id) {\n",
       "                        if (nbb_cells[i].get_text() == nbb_unformatted_code) {\n",
       "                             nbb_cells[i].set_text(nbb_formatted_code);\n",
       "                        }\n",
       "                        break;\n",
       "                    }\n",
       "                }\n",
       "            }, 500);\n",
       "            "
      ],
      "text/plain": [
       "<IPython.core.display.Javascript object>"
      ]
     },
     "metadata": {},
     "output_type": "display_data"
    }
   ],
   "source": [
    "timeseries_data[1].shape"
   ]
  },
  {
   "cell_type": "code",
   "execution_count": 83,
   "id": "a76b0ebb",
   "metadata": {},
   "outputs": [
    {
     "data": {
      "text/plain": [
       "(439, 5)"
      ]
     },
     "execution_count": 83,
     "metadata": {},
     "output_type": "execute_result"
    },
    {
     "data": {
      "application/javascript": [
       "\n",
       "            setTimeout(function() {\n",
       "                var nbb_cell_id = 83;\n",
       "                var nbb_unformatted_code = \"simulator.simulations[15][0].shape\";\n",
       "                var nbb_formatted_code = \"simulator.simulations[15][0].shape\";\n",
       "                var nbb_cells = Jupyter.notebook.get_cells();\n",
       "                for (var i = 0; i < nbb_cells.length; ++i) {\n",
       "                    if (nbb_cells[i].input_prompt_number == nbb_cell_id) {\n",
       "                        if (nbb_cells[i].get_text() == nbb_unformatted_code) {\n",
       "                             nbb_cells[i].set_text(nbb_formatted_code);\n",
       "                        }\n",
       "                        break;\n",
       "                    }\n",
       "                }\n",
       "            }, 500);\n",
       "            "
      ],
      "text/plain": [
       "<IPython.core.display.Javascript object>"
      ]
     },
     "metadata": {},
     "output_type": "display_data"
    }
   ],
   "source": [
    "simulator.simulations[15][0].shape"
   ]
  },
  {
   "cell_type": "code",
   "execution_count": 110,
   "id": "24b7af6f",
   "metadata": {},
   "outputs": [
    {
     "data": {
      "application/javascript": [
       "\n",
       "            setTimeout(function() {\n",
       "                var nbb_cell_id = 110;\n",
       "                var nbb_unformatted_code = \"# This checks the review-by-review accuracy for the first t reviews for each product\\n# Accuracy is reported as the % of simulations that produced the exact same star rating\\naccuracy = []\\nfor i in range(timeseries_data.shape[0]):\\n    this_prod_accuracy = []\\n    for t in range(1, 15, 1):\\n        correct = 0\\n        for j in range(len(simulator.simulations)):\\n            try:\\n                correct += int(\\n                    np.array_equal(\\n                        timeseries_data[i][t, :], simulator.simulations[j][i][t, :]\\n                    )\\n                )\\n            except:\\n                correct = np.nan\\n                continue\\n        this_prod_accuracy.append(correct / len(simulator.simulations))\\n    accuracy.append(this_prod_accuracy)\";\n",
       "                var nbb_formatted_code = \"# This checks the review-by-review accuracy for the first t reviews for each product\\n# Accuracy is reported as the % of simulations that produced the exact same star rating\\naccuracy = []\\nfor i in range(timeseries_data.shape[0]):\\n    this_prod_accuracy = []\\n    for t in range(1, 15, 1):\\n        correct = 0\\n        for j in range(len(simulator.simulations)):\\n            try:\\n                correct += int(\\n                    np.array_equal(\\n                        timeseries_data[i][t, :], simulator.simulations[j][i][t, :]\\n                    )\\n                )\\n            except:\\n                correct = np.nan\\n                continue\\n        this_prod_accuracy.append(correct / len(simulator.simulations))\\n    accuracy.append(this_prod_accuracy)\";\n",
       "                var nbb_cells = Jupyter.notebook.get_cells();\n",
       "                for (var i = 0; i < nbb_cells.length; ++i) {\n",
       "                    if (nbb_cells[i].input_prompt_number == nbb_cell_id) {\n",
       "                        if (nbb_cells[i].get_text() == nbb_unformatted_code) {\n",
       "                             nbb_cells[i].set_text(nbb_formatted_code);\n",
       "                        }\n",
       "                        break;\n",
       "                    }\n",
       "                }\n",
       "            }, 500);\n",
       "            "
      ],
      "text/plain": [
       "<IPython.core.display.Javascript object>"
      ]
     },
     "metadata": {},
     "output_type": "display_data"
    }
   ],
   "source": [
    "# This checks the review-by-review accuracy for the first t reviews for each product\n",
    "# Accuracy is reported as the % of simulations that produced the exact same star rating\n",
    "accuracy = []\n",
    "for i in range(timeseries_data.shape[0]):\n",
    "    this_prod_accuracy = []\n",
    "    for t in range(1, 15, 1):\n",
    "        correct = 0\n",
    "        for j in range(len(simulator.simulations)):\n",
    "            try:\n",
    "                correct += int(\n",
    "                    np.array_equal(\n",
    "                        timeseries_data[i][t, :], simulator.simulations[j][i][t, :]\n",
    "                    )\n",
    "                )\n",
    "            except:\n",
    "                correct = np.nan\n",
    "                continue\n",
    "        this_prod_accuracy.append(correct / len(simulator.simulations))\n",
    "    accuracy.append(this_prod_accuracy)"
   ]
  },
  {
   "cell_type": "code",
   "execution_count": 135,
   "id": "6001c7fc",
   "metadata": {},
   "outputs": [
    {
     "data": {
      "application/javascript": [
       "\n",
       "            setTimeout(function() {\n",
       "                var nbb_cell_id = 135;\n",
       "                var nbb_unformatted_code = \"# This is a different measure of accuracy - we first take the predicted rating to be the most common rating\\n# produced by the simulations. Then we check if the real rating is the same as this most common rating\\n# We measure accuracy as the absolute difference between the real and predicted rating\\naccuracy = []\\nfor i in range(timeseries_data.shape[0]):\\n    this_prod_accuracy = []\\n    for t in range(1, 50, 1):\\n        ratings = []\\n        for j in range(len(simulator.simulations)):\\n            try:\\n                rating = (\\n                    np.where(\\n                        simulator.simulations[j][i][t, :]\\n                        - simulator.simulations[j][i][t - 1, :]\\n                    )[0][0]\\n                    + 1\\n                )\\n            except:\\n                rating = np.nan\\n            ratings.append(rating)\\n        ratings = np.array(ratings)\\n\\n        try:\\n            pred_rating = np.argmax(np.bincount(ratings[~np.isnan(ratings)]))\\n            obs_rating = (\\n                np.where(timeseries_data[i][t, :] - timeseries_data[i][t - 1, :])[0][0]\\n                + 1\\n            )\\n        except:\\n            obs_rating = np.nan\\n            pred_rating = np.nan\\n        this_prod_accuracy.append(np.abs(pred_rating - obs_rating))\\n    accuracy.append(this_prod_accuracy)\";\n",
       "                var nbb_formatted_code = \"# This is a different measure of accuracy - we first take the predicted rating to be the most common rating\\n# produced by the simulations. Then we check if the real rating is the same as this most common rating\\n# We measure accuracy as the absolute difference between the real and predicted rating\\naccuracy = []\\nfor i in range(timeseries_data.shape[0]):\\n    this_prod_accuracy = []\\n    for t in range(1, 50, 1):\\n        ratings = []\\n        for j in range(len(simulator.simulations)):\\n            try:\\n                rating = (\\n                    np.where(\\n                        simulator.simulations[j][i][t, :]\\n                        - simulator.simulations[j][i][t - 1, :]\\n                    )[0][0]\\n                    + 1\\n                )\\n            except:\\n                rating = np.nan\\n            ratings.append(rating)\\n        ratings = np.array(ratings)\\n\\n        try:\\n            pred_rating = np.argmax(np.bincount(ratings[~np.isnan(ratings)]))\\n            obs_rating = (\\n                np.where(timeseries_data[i][t, :] - timeseries_data[i][t - 1, :])[0][0]\\n                + 1\\n            )\\n        except:\\n            obs_rating = np.nan\\n            pred_rating = np.nan\\n        this_prod_accuracy.append(np.abs(pred_rating - obs_rating))\\n    accuracy.append(this_prod_accuracy)\";\n",
       "                var nbb_cells = Jupyter.notebook.get_cells();\n",
       "                for (var i = 0; i < nbb_cells.length; ++i) {\n",
       "                    if (nbb_cells[i].input_prompt_number == nbb_cell_id) {\n",
       "                        if (nbb_cells[i].get_text() == nbb_unformatted_code) {\n",
       "                             nbb_cells[i].set_text(nbb_formatted_code);\n",
       "                        }\n",
       "                        break;\n",
       "                    }\n",
       "                }\n",
       "            }, 500);\n",
       "            "
      ],
      "text/plain": [
       "<IPython.core.display.Javascript object>"
      ]
     },
     "metadata": {},
     "output_type": "display_data"
    }
   ],
   "source": [
    "# This is a different measure of accuracy - we first take the predicted rating to be the most common rating\n",
    "# produced by the simulations. Then we check if the real rating is the same as this most common rating\n",
    "# We measure accuracy as the absolute difference between the real and predicted rating\n",
    "accuracy = []\n",
    "for i in range(timeseries_data.shape[0]):\n",
    "    this_prod_accuracy = []\n",
    "    for t in range(1, 50, 1):\n",
    "        ratings = []\n",
    "        for j in range(len(simulator.simulations)):\n",
    "            try:\n",
    "                rating = (\n",
    "                    np.where(\n",
    "                        simulator.simulations[j][i][t, :]\n",
    "                        - simulator.simulations[j][i][t - 1, :]\n",
    "                    )[0][0]\n",
    "                    + 1\n",
    "                )\n",
    "            except:\n",
    "                rating = np.nan\n",
    "            ratings.append(rating)\n",
    "        ratings = np.array(ratings)\n",
    "\n",
    "        try:\n",
    "            pred_rating = np.argmax(np.bincount(ratings[~np.isnan(ratings)]))\n",
    "            obs_rating = (\n",
    "                np.where(timeseries_data[i][t, :] - timeseries_data[i][t - 1, :])[0][0]\n",
    "                + 1\n",
    "            )\n",
    "        except:\n",
    "            obs_rating = np.nan\n",
    "            pred_rating = np.nan\n",
    "        this_prod_accuracy.append(np.abs(pred_rating - obs_rating))\n",
    "    accuracy.append(this_prod_accuracy)"
   ]
  },
  {
   "cell_type": "code",
   "execution_count": 147,
   "id": "5d5e7bd0",
   "metadata": {},
   "outputs": [
    {
     "data": {
      "application/javascript": [
       "\n",
       "            setTimeout(function() {\n",
       "                var nbb_cell_id = 147;\n",
       "                var nbb_unformatted_code = \"# Another different measure of accuracy - here we take the most common rating as the predicted rating as before\\n# But just calculate the accuracy, across products - i.e, for how many products is this predicted rating the same\\n# as the observed rating\\naccuracy = []\\nfor i in range(timeseries_data.shape[0]):\\n    this_prod_accuracy = []\\n    for t in range(1, 20, 1):\\n        ratings = []\\n        for j in range(len(simulator.simulations)):\\n            try:\\n                rating = (\\n                    np.where(\\n                        simulator.simulations[j][i][t, :]\\n                        - simulator.simulations[j][i][t - 1, :]\\n                    )[0][0]\\n                    + 1\\n                )\\n            except:\\n                rating = np.nan\\n            ratings.append(rating)\\n        ratings = np.array(ratings)\\n\\n        try:\\n            pred_rating = np.argmax(np.bincount(ratings[~np.isnan(ratings)]))\\n            obs_rating = (\\n                np.where(timeseries_data[i][t, :] - timeseries_data[i][t - 1, :])[0][0]\\n                + 1\\n            )\\n            this_prod_accuracy.append(pred_rating == obs_rating)\\n        except:\\n            obs_rating = np.nan\\n            pred_rating = np.nan\\n            this_prod_accuracy.append(np.nan)\\n    accuracy.append(this_prod_accuracy)\";\n",
       "                var nbb_formatted_code = \"# Another different measure of accuracy - here we take the most common rating as the predicted rating as before\\n# But just calculate the accuracy, across products - i.e, for how many products is this predicted rating the same\\n# as the observed rating\\naccuracy = []\\nfor i in range(timeseries_data.shape[0]):\\n    this_prod_accuracy = []\\n    for t in range(1, 20, 1):\\n        ratings = []\\n        for j in range(len(simulator.simulations)):\\n            try:\\n                rating = (\\n                    np.where(\\n                        simulator.simulations[j][i][t, :]\\n                        - simulator.simulations[j][i][t - 1, :]\\n                    )[0][0]\\n                    + 1\\n                )\\n            except:\\n                rating = np.nan\\n            ratings.append(rating)\\n        ratings = np.array(ratings)\\n\\n        try:\\n            pred_rating = np.argmax(np.bincount(ratings[~np.isnan(ratings)]))\\n            obs_rating = (\\n                np.where(timeseries_data[i][t, :] - timeseries_data[i][t - 1, :])[0][0]\\n                + 1\\n            )\\n            this_prod_accuracy.append(pred_rating == obs_rating)\\n        except:\\n            obs_rating = np.nan\\n            pred_rating = np.nan\\n            this_prod_accuracy.append(np.nan)\\n    accuracy.append(this_prod_accuracy)\";\n",
       "                var nbb_cells = Jupyter.notebook.get_cells();\n",
       "                for (var i = 0; i < nbb_cells.length; ++i) {\n",
       "                    if (nbb_cells[i].input_prompt_number == nbb_cell_id) {\n",
       "                        if (nbb_cells[i].get_text() == nbb_unformatted_code) {\n",
       "                             nbb_cells[i].set_text(nbb_formatted_code);\n",
       "                        }\n",
       "                        break;\n",
       "                    }\n",
       "                }\n",
       "            }, 500);\n",
       "            "
      ],
      "text/plain": [
       "<IPython.core.display.Javascript object>"
      ]
     },
     "metadata": {},
     "output_type": "display_data"
    }
   ],
   "source": [
    "# Another different measure of accuracy - here we take the most common rating as the predicted rating as before\n",
    "# But just calculate the accuracy, across products - i.e, for how many products is this predicted rating the same\n",
    "# as the observed rating\n",
    "accuracy = []\n",
    "for i in range(timeseries_data.shape[0]):\n",
    "    this_prod_accuracy = []\n",
    "    for t in range(1, 20, 1):\n",
    "        ratings = []\n",
    "        for j in range(len(simulator.simulations)):\n",
    "            try:\n",
    "                rating = (\n",
    "                    np.where(\n",
    "                        simulator.simulations[j][i][t, :]\n",
    "                        - simulator.simulations[j][i][t - 1, :]\n",
    "                    )[0][0]\n",
    "                    + 1\n",
    "                )\n",
    "            except:\n",
    "                rating = np.nan\n",
    "            ratings.append(rating)\n",
    "        ratings = np.array(ratings)\n",
    "\n",
    "        try:\n",
    "            pred_rating = np.argmax(np.bincount(ratings[~np.isnan(ratings)]))\n",
    "            obs_rating = (\n",
    "                np.where(timeseries_data[i][t, :] - timeseries_data[i][t - 1, :])[0][0]\n",
    "                + 1\n",
    "            )\n",
    "            this_prod_accuracy.append(pred_rating == obs_rating)\n",
    "        except:\n",
    "            obs_rating = np.nan\n",
    "            pred_rating = np.nan\n",
    "            this_prod_accuracy.append(np.nan)\n",
    "    accuracy.append(this_prod_accuracy)"
   ]
  },
  {
   "cell_type": "code",
   "execution_count": 148,
   "id": "57b9139d",
   "metadata": {},
   "outputs": [
    {
     "data": {
      "text/plain": [
       "array([[ 0.,  0.,  0., ...,  0.,  0.,  1.],\n",
       "       [ 0.,  0.,  0., ..., nan, nan, nan],\n",
       "       [ 0.,  1.,  1., ...,  0.,  0.,  1.],\n",
       "       ...,\n",
       "       [ 0.,  1.,  0., ...,  0.,  0.,  1.],\n",
       "       [ 0.,  1.,  0., ...,  1.,  0.,  1.],\n",
       "       [ 1.,  1.,  1., ...,  0.,  0.,  0.]])"
      ]
     },
     "execution_count": 148,
     "metadata": {},
     "output_type": "execute_result"
    },
    {
     "data": {
      "application/javascript": [
       "\n",
       "            setTimeout(function() {\n",
       "                var nbb_cell_id = 148;\n",
       "                var nbb_unformatted_code = \"accuracy = np.array(accuracy)\\naccuracy\";\n",
       "                var nbb_formatted_code = \"accuracy = np.array(accuracy)\\naccuracy\";\n",
       "                var nbb_cells = Jupyter.notebook.get_cells();\n",
       "                for (var i = 0; i < nbb_cells.length; ++i) {\n",
       "                    if (nbb_cells[i].input_prompt_number == nbb_cell_id) {\n",
       "                        if (nbb_cells[i].get_text() == nbb_unformatted_code) {\n",
       "                             nbb_cells[i].set_text(nbb_formatted_code);\n",
       "                        }\n",
       "                        break;\n",
       "                    }\n",
       "                }\n",
       "            }, 500);\n",
       "            "
      ],
      "text/plain": [
       "<IPython.core.display.Javascript object>"
      ]
     },
     "metadata": {},
     "output_type": "display_data"
    }
   ],
   "source": [
    "accuracy = np.array(accuracy)\n",
    "accuracy"
   ]
  },
  {
   "cell_type": "code",
   "execution_count": 149,
   "id": "cfe22dc2",
   "metadata": {},
   "outputs": [
    {
     "data": {
      "text/plain": [
       "[<matplotlib.lines.Line2D at 0x7f43b3fbaf10>]"
      ]
     },
     "execution_count": 149,
     "metadata": {},
     "output_type": "execute_result"
    },
    {
     "data": {
      "image/png": "[encoded data removed]",
      "text/plain": [
       "<Figure size 432x288 with 1 Axes>"
      ]
     },
     "metadata": {},
     "output_type": "display_data"
    },
    {
     "data": {
      "application/javascript": [
       "\n",
       "            setTimeout(function() {\n",
       "                var nbb_cell_id = 149;\n",
       "                var nbb_unformatted_code = \"plt.plot(np.nanmean(accuracy[:, :], axis=0))\";\n",
       "                var nbb_formatted_code = \"plt.plot(np.nanmean(accuracy[:, :], axis=0))\";\n",
       "                var nbb_cells = Jupyter.notebook.get_cells();\n",
       "                for (var i = 0; i < nbb_cells.length; ++i) {\n",
       "                    if (nbb_cells[i].input_prompt_number == nbb_cell_id) {\n",
       "                        if (nbb_cells[i].get_text() == nbb_unformatted_code) {\n",
       "                             nbb_cells[i].set_text(nbb_formatted_code);\n",
       "                        }\n",
       "                        break;\n",
       "                    }\n",
       "                }\n",
       "            }, 500);\n",
       "            "
      ],
      "text/plain": [
       "<IPython.core.display.Javascript object>"
      ]
     },
     "metadata": {},
     "output_type": "display_data"
    }
   ],
   "source": [
    "plt.plot(np.nanmean(accuracy[:, :], axis=0))"
   ]
  },
  {
   "cell_type": "code",
   "execution_count": 146,
   "id": "6ec5f4d3",
   "metadata": {},
   "outputs": [
    {
     "data": {
      "text/plain": [
       "[<matplotlib.lines.Line2D at 0x7f43b3f6d9a0>]"
      ]
     },
     "execution_count": 146,
     "metadata": {},
     "output_type": "execute_result"
    },
    {
     "data": {
      "image/png": "[encoded data removed]",
      "text/plain": [
       "<Figure size 432x288 with 1 Axes>"
      ]
     },
     "metadata": {},
     "output_type": "display_data"
    },
    {
     "data": {
      "application/javascript": [
       "\n",
       "            setTimeout(function() {\n",
       "                var nbb_cell_id = 146;\n",
       "                var nbb_unformatted_code = \"plt.plot(accuracy[78, :])\";\n",
       "                var nbb_formatted_code = \"plt.plot(accuracy[78, :])\";\n",
       "                var nbb_cells = Jupyter.notebook.get_cells();\n",
       "                for (var i = 0; i < nbb_cells.length; ++i) {\n",
       "                    if (nbb_cells[i].input_prompt_number == nbb_cell_id) {\n",
       "                        if (nbb_cells[i].get_text() == nbb_unformatted_code) {\n",
       "                             nbb_cells[i].set_text(nbb_formatted_code);\n",
       "                        }\n",
       "                        break;\n",
       "                    }\n",
       "                }\n",
       "            }, 500);\n",
       "            "
      ],
      "text/plain": [
       "<IPython.core.display.Javascript object>"
      ]
     },
     "metadata": {},
     "output_type": "display_data"
    }
   ],
   "source": [
    "plt.plot(accuracy[78, :])"
   ]
  },
  {
   "cell_type": "markdown",
   "id": "08afefb3",
   "metadata": {},
   "source": [
    "**Will need to use multinomial distributions to see what the baseline probability for such events will be assuming a random classifier - one that produces 1-5 star with equal probability**"
   ]
  },
  {
   "cell_type": "markdown",
   "id": "4f538ec6",
   "metadata": {},
   "source": [
    "**Next we will design a similar set of accuracy tests for simulations that used existing reviews**"
   ]
  },
  {
   "cell_type": "markdown",
   "id": "801c0c48",
   "metadata": {},
   "source": [
    "**First check how the reviews for a specific product look**"
   ]
  },
  {
   "cell_type": "code",
   "execution_count": 37,
   "id": "7e8cf0a6",
   "metadata": {},
   "outputs": [
    {
     "data": {
      "text/plain": [
       "3903"
      ]
     },
     "execution_count": 37,
     "metadata": {},
     "output_type": "execute_result"
    },
    {
     "data": {
      "application/javascript": [
       "\n",
       "            setTimeout(function() {\n",
       "                var nbb_cell_id = 37;\n",
       "                var nbb_unformatted_code = \"idx = np.where(embedding_df[\\\"asin\\\"] == timeseries_asin[45])[0][0]\\nidx\";\n",
       "                var nbb_formatted_code = \"idx = np.where(embedding_df[\\\"asin\\\"] == timeseries_asin[45])[0][0]\\nidx\";\n",
       "                var nbb_cells = Jupyter.notebook.get_cells();\n",
       "                for (var i = 0; i < nbb_cells.length; ++i) {\n",
       "                    if (nbb_cells[i].input_prompt_number == nbb_cell_id) {\n",
       "                        if (nbb_cells[i].get_text() == nbb_unformatted_code) {\n",
       "                             nbb_cells[i].set_text(nbb_formatted_code);\n",
       "                        }\n",
       "                        break;\n",
       "                    }\n",
       "                }\n",
       "            }, 500);\n",
       "            "
      ],
      "text/plain": [
       "<IPython.core.display.Javascript object>"
      ]
     },
     "metadata": {},
     "output_type": "display_data"
    }
   ],
   "source": [
    "idx = np.where(embedding_df[\"asin\"] == timeseries_asin[45])[0][0]\n",
    "idx"
   ]
  },
  {
   "cell_type": "code",
   "execution_count": 38,
   "id": "178d8157",
   "metadata": {},
   "outputs": [
    {
     "data": {
      "text/plain": [
       "productid                                              1068388\n",
       "embedding    [-0.00462163, 0.0303266, -0.0306976, -0.019061...\n",
       "asin                                                   1068388\n",
       "1                                                           62\n",
       "2                                                           13\n",
       "3                                                           17\n",
       "4                                                           48\n",
       "5                                                           95\n",
       "Name: 3903, dtype: object"
      ]
     },
     "execution_count": 38,
     "metadata": {},
     "output_type": "execute_result"
    },
    {
     "data": {
      "application/javascript": [
       "\n",
       "            setTimeout(function() {\n",
       "                var nbb_cell_id = 38;\n",
       "                var nbb_unformatted_code = \"embedding_df.iloc[3903, :]\";\n",
       "                var nbb_formatted_code = \"embedding_df.iloc[3903, :]\";\n",
       "                var nbb_cells = Jupyter.notebook.get_cells();\n",
       "                for (var i = 0; i < nbb_cells.length; ++i) {\n",
       "                    if (nbb_cells[i].input_prompt_number == nbb_cell_id) {\n",
       "                        if (nbb_cells[i].get_text() == nbb_unformatted_code) {\n",
       "                             nbb_cells[i].set_text(nbb_formatted_code);\n",
       "                        }\n",
       "                        break;\n",
       "                    }\n",
       "                }\n",
       "            }, 500);\n",
       "            "
      ],
      "text/plain": [
       "<IPython.core.display.Javascript object>"
      ]
     },
     "metadata": {},
     "output_type": "display_data"
    }
   ],
   "source": [
    "embedding_df.iloc[3903, :]"
   ]
  },
  {
   "cell_type": "code",
   "execution_count": 39,
   "id": "a941f701",
   "metadata": {},
   "outputs": [
    {
     "data": {
      "application/javascript": [
       "\n",
       "            setTimeout(function() {\n",
       "                var nbb_cell_id = 39;\n",
       "                var nbb_unformatted_code = \"sims = []\\nfor sim in simulator.simulations:\\n    sims.append(sim[45][-1] - sim[45][timeseries_half_len[45]])\";\n",
       "                var nbb_formatted_code = \"sims = []\\nfor sim in simulator.simulations:\\n    sims.append(sim[45][-1] - sim[45][timeseries_half_len[45]])\";\n",
       "                var nbb_cells = Jupyter.notebook.get_cells();\n",
       "                for (var i = 0; i < nbb_cells.length; ++i) {\n",
       "                    if (nbb_cells[i].input_prompt_number == nbb_cell_id) {\n",
       "                        if (nbb_cells[i].get_text() == nbb_unformatted_code) {\n",
       "                             nbb_cells[i].set_text(nbb_formatted_code);\n",
       "                        }\n",
       "                        break;\n",
       "                    }\n",
       "                }\n",
       "            }, 500);\n",
       "            "
      ],
      "text/plain": [
       "<IPython.core.display.Javascript object>"
      ]
     },
     "metadata": {},
     "output_type": "display_data"
    }
   ],
   "source": [
    "sims = []\n",
    "for sim in simulator.simulations:\n",
    "    sims.append(sim[45][-1] - sim[45][timeseries_half_len[45]])"
   ]
  },
  {
   "cell_type": "code",
   "execution_count": 40,
   "id": "0a4f2e2a",
   "metadata": {},
   "outputs": [
    {
     "data": {
      "application/javascript": [
       "\n",
       "            setTimeout(function() {\n",
       "                var nbb_cell_id = 40;\n",
       "                var nbb_unformatted_code = \"sims = np.array(sims)\\nsims /= np.sum(sims, axis=1)[:, None]\";\n",
       "                var nbb_formatted_code = \"sims = np.array(sims)\\nsims /= np.sum(sims, axis=1)[:, None]\";\n",
       "                var nbb_cells = Jupyter.notebook.get_cells();\n",
       "                for (var i = 0; i < nbb_cells.length; ++i) {\n",
       "                    if (nbb_cells[i].input_prompt_number == nbb_cell_id) {\n",
       "                        if (nbb_cells[i].get_text() == nbb_unformatted_code) {\n",
       "                             nbb_cells[i].set_text(nbb_formatted_code);\n",
       "                        }\n",
       "                        break;\n",
       "                    }\n",
       "                }\n",
       "            }, 500);\n",
       "            "
      ],
      "text/plain": [
       "<IPython.core.display.Javascript object>"
      ]
     },
     "metadata": {},
     "output_type": "display_data"
    }
   ],
   "source": [
    "sims = np.array(sims)\n",
    "sims /= np.sum(sims, axis=1)[:, None]"
   ]
  },
  {
   "cell_type": "code",
   "execution_count": 41,
   "id": "8cf66040",
   "metadata": {},
   "outputs": [
    {
     "data": {
      "text/plain": [
       "array([[0.17676768, 0.06060606, 0.06060606, 0.31313131, 0.38888889],\n",
       "       [0.17801047, 0.07329843, 0.03141361, 0.28272251, 0.43455497],\n",
       "       [0.15425532, 0.06914894, 0.03191489, 0.37765957, 0.36702128],\n",
       "       [0.13407821, 0.06703911, 0.03351955, 0.45810056, 0.30726257],\n",
       "       [0.11111111, 0.05263158, 0.04678363, 0.44444444, 0.34502924],\n",
       "       [0.13559322, 0.07909605, 0.04519774, 0.36723164, 0.37288136],\n",
       "       [0.12087912, 0.07692308, 0.03296703, 0.41208791, 0.35714286],\n",
       "       [0.14285714, 0.03571429, 0.05714286, 0.34285714, 0.42142857],\n",
       "       [0.15294118, 0.06470588, 0.04117647, 0.35882353, 0.38235294],\n",
       "       [0.16778523, 0.06711409, 0.05369128, 0.30201342, 0.40939597],\n",
       "       [0.12820513, 0.06410256, 0.08333333, 0.38461538, 0.33974359],\n",
       "       [0.14792899, 0.0591716 , 0.08284024, 0.33136095, 0.37869822],\n",
       "       [0.12418301, 0.07843137, 0.01960784, 0.41176471, 0.36601307],\n",
       "       [0.1572327 , 0.0754717 , 0.06289308, 0.35849057, 0.34591195],\n",
       "       [0.1627907 , 0.05232558, 0.02906977, 0.34302326, 0.4127907 ],\n",
       "       [0.16111111, 0.06666667, 0.07222222, 0.27777778, 0.42222222],\n",
       "       [0.1497006 , 0.07185629, 0.05389222, 0.28742515, 0.43712575],\n",
       "       [0.14572864, 0.06532663, 0.07035176, 0.32663317, 0.3919598 ],\n",
       "       [0.18471338, 0.05732484, 0.01910828, 0.33757962, 0.40127389],\n",
       "       [0.13253012, 0.07228916, 0.03012048, 0.36746988, 0.39759036],\n",
       "       [0.14193548, 0.0516129 , 0.01935484, 0.4516129 , 0.33548387],\n",
       "       [0.15333333, 0.08666667, 0.04      , 0.27333333, 0.44666667],\n",
       "       [0.12337662, 0.05194805, 0.06493506, 0.35714286, 0.4025974 ],\n",
       "       [0.15757576, 0.0969697 , 0.05454545, 0.26060606, 0.43030303],\n",
       "       [0.13855422, 0.06626506, 0.03012048, 0.38554217, 0.37951807],\n",
       "       [0.16339869, 0.07189542, 0.06535948, 0.22875817, 0.47058824],\n",
       "       [0.16753927, 0.05235602, 0.03664921, 0.39790576, 0.34554974],\n",
       "       [0.13953488, 0.05813953, 0.05813953, 0.37209302, 0.37209302],\n",
       "       [0.17910448, 0.03482587, 0.00995025, 0.43781095, 0.33830846],\n",
       "       [0.12269939, 0.08588957, 0.06748466, 0.35582822, 0.36809816],\n",
       "       [0.14465409, 0.02515723, 0.04402516, 0.42138365, 0.36477987],\n",
       "       [0.1657754 , 0.05347594, 0.05347594, 0.3315508 , 0.39572193]])"
      ]
     },
     "execution_count": 41,
     "metadata": {},
     "output_type": "execute_result"
    },
    {
     "data": {
      "application/javascript": [
       "\n",
       "            setTimeout(function() {\n",
       "                var nbb_cell_id = 41;\n",
       "                var nbb_unformatted_code = \"sims\";\n",
       "                var nbb_formatted_code = \"sims\";\n",
       "                var nbb_cells = Jupyter.notebook.get_cells();\n",
       "                for (var i = 0; i < nbb_cells.length; ++i) {\n",
       "                    if (nbb_cells[i].input_prompt_number == nbb_cell_id) {\n",
       "                        if (nbb_cells[i].get_text() == nbb_unformatted_code) {\n",
       "                             nbb_cells[i].set_text(nbb_formatted_code);\n",
       "                        }\n",
       "                        break;\n",
       "                    }\n",
       "                }\n",
       "            }, 500);\n",
       "            "
      ],
      "text/plain": [
       "<IPython.core.display.Javascript object>"
      ]
     },
     "metadata": {},
     "output_type": "display_data"
    }
   ],
   "source": [
    "sims"
   ]
  },
  {
   "cell_type": "code",
   "execution_count": 42,
   "id": "84046a24",
   "metadata": {},
   "outputs": [
    {
     "data": {
      "text/plain": [
       "[<matplotlib.lines.Line2D at 0x7f434b60e820>]"
      ]
     },
     "execution_count": 42,
     "metadata": {},
     "output_type": "execute_result"
    },
    {
     "data": {
      "image/png": "[encoded data removed]",
      "text/plain": [
       "<Figure size 432x288 with 1 Axes>"
      ]
     },
     "metadata": {},
     "output_type": "display_data"
    },
    {
     "data": {
      "application/javascript": [
       "\n",
       "            setTimeout(function() {\n",
       "                var nbb_cell_id = 42;\n",
       "                var nbb_unformatted_code = \"plt.plot(sims.T)\\nreal_data = timeseries_data[45][-1] - timeseries_data[45][timeseries_half_len[45]]\\nplt.plot(real_data / np.sum(real_data), color=\\\"black\\\")\";\n",
       "                var nbb_formatted_code = \"plt.plot(sims.T)\\nreal_data = timeseries_data[45][-1] - timeseries_data[45][timeseries_half_len[45]]\\nplt.plot(real_data / np.sum(real_data), color=\\\"black\\\")\";\n",
       "                var nbb_cells = Jupyter.notebook.get_cells();\n",
       "                for (var i = 0; i < nbb_cells.length; ++i) {\n",
       "                    if (nbb_cells[i].input_prompt_number == nbb_cell_id) {\n",
       "                        if (nbb_cells[i].get_text() == nbb_unformatted_code) {\n",
       "                             nbb_cells[i].set_text(nbb_formatted_code);\n",
       "                        }\n",
       "                        break;\n",
       "                    }\n",
       "                }\n",
       "            }, 500);\n",
       "            "
      ],
      "text/plain": [
       "<IPython.core.display.Javascript object>"
      ]
     },
     "metadata": {},
     "output_type": "display_data"
    }
   ],
   "source": [
    "plt.plot(sims.T)\n",
    "real_data = timeseries_data[45][-1] - timeseries_data[45][timeseries_half_len[45]]\n",
    "plt.plot(real_data / np.sum(real_data), color=\"black\")"
   ]
  },
  {
   "cell_type": "code",
   "execution_count": 43,
   "id": "c549ed87",
   "metadata": {},
   "outputs": [
    {
     "data": {
      "text/plain": [
       "3722"
      ]
     },
     "execution_count": 43,
     "metadata": {},
     "output_type": "execute_result"
    },
    {
     "data": {
      "application/javascript": [
       "\n",
       "            setTimeout(function() {\n",
       "                var nbb_cell_id = 43;\n",
       "                var nbb_unformatted_code = \"idx = np.where(embedding_df[\\\"asin\\\"] == timeseries_asin[1000])[0][0]\\nidx\";\n",
       "                var nbb_formatted_code = \"idx = np.where(embedding_df[\\\"asin\\\"] == timeseries_asin[1000])[0][0]\\nidx\";\n",
       "                var nbb_cells = Jupyter.notebook.get_cells();\n",
       "                for (var i = 0; i < nbb_cells.length; ++i) {\n",
       "                    if (nbb_cells[i].input_prompt_number == nbb_cell_id) {\n",
       "                        if (nbb_cells[i].get_text() == nbb_unformatted_code) {\n",
       "                             nbb_cells[i].set_text(nbb_formatted_code);\n",
       "                        }\n",
       "                        break;\n",
       "                    }\n",
       "                }\n",
       "            }, 500);\n",
       "            "
      ],
      "text/plain": [
       "<IPython.core.display.Javascript object>"
      ]
     },
     "metadata": {},
     "output_type": "display_data"
    }
   ],
   "source": [
    "idx = np.where(embedding_df[\"asin\"] == timeseries_asin[1000])[0][0]\n",
    "idx"
   ]
  },
  {
   "cell_type": "code",
   "execution_count": 44,
   "id": "779bc479",
   "metadata": {},
   "outputs": [
    {
     "data": {
      "text/plain": [
       "productid                                              6247836\n",
       "embedding    [-0.0526099, 0.0766598, 0.00164629, -0.0169849...\n",
       "asin                                                   6247836\n",
       "1                                                            3\n",
       "2                                                            2\n",
       "3                                                            2\n",
       "4                                                            6\n",
       "5                                                           19\n",
       "Name: 3722, dtype: object"
      ]
     },
     "execution_count": 44,
     "metadata": {},
     "output_type": "execute_result"
    },
    {
     "data": {
      "application/javascript": [
       "\n",
       "            setTimeout(function() {\n",
       "                var nbb_cell_id = 44;\n",
       "                var nbb_unformatted_code = \"embedding_df.iloc[3722, :]\";\n",
       "                var nbb_formatted_code = \"embedding_df.iloc[3722, :]\";\n",
       "                var nbb_cells = Jupyter.notebook.get_cells();\n",
       "                for (var i = 0; i < nbb_cells.length; ++i) {\n",
       "                    if (nbb_cells[i].input_prompt_number == nbb_cell_id) {\n",
       "                        if (nbb_cells[i].get_text() == nbb_unformatted_code) {\n",
       "                             nbb_cells[i].set_text(nbb_formatted_code);\n",
       "                        }\n",
       "                        break;\n",
       "                    }\n",
       "                }\n",
       "            }, 500);\n",
       "            "
      ],
      "text/plain": [
       "<IPython.core.display.Javascript object>"
      ]
     },
     "metadata": {},
     "output_type": "display_data"
    }
   ],
   "source": [
    "embedding_df.iloc[3722, :]"
   ]
  },
  {
   "cell_type": "code",
   "execution_count": 45,
   "id": "c1aa8fa2",
   "metadata": {},
   "outputs": [
    {
     "data": {
      "application/javascript": [
       "\n",
       "            setTimeout(function() {\n",
       "                var nbb_cell_id = 45;\n",
       "                var nbb_unformatted_code = \"sims = []\\nfor sim in simulator.simulations:\\n    sims.append(sim[1000][-1] - sim[1000][timeseries_half_len[1000]])\";\n",
       "                var nbb_formatted_code = \"sims = []\\nfor sim in simulator.simulations:\\n    sims.append(sim[1000][-1] - sim[1000][timeseries_half_len[1000]])\";\n",
       "                var nbb_cells = Jupyter.notebook.get_cells();\n",
       "                for (var i = 0; i < nbb_cells.length; ++i) {\n",
       "                    if (nbb_cells[i].input_prompt_number == nbb_cell_id) {\n",
       "                        if (nbb_cells[i].get_text() == nbb_unformatted_code) {\n",
       "                             nbb_cells[i].set_text(nbb_formatted_code);\n",
       "                        }\n",
       "                        break;\n",
       "                    }\n",
       "                }\n",
       "            }, 500);\n",
       "            "
      ],
      "text/plain": [
       "<IPython.core.display.Javascript object>"
      ]
     },
     "metadata": {},
     "output_type": "display_data"
    }
   ],
   "source": [
    "sims = []\n",
    "for sim in simulator.simulations:\n",
    "    sims.append(sim[1000][-1] - sim[1000][timeseries_half_len[1000]])"
   ]
  },
  {
   "cell_type": "code",
   "execution_count": 46,
   "id": "405e1ce1",
   "metadata": {},
   "outputs": [
    {
     "data": {
      "application/javascript": [
       "\n",
       "            setTimeout(function() {\n",
       "                var nbb_cell_id = 46;\n",
       "                var nbb_unformatted_code = \"sims = np.array(sims)\\nsims /= np.sum(sims, axis=1)[:, None]\";\n",
       "                var nbb_formatted_code = \"sims = np.array(sims)\\nsims /= np.sum(sims, axis=1)[:, None]\";\n",
       "                var nbb_cells = Jupyter.notebook.get_cells();\n",
       "                for (var i = 0; i < nbb_cells.length; ++i) {\n",
       "                    if (nbb_cells[i].input_prompt_number == nbb_cell_id) {\n",
       "                        if (nbb_cells[i].get_text() == nbb_unformatted_code) {\n",
       "                             nbb_cells[i].set_text(nbb_formatted_code);\n",
       "                        }\n",
       "                        break;\n",
       "                    }\n",
       "                }\n",
       "            }, 500);\n",
       "            "
      ],
      "text/plain": [
       "<IPython.core.display.Javascript object>"
      ]
     },
     "metadata": {},
     "output_type": "display_data"
    }
   ],
   "source": [
    "sims = np.array(sims)\n",
    "sims /= np.sum(sims, axis=1)[:, None]"
   ]
  },
  {
   "cell_type": "code",
   "execution_count": 47,
   "id": "212338dd",
   "metadata": {},
   "outputs": [
    {
     "data": {
      "text/plain": [
       "array([[0.07142857, 0.10714286, 0.14285714, 0.25      , 0.42857143],\n",
       "       [0.09433962, 0.05660377, 0.16981132, 0.37735849, 0.30188679],\n",
       "       [0.07692308, 0.12820513, 0.07692308, 0.25641026, 0.46153846],\n",
       "       [0.16216216, 0.05405405, 0.13513514, 0.18918919, 0.45945946],\n",
       "       [0.03225806, 0.06451613, 0.19354839, 0.32258065, 0.38709677],\n",
       "       [0.07692308, 0.1025641 , 0.17948718, 0.25641026, 0.38461538],\n",
       "       [0.07692308, 0.05128205, 0.20512821, 0.23076923, 0.43589744],\n",
       "       [0.11428571, 0.02857143, 0.17142857, 0.25714286, 0.42857143],\n",
       "       [0.10344828, 0.03448276, 0.13793103, 0.31034483, 0.4137931 ],\n",
       "       [0.05405405, 0.02702703, 0.32432432, 0.27027027, 0.32432432],\n",
       "       [0.12903226, 0.09677419, 0.06451613, 0.22580645, 0.48387097],\n",
       "       [0.07692308, 0.1025641 , 0.15384615, 0.28205128, 0.38461538],\n",
       "       [0.03125   , 0.03125   , 0.25      , 0.28125   , 0.40625   ],\n",
       "       [0.16666667, 0.03333333, 0.03333333, 0.2       , 0.56666667],\n",
       "       [0.14285714, 0.04761905, 0.19047619, 0.16666667, 0.45238095],\n",
       "       [0.125     , 0.075     , 0.175     , 0.3       , 0.325     ],\n",
       "       [0.02941176, 0.02941176, 0.14705882, 0.5       , 0.29411765],\n",
       "       [0.06521739, 0.15217391, 0.15217391, 0.23913043, 0.39130435],\n",
       "       [0.10810811, 0.08108108, 0.10810811, 0.21621622, 0.48648649],\n",
       "       [0.16666667, 0.05555556, 0.11111111, 0.25      , 0.41666667],\n",
       "       [0.11627907, 0.06976744, 0.23255814, 0.13953488, 0.44186047],\n",
       "       [0.09756098, 0.09756098, 0.04878049, 0.34146341, 0.41463415],\n",
       "       [0.15625   , 0.        , 0.15625   , 0.34375   , 0.34375   ],\n",
       "       [0.06976744, 0.09302326, 0.1627907 , 0.23255814, 0.44186047],\n",
       "       [0.06896552, 0.06896552, 0.10344828, 0.31034483, 0.44827586],\n",
       "       [0.07692308, 0.12820513, 0.20512821, 0.23076923, 0.35897436],\n",
       "       [0.07142857, 0.03571429, 0.14285714, 0.42857143, 0.32142857],\n",
       "       [0.06451613, 0.03225806, 0.09677419, 0.41935484, 0.38709677],\n",
       "       [0.06666667, 0.06666667, 0.23333333, 0.2       , 0.43333333],\n",
       "       [0.11111111, 0.02777778, 0.19444444, 0.16666667, 0.5       ],\n",
       "       [0.06122449, 0.10204082, 0.18367347, 0.26530612, 0.3877551 ],\n",
       "       [0.10416667, 0.125     , 0.125     , 0.27083333, 0.375     ]])"
      ]
     },
     "execution_count": 47,
     "metadata": {},
     "output_type": "execute_result"
    },
    {
     "data": {
      "application/javascript": [
       "\n",
       "            setTimeout(function() {\n",
       "                var nbb_cell_id = 47;\n",
       "                var nbb_unformatted_code = \"sims\";\n",
       "                var nbb_formatted_code = \"sims\";\n",
       "                var nbb_cells = Jupyter.notebook.get_cells();\n",
       "                for (var i = 0; i < nbb_cells.length; ++i) {\n",
       "                    if (nbb_cells[i].input_prompt_number == nbb_cell_id) {\n",
       "                        if (nbb_cells[i].get_text() == nbb_unformatted_code) {\n",
       "                             nbb_cells[i].set_text(nbb_formatted_code);\n",
       "                        }\n",
       "                        break;\n",
       "                    }\n",
       "                }\n",
       "            }, 500);\n",
       "            "
      ],
      "text/plain": [
       "<IPython.core.display.Javascript object>"
      ]
     },
     "metadata": {},
     "output_type": "display_data"
    }
   ],
   "source": [
    "sims"
   ]
  },
  {
   "cell_type": "code",
   "execution_count": 48,
   "id": "3e35be58",
   "metadata": {},
   "outputs": [
    {
     "data": {
      "text/plain": [
       "[<matplotlib.lines.Line2D at 0x7f434adc7580>]"
      ]
     },
     "execution_count": 48,
     "metadata": {},
     "output_type": "execute_result"
    },
    {
     "data": {
      "image/png": "[encoded data removed]",
      "text/plain": [
       "<Figure size 432x288 with 1 Axes>"
      ]
     },
     "metadata": {},
     "output_type": "display_data"
    },
    {
     "data": {
      "application/javascript": [
       "\n",
       "            setTimeout(function() {\n",
       "                var nbb_cell_id = 48;\n",
       "                var nbb_unformatted_code = \"plt.plot(sims.T)\\nreal_data = timeseries_data[1000][-1] - timeseries_data[1000][timeseries_half_len[1000]]\\nplt.plot(real_data / np.sum(real_data), color=\\\"black\\\")\";\n",
       "                var nbb_formatted_code = \"plt.plot(sims.T)\\nreal_data = timeseries_data[1000][-1] - timeseries_data[1000][timeseries_half_len[1000]]\\nplt.plot(real_data / np.sum(real_data), color=\\\"black\\\")\";\n",
       "                var nbb_cells = Jupyter.notebook.get_cells();\n",
       "                for (var i = 0; i < nbb_cells.length; ++i) {\n",
       "                    if (nbb_cells[i].input_prompt_number == nbb_cell_id) {\n",
       "                        if (nbb_cells[i].get_text() == nbb_unformatted_code) {\n",
       "                             nbb_cells[i].set_text(nbb_formatted_code);\n",
       "                        }\n",
       "                        break;\n",
       "                    }\n",
       "                }\n",
       "            }, 500);\n",
       "            "
      ],
      "text/plain": [
       "<IPython.core.display.Javascript object>"
      ]
     },
     "metadata": {},
     "output_type": "display_data"
    }
   ],
   "source": [
    "plt.plot(sims.T)\n",
    "real_data = timeseries_data[1000][-1] - timeseries_data[1000][timeseries_half_len[1000]]\n",
    "plt.plot(real_data / np.sum(real_data), color=\"black\")"
   ]
  },
  {
   "cell_type": "code",
   "execution_count": 61,
   "id": "3ddb065a",
   "metadata": {},
   "outputs": [
    {
     "data": {
      "text/plain": [
       "(4, 5)"
      ]
     },
     "execution_count": 61,
     "metadata": {},
     "output_type": "execute_result"
    },
    {
     "data": {
      "application/javascript": [
       "\n",
       "            setTimeout(function() {\n",
       "                var nbb_cell_id = 61;\n",
       "                var nbb_unformatted_code = \"timeseries_data[1].shape\";\n",
       "                var nbb_formatted_code = \"timeseries_data[1].shape\";\n",
       "                var nbb_cells = Jupyter.notebook.get_cells();\n",
       "                for (var i = 0; i < nbb_cells.length; ++i) {\n",
       "                    if (nbb_cells[i].input_prompt_number == nbb_cell_id) {\n",
       "                        if (nbb_cells[i].get_text() == nbb_unformatted_code) {\n",
       "                             nbb_cells[i].set_text(nbb_formatted_code);\n",
       "                        }\n",
       "                        break;\n",
       "                    }\n",
       "                }\n",
       "            }, 500);\n",
       "            "
      ],
      "text/plain": [
       "<IPython.core.display.Javascript object>"
      ]
     },
     "metadata": {},
     "output_type": "display_data"
    }
   ],
   "source": [
    "timeseries_data[1].shape"
   ]
  },
  {
   "cell_type": "code",
   "execution_count": 62,
   "id": "855ee5dc",
   "metadata": {},
   "outputs": [
    {
     "data": {
      "text/plain": [
       "(19, 5)"
      ]
     },
     "execution_count": 62,
     "metadata": {},
     "output_type": "execute_result"
    },
    {
     "data": {
      "application/javascript": [
       "\n",
       "            setTimeout(function() {\n",
       "                var nbb_cell_id = 62;\n",
       "                var nbb_unformatted_code = \"simulator.simulations[15][1].shape\";\n",
       "                var nbb_formatted_code = \"simulator.simulations[15][1].shape\";\n",
       "                var nbb_cells = Jupyter.notebook.get_cells();\n",
       "                for (var i = 0; i < nbb_cells.length; ++i) {\n",
       "                    if (nbb_cells[i].input_prompt_number == nbb_cell_id) {\n",
       "                        if (nbb_cells[i].get_text() == nbb_unformatted_code) {\n",
       "                             nbb_cells[i].set_text(nbb_formatted_code);\n",
       "                        }\n",
       "                        break;\n",
       "                    }\n",
       "                }\n",
       "            }, 500);\n",
       "            "
      ],
      "text/plain": [
       "<IPython.core.display.Javascript object>"
      ]
     },
     "metadata": {},
     "output_type": "display_data"
    }
   ],
   "source": [
    "simulator.simulations[15][1].shape"
   ]
  },
  {
   "cell_type": "code",
   "execution_count": 76,
   "id": "45b58013",
   "metadata": {},
   "outputs": [
    {
     "data": {
      "application/javascript": [
       "\n",
       "            setTimeout(function() {\n",
       "                var nbb_cell_id = 76;\n",
       "                var nbb_unformatted_code = \"# This checks the review-by-review accuracy for the first t reviews (after the existing/input reviews)\\n# for each product\\n# Accuracy is reported as the % of simulations that produced the exact same star rating\\naccuracy = []\\nfor i in range(timeseries_data.shape[0]):\\n    this_prod_accuracy = []\\n    for t in range(timeseries_half_len[i] + 1, timeseries_half_len[i] + 15, 1):\\n        correct = 0\\n        for j in range(len(simulator.simulations)):\\n            try:\\n                correct += int(\\n                    np.array_equal(\\n                        timeseries_data[i][t, :], simulator.simulations[j][i][t, :]\\n                    )\\n                )\\n            except:\\n                correct = np.nan\\n                continue\\n        this_prod_accuracy.append(correct / len(simulator.simulations))\\n    accuracy.append(this_prod_accuracy)\";\n",
       "                var nbb_formatted_code = \"# This checks the review-by-review accuracy for the first t reviews (after the existing/input reviews)\\n# for each product\\n# Accuracy is reported as the % of simulations that produced the exact same star rating\\naccuracy = []\\nfor i in range(timeseries_data.shape[0]):\\n    this_prod_accuracy = []\\n    for t in range(timeseries_half_len[i] + 1, timeseries_half_len[i] + 15, 1):\\n        correct = 0\\n        for j in range(len(simulator.simulations)):\\n            try:\\n                correct += int(\\n                    np.array_equal(\\n                        timeseries_data[i][t, :], simulator.simulations[j][i][t, :]\\n                    )\\n                )\\n            except:\\n                correct = np.nan\\n                continue\\n        this_prod_accuracy.append(correct / len(simulator.simulations))\\n    accuracy.append(this_prod_accuracy)\";\n",
       "                var nbb_cells = Jupyter.notebook.get_cells();\n",
       "                for (var i = 0; i < nbb_cells.length; ++i) {\n",
       "                    if (nbb_cells[i].input_prompt_number == nbb_cell_id) {\n",
       "                        if (nbb_cells[i].get_text() == nbb_unformatted_code) {\n",
       "                             nbb_cells[i].set_text(nbb_formatted_code);\n",
       "                        }\n",
       "                        break;\n",
       "                    }\n",
       "                }\n",
       "            }, 500);\n",
       "            "
      ],
      "text/plain": [
       "<IPython.core.display.Javascript object>"
      ]
     },
     "metadata": {},
     "output_type": "display_data"
    }
   ],
   "source": [
    "# This checks the review-by-review accuracy for the first t reviews (after the existing/input reviews)\n",
    "# for each product\n",
    "# Accuracy is reported as the % of simulations that produced the exact same star rating\n",
    "accuracy = []\n",
    "for i in range(timeseries_data.shape[0]):\n",
    "    this_prod_accuracy = []\n",
    "    for t in range(timeseries_half_len[i] + 1, timeseries_half_len[i] + 15, 1):\n",
    "        correct = 0\n",
    "        for j in range(len(simulator.simulations)):\n",
    "            try:\n",
    "                correct += int(\n",
    "                    np.array_equal(\n",
    "                        timeseries_data[i][t, :], simulator.simulations[j][i][t, :]\n",
    "                    )\n",
    "                )\n",
    "            except:\n",
    "                correct = np.nan\n",
    "                continue\n",
    "        this_prod_accuracy.append(correct / len(simulator.simulations))\n",
    "    accuracy.append(this_prod_accuracy)"
   ]
  },
  {
   "cell_type": "code",
   "execution_count": 49,
   "id": "91bc40a4",
   "metadata": {},
   "outputs": [
    {
     "data": {
      "application/javascript": [
       "\n",
       "            setTimeout(function() {\n",
       "                var nbb_cell_id = 49;\n",
       "                var nbb_unformatted_code = \"# This is a different measure of accuracy - we first take the predicted rating to be the most common rating\\n# produced by the simulations. Then we check if the real rating is the same as this most common rating\\n# We measure accuracy as the absolute difference between the real and predicted rating\\naccuracy = []\\nfor i in range(timeseries_data.shape[0]):\\n    this_prod_accuracy = []\\n    for t in range(timeseries_half_len[i] + 1, timeseries_half_len[i] + 25, 1):\\n        ratings = []\\n        for j in range(len(simulator.simulations)):\\n            try:\\n                rating = (\\n                    np.where(\\n                        simulator.simulations[j][i][t, :]\\n                        - simulator.simulations[j][i][t - 1, :]\\n                    )[0][0]\\n                    + 1\\n                )\\n            except:\\n                rating = np.nan\\n            ratings.append(rating)\\n        ratings = np.array(ratings)\\n\\n        try:\\n            pred_rating = np.argmax(np.bincount(ratings[~np.isnan(ratings)]))\\n            obs_rating = (\\n                np.where(timeseries_data[i][t, :] - timeseries_data[i][t - 1, :])[0][0]\\n                + 1\\n            )\\n        except:\\n            obs_rating = np.nan\\n            pred_rating = np.nan\\n        this_prod_accuracy.append(np.abs(pred_rating - obs_rating))\\n    accuracy.append(this_prod_accuracy)\";\n",
       "                var nbb_formatted_code = \"# This is a different measure of accuracy - we first take the predicted rating to be the most common rating\\n# produced by the simulations. Then we check if the real rating is the same as this most common rating\\n# We measure accuracy as the absolute difference between the real and predicted rating\\naccuracy = []\\nfor i in range(timeseries_data.shape[0]):\\n    this_prod_accuracy = []\\n    for t in range(timeseries_half_len[i] + 1, timeseries_half_len[i] + 25, 1):\\n        ratings = []\\n        for j in range(len(simulator.simulations)):\\n            try:\\n                rating = (\\n                    np.where(\\n                        simulator.simulations[j][i][t, :]\\n                        - simulator.simulations[j][i][t - 1, :]\\n                    )[0][0]\\n                    + 1\\n                )\\n            except:\\n                rating = np.nan\\n            ratings.append(rating)\\n        ratings = np.array(ratings)\\n\\n        try:\\n            pred_rating = np.argmax(np.bincount(ratings[~np.isnan(ratings)]))\\n            obs_rating = (\\n                np.where(timeseries_data[i][t, :] - timeseries_data[i][t - 1, :])[0][0]\\n                + 1\\n            )\\n        except:\\n            obs_rating = np.nan\\n            pred_rating = np.nan\\n        this_prod_accuracy.append(np.abs(pred_rating - obs_rating))\\n    accuracy.append(this_prod_accuracy)\";\n",
       "                var nbb_cells = Jupyter.notebook.get_cells();\n",
       "                for (var i = 0; i < nbb_cells.length; ++i) {\n",
       "                    if (nbb_cells[i].input_prompt_number == nbb_cell_id) {\n",
       "                        if (nbb_cells[i].get_text() == nbb_unformatted_code) {\n",
       "                             nbb_cells[i].set_text(nbb_formatted_code);\n",
       "                        }\n",
       "                        break;\n",
       "                    }\n",
       "                }\n",
       "            }, 500);\n",
       "            "
      ],
      "text/plain": [
       "<IPython.core.display.Javascript object>"
      ]
     },
     "metadata": {},
     "output_type": "display_data"
    }
   ],
   "source": [
    "# This is a different measure of accuracy - we first take the predicted rating to be the most common rating\n",
    "# produced by the simulations. Then we check if the real rating is the same as this most common rating\n",
    "# We measure accuracy as the absolute difference between the real and predicted rating\n",
    "accuracy = []\n",
    "for i in range(timeseries_data.shape[0]):\n",
    "    this_prod_accuracy = []\n",
    "    for t in range(timeseries_half_len[i] + 1, timeseries_half_len[i] + 25, 1):\n",
    "        ratings = []\n",
    "        for j in range(len(simulator.simulations)):\n",
    "            try:\n",
    "                rating = (\n",
    "                    np.where(\n",
    "                        simulator.simulations[j][i][t, :]\n",
    "                        - simulator.simulations[j][i][t - 1, :]\n",
    "                    )[0][0]\n",
    "                    + 1\n",
    "                )\n",
    "            except:\n",
    "                rating = np.nan\n",
    "            ratings.append(rating)\n",
    "        ratings = np.array(ratings)\n",
    "\n",
    "        try:\n",
    "            pred_rating = np.argmax(np.bincount(ratings[~np.isnan(ratings)]))\n",
    "            obs_rating = (\n",
    "                np.where(timeseries_data[i][t, :] - timeseries_data[i][t - 1, :])[0][0]\n",
    "                + 1\n",
    "            )\n",
    "        except:\n",
    "            obs_rating = np.nan\n",
    "            pred_rating = np.nan\n",
    "        this_prod_accuracy.append(np.abs(pred_rating - obs_rating))\n",
    "    accuracy.append(this_prod_accuracy)"
   ]
  },
  {
   "cell_type": "code",
   "execution_count": 82,
   "id": "61e47aec",
   "metadata": {},
   "outputs": [
    {
     "name": "stderr",
     "output_type": "stream",
     "text": [
      "/tmp/ipykernel_331/4006397458.py:29: RuntimeWarning: Mean of empty slice\n",
      "  diff = np.nanmean(np.abs(ratings - obs_rating))\n"
     ]
    },
    {
     "data": {
      "application/javascript": [
       "\n",
       "            setTimeout(function() {\n",
       "                var nbb_cell_id = 82;\n",
       "                var nbb_unformatted_code = \"# This is a different measure of accuracy\\n# We measure accuracy as the absolute difference between the real and predicted rating\\n# We average this absolute difference across multiple simulations, instead of taking the most common predicted\\n# rating first\\naccuracy = []\\nfor i in range(timeseries_data.shape[0]):\\n    this_prod_accuracy = []\\n    for t in range(timeseries_half_len[i] + 1, timeseries_half_len[i] + 50, 1):\\n        ratings = []\\n        for j in range(len(simulator.simulations)):\\n            try:\\n                rating = (\\n                    np.where(\\n                        simulator.simulations[j][i][t, :]\\n                        - simulator.simulations[j][i][t - 1, :]\\n                    )[0][0]\\n                    + 1\\n                )\\n            except:\\n                rating = np.nan\\n            ratings.append(rating)\\n        ratings = np.array(ratings)\\n\\n        try:\\n            obs_rating = (\\n                np.where(timeseries_data[i][t, :] - timeseries_data[i][t - 1, :])[0][0]\\n                + 1\\n            )\\n            diff = np.nanmean(np.abs(ratings - obs_rating))\\n        except:\\n            diff = np.nan\\n        this_prod_accuracy.append(diff)\\n    accuracy.append(this_prod_accuracy)\";\n",
       "                var nbb_formatted_code = \"# This is a different measure of accuracy\\n# We measure accuracy as the absolute difference between the real and predicted rating\\n# We average this absolute difference across multiple simulations, instead of taking the most common predicted\\n# rating first\\naccuracy = []\\nfor i in range(timeseries_data.shape[0]):\\n    this_prod_accuracy = []\\n    for t in range(timeseries_half_len[i] + 1, timeseries_half_len[i] + 50, 1):\\n        ratings = []\\n        for j in range(len(simulator.simulations)):\\n            try:\\n                rating = (\\n                    np.where(\\n                        simulator.simulations[j][i][t, :]\\n                        - simulator.simulations[j][i][t - 1, :]\\n                    )[0][0]\\n                    + 1\\n                )\\n            except:\\n                rating = np.nan\\n            ratings.append(rating)\\n        ratings = np.array(ratings)\\n\\n        try:\\n            obs_rating = (\\n                np.where(timeseries_data[i][t, :] - timeseries_data[i][t - 1, :])[0][0]\\n                + 1\\n            )\\n            diff = np.nanmean(np.abs(ratings - obs_rating))\\n        except:\\n            diff = np.nan\\n        this_prod_accuracy.append(diff)\\n    accuracy.append(this_prod_accuracy)\";\n",
       "                var nbb_cells = Jupyter.notebook.get_cells();\n",
       "                for (var i = 0; i < nbb_cells.length; ++i) {\n",
       "                    if (nbb_cells[i].input_prompt_number == nbb_cell_id) {\n",
       "                        if (nbb_cells[i].get_text() == nbb_unformatted_code) {\n",
       "                             nbb_cells[i].set_text(nbb_formatted_code);\n",
       "                        }\n",
       "                        break;\n",
       "                    }\n",
       "                }\n",
       "            }, 500);\n",
       "            "
      ],
      "text/plain": [
       "<IPython.core.display.Javascript object>"
      ]
     },
     "metadata": {},
     "output_type": "display_data"
    }
   ],
   "source": [
    "# This is a different measure of accuracy\n",
    "# We measure accuracy as the absolute difference between the real and predicted rating\n",
    "# We average this absolute difference across multiple simulations, instead of taking the most common predicted\n",
    "# rating first\n",
    "accuracy = []\n",
    "for i in range(timeseries_data.shape[0]):\n",
    "    this_prod_accuracy = []\n",
    "    for t in range(timeseries_half_len[i] + 1, timeseries_half_len[i] + 50, 1):\n",
    "        ratings = []\n",
    "        for j in range(len(simulator.simulations)):\n",
    "            try:\n",
    "                rating = (\n",
    "                    np.where(\n",
    "                        simulator.simulations[j][i][t, :]\n",
    "                        - simulator.simulations[j][i][t - 1, :]\n",
    "                    )[0][0]\n",
    "                    + 1\n",
    "                )\n",
    "            except:\n",
    "                rating = np.nan\n",
    "            ratings.append(rating)\n",
    "        ratings = np.array(ratings)\n",
    "\n",
    "        try:\n",
    "            obs_rating = (\n",
    "                np.where(timeseries_data[i][t, :] - timeseries_data[i][t - 1, :])[0][0]\n",
    "                + 1\n",
    "            )\n",
    "            diff = np.nanmean(np.abs(ratings - obs_rating))\n",
    "        except:\n",
    "            diff = np.nan\n",
    "        this_prod_accuracy.append(diff)\n",
    "    accuracy.append(this_prod_accuracy)"
   ]
  },
  {
   "cell_type": "code",
   "execution_count": 73,
   "id": "50c0f6f2",
   "metadata": {},
   "outputs": [
    {
     "data": {
      "application/javascript": [
       "\n",
       "            setTimeout(function() {\n",
       "                var nbb_cell_id = 73;\n",
       "                var nbb_unformatted_code = \"# Another different measure of accuracy - here we take the most common rating as the predicted rating as before\\n# But just calculate the accuracy, across products - i.e, for how many products is this predicted rating the same\\n# as the observed rating\\naccuracy = []\\nfor i in range(timeseries_data.shape[0]):\\n    this_prod_accuracy = []\\n    for t in range(timeseries_half_len[i] + 1, timeseries_half_len[i] + 20, 1):\\n        ratings = []\\n        for j in range(len(simulator.simulations)):\\n            try:\\n                rating = (\\n                    np.where(\\n                        simulator.simulations[j][i][t, :]\\n                        - simulator.simulations[j][i][t - 1, :]\\n                    )[0][0]\\n                    + 1\\n                )\\n            except:\\n                rating = np.nan\\n            ratings.append(rating)\\n        ratings = np.array(ratings)\\n\\n        try:\\n            pred_rating = np.argmax(np.bincount(ratings[~np.isnan(ratings)]))\\n            obs_rating = (\\n                np.where(timeseries_data[i][t, :] - timeseries_data[i][t - 1, :])[0][0]\\n                + 1\\n            )\\n            this_prod_accuracy.append(pred_rating == obs_rating)\\n        except:\\n            obs_rating = np.nan\\n            pred_rating = np.nan\\n            this_prod_accuracy.append(np.nan)\\n    accuracy.append(this_prod_accuracy)\";\n",
       "                var nbb_formatted_code = \"# Another different measure of accuracy - here we take the most common rating as the predicted rating as before\\n# But just calculate the accuracy, across products - i.e, for how many products is this predicted rating the same\\n# as the observed rating\\naccuracy = []\\nfor i in range(timeseries_data.shape[0]):\\n    this_prod_accuracy = []\\n    for t in range(timeseries_half_len[i] + 1, timeseries_half_len[i] + 20, 1):\\n        ratings = []\\n        for j in range(len(simulator.simulations)):\\n            try:\\n                rating = (\\n                    np.where(\\n                        simulator.simulations[j][i][t, :]\\n                        - simulator.simulations[j][i][t - 1, :]\\n                    )[0][0]\\n                    + 1\\n                )\\n            except:\\n                rating = np.nan\\n            ratings.append(rating)\\n        ratings = np.array(ratings)\\n\\n        try:\\n            pred_rating = np.argmax(np.bincount(ratings[~np.isnan(ratings)]))\\n            obs_rating = (\\n                np.where(timeseries_data[i][t, :] - timeseries_data[i][t - 1, :])[0][0]\\n                + 1\\n            )\\n            this_prod_accuracy.append(pred_rating == obs_rating)\\n        except:\\n            obs_rating = np.nan\\n            pred_rating = np.nan\\n            this_prod_accuracy.append(np.nan)\\n    accuracy.append(this_prod_accuracy)\";\n",
       "                var nbb_cells = Jupyter.notebook.get_cells();\n",
       "                for (var i = 0; i < nbb_cells.length; ++i) {\n",
       "                    if (nbb_cells[i].input_prompt_number == nbb_cell_id) {\n",
       "                        if (nbb_cells[i].get_text() == nbb_unformatted_code) {\n",
       "                             nbb_cells[i].set_text(nbb_formatted_code);\n",
       "                        }\n",
       "                        break;\n",
       "                    }\n",
       "                }\n",
       "            }, 500);\n",
       "            "
      ],
      "text/plain": [
       "<IPython.core.display.Javascript object>"
      ]
     },
     "metadata": {},
     "output_type": "display_data"
    }
   ],
   "source": [
    "# Another different measure of accuracy - here we take the most common rating as the predicted rating as before\n",
    "# But just calculate the accuracy, across products - i.e, for how many products is this predicted rating the same\n",
    "# as the observed rating\n",
    "accuracy = []\n",
    "for i in range(timeseries_data.shape[0]):\n",
    "    this_prod_accuracy = []\n",
    "    for t in range(timeseries_half_len[i] + 1, timeseries_half_len[i] + 20, 1):\n",
    "        ratings = []\n",
    "        for j in range(len(simulator.simulations)):\n",
    "            try:\n",
    "                rating = (\n",
    "                    np.where(\n",
    "                        simulator.simulations[j][i][t, :]\n",
    "                        - simulator.simulations[j][i][t - 1, :]\n",
    "                    )[0][0]\n",
    "                    + 1\n",
    "                )\n",
    "            except:\n",
    "                rating = np.nan\n",
    "            ratings.append(rating)\n",
    "        ratings = np.array(ratings)\n",
    "\n",
    "        try:\n",
    "            pred_rating = np.argmax(np.bincount(ratings[~np.isnan(ratings)]))\n",
    "            obs_rating = (\n",
    "                np.where(timeseries_data[i][t, :] - timeseries_data[i][t - 1, :])[0][0]\n",
    "                + 1\n",
    "            )\n",
    "            this_prod_accuracy.append(pred_rating == obs_rating)\n",
    "        except:\n",
    "            obs_rating = np.nan\n",
    "            pred_rating = np.nan\n",
    "            this_prod_accuracy.append(np.nan)\n",
    "    accuracy.append(this_prod_accuracy)"
   ]
  },
  {
   "cell_type": "code",
   "execution_count": 83,
   "id": "35618760",
   "metadata": {},
   "outputs": [
    {
     "data": {
      "text/plain": [
       "array([[0.96875   , 1.28125   , 1.1875    , ..., 2.375     , 2.6875    ,\n",
       "        1.78125   ],\n",
       "       [1.1875    ,        nan,        nan, ...,        nan,        nan,\n",
       "               nan],\n",
       "       [3.28125   , 3.        , 3.5625    , ..., 1.76      , 2.16      ,\n",
       "        1.        ],\n",
       "       ...,\n",
       "       [1.625     , 3.03125   , 2.59375   , ..., 1.40625   , 1.34375   ,\n",
       "        1.59375   ],\n",
       "       [3.375     , 2.96875   , 3.375     , ..., 1.5       , 0.33333333,\n",
       "        4.        ],\n",
       "       [2.34375   , 3.0625    , 3.125     , ...,        nan,        nan,\n",
       "               nan]])"
      ]
     },
     "execution_count": 83,
     "metadata": {},
     "output_type": "execute_result"
    },
    {
     "data": {
      "application/javascript": [
       "\n",
       "            setTimeout(function() {\n",
       "                var nbb_cell_id = 83;\n",
       "                var nbb_unformatted_code = \"accuracy = np.array(accuracy)\\naccuracy\";\n",
       "                var nbb_formatted_code = \"accuracy = np.array(accuracy)\\naccuracy\";\n",
       "                var nbb_cells = Jupyter.notebook.get_cells();\n",
       "                for (var i = 0; i < nbb_cells.length; ++i) {\n",
       "                    if (nbb_cells[i].input_prompt_number == nbb_cell_id) {\n",
       "                        if (nbb_cells[i].get_text() == nbb_unformatted_code) {\n",
       "                             nbb_cells[i].set_text(nbb_formatted_code);\n",
       "                        }\n",
       "                        break;\n",
       "                    }\n",
       "                }\n",
       "            }, 500);\n",
       "            "
      ],
      "text/plain": [
       "<IPython.core.display.Javascript object>"
      ]
     },
     "metadata": {},
     "output_type": "display_data"
    }
   ],
   "source": [
    "accuracy = np.array(accuracy)\n",
    "accuracy"
   ]
  },
  {
   "cell_type": "code",
   "execution_count": 87,
   "id": "6cc7fa03",
   "metadata": {},
   "outputs": [
    {
     "data": {
      "text/plain": [
       "<ErrorbarContainer object of 3 artists>"
      ]
     },
     "execution_count": 87,
     "metadata": {},
     "output_type": "execute_result"
    },
    {
     "data": {
      "image/png": "[encoded data removed]",
      "text/plain": [
       "<Figure size 432x288 with 1 Axes>"
      ]
     },
     "metadata": {},
     "output_type": "display_data"
    },
    {
     "data": {
      "application/javascript": [
       "\n",
       "            setTimeout(function() {\n",
       "                var nbb_cell_id = 87;\n",
       "                var nbb_unformatted_code = \"plt.errorbar(\\n    np.arange(49) + 1, np.nanmean(accuracy, axis=0), np.nanstd(accuracy, axis=0)\\n)\";\n",
       "                var nbb_formatted_code = \"plt.errorbar(\\n    np.arange(49) + 1, np.nanmean(accuracy, axis=0), np.nanstd(accuracy, axis=0)\\n)\";\n",
       "                var nbb_cells = Jupyter.notebook.get_cells();\n",
       "                for (var i = 0; i < nbb_cells.length; ++i) {\n",
       "                    if (nbb_cells[i].input_prompt_number == nbb_cell_id) {\n",
       "                        if (nbb_cells[i].get_text() == nbb_unformatted_code) {\n",
       "                             nbb_cells[i].set_text(nbb_formatted_code);\n",
       "                        }\n",
       "                        break;\n",
       "                    }\n",
       "                }\n",
       "            }, 500);\n",
       "            "
      ],
      "text/plain": [
       "<IPython.core.display.Javascript object>"
      ]
     },
     "metadata": {},
     "output_type": "display_data"
    }
   ],
   "source": [
    "plt.errorbar(\n",
    "    np.arange(49) + 1, np.nanmean(accuracy, axis=0), np.nanstd(accuracy, axis=0)\n",
    ")"
   ]
  },
  {
   "cell_type": "code",
   "execution_count": 86,
   "id": "785d11d4",
   "metadata": {},
   "outputs": [
    {
     "data": {
      "text/plain": [
       "(1406, 49)"
      ]
     },
     "execution_count": 86,
     "metadata": {},
     "output_type": "execute_result"
    },
    {
     "data": {
      "application/javascript": [
       "\n",
       "            setTimeout(function() {\n",
       "                var nbb_cell_id = 86;\n",
       "                var nbb_unformatted_code = \"accuracy.shape\";\n",
       "                var nbb_formatted_code = \"accuracy.shape\";\n",
       "                var nbb_cells = Jupyter.notebook.get_cells();\n",
       "                for (var i = 0; i < nbb_cells.length; ++i) {\n",
       "                    if (nbb_cells[i].input_prompt_number == nbb_cell_id) {\n",
       "                        if (nbb_cells[i].get_text() == nbb_unformatted_code) {\n",
       "                             nbb_cells[i].set_text(nbb_formatted_code);\n",
       "                        }\n",
       "                        break;\n",
       "                    }\n",
       "                }\n",
       "            }, 500);\n",
       "            "
      ],
      "text/plain": [
       "<IPython.core.display.Javascript object>"
      ]
     },
     "metadata": {},
     "output_type": "display_data"
    }
   ],
   "source": [
    "accuracy.shape"
   ]
  },
  {
   "cell_type": "code",
   "execution_count": 60,
   "id": "9d94647f",
   "metadata": {},
   "outputs": [
    {
     "data": {
      "text/plain": [
       "[<matplotlib.lines.Line2D at 0x7f4348de5a30>]"
      ]
     },
     "execution_count": 60,
     "metadata": {},
     "output_type": "execute_result"
    },
    {
     "data": {
      "image/png": "[encoded data removed]",
      "text/plain": [
       "<Figure size 432x288 with 1 Axes>"
      ]
     },
     "metadata": {},
     "output_type": "display_data"
    },
    {
     "data": {
      "application/javascript": [
       "\n",
       "            setTimeout(function() {\n",
       "                var nbb_cell_id = 60;\n",
       "                var nbb_unformatted_code = \"plt.plot(accuracy[1000, :])\";\n",
       "                var nbb_formatted_code = \"plt.plot(accuracy[1000, :])\";\n",
       "                var nbb_cells = Jupyter.notebook.get_cells();\n",
       "                for (var i = 0; i < nbb_cells.length; ++i) {\n",
       "                    if (nbb_cells[i].input_prompt_number == nbb_cell_id) {\n",
       "                        if (nbb_cells[i].get_text() == nbb_unformatted_code) {\n",
       "                             nbb_cells[i].set_text(nbb_formatted_code);\n",
       "                        }\n",
       "                        break;\n",
       "                    }\n",
       "                }\n",
       "            }, 500);\n",
       "            "
      ],
      "text/plain": [
       "<IPython.core.display.Javascript object>"
      ]
     },
     "metadata": {},
     "output_type": "display_data"
    }
   ],
   "source": [
    "plt.plot(accuracy[1000, :])"
   ]
  },
  {
   "cell_type": "code",
   "execution_count": 56,
   "id": "b639b1dc",
   "metadata": {},
   "outputs": [
    {
     "data": {
      "text/plain": [
       "array([ 1.,  0.,  0.,  0.,  0.,  2.,  2.,  3.,  0.,  4.,  1.,  0.,  0.,\n",
       "        1.,  1.,  0., nan, nan, nan, nan, nan, nan, nan, nan])"
      ]
     },
     "execution_count": 56,
     "metadata": {},
     "output_type": "execute_result"
    },
    {
     "data": {
      "application/javascript": [
       "\n",
       "            setTimeout(function() {\n",
       "                var nbb_cell_id = 56;\n",
       "                var nbb_unformatted_code = \"accuracy[1000, :]\";\n",
       "                var nbb_formatted_code = \"accuracy[1000, :]\";\n",
       "                var nbb_cells = Jupyter.notebook.get_cells();\n",
       "                for (var i = 0; i < nbb_cells.length; ++i) {\n",
       "                    if (nbb_cells[i].input_prompt_number == nbb_cell_id) {\n",
       "                        if (nbb_cells[i].get_text() == nbb_unformatted_code) {\n",
       "                             nbb_cells[i].set_text(nbb_formatted_code);\n",
       "                        }\n",
       "                        break;\n",
       "                    }\n",
       "                }\n",
       "            }, 500);\n",
       "            "
      ],
      "text/plain": [
       "<IPython.core.display.Javascript object>"
      ]
     },
     "metadata": {},
     "output_type": "display_data"
    }
   ],
   "source": [
    "accuracy[1000, :]"
   ]
  },
  {
   "cell_type": "markdown",
   "id": "2990d325",
   "metadata": {},
   "source": [
    "**We can also calculate a (moving) average rating of the simulated reviews and compare to the actual**"
   ]
  },
  {
   "cell_type": "code",
   "execution_count": 61,
   "id": "0734d3be",
   "metadata": {},
   "outputs": [
    {
     "data": {
      "application/javascript": [
       "\n",
       "            setTimeout(function() {\n",
       "                var nbb_cell_id = 61;\n",
       "                var nbb_unformatted_code = \"real_avg_rating = []\\nsim_avg_rating = []\\nfor product in range(timeseries_data.shape[0]):\\n    real_rating = (\\n        timeseries_data[product][timeseries_half_len[product] :]\\n        - timeseries_data[product][timeseries_half_len[product] - 1][None, :]\\n    )\\n    real_avg_rating.append(\\n        np.sum(\\n            (real_rating / np.sum(real_rating, axis=1)[:, None]) * np.arange(1, 6),\\n            axis=1,\\n        )\\n    )\\n    this_prod_avg_rating = []\\n    for sim in range(simulator.simulations.shape[0]):\\n        sim_rating = (\\n            simulator.simulations[sim, product][\\n                timeseries_half_len[product] : timeseries_data[product].shape[0]\\n            ]\\n            - simulator.simulations[sim, product][timeseries_half_len[product] - 1][\\n                None, :\\n            ]\\n        )\\n        this_prod_avg_rating.append(\\n            np.sum(\\n                (sim_rating / np.sum(sim_rating, axis=1)[:, None]) * np.arange(1, 6),\\n                axis=1,\\n            )\\n        )\\n    sim_avg_rating.append(this_prod_avg_rating)\";\n",
       "                var nbb_formatted_code = \"real_avg_rating = []\\nsim_avg_rating = []\\nfor product in range(timeseries_data.shape[0]):\\n    real_rating = (\\n        timeseries_data[product][timeseries_half_len[product] :]\\n        - timeseries_data[product][timeseries_half_len[product] - 1][None, :]\\n    )\\n    real_avg_rating.append(\\n        np.sum(\\n            (real_rating / np.sum(real_rating, axis=1)[:, None]) * np.arange(1, 6),\\n            axis=1,\\n        )\\n    )\\n    this_prod_avg_rating = []\\n    for sim in range(simulator.simulations.shape[0]):\\n        sim_rating = (\\n            simulator.simulations[sim, product][\\n                timeseries_half_len[product] : timeseries_data[product].shape[0]\\n            ]\\n            - simulator.simulations[sim, product][timeseries_half_len[product] - 1][\\n                None, :\\n            ]\\n        )\\n        this_prod_avg_rating.append(\\n            np.sum(\\n                (sim_rating / np.sum(sim_rating, axis=1)[:, None]) * np.arange(1, 6),\\n                axis=1,\\n            )\\n        )\\n    sim_avg_rating.append(this_prod_avg_rating)\";\n",
       "                var nbb_cells = Jupyter.notebook.get_cells();\n",
       "                for (var i = 0; i < nbb_cells.length; ++i) {\n",
       "                    if (nbb_cells[i].input_prompt_number == nbb_cell_id) {\n",
       "                        if (nbb_cells[i].get_text() == nbb_unformatted_code) {\n",
       "                             nbb_cells[i].set_text(nbb_formatted_code);\n",
       "                        }\n",
       "                        break;\n",
       "                    }\n",
       "                }\n",
       "            }, 500);\n",
       "            "
      ],
      "text/plain": [
       "<IPython.core.display.Javascript object>"
      ]
     },
     "metadata": {},
     "output_type": "display_data"
    }
   ],
   "source": [
    "real_avg_rating = []\n",
    "sim_avg_rating = []\n",
    "for product in range(timeseries_data.shape[0]):\n",
    "    real_rating = (\n",
    "        timeseries_data[product][timeseries_half_len[product] :]\n",
    "        - timeseries_data[product][timeseries_half_len[product] - 1][None, :]\n",
    "    )\n",
    "    real_avg_rating.append(\n",
    "        np.sum(\n",
    "            (real_rating / np.sum(real_rating, axis=1)[:, None]) * np.arange(1, 6),\n",
    "            axis=1,\n",
    "        )\n",
    "    )\n",
    "    this_prod_avg_rating = []\n",
    "    for sim in range(simulator.simulations.shape[0]):\n",
    "        sim_rating = (\n",
    "            simulator.simulations[sim, product][\n",
    "                timeseries_half_len[product] : timeseries_data[product].shape[0]\n",
    "            ]\n",
    "            - simulator.simulations[sim, product][timeseries_half_len[product] - 1][\n",
    "                None, :\n",
    "            ]\n",
    "        )\n",
    "        this_prod_avg_rating.append(\n",
    "            np.sum(\n",
    "                (sim_rating / np.sum(sim_rating, axis=1)[:, None]) * np.arange(1, 6),\n",
    "                axis=1,\n",
    "            )\n",
    "        )\n",
    "    sim_avg_rating.append(this_prod_avg_rating)"
   ]
  },
  {
   "cell_type": "code",
   "execution_count": 62,
   "id": "ce4d1a5c",
   "metadata": {},
   "outputs": [
    {
     "name": "stderr",
     "output_type": "stream",
     "text": [
      "/tmp/ipykernel_331/3557943907.py:1: VisibleDeprecationWarning: Creating an ndarray from ragged nested sequences (which is a list-or-tuple of lists-or-tuples-or ndarrays with different lengths or shapes) is deprecated. If you meant to do this, you must specify 'dtype=object' when creating the ndarray.\n",
      "  real_avg_rating = np.array(real_avg_rating)\n",
      "/tmp/ipykernel_331/3557943907.py:2: VisibleDeprecationWarning: Creating an ndarray from ragged nested sequences (which is a list-or-tuple of lists-or-tuples-or ndarrays with different lengths or shapes) is deprecated. If you meant to do this, you must specify 'dtype=object' when creating the ndarray.\n",
      "  sim_avg_rating = np.array(sim_avg_rating)\n"
     ]
    },
    {
     "data": {
      "text/plain": [
       "((1406,), (1406, 32))"
      ]
     },
     "execution_count": 62,
     "metadata": {},
     "output_type": "execute_result"
    },
    {
     "data": {
      "application/javascript": [
       "\n",
       "            setTimeout(function() {\n",
       "                var nbb_cell_id = 62;\n",
       "                var nbb_unformatted_code = \"real_avg_rating = np.array(real_avg_rating)\\nsim_avg_rating = np.array(sim_avg_rating)\\nreal_avg_rating.shape, sim_avg_rating.shape\";\n",
       "                var nbb_formatted_code = \"real_avg_rating = np.array(real_avg_rating)\\nsim_avg_rating = np.array(sim_avg_rating)\\nreal_avg_rating.shape, sim_avg_rating.shape\";\n",
       "                var nbb_cells = Jupyter.notebook.get_cells();\n",
       "                for (var i = 0; i < nbb_cells.length; ++i) {\n",
       "                    if (nbb_cells[i].input_prompt_number == nbb_cell_id) {\n",
       "                        if (nbb_cells[i].get_text() == nbb_unformatted_code) {\n",
       "                             nbb_cells[i].set_text(nbb_formatted_code);\n",
       "                        }\n",
       "                        break;\n",
       "                    }\n",
       "                }\n",
       "            }, 500);\n",
       "            "
      ],
      "text/plain": [
       "<IPython.core.display.Javascript object>"
      ]
     },
     "metadata": {},
     "output_type": "display_data"
    }
   ],
   "source": [
    "real_avg_rating = np.array(real_avg_rating)\n",
    "sim_avg_rating = np.array(sim_avg_rating)\n",
    "real_avg_rating.shape, sim_avg_rating.shape"
   ]
  },
  {
   "cell_type": "code",
   "execution_count": 63,
   "id": "bece9c49",
   "metadata": {},
   "outputs": [
    {
     "data": {
      "application/javascript": [
       "\n",
       "            setTimeout(function() {\n",
       "                var nbb_cell_id = 63;\n",
       "                var nbb_unformatted_code = \"# As the simulations run independently, it could be possible that some of the simulations do not accumulate\\n# the same number of reviews as the real product. So we cut both the real and simulated time series to the\\n# smallest length where they both have data\\nfor i in range(real_avg_rating.shape[0]):\\n    min_sim_len = np.min([len(sim) for sim in sim_avg_rating[i, :]])\\n    real_len = len(real_avg_rating[i])\\n    cut_len = min(min_sim_len, real_len)\\n    real_avg_rating[i] = real_avg_rating[i][:cut_len]\\n    for j in range(sim_avg_rating.shape[1]):\\n        sim_avg_rating[i, j] = sim_avg_rating[i, j][:cut_len]\";\n",
       "                var nbb_formatted_code = \"# As the simulations run independently, it could be possible that some of the simulations do not accumulate\\n# the same number of reviews as the real product. So we cut both the real and simulated time series to the\\n# smallest length where they both have data\\nfor i in range(real_avg_rating.shape[0]):\\n    min_sim_len = np.min([len(sim) for sim in sim_avg_rating[i, :]])\\n    real_len = len(real_avg_rating[i])\\n    cut_len = min(min_sim_len, real_len)\\n    real_avg_rating[i] = real_avg_rating[i][:cut_len]\\n    for j in range(sim_avg_rating.shape[1]):\\n        sim_avg_rating[i, j] = sim_avg_rating[i, j][:cut_len]\";\n",
       "                var nbb_cells = Jupyter.notebook.get_cells();\n",
       "                for (var i = 0; i < nbb_cells.length; ++i) {\n",
       "                    if (nbb_cells[i].input_prompt_number == nbb_cell_id) {\n",
       "                        if (nbb_cells[i].get_text() == nbb_unformatted_code) {\n",
       "                             nbb_cells[i].set_text(nbb_formatted_code);\n",
       "                        }\n",
       "                        break;\n",
       "                    }\n",
       "                }\n",
       "            }, 500);\n",
       "            "
      ],
      "text/plain": [
       "<IPython.core.display.Javascript object>"
      ]
     },
     "metadata": {},
     "output_type": "display_data"
    }
   ],
   "source": [
    "# As the simulations run independently, it could be possible that some of the simulations do not accumulate\n",
    "# the same number of reviews as the real product. So we cut both the real and simulated time series to the\n",
    "# smallest length where they both have data\n",
    "for i in range(real_avg_rating.shape[0]):\n",
    "    min_sim_len = np.min([len(sim) for sim in sim_avg_rating[i, :]])\n",
    "    real_len = len(real_avg_rating[i])\n",
    "    cut_len = min(min_sim_len, real_len)\n",
    "    real_avg_rating[i] = real_avg_rating[i][:cut_len]\n",
    "    for j in range(sim_avg_rating.shape[1]):\n",
    "        sim_avg_rating[i, j] = sim_avg_rating[i, j][:cut_len]"
   ]
  },
  {
   "cell_type": "code",
   "execution_count": 64,
   "id": "df8eb963",
   "metadata": {},
   "outputs": [
    {
     "data": {
      "text/plain": [
       "array([36, 36, 36, 36, 36, 36, 36, 36, 36, 36, 36, 36, 36, 36, 36, 36, 36,\n",
       "       36, 36, 36, 36, 36, 36, 36, 36, 36, 36, 36, 36, 36, 36, 36])"
      ]
     },
     "execution_count": 64,
     "metadata": {},
     "output_type": "execute_result"
    },
    {
     "data": {
      "application/javascript": [
       "\n",
       "            setTimeout(function() {\n",
       "                var nbb_cell_id = 64;\n",
       "                var nbb_unformatted_code = \"np.array([len(sim) for sim in sim_avg_rating[2, :]])\";\n",
       "                var nbb_formatted_code = \"np.array([len(sim) for sim in sim_avg_rating[2, :]])\";\n",
       "                var nbb_cells = Jupyter.notebook.get_cells();\n",
       "                for (var i = 0; i < nbb_cells.length; ++i) {\n",
       "                    if (nbb_cells[i].input_prompt_number == nbb_cell_id) {\n",
       "                        if (nbb_cells[i].get_text() == nbb_unformatted_code) {\n",
       "                             nbb_cells[i].set_text(nbb_formatted_code);\n",
       "                        }\n",
       "                        break;\n",
       "                    }\n",
       "                }\n",
       "            }, 500);\n",
       "            "
      ],
      "text/plain": [
       "<IPython.core.display.Javascript object>"
      ]
     },
     "metadata": {},
     "output_type": "display_data"
    }
   ],
   "source": [
    "np.array([len(sim) for sim in sim_avg_rating[2, :]])"
   ]
  },
  {
   "cell_type": "code",
   "execution_count": 66,
   "id": "4ce0d7a5",
   "metadata": {},
   "outputs": [
    {
     "data": {
      "text/plain": [
       "36"
      ]
     },
     "execution_count": 66,
     "metadata": {},
     "output_type": "execute_result"
    },
    {
     "data": {
      "application/javascript": [
       "\n",
       "            setTimeout(function() {\n",
       "                var nbb_cell_id = 66;\n",
       "                var nbb_unformatted_code = \"len(real_avg_rating[2])\";\n",
       "                var nbb_formatted_code = \"len(real_avg_rating[2])\";\n",
       "                var nbb_cells = Jupyter.notebook.get_cells();\n",
       "                for (var i = 0; i < nbb_cells.length; ++i) {\n",
       "                    if (nbb_cells[i].input_prompt_number == nbb_cell_id) {\n",
       "                        if (nbb_cells[i].get_text() == nbb_unformatted_code) {\n",
       "                             nbb_cells[i].set_text(nbb_formatted_code);\n",
       "                        }\n",
       "                        break;\n",
       "                    }\n",
       "                }\n",
       "            }, 500);\n",
       "            "
      ],
      "text/plain": [
       "<IPython.core.display.Javascript object>"
      ]
     },
     "metadata": {},
     "output_type": "display_data"
    }
   ],
   "source": [
    "len(real_avg_rating[2])"
   ]
  },
  {
   "cell_type": "code",
   "execution_count": 67,
   "id": "56f07098",
   "metadata": {},
   "outputs": [
    {
     "data": {
      "text/plain": [
       "array([1.        , 3.        , 3.66666667, 4.        , 3.8       ,\n",
       "       4.        , 4.14285714, 4.25      , 4.22222222, 4.3       ,\n",
       "       4.36363636, 4.41666667, 4.46153846, 4.5       , 4.53333333,\n",
       "       4.5625    , 4.58823529, 4.61111111, 4.63157895, 4.65      ,\n",
       "       4.66666667, 4.68181818, 4.69565217, 4.70833333, 4.68      ,\n",
       "       4.65384615, 4.66666667, 4.53571429, 4.55172414, 4.5       ,\n",
       "       4.51612903, 4.53125   , 4.54545455, 4.44117647, 4.34285714,\n",
       "       4.36111111])"
      ]
     },
     "execution_count": 67,
     "metadata": {},
     "output_type": "execute_result"
    },
    {
     "data": {
      "application/javascript": [
       "\n",
       "            setTimeout(function() {\n",
       "                var nbb_cell_id = 67;\n",
       "                var nbb_unformatted_code = \"real_avg_rating[2]\";\n",
       "                var nbb_formatted_code = \"real_avg_rating[2]\";\n",
       "                var nbb_cells = Jupyter.notebook.get_cells();\n",
       "                for (var i = 0; i < nbb_cells.length; ++i) {\n",
       "                    if (nbb_cells[i].input_prompt_number == nbb_cell_id) {\n",
       "                        if (nbb_cells[i].get_text() == nbb_unformatted_code) {\n",
       "                             nbb_cells[i].set_text(nbb_formatted_code);\n",
       "                        }\n",
       "                        break;\n",
       "                    }\n",
       "                }\n",
       "            }, 500);\n",
       "            "
      ],
      "text/plain": [
       "<IPython.core.display.Javascript object>"
      ]
     },
     "metadata": {},
     "output_type": "display_data"
    }
   ],
   "source": [
    "real_avg_rating[2]"
   ]
  },
  {
   "cell_type": "code",
   "execution_count": 68,
   "id": "85bf1a90",
   "metadata": {},
   "outputs": [
    {
     "data": {
      "text/plain": [
       "<ErrorbarContainer object of 3 artists>"
      ]
     },
     "execution_count": 68,
     "metadata": {},
     "output_type": "execute_result"
    },
    {
     "data": {
      "image/png": "[encoded data removed]",
      "text/plain": [
       "<Figure size 432x288 with 1 Axes>"
      ]
     },
     "metadata": {},
     "output_type": "display_data"
    },
    {
     "data": {
      "application/javascript": [
       "\n",
       "            setTimeout(function() {\n",
       "                var nbb_cell_id = 68;\n",
       "                var nbb_unformatted_code = \"product = 875\\nplt.plot(\\n    np.arange(real_avg_rating[product].shape[0]) + 1,\\n    real_avg_rating[product],\\n    color=\\\"black\\\",\\n)\\nsim_arr = np.array([sim for sim in sim_avg_rating[product]])\\nplt.errorbar(\\n    np.arange(real_avg_rating[product].shape[0]) + 1,\\n    np.mean(sim_arr, axis=0),\\n    np.std(sim_arr, axis=0),\\n)\";\n",
       "                var nbb_formatted_code = \"product = 875\\nplt.plot(\\n    np.arange(real_avg_rating[product].shape[0]) + 1,\\n    real_avg_rating[product],\\n    color=\\\"black\\\",\\n)\\nsim_arr = np.array([sim for sim in sim_avg_rating[product]])\\nplt.errorbar(\\n    np.arange(real_avg_rating[product].shape[0]) + 1,\\n    np.mean(sim_arr, axis=0),\\n    np.std(sim_arr, axis=0),\\n)\";\n",
       "                var nbb_cells = Jupyter.notebook.get_cells();\n",
       "                for (var i = 0; i < nbb_cells.length; ++i) {\n",
       "                    if (nbb_cells[i].input_prompt_number == nbb_cell_id) {\n",
       "                        if (nbb_cells[i].get_text() == nbb_unformatted_code) {\n",
       "                             nbb_cells[i].set_text(nbb_formatted_code);\n",
       "                        }\n",
       "                        break;\n",
       "                    }\n",
       "                }\n",
       "            }, 500);\n",
       "            "
      ],
      "text/plain": [
       "<IPython.core.display.Javascript object>"
      ]
     },
     "metadata": {},
     "output_type": "display_data"
    }
   ],
   "source": [
    "product = 875\n",
    "plt.plot(\n",
    "    np.arange(real_avg_rating[product].shape[0]) + 1,\n",
    "    real_avg_rating[product],\n",
    "    color=\"black\",\n",
    ")\n",
    "sim_arr = np.array([sim for sim in sim_avg_rating[product]])\n",
    "plt.errorbar(\n",
    "    np.arange(real_avg_rating[product].shape[0]) + 1,\n",
    "    np.mean(sim_arr, axis=0),\n",
    "    np.std(sim_arr, axis=0),\n",
    ")"
   ]
  },
  {
   "cell_type": "code",
   "execution_count": 69,
   "id": "d2e4062d",
   "metadata": {},
   "outputs": [
    {
     "data": {
      "text/plain": [
       "array([[  0.,   0.,   0.,   0.,   1.],\n",
       "       [  0.,   0.,   0.,   0.,   2.],\n",
       "       [  0.,   0.,   0.,   0.,   3.],\n",
       "       [  0.,   0.,   0.,   0.,   4.],\n",
       "       [  0.,   0.,   0.,   0.,   5.],\n",
       "       [  0.,   0.,   0.,   0.,   6.],\n",
       "       [  0.,   0.,   0.,   0.,   7.],\n",
       "       [  0.,   0.,   0.,   0.,   8.],\n",
       "       [  0.,   0.,   0.,   0.,   9.],\n",
       "       [  0.,   0.,   0.,   0.,  10.],\n",
       "       [  0.,   0.,   0.,   0.,  11.],\n",
       "       [  0.,   0.,   0.,   0.,  12.],\n",
       "       [  0.,   0.,   0.,   0.,  13.],\n",
       "       [  0.,   0.,   0.,   1.,  13.],\n",
       "       [  0.,   0.,   0.,   1.,  14.],\n",
       "       [  0.,   0.,   0.,   1.,  15.],\n",
       "       [  0.,   0.,   0.,   1.,  16.],\n",
       "       [  0.,   0.,   0.,   1.,  17.],\n",
       "       [  0.,   0.,   0.,   1.,  18.],\n",
       "       [  0.,   0.,   0.,   1.,  19.],\n",
       "       [  0.,   0.,   0.,   1.,  20.],\n",
       "       [  0.,   0.,   0.,   1.,  21.],\n",
       "       [  0.,   0.,   0.,   1.,  22.],\n",
       "       [  0.,   0.,   0.,   1.,  23.],\n",
       "       [  0.,   0.,   0.,   1.,  24.],\n",
       "       [  0.,   0.,   0.,   2.,  24.],\n",
       "       [  0.,   0.,   0.,   2.,  25.],\n",
       "       [  0.,   0.,   0.,   2.,  26.],\n",
       "       [  0.,   0.,   0.,   2.,  27.],\n",
       "       [  0.,   0.,   0.,   3.,  27.],\n",
       "       [  0.,   0.,   0.,   3.,  28.],\n",
       "       [  0.,   0.,   0.,   3.,  29.],\n",
       "       [  0.,   0.,   0.,   3.,  30.],\n",
       "       [  0.,   0.,   0.,   3.,  31.],\n",
       "       [  0.,   0.,   0.,   3.,  32.],\n",
       "       [  0.,   0.,   0.,   3.,  33.],\n",
       "       [  0.,   0.,   0.,   3.,  34.],\n",
       "       [  0.,   0.,   0.,   3.,  35.],\n",
       "       [  0.,   0.,   0.,   3.,  36.],\n",
       "       [  0.,   0.,   0.,   3.,  37.],\n",
       "       [  0.,   0.,   0.,   3.,  38.],\n",
       "       [  0.,   0.,   0.,   3.,  39.],\n",
       "       [  0.,   0.,   0.,   4.,  39.],\n",
       "       [  0.,   0.,   0.,   4.,  40.],\n",
       "       [  0.,   0.,   0.,   4.,  41.],\n",
       "       [  0.,   0.,   0.,   4.,  42.],\n",
       "       [  0.,   0.,   0.,   4.,  43.],\n",
       "       [  1.,   0.,   0.,   4.,  43.],\n",
       "       [  1.,   0.,   0.,   4.,  44.],\n",
       "       [  1.,   0.,   0.,   4.,  45.],\n",
       "       [  1.,   0.,   0.,   4.,  46.],\n",
       "       [  1.,   0.,   0.,   5.,  46.],\n",
       "       [  1.,   0.,   0.,   6.,  46.],\n",
       "       [  1.,   0.,   0.,   6.,  47.],\n",
       "       [  1.,   0.,   0.,   7.,  47.],\n",
       "       [  1.,   0.,   0.,   7.,  48.],\n",
       "       [  1.,   0.,   0.,   7.,  49.],\n",
       "       [  1.,   0.,   0.,   7.,  50.],\n",
       "       [  1.,   0.,   0.,   7.,  51.],\n",
       "       [  1.,   0.,   0.,   7.,  52.],\n",
       "       [  1.,   0.,   0.,   7.,  53.],\n",
       "       [  1.,   0.,   0.,   7.,  54.],\n",
       "       [  1.,   0.,   0.,   7.,  55.],\n",
       "       [  1.,   0.,   0.,   7.,  56.],\n",
       "       [  1.,   0.,   0.,   8.,  56.],\n",
       "       [  1.,   0.,   0.,   8.,  57.],\n",
       "       [  1.,   0.,   0.,   9.,  57.],\n",
       "       [  1.,   0.,   0.,  10.,  57.],\n",
       "       [  1.,   0.,   0.,  10.,  58.],\n",
       "       [  1.,   0.,   0.,  10.,  59.],\n",
       "       [  1.,   0.,   0.,  10.,  60.],\n",
       "       [  1.,   0.,   0.,  11.,  60.],\n",
       "       [  1.,   0.,   0.,  11.,  61.],\n",
       "       [  2.,   0.,   0.,  11.,  61.],\n",
       "       [  2.,   0.,   0.,  11.,  62.],\n",
       "       [  2.,   0.,   0.,  11.,  63.],\n",
       "       [  2.,   0.,   0.,  11.,  64.],\n",
       "       [  2.,   0.,   0.,  11.,  65.],\n",
       "       [  2.,   0.,   0.,  11.,  66.],\n",
       "       [  2.,   0.,   0.,  11.,  67.],\n",
       "       [  2.,   0.,   0.,  12.,  67.],\n",
       "       [  2.,   0.,   0.,  13.,  67.],\n",
       "       [  2.,   0.,   0.,  13.,  68.],\n",
       "       [  2.,   0.,   0.,  13.,  69.],\n",
       "       [  2.,   0.,   0.,  14.,  69.],\n",
       "       [  2.,   0.,   0.,  14.,  70.],\n",
       "       [  2.,   0.,   1.,  14.,  70.],\n",
       "       [  2.,   0.,   1.,  14.,  71.],\n",
       "       [  2.,   0.,   1.,  14.,  72.],\n",
       "       [  2.,   0.,   1.,  14.,  73.],\n",
       "       [  2.,   0.,   1.,  14.,  74.],\n",
       "       [  2.,   0.,   1.,  14.,  75.],\n",
       "       [  2.,   0.,   1.,  14.,  76.],\n",
       "       [  2.,   0.,   1.,  15.,  76.],\n",
       "       [  2.,   0.,   1.,  15.,  77.],\n",
       "       [  2.,   0.,   1.,  16.,  77.],\n",
       "       [  2.,   0.,   1.,  16.,  78.],\n",
       "       [  2.,   0.,   1.,  16.,  79.],\n",
       "       [  2.,   0.,   1.,  17.,  79.],\n",
       "       [  2.,   0.,   1.,  18.,  79.],\n",
       "       [  2.,   0.,   1.,  18.,  80.],\n",
       "       [  2.,   0.,   1.,  18.,  81.],\n",
       "       [  2.,   0.,   1.,  18.,  82.],\n",
       "       [  2.,   0.,   1.,  18.,  83.],\n",
       "       [  2.,   0.,   1.,  19.,  83.],\n",
       "       [  2.,   0.,   1.,  19.,  84.],\n",
       "       [  2.,   0.,   1.,  19.,  85.],\n",
       "       [  2.,   0.,   1.,  19.,  86.],\n",
       "       [  2.,   0.,   1.,  20.,  86.],\n",
       "       [  2.,   0.,   1.,  21.,  86.],\n",
       "       [  2.,   0.,   1.,  21.,  87.],\n",
       "       [  2.,   0.,   1.,  21.,  88.],\n",
       "       [  2.,   0.,   1.,  21.,  89.],\n",
       "       [  2.,   0.,   1.,  22.,  89.],\n",
       "       [  2.,   0.,   1.,  22.,  90.],\n",
       "       [  2.,   0.,   1.,  22.,  91.],\n",
       "       [  2.,   0.,   1.,  22.,  92.],\n",
       "       [  2.,   0.,   1.,  23.,  92.],\n",
       "       [  2.,   0.,   1.,  23.,  93.],\n",
       "       [  2.,   0.,   1.,  23.,  94.],\n",
       "       [  2.,   0.,   1.,  23.,  95.],\n",
       "       [  2.,   0.,   1.,  23.,  96.],\n",
       "       [  2.,   0.,   1.,  24.,  96.],\n",
       "       [  2.,   0.,   1.,  24.,  97.],\n",
       "       [  2.,   0.,   1.,  24.,  98.],\n",
       "       [  2.,   1.,   1.,  24.,  98.],\n",
       "       [  2.,   1.,   1.,  24.,  99.],\n",
       "       [  2.,   1.,   1.,  24., 100.],\n",
       "       [  2.,   1.,   1.,  25., 100.],\n",
       "       [  2.,   1.,   1.,  25., 101.],\n",
       "       [  2.,   1.,   1.,  25., 102.],\n",
       "       [  2.,   1.,   1.,  25., 103.],\n",
       "       [  2.,   1.,   1.,  25., 104.],\n",
       "       [  2.,   1.,   1.,  25., 105.],\n",
       "       [  2.,   1.,   1.,  25., 106.],\n",
       "       [  2.,   1.,   1.,  25., 107.],\n",
       "       [  2.,   1.,   1.,  25., 108.],\n",
       "       [  2.,   1.,   1.,  25., 109.],\n",
       "       [  2.,   1.,   1.,  25., 110.],\n",
       "       [  2.,   1.,   1.,  25., 111.],\n",
       "       [  2.,   1.,   1.,  25., 112.],\n",
       "       [  2.,   1.,   1.,  25., 113.],\n",
       "       [  2.,   1.,   1.,  26., 113.],\n",
       "       [  2.,   1.,   1.,  26., 114.],\n",
       "       [  2.,   1.,   1.,  27., 114.],\n",
       "       [  2.,   1.,   1.,  27., 115.],\n",
       "       [  2.,   1.,   1.,  28., 115.],\n",
       "       [  2.,   1.,   1.,  28., 116.],\n",
       "       [  2.,   1.,   2.,  28., 116.],\n",
       "       [  2.,   1.,   2.,  28., 117.],\n",
       "       [  2.,   1.,   2.,  28., 118.],\n",
       "       [  2.,   1.,   2.,  28., 119.],\n",
       "       [  2.,   2.,   2.,  28., 119.],\n",
       "       [  2.,   2.,   2.,  28., 120.],\n",
       "       [  2.,   2.,   2.,  28., 121.]])"
      ]
     },
     "execution_count": 69,
     "metadata": {},
     "output_type": "execute_result"
    },
    {
     "data": {
      "application/javascript": [
       "\n",
       "            setTimeout(function() {\n",
       "                var nbb_cell_id = 69;\n",
       "                var nbb_unformatted_code = \"timeseries_data[875][timeseries_half_len[875] :] - timeseries_data[875][\\n    timeseries_half_len[875] - 1\\n]\";\n",
       "                var nbb_formatted_code = \"timeseries_data[875][timeseries_half_len[875] :] - timeseries_data[875][\\n    timeseries_half_len[875] - 1\\n]\";\n",
       "                var nbb_cells = Jupyter.notebook.get_cells();\n",
       "                for (var i = 0; i < nbb_cells.length; ++i) {\n",
       "                    if (nbb_cells[i].input_prompt_number == nbb_cell_id) {\n",
       "                        if (nbb_cells[i].get_text() == nbb_unformatted_code) {\n",
       "                             nbb_cells[i].set_text(nbb_formatted_code);\n",
       "                        }\n",
       "                        break;\n",
       "                    }\n",
       "                }\n",
       "            }, 500);\n",
       "            "
      ],
      "text/plain": [
       "<IPython.core.display.Javascript object>"
      ]
     },
     "metadata": {},
     "output_type": "display_data"
    }
   ],
   "source": [
    "timeseries_data[875][timeseries_half_len[875] :] - timeseries_data[875][\n",
    "    timeseries_half_len[875] - 1\n",
    "]"
   ]
  },
  {
   "cell_type": "code",
   "execution_count": 70,
   "id": "0514120f",
   "metadata": {},
   "outputs": [
    {
     "data": {
      "text/plain": [
       "array([[ 1.,  0.,  0.,  0.,  0.],\n",
       "       [ 2.,  0.,  0.,  0.,  0.],\n",
       "       [ 2.,  1.,  0.,  0.,  0.],\n",
       "       [ 2.,  1.,  1.,  0.,  0.],\n",
       "       [ 3.,  1.,  1.,  0.,  0.],\n",
       "       [ 4.,  1.,  1.,  0.,  0.],\n",
       "       [ 5.,  1.,  1.,  0.,  0.],\n",
       "       [ 6.,  1.,  1.,  0.,  0.],\n",
       "       [ 6.,  1.,  1.,  1.,  0.],\n",
       "       [ 6.,  1.,  1.,  2.,  0.],\n",
       "       [ 6.,  1.,  2.,  2.,  0.],\n",
       "       [ 7.,  1.,  2.,  2.,  0.],\n",
       "       [ 8.,  1.,  2.,  2.,  0.],\n",
       "       [ 9.,  1.,  2.,  2.,  0.],\n",
       "       [10.,  1.,  2.,  2.,  0.],\n",
       "       [10.,  1.,  2.,  3.,  0.],\n",
       "       [11.,  1.,  2.,  3.,  0.],\n",
       "       [11.,  1.,  2.,  4.,  0.],\n",
       "       [12.,  1.,  2.,  4.,  0.],\n",
       "       [13.,  1.,  2.,  4.,  0.],\n",
       "       [14.,  1.,  2.,  4.,  0.],\n",
       "       [14.,  1.,  2.,  5.,  0.],\n",
       "       [15.,  1.,  2.,  5.,  0.],\n",
       "       [15.,  2.,  2.,  5.,  0.],\n",
       "       [15.,  2.,  2.,  6.,  0.],\n",
       "       [16.,  2.,  2.,  6.,  0.],\n",
       "       [16.,  2.,  2.,  7.,  0.],\n",
       "       [17.,  2.,  2.,  7.,  0.],\n",
       "       [17.,  2.,  2.,  8.,  0.],\n",
       "       [18.,  2.,  2.,  8.,  0.],\n",
       "       [18.,  2.,  2.,  9.,  0.],\n",
       "       [19.,  2.,  2.,  9.,  0.],\n",
       "       [19.,  3.,  2.,  9.,  0.],\n",
       "       [19.,  4.,  2.,  9.,  0.],\n",
       "       [19.,  4.,  3.,  9.,  0.]])"
      ]
     },
     "execution_count": 70,
     "metadata": {},
     "output_type": "execute_result"
    },
    {
     "data": {
      "application/javascript": [
       "\n",
       "            setTimeout(function() {\n",
       "                var nbb_cell_id = 70;\n",
       "                var nbb_unformatted_code = \"simulator.simulations[10, 875][timeseries_half_len[875] :] - simulator.simulations[\\n    10, 875\\n][timeseries_half_len[875] - 1]\";\n",
       "                var nbb_formatted_code = \"simulator.simulations[10, 875][timeseries_half_len[875] :] - simulator.simulations[\\n    10, 875\\n][timeseries_half_len[875] - 1]\";\n",
       "                var nbb_cells = Jupyter.notebook.get_cells();\n",
       "                for (var i = 0; i < nbb_cells.length; ++i) {\n",
       "                    if (nbb_cells[i].input_prompt_number == nbb_cell_id) {\n",
       "                        if (nbb_cells[i].get_text() == nbb_unformatted_code) {\n",
       "                             nbb_cells[i].set_text(nbb_formatted_code);\n",
       "                        }\n",
       "                        break;\n",
       "                    }\n",
       "                }\n",
       "            }, 500);\n",
       "            "
      ],
      "text/plain": [
       "<IPython.core.display.Javascript object>"
      ]
     },
     "metadata": {},
     "output_type": "display_data"
    }
   ],
   "source": [
    "simulator.simulations[10, 875][timeseries_half_len[875] :] - simulator.simulations[\n",
    "    10, 875\n",
    "][timeseries_half_len[875] - 1]"
   ]
  },
  {
   "cell_type": "code",
   "execution_count": 73,
   "id": "663c1d51",
   "metadata": {},
   "outputs": [
    {
     "data": {
      "application/javascript": [
       "\n",
       "            setTimeout(function() {\n",
       "                var nbb_cell_id = 73;\n",
       "                var nbb_unformatted_code = \"max_review_len = max([len(prod) for prod in real_avg_rating])\\nprod_avg_real_rating = np.full((real_avg_rating.shape[0], max_review_len), np.nan)\\nprod_avg_sim_rating = np.full((real_avg_rating.shape[0], max_review_len), np.nan)\\nfor prod in range(real_avg_rating.shape[0]):\\n    prod_avg_real_rating[prod, :len(real_avg_rating[prod])] = real_avg_rating[prod]\\n    sim_array = np.array([sim for sim in sim_avg_rating[prod]])\\n    prod_avg_sim_rating[prod, :len(real_avg_rating[prod])] = np.mean(sim_array, axis=0) \";\n",
       "                var nbb_formatted_code = \"max_review_len = max([len(prod) for prod in real_avg_rating])\\nprod_avg_real_rating = np.full((real_avg_rating.shape[0], max_review_len), np.nan)\\nprod_avg_sim_rating = np.full((real_avg_rating.shape[0], max_review_len), np.nan)\\nfor prod in range(real_avg_rating.shape[0]):\\n    prod_avg_real_rating[prod, : len(real_avg_rating[prod])] = real_avg_rating[prod]\\n    sim_array = np.array([sim for sim in sim_avg_rating[prod]])\\n    prod_avg_sim_rating[prod, : len(real_avg_rating[prod])] = np.mean(sim_array, axis=0)\";\n",
       "                var nbb_cells = Jupyter.notebook.get_cells();\n",
       "                for (var i = 0; i < nbb_cells.length; ++i) {\n",
       "                    if (nbb_cells[i].input_prompt_number == nbb_cell_id) {\n",
       "                        if (nbb_cells[i].get_text() == nbb_unformatted_code) {\n",
       "                             nbb_cells[i].set_text(nbb_formatted_code);\n",
       "                        }\n",
       "                        break;\n",
       "                    }\n",
       "                }\n",
       "            }, 500);\n",
       "            "
      ],
      "text/plain": [
       "<IPython.core.display.Javascript object>"
      ]
     },
     "metadata": {},
     "output_type": "display_data"
    }
   ],
   "source": [
    "max_review_len = max([len(prod) for prod in real_avg_rating])\n",
    "prod_avg_real_rating = np.full((real_avg_rating.shape[0], max_review_len), np.nan)\n",
    "prod_avg_sim_rating = np.full((real_avg_rating.shape[0], max_review_len), np.nan)\n",
    "for prod in range(real_avg_rating.shape[0]):\n",
    "    prod_avg_real_rating[prod, :len(real_avg_rating[prod])] = real_avg_rating[prod]\n",
    "    sim_array = np.array([sim for sim in sim_avg_rating[prod]])\n",
    "    prod_avg_sim_rating[prod, :len(real_avg_rating[prod])] = np.mean(sim_array, axis=0) "
   ]
  },
  {
   "cell_type": "code",
   "execution_count": 75,
   "id": "8e102174",
   "metadata": {},
   "outputs": [
    {
     "data": {
      "text/plain": [
       "((1406, 239), (1406, 239))"
      ]
     },
     "execution_count": 75,
     "metadata": {},
     "output_type": "execute_result"
    },
    {
     "data": {
      "application/javascript": [
       "\n",
       "            setTimeout(function() {\n",
       "                var nbb_cell_id = 75;\n",
       "                var nbb_unformatted_code = \"prod_avg_real_rating.shape, prod_avg_sim_rating.shape\";\n",
       "                var nbb_formatted_code = \"prod_avg_real_rating.shape, prod_avg_sim_rating.shape\";\n",
       "                var nbb_cells = Jupyter.notebook.get_cells();\n",
       "                for (var i = 0; i < nbb_cells.length; ++i) {\n",
       "                    if (nbb_cells[i].input_prompt_number == nbb_cell_id) {\n",
       "                        if (nbb_cells[i].get_text() == nbb_unformatted_code) {\n",
       "                             nbb_cells[i].set_text(nbb_formatted_code);\n",
       "                        }\n",
       "                        break;\n",
       "                    }\n",
       "                }\n",
       "            }, 500);\n",
       "            "
      ],
      "text/plain": [
       "<IPython.core.display.Javascript object>"
      ]
     },
     "metadata": {},
     "output_type": "display_data"
    }
   ],
   "source": [
    "prod_avg_real_rating.shape, prod_avg_sim_rating.shape"
   ]
  },
  {
   "cell_type": "code",
   "execution_count": 80,
   "id": "46d0039b",
   "metadata": {},
   "outputs": [
    {
     "data": {
      "text/plain": [
       "<ErrorbarContainer object of 3 artists>"
      ]
     },
     "execution_count": 80,
     "metadata": {},
     "output_type": "execute_result"
    },
    {
     "data": {
      "image/png": "[encoded data removed]",
      "text/plain": [
       "<Figure size 432x288 with 1 Axes>"
      ]
     },
     "metadata": {},
     "output_type": "display_data"
    },
    {
     "data": {
      "application/javascript": [
       "\n",
       "            setTimeout(function() {\n",
       "                var nbb_cell_id = 80;\n",
       "                var nbb_unformatted_code = \"plt.errorbar(\\n    np.arange(100) + 1,\\n    np.nanmean(prod_avg_real_rating[:, :100], axis=0),\\n    np.nanstd(prod_avg_real_rating[:, :100], axis=0), alpha=0.6\\n)\\nplt.errorbar(np.arange(100) + 1, np.nanmean(prod_avg_sim_rating[:, :100], axis=0), np.nanstd(prod_avg_real_rating[:, :100], axis=0), alpha=0.6)\";\n",
       "                var nbb_formatted_code = \"plt.errorbar(\\n    np.arange(100) + 1,\\n    np.nanmean(prod_avg_real_rating[:, :100], axis=0),\\n    np.nanstd(prod_avg_real_rating[:, :100], axis=0),\\n    alpha=0.6,\\n)\\nplt.errorbar(\\n    np.arange(100) + 1,\\n    np.nanmean(prod_avg_sim_rating[:, :100], axis=0),\\n    np.nanstd(prod_avg_real_rating[:, :100], axis=0),\\n    alpha=0.6,\\n)\";\n",
       "                var nbb_cells = Jupyter.notebook.get_cells();\n",
       "                for (var i = 0; i < nbb_cells.length; ++i) {\n",
       "                    if (nbb_cells[i].input_prompt_number == nbb_cell_id) {\n",
       "                        if (nbb_cells[i].get_text() == nbb_unformatted_code) {\n",
       "                             nbb_cells[i].set_text(nbb_formatted_code);\n",
       "                        }\n",
       "                        break;\n",
       "                    }\n",
       "                }\n",
       "            }, 500);\n",
       "            "
      ],
      "text/plain": [
       "<IPython.core.display.Javascript object>"
      ]
     },
     "metadata": {},
     "output_type": "display_data"
    }
   ],
   "source": [
    "plt.errorbar(\n",
    "    np.arange(100) + 1,\n",
    "    np.nanmean(prod_avg_real_rating[:, :100], axis=0),\n",
    "    np.nanstd(prod_avg_real_rating[:, :100], axis=0),\n",
    "    alpha=0.6,\n",
    ")\n",
    "plt.errorbar(\n",
    "    np.arange(100) + 1,\n",
    "    np.nanmean(prod_avg_sim_rating[:, :100], axis=0),\n",
    "    np.nanstd(prod_avg_real_rating[:, :100], axis=0),\n",
    "    alpha=0.6,\n",
    ")"
   ]
  },
  {
   "cell_type": "markdown",
   "id": "05493279",
   "metadata": {},
   "source": [
    "# Creating a baseline for the review timeseries prediction task using a simple categorical model"
   ]
  },
  {
   "cell_type": "markdown",
   "id": "6ab814b0",
   "metadata": {},
   "source": [
    "In order to have a baseline comparison for review prediction using the simulation model (and any other timeseries prediction methods like RNN later), we will use predictions from a categorical probability distribution. The probabilities of this categorical distribution can be the 50% (half-way) review histogram that we already have - using these reviews from the first half of the timeseries for each product, we will try to predict the 2nd half "
   ]
  },
  {
   "cell_type": "code",
   "execution_count": null,
   "id": "b8b72a2d",
   "metadata": {},
   "outputs": [],
   "source": [
    "real_avg_rating = []\n",
    "sim_avg_rating = []\n",
    "for product in range(timeseries_data.shape[0]):\n",
    "    real_rating = (\n",
    "        timeseries_data[product][timeseries_half_len[product] :]\n",
    "        - timeseries_data[product][timeseries_half_len[product] - 1][None, :]\n",
    "    )\n",
    "    real_avg_rating.append(\n",
    "        np.sum(\n",
    "            (real_rating / np.sum(real_rating, axis=1)[:, None]) * np.arange(1, 6),\n",
    "            axis=1,\n",
    "        )\n",
    "    )\n",
    "    half_histogram = timeseries_data[product][timeseries_half_len[product] - 1]\n",
    "    half_histogram /= np.sum(half_histogram)\n",
    "    \n",
    "    for rating in range(real_rating.shape[0]):\n",
    "        \n",
    "    this_prod_avg_rating = []\n",
    "    for sim in range(simulator.simulations.shape[0]):\n",
    "        sim_rating = (\n",
    "            simulator.simulations[sim, product][\n",
    "                timeseries_half_len[product] : timeseries_data[product].shape[0]\n",
    "            ]\n",
    "            - simulator.simulations[sim, product][timeseries_half_len[product] - 1][\n",
    "                None, :\n",
    "            ]\n",
    "        )\n",
    "        this_prod_avg_rating.append(\n",
    "            np.sum(\n",
    "                (sim_rating / np.sum(sim_rating, axis=1)[:, None]) * np.arange(1, 6),\n",
    "                axis=1,\n",
    "            )\n",
    "        )\n",
    "    sim_avg_rating.append(this_prod_avg_rating)"
   ]
  },
  {
   "cell_type": "markdown",
   "id": "62e36e86",
   "metadata": {},
   "source": [
    "# Testing the running of inference with the rating scale simulator"
   ]
  },
  {
   "cell_type": "code",
   "execution_count": 9,
   "id": "2a297acd",
   "metadata": {},
   "outputs": [
    {
     "data": {
      "application/javascript": [
       "\n",
       "            setTimeout(function() {\n",
       "                var nbb_cell_id = 9;\n",
       "                var nbb_unformatted_code = \"from snpe.inference.inference_class import TimeSeriesInference\\nimport sbi.utils as sbi_utils\\nimport torch\";\n",
       "                var nbb_formatted_code = \"from snpe.inference.inference_class import TimeSeriesInference\\nimport sbi.utils as sbi_utils\\nimport torch\";\n",
       "                var nbb_cells = Jupyter.notebook.get_cells();\n",
       "                for (var i = 0; i < nbb_cells.length; ++i) {\n",
       "                    if (nbb_cells[i].input_prompt_number == nbb_cell_id) {\n",
       "                        if (nbb_cells[i].get_text() == nbb_unformatted_code) {\n",
       "                             nbb_cells[i].set_text(nbb_formatted_code);\n",
       "                        }\n",
       "                        break;\n",
       "                    }\n",
       "                }\n",
       "            }, 500);\n",
       "            "
      ],
      "text/plain": [
       "<IPython.core.display.Javascript object>"
      ]
     },
     "metadata": {},
     "output_type": "display_data"
    }
   ],
   "source": [
    "from snpe.inference.inference_class import TimeSeriesInference\n",
    "import sbi.utils as sbi_utils\n",
    "import torch"
   ]
  },
  {
   "cell_type": "code",
   "execution_count": 40,
   "id": "fd5b5900",
   "metadata": {},
   "outputs": [
    {
     "name": "stderr",
     "output_type": "stream",
     "text": [
      "/opt/conda/lib/python3.7/site-packages/sbi/utils/torchutils.py:28: UserWarning: GPU was selected as a device for training the neural network. Note that we expect **no** significant speed ups in training for the default architectures we provide. Using the GPU will be effective only for large neural networks with operations that are fast on the GPU, e.g., for a CNN or RNN `embedding_net`.\n",
      "  \"GPU was selected as a device for training the neural network. \"\n"
     ]
    },
    {
     "data": {
      "application/javascript": [
       "\n",
       "            setTimeout(function() {\n",
       "                var nbb_cell_id = 40;\n",
       "                var nbb_unformatted_code = \"parameter_prior = sbi_utils.BoxUniform(\\n            low=torch.tensor([0.0, 0.0, 0.0, 0.0, 0.5, 0.25, 0.25, 0.5]).type(torch.FloatTensor),\\n            high=torch.tensor([4.0, 4.0, 1.0, 1.0, 1.0, 0.75, 0.75, 1.0]).type(torch.FloatTensor),\\n            device=\\\"cuda\\\",\\n        )\";\n",
       "                var nbb_formatted_code = \"parameter_prior = sbi_utils.BoxUniform(\\n    low=torch.tensor([0.0, 0.0, 0.0, 0.0, 0.5, 0.25, 0.25, 0.5]).type(\\n        torch.FloatTensor\\n    ),\\n    high=torch.tensor([4.0, 4.0, 1.0, 1.0, 1.0, 0.75, 0.75, 1.0]).type(\\n        torch.FloatTensor\\n    ),\\n    device=\\\"cuda\\\",\\n)\";\n",
       "                var nbb_cells = Jupyter.notebook.get_cells();\n",
       "                for (var i = 0; i < nbb_cells.length; ++i) {\n",
       "                    if (nbb_cells[i].input_prompt_number == nbb_cell_id) {\n",
       "                        if (nbb_cells[i].get_text() == nbb_unformatted_code) {\n",
       "                             nbb_cells[i].set_text(nbb_formatted_code);\n",
       "                        }\n",
       "                        break;\n",
       "                    }\n",
       "                }\n",
       "            }, 500);\n",
       "            "
      ],
      "text/plain": [
       "<IPython.core.display.Javascript object>"
      ]
     },
     "metadata": {},
     "output_type": "display_data"
    }
   ],
   "source": [
    "parameter_prior = sbi_utils.BoxUniform(\n",
    "            low=torch.tensor([0.0, 0.0, 0.0, 0.0, 0.5, 0.25, 0.25, 0.5]).type(torch.FloatTensor),\n",
    "            high=torch.tensor([4.0, 4.0, 1.0, 1.0, 1.0, 0.75, 0.75, 1.0]).type(torch.FloatTensor),\n",
    "            device=\"cuda\",\n",
    "        )"
   ]
  },
  {
   "cell_type": "code",
   "execution_count": 41,
   "id": "24a37053",
   "metadata": {},
   "outputs": [
    {
     "data": {
      "application/javascript": [
       "\n",
       "            setTimeout(function() {\n",
       "                var nbb_cell_id = 41;\n",
       "                var nbb_unformatted_code = \"inferrer = TimeSeriesInference(parameter_prior=parameter_prior, device=\\\"cuda\\\")\";\n",
       "                var nbb_formatted_code = \"inferrer = TimeSeriesInference(parameter_prior=parameter_prior, device=\\\"cuda\\\")\";\n",
       "                var nbb_cells = Jupyter.notebook.get_cells();\n",
       "                for (var i = 0; i < nbb_cells.length; ++i) {\n",
       "                    if (nbb_cells[i].input_prompt_number == nbb_cell_id) {\n",
       "                        if (nbb_cells[i].get_text() == nbb_unformatted_code) {\n",
       "                             nbb_cells[i].set_text(nbb_formatted_code);\n",
       "                        }\n",
       "                        break;\n",
       "                    }\n",
       "                }\n",
       "            }, 500);\n",
       "            "
      ],
      "text/plain": [
       "<IPython.core.display.Javascript object>"
      ]
     },
     "metadata": {},
     "output_type": "display_data"
    }
   ],
   "source": [
    "inferrer = TimeSeriesInference(parameter_prior=parameter_prior, device=\"cuda\")"
   ]
  },
  {
   "cell_type": "code",
   "execution_count": 42,
   "id": "7fa4be2c",
   "metadata": {},
   "outputs": [
    {
     "data": {
      "application/javascript": [
       "\n",
       "            setTimeout(function() {\n",
       "                var nbb_cell_id = 42;\n",
       "                var nbb_unformatted_code = \"inferrer.load_simulator(dirname=ARTIFACT_PATH, simulator_type=\\\"marketplace\\\", simulation_type=\\\"timeseries\\\")\";\n",
       "                var nbb_formatted_code = \"inferrer.load_simulator(\\n    dirname=ARTIFACT_PATH, simulator_type=\\\"marketplace\\\", simulation_type=\\\"timeseries\\\"\\n)\";\n",
       "                var nbb_cells = Jupyter.notebook.get_cells();\n",
       "                for (var i = 0; i < nbb_cells.length; ++i) {\n",
       "                    if (nbb_cells[i].input_prompt_number == nbb_cell_id) {\n",
       "                        if (nbb_cells[i].get_text() == nbb_unformatted_code) {\n",
       "                             nbb_cells[i].set_text(nbb_formatted_code);\n",
       "                        }\n",
       "                        break;\n",
       "                    }\n",
       "                }\n",
       "            }, 500);\n",
       "            "
      ],
      "text/plain": [
       "<IPython.core.display.Javascript object>"
      ]
     },
     "metadata": {},
     "output_type": "display_data"
    }
   ],
   "source": [
    "inferrer.load_simulator(dirname=ARTIFACT_PATH, simulator_type=\"marketplace\", simulation_type=\"timeseries\")"
   ]
  },
  {
   "cell_type": "code",
   "execution_count": 43,
   "id": "9f967240",
   "metadata": {},
   "outputs": [
    {
     "data": {
      "text/plain": [
       "(10, 44800, 2)"
      ]
     },
     "execution_count": 43,
     "metadata": {},
     "output_type": "execute_result"
    },
    {
     "data": {
      "application/javascript": [
       "\n",
       "            setTimeout(function() {\n",
       "                var nbb_cell_id = 43;\n",
       "                var nbb_unformatted_code = \"inferrer.simulator.simulation_parameters[\\\"rho\\\"].shape\";\n",
       "                var nbb_formatted_code = \"inferrer.simulator.simulation_parameters[\\\"rho\\\"].shape\";\n",
       "                var nbb_cells = Jupyter.notebook.get_cells();\n",
       "                for (var i = 0; i < nbb_cells.length; ++i) {\n",
       "                    if (nbb_cells[i].input_prompt_number == nbb_cell_id) {\n",
       "                        if (nbb_cells[i].get_text() == nbb_unformatted_code) {\n",
       "                             nbb_cells[i].set_text(nbb_formatted_code);\n",
       "                        }\n",
       "                        break;\n",
       "                    }\n",
       "                }\n",
       "            }, 500);\n",
       "            "
      ],
      "text/plain": [
       "<IPython.core.display.Javascript object>"
      ]
     },
     "metadata": {},
     "output_type": "display_data"
    }
   ],
   "source": [
    "inferrer.simulator.simulation_parameters[\"rho\"].shape"
   ]
  },
  {
   "cell_type": "code",
   "execution_count": 44,
   "id": "78b70088",
   "metadata": {},
   "outputs": [
    {
     "data": {
      "application/javascript": [
       "\n",
       "            setTimeout(function() {\n",
       "                var nbb_cell_id = 44;\n",
       "                var nbb_unformatted_code = \"np.testing.assert_array_equal(inferrer.simulator.simulation_parameters[\\\"h_p\\\"][0], inferrer.simulator.simulation_parameters[\\\"h_p\\\"][7])\";\n",
       "                var nbb_formatted_code = \"np.testing.assert_array_equal(\\n    inferrer.simulator.simulation_parameters[\\\"h_p\\\"][0],\\n    inferrer.simulator.simulation_parameters[\\\"h_p\\\"][7],\\n)\";\n",
       "                var nbb_cells = Jupyter.notebook.get_cells();\n",
       "                for (var i = 0; i < nbb_cells.length; ++i) {\n",
       "                    if (nbb_cells[i].input_prompt_number == nbb_cell_id) {\n",
       "                        if (nbb_cells[i].get_text() == nbb_unformatted_code) {\n",
       "                             nbb_cells[i].set_text(nbb_formatted_code);\n",
       "                        }\n",
       "                        break;\n",
       "                    }\n",
       "                }\n",
       "            }, 500);\n",
       "            "
      ],
      "text/plain": [
       "<IPython.core.display.Javascript object>"
      ]
     },
     "metadata": {},
     "output_type": "display_data"
    }
   ],
   "source": [
    "np.testing.assert_array_equal(inferrer.simulator.simulation_parameters[\"h_p\"][0], inferrer.simulator.simulation_parameters[\"h_p\"][7])"
   ]
  },
  {
   "cell_type": "code",
   "execution_count": 45,
   "id": "76a10a1e",
   "metadata": {},
   "outputs": [
    {
     "data": {
      "application/javascript": [
       "\n",
       "            setTimeout(function() {\n",
       "                var nbb_cell_id = 45;\n",
       "                var nbb_unformatted_code = \"parameters = np.hstack(\\n                (\\n                    inferrer.simulator.simulation_parameters[\\\"rho\\\"][0, :, :],\\n                    inferrer.simulator.simulation_parameters[\\\"h_p\\\"][0, :, :],\\n                    inferrer.simulator.simulation_parameters[\\\"p_1\\\"][0, :, None],\\n                    inferrer.simulator.simulation_parameters[\\\"p_2\\\"][0, :, None],\\n                    inferrer.simulator.simulation_parameters[\\\"p_4\\\"][0, :, None],\\n                    inferrer.simulator.simulation_parameters[\\\"p_5\\\"][0, :, None],\\n                )\\n            )\";\n",
       "                var nbb_formatted_code = \"parameters = np.hstack(\\n    (\\n        inferrer.simulator.simulation_parameters[\\\"rho\\\"][0, :, :],\\n        inferrer.simulator.simulation_parameters[\\\"h_p\\\"][0, :, :],\\n        inferrer.simulator.simulation_parameters[\\\"p_1\\\"][0, :, None],\\n        inferrer.simulator.simulation_parameters[\\\"p_2\\\"][0, :, None],\\n        inferrer.simulator.simulation_parameters[\\\"p_4\\\"][0, :, None],\\n        inferrer.simulator.simulation_parameters[\\\"p_5\\\"][0, :, None],\\n    )\\n)\";\n",
       "                var nbb_cells = Jupyter.notebook.get_cells();\n",
       "                for (var i = 0; i < nbb_cells.length; ++i) {\n",
       "                    if (nbb_cells[i].input_prompt_number == nbb_cell_id) {\n",
       "                        if (nbb_cells[i].get_text() == nbb_unformatted_code) {\n",
       "                             nbb_cells[i].set_text(nbb_formatted_code);\n",
       "                        }\n",
       "                        break;\n",
       "                    }\n",
       "                }\n",
       "            }, 500);\n",
       "            "
      ],
      "text/plain": [
       "<IPython.core.display.Javascript object>"
      ]
     },
     "metadata": {},
     "output_type": "display_data"
    }
   ],
   "source": [
    "parameters = np.hstack(\n",
    "                (\n",
    "                    inferrer.simulator.simulation_parameters[\"rho\"][0, :, :],\n",
    "                    inferrer.simulator.simulation_parameters[\"h_p\"][0, :, :],\n",
    "                    inferrer.simulator.simulation_parameters[\"p_1\"][0, :, None],\n",
    "                    inferrer.simulator.simulation_parameters[\"p_2\"][0, :, None],\n",
    "                    inferrer.simulator.simulation_parameters[\"p_4\"][0, :, None],\n",
    "                    inferrer.simulator.simulation_parameters[\"p_5\"][0, :, None],\n",
    "                )\n",
    "            )"
   ]
  },
  {
   "cell_type": "code",
   "execution_count": 46,
   "id": "6c7f562b",
   "metadata": {},
   "outputs": [
    {
     "data": {
      "text/plain": [
       "(44800, 8)"
      ]
     },
     "execution_count": 46,
     "metadata": {},
     "output_type": "execute_result"
    },
    {
     "data": {
      "application/javascript": [
       "\n",
       "            setTimeout(function() {\n",
       "                var nbb_cell_id = 46;\n",
       "                var nbb_unformatted_code = \"parameters.shape\";\n",
       "                var nbb_formatted_code = \"parameters.shape\";\n",
       "                var nbb_cells = Jupyter.notebook.get_cells();\n",
       "                for (var i = 0; i < nbb_cells.length; ++i) {\n",
       "                    if (nbb_cells[i].input_prompt_number == nbb_cell_id) {\n",
       "                        if (nbb_cells[i].get_text() == nbb_unformatted_code) {\n",
       "                             nbb_cells[i].set_text(nbb_formatted_code);\n",
       "                        }\n",
       "                        break;\n",
       "                    }\n",
       "                }\n",
       "            }, 500);\n",
       "            "
      ],
      "text/plain": [
       "<IPython.core.display.Javascript object>"
      ]
     },
     "metadata": {},
     "output_type": "display_data"
    }
   ],
   "source": [
    "parameters.shape"
   ]
  },
  {
   "cell_type": "code",
   "execution_count": 47,
   "id": "37ac7d5d",
   "metadata": {},
   "outputs": [
    {
     "data": {
      "application/javascript": [
       "\n",
       "            setTimeout(function() {\n",
       "                var nbb_cell_id = 47;\n",
       "                var nbb_unformatted_code = \"np.testing.assert_array_equal(parameters[:, :2], inferrer.simulator.simulation_parameters[\\\"rho\\\"][0])\\nnp.testing.assert_array_equal(parameters[:, 2:4], inferrer.simulator.simulation_parameters[\\\"h_p\\\"][0])\\nnp.testing.assert_array_equal(parameters[:, 4], inferrer.simulator.simulation_parameters[\\\"p_1\\\"][0])\\nnp.testing.assert_array_equal(parameters[:, 5], inferrer.simulator.simulation_parameters[\\\"p_2\\\"][0])\\nnp.testing.assert_array_equal(parameters[:, 6], inferrer.simulator.simulation_parameters[\\\"p_4\\\"][0])\\nnp.testing.assert_array_equal(parameters[:, 7], inferrer.simulator.simulation_parameters[\\\"p_5\\\"][0])\";\n",
       "                var nbb_formatted_code = \"np.testing.assert_array_equal(\\n    parameters[:, :2], inferrer.simulator.simulation_parameters[\\\"rho\\\"][0]\\n)\\nnp.testing.assert_array_equal(\\n    parameters[:, 2:4], inferrer.simulator.simulation_parameters[\\\"h_p\\\"][0]\\n)\\nnp.testing.assert_array_equal(\\n    parameters[:, 4], inferrer.simulator.simulation_parameters[\\\"p_1\\\"][0]\\n)\\nnp.testing.assert_array_equal(\\n    parameters[:, 5], inferrer.simulator.simulation_parameters[\\\"p_2\\\"][0]\\n)\\nnp.testing.assert_array_equal(\\n    parameters[:, 6], inferrer.simulator.simulation_parameters[\\\"p_4\\\"][0]\\n)\\nnp.testing.assert_array_equal(\\n    parameters[:, 7], inferrer.simulator.simulation_parameters[\\\"p_5\\\"][0]\\n)\";\n",
       "                var nbb_cells = Jupyter.notebook.get_cells();\n",
       "                for (var i = 0; i < nbb_cells.length; ++i) {\n",
       "                    if (nbb_cells[i].input_prompt_number == nbb_cell_id) {\n",
       "                        if (nbb_cells[i].get_text() == nbb_unformatted_code) {\n",
       "                             nbb_cells[i].set_text(nbb_formatted_code);\n",
       "                        }\n",
       "                        break;\n",
       "                    }\n",
       "                }\n",
       "            }, 500);\n",
       "            "
      ],
      "text/plain": [
       "<IPython.core.display.Javascript object>"
      ]
     },
     "metadata": {},
     "output_type": "display_data"
    }
   ],
   "source": [
    "np.testing.assert_array_equal(parameters[:, :2], inferrer.simulator.simulation_parameters[\"rho\"][0])\n",
    "np.testing.assert_array_equal(parameters[:, 2:4], inferrer.simulator.simulation_parameters[\"h_p\"][0])\n",
    "np.testing.assert_array_equal(parameters[:, 4], inferrer.simulator.simulation_parameters[\"p_1\"][0])\n",
    "np.testing.assert_array_equal(parameters[:, 5], inferrer.simulator.simulation_parameters[\"p_2\"][0])\n",
    "np.testing.assert_array_equal(parameters[:, 6], inferrer.simulator.simulation_parameters[\"p_4\"][0])\n",
    "np.testing.assert_array_equal(parameters[:, 7], inferrer.simulator.simulation_parameters[\"p_5\"][0])"
   ]
  },
  {
   "cell_type": "code",
   "execution_count": null,
   "id": "b012a445",
   "metadata": {},
   "outputs": [],
   "source": []
  }
 ],
 "metadata": {
  "kernelspec": {
   "display_name": "Python 3 (ipykernel)",
   "language": "python",
   "name": "python3"
  },
  "language_info": {
   "codemirror_mode": {
    "name": "ipython",
    "version": 3
   },
   "file_extension": ".py",
   "mimetype": "text/x-python",
   "name": "python",
   "nbconvert_exporter": "python",
   "pygments_lexer": "ipython3",
   "version": "3.9.12"
  }
 },
 "nbformat": 4,
 "nbformat_minor": 5
}
