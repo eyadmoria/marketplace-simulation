{
 "cells": [
  {
   "cell_type": "code",
   "execution_count": 1,
   "id": "c09b98bb",
   "metadata": {},
   "outputs": [],
   "source": [
    "%load_ext autoreload\n",
    "%autoreload 2"
   ]
  },
  {
   "cell_type": "code",
   "execution_count": 2,
   "id": "12600b0c",
   "metadata": {},
   "outputs": [
    {
     "data": {
      "application/javascript": [
       "\n",
       "            setTimeout(function() {\n",
       "                var nbb_cell_id = 2;\n",
       "                var nbb_unformatted_code = \"# Just a formatting related plugin\\n%load_ext nb_black\";\n",
       "                var nbb_formatted_code = \"# Just a formatting related plugin\\n%load_ext nb_black\";\n",
       "                var nbb_cells = Jupyter.notebook.get_cells();\n",
       "                for (var i = 0; i < nbb_cells.length; ++i) {\n",
       "                    if (nbb_cells[i].input_prompt_number == nbb_cell_id) {\n",
       "                        if (nbb_cells[i].get_text() == nbb_unformatted_code) {\n",
       "                             nbb_cells[i].set_text(nbb_formatted_code);\n",
       "                        }\n",
       "                        break;\n",
       "                    }\n",
       "                }\n",
       "            }, 500);\n",
       "            "
      ],
      "text/plain": [
       "<IPython.core.display.Javascript object>"
      ]
     },
     "metadata": {},
     "output_type": "display_data"
    }
   ],
   "source": [
    "# Just a formatting related plugin\n",
    "%load_ext nb_black"
   ]
  },
  {
   "cell_type": "code",
   "execution_count": 3,
   "id": "3af8de21",
   "metadata": {},
   "outputs": [
    {
     "data": {
      "application/javascript": [
       "\n",
       "            setTimeout(function() {\n",
       "                var nbb_cell_id = 3;\n",
       "                var nbb_unformatted_code = \"%matplotlib inline\\nimport matplotlib.pyplot as plt\";\n",
       "                var nbb_formatted_code = \"%matplotlib inline\\nimport matplotlib.pyplot as plt\";\n",
       "                var nbb_cells = Jupyter.notebook.get_cells();\n",
       "                for (var i = 0; i < nbb_cells.length; ++i) {\n",
       "                    if (nbb_cells[i].input_prompt_number == nbb_cell_id) {\n",
       "                        if (nbb_cells[i].get_text() == nbb_unformatted_code) {\n",
       "                             nbb_cells[i].set_text(nbb_formatted_code);\n",
       "                        }\n",
       "                        break;\n",
       "                    }\n",
       "                }\n",
       "            }, 500);\n",
       "            "
      ],
      "text/plain": [
       "<IPython.core.display.Javascript object>"
      ]
     },
     "metadata": {},
     "output_type": "display_data"
    }
   ],
   "source": [
    "%matplotlib inline\n",
    "import matplotlib.pyplot as plt"
   ]
  },
  {
   "cell_type": "code",
   "execution_count": 4,
   "id": "ae8ba5f4",
   "metadata": {},
   "outputs": [
    {
     "data": {
      "application/javascript": [
       "\n",
       "            setTimeout(function() {\n",
       "                var nbb_cell_id = 4;\n",
       "                var nbb_unformatted_code = \"import sys\\n\\nsys.path.append(\\\"../\\\")\";\n",
       "                var nbb_formatted_code = \"import sys\\n\\nsys.path.append(\\\"../\\\")\";\n",
       "                var nbb_cells = Jupyter.notebook.get_cells();\n",
       "                for (var i = 0; i < nbb_cells.length; ++i) {\n",
       "                    if (nbb_cells[i].input_prompt_number == nbb_cell_id) {\n",
       "                        if (nbb_cells[i].get_text() == nbb_unformatted_code) {\n",
       "                             nbb_cells[i].set_text(nbb_formatted_code);\n",
       "                        }\n",
       "                        break;\n",
       "                    }\n",
       "                }\n",
       "            }, 500);\n",
       "            "
      ],
      "text/plain": [
       "<IPython.core.display.Javascript object>"
      ]
     },
     "metadata": {},
     "output_type": "display_data"
    }
   ],
   "source": [
    "import sys\n",
    "\n",
    "sys.path.append(\"../\")"
   ]
  },
  {
   "cell_type": "code",
   "execution_count": 5,
   "id": "c2ccc481",
   "metadata": {},
   "outputs": [
    {
     "data": {
      "application/javascript": [
       "\n",
       "            setTimeout(function() {\n",
       "                var nbb_cell_id = 5;\n",
       "                var nbb_unformatted_code = \"from pathlib import Path\\nimport pandas as pd\\nimport numpy as np\";\n",
       "                var nbb_formatted_code = \"from pathlib import Path\\nimport pandas as pd\\nimport numpy as np\";\n",
       "                var nbb_cells = Jupyter.notebook.get_cells();\n",
       "                for (var i = 0; i < nbb_cells.length; ++i) {\n",
       "                    if (nbb_cells[i].input_prompt_number == nbb_cell_id) {\n",
       "                        if (nbb_cells[i].get_text() == nbb_unformatted_code) {\n",
       "                             nbb_cells[i].set_text(nbb_formatted_code);\n",
       "                        }\n",
       "                        break;\n",
       "                    }\n",
       "                }\n",
       "            }, 500);\n",
       "            "
      ],
      "text/plain": [
       "<IPython.core.display.Javascript object>"
      ]
     },
     "metadata": {},
     "output_type": "display_data"
    }
   ],
   "source": [
    "from pathlib import Path\n",
    "import pandas as pd\n",
    "import numpy as np"
   ]
  },
  {
   "cell_type": "code",
   "execution_count": 6,
   "id": "49479187",
   "metadata": {},
   "outputs": [
    {
     "data": {
      "application/javascript": [
       "\n",
       "            setTimeout(function() {\n",
       "                var nbb_cell_id = 6;\n",
       "                var nbb_unformatted_code = \"ARTIFACT_PATH = Path(\\\"../../../gcs_mount/artifacts/rating_spacing_simulator\\\")\\n# ARTIFACT_PATH = Path(\\\"/data/reputation-systems/snpe/artifacts/rating_spacing_simulator\\\")\";\n",
       "                var nbb_formatted_code = \"ARTIFACT_PATH = Path(\\\"../../../gcs_mount/artifacts/rating_spacing_simulator\\\")\\n# ARTIFACT_PATH = Path(\\\"/data/reputation-systems/snpe/artifacts/rating_spacing_simulator\\\")\";\n",
       "                var nbb_cells = Jupyter.notebook.get_cells();\n",
       "                for (var i = 0; i < nbb_cells.length; ++i) {\n",
       "                    if (nbb_cells[i].input_prompt_number == nbb_cell_id) {\n",
       "                        if (nbb_cells[i].get_text() == nbb_unformatted_code) {\n",
       "                             nbb_cells[i].set_text(nbb_formatted_code);\n",
       "                        }\n",
       "                        break;\n",
       "                    }\n",
       "                }\n",
       "            }, 500);\n",
       "            "
      ],
      "text/plain": [
       "<IPython.core.display.Javascript object>"
      ]
     },
     "metadata": {},
     "output_type": "display_data"
    }
   ],
   "source": [
    "ARTIFACT_PATH = Path(\"../../../gcs_mount/artifacts/rating_spacing_simulator\")\n",
    "# ARTIFACT_PATH = Path(\"/data/reputation-systems/snpe/artifacts/rating_spacing_simulator\")"
   ]
  },
  {
   "cell_type": "markdown",
   "id": "3fb2aedd",
   "metadata": {},
   "source": [
    "# Run the embeddings -> ratings task using the final class"
   ]
  },
  {
   "cell_type": "code",
   "execution_count": 10,
   "id": "7b1957fe",
   "metadata": {},
   "outputs": [
    {
     "data": {
      "application/javascript": [
       "\n",
       "            setTimeout(function() {\n",
       "                var nbb_cell_id = 10;\n",
       "                var nbb_unformatted_code = \"from snpe.embeddings.embeddings_to_ratings import EmbeddingRatingPredictor\";\n",
       "                var nbb_formatted_code = \"from snpe.embeddings.embeddings_to_ratings import EmbeddingRatingPredictor\";\n",
       "                var nbb_cells = Jupyter.notebook.get_cells();\n",
       "                for (var i = 0; i < nbb_cells.length; ++i) {\n",
       "                    if (nbb_cells[i].input_prompt_number == nbb_cell_id) {\n",
       "                        if (nbb_cells[i].get_text() == nbb_unformatted_code) {\n",
       "                             nbb_cells[i].set_text(nbb_formatted_code);\n",
       "                        }\n",
       "                        break;\n",
       "                    }\n",
       "                }\n",
       "            }, 500);\n",
       "            "
      ],
      "text/plain": [
       "<IPython.core.display.Javascript object>"
      ]
     },
     "metadata": {},
     "output_type": "display_data"
    }
   ],
   "source": [
    "from snpe.embeddings.embeddings_to_ratings import EmbeddingRatingPredictor"
   ]
  },
  {
   "cell_type": "code",
   "execution_count": 11,
   "id": "8ee045c4",
   "metadata": {},
   "outputs": [
    {
     "name": "stdout",
     "output_type": "stream",
     "text": [
      "\t Device set to cpu, using torch num threads=32\n",
      "Using the dense network: \n",
      " Sequential(\n",
      "  (0): Linear(in_features=100, out_features=256, bias=True)\n",
      "  (1): LeakyReLU(negative_slope=0.01)\n",
      "  (2): Linear(in_features=256, out_features=128, bias=True)\n",
      "  (3): LeakyReLU(negative_slope=0.01)\n",
      "  (4): Linear(in_features=128, out_features=64, bias=True)\n",
      "  (5): LeakyReLU(negative_slope=0.01)\n",
      "  (6): Linear(in_features=64, out_features=5, bias=True)\n",
      ")\n"
     ]
    },
    {
     "data": {
      "application/javascript": [
       "\n",
       "            setTimeout(function() {\n",
       "                var nbb_cell_id = 11;\n",
       "                var nbb_unformatted_code = \"model = EmbeddingRatingPredictor(artifact_path=ARTIFACT_PATH)\";\n",
       "                var nbb_formatted_code = \"model = EmbeddingRatingPredictor(artifact_path=ARTIFACT_PATH)\";\n",
       "                var nbb_cells = Jupyter.notebook.get_cells();\n",
       "                for (var i = 0; i < nbb_cells.length; ++i) {\n",
       "                    if (nbb_cells[i].input_prompt_number == nbb_cell_id) {\n",
       "                        if (nbb_cells[i].get_text() == nbb_unformatted_code) {\n",
       "                             nbb_cells[i].set_text(nbb_formatted_code);\n",
       "                        }\n",
       "                        break;\n",
       "                    }\n",
       "                }\n",
       "            }, 500);\n",
       "            "
      ],
      "text/plain": [
       "<IPython.core.display.Javascript object>"
      ]
     },
     "metadata": {},
     "output_type": "display_data"
    }
   ],
   "source": [
    "model = EmbeddingRatingPredictor(artifact_path=ARTIFACT_PATH)"
   ]
  },
  {
   "cell_type": "code",
   "execution_count": 12,
   "id": "ecd9b2f4",
   "metadata": {},
   "outputs": [
    {
     "name": "stdout",
     "output_type": "stream",
     "text": [
      "Merged product embeddings with review histograms and produced merged DF of shape: (13584, 8)\n"
     ]
    },
    {
     "data": {
      "application/javascript": [
       "\n",
       "            setTimeout(function() {\n",
       "                var nbb_cell_id = 12;\n",
       "                var nbb_unformatted_code = \"input_df = model.process_input_data()\";\n",
       "                var nbb_formatted_code = \"input_df = model.process_input_data()\";\n",
       "                var nbb_cells = Jupyter.notebook.get_cells();\n",
       "                for (var i = 0; i < nbb_cells.length; ++i) {\n",
       "                    if (nbb_cells[i].input_prompt_number == nbb_cell_id) {\n",
       "                        if (nbb_cells[i].get_text() == nbb_unformatted_code) {\n",
       "                             nbb_cells[i].set_text(nbb_formatted_code);\n",
       "                        }\n",
       "                        break;\n",
       "                    }\n",
       "                }\n",
       "            }, 500);\n",
       "            "
      ],
      "text/plain": [
       "<IPython.core.display.Javascript object>"
      ]
     },
     "metadata": {},
     "output_type": "display_data"
    }
   ],
   "source": [
    "input_df = model.process_input_data()"
   ]
  },
  {
   "cell_type": "code",
   "execution_count": 13,
   "id": "fbe67997",
   "metadata": {},
   "outputs": [
    {
     "data": {
      "text/html": [
       "<div>\n",
       "<style scoped>\n",
       "    .dataframe tbody tr th:only-of-type {\n",
       "        vertical-align: middle;\n",
       "    }\n",
       "\n",
       "    .dataframe tbody tr th {\n",
       "        vertical-align: top;\n",
       "    }\n",
       "\n",
       "    .dataframe thead th {\n",
       "        text-align: right;\n",
       "    }\n",
       "</style>\n",
       "<table border=\"1\" class=\"dataframe\">\n",
       "  <thead>\n",
       "    <tr style=\"text-align: right;\">\n",
       "      <th></th>\n",
       "      <th>productid</th>\n",
       "      <th>embedding</th>\n",
       "      <th>asin</th>\n",
       "      <th>1</th>\n",
       "      <th>2</th>\n",
       "      <th>3</th>\n",
       "      <th>4</th>\n",
       "      <th>5</th>\n",
       "    </tr>\n",
       "  </thead>\n",
       "  <tbody>\n",
       "    <tr>\n",
       "      <th>0</th>\n",
       "      <td>2398095</td>\n",
       "      <td>[0.00202922, 0.00146059, -0.00227462, -0.00132...</td>\n",
       "      <td>2398095</td>\n",
       "      <td>18</td>\n",
       "      <td>7</td>\n",
       "      <td>20</td>\n",
       "      <td>44</td>\n",
       "      <td>98</td>\n",
       "    </tr>\n",
       "    <tr>\n",
       "      <th>1</th>\n",
       "      <td>2457747</td>\n",
       "      <td>[0.00181557, 0.00132517, -0.000414258, 0.00052...</td>\n",
       "      <td>2457747</td>\n",
       "      <td>12</td>\n",
       "      <td>4</td>\n",
       "      <td>6</td>\n",
       "      <td>23</td>\n",
       "      <td>48</td>\n",
       "    </tr>\n",
       "    <tr>\n",
       "      <th>2</th>\n",
       "      <td>2629881</td>\n",
       "      <td>[0.00351794, 0.000763518, -0.00173591, 0.00375...</td>\n",
       "      <td>2629881</td>\n",
       "      <td>12</td>\n",
       "      <td>8</td>\n",
       "      <td>18</td>\n",
       "      <td>37</td>\n",
       "      <td>93</td>\n",
       "    </tr>\n",
       "    <tr>\n",
       "      <th>3</th>\n",
       "      <td>2621353</td>\n",
       "      <td>[-0.00260368, 0.000267733, 0.000311891, 0.0001...</td>\n",
       "      <td>2621353</td>\n",
       "      <td>6</td>\n",
       "      <td>2</td>\n",
       "      <td>4</td>\n",
       "      <td>48</td>\n",
       "      <td>153</td>\n",
       "    </tr>\n",
       "    <tr>\n",
       "      <th>4</th>\n",
       "      <td>1222540</td>\n",
       "      <td>[-0.00325687, -0.00082967, 0.000803526, -0.000...</td>\n",
       "      <td>1222540</td>\n",
       "      <td>15</td>\n",
       "      <td>4</td>\n",
       "      <td>6</td>\n",
       "      <td>27</td>\n",
       "      <td>147</td>\n",
       "    </tr>\n",
       "  </tbody>\n",
       "</table>\n",
       "</div>"
      ],
      "text/plain": [
       "   productid                                          embedding     asin   1  \\\n",
       "0    2398095  [0.00202922, 0.00146059, -0.00227462, -0.00132...  2398095  18   \n",
       "1    2457747  [0.00181557, 0.00132517, -0.000414258, 0.00052...  2457747  12   \n",
       "2    2629881  [0.00351794, 0.000763518, -0.00173591, 0.00375...  2629881  12   \n",
       "3    2621353  [-0.00260368, 0.000267733, 0.000311891, 0.0001...  2621353   6   \n",
       "4    1222540  [-0.00325687, -0.00082967, 0.000803526, -0.000...  1222540  15   \n",
       "\n",
       "   2   3   4    5  \n",
       "0  7  20  44   98  \n",
       "1  4   6  23   48  \n",
       "2  8  18  37   93  \n",
       "3  2   4  48  153  \n",
       "4  4   6  27  147  "
      ]
     },
     "execution_count": 13,
     "metadata": {},
     "output_type": "execute_result"
    },
    {
     "data": {
      "application/javascript": [
       "\n",
       "            setTimeout(function() {\n",
       "                var nbb_cell_id = 13;\n",
       "                var nbb_unformatted_code = \"input_df.head()\";\n",
       "                var nbb_formatted_code = \"input_df.head()\";\n",
       "                var nbb_cells = Jupyter.notebook.get_cells();\n",
       "                for (var i = 0; i < nbb_cells.length; ++i) {\n",
       "                    if (nbb_cells[i].input_prompt_number == nbb_cell_id) {\n",
       "                        if (nbb_cells[i].get_text() == nbb_unformatted_code) {\n",
       "                             nbb_cells[i].set_text(nbb_formatted_code);\n",
       "                        }\n",
       "                        break;\n",
       "                    }\n",
       "                }\n",
       "            }, 500);\n",
       "            "
      ],
      "text/plain": [
       "<IPython.core.display.Javascript object>"
      ]
     },
     "metadata": {},
     "output_type": "display_data"
    }
   ],
   "source": [
    "input_df.head()"
   ]
  },
  {
   "cell_type": "code",
   "execution_count": 14,
   "id": "36884d87",
   "metadata": {},
   "outputs": [
    {
     "name": "stdout",
     "output_type": "stream",
     "text": [
      "Train set size: torch.Size([12225]), Validation set size: torch.Size([1359])\n"
     ]
    },
    {
     "data": {
      "application/javascript": [
       "\n",
       "            setTimeout(function() {\n",
       "                var nbb_cell_id = 14;\n",
       "                var nbb_unformatted_code = \"(\\n    ratings,\\n    embeddings,\\n    train_loader,\\n    val_loader,\\n    train_indices,\\n    val_indices,\\n) = model.create_training_data(input_df, validation_frac=0.1, batch_size=100)\";\n",
       "                var nbb_formatted_code = \"(\\n    ratings,\\n    embeddings,\\n    train_loader,\\n    val_loader,\\n    train_indices,\\n    val_indices,\\n) = model.create_training_data(input_df, validation_frac=0.1, batch_size=100)\";\n",
       "                var nbb_cells = Jupyter.notebook.get_cells();\n",
       "                for (var i = 0; i < nbb_cells.length; ++i) {\n",
       "                    if (nbb_cells[i].input_prompt_number == nbb_cell_id) {\n",
       "                        if (nbb_cells[i].get_text() == nbb_unformatted_code) {\n",
       "                             nbb_cells[i].set_text(nbb_formatted_code);\n",
       "                        }\n",
       "                        break;\n",
       "                    }\n",
       "                }\n",
       "            }, 500);\n",
       "            "
      ],
      "text/plain": [
       "<IPython.core.display.Javascript object>"
      ]
     },
     "metadata": {},
     "output_type": "display_data"
    }
   ],
   "source": [
    "(\n",
    "    ratings,\n",
    "    embeddings,\n",
    "    train_loader,\n",
    "    val_loader,\n",
    "    train_indices,\n",
    "    val_indices,\n",
    ") = model.create_training_data(input_df, validation_frac=0.1, batch_size=100)"
   ]
  },
  {
   "cell_type": "code",
   "execution_count": 15,
   "id": "b584c58d",
   "metadata": {},
   "outputs": [
    {
     "name": "stdout",
     "output_type": "stream",
     "text": [
      "Train Loss after epoch: 0: 28.415787710490157\n",
      "Validation loss after epoch: 0: 21.02843053732136\n",
      "Train Loss after epoch: 10: 5.372712991476546\n",
      "Validation loss after epoch: 10: 5.32020234816034\n",
      "Train Loss after epoch: 20: 5.27960138184405\n",
      "Validation loss after epoch: 20: 5.436587175786101\n",
      "Train Loss after epoch: 30: 5.232209293388881\n",
      "Validation loss after epoch: 30: 5.523943778256268\n",
      "Stopping after epoch 30 as validation loss was not improving further\n",
      "Training process has finished.\n",
      "Best loss: 5.32020234816034\n"
     ]
    },
    {
     "data": {
      "application/javascript": [
       "\n",
       "            setTimeout(function() {\n",
       "                var nbb_cell_id = 15;\n",
       "                var nbb_unformatted_code = \"model.fit(\\n    train_loader,\\n    val_loader,\\n    train_indices,\\n    val_indices,\\n    print_per_num_epochs=10,\\n    convergence_num_epochs=20,\\n)\";\n",
       "                var nbb_formatted_code = \"model.fit(\\n    train_loader,\\n    val_loader,\\n    train_indices,\\n    val_indices,\\n    print_per_num_epochs=10,\\n    convergence_num_epochs=20,\\n)\";\n",
       "                var nbb_cells = Jupyter.notebook.get_cells();\n",
       "                for (var i = 0; i < nbb_cells.length; ++i) {\n",
       "                    if (nbb_cells[i].input_prompt_number == nbb_cell_id) {\n",
       "                        if (nbb_cells[i].get_text() == nbb_unformatted_code) {\n",
       "                             nbb_cells[i].set_text(nbb_formatted_code);\n",
       "                        }\n",
       "                        break;\n",
       "                    }\n",
       "                }\n",
       "            }, 500);\n",
       "            "
      ],
      "text/plain": [
       "<IPython.core.display.Javascript object>"
      ]
     },
     "metadata": {},
     "output_type": "display_data"
    }
   ],
   "source": [
    "model.fit(\n",
    "    train_loader,\n",
    "    val_loader,\n",
    "    train_indices,\n",
    "    val_indices,\n",
    "    print_per_num_epochs=10,\n",
    "    convergence_num_epochs=20,\n",
    ")"
   ]
  },
  {
   "cell_type": "code",
   "execution_count": 16,
   "id": "2d0843d3",
   "metadata": {},
   "outputs": [
    {
     "name": "stdout",
     "output_type": "stream",
     "text": [
      "Baseline loss: 5.8484721183776855 and NN model loss: 5.32020234816034\n",
      "Loss improved by 9.032611846923828 percent due to NN model\n"
     ]
    },
    {
     "data": {
      "application/javascript": [
       "\n",
       "            setTimeout(function() {\n",
       "                var nbb_cell_id = 16;\n",
       "                var nbb_unformatted_code = \"model.baseline_comparison(ratings, embeddings, val_indices)\";\n",
       "                var nbb_formatted_code = \"model.baseline_comparison(ratings, embeddings, val_indices)\";\n",
       "                var nbb_cells = Jupyter.notebook.get_cells();\n",
       "                for (var i = 0; i < nbb_cells.length; ++i) {\n",
       "                    if (nbb_cells[i].input_prompt_number == nbb_cell_id) {\n",
       "                        if (nbb_cells[i].get_text() == nbb_unformatted_code) {\n",
       "                             nbb_cells[i].set_text(nbb_formatted_code);\n",
       "                        }\n",
       "                        break;\n",
       "                    }\n",
       "                }\n",
       "            }, 500);\n",
       "            "
      ],
      "text/plain": [
       "<IPython.core.display.Javascript object>"
      ]
     },
     "metadata": {},
     "output_type": "display_data"
    }
   ],
   "source": [
    "model.baseline_comparison(ratings, embeddings, val_indices)"
   ]
  },
  {
   "cell_type": "code",
   "execution_count": 17,
   "id": "014356e8",
   "metadata": {},
   "outputs": [
    {
     "data": {
      "application/javascript": [
       "\n",
       "            setTimeout(function() {\n",
       "                var nbb_cell_id = 17;\n",
       "                var nbb_unformatted_code = \"model.save()\";\n",
       "                var nbb_formatted_code = \"model.save()\";\n",
       "                var nbb_cells = Jupyter.notebook.get_cells();\n",
       "                for (var i = 0; i < nbb_cells.length; ++i) {\n",
       "                    if (nbb_cells[i].input_prompt_number == nbb_cell_id) {\n",
       "                        if (nbb_cells[i].get_text() == nbb_unformatted_code) {\n",
       "                             nbb_cells[i].set_text(nbb_formatted_code);\n",
       "                        }\n",
       "                        break;\n",
       "                    }\n",
       "                }\n",
       "            }, 500);\n",
       "            "
      ],
      "text/plain": [
       "<IPython.core.display.Javascript object>"
      ]
     },
     "metadata": {},
     "output_type": "display_data"
    }
   ],
   "source": [
    "model.save()"
   ]
  },
  {
   "cell_type": "markdown",
   "id": "76618173",
   "metadata": {},
   "source": [
    "# Testing out model to go from embeddings to pageviews (Rough)"
   ]
  },
  {
   "cell_type": "code",
   "execution_count": 6,
   "id": "831a6e0f",
   "metadata": {},
   "outputs": [
    {
     "data": {
      "application/javascript": [
       "\n",
       "            setTimeout(function() {\n",
       "                var nbb_cell_id = 6;\n",
       "                var nbb_unformatted_code = \"artifact_path = Path(\\\"../artifacts/marketplace\\\")\";\n",
       "                var nbb_formatted_code = \"artifact_path = Path(\\\"../artifacts/marketplace\\\")\";\n",
       "                var nbb_cells = Jupyter.notebook.get_cells();\n",
       "                for (var i = 0; i < nbb_cells.length; ++i) {\n",
       "                    if (nbb_cells[i].input_prompt_number == nbb_cell_id) {\n",
       "                        if (nbb_cells[i].get_text() == nbb_unformatted_code) {\n",
       "                             nbb_cells[i].set_text(nbb_formatted_code);\n",
       "                        }\n",
       "                        break;\n",
       "                    }\n",
       "                }\n",
       "            }, 500);\n",
       "            "
      ],
      "text/plain": [
       "<IPython.core.display.Javascript object>"
      ]
     },
     "metadata": {},
     "output_type": "display_data"
    }
   ],
   "source": [
    "artifact_path = Path(\"../artifacts/marketplace\")"
   ]
  },
  {
   "cell_type": "code",
   "execution_count": 7,
   "id": "3d65f6c5",
   "metadata": {},
   "outputs": [
    {
     "data": {
      "application/javascript": [
       "\n",
       "            setTimeout(function() {\n",
       "                var nbb_cell_id = 7;\n",
       "                var nbb_unformatted_code = \"product_embeddings = pd.read_csv(\\n    artifact_path / \\\"productspace.tsv\\\", sep=\\\"\\\\t\\\", header=None\\n)\";\n",
       "                var nbb_formatted_code = \"product_embeddings = pd.read_csv(\\n    artifact_path / \\\"productspace.tsv\\\", sep=\\\"\\\\t\\\", header=None\\n)\";\n",
       "                var nbb_cells = Jupyter.notebook.get_cells();\n",
       "                for (var i = 0; i < nbb_cells.length; ++i) {\n",
       "                    if (nbb_cells[i].input_prompt_number == nbb_cell_id) {\n",
       "                        if (nbb_cells[i].get_text() == nbb_unformatted_code) {\n",
       "                             nbb_cells[i].set_text(nbb_formatted_code);\n",
       "                        }\n",
       "                        break;\n",
       "                    }\n",
       "                }\n",
       "            }, 500);\n",
       "            "
      ],
      "text/plain": [
       "<IPython.core.display.Javascript object>"
      ]
     },
     "metadata": {},
     "output_type": "display_data"
    }
   ],
   "source": [
    "product_embeddings = pd.read_csv(\n",
    "    artifact_path / \"productspace.tsv\", sep=\"\\t\", header=None\n",
    ")"
   ]
  },
  {
   "cell_type": "code",
   "execution_count": 8,
   "id": "ee389aca",
   "metadata": {},
   "outputs": [
    {
     "data": {
      "text/html": [
       "<div>\n",
       "<style scoped>\n",
       "    .dataframe tbody tr th:only-of-type {\n",
       "        vertical-align: middle;\n",
       "    }\n",
       "\n",
       "    .dataframe tbody tr th {\n",
       "        vertical-align: top;\n",
       "    }\n",
       "\n",
       "    .dataframe thead th {\n",
       "        text-align: right;\n",
       "    }\n",
       "</style>\n",
       "<table border=\"1\" class=\"dataframe\">\n",
       "  <thead>\n",
       "    <tr style=\"text-align: right;\">\n",
       "      <th></th>\n",
       "      <th>0</th>\n",
       "      <th>1</th>\n",
       "      <th>2</th>\n",
       "      <th>3</th>\n",
       "      <th>4</th>\n",
       "      <th>5</th>\n",
       "      <th>6</th>\n",
       "      <th>7</th>\n",
       "      <th>8</th>\n",
       "      <th>9</th>\n",
       "      <th>...</th>\n",
       "      <th>91</th>\n",
       "      <th>92</th>\n",
       "      <th>93</th>\n",
       "      <th>94</th>\n",
       "      <th>95</th>\n",
       "      <th>96</th>\n",
       "      <th>97</th>\n",
       "      <th>98</th>\n",
       "      <th>99</th>\n",
       "      <th>100</th>\n",
       "    </tr>\n",
       "  </thead>\n",
       "  <tbody>\n",
       "    <tr>\n",
       "      <th>0</th>\n",
       "      <td>product_2398095</td>\n",
       "      <td>-0.002865</td>\n",
       "      <td>-0.000684</td>\n",
       "      <td>-0.002542</td>\n",
       "      <td>0.000363</td>\n",
       "      <td>0.001849</td>\n",
       "      <td>-0.000197</td>\n",
       "      <td>0.000414</td>\n",
       "      <td>0.001950</td>\n",
       "      <td>0.001000</td>\n",
       "      <td>...</td>\n",
       "      <td>-0.001147</td>\n",
       "      <td>0.003627</td>\n",
       "      <td>0.001287</td>\n",
       "      <td>-0.002112</td>\n",
       "      <td>-0.000647</td>\n",
       "      <td>0.001532</td>\n",
       "      <td>-0.002348</td>\n",
       "      <td>0.000829</td>\n",
       "      <td>0.001892</td>\n",
       "      <td>-0.001235</td>\n",
       "    </tr>\n",
       "    <tr>\n",
       "      <th>1</th>\n",
       "      <td>product_2629881</td>\n",
       "      <td>0.000149</td>\n",
       "      <td>0.000130</td>\n",
       "      <td>-0.002689</td>\n",
       "      <td>-0.001459</td>\n",
       "      <td>-0.003907</td>\n",
       "      <td>0.000796</td>\n",
       "      <td>0.000057</td>\n",
       "      <td>0.002814</td>\n",
       "      <td>0.001077</td>\n",
       "      <td>...</td>\n",
       "      <td>0.001290</td>\n",
       "      <td>-0.001631</td>\n",
       "      <td>0.003712</td>\n",
       "      <td>-0.001252</td>\n",
       "      <td>-0.003690</td>\n",
       "      <td>0.000729</td>\n",
       "      <td>-0.000253</td>\n",
       "      <td>0.000953</td>\n",
       "      <td>0.004037</td>\n",
       "      <td>0.001679</td>\n",
       "    </tr>\n",
       "    <tr>\n",
       "      <th>2</th>\n",
       "      <td>product_2457747</td>\n",
       "      <td>-0.001216</td>\n",
       "      <td>-0.001465</td>\n",
       "      <td>-0.000563</td>\n",
       "      <td>0.000217</td>\n",
       "      <td>-0.000914</td>\n",
       "      <td>0.003162</td>\n",
       "      <td>0.002207</td>\n",
       "      <td>0.001228</td>\n",
       "      <td>0.000646</td>\n",
       "      <td>...</td>\n",
       "      <td>-0.002007</td>\n",
       "      <td>0.001928</td>\n",
       "      <td>0.002116</td>\n",
       "      <td>0.000269</td>\n",
       "      <td>-0.005268</td>\n",
       "      <td>0.000809</td>\n",
       "      <td>-0.000618</td>\n",
       "      <td>0.000699</td>\n",
       "      <td>0.003755</td>\n",
       "      <td>0.002715</td>\n",
       "    </tr>\n",
       "    <tr>\n",
       "      <th>3</th>\n",
       "      <td>product_2621353</td>\n",
       "      <td>0.001424</td>\n",
       "      <td>-0.004153</td>\n",
       "      <td>-0.002410</td>\n",
       "      <td>-0.000560</td>\n",
       "      <td>-0.000457</td>\n",
       "      <td>0.001612</td>\n",
       "      <td>-0.001776</td>\n",
       "      <td>-0.002652</td>\n",
       "      <td>0.000789</td>\n",
       "      <td>...</td>\n",
       "      <td>-0.000363</td>\n",
       "      <td>0.000071</td>\n",
       "      <td>0.003910</td>\n",
       "      <td>-0.002214</td>\n",
       "      <td>-0.006162</td>\n",
       "      <td>-0.003735</td>\n",
       "      <td>-0.002113</td>\n",
       "      <td>-0.001779</td>\n",
       "      <td>0.002668</td>\n",
       "      <td>-0.004281</td>\n",
       "    </tr>\n",
       "    <tr>\n",
       "      <th>4</th>\n",
       "      <td>product_2598651</td>\n",
       "      <td>-0.001779</td>\n",
       "      <td>-0.002445</td>\n",
       "      <td>-0.000949</td>\n",
       "      <td>0.001655</td>\n",
       "      <td>-0.001750</td>\n",
       "      <td>0.000759</td>\n",
       "      <td>-0.001145</td>\n",
       "      <td>0.002253</td>\n",
       "      <td>0.002503</td>\n",
       "      <td>...</td>\n",
       "      <td>0.000995</td>\n",
       "      <td>0.001093</td>\n",
       "      <td>0.000251</td>\n",
       "      <td>-0.000303</td>\n",
       "      <td>-0.001561</td>\n",
       "      <td>0.000930</td>\n",
       "      <td>0.000132</td>\n",
       "      <td>-0.003390</td>\n",
       "      <td>0.002718</td>\n",
       "      <td>0.000591</td>\n",
       "    </tr>\n",
       "  </tbody>\n",
       "</table>\n",
       "<p>5 rows × 101 columns</p>\n",
       "</div>"
      ],
      "text/plain": [
       "               0         1         2         3         4         5    \\\n",
       "0  product_2398095 -0.002865 -0.000684 -0.002542  0.000363  0.001849   \n",
       "1  product_2629881  0.000149  0.000130 -0.002689 -0.001459 -0.003907   \n",
       "2  product_2457747 -0.001216 -0.001465 -0.000563  0.000217 -0.000914   \n",
       "3  product_2621353  0.001424 -0.004153 -0.002410 -0.000560 -0.000457   \n",
       "4  product_2598651 -0.001779 -0.002445 -0.000949  0.001655 -0.001750   \n",
       "\n",
       "        6         7         8         9    ...       91        92        93   \\\n",
       "0 -0.000197  0.000414  0.001950  0.001000  ... -0.001147  0.003627  0.001287   \n",
       "1  0.000796  0.000057  0.002814  0.001077  ...  0.001290 -0.001631  0.003712   \n",
       "2  0.003162  0.002207  0.001228  0.000646  ... -0.002007  0.001928  0.002116   \n",
       "3  0.001612 -0.001776 -0.002652  0.000789  ... -0.000363  0.000071  0.003910   \n",
       "4  0.000759 -0.001145  0.002253  0.002503  ...  0.000995  0.001093  0.000251   \n",
       "\n",
       "        94        95        96        97        98        99        100  \n",
       "0 -0.002112 -0.000647  0.001532 -0.002348  0.000829  0.001892 -0.001235  \n",
       "1 -0.001252 -0.003690  0.000729 -0.000253  0.000953  0.004037  0.001679  \n",
       "2  0.000269 -0.005268  0.000809 -0.000618  0.000699  0.003755  0.002715  \n",
       "3 -0.002214 -0.006162 -0.003735 -0.002113 -0.001779  0.002668 -0.004281  \n",
       "4 -0.000303 -0.001561  0.000930  0.000132 -0.003390  0.002718  0.000591  \n",
       "\n",
       "[5 rows x 101 columns]"
      ]
     },
     "execution_count": 8,
     "metadata": {},
     "output_type": "execute_result"
    },
    {
     "data": {
      "application/javascript": [
       "\n",
       "            setTimeout(function() {\n",
       "                var nbb_cell_id = 8;\n",
       "                var nbb_unformatted_code = \"product_embeddings.head()\";\n",
       "                var nbb_formatted_code = \"product_embeddings.head()\";\n",
       "                var nbb_cells = Jupyter.notebook.get_cells();\n",
       "                for (var i = 0; i < nbb_cells.length; ++i) {\n",
       "                    if (nbb_cells[i].input_prompt_number == nbb_cell_id) {\n",
       "                        if (nbb_cells[i].get_text() == nbb_unformatted_code) {\n",
       "                             nbb_cells[i].set_text(nbb_formatted_code);\n",
       "                        }\n",
       "                        break;\n",
       "                    }\n",
       "                }\n",
       "            }, 500);\n",
       "            "
      ],
      "text/plain": [
       "<IPython.core.display.Javascript object>"
      ]
     },
     "metadata": {},
     "output_type": "display_data"
    }
   ],
   "source": [
    "product_embeddings.head()"
   ]
  },
  {
   "cell_type": "code",
   "execution_count": 9,
   "id": "01adcf78",
   "metadata": {},
   "outputs": [
    {
     "name": "stderr",
     "output_type": "stream",
     "text": [
      "/opt/conda/lib/python3.8/site-packages/IPython/core/interactiveshell.py:3165: DtypeWarning: Columns (6) have mixed types.Specify dtype option on import or set low_memory=False.\n",
      "  has_raised = await self.run_ast_nodes(code_ast.body, cell_name,\n"
     ]
    },
    {
     "data": {
      "text/html": [
       "<div>\n",
       "<style scoped>\n",
       "    .dataframe tbody tr th:only-of-type {\n",
       "        vertical-align: middle;\n",
       "    }\n",
       "\n",
       "    .dataframe tbody tr th {\n",
       "        vertical-align: top;\n",
       "    }\n",
       "\n",
       "    .dataframe thead th {\n",
       "        text-align: right;\n",
       "    }\n",
       "</style>\n",
       "<table border=\"1\" class=\"dataframe\">\n",
       "  <thead>\n",
       "    <tr style=\"text-align: right;\">\n",
       "      <th></th>\n",
       "      <th>productid</th>\n",
       "      <th>VisitTimeStamp</th>\n",
       "      <th>ThisProductPurchased</th>\n",
       "      <th>ProductPrice</th>\n",
       "      <th>ProductAvgReview</th>\n",
       "      <th>ProductNumberOfReviews</th>\n",
       "      <th>bvid</th>\n",
       "      <th>hasheduaip</th>\n",
       "      <th>loadid</th>\n",
       "      <th>type</th>\n",
       "      <th>IDofMostRecentReview</th>\n",
       "      <th>WhetherMostRecentReviewWasSeen</th>\n",
       "      <th>ProductsSeen</th>\n",
       "    </tr>\n",
       "  </thead>\n",
       "  <tbody>\n",
       "    <tr>\n",
       "      <th>0</th>\n",
       "      <td>3550887.0</td>\n",
       "      <td>2015-03-14 13:05:09</td>\n",
       "      <td>f</td>\n",
       "      <td>\\N</td>\n",
       "      <td>0.0000</td>\n",
       "      <td>0.0</td>\n",
       "      <td>00001e38-2c31-479e-b9ee-0078bd38244e</td>\n",
       "      <td>NaN</td>\n",
       "      <td>e49d814b3f03f1cd</td>\n",
       "      <td>Product</td>\n",
       "      <td>47118474</td>\n",
       "      <td>t</td>\n",
       "      <td>3550887,2399166,2476773</td>\n",
       "    </tr>\n",
       "    <tr>\n",
       "      <th>1</th>\n",
       "      <td>3550887.0</td>\n",
       "      <td>2015-03-14 13:05:09</td>\n",
       "      <td>f</td>\n",
       "      <td>\\N</td>\n",
       "      <td>NaN</td>\n",
       "      <td>NaN</td>\n",
       "      <td>00001e38-2c31-479e-b9ee-0078bd38244e</td>\n",
       "      <td>NaN</td>\n",
       "      <td>e49d814b3f03f1cd</td>\n",
       "      <td>Product</td>\n",
       "      <td>47118474</td>\n",
       "      <td>t</td>\n",
       "      <td>3550887,2399166,2476773</td>\n",
       "    </tr>\n",
       "    <tr>\n",
       "      <th>2</th>\n",
       "      <td>2399166.0</td>\n",
       "      <td>2015-03-14 13:04:13</td>\n",
       "      <td>f</td>\n",
       "      <td>\\N</td>\n",
       "      <td>4.0000</td>\n",
       "      <td>3.0</td>\n",
       "      <td>00001e38-2c31-479e-b9ee-0078bd38244e</td>\n",
       "      <td>NaN</td>\n",
       "      <td>406e5ed51bb94425</td>\n",
       "      <td>Product</td>\n",
       "      <td>42593044</td>\n",
       "      <td>t</td>\n",
       "      <td>3550887,2399166,2476773</td>\n",
       "    </tr>\n",
       "    <tr>\n",
       "      <th>3</th>\n",
       "      <td>2399166.0</td>\n",
       "      <td>2015-03-14 13:04:13</td>\n",
       "      <td>f</td>\n",
       "      <td>\\N</td>\n",
       "      <td>NaN</td>\n",
       "      <td>NaN</td>\n",
       "      <td>00001e38-2c31-479e-b9ee-0078bd38244e</td>\n",
       "      <td>NaN</td>\n",
       "      <td>406e5ed51bb94425</td>\n",
       "      <td>Product</td>\n",
       "      <td>42593044</td>\n",
       "      <td>t</td>\n",
       "      <td>3550887,2399166,2476773</td>\n",
       "    </tr>\n",
       "    <tr>\n",
       "      <th>4</th>\n",
       "      <td>2476773.0</td>\n",
       "      <td>2015-03-14 12:52:48</td>\n",
       "      <td>f</td>\n",
       "      <td>249.99</td>\n",
       "      <td>4.3333</td>\n",
       "      <td>3.0</td>\n",
       "      <td>00001e38-2c31-479e-b9ee-0078bd38244e</td>\n",
       "      <td>NaN</td>\n",
       "      <td>badbb477b8d204d1</td>\n",
       "      <td>Product</td>\n",
       "      <td>47115055</td>\n",
       "      <td>f</td>\n",
       "      <td>3550887,2399166,2476773</td>\n",
       "    </tr>\n",
       "  </tbody>\n",
       "</table>\n",
       "</div>"
      ],
      "text/plain": [
       "   productid       VisitTimeStamp ThisProductPurchased ProductPrice  \\\n",
       "0  3550887.0  2015-03-14 13:05:09                    f           \\N   \n",
       "1  3550887.0  2015-03-14 13:05:09                    f           \\N   \n",
       "2  2399166.0  2015-03-14 13:04:13                    f           \\N   \n",
       "3  2399166.0  2015-03-14 13:04:13                    f           \\N   \n",
       "4  2476773.0  2015-03-14 12:52:48                    f       249.99   \n",
       "\n",
       "   ProductAvgReview  ProductNumberOfReviews  \\\n",
       "0            0.0000                     0.0   \n",
       "1               NaN                     NaN   \n",
       "2            4.0000                     3.0   \n",
       "3               NaN                     NaN   \n",
       "4            4.3333                     3.0   \n",
       "\n",
       "                                   bvid hasheduaip            loadid     type  \\\n",
       "0  00001e38-2c31-479e-b9ee-0078bd38244e        NaN  e49d814b3f03f1cd  Product   \n",
       "1  00001e38-2c31-479e-b9ee-0078bd38244e        NaN  e49d814b3f03f1cd  Product   \n",
       "2  00001e38-2c31-479e-b9ee-0078bd38244e        NaN  406e5ed51bb94425  Product   \n",
       "3  00001e38-2c31-479e-b9ee-0078bd38244e        NaN  406e5ed51bb94425  Product   \n",
       "4  00001e38-2c31-479e-b9ee-0078bd38244e        NaN  badbb477b8d204d1  Product   \n",
       "\n",
       "  IDofMostRecentReview WhetherMostRecentReviewWasSeen             ProductsSeen  \n",
       "0             47118474                              t  3550887,2399166,2476773  \n",
       "1             47118474                              t  3550887,2399166,2476773  \n",
       "2             42593044                              t  3550887,2399166,2476773  \n",
       "3             42593044                              t  3550887,2399166,2476773  \n",
       "4             47115055                              f  3550887,2399166,2476773  "
      ]
     },
     "execution_count": 9,
     "metadata": {},
     "output_type": "execute_result"
    },
    {
     "data": {
      "application/javascript": [
       "\n",
       "            setTimeout(function() {\n",
       "                var nbb_cell_id = 9;\n",
       "                var nbb_unformatted_code = \"summaries = pd.read_csv(artifact_path / \\\"pageview_summaries.txt\\\", sep=\\\"\\\\t\\\")\\nsummaries.head()\";\n",
       "                var nbb_formatted_code = \"summaries = pd.read_csv(artifact_path / \\\"pageview_summaries.txt\\\", sep=\\\"\\\\t\\\")\\nsummaries.head()\";\n",
       "                var nbb_cells = Jupyter.notebook.get_cells();\n",
       "                for (var i = 0; i < nbb_cells.length; ++i) {\n",
       "                    if (nbb_cells[i].input_prompt_number == nbb_cell_id) {\n",
       "                        if (nbb_cells[i].get_text() == nbb_unformatted_code) {\n",
       "                             nbb_cells[i].set_text(nbb_formatted_code);\n",
       "                        }\n",
       "                        break;\n",
       "                    }\n",
       "                }\n",
       "            }, 500);\n",
       "            "
      ],
      "text/plain": [
       "<IPython.core.display.Javascript object>"
      ]
     },
     "metadata": {},
     "output_type": "display_data"
    }
   ],
   "source": [
    "summaries = pd.read_csv(artifact_path / \"pageview_summaries.txt\", sep=\"\\t\")\n",
    "summaries.head()"
   ]
  },
  {
   "cell_type": "code",
   "execution_count": 10,
   "id": "d9b065f9",
   "metadata": {},
   "outputs": [
    {
     "data": {
      "text/plain": [
       "0.6319944359347751"
      ]
     },
     "execution_count": 10,
     "metadata": {},
     "output_type": "execute_result"
    },
    {
     "data": {
      "application/javascript": [
       "\n",
       "            setTimeout(function() {\n",
       "                var nbb_cell_id = 10;\n",
       "                var nbb_unformatted_code = \"summaries.ProductAvgReview.isnull().mean()\";\n",
       "                var nbb_formatted_code = \"summaries.ProductAvgReview.isnull().mean()\";\n",
       "                var nbb_cells = Jupyter.notebook.get_cells();\n",
       "                for (var i = 0; i < nbb_cells.length; ++i) {\n",
       "                    if (nbb_cells[i].input_prompt_number == nbb_cell_id) {\n",
       "                        if (nbb_cells[i].get_text() == nbb_unformatted_code) {\n",
       "                             nbb_cells[i].set_text(nbb_formatted_code);\n",
       "                        }\n",
       "                        break;\n",
       "                    }\n",
       "                }\n",
       "            }, 500);\n",
       "            "
      ],
      "text/plain": [
       "<IPython.core.display.Javascript object>"
      ]
     },
     "metadata": {},
     "output_type": "display_data"
    }
   ],
   "source": [
    "summaries.ProductAvgReview.isnull().mean()"
   ]
  },
  {
   "cell_type": "code",
   "execution_count": 11,
   "id": "0d53d466",
   "metadata": {},
   "outputs": [
    {
     "data": {
      "text/plain": [
       "0.1104329871864942"
      ]
     },
     "execution_count": 11,
     "metadata": {},
     "output_type": "execute_result"
    },
    {
     "data": {
      "application/javascript": [
       "\n",
       "            setTimeout(function() {\n",
       "                var nbb_cell_id = 11;\n",
       "                var nbb_unformatted_code = \"summaries.drop_duplicates(subset=\\\"productid\\\").ProductAvgReview.isnull().mean()\";\n",
       "                var nbb_formatted_code = \"summaries.drop_duplicates(subset=\\\"productid\\\").ProductAvgReview.isnull().mean()\";\n",
       "                var nbb_cells = Jupyter.notebook.get_cells();\n",
       "                for (var i = 0; i < nbb_cells.length; ++i) {\n",
       "                    if (nbb_cells[i].input_prompt_number == nbb_cell_id) {\n",
       "                        if (nbb_cells[i].get_text() == nbb_unformatted_code) {\n",
       "                             nbb_cells[i].set_text(nbb_formatted_code);\n",
       "                        }\n",
       "                        break;\n",
       "                    }\n",
       "                }\n",
       "            }, 500);\n",
       "            "
      ],
      "text/plain": [
       "<IPython.core.display.Javascript object>"
      ]
     },
     "metadata": {},
     "output_type": "display_data"
    }
   ],
   "source": [
    "summaries.drop_duplicates(subset=\"productid\").ProductAvgReview.isnull().mean()"
   ]
  },
  {
   "cell_type": "code",
   "execution_count": 12,
   "id": "13093f6f",
   "metadata": {},
   "outputs": [
    {
     "data": {
      "text/plain": [
       "(32934, 13)"
      ]
     },
     "execution_count": 12,
     "metadata": {},
     "output_type": "execute_result"
    },
    {
     "data": {
      "application/javascript": [
       "\n",
       "            setTimeout(function() {\n",
       "                var nbb_cell_id = 12;\n",
       "                var nbb_unformatted_code = \"summaries.drop_duplicates(subset=\\\"productid\\\").shape\";\n",
       "                var nbb_formatted_code = \"summaries.drop_duplicates(subset=\\\"productid\\\").shape\";\n",
       "                var nbb_cells = Jupyter.notebook.get_cells();\n",
       "                for (var i = 0; i < nbb_cells.length; ++i) {\n",
       "                    if (nbb_cells[i].input_prompt_number == nbb_cell_id) {\n",
       "                        if (nbb_cells[i].get_text() == nbb_unformatted_code) {\n",
       "                             nbb_cells[i].set_text(nbb_formatted_code);\n",
       "                        }\n",
       "                        break;\n",
       "                    }\n",
       "                }\n",
       "            }, 500);\n",
       "            "
      ],
      "text/plain": [
       "<IPython.core.display.Javascript object>"
      ]
     },
     "metadata": {},
     "output_type": "display_data"
    }
   ],
   "source": [
    "summaries.drop_duplicates(subset=\"productid\").shape"
   ]
  },
  {
   "cell_type": "code",
   "execution_count": 13,
   "id": "04a721e4",
   "metadata": {},
   "outputs": [
    {
     "name": "stdout",
     "output_type": "stream",
     "text": [
      "(13090, 13) count    13090.000000\n",
      "mean         4.188428\n",
      "std          0.769877\n",
      "min          1.000000\n",
      "25%          3.991225\n",
      "50%          4.346200\n",
      "75%          4.692300\n",
      "max          5.000000\n",
      "Name: ProductAvgReview, dtype: float64\n"
     ]
    },
    {
     "data": {
      "application/javascript": [
       "\n",
       "            setTimeout(function() {\n",
       "                var nbb_cell_id = 13;\n",
       "                var nbb_unformatted_code = \"summaries = summaries.drop_duplicates(subset=[\\\"productid\\\"])\\nsummaries = summaries.dropna(subset=[\\\"ProductAvgReview\\\"])\\nsummaries = summaries.loc[summaries.ProductAvgReview != 0, :]\\nprint(summaries.shape, summaries.ProductAvgReview.describe())\";\n",
       "                var nbb_formatted_code = \"summaries = summaries.drop_duplicates(subset=[\\\"productid\\\"])\\nsummaries = summaries.dropna(subset=[\\\"ProductAvgReview\\\"])\\nsummaries = summaries.loc[summaries.ProductAvgReview != 0, :]\\nprint(summaries.shape, summaries.ProductAvgReview.describe())\";\n",
       "                var nbb_cells = Jupyter.notebook.get_cells();\n",
       "                for (var i = 0; i < nbb_cells.length; ++i) {\n",
       "                    if (nbb_cells[i].input_prompt_number == nbb_cell_id) {\n",
       "                        if (nbb_cells[i].get_text() == nbb_unformatted_code) {\n",
       "                             nbb_cells[i].set_text(nbb_formatted_code);\n",
       "                        }\n",
       "                        break;\n",
       "                    }\n",
       "                }\n",
       "            }, 500);\n",
       "            "
      ],
      "text/plain": [
       "<IPython.core.display.Javascript object>"
      ]
     },
     "metadata": {},
     "output_type": "display_data"
    }
   ],
   "source": [
    "summaries = summaries.drop_duplicates(subset=[\"productid\"])\n",
    "summaries = summaries.dropna(subset=[\"ProductAvgReview\"])\n",
    "summaries = summaries.loc[summaries.ProductAvgReview != 0, :]\n",
    "print(summaries.shape, summaries.ProductAvgReview.describe())"
   ]
  },
  {
   "cell_type": "code",
   "execution_count": 14,
   "id": "c4fac342",
   "metadata": {},
   "outputs": [
    {
     "data": {
      "text/html": [
       "<div>\n",
       "<style scoped>\n",
       "    .dataframe tbody tr th:only-of-type {\n",
       "        vertical-align: middle;\n",
       "    }\n",
       "\n",
       "    .dataframe tbody tr th {\n",
       "        vertical-align: top;\n",
       "    }\n",
       "\n",
       "    .dataframe thead th {\n",
       "        text-align: right;\n",
       "    }\n",
       "</style>\n",
       "<table border=\"1\" class=\"dataframe\">\n",
       "  <thead>\n",
       "    <tr style=\"text-align: right;\">\n",
       "      <th></th>\n",
       "      <th>VisitTimeStamp</th>\n",
       "      <th>ThisProductPurchased</th>\n",
       "      <th>ProductPrice</th>\n",
       "      <th>ProductAvgReview</th>\n",
       "      <th>ProductNumberOfReviews</th>\n",
       "      <th>bvid</th>\n",
       "      <th>hasheduaip</th>\n",
       "      <th>loadid</th>\n",
       "      <th>type</th>\n",
       "      <th>IDofMostRecentReview</th>\n",
       "      <th>WhetherMostRecentReviewWasSeen</th>\n",
       "      <th>ProductsSeen</th>\n",
       "    </tr>\n",
       "    <tr>\n",
       "      <th>productid</th>\n",
       "      <th></th>\n",
       "      <th></th>\n",
       "      <th></th>\n",
       "      <th></th>\n",
       "      <th></th>\n",
       "      <th></th>\n",
       "      <th></th>\n",
       "      <th></th>\n",
       "      <th></th>\n",
       "      <th></th>\n",
       "      <th></th>\n",
       "      <th></th>\n",
       "    </tr>\n",
       "  </thead>\n",
       "  <tbody>\n",
       "    <tr>\n",
       "      <th>2399166.0</th>\n",
       "      <td>2015-03-14 13:04:13</td>\n",
       "      <td>f</td>\n",
       "      <td>\\N</td>\n",
       "      <td>4.0000</td>\n",
       "      <td>3.0</td>\n",
       "      <td>00001e38-2c31-479e-b9ee-0078bd38244e</td>\n",
       "      <td>NaN</td>\n",
       "      <td>406e5ed51bb94425</td>\n",
       "      <td>Product</td>\n",
       "      <td>42593044</td>\n",
       "      <td>t</td>\n",
       "      <td>3550887,2399166,2476773</td>\n",
       "    </tr>\n",
       "    <tr>\n",
       "      <th>2476773.0</th>\n",
       "      <td>2015-03-14 12:52:48</td>\n",
       "      <td>f</td>\n",
       "      <td>249.99</td>\n",
       "      <td>4.3333</td>\n",
       "      <td>3.0</td>\n",
       "      <td>00001e38-2c31-479e-b9ee-0078bd38244e</td>\n",
       "      <td>NaN</td>\n",
       "      <td>badbb477b8d204d1</td>\n",
       "      <td>Product</td>\n",
       "      <td>47115055</td>\n",
       "      <td>f</td>\n",
       "      <td>3550887,2399166,2476773</td>\n",
       "    </tr>\n",
       "    <tr>\n",
       "      <th>3191040.0</th>\n",
       "      <td>2015-03-04 13:25:22</td>\n",
       "      <td>f</td>\n",
       "      <td>269.99</td>\n",
       "      <td>4.3333</td>\n",
       "      <td>33.0</td>\n",
       "      <td>00004e69-01d5-4f8a-89e2-e2d5a40836f9</td>\n",
       "      <td>NaN</td>\n",
       "      <td>731e25598da004834</td>\n",
       "      <td>Product</td>\n",
       "      <td>46613093</td>\n",
       "      <td>f</td>\n",
       "      <td>1374467,1393840,3191040</td>\n",
       "    </tr>\n",
       "    <tr>\n",
       "      <th>1393840.0</th>\n",
       "      <td>2015-03-04 13:24:13</td>\n",
       "      <td>f</td>\n",
       "      <td>\\N</td>\n",
       "      <td>4.7917</td>\n",
       "      <td>24.0</td>\n",
       "      <td>00004e69-01d5-4f8a-89e2-e2d5a40836f9</td>\n",
       "      <td>NaN</td>\n",
       "      <td>212fe1b0840a0e3eabe</td>\n",
       "      <td>Product</td>\n",
       "      <td>47066146</td>\n",
       "      <td>t</td>\n",
       "      <td>1374467,1393840,3191040</td>\n",
       "    </tr>\n",
       "    <tr>\n",
       "      <th>2441715.0</th>\n",
       "      <td>2015-03-19 20:29:55</td>\n",
       "      <td>f</td>\n",
       "      <td>\\N</td>\n",
       "      <td>3.8182</td>\n",
       "      <td>11.0</td>\n",
       "      <td>00005a3b-632d-4c59-9aa6-abed8781e164</td>\n",
       "      <td>NaN</td>\n",
       "      <td>6b91d66b3b8ede223c</td>\n",
       "      <td>Product</td>\n",
       "      <td>47083216</td>\n",
       "      <td>t</td>\n",
       "      <td>2441715</td>\n",
       "    </tr>\n",
       "  </tbody>\n",
       "</table>\n",
       "</div>"
      ],
      "text/plain": [
       "                VisitTimeStamp ThisProductPurchased ProductPrice  \\\n",
       "productid                                                          \n",
       "2399166.0  2015-03-14 13:04:13                    f           \\N   \n",
       "2476773.0  2015-03-14 12:52:48                    f       249.99   \n",
       "3191040.0  2015-03-04 13:25:22                    f       269.99   \n",
       "1393840.0  2015-03-04 13:24:13                    f           \\N   \n",
       "2441715.0  2015-03-19 20:29:55                    f           \\N   \n",
       "\n",
       "           ProductAvgReview  ProductNumberOfReviews  \\\n",
       "productid                                             \n",
       "2399166.0            4.0000                     3.0   \n",
       "2476773.0            4.3333                     3.0   \n",
       "3191040.0            4.3333                    33.0   \n",
       "1393840.0            4.7917                    24.0   \n",
       "2441715.0            3.8182                    11.0   \n",
       "\n",
       "                                           bvid hasheduaip  \\\n",
       "productid                                                    \n",
       "2399166.0  00001e38-2c31-479e-b9ee-0078bd38244e        NaN   \n",
       "2476773.0  00001e38-2c31-479e-b9ee-0078bd38244e        NaN   \n",
       "3191040.0  00004e69-01d5-4f8a-89e2-e2d5a40836f9        NaN   \n",
       "1393840.0  00004e69-01d5-4f8a-89e2-e2d5a40836f9        NaN   \n",
       "2441715.0  00005a3b-632d-4c59-9aa6-abed8781e164        NaN   \n",
       "\n",
       "                        loadid     type IDofMostRecentReview  \\\n",
       "productid                                                      \n",
       "2399166.0     406e5ed51bb94425  Product             42593044   \n",
       "2476773.0     badbb477b8d204d1  Product             47115055   \n",
       "3191040.0    731e25598da004834  Product             46613093   \n",
       "1393840.0  212fe1b0840a0e3eabe  Product             47066146   \n",
       "2441715.0   6b91d66b3b8ede223c  Product             47083216   \n",
       "\n",
       "          WhetherMostRecentReviewWasSeen             ProductsSeen  \n",
       "productid                                                          \n",
       "2399166.0                              t  3550887,2399166,2476773  \n",
       "2476773.0                              f  3550887,2399166,2476773  \n",
       "3191040.0                              f  1374467,1393840,3191040  \n",
       "1393840.0                              t  1374467,1393840,3191040  \n",
       "2441715.0                              t                  2441715  "
      ]
     },
     "execution_count": 14,
     "metadata": {},
     "output_type": "execute_result"
    },
    {
     "data": {
      "application/javascript": [
       "\n",
       "            setTimeout(function() {\n",
       "                var nbb_cell_id = 14;\n",
       "                var nbb_unformatted_code = \"summaries.set_index(\\\"productid\\\", inplace=True)\\nsummaries.head()\";\n",
       "                var nbb_formatted_code = \"summaries.set_index(\\\"productid\\\", inplace=True)\\nsummaries.head()\";\n",
       "                var nbb_cells = Jupyter.notebook.get_cells();\n",
       "                for (var i = 0; i < nbb_cells.length; ++i) {\n",
       "                    if (nbb_cells[i].input_prompt_number == nbb_cell_id) {\n",
       "                        if (nbb_cells[i].get_text() == nbb_unformatted_code) {\n",
       "                             nbb_cells[i].set_text(nbb_formatted_code);\n",
       "                        }\n",
       "                        break;\n",
       "                    }\n",
       "                }\n",
       "            }, 500);\n",
       "            "
      ],
      "text/plain": [
       "<IPython.core.display.Javascript object>"
      ]
     },
     "metadata": {},
     "output_type": "display_data"
    }
   ],
   "source": [
    "summaries.set_index(\"productid\", inplace=True)\n",
    "summaries.head()"
   ]
  },
  {
   "cell_type": "code",
   "execution_count": 15,
   "id": "29bbf426",
   "metadata": {},
   "outputs": [
    {
     "data": {
      "text/plain": [
       "0        2398095\n",
       "1        2629881\n",
       "2        2457747\n",
       "3        2621353\n",
       "4        2598651\n",
       "          ...   \n",
       "31758    3804533\n",
       "31759    3564770\n",
       "31760    2754622\n",
       "31761    3559833\n",
       "31762    3602137\n",
       "Name: 0, Length: 31763, dtype: object"
      ]
     },
     "execution_count": 15,
     "metadata": {},
     "output_type": "execute_result"
    },
    {
     "data": {
      "application/javascript": [
       "\n",
       "            setTimeout(function() {\n",
       "                var nbb_cell_id = 15;\n",
       "                var nbb_unformatted_code = \"product_embeddings[0].str.split(\\\"_\\\").apply(lambda x: x[1])\";\n",
       "                var nbb_formatted_code = \"product_embeddings[0].str.split(\\\"_\\\").apply(lambda x: x[1])\";\n",
       "                var nbb_cells = Jupyter.notebook.get_cells();\n",
       "                for (var i = 0; i < nbb_cells.length; ++i) {\n",
       "                    if (nbb_cells[i].input_prompt_number == nbb_cell_id) {\n",
       "                        if (nbb_cells[i].get_text() == nbb_unformatted_code) {\n",
       "                             nbb_cells[i].set_text(nbb_formatted_code);\n",
       "                        }\n",
       "                        break;\n",
       "                    }\n",
       "                }\n",
       "            }, 500);\n",
       "            "
      ],
      "text/plain": [
       "<IPython.core.display.Javascript object>"
      ]
     },
     "metadata": {},
     "output_type": "display_data"
    }
   ],
   "source": [
    "product_embeddings[0].str.split(\"_\").apply(lambda x: x[1])"
   ]
  },
  {
   "cell_type": "code",
   "execution_count": 16,
   "id": "a7d01576",
   "metadata": {},
   "outputs": [
    {
     "data": {
      "text/plain": [
       "VisitTimeStamp                                     2015-03-14 13:04:13\n",
       "ThisProductPurchased                                                 f\n",
       "ProductPrice                                                        \\N\n",
       "ProductAvgReview                                                   4.0\n",
       "ProductNumberOfReviews                                             3.0\n",
       "bvid                              00001e38-2c31-479e-b9ee-0078bd38244e\n",
       "hasheduaip                                                         NaN\n",
       "loadid                                                406e5ed51bb94425\n",
       "type                                                           Product\n",
       "IDofMostRecentReview                                          42593044\n",
       "WhetherMostRecentReviewWasSeen                                       t\n",
       "ProductsSeen                                   3550887,2399166,2476773\n",
       "Name: 2399166.0, dtype: object"
      ]
     },
     "execution_count": 16,
     "metadata": {},
     "output_type": "execute_result"
    },
    {
     "data": {
      "application/javascript": [
       "\n",
       "            setTimeout(function() {\n",
       "                var nbb_cell_id = 16;\n",
       "                var nbb_unformatted_code = \"# Make a DF array with the product avg ratings and embeddings together\\nsummaries.loc[2399166]\";\n",
       "                var nbb_formatted_code = \"# Make a DF array with the product avg ratings and embeddings together\\nsummaries.loc[2399166]\";\n",
       "                var nbb_cells = Jupyter.notebook.get_cells();\n",
       "                for (var i = 0; i < nbb_cells.length; ++i) {\n",
       "                    if (nbb_cells[i].input_prompt_number == nbb_cell_id) {\n",
       "                        if (nbb_cells[i].get_text() == nbb_unformatted_code) {\n",
       "                             nbb_cells[i].set_text(nbb_formatted_code);\n",
       "                        }\n",
       "                        break;\n",
       "                    }\n",
       "                }\n",
       "            }, 500);\n",
       "            "
      ],
      "text/plain": [
       "<IPython.core.display.Javascript object>"
      ]
     },
     "metadata": {},
     "output_type": "display_data"
    }
   ],
   "source": [
    "# Make a DF array with the product avg ratings and embeddings together\n",
    "summaries.loc[2399166]"
   ]
  },
  {
   "cell_type": "code",
   "execution_count": 17,
   "id": "be6fa1c9",
   "metadata": {},
   "outputs": [
    {
     "data": {
      "application/javascript": [
       "\n",
       "            setTimeout(function() {\n",
       "                var nbb_cell_id = 17;\n",
       "                var nbb_unformatted_code = \"productids = np.array(product_embeddings[0].str.split(\\\"_\\\").apply(lambda x: x[1]))\\nprod_df = pd.DataFrame(\\n    {\\n        \\\"productid\\\": productids,\\n        \\\"ProductAvgReview\\\": [np.nan for _ in range(len(productids))],\\n        \\\"embedding\\\": [\\n            np.array(product_embeddings.iloc[i, 1:]) for i in range(len(productids))\\n        ],\\n    }\\n)\";\n",
       "                var nbb_formatted_code = \"productids = np.array(product_embeddings[0].str.split(\\\"_\\\").apply(lambda x: x[1]))\\nprod_df = pd.DataFrame(\\n    {\\n        \\\"productid\\\": productids,\\n        \\\"ProductAvgReview\\\": [np.nan for _ in range(len(productids))],\\n        \\\"embedding\\\": [\\n            np.array(product_embeddings.iloc[i, 1:]) for i in range(len(productids))\\n        ],\\n    }\\n)\";\n",
       "                var nbb_cells = Jupyter.notebook.get_cells();\n",
       "                for (var i = 0; i < nbb_cells.length; ++i) {\n",
       "                    if (nbb_cells[i].input_prompt_number == nbb_cell_id) {\n",
       "                        if (nbb_cells[i].get_text() == nbb_unformatted_code) {\n",
       "                             nbb_cells[i].set_text(nbb_formatted_code);\n",
       "                        }\n",
       "                        break;\n",
       "                    }\n",
       "                }\n",
       "            }, 500);\n",
       "            "
      ],
      "text/plain": [
       "<IPython.core.display.Javascript object>"
      ]
     },
     "metadata": {},
     "output_type": "display_data"
    }
   ],
   "source": [
    "productids = np.array(product_embeddings[0].str.split(\"_\").apply(lambda x: x[1]))\n",
    "prod_df = pd.DataFrame(\n",
    "    {\n",
    "        \"productid\": productids,\n",
    "        \"ProductAvgReview\": [np.nan for _ in range(len(productids))],\n",
    "        \"embedding\": [\n",
    "            np.array(product_embeddings.iloc[i, 1:]) for i in range(len(productids))\n",
    "        ],\n",
    "    }\n",
    ")"
   ]
  },
  {
   "cell_type": "code",
   "execution_count": 18,
   "id": "db6ef1a8",
   "metadata": {},
   "outputs": [
    {
     "data": {
      "text/html": [
       "<div>\n",
       "<style scoped>\n",
       "    .dataframe tbody tr th:only-of-type {\n",
       "        vertical-align: middle;\n",
       "    }\n",
       "\n",
       "    .dataframe tbody tr th {\n",
       "        vertical-align: top;\n",
       "    }\n",
       "\n",
       "    .dataframe thead th {\n",
       "        text-align: right;\n",
       "    }\n",
       "</style>\n",
       "<table border=\"1\" class=\"dataframe\">\n",
       "  <thead>\n",
       "    <tr style=\"text-align: right;\">\n",
       "      <th></th>\n",
       "      <th>productid</th>\n",
       "      <th>ProductAvgReview</th>\n",
       "      <th>embedding</th>\n",
       "    </tr>\n",
       "  </thead>\n",
       "  <tbody>\n",
       "    <tr>\n",
       "      <th>0</th>\n",
       "      <td>2398095</td>\n",
       "      <td>NaN</td>\n",
       "      <td>[-0.00286502, -0.000683531, -0.00254245, 0.000...</td>\n",
       "    </tr>\n",
       "    <tr>\n",
       "      <th>1</th>\n",
       "      <td>2629881</td>\n",
       "      <td>NaN</td>\n",
       "      <td>[0.000149213, 0.000130302, -0.00268912, -0.001...</td>\n",
       "    </tr>\n",
       "    <tr>\n",
       "      <th>2</th>\n",
       "      <td>2457747</td>\n",
       "      <td>NaN</td>\n",
       "      <td>[-0.00121576, -0.00146537, -0.000562893, 0.000...</td>\n",
       "    </tr>\n",
       "    <tr>\n",
       "      <th>3</th>\n",
       "      <td>2621353</td>\n",
       "      <td>NaN</td>\n",
       "      <td>[0.00142444, -0.00415343, -0.00240984, -0.0005...</td>\n",
       "    </tr>\n",
       "    <tr>\n",
       "      <th>4</th>\n",
       "      <td>2598651</td>\n",
       "      <td>NaN</td>\n",
       "      <td>[-0.00177867, -0.00244505, -0.000948648, 0.001...</td>\n",
       "    </tr>\n",
       "  </tbody>\n",
       "</table>\n",
       "</div>"
      ],
      "text/plain": [
       "  productid  ProductAvgReview  \\\n",
       "0   2398095               NaN   \n",
       "1   2629881               NaN   \n",
       "2   2457747               NaN   \n",
       "3   2621353               NaN   \n",
       "4   2598651               NaN   \n",
       "\n",
       "                                           embedding  \n",
       "0  [-0.00286502, -0.000683531, -0.00254245, 0.000...  \n",
       "1  [0.000149213, 0.000130302, -0.00268912, -0.001...  \n",
       "2  [-0.00121576, -0.00146537, -0.000562893, 0.000...  \n",
       "3  [0.00142444, -0.00415343, -0.00240984, -0.0005...  \n",
       "4  [-0.00177867, -0.00244505, -0.000948648, 0.001...  "
      ]
     },
     "execution_count": 18,
     "metadata": {},
     "output_type": "execute_result"
    },
    {
     "data": {
      "application/javascript": [
       "\n",
       "            setTimeout(function() {\n",
       "                var nbb_cell_id = 18;\n",
       "                var nbb_unformatted_code = \"prod_df.head()\";\n",
       "                var nbb_formatted_code = \"prod_df.head()\";\n",
       "                var nbb_cells = Jupyter.notebook.get_cells();\n",
       "                for (var i = 0; i < nbb_cells.length; ++i) {\n",
       "                    if (nbb_cells[i].input_prompt_number == nbb_cell_id) {\n",
       "                        if (nbb_cells[i].get_text() == nbb_unformatted_code) {\n",
       "                             nbb_cells[i].set_text(nbb_formatted_code);\n",
       "                        }\n",
       "                        break;\n",
       "                    }\n",
       "                }\n",
       "            }, 500);\n",
       "            "
      ],
      "text/plain": [
       "<IPython.core.display.Javascript object>"
      ]
     },
     "metadata": {},
     "output_type": "display_data"
    }
   ],
   "source": [
    "prod_df.head()"
   ]
  },
  {
   "cell_type": "code",
   "execution_count": 19,
   "id": "38102f8b",
   "metadata": {},
   "outputs": [
    {
     "name": "stderr",
     "output_type": "stream",
     "text": [
      "<ipython-input-19-b4e2a6fe254e>:4: SettingWithCopyWarning: \n",
      "A value is trying to be set on a copy of a slice from a DataFrame\n",
      "\n",
      "See the caveats in the documentation: https://pandas.pydata.org/pandas-docs/stable/user_guide/indexing.html#returning-a-view-versus-a-copy\n",
      "  prod_df[\"ProductAvgReview\"][i] = summaries.loc[prod][\"ProductAvgReview\"]\n"
     ]
    },
    {
     "data": {
      "application/javascript": [
       "\n",
       "            setTimeout(function() {\n",
       "                var nbb_cell_id = 19;\n",
       "                var nbb_unformatted_code = \"for i in range(prod_df.shape[0]):\\n    prod = int(prod_df[\\\"productid\\\"][i])\\n    try:\\n        prod_df[\\\"ProductAvgReview\\\"][i] = summaries.loc[prod][\\\"ProductAvgReview\\\"]\\n    except:\\n        continue\";\n",
       "                var nbb_formatted_code = \"for i in range(prod_df.shape[0]):\\n    prod = int(prod_df[\\\"productid\\\"][i])\\n    try:\\n        prod_df[\\\"ProductAvgReview\\\"][i] = summaries.loc[prod][\\\"ProductAvgReview\\\"]\\n    except:\\n        continue\";\n",
       "                var nbb_cells = Jupyter.notebook.get_cells();\n",
       "                for (var i = 0; i < nbb_cells.length; ++i) {\n",
       "                    if (nbb_cells[i].input_prompt_number == nbb_cell_id) {\n",
       "                        if (nbb_cells[i].get_text() == nbb_unformatted_code) {\n",
       "                             nbb_cells[i].set_text(nbb_formatted_code);\n",
       "                        }\n",
       "                        break;\n",
       "                    }\n",
       "                }\n",
       "            }, 500);\n",
       "            "
      ],
      "text/plain": [
       "<IPython.core.display.Javascript object>"
      ]
     },
     "metadata": {},
     "output_type": "display_data"
    }
   ],
   "source": [
    "for i in range(prod_df.shape[0]):\n",
    "    prod = int(prod_df[\"productid\"][i])\n",
    "    try:\n",
    "        prod_df[\"ProductAvgReview\"][i] = summaries.loc[prod][\"ProductAvgReview\"]\n",
    "    except:\n",
    "        continue"
   ]
  },
  {
   "cell_type": "code",
   "execution_count": 20,
   "id": "a3c0d124",
   "metadata": {},
   "outputs": [
    {
     "data": {
      "text/plain": [
       "0.5928596165349621"
      ]
     },
     "execution_count": 20,
     "metadata": {},
     "output_type": "execute_result"
    },
    {
     "data": {
      "application/javascript": [
       "\n",
       "            setTimeout(function() {\n",
       "                var nbb_cell_id = 20;\n",
       "                var nbb_unformatted_code = \"prod_df.ProductAvgReview.isnull().mean()\";\n",
       "                var nbb_formatted_code = \"prod_df.ProductAvgReview.isnull().mean()\";\n",
       "                var nbb_cells = Jupyter.notebook.get_cells();\n",
       "                for (var i = 0; i < nbb_cells.length; ++i) {\n",
       "                    if (nbb_cells[i].input_prompt_number == nbb_cell_id) {\n",
       "                        if (nbb_cells[i].get_text() == nbb_unformatted_code) {\n",
       "                             nbb_cells[i].set_text(nbb_formatted_code);\n",
       "                        }\n",
       "                        break;\n",
       "                    }\n",
       "                }\n",
       "            }, 500);\n",
       "            "
      ],
      "text/plain": [
       "<IPython.core.display.Javascript object>"
      ]
     },
     "metadata": {},
     "output_type": "display_data"
    }
   ],
   "source": [
    "prod_df.ProductAvgReview.isnull().mean()"
   ]
  },
  {
   "cell_type": "code",
   "execution_count": 21,
   "id": "7582c2d4",
   "metadata": {},
   "outputs": [
    {
     "name": "stdout",
     "output_type": "stream",
     "text": [
      "(31763, 3)\n"
     ]
    },
    {
     "data": {
      "text/html": [
       "<div>\n",
       "<style scoped>\n",
       "    .dataframe tbody tr th:only-of-type {\n",
       "        vertical-align: middle;\n",
       "    }\n",
       "\n",
       "    .dataframe tbody tr th {\n",
       "        vertical-align: top;\n",
       "    }\n",
       "\n",
       "    .dataframe thead th {\n",
       "        text-align: right;\n",
       "    }\n",
       "</style>\n",
       "<table border=\"1\" class=\"dataframe\">\n",
       "  <thead>\n",
       "    <tr style=\"text-align: right;\">\n",
       "      <th></th>\n",
       "      <th>productid</th>\n",
       "      <th>ProductAvgReview</th>\n",
       "      <th>embedding</th>\n",
       "    </tr>\n",
       "  </thead>\n",
       "  <tbody>\n",
       "    <tr>\n",
       "      <th>0</th>\n",
       "      <td>2398095</td>\n",
       "      <td>NaN</td>\n",
       "      <td>[-0.00286502, -0.000683531, -0.00254245, 0.000...</td>\n",
       "    </tr>\n",
       "    <tr>\n",
       "      <th>1</th>\n",
       "      <td>2629881</td>\n",
       "      <td>4.2888</td>\n",
       "      <td>[0.000149213, 0.000130302, -0.00268912, -0.001...</td>\n",
       "    </tr>\n",
       "    <tr>\n",
       "      <th>2</th>\n",
       "      <td>2457747</td>\n",
       "      <td>4.1667</td>\n",
       "      <td>[-0.00121576, -0.00146537, -0.000562893, 0.000...</td>\n",
       "    </tr>\n",
       "    <tr>\n",
       "      <th>3</th>\n",
       "      <td>2621353</td>\n",
       "      <td>4.6929</td>\n",
       "      <td>[0.00142444, -0.00415343, -0.00240984, -0.0005...</td>\n",
       "    </tr>\n",
       "    <tr>\n",
       "      <th>4</th>\n",
       "      <td>2598651</td>\n",
       "      <td>4.0964</td>\n",
       "      <td>[-0.00177867, -0.00244505, -0.000948648, 0.001...</td>\n",
       "    </tr>\n",
       "  </tbody>\n",
       "</table>\n",
       "</div>"
      ],
      "text/plain": [
       "  productid  ProductAvgReview  \\\n",
       "0   2398095               NaN   \n",
       "1   2629881            4.2888   \n",
       "2   2457747            4.1667   \n",
       "3   2621353            4.6929   \n",
       "4   2598651            4.0964   \n",
       "\n",
       "                                           embedding  \n",
       "0  [-0.00286502, -0.000683531, -0.00254245, 0.000...  \n",
       "1  [0.000149213, 0.000130302, -0.00268912, -0.001...  \n",
       "2  [-0.00121576, -0.00146537, -0.000562893, 0.000...  \n",
       "3  [0.00142444, -0.00415343, -0.00240984, -0.0005...  \n",
       "4  [-0.00177867, -0.00244505, -0.000948648, 0.001...  "
      ]
     },
     "execution_count": 21,
     "metadata": {},
     "output_type": "execute_result"
    },
    {
     "data": {
      "application/javascript": [
       "\n",
       "            setTimeout(function() {\n",
       "                var nbb_cell_id = 21;\n",
       "                var nbb_unformatted_code = \"print(prod_df.shape)\\nprod_df.head()\";\n",
       "                var nbb_formatted_code = \"print(prod_df.shape)\\nprod_df.head()\";\n",
       "                var nbb_cells = Jupyter.notebook.get_cells();\n",
       "                for (var i = 0; i < nbb_cells.length; ++i) {\n",
       "                    if (nbb_cells[i].input_prompt_number == nbb_cell_id) {\n",
       "                        if (nbb_cells[i].get_text() == nbb_unformatted_code) {\n",
       "                             nbb_cells[i].set_text(nbb_formatted_code);\n",
       "                        }\n",
       "                        break;\n",
       "                    }\n",
       "                }\n",
       "            }, 500);\n",
       "            "
      ],
      "text/plain": [
       "<IPython.core.display.Javascript object>"
      ]
     },
     "metadata": {},
     "output_type": "display_data"
    }
   ],
   "source": [
    "print(prod_df.shape)\n",
    "prod_df.head()"
   ]
  },
  {
   "cell_type": "code",
   "execution_count": 22,
   "id": "c89ee4c5",
   "metadata": {},
   "outputs": [
    {
     "data": {
      "text/plain": [
       "(12932, 3)"
      ]
     },
     "execution_count": 22,
     "metadata": {},
     "output_type": "execute_result"
    },
    {
     "data": {
      "application/javascript": [
       "\n",
       "            setTimeout(function() {\n",
       "                var nbb_cell_id = 22;\n",
       "                var nbb_unformatted_code = \"prod_df.dropna(subset=[\\\"ProductAvgReview\\\"], inplace=True)\\nprod_df.shape\";\n",
       "                var nbb_formatted_code = \"prod_df.dropna(subset=[\\\"ProductAvgReview\\\"], inplace=True)\\nprod_df.shape\";\n",
       "                var nbb_cells = Jupyter.notebook.get_cells();\n",
       "                for (var i = 0; i < nbb_cells.length; ++i) {\n",
       "                    if (nbb_cells[i].input_prompt_number == nbb_cell_id) {\n",
       "                        if (nbb_cells[i].get_text() == nbb_unformatted_code) {\n",
       "                             nbb_cells[i].set_text(nbb_formatted_code);\n",
       "                        }\n",
       "                        break;\n",
       "                    }\n",
       "                }\n",
       "            }, 500);\n",
       "            "
      ],
      "text/plain": [
       "<IPython.core.display.Javascript object>"
      ]
     },
     "metadata": {},
     "output_type": "display_data"
    }
   ],
   "source": [
    "prod_df.dropna(subset=[\"ProductAvgReview\"], inplace=True)\n",
    "prod_df.shape"
   ]
  },
  {
   "cell_type": "code",
   "execution_count": 23,
   "id": "c9332d69",
   "metadata": {},
   "outputs": [
    {
     "data": {
      "text/html": [
       "<div>\n",
       "<style scoped>\n",
       "    .dataframe tbody tr th:only-of-type {\n",
       "        vertical-align: middle;\n",
       "    }\n",
       "\n",
       "    .dataframe tbody tr th {\n",
       "        vertical-align: top;\n",
       "    }\n",
       "\n",
       "    .dataframe thead th {\n",
       "        text-align: right;\n",
       "    }\n",
       "</style>\n",
       "<table border=\"1\" class=\"dataframe\">\n",
       "  <thead>\n",
       "    <tr style=\"text-align: right;\">\n",
       "      <th></th>\n",
       "      <th>productid</th>\n",
       "      <th>ProductAvgReview</th>\n",
       "      <th>embedding</th>\n",
       "    </tr>\n",
       "  </thead>\n",
       "  <tbody>\n",
       "    <tr>\n",
       "      <th>1</th>\n",
       "      <td>2629881</td>\n",
       "      <td>4.2888</td>\n",
       "      <td>[0.000149213, 0.000130302, -0.00268912, -0.001...</td>\n",
       "    </tr>\n",
       "    <tr>\n",
       "      <th>2</th>\n",
       "      <td>2457747</td>\n",
       "      <td>4.1667</td>\n",
       "      <td>[-0.00121576, -0.00146537, -0.000562893, 0.000...</td>\n",
       "    </tr>\n",
       "    <tr>\n",
       "      <th>3</th>\n",
       "      <td>2621353</td>\n",
       "      <td>4.6929</td>\n",
       "      <td>[0.00142444, -0.00415343, -0.00240984, -0.0005...</td>\n",
       "    </tr>\n",
       "    <tr>\n",
       "      <th>4</th>\n",
       "      <td>2598651</td>\n",
       "      <td>4.0964</td>\n",
       "      <td>[-0.00177867, -0.00244505, -0.000948648, 0.001...</td>\n",
       "    </tr>\n",
       "    <tr>\n",
       "      <th>5</th>\n",
       "      <td>1222540</td>\n",
       "      <td>4.7787</td>\n",
       "      <td>[0.000938418, -0.00202647, 0.000320231, 0.0012...</td>\n",
       "    </tr>\n",
       "  </tbody>\n",
       "</table>\n",
       "</div>"
      ],
      "text/plain": [
       "  productid  ProductAvgReview  \\\n",
       "1   2629881            4.2888   \n",
       "2   2457747            4.1667   \n",
       "3   2621353            4.6929   \n",
       "4   2598651            4.0964   \n",
       "5   1222540            4.7787   \n",
       "\n",
       "                                           embedding  \n",
       "1  [0.000149213, 0.000130302, -0.00268912, -0.001...  \n",
       "2  [-0.00121576, -0.00146537, -0.000562893, 0.000...  \n",
       "3  [0.00142444, -0.00415343, -0.00240984, -0.0005...  \n",
       "4  [-0.00177867, -0.00244505, -0.000948648, 0.001...  \n",
       "5  [0.000938418, -0.00202647, 0.000320231, 0.0012...  "
      ]
     },
     "execution_count": 23,
     "metadata": {},
     "output_type": "execute_result"
    },
    {
     "data": {
      "application/javascript": [
       "\n",
       "            setTimeout(function() {\n",
       "                var nbb_cell_id = 23;\n",
       "                var nbb_unformatted_code = \"prod_df.head()\";\n",
       "                var nbb_formatted_code = \"prod_df.head()\";\n",
       "                var nbb_cells = Jupyter.notebook.get_cells();\n",
       "                for (var i = 0; i < nbb_cells.length; ++i) {\n",
       "                    if (nbb_cells[i].input_prompt_number == nbb_cell_id) {\n",
       "                        if (nbb_cells[i].get_text() == nbb_unformatted_code) {\n",
       "                             nbb_cells[i].set_text(nbb_formatted_code);\n",
       "                        }\n",
       "                        break;\n",
       "                    }\n",
       "                }\n",
       "            }, 500);\n",
       "            "
      ],
      "text/plain": [
       "<IPython.core.display.Javascript object>"
      ]
     },
     "metadata": {},
     "output_type": "display_data"
    }
   ],
   "source": [
    "prod_df.head()"
   ]
  },
  {
   "cell_type": "markdown",
   "id": "38f94371",
   "metadata": {},
   "source": [
    "# Try linear regression"
   ]
  },
  {
   "cell_type": "code",
   "execution_count": 24,
   "id": "cb305831",
   "metadata": {},
   "outputs": [
    {
     "data": {
      "application/javascript": [
       "\n",
       "            setTimeout(function() {\n",
       "                var nbb_cell_id = 24;\n",
       "                var nbb_unformatted_code = \"from sklearn.linear_model import RidgeCV\\nfrom sklearn.metrics import mean_squared_error\";\n",
       "                var nbb_formatted_code = \"from sklearn.linear_model import RidgeCV\\nfrom sklearn.metrics import mean_squared_error\";\n",
       "                var nbb_cells = Jupyter.notebook.get_cells();\n",
       "                for (var i = 0; i < nbb_cells.length; ++i) {\n",
       "                    if (nbb_cells[i].input_prompt_number == nbb_cell_id) {\n",
       "                        if (nbb_cells[i].get_text() == nbb_unformatted_code) {\n",
       "                             nbb_cells[i].set_text(nbb_formatted_code);\n",
       "                        }\n",
       "                        break;\n",
       "                    }\n",
       "                }\n",
       "            }, 500);\n",
       "            "
      ],
      "text/plain": [
       "<IPython.core.display.Javascript object>"
      ]
     },
     "metadata": {},
     "output_type": "display_data"
    }
   ],
   "source": [
    "from sklearn.linear_model import RidgeCV\n",
    "from sklearn.metrics import mean_squared_error"
   ]
  },
  {
   "cell_type": "code",
   "execution_count": 25,
   "id": "928c6486",
   "metadata": {},
   "outputs": [
    {
     "data": {
      "application/javascript": [
       "\n",
       "            setTimeout(function() {\n",
       "                var nbb_cell_id = 25;\n",
       "                var nbb_unformatted_code = \"model = RidgeCV(alphas=np.arange(100) / 10.0, cv=5)\";\n",
       "                var nbb_formatted_code = \"model = RidgeCV(alphas=np.arange(100) / 10.0, cv=5)\";\n",
       "                var nbb_cells = Jupyter.notebook.get_cells();\n",
       "                for (var i = 0; i < nbb_cells.length; ++i) {\n",
       "                    if (nbb_cells[i].input_prompt_number == nbb_cell_id) {\n",
       "                        if (nbb_cells[i].get_text() == nbb_unformatted_code) {\n",
       "                             nbb_cells[i].set_text(nbb_formatted_code);\n",
       "                        }\n",
       "                        break;\n",
       "                    }\n",
       "                }\n",
       "            }, 500);\n",
       "            "
      ],
      "text/plain": [
       "<IPython.core.display.Javascript object>"
      ]
     },
     "metadata": {},
     "output_type": "display_data"
    }
   ],
   "source": [
    "model = RidgeCV(alphas=np.arange(100) / 10.0, cv=5)"
   ]
  },
  {
   "cell_type": "code",
   "execution_count": 24,
   "id": "38db12c6",
   "metadata": {},
   "outputs": [
    {
     "data": {
      "application/javascript": [
       "\n",
       "            setTimeout(function() {\n",
       "                var nbb_cell_id = 24;\n",
       "                var nbb_unformatted_code = \"embeddings = np.array([np.array(e) for e in prod_df.embedding])\";\n",
       "                var nbb_formatted_code = \"embeddings = np.array([np.array(e) for e in prod_df.embedding])\";\n",
       "                var nbb_cells = Jupyter.notebook.get_cells();\n",
       "                for (var i = 0; i < nbb_cells.length; ++i) {\n",
       "                    if (nbb_cells[i].input_prompt_number == nbb_cell_id) {\n",
       "                        if (nbb_cells[i].get_text() == nbb_unformatted_code) {\n",
       "                             nbb_cells[i].set_text(nbb_formatted_code);\n",
       "                        }\n",
       "                        break;\n",
       "                    }\n",
       "                }\n",
       "            }, 500);\n",
       "            "
      ],
      "text/plain": [
       "<IPython.core.display.Javascript object>"
      ]
     },
     "metadata": {},
     "output_type": "display_data"
    }
   ],
   "source": [
    "embeddings = np.array([np.array(e) for e in prod_df.embedding])"
   ]
  },
  {
   "cell_type": "code",
   "execution_count": 25,
   "id": "979efc2b",
   "metadata": {},
   "outputs": [
    {
     "data": {
      "text/plain": [
       "(12932, 100)"
      ]
     },
     "execution_count": 25,
     "metadata": {},
     "output_type": "execute_result"
    },
    {
     "data": {
      "application/javascript": [
       "\n",
       "            setTimeout(function() {\n",
       "                var nbb_cell_id = 25;\n",
       "                var nbb_unformatted_code = \"embeddings.shape\";\n",
       "                var nbb_formatted_code = \"embeddings.shape\";\n",
       "                var nbb_cells = Jupyter.notebook.get_cells();\n",
       "                for (var i = 0; i < nbb_cells.length; ++i) {\n",
       "                    if (nbb_cells[i].input_prompt_number == nbb_cell_id) {\n",
       "                        if (nbb_cells[i].get_text() == nbb_unformatted_code) {\n",
       "                             nbb_cells[i].set_text(nbb_formatted_code);\n",
       "                        }\n",
       "                        break;\n",
       "                    }\n",
       "                }\n",
       "            }, 500);\n",
       "            "
      ],
      "text/plain": [
       "<IPython.core.display.Javascript object>"
      ]
     },
     "metadata": {},
     "output_type": "display_data"
    }
   ],
   "source": [
    "embeddings.shape"
   ]
  },
  {
   "cell_type": "code",
   "execution_count": 28,
   "id": "26d80cfe",
   "metadata": {},
   "outputs": [
    {
     "data": {
      "text/plain": [
       "RidgeCV(alphas=array([0. , 0.1, 0.2, 0.3, 0.4, 0.5, 0.6, 0.7, 0.8, 0.9, 1. , 1.1, 1.2,\n",
       "       1.3, 1.4, 1.5, 1.6, 1.7, 1.8, 1.9, 2. , 2.1, 2.2, 2.3, 2.4, 2.5,\n",
       "       2.6, 2.7, 2.8, 2.9, 3. , 3.1, 3.2, 3.3, 3.4, 3.5, 3.6, 3.7, 3.8,\n",
       "       3.9, 4. , 4.1, 4.2, 4.3, 4.4, 4.5, 4.6, 4.7, 4.8, 4.9, 5. , 5.1,\n",
       "       5.2, 5.3, 5.4, 5.5, 5.6, 5.7, 5.8, 5.9, 6. , 6.1, 6.2, 6.3, 6.4,\n",
       "       6.5, 6.6, 6.7, 6.8, 6.9, 7. , 7.1, 7.2, 7.3, 7.4, 7.5, 7.6, 7.7,\n",
       "       7.8, 7.9, 8. , 8.1, 8.2, 8.3, 8.4, 8.5, 8.6, 8.7, 8.8, 8.9, 9. ,\n",
       "       9.1, 9.2, 9.3, 9.4, 9.5, 9.6, 9.7, 9.8, 9.9]),\n",
       "        cv=5)"
      ]
     },
     "execution_count": 28,
     "metadata": {},
     "output_type": "execute_result"
    },
    {
     "data": {
      "application/javascript": [
       "\n",
       "            setTimeout(function() {\n",
       "                var nbb_cell_id = 28;\n",
       "                var nbb_unformatted_code = \"model.fit(embeddings, np.array(prod_df.ProductAvgReview).astype(\\\"float\\\"))\";\n",
       "                var nbb_formatted_code = \"model.fit(embeddings, np.array(prod_df.ProductAvgReview).astype(\\\"float\\\"))\";\n",
       "                var nbb_cells = Jupyter.notebook.get_cells();\n",
       "                for (var i = 0; i < nbb_cells.length; ++i) {\n",
       "                    if (nbb_cells[i].input_prompt_number == nbb_cell_id) {\n",
       "                        if (nbb_cells[i].get_text() == nbb_unformatted_code) {\n",
       "                             nbb_cells[i].set_text(nbb_formatted_code);\n",
       "                        }\n",
       "                        break;\n",
       "                    }\n",
       "                }\n",
       "            }, 500);\n",
       "            "
      ],
      "text/plain": [
       "<IPython.core.display.Javascript object>"
      ]
     },
     "metadata": {},
     "output_type": "display_data"
    }
   ],
   "source": [
    "model.fit(embeddings, np.array(prod_df.ProductAvgReview).astype(\"float\"))"
   ]
  },
  {
   "cell_type": "code",
   "execution_count": 29,
   "id": "74f30e0b",
   "metadata": {},
   "outputs": [
    {
     "data": {
      "application/javascript": [
       "\n",
       "            setTimeout(function() {\n",
       "                var nbb_cell_id = 29;\n",
       "                var nbb_unformatted_code = \"preds = model.predict(embeddings)\";\n",
       "                var nbb_formatted_code = \"preds = model.predict(embeddings)\";\n",
       "                var nbb_cells = Jupyter.notebook.get_cells();\n",
       "                for (var i = 0; i < nbb_cells.length; ++i) {\n",
       "                    if (nbb_cells[i].input_prompt_number == nbb_cell_id) {\n",
       "                        if (nbb_cells[i].get_text() == nbb_unformatted_code) {\n",
       "                             nbb_cells[i].set_text(nbb_formatted_code);\n",
       "                        }\n",
       "                        break;\n",
       "                    }\n",
       "                }\n",
       "            }, 500);\n",
       "            "
      ],
      "text/plain": [
       "<IPython.core.display.Javascript object>"
      ]
     },
     "metadata": {},
     "output_type": "display_data"
    }
   ],
   "source": [
    "preds = model.predict(embeddings)"
   ]
  },
  {
   "cell_type": "code",
   "execution_count": 30,
   "id": "8df66180",
   "metadata": {},
   "outputs": [
    {
     "data": {
      "text/plain": [
       "0.028058166158505204"
      ]
     },
     "execution_count": 30,
     "metadata": {},
     "output_type": "execute_result"
    },
    {
     "data": {
      "application/javascript": [
       "\n",
       "            setTimeout(function() {\n",
       "                var nbb_cell_id = 30;\n",
       "                var nbb_unformatted_code = \"model.score(embeddings, np.array(prod_df.ProductAvgReview).astype(\\\"float\\\"))\";\n",
       "                var nbb_formatted_code = \"model.score(embeddings, np.array(prod_df.ProductAvgReview).astype(\\\"float\\\"))\";\n",
       "                var nbb_cells = Jupyter.notebook.get_cells();\n",
       "                for (var i = 0; i < nbb_cells.length; ++i) {\n",
       "                    if (nbb_cells[i].input_prompt_number == nbb_cell_id) {\n",
       "                        if (nbb_cells[i].get_text() == nbb_unformatted_code) {\n",
       "                             nbb_cells[i].set_text(nbb_formatted_code);\n",
       "                        }\n",
       "                        break;\n",
       "                    }\n",
       "                }\n",
       "            }, 500);\n",
       "            "
      ],
      "text/plain": [
       "<IPython.core.display.Javascript object>"
      ]
     },
     "metadata": {},
     "output_type": "display_data"
    }
   ],
   "source": [
    "model.score(embeddings, np.array(prod_df.ProductAvgReview).astype(\"float\"))"
   ]
  },
  {
   "cell_type": "code",
   "execution_count": 31,
   "id": "1d4b4f13",
   "metadata": {},
   "outputs": [
    {
     "data": {
      "text/plain": [
       "0.5712711435700967"
      ]
     },
     "execution_count": 31,
     "metadata": {},
     "output_type": "execute_result"
    },
    {
     "data": {
      "application/javascript": [
       "\n",
       "            setTimeout(function() {\n",
       "                var nbb_cell_id = 31;\n",
       "                var nbb_unformatted_code = \"mean_squared_error(preds, np.array(prod_df.ProductAvgReview).astype(\\\"float\\\"))\";\n",
       "                var nbb_formatted_code = \"mean_squared_error(preds, np.array(prod_df.ProductAvgReview).astype(\\\"float\\\"))\";\n",
       "                var nbb_cells = Jupyter.notebook.get_cells();\n",
       "                for (var i = 0; i < nbb_cells.length; ++i) {\n",
       "                    if (nbb_cells[i].input_prompt_number == nbb_cell_id) {\n",
       "                        if (nbb_cells[i].get_text() == nbb_unformatted_code) {\n",
       "                             nbb_cells[i].set_text(nbb_formatted_code);\n",
       "                        }\n",
       "                        break;\n",
       "                    }\n",
       "                }\n",
       "            }, 500);\n",
       "            "
      ],
      "text/plain": [
       "<IPython.core.display.Javascript object>"
      ]
     },
     "metadata": {},
     "output_type": "display_data"
    }
   ],
   "source": [
    "mean_squared_error(preds, np.array(prod_df.ProductAvgReview).astype(\"float\"))"
   ]
  },
  {
   "cell_type": "code",
   "execution_count": 32,
   "id": "1956c4a4",
   "metadata": {},
   "outputs": [
    {
     "data": {
      "text/plain": [
       "<matplotlib.legend.Legend at 0x7fd91fe1bfa0>"
      ]
     },
     "execution_count": 32,
     "metadata": {},
     "output_type": "execute_result"
    },
    {
     "data": {
      "image/png": "[encoded data removed]",
      "text/plain": [
       "<Figure size 432x288 with 1 Axes>"
      ]
     },
     "metadata": {
      "needs_background": "light"
     },
     "output_type": "display_data"
    },
    {
     "data": {
      "application/javascript": [
       "\n",
       "            setTimeout(function() {\n",
       "                var nbb_cell_id = 32;\n",
       "                var nbb_unformatted_code = \"plt.hist(preds, alpha=0.4, label=\\\"Preds\\\")\\nplt.hist(np.array(prod_df.ProductAvgReview).astype(\\\"float\\\"), alpha=0.4, label=\\\"True\\\")\\nplt.legend()\";\n",
       "                var nbb_formatted_code = \"plt.hist(preds, alpha=0.4, label=\\\"Preds\\\")\\nplt.hist(np.array(prod_df.ProductAvgReview).astype(\\\"float\\\"), alpha=0.4, label=\\\"True\\\")\\nplt.legend()\";\n",
       "                var nbb_cells = Jupyter.notebook.get_cells();\n",
       "                for (var i = 0; i < nbb_cells.length; ++i) {\n",
       "                    if (nbb_cells[i].input_prompt_number == nbb_cell_id) {\n",
       "                        if (nbb_cells[i].get_text() == nbb_unformatted_code) {\n",
       "                             nbb_cells[i].set_text(nbb_formatted_code);\n",
       "                        }\n",
       "                        break;\n",
       "                    }\n",
       "                }\n",
       "            }, 500);\n",
       "            "
      ],
      "text/plain": [
       "<IPython.core.display.Javascript object>"
      ]
     },
     "metadata": {},
     "output_type": "display_data"
    }
   ],
   "source": [
    "plt.hist(preds, alpha=0.4, label=\"Preds\")\n",
    "plt.hist(np.array(prod_df.ProductAvgReview).astype(\"float\"), alpha=0.4, label=\"True\")\n",
    "plt.legend()"
   ]
  },
  {
   "cell_type": "markdown",
   "id": "ae76d48a",
   "metadata": {},
   "source": [
    "# Make a simple fully connected NN for this regression problem"
   ]
  },
  {
   "cell_type": "code",
   "execution_count": 93,
   "id": "947f6539",
   "metadata": {},
   "outputs": [
    {
     "data": {
      "application/javascript": [
       "\n",
       "            setTimeout(function() {\n",
       "                var nbb_cell_id = 93;\n",
       "                var nbb_unformatted_code = \"import torch\\nimport torch.optim as optim\\nimport torch.nn as nn\\nfrom torch.utils.data import Dataset, TensorDataset, DataLoader, sampler\\nimport copy\";\n",
       "                var nbb_formatted_code = \"import torch\\nimport torch.optim as optim\\nimport torch.nn as nn\\nfrom torch.utils.data import Dataset, TensorDataset, DataLoader, sampler\\nimport copy\";\n",
       "                var nbb_cells = Jupyter.notebook.get_cells();\n",
       "                for (var i = 0; i < nbb_cells.length; ++i) {\n",
       "                    if (nbb_cells[i].input_prompt_number == nbb_cell_id) {\n",
       "                        if (nbb_cells[i].get_text() == nbb_unformatted_code) {\n",
       "                             nbb_cells[i].set_text(nbb_formatted_code);\n",
       "                        }\n",
       "                        break;\n",
       "                    }\n",
       "                }\n",
       "            }, 500);\n",
       "            "
      ],
      "text/plain": [
       "<IPython.core.display.Javascript object>"
      ]
     },
     "metadata": {},
     "output_type": "display_data"
    }
   ],
   "source": [
    "import torch\n",
    "import torch.optim as optim\n",
    "import torch.nn as nn\n",
    "from torch.utils.data import Dataset, TensorDataset, DataLoader, sampler\n",
    "import copy"
   ]
  },
  {
   "cell_type": "code",
   "execution_count": 107,
   "id": "4e3173e5",
   "metadata": {},
   "outputs": [
    {
     "data": {
      "application/javascript": [
       "\n",
       "            setTimeout(function() {\n",
       "                var nbb_cell_id = 107;\n",
       "                var nbb_unformatted_code = \"modules = [\\n    torch.nn.Linear(100, 64),\\n    torch.nn.LeakyReLU(),\\n    torch.nn.Linear(64, 32),\\n    torch.nn.LeakyReLU(),\\n    torch.nn.Linear(32, 1),\\n]\";\n",
       "                var nbb_formatted_code = \"modules = [\\n    torch.nn.Linear(100, 64),\\n    torch.nn.LeakyReLU(),\\n    torch.nn.Linear(64, 32),\\n    torch.nn.LeakyReLU(),\\n    torch.nn.Linear(32, 1),\\n]\";\n",
       "                var nbb_cells = Jupyter.notebook.get_cells();\n",
       "                for (var i = 0; i < nbb_cells.length; ++i) {\n",
       "                    if (nbb_cells[i].input_prompt_number == nbb_cell_id) {\n",
       "                        if (nbb_cells[i].get_text() == nbb_unformatted_code) {\n",
       "                             nbb_cells[i].set_text(nbb_formatted_code);\n",
       "                        }\n",
       "                        break;\n",
       "                    }\n",
       "                }\n",
       "            }, 500);\n",
       "            "
      ],
      "text/plain": [
       "<IPython.core.display.Javascript object>"
      ]
     },
     "metadata": {},
     "output_type": "display_data"
    }
   ],
   "source": [
    "modules = [\n",
    "    torch.nn.Linear(100, 64),\n",
    "    torch.nn.LeakyReLU(),\n",
    "    torch.nn.Linear(64, 32),\n",
    "    torch.nn.LeakyReLU(),\n",
    "    torch.nn.Linear(32, 1),\n",
    "]"
   ]
  },
  {
   "cell_type": "code",
   "execution_count": 108,
   "id": "1c418f7c",
   "metadata": {},
   "outputs": [
    {
     "data": {
      "application/javascript": [
       "\n",
       "            setTimeout(function() {\n",
       "                var nbb_cell_id = 108;\n",
       "                var nbb_unformatted_code = \"net = torch.nn.Sequential(*modules)\";\n",
       "                var nbb_formatted_code = \"net = torch.nn.Sequential(*modules)\";\n",
       "                var nbb_cells = Jupyter.notebook.get_cells();\n",
       "                for (var i = 0; i < nbb_cells.length; ++i) {\n",
       "                    if (nbb_cells[i].input_prompt_number == nbb_cell_id) {\n",
       "                        if (nbb_cells[i].get_text() == nbb_unformatted_code) {\n",
       "                             nbb_cells[i].set_text(nbb_formatted_code);\n",
       "                        }\n",
       "                        break;\n",
       "                    }\n",
       "                }\n",
       "            }, 500);\n",
       "            "
      ],
      "text/plain": [
       "<IPython.core.display.Javascript object>"
      ]
     },
     "metadata": {},
     "output_type": "display_data"
    }
   ],
   "source": [
    "net = torch.nn.Sequential(*modules)"
   ]
  },
  {
   "cell_type": "code",
   "execution_count": 109,
   "id": "47e16ed1",
   "metadata": {},
   "outputs": [
    {
     "data": {
      "application/javascript": [
       "\n",
       "            setTimeout(function() {\n",
       "                var nbb_cell_id = 109;\n",
       "                var nbb_unformatted_code = \"class NNModel(torch.nn.Module):\\n    def __init__(self):\\n        super(NNModel, self).__init__()\\n        self.net = net\\n        self.best_model = None\\n        self.best_validation_loss = np.inf\\n\\n    def forward(self, x):\\n        y_pred = self.net(x)\\n        return y_pred\";\n",
       "                var nbb_formatted_code = \"class NNModel(torch.nn.Module):\\n    def __init__(self):\\n        super(NNModel, self).__init__()\\n        self.net = net\\n        self.best_model = None\\n        self.best_validation_loss = np.inf\\n\\n    def forward(self, x):\\n        y_pred = self.net(x)\\n        return y_pred\";\n",
       "                var nbb_cells = Jupyter.notebook.get_cells();\n",
       "                for (var i = 0; i < nbb_cells.length; ++i) {\n",
       "                    if (nbb_cells[i].input_prompt_number == nbb_cell_id) {\n",
       "                        if (nbb_cells[i].get_text() == nbb_unformatted_code) {\n",
       "                             nbb_cells[i].set_text(nbb_formatted_code);\n",
       "                        }\n",
       "                        break;\n",
       "                    }\n",
       "                }\n",
       "            }, 500);\n",
       "            "
      ],
      "text/plain": [
       "<IPython.core.display.Javascript object>"
      ]
     },
     "metadata": {},
     "output_type": "display_data"
    }
   ],
   "source": [
    "class NNModel(torch.nn.Module):\n",
    "    def __init__(self):\n",
    "        super(NNModel, self).__init__()\n",
    "        self.net = net\n",
    "        self.best_model = None\n",
    "        self.best_validation_loss = np.inf\n",
    "\n",
    "    def forward(self, x):\n",
    "        y_pred = self.net(x)\n",
    "        return y_pred"
   ]
  },
  {
   "cell_type": "code",
   "execution_count": 110,
   "id": "cf38cbad",
   "metadata": {},
   "outputs": [
    {
     "data": {
      "application/javascript": [
       "\n",
       "            setTimeout(function() {\n",
       "                var nbb_cell_id = 110;\n",
       "                var nbb_unformatted_code = \"model = NNModel()\";\n",
       "                var nbb_formatted_code = \"model = NNModel()\";\n",
       "                var nbb_cells = Jupyter.notebook.get_cells();\n",
       "                for (var i = 0; i < nbb_cells.length; ++i) {\n",
       "                    if (nbb_cells[i].input_prompt_number == nbb_cell_id) {\n",
       "                        if (nbb_cells[i].get_text() == nbb_unformatted_code) {\n",
       "                             nbb_cells[i].set_text(nbb_formatted_code);\n",
       "                        }\n",
       "                        break;\n",
       "                    }\n",
       "                }\n",
       "            }, 500);\n",
       "            "
      ],
      "text/plain": [
       "<IPython.core.display.Javascript object>"
      ]
     },
     "metadata": {},
     "output_type": "display_data"
    }
   ],
   "source": [
    "model = NNModel()"
   ]
  },
  {
   "cell_type": "code",
   "execution_count": 111,
   "id": "0f436175",
   "metadata": {},
   "outputs": [
    {
     "data": {
      "application/javascript": [
       "\n",
       "            setTimeout(function() {\n",
       "                var nbb_cell_id = 111;\n",
       "                var nbb_unformatted_code = \"criterion = torch.nn.MSELoss()\\noptimizer = torch.optim.Adam(model.parameters(), lr=1e-4)\";\n",
       "                var nbb_formatted_code = \"criterion = torch.nn.MSELoss()\\noptimizer = torch.optim.Adam(model.parameters(), lr=1e-4)\";\n",
       "                var nbb_cells = Jupyter.notebook.get_cells();\n",
       "                for (var i = 0; i < nbb_cells.length; ++i) {\n",
       "                    if (nbb_cells[i].input_prompt_number == nbb_cell_id) {\n",
       "                        if (nbb_cells[i].get_text() == nbb_unformatted_code) {\n",
       "                             nbb_cells[i].set_text(nbb_formatted_code);\n",
       "                        }\n",
       "                        break;\n",
       "                    }\n",
       "                }\n",
       "            }, 500);\n",
       "            "
      ],
      "text/plain": [
       "<IPython.core.display.Javascript object>"
      ]
     },
     "metadata": {},
     "output_type": "display_data"
    }
   ],
   "source": [
    "criterion = torch.nn.MSELoss()\n",
    "optimizer = torch.optim.Adam(model.parameters(), lr=1e-4)"
   ]
  },
  {
   "cell_type": "code",
   "execution_count": 112,
   "id": "ed1b582c",
   "metadata": {},
   "outputs": [
    {
     "ename": "AttributeError",
     "evalue": "'Tensor' object has no attribute 'astype'",
     "output_type": "error",
     "traceback": [
      "\u001b[0;31m\u001b[0m",
      "\u001b[0;31mAttributeError\u001b[0mTraceback (most recent call last)",
      "\u001b[0;32m<ipython-input-112-94fc75ca26b4>\u001b[0m in \u001b[0;36m<module>\u001b[0;34m\u001b[0m\n\u001b[0;32m----> 1\u001b[0;31m \u001b[0membeddings\u001b[0m \u001b[0;34m=\u001b[0m \u001b[0mtorch\u001b[0m\u001b[0;34m.\u001b[0m\u001b[0mfrom_numpy\u001b[0m\u001b[0;34m(\u001b[0m\u001b[0membeddings\u001b[0m\u001b[0;34m.\u001b[0m\u001b[0mastype\u001b[0m\u001b[0;34m(\u001b[0m\u001b[0mnp\u001b[0m\u001b[0;34m.\u001b[0m\u001b[0mfloat64\u001b[0m\u001b[0;34m)\u001b[0m\u001b[0;34m)\u001b[0m\u001b[0;34m.\u001b[0m\u001b[0mtype\u001b[0m\u001b[0;34m(\u001b[0m\u001b[0mtorch\u001b[0m\u001b[0;34m.\u001b[0m\u001b[0mFloatTensor\u001b[0m\u001b[0;34m)\u001b[0m\u001b[0;34m\u001b[0m\u001b[0;34m\u001b[0m\u001b[0m\n\u001b[0m\u001b[1;32m      2\u001b[0m \u001b[0membeddings\u001b[0m\u001b[0;34m\u001b[0m\u001b[0;34m\u001b[0m\u001b[0m\n",
      "\u001b[0;31mAttributeError\u001b[0m: 'Tensor' object has no attribute 'astype'"
     ]
    },
    {
     "data": {
      "application/javascript": [
       "\n",
       "            setTimeout(function() {\n",
       "                var nbb_cell_id = 112;\n",
       "                var nbb_unformatted_code = \"embeddings = torch.from_numpy(embeddings.astype(np.float64)).type(torch.FloatTensor)\\nembeddings\";\n",
       "                var nbb_formatted_code = \"embeddings = torch.from_numpy(embeddings.astype(np.float64)).type(torch.FloatTensor)\\nembeddings\";\n",
       "                var nbb_cells = Jupyter.notebook.get_cells();\n",
       "                for (var i = 0; i < nbb_cells.length; ++i) {\n",
       "                    if (nbb_cells[i].input_prompt_number == nbb_cell_id) {\n",
       "                        if (nbb_cells[i].get_text() == nbb_unformatted_code) {\n",
       "                             nbb_cells[i].set_text(nbb_formatted_code);\n",
       "                        }\n",
       "                        break;\n",
       "                    }\n",
       "                }\n",
       "            }, 500);\n",
       "            "
      ],
      "text/plain": [
       "<IPython.core.display.Javascript object>"
      ]
     },
     "metadata": {},
     "output_type": "display_data"
    }
   ],
   "source": [
    "embeddings = torch.from_numpy(embeddings.astype(np.float64)).type(torch.FloatTensor)\n",
    "embeddings"
   ]
  },
  {
   "cell_type": "code",
   "execution_count": 33,
   "id": "30eef5cc",
   "metadata": {},
   "outputs": [
    {
     "data": {
      "text/plain": [
       "tensor([[4.2888],\n",
       "        [4.1667],\n",
       "        [4.6929],\n",
       "        ...,\n",
       "        [4.5484],\n",
       "        [3.0000],\n",
       "        [5.0000]])"
      ]
     },
     "execution_count": 33,
     "metadata": {},
     "output_type": "execute_result"
    },
    {
     "data": {
      "application/javascript": [
       "\n",
       "            setTimeout(function() {\n",
       "                var nbb_cell_id = 33;\n",
       "                var nbb_unformatted_code = \"avg_review = torch.from_numpy(\\n    np.array(prod_df.ProductAvgReview).astype(np.float64).reshape(-1, 1)\\n).type(torch.FloatTensor)\\navg_review\";\n",
       "                var nbb_formatted_code = \"avg_review = torch.from_numpy(\\n    np.array(prod_df.ProductAvgReview).astype(np.float64).reshape(-1, 1)\\n).type(torch.FloatTensor)\\navg_review\";\n",
       "                var nbb_cells = Jupyter.notebook.get_cells();\n",
       "                for (var i = 0; i < nbb_cells.length; ++i) {\n",
       "                    if (nbb_cells[i].input_prompt_number == nbb_cell_id) {\n",
       "                        if (nbb_cells[i].get_text() == nbb_unformatted_code) {\n",
       "                             nbb_cells[i].set_text(nbb_formatted_code);\n",
       "                        }\n",
       "                        break;\n",
       "                    }\n",
       "                }\n",
       "            }, 500);\n",
       "            "
      ],
      "text/plain": [
       "<IPython.core.display.Javascript object>"
      ]
     },
     "metadata": {},
     "output_type": "display_data"
    }
   ],
   "source": [
    "avg_review = torch.from_numpy(\n",
    "    np.array(prod_df.ProductAvgReview).astype(np.float64).reshape(-1, 1)\n",
    ").type(torch.FloatTensor)\n",
    "avg_review"
   ]
  },
  {
   "cell_type": "code",
   "execution_count": 113,
   "id": "f37e00a0",
   "metadata": {},
   "outputs": [
    {
     "data": {
      "application/javascript": [
       "\n",
       "            setTimeout(function() {\n",
       "                var nbb_cell_id = 113;\n",
       "                var nbb_unformatted_code = \"dataset = TensorDataset(embeddings, avg_review)\";\n",
       "                var nbb_formatted_code = \"dataset = TensorDataset(embeddings, avg_review)\";\n",
       "                var nbb_cells = Jupyter.notebook.get_cells();\n",
       "                for (var i = 0; i < nbb_cells.length; ++i) {\n",
       "                    if (nbb_cells[i].input_prompt_number == nbb_cell_id) {\n",
       "                        if (nbb_cells[i].get_text() == nbb_unformatted_code) {\n",
       "                             nbb_cells[i].set_text(nbb_formatted_code);\n",
       "                        }\n",
       "                        break;\n",
       "                    }\n",
       "                }\n",
       "            }, 500);\n",
       "            "
      ],
      "text/plain": [
       "<IPython.core.display.Javascript object>"
      ]
     },
     "metadata": {},
     "output_type": "display_data"
    }
   ],
   "source": [
    "dataset = TensorDataset(embeddings, avg_review)"
   ]
  },
  {
   "cell_type": "code",
   "execution_count": 114,
   "id": "9eb08840",
   "metadata": {},
   "outputs": [
    {
     "data": {
      "text/plain": [
       "torch.Size([12932, 1])"
      ]
     },
     "execution_count": 114,
     "metadata": {},
     "output_type": "execute_result"
    },
    {
     "data": {
      "application/javascript": [
       "\n",
       "            setTimeout(function() {\n",
       "                var nbb_cell_id = 114;\n",
       "                var nbb_unformatted_code = \"avg_review.shape\";\n",
       "                var nbb_formatted_code = \"avg_review.shape\";\n",
       "                var nbb_cells = Jupyter.notebook.get_cells();\n",
       "                for (var i = 0; i < nbb_cells.length; ++i) {\n",
       "                    if (nbb_cells[i].input_prompt_number == nbb_cell_id) {\n",
       "                        if (nbb_cells[i].get_text() == nbb_unformatted_code) {\n",
       "                             nbb_cells[i].set_text(nbb_formatted_code);\n",
       "                        }\n",
       "                        break;\n",
       "                    }\n",
       "                }\n",
       "            }, 500);\n",
       "            "
      ],
      "text/plain": [
       "<IPython.core.display.Javascript object>"
      ]
     },
     "metadata": {},
     "output_type": "display_data"
    }
   ],
   "source": [
    "avg_review.shape"
   ]
  },
  {
   "cell_type": "code",
   "execution_count": 115,
   "id": "b50c5aa0",
   "metadata": {},
   "outputs": [
    {
     "data": {
      "text/plain": [
       "(tensor([6002, 7425, 7349,  ..., 7182, 4189,  195]),\n",
       " tensor([11597, 10151,   287,  ..., 10293,  3611,  8602]))"
      ]
     },
     "execution_count": 115,
     "metadata": {},
     "output_type": "execute_result"
    },
    {
     "data": {
      "application/javascript": [
       "\n",
       "            setTimeout(function() {\n",
       "                var nbb_cell_id = 115;\n",
       "                var nbb_unformatted_code = \"validation_fraction = 0.2\\nnum_total_examples = len(embeddings)\\nnum_training_examples = int((1 - validation_fraction) * num_total_examples)\\nnum_validation_examples = num_total_examples - num_training_examples\\n\\npermuted_indices = torch.randperm(num_total_examples)\\ntrain_indices, val_indices = (\\n    permuted_indices[:num_training_examples],\\n    permuted_indices[num_training_examples:],\\n)\\ntrain_indices, val_indices\";\n",
       "                var nbb_formatted_code = \"validation_fraction = 0.2\\nnum_total_examples = len(embeddings)\\nnum_training_examples = int((1 - validation_fraction) * num_total_examples)\\nnum_validation_examples = num_total_examples - num_training_examples\\n\\npermuted_indices = torch.randperm(num_total_examples)\\ntrain_indices, val_indices = (\\n    permuted_indices[:num_training_examples],\\n    permuted_indices[num_training_examples:],\\n)\\ntrain_indices, val_indices\";\n",
       "                var nbb_cells = Jupyter.notebook.get_cells();\n",
       "                for (var i = 0; i < nbb_cells.length; ++i) {\n",
       "                    if (nbb_cells[i].input_prompt_number == nbb_cell_id) {\n",
       "                        if (nbb_cells[i].get_text() == nbb_unformatted_code) {\n",
       "                             nbb_cells[i].set_text(nbb_formatted_code);\n",
       "                        }\n",
       "                        break;\n",
       "                    }\n",
       "                }\n",
       "            }, 500);\n",
       "            "
      ],
      "text/plain": [
       "<IPython.core.display.Javascript object>"
      ]
     },
     "metadata": {},
     "output_type": "display_data"
    }
   ],
   "source": [
    "validation_fraction = 0.2\n",
    "num_total_examples = len(embeddings)\n",
    "num_training_examples = int((1 - validation_fraction) * num_total_examples)\n",
    "num_validation_examples = num_total_examples - num_training_examples\n",
    "\n",
    "permuted_indices = torch.randperm(num_total_examples)\n",
    "train_indices, val_indices = (\n",
    "    permuted_indices[:num_training_examples],\n",
    "    permuted_indices[num_training_examples:],\n",
    ")\n",
    "train_indices, val_indices"
   ]
  },
  {
   "cell_type": "code",
   "execution_count": 116,
   "id": "1e771cc4",
   "metadata": {},
   "outputs": [
    {
     "data": {
      "text/plain": [
       "(torch.Size([10345]), torch.Size([2587]))"
      ]
     },
     "execution_count": 116,
     "metadata": {},
     "output_type": "execute_result"
    },
    {
     "data": {
      "application/javascript": [
       "\n",
       "            setTimeout(function() {\n",
       "                var nbb_cell_id = 116;\n",
       "                var nbb_unformatted_code = \"train_indices.shape, val_indices.shape\";\n",
       "                var nbb_formatted_code = \"train_indices.shape, val_indices.shape\";\n",
       "                var nbb_cells = Jupyter.notebook.get_cells();\n",
       "                for (var i = 0; i < nbb_cells.length; ++i) {\n",
       "                    if (nbb_cells[i].input_prompt_number == nbb_cell_id) {\n",
       "                        if (nbb_cells[i].get_text() == nbb_unformatted_code) {\n",
       "                             nbb_cells[i].set_text(nbb_formatted_code);\n",
       "                        }\n",
       "                        break;\n",
       "                    }\n",
       "                }\n",
       "            }, 500);\n",
       "            "
      ],
      "text/plain": [
       "<IPython.core.display.Javascript object>"
      ]
     },
     "metadata": {},
     "output_type": "display_data"
    }
   ],
   "source": [
    "train_indices.shape, val_indices.shape"
   ]
  },
  {
   "cell_type": "code",
   "execution_count": 117,
   "id": "f39f696b",
   "metadata": {},
   "outputs": [
    {
     "data": {
      "application/javascript": [
       "\n",
       "            setTimeout(function() {\n",
       "                var nbb_cell_id = 117;\n",
       "                var nbb_unformatted_code = \"dataloader_kwargs = None\\ntraining_batch_size = 50\\n\\ntrain_loader_kwargs = {\\n    \\\"batch_size\\\": min(training_batch_size, num_training_examples),\\n    \\\"drop_last\\\": True,\\n    \\\"sampler\\\": sampler.SubsetRandomSampler(train_indices),\\n}\\ntrain_loader_kwargs = (\\n    dict(train_loader_kwargs, **dataloader_kwargs)\\n    if dataloader_kwargs is not None\\n    else train_loader_kwargs\\n)\\nval_loader_kwargs = {\\n    \\\"batch_size\\\": min(training_batch_size, num_validation_examples),\\n    \\\"shuffle\\\": False,\\n    \\\"drop_last\\\": True,\\n    \\\"sampler\\\": sampler.SubsetRandomSampler(val_indices),\\n}\\nval_loader_kwargs = (\\n    dict(val_loader_kwargs, **dataloader_kwargs)\\n    if dataloader_kwargs is not None\\n    else val_loader_kwargs\\n)\";\n",
       "                var nbb_formatted_code = \"dataloader_kwargs = None\\ntraining_batch_size = 50\\n\\ntrain_loader_kwargs = {\\n    \\\"batch_size\\\": min(training_batch_size, num_training_examples),\\n    \\\"drop_last\\\": True,\\n    \\\"sampler\\\": sampler.SubsetRandomSampler(train_indices),\\n}\\ntrain_loader_kwargs = (\\n    dict(train_loader_kwargs, **dataloader_kwargs)\\n    if dataloader_kwargs is not None\\n    else train_loader_kwargs\\n)\\nval_loader_kwargs = {\\n    \\\"batch_size\\\": min(training_batch_size, num_validation_examples),\\n    \\\"shuffle\\\": False,\\n    \\\"drop_last\\\": True,\\n    \\\"sampler\\\": sampler.SubsetRandomSampler(val_indices),\\n}\\nval_loader_kwargs = (\\n    dict(val_loader_kwargs, **dataloader_kwargs)\\n    if dataloader_kwargs is not None\\n    else val_loader_kwargs\\n)\";\n",
       "                var nbb_cells = Jupyter.notebook.get_cells();\n",
       "                for (var i = 0; i < nbb_cells.length; ++i) {\n",
       "                    if (nbb_cells[i].input_prompt_number == nbb_cell_id) {\n",
       "                        if (nbb_cells[i].get_text() == nbb_unformatted_code) {\n",
       "                             nbb_cells[i].set_text(nbb_formatted_code);\n",
       "                        }\n",
       "                        break;\n",
       "                    }\n",
       "                }\n",
       "            }, 500);\n",
       "            "
      ],
      "text/plain": [
       "<IPython.core.display.Javascript object>"
      ]
     },
     "metadata": {},
     "output_type": "display_data"
    }
   ],
   "source": [
    "dataloader_kwargs = None\n",
    "training_batch_size = 50\n",
    "\n",
    "train_loader_kwargs = {\n",
    "    \"batch_size\": min(training_batch_size, num_training_examples),\n",
    "    \"drop_last\": True,\n",
    "    \"sampler\": sampler.SubsetRandomSampler(train_indices),\n",
    "}\n",
    "train_loader_kwargs = (\n",
    "    dict(train_loader_kwargs, **dataloader_kwargs)\n",
    "    if dataloader_kwargs is not None\n",
    "    else train_loader_kwargs\n",
    ")\n",
    "val_loader_kwargs = {\n",
    "    \"batch_size\": min(training_batch_size, num_validation_examples),\n",
    "    \"shuffle\": False,\n",
    "    \"drop_last\": True,\n",
    "    \"sampler\": sampler.SubsetRandomSampler(val_indices),\n",
    "}\n",
    "val_loader_kwargs = (\n",
    "    dict(val_loader_kwargs, **dataloader_kwargs)\n",
    "    if dataloader_kwargs is not None\n",
    "    else val_loader_kwargs\n",
    ")"
   ]
  },
  {
   "cell_type": "code",
   "execution_count": 118,
   "id": "03ad9e64",
   "metadata": {},
   "outputs": [
    {
     "data": {
      "application/javascript": [
       "\n",
       "            setTimeout(function() {\n",
       "                var nbb_cell_id = 118;\n",
       "                var nbb_unformatted_code = \"train_loader = DataLoader(dataset, **train_loader_kwargs)\\nval_loader = DataLoader(dataset, **val_loader_kwargs)\";\n",
       "                var nbb_formatted_code = \"train_loader = DataLoader(dataset, **train_loader_kwargs)\\nval_loader = DataLoader(dataset, **val_loader_kwargs)\";\n",
       "                var nbb_cells = Jupyter.notebook.get_cells();\n",
       "                for (var i = 0; i < nbb_cells.length; ++i) {\n",
       "                    if (nbb_cells[i].input_prompt_number == nbb_cell_id) {\n",
       "                        if (nbb_cells[i].get_text() == nbb_unformatted_code) {\n",
       "                             nbb_cells[i].set_text(nbb_formatted_code);\n",
       "                        }\n",
       "                        break;\n",
       "                    }\n",
       "                }\n",
       "            }, 500);\n",
       "            "
      ],
      "text/plain": [
       "<IPython.core.display.Javascript object>"
      ]
     },
     "metadata": {},
     "output_type": "display_data"
    }
   ],
   "source": [
    "train_loader = DataLoader(dataset, **train_loader_kwargs)\n",
    "val_loader = DataLoader(dataset, **val_loader_kwargs)"
   ]
  },
  {
   "cell_type": "code",
   "execution_count": 119,
   "id": "d3e748f3",
   "metadata": {},
   "outputs": [
    {
     "data": {
      "application/javascript": [
       "\n",
       "            setTimeout(function() {\n",
       "                var nbb_cell_id = 119;\n",
       "                var nbb_unformatted_code = \"def converged(epoch, stop_after_epochs, validation_loss, model):\\n    converged = False\\n    # (Re)-start the epoch count with the first epoch or any improvement.\\n    if epoch == 0 or validation_loss < model.best_validation_loss:\\n        best_validation_loss = validation_loss\\n        epochs_since_last_improvement = 0\\n        model.best_model = copy.deepcopy(model.net.state_dict())\\n    else:\\n        epochs_since_last_improvement += 1\\n\\n    # If no validation improvement over many epochs, stop training.\\n    if epochs_since_last_improvement > stop_after_epochs - 1:\\n        model.net.load_state_dict(model.best_model)\\n        converged = True\\n    return converged\";\n",
       "                var nbb_formatted_code = \"def converged(epoch, stop_after_epochs, validation_loss, model):\\n    converged = False\\n    # (Re)-start the epoch count with the first epoch or any improvement.\\n    if epoch == 0 or validation_loss < model.best_validation_loss:\\n        best_validation_loss = validation_loss\\n        epochs_since_last_improvement = 0\\n        model.best_model = copy.deepcopy(model.net.state_dict())\\n    else:\\n        epochs_since_last_improvement += 1\\n\\n    # If no validation improvement over many epochs, stop training.\\n    if epochs_since_last_improvement > stop_after_epochs - 1:\\n        model.net.load_state_dict(model.best_model)\\n        converged = True\\n    return converged\";\n",
       "                var nbb_cells = Jupyter.notebook.get_cells();\n",
       "                for (var i = 0; i < nbb_cells.length; ++i) {\n",
       "                    if (nbb_cells[i].input_prompt_number == nbb_cell_id) {\n",
       "                        if (nbb_cells[i].get_text() == nbb_unformatted_code) {\n",
       "                             nbb_cells[i].set_text(nbb_formatted_code);\n",
       "                        }\n",
       "                        break;\n",
       "                    }\n",
       "                }\n",
       "            }, 500);\n",
       "            "
      ],
      "text/plain": [
       "<IPython.core.display.Javascript object>"
      ]
     },
     "metadata": {},
     "output_type": "display_data"
    }
   ],
   "source": [
    "def converged(epoch, stop_after_epochs, validation_loss, model):\n",
    "    converged = False\n",
    "    # (Re)-start the epoch count with the first epoch or any improvement.\n",
    "    if epoch == 0 or validation_loss < model.best_validation_loss:\n",
    "        model.best_validation_loss = validation_loss\n",
    "        epochs_since_last_improvement = 0\n",
    "        model.best_model = copy.deepcopy(model.net.state_dict())\n",
    "    else:\n",
    "        epochs_since_last_improvement += 1\n",
    "\n",
    "    # If no validation improvement over many epochs, stop training.\n",
    "    if epochs_since_last_improvement > stop_after_epochs - 1:\n",
    "        model.net.load_state_dict(model.best_model)\n",
    "        converged = True\n",
    "    return converged"
   ]
  },
  {
   "cell_type": "code",
   "execution_count": 120,
   "id": "836bb0ec",
   "metadata": {},
   "outputs": [
    {
     "name": "stdout",
     "output_type": "stream",
     "text": [
      "Train Loss after epoch: 0: 3643.159719467163\n",
      "Validation loss after epoch: 0: 874.5367641448975\n",
      "Train Loss after epoch: 50: 118.34322229027748\n",
      "Validation loss after epoch: 50: 29.035150289535522\n",
      "Train Loss after epoch: 100: 117.62245832383633\n",
      "Validation loss after epoch: 100: 28.454196631908417\n",
      "Train Loss after epoch: 150: 117.27840664982796\n",
      "Validation loss after epoch: 150: 28.784251049160957\n",
      "Train Loss after epoch: 200: 116.80457846820354\n",
      "Validation loss after epoch: 200: 28.65180441737175\n",
      "Train Loss after epoch: 250: 116.29876007139683\n",
      "Validation loss after epoch: 250: 28.712354853749275\n",
      "Train Loss after epoch: 300: 115.99809743463993\n",
      "Validation loss after epoch: 300: 28.757097333669662\n",
      "Train Loss after epoch: 350: 116.30488027632236\n",
      "Validation loss after epoch: 350: 29.144062608480453\n",
      "Train Loss after epoch: 400: 116.04233054816723\n",
      "Validation loss after epoch: 400: 29.01528236269951\n",
      "Train Loss after epoch: 450: 115.55040518939495\n",
      "Validation loss after epoch: 450: 29.364018738269806\n",
      "Training process has finished.\n"
     ]
    },
    {
     "data": {
      "application/javascript": [
       "\n",
       "            setTimeout(function() {\n",
       "                var nbb_cell_id = 120;\n",
       "                var nbb_unformatted_code = \"# Run the training loop\\nfor epoch in range(500):  # 5 epochs at maximum\\n    model.train()\\n\\n    # Set current loss value\\n    train_loss = 0.0\\n\\n    # Iterate over the DataLoader for training data\\n    for i, (inputs, targets) in enumerate(train_loader):\\n\\n        # Zero the gradients\\n        optimizer.zero_grad()\\n\\n        # Perform forward pass\\n        outputs = model(inputs)\\n\\n        # Compute loss\\n        loss = criterion(outputs, targets)\\n\\n        # Perform backward pass\\n        loss.backward()\\n\\n        # Perform optimization\\n        optimizer.step()\\n\\n        # Print statistics\\n        train_loss += loss.item()\\n\\n    model.eval()\\n    val_loss = 0.0\\n    with torch.no_grad():\\n        for i, (inputs, targets) in enumerate(val_loader):\\n            preds = model(inputs)\\n            loss = criterion(preds, targets)\\n            val_loss += loss.item()\\n\\n    if epoch % 50 == 0:\\n        print(f\\\"Train Loss after epoch: {epoch}: {train_loss}\\\")\\n        print(f\\\"Validation loss after epoch: {epoch}: {val_loss}\\\")\\n    if converged(epoch, 10, val_loss, model):\\n        print(\\n            f\\\"Stopping after epoch {epoch} as validation loss was not improving further\\\"\\n        )\\n        break\\n\\n# Process is complete.\\nprint(\\\"Training process has finished.\\\")\";\n",
       "                var nbb_formatted_code = \"# Run the training loop\\nfor epoch in range(500):  # 5 epochs at maximum\\n    model.train()\\n\\n    # Set current loss value\\n    train_loss = 0.0\\n\\n    # Iterate over the DataLoader for training data\\n    for i, (inputs, targets) in enumerate(train_loader):\\n\\n        # Zero the gradients\\n        optimizer.zero_grad()\\n\\n        # Perform forward pass\\n        outputs = model(inputs)\\n\\n        # Compute loss\\n        loss = criterion(outputs, targets)\\n\\n        # Perform backward pass\\n        loss.backward()\\n\\n        # Perform optimization\\n        optimizer.step()\\n\\n        # Print statistics\\n        train_loss += loss.item()\\n\\n    model.eval()\\n    val_loss = 0.0\\n    with torch.no_grad():\\n        for i, (inputs, targets) in enumerate(val_loader):\\n            preds = model(inputs)\\n            loss = criterion(preds, targets)\\n            val_loss += loss.item()\\n\\n    if epoch % 50 == 0:\\n        print(f\\\"Train Loss after epoch: {epoch}: {train_loss}\\\")\\n        print(f\\\"Validation loss after epoch: {epoch}: {val_loss}\\\")\\n    if converged(epoch, 10, val_loss, model):\\n        print(\\n            f\\\"Stopping after epoch {epoch} as validation loss was not improving further\\\"\\n        )\\n        break\\n\\n# Process is complete.\\nprint(\\\"Training process has finished.\\\")\";\n",
       "                var nbb_cells = Jupyter.notebook.get_cells();\n",
       "                for (var i = 0; i < nbb_cells.length; ++i) {\n",
       "                    if (nbb_cells[i].input_prompt_number == nbb_cell_id) {\n",
       "                        if (nbb_cells[i].get_text() == nbb_unformatted_code) {\n",
       "                             nbb_cells[i].set_text(nbb_formatted_code);\n",
       "                        }\n",
       "                        break;\n",
       "                    }\n",
       "                }\n",
       "            }, 500);\n",
       "            "
      ],
      "text/plain": [
       "<IPython.core.display.Javascript object>"
      ]
     },
     "metadata": {},
     "output_type": "display_data"
    }
   ],
   "source": [
    "# Run the training loop\n",
    "for epoch in range(500):  # 5 epochs at maximum\n",
    "    model.train()\n",
    "\n",
    "    # Set current loss value\n",
    "    train_loss = 0.0\n",
    "\n",
    "    # Iterate over the DataLoader for training data\n",
    "    for i, (inputs, targets) in enumerate(train_loader):\n",
    "\n",
    "        # Zero the gradients\n",
    "        optimizer.zero_grad()\n",
    "\n",
    "        # Perform forward pass\n",
    "        outputs = model(inputs)\n",
    "\n",
    "        # Compute loss\n",
    "        loss = criterion(outputs, targets)\n",
    "\n",
    "        # Perform backward pass\n",
    "        loss.backward()\n",
    "\n",
    "        # Perform optimization\n",
    "        optimizer.step()\n",
    "\n",
    "        # Print statistics\n",
    "        train_loss += loss.item()\n",
    "\n",
    "    model.eval()\n",
    "    val_loss = 0.0\n",
    "    with torch.no_grad():\n",
    "        for i, (inputs, targets) in enumerate(val_loader):\n",
    "            preds = model(inputs)\n",
    "            loss = criterion(preds, targets)\n",
    "            val_loss += loss.item()\n",
    "\n",
    "    if epoch % 50 == 0:\n",
    "        print(f\"Train Loss after epoch: {epoch}: {train_loss}\")\n",
    "        print(f\"Validation loss after epoch: {epoch}: {val_loss}\")\n",
    "    if converged(epoch, 10, val_loss, model):\n",
    "        print(\n",
    "            f\"Stopping after epoch {epoch} as validation loss was not improving further\"\n",
    "        )\n",
    "        break\n",
    "\n",
    "# Process is complete.\n",
    "print(\"Training process has finished.\")"
   ]
  },
  {
   "cell_type": "code",
   "execution_count": 121,
   "id": "93ef127c",
   "metadata": {},
   "outputs": [
    {
     "data": {
      "application/javascript": [
       "\n",
       "            setTimeout(function() {\n",
       "                var nbb_cell_id = 121;\n",
       "                var nbb_unformatted_code = \"model.eval()\\nwith torch.no_grad():\\n    preds = model(embeddings).detach().numpy()\";\n",
       "                var nbb_formatted_code = \"model.eval()\\nwith torch.no_grad():\\n    preds = model(embeddings).detach().numpy()\";\n",
       "                var nbb_cells = Jupyter.notebook.get_cells();\n",
       "                for (var i = 0; i < nbb_cells.length; ++i) {\n",
       "                    if (nbb_cells[i].input_prompt_number == nbb_cell_id) {\n",
       "                        if (nbb_cells[i].get_text() == nbb_unformatted_code) {\n",
       "                             nbb_cells[i].set_text(nbb_formatted_code);\n",
       "                        }\n",
       "                        break;\n",
       "                    }\n",
       "                }\n",
       "            }, 500);\n",
       "            "
      ],
      "text/plain": [
       "<IPython.core.display.Javascript object>"
      ]
     },
     "metadata": {},
     "output_type": "display_data"
    }
   ],
   "source": [
    "model.eval()\n",
    "with torch.no_grad():\n",
    "    preds = model(embeddings).detach().numpy()"
   ]
  },
  {
   "cell_type": "code",
   "execution_count": 122,
   "id": "2ac9ace6",
   "metadata": {},
   "outputs": [
    {
     "data": {
      "text/plain": [
       "array([[4.2359776],\n",
       "       [4.2266316],\n",
       "       [4.2367597],\n",
       "       ...,\n",
       "       [4.2432904],\n",
       "       [4.335095 ],\n",
       "       [4.236194 ]], dtype=float32)"
      ]
     },
     "execution_count": 122,
     "metadata": {},
     "output_type": "execute_result"
    },
    {
     "data": {
      "application/javascript": [
       "\n",
       "            setTimeout(function() {\n",
       "                var nbb_cell_id = 122;\n",
       "                var nbb_unformatted_code = \"preds\";\n",
       "                var nbb_formatted_code = \"preds\";\n",
       "                var nbb_cells = Jupyter.notebook.get_cells();\n",
       "                for (var i = 0; i < nbb_cells.length; ++i) {\n",
       "                    if (nbb_cells[i].input_prompt_number == nbb_cell_id) {\n",
       "                        if (nbb_cells[i].get_text() == nbb_unformatted_code) {\n",
       "                             nbb_cells[i].set_text(nbb_formatted_code);\n",
       "                        }\n",
       "                        break;\n",
       "                    }\n",
       "                }\n",
       "            }, 500);\n",
       "            "
      ],
      "text/plain": [
       "<IPython.core.display.Javascript object>"
      ]
     },
     "metadata": {},
     "output_type": "display_data"
    }
   ],
   "source": [
    "preds"
   ]
  },
  {
   "cell_type": "code",
   "execution_count": 123,
   "id": "dc704675",
   "metadata": {},
   "outputs": [
    {
     "data": {
      "text/plain": [
       "(array([ 214.,   35.,  163.,  159.,  162.,  804., 1085., 2589., 3607.,\n",
       "        4114.]),\n",
       " array([1. , 1.4, 1.8, 2.2, 2.6, 3. , 3.4, 3.8, 4.2, 4.6, 5. ],\n",
       "       dtype=float32),\n",
       " <BarContainer object of 10 artists>)"
      ]
     },
     "execution_count": 123,
     "metadata": {},
     "output_type": "execute_result"
    },
    {
     "data": {
      "image/png": "[encoded data removed]",
      "text/plain": [
       "<Figure size 432x288 with 1 Axes>"
      ]
     },
     "metadata": {
      "needs_background": "light"
     },
     "output_type": "display_data"
    },
    {
     "data": {
      "application/javascript": [
       "\n",
       "            setTimeout(function() {\n",
       "                var nbb_cell_id = 123;\n",
       "                var nbb_unformatted_code = \"plt.hist(preds, alpha=0.4, label=\\\"Pred\\\")\\nplt.hist(avg_review.detach().numpy(), alpha=0.4, label=\\\"True\\\")\";\n",
       "                var nbb_formatted_code = \"plt.hist(preds, alpha=0.4, label=\\\"Pred\\\")\\nplt.hist(avg_review.detach().numpy(), alpha=0.4, label=\\\"True\\\")\";\n",
       "                var nbb_cells = Jupyter.notebook.get_cells();\n",
       "                for (var i = 0; i < nbb_cells.length; ++i) {\n",
       "                    if (nbb_cells[i].input_prompt_number == nbb_cell_id) {\n",
       "                        if (nbb_cells[i].get_text() == nbb_unformatted_code) {\n",
       "                             nbb_cells[i].set_text(nbb_formatted_code);\n",
       "                        }\n",
       "                        break;\n",
       "                    }\n",
       "                }\n",
       "            }, 500);\n",
       "            "
      ],
      "text/plain": [
       "<IPython.core.display.Javascript object>"
      ]
     },
     "metadata": {},
     "output_type": "display_data"
    }
   ],
   "source": [
    "plt.hist(preds, alpha=0.4, label=\"Pred\")\n",
    "plt.hist(avg_review.detach().numpy(), alpha=0.4, label=\"True\")"
   ]
  },
  {
   "cell_type": "markdown",
   "id": "e15de552",
   "metadata": {},
   "source": [
    "# Now try a NN regression when exact review counts are known "
   ]
  },
  {
   "cell_type": "code",
   "execution_count": 668,
   "id": "81c0911f",
   "metadata": {},
   "outputs": [
    {
     "data": {
      "text/html": [
       "<div>\n",
       "<style scoped>\n",
       "    .dataframe tbody tr th:only-of-type {\n",
       "        vertical-align: middle;\n",
       "    }\n",
       "\n",
       "    .dataframe tbody tr th {\n",
       "        vertical-align: top;\n",
       "    }\n",
       "\n",
       "    .dataframe thead th {\n",
       "        text-align: right;\n",
       "    }\n",
       "</style>\n",
       "<table border=\"1\" class=\"dataframe\">\n",
       "  <thead>\n",
       "    <tr style=\"text-align: right;\">\n",
       "      <th></th>\n",
       "      <th>asin</th>\n",
       "      <th>1</th>\n",
       "      <th>2</th>\n",
       "      <th>3</th>\n",
       "      <th>4</th>\n",
       "      <th>5</th>\n",
       "    </tr>\n",
       "  </thead>\n",
       "  <tbody>\n",
       "    <tr>\n",
       "      <th>0</th>\n",
       "      <td>218915</td>\n",
       "      <td>1</td>\n",
       "      <td>0</td>\n",
       "      <td>0</td>\n",
       "      <td>0</td>\n",
       "      <td>0</td>\n",
       "    </tr>\n",
       "    <tr>\n",
       "      <th>1</th>\n",
       "      <td>292595</td>\n",
       "      <td>0</td>\n",
       "      <td>0</td>\n",
       "      <td>1</td>\n",
       "      <td>1</td>\n",
       "      <td>5</td>\n",
       "    </tr>\n",
       "    <tr>\n",
       "      <th>2</th>\n",
       "      <td>397494</td>\n",
       "      <td>1</td>\n",
       "      <td>0</td>\n",
       "      <td>0</td>\n",
       "      <td>0</td>\n",
       "      <td>0</td>\n",
       "    </tr>\n",
       "    <tr>\n",
       "      <th>3</th>\n",
       "      <td>500177</td>\n",
       "      <td>0</td>\n",
       "      <td>0</td>\n",
       "      <td>0</td>\n",
       "      <td>1</td>\n",
       "      <td>2</td>\n",
       "    </tr>\n",
       "    <tr>\n",
       "      <th>4</th>\n",
       "      <td>522870</td>\n",
       "      <td>1</td>\n",
       "      <td>0</td>\n",
       "      <td>2</td>\n",
       "      <td>3</td>\n",
       "      <td>4</td>\n",
       "    </tr>\n",
       "  </tbody>\n",
       "</table>\n",
       "</div>"
      ],
      "text/plain": [
       "     asin  1  2  3  4  5\n",
       "0  218915  1  0  0  0  0\n",
       "1  292595  0  0  1  1  5\n",
       "2  397494  1  0  0  0  0\n",
       "3  500177  0  0  0  1  2\n",
       "4  522870  1  0  2  3  4"
      ]
     },
     "execution_count": 668,
     "metadata": {},
     "output_type": "execute_result"
    },
    {
     "data": {
      "application/javascript": [
       "\n",
       "            setTimeout(function() {\n",
       "                var nbb_cell_id = 668;\n",
       "                var nbb_unformatted_code = \"review_df = pd.read_csv(artifact_path / \\\"rating_histogram_all.txt\\\", sep=\\\"\\\\t\\\")\\nreview_df.head()\";\n",
       "                var nbb_formatted_code = \"review_df = pd.read_csv(artifact_path / \\\"rating_histogram_all.txt\\\", sep=\\\"\\\\t\\\")\\nreview_df.head()\";\n",
       "                var nbb_cells = Jupyter.notebook.get_cells();\n",
       "                for (var i = 0; i < nbb_cells.length; ++i) {\n",
       "                    if (nbb_cells[i].input_prompt_number == nbb_cell_id) {\n",
       "                        if (nbb_cells[i].get_text() == nbb_unformatted_code) {\n",
       "                             nbb_cells[i].set_text(nbb_formatted_code);\n",
       "                        }\n",
       "                        break;\n",
       "                    }\n",
       "                }\n",
       "            }, 500);\n",
       "            "
      ],
      "text/plain": [
       "<IPython.core.display.Javascript object>"
      ]
     },
     "metadata": {},
     "output_type": "display_data"
    }
   ],
   "source": [
    "review_df = pd.read_csv(artifact_path / \"rating_histogram_all.txt\", sep=\"\\t\")\n",
    "review_df.head()"
   ]
  },
  {
   "cell_type": "code",
   "execution_count": 669,
   "id": "54a3360d",
   "metadata": {},
   "outputs": [
    {
     "data": {
      "application/javascript": [
       "\n",
       "            setTimeout(function() {\n",
       "                var nbb_cell_id = 669;\n",
       "                var nbb_unformatted_code = \"prod_df[\\\"productid\\\"] = prod_df[\\\"productid\\\"].astype(\\\"int\\\")\";\n",
       "                var nbb_formatted_code = \"prod_df[\\\"productid\\\"] = prod_df[\\\"productid\\\"].astype(\\\"int\\\")\";\n",
       "                var nbb_cells = Jupyter.notebook.get_cells();\n",
       "                for (var i = 0; i < nbb_cells.length; ++i) {\n",
       "                    if (nbb_cells[i].input_prompt_number == nbb_cell_id) {\n",
       "                        if (nbb_cells[i].get_text() == nbb_unformatted_code) {\n",
       "                             nbb_cells[i].set_text(nbb_formatted_code);\n",
       "                        }\n",
       "                        break;\n",
       "                    }\n",
       "                }\n",
       "            }, 500);\n",
       "            "
      ],
      "text/plain": [
       "<IPython.core.display.Javascript object>"
      ]
     },
     "metadata": {},
     "output_type": "display_data"
    }
   ],
   "source": [
    "prod_df[\"productid\"] = prod_df[\"productid\"].astype(\"int\")"
   ]
  },
  {
   "cell_type": "code",
   "execution_count": 670,
   "id": "e95c59d1",
   "metadata": {},
   "outputs": [
    {
     "data": {
      "application/javascript": [
       "\n",
       "            setTimeout(function() {\n",
       "                var nbb_cell_id = 670;\n",
       "                var nbb_unformatted_code = \"merged_df = pd.merge(\\n    prod_df, review_df, how=\\\"inner\\\", left_on=\\\"productid\\\", right_on=\\\"asin\\\"\\n)\";\n",
       "                var nbb_formatted_code = \"merged_df = pd.merge(\\n    prod_df, review_df, how=\\\"inner\\\", left_on=\\\"productid\\\", right_on=\\\"asin\\\"\\n)\";\n",
       "                var nbb_cells = Jupyter.notebook.get_cells();\n",
       "                for (var i = 0; i < nbb_cells.length; ++i) {\n",
       "                    if (nbb_cells[i].input_prompt_number == nbb_cell_id) {\n",
       "                        if (nbb_cells[i].get_text() == nbb_unformatted_code) {\n",
       "                             nbb_cells[i].set_text(nbb_formatted_code);\n",
       "                        }\n",
       "                        break;\n",
       "                    }\n",
       "                }\n",
       "            }, 500);\n",
       "            "
      ],
      "text/plain": [
       "<IPython.core.display.Javascript object>"
      ]
     },
     "metadata": {},
     "output_type": "display_data"
    }
   ],
   "source": [
    "merged_df = pd.merge(\n",
    "    prod_df, review_df, how=\"inner\", left_on=\"productid\", right_on=\"asin\"\n",
    ")"
   ]
  },
  {
   "cell_type": "code",
   "execution_count": 671,
   "id": "ab75644b",
   "metadata": {},
   "outputs": [
    {
     "data": {
      "text/plain": [
       "(11284, 9)"
      ]
     },
     "execution_count": 671,
     "metadata": {},
     "output_type": "execute_result"
    },
    {
     "data": {
      "application/javascript": [
       "\n",
       "            setTimeout(function() {\n",
       "                var nbb_cell_id = 671;\n",
       "                var nbb_unformatted_code = \"merged_df.shape\";\n",
       "                var nbb_formatted_code = \"merged_df.shape\";\n",
       "                var nbb_cells = Jupyter.notebook.get_cells();\n",
       "                for (var i = 0; i < nbb_cells.length; ++i) {\n",
       "                    if (nbb_cells[i].input_prompt_number == nbb_cell_id) {\n",
       "                        if (nbb_cells[i].get_text() == nbb_unformatted_code) {\n",
       "                             nbb_cells[i].set_text(nbb_formatted_code);\n",
       "                        }\n",
       "                        break;\n",
       "                    }\n",
       "                }\n",
       "            }, 500);\n",
       "            "
      ],
      "text/plain": [
       "<IPython.core.display.Javascript object>"
      ]
     },
     "metadata": {},
     "output_type": "display_data"
    }
   ],
   "source": [
    "merged_df.shape"
   ]
  },
  {
   "cell_type": "code",
   "execution_count": 672,
   "id": "ce52e054",
   "metadata": {},
   "outputs": [
    {
     "data": {
      "text/html": [
       "<div>\n",
       "<style scoped>\n",
       "    .dataframe tbody tr th:only-of-type {\n",
       "        vertical-align: middle;\n",
       "    }\n",
       "\n",
       "    .dataframe tbody tr th {\n",
       "        vertical-align: top;\n",
       "    }\n",
       "\n",
       "    .dataframe thead th {\n",
       "        text-align: right;\n",
       "    }\n",
       "</style>\n",
       "<table border=\"1\" class=\"dataframe\">\n",
       "  <thead>\n",
       "    <tr style=\"text-align: right;\">\n",
       "      <th></th>\n",
       "      <th>productid</th>\n",
       "      <th>ProductAvgReview</th>\n",
       "      <th>embedding</th>\n",
       "      <th>asin</th>\n",
       "      <th>1</th>\n",
       "      <th>2</th>\n",
       "      <th>3</th>\n",
       "      <th>4</th>\n",
       "      <th>5</th>\n",
       "    </tr>\n",
       "  </thead>\n",
       "  <tbody>\n",
       "    <tr>\n",
       "      <th>0</th>\n",
       "      <td>2629881</td>\n",
       "      <td>4.2888</td>\n",
       "      <td>[0.000149213, 0.000130302, -0.00268912, -0.001...</td>\n",
       "      <td>2629881</td>\n",
       "      <td>12</td>\n",
       "      <td>8</td>\n",
       "      <td>18</td>\n",
       "      <td>37</td>\n",
       "      <td>93</td>\n",
       "    </tr>\n",
       "    <tr>\n",
       "      <th>1</th>\n",
       "      <td>2457747</td>\n",
       "      <td>4.1667</td>\n",
       "      <td>[-0.00121576, -0.00146537, -0.000562893, 0.000...</td>\n",
       "      <td>2457747</td>\n",
       "      <td>12</td>\n",
       "      <td>4</td>\n",
       "      <td>6</td>\n",
       "      <td>23</td>\n",
       "      <td>48</td>\n",
       "    </tr>\n",
       "    <tr>\n",
       "      <th>2</th>\n",
       "      <td>2621353</td>\n",
       "      <td>4.6929</td>\n",
       "      <td>[0.00142444, -0.00415343, -0.00240984, -0.0005...</td>\n",
       "      <td>2621353</td>\n",
       "      <td>6</td>\n",
       "      <td>2</td>\n",
       "      <td>4</td>\n",
       "      <td>48</td>\n",
       "      <td>153</td>\n",
       "    </tr>\n",
       "    <tr>\n",
       "      <th>3</th>\n",
       "      <td>2598651</td>\n",
       "      <td>4.0964</td>\n",
       "      <td>[-0.00177867, -0.00244505, -0.000948648, 0.001...</td>\n",
       "      <td>2598651</td>\n",
       "      <td>42</td>\n",
       "      <td>23</td>\n",
       "      <td>13</td>\n",
       "      <td>58</td>\n",
       "      <td>158</td>\n",
       "    </tr>\n",
       "    <tr>\n",
       "      <th>4</th>\n",
       "      <td>1222540</td>\n",
       "      <td>4.7787</td>\n",
       "      <td>[0.000938418, -0.00202647, 0.000320231, 0.0012...</td>\n",
       "      <td>1222540</td>\n",
       "      <td>15</td>\n",
       "      <td>4</td>\n",
       "      <td>6</td>\n",
       "      <td>27</td>\n",
       "      <td>147</td>\n",
       "    </tr>\n",
       "  </tbody>\n",
       "</table>\n",
       "</div>"
      ],
      "text/plain": [
       "   productid  ProductAvgReview  \\\n",
       "0    2629881            4.2888   \n",
       "1    2457747            4.1667   \n",
       "2    2621353            4.6929   \n",
       "3    2598651            4.0964   \n",
       "4    1222540            4.7787   \n",
       "\n",
       "                                           embedding     asin   1   2   3   4  \\\n",
       "0  [0.000149213, 0.000130302, -0.00268912, -0.001...  2629881  12   8  18  37   \n",
       "1  [-0.00121576, -0.00146537, -0.000562893, 0.000...  2457747  12   4   6  23   \n",
       "2  [0.00142444, -0.00415343, -0.00240984, -0.0005...  2621353   6   2   4  48   \n",
       "3  [-0.00177867, -0.00244505, -0.000948648, 0.001...  2598651  42  23  13  58   \n",
       "4  [0.000938418, -0.00202647, 0.000320231, 0.0012...  1222540  15   4   6  27   \n",
       "\n",
       "     5  \n",
       "0   93  \n",
       "1   48  \n",
       "2  153  \n",
       "3  158  \n",
       "4  147  "
      ]
     },
     "execution_count": 672,
     "metadata": {},
     "output_type": "execute_result"
    },
    {
     "data": {
      "application/javascript": [
       "\n",
       "            setTimeout(function() {\n",
       "                var nbb_cell_id = 672;\n",
       "                var nbb_unformatted_code = \"merged_df.head()\";\n",
       "                var nbb_formatted_code = \"merged_df.head()\";\n",
       "                var nbb_cells = Jupyter.notebook.get_cells();\n",
       "                for (var i = 0; i < nbb_cells.length; ++i) {\n",
       "                    if (nbb_cells[i].input_prompt_number == nbb_cell_id) {\n",
       "                        if (nbb_cells[i].get_text() == nbb_unformatted_code) {\n",
       "                             nbb_cells[i].set_text(nbb_formatted_code);\n",
       "                        }\n",
       "                        break;\n",
       "                    }\n",
       "                }\n",
       "            }, 500);\n",
       "            "
      ],
      "text/plain": [
       "<IPython.core.display.Javascript object>"
      ]
     },
     "metadata": {},
     "output_type": "display_data"
    }
   ],
   "source": [
    "merged_df.head()"
   ]
  },
  {
   "cell_type": "code",
   "execution_count": 673,
   "id": "5e56fc93",
   "metadata": {},
   "outputs": [
    {
     "data": {
      "application/javascript": [
       "\n",
       "            setTimeout(function() {\n",
       "                var nbb_cell_id = 673;\n",
       "                var nbb_unformatted_code = \"from torch.special import digamma, gammaln\";\n",
       "                var nbb_formatted_code = \"from torch.special import digamma, gammaln\";\n",
       "                var nbb_cells = Jupyter.notebook.get_cells();\n",
       "                for (var i = 0; i < nbb_cells.length; ++i) {\n",
       "                    if (nbb_cells[i].input_prompt_number == nbb_cell_id) {\n",
       "                        if (nbb_cells[i].get_text() == nbb_unformatted_code) {\n",
       "                             nbb_cells[i].set_text(nbb_formatted_code);\n",
       "                        }\n",
       "                        break;\n",
       "                    }\n",
       "                }\n",
       "            }, 500);\n",
       "            "
      ],
      "text/plain": [
       "<IPython.core.display.Javascript object>"
      ]
     },
     "metadata": {},
     "output_type": "display_data"
    }
   ],
   "source": [
    "from torch.special import digamma, gammaln"
   ]
  },
  {
   "cell_type": "code",
   "execution_count": 674,
   "id": "6050cfa2",
   "metadata": {},
   "outputs": [
    {
     "data": {
      "application/javascript": [
       "\n",
       "            setTimeout(function() {\n",
       "                var nbb_cell_id = 674;\n",
       "                var nbb_unformatted_code = \"def kl(alpha, beta):\\n    return (\\n        gammaln(alpha.sum(axis=1))\\n        - torch.sum(gammaln(alpha), axis=1)\\n        - gammaln(beta.sum(axis=1))\\n        + torch.sum(gammaln(beta), axis=1)\\n        + torch.sum(\\n            (alpha - beta) * (digamma(alpha) - digamma(alpha.sum(axis=1))[:, None]),\\n            axis=1,\\n        )\\n    )\";\n",
       "                var nbb_formatted_code = \"def kl(alpha, beta):\\n    return (\\n        gammaln(alpha.sum(axis=1))\\n        - torch.sum(gammaln(alpha), axis=1)\\n        - gammaln(beta.sum(axis=1))\\n        + torch.sum(gammaln(beta), axis=1)\\n        + torch.sum(\\n            (alpha - beta) * (digamma(alpha) - digamma(alpha.sum(axis=1))[:, None]),\\n            axis=1,\\n        )\\n    )\";\n",
       "                var nbb_cells = Jupyter.notebook.get_cells();\n",
       "                for (var i = 0; i < nbb_cells.length; ++i) {\n",
       "                    if (nbb_cells[i].input_prompt_number == nbb_cell_id) {\n",
       "                        if (nbb_cells[i].get_text() == nbb_unformatted_code) {\n",
       "                             nbb_cells[i].set_text(nbb_formatted_code);\n",
       "                        }\n",
       "                        break;\n",
       "                    }\n",
       "                }\n",
       "            }, 500);\n",
       "            "
      ],
      "text/plain": [
       "<IPython.core.display.Javascript object>"
      ]
     },
     "metadata": {},
     "output_type": "display_data"
    }
   ],
   "source": [
    "def kl(alpha, beta):\n",
    "    return (\n",
    "        gammaln(alpha.sum(axis=1))\n",
    "        - torch.sum(gammaln(alpha), axis=1)\n",
    "        - gammaln(beta.sum(axis=1))\n",
    "        + torch.sum(gammaln(beta), axis=1)\n",
    "        + torch.sum(\n",
    "            (alpha - beta) * (digamma(alpha) - digamma(alpha.sum(axis=1))[:, None]),\n",
    "            axis=1,\n",
    "        )\n",
    "    )"
   ]
  },
  {
   "cell_type": "code",
   "execution_count": 675,
   "id": "e4aa5cfa",
   "metadata": {},
   "outputs": [
    {
     "data": {
      "text/plain": [
       "array([[ 13,   9,  19,  38,  94],\n",
       "       [ 13,   5,   7,  24,  49],\n",
       "       [  7,   3,   5,  49, 154],\n",
       "       ...,\n",
       "       [  2,   1,   1,   1,   4],\n",
       "       [  2,   1,   1,   1,   2],\n",
       "       [  1,   1,   1,   1,   2]])"
      ]
     },
     "execution_count": 675,
     "metadata": {},
     "output_type": "execute_result"
    },
    {
     "data": {
      "application/javascript": [
       "\n",
       "            setTimeout(function() {\n",
       "                var nbb_cell_id = 675;\n",
       "                var nbb_unformatted_code = \"# Add 1 to the ratings as sometimes they are 0. Then it is a problem with KL divergence calculation\\nratings = np.array(merged_df.loc[:, [\\\"1\\\", \\\"2\\\", \\\"3\\\", \\\"4\\\", \\\"5\\\"]].astype(\\\"int\\\")) + 1\\nratings\";\n",
       "                var nbb_formatted_code = \"# Add 1 to the ratings as sometimes they are 0. Then it is a problem with KL divergence calculation\\nratings = np.array(merged_df.loc[:, [\\\"1\\\", \\\"2\\\", \\\"3\\\", \\\"4\\\", \\\"5\\\"]].astype(\\\"int\\\")) + 1\\nratings\";\n",
       "                var nbb_cells = Jupyter.notebook.get_cells();\n",
       "                for (var i = 0; i < nbb_cells.length; ++i) {\n",
       "                    if (nbb_cells[i].input_prompt_number == nbb_cell_id) {\n",
       "                        if (nbb_cells[i].get_text() == nbb_unformatted_code) {\n",
       "                             nbb_cells[i].set_text(nbb_formatted_code);\n",
       "                        }\n",
       "                        break;\n",
       "                    }\n",
       "                }\n",
       "            }, 500);\n",
       "            "
      ],
      "text/plain": [
       "<IPython.core.display.Javascript object>"
      ]
     },
     "metadata": {},
     "output_type": "display_data"
    }
   ],
   "source": [
    "# Add 1 to the ratings as sometimes they are 0. Then it is a problem with KL divergence calculation\n",
    "ratings = np.array(merged_df.loc[:, [\"1\", \"2\", \"3\", \"4\", \"5\"]].astype(\"int\")) + 1\n",
    "ratings"
   ]
  },
  {
   "cell_type": "code",
   "execution_count": 676,
   "id": "c26ce8fc",
   "metadata": {},
   "outputs": [
    {
     "data": {
      "text/plain": [
       "tensor([[ 13.,   9.,  19.,  38.,  94.],\n",
       "        [ 13.,   5.,   7.,  24.,  49.],\n",
       "        [  7.,   3.,   5.,  49., 154.],\n",
       "        ...,\n",
       "        [  2.,   1.,   1.,   1.,   4.],\n",
       "        [  2.,   1.,   1.,   1.,   2.],\n",
       "        [  1.,   1.,   1.,   1.,   2.]])"
      ]
     },
     "execution_count": 676,
     "metadata": {},
     "output_type": "execute_result"
    },
    {
     "data": {
      "application/javascript": [
       "\n",
       "            setTimeout(function() {\n",
       "                var nbb_cell_id = 676;\n",
       "                var nbb_unformatted_code = \"ratings = torch.from_numpy(ratings).type(torch.FloatTensor)\\nratings\";\n",
       "                var nbb_formatted_code = \"ratings = torch.from_numpy(ratings).type(torch.FloatTensor)\\nratings\";\n",
       "                var nbb_cells = Jupyter.notebook.get_cells();\n",
       "                for (var i = 0; i < nbb_cells.length; ++i) {\n",
       "                    if (nbb_cells[i].input_prompt_number == nbb_cell_id) {\n",
       "                        if (nbb_cells[i].get_text() == nbb_unformatted_code) {\n",
       "                             nbb_cells[i].set_text(nbb_formatted_code);\n",
       "                        }\n",
       "                        break;\n",
       "                    }\n",
       "                }\n",
       "            }, 500);\n",
       "            "
      ],
      "text/plain": [
       "<IPython.core.display.Javascript object>"
      ]
     },
     "metadata": {},
     "output_type": "display_data"
    }
   ],
   "source": [
    "ratings = torch.from_numpy(ratings).type(torch.FloatTensor)\n",
    "ratings"
   ]
  },
  {
   "cell_type": "code",
   "execution_count": 677,
   "id": "2c12613e",
   "metadata": {},
   "outputs": [
    {
     "data": {
      "text/plain": [
       "tensor([[ 0.0001,  0.0001, -0.0027,  ...,  0.0010,  0.0040,  0.0017],\n",
       "        [-0.0012, -0.0015, -0.0006,  ...,  0.0007,  0.0038,  0.0027],\n",
       "        [ 0.0014, -0.0042, -0.0024,  ..., -0.0018,  0.0027, -0.0043],\n",
       "        ...,\n",
       "        [-0.0136, -0.0093,  0.0083,  ..., -0.0255,  0.0027, -0.0097],\n",
       "        [-0.0133, -0.0195, -0.0198,  ...,  0.0014, -0.0079,  0.0077],\n",
       "        [ 0.0004,  0.0004,  0.0007,  ...,  0.0020,  0.0008, -0.0012]])"
      ]
     },
     "execution_count": 677,
     "metadata": {},
     "output_type": "execute_result"
    },
    {
     "data": {
      "application/javascript": [
       "\n",
       "            setTimeout(function() {\n",
       "                var nbb_cell_id = 677;\n",
       "                var nbb_unformatted_code = \"embeddings = torch.from_numpy(\\n    np.array([np.array(e).astype(\\\"float\\\") for e in merged_df.embedding])\\n).type(torch.FloatTensor)\\nembeddings\";\n",
       "                var nbb_formatted_code = \"embeddings = torch.from_numpy(\\n    np.array([np.array(e).astype(\\\"float\\\") for e in merged_df.embedding])\\n).type(torch.FloatTensor)\\nembeddings\";\n",
       "                var nbb_cells = Jupyter.notebook.get_cells();\n",
       "                for (var i = 0; i < nbb_cells.length; ++i) {\n",
       "                    if (nbb_cells[i].input_prompt_number == nbb_cell_id) {\n",
       "                        if (nbb_cells[i].get_text() == nbb_unformatted_code) {\n",
       "                             nbb_cells[i].set_text(nbb_formatted_code);\n",
       "                        }\n",
       "                        break;\n",
       "                    }\n",
       "                }\n",
       "            }, 500);\n",
       "            "
      ],
      "text/plain": [
       "<IPython.core.display.Javascript object>"
      ]
     },
     "metadata": {},
     "output_type": "display_data"
    }
   ],
   "source": [
    "embeddings = torch.from_numpy(\n",
    "    np.array([np.array(e).astype(\"float\") for e in merged_df.embedding])\n",
    ").type(torch.FloatTensor)\n",
    "embeddings"
   ]
  },
  {
   "cell_type": "code",
   "execution_count": 712,
   "id": "e9422db2",
   "metadata": {},
   "outputs": [
    {
     "data": {
      "application/javascript": [
       "\n",
       "            setTimeout(function() {\n",
       "                var nbb_cell_id = 712;\n",
       "                var nbb_unformatted_code = \"modules = [\\n    torch.nn.Linear(100, 256),\\n    torch.nn.LeakyReLU(),\\n    torch.nn.Linear(256, 128),\\n    torch.nn.LeakyReLU(),\\n    torch.nn.Linear(128, 64),\\n    torch.nn.LeakyReLU(),\\n    torch.nn.Linear(64, 5),\\n]\";\n",
       "                var nbb_formatted_code = \"modules = [\\n    torch.nn.Linear(100, 256),\\n    torch.nn.LeakyReLU(),\\n    torch.nn.Linear(256, 128),\\n    torch.nn.LeakyReLU(),\\n    torch.nn.Linear(128, 64),\\n    torch.nn.LeakyReLU(),\\n    torch.nn.Linear(64, 5),\\n]\";\n",
       "                var nbb_cells = Jupyter.notebook.get_cells();\n",
       "                for (var i = 0; i < nbb_cells.length; ++i) {\n",
       "                    if (nbb_cells[i].input_prompt_number == nbb_cell_id) {\n",
       "                        if (nbb_cells[i].get_text() == nbb_unformatted_code) {\n",
       "                             nbb_cells[i].set_text(nbb_formatted_code);\n",
       "                        }\n",
       "                        break;\n",
       "                    }\n",
       "                }\n",
       "            }, 500);\n",
       "            "
      ],
      "text/plain": [
       "<IPython.core.display.Javascript object>"
      ]
     },
     "metadata": {},
     "output_type": "display_data"
    }
   ],
   "source": [
    "modules = [\n",
    "    torch.nn.Linear(100, 256),\n",
    "    torch.nn.LeakyReLU(),\n",
    "    torch.nn.Linear(256, 128),\n",
    "    torch.nn.LeakyReLU(),\n",
    "    torch.nn.Linear(128, 64),\n",
    "    torch.nn.LeakyReLU(),\n",
    "    torch.nn.Linear(64, 5),\n",
    "]"
   ]
  },
  {
   "cell_type": "code",
   "execution_count": 713,
   "id": "6582413b",
   "metadata": {},
   "outputs": [
    {
     "data": {
      "application/javascript": [
       "\n",
       "            setTimeout(function() {\n",
       "                var nbb_cell_id = 713;\n",
       "                var nbb_unformatted_code = \"net = torch.nn.Sequential(*modules)\";\n",
       "                var nbb_formatted_code = \"net = torch.nn.Sequential(*modules)\";\n",
       "                var nbb_cells = Jupyter.notebook.get_cells();\n",
       "                for (var i = 0; i < nbb_cells.length; ++i) {\n",
       "                    if (nbb_cells[i].input_prompt_number == nbb_cell_id) {\n",
       "                        if (nbb_cells[i].get_text() == nbb_unformatted_code) {\n",
       "                             nbb_cells[i].set_text(nbb_formatted_code);\n",
       "                        }\n",
       "                        break;\n",
       "                    }\n",
       "                }\n",
       "            }, 500);\n",
       "            "
      ],
      "text/plain": [
       "<IPython.core.display.Javascript object>"
      ]
     },
     "metadata": {},
     "output_type": "display_data"
    }
   ],
   "source": [
    "net = torch.nn.Sequential(*modules)"
   ]
  },
  {
   "cell_type": "code",
   "execution_count": 714,
   "id": "49809a64",
   "metadata": {},
   "outputs": [
    {
     "data": {
      "application/javascript": [
       "\n",
       "            setTimeout(function() {\n",
       "                var nbb_cell_id = 714;\n",
       "                var nbb_unformatted_code = \"class NNModel(torch.nn.Module):\\n    def __init__(self):\\n        super(NNModel, self).__init__()\\n        self.net = net\\n        self.best_model = None\\n        self.best_validation_loss = np.inf\\n        self.epochs_since_last_improvement = 0\\n\\n    def forward(self, x):\\n        y_pred = self.net(x)\\n        # Exponentiate the outputs to ensure they are > 0\\n        y_pred = torch.exp(y_pred)\\n        return y_pred\";\n",
       "                var nbb_formatted_code = \"class NNModel(torch.nn.Module):\\n    def __init__(self):\\n        super(NNModel, self).__init__()\\n        self.net = net\\n        self.best_model = None\\n        self.best_validation_loss = np.inf\\n        self.epochs_since_last_improvement = 0\\n\\n    def forward(self, x):\\n        y_pred = self.net(x)\\n        # Exponentiate the outputs to ensure they are > 0\\n        y_pred = torch.exp(y_pred)\\n        return y_pred\";\n",
       "                var nbb_cells = Jupyter.notebook.get_cells();\n",
       "                for (var i = 0; i < nbb_cells.length; ++i) {\n",
       "                    if (nbb_cells[i].input_prompt_number == nbb_cell_id) {\n",
       "                        if (nbb_cells[i].get_text() == nbb_unformatted_code) {\n",
       "                             nbb_cells[i].set_text(nbb_formatted_code);\n",
       "                        }\n",
       "                        break;\n",
       "                    }\n",
       "                }\n",
       "            }, 500);\n",
       "            "
      ],
      "text/plain": [
       "<IPython.core.display.Javascript object>"
      ]
     },
     "metadata": {},
     "output_type": "display_data"
    }
   ],
   "source": [
    "class NNModel(torch.nn.Module):\n",
    "    def __init__(self):\n",
    "        super(NNModel, self).__init__()\n",
    "        self.net = net\n",
    "        self.best_model = None\n",
    "        self.best_validation_loss = np.inf\n",
    "        self.epochs_since_last_improvement = 0\n",
    "\n",
    "    def forward(self, x):\n",
    "        y_pred = self.net(x)\n",
    "        # Exponentiate the outputs to ensure they are > 0\n",
    "        y_pred = torch.exp(y_pred)\n",
    "        return y_pred"
   ]
  },
  {
   "cell_type": "code",
   "execution_count": 715,
   "id": "103d8342",
   "metadata": {},
   "outputs": [
    {
     "data": {
      "application/javascript": [
       "\n",
       "            setTimeout(function() {\n",
       "                var nbb_cell_id = 715;\n",
       "                var nbb_unformatted_code = \"model = NNModel()\";\n",
       "                var nbb_formatted_code = \"model = NNModel()\";\n",
       "                var nbb_cells = Jupyter.notebook.get_cells();\n",
       "                for (var i = 0; i < nbb_cells.length; ++i) {\n",
       "                    if (nbb_cells[i].input_prompt_number == nbb_cell_id) {\n",
       "                        if (nbb_cells[i].get_text() == nbb_unformatted_code) {\n",
       "                             nbb_cells[i].set_text(nbb_formatted_code);\n",
       "                        }\n",
       "                        break;\n",
       "                    }\n",
       "                }\n",
       "            }, 500);\n",
       "            "
      ],
      "text/plain": [
       "<IPython.core.display.Javascript object>"
      ]
     },
     "metadata": {},
     "output_type": "display_data"
    }
   ],
   "source": [
    "model = NNModel()"
   ]
  },
  {
   "cell_type": "code",
   "execution_count": 716,
   "id": "ad02e05a",
   "metadata": {},
   "outputs": [
    {
     "data": {
      "application/javascript": [
       "\n",
       "            setTimeout(function() {\n",
       "                var nbb_cell_id = 716;\n",
       "                var nbb_unformatted_code = \"criterion = kl\\noptimizer = torch.optim.Adam(model.parameters(), lr=1e-4)\";\n",
       "                var nbb_formatted_code = \"criterion = kl\\noptimizer = torch.optim.Adam(model.parameters(), lr=1e-4)\";\n",
       "                var nbb_cells = Jupyter.notebook.get_cells();\n",
       "                for (var i = 0; i < nbb_cells.length; ++i) {\n",
       "                    if (nbb_cells[i].input_prompt_number == nbb_cell_id) {\n",
       "                        if (nbb_cells[i].get_text() == nbb_unformatted_code) {\n",
       "                             nbb_cells[i].set_text(nbb_formatted_code);\n",
       "                        }\n",
       "                        break;\n",
       "                    }\n",
       "                }\n",
       "            }, 500);\n",
       "            "
      ],
      "text/plain": [
       "<IPython.core.display.Javascript object>"
      ]
     },
     "metadata": {},
     "output_type": "display_data"
    }
   ],
   "source": [
    "criterion = kl\n",
    "optimizer = torch.optim.Adam(model.parameters(), lr=1e-4)"
   ]
  },
  {
   "cell_type": "code",
   "execution_count": 717,
   "id": "97c6b2a6",
   "metadata": {},
   "outputs": [
    {
     "data": {
      "application/javascript": [
       "\n",
       "            setTimeout(function() {\n",
       "                var nbb_cell_id = 717;\n",
       "                var nbb_unformatted_code = \"dataset = TensorDataset(embeddings, ratings)\";\n",
       "                var nbb_formatted_code = \"dataset = TensorDataset(embeddings, ratings)\";\n",
       "                var nbb_cells = Jupyter.notebook.get_cells();\n",
       "                for (var i = 0; i < nbb_cells.length; ++i) {\n",
       "                    if (nbb_cells[i].input_prompt_number == nbb_cell_id) {\n",
       "                        if (nbb_cells[i].get_text() == nbb_unformatted_code) {\n",
       "                             nbb_cells[i].set_text(nbb_formatted_code);\n",
       "                        }\n",
       "                        break;\n",
       "                    }\n",
       "                }\n",
       "            }, 500);\n",
       "            "
      ],
      "text/plain": [
       "<IPython.core.display.Javascript object>"
      ]
     },
     "metadata": {},
     "output_type": "display_data"
    }
   ],
   "source": [
    "dataset = TensorDataset(embeddings, ratings)"
   ]
  },
  {
   "cell_type": "code",
   "execution_count": 718,
   "id": "60af7893",
   "metadata": {},
   "outputs": [
    {
     "data": {
      "text/plain": [
       "(tensor([ 4804,  7090,  2382,  ...,  4883, 10816,  2946]),\n",
       " tensor([ 4439,  1965, 11277,  ...,    41,  9568,  4099]))"
      ]
     },
     "execution_count": 718,
     "metadata": {},
     "output_type": "execute_result"
    },
    {
     "data": {
      "application/javascript": [
       "\n",
       "            setTimeout(function() {\n",
       "                var nbb_cell_id = 718;\n",
       "                var nbb_unformatted_code = \"validation_fraction = 0.1\\nnum_total_examples = len(embeddings)\\nnum_training_examples = int((1 - validation_fraction) * num_total_examples)\\nnum_validation_examples = num_total_examples - num_training_examples\\n\\npermuted_indices = torch.randperm(num_total_examples)\\ntrain_indices, val_indices = (\\n    permuted_indices[:num_training_examples],\\n    permuted_indices[num_training_examples:],\\n)\\ntrain_indices, val_indices\";\n",
       "                var nbb_formatted_code = \"validation_fraction = 0.1\\nnum_total_examples = len(embeddings)\\nnum_training_examples = int((1 - validation_fraction) * num_total_examples)\\nnum_validation_examples = num_total_examples - num_training_examples\\n\\npermuted_indices = torch.randperm(num_total_examples)\\ntrain_indices, val_indices = (\\n    permuted_indices[:num_training_examples],\\n    permuted_indices[num_training_examples:],\\n)\\ntrain_indices, val_indices\";\n",
       "                var nbb_cells = Jupyter.notebook.get_cells();\n",
       "                for (var i = 0; i < nbb_cells.length; ++i) {\n",
       "                    if (nbb_cells[i].input_prompt_number == nbb_cell_id) {\n",
       "                        if (nbb_cells[i].get_text() == nbb_unformatted_code) {\n",
       "                             nbb_cells[i].set_text(nbb_formatted_code);\n",
       "                        }\n",
       "                        break;\n",
       "                    }\n",
       "                }\n",
       "            }, 500);\n",
       "            "
      ],
      "text/plain": [
       "<IPython.core.display.Javascript object>"
      ]
     },
     "metadata": {},
     "output_type": "display_data"
    }
   ],
   "source": [
    "validation_fraction = 0.1\n",
    "num_total_examples = len(embeddings)\n",
    "num_training_examples = int((1 - validation_fraction) * num_total_examples)\n",
    "num_validation_examples = num_total_examples - num_training_examples\n",
    "\n",
    "permuted_indices = torch.randperm(num_total_examples)\n",
    "train_indices, val_indices = (\n",
    "    permuted_indices[:num_training_examples],\n",
    "    permuted_indices[num_training_examples:],\n",
    ")\n",
    "train_indices, val_indices"
   ]
  },
  {
   "cell_type": "code",
   "execution_count": 719,
   "id": "81b33cb0",
   "metadata": {},
   "outputs": [
    {
     "data": {
      "text/plain": [
       "(torch.Size([10155]), torch.Size([1129]))"
      ]
     },
     "execution_count": 719,
     "metadata": {},
     "output_type": "execute_result"
    },
    {
     "data": {
      "application/javascript": [
       "\n",
       "            setTimeout(function() {\n",
       "                var nbb_cell_id = 719;\n",
       "                var nbb_unformatted_code = \"train_indices.shape, val_indices.shape\";\n",
       "                var nbb_formatted_code = \"train_indices.shape, val_indices.shape\";\n",
       "                var nbb_cells = Jupyter.notebook.get_cells();\n",
       "                for (var i = 0; i < nbb_cells.length; ++i) {\n",
       "                    if (nbb_cells[i].input_prompt_number == nbb_cell_id) {\n",
       "                        if (nbb_cells[i].get_text() == nbb_unformatted_code) {\n",
       "                             nbb_cells[i].set_text(nbb_formatted_code);\n",
       "                        }\n",
       "                        break;\n",
       "                    }\n",
       "                }\n",
       "            }, 500);\n",
       "            "
      ],
      "text/plain": [
       "<IPython.core.display.Javascript object>"
      ]
     },
     "metadata": {},
     "output_type": "display_data"
    }
   ],
   "source": [
    "train_indices.shape, val_indices.shape"
   ]
  },
  {
   "cell_type": "code",
   "execution_count": 720,
   "id": "26abb982",
   "metadata": {},
   "outputs": [
    {
     "data": {
      "application/javascript": [
       "\n",
       "            setTimeout(function() {\n",
       "                var nbb_cell_id = 720;\n",
       "                var nbb_unformatted_code = \"dataloader_kwargs = None\\ntraining_batch_size = 50\\n\\ntrain_loader_kwargs = {\\n    \\\"batch_size\\\": min(training_batch_size, num_training_examples),\\n    \\\"drop_last\\\": True,\\n    \\\"sampler\\\": sampler.SubsetRandomSampler(train_indices),\\n}\\ntrain_loader_kwargs = (\\n    dict(train_loader_kwargs, **dataloader_kwargs)\\n    if dataloader_kwargs is not None\\n    else train_loader_kwargs\\n)\\nval_loader_kwargs = {\\n    \\\"batch_size\\\": min(training_batch_size, num_validation_examples),\\n    \\\"shuffle\\\": False,\\n    \\\"drop_last\\\": True,\\n    \\\"sampler\\\": sampler.SubsetRandomSampler(val_indices),\\n}\\nval_loader_kwargs = (\\n    dict(val_loader_kwargs, **dataloader_kwargs)\\n    if dataloader_kwargs is not None\\n    else val_loader_kwargs\\n)\";\n",
       "                var nbb_formatted_code = \"dataloader_kwargs = None\\ntraining_batch_size = 50\\n\\ntrain_loader_kwargs = {\\n    \\\"batch_size\\\": min(training_batch_size, num_training_examples),\\n    \\\"drop_last\\\": True,\\n    \\\"sampler\\\": sampler.SubsetRandomSampler(train_indices),\\n}\\ntrain_loader_kwargs = (\\n    dict(train_loader_kwargs, **dataloader_kwargs)\\n    if dataloader_kwargs is not None\\n    else train_loader_kwargs\\n)\\nval_loader_kwargs = {\\n    \\\"batch_size\\\": min(training_batch_size, num_validation_examples),\\n    \\\"shuffle\\\": False,\\n    \\\"drop_last\\\": True,\\n    \\\"sampler\\\": sampler.SubsetRandomSampler(val_indices),\\n}\\nval_loader_kwargs = (\\n    dict(val_loader_kwargs, **dataloader_kwargs)\\n    if dataloader_kwargs is not None\\n    else val_loader_kwargs\\n)\";\n",
       "                var nbb_cells = Jupyter.notebook.get_cells();\n",
       "                for (var i = 0; i < nbb_cells.length; ++i) {\n",
       "                    if (nbb_cells[i].input_prompt_number == nbb_cell_id) {\n",
       "                        if (nbb_cells[i].get_text() == nbb_unformatted_code) {\n",
       "                             nbb_cells[i].set_text(nbb_formatted_code);\n",
       "                        }\n",
       "                        break;\n",
       "                    }\n",
       "                }\n",
       "            }, 500);\n",
       "            "
      ],
      "text/plain": [
       "<IPython.core.display.Javascript object>"
      ]
     },
     "metadata": {},
     "output_type": "display_data"
    }
   ],
   "source": [
    "dataloader_kwargs = None\n",
    "training_batch_size = 50\n",
    "\n",
    "train_loader_kwargs = {\n",
    "    \"batch_size\": min(training_batch_size, num_training_examples),\n",
    "    \"drop_last\": True,\n",
    "    \"sampler\": sampler.SubsetRandomSampler(train_indices),\n",
    "}\n",
    "train_loader_kwargs = (\n",
    "    dict(train_loader_kwargs, **dataloader_kwargs)\n",
    "    if dataloader_kwargs is not None\n",
    "    else train_loader_kwargs\n",
    ")\n",
    "val_loader_kwargs = {\n",
    "    \"batch_size\": min(training_batch_size, num_validation_examples),\n",
    "    \"shuffle\": False,\n",
    "    \"drop_last\": True,\n",
    "    \"sampler\": sampler.SubsetRandomSampler(val_indices),\n",
    "}\n",
    "val_loader_kwargs = (\n",
    "    dict(val_loader_kwargs, **dataloader_kwargs)\n",
    "    if dataloader_kwargs is not None\n",
    "    else val_loader_kwargs\n",
    ")"
   ]
  },
  {
   "cell_type": "code",
   "execution_count": 721,
   "id": "264dedf7",
   "metadata": {},
   "outputs": [
    {
     "data": {
      "application/javascript": [
       "\n",
       "            setTimeout(function() {\n",
       "                var nbb_cell_id = 721;\n",
       "                var nbb_unformatted_code = \"train_loader = DataLoader(dataset, **train_loader_kwargs)\\nval_loader = DataLoader(dataset, **val_loader_kwargs)\";\n",
       "                var nbb_formatted_code = \"train_loader = DataLoader(dataset, **train_loader_kwargs)\\nval_loader = DataLoader(dataset, **val_loader_kwargs)\";\n",
       "                var nbb_cells = Jupyter.notebook.get_cells();\n",
       "                for (var i = 0; i < nbb_cells.length; ++i) {\n",
       "                    if (nbb_cells[i].input_prompt_number == nbb_cell_id) {\n",
       "                        if (nbb_cells[i].get_text() == nbb_unformatted_code) {\n",
       "                             nbb_cells[i].set_text(nbb_formatted_code);\n",
       "                        }\n",
       "                        break;\n",
       "                    }\n",
       "                }\n",
       "            }, 500);\n",
       "            "
      ],
      "text/plain": [
       "<IPython.core.display.Javascript object>"
      ]
     },
     "metadata": {},
     "output_type": "display_data"
    }
   ],
   "source": [
    "train_loader = DataLoader(dataset, **train_loader_kwargs)\n",
    "val_loader = DataLoader(dataset, **val_loader_kwargs)"
   ]
  },
  {
   "cell_type": "code",
   "execution_count": 722,
   "id": "084f7d75",
   "metadata": {},
   "outputs": [
    {
     "data": {
      "application/javascript": [
       "\n",
       "            setTimeout(function() {\n",
       "                var nbb_cell_id = 722;\n",
       "                var nbb_unformatted_code = \"def converged(epoch, stop_after_epochs, validation_loss, model):\\n    converged = False\\n    # (Re)-start the epoch count with the first epoch or any improvement.\\n    if epoch == 0 or validation_loss < model.best_validation_loss:\\n        model.best_validation_loss = validation_loss\\n        model.epochs_since_last_improvement = 0\\n        model.best_model = copy.deepcopy(model.net.state_dict())\\n    else:\\n        model.epochs_since_last_improvement += 1\\n\\n    # If no validation improvement over many epochs, stop training.\\n    if model.epochs_since_last_improvement > stop_after_epochs - 1:\\n        model.net.load_state_dict(model.best_model)\\n        converged = True\\n    return converged\";\n",
       "                var nbb_formatted_code = \"def converged(epoch, stop_after_epochs, validation_loss, model):\\n    converged = False\\n    # (Re)-start the epoch count with the first epoch or any improvement.\\n    if epoch == 0 or validation_loss < model.best_validation_loss:\\n        model.best_validation_loss = validation_loss\\n        model.epochs_since_last_improvement = 0\\n        model.best_model = copy.deepcopy(model.net.state_dict())\\n    else:\\n        model.epochs_since_last_improvement += 1\\n\\n    # If no validation improvement over many epochs, stop training.\\n    if model.epochs_since_last_improvement > stop_after_epochs - 1:\\n        model.net.load_state_dict(model.best_model)\\n        converged = True\\n    return converged\";\n",
       "                var nbb_cells = Jupyter.notebook.get_cells();\n",
       "                for (var i = 0; i < nbb_cells.length; ++i) {\n",
       "                    if (nbb_cells[i].input_prompt_number == nbb_cell_id) {\n",
       "                        if (nbb_cells[i].get_text() == nbb_unformatted_code) {\n",
       "                             nbb_cells[i].set_text(nbb_formatted_code);\n",
       "                        }\n",
       "                        break;\n",
       "                    }\n",
       "                }\n",
       "            }, 500);\n",
       "            "
      ],
      "text/plain": [
       "<IPython.core.display.Javascript object>"
      ]
     },
     "metadata": {},
     "output_type": "display_data"
    }
   ],
   "source": [
    "def converged(epoch, stop_after_epochs, validation_loss, model):\n",
    "    converged = False\n",
    "    # (Re)-start the epoch count with the first epoch or any improvement.\n",
    "    if epoch == 0 or validation_loss < model.best_validation_loss:\n",
    "        model.best_validation_loss = validation_loss\n",
    "        model.epochs_since_last_improvement = 0\n",
    "        model.best_model = copy.deepcopy(model.net.state_dict())\n",
    "    else:\n",
    "        model.epochs_since_last_improvement += 1\n",
    "\n",
    "    # If no validation improvement over many epochs, stop training.\n",
    "    if model.epochs_since_last_improvement > stop_after_epochs - 1:\n",
    "        model.net.load_state_dict(model.best_model)\n",
    "        converged = True\n",
    "    return converged"
   ]
  },
  {
   "cell_type": "code",
   "execution_count": 723,
   "id": "2675293a",
   "metadata": {},
   "outputs": [
    {
     "name": "stdout",
     "output_type": "stream",
     "text": [
      "Train Loss after epoch: 0: 28.696621087664514\n",
      "Validation loss after epoch: 0: 15.830731708671902\n",
      "Train Loss after epoch: 50: 5.201503834895815\n",
      "Validation loss after epoch: 50: 5.325802941571515\n",
      "Train Loss after epoch: 100: 4.285095430606107\n",
      "Validation loss after epoch: 100: 5.333335764963507\n",
      "Stopping after epoch 132 as validation loss was not improving further\n",
      "Training process has finished.\n",
      "Best loss: 5.09647601890395\n"
     ]
    },
    {
     "data": {
      "application/javascript": [
       "\n",
       "            setTimeout(function() {\n",
       "                var nbb_cell_id = 723;\n",
       "                var nbb_unformatted_code = \"# Run the training loop\\nfor epoch in range(500):  # 5 epochs at maximum\\n    model.train()\\n\\n    # Set current loss value\\n    train_loss = 0.0\\n\\n    # Iterate over the DataLoader for training data\\n    for i, (inputs, targets) in enumerate(train_loader):\\n\\n        # Zero the gradients\\n        optimizer.zero_grad()\\n\\n        # Perform forward pass\\n        outputs = model(inputs)\\n\\n        # Compute loss\\n        loss = criterion(outputs, targets).mean()\\n\\n        # Perform backward pass\\n        loss.backward()\\n\\n        # Perform optimization\\n        optimizer.step()\\n\\n        # Print statistics\\n        train_loss += loss.item() * len(inputs)\\n\\n    train_loss /= len(train_indices)\\n\\n    model.eval()\\n    val_loss = 0.0\\n    with torch.no_grad():\\n        for i, (inputs, targets) in enumerate(val_loader):\\n            preds = model(inputs)\\n            loss = criterion(preds, targets).mean()\\n            val_loss += loss.item() * len(inputs)\\n        val_loss /= len(val_indices)\\n\\n    if epoch % 50 == 0:\\n        print(f\\\"Train Loss after epoch: {epoch}: {train_loss}\\\")\\n        print(f\\\"Validation loss after epoch: {epoch}: {val_loss}\\\")\\n    if converged(epoch, 50, val_loss, model):\\n        print(\\n            f\\\"Stopping after epoch {epoch} as validation loss was not improving further\\\"\\n        )\\n        break\\n\\n# Process is complete.\\nprint(\\\"Training process has finished.\\\")\\nprint(f\\\"Best loss: {model.best_validation_loss}\\\")\";\n",
       "                var nbb_formatted_code = \"# Run the training loop\\nfor epoch in range(500):  # 5 epochs at maximum\\n    model.train()\\n\\n    # Set current loss value\\n    train_loss = 0.0\\n\\n    # Iterate over the DataLoader for training data\\n    for i, (inputs, targets) in enumerate(train_loader):\\n\\n        # Zero the gradients\\n        optimizer.zero_grad()\\n\\n        # Perform forward pass\\n        outputs = model(inputs)\\n\\n        # Compute loss\\n        loss = criterion(outputs, targets).mean()\\n\\n        # Perform backward pass\\n        loss.backward()\\n\\n        # Perform optimization\\n        optimizer.step()\\n\\n        # Print statistics\\n        train_loss += loss.item() * len(inputs)\\n\\n    train_loss /= len(train_indices)\\n\\n    model.eval()\\n    val_loss = 0.0\\n    with torch.no_grad():\\n        for i, (inputs, targets) in enumerate(val_loader):\\n            preds = model(inputs)\\n            loss = criterion(preds, targets).mean()\\n            val_loss += loss.item() * len(inputs)\\n        val_loss /= len(val_indices)\\n\\n    if epoch % 50 == 0:\\n        print(f\\\"Train Loss after epoch: {epoch}: {train_loss}\\\")\\n        print(f\\\"Validation loss after epoch: {epoch}: {val_loss}\\\")\\n    if converged(epoch, 50, val_loss, model):\\n        print(\\n            f\\\"Stopping after epoch {epoch} as validation loss was not improving further\\\"\\n        )\\n        break\\n\\n# Process is complete.\\nprint(\\\"Training process has finished.\\\")\\nprint(f\\\"Best loss: {model.best_validation_loss}\\\")\";\n",
       "                var nbb_cells = Jupyter.notebook.get_cells();\n",
       "                for (var i = 0; i < nbb_cells.length; ++i) {\n",
       "                    if (nbb_cells[i].input_prompt_number == nbb_cell_id) {\n",
       "                        if (nbb_cells[i].get_text() == nbb_unformatted_code) {\n",
       "                             nbb_cells[i].set_text(nbb_formatted_code);\n",
       "                        }\n",
       "                        break;\n",
       "                    }\n",
       "                }\n",
       "            }, 500);\n",
       "            "
      ],
      "text/plain": [
       "<IPython.core.display.Javascript object>"
      ]
     },
     "metadata": {},
     "output_type": "display_data"
    }
   ],
   "source": [
    "# Run the training loop\n",
    "for epoch in range(500):  # 5 epochs at maximum\n",
    "    model.train()\n",
    "\n",
    "    # Set current loss value\n",
    "    train_loss = 0.0\n",
    "\n",
    "    # Iterate over the DataLoader for training data\n",
    "    for i, (inputs, targets) in enumerate(train_loader):\n",
    "\n",
    "        # Zero the gradients\n",
    "        optimizer.zero_grad()\n",
    "\n",
    "        # Perform forward pass\n",
    "        outputs = model(inputs)\n",
    "\n",
    "        # Compute loss\n",
    "        loss = criterion(outputs, targets).mean()\n",
    "\n",
    "        # Perform backward pass\n",
    "        loss.backward()\n",
    "\n",
    "        # Perform optimization\n",
    "        optimizer.step()\n",
    "\n",
    "        # Print statistics\n",
    "        train_loss += loss.item() * len(inputs)\n",
    "\n",
    "    train_loss /= len(train_indices)\n",
    "\n",
    "    model.eval()\n",
    "    val_loss = 0.0\n",
    "    with torch.no_grad():\n",
    "        for i, (inputs, targets) in enumerate(val_loader):\n",
    "            preds = model(inputs)\n",
    "            loss = criterion(preds, targets).mean()\n",
    "            val_loss += loss.item() * len(inputs)\n",
    "        val_loss /= len(val_indices)\n",
    "\n",
    "    if epoch % 50 == 0:\n",
    "        print(f\"Train Loss after epoch: {epoch}: {train_loss}\")\n",
    "        print(f\"Validation loss after epoch: {epoch}: {val_loss}\")\n",
    "    if converged(epoch, 50, val_loss, model):\n",
    "        print(\n",
    "            f\"Stopping after epoch {epoch} as validation loss was not improving further\"\n",
    "        )\n",
    "        break\n",
    "\n",
    "# Process is complete.\n",
    "print(\"Training process has finished.\")\n",
    "print(f\"Best loss: {model.best_validation_loss}\")"
   ]
  },
  {
   "cell_type": "code",
   "execution_count": 696,
   "id": "95d5ddea",
   "metadata": {},
   "outputs": [
    {
     "name": "stdout",
     "output_type": "stream",
     "text": [
      "tensor([ 4.1850,  1.7424, 23.7996, 19.3998, 20.1095])\n"
     ]
    },
    {
     "data": {
      "application/javascript": [
       "\n",
       "            setTimeout(function() {\n",
       "                var nbb_cell_id = 696;\n",
       "                var nbb_unformatted_code = \"model.eval()\\nwith torch.no_grad():\\n    outputs = model(embeddings[:5])\\n    print(kl(outputs, ratings[:5]))\";\n",
       "                var nbb_formatted_code = \"model.eval()\\nwith torch.no_grad():\\n    outputs = model(embeddings[:5])\\n    print(kl(outputs, ratings[:5]))\";\n",
       "                var nbb_cells = Jupyter.notebook.get_cells();\n",
       "                for (var i = 0; i < nbb_cells.length; ++i) {\n",
       "                    if (nbb_cells[i].input_prompt_number == nbb_cell_id) {\n",
       "                        if (nbb_cells[i].get_text() == nbb_unformatted_code) {\n",
       "                             nbb_cells[i].set_text(nbb_formatted_code);\n",
       "                        }\n",
       "                        break;\n",
       "                    }\n",
       "                }\n",
       "            }, 500);\n",
       "            "
      ],
      "text/plain": [
       "<IPython.core.display.Javascript object>"
      ]
     },
     "metadata": {},
     "output_type": "display_data"
    }
   ],
   "source": [
    "model.eval()\n",
    "with torch.no_grad():\n",
    "    outputs = model(embeddings[:5])\n",
    "    print(kl(outputs, ratings[:5]))"
   ]
  },
  {
   "cell_type": "code",
   "execution_count": 697,
   "id": "3389aa46",
   "metadata": {},
   "outputs": [
    {
     "data": {
      "text/plain": [
       "tensor([[ 2.7065,  0.3074,  2.0327, 20.7470, 62.8881],\n",
       "        [ 2.3915,  0.2520,  1.8001, 18.1498, 54.5174],\n",
       "        [ 2.6172,  0.2925,  1.9780, 20.1015, 60.4683],\n",
       "        [ 2.5031,  0.2714,  1.8819, 19.0222, 57.4996],\n",
       "        [ 2.7197,  0.3101,  2.0448, 20.8684, 63.2995]])"
      ]
     },
     "execution_count": 697,
     "metadata": {},
     "output_type": "execute_result"
    },
    {
     "data": {
      "application/javascript": [
       "\n",
       "            setTimeout(function() {\n",
       "                var nbb_cell_id = 697;\n",
       "                var nbb_unformatted_code = \"gammaln(outputs)\";\n",
       "                var nbb_formatted_code = \"gammaln(outputs)\";\n",
       "                var nbb_cells = Jupyter.notebook.get_cells();\n",
       "                for (var i = 0; i < nbb_cells.length; ++i) {\n",
       "                    if (nbb_cells[i].input_prompt_number == nbb_cell_id) {\n",
       "                        if (nbb_cells[i].get_text() == nbb_unformatted_code) {\n",
       "                             nbb_cells[i].set_text(nbb_formatted_code);\n",
       "                        }\n",
       "                        break;\n",
       "                    }\n",
       "                }\n",
       "            }, 500);\n",
       "            "
      ],
      "text/plain": [
       "<IPython.core.display.Javascript object>"
      ]
     },
     "metadata": {},
     "output_type": "display_data"
    }
   ],
   "source": [
    "gammaln(outputs)\n"
   ]
  },
  {
   "cell_type": "code",
   "execution_count": 698,
   "id": "e04330f3",
   "metadata": {},
   "outputs": [
    {
     "data": {
      "text/plain": [
       "tensor([[ 0.0193,  0.0311,  0.0068,  ...,  0.0087,  0.0058, -0.0268],\n",
       "        [-0.0008, -0.0651,  0.0018,  ...,  0.0317, -0.0021, -0.0252],\n",
       "        [ 0.0032,  0.0172,  0.0141,  ..., -0.0398, -0.0284, -0.0166],\n",
       "        ...,\n",
       "        [ 0.0070, -0.0199, -0.0136,  ..., -0.0250,  0.0004,  0.0284],\n",
       "        [-0.0087,  0.0169, -0.0195,  ...,  0.0076,  0.0370,  0.0318],\n",
       "        [-0.0181,  0.0226, -0.0023,  ...,  0.0106, -0.0327, -0.0270]])"
      ]
     },
     "execution_count": 698,
     "metadata": {},
     "output_type": "execute_result"
    },
    {
     "data": {
      "application/javascript": [
       "\n",
       "            setTimeout(function() {\n",
       "                var nbb_cell_id = 698;\n",
       "                var nbb_unformatted_code = \"inputs\";\n",
       "                var nbb_formatted_code = \"inputs\";\n",
       "                var nbb_cells = Jupyter.notebook.get_cells();\n",
       "                for (var i = 0; i < nbb_cells.length; ++i) {\n",
       "                    if (nbb_cells[i].input_prompt_number == nbb_cell_id) {\n",
       "                        if (nbb_cells[i].get_text() == nbb_unformatted_code) {\n",
       "                             nbb_cells[i].set_text(nbb_formatted_code);\n",
       "                        }\n",
       "                        break;\n",
       "                    }\n",
       "                }\n",
       "            }, 500);\n",
       "            "
      ],
      "text/plain": [
       "<IPython.core.display.Javascript object>"
      ]
     },
     "metadata": {},
     "output_type": "display_data"
    }
   ],
   "source": [
    "inputs"
   ]
  },
  {
   "cell_type": "code",
   "execution_count": 699,
   "id": "ec88be94",
   "metadata": {},
   "outputs": [
    {
     "data": {
      "text/plain": [
       "tensor([[  1.,   1.,   1.,   1.,   6.],\n",
       "        [  2.,   1.,   1.,   2.,   9.],\n",
       "        [  1.,   2.,   1.,   1.,   2.],\n",
       "        [  3.,   2.,   4.,   4.,   4.],\n",
       "        [  1.,   1.,   1.,   1.,   3.],\n",
       "        [  1.,   1.,   1.,   1.,   2.],\n",
       "        [  1.,   1.,   1.,   3.,  14.],\n",
       "        [  4.,   1.,  10.,  16.,  33.],\n",
       "        [  3.,   1.,   2.,   1.,   5.],\n",
       "        [  1.,   1.,   1.,   1.,   2.],\n",
       "        [  1.,   1.,   1.,   1.,   2.],\n",
       "        [  6.,   2.,   5.,  15.,  39.],\n",
       "        [ 19.,   8.,   8.,  17.,  11.],\n",
       "        [  9.,   2.,   5.,  20., 248.],\n",
       "        [  1.,   1.,   1.,   1.,   3.],\n",
       "        [  2.,   1.,   1.,   1.,   1.],\n",
       "        [  1.,   1.,   2.,   7.,  32.],\n",
       "        [  3.,   1.,   2.,   6.,  15.],\n",
       "        [  4.,   2.,   3.,   1.,   3.],\n",
       "        [  1.,   1.,   2.,   5.,   7.],\n",
       "        [  2.,   1.,   1.,   1.,   1.],\n",
       "        [  1.,   1.,   1.,   5.,   7.],\n",
       "        [  1.,   2.,   1.,   1.,   2.],\n",
       "        [  1.,   1.,   1.,   1.,   2.],\n",
       "        [  1.,   3.,   7.,   9.,  21.],\n",
       "        [  1.,   1.,   1.,   1.,   2.],\n",
       "        [  2.,   1.,   1.,   2.,   1.],\n",
       "        [  4.,   1.,   1.,   3.,   2.],\n",
       "        [  2.,   1.,   1.,   2.,   2.],\n",
       "        [  1.,   1.,   1.,   3.,   5.],\n",
       "        [  2.,   6.,  10.,  26.,  70.],\n",
       "        [ 22.,  12.,  18.,  39.,  42.],\n",
       "        [  5.,   2.,   5.,  32., 139.],\n",
       "        [  6.,   2.,   3.,  14.,  23.],\n",
       "        [  1.,   1.,   1.,   2.,   1.],\n",
       "        [  1.,   1.,   1.,   1.,   2.],\n",
       "        [  1.,   1.,   1.,   7.,   6.],\n",
       "        [  9.,   6.,   6.,  22.,  33.],\n",
       "        [  1.,   1.,   1.,   1.,   2.],\n",
       "        [  1.,   1.,   1.,   1.,   3.],\n",
       "        [  5.,   3.,   7.,  12.,  19.],\n",
       "        [  2.,   1.,   4.,   7.,  19.],\n",
       "        [  2.,   1.,   1.,   1.,   1.],\n",
       "        [  7.,   5.,   4.,   6.,  14.],\n",
       "        [  8.,   2.,   1.,   3.,   9.],\n",
       "        [  1.,   2.,   1.,   1.,   1.],\n",
       "        [  1.,   1.,   2.,   2.,   1.],\n",
       "        [  5.,   2.,   1.,   3.,   2.],\n",
       "        [  1.,   1.,   3.,   1.,   2.],\n",
       "        [  1.,   2.,   2.,   2.,   3.]])"
      ]
     },
     "execution_count": 699,
     "metadata": {},
     "output_type": "execute_result"
    },
    {
     "data": {
      "application/javascript": [
       "\n",
       "            setTimeout(function() {\n",
       "                var nbb_cell_id = 699;\n",
       "                var nbb_unformatted_code = \"targets\";\n",
       "                var nbb_formatted_code = \"targets\";\n",
       "                var nbb_cells = Jupyter.notebook.get_cells();\n",
       "                for (var i = 0; i < nbb_cells.length; ++i) {\n",
       "                    if (nbb_cells[i].input_prompt_number == nbb_cell_id) {\n",
       "                        if (nbb_cells[i].get_text() == nbb_unformatted_code) {\n",
       "                             nbb_cells[i].set_text(nbb_formatted_code);\n",
       "                        }\n",
       "                        break;\n",
       "                    }\n",
       "                }\n",
       "            }, 500);\n",
       "            "
      ],
      "text/plain": [
       "<IPython.core.display.Javascript object>"
      ]
     },
     "metadata": {},
     "output_type": "display_data"
    }
   ],
   "source": [
    "targets"
   ]
  },
  {
   "cell_type": "code",
   "execution_count": 700,
   "id": "923eec13",
   "metadata": {},
   "outputs": [
    {
     "data": {
      "text/plain": [
       "tensor([[ 5.2424,  2.7415,  4.7394, 16.5629, 34.1942],\n",
       "        [ 4.8815,  2.5691,  4.2172, 13.4812, 29.0481],\n",
       "        [ 4.4172,  2.4572,  4.0340, 12.4516, 24.1641],\n",
       "        [ 3.0491,  1.9080,  2.7941,  6.3545, 11.0690],\n",
       "        [ 3.0723,  1.9101,  2.7841,  6.3511, 11.2801],\n",
       "        [ 4.9537,  2.6122,  4.3530, 14.2984, 30.4658],\n",
       "        [ 5.1796,  2.6972,  4.5697, 15.5449, 33.7423],\n",
       "        [ 4.7224,  2.5845,  4.4323, 14.7160, 27.8986],\n",
       "        [ 3.8895,  2.2450,  3.5377,  9.7413, 18.0471],\n",
       "        [ 3.4997,  2.1032,  3.2428,  8.3753, 15.0160],\n",
       "        [ 3.0300,  1.8936,  2.7646,  6.2531, 11.2797],\n",
       "        [ 5.6803,  2.8654,  4.9915, 18.2258, 40.0842],\n",
       "        [ 4.5576,  2.5099,  4.2031, 13.1997, 25.0555],\n",
       "        [ 5.2108,  2.6651,  4.3856, 14.4322, 33.4959],\n",
       "        [ 4.7149,  2.5814,  4.4256, 14.6075, 27.4434],\n",
       "        [ 2.8433,  1.8253,  2.6322,  5.7514,  9.2529],\n",
       "        [ 6.3963,  3.0626,  5.3729, 20.9044, 53.8850],\n",
       "        [ 4.4685,  2.4503,  4.0026, 12.1592, 24.6996],\n",
       "        [ 4.4794,  2.4333,  3.9029, 11.6866, 23.6707],\n",
       "        [ 4.2808,  2.3622,  3.7481, 10.8459, 22.5587],\n",
       "        [ 5.0208,  2.6121,  4.2959, 13.9031, 32.0107],\n",
       "        [ 7.9015,  3.5211,  6.5712, 30.0226, 79.3213],\n",
       "        [ 4.7436,  2.5572,  4.2513, 13.6659, 28.4150],\n",
       "        [ 5.3910,  2.7602,  4.6930, 16.3010, 36.5969],\n",
       "        [ 5.2105,  2.7028,  4.5437, 15.3535, 34.0635],\n",
       "        [ 4.2136,  2.3199,  3.6075, 10.2058, 21.3167],\n",
       "        [ 4.3550,  2.4275,  3.9569, 12.0770, 23.1245],\n",
       "        [ 3.2243,  1.9889,  2.9914,  7.1658, 12.5288],\n",
       "        [ 4.3014,  2.4206,  3.9952, 12.1298, 22.9980],\n",
       "        [ 3.1565,  1.9649,  2.9460,  7.0154, 11.8155],\n",
       "        [ 6.4080,  3.1077,  5.6028, 22.5749, 51.6735],\n",
       "        [ 5.1554,  2.7097,  4.6716, 16.0495, 32.9190],\n",
       "        [ 7.5598,  3.4214,  6.2920, 27.9421, 73.4280],\n",
       "        [ 3.7910,  2.2063,  3.4516,  9.3896, 17.6527],\n",
       "        [ 4.0135,  2.2666,  3.5353,  9.8095, 20.1645],\n",
       "        [ 5.0334,  2.6391,  4.4125, 14.6053, 30.4489],\n",
       "        [ 4.7886,  2.5309,  4.0997, 12.8000, 27.9758],\n",
       "        [ 4.3739,  2.4262,  3.9623, 12.0048, 22.6631],\n",
       "        [ 6.3914,  3.1139,  5.5986, 22.6275, 50.9210],\n",
       "        [ 5.6503,  2.8118,  4.7604, 16.6830, 39.4099],\n",
       "        [ 2.6145,  1.7196,  2.4106,  4.8887,  7.9639],\n",
       "        [ 4.2704,  2.3827,  3.8636, 11.4355, 22.8960],\n",
       "        [ 5.0886,  2.6722,  4.5249, 15.2714, 32.5775],\n",
       "        [ 4.4807,  2.4498,  3.9820, 12.0647, 24.8544],\n",
       "        [ 4.3163,  2.3755,  3.7711, 10.9662, 23.0237],\n",
       "        [ 4.4573,  2.4578,  4.0290, 12.3803, 24.9462],\n",
       "        [ 3.2824,  2.0234,  3.0759,  7.5627, 13.1964],\n",
       "        [ 3.6403,  2.1446,  3.3116,  8.6960, 15.8363],\n",
       "        [ 4.5292,  2.4818,  4.1161, 12.7126, 24.6859],\n",
       "        [ 3.1406,  1.9232,  2.7922,  6.3852, 11.6198]], grad_fn=<ExpBackward0>)"
      ]
     },
     "execution_count": 700,
     "metadata": {},
     "output_type": "execute_result"
    },
    {
     "data": {
      "application/javascript": [
       "\n",
       "            setTimeout(function() {\n",
       "                var nbb_cell_id = 700;\n",
       "                var nbb_unformatted_code = \"model(inputs)\";\n",
       "                var nbb_formatted_code = \"model(inputs)\";\n",
       "                var nbb_cells = Jupyter.notebook.get_cells();\n",
       "                for (var i = 0; i < nbb_cells.length; ++i) {\n",
       "                    if (nbb_cells[i].input_prompt_number == nbb_cell_id) {\n",
       "                        if (nbb_cells[i].get_text() == nbb_unformatted_code) {\n",
       "                             nbb_cells[i].set_text(nbb_formatted_code);\n",
       "                        }\n",
       "                        break;\n",
       "                    }\n",
       "                }\n",
       "            }, 500);\n",
       "            "
      ],
      "text/plain": [
       "<IPython.core.display.Javascript object>"
      ]
     },
     "metadata": {},
     "output_type": "display_data"
    }
   ],
   "source": [
    "model(inputs)"
   ]
  },
  {
   "cell_type": "code",
   "execution_count": 701,
   "id": "3b0e5bda",
   "metadata": {},
   "outputs": [
    {
     "data": {
      "text/plain": [
       "tensor([ 3.1026,  2.0046,  4.5426,  2.4859,  1.5740,  3.5655,  2.5948,  3.3889,\n",
       "         3.2924,  2.3264,  1.8249,  0.3479, 23.3846, 68.6824,  3.0311,  2.9049,\n",
       "         3.4816,  0.6260,  7.3970,  1.3060,  5.5567,  3.0892,  4.8917,  3.9119,\n",
       "         4.2048,  2.8648,  4.4310,  3.9279,  3.1855,  0.8478,  5.1086, 19.2286,\n",
       "         9.6470,  0.7780,  3.5195,  3.5759,  2.7676,  1.6589,  4.6228,  3.5052,\n",
       "         1.4455,  1.2331,  5.6466,  5.1072,  6.9298,  5.7160,  3.3149,  6.2690,\n",
       "         5.3266,  2.0870], grad_fn=<AddBackward0>)"
      ]
     },
     "execution_count": 701,
     "metadata": {},
     "output_type": "execute_result"
    },
    {
     "data": {
      "application/javascript": [
       "\n",
       "            setTimeout(function() {\n",
       "                var nbb_cell_id = 701;\n",
       "                var nbb_unformatted_code = \"kl(model(inputs), targets)\";\n",
       "                var nbb_formatted_code = \"kl(model(inputs), targets)\";\n",
       "                var nbb_cells = Jupyter.notebook.get_cells();\n",
       "                for (var i = 0; i < nbb_cells.length; ++i) {\n",
       "                    if (nbb_cells[i].input_prompt_number == nbb_cell_id) {\n",
       "                        if (nbb_cells[i].get_text() == nbb_unformatted_code) {\n",
       "                             nbb_cells[i].set_text(nbb_formatted_code);\n",
       "                        }\n",
       "                        break;\n",
       "                    }\n",
       "                }\n",
       "            }, 500);\n",
       "            "
      ],
      "text/plain": [
       "<IPython.core.display.Javascript object>"
      ]
     },
     "metadata": {},
     "output_type": "display_data"
    }
   ],
   "source": [
    "kl(model(inputs), targets)"
   ]
  },
  {
   "cell_type": "code",
   "execution_count": 702,
   "id": "67a1d43a",
   "metadata": {},
   "outputs": [
    {
     "data": {
      "text/plain": [
       "tensor([-441.7555, -440.3576, -441.0099, -445.1925, -433.8155, -463.2480,\n",
       "        -471.2791, -454.5691, -438.7405, -467.9749, -479.3680, -451.2505,\n",
       "        -426.4144, -474.7847, -409.3795, -420.0694, -458.6682, -441.8272,\n",
       "        -452.9848, -456.0581, -456.6736, -435.9335, -482.6276, -447.8435,\n",
       "        -450.9694, -436.2347, -440.8031, -453.1751, -487.1916, -462.9892,\n",
       "        -430.2566, -458.4041, -461.0439, -468.2697, -450.5655, -464.2729,\n",
       "        -440.0344, -447.8210, -459.4016, -433.9670, -467.4608, -445.7065,\n",
       "        -468.4666, -430.1571, -449.7280, -752.5049, -437.2556, -474.4850,\n",
       "        -426.3189, -438.1350])"
      ]
     },
     "execution_count": 702,
     "metadata": {},
     "output_type": "execute_result"
    },
    {
     "data": {
      "application/javascript": [
       "\n",
       "            setTimeout(function() {\n",
       "                var nbb_cell_id = 702;\n",
       "                var nbb_unformatted_code = \"gammaln(torch.sum(inputs, axis=1)) - torch.sum(gammaln(inputs), axis=1)\";\n",
       "                var nbb_formatted_code = \"gammaln(torch.sum(inputs, axis=1)) - torch.sum(gammaln(inputs), axis=1)\";\n",
       "                var nbb_cells = Jupyter.notebook.get_cells();\n",
       "                for (var i = 0; i < nbb_cells.length; ++i) {\n",
       "                    if (nbb_cells[i].input_prompt_number == nbb_cell_id) {\n",
       "                        if (nbb_cells[i].get_text() == nbb_unformatted_code) {\n",
       "                             nbb_cells[i].set_text(nbb_formatted_code);\n",
       "                        }\n",
       "                        break;\n",
       "                    }\n",
       "                }\n",
       "            }, 500);\n",
       "            "
      ],
      "text/plain": [
       "<IPython.core.display.Javascript object>"
      ]
     },
     "metadata": {},
     "output_type": "display_data"
    }
   ],
   "source": [
    "gammaln(torch.sum(inputs, axis=1)) - torch.sum(gammaln(inputs), axis=1)"
   ]
  },
  {
   "cell_type": "code",
   "execution_count": 703,
   "id": "6583be06",
   "metadata": {},
   "outputs": [
    {
     "data": {
      "text/plain": [
       "tensor(2.9104)"
      ]
     },
     "execution_count": 703,
     "metadata": {},
     "output_type": "execute_result"
    },
    {
     "data": {
      "application/javascript": [
       "\n",
       "            setTimeout(function() {\n",
       "                var nbb_cell_id = 703;\n",
       "                var nbb_unformatted_code = \"gammaln(torch.sum(inputs[0, :]))\";\n",
       "                var nbb_formatted_code = \"gammaln(torch.sum(inputs[0, :]))\";\n",
       "                var nbb_cells = Jupyter.notebook.get_cells();\n",
       "                for (var i = 0; i < nbb_cells.length; ++i) {\n",
       "                    if (nbb_cells[i].input_prompt_number == nbb_cell_id) {\n",
       "                        if (nbb_cells[i].get_text() == nbb_unformatted_code) {\n",
       "                             nbb_cells[i].set_text(nbb_formatted_code);\n",
       "                        }\n",
       "                        break;\n",
       "                    }\n",
       "                }\n",
       "            }, 500);\n",
       "            "
      ],
      "text/plain": [
       "<IPython.core.display.Javascript object>"
      ]
     },
     "metadata": {},
     "output_type": "display_data"
    }
   ],
   "source": [
    "gammaln(torch.sum(inputs[0, :]))"
   ]
  },
  {
   "cell_type": "code",
   "execution_count": 273,
   "id": "36bfa22d",
   "metadata": {},
   "outputs": [
    {
     "data": {
      "text/plain": [
       "tensor(461.4391)"
      ]
     },
     "execution_count": 273,
     "metadata": {},
     "output_type": "execute_result"
    },
    {
     "data": {
      "application/javascript": [
       "\n",
       "            setTimeout(function() {\n",
       "                var nbb_cell_id = 273;\n",
       "                var nbb_unformatted_code = \"torch.sum(gammaln(inputs[0, :]))\";\n",
       "                var nbb_formatted_code = \"torch.sum(gammaln(inputs[0, :]))\";\n",
       "                var nbb_cells = Jupyter.notebook.get_cells();\n",
       "                for (var i = 0; i < nbb_cells.length; ++i) {\n",
       "                    if (nbb_cells[i].input_prompt_number == nbb_cell_id) {\n",
       "                        if (nbb_cells[i].get_text() == nbb_unformatted_code) {\n",
       "                             nbb_cells[i].set_text(nbb_formatted_code);\n",
       "                        }\n",
       "                        break;\n",
       "                    }\n",
       "                }\n",
       "            }, 500);\n",
       "            "
      ],
      "text/plain": [
       "<IPython.core.display.Javascript object>"
      ]
     },
     "metadata": {},
     "output_type": "display_data"
    }
   ],
   "source": [
    "torch.sum(gammaln(inputs[0, :]))"
   ]
  },
  {
   "cell_type": "code",
   "execution_count": 274,
   "id": "dd996d80",
   "metadata": {},
   "outputs": [
    {
     "data": {
      "text/plain": [
       "tensor(10.6046)"
      ]
     },
     "execution_count": 274,
     "metadata": {},
     "output_type": "execute_result"
    },
    {
     "data": {
      "application/javascript": [
       "\n",
       "            setTimeout(function() {\n",
       "                var nbb_cell_id = 274;\n",
       "                var nbb_unformatted_code = \"gammaln(torch.sum(targets[0, :]))\";\n",
       "                var nbb_formatted_code = \"gammaln(torch.sum(targets[0, :]))\";\n",
       "                var nbb_cells = Jupyter.notebook.get_cells();\n",
       "                for (var i = 0; i < nbb_cells.length; ++i) {\n",
       "                    if (nbb_cells[i].input_prompt_number == nbb_cell_id) {\n",
       "                        if (nbb_cells[i].get_text() == nbb_unformatted_code) {\n",
       "                             nbb_cells[i].set_text(nbb_formatted_code);\n",
       "                        }\n",
       "                        break;\n",
       "                    }\n",
       "                }\n",
       "            }, 500);\n",
       "            "
      ],
      "text/plain": [
       "<IPython.core.display.Javascript object>"
      ]
     },
     "metadata": {},
     "output_type": "display_data"
    }
   ],
   "source": [
    "gammaln(torch.sum(targets[0, :]))"
   ]
  },
  {
   "cell_type": "code",
   "execution_count": 275,
   "id": "ce63d125",
   "metadata": {},
   "outputs": [
    {
     "data": {
      "text/plain": [
       "tensor(0.6931)"
      ]
     },
     "execution_count": 275,
     "metadata": {},
     "output_type": "execute_result"
    },
    {
     "data": {
      "application/javascript": [
       "\n",
       "            setTimeout(function() {\n",
       "                var nbb_cell_id = 275;\n",
       "                var nbb_unformatted_code = \"torch.sum(gammaln(targets[0, :]))\";\n",
       "                var nbb_formatted_code = \"torch.sum(gammaln(targets[0, :]))\";\n",
       "                var nbb_cells = Jupyter.notebook.get_cells();\n",
       "                for (var i = 0; i < nbb_cells.length; ++i) {\n",
       "                    if (nbb_cells[i].input_prompt_number == nbb_cell_id) {\n",
       "                        if (nbb_cells[i].get_text() == nbb_unformatted_code) {\n",
       "                             nbb_cells[i].set_text(nbb_formatted_code);\n",
       "                        }\n",
       "                        break;\n",
       "                    }\n",
       "                }\n",
       "            }, 500);\n",
       "            "
      ],
      "text/plain": [
       "<IPython.core.display.Javascript object>"
      ]
     },
     "metadata": {},
     "output_type": "display_data"
    }
   ],
   "source": [
    "torch.sum(gammaln(targets[0, :]))"
   ]
  },
  {
   "cell_type": "code",
   "execution_count": null,
   "id": "56e02007",
   "metadata": {},
   "outputs": [],
   "source": [
    "torch.sum((alpha - beta) * (digamma(alpha) - digamma(alpha.sum(axis=1))[:, None]), axis=1)"
   ]
  },
  {
   "cell_type": "code",
   "execution_count": 724,
   "id": "e07a309c",
   "metadata": {},
   "outputs": [
    {
     "data": {
      "application/javascript": [
       "\n",
       "            setTimeout(function() {\n",
       "                var nbb_cell_id = 724;\n",
       "                var nbb_unformatted_code = \"model.eval()\\nwith torch.no_grad():\\n    preds = model(embeddings).detach().numpy()\";\n",
       "                var nbb_formatted_code = \"model.eval()\\nwith torch.no_grad():\\n    preds = model(embeddings).detach().numpy()\";\n",
       "                var nbb_cells = Jupyter.notebook.get_cells();\n",
       "                for (var i = 0; i < nbb_cells.length; ++i) {\n",
       "                    if (nbb_cells[i].input_prompt_number == nbb_cell_id) {\n",
       "                        if (nbb_cells[i].get_text() == nbb_unformatted_code) {\n",
       "                             nbb_cells[i].set_text(nbb_formatted_code);\n",
       "                        }\n",
       "                        break;\n",
       "                    }\n",
       "                }\n",
       "            }, 500);\n",
       "            "
      ],
      "text/plain": [
       "<IPython.core.display.Javascript object>"
      ]
     },
     "metadata": {},
     "output_type": "display_data"
    }
   ],
   "source": [
    "model.eval()\n",
    "with torch.no_grad():\n",
    "    preds = model(embeddings).detach().numpy()"
   ]
  },
  {
   "cell_type": "code",
   "execution_count": 725,
   "id": "d800da60",
   "metadata": {},
   "outputs": [
    {
     "data": {
      "text/plain": [
       "array([[ 4.0448856,  2.1457438,  3.499609 , 12.479115 , 31.72406  ],\n",
       "       [ 3.8720376,  2.078204 ,  3.3155484, 11.474522 , 28.925558 ],\n",
       "       [ 4.014736 ,  2.1237426,  3.4564664, 12.455357 , 32.346737 ],\n",
       "       ...,\n",
       "       [ 3.654888 ,  2.077973 ,  3.206867 ,  9.559411 , 19.749441 ],\n",
       "       [ 4.5301433,  2.4434612,  4.1394196, 13.784679 , 28.742113 ],\n",
       "       [ 4.0327897,  2.165177 ,  3.523395 , 12.194655 , 29.46126  ]],\n",
       "      dtype=float32)"
      ]
     },
     "execution_count": 725,
     "metadata": {},
     "output_type": "execute_result"
    },
    {
     "data": {
      "application/javascript": [
       "\n",
       "            setTimeout(function() {\n",
       "                var nbb_cell_id = 725;\n",
       "                var nbb_unformatted_code = \"preds\";\n",
       "                var nbb_formatted_code = \"preds\";\n",
       "                var nbb_cells = Jupyter.notebook.get_cells();\n",
       "                for (var i = 0; i < nbb_cells.length; ++i) {\n",
       "                    if (nbb_cells[i].input_prompt_number == nbb_cell_id) {\n",
       "                        if (nbb_cells[i].get_text() == nbb_unformatted_code) {\n",
       "                             nbb_cells[i].set_text(nbb_formatted_code);\n",
       "                        }\n",
       "                        break;\n",
       "                    }\n",
       "                }\n",
       "            }, 500);\n",
       "            "
      ],
      "text/plain": [
       "<IPython.core.display.Javascript object>"
      ]
     },
     "metadata": {},
     "output_type": "display_data"
    }
   ],
   "source": [
    "preds"
   ]
  },
  {
   "cell_type": "code",
   "execution_count": 726,
   "id": "5b4ae4cd",
   "metadata": {},
   "outputs": [
    {
     "data": {
      "text/plain": [
       "<matplotlib.legend.Legend at 0x7f91f68cf130>"
      ]
     },
     "execution_count": 726,
     "metadata": {},
     "output_type": "execute_result"
    },
    {
     "data": {
      "image/png": "[encoded data removed]",
      "text/plain": [
       "<Figure size 432x288 with 1 Axes>"
      ]
     },
     "metadata": {
      "needs_background": "light"
     },
     "output_type": "display_data"
    },
    {
     "data": {
      "application/javascript": [
       "\n",
       "            setTimeout(function() {\n",
       "                var nbb_cell_id = 726;\n",
       "                var nbb_unformatted_code = \"plt.hist(\\n    np.sum(preds * np.arange(1, 6)[None, :], axis=1) / np.sum(preds, axis=1),\\n    alpha=0.4,\\n    label=\\\"Pred\\\",\\n)\\ntrue = ratings.detach().numpy()\\nplt.hist(\\n    np.sum(true * np.arange(1, 6)[None, :], axis=1) / np.sum(true, axis=1),\\n    alpha=0.4,\\n    label=\\\"True\\\",\\n)\\nplt.legend()\";\n",
       "                var nbb_formatted_code = \"plt.hist(\\n    np.sum(preds * np.arange(1, 6)[None, :], axis=1) / np.sum(preds, axis=1),\\n    alpha=0.4,\\n    label=\\\"Pred\\\",\\n)\\ntrue = ratings.detach().numpy()\\nplt.hist(\\n    np.sum(true * np.arange(1, 6)[None, :], axis=1) / np.sum(true, axis=1),\\n    alpha=0.4,\\n    label=\\\"True\\\",\\n)\\nplt.legend()\";\n",
       "                var nbb_cells = Jupyter.notebook.get_cells();\n",
       "                for (var i = 0; i < nbb_cells.length; ++i) {\n",
       "                    if (nbb_cells[i].input_prompt_number == nbb_cell_id) {\n",
       "                        if (nbb_cells[i].get_text() == nbb_unformatted_code) {\n",
       "                             nbb_cells[i].set_text(nbb_formatted_code);\n",
       "                        }\n",
       "                        break;\n",
       "                    }\n",
       "                }\n",
       "            }, 500);\n",
       "            "
      ],
      "text/plain": [
       "<IPython.core.display.Javascript object>"
      ]
     },
     "metadata": {},
     "output_type": "display_data"
    }
   ],
   "source": [
    "plt.hist(\n",
    "    np.sum(preds * np.arange(1, 6)[None, :], axis=1) / np.sum(preds, axis=1),\n",
    "    alpha=0.4,\n",
    "    label=\"Pred\",\n",
    ")\n",
    "true = ratings.detach().numpy()\n",
    "plt.hist(\n",
    "    np.sum(true * np.arange(1, 6)[None, :], axis=1) / np.sum(true, axis=1),\n",
    "    alpha=0.4,\n",
    "    label=\"True\",\n",
    ")\n",
    "plt.legend()"
   ]
  },
  {
   "cell_type": "code",
   "execution_count": 727,
   "id": "e0d745f0",
   "metadata": {},
   "outputs": [
    {
     "name": "stdout",
     "output_type": "stream",
     "text": [
      "tensor(5.9035)\n"
     ]
    },
    {
     "data": {
      "application/javascript": [
       "\n",
       "            setTimeout(function() {\n",
       "                var nbb_cell_id = 727;\n",
       "                var nbb_unformatted_code = \"with torch.no_grad():\\n    print(kl(ratings[val_indices].mean(axis=0)[None, :], ratings[val_indices]).mean())\";\n",
       "                var nbb_formatted_code = \"with torch.no_grad():\\n    print(kl(ratings[val_indices].mean(axis=0)[None, :], ratings[val_indices]).mean())\";\n",
       "                var nbb_cells = Jupyter.notebook.get_cells();\n",
       "                for (var i = 0; i < nbb_cells.length; ++i) {\n",
       "                    if (nbb_cells[i].input_prompt_number == nbb_cell_id) {\n",
       "                        if (nbb_cells[i].get_text() == nbb_unformatted_code) {\n",
       "                             nbb_cells[i].set_text(nbb_formatted_code);\n",
       "                        }\n",
       "                        break;\n",
       "                    }\n",
       "                }\n",
       "            }, 500);\n",
       "            "
      ],
      "text/plain": [
       "<IPython.core.display.Javascript object>"
      ]
     },
     "metadata": {},
     "output_type": "display_data"
    }
   ],
   "source": [
    "with torch.no_grad():\n",
    "    print(kl(ratings[val_indices].mean(axis=0)[None, :], ratings[val_indices]).mean())"
   ]
  },
  {
   "cell_type": "code",
   "execution_count": 728,
   "id": "4e118b42",
   "metadata": {},
   "outputs": [
    {
     "name": "stdout",
     "output_type": "stream",
     "text": [
      "tensor(5.7388)\n"
     ]
    },
    {
     "data": {
      "application/javascript": [
       "\n",
       "            setTimeout(function() {\n",
       "                var nbb_cell_id = 728;\n",
       "                var nbb_unformatted_code = \"with torch.no_grad():\\n    print(kl(ratings.mean(axis=0)[None, :], ratings).mean())\";\n",
       "                var nbb_formatted_code = \"with torch.no_grad():\\n    print(kl(ratings.mean(axis=0)[None, :], ratings).mean())\";\n",
       "                var nbb_cells = Jupyter.notebook.get_cells();\n",
       "                for (var i = 0; i < nbb_cells.length; ++i) {\n",
       "                    if (nbb_cells[i].input_prompt_number == nbb_cell_id) {\n",
       "                        if (nbb_cells[i].get_text() == nbb_unformatted_code) {\n",
       "                             nbb_cells[i].set_text(nbb_formatted_code);\n",
       "                        }\n",
       "                        break;\n",
       "                    }\n",
       "                }\n",
       "            }, 500);\n",
       "            "
      ],
      "text/plain": [
       "<IPython.core.display.Javascript object>"
      ]
     },
     "metadata": {},
     "output_type": "display_data"
    }
   ],
   "source": [
    "with torch.no_grad():\n",
    "    print(kl(ratings.mean(axis=0)[None, :], ratings).mean())"
   ]
  },
  {
   "cell_type": "code",
   "execution_count": 729,
   "id": "6c3acd39",
   "metadata": {},
   "outputs": [
    {
     "data": {
      "text/plain": [
       "0.13728813559322042"
      ]
     },
     "execution_count": 729,
     "metadata": {},
     "output_type": "execute_result"
    },
    {
     "data": {
      "application/javascript": [
       "\n",
       "            setTimeout(function() {\n",
       "                var nbb_cell_id = 729;\n",
       "                var nbb_unformatted_code = \"(5.90 - 5.09)/5.90\";\n",
       "                var nbb_formatted_code = \"(5.90 - 5.09) / 5.90\";\n",
       "                var nbb_cells = Jupyter.notebook.get_cells();\n",
       "                for (var i = 0; i < nbb_cells.length; ++i) {\n",
       "                    if (nbb_cells[i].input_prompt_number == nbb_cell_id) {\n",
       "                        if (nbb_cells[i].get_text() == nbb_unformatted_code) {\n",
       "                             nbb_cells[i].set_text(nbb_formatted_code);\n",
       "                        }\n",
       "                        break;\n",
       "                    }\n",
       "                }\n",
       "            }, 500);\n",
       "            "
      ],
      "text/plain": [
       "<IPython.core.display.Javascript object>"
      ]
     },
     "metadata": {},
     "output_type": "display_data"
    }
   ],
   "source": [
    "(5.90 - 5.09) / 5.90"
   ]
  },
  {
   "cell_type": "code",
   "execution_count": 667,
   "id": "3d1178cf",
   "metadata": {},
   "outputs": [
    {
     "data": {
      "text/plain": [
       "[<matplotlib.lines.Line2D at 0x7f91fff4ea30>,\n",
       " <matplotlib.lines.Line2D at 0x7f91fff4eb80>,\n",
       " <matplotlib.lines.Line2D at 0x7f91fff4ec70>,\n",
       " <matplotlib.lines.Line2D at 0x7f91fff4ed60>,\n",
       " <matplotlib.lines.Line2D at 0x7f91fff4ee50>,\n",
       " <matplotlib.lines.Line2D at 0x7f91fff4ef40>,\n",
       " <matplotlib.lines.Line2D at 0x7f91fff4efd0>,\n",
       " <matplotlib.lines.Line2D at 0x7f91fff4f160>,\n",
       " <matplotlib.lines.Line2D at 0x7f91fff4f250>,\n",
       " <matplotlib.lines.Line2D at 0x7f91fff4f340>,\n",
       " <matplotlib.lines.Line2D at 0x7f91fff3cc10>,\n",
       " <matplotlib.lines.Line2D at 0x7f91fff4f430>,\n",
       " <matplotlib.lines.Line2D at 0x7f91fff4f5e0>,\n",
       " <matplotlib.lines.Line2D at 0x7f91fff4f6d0>,\n",
       " <matplotlib.lines.Line2D at 0x7f91fff4f7c0>,\n",
       " <matplotlib.lines.Line2D at 0x7f91fff4f8b0>,\n",
       " <matplotlib.lines.Line2D at 0x7f91fff4f9a0>,\n",
       " <matplotlib.lines.Line2D at 0x7f91fff4fa90>,\n",
       " <matplotlib.lines.Line2D at 0x7f91fff4fb80>,\n",
       " <matplotlib.lines.Line2D at 0x7f91fff4fc70>,\n",
       " <matplotlib.lines.Line2D at 0x7f91fff4fd60>,\n",
       " <matplotlib.lines.Line2D at 0x7f91fff4fe50>,\n",
       " <matplotlib.lines.Line2D at 0x7f91fff4ff40>,\n",
       " <matplotlib.lines.Line2D at 0x7f91fff4ffd0>,\n",
       " <matplotlib.lines.Line2D at 0x7f91fff51160>,\n",
       " <matplotlib.lines.Line2D at 0x7f91fff51250>,\n",
       " <matplotlib.lines.Line2D at 0x7f91fff51340>,\n",
       " <matplotlib.lines.Line2D at 0x7f91fff51430>,\n",
       " <matplotlib.lines.Line2D at 0x7f91fff51520>,\n",
       " <matplotlib.lines.Line2D at 0x7f91fff51610>,\n",
       " <matplotlib.lines.Line2D at 0x7f91fff51700>,\n",
       " <matplotlib.lines.Line2D at 0x7f91fff517f0>,\n",
       " <matplotlib.lines.Line2D at 0x7f91fff518e0>,\n",
       " <matplotlib.lines.Line2D at 0x7f91fff519d0>,\n",
       " <matplotlib.lines.Line2D at 0x7f91fff51ac0>,\n",
       " <matplotlib.lines.Line2D at 0x7f91fff51bb0>,\n",
       " <matplotlib.lines.Line2D at 0x7f91fff51ca0>,\n",
       " <matplotlib.lines.Line2D at 0x7f91fff51d90>,\n",
       " <matplotlib.lines.Line2D at 0x7f91fff51e80>,\n",
       " <matplotlib.lines.Line2D at 0x7f91fff51f70>,\n",
       " <matplotlib.lines.Line2D at 0x7f91fff520a0>,\n",
       " <matplotlib.lines.Line2D at 0x7f91fff52190>,\n",
       " <matplotlib.lines.Line2D at 0x7f91fff52280>,\n",
       " <matplotlib.lines.Line2D at 0x7f91fff52370>,\n",
       " <matplotlib.lines.Line2D at 0x7f91fff52460>,\n",
       " <matplotlib.lines.Line2D at 0x7f91fff52550>,\n",
       " <matplotlib.lines.Line2D at 0x7f91fff52640>,\n",
       " <matplotlib.lines.Line2D at 0x7f91fff52730>,\n",
       " <matplotlib.lines.Line2D at 0x7f91fff52820>,\n",
       " <matplotlib.lines.Line2D at 0x7f91fff52910>,\n",
       " <matplotlib.lines.Line2D at 0x7f91fff52a00>,\n",
       " <matplotlib.lines.Line2D at 0x7f91fff52af0>,\n",
       " <matplotlib.lines.Line2D at 0x7f91fff52be0>,\n",
       " <matplotlib.lines.Line2D at 0x7f91fff52cd0>,\n",
       " <matplotlib.lines.Line2D at 0x7f91fff52dc0>,\n",
       " <matplotlib.lines.Line2D at 0x7f91fff52eb0>,\n",
       " <matplotlib.lines.Line2D at 0x7f91fff52fa0>,\n",
       " <matplotlib.lines.Line2D at 0x7f91fff540d0>,\n",
       " <matplotlib.lines.Line2D at 0x7f91fff541c0>,\n",
       " <matplotlib.lines.Line2D at 0x7f91fff542b0>,\n",
       " <matplotlib.lines.Line2D at 0x7f91fff543a0>,\n",
       " <matplotlib.lines.Line2D at 0x7f91fff54490>,\n",
       " <matplotlib.lines.Line2D at 0x7f91fff54580>,\n",
       " <matplotlib.lines.Line2D at 0x7f91fff54670>,\n",
       " <matplotlib.lines.Line2D at 0x7f91fff54760>,\n",
       " <matplotlib.lines.Line2D at 0x7f91fff54850>,\n",
       " <matplotlib.lines.Line2D at 0x7f91fff54940>,\n",
       " <matplotlib.lines.Line2D at 0x7f91fff54a30>,\n",
       " <matplotlib.lines.Line2D at 0x7f91fff54b20>,\n",
       " <matplotlib.lines.Line2D at 0x7f91fff54c10>,\n",
       " <matplotlib.lines.Line2D at 0x7f91fff54d00>,\n",
       " <matplotlib.lines.Line2D at 0x7f91fff54df0>,\n",
       " <matplotlib.lines.Line2D at 0x7f91fff54ee0>,\n",
       " <matplotlib.lines.Line2D at 0x7f91fff54fd0>,\n",
       " <matplotlib.lines.Line2D at 0x7f91fff55100>,\n",
       " <matplotlib.lines.Line2D at 0x7f91fff551f0>,\n",
       " <matplotlib.lines.Line2D at 0x7f91fff552e0>,\n",
       " <matplotlib.lines.Line2D at 0x7f91fff553d0>,\n",
       " <matplotlib.lines.Line2D at 0x7f91fff554c0>,\n",
       " <matplotlib.lines.Line2D at 0x7f91fff555b0>,\n",
       " <matplotlib.lines.Line2D at 0x7f91fff556a0>,\n",
       " <matplotlib.lines.Line2D at 0x7f91fff55790>,\n",
       " <matplotlib.lines.Line2D at 0x7f91fff558b0>,\n",
       " <matplotlib.lines.Line2D at 0x7f91fff559a0>,\n",
       " <matplotlib.lines.Line2D at 0x7f91fff55a90>,\n",
       " <matplotlib.lines.Line2D at 0x7f91fff55b80>,\n",
       " <matplotlib.lines.Line2D at 0x7f91fff55c70>,\n",
       " <matplotlib.lines.Line2D at 0x7f91fff55d60>,\n",
       " <matplotlib.lines.Line2D at 0x7f91fff55e50>,\n",
       " <matplotlib.lines.Line2D at 0x7f91fff55f40>,\n",
       " <matplotlib.lines.Line2D at 0x7f91fff55fd0>,\n",
       " <matplotlib.lines.Line2D at 0x7f91fff57160>,\n",
       " <matplotlib.lines.Line2D at 0x7f91fff57250>,\n",
       " <matplotlib.lines.Line2D at 0x7f91fff57340>,\n",
       " <matplotlib.lines.Line2D at 0x7f91fff57430>,\n",
       " <matplotlib.lines.Line2D at 0x7f91fff57520>,\n",
       " <matplotlib.lines.Line2D at 0x7f91fff57610>,\n",
       " <matplotlib.lines.Line2D at 0x7f91fff57700>,\n",
       " <matplotlib.lines.Line2D at 0x7f91fff577f0>,\n",
       " <matplotlib.lines.Line2D at 0x7f91fff578e0>,\n",
       " <matplotlib.lines.Line2D at 0x7f91fff579d0>,\n",
       " <matplotlib.lines.Line2D at 0x7f91fff57ac0>,\n",
       " <matplotlib.lines.Line2D at 0x7f91fff57bb0>,\n",
       " <matplotlib.lines.Line2D at 0x7f91fff57ca0>,\n",
       " <matplotlib.lines.Line2D at 0x7f91fff57d90>,\n",
       " <matplotlib.lines.Line2D at 0x7f91fff57e80>,\n",
       " <matplotlib.lines.Line2D at 0x7f91fff57f70>,\n",
       " <matplotlib.lines.Line2D at 0x7f91fff58070>,\n",
       " <matplotlib.lines.Line2D at 0x7f91fff58190>,\n",
       " <matplotlib.lines.Line2D at 0x7f91fff58280>,\n",
       " <matplotlib.lines.Line2D at 0x7f91fff58370>,\n",
       " <matplotlib.lines.Line2D at 0x7f91fff58460>,\n",
       " <matplotlib.lines.Line2D at 0x7f91fff58550>,\n",
       " <matplotlib.lines.Line2D at 0x7f91fff58640>,\n",
       " <matplotlib.lines.Line2D at 0x7f91fff58730>,\n",
       " <matplotlib.lines.Line2D at 0x7f91fff58820>,\n",
       " <matplotlib.lines.Line2D at 0x7f91fff58910>,\n",
       " <matplotlib.lines.Line2D at 0x7f91fff58a00>,\n",
       " <matplotlib.lines.Line2D at 0x7f91fff58af0>,\n",
       " <matplotlib.lines.Line2D at 0x7f91fff58be0>,\n",
       " <matplotlib.lines.Line2D at 0x7f91fff58cd0>,\n",
       " <matplotlib.lines.Line2D at 0x7f91fff58dc0>,\n",
       " <matplotlib.lines.Line2D at 0x7f91fff58eb0>,\n",
       " <matplotlib.lines.Line2D at 0x7f91fff58fa0>,\n",
       " <matplotlib.lines.Line2D at 0x7f91fff5a0d0>,\n",
       " <matplotlib.lines.Line2D at 0x7f91fff5a1c0>,\n",
       " <matplotlib.lines.Line2D at 0x7f91fff5a2b0>,\n",
       " <matplotlib.lines.Line2D at 0x7f91fff5a3a0>,\n",
       " <matplotlib.lines.Line2D at 0x7f91fff5a490>,\n",
       " <matplotlib.lines.Line2D at 0x7f91fff5a580>,\n",
       " <matplotlib.lines.Line2D at 0x7f91fff5a670>,\n",
       " <matplotlib.lines.Line2D at 0x7f91fff5a760>,\n",
       " <matplotlib.lines.Line2D at 0x7f91fff5a850>,\n",
       " <matplotlib.lines.Line2D at 0x7f91fff5a940>,\n",
       " <matplotlib.lines.Line2D at 0x7f91fff5aa30>,\n",
       " <matplotlib.lines.Line2D at 0x7f91fff5ab20>,\n",
       " <matplotlib.lines.Line2D at 0x7f91fff5ac10>,\n",
       " <matplotlib.lines.Line2D at 0x7f91fff5ad00>,\n",
       " <matplotlib.lines.Line2D at 0x7f91fff5adf0>,\n",
       " <matplotlib.lines.Line2D at 0x7f91fff5aee0>,\n",
       " <matplotlib.lines.Line2D at 0x7f91fff5afd0>,\n",
       " <matplotlib.lines.Line2D at 0x7f91fffb6220>,\n",
       " <matplotlib.lines.Line2D at 0x7f91fffb6550>,\n",
       " <matplotlib.lines.Line2D at 0x7f91fffb6610>,\n",
       " <matplotlib.lines.Line2D at 0x7f91fffb66d0>,\n",
       " <matplotlib.lines.Line2D at 0x7f91fffb6790>,\n",
       " <matplotlib.lines.Line2D at 0x7f91fffb6850>,\n",
       " <matplotlib.lines.Line2D at 0x7f91fffb6910>,\n",
       " <matplotlib.lines.Line2D at 0x7f91fffb69d0>,\n",
       " <matplotlib.lines.Line2D at 0x7f91fffb6a90>,\n",
       " <matplotlib.lines.Line2D at 0x7f91fffb6b50>,\n",
       " <matplotlib.lines.Line2D at 0x7f91fffb6c10>,\n",
       " <matplotlib.lines.Line2D at 0x7f91fffb6cd0>,\n",
       " <matplotlib.lines.Line2D at 0x7f91fffb6d90>,\n",
       " <matplotlib.lines.Line2D at 0x7f91fffb6e50>,\n",
       " <matplotlib.lines.Line2D at 0x7f91fffb6f10>,\n",
       " <matplotlib.lines.Line2D at 0x7f91fffb6fd0>,\n",
       " <matplotlib.lines.Line2D at 0x7f91fffb6190>,\n",
       " <matplotlib.lines.Line2D at 0x7f91fffb61f0>,\n",
       " <matplotlib.lines.Line2D at 0x7f91fffb6130>,\n",
       " <matplotlib.lines.Line2D at 0x7f91fff5cd30>,\n",
       " <matplotlib.lines.Line2D at 0x7f91fff5c970>,\n",
       " <matplotlib.lines.Line2D at 0x7f91fff5ca60>,\n",
       " <matplotlib.lines.Line2D at 0x7f91fff5cb50>,\n",
       " <matplotlib.lines.Line2D at 0x7f91fff5cc40>,\n",
       " <matplotlib.lines.Line2D at 0x7f91fff5c100>,\n",
       " <matplotlib.lines.Line2D at 0x7f91fff5c1f0>,\n",
       " <matplotlib.lines.Line2D at 0x7f91fff5c2e0>,\n",
       " <matplotlib.lines.Line2D at 0x7f91fff5c3d0>,\n",
       " <matplotlib.lines.Line2D at 0x7f91fff5c4c0>,\n",
       " <matplotlib.lines.Line2D at 0x7f91fff5c5b0>,\n",
       " <matplotlib.lines.Line2D at 0x7f91fff5c6a0>,\n",
       " <matplotlib.lines.Line2D at 0x7f91fff5c790>,\n",
       " <matplotlib.lines.Line2D at 0x7f91fff5c880>,\n",
       " <matplotlib.lines.Line2D at 0x7f91fff5ce50>,\n",
       " <matplotlib.lines.Line2D at 0x7f91fff5ce80>,\n",
       " <matplotlib.lines.Line2D at 0x7f91fff5cf40>,\n",
       " <matplotlib.lines.Line2D at 0x7f920019a490>,\n",
       " <matplotlib.lines.Line2D at 0x7f920704f3a0>,\n",
       " <matplotlib.lines.Line2D at 0x7f9200232b50>,\n",
       " <matplotlib.lines.Line2D at 0x7f9200286fd0>,\n",
       " <matplotlib.lines.Line2D at 0x7f9200286b50>,\n",
       " <matplotlib.lines.Line2D at 0x7f9200299d90>,\n",
       " <matplotlib.lines.Line2D at 0x7f92001beb20>,\n",
       " <matplotlib.lines.Line2D at 0x7f92001d1f40>,\n",
       " <matplotlib.lines.Line2D at 0x7f92001d1820>,\n",
       " <matplotlib.lines.Line2D at 0x7f9200327220>,\n",
       " <matplotlib.lines.Line2D at 0x7f92001cf6d0>,\n",
       " <matplotlib.lines.Line2D at 0x7f92002a7ee0>,\n",
       " <matplotlib.lines.Line2D at 0x7f920022f8b0>,\n",
       " <matplotlib.lines.Line2D at 0x7f92001ba940>,\n",
       " <matplotlib.lines.Line2D at 0x7f920019db80>,\n",
       " <matplotlib.lines.Line2D at 0x7f92001775b0>,\n",
       " <matplotlib.lines.Line2D at 0x7f92000e0970>,\n",
       " <matplotlib.lines.Line2D at 0x7f9200224fa0>,\n",
       " <matplotlib.lines.Line2D at 0x7f91fff98e50>,\n",
       " <matplotlib.lines.Line2D at 0x7f91fff98df0>,\n",
       " <matplotlib.lines.Line2D at 0x7f91fff98eb0>,\n",
       " <matplotlib.lines.Line2D at 0x7f91fff98ca0>,\n",
       " <matplotlib.lines.Line2D at 0x7f91fff98e80>,\n",
       " <matplotlib.lines.Line2D at 0x7f91fff98070>,\n",
       " <matplotlib.lines.Line2D at 0x7f91fff984c0>,\n",
       " <matplotlib.lines.Line2D at 0x7f91fff98610>,\n",
       " <matplotlib.lines.Line2D at 0x7f91fff98580>,\n",
       " <matplotlib.lines.Line2D at 0x7f91fff985e0>,\n",
       " <matplotlib.lines.Line2D at 0x7f91fff98b50>,\n",
       " <matplotlib.lines.Line2D at 0x7f91fff98a90>,\n",
       " <matplotlib.lines.Line2D at 0x7f91fff98790>,\n",
       " <matplotlib.lines.Line2D at 0x7f91fff98880>,\n",
       " <matplotlib.lines.Line2D at 0x7f91fff988e0>,\n",
       " <matplotlib.lines.Line2D at 0x7f91fff989d0>,\n",
       " <matplotlib.lines.Line2D at 0x7f91fff98700>,\n",
       " <matplotlib.lines.Line2D at 0x7f920010e5b0>,\n",
       " <matplotlib.lines.Line2D at 0x7f920010eeb0>,\n",
       " <matplotlib.lines.Line2D at 0x7f91ffed8700>,\n",
       " <matplotlib.lines.Line2D at 0x7f91ffed80a0>,\n",
       " <matplotlib.lines.Line2D at 0x7f91ffed80d0>,\n",
       " <matplotlib.lines.Line2D at 0x7f91ffed8190>,\n",
       " <matplotlib.lines.Line2D at 0x7f91ffed8250>,\n",
       " <matplotlib.lines.Line2D at 0x7f91ffed8310>,\n",
       " <matplotlib.lines.Line2D at 0x7f91ffed83d0>,\n",
       " <matplotlib.lines.Line2D at 0x7f91ffed8490>,\n",
       " <matplotlib.lines.Line2D at 0x7f91ffed8580>,\n",
       " <matplotlib.lines.Line2D at 0x7f91ffed8d30>,\n",
       " <matplotlib.lines.Line2D at 0x7f91ffed8d00>,\n",
       " <matplotlib.lines.Line2D at 0x7f91ffed8e20>,\n",
       " <matplotlib.lines.Line2D at 0x7f91ffed8f70>,\n",
       " <matplotlib.lines.Line2D at 0x7f91ffed8d60>,\n",
       " <matplotlib.lines.Line2D at 0x7f91ffeda130>,\n",
       " <matplotlib.lines.Line2D at 0x7f91ffeda160>,\n",
       " <matplotlib.lines.Line2D at 0x7f91ffeda2b0>,\n",
       " <matplotlib.lines.Line2D at 0x7f91ffedafa0>,\n",
       " <matplotlib.lines.Line2D at 0x7f91ffedb0a0>,\n",
       " <matplotlib.lines.Line2D at 0x7f91fff39b50>,\n",
       " <matplotlib.lines.Line2D at 0x7f92001896a0>,\n",
       " <matplotlib.lines.Line2D at 0x7f91ffefc700>,\n",
       " <matplotlib.lines.Line2D at 0x7f91ffefc4f0>,\n",
       " <matplotlib.lines.Line2D at 0x7f91ffefc550>,\n",
       " <matplotlib.lines.Line2D at 0x7f91fff3d0a0>,\n",
       " <matplotlib.lines.Line2D at 0x7f91fff3d460>,\n",
       " <matplotlib.lines.Line2D at 0x7f91fff3d280>,\n",
       " <matplotlib.lines.Line2D at 0x7f91fff3d0d0>,\n",
       " <matplotlib.lines.Line2D at 0x7f91fff3d7f0>,\n",
       " <matplotlib.lines.Line2D at 0x7f91fff3d730>,\n",
       " <matplotlib.lines.Line2D at 0x7f91fff3dc10>,\n",
       " <matplotlib.lines.Line2D at 0x7f91fff3db50>,\n",
       " <matplotlib.lines.Line2D at 0x7f91fff3d520>,\n",
       " <matplotlib.lines.Line2D at 0x7f91fff3d580>,\n",
       " <matplotlib.lines.Line2D at 0x7f91fff3d550>,\n",
       " <matplotlib.lines.Line2D at 0x7f91ffedbb80>,\n",
       " <matplotlib.lines.Line2D at 0x7f91ffefa070>,\n",
       " <matplotlib.lines.Line2D at 0x7f91ffefa340>,\n",
       " <matplotlib.lines.Line2D at 0x7f91ffefa580>,\n",
       " <matplotlib.lines.Line2D at 0x7f91ffefae50>,\n",
       " <matplotlib.lines.Line2D at 0x7f91ffefaf40>,\n",
       " <matplotlib.lines.Line2D at 0x7f91ffede940>,\n",
       " <matplotlib.lines.Line2D at 0x7f91ffede850>,\n",
       " <matplotlib.lines.Line2D at 0x7f91ffeded30>,\n",
       " <matplotlib.lines.Line2D at 0x7f91ffee0880>,\n",
       " <matplotlib.lines.Line2D at 0x7f91ffee09d0>,\n",
       " <matplotlib.lines.Line2D at 0x7f91ffee0bb0>,\n",
       " <matplotlib.lines.Line2D at 0x7f91ffee0e80>,\n",
       " <matplotlib.lines.Line2D at 0x7f91ffee1340>,\n",
       " <matplotlib.lines.Line2D at 0x7f91ffee14c0>,\n",
       " <matplotlib.lines.Line2D at 0x7f91ffee18b0>,\n",
       " <matplotlib.lines.Line2D at 0x7f91ffee16a0>,\n",
       " <matplotlib.lines.Line2D at 0x7f91ffee1e50>,\n",
       " <matplotlib.lines.Line2D at 0x7f91ffee1f40>,\n",
       " <matplotlib.lines.Line2D at 0x7f91ffee3040>,\n",
       " <matplotlib.lines.Line2D at 0x7f91ffee3e20>,\n",
       " <matplotlib.lines.Line2D at 0x7f91ffee3d00>,\n",
       " <matplotlib.lines.Line2D at 0x7f91ffee5250>,\n",
       " <matplotlib.lines.Line2D at 0x7f91ffee59a0>,\n",
       " <matplotlib.lines.Line2D at 0x7f91ffee7100>,\n",
       " <matplotlib.lines.Line2D at 0x7f91ffee7130>,\n",
       " <matplotlib.lines.Line2D at 0x7f91ffee7970>,\n",
       " <matplotlib.lines.Line2D at 0x7f91ffee7ca0>,\n",
       " <matplotlib.lines.Line2D at 0x7f91ffee9130>,\n",
       " <matplotlib.lines.Line2D at 0x7f91ffee93d0>,\n",
       " <matplotlib.lines.Line2D at 0x7f91ffee9490>,\n",
       " <matplotlib.lines.Line2D at 0x7f91ffee9550>,\n",
       " <matplotlib.lines.Line2D at 0x7f91ffee9700>,\n",
       " <matplotlib.lines.Line2D at 0x7f91ffee98b0>,\n",
       " <matplotlib.lines.Line2D at 0x7f91ffee9a60>,\n",
       " <matplotlib.lines.Line2D at 0x7f91ffee9be0>,\n",
       " <matplotlib.lines.Line2D at 0x7f91ffee9ca0>,\n",
       " <matplotlib.lines.Line2D at 0x7f91ffee9d60>,\n",
       " <matplotlib.lines.Line2D at 0x7f91ffee9e20>,\n",
       " <matplotlib.lines.Line2D at 0x7f91ffeeb250>,\n",
       " <matplotlib.lines.Line2D at 0x7f91ffeeb3d0>,\n",
       " <matplotlib.lines.Line2D at 0x7f91ffeeb460>,\n",
       " <matplotlib.lines.Line2D at 0x7f91ffeeb520>,\n",
       " <matplotlib.lines.Line2D at 0x7f91ffeeb550>,\n",
       " <matplotlib.lines.Line2D at 0x7f91ffeeba90>,\n",
       " <matplotlib.lines.Line2D at 0x7f91ffeebeb0>,\n",
       " <matplotlib.lines.Line2D at 0x7f91ffeebdf0>,\n",
       " <matplotlib.lines.Line2D at 0x7f91ffeeef40>,\n",
       " <matplotlib.lines.Line2D at 0x7f91ffeee070>,\n",
       " <matplotlib.lines.Line2D at 0x7f91ffeee130>,\n",
       " <matplotlib.lines.Line2D at 0x7f91ffeee1f0>,\n",
       " <matplotlib.lines.Line2D at 0x7f91ffeee2b0>,\n",
       " <matplotlib.lines.Line2D at 0x7f91ffeee370>,\n",
       " <matplotlib.lines.Line2D at 0x7f91ffeee430>,\n",
       " <matplotlib.lines.Line2D at 0x7f91ffeee640>,\n",
       " <matplotlib.lines.Line2D at 0x7f91ffeee820>,\n",
       " <matplotlib.lines.Line2D at 0x7f91ffeeea60>,\n",
       " <matplotlib.lines.Line2D at 0x7f91ffeeeaf0>,\n",
       " <matplotlib.lines.Line2D at 0x7f91ffeeebb0>,\n",
       " <matplotlib.lines.Line2D at 0x7f91ffeeec70>,\n",
       " <matplotlib.lines.Line2D at 0x7f91ffeeed30>,\n",
       " <matplotlib.lines.Line2D at 0x7f91ffeeedf0>,\n",
       " <matplotlib.lines.Line2D at 0x7f91ffef0280>,\n",
       " <matplotlib.lines.Line2D at 0x7f91ffef0640>,\n",
       " <matplotlib.lines.Line2D at 0x7f91ffef0610>,\n",
       " <matplotlib.lines.Line2D at 0x7f91ffef0520>,\n",
       " <matplotlib.lines.Line2D at 0x7f91ffef06a0>,\n",
       " <matplotlib.lines.Line2D at 0x7f91ffef0760>,\n",
       " <matplotlib.lines.Line2D at 0x7f91ffef0820>,\n",
       " <matplotlib.lines.Line2D at 0x7f91ffef08e0>,\n",
       " <matplotlib.lines.Line2D at 0x7f91ffef09a0>,\n",
       " <matplotlib.lines.Line2D at 0x7f91ffef0a60>,\n",
       " <matplotlib.lines.Line2D at 0x7f91ffef0b20>,\n",
       " <matplotlib.lines.Line2D at 0x7f91ffef0be0>,\n",
       " <matplotlib.lines.Line2D at 0x7f91ffef0ca0>,\n",
       " <matplotlib.lines.Line2D at 0x7f91ffef0d60>,\n",
       " <matplotlib.lines.Line2D at 0x7f91ffef0e20>,\n",
       " <matplotlib.lines.Line2D at 0x7f91ffef0ee0>,\n",
       " <matplotlib.lines.Line2D at 0x7f91ffef0fa0>,\n",
       " <matplotlib.lines.Line2D at 0x7f91fff0f0a0>,\n",
       " <matplotlib.lines.Line2D at 0x7f91fff0f160>,\n",
       " <matplotlib.lines.Line2D at 0x7f91fff0f220>,\n",
       " <matplotlib.lines.Line2D at 0x7f91fff0f2e0>,\n",
       " <matplotlib.lines.Line2D at 0x7f91fff0f3a0>,\n",
       " <matplotlib.lines.Line2D at 0x7f91fff0f460>,\n",
       " <matplotlib.lines.Line2D at 0x7f91fff0f520>,\n",
       " <matplotlib.lines.Line2D at 0x7f91fff0f5e0>,\n",
       " <matplotlib.lines.Line2D at 0x7f91fff0f6a0>,\n",
       " <matplotlib.lines.Line2D at 0x7f91fff0f760>,\n",
       " <matplotlib.lines.Line2D at 0x7f91fff0f820>,\n",
       " <matplotlib.lines.Line2D at 0x7f91fff0f8e0>,\n",
       " <matplotlib.lines.Line2D at 0x7f91fff0f9a0>,\n",
       " <matplotlib.lines.Line2D at 0x7f91fff0fa60>,\n",
       " <matplotlib.lines.Line2D at 0x7f91fff0fb20>,\n",
       " <matplotlib.lines.Line2D at 0x7f91fff0fbe0>,\n",
       " <matplotlib.lines.Line2D at 0x7f91fff0fca0>,\n",
       " <matplotlib.lines.Line2D at 0x7f91fff0fd60>,\n",
       " <matplotlib.lines.Line2D at 0x7f91fff0fe20>,\n",
       " <matplotlib.lines.Line2D at 0x7f91fff0fee0>,\n",
       " <matplotlib.lines.Line2D at 0x7f91fff0ffa0>,\n",
       " <matplotlib.lines.Line2D at 0x7f91fff150a0>,\n",
       " <matplotlib.lines.Line2D at 0x7f91fff15160>,\n",
       " <matplotlib.lines.Line2D at 0x7f91fff15220>,\n",
       " <matplotlib.lines.Line2D at 0x7f91fff152e0>,\n",
       " <matplotlib.lines.Line2D at 0x7f91fff153a0>,\n",
       " <matplotlib.lines.Line2D at 0x7f91fff15460>,\n",
       " <matplotlib.lines.Line2D at 0x7f91fff15520>,\n",
       " <matplotlib.lines.Line2D at 0x7f91fff155e0>,\n",
       " <matplotlib.lines.Line2D at 0x7f91fff156a0>,\n",
       " <matplotlib.lines.Line2D at 0x7f91fff15760>,\n",
       " <matplotlib.lines.Line2D at 0x7f91fff15820>,\n",
       " <matplotlib.lines.Line2D at 0x7f91fff158e0>,\n",
       " <matplotlib.lines.Line2D at 0x7f91fff159a0>,\n",
       " <matplotlib.lines.Line2D at 0x7f91fff15a60>,\n",
       " <matplotlib.lines.Line2D at 0x7f91fff15b20>,\n",
       " <matplotlib.lines.Line2D at 0x7f91fff15be0>,\n",
       " <matplotlib.lines.Line2D at 0x7f91fff15ca0>,\n",
       " <matplotlib.lines.Line2D at 0x7f91fff15d60>,\n",
       " <matplotlib.lines.Line2D at 0x7f91fff15e20>,\n",
       " <matplotlib.lines.Line2D at 0x7f91fff15ee0>,\n",
       " <matplotlib.lines.Line2D at 0x7f91fff15fa0>,\n",
       " <matplotlib.lines.Line2D at 0x7f91fff1c0a0>,\n",
       " <matplotlib.lines.Line2D at 0x7f91fff1c160>,\n",
       " <matplotlib.lines.Line2D at 0x7f91fff1c220>,\n",
       " <matplotlib.lines.Line2D at 0x7f91fff1c2e0>,\n",
       " <matplotlib.lines.Line2D at 0x7f91fff1c3a0>,\n",
       " <matplotlib.lines.Line2D at 0x7f91fff1c460>,\n",
       " <matplotlib.lines.Line2D at 0x7f91fff1c520>,\n",
       " <matplotlib.lines.Line2D at 0x7f91fff1c5e0>,\n",
       " <matplotlib.lines.Line2D at 0x7f91fff1c6a0>,\n",
       " <matplotlib.lines.Line2D at 0x7f91fff1c760>,\n",
       " <matplotlib.lines.Line2D at 0x7f91fff1c820>,\n",
       " <matplotlib.lines.Line2D at 0x7f91fff1c8e0>,\n",
       " <matplotlib.lines.Line2D at 0x7f91fff1c9a0>,\n",
       " <matplotlib.lines.Line2D at 0x7f91fff1ca60>,\n",
       " <matplotlib.lines.Line2D at 0x7f91fff1cb20>,\n",
       " <matplotlib.lines.Line2D at 0x7f91fff1cbe0>,\n",
       " <matplotlib.lines.Line2D at 0x7f91fff1cca0>,\n",
       " <matplotlib.lines.Line2D at 0x7f91fff1cd60>,\n",
       " <matplotlib.lines.Line2D at 0x7f91fff1ce20>,\n",
       " <matplotlib.lines.Line2D at 0x7f91fff1cee0>,\n",
       " <matplotlib.lines.Line2D at 0x7f91fff1cfa0>,\n",
       " <matplotlib.lines.Line2D at 0x7f91fff220a0>,\n",
       " <matplotlib.lines.Line2D at 0x7f91fff22160>,\n",
       " <matplotlib.lines.Line2D at 0x7f91fff22220>,\n",
       " <matplotlib.lines.Line2D at 0x7f91fff222e0>,\n",
       " <matplotlib.lines.Line2D at 0x7f91fff223a0>,\n",
       " <matplotlib.lines.Line2D at 0x7f91fff22460>,\n",
       " <matplotlib.lines.Line2D at 0x7f91fff22520>,\n",
       " <matplotlib.lines.Line2D at 0x7f91fff225e0>,\n",
       " <matplotlib.lines.Line2D at 0x7f91fff226a0>,\n",
       " <matplotlib.lines.Line2D at 0x7f91fff22760>,\n",
       " <matplotlib.lines.Line2D at 0x7f91fff22820>,\n",
       " <matplotlib.lines.Line2D at 0x7f91fff228e0>,\n",
       " <matplotlib.lines.Line2D at 0x7f91fff229a0>,\n",
       " <matplotlib.lines.Line2D at 0x7f91fff22a60>,\n",
       " <matplotlib.lines.Line2D at 0x7f91fff22b20>,\n",
       " <matplotlib.lines.Line2D at 0x7f91fff22be0>,\n",
       " <matplotlib.lines.Line2D at 0x7f91fff22ca0>,\n",
       " <matplotlib.lines.Line2D at 0x7f91fff22d60>,\n",
       " <matplotlib.lines.Line2D at 0x7f91fff22e20>,\n",
       " <matplotlib.lines.Line2D at 0x7f91fff22ee0>,\n",
       " <matplotlib.lines.Line2D at 0x7f91fff22fa0>,\n",
       " <matplotlib.lines.Line2D at 0x7f91fff280a0>,\n",
       " <matplotlib.lines.Line2D at 0x7f91fff28160>,\n",
       " <matplotlib.lines.Line2D at 0x7f91fff28220>,\n",
       " <matplotlib.lines.Line2D at 0x7f91fff282e0>,\n",
       " <matplotlib.lines.Line2D at 0x7f91fff283a0>,\n",
       " <matplotlib.lines.Line2D at 0x7f91fff28460>,\n",
       " <matplotlib.lines.Line2D at 0x7f91fff28520>,\n",
       " <matplotlib.lines.Line2D at 0x7f91fff285e0>,\n",
       " <matplotlib.lines.Line2D at 0x7f91fff286a0>,\n",
       " <matplotlib.lines.Line2D at 0x7f91fff28760>,\n",
       " <matplotlib.lines.Line2D at 0x7f91fff28820>,\n",
       " <matplotlib.lines.Line2D at 0x7f91fff288e0>,\n",
       " <matplotlib.lines.Line2D at 0x7f91fff289a0>,\n",
       " <matplotlib.lines.Line2D at 0x7f91fff28a60>,\n",
       " <matplotlib.lines.Line2D at 0x7f91fff28b20>,\n",
       " <matplotlib.lines.Line2D at 0x7f91fff28be0>,\n",
       " <matplotlib.lines.Line2D at 0x7f91fff28ca0>,\n",
       " <matplotlib.lines.Line2D at 0x7f91fff28d60>,\n",
       " <matplotlib.lines.Line2D at 0x7f91fff28e20>,\n",
       " <matplotlib.lines.Line2D at 0x7f91fff28ee0>,\n",
       " <matplotlib.lines.Line2D at 0x7f91fff28fa0>,\n",
       " <matplotlib.lines.Line2D at 0x7f91fff2e0a0>,\n",
       " <matplotlib.lines.Line2D at 0x7f91fff2e160>,\n",
       " <matplotlib.lines.Line2D at 0x7f91fff2e220>,\n",
       " <matplotlib.lines.Line2D at 0x7f91fff2e2e0>,\n",
       " <matplotlib.lines.Line2D at 0x7f91fff2e3a0>,\n",
       " <matplotlib.lines.Line2D at 0x7f91fff2e460>,\n",
       " <matplotlib.lines.Line2D at 0x7f91fff2e520>,\n",
       " <matplotlib.lines.Line2D at 0x7f91fff2e5e0>,\n",
       " <matplotlib.lines.Line2D at 0x7f91fff2e6a0>,\n",
       " <matplotlib.lines.Line2D at 0x7f91fff2e760>,\n",
       " <matplotlib.lines.Line2D at 0x7f91fff2e820>,\n",
       " <matplotlib.lines.Line2D at 0x7f91fff2e8e0>,\n",
       " <matplotlib.lines.Line2D at 0x7f91fff2e9a0>,\n",
       " <matplotlib.lines.Line2D at 0x7f91fff2ea60>,\n",
       " <matplotlib.lines.Line2D at 0x7f91fff2eb20>,\n",
       " <matplotlib.lines.Line2D at 0x7f91fff2ebe0>,\n",
       " <matplotlib.lines.Line2D at 0x7f91fff2eca0>,\n",
       " <matplotlib.lines.Line2D at 0x7f91fff2ed60>,\n",
       " <matplotlib.lines.Line2D at 0x7f91fff2ee20>,\n",
       " <matplotlib.lines.Line2D at 0x7f91fff2eee0>,\n",
       " <matplotlib.lines.Line2D at 0x7f91fff2efa0>,\n",
       " <matplotlib.lines.Line2D at 0x7f91fff330a0>,\n",
       " <matplotlib.lines.Line2D at 0x7f91fff33160>,\n",
       " <matplotlib.lines.Line2D at 0x7f91fff33220>,\n",
       " <matplotlib.lines.Line2D at 0x7f91fff332e0>,\n",
       " <matplotlib.lines.Line2D at 0x7f91fff333a0>,\n",
       " <matplotlib.lines.Line2D at 0x7f91fff33460>,\n",
       " <matplotlib.lines.Line2D at 0x7f91fff33520>,\n",
       " <matplotlib.lines.Line2D at 0x7f91fff335e0>,\n",
       " <matplotlib.lines.Line2D at 0x7f91fff336a0>,\n",
       " <matplotlib.lines.Line2D at 0x7f91fff33760>,\n",
       " <matplotlib.lines.Line2D at 0x7f91fff33820>,\n",
       " <matplotlib.lines.Line2D at 0x7f91fff338e0>,\n",
       " <matplotlib.lines.Line2D at 0x7f91fff339a0>,\n",
       " <matplotlib.lines.Line2D at 0x7f91fff33a60>,\n",
       " <matplotlib.lines.Line2D at 0x7f91fff33b20>,\n",
       " <matplotlib.lines.Line2D at 0x7f91fff33be0>,\n",
       " <matplotlib.lines.Line2D at 0x7f91fff33ca0>,\n",
       " <matplotlib.lines.Line2D at 0x7f91fff33d60>,\n",
       " <matplotlib.lines.Line2D at 0x7f91fff33e20>,\n",
       " <matplotlib.lines.Line2D at 0x7f91fff33ee0>,\n",
       " <matplotlib.lines.Line2D at 0x7f91fff33fa0>,\n",
       " <matplotlib.lines.Line2D at 0x7f91ffe790a0>,\n",
       " <matplotlib.lines.Line2D at 0x7f91ffe79160>,\n",
       " <matplotlib.lines.Line2D at 0x7f91ffe79220>,\n",
       " <matplotlib.lines.Line2D at 0x7f91ffe792e0>,\n",
       " <matplotlib.lines.Line2D at 0x7f91ffe793a0>,\n",
       " <matplotlib.lines.Line2D at 0x7f91ffe79460>,\n",
       " <matplotlib.lines.Line2D at 0x7f91ffe79520>,\n",
       " <matplotlib.lines.Line2D at 0x7f91ffe795e0>,\n",
       " <matplotlib.lines.Line2D at 0x7f91ffe796a0>,\n",
       " <matplotlib.lines.Line2D at 0x7f91ffe79760>,\n",
       " <matplotlib.lines.Line2D at 0x7f91ffe79820>,\n",
       " <matplotlib.lines.Line2D at 0x7f91ffe798e0>,\n",
       " <matplotlib.lines.Line2D at 0x7f91ffe799a0>,\n",
       " <matplotlib.lines.Line2D at 0x7f91ffe79a60>,\n",
       " <matplotlib.lines.Line2D at 0x7f91ffe79b20>,\n",
       " <matplotlib.lines.Line2D at 0x7f91ffe79be0>,\n",
       " <matplotlib.lines.Line2D at 0x7f91ffe79ca0>,\n",
       " <matplotlib.lines.Line2D at 0x7f91ffe79d60>,\n",
       " <matplotlib.lines.Line2D at 0x7f91ffe79e20>,\n",
       " <matplotlib.lines.Line2D at 0x7f91ffe79ee0>,\n",
       " <matplotlib.lines.Line2D at 0x7f91ffe79fa0>,\n",
       " <matplotlib.lines.Line2D at 0x7f91ffe800a0>,\n",
       " <matplotlib.lines.Line2D at 0x7f91ffe80160>,\n",
       " <matplotlib.lines.Line2D at 0x7f91ffe80220>,\n",
       " <matplotlib.lines.Line2D at 0x7f91ffe802e0>,\n",
       " <matplotlib.lines.Line2D at 0x7f91ffe803a0>,\n",
       " <matplotlib.lines.Line2D at 0x7f91ffe80460>,\n",
       " <matplotlib.lines.Line2D at 0x7f91ffe80520>,\n",
       " <matplotlib.lines.Line2D at 0x7f91ffe805e0>,\n",
       " <matplotlib.lines.Line2D at 0x7f91ffe806a0>,\n",
       " <matplotlib.lines.Line2D at 0x7f91ffe80760>,\n",
       " <matplotlib.lines.Line2D at 0x7f91ffe80820>,\n",
       " <matplotlib.lines.Line2D at 0x7f91ffe808e0>,\n",
       " <matplotlib.lines.Line2D at 0x7f91ffe809a0>,\n",
       " <matplotlib.lines.Line2D at 0x7f91ffe80a60>,\n",
       " <matplotlib.lines.Line2D at 0x7f91ffe80b20>,\n",
       " <matplotlib.lines.Line2D at 0x7f91ffe80be0>,\n",
       " <matplotlib.lines.Line2D at 0x7f91ffe80ca0>,\n",
       " <matplotlib.lines.Line2D at 0x7f91ffe80d60>,\n",
       " <matplotlib.lines.Line2D at 0x7f91ffe80e20>,\n",
       " <matplotlib.lines.Line2D at 0x7f91ffe80ee0>,\n",
       " <matplotlib.lines.Line2D at 0x7f91ffe80fa0>,\n",
       " <matplotlib.lines.Line2D at 0x7f91ffe860a0>,\n",
       " <matplotlib.lines.Line2D at 0x7f91ffe86160>,\n",
       " <matplotlib.lines.Line2D at 0x7f91ffe86220>,\n",
       " <matplotlib.lines.Line2D at 0x7f91ffe862e0>,\n",
       " <matplotlib.lines.Line2D at 0x7f91ffe863a0>,\n",
       " <matplotlib.lines.Line2D at 0x7f91ffe86460>,\n",
       " <matplotlib.lines.Line2D at 0x7f91ffe86520>,\n",
       " <matplotlib.lines.Line2D at 0x7f91ffe865e0>,\n",
       " <matplotlib.lines.Line2D at 0x7f91ffe866a0>,\n",
       " <matplotlib.lines.Line2D at 0x7f91ffe86760>,\n",
       " <matplotlib.lines.Line2D at 0x7f91ffe86820>,\n",
       " <matplotlib.lines.Line2D at 0x7f91ffe868e0>,\n",
       " <matplotlib.lines.Line2D at 0x7f91ffe869a0>,\n",
       " <matplotlib.lines.Line2D at 0x7f91ffe86a60>,\n",
       " <matplotlib.lines.Line2D at 0x7f91ffe86b20>,\n",
       " <matplotlib.lines.Line2D at 0x7f91ffe86be0>,\n",
       " <matplotlib.lines.Line2D at 0x7f91ffe86ca0>,\n",
       " <matplotlib.lines.Line2D at 0x7f91ffe86d60>,\n",
       " <matplotlib.lines.Line2D at 0x7f91ffe86e20>,\n",
       " <matplotlib.lines.Line2D at 0x7f91ffe86ee0>,\n",
       " <matplotlib.lines.Line2D at 0x7f91ffe86fa0>,\n",
       " <matplotlib.lines.Line2D at 0x7f91ffe8c0a0>,\n",
       " <matplotlib.lines.Line2D at 0x7f91ffe8c160>,\n",
       " <matplotlib.lines.Line2D at 0x7f91ffe8c220>,\n",
       " <matplotlib.lines.Line2D at 0x7f91ffe8c2e0>,\n",
       " <matplotlib.lines.Line2D at 0x7f91ffe8c3a0>,\n",
       " <matplotlib.lines.Line2D at 0x7f91ffe8c460>,\n",
       " <matplotlib.lines.Line2D at 0x7f91ffe8c520>,\n",
       " <matplotlib.lines.Line2D at 0x7f91ffe8c5e0>,\n",
       " <matplotlib.lines.Line2D at 0x7f91ffe8c6a0>,\n",
       " <matplotlib.lines.Line2D at 0x7f91ffe8c760>,\n",
       " <matplotlib.lines.Line2D at 0x7f91ffe8c820>,\n",
       " <matplotlib.lines.Line2D at 0x7f91ffe8c8e0>,\n",
       " <matplotlib.lines.Line2D at 0x7f91ffe8c9a0>,\n",
       " <matplotlib.lines.Line2D at 0x7f91ffe8ca60>,\n",
       " <matplotlib.lines.Line2D at 0x7f91ffe8cb20>,\n",
       " <matplotlib.lines.Line2D at 0x7f91ffe8cbe0>,\n",
       " <matplotlib.lines.Line2D at 0x7f91ffe8cca0>,\n",
       " <matplotlib.lines.Line2D at 0x7f91ffe8cd60>,\n",
       " <matplotlib.lines.Line2D at 0x7f91ffe8ce20>,\n",
       " <matplotlib.lines.Line2D at 0x7f91ffe8cee0>,\n",
       " <matplotlib.lines.Line2D at 0x7f91ffe8cfa0>,\n",
       " <matplotlib.lines.Line2D at 0x7f91ffe920a0>,\n",
       " <matplotlib.lines.Line2D at 0x7f91ffe92160>,\n",
       " <matplotlib.lines.Line2D at 0x7f91ffe92220>,\n",
       " <matplotlib.lines.Line2D at 0x7f91ffe922e0>,\n",
       " <matplotlib.lines.Line2D at 0x7f91ffe923a0>,\n",
       " <matplotlib.lines.Line2D at 0x7f91ffe92460>,\n",
       " <matplotlib.lines.Line2D at 0x7f91ffe92520>,\n",
       " <matplotlib.lines.Line2D at 0x7f91ffe925e0>,\n",
       " <matplotlib.lines.Line2D at 0x7f91ffe926a0>,\n",
       " <matplotlib.lines.Line2D at 0x7f91ffe92760>,\n",
       " <matplotlib.lines.Line2D at 0x7f91ffe92820>,\n",
       " <matplotlib.lines.Line2D at 0x7f91ffe928e0>,\n",
       " <matplotlib.lines.Line2D at 0x7f91ffe929a0>,\n",
       " <matplotlib.lines.Line2D at 0x7f91ffe92a60>,\n",
       " <matplotlib.lines.Line2D at 0x7f91ffe92b20>,\n",
       " <matplotlib.lines.Line2D at 0x7f91ffe92be0>,\n",
       " <matplotlib.lines.Line2D at 0x7f91ffe92ca0>,\n",
       " <matplotlib.lines.Line2D at 0x7f91ffe92d60>,\n",
       " <matplotlib.lines.Line2D at 0x7f91ffe92e20>,\n",
       " <matplotlib.lines.Line2D at 0x7f91ffe92ee0>,\n",
       " <matplotlib.lines.Line2D at 0x7f91ffe92fa0>,\n",
       " <matplotlib.lines.Line2D at 0x7f91ffe980a0>,\n",
       " <matplotlib.lines.Line2D at 0x7f91ffe98160>,\n",
       " <matplotlib.lines.Line2D at 0x7f91ffe98220>,\n",
       " <matplotlib.lines.Line2D at 0x7f91ffe982e0>,\n",
       " <matplotlib.lines.Line2D at 0x7f91ffe983a0>,\n",
       " <matplotlib.lines.Line2D at 0x7f91ffe98460>,\n",
       " <matplotlib.lines.Line2D at 0x7f91ffe98520>,\n",
       " <matplotlib.lines.Line2D at 0x7f91ffe985e0>,\n",
       " <matplotlib.lines.Line2D at 0x7f91ffe986a0>,\n",
       " <matplotlib.lines.Line2D at 0x7f91ffe98760>,\n",
       " <matplotlib.lines.Line2D at 0x7f91ffe98820>,\n",
       " <matplotlib.lines.Line2D at 0x7f91ffe988e0>,\n",
       " <matplotlib.lines.Line2D at 0x7f91ffe989a0>,\n",
       " <matplotlib.lines.Line2D at 0x7f91ffe98a60>,\n",
       " <matplotlib.lines.Line2D at 0x7f91ffe98b20>,\n",
       " <matplotlib.lines.Line2D at 0x7f91ffe98be0>,\n",
       " <matplotlib.lines.Line2D at 0x7f91ffe98ca0>,\n",
       " <matplotlib.lines.Line2D at 0x7f91ffe98d60>,\n",
       " <matplotlib.lines.Line2D at 0x7f91ffe98e20>,\n",
       " <matplotlib.lines.Line2D at 0x7f91ffe98ee0>,\n",
       " <matplotlib.lines.Line2D at 0x7f91ffe98fa0>,\n",
       " <matplotlib.lines.Line2D at 0x7f91ffe9e0a0>,\n",
       " <matplotlib.lines.Line2D at 0x7f91ffe9e160>,\n",
       " <matplotlib.lines.Line2D at 0x7f91ffe9e220>,\n",
       " <matplotlib.lines.Line2D at 0x7f91ffe9e2e0>,\n",
       " <matplotlib.lines.Line2D at 0x7f91ffe9e3a0>,\n",
       " <matplotlib.lines.Line2D at 0x7f91ffe9e460>,\n",
       " <matplotlib.lines.Line2D at 0x7f91ffe9e520>,\n",
       " <matplotlib.lines.Line2D at 0x7f91ffe9e5e0>,\n",
       " <matplotlib.lines.Line2D at 0x7f91ffe9e6a0>,\n",
       " <matplotlib.lines.Line2D at 0x7f91ffe9e760>,\n",
       " <matplotlib.lines.Line2D at 0x7f91ffe9e820>,\n",
       " <matplotlib.lines.Line2D at 0x7f91ffe9e8e0>,\n",
       " <matplotlib.lines.Line2D at 0x7f91ffe9e9a0>,\n",
       " <matplotlib.lines.Line2D at 0x7f91ffe9ea60>,\n",
       " <matplotlib.lines.Line2D at 0x7f91ffe9eb20>,\n",
       " <matplotlib.lines.Line2D at 0x7f91ffe9ebe0>,\n",
       " <matplotlib.lines.Line2D at 0x7f91ffe9eca0>,\n",
       " <matplotlib.lines.Line2D at 0x7f91ffe9ed60>,\n",
       " <matplotlib.lines.Line2D at 0x7f91ffe9ee20>,\n",
       " <matplotlib.lines.Line2D at 0x7f91ffe9eee0>,\n",
       " <matplotlib.lines.Line2D at 0x7f91ffe9efa0>,\n",
       " <matplotlib.lines.Line2D at 0x7f91ffea50a0>,\n",
       " <matplotlib.lines.Line2D at 0x7f91ffea5160>,\n",
       " <matplotlib.lines.Line2D at 0x7f91ffea5220>,\n",
       " <matplotlib.lines.Line2D at 0x7f91ffea52e0>,\n",
       " <matplotlib.lines.Line2D at 0x7f91ffea53a0>,\n",
       " <matplotlib.lines.Line2D at 0x7f91ffea5460>,\n",
       " <matplotlib.lines.Line2D at 0x7f91ffea5520>,\n",
       " <matplotlib.lines.Line2D at 0x7f91ffea55e0>,\n",
       " <matplotlib.lines.Line2D at 0x7f91ffea56a0>,\n",
       " <matplotlib.lines.Line2D at 0x7f91ffea5760>,\n",
       " <matplotlib.lines.Line2D at 0x7f91ffea5820>,\n",
       " <matplotlib.lines.Line2D at 0x7f91ffea58e0>,\n",
       " <matplotlib.lines.Line2D at 0x7f91ffea59a0>,\n",
       " <matplotlib.lines.Line2D at 0x7f91ffea5a60>,\n",
       " <matplotlib.lines.Line2D at 0x7f91ffea5b20>,\n",
       " <matplotlib.lines.Line2D at 0x7f91ffea5be0>,\n",
       " <matplotlib.lines.Line2D at 0x7f91ffea5ca0>,\n",
       " <matplotlib.lines.Line2D at 0x7f91ffea5d60>,\n",
       " <matplotlib.lines.Line2D at 0x7f91ffea5e20>,\n",
       " <matplotlib.lines.Line2D at 0x7f91ffea5ee0>,\n",
       " <matplotlib.lines.Line2D at 0x7f91ffea5fa0>,\n",
       " <matplotlib.lines.Line2D at 0x7f91ffeab0a0>,\n",
       " <matplotlib.lines.Line2D at 0x7f91ffeab160>,\n",
       " <matplotlib.lines.Line2D at 0x7f91ffeab220>,\n",
       " <matplotlib.lines.Line2D at 0x7f91ffeab2e0>,\n",
       " <matplotlib.lines.Line2D at 0x7f91ffeab3a0>,\n",
       " <matplotlib.lines.Line2D at 0x7f91ffeab460>,\n",
       " <matplotlib.lines.Line2D at 0x7f91ffeab520>,\n",
       " <matplotlib.lines.Line2D at 0x7f91ffeab5e0>,\n",
       " <matplotlib.lines.Line2D at 0x7f91ffeab6a0>,\n",
       " <matplotlib.lines.Line2D at 0x7f91ffeab760>,\n",
       " <matplotlib.lines.Line2D at 0x7f91ffeab820>,\n",
       " <matplotlib.lines.Line2D at 0x7f91ffeab8e0>,\n",
       " <matplotlib.lines.Line2D at 0x7f91ffeab9a0>,\n",
       " <matplotlib.lines.Line2D at 0x7f91ffeaba60>,\n",
       " <matplotlib.lines.Line2D at 0x7f91ffeabb20>,\n",
       " <matplotlib.lines.Line2D at 0x7f91ffeabbe0>,\n",
       " <matplotlib.lines.Line2D at 0x7f91ffeabca0>,\n",
       " <matplotlib.lines.Line2D at 0x7f91ffeabd60>,\n",
       " <matplotlib.lines.Line2D at 0x7f91ffeabe20>,\n",
       " <matplotlib.lines.Line2D at 0x7f91ffeabee0>,\n",
       " <matplotlib.lines.Line2D at 0x7f91ffeabfa0>,\n",
       " <matplotlib.lines.Line2D at 0x7f91ffeb10a0>,\n",
       " <matplotlib.lines.Line2D at 0x7f91ffeb1160>,\n",
       " <matplotlib.lines.Line2D at 0x7f91ffeb1220>,\n",
       " <matplotlib.lines.Line2D at 0x7f91ffeb12e0>,\n",
       " <matplotlib.lines.Line2D at 0x7f91ffeb13a0>,\n",
       " <matplotlib.lines.Line2D at 0x7f91ffeb1460>,\n",
       " <matplotlib.lines.Line2D at 0x7f91ffeb1520>,\n",
       " <matplotlib.lines.Line2D at 0x7f91ffeb15e0>,\n",
       " <matplotlib.lines.Line2D at 0x7f91ffeb16a0>,\n",
       " <matplotlib.lines.Line2D at 0x7f91ffeb1760>,\n",
       " <matplotlib.lines.Line2D at 0x7f91ffeb1820>,\n",
       " <matplotlib.lines.Line2D at 0x7f91ffeb18e0>,\n",
       " <matplotlib.lines.Line2D at 0x7f91ffeb19a0>,\n",
       " <matplotlib.lines.Line2D at 0x7f91ffeb1a60>,\n",
       " <matplotlib.lines.Line2D at 0x7f91ffeb1b20>,\n",
       " <matplotlib.lines.Line2D at 0x7f91ffeb1be0>,\n",
       " <matplotlib.lines.Line2D at 0x7f91ffeb1ca0>,\n",
       " <matplotlib.lines.Line2D at 0x7f91ffeb1d60>,\n",
       " <matplotlib.lines.Line2D at 0x7f91ffeb1e20>,\n",
       " <matplotlib.lines.Line2D at 0x7f91ffeb1ee0>,\n",
       " <matplotlib.lines.Line2D at 0x7f91ffeb1fa0>,\n",
       " <matplotlib.lines.Line2D at 0x7f91ffeb70a0>,\n",
       " <matplotlib.lines.Line2D at 0x7f91ffeb7160>,\n",
       " <matplotlib.lines.Line2D at 0x7f91ffeb7220>,\n",
       " <matplotlib.lines.Line2D at 0x7f91ffeb72e0>,\n",
       " <matplotlib.lines.Line2D at 0x7f91ffeb73a0>,\n",
       " <matplotlib.lines.Line2D at 0x7f91ffeb7460>,\n",
       " <matplotlib.lines.Line2D at 0x7f91ffeb7520>,\n",
       " <matplotlib.lines.Line2D at 0x7f91ffeb75e0>,\n",
       " <matplotlib.lines.Line2D at 0x7f91ffeb76a0>,\n",
       " <matplotlib.lines.Line2D at 0x7f91ffeb7760>,\n",
       " <matplotlib.lines.Line2D at 0x7f91ffeb7820>,\n",
       " <matplotlib.lines.Line2D at 0x7f91ffeb78e0>,\n",
       " <matplotlib.lines.Line2D at 0x7f91ffeb79a0>,\n",
       " <matplotlib.lines.Line2D at 0x7f91ffeb7a60>,\n",
       " <matplotlib.lines.Line2D at 0x7f91ffeb7b20>,\n",
       " <matplotlib.lines.Line2D at 0x7f91ffeb7be0>,\n",
       " <matplotlib.lines.Line2D at 0x7f91ffeb7ca0>,\n",
       " <matplotlib.lines.Line2D at 0x7f91ffeb7d60>,\n",
       " <matplotlib.lines.Line2D at 0x7f91ffeb7e20>,\n",
       " <matplotlib.lines.Line2D at 0x7f91ffeb7ee0>,\n",
       " <matplotlib.lines.Line2D at 0x7f91ffeb7fa0>,\n",
       " <matplotlib.lines.Line2D at 0x7f91ffe3c0a0>,\n",
       " <matplotlib.lines.Line2D at 0x7f91ffe3c160>,\n",
       " <matplotlib.lines.Line2D at 0x7f91ffe3c220>,\n",
       " <matplotlib.lines.Line2D at 0x7f91ffe3c2e0>,\n",
       " <matplotlib.lines.Line2D at 0x7f91ffe3c3a0>,\n",
       " <matplotlib.lines.Line2D at 0x7f91ffe3c460>,\n",
       " <matplotlib.lines.Line2D at 0x7f91ffe3c520>,\n",
       " <matplotlib.lines.Line2D at 0x7f91ffe3c5e0>,\n",
       " <matplotlib.lines.Line2D at 0x7f91ffe3c6a0>,\n",
       " <matplotlib.lines.Line2D at 0x7f91ffe3c760>,\n",
       " <matplotlib.lines.Line2D at 0x7f91ffe3c820>,\n",
       " <matplotlib.lines.Line2D at 0x7f91ffe3c8e0>,\n",
       " <matplotlib.lines.Line2D at 0x7f91ffe3c9a0>,\n",
       " <matplotlib.lines.Line2D at 0x7f91ffe3ca60>,\n",
       " <matplotlib.lines.Line2D at 0x7f91ffe3cb20>,\n",
       " <matplotlib.lines.Line2D at 0x7f91ffe3cbe0>,\n",
       " <matplotlib.lines.Line2D at 0x7f91ffe3cca0>,\n",
       " <matplotlib.lines.Line2D at 0x7f91ffe3cd60>,\n",
       " <matplotlib.lines.Line2D at 0x7f91ffe3ce20>,\n",
       " <matplotlib.lines.Line2D at 0x7f91ffe3cee0>,\n",
       " <matplotlib.lines.Line2D at 0x7f91ffe3cfa0>,\n",
       " <matplotlib.lines.Line2D at 0x7f91ffe420a0>,\n",
       " <matplotlib.lines.Line2D at 0x7f91ffe42160>,\n",
       " <matplotlib.lines.Line2D at 0x7f91ffe42220>,\n",
       " <matplotlib.lines.Line2D at 0x7f91ffe422e0>,\n",
       " <matplotlib.lines.Line2D at 0x7f91ffe423a0>,\n",
       " <matplotlib.lines.Line2D at 0x7f91ffe42460>,\n",
       " <matplotlib.lines.Line2D at 0x7f91ffe42520>,\n",
       " <matplotlib.lines.Line2D at 0x7f91ffe425e0>,\n",
       " <matplotlib.lines.Line2D at 0x7f91ffe426a0>,\n",
       " <matplotlib.lines.Line2D at 0x7f91ffe42760>,\n",
       " <matplotlib.lines.Line2D at 0x7f91ffe42820>,\n",
       " <matplotlib.lines.Line2D at 0x7f91ffe428e0>,\n",
       " <matplotlib.lines.Line2D at 0x7f91ffe429a0>,\n",
       " <matplotlib.lines.Line2D at 0x7f91ffe42a60>,\n",
       " <matplotlib.lines.Line2D at 0x7f91ffe42b20>,\n",
       " <matplotlib.lines.Line2D at 0x7f91ffe42be0>,\n",
       " <matplotlib.lines.Line2D at 0x7f91ffe42ca0>,\n",
       " <matplotlib.lines.Line2D at 0x7f91ffe42d60>,\n",
       " <matplotlib.lines.Line2D at 0x7f91ffe42e20>,\n",
       " <matplotlib.lines.Line2D at 0x7f91ffe42ee0>,\n",
       " <matplotlib.lines.Line2D at 0x7f91ffe42fa0>,\n",
       " <matplotlib.lines.Line2D at 0x7f91ffe490a0>,\n",
       " <matplotlib.lines.Line2D at 0x7f91ffe49160>,\n",
       " <matplotlib.lines.Line2D at 0x7f91ffe49220>,\n",
       " <matplotlib.lines.Line2D at 0x7f91ffe492e0>,\n",
       " <matplotlib.lines.Line2D at 0x7f91ffe493a0>,\n",
       " <matplotlib.lines.Line2D at 0x7f91ffe49460>,\n",
       " <matplotlib.lines.Line2D at 0x7f91ffe49520>,\n",
       " <matplotlib.lines.Line2D at 0x7f91ffe495e0>,\n",
       " <matplotlib.lines.Line2D at 0x7f91ffe496a0>,\n",
       " <matplotlib.lines.Line2D at 0x7f91ffe49760>,\n",
       " <matplotlib.lines.Line2D at 0x7f91ffe49820>,\n",
       " <matplotlib.lines.Line2D at 0x7f91ffe498e0>,\n",
       " <matplotlib.lines.Line2D at 0x7f91ffe499a0>,\n",
       " <matplotlib.lines.Line2D at 0x7f91ffe49a60>,\n",
       " <matplotlib.lines.Line2D at 0x7f91ffe49b20>,\n",
       " <matplotlib.lines.Line2D at 0x7f91ffe49be0>,\n",
       " <matplotlib.lines.Line2D at 0x7f91ffe49ca0>,\n",
       " <matplotlib.lines.Line2D at 0x7f91ffe49d60>,\n",
       " <matplotlib.lines.Line2D at 0x7f91ffe49e20>,\n",
       " <matplotlib.lines.Line2D at 0x7f91ffe49ee0>,\n",
       " <matplotlib.lines.Line2D at 0x7f91ffe49fa0>,\n",
       " <matplotlib.lines.Line2D at 0x7f91ffe4f0a0>,\n",
       " <matplotlib.lines.Line2D at 0x7f91ffe4f160>,\n",
       " <matplotlib.lines.Line2D at 0x7f91ffe4f220>,\n",
       " <matplotlib.lines.Line2D at 0x7f91ffe4f2e0>,\n",
       " <matplotlib.lines.Line2D at 0x7f91ffe4f3a0>,\n",
       " <matplotlib.lines.Line2D at 0x7f91ffe4f460>,\n",
       " <matplotlib.lines.Line2D at 0x7f91ffe4f520>,\n",
       " <matplotlib.lines.Line2D at 0x7f91ffe4f5e0>,\n",
       " <matplotlib.lines.Line2D at 0x7f91ffe4f6a0>,\n",
       " <matplotlib.lines.Line2D at 0x7f91ffe4f760>,\n",
       " <matplotlib.lines.Line2D at 0x7f91ffe4f820>,\n",
       " <matplotlib.lines.Line2D at 0x7f91ffe4f8e0>,\n",
       " <matplotlib.lines.Line2D at 0x7f91ffe4f9a0>,\n",
       " <matplotlib.lines.Line2D at 0x7f91ffe4fa60>,\n",
       " <matplotlib.lines.Line2D at 0x7f91ffe4fb20>,\n",
       " <matplotlib.lines.Line2D at 0x7f91ffe4fbe0>,\n",
       " <matplotlib.lines.Line2D at 0x7f91ffe4fca0>,\n",
       " <matplotlib.lines.Line2D at 0x7f91ffe4fd60>,\n",
       " <matplotlib.lines.Line2D at 0x7f91ffe4fe20>,\n",
       " <matplotlib.lines.Line2D at 0x7f91ffe4fee0>,\n",
       " <matplotlib.lines.Line2D at 0x7f91ffe4ffa0>,\n",
       " <matplotlib.lines.Line2D at 0x7f91ffe550a0>,\n",
       " <matplotlib.lines.Line2D at 0x7f91ffe55160>,\n",
       " <matplotlib.lines.Line2D at 0x7f91ffe55220>,\n",
       " <matplotlib.lines.Line2D at 0x7f91ffe552e0>,\n",
       " <matplotlib.lines.Line2D at 0x7f91ffe553a0>,\n",
       " <matplotlib.lines.Line2D at 0x7f91ffe55460>,\n",
       " <matplotlib.lines.Line2D at 0x7f91ffe55520>,\n",
       " <matplotlib.lines.Line2D at 0x7f91ffe555e0>,\n",
       " <matplotlib.lines.Line2D at 0x7f91ffe556a0>,\n",
       " <matplotlib.lines.Line2D at 0x7f91ffe55760>,\n",
       " <matplotlib.lines.Line2D at 0x7f91ffe55820>,\n",
       " <matplotlib.lines.Line2D at 0x7f91ffe558e0>,\n",
       " <matplotlib.lines.Line2D at 0x7f91ffe559a0>,\n",
       " <matplotlib.lines.Line2D at 0x7f91ffe55a60>,\n",
       " <matplotlib.lines.Line2D at 0x7f91ffe55b20>,\n",
       " <matplotlib.lines.Line2D at 0x7f91ffe55be0>,\n",
       " <matplotlib.lines.Line2D at 0x7f91ffe55ca0>,\n",
       " <matplotlib.lines.Line2D at 0x7f91ffe55d60>,\n",
       " <matplotlib.lines.Line2D at 0x7f91ffe55e20>,\n",
       " <matplotlib.lines.Line2D at 0x7f91ffe55ee0>,\n",
       " <matplotlib.lines.Line2D at 0x7f91ffe55fa0>,\n",
       " <matplotlib.lines.Line2D at 0x7f91ffe5b0a0>,\n",
       " <matplotlib.lines.Line2D at 0x7f91ffe5b160>,\n",
       " <matplotlib.lines.Line2D at 0x7f91ffe5b220>,\n",
       " <matplotlib.lines.Line2D at 0x7f91ffe5b2e0>,\n",
       " <matplotlib.lines.Line2D at 0x7f91ffe5b3a0>,\n",
       " <matplotlib.lines.Line2D at 0x7f91ffe5b460>,\n",
       " <matplotlib.lines.Line2D at 0x7f91ffe5b520>,\n",
       " <matplotlib.lines.Line2D at 0x7f91ffe5b5e0>,\n",
       " <matplotlib.lines.Line2D at 0x7f91ffe5b6a0>,\n",
       " <matplotlib.lines.Line2D at 0x7f91ffe5b760>,\n",
       " <matplotlib.lines.Line2D at 0x7f91ffe5b820>,\n",
       " <matplotlib.lines.Line2D at 0x7f91ffe5b8e0>,\n",
       " <matplotlib.lines.Line2D at 0x7f91ffe5b9a0>,\n",
       " <matplotlib.lines.Line2D at 0x7f91ffe5ba60>,\n",
       " <matplotlib.lines.Line2D at 0x7f91ffe5bb20>,\n",
       " <matplotlib.lines.Line2D at 0x7f91ffe5bbe0>,\n",
       " <matplotlib.lines.Line2D at 0x7f91ffe5bca0>,\n",
       " <matplotlib.lines.Line2D at 0x7f91ffe5bd60>,\n",
       " <matplotlib.lines.Line2D at 0x7f91ffe5be20>,\n",
       " <matplotlib.lines.Line2D at 0x7f91ffe5bee0>,\n",
       " <matplotlib.lines.Line2D at 0x7f91ffe5bfa0>,\n",
       " <matplotlib.lines.Line2D at 0x7f91ffe610a0>,\n",
       " <matplotlib.lines.Line2D at 0x7f91ffe61160>,\n",
       " <matplotlib.lines.Line2D at 0x7f91ffe61220>,\n",
       " <matplotlib.lines.Line2D at 0x7f91ffe612e0>,\n",
       " <matplotlib.lines.Line2D at 0x7f91ffe613a0>,\n",
       " <matplotlib.lines.Line2D at 0x7f91ffe61460>,\n",
       " <matplotlib.lines.Line2D at 0x7f91ffe61520>,\n",
       " <matplotlib.lines.Line2D at 0x7f91ffe615e0>,\n",
       " <matplotlib.lines.Line2D at 0x7f91ffe616a0>,\n",
       " <matplotlib.lines.Line2D at 0x7f91ffe61760>,\n",
       " <matplotlib.lines.Line2D at 0x7f91ffe61820>,\n",
       " <matplotlib.lines.Line2D at 0x7f91ffe618e0>,\n",
       " <matplotlib.lines.Line2D at 0x7f91ffe619a0>,\n",
       " <matplotlib.lines.Line2D at 0x7f91ffe61a60>,\n",
       " <matplotlib.lines.Line2D at 0x7f91ffe61b20>,\n",
       " <matplotlib.lines.Line2D at 0x7f91ffe61be0>,\n",
       " <matplotlib.lines.Line2D at 0x7f91ffe61ca0>,\n",
       " <matplotlib.lines.Line2D at 0x7f91ffe61d60>,\n",
       " <matplotlib.lines.Line2D at 0x7f91ffe61e20>,\n",
       " <matplotlib.lines.Line2D at 0x7f91ffe61ee0>,\n",
       " <matplotlib.lines.Line2D at 0x7f91ffe61fa0>,\n",
       " <matplotlib.lines.Line2D at 0x7f91ffe670a0>,\n",
       " <matplotlib.lines.Line2D at 0x7f91ffe67160>,\n",
       " <matplotlib.lines.Line2D at 0x7f91ffe67220>,\n",
       " <matplotlib.lines.Line2D at 0x7f91ffe672e0>,\n",
       " <matplotlib.lines.Line2D at 0x7f91ffe673a0>,\n",
       " <matplotlib.lines.Line2D at 0x7f91ffe67460>,\n",
       " <matplotlib.lines.Line2D at 0x7f91ffe67520>,\n",
       " <matplotlib.lines.Line2D at 0x7f91ffe675e0>,\n",
       " <matplotlib.lines.Line2D at 0x7f91ffe676a0>,\n",
       " <matplotlib.lines.Line2D at 0x7f91ffe67760>,\n",
       " <matplotlib.lines.Line2D at 0x7f91ffe67820>,\n",
       " <matplotlib.lines.Line2D at 0x7f91ffe678e0>,\n",
       " <matplotlib.lines.Line2D at 0x7f91ffe679a0>,\n",
       " <matplotlib.lines.Line2D at 0x7f91ffe67a60>,\n",
       " <matplotlib.lines.Line2D at 0x7f91ffe67b20>,\n",
       " <matplotlib.lines.Line2D at 0x7f91ffe67be0>,\n",
       " <matplotlib.lines.Line2D at 0x7f91ffe67ca0>,\n",
       " <matplotlib.lines.Line2D at 0x7f91ffe67d60>,\n",
       " <matplotlib.lines.Line2D at 0x7f91ffe67e20>,\n",
       " <matplotlib.lines.Line2D at 0x7f91ffe67ee0>,\n",
       " <matplotlib.lines.Line2D at 0x7f91ffe67fa0>,\n",
       " <matplotlib.lines.Line2D at 0x7f91ffe6e0a0>,\n",
       " <matplotlib.lines.Line2D at 0x7f91ffe6e160>,\n",
       " <matplotlib.lines.Line2D at 0x7f91ffe6e220>,\n",
       " <matplotlib.lines.Line2D at 0x7f91ffe6e2e0>,\n",
       " <matplotlib.lines.Line2D at 0x7f91ffe6e3a0>,\n",
       " <matplotlib.lines.Line2D at 0x7f91ffe6e460>,\n",
       " <matplotlib.lines.Line2D at 0x7f91ffe6e520>,\n",
       " <matplotlib.lines.Line2D at 0x7f91ffe6e5e0>,\n",
       " <matplotlib.lines.Line2D at 0x7f91ffe6e6a0>,\n",
       " <matplotlib.lines.Line2D at 0x7f91ffe6e760>,\n",
       " <matplotlib.lines.Line2D at 0x7f91ffe6e820>,\n",
       " <matplotlib.lines.Line2D at 0x7f91ffe6e8e0>,\n",
       " <matplotlib.lines.Line2D at 0x7f91ffe6e9a0>,\n",
       " <matplotlib.lines.Line2D at 0x7f91ffe6ea60>,\n",
       " <matplotlib.lines.Line2D at 0x7f91ffe6eb20>,\n",
       " <matplotlib.lines.Line2D at 0x7f91ffe6ebe0>,\n",
       " <matplotlib.lines.Line2D at 0x7f91ffe6eca0>,\n",
       " <matplotlib.lines.Line2D at 0x7f91ffe6ed60>,\n",
       " <matplotlib.lines.Line2D at 0x7f91ffe6ee20>,\n",
       " <matplotlib.lines.Line2D at 0x7f91ffe6eee0>,\n",
       " <matplotlib.lines.Line2D at 0x7f91ffe6efa0>,\n",
       " <matplotlib.lines.Line2D at 0x7f91ffe740a0>,\n",
       " <matplotlib.lines.Line2D at 0x7f91ffe74160>,\n",
       " <matplotlib.lines.Line2D at 0x7f91ffe74220>,\n",
       " <matplotlib.lines.Line2D at 0x7f91ffe742e0>,\n",
       " <matplotlib.lines.Line2D at 0x7f91ffe743a0>,\n",
       " <matplotlib.lines.Line2D at 0x7f91ffe74460>,\n",
       " <matplotlib.lines.Line2D at 0x7f91ffe74520>,\n",
       " <matplotlib.lines.Line2D at 0x7f91ffe745e0>,\n",
       " <matplotlib.lines.Line2D at 0x7f91ffe746a0>,\n",
       " <matplotlib.lines.Line2D at 0x7f91ffe74760>,\n",
       " <matplotlib.lines.Line2D at 0x7f91ffe74820>,\n",
       " <matplotlib.lines.Line2D at 0x7f91ffe748e0>,\n",
       " <matplotlib.lines.Line2D at 0x7f91ffe749a0>,\n",
       " <matplotlib.lines.Line2D at 0x7f91ffe74a60>,\n",
       " <matplotlib.lines.Line2D at 0x7f91ffe74b20>,\n",
       " <matplotlib.lines.Line2D at 0x7f91ffe74be0>,\n",
       " <matplotlib.lines.Line2D at 0x7f91ffe74ca0>,\n",
       " <matplotlib.lines.Line2D at 0x7f91ffe74d60>,\n",
       " <matplotlib.lines.Line2D at 0x7f91ffe74e20>,\n",
       " <matplotlib.lines.Line2D at 0x7f91ffe74ee0>,\n",
       " <matplotlib.lines.Line2D at 0x7f91ffe74fa0>,\n",
       " <matplotlib.lines.Line2D at 0x7f91ffdfa0a0>,\n",
       " <matplotlib.lines.Line2D at 0x7f91ffdfa160>,\n",
       " <matplotlib.lines.Line2D at 0x7f91ffdfa220>,\n",
       " <matplotlib.lines.Line2D at 0x7f91ffdfa2e0>,\n",
       " <matplotlib.lines.Line2D at 0x7f91ffdfa3a0>,\n",
       " <matplotlib.lines.Line2D at 0x7f91ffdfa460>,\n",
       " <matplotlib.lines.Line2D at 0x7f91ffdfa520>,\n",
       " <matplotlib.lines.Line2D at 0x7f91ffdfa5e0>,\n",
       " <matplotlib.lines.Line2D at 0x7f91ffdfa6a0>,\n",
       " <matplotlib.lines.Line2D at 0x7f91ffdfa760>,\n",
       " <matplotlib.lines.Line2D at 0x7f91ffdfa820>,\n",
       " <matplotlib.lines.Line2D at 0x7f91ffdfa8e0>,\n",
       " <matplotlib.lines.Line2D at 0x7f91ffdfa9a0>,\n",
       " <matplotlib.lines.Line2D at 0x7f91ffdfaa60>,\n",
       " <matplotlib.lines.Line2D at 0x7f91ffdfab20>,\n",
       " <matplotlib.lines.Line2D at 0x7f91ffdfabe0>,\n",
       " <matplotlib.lines.Line2D at 0x7f91ffdfaca0>,\n",
       " <matplotlib.lines.Line2D at 0x7f91ffdfad60>,\n",
       " <matplotlib.lines.Line2D at 0x7f91ffdfae20>,\n",
       " <matplotlib.lines.Line2D at 0x7f91ffdfaee0>,\n",
       " <matplotlib.lines.Line2D at 0x7f91ffdfafa0>,\n",
       " <matplotlib.lines.Line2D at 0x7f91ffdff0a0>,\n",
       " <matplotlib.lines.Line2D at 0x7f91ffdff160>,\n",
       " <matplotlib.lines.Line2D at 0x7f91ffdff220>,\n",
       " <matplotlib.lines.Line2D at 0x7f91ffdff2e0>,\n",
       " <matplotlib.lines.Line2D at 0x7f91ffdff3a0>,\n",
       " <matplotlib.lines.Line2D at 0x7f91ffdff460>,\n",
       " <matplotlib.lines.Line2D at 0x7f91ffdff520>,\n",
       " <matplotlib.lines.Line2D at 0x7f91ffdff5e0>,\n",
       " <matplotlib.lines.Line2D at 0x7f91ffdff6a0>,\n",
       " <matplotlib.lines.Line2D at 0x7f91ffdff760>,\n",
       " <matplotlib.lines.Line2D at 0x7f91ffdff820>,\n",
       " <matplotlib.lines.Line2D at 0x7f91ffdff8e0>,\n",
       " <matplotlib.lines.Line2D at 0x7f91ffdff9a0>,\n",
       " <matplotlib.lines.Line2D at 0x7f91ffdffa60>,\n",
       " <matplotlib.lines.Line2D at 0x7f91ffdffb20>,\n",
       " <matplotlib.lines.Line2D at 0x7f91ffdffbe0>,\n",
       " <matplotlib.lines.Line2D at 0x7f91ffdffca0>,\n",
       " <matplotlib.lines.Line2D at 0x7f91ffdffd60>,\n",
       " <matplotlib.lines.Line2D at 0x7f91ffdffe20>,\n",
       " <matplotlib.lines.Line2D at 0x7f91ffdffee0>,\n",
       " <matplotlib.lines.Line2D at 0x7f91ffdfffa0>,\n",
       " <matplotlib.lines.Line2D at 0x7f91ffe050a0>,\n",
       " <matplotlib.lines.Line2D at 0x7f91ffe05160>,\n",
       " <matplotlib.lines.Line2D at 0x7f91ffe05220>,\n",
       " <matplotlib.lines.Line2D at 0x7f91ffe052e0>,\n",
       " <matplotlib.lines.Line2D at 0x7f91ffe053a0>,\n",
       " <matplotlib.lines.Line2D at 0x7f91ffe05460>,\n",
       " <matplotlib.lines.Line2D at 0x7f91ffe05520>,\n",
       " <matplotlib.lines.Line2D at 0x7f91ffe055e0>,\n",
       " <matplotlib.lines.Line2D at 0x7f91ffe056a0>,\n",
       " <matplotlib.lines.Line2D at 0x7f91ffe05760>,\n",
       " <matplotlib.lines.Line2D at 0x7f91ffe05820>,\n",
       " <matplotlib.lines.Line2D at 0x7f91ffe058e0>,\n",
       " <matplotlib.lines.Line2D at 0x7f91ffe059a0>,\n",
       " <matplotlib.lines.Line2D at 0x7f91ffe05a60>,\n",
       " <matplotlib.lines.Line2D at 0x7f91ffe05b20>,\n",
       " <matplotlib.lines.Line2D at 0x7f91ffe05be0>,\n",
       " <matplotlib.lines.Line2D at 0x7f91ffe05ca0>,\n",
       " <matplotlib.lines.Line2D at 0x7f91ffe05d60>,\n",
       " <matplotlib.lines.Line2D at 0x7f91ffe05e20>,\n",
       " <matplotlib.lines.Line2D at 0x7f91ffe05ee0>,\n",
       " <matplotlib.lines.Line2D at 0x7f91ffe05fa0>,\n",
       " <matplotlib.lines.Line2D at 0x7f91ffe0b0a0>,\n",
       " <matplotlib.lines.Line2D at 0x7f91ffe0b160>,\n",
       " <matplotlib.lines.Line2D at 0x7f91ffe0b220>,\n",
       " <matplotlib.lines.Line2D at 0x7f91ffe0b2e0>,\n",
       " <matplotlib.lines.Line2D at 0x7f91ffe0b3a0>,\n",
       " <matplotlib.lines.Line2D at 0x7f91ffe0b460>,\n",
       " <matplotlib.lines.Line2D at 0x7f91ffe0b520>,\n",
       " <matplotlib.lines.Line2D at 0x7f91ffe0b5e0>,\n",
       " <matplotlib.lines.Line2D at 0x7f91ffe0b6a0>,\n",
       " <matplotlib.lines.Line2D at 0x7f91ffe0b760>,\n",
       " <matplotlib.lines.Line2D at 0x7f91ffe0b820>,\n",
       " <matplotlib.lines.Line2D at 0x7f91ffe0b8e0>,\n",
       " <matplotlib.lines.Line2D at 0x7f91ffe0b9a0>,\n",
       " <matplotlib.lines.Line2D at 0x7f91ffe0ba60>,\n",
       " <matplotlib.lines.Line2D at 0x7f91ffe0bb20>,\n",
       " <matplotlib.lines.Line2D at 0x7f91ffe0bbe0>,\n",
       " <matplotlib.lines.Line2D at 0x7f91ffe0bca0>,\n",
       " <matplotlib.lines.Line2D at 0x7f91ffe0bd60>,\n",
       " <matplotlib.lines.Line2D at 0x7f91ffe0be20>,\n",
       " <matplotlib.lines.Line2D at 0x7f91ffe0bee0>,\n",
       " <matplotlib.lines.Line2D at 0x7f91ffe0bfa0>,\n",
       " ...]"
      ]
     },
     "execution_count": 667,
     "metadata": {},
     "output_type": "execute_result"
    },
    {
     "data": {
      "image/png": "[encoded data removed]",
      "text/plain": [
       "<Figure size 432x288 with 1 Axes>"
      ]
     },
     "metadata": {
      "needs_background": "light"
     },
     "output_type": "display_data"
    },
    {
     "data": {
      "application/javascript": [
       "\n",
       "            setTimeout(function() {\n",
       "                var nbb_cell_id = 667;\n",
       "                var nbb_unformatted_code = \"plt.plot((preds / np.sum(preds, axis=1)[:, None]).T, alpha=0.01)\";\n",
       "                var nbb_formatted_code = \"plt.plot((preds / np.sum(preds, axis=1)[:, None]).T, alpha=0.01)\";\n",
       "                var nbb_cells = Jupyter.notebook.get_cells();\n",
       "                for (var i = 0; i < nbb_cells.length; ++i) {\n",
       "                    if (nbb_cells[i].input_prompt_number == nbb_cell_id) {\n",
       "                        if (nbb_cells[i].get_text() == nbb_unformatted_code) {\n",
       "                             nbb_cells[i].set_text(nbb_formatted_code);\n",
       "                        }\n",
       "                        break;\n",
       "                    }\n",
       "                }\n",
       "            }, 500);\n",
       "            "
      ],
      "text/plain": [
       "<IPython.core.display.Javascript object>"
      ]
     },
     "metadata": {},
     "output_type": "display_data"
    }
   ],
   "source": [
    "plt.plot((preds / np.sum(preds, axis=1)[:, None]).T, alpha=0.01)"
   ]
  },
  {
   "cell_type": "code",
   "execution_count": 730,
   "id": "fb3f34fb",
   "metadata": {},
   "outputs": [
    {
     "data": {
      "application/javascript": [
       "\n",
       "            setTimeout(function() {\n",
       "                var nbb_cell_id = 730;\n",
       "                var nbb_unformatted_code = \"from scipy.stats import ttest_ind\";\n",
       "                var nbb_formatted_code = \"from scipy.stats import ttest_ind\";\n",
       "                var nbb_cells = Jupyter.notebook.get_cells();\n",
       "                for (var i = 0; i < nbb_cells.length; ++i) {\n",
       "                    if (nbb_cells[i].input_prompt_number == nbb_cell_id) {\n",
       "                        if (nbb_cells[i].get_text() == nbb_unformatted_code) {\n",
       "                             nbb_cells[i].set_text(nbb_formatted_code);\n",
       "                        }\n",
       "                        break;\n",
       "                    }\n",
       "                }\n",
       "            }, 500);\n",
       "            "
      ],
      "text/plain": [
       "<IPython.core.display.Javascript object>"
      ]
     },
     "metadata": {},
     "output_type": "display_data"
    }
   ],
   "source": [
    "from scipy.stats import ttest_ind"
   ]
  },
  {
   "cell_type": "code",
   "execution_count": 731,
   "id": "7fe0ebfc",
   "metadata": {},
   "outputs": [
    {
     "data": {
      "text/plain": [
       "Ttest_indResult(statistic=61.8231480961264, pvalue=0.0)"
      ]
     },
     "execution_count": 731,
     "metadata": {},
     "output_type": "execute_result"
    },
    {
     "data": {
      "application/javascript": [
       "\n",
       "            setTimeout(function() {\n",
       "                var nbb_cell_id = 731;\n",
       "                var nbb_unformatted_code = \"ttest_ind(\\n    np.sum(preds * np.arange(1, 6)[None, :], axis=1) / np.sum(preds, axis=1),\\n    np.sum(true * np.arange(1, 6)[None, :], axis=1) / np.sum(true, axis=1),\\n)\";\n",
       "                var nbb_formatted_code = \"ttest_ind(\\n    np.sum(preds * np.arange(1, 6)[None, :], axis=1) / np.sum(preds, axis=1),\\n    np.sum(true * np.arange(1, 6)[None, :], axis=1) / np.sum(true, axis=1),\\n)\";\n",
       "                var nbb_cells = Jupyter.notebook.get_cells();\n",
       "                for (var i = 0; i < nbb_cells.length; ++i) {\n",
       "                    if (nbb_cells[i].input_prompt_number == nbb_cell_id) {\n",
       "                        if (nbb_cells[i].get_text() == nbb_unformatted_code) {\n",
       "                             nbb_cells[i].set_text(nbb_formatted_code);\n",
       "                        }\n",
       "                        break;\n",
       "                    }\n",
       "                }\n",
       "            }, 500);\n",
       "            "
      ],
      "text/plain": [
       "<IPython.core.display.Javascript object>"
      ]
     },
     "metadata": {},
     "output_type": "display_data"
    }
   ],
   "source": [
    "ttest_ind(\n",
    "    np.sum(preds * np.arange(1, 6)[None, :], axis=1) / np.sum(preds, axis=1),\n",
    "    np.sum(true * np.arange(1, 6)[None, :], axis=1) / np.sum(true, axis=1),\n",
    ")"
   ]
  },
  {
   "cell_type": "markdown",
   "id": "216ccb4b",
   "metadata": {},
   "source": [
    "**Do chi-square test on reviews simulated from the real and predicted distribution of product ratings**"
   ]
  },
  {
   "cell_type": "markdown",
   "id": "26e051e9",
   "metadata": {},
   "source": [
    "# Try out just modelling the fraction of ratings in each bin"
   ]
  },
  {
   "cell_type": "code",
   "execution_count": 598,
   "id": "3a3efd16",
   "metadata": {},
   "outputs": [
    {
     "data": {
      "text/plain": [
       "tensor([[0.0751, 0.0520, 0.1098, 0.2197, 0.5434],\n",
       "        [0.1327, 0.0510, 0.0714, 0.2449, 0.5000],\n",
       "        [0.0321, 0.0138, 0.0229, 0.2248, 0.7064],\n",
       "        ...,\n",
       "        [0.2222, 0.1111, 0.1111, 0.1111, 0.4444],\n",
       "        [0.2857, 0.1429, 0.1429, 0.1429, 0.2857],\n",
       "        [0.1667, 0.1667, 0.1667, 0.1667, 0.3333]])"
      ]
     },
     "execution_count": 598,
     "metadata": {},
     "output_type": "execute_result"
    },
    {
     "data": {
      "application/javascript": [
       "\n",
       "            setTimeout(function() {\n",
       "                var nbb_cell_id = 598;\n",
       "                var nbb_unformatted_code = \"ratings = ratings / ratings.sum(axis=1)[:, None]\\nratings\";\n",
       "                var nbb_formatted_code = \"ratings = ratings / ratings.sum(axis=1)[:, None]\\nratings\";\n",
       "                var nbb_cells = Jupyter.notebook.get_cells();\n",
       "                for (var i = 0; i < nbb_cells.length; ++i) {\n",
       "                    if (nbb_cells[i].input_prompt_number == nbb_cell_id) {\n",
       "                        if (nbb_cells[i].get_text() == nbb_unformatted_code) {\n",
       "                             nbb_cells[i].set_text(nbb_formatted_code);\n",
       "                        }\n",
       "                        break;\n",
       "                    }\n",
       "                }\n",
       "            }, 500);\n",
       "            "
      ],
      "text/plain": [
       "<IPython.core.display.Javascript object>"
      ]
     },
     "metadata": {},
     "output_type": "display_data"
    }
   ],
   "source": [
    "ratings = ratings / ratings.sum(axis=1)[:, None]\n",
    "ratings"
   ]
  },
  {
   "cell_type": "code",
   "execution_count": 599,
   "id": "021173df",
   "metadata": {},
   "outputs": [
    {
     "data": {
      "text/plain": [
       "tensor([[ 0.0001,  0.0001, -0.0027,  ...,  0.0010,  0.0040,  0.0017],\n",
       "        [-0.0012, -0.0015, -0.0006,  ...,  0.0007,  0.0038,  0.0027],\n",
       "        [ 0.0014, -0.0042, -0.0024,  ..., -0.0018,  0.0027, -0.0043],\n",
       "        ...,\n",
       "        [-0.0136, -0.0093,  0.0083,  ..., -0.0255,  0.0027, -0.0097],\n",
       "        [-0.0133, -0.0195, -0.0198,  ...,  0.0014, -0.0079,  0.0077],\n",
       "        [ 0.0004,  0.0004,  0.0007,  ...,  0.0020,  0.0008, -0.0012]])"
      ]
     },
     "execution_count": 599,
     "metadata": {},
     "output_type": "execute_result"
    },
    {
     "data": {
      "application/javascript": [
       "\n",
       "            setTimeout(function() {\n",
       "                var nbb_cell_id = 599;\n",
       "                var nbb_unformatted_code = \"embeddings\";\n",
       "                var nbb_formatted_code = \"embeddings\";\n",
       "                var nbb_cells = Jupyter.notebook.get_cells();\n",
       "                for (var i = 0; i < nbb_cells.length; ++i) {\n",
       "                    if (nbb_cells[i].input_prompt_number == nbb_cell_id) {\n",
       "                        if (nbb_cells[i].get_text() == nbb_unformatted_code) {\n",
       "                             nbb_cells[i].set_text(nbb_formatted_code);\n",
       "                        }\n",
       "                        break;\n",
       "                    }\n",
       "                }\n",
       "            }, 500);\n",
       "            "
      ],
      "text/plain": [
       "<IPython.core.display.Javascript object>"
      ]
     },
     "metadata": {},
     "output_type": "display_data"
    }
   ],
   "source": [
    "embeddings"
   ]
  },
  {
   "cell_type": "code",
   "execution_count": 602,
   "id": "49a02dfd",
   "metadata": {},
   "outputs": [
    {
     "data": {
      "application/javascript": [
       "\n",
       "            setTimeout(function() {\n",
       "                var nbb_cell_id = 602;\n",
       "                var nbb_unformatted_code = \"modules = [\\n    torch.nn.Linear(100, 256),\\n    torch.nn.LeakyReLU(),\\n    torch.nn.Linear(256, 128),\\n    torch.nn.LeakyReLU(),\\n    torch.nn.Linear(128, 64),\\n    torch.nn.LeakyReLU(),\\n    torch.nn.Linear(64, 5),\\n    torch.nn.LogSoftmax(dim=1),\\n]\";\n",
       "                var nbb_formatted_code = \"modules = [\\n    torch.nn.Linear(100, 256),\\n    torch.nn.LeakyReLU(),\\n    torch.nn.Linear(256, 128),\\n    torch.nn.LeakyReLU(),\\n    torch.nn.Linear(128, 64),\\n    torch.nn.LeakyReLU(),\\n    torch.nn.Linear(64, 5),\\n    torch.nn.LogSoftmax(dim=1),\\n]\";\n",
       "                var nbb_cells = Jupyter.notebook.get_cells();\n",
       "                for (var i = 0; i < nbb_cells.length; ++i) {\n",
       "                    if (nbb_cells[i].input_prompt_number == nbb_cell_id) {\n",
       "                        if (nbb_cells[i].get_text() == nbb_unformatted_code) {\n",
       "                             nbb_cells[i].set_text(nbb_formatted_code);\n",
       "                        }\n",
       "                        break;\n",
       "                    }\n",
       "                }\n",
       "            }, 500);\n",
       "            "
      ],
      "text/plain": [
       "<IPython.core.display.Javascript object>"
      ]
     },
     "metadata": {},
     "output_type": "display_data"
    }
   ],
   "source": [
    "modules = [\n",
    "    torch.nn.Linear(100, 256),\n",
    "    torch.nn.LeakyReLU(),\n",
    "    torch.nn.Linear(256, 128),\n",
    "    torch.nn.LeakyReLU(),\n",
    "    torch.nn.Linear(128, 64),\n",
    "    torch.nn.LeakyReLU(),\n",
    "    torch.nn.Linear(64, 5),\n",
    "    torch.nn.LogSoftmax(dim=1),\n",
    "]"
   ]
  },
  {
   "cell_type": "code",
   "execution_count": 603,
   "id": "5ef5257d",
   "metadata": {},
   "outputs": [
    {
     "data": {
      "application/javascript": [
       "\n",
       "            setTimeout(function() {\n",
       "                var nbb_cell_id = 603;\n",
       "                var nbb_unformatted_code = \"net = torch.nn.Sequential(*modules)\";\n",
       "                var nbb_formatted_code = \"net = torch.nn.Sequential(*modules)\";\n",
       "                var nbb_cells = Jupyter.notebook.get_cells();\n",
       "                for (var i = 0; i < nbb_cells.length; ++i) {\n",
       "                    if (nbb_cells[i].input_prompt_number == nbb_cell_id) {\n",
       "                        if (nbb_cells[i].get_text() == nbb_unformatted_code) {\n",
       "                             nbb_cells[i].set_text(nbb_formatted_code);\n",
       "                        }\n",
       "                        break;\n",
       "                    }\n",
       "                }\n",
       "            }, 500);\n",
       "            "
      ],
      "text/plain": [
       "<IPython.core.display.Javascript object>"
      ]
     },
     "metadata": {},
     "output_type": "display_data"
    }
   ],
   "source": [
    "net = torch.nn.Sequential(*modules)"
   ]
  },
  {
   "cell_type": "code",
   "execution_count": 604,
   "id": "8b42302b",
   "metadata": {},
   "outputs": [
    {
     "data": {
      "application/javascript": [
       "\n",
       "            setTimeout(function() {\n",
       "                var nbb_cell_id = 604;\n",
       "                var nbb_unformatted_code = \"class NNModel(torch.nn.Module):\\n    def __init__(self):\\n        super(NNModel, self).__init__()\\n        self.net = net\\n        self.best_model = None\\n        self.best_validation_loss = np.inf\\n        self.epochs_since_last_improvement = 0\\n\\n    def forward(self, x):\\n        y_pred = self.net(x)\\n        return y_pred\";\n",
       "                var nbb_formatted_code = \"class NNModel(torch.nn.Module):\\n    def __init__(self):\\n        super(NNModel, self).__init__()\\n        self.net = net\\n        self.best_model = None\\n        self.best_validation_loss = np.inf\\n        self.epochs_since_last_improvement = 0\\n\\n    def forward(self, x):\\n        y_pred = self.net(x)\\n        return y_pred\";\n",
       "                var nbb_cells = Jupyter.notebook.get_cells();\n",
       "                for (var i = 0; i < nbb_cells.length; ++i) {\n",
       "                    if (nbb_cells[i].input_prompt_number == nbb_cell_id) {\n",
       "                        if (nbb_cells[i].get_text() == nbb_unformatted_code) {\n",
       "                             nbb_cells[i].set_text(nbb_formatted_code);\n",
       "                        }\n",
       "                        break;\n",
       "                    }\n",
       "                }\n",
       "            }, 500);\n",
       "            "
      ],
      "text/plain": [
       "<IPython.core.display.Javascript object>"
      ]
     },
     "metadata": {},
     "output_type": "display_data"
    }
   ],
   "source": [
    "class NNModel(torch.nn.Module):\n",
    "    def __init__(self):\n",
    "        super(NNModel, self).__init__()\n",
    "        self.net = net\n",
    "        self.best_model = None\n",
    "        self.best_validation_loss = np.inf\n",
    "        self.epochs_since_last_improvement = 0\n",
    "\n",
    "    def forward(self, x):\n",
    "        y_pred = self.net(x)\n",
    "        return y_pred"
   ]
  },
  {
   "cell_type": "code",
   "execution_count": 605,
   "id": "92cb9884",
   "metadata": {},
   "outputs": [
    {
     "data": {
      "application/javascript": [
       "\n",
       "            setTimeout(function() {\n",
       "                var nbb_cell_id = 605;\n",
       "                var nbb_unformatted_code = \"model = NNModel()\";\n",
       "                var nbb_formatted_code = \"model = NNModel()\";\n",
       "                var nbb_cells = Jupyter.notebook.get_cells();\n",
       "                for (var i = 0; i < nbb_cells.length; ++i) {\n",
       "                    if (nbb_cells[i].input_prompt_number == nbb_cell_id) {\n",
       "                        if (nbb_cells[i].get_text() == nbb_unformatted_code) {\n",
       "                             nbb_cells[i].set_text(nbb_formatted_code);\n",
       "                        }\n",
       "                        break;\n",
       "                    }\n",
       "                }\n",
       "            }, 500);\n",
       "            "
      ],
      "text/plain": [
       "<IPython.core.display.Javascript object>"
      ]
     },
     "metadata": {},
     "output_type": "display_data"
    }
   ],
   "source": [
    "model = NNModel()"
   ]
  },
  {
   "cell_type": "code",
   "execution_count": 606,
   "id": "5f635587",
   "metadata": {},
   "outputs": [
    {
     "data": {
      "application/javascript": [
       "\n",
       "            setTimeout(function() {\n",
       "                var nbb_cell_id = 606;\n",
       "                var nbb_unformatted_code = \"criterion = torch.nn.KLDivLoss(reduction=\\\"batchmean\\\")\\noptimizer = torch.optim.Adam(model.parameters(), lr=1e-3)\";\n",
       "                var nbb_formatted_code = \"criterion = torch.nn.KLDivLoss(reduction=\\\"batchmean\\\")\\noptimizer = torch.optim.Adam(model.parameters(), lr=1e-3)\";\n",
       "                var nbb_cells = Jupyter.notebook.get_cells();\n",
       "                for (var i = 0; i < nbb_cells.length; ++i) {\n",
       "                    if (nbb_cells[i].input_prompt_number == nbb_cell_id) {\n",
       "                        if (nbb_cells[i].get_text() == nbb_unformatted_code) {\n",
       "                             nbb_cells[i].set_text(nbb_formatted_code);\n",
       "                        }\n",
       "                        break;\n",
       "                    }\n",
       "                }\n",
       "            }, 500);\n",
       "            "
      ],
      "text/plain": [
       "<IPython.core.display.Javascript object>"
      ]
     },
     "metadata": {},
     "output_type": "display_data"
    }
   ],
   "source": [
    "criterion = torch.nn.KLDivLoss(reduction=\"batchmean\")\n",
    "optimizer = torch.optim.Adam(model.parameters(), lr=1e-3)"
   ]
  },
  {
   "cell_type": "code",
   "execution_count": 607,
   "id": "d5c69a9e",
   "metadata": {},
   "outputs": [
    {
     "data": {
      "application/javascript": [
       "\n",
       "            setTimeout(function() {\n",
       "                var nbb_cell_id = 607;\n",
       "                var nbb_unformatted_code = \"dataset = TensorDataset(embeddings, ratings)\";\n",
       "                var nbb_formatted_code = \"dataset = TensorDataset(embeddings, ratings)\";\n",
       "                var nbb_cells = Jupyter.notebook.get_cells();\n",
       "                for (var i = 0; i < nbb_cells.length; ++i) {\n",
       "                    if (nbb_cells[i].input_prompt_number == nbb_cell_id) {\n",
       "                        if (nbb_cells[i].get_text() == nbb_unformatted_code) {\n",
       "                             nbb_cells[i].set_text(nbb_formatted_code);\n",
       "                        }\n",
       "                        break;\n",
       "                    }\n",
       "                }\n",
       "            }, 500);\n",
       "            "
      ],
      "text/plain": [
       "<IPython.core.display.Javascript object>"
      ]
     },
     "metadata": {},
     "output_type": "display_data"
    }
   ],
   "source": [
    "dataset = TensorDataset(embeddings, ratings)"
   ]
  },
  {
   "cell_type": "code",
   "execution_count": 608,
   "id": "141d9e78",
   "metadata": {},
   "outputs": [
    {
     "data": {
      "text/plain": [
       "(tensor([ 1952,  5388,  1412,  ...,  2328,   755, 10406]),\n",
       " tensor([9004, 1916, 7481,  ..., 4204, 3844, 5365]))"
      ]
     },
     "execution_count": 608,
     "metadata": {},
     "output_type": "execute_result"
    },
    {
     "data": {
      "application/javascript": [
       "\n",
       "            setTimeout(function() {\n",
       "                var nbb_cell_id = 608;\n",
       "                var nbb_unformatted_code = \"validation_fraction = 0.1\\nnum_total_examples = len(embeddings)\\nnum_training_examples = int((1 - validation_fraction) * num_total_examples)\\nnum_validation_examples = num_total_examples - num_training_examples\\n\\npermuted_indices = torch.randperm(num_total_examples)\\ntrain_indices, val_indices = (\\n    permuted_indices[:num_training_examples],\\n    permuted_indices[num_training_examples:],\\n)\\ntrain_indices, val_indices\";\n",
       "                var nbb_formatted_code = \"validation_fraction = 0.1\\nnum_total_examples = len(embeddings)\\nnum_training_examples = int((1 - validation_fraction) * num_total_examples)\\nnum_validation_examples = num_total_examples - num_training_examples\\n\\npermuted_indices = torch.randperm(num_total_examples)\\ntrain_indices, val_indices = (\\n    permuted_indices[:num_training_examples],\\n    permuted_indices[num_training_examples:],\\n)\\ntrain_indices, val_indices\";\n",
       "                var nbb_cells = Jupyter.notebook.get_cells();\n",
       "                for (var i = 0; i < nbb_cells.length; ++i) {\n",
       "                    if (nbb_cells[i].input_prompt_number == nbb_cell_id) {\n",
       "                        if (nbb_cells[i].get_text() == nbb_unformatted_code) {\n",
       "                             nbb_cells[i].set_text(nbb_formatted_code);\n",
       "                        }\n",
       "                        break;\n",
       "                    }\n",
       "                }\n",
       "            }, 500);\n",
       "            "
      ],
      "text/plain": [
       "<IPython.core.display.Javascript object>"
      ]
     },
     "metadata": {},
     "output_type": "display_data"
    }
   ],
   "source": [
    "validation_fraction = 0.1\n",
    "num_total_examples = len(embeddings)\n",
    "num_training_examples = int((1 - validation_fraction) * num_total_examples)\n",
    "num_validation_examples = num_total_examples - num_training_examples\n",
    "\n",
    "permuted_indices = torch.randperm(num_total_examples)\n",
    "train_indices, val_indices = (\n",
    "    permuted_indices[:num_training_examples],\n",
    "    permuted_indices[num_training_examples:],\n",
    ")\n",
    "train_indices, val_indices"
   ]
  },
  {
   "cell_type": "code",
   "execution_count": 609,
   "id": "0a1adaee",
   "metadata": {},
   "outputs": [
    {
     "data": {
      "text/plain": [
       "(torch.Size([10155]), torch.Size([1129]))"
      ]
     },
     "execution_count": 609,
     "metadata": {},
     "output_type": "execute_result"
    },
    {
     "data": {
      "application/javascript": [
       "\n",
       "            setTimeout(function() {\n",
       "                var nbb_cell_id = 609;\n",
       "                var nbb_unformatted_code = \"train_indices.shape, val_indices.shape\";\n",
       "                var nbb_formatted_code = \"train_indices.shape, val_indices.shape\";\n",
       "                var nbb_cells = Jupyter.notebook.get_cells();\n",
       "                for (var i = 0; i < nbb_cells.length; ++i) {\n",
       "                    if (nbb_cells[i].input_prompt_number == nbb_cell_id) {\n",
       "                        if (nbb_cells[i].get_text() == nbb_unformatted_code) {\n",
       "                             nbb_cells[i].set_text(nbb_formatted_code);\n",
       "                        }\n",
       "                        break;\n",
       "                    }\n",
       "                }\n",
       "            }, 500);\n",
       "            "
      ],
      "text/plain": [
       "<IPython.core.display.Javascript object>"
      ]
     },
     "metadata": {},
     "output_type": "display_data"
    }
   ],
   "source": [
    "train_indices.shape, val_indices.shape"
   ]
  },
  {
   "cell_type": "code",
   "execution_count": 610,
   "id": "e1b2e12a",
   "metadata": {},
   "outputs": [
    {
     "data": {
      "application/javascript": [
       "\n",
       "            setTimeout(function() {\n",
       "                var nbb_cell_id = 610;\n",
       "                var nbb_unformatted_code = \"dataloader_kwargs = None\\ntraining_batch_size = 50\\n\\ntrain_loader_kwargs = {\\n    \\\"batch_size\\\": min(training_batch_size, num_training_examples),\\n    \\\"drop_last\\\": True,\\n    \\\"sampler\\\": sampler.SubsetRandomSampler(train_indices),\\n}\\ntrain_loader_kwargs = (\\n    dict(train_loader_kwargs, **dataloader_kwargs)\\n    if dataloader_kwargs is not None\\n    else train_loader_kwargs\\n)\\nval_loader_kwargs = {\\n    \\\"batch_size\\\": min(training_batch_size, num_validation_examples),\\n    \\\"shuffle\\\": False,\\n    \\\"drop_last\\\": True,\\n    \\\"sampler\\\": sampler.SubsetRandomSampler(val_indices),\\n}\\nval_loader_kwargs = (\\n    dict(val_loader_kwargs, **dataloader_kwargs)\\n    if dataloader_kwargs is not None\\n    else val_loader_kwargs\\n)\";\n",
       "                var nbb_formatted_code = \"dataloader_kwargs = None\\ntraining_batch_size = 50\\n\\ntrain_loader_kwargs = {\\n    \\\"batch_size\\\": min(training_batch_size, num_training_examples),\\n    \\\"drop_last\\\": True,\\n    \\\"sampler\\\": sampler.SubsetRandomSampler(train_indices),\\n}\\ntrain_loader_kwargs = (\\n    dict(train_loader_kwargs, **dataloader_kwargs)\\n    if dataloader_kwargs is not None\\n    else train_loader_kwargs\\n)\\nval_loader_kwargs = {\\n    \\\"batch_size\\\": min(training_batch_size, num_validation_examples),\\n    \\\"shuffle\\\": False,\\n    \\\"drop_last\\\": True,\\n    \\\"sampler\\\": sampler.SubsetRandomSampler(val_indices),\\n}\\nval_loader_kwargs = (\\n    dict(val_loader_kwargs, **dataloader_kwargs)\\n    if dataloader_kwargs is not None\\n    else val_loader_kwargs\\n)\";\n",
       "                var nbb_cells = Jupyter.notebook.get_cells();\n",
       "                for (var i = 0; i < nbb_cells.length; ++i) {\n",
       "                    if (nbb_cells[i].input_prompt_number == nbb_cell_id) {\n",
       "                        if (nbb_cells[i].get_text() == nbb_unformatted_code) {\n",
       "                             nbb_cells[i].set_text(nbb_formatted_code);\n",
       "                        }\n",
       "                        break;\n",
       "                    }\n",
       "                }\n",
       "            }, 500);\n",
       "            "
      ],
      "text/plain": [
       "<IPython.core.display.Javascript object>"
      ]
     },
     "metadata": {},
     "output_type": "display_data"
    }
   ],
   "source": [
    "dataloader_kwargs = None\n",
    "training_batch_size = 50\n",
    "\n",
    "train_loader_kwargs = {\n",
    "    \"batch_size\": min(training_batch_size, num_training_examples),\n",
    "    \"drop_last\": True,\n",
    "    \"sampler\": sampler.SubsetRandomSampler(train_indices),\n",
    "}\n",
    "train_loader_kwargs = (\n",
    "    dict(train_loader_kwargs, **dataloader_kwargs)\n",
    "    if dataloader_kwargs is not None\n",
    "    else train_loader_kwargs\n",
    ")\n",
    "val_loader_kwargs = {\n",
    "    \"batch_size\": min(training_batch_size, num_validation_examples),\n",
    "    \"shuffle\": False,\n",
    "    \"drop_last\": True,\n",
    "    \"sampler\": sampler.SubsetRandomSampler(val_indices),\n",
    "}\n",
    "val_loader_kwargs = (\n",
    "    dict(val_loader_kwargs, **dataloader_kwargs)\n",
    "    if dataloader_kwargs is not None\n",
    "    else val_loader_kwargs\n",
    ")"
   ]
  },
  {
   "cell_type": "code",
   "execution_count": 611,
   "id": "18855b04",
   "metadata": {},
   "outputs": [
    {
     "data": {
      "application/javascript": [
       "\n",
       "            setTimeout(function() {\n",
       "                var nbb_cell_id = 611;\n",
       "                var nbb_unformatted_code = \"train_loader = DataLoader(dataset, **train_loader_kwargs)\\nval_loader = DataLoader(dataset, **val_loader_kwargs)\";\n",
       "                var nbb_formatted_code = \"train_loader = DataLoader(dataset, **train_loader_kwargs)\\nval_loader = DataLoader(dataset, **val_loader_kwargs)\";\n",
       "                var nbb_cells = Jupyter.notebook.get_cells();\n",
       "                for (var i = 0; i < nbb_cells.length; ++i) {\n",
       "                    if (nbb_cells[i].input_prompt_number == nbb_cell_id) {\n",
       "                        if (nbb_cells[i].get_text() == nbb_unformatted_code) {\n",
       "                             nbb_cells[i].set_text(nbb_formatted_code);\n",
       "                        }\n",
       "                        break;\n",
       "                    }\n",
       "                }\n",
       "            }, 500);\n",
       "            "
      ],
      "text/plain": [
       "<IPython.core.display.Javascript object>"
      ]
     },
     "metadata": {},
     "output_type": "display_data"
    }
   ],
   "source": [
    "train_loader = DataLoader(dataset, **train_loader_kwargs)\n",
    "val_loader = DataLoader(dataset, **val_loader_kwargs)"
   ]
  },
  {
   "cell_type": "code",
   "execution_count": 612,
   "id": "8e2edca0",
   "metadata": {},
   "outputs": [
    {
     "data": {
      "application/javascript": [
       "\n",
       "            setTimeout(function() {\n",
       "                var nbb_cell_id = 612;\n",
       "                var nbb_unformatted_code = \"def converged(epoch, stop_after_epochs, validation_loss, model):\\n    converged = False\\n    # (Re)-start the epoch count with the first epoch or any improvement.\\n    if epoch == 0 or validation_loss < model.best_validation_loss:\\n        model.best_validation_loss = validation_loss\\n        model.epochs_since_last_improvement = 0\\n        model.best_model = copy.deepcopy(model.net.state_dict())\\n    else:\\n        model.epochs_since_last_improvement += 1\\n\\n    # If no validation improvement over many epochs, stop training.\\n    if model.epochs_since_last_improvement > stop_after_epochs - 1:\\n        model.net.load_state_dict(model.best_model)\\n        converged = True\\n    return converged\";\n",
       "                var nbb_formatted_code = \"def converged(epoch, stop_after_epochs, validation_loss, model):\\n    converged = False\\n    # (Re)-start the epoch count with the first epoch or any improvement.\\n    if epoch == 0 or validation_loss < model.best_validation_loss:\\n        model.best_validation_loss = validation_loss\\n        model.epochs_since_last_improvement = 0\\n        model.best_model = copy.deepcopy(model.net.state_dict())\\n    else:\\n        model.epochs_since_last_improvement += 1\\n\\n    # If no validation improvement over many epochs, stop training.\\n    if model.epochs_since_last_improvement > stop_after_epochs - 1:\\n        model.net.load_state_dict(model.best_model)\\n        converged = True\\n    return converged\";\n",
       "                var nbb_cells = Jupyter.notebook.get_cells();\n",
       "                for (var i = 0; i < nbb_cells.length; ++i) {\n",
       "                    if (nbb_cells[i].input_prompt_number == nbb_cell_id) {\n",
       "                        if (nbb_cells[i].get_text() == nbb_unformatted_code) {\n",
       "                             nbb_cells[i].set_text(nbb_formatted_code);\n",
       "                        }\n",
       "                        break;\n",
       "                    }\n",
       "                }\n",
       "            }, 500);\n",
       "            "
      ],
      "text/plain": [
       "<IPython.core.display.Javascript object>"
      ]
     },
     "metadata": {},
     "output_type": "display_data"
    }
   ],
   "source": [
    "def converged(epoch, stop_after_epochs, validation_loss, model):\n",
    "    converged = False\n",
    "    # (Re)-start the epoch count with the first epoch or any improvement.\n",
    "    if epoch == 0 or validation_loss < model.best_validation_loss:\n",
    "        model.best_validation_loss = validation_loss\n",
    "        model.epochs_since_last_improvement = 0\n",
    "        model.best_model = copy.deepcopy(model.net.state_dict())\n",
    "    else:\n",
    "        model.epochs_since_last_improvement += 1\n",
    "\n",
    "    # If no validation improvement over many epochs, stop training.\n",
    "    if model.epochs_since_last_improvement > stop_after_epochs - 1:\n",
    "        model.net.load_state_dict(model.best_model)\n",
    "        converged = True\n",
    "    return converged"
   ]
  },
  {
   "cell_type": "code",
   "execution_count": 613,
   "id": "5403dfb9",
   "metadata": {},
   "outputs": [
    {
     "name": "stdout",
     "output_type": "stream",
     "text": [
      "Train Loss after epoch: 0: 0.11965023369286695\n",
      "Validation loss after epoch: 0: 0.10804998943296759\n",
      "Train Loss after epoch: 20: 0.042160683587112786\n",
      "Validation loss after epoch: 20: 0.14903258080235407\n",
      "Train Loss after epoch: 40: 0.019012180297781775\n",
      "Validation loss after epoch: 40: 0.17202335374348982\n",
      "Stopping after epoch 55 as validation loss was not improving further\n",
      "Training process has finished.\n",
      "Best loss: 0.10612950461485197\n"
     ]
    },
    {
     "data": {
      "application/javascript": [
       "\n",
       "            setTimeout(function() {\n",
       "                var nbb_cell_id = 613;\n",
       "                var nbb_unformatted_code = \"# Run the training loop\\nfor epoch in range(500):  # 5 epochs at maximum\\n    model.train()\\n\\n    # Set current loss value\\n    train_loss = 0.0\\n\\n    # Iterate over the DataLoader for training data\\n    for i, (inputs, targets) in enumerate(train_loader):\\n\\n        # Zero the gradients\\n        optimizer.zero_grad()\\n\\n        # Perform forward pass\\n        outputs = model(inputs)\\n\\n        # Compute loss\\n        loss = criterion(outputs, targets)\\n\\n        # Perform backward pass\\n        loss.backward()\\n\\n        # Perform optimization\\n        optimizer.step()\\n\\n        # Print statistics\\n        train_loss += loss.item() * len(inputs)\\n    train_loss /= len(train_indices)\\n\\n    model.eval()\\n    val_loss = 0.0\\n    with torch.no_grad():\\n        for i, (inputs, targets) in enumerate(val_loader):\\n            preds = model(inputs)\\n            loss = criterion(preds, targets)\\n            val_loss += loss.item() * len(inputs)\\n        val_loss /= len(val_indices)\\n\\n    if epoch % 20 == 0:\\n        print(f\\\"Train Loss after epoch: {epoch}: {train_loss}\\\")\\n        print(f\\\"Validation loss after epoch: {epoch}: {val_loss}\\\")\\n    if converged(epoch, 50, val_loss, model):\\n        print(\\n            f\\\"Stopping after epoch {epoch} as validation loss was not improving further\\\"\\n        )\\n        break\\n\\n# Process is complete.\\nprint(\\\"Training process has finished.\\\")\\nprint(f\\\"Best loss: {model.best_validation_loss}\\\")\";\n",
       "                var nbb_formatted_code = \"# Run the training loop\\nfor epoch in range(500):  # 5 epochs at maximum\\n    model.train()\\n\\n    # Set current loss value\\n    train_loss = 0.0\\n\\n    # Iterate over the DataLoader for training data\\n    for i, (inputs, targets) in enumerate(train_loader):\\n\\n        # Zero the gradients\\n        optimizer.zero_grad()\\n\\n        # Perform forward pass\\n        outputs = model(inputs)\\n\\n        # Compute loss\\n        loss = criterion(outputs, targets)\\n\\n        # Perform backward pass\\n        loss.backward()\\n\\n        # Perform optimization\\n        optimizer.step()\\n\\n        # Print statistics\\n        train_loss += loss.item() * len(inputs)\\n    train_loss /= len(train_indices)\\n\\n    model.eval()\\n    val_loss = 0.0\\n    with torch.no_grad():\\n        for i, (inputs, targets) in enumerate(val_loader):\\n            preds = model(inputs)\\n            loss = criterion(preds, targets)\\n            val_loss += loss.item() * len(inputs)\\n        val_loss /= len(val_indices)\\n\\n    if epoch % 20 == 0:\\n        print(f\\\"Train Loss after epoch: {epoch}: {train_loss}\\\")\\n        print(f\\\"Validation loss after epoch: {epoch}: {val_loss}\\\")\\n    if converged(epoch, 50, val_loss, model):\\n        print(\\n            f\\\"Stopping after epoch {epoch} as validation loss was not improving further\\\"\\n        )\\n        break\\n\\n# Process is complete.\\nprint(\\\"Training process has finished.\\\")\\nprint(f\\\"Best loss: {model.best_validation_loss}\\\")\";\n",
       "                var nbb_cells = Jupyter.notebook.get_cells();\n",
       "                for (var i = 0; i < nbb_cells.length; ++i) {\n",
       "                    if (nbb_cells[i].input_prompt_number == nbb_cell_id) {\n",
       "                        if (nbb_cells[i].get_text() == nbb_unformatted_code) {\n",
       "                             nbb_cells[i].set_text(nbb_formatted_code);\n",
       "                        }\n",
       "                        break;\n",
       "                    }\n",
       "                }\n",
       "            }, 500);\n",
       "            "
      ],
      "text/plain": [
       "<IPython.core.display.Javascript object>"
      ]
     },
     "metadata": {},
     "output_type": "display_data"
    }
   ],
   "source": [
    "# Run the training loop\n",
    "for epoch in range(500):  # 5 epochs at maximum\n",
    "    model.train()\n",
    "\n",
    "    # Set current loss value\n",
    "    train_loss = 0.0\n",
    "\n",
    "    # Iterate over the DataLoader for training data\n",
    "    for i, (inputs, targets) in enumerate(train_loader):\n",
    "\n",
    "        # Zero the gradients\n",
    "        optimizer.zero_grad()\n",
    "\n",
    "        # Perform forward pass\n",
    "        outputs = model(inputs)\n",
    "\n",
    "        # Compute loss\n",
    "        loss = criterion(outputs, targets)\n",
    "\n",
    "        # Perform backward pass\n",
    "        loss.backward()\n",
    "\n",
    "        # Perform optimization\n",
    "        optimizer.step()\n",
    "\n",
    "        # Print statistics\n",
    "        train_loss += loss.item() * len(inputs)\n",
    "    train_loss /= len(train_indices)\n",
    "\n",
    "    model.eval()\n",
    "    val_loss = 0.0\n",
    "    with torch.no_grad():\n",
    "        for i, (inputs, targets) in enumerate(val_loader):\n",
    "            preds = model(inputs)\n",
    "            loss = criterion(preds, targets)\n",
    "            val_loss += loss.item() * len(inputs)\n",
    "        val_loss /= len(val_indices)\n",
    "\n",
    "    if epoch % 20 == 0:\n",
    "        print(f\"Train Loss after epoch: {epoch}: {train_loss}\")\n",
    "        print(f\"Validation loss after epoch: {epoch}: {val_loss}\")\n",
    "    if converged(epoch, 50, val_loss, model):\n",
    "        print(\n",
    "            f\"Stopping after epoch {epoch} as validation loss was not improving further\"\n",
    "        )\n",
    "        break\n",
    "\n",
    "# Process is complete.\n",
    "print(\"Training process has finished.\")\n",
    "print(f\"Best loss: {model.best_validation_loss}\")"
   ]
  },
  {
   "cell_type": "code",
   "execution_count": 614,
   "id": "2a05ee53",
   "metadata": {},
   "outputs": [
    {
     "data": {
      "application/javascript": [
       "\n",
       "            setTimeout(function() {\n",
       "                var nbb_cell_id = 614;\n",
       "                var nbb_unformatted_code = \"model.eval()\\nwith torch.no_grad():\\n    preds = model(embeddings).detach().numpy()\";\n",
       "                var nbb_formatted_code = \"model.eval()\\nwith torch.no_grad():\\n    preds = model(embeddings).detach().numpy()\";\n",
       "                var nbb_cells = Jupyter.notebook.get_cells();\n",
       "                for (var i = 0; i < nbb_cells.length; ++i) {\n",
       "                    if (nbb_cells[i].input_prompt_number == nbb_cell_id) {\n",
       "                        if (nbb_cells[i].get_text() == nbb_unformatted_code) {\n",
       "                             nbb_cells[i].set_text(nbb_formatted_code);\n",
       "                        }\n",
       "                        break;\n",
       "                    }\n",
       "                }\n",
       "            }, 500);\n",
       "            "
      ],
      "text/plain": [
       "<IPython.core.display.Javascript object>"
      ]
     },
     "metadata": {},
     "output_type": "display_data"
    }
   ],
   "source": [
    "model.eval()\n",
    "with torch.no_grad():\n",
    "    preds = model(embeddings).detach().numpy()"
   ]
  },
  {
   "cell_type": "code",
   "execution_count": 615,
   "id": "4b46734f",
   "metadata": {},
   "outputs": [
    {
     "data": {
      "text/plain": [
       "array([[-1.834317  , -2.1208062 , -1.9693673 , -1.4679078 , -1.0487076 ],\n",
       "       [-1.8189766 , -2.0970259 , -1.9536047 , -1.4731475 , -1.0670493 ],\n",
       "       [-1.8345171 , -2.1132245 , -1.9674327 , -1.4727013 , -1.0488477 ],\n",
       "       ...,\n",
       "       [-1.9517074 , -2.2639477 , -2.0677776 , -1.4385092 , -0.940887  ],\n",
       "       [-2.0725565 , -2.37978   , -2.1812983 , -1.4665046 , -0.82567334],\n",
       "       [-1.8023392 , -2.081836  , -1.9395472 , -1.4719574 , -1.087253  ]],\n",
       "      dtype=float32)"
      ]
     },
     "execution_count": 615,
     "metadata": {},
     "output_type": "execute_result"
    },
    {
     "data": {
      "application/javascript": [
       "\n",
       "            setTimeout(function() {\n",
       "                var nbb_cell_id = 615;\n",
       "                var nbb_unformatted_code = \"preds\";\n",
       "                var nbb_formatted_code = \"preds\";\n",
       "                var nbb_cells = Jupyter.notebook.get_cells();\n",
       "                for (var i = 0; i < nbb_cells.length; ++i) {\n",
       "                    if (nbb_cells[i].input_prompt_number == nbb_cell_id) {\n",
       "                        if (nbb_cells[i].get_text() == nbb_unformatted_code) {\n",
       "                             nbb_cells[i].set_text(nbb_formatted_code);\n",
       "                        }\n",
       "                        break;\n",
       "                    }\n",
       "                }\n",
       "            }, 500);\n",
       "            "
      ],
      "text/plain": [
       "<IPython.core.display.Javascript object>"
      ]
     },
     "metadata": {},
     "output_type": "display_data"
    }
   ],
   "source": [
    "preds"
   ]
  },
  {
   "cell_type": "code",
   "execution_count": 616,
   "id": "8e371454",
   "metadata": {},
   "outputs": [
    {
     "data": {
      "text/plain": [
       "array([[0.15972255, 0.11993489, 0.13954511, 0.23040704, 0.35039032],\n",
       "       [0.16219164, 0.12282117, 0.14176214, 0.22920291, 0.34402215],\n",
       "       [0.15969059, 0.12084767, 0.13981535, 0.22930522, 0.3503412 ],\n",
       "       ...,\n",
       "       [0.14203137, 0.10393935, 0.12646653, 0.23728122, 0.3902815 ],\n",
       "       [0.1258636 , 0.09257093, 0.11289488, 0.23073058, 0.43794   ],\n",
       "       [0.16491267, 0.12470105, 0.14376903, 0.22947586, 0.33714136]],\n",
       "      dtype=float32)"
      ]
     },
     "execution_count": 616,
     "metadata": {},
     "output_type": "execute_result"
    },
    {
     "data": {
      "application/javascript": [
       "\n",
       "            setTimeout(function() {\n",
       "                var nbb_cell_id = 616;\n",
       "                var nbb_unformatted_code = \"np.exp(preds)\";\n",
       "                var nbb_formatted_code = \"np.exp(preds)\";\n",
       "                var nbb_cells = Jupyter.notebook.get_cells();\n",
       "                for (var i = 0; i < nbb_cells.length; ++i) {\n",
       "                    if (nbb_cells[i].input_prompt_number == nbb_cell_id) {\n",
       "                        if (nbb_cells[i].get_text() == nbb_unformatted_code) {\n",
       "                             nbb_cells[i].set_text(nbb_formatted_code);\n",
       "                        }\n",
       "                        break;\n",
       "                    }\n",
       "                }\n",
       "            }, 500);\n",
       "            "
      ],
      "text/plain": [
       "<IPython.core.display.Javascript object>"
      ]
     },
     "metadata": {},
     "output_type": "display_data"
    }
   ],
   "source": [
    "np.exp(preds)"
   ]
  },
  {
   "cell_type": "code",
   "execution_count": 617,
   "id": "da6c0280",
   "metadata": {},
   "outputs": [
    {
     "data": {
      "text/plain": [
       "<matplotlib.legend.Legend at 0x7f9206106460>"
      ]
     },
     "execution_count": 617,
     "metadata": {},
     "output_type": "execute_result"
    },
    {
     "data": {
      "image/png": "[encoded data removed]",
      "text/plain": [
       "<Figure size 432x288 with 1 Axes>"
      ]
     },
     "metadata": {
      "needs_background": "light"
     },
     "output_type": "display_data"
    },
    {
     "data": {
      "application/javascript": [
       "\n",
       "            setTimeout(function() {\n",
       "                var nbb_cell_id = 617;\n",
       "                var nbb_unformatted_code = \"plt.hist(\\n    np.sum(np.exp(preds) * np.arange(1, 6)[None, :], axis=1)\\n    / np.sum(np.exp(preds), axis=1),\\n    alpha=0.4,\\n    label=\\\"Pred\\\",\\n)\\ntrue = ratings.detach().numpy()\\nplt.hist(\\n    np.sum(true * np.arange(1, 6)[None, :], axis=1) / np.sum(true, axis=1),\\n    alpha=0.4,\\n    label=\\\"True\\\",\\n)\\nplt.legend()\";\n",
       "                var nbb_formatted_code = \"plt.hist(\\n    np.sum(np.exp(preds) * np.arange(1, 6)[None, :], axis=1)\\n    / np.sum(np.exp(preds), axis=1),\\n    alpha=0.4,\\n    label=\\\"Pred\\\",\\n)\\ntrue = ratings.detach().numpy()\\nplt.hist(\\n    np.sum(true * np.arange(1, 6)[None, :], axis=1) / np.sum(true, axis=1),\\n    alpha=0.4,\\n    label=\\\"True\\\",\\n)\\nplt.legend()\";\n",
       "                var nbb_cells = Jupyter.notebook.get_cells();\n",
       "                for (var i = 0; i < nbb_cells.length; ++i) {\n",
       "                    if (nbb_cells[i].input_prompt_number == nbb_cell_id) {\n",
       "                        if (nbb_cells[i].get_text() == nbb_unformatted_code) {\n",
       "                             nbb_cells[i].set_text(nbb_formatted_code);\n",
       "                        }\n",
       "                        break;\n",
       "                    }\n",
       "                }\n",
       "            }, 500);\n",
       "            "
      ],
      "text/plain": [
       "<IPython.core.display.Javascript object>"
      ]
     },
     "metadata": {},
     "output_type": "display_data"
    }
   ],
   "source": [
    "plt.hist(\n",
    "    np.sum(np.exp(preds) * np.arange(1, 6)[None, :], axis=1)\n",
    "    / np.sum(np.exp(preds), axis=1),\n",
    "    alpha=0.4,\n",
    "    label=\"Pred\",\n",
    ")\n",
    "true = ratings.detach().numpy()\n",
    "plt.hist(\n",
    "    np.sum(true * np.arange(1, 6)[None, :], axis=1) / np.sum(true, axis=1),\n",
    "    alpha=0.4,\n",
    "    label=\"True\",\n",
    ")\n",
    "plt.legend()"
   ]
  },
  {
   "cell_type": "code",
   "execution_count": 618,
   "id": "afb813cf",
   "metadata": {},
   "outputs": [
    {
     "data": {
      "text/plain": [
       "array([[0.07514451, 0.05202312, 0.10982659, 0.21965317, 0.5433526 ],\n",
       "       [0.13265306, 0.05102041, 0.07142857, 0.24489796, 0.5       ],\n",
       "       [0.03211009, 0.01376147, 0.02293578, 0.22477064, 0.70642203],\n",
       "       ...,\n",
       "       [0.22222222, 0.11111111, 0.11111111, 0.11111111, 0.44444445],\n",
       "       [0.2857143 , 0.14285715, 0.14285715, 0.14285715, 0.2857143 ],\n",
       "       [0.16666667, 0.16666667, 0.16666667, 0.16666667, 0.33333334]],\n",
       "      dtype=float32)"
      ]
     },
     "execution_count": 618,
     "metadata": {},
     "output_type": "execute_result"
    },
    {
     "data": {
      "application/javascript": [
       "\n",
       "            setTimeout(function() {\n",
       "                var nbb_cell_id = 618;\n",
       "                var nbb_unformatted_code = \"true\";\n",
       "                var nbb_formatted_code = \"true\";\n",
       "                var nbb_cells = Jupyter.notebook.get_cells();\n",
       "                for (var i = 0; i < nbb_cells.length; ++i) {\n",
       "                    if (nbb_cells[i].input_prompt_number == nbb_cell_id) {\n",
       "                        if (nbb_cells[i].get_text() == nbb_unformatted_code) {\n",
       "                             nbb_cells[i].set_text(nbb_formatted_code);\n",
       "                        }\n",
       "                        break;\n",
       "                    }\n",
       "                }\n",
       "            }, 500);\n",
       "            "
      ],
      "text/plain": [
       "<IPython.core.display.Javascript object>"
      ]
     },
     "metadata": {},
     "output_type": "display_data"
    }
   ],
   "source": [
    "true"
   ]
  },
  {
   "cell_type": "code",
   "execution_count": 398,
   "id": "079dbb8f",
   "metadata": {},
   "outputs": [
    {
     "data": {
      "text/plain": [
       "[<matplotlib.lines.Line2D at 0x7f9260746880>,\n",
       " <matplotlib.lines.Line2D at 0x7f92607468e0>,\n",
       " <matplotlib.lines.Line2D at 0x7f92607469a0>,\n",
       " <matplotlib.lines.Line2D at 0x7f9260746a60>,\n",
       " <matplotlib.lines.Line2D at 0x7f9260746b20>,\n",
       " <matplotlib.lines.Line2D at 0x7f9260746be0>,\n",
       " <matplotlib.lines.Line2D at 0x7f9260746ca0>,\n",
       " <matplotlib.lines.Line2D at 0x7f9260746d60>,\n",
       " <matplotlib.lines.Line2D at 0x7f9260746e20>,\n",
       " <matplotlib.lines.Line2D at 0x7f9260746ee0>,\n",
       " <matplotlib.lines.Line2D at 0x7f9260746fa0>,\n",
       " <matplotlib.lines.Line2D at 0x7f92607500a0>,\n",
       " <matplotlib.lines.Line2D at 0x7f9260750160>,\n",
       " <matplotlib.lines.Line2D at 0x7f9260750220>,\n",
       " <matplotlib.lines.Line2D at 0x7f92607502e0>,\n",
       " <matplotlib.lines.Line2D at 0x7f92607503a0>,\n",
       " <matplotlib.lines.Line2D at 0x7f9260750460>,\n",
       " <matplotlib.lines.Line2D at 0x7f9260750520>,\n",
       " <matplotlib.lines.Line2D at 0x7f92607505e0>,\n",
       " <matplotlib.lines.Line2D at 0x7f92607506a0>,\n",
       " <matplotlib.lines.Line2D at 0x7f9260750760>,\n",
       " <matplotlib.lines.Line2D at 0x7f9260750820>,\n",
       " <matplotlib.lines.Line2D at 0x7f92607508e0>,\n",
       " <matplotlib.lines.Line2D at 0x7f92607509a0>,\n",
       " <matplotlib.lines.Line2D at 0x7f9260750a60>,\n",
       " <matplotlib.lines.Line2D at 0x7f9260750b20>,\n",
       " <matplotlib.lines.Line2D at 0x7f9260750be0>,\n",
       " <matplotlib.lines.Line2D at 0x7f9260750ca0>,\n",
       " <matplotlib.lines.Line2D at 0x7f9260750d60>,\n",
       " <matplotlib.lines.Line2D at 0x7f9260750e20>,\n",
       " <matplotlib.lines.Line2D at 0x7f9260750ee0>,\n",
       " <matplotlib.lines.Line2D at 0x7f9260750fa0>,\n",
       " <matplotlib.lines.Line2D at 0x7f92607560a0>,\n",
       " <matplotlib.lines.Line2D at 0x7f9260756160>,\n",
       " <matplotlib.lines.Line2D at 0x7f9260756220>,\n",
       " <matplotlib.lines.Line2D at 0x7f92607562e0>,\n",
       " <matplotlib.lines.Line2D at 0x7f92607563a0>,\n",
       " <matplotlib.lines.Line2D at 0x7f9260756460>,\n",
       " <matplotlib.lines.Line2D at 0x7f9260756520>,\n",
       " <matplotlib.lines.Line2D at 0x7f92607565e0>,\n",
       " <matplotlib.lines.Line2D at 0x7f92607566a0>,\n",
       " <matplotlib.lines.Line2D at 0x7f9260756760>,\n",
       " <matplotlib.lines.Line2D at 0x7f9260756820>,\n",
       " <matplotlib.lines.Line2D at 0x7f92607568e0>,\n",
       " <matplotlib.lines.Line2D at 0x7f92607569a0>,\n",
       " <matplotlib.lines.Line2D at 0x7f9260756a60>,\n",
       " <matplotlib.lines.Line2D at 0x7f9260756b20>,\n",
       " <matplotlib.lines.Line2D at 0x7f9260756be0>,\n",
       " <matplotlib.lines.Line2D at 0x7f9260756ca0>,\n",
       " <matplotlib.lines.Line2D at 0x7f9260756d60>,\n",
       " <matplotlib.lines.Line2D at 0x7f9260756e20>,\n",
       " <matplotlib.lines.Line2D at 0x7f9260756ee0>,\n",
       " <matplotlib.lines.Line2D at 0x7f9260756fa0>,\n",
       " <matplotlib.lines.Line2D at 0x7f926075c0a0>,\n",
       " <matplotlib.lines.Line2D at 0x7f926075c160>,\n",
       " <matplotlib.lines.Line2D at 0x7f926075c220>,\n",
       " <matplotlib.lines.Line2D at 0x7f926075c2e0>,\n",
       " <matplotlib.lines.Line2D at 0x7f926075c3a0>,\n",
       " <matplotlib.lines.Line2D at 0x7f926075c460>,\n",
       " <matplotlib.lines.Line2D at 0x7f926075c520>,\n",
       " <matplotlib.lines.Line2D at 0x7f926075c5e0>,\n",
       " <matplotlib.lines.Line2D at 0x7f926075c6a0>,\n",
       " <matplotlib.lines.Line2D at 0x7f926075c760>,\n",
       " <matplotlib.lines.Line2D at 0x7f926075c820>,\n",
       " <matplotlib.lines.Line2D at 0x7f926075c8e0>,\n",
       " <matplotlib.lines.Line2D at 0x7f926075c9a0>,\n",
       " <matplotlib.lines.Line2D at 0x7f926075ca60>,\n",
       " <matplotlib.lines.Line2D at 0x7f926075cb20>,\n",
       " <matplotlib.lines.Line2D at 0x7f926075cbe0>,\n",
       " <matplotlib.lines.Line2D at 0x7f926075cca0>,\n",
       " <matplotlib.lines.Line2D at 0x7f926075cd60>,\n",
       " <matplotlib.lines.Line2D at 0x7f926075ce20>,\n",
       " <matplotlib.lines.Line2D at 0x7f926075cee0>,\n",
       " <matplotlib.lines.Line2D at 0x7f926075cfa0>,\n",
       " <matplotlib.lines.Line2D at 0x7f92607630a0>,\n",
       " <matplotlib.lines.Line2D at 0x7f9260763160>,\n",
       " <matplotlib.lines.Line2D at 0x7f9260763220>,\n",
       " <matplotlib.lines.Line2D at 0x7f92607632e0>,\n",
       " <matplotlib.lines.Line2D at 0x7f92607633a0>,\n",
       " <matplotlib.lines.Line2D at 0x7f9260763460>,\n",
       " <matplotlib.lines.Line2D at 0x7f9260763520>,\n",
       " <matplotlib.lines.Line2D at 0x7f92607635e0>,\n",
       " <matplotlib.lines.Line2D at 0x7f92607636a0>,\n",
       " <matplotlib.lines.Line2D at 0x7f9260763760>,\n",
       " <matplotlib.lines.Line2D at 0x7f9260763820>,\n",
       " <matplotlib.lines.Line2D at 0x7f92607638e0>,\n",
       " <matplotlib.lines.Line2D at 0x7f92607639a0>,\n",
       " <matplotlib.lines.Line2D at 0x7f9260763a60>,\n",
       " <matplotlib.lines.Line2D at 0x7f9260763b20>,\n",
       " <matplotlib.lines.Line2D at 0x7f9260763be0>,\n",
       " <matplotlib.lines.Line2D at 0x7f9260763ca0>,\n",
       " <matplotlib.lines.Line2D at 0x7f9260763d60>,\n",
       " <matplotlib.lines.Line2D at 0x7f9260763e20>,\n",
       " <matplotlib.lines.Line2D at 0x7f9260763ee0>,\n",
       " <matplotlib.lines.Line2D at 0x7f9260763fa0>,\n",
       " <matplotlib.lines.Line2D at 0x7f92607690a0>,\n",
       " <matplotlib.lines.Line2D at 0x7f9260769160>,\n",
       " <matplotlib.lines.Line2D at 0x7f9260769220>,\n",
       " <matplotlib.lines.Line2D at 0x7f92607692e0>,\n",
       " <matplotlib.lines.Line2D at 0x7f92607693a0>,\n",
       " <matplotlib.lines.Line2D at 0x7f9260769460>,\n",
       " <matplotlib.lines.Line2D at 0x7f9260769520>,\n",
       " <matplotlib.lines.Line2D at 0x7f92607695e0>,\n",
       " <matplotlib.lines.Line2D at 0x7f92607696a0>,\n",
       " <matplotlib.lines.Line2D at 0x7f9260769760>,\n",
       " <matplotlib.lines.Line2D at 0x7f9260769820>,\n",
       " <matplotlib.lines.Line2D at 0x7f92607698e0>,\n",
       " <matplotlib.lines.Line2D at 0x7f92607699a0>,\n",
       " <matplotlib.lines.Line2D at 0x7f9260769a60>,\n",
       " <matplotlib.lines.Line2D at 0x7f9260769b20>,\n",
       " <matplotlib.lines.Line2D at 0x7f9260769be0>,\n",
       " <matplotlib.lines.Line2D at 0x7f9260769ca0>,\n",
       " <matplotlib.lines.Line2D at 0x7f9260769d90>,\n",
       " <matplotlib.lines.Line2D at 0x7f9260769e50>,\n",
       " <matplotlib.lines.Line2D at 0x7f9260769f10>,\n",
       " <matplotlib.lines.Line2D at 0x7f9260769fd0>,\n",
       " <matplotlib.lines.Line2D at 0x7f926076e0d0>,\n",
       " <matplotlib.lines.Line2D at 0x7f926076e190>,\n",
       " <matplotlib.lines.Line2D at 0x7f926076e250>,\n",
       " <matplotlib.lines.Line2D at 0x7f926076e310>,\n",
       " <matplotlib.lines.Line2D at 0x7f926076e3d0>,\n",
       " <matplotlib.lines.Line2D at 0x7f926076e490>,\n",
       " <matplotlib.lines.Line2D at 0x7f926076e550>,\n",
       " <matplotlib.lines.Line2D at 0x7f926076e610>,\n",
       " <matplotlib.lines.Line2D at 0x7f926076e6d0>,\n",
       " <matplotlib.lines.Line2D at 0x7f926076e790>,\n",
       " <matplotlib.lines.Line2D at 0x7f926076e850>,\n",
       " <matplotlib.lines.Line2D at 0x7f926076e910>,\n",
       " <matplotlib.lines.Line2D at 0x7f926076e9d0>,\n",
       " <matplotlib.lines.Line2D at 0x7f926076ea90>,\n",
       " <matplotlib.lines.Line2D at 0x7f926076eb50>,\n",
       " <matplotlib.lines.Line2D at 0x7f926076ec10>,\n",
       " <matplotlib.lines.Line2D at 0x7f926076ecd0>,\n",
       " <matplotlib.lines.Line2D at 0x7f926076ed90>,\n",
       " <matplotlib.lines.Line2D at 0x7f926076ee50>,\n",
       " <matplotlib.lines.Line2D at 0x7f926076ef10>,\n",
       " <matplotlib.lines.Line2D at 0x7f926076efd0>,\n",
       " <matplotlib.lines.Line2D at 0x7f92607750d0>,\n",
       " <matplotlib.lines.Line2D at 0x7f9260775190>,\n",
       " <matplotlib.lines.Line2D at 0x7f9260775250>,\n",
       " <matplotlib.lines.Line2D at 0x7f9260775310>,\n",
       " <matplotlib.lines.Line2D at 0x7f92607753d0>,\n",
       " <matplotlib.lines.Line2D at 0x7f9260775490>,\n",
       " <matplotlib.lines.Line2D at 0x7f9260775550>,\n",
       " <matplotlib.lines.Line2D at 0x7f9260775610>,\n",
       " <matplotlib.lines.Line2D at 0x7f92607756d0>,\n",
       " <matplotlib.lines.Line2D at 0x7f9260775790>,\n",
       " <matplotlib.lines.Line2D at 0x7f9260775850>,\n",
       " <matplotlib.lines.Line2D at 0x7f9260775910>,\n",
       " <matplotlib.lines.Line2D at 0x7f92607759d0>,\n",
       " <matplotlib.lines.Line2D at 0x7f9260775a90>,\n",
       " <matplotlib.lines.Line2D at 0x7f9260775b50>,\n",
       " <matplotlib.lines.Line2D at 0x7f9260775c10>,\n",
       " <matplotlib.lines.Line2D at 0x7f9260775cd0>,\n",
       " <matplotlib.lines.Line2D at 0x7f9260775d90>,\n",
       " <matplotlib.lines.Line2D at 0x7f9260775e50>,\n",
       " <matplotlib.lines.Line2D at 0x7f9260775f10>,\n",
       " <matplotlib.lines.Line2D at 0x7f9260775fd0>,\n",
       " <matplotlib.lines.Line2D at 0x7f92608000d0>,\n",
       " <matplotlib.lines.Line2D at 0x7f9260800190>,\n",
       " <matplotlib.lines.Line2D at 0x7f9260800250>,\n",
       " <matplotlib.lines.Line2D at 0x7f9260800310>,\n",
       " <matplotlib.lines.Line2D at 0x7f92608003d0>,\n",
       " <matplotlib.lines.Line2D at 0x7f9260800490>,\n",
       " <matplotlib.lines.Line2D at 0x7f9260800550>,\n",
       " <matplotlib.lines.Line2D at 0x7f9260800610>,\n",
       " <matplotlib.lines.Line2D at 0x7f92608006d0>,\n",
       " <matplotlib.lines.Line2D at 0x7f9260800790>,\n",
       " <matplotlib.lines.Line2D at 0x7f9260800850>,\n",
       " <matplotlib.lines.Line2D at 0x7f9260800910>,\n",
       " <matplotlib.lines.Line2D at 0x7f92608009d0>,\n",
       " <matplotlib.lines.Line2D at 0x7f9260800a90>,\n",
       " <matplotlib.lines.Line2D at 0x7f9260800b50>,\n",
       " <matplotlib.lines.Line2D at 0x7f9260800c10>,\n",
       " <matplotlib.lines.Line2D at 0x7f9260800cd0>,\n",
       " <matplotlib.lines.Line2D at 0x7f9260800d90>,\n",
       " <matplotlib.lines.Line2D at 0x7f9260800e50>,\n",
       " <matplotlib.lines.Line2D at 0x7f9260800f10>,\n",
       " <matplotlib.lines.Line2D at 0x7f9260800fd0>,\n",
       " <matplotlib.lines.Line2D at 0x7f92608060d0>,\n",
       " <matplotlib.lines.Line2D at 0x7f9260806190>,\n",
       " <matplotlib.lines.Line2D at 0x7f9260806250>,\n",
       " <matplotlib.lines.Line2D at 0x7f9260806310>,\n",
       " <matplotlib.lines.Line2D at 0x7f92608063d0>,\n",
       " <matplotlib.lines.Line2D at 0x7f9260806490>,\n",
       " <matplotlib.lines.Line2D at 0x7f9260806550>,\n",
       " <matplotlib.lines.Line2D at 0x7f9260806610>,\n",
       " <matplotlib.lines.Line2D at 0x7f92608066d0>,\n",
       " <matplotlib.lines.Line2D at 0x7f9260806790>,\n",
       " <matplotlib.lines.Line2D at 0x7f9260806850>,\n",
       " <matplotlib.lines.Line2D at 0x7f9260806910>,\n",
       " <matplotlib.lines.Line2D at 0x7f92608069d0>,\n",
       " <matplotlib.lines.Line2D at 0x7f9260806a90>,\n",
       " <matplotlib.lines.Line2D at 0x7f9260806b50>,\n",
       " <matplotlib.lines.Line2D at 0x7f9260806c10>,\n",
       " <matplotlib.lines.Line2D at 0x7f9260806cd0>,\n",
       " <matplotlib.lines.Line2D at 0x7f9260806d90>,\n",
       " <matplotlib.lines.Line2D at 0x7f9260806e50>,\n",
       " <matplotlib.lines.Line2D at 0x7f9260806f10>,\n",
       " <matplotlib.lines.Line2D at 0x7f9260806fd0>,\n",
       " <matplotlib.lines.Line2D at 0x7f926080d0d0>,\n",
       " <matplotlib.lines.Line2D at 0x7f926080d190>,\n",
       " <matplotlib.lines.Line2D at 0x7f926080d250>,\n",
       " <matplotlib.lines.Line2D at 0x7f926080d310>,\n",
       " <matplotlib.lines.Line2D at 0x7f926080d3d0>,\n",
       " <matplotlib.lines.Line2D at 0x7f926080d490>,\n",
       " <matplotlib.lines.Line2D at 0x7f926080d550>,\n",
       " <matplotlib.lines.Line2D at 0x7f926080d610>,\n",
       " <matplotlib.lines.Line2D at 0x7f926080d6d0>,\n",
       " <matplotlib.lines.Line2D at 0x7f926080d790>,\n",
       " <matplotlib.lines.Line2D at 0x7f926080d850>,\n",
       " <matplotlib.lines.Line2D at 0x7f926080d910>,\n",
       " <matplotlib.lines.Line2D at 0x7f926080d9d0>,\n",
       " <matplotlib.lines.Line2D at 0x7f926080da90>,\n",
       " <matplotlib.lines.Line2D at 0x7f926080db50>,\n",
       " <matplotlib.lines.Line2D at 0x7f926080dc10>,\n",
       " <matplotlib.lines.Line2D at 0x7f926080dcd0>,\n",
       " <matplotlib.lines.Line2D at 0x7f926080dd90>,\n",
       " <matplotlib.lines.Line2D at 0x7f926080de50>,\n",
       " <matplotlib.lines.Line2D at 0x7f926080df10>,\n",
       " <matplotlib.lines.Line2D at 0x7f926080dfd0>,\n",
       " <matplotlib.lines.Line2D at 0x7f92608130d0>,\n",
       " <matplotlib.lines.Line2D at 0x7f9260813190>,\n",
       " <matplotlib.lines.Line2D at 0x7f9260813250>,\n",
       " <matplotlib.lines.Line2D at 0x7f9260813310>,\n",
       " <matplotlib.lines.Line2D at 0x7f92608133d0>,\n",
       " <matplotlib.lines.Line2D at 0x7f9260813490>,\n",
       " <matplotlib.lines.Line2D at 0x7f9260813550>,\n",
       " <matplotlib.lines.Line2D at 0x7f9260813610>,\n",
       " <matplotlib.lines.Line2D at 0x7f92608136d0>,\n",
       " <matplotlib.lines.Line2D at 0x7f9260813790>,\n",
       " <matplotlib.lines.Line2D at 0x7f9260813850>,\n",
       " <matplotlib.lines.Line2D at 0x7f9260813910>,\n",
       " <matplotlib.lines.Line2D at 0x7f92608139d0>,\n",
       " <matplotlib.lines.Line2D at 0x7f9260813a90>,\n",
       " <matplotlib.lines.Line2D at 0x7f9260813b50>,\n",
       " <matplotlib.lines.Line2D at 0x7f9260813c10>,\n",
       " <matplotlib.lines.Line2D at 0x7f9260813cd0>,\n",
       " <matplotlib.lines.Line2D at 0x7f9260813d90>,\n",
       " <matplotlib.lines.Line2D at 0x7f9260813e50>,\n",
       " <matplotlib.lines.Line2D at 0x7f9260813f10>,\n",
       " <matplotlib.lines.Line2D at 0x7f9260813fd0>,\n",
       " <matplotlib.lines.Line2D at 0x7f92608190d0>,\n",
       " <matplotlib.lines.Line2D at 0x7f9260819190>,\n",
       " <matplotlib.lines.Line2D at 0x7f9260819250>,\n",
       " <matplotlib.lines.Line2D at 0x7f9260819310>,\n",
       " <matplotlib.lines.Line2D at 0x7f92608193d0>,\n",
       " <matplotlib.lines.Line2D at 0x7f9260819490>,\n",
       " <matplotlib.lines.Line2D at 0x7f9260819550>,\n",
       " <matplotlib.lines.Line2D at 0x7f9260819610>,\n",
       " <matplotlib.lines.Line2D at 0x7f92608196d0>,\n",
       " <matplotlib.lines.Line2D at 0x7f9260819790>,\n",
       " <matplotlib.lines.Line2D at 0x7f9260819850>,\n",
       " <matplotlib.lines.Line2D at 0x7f9260819910>,\n",
       " <matplotlib.lines.Line2D at 0x7f92608199d0>,\n",
       " <matplotlib.lines.Line2D at 0x7f9260819a90>,\n",
       " <matplotlib.lines.Line2D at 0x7f9260819b50>,\n",
       " <matplotlib.lines.Line2D at 0x7f9260819c10>,\n",
       " <matplotlib.lines.Line2D at 0x7f9260819cd0>,\n",
       " <matplotlib.lines.Line2D at 0x7f9260819d90>,\n",
       " <matplotlib.lines.Line2D at 0x7f9260819e50>,\n",
       " <matplotlib.lines.Line2D at 0x7f9260819f10>,\n",
       " <matplotlib.lines.Line2D at 0x7f9260819fd0>,\n",
       " <matplotlib.lines.Line2D at 0x7f92608200d0>,\n",
       " <matplotlib.lines.Line2D at 0x7f9260820190>,\n",
       " <matplotlib.lines.Line2D at 0x7f9260820250>,\n",
       " <matplotlib.lines.Line2D at 0x7f9260820310>,\n",
       " <matplotlib.lines.Line2D at 0x7f92608203d0>,\n",
       " <matplotlib.lines.Line2D at 0x7f9260820490>,\n",
       " <matplotlib.lines.Line2D at 0x7f9260820550>,\n",
       " <matplotlib.lines.Line2D at 0x7f9260820610>,\n",
       " <matplotlib.lines.Line2D at 0x7f92608206d0>,\n",
       " <matplotlib.lines.Line2D at 0x7f9260820790>,\n",
       " <matplotlib.lines.Line2D at 0x7f9260820850>,\n",
       " <matplotlib.lines.Line2D at 0x7f9260820910>,\n",
       " <matplotlib.lines.Line2D at 0x7f92608209d0>,\n",
       " <matplotlib.lines.Line2D at 0x7f9260820a90>,\n",
       " <matplotlib.lines.Line2D at 0x7f9260820b50>,\n",
       " <matplotlib.lines.Line2D at 0x7f9260820c10>,\n",
       " <matplotlib.lines.Line2D at 0x7f9260820cd0>,\n",
       " <matplotlib.lines.Line2D at 0x7f9260820d90>,\n",
       " <matplotlib.lines.Line2D at 0x7f9260820e50>,\n",
       " <matplotlib.lines.Line2D at 0x7f9260820f10>,\n",
       " <matplotlib.lines.Line2D at 0x7f9260820fd0>,\n",
       " <matplotlib.lines.Line2D at 0x7f92608270d0>,\n",
       " <matplotlib.lines.Line2D at 0x7f9260827190>,\n",
       " <matplotlib.lines.Line2D at 0x7f9260827250>,\n",
       " <matplotlib.lines.Line2D at 0x7f9260827310>,\n",
       " <matplotlib.lines.Line2D at 0x7f92608273d0>,\n",
       " <matplotlib.lines.Line2D at 0x7f9260827490>,\n",
       " <matplotlib.lines.Line2D at 0x7f9260827550>,\n",
       " <matplotlib.lines.Line2D at 0x7f9260827610>,\n",
       " <matplotlib.lines.Line2D at 0x7f92608276d0>,\n",
       " <matplotlib.lines.Line2D at 0x7f9260827790>,\n",
       " <matplotlib.lines.Line2D at 0x7f9260827850>,\n",
       " <matplotlib.lines.Line2D at 0x7f9260827910>,\n",
       " <matplotlib.lines.Line2D at 0x7f92608279d0>,\n",
       " <matplotlib.lines.Line2D at 0x7f9260827a90>,\n",
       " <matplotlib.lines.Line2D at 0x7f9260827b50>,\n",
       " <matplotlib.lines.Line2D at 0x7f9260827c10>,\n",
       " <matplotlib.lines.Line2D at 0x7f9260827cd0>,\n",
       " <matplotlib.lines.Line2D at 0x7f9260827d90>,\n",
       " <matplotlib.lines.Line2D at 0x7f9260827e50>,\n",
       " <matplotlib.lines.Line2D at 0x7f9260827f10>,\n",
       " <matplotlib.lines.Line2D at 0x7f9260827fd0>,\n",
       " <matplotlib.lines.Line2D at 0x7f926082f0d0>,\n",
       " <matplotlib.lines.Line2D at 0x7f926082f190>,\n",
       " <matplotlib.lines.Line2D at 0x7f926082f250>,\n",
       " <matplotlib.lines.Line2D at 0x7f926082f310>,\n",
       " <matplotlib.lines.Line2D at 0x7f926082f3d0>,\n",
       " <matplotlib.lines.Line2D at 0x7f926082f490>,\n",
       " <matplotlib.lines.Line2D at 0x7f926082f550>,\n",
       " <matplotlib.lines.Line2D at 0x7f926082f610>,\n",
       " <matplotlib.lines.Line2D at 0x7f926082f6d0>,\n",
       " <matplotlib.lines.Line2D at 0x7f926082f790>,\n",
       " <matplotlib.lines.Line2D at 0x7f926082f850>,\n",
       " <matplotlib.lines.Line2D at 0x7f926082f910>,\n",
       " <matplotlib.lines.Line2D at 0x7f926082f9d0>,\n",
       " <matplotlib.lines.Line2D at 0x7f926082fa90>,\n",
       " <matplotlib.lines.Line2D at 0x7f926082fb50>,\n",
       " <matplotlib.lines.Line2D at 0x7f926082fc10>,\n",
       " <matplotlib.lines.Line2D at 0x7f926082fcd0>,\n",
       " <matplotlib.lines.Line2D at 0x7f926082fd90>,\n",
       " <matplotlib.lines.Line2D at 0x7f926082fe50>,\n",
       " <matplotlib.lines.Line2D at 0x7f926082ff10>,\n",
       " <matplotlib.lines.Line2D at 0x7f926082ffd0>,\n",
       " <matplotlib.lines.Line2D at 0x7f92608360d0>,\n",
       " <matplotlib.lines.Line2D at 0x7f9260836190>,\n",
       " <matplotlib.lines.Line2D at 0x7f9260836250>,\n",
       " <matplotlib.lines.Line2D at 0x7f9260836310>,\n",
       " <matplotlib.lines.Line2D at 0x7f92608363d0>,\n",
       " <matplotlib.lines.Line2D at 0x7f9260836490>,\n",
       " <matplotlib.lines.Line2D at 0x7f9260836550>,\n",
       " <matplotlib.lines.Line2D at 0x7f9260836610>,\n",
       " <matplotlib.lines.Line2D at 0x7f92608366d0>,\n",
       " <matplotlib.lines.Line2D at 0x7f9260836790>,\n",
       " <matplotlib.lines.Line2D at 0x7f9260836850>,\n",
       " <matplotlib.lines.Line2D at 0x7f9260836910>,\n",
       " <matplotlib.lines.Line2D at 0x7f92608369d0>,\n",
       " <matplotlib.lines.Line2D at 0x7f9260836a90>,\n",
       " <matplotlib.lines.Line2D at 0x7f9260836b50>,\n",
       " <matplotlib.lines.Line2D at 0x7f9260836c10>,\n",
       " <matplotlib.lines.Line2D at 0x7f9260836cd0>,\n",
       " <matplotlib.lines.Line2D at 0x7f9260836d90>,\n",
       " <matplotlib.lines.Line2D at 0x7f9260836e50>,\n",
       " <matplotlib.lines.Line2D at 0x7f9260836f10>,\n",
       " <matplotlib.lines.Line2D at 0x7f9260836fd0>,\n",
       " <matplotlib.lines.Line2D at 0x7f926083b0d0>,\n",
       " <matplotlib.lines.Line2D at 0x7f926083b190>,\n",
       " <matplotlib.lines.Line2D at 0x7f926083b250>,\n",
       " <matplotlib.lines.Line2D at 0x7f926083b310>,\n",
       " <matplotlib.lines.Line2D at 0x7f926083b3d0>,\n",
       " <matplotlib.lines.Line2D at 0x7f926083b490>,\n",
       " <matplotlib.lines.Line2D at 0x7f926083b550>,\n",
       " <matplotlib.lines.Line2D at 0x7f926083b610>,\n",
       " <matplotlib.lines.Line2D at 0x7f926083b6d0>,\n",
       " <matplotlib.lines.Line2D at 0x7f926083b790>,\n",
       " <matplotlib.lines.Line2D at 0x7f926083b850>,\n",
       " <matplotlib.lines.Line2D at 0x7f926083b910>,\n",
       " <matplotlib.lines.Line2D at 0x7f926083b9d0>,\n",
       " <matplotlib.lines.Line2D at 0x7f926083ba90>,\n",
       " <matplotlib.lines.Line2D at 0x7f926083bb50>,\n",
       " <matplotlib.lines.Line2D at 0x7f926083bc10>,\n",
       " <matplotlib.lines.Line2D at 0x7f926083bcd0>,\n",
       " <matplotlib.lines.Line2D at 0x7f926083bd90>,\n",
       " <matplotlib.lines.Line2D at 0x7f926083be50>,\n",
       " <matplotlib.lines.Line2D at 0x7f926083bf10>,\n",
       " <matplotlib.lines.Line2D at 0x7f926083bfd0>,\n",
       " <matplotlib.lines.Line2D at 0x7f9260d400d0>,\n",
       " <matplotlib.lines.Line2D at 0x7f9260d40190>,\n",
       " <matplotlib.lines.Line2D at 0x7f9260d40250>,\n",
       " <matplotlib.lines.Line2D at 0x7f9260d40310>,\n",
       " <matplotlib.lines.Line2D at 0x7f9260d403d0>,\n",
       " <matplotlib.lines.Line2D at 0x7f9260d40490>,\n",
       " <matplotlib.lines.Line2D at 0x7f9260d40550>,\n",
       " <matplotlib.lines.Line2D at 0x7f9260d40610>,\n",
       " <matplotlib.lines.Line2D at 0x7f9260d406d0>,\n",
       " <matplotlib.lines.Line2D at 0x7f9260d40790>,\n",
       " <matplotlib.lines.Line2D at 0x7f9260d40850>,\n",
       " <matplotlib.lines.Line2D at 0x7f9260d40910>,\n",
       " <matplotlib.lines.Line2D at 0x7f9260d409d0>,\n",
       " <matplotlib.lines.Line2D at 0x7f9260d40a90>,\n",
       " <matplotlib.lines.Line2D at 0x7f9260d40b50>,\n",
       " <matplotlib.lines.Line2D at 0x7f9260d40c10>,\n",
       " <matplotlib.lines.Line2D at 0x7f9260d40cd0>,\n",
       " <matplotlib.lines.Line2D at 0x7f9260d40d90>,\n",
       " <matplotlib.lines.Line2D at 0x7f9260d40e50>,\n",
       " <matplotlib.lines.Line2D at 0x7f9260d40f10>,\n",
       " <matplotlib.lines.Line2D at 0x7f9260d40fd0>,\n",
       " <matplotlib.lines.Line2D at 0x7f9260d480d0>,\n",
       " <matplotlib.lines.Line2D at 0x7f9260d48190>,\n",
       " <matplotlib.lines.Line2D at 0x7f9260d48250>,\n",
       " <matplotlib.lines.Line2D at 0x7f9260d48310>,\n",
       " <matplotlib.lines.Line2D at 0x7f9260d483d0>,\n",
       " <matplotlib.lines.Line2D at 0x7f9260d48490>,\n",
       " <matplotlib.lines.Line2D at 0x7f9260d48550>,\n",
       " <matplotlib.lines.Line2D at 0x7f9260d48610>,\n",
       " <matplotlib.lines.Line2D at 0x7f9260d486d0>,\n",
       " <matplotlib.lines.Line2D at 0x7f9260d48790>,\n",
       " <matplotlib.lines.Line2D at 0x7f9260d48850>,\n",
       " <matplotlib.lines.Line2D at 0x7f9260d48910>,\n",
       " <matplotlib.lines.Line2D at 0x7f9260d489d0>,\n",
       " <matplotlib.lines.Line2D at 0x7f9260d48a90>,\n",
       " <matplotlib.lines.Line2D at 0x7f9260d48b50>,\n",
       " <matplotlib.lines.Line2D at 0x7f9260d48c10>,\n",
       " <matplotlib.lines.Line2D at 0x7f9260d48cd0>,\n",
       " <matplotlib.lines.Line2D at 0x7f9260d48d90>,\n",
       " <matplotlib.lines.Line2D at 0x7f9260d48e50>,\n",
       " <matplotlib.lines.Line2D at 0x7f9260d48f10>,\n",
       " <matplotlib.lines.Line2D at 0x7f9260d48fd0>,\n",
       " <matplotlib.lines.Line2D at 0x7f9260d4d0d0>,\n",
       " <matplotlib.lines.Line2D at 0x7f9260d4d190>,\n",
       " <matplotlib.lines.Line2D at 0x7f9260d4d250>,\n",
       " <matplotlib.lines.Line2D at 0x7f9260d4d310>,\n",
       " <matplotlib.lines.Line2D at 0x7f9260d4d3d0>,\n",
       " <matplotlib.lines.Line2D at 0x7f9260d4d490>,\n",
       " <matplotlib.lines.Line2D at 0x7f9260d4d550>,\n",
       " <matplotlib.lines.Line2D at 0x7f9260d4d610>,\n",
       " <matplotlib.lines.Line2D at 0x7f9260d4d6d0>,\n",
       " <matplotlib.lines.Line2D at 0x7f9260d4d790>,\n",
       " <matplotlib.lines.Line2D at 0x7f9260d4d850>,\n",
       " <matplotlib.lines.Line2D at 0x7f9260d4d910>,\n",
       " <matplotlib.lines.Line2D at 0x7f9260d4d9d0>,\n",
       " <matplotlib.lines.Line2D at 0x7f9260d4da90>,\n",
       " <matplotlib.lines.Line2D at 0x7f9260d4db50>,\n",
       " <matplotlib.lines.Line2D at 0x7f9260d4dc10>,\n",
       " <matplotlib.lines.Line2D at 0x7f9260d4dcd0>,\n",
       " <matplotlib.lines.Line2D at 0x7f9260d4dd90>,\n",
       " <matplotlib.lines.Line2D at 0x7f9260d4de50>,\n",
       " <matplotlib.lines.Line2D at 0x7f9260d4df10>,\n",
       " <matplotlib.lines.Line2D at 0x7f9260d4dfd0>,\n",
       " <matplotlib.lines.Line2D at 0x7f9260d530d0>,\n",
       " <matplotlib.lines.Line2D at 0x7f9260d53190>,\n",
       " <matplotlib.lines.Line2D at 0x7f9260d53250>,\n",
       " <matplotlib.lines.Line2D at 0x7f9260d53310>,\n",
       " <matplotlib.lines.Line2D at 0x7f9260d533d0>,\n",
       " <matplotlib.lines.Line2D at 0x7f9260d53490>,\n",
       " <matplotlib.lines.Line2D at 0x7f9260d53550>,\n",
       " <matplotlib.lines.Line2D at 0x7f9260d53610>,\n",
       " <matplotlib.lines.Line2D at 0x7f9260d536d0>,\n",
       " <matplotlib.lines.Line2D at 0x7f9260d53790>,\n",
       " <matplotlib.lines.Line2D at 0x7f9260d53850>,\n",
       " <matplotlib.lines.Line2D at 0x7f9260d53910>,\n",
       " <matplotlib.lines.Line2D at 0x7f9260d539d0>,\n",
       " <matplotlib.lines.Line2D at 0x7f9260d53a90>,\n",
       " <matplotlib.lines.Line2D at 0x7f9260d53b50>,\n",
       " <matplotlib.lines.Line2D at 0x7f9260d53c10>,\n",
       " <matplotlib.lines.Line2D at 0x7f9260d53cd0>,\n",
       " <matplotlib.lines.Line2D at 0x7f9260d53d90>,\n",
       " <matplotlib.lines.Line2D at 0x7f9260d53e50>,\n",
       " <matplotlib.lines.Line2D at 0x7f9260d53f10>,\n",
       " <matplotlib.lines.Line2D at 0x7f9260d53fd0>,\n",
       " <matplotlib.lines.Line2D at 0x7f9260d5a0d0>,\n",
       " <matplotlib.lines.Line2D at 0x7f9260d5a190>,\n",
       " <matplotlib.lines.Line2D at 0x7f9260d5a250>,\n",
       " <matplotlib.lines.Line2D at 0x7f9260d5a310>,\n",
       " <matplotlib.lines.Line2D at 0x7f9260d5a3d0>,\n",
       " <matplotlib.lines.Line2D at 0x7f9260d5a490>,\n",
       " <matplotlib.lines.Line2D at 0x7f9260d5a550>,\n",
       " <matplotlib.lines.Line2D at 0x7f9260d5a610>,\n",
       " <matplotlib.lines.Line2D at 0x7f9260d5a6d0>,\n",
       " <matplotlib.lines.Line2D at 0x7f9260d5a790>,\n",
       " <matplotlib.lines.Line2D at 0x7f9260d5a850>,\n",
       " <matplotlib.lines.Line2D at 0x7f9260d5a910>,\n",
       " <matplotlib.lines.Line2D at 0x7f9260d5a9d0>,\n",
       " <matplotlib.lines.Line2D at 0x7f9260d5aa90>,\n",
       " <matplotlib.lines.Line2D at 0x7f9260d5ab50>,\n",
       " <matplotlib.lines.Line2D at 0x7f9260d5ac10>,\n",
       " <matplotlib.lines.Line2D at 0x7f9260d5acd0>,\n",
       " <matplotlib.lines.Line2D at 0x7f9260d5ad90>,\n",
       " <matplotlib.lines.Line2D at 0x7f9260d5ae50>,\n",
       " <matplotlib.lines.Line2D at 0x7f9260d5af10>,\n",
       " <matplotlib.lines.Line2D at 0x7f9260d5afd0>,\n",
       " <matplotlib.lines.Line2D at 0x7f9260d600d0>,\n",
       " <matplotlib.lines.Line2D at 0x7f9260d60190>,\n",
       " <matplotlib.lines.Line2D at 0x7f9260d60250>,\n",
       " <matplotlib.lines.Line2D at 0x7f9260d60310>,\n",
       " <matplotlib.lines.Line2D at 0x7f9260d603d0>,\n",
       " <matplotlib.lines.Line2D at 0x7f9260d60490>,\n",
       " <matplotlib.lines.Line2D at 0x7f9260d60550>,\n",
       " <matplotlib.lines.Line2D at 0x7f9260d60610>,\n",
       " <matplotlib.lines.Line2D at 0x7f9260d606d0>,\n",
       " <matplotlib.lines.Line2D at 0x7f9260d60790>,\n",
       " <matplotlib.lines.Line2D at 0x7f9260d60850>,\n",
       " <matplotlib.lines.Line2D at 0x7f9260d60910>,\n",
       " <matplotlib.lines.Line2D at 0x7f9260d609d0>,\n",
       " <matplotlib.lines.Line2D at 0x7f9260d60a90>,\n",
       " <matplotlib.lines.Line2D at 0x7f9260d60b50>,\n",
       " <matplotlib.lines.Line2D at 0x7f9260d60c10>,\n",
       " <matplotlib.lines.Line2D at 0x7f9260d60cd0>,\n",
       " <matplotlib.lines.Line2D at 0x7f9260d60d90>,\n",
       " <matplotlib.lines.Line2D at 0x7f9260d60e50>,\n",
       " <matplotlib.lines.Line2D at 0x7f9260d60f10>,\n",
       " <matplotlib.lines.Line2D at 0x7f9260d60fd0>,\n",
       " <matplotlib.lines.Line2D at 0x7f9260d680d0>,\n",
       " <matplotlib.lines.Line2D at 0x7f9260d68190>,\n",
       " <matplotlib.lines.Line2D at 0x7f9260d68250>,\n",
       " <matplotlib.lines.Line2D at 0x7f9260d68310>,\n",
       " <matplotlib.lines.Line2D at 0x7f9260d683d0>,\n",
       " <matplotlib.lines.Line2D at 0x7f9260d68490>,\n",
       " <matplotlib.lines.Line2D at 0x7f9260d68550>,\n",
       " <matplotlib.lines.Line2D at 0x7f9260d68610>,\n",
       " <matplotlib.lines.Line2D at 0x7f9260d686d0>,\n",
       " <matplotlib.lines.Line2D at 0x7f9260d68790>,\n",
       " <matplotlib.lines.Line2D at 0x7f9260d68850>,\n",
       " <matplotlib.lines.Line2D at 0x7f9260d68910>,\n",
       " <matplotlib.lines.Line2D at 0x7f9260d689d0>,\n",
       " <matplotlib.lines.Line2D at 0x7f9260d68a90>,\n",
       " <matplotlib.lines.Line2D at 0x7f9260d68b50>,\n",
       " <matplotlib.lines.Line2D at 0x7f9260d68c10>,\n",
       " <matplotlib.lines.Line2D at 0x7f9260d68cd0>,\n",
       " <matplotlib.lines.Line2D at 0x7f9260d68d90>,\n",
       " <matplotlib.lines.Line2D at 0x7f9260d68e50>,\n",
       " <matplotlib.lines.Line2D at 0x7f9260d68f10>,\n",
       " <matplotlib.lines.Line2D at 0x7f9260d68fd0>,\n",
       " <matplotlib.lines.Line2D at 0x7f9260d6d0d0>,\n",
       " <matplotlib.lines.Line2D at 0x7f9260d6d190>,\n",
       " <matplotlib.lines.Line2D at 0x7f9260d6d250>,\n",
       " <matplotlib.lines.Line2D at 0x7f9260d6d310>,\n",
       " <matplotlib.lines.Line2D at 0x7f9260d6d3d0>,\n",
       " <matplotlib.lines.Line2D at 0x7f9260d6d490>,\n",
       " <matplotlib.lines.Line2D at 0x7f9260d6d550>,\n",
       " <matplotlib.lines.Line2D at 0x7f9260d6d610>,\n",
       " <matplotlib.lines.Line2D at 0x7f9260d6d6d0>,\n",
       " <matplotlib.lines.Line2D at 0x7f9260d6d790>,\n",
       " <matplotlib.lines.Line2D at 0x7f9260d6d850>,\n",
       " <matplotlib.lines.Line2D at 0x7f9260d6d910>,\n",
       " <matplotlib.lines.Line2D at 0x7f9260d6d9d0>,\n",
       " <matplotlib.lines.Line2D at 0x7f9260d6da90>,\n",
       " <matplotlib.lines.Line2D at 0x7f9260d6db50>,\n",
       " <matplotlib.lines.Line2D at 0x7f9260d6dc10>,\n",
       " <matplotlib.lines.Line2D at 0x7f9260d6dcd0>,\n",
       " <matplotlib.lines.Line2D at 0x7f9260d6dd90>,\n",
       " <matplotlib.lines.Line2D at 0x7f9260d6de50>,\n",
       " <matplotlib.lines.Line2D at 0x7f9260d6df10>,\n",
       " <matplotlib.lines.Line2D at 0x7f9260d6dfd0>,\n",
       " <matplotlib.lines.Line2D at 0x7f9260d730d0>,\n",
       " <matplotlib.lines.Line2D at 0x7f9260d73190>,\n",
       " <matplotlib.lines.Line2D at 0x7f9260d73250>,\n",
       " <matplotlib.lines.Line2D at 0x7f9260d73310>,\n",
       " <matplotlib.lines.Line2D at 0x7f9260d733d0>,\n",
       " <matplotlib.lines.Line2D at 0x7f9260d73490>,\n",
       " <matplotlib.lines.Line2D at 0x7f9260d73550>,\n",
       " <matplotlib.lines.Line2D at 0x7f9260d73610>,\n",
       " <matplotlib.lines.Line2D at 0x7f9260d736d0>,\n",
       " <matplotlib.lines.Line2D at 0x7f9260d73790>,\n",
       " <matplotlib.lines.Line2D at 0x7f9260d73850>,\n",
       " <matplotlib.lines.Line2D at 0x7f9260d73910>,\n",
       " <matplotlib.lines.Line2D at 0x7f9260d739d0>,\n",
       " <matplotlib.lines.Line2D at 0x7f9260d73a90>,\n",
       " <matplotlib.lines.Line2D at 0x7f9260d73b50>,\n",
       " <matplotlib.lines.Line2D at 0x7f9260d73c10>,\n",
       " <matplotlib.lines.Line2D at 0x7f9260d73cd0>,\n",
       " <matplotlib.lines.Line2D at 0x7f9260d73d90>,\n",
       " <matplotlib.lines.Line2D at 0x7f9260d73e50>,\n",
       " <matplotlib.lines.Line2D at 0x7f9260d73f10>,\n",
       " <matplotlib.lines.Line2D at 0x7f9260d73fd0>,\n",
       " <matplotlib.lines.Line2D at 0x7f9260d780d0>,\n",
       " <matplotlib.lines.Line2D at 0x7f9260d78190>,\n",
       " <matplotlib.lines.Line2D at 0x7f9260d78250>,\n",
       " <matplotlib.lines.Line2D at 0x7f9260d78310>,\n",
       " <matplotlib.lines.Line2D at 0x7f9260d783d0>,\n",
       " <matplotlib.lines.Line2D at 0x7f9260d78490>,\n",
       " <matplotlib.lines.Line2D at 0x7f9260d78550>,\n",
       " <matplotlib.lines.Line2D at 0x7f9260d78610>,\n",
       " <matplotlib.lines.Line2D at 0x7f9260d786d0>,\n",
       " <matplotlib.lines.Line2D at 0x7f9260d78790>,\n",
       " <matplotlib.lines.Line2D at 0x7f9260d78850>,\n",
       " <matplotlib.lines.Line2D at 0x7f9260d78910>,\n",
       " <matplotlib.lines.Line2D at 0x7f9260d789d0>,\n",
       " <matplotlib.lines.Line2D at 0x7f9260d78a90>,\n",
       " <matplotlib.lines.Line2D at 0x7f9260d78b50>,\n",
       " <matplotlib.lines.Line2D at 0x7f9260d78c10>,\n",
       " <matplotlib.lines.Line2D at 0x7f9260d78cd0>,\n",
       " <matplotlib.lines.Line2D at 0x7f9260d78d90>,\n",
       " <matplotlib.lines.Line2D at 0x7f9260d78e50>,\n",
       " <matplotlib.lines.Line2D at 0x7f9260d78f10>,\n",
       " <matplotlib.lines.Line2D at 0x7f9260d78fd0>,\n",
       " <matplotlib.lines.Line2D at 0x7f9260d000d0>,\n",
       " <matplotlib.lines.Line2D at 0x7f9260d00190>,\n",
       " <matplotlib.lines.Line2D at 0x7f9260d00250>,\n",
       " <matplotlib.lines.Line2D at 0x7f9260d00310>,\n",
       " <matplotlib.lines.Line2D at 0x7f9260d003d0>,\n",
       " <matplotlib.lines.Line2D at 0x7f9260d00490>,\n",
       " <matplotlib.lines.Line2D at 0x7f9260d00550>,\n",
       " <matplotlib.lines.Line2D at 0x7f9260d00610>,\n",
       " <matplotlib.lines.Line2D at 0x7f9260d006d0>,\n",
       " <matplotlib.lines.Line2D at 0x7f9260d00790>,\n",
       " <matplotlib.lines.Line2D at 0x7f9260d00850>,\n",
       " <matplotlib.lines.Line2D at 0x7f9260d00910>,\n",
       " <matplotlib.lines.Line2D at 0x7f9260d009d0>,\n",
       " <matplotlib.lines.Line2D at 0x7f9260d00a90>,\n",
       " <matplotlib.lines.Line2D at 0x7f9260d00b50>,\n",
       " <matplotlib.lines.Line2D at 0x7f9260d00c10>,\n",
       " <matplotlib.lines.Line2D at 0x7f9260d00cd0>,\n",
       " <matplotlib.lines.Line2D at 0x7f9260d00d90>,\n",
       " <matplotlib.lines.Line2D at 0x7f9260d00e50>,\n",
       " <matplotlib.lines.Line2D at 0x7f9260d00f10>,\n",
       " <matplotlib.lines.Line2D at 0x7f9260d00fd0>,\n",
       " <matplotlib.lines.Line2D at 0x7f9260d050d0>,\n",
       " <matplotlib.lines.Line2D at 0x7f9260d05190>,\n",
       " <matplotlib.lines.Line2D at 0x7f9260d05250>,\n",
       " <matplotlib.lines.Line2D at 0x7f9260d05310>,\n",
       " <matplotlib.lines.Line2D at 0x7f9260d053d0>,\n",
       " <matplotlib.lines.Line2D at 0x7f9260d05490>,\n",
       " <matplotlib.lines.Line2D at 0x7f9260d05550>,\n",
       " <matplotlib.lines.Line2D at 0x7f9260d05610>,\n",
       " <matplotlib.lines.Line2D at 0x7f9260d056d0>,\n",
       " <matplotlib.lines.Line2D at 0x7f9260d05790>,\n",
       " <matplotlib.lines.Line2D at 0x7f9260d05850>,\n",
       " <matplotlib.lines.Line2D at 0x7f9260d05910>,\n",
       " <matplotlib.lines.Line2D at 0x7f9260d059d0>,\n",
       " <matplotlib.lines.Line2D at 0x7f9260d05a90>,\n",
       " <matplotlib.lines.Line2D at 0x7f9260d05b50>,\n",
       " <matplotlib.lines.Line2D at 0x7f9260d05c10>,\n",
       " <matplotlib.lines.Line2D at 0x7f9260d05cd0>,\n",
       " <matplotlib.lines.Line2D at 0x7f9260d05d90>,\n",
       " <matplotlib.lines.Line2D at 0x7f9260d05e50>,\n",
       " <matplotlib.lines.Line2D at 0x7f9260d05f10>,\n",
       " <matplotlib.lines.Line2D at 0x7f9260d05fd0>,\n",
       " <matplotlib.lines.Line2D at 0x7f9260d0b0d0>,\n",
       " <matplotlib.lines.Line2D at 0x7f9260d0b190>,\n",
       " <matplotlib.lines.Line2D at 0x7f9260d0b250>,\n",
       " <matplotlib.lines.Line2D at 0x7f9260d0b310>,\n",
       " <matplotlib.lines.Line2D at 0x7f9260d0b3d0>,\n",
       " <matplotlib.lines.Line2D at 0x7f9260d0b490>,\n",
       " <matplotlib.lines.Line2D at 0x7f9260d0b550>,\n",
       " <matplotlib.lines.Line2D at 0x7f9260d0b610>,\n",
       " <matplotlib.lines.Line2D at 0x7f9260d0b6d0>,\n",
       " <matplotlib.lines.Line2D at 0x7f9260d0b790>,\n",
       " <matplotlib.lines.Line2D at 0x7f9260d0b850>,\n",
       " <matplotlib.lines.Line2D at 0x7f9260d0b910>,\n",
       " <matplotlib.lines.Line2D at 0x7f9260d0b9d0>,\n",
       " <matplotlib.lines.Line2D at 0x7f9260d0ba90>,\n",
       " <matplotlib.lines.Line2D at 0x7f9260d0bb50>,\n",
       " <matplotlib.lines.Line2D at 0x7f9260d0bc10>,\n",
       " <matplotlib.lines.Line2D at 0x7f9260d0bcd0>,\n",
       " <matplotlib.lines.Line2D at 0x7f9260d0bd90>,\n",
       " <matplotlib.lines.Line2D at 0x7f9260d0be50>,\n",
       " <matplotlib.lines.Line2D at 0x7f9260d0bf10>,\n",
       " <matplotlib.lines.Line2D at 0x7f9260d0bfd0>,\n",
       " <matplotlib.lines.Line2D at 0x7f9260d110d0>,\n",
       " <matplotlib.lines.Line2D at 0x7f9260d11190>,\n",
       " <matplotlib.lines.Line2D at 0x7f9260d11250>,\n",
       " <matplotlib.lines.Line2D at 0x7f9260d11310>,\n",
       " <matplotlib.lines.Line2D at 0x7f9260d113d0>,\n",
       " <matplotlib.lines.Line2D at 0x7f9260d11490>,\n",
       " <matplotlib.lines.Line2D at 0x7f9260d11550>,\n",
       " <matplotlib.lines.Line2D at 0x7f9260d11610>,\n",
       " <matplotlib.lines.Line2D at 0x7f9260d116d0>,\n",
       " <matplotlib.lines.Line2D at 0x7f9260d11790>,\n",
       " <matplotlib.lines.Line2D at 0x7f9260d11850>,\n",
       " <matplotlib.lines.Line2D at 0x7f9260d11910>,\n",
       " <matplotlib.lines.Line2D at 0x7f9260d119d0>,\n",
       " <matplotlib.lines.Line2D at 0x7f9260d11a90>,\n",
       " <matplotlib.lines.Line2D at 0x7f9260d11b50>,\n",
       " <matplotlib.lines.Line2D at 0x7f9260d11c10>,\n",
       " <matplotlib.lines.Line2D at 0x7f9260d11cd0>,\n",
       " <matplotlib.lines.Line2D at 0x7f9260d11d90>,\n",
       " <matplotlib.lines.Line2D at 0x7f9260d11e50>,\n",
       " <matplotlib.lines.Line2D at 0x7f9260d11f10>,\n",
       " <matplotlib.lines.Line2D at 0x7f9260d11fd0>,\n",
       " <matplotlib.lines.Line2D at 0x7f9260d170d0>,\n",
       " <matplotlib.lines.Line2D at 0x7f9260d17190>,\n",
       " <matplotlib.lines.Line2D at 0x7f9260d17250>,\n",
       " <matplotlib.lines.Line2D at 0x7f9260d17310>,\n",
       " <matplotlib.lines.Line2D at 0x7f9260d173d0>,\n",
       " <matplotlib.lines.Line2D at 0x7f9260d17490>,\n",
       " <matplotlib.lines.Line2D at 0x7f9260d17550>,\n",
       " <matplotlib.lines.Line2D at 0x7f9260d17610>,\n",
       " <matplotlib.lines.Line2D at 0x7f9260d176d0>,\n",
       " <matplotlib.lines.Line2D at 0x7f9260d17790>,\n",
       " <matplotlib.lines.Line2D at 0x7f9260d17850>,\n",
       " <matplotlib.lines.Line2D at 0x7f9260d17910>,\n",
       " <matplotlib.lines.Line2D at 0x7f9260d179d0>,\n",
       " <matplotlib.lines.Line2D at 0x7f9260d17a90>,\n",
       " <matplotlib.lines.Line2D at 0x7f9260d17b50>,\n",
       " <matplotlib.lines.Line2D at 0x7f9260d17c10>,\n",
       " <matplotlib.lines.Line2D at 0x7f9260d17cd0>,\n",
       " <matplotlib.lines.Line2D at 0x7f9260d17d90>,\n",
       " <matplotlib.lines.Line2D at 0x7f9260d17e50>,\n",
       " <matplotlib.lines.Line2D at 0x7f9260d17f10>,\n",
       " <matplotlib.lines.Line2D at 0x7f9260d17fd0>,\n",
       " <matplotlib.lines.Line2D at 0x7f9260d1d0d0>,\n",
       " <matplotlib.lines.Line2D at 0x7f9260d1d190>,\n",
       " <matplotlib.lines.Line2D at 0x7f9260d1d250>,\n",
       " <matplotlib.lines.Line2D at 0x7f9260d1d310>,\n",
       " <matplotlib.lines.Line2D at 0x7f9260d1d3d0>,\n",
       " <matplotlib.lines.Line2D at 0x7f9260d1d490>,\n",
       " <matplotlib.lines.Line2D at 0x7f9260d1d550>,\n",
       " <matplotlib.lines.Line2D at 0x7f9260d1d610>,\n",
       " <matplotlib.lines.Line2D at 0x7f9260d1d6d0>,\n",
       " <matplotlib.lines.Line2D at 0x7f9260d1d790>,\n",
       " <matplotlib.lines.Line2D at 0x7f9260d1d850>,\n",
       " <matplotlib.lines.Line2D at 0x7f9260d1d910>,\n",
       " <matplotlib.lines.Line2D at 0x7f9260d1d9d0>,\n",
       " <matplotlib.lines.Line2D at 0x7f9260d1da90>,\n",
       " <matplotlib.lines.Line2D at 0x7f9260d1db50>,\n",
       " <matplotlib.lines.Line2D at 0x7f9260d1dc10>,\n",
       " <matplotlib.lines.Line2D at 0x7f9260d1dcd0>,\n",
       " <matplotlib.lines.Line2D at 0x7f9260d1dd90>,\n",
       " <matplotlib.lines.Line2D at 0x7f9260d1de50>,\n",
       " <matplotlib.lines.Line2D at 0x7f9260d1df10>,\n",
       " <matplotlib.lines.Line2D at 0x7f9260d1dfd0>,\n",
       " <matplotlib.lines.Line2D at 0x7f9260d240d0>,\n",
       " <matplotlib.lines.Line2D at 0x7f9260d24190>,\n",
       " <matplotlib.lines.Line2D at 0x7f9260d24250>,\n",
       " <matplotlib.lines.Line2D at 0x7f9260d24310>,\n",
       " <matplotlib.lines.Line2D at 0x7f9260d243d0>,\n",
       " <matplotlib.lines.Line2D at 0x7f9260d24490>,\n",
       " <matplotlib.lines.Line2D at 0x7f9260d24550>,\n",
       " <matplotlib.lines.Line2D at 0x7f9260d24610>,\n",
       " <matplotlib.lines.Line2D at 0x7f9260d246d0>,\n",
       " <matplotlib.lines.Line2D at 0x7f9260d24790>,\n",
       " <matplotlib.lines.Line2D at 0x7f9260d24850>,\n",
       " <matplotlib.lines.Line2D at 0x7f9260d24910>,\n",
       " <matplotlib.lines.Line2D at 0x7f9260d249d0>,\n",
       " <matplotlib.lines.Line2D at 0x7f9260d24a90>,\n",
       " <matplotlib.lines.Line2D at 0x7f9260d24b50>,\n",
       " <matplotlib.lines.Line2D at 0x7f9260d24c10>,\n",
       " <matplotlib.lines.Line2D at 0x7f9260d24cd0>,\n",
       " <matplotlib.lines.Line2D at 0x7f9260d24d90>,\n",
       " <matplotlib.lines.Line2D at 0x7f9260d24e50>,\n",
       " <matplotlib.lines.Line2D at 0x7f9260d24f10>,\n",
       " <matplotlib.lines.Line2D at 0x7f9260d24fd0>,\n",
       " <matplotlib.lines.Line2D at 0x7f9260d2a0d0>,\n",
       " <matplotlib.lines.Line2D at 0x7f9260d2a190>,\n",
       " <matplotlib.lines.Line2D at 0x7f9260d2a250>,\n",
       " <matplotlib.lines.Line2D at 0x7f9260d2a310>,\n",
       " <matplotlib.lines.Line2D at 0x7f9260d2a3d0>,\n",
       " <matplotlib.lines.Line2D at 0x7f9260d2a490>,\n",
       " <matplotlib.lines.Line2D at 0x7f9260d2a550>,\n",
       " <matplotlib.lines.Line2D at 0x7f9260d2a610>,\n",
       " <matplotlib.lines.Line2D at 0x7f9260d2a6d0>,\n",
       " <matplotlib.lines.Line2D at 0x7f9260d2a790>,\n",
       " <matplotlib.lines.Line2D at 0x7f9260d2a850>,\n",
       " <matplotlib.lines.Line2D at 0x7f9260d2a910>,\n",
       " <matplotlib.lines.Line2D at 0x7f9260d2a9d0>,\n",
       " <matplotlib.lines.Line2D at 0x7f9260d2aa90>,\n",
       " <matplotlib.lines.Line2D at 0x7f9260d2ab50>,\n",
       " <matplotlib.lines.Line2D at 0x7f9260d2ac10>,\n",
       " <matplotlib.lines.Line2D at 0x7f9260d2acd0>,\n",
       " <matplotlib.lines.Line2D at 0x7f9260d2ad90>,\n",
       " <matplotlib.lines.Line2D at 0x7f9260d2ae50>,\n",
       " <matplotlib.lines.Line2D at 0x7f9260d2af10>,\n",
       " <matplotlib.lines.Line2D at 0x7f9260d2afd0>,\n",
       " <matplotlib.lines.Line2D at 0x7f9260d300d0>,\n",
       " <matplotlib.lines.Line2D at 0x7f9260d30190>,\n",
       " <matplotlib.lines.Line2D at 0x7f9260d30250>,\n",
       " <matplotlib.lines.Line2D at 0x7f9260d30310>,\n",
       " <matplotlib.lines.Line2D at 0x7f9260d303d0>,\n",
       " <matplotlib.lines.Line2D at 0x7f9260d30490>,\n",
       " <matplotlib.lines.Line2D at 0x7f9260d30550>,\n",
       " <matplotlib.lines.Line2D at 0x7f9260d30610>,\n",
       " <matplotlib.lines.Line2D at 0x7f9260d306d0>,\n",
       " <matplotlib.lines.Line2D at 0x7f9260d30790>,\n",
       " <matplotlib.lines.Line2D at 0x7f9260d30850>,\n",
       " <matplotlib.lines.Line2D at 0x7f9260d30910>,\n",
       " <matplotlib.lines.Line2D at 0x7f9260d309d0>,\n",
       " <matplotlib.lines.Line2D at 0x7f9260d30a90>,\n",
       " <matplotlib.lines.Line2D at 0x7f9260d30b50>,\n",
       " <matplotlib.lines.Line2D at 0x7f9260d30c10>,\n",
       " <matplotlib.lines.Line2D at 0x7f9260d30cd0>,\n",
       " <matplotlib.lines.Line2D at 0x7f9260d30d90>,\n",
       " <matplotlib.lines.Line2D at 0x7f9260d30e50>,\n",
       " <matplotlib.lines.Line2D at 0x7f9260d30f10>,\n",
       " <matplotlib.lines.Line2D at 0x7f9260d30fd0>,\n",
       " <matplotlib.lines.Line2D at 0x7f9260d360d0>,\n",
       " <matplotlib.lines.Line2D at 0x7f9260d36190>,\n",
       " <matplotlib.lines.Line2D at 0x7f9260d36250>,\n",
       " <matplotlib.lines.Line2D at 0x7f9260d36310>,\n",
       " <matplotlib.lines.Line2D at 0x7f9260d363d0>,\n",
       " <matplotlib.lines.Line2D at 0x7f9260d36490>,\n",
       " <matplotlib.lines.Line2D at 0x7f9260d36550>,\n",
       " <matplotlib.lines.Line2D at 0x7f9260d36610>,\n",
       " <matplotlib.lines.Line2D at 0x7f9260d366d0>,\n",
       " <matplotlib.lines.Line2D at 0x7f9260d36790>,\n",
       " <matplotlib.lines.Line2D at 0x7f9260d36850>,\n",
       " <matplotlib.lines.Line2D at 0x7f9260d36910>,\n",
       " <matplotlib.lines.Line2D at 0x7f9260d369d0>,\n",
       " <matplotlib.lines.Line2D at 0x7f9260d36a90>,\n",
       " <matplotlib.lines.Line2D at 0x7f9260d36b50>,\n",
       " <matplotlib.lines.Line2D at 0x7f9260d36c10>,\n",
       " <matplotlib.lines.Line2D at 0x7f9260d36cd0>,\n",
       " <matplotlib.lines.Line2D at 0x7f9260d36d90>,\n",
       " <matplotlib.lines.Line2D at 0x7f9260d36e50>,\n",
       " <matplotlib.lines.Line2D at 0x7f9260d36f10>,\n",
       " <matplotlib.lines.Line2D at 0x7f9260d36fd0>,\n",
       " <matplotlib.lines.Line2D at 0x7f9260d3c0d0>,\n",
       " <matplotlib.lines.Line2D at 0x7f9260d3c190>,\n",
       " <matplotlib.lines.Line2D at 0x7f9260d3c250>,\n",
       " <matplotlib.lines.Line2D at 0x7f9260d3c310>,\n",
       " <matplotlib.lines.Line2D at 0x7f9260d3c3d0>,\n",
       " <matplotlib.lines.Line2D at 0x7f9260d3c490>,\n",
       " <matplotlib.lines.Line2D at 0x7f9260d3c550>,\n",
       " <matplotlib.lines.Line2D at 0x7f9260d3c610>,\n",
       " <matplotlib.lines.Line2D at 0x7f9260d3c6d0>,\n",
       " <matplotlib.lines.Line2D at 0x7f9260d3c790>,\n",
       " <matplotlib.lines.Line2D at 0x7f9260d3c850>,\n",
       " <matplotlib.lines.Line2D at 0x7f9260d3c910>,\n",
       " <matplotlib.lines.Line2D at 0x7f9260d3c9d0>,\n",
       " <matplotlib.lines.Line2D at 0x7f9260d3ca90>,\n",
       " <matplotlib.lines.Line2D at 0x7f9260d3cb50>,\n",
       " <matplotlib.lines.Line2D at 0x7f9260d3cc10>,\n",
       " <matplotlib.lines.Line2D at 0x7f9260d3ccd0>,\n",
       " <matplotlib.lines.Line2D at 0x7f9260d3cd90>,\n",
       " <matplotlib.lines.Line2D at 0x7f9260d3ce50>,\n",
       " <matplotlib.lines.Line2D at 0x7f9260d3cf10>,\n",
       " <matplotlib.lines.Line2D at 0x7f9260d3cfd0>,\n",
       " <matplotlib.lines.Line2D at 0x7f9260cc20d0>,\n",
       " <matplotlib.lines.Line2D at 0x7f9260cc2190>,\n",
       " <matplotlib.lines.Line2D at 0x7f9260cc2250>,\n",
       " <matplotlib.lines.Line2D at 0x7f9260cc2310>,\n",
       " <matplotlib.lines.Line2D at 0x7f9260cc23d0>,\n",
       " <matplotlib.lines.Line2D at 0x7f9260cc2490>,\n",
       " <matplotlib.lines.Line2D at 0x7f9260cc2550>,\n",
       " <matplotlib.lines.Line2D at 0x7f9260cc2610>,\n",
       " <matplotlib.lines.Line2D at 0x7f9260cc26d0>,\n",
       " <matplotlib.lines.Line2D at 0x7f9260cc2790>,\n",
       " <matplotlib.lines.Line2D at 0x7f9260cc2850>,\n",
       " <matplotlib.lines.Line2D at 0x7f9260cc2910>,\n",
       " <matplotlib.lines.Line2D at 0x7f9260cc29d0>,\n",
       " <matplotlib.lines.Line2D at 0x7f9260cc2a90>,\n",
       " <matplotlib.lines.Line2D at 0x7f9260cc2b50>,\n",
       " <matplotlib.lines.Line2D at 0x7f9260cc2c10>,\n",
       " <matplotlib.lines.Line2D at 0x7f9260cc2cd0>,\n",
       " <matplotlib.lines.Line2D at 0x7f9260cc2d90>,\n",
       " <matplotlib.lines.Line2D at 0x7f9260cc2e50>,\n",
       " <matplotlib.lines.Line2D at 0x7f9260cc2f10>,\n",
       " <matplotlib.lines.Line2D at 0x7f9260cc2fd0>,\n",
       " <matplotlib.lines.Line2D at 0x7f9260cc80d0>,\n",
       " <matplotlib.lines.Line2D at 0x7f9260cc8190>,\n",
       " <matplotlib.lines.Line2D at 0x7f9260cc8250>,\n",
       " <matplotlib.lines.Line2D at 0x7f9260cc8310>,\n",
       " <matplotlib.lines.Line2D at 0x7f9260cc83d0>,\n",
       " <matplotlib.lines.Line2D at 0x7f9260cc8490>,\n",
       " <matplotlib.lines.Line2D at 0x7f9260cc8550>,\n",
       " <matplotlib.lines.Line2D at 0x7f9260cc8610>,\n",
       " <matplotlib.lines.Line2D at 0x7f9260cc86d0>,\n",
       " <matplotlib.lines.Line2D at 0x7f9260cc8790>,\n",
       " <matplotlib.lines.Line2D at 0x7f9260cc8850>,\n",
       " <matplotlib.lines.Line2D at 0x7f9260cc8910>,\n",
       " <matplotlib.lines.Line2D at 0x7f9260cc89d0>,\n",
       " <matplotlib.lines.Line2D at 0x7f9260cc8a90>,\n",
       " <matplotlib.lines.Line2D at 0x7f9260cc8b50>,\n",
       " <matplotlib.lines.Line2D at 0x7f9260cc8c10>,\n",
       " <matplotlib.lines.Line2D at 0x7f9260cc8cd0>,\n",
       " <matplotlib.lines.Line2D at 0x7f9260cc8d90>,\n",
       " <matplotlib.lines.Line2D at 0x7f9260cc8e50>,\n",
       " <matplotlib.lines.Line2D at 0x7f9260cc8f10>,\n",
       " <matplotlib.lines.Line2D at 0x7f9260cc8fd0>,\n",
       " <matplotlib.lines.Line2D at 0x7f9260cce0d0>,\n",
       " <matplotlib.lines.Line2D at 0x7f9260cce190>,\n",
       " <matplotlib.lines.Line2D at 0x7f9260cce250>,\n",
       " <matplotlib.lines.Line2D at 0x7f9260cce310>,\n",
       " <matplotlib.lines.Line2D at 0x7f9260cce3d0>,\n",
       " <matplotlib.lines.Line2D at 0x7f9260cce490>,\n",
       " <matplotlib.lines.Line2D at 0x7f9260cce550>,\n",
       " <matplotlib.lines.Line2D at 0x7f9260cce610>,\n",
       " <matplotlib.lines.Line2D at 0x7f9260cce6d0>,\n",
       " <matplotlib.lines.Line2D at 0x7f9260cce790>,\n",
       " <matplotlib.lines.Line2D at 0x7f9260cce850>,\n",
       " <matplotlib.lines.Line2D at 0x7f9260cce910>,\n",
       " <matplotlib.lines.Line2D at 0x7f9260cce9d0>,\n",
       " <matplotlib.lines.Line2D at 0x7f9260ccea90>,\n",
       " <matplotlib.lines.Line2D at 0x7f9260cceb50>,\n",
       " <matplotlib.lines.Line2D at 0x7f9260ccec10>,\n",
       " <matplotlib.lines.Line2D at 0x7f9260ccecd0>,\n",
       " <matplotlib.lines.Line2D at 0x7f9260cced90>,\n",
       " <matplotlib.lines.Line2D at 0x7f9260ccee50>,\n",
       " <matplotlib.lines.Line2D at 0x7f9260ccef10>,\n",
       " <matplotlib.lines.Line2D at 0x7f9260ccefd0>,\n",
       " <matplotlib.lines.Line2D at 0x7f9260cd40d0>,\n",
       " <matplotlib.lines.Line2D at 0x7f9260cd4190>,\n",
       " <matplotlib.lines.Line2D at 0x7f9260cd4250>,\n",
       " <matplotlib.lines.Line2D at 0x7f9260cd4310>,\n",
       " <matplotlib.lines.Line2D at 0x7f9260cd43d0>,\n",
       " <matplotlib.lines.Line2D at 0x7f9260cd4490>,\n",
       " <matplotlib.lines.Line2D at 0x7f9260cd4550>,\n",
       " <matplotlib.lines.Line2D at 0x7f9260cd4610>,\n",
       " <matplotlib.lines.Line2D at 0x7f9260cd46d0>,\n",
       " <matplotlib.lines.Line2D at 0x7f9260cd4790>,\n",
       " <matplotlib.lines.Line2D at 0x7f9260cd4850>,\n",
       " <matplotlib.lines.Line2D at 0x7f9260cd4910>,\n",
       " <matplotlib.lines.Line2D at 0x7f9260cd49d0>,\n",
       " <matplotlib.lines.Line2D at 0x7f9260cd4a90>,\n",
       " <matplotlib.lines.Line2D at 0x7f9260cd4b50>,\n",
       " <matplotlib.lines.Line2D at 0x7f9260cd4c10>,\n",
       " <matplotlib.lines.Line2D at 0x7f9260cd4cd0>,\n",
       " <matplotlib.lines.Line2D at 0x7f9260cd4d90>,\n",
       " <matplotlib.lines.Line2D at 0x7f9260cd4e50>,\n",
       " <matplotlib.lines.Line2D at 0x7f9260cd4f10>,\n",
       " <matplotlib.lines.Line2D at 0x7f9260cd4fd0>,\n",
       " <matplotlib.lines.Line2D at 0x7f9260cda0d0>,\n",
       " <matplotlib.lines.Line2D at 0x7f9260cda190>,\n",
       " <matplotlib.lines.Line2D at 0x7f9260cda250>,\n",
       " <matplotlib.lines.Line2D at 0x7f9260cda310>,\n",
       " <matplotlib.lines.Line2D at 0x7f9260cda3d0>,\n",
       " <matplotlib.lines.Line2D at 0x7f9260cda490>,\n",
       " <matplotlib.lines.Line2D at 0x7f9260cda550>,\n",
       " <matplotlib.lines.Line2D at 0x7f9260cda610>,\n",
       " <matplotlib.lines.Line2D at 0x7f9260cda6d0>,\n",
       " <matplotlib.lines.Line2D at 0x7f9260cda790>,\n",
       " <matplotlib.lines.Line2D at 0x7f9260cda850>,\n",
       " <matplotlib.lines.Line2D at 0x7f9260cda910>,\n",
       " <matplotlib.lines.Line2D at 0x7f9260cda9d0>,\n",
       " <matplotlib.lines.Line2D at 0x7f9260cdaa90>,\n",
       " <matplotlib.lines.Line2D at 0x7f9260cdab50>,\n",
       " <matplotlib.lines.Line2D at 0x7f9260cdac10>,\n",
       " <matplotlib.lines.Line2D at 0x7f9260cdacd0>,\n",
       " <matplotlib.lines.Line2D at 0x7f9260cdad90>,\n",
       " <matplotlib.lines.Line2D at 0x7f9260cdae50>,\n",
       " <matplotlib.lines.Line2D at 0x7f9260cdaf10>,\n",
       " <matplotlib.lines.Line2D at 0x7f9260cdafd0>,\n",
       " <matplotlib.lines.Line2D at 0x7f9260ce00d0>,\n",
       " <matplotlib.lines.Line2D at 0x7f9260ce0190>,\n",
       " <matplotlib.lines.Line2D at 0x7f9260ce0250>,\n",
       " <matplotlib.lines.Line2D at 0x7f9260ce0310>,\n",
       " <matplotlib.lines.Line2D at 0x7f9260ce03d0>,\n",
       " <matplotlib.lines.Line2D at 0x7f9260ce0490>,\n",
       " <matplotlib.lines.Line2D at 0x7f9260ce0550>,\n",
       " <matplotlib.lines.Line2D at 0x7f9260ce0610>,\n",
       " <matplotlib.lines.Line2D at 0x7f9260ce06d0>,\n",
       " <matplotlib.lines.Line2D at 0x7f9260ce0790>,\n",
       " <matplotlib.lines.Line2D at 0x7f9260ce0850>,\n",
       " <matplotlib.lines.Line2D at 0x7f9260ce0910>,\n",
       " <matplotlib.lines.Line2D at 0x7f9260ce09d0>,\n",
       " <matplotlib.lines.Line2D at 0x7f9260ce0a90>,\n",
       " <matplotlib.lines.Line2D at 0x7f9260ce0b50>,\n",
       " <matplotlib.lines.Line2D at 0x7f9260ce0c10>,\n",
       " <matplotlib.lines.Line2D at 0x7f9260ce0cd0>,\n",
       " <matplotlib.lines.Line2D at 0x7f9260ce0d90>,\n",
       " <matplotlib.lines.Line2D at 0x7f9260ce0e50>,\n",
       " <matplotlib.lines.Line2D at 0x7f9260ce0f10>,\n",
       " <matplotlib.lines.Line2D at 0x7f9260ce0fd0>,\n",
       " <matplotlib.lines.Line2D at 0x7f9260ce60d0>,\n",
       " <matplotlib.lines.Line2D at 0x7f9260ce6190>,\n",
       " <matplotlib.lines.Line2D at 0x7f9260ce6250>,\n",
       " <matplotlib.lines.Line2D at 0x7f9260ce6310>,\n",
       " <matplotlib.lines.Line2D at 0x7f9260ce63d0>,\n",
       " <matplotlib.lines.Line2D at 0x7f9260ce6490>,\n",
       " <matplotlib.lines.Line2D at 0x7f9260ce6550>,\n",
       " <matplotlib.lines.Line2D at 0x7f9260ce6610>,\n",
       " <matplotlib.lines.Line2D at 0x7f9260ce66d0>,\n",
       " <matplotlib.lines.Line2D at 0x7f9260ce6790>,\n",
       " <matplotlib.lines.Line2D at 0x7f9260ce6850>,\n",
       " <matplotlib.lines.Line2D at 0x7f9260ce6910>,\n",
       " <matplotlib.lines.Line2D at 0x7f9260ce69d0>,\n",
       " <matplotlib.lines.Line2D at 0x7f9260ce6a90>,\n",
       " <matplotlib.lines.Line2D at 0x7f9260ce6b50>,\n",
       " <matplotlib.lines.Line2D at 0x7f9260ce6c10>,\n",
       " <matplotlib.lines.Line2D at 0x7f9260ce6cd0>,\n",
       " <matplotlib.lines.Line2D at 0x7f9260ce6d90>,\n",
       " <matplotlib.lines.Line2D at 0x7f9260ce6e50>,\n",
       " <matplotlib.lines.Line2D at 0x7f9260ce6f10>,\n",
       " <matplotlib.lines.Line2D at 0x7f9260ce6fd0>,\n",
       " <matplotlib.lines.Line2D at 0x7f9260ced0d0>,\n",
       " <matplotlib.lines.Line2D at 0x7f9260ced190>,\n",
       " <matplotlib.lines.Line2D at 0x7f9260ced250>,\n",
       " <matplotlib.lines.Line2D at 0x7f9260ced310>,\n",
       " <matplotlib.lines.Line2D at 0x7f9260ced3d0>,\n",
       " <matplotlib.lines.Line2D at 0x7f9260ced490>,\n",
       " <matplotlib.lines.Line2D at 0x7f9260ced550>,\n",
       " <matplotlib.lines.Line2D at 0x7f9260ced610>,\n",
       " <matplotlib.lines.Line2D at 0x7f9260ced6d0>,\n",
       " <matplotlib.lines.Line2D at 0x7f9260ced790>,\n",
       " <matplotlib.lines.Line2D at 0x7f9260ced850>,\n",
       " <matplotlib.lines.Line2D at 0x7f9260ced910>,\n",
       " <matplotlib.lines.Line2D at 0x7f9260ced9d0>,\n",
       " <matplotlib.lines.Line2D at 0x7f9260ceda90>,\n",
       " <matplotlib.lines.Line2D at 0x7f9260cedb50>,\n",
       " <matplotlib.lines.Line2D at 0x7f9260cedc10>,\n",
       " <matplotlib.lines.Line2D at 0x7f9260cedcd0>,\n",
       " <matplotlib.lines.Line2D at 0x7f9260cedd90>,\n",
       " <matplotlib.lines.Line2D at 0x7f9260cede50>,\n",
       " <matplotlib.lines.Line2D at 0x7f9260cedf10>,\n",
       " <matplotlib.lines.Line2D at 0x7f9260cedfd0>,\n",
       " <matplotlib.lines.Line2D at 0x7f9260cf30d0>,\n",
       " <matplotlib.lines.Line2D at 0x7f9260cf3190>,\n",
       " <matplotlib.lines.Line2D at 0x7f9260cf3250>,\n",
       " <matplotlib.lines.Line2D at 0x7f9260cf3310>,\n",
       " <matplotlib.lines.Line2D at 0x7f9260cf33d0>,\n",
       " <matplotlib.lines.Line2D at 0x7f9260cf3490>,\n",
       " <matplotlib.lines.Line2D at 0x7f9260cf3550>,\n",
       " <matplotlib.lines.Line2D at 0x7f9260cf3610>,\n",
       " <matplotlib.lines.Line2D at 0x7f9260cf36d0>,\n",
       " <matplotlib.lines.Line2D at 0x7f9260cf3790>,\n",
       " <matplotlib.lines.Line2D at 0x7f9260cf3850>,\n",
       " <matplotlib.lines.Line2D at 0x7f9260cf3910>,\n",
       " <matplotlib.lines.Line2D at 0x7f9260cf39d0>,\n",
       " <matplotlib.lines.Line2D at 0x7f9260cf3a90>,\n",
       " <matplotlib.lines.Line2D at 0x7f9260cf3b50>,\n",
       " <matplotlib.lines.Line2D at 0x7f9260cf3c10>,\n",
       " <matplotlib.lines.Line2D at 0x7f9260cf3cd0>,\n",
       " <matplotlib.lines.Line2D at 0x7f9260cf3d90>,\n",
       " <matplotlib.lines.Line2D at 0x7f9260cf3e50>,\n",
       " <matplotlib.lines.Line2D at 0x7f9260cf3f10>,\n",
       " <matplotlib.lines.Line2D at 0x7f9260cf3fd0>,\n",
       " <matplotlib.lines.Line2D at 0x7f9260cf90d0>,\n",
       " <matplotlib.lines.Line2D at 0x7f9260cf9190>,\n",
       " ...]"
      ]
     },
     "execution_count": 398,
     "metadata": {},
     "output_type": "execute_result"
    },
    {
     "data": {
      "image/png": "[encoded data removed]",
      "text/plain": [
       "<Figure size 432x288 with 1 Axes>"
      ]
     },
     "metadata": {
      "needs_background": "light"
     },
     "output_type": "display_data"
    },
    {
     "data": {
      "application/javascript": [
       "\n",
       "            setTimeout(function() {\n",
       "                var nbb_cell_id = 398;\n",
       "                var nbb_unformatted_code = \"plt.plot(true.T, alpha=0.01, color=\\\"black\\\")\";\n",
       "                var nbb_formatted_code = \"plt.plot(true.T, alpha=0.01, color=\\\"black\\\")\";\n",
       "                var nbb_cells = Jupyter.notebook.get_cells();\n",
       "                for (var i = 0; i < nbb_cells.length; ++i) {\n",
       "                    if (nbb_cells[i].input_prompt_number == nbb_cell_id) {\n",
       "                        if (nbb_cells[i].get_text() == nbb_unformatted_code) {\n",
       "                             nbb_cells[i].set_text(nbb_formatted_code);\n",
       "                        }\n",
       "                        break;\n",
       "                    }\n",
       "                }\n",
       "            }, 500);\n",
       "            "
      ],
      "text/plain": [
       "<IPython.core.display.Javascript object>"
      ]
     },
     "metadata": {},
     "output_type": "display_data"
    }
   ],
   "source": [
    "plt.plot(true.T, alpha=0.01, color=\"black\")"
   ]
  },
  {
   "cell_type": "code",
   "execution_count": 556,
   "id": "daaec24e",
   "metadata": {},
   "outputs": [
    {
     "data": {
      "text/plain": [
       "[<matplotlib.lines.Line2D at 0x7f920816a1f0>,\n",
       " <matplotlib.lines.Line2D at 0x7f920816a250>,\n",
       " <matplotlib.lines.Line2D at 0x7f920816a310>,\n",
       " <matplotlib.lines.Line2D at 0x7f920816a3d0>,\n",
       " <matplotlib.lines.Line2D at 0x7f920816a490>,\n",
       " <matplotlib.lines.Line2D at 0x7f920816a550>,\n",
       " <matplotlib.lines.Line2D at 0x7f920816a610>,\n",
       " <matplotlib.lines.Line2D at 0x7f920816a6d0>,\n",
       " <matplotlib.lines.Line2D at 0x7f920816a790>,\n",
       " <matplotlib.lines.Line2D at 0x7f920816a850>,\n",
       " <matplotlib.lines.Line2D at 0x7f920816a910>,\n",
       " <matplotlib.lines.Line2D at 0x7f920816a9d0>,\n",
       " <matplotlib.lines.Line2D at 0x7f920816aa90>,\n",
       " <matplotlib.lines.Line2D at 0x7f920816ab50>,\n",
       " <matplotlib.lines.Line2D at 0x7f920816ac10>,\n",
       " <matplotlib.lines.Line2D at 0x7f920816acd0>,\n",
       " <matplotlib.lines.Line2D at 0x7f920816ad90>,\n",
       " <matplotlib.lines.Line2D at 0x7f920816ae50>,\n",
       " <matplotlib.lines.Line2D at 0x7f920816af10>,\n",
       " <matplotlib.lines.Line2D at 0x7f920816afd0>,\n",
       " <matplotlib.lines.Line2D at 0x7f92081700d0>,\n",
       " <matplotlib.lines.Line2D at 0x7f9208170190>,\n",
       " <matplotlib.lines.Line2D at 0x7f9208170250>,\n",
       " <matplotlib.lines.Line2D at 0x7f9208170310>,\n",
       " <matplotlib.lines.Line2D at 0x7f92081703d0>,\n",
       " <matplotlib.lines.Line2D at 0x7f9208170490>,\n",
       " <matplotlib.lines.Line2D at 0x7f9208170550>,\n",
       " <matplotlib.lines.Line2D at 0x7f9208170610>,\n",
       " <matplotlib.lines.Line2D at 0x7f92081706d0>,\n",
       " <matplotlib.lines.Line2D at 0x7f9208170790>,\n",
       " <matplotlib.lines.Line2D at 0x7f9208170850>,\n",
       " <matplotlib.lines.Line2D at 0x7f9208170910>,\n",
       " <matplotlib.lines.Line2D at 0x7f92081709d0>,\n",
       " <matplotlib.lines.Line2D at 0x7f9208170a90>,\n",
       " <matplotlib.lines.Line2D at 0x7f9208170b50>,\n",
       " <matplotlib.lines.Line2D at 0x7f9208170c10>,\n",
       " <matplotlib.lines.Line2D at 0x7f9208170cd0>,\n",
       " <matplotlib.lines.Line2D at 0x7f9208170d90>,\n",
       " <matplotlib.lines.Line2D at 0x7f9208170e50>,\n",
       " <matplotlib.lines.Line2D at 0x7f9208170f10>,\n",
       " <matplotlib.lines.Line2D at 0x7f9208170fd0>,\n",
       " <matplotlib.lines.Line2D at 0x7f92081760d0>,\n",
       " <matplotlib.lines.Line2D at 0x7f9208176190>,\n",
       " <matplotlib.lines.Line2D at 0x7f9208176250>,\n",
       " <matplotlib.lines.Line2D at 0x7f9208176310>,\n",
       " <matplotlib.lines.Line2D at 0x7f92081763d0>,\n",
       " <matplotlib.lines.Line2D at 0x7f9208176490>,\n",
       " <matplotlib.lines.Line2D at 0x7f9208176550>,\n",
       " <matplotlib.lines.Line2D at 0x7f9208176610>,\n",
       " <matplotlib.lines.Line2D at 0x7f92081766d0>,\n",
       " <matplotlib.lines.Line2D at 0x7f9208176790>,\n",
       " <matplotlib.lines.Line2D at 0x7f9208176850>,\n",
       " <matplotlib.lines.Line2D at 0x7f9208176910>,\n",
       " <matplotlib.lines.Line2D at 0x7f92081769d0>,\n",
       " <matplotlib.lines.Line2D at 0x7f9208176a90>,\n",
       " <matplotlib.lines.Line2D at 0x7f9208176b50>,\n",
       " <matplotlib.lines.Line2D at 0x7f9208176c10>,\n",
       " <matplotlib.lines.Line2D at 0x7f9208176cd0>,\n",
       " <matplotlib.lines.Line2D at 0x7f9208176d90>,\n",
       " <matplotlib.lines.Line2D at 0x7f9208176e50>,\n",
       " <matplotlib.lines.Line2D at 0x7f9208176f10>,\n",
       " <matplotlib.lines.Line2D at 0x7f9208176fd0>,\n",
       " <matplotlib.lines.Line2D at 0x7f92081060d0>,\n",
       " <matplotlib.lines.Line2D at 0x7f9208106190>,\n",
       " <matplotlib.lines.Line2D at 0x7f9208106250>,\n",
       " <matplotlib.lines.Line2D at 0x7f9208106310>,\n",
       " <matplotlib.lines.Line2D at 0x7f92081063d0>,\n",
       " <matplotlib.lines.Line2D at 0x7f9208106490>,\n",
       " <matplotlib.lines.Line2D at 0x7f9208106550>,\n",
       " <matplotlib.lines.Line2D at 0x7f9208106610>,\n",
       " <matplotlib.lines.Line2D at 0x7f92081066d0>,\n",
       " <matplotlib.lines.Line2D at 0x7f9208106790>,\n",
       " <matplotlib.lines.Line2D at 0x7f9208106850>,\n",
       " <matplotlib.lines.Line2D at 0x7f9208106910>,\n",
       " <matplotlib.lines.Line2D at 0x7f92081069d0>,\n",
       " <matplotlib.lines.Line2D at 0x7f9208106a90>,\n",
       " <matplotlib.lines.Line2D at 0x7f9208106b50>,\n",
       " <matplotlib.lines.Line2D at 0x7f9208106c10>,\n",
       " <matplotlib.lines.Line2D at 0x7f9208106cd0>,\n",
       " <matplotlib.lines.Line2D at 0x7f9208106d90>,\n",
       " <matplotlib.lines.Line2D at 0x7f9208106e50>,\n",
       " <matplotlib.lines.Line2D at 0x7f9208106f10>,\n",
       " <matplotlib.lines.Line2D at 0x7f920810b040>,\n",
       " <matplotlib.lines.Line2D at 0x7f920810b100>,\n",
       " <matplotlib.lines.Line2D at 0x7f920810b1c0>,\n",
       " <matplotlib.lines.Line2D at 0x7f920810b280>,\n",
       " <matplotlib.lines.Line2D at 0x7f920810b340>,\n",
       " <matplotlib.lines.Line2D at 0x7f920810b400>,\n",
       " <matplotlib.lines.Line2D at 0x7f920810b4c0>,\n",
       " <matplotlib.lines.Line2D at 0x7f920810b580>,\n",
       " <matplotlib.lines.Line2D at 0x7f920810b640>,\n",
       " <matplotlib.lines.Line2D at 0x7f920810b700>,\n",
       " <matplotlib.lines.Line2D at 0x7f920810b7c0>,\n",
       " <matplotlib.lines.Line2D at 0x7f920810b880>,\n",
       " <matplotlib.lines.Line2D at 0x7f920810b940>,\n",
       " <matplotlib.lines.Line2D at 0x7f920810ba00>,\n",
       " <matplotlib.lines.Line2D at 0x7f920810bac0>,\n",
       " <matplotlib.lines.Line2D at 0x7f920810bb80>,\n",
       " <matplotlib.lines.Line2D at 0x7f920810bc40>,\n",
       " <matplotlib.lines.Line2D at 0x7f920810bd00>,\n",
       " <matplotlib.lines.Line2D at 0x7f920810bdc0>,\n",
       " <matplotlib.lines.Line2D at 0x7f920810be80>,\n",
       " <matplotlib.lines.Line2D at 0x7f920810bf40>,\n",
       " <matplotlib.lines.Line2D at 0x7f9208110040>,\n",
       " <matplotlib.lines.Line2D at 0x7f9208110100>,\n",
       " <matplotlib.lines.Line2D at 0x7f92081101c0>,\n",
       " <matplotlib.lines.Line2D at 0x7f9208110280>,\n",
       " <matplotlib.lines.Line2D at 0x7f9208110340>,\n",
       " <matplotlib.lines.Line2D at 0x7f9208110400>,\n",
       " <matplotlib.lines.Line2D at 0x7f92081104c0>,\n",
       " <matplotlib.lines.Line2D at 0x7f9208110580>,\n",
       " <matplotlib.lines.Line2D at 0x7f9208110640>,\n",
       " <matplotlib.lines.Line2D at 0x7f9208110700>,\n",
       " <matplotlib.lines.Line2D at 0x7f92081107c0>,\n",
       " <matplotlib.lines.Line2D at 0x7f9208110880>,\n",
       " <matplotlib.lines.Line2D at 0x7f9208110940>,\n",
       " <matplotlib.lines.Line2D at 0x7f9208110a00>,\n",
       " <matplotlib.lines.Line2D at 0x7f9208110ac0>,\n",
       " <matplotlib.lines.Line2D at 0x7f9208110b80>,\n",
       " <matplotlib.lines.Line2D at 0x7f9208110c40>,\n",
       " <matplotlib.lines.Line2D at 0x7f9208110d00>,\n",
       " <matplotlib.lines.Line2D at 0x7f9208110dc0>,\n",
       " <matplotlib.lines.Line2D at 0x7f9208110e80>,\n",
       " <matplotlib.lines.Line2D at 0x7f9208110f40>,\n",
       " <matplotlib.lines.Line2D at 0x7f92080fb040>,\n",
       " <matplotlib.lines.Line2D at 0x7f92080fb100>,\n",
       " <matplotlib.lines.Line2D at 0x7f92080fb1c0>,\n",
       " <matplotlib.lines.Line2D at 0x7f92080fb280>,\n",
       " <matplotlib.lines.Line2D at 0x7f92080fb340>,\n",
       " <matplotlib.lines.Line2D at 0x7f92080fb400>,\n",
       " <matplotlib.lines.Line2D at 0x7f92080fb4c0>,\n",
       " <matplotlib.lines.Line2D at 0x7f92080fb580>,\n",
       " <matplotlib.lines.Line2D at 0x7f92080fb640>,\n",
       " <matplotlib.lines.Line2D at 0x7f92080fb700>,\n",
       " <matplotlib.lines.Line2D at 0x7f92080fb7c0>,\n",
       " <matplotlib.lines.Line2D at 0x7f92080fb880>,\n",
       " <matplotlib.lines.Line2D at 0x7f92080fb940>,\n",
       " <matplotlib.lines.Line2D at 0x7f92080fba00>,\n",
       " <matplotlib.lines.Line2D at 0x7f92080fbac0>,\n",
       " <matplotlib.lines.Line2D at 0x7f92080fbb80>,\n",
       " <matplotlib.lines.Line2D at 0x7f92080fbc40>,\n",
       " <matplotlib.lines.Line2D at 0x7f92080fbd00>,\n",
       " <matplotlib.lines.Line2D at 0x7f92080fbdc0>,\n",
       " <matplotlib.lines.Line2D at 0x7f92080fbe80>,\n",
       " <matplotlib.lines.Line2D at 0x7f92080fbf40>,\n",
       " <matplotlib.lines.Line2D at 0x7f9208101040>,\n",
       " <matplotlib.lines.Line2D at 0x7f9208101100>,\n",
       " <matplotlib.lines.Line2D at 0x7f92081011c0>,\n",
       " <matplotlib.lines.Line2D at 0x7f9208101280>,\n",
       " <matplotlib.lines.Line2D at 0x7f9208101340>,\n",
       " <matplotlib.lines.Line2D at 0x7f9208101400>,\n",
       " <matplotlib.lines.Line2D at 0x7f92081014c0>,\n",
       " <matplotlib.lines.Line2D at 0x7f9208101580>,\n",
       " <matplotlib.lines.Line2D at 0x7f9208101640>,\n",
       " <matplotlib.lines.Line2D at 0x7f9208101700>,\n",
       " <matplotlib.lines.Line2D at 0x7f92081017c0>,\n",
       " <matplotlib.lines.Line2D at 0x7f9208101880>,\n",
       " <matplotlib.lines.Line2D at 0x7f9208101940>,\n",
       " <matplotlib.lines.Line2D at 0x7f9208101a00>,\n",
       " <matplotlib.lines.Line2D at 0x7f9208101ac0>,\n",
       " <matplotlib.lines.Line2D at 0x7f9208101b80>,\n",
       " <matplotlib.lines.Line2D at 0x7f9208101c40>,\n",
       " <matplotlib.lines.Line2D at 0x7f9208101d00>,\n",
       " <matplotlib.lines.Line2D at 0x7f9208101dc0>,\n",
       " <matplotlib.lines.Line2D at 0x7f9208101e80>,\n",
       " <matplotlib.lines.Line2D at 0x7f9208101f40>,\n",
       " <matplotlib.lines.Line2D at 0x7f920811a040>,\n",
       " <matplotlib.lines.Line2D at 0x7f920811a100>,\n",
       " <matplotlib.lines.Line2D at 0x7f920811a1c0>,\n",
       " <matplotlib.lines.Line2D at 0x7f920811a280>,\n",
       " <matplotlib.lines.Line2D at 0x7f920811a340>,\n",
       " <matplotlib.lines.Line2D at 0x7f920811a400>,\n",
       " <matplotlib.lines.Line2D at 0x7f920811a4c0>,\n",
       " <matplotlib.lines.Line2D at 0x7f920811a580>,\n",
       " <matplotlib.lines.Line2D at 0x7f920811a640>,\n",
       " <matplotlib.lines.Line2D at 0x7f920811a700>,\n",
       " <matplotlib.lines.Line2D at 0x7f920811a7c0>,\n",
       " <matplotlib.lines.Line2D at 0x7f920811a880>,\n",
       " <matplotlib.lines.Line2D at 0x7f920811a940>,\n",
       " <matplotlib.lines.Line2D at 0x7f920811aa00>,\n",
       " <matplotlib.lines.Line2D at 0x7f920811aac0>,\n",
       " <matplotlib.lines.Line2D at 0x7f920811ab80>,\n",
       " <matplotlib.lines.Line2D at 0x7f920811ac40>,\n",
       " <matplotlib.lines.Line2D at 0x7f920811ad00>,\n",
       " <matplotlib.lines.Line2D at 0x7f920811adc0>,\n",
       " <matplotlib.lines.Line2D at 0x7f920811ae80>,\n",
       " <matplotlib.lines.Line2D at 0x7f920811af40>,\n",
       " <matplotlib.lines.Line2D at 0x7f9208120040>,\n",
       " <matplotlib.lines.Line2D at 0x7f9208120100>,\n",
       " <matplotlib.lines.Line2D at 0x7f92081201c0>,\n",
       " <matplotlib.lines.Line2D at 0x7f9208120280>,\n",
       " <matplotlib.lines.Line2D at 0x7f9208120340>,\n",
       " <matplotlib.lines.Line2D at 0x7f9208120400>,\n",
       " <matplotlib.lines.Line2D at 0x7f92081204c0>,\n",
       " <matplotlib.lines.Line2D at 0x7f9208120580>,\n",
       " <matplotlib.lines.Line2D at 0x7f9208120640>,\n",
       " <matplotlib.lines.Line2D at 0x7f9208120700>,\n",
       " <matplotlib.lines.Line2D at 0x7f92081207c0>,\n",
       " <matplotlib.lines.Line2D at 0x7f9208120880>,\n",
       " <matplotlib.lines.Line2D at 0x7f9208120940>,\n",
       " <matplotlib.lines.Line2D at 0x7f9208120a00>,\n",
       " <matplotlib.lines.Line2D at 0x7f9208120ac0>,\n",
       " <matplotlib.lines.Line2D at 0x7f9208120b80>,\n",
       " <matplotlib.lines.Line2D at 0x7f9208120c40>,\n",
       " <matplotlib.lines.Line2D at 0x7f9208120d00>,\n",
       " <matplotlib.lines.Line2D at 0x7f9208120dc0>,\n",
       " <matplotlib.lines.Line2D at 0x7f9208120e80>,\n",
       " <matplotlib.lines.Line2D at 0x7f9208120f40>,\n",
       " <matplotlib.lines.Line2D at 0x7f9208126040>,\n",
       " <matplotlib.lines.Line2D at 0x7f9208126100>,\n",
       " <matplotlib.lines.Line2D at 0x7f92081261c0>,\n",
       " <matplotlib.lines.Line2D at 0x7f9208126280>,\n",
       " <matplotlib.lines.Line2D at 0x7f9208126340>,\n",
       " <matplotlib.lines.Line2D at 0x7f9208126400>,\n",
       " <matplotlib.lines.Line2D at 0x7f92081264c0>,\n",
       " <matplotlib.lines.Line2D at 0x7f9208126580>,\n",
       " <matplotlib.lines.Line2D at 0x7f9208126640>,\n",
       " <matplotlib.lines.Line2D at 0x7f9208126700>,\n",
       " <matplotlib.lines.Line2D at 0x7f92081267c0>,\n",
       " <matplotlib.lines.Line2D at 0x7f9208126880>,\n",
       " <matplotlib.lines.Line2D at 0x7f9208126940>,\n",
       " <matplotlib.lines.Line2D at 0x7f9208126a00>,\n",
       " <matplotlib.lines.Line2D at 0x7f9208126ac0>,\n",
       " <matplotlib.lines.Line2D at 0x7f9208126b80>,\n",
       " <matplotlib.lines.Line2D at 0x7f9208126c40>,\n",
       " <matplotlib.lines.Line2D at 0x7f9208126d00>,\n",
       " <matplotlib.lines.Line2D at 0x7f9208126dc0>,\n",
       " <matplotlib.lines.Line2D at 0x7f9208126e80>,\n",
       " <matplotlib.lines.Line2D at 0x7f9208126f40>,\n",
       " <matplotlib.lines.Line2D at 0x7f920812c040>,\n",
       " <matplotlib.lines.Line2D at 0x7f920812c100>,\n",
       " <matplotlib.lines.Line2D at 0x7f920812c1c0>,\n",
       " <matplotlib.lines.Line2D at 0x7f920812c280>,\n",
       " <matplotlib.lines.Line2D at 0x7f920812c340>,\n",
       " <matplotlib.lines.Line2D at 0x7f920812c400>,\n",
       " <matplotlib.lines.Line2D at 0x7f920812c4c0>,\n",
       " <matplotlib.lines.Line2D at 0x7f920812c580>,\n",
       " <matplotlib.lines.Line2D at 0x7f920812c640>,\n",
       " <matplotlib.lines.Line2D at 0x7f920812c700>,\n",
       " <matplotlib.lines.Line2D at 0x7f920812c7c0>,\n",
       " <matplotlib.lines.Line2D at 0x7f920812c880>,\n",
       " <matplotlib.lines.Line2D at 0x7f920812c940>,\n",
       " <matplotlib.lines.Line2D at 0x7f920812ca00>,\n",
       " <matplotlib.lines.Line2D at 0x7f920812cac0>,\n",
       " <matplotlib.lines.Line2D at 0x7f920812cb80>,\n",
       " <matplotlib.lines.Line2D at 0x7f920812cc40>,\n",
       " <matplotlib.lines.Line2D at 0x7f920812cd00>,\n",
       " <matplotlib.lines.Line2D at 0x7f920812cdc0>,\n",
       " <matplotlib.lines.Line2D at 0x7f920812ce80>,\n",
       " <matplotlib.lines.Line2D at 0x7f920812cf40>,\n",
       " <matplotlib.lines.Line2D at 0x7f9208133040>,\n",
       " <matplotlib.lines.Line2D at 0x7f9208133100>,\n",
       " <matplotlib.lines.Line2D at 0x7f92081331c0>,\n",
       " <matplotlib.lines.Line2D at 0x7f9208133280>,\n",
       " <matplotlib.lines.Line2D at 0x7f9208133340>,\n",
       " <matplotlib.lines.Line2D at 0x7f9208133400>,\n",
       " <matplotlib.lines.Line2D at 0x7f92081334c0>,\n",
       " <matplotlib.lines.Line2D at 0x7f9208133580>,\n",
       " <matplotlib.lines.Line2D at 0x7f9208133640>,\n",
       " <matplotlib.lines.Line2D at 0x7f9208133700>,\n",
       " <matplotlib.lines.Line2D at 0x7f92081337c0>,\n",
       " <matplotlib.lines.Line2D at 0x7f9208133880>,\n",
       " <matplotlib.lines.Line2D at 0x7f9208133940>,\n",
       " <matplotlib.lines.Line2D at 0x7f9208133a00>,\n",
       " <matplotlib.lines.Line2D at 0x7f9208133ac0>,\n",
       " <matplotlib.lines.Line2D at 0x7f9208133b80>,\n",
       " <matplotlib.lines.Line2D at 0x7f9208133c40>,\n",
       " <matplotlib.lines.Line2D at 0x7f9208133d00>,\n",
       " <matplotlib.lines.Line2D at 0x7f9208133dc0>,\n",
       " <matplotlib.lines.Line2D at 0x7f9208133e80>,\n",
       " <matplotlib.lines.Line2D at 0x7f9208133f40>,\n",
       " <matplotlib.lines.Line2D at 0x7f92080b9040>,\n",
       " <matplotlib.lines.Line2D at 0x7f92080b9100>,\n",
       " <matplotlib.lines.Line2D at 0x7f92080b91c0>,\n",
       " <matplotlib.lines.Line2D at 0x7f92080b9280>,\n",
       " <matplotlib.lines.Line2D at 0x7f92080b9340>,\n",
       " <matplotlib.lines.Line2D at 0x7f92080b9400>,\n",
       " <matplotlib.lines.Line2D at 0x7f92080b94c0>,\n",
       " <matplotlib.lines.Line2D at 0x7f92080b9580>,\n",
       " <matplotlib.lines.Line2D at 0x7f92080b9640>,\n",
       " <matplotlib.lines.Line2D at 0x7f92080b9700>,\n",
       " <matplotlib.lines.Line2D at 0x7f92080b97c0>,\n",
       " <matplotlib.lines.Line2D at 0x7f92080b9880>,\n",
       " <matplotlib.lines.Line2D at 0x7f92080b9940>,\n",
       " <matplotlib.lines.Line2D at 0x7f92080b9a00>,\n",
       " <matplotlib.lines.Line2D at 0x7f92080b9ac0>,\n",
       " <matplotlib.lines.Line2D at 0x7f92080b9b80>,\n",
       " <matplotlib.lines.Line2D at 0x7f92080b9c40>,\n",
       " <matplotlib.lines.Line2D at 0x7f92080b9d00>,\n",
       " <matplotlib.lines.Line2D at 0x7f92080b9dc0>,\n",
       " <matplotlib.lines.Line2D at 0x7f92080b9e80>,\n",
       " <matplotlib.lines.Line2D at 0x7f92080b9f40>,\n",
       " <matplotlib.lines.Line2D at 0x7f92080bf040>,\n",
       " <matplotlib.lines.Line2D at 0x7f92080bf100>,\n",
       " <matplotlib.lines.Line2D at 0x7f92080bf1c0>,\n",
       " <matplotlib.lines.Line2D at 0x7f92080bf280>,\n",
       " <matplotlib.lines.Line2D at 0x7f92080bf340>,\n",
       " <matplotlib.lines.Line2D at 0x7f92080bf400>,\n",
       " <matplotlib.lines.Line2D at 0x7f92080bf4c0>,\n",
       " <matplotlib.lines.Line2D at 0x7f92080bf580>,\n",
       " <matplotlib.lines.Line2D at 0x7f92080bf640>,\n",
       " <matplotlib.lines.Line2D at 0x7f92080bf700>,\n",
       " <matplotlib.lines.Line2D at 0x7f92080bf7c0>,\n",
       " <matplotlib.lines.Line2D at 0x7f92080bf880>,\n",
       " <matplotlib.lines.Line2D at 0x7f92080bf940>,\n",
       " <matplotlib.lines.Line2D at 0x7f92080bfa00>,\n",
       " <matplotlib.lines.Line2D at 0x7f92080bfac0>,\n",
       " <matplotlib.lines.Line2D at 0x7f92080bfb80>,\n",
       " <matplotlib.lines.Line2D at 0x7f92080bfc40>,\n",
       " <matplotlib.lines.Line2D at 0x7f92080bfd00>,\n",
       " <matplotlib.lines.Line2D at 0x7f92080bfdc0>,\n",
       " <matplotlib.lines.Line2D at 0x7f92080bfe80>,\n",
       " <matplotlib.lines.Line2D at 0x7f92080bff40>,\n",
       " <matplotlib.lines.Line2D at 0x7f92080c4040>,\n",
       " <matplotlib.lines.Line2D at 0x7f92080c4100>,\n",
       " <matplotlib.lines.Line2D at 0x7f92080c41c0>,\n",
       " <matplotlib.lines.Line2D at 0x7f92080c4280>,\n",
       " <matplotlib.lines.Line2D at 0x7f92080c4340>,\n",
       " <matplotlib.lines.Line2D at 0x7f92080c4400>,\n",
       " <matplotlib.lines.Line2D at 0x7f92080c44c0>,\n",
       " <matplotlib.lines.Line2D at 0x7f92080c4580>,\n",
       " <matplotlib.lines.Line2D at 0x7f92080c4640>,\n",
       " <matplotlib.lines.Line2D at 0x7f92080c4700>,\n",
       " <matplotlib.lines.Line2D at 0x7f92080c47c0>,\n",
       " <matplotlib.lines.Line2D at 0x7f92080c4880>,\n",
       " <matplotlib.lines.Line2D at 0x7f92080c4940>,\n",
       " <matplotlib.lines.Line2D at 0x7f92080c4a00>,\n",
       " <matplotlib.lines.Line2D at 0x7f92080c4ac0>,\n",
       " <matplotlib.lines.Line2D at 0x7f92080c4b80>,\n",
       " <matplotlib.lines.Line2D at 0x7f92080c4c40>,\n",
       " <matplotlib.lines.Line2D at 0x7f92080c4d00>,\n",
       " <matplotlib.lines.Line2D at 0x7f92080c4dc0>,\n",
       " <matplotlib.lines.Line2D at 0x7f92080c4e80>,\n",
       " <matplotlib.lines.Line2D at 0x7f92080c4f40>,\n",
       " <matplotlib.lines.Line2D at 0x7f92080ca040>,\n",
       " <matplotlib.lines.Line2D at 0x7f92080ca100>,\n",
       " <matplotlib.lines.Line2D at 0x7f92080ca1c0>,\n",
       " <matplotlib.lines.Line2D at 0x7f92080ca280>,\n",
       " <matplotlib.lines.Line2D at 0x7f92080ca340>,\n",
       " <matplotlib.lines.Line2D at 0x7f92080ca400>,\n",
       " <matplotlib.lines.Line2D at 0x7f92080ca4c0>,\n",
       " <matplotlib.lines.Line2D at 0x7f92080ca580>,\n",
       " <matplotlib.lines.Line2D at 0x7f92080ca640>,\n",
       " <matplotlib.lines.Line2D at 0x7f92080ca700>,\n",
       " <matplotlib.lines.Line2D at 0x7f92080ca7c0>,\n",
       " <matplotlib.lines.Line2D at 0x7f92080ca880>,\n",
       " <matplotlib.lines.Line2D at 0x7f92080ca940>,\n",
       " <matplotlib.lines.Line2D at 0x7f92080caa00>,\n",
       " <matplotlib.lines.Line2D at 0x7f92080caac0>,\n",
       " <matplotlib.lines.Line2D at 0x7f92080cab80>,\n",
       " <matplotlib.lines.Line2D at 0x7f92080cac40>,\n",
       " <matplotlib.lines.Line2D at 0x7f92080cad00>,\n",
       " <matplotlib.lines.Line2D at 0x7f92080cadc0>,\n",
       " <matplotlib.lines.Line2D at 0x7f92080cae80>,\n",
       " <matplotlib.lines.Line2D at 0x7f92080caf40>,\n",
       " <matplotlib.lines.Line2D at 0x7f92080d0040>,\n",
       " <matplotlib.lines.Line2D at 0x7f92080d0100>,\n",
       " <matplotlib.lines.Line2D at 0x7f92080d01c0>,\n",
       " <matplotlib.lines.Line2D at 0x7f92080d0280>,\n",
       " <matplotlib.lines.Line2D at 0x7f92080d0340>,\n",
       " <matplotlib.lines.Line2D at 0x7f92080d0400>,\n",
       " <matplotlib.lines.Line2D at 0x7f92080d04c0>,\n",
       " <matplotlib.lines.Line2D at 0x7f92080d0580>,\n",
       " <matplotlib.lines.Line2D at 0x7f92080d0640>,\n",
       " <matplotlib.lines.Line2D at 0x7f92080d0700>,\n",
       " <matplotlib.lines.Line2D at 0x7f92080d07c0>,\n",
       " <matplotlib.lines.Line2D at 0x7f92080d0880>,\n",
       " <matplotlib.lines.Line2D at 0x7f92080d0940>,\n",
       " <matplotlib.lines.Line2D at 0x7f92080d0a00>,\n",
       " <matplotlib.lines.Line2D at 0x7f92080d0ac0>,\n",
       " <matplotlib.lines.Line2D at 0x7f92080d0b80>,\n",
       " <matplotlib.lines.Line2D at 0x7f92080d0c40>,\n",
       " <matplotlib.lines.Line2D at 0x7f92080d0d00>,\n",
       " <matplotlib.lines.Line2D at 0x7f92080d0dc0>,\n",
       " <matplotlib.lines.Line2D at 0x7f92080d0e80>,\n",
       " <matplotlib.lines.Line2D at 0x7f92080d0f40>,\n",
       " <matplotlib.lines.Line2D at 0x7f92080d7040>,\n",
       " <matplotlib.lines.Line2D at 0x7f92080d7100>,\n",
       " <matplotlib.lines.Line2D at 0x7f92080d71c0>,\n",
       " <matplotlib.lines.Line2D at 0x7f92080d7280>,\n",
       " <matplotlib.lines.Line2D at 0x7f92080d7340>,\n",
       " <matplotlib.lines.Line2D at 0x7f92080d7400>,\n",
       " <matplotlib.lines.Line2D at 0x7f92080d74c0>,\n",
       " <matplotlib.lines.Line2D at 0x7f92080d7580>,\n",
       " <matplotlib.lines.Line2D at 0x7f92080d7640>,\n",
       " <matplotlib.lines.Line2D at 0x7f92080d7700>,\n",
       " <matplotlib.lines.Line2D at 0x7f92080d77c0>,\n",
       " <matplotlib.lines.Line2D at 0x7f92080d7880>,\n",
       " <matplotlib.lines.Line2D at 0x7f92080d7940>,\n",
       " <matplotlib.lines.Line2D at 0x7f92080d7a00>,\n",
       " <matplotlib.lines.Line2D at 0x7f92080d7ac0>,\n",
       " <matplotlib.lines.Line2D at 0x7f92080d7b80>,\n",
       " <matplotlib.lines.Line2D at 0x7f92080d7c40>,\n",
       " <matplotlib.lines.Line2D at 0x7f92080d7d00>,\n",
       " <matplotlib.lines.Line2D at 0x7f92080d7dc0>,\n",
       " <matplotlib.lines.Line2D at 0x7f92080d7e80>,\n",
       " <matplotlib.lines.Line2D at 0x7f92080d7f40>,\n",
       " <matplotlib.lines.Line2D at 0x7f92080dd040>,\n",
       " <matplotlib.lines.Line2D at 0x7f92080dd100>,\n",
       " <matplotlib.lines.Line2D at 0x7f92080dd1c0>,\n",
       " <matplotlib.lines.Line2D at 0x7f92080dd280>,\n",
       " <matplotlib.lines.Line2D at 0x7f92080dd340>,\n",
       " <matplotlib.lines.Line2D at 0x7f92080dd400>,\n",
       " <matplotlib.lines.Line2D at 0x7f92080dd4c0>,\n",
       " <matplotlib.lines.Line2D at 0x7f92080dd580>,\n",
       " <matplotlib.lines.Line2D at 0x7f92080dd640>,\n",
       " <matplotlib.lines.Line2D at 0x7f92080dd700>,\n",
       " <matplotlib.lines.Line2D at 0x7f92080dd7c0>,\n",
       " <matplotlib.lines.Line2D at 0x7f92080dd880>,\n",
       " <matplotlib.lines.Line2D at 0x7f92080dd940>,\n",
       " <matplotlib.lines.Line2D at 0x7f92080dda00>,\n",
       " <matplotlib.lines.Line2D at 0x7f92080ddac0>,\n",
       " <matplotlib.lines.Line2D at 0x7f92080ddb80>,\n",
       " <matplotlib.lines.Line2D at 0x7f92080ddc40>,\n",
       " <matplotlib.lines.Line2D at 0x7f92080ddd00>,\n",
       " <matplotlib.lines.Line2D at 0x7f92080dddc0>,\n",
       " <matplotlib.lines.Line2D at 0x7f92080dde80>,\n",
       " <matplotlib.lines.Line2D at 0x7f92080ddf40>,\n",
       " <matplotlib.lines.Line2D at 0x7f92080e3040>,\n",
       " <matplotlib.lines.Line2D at 0x7f92080e3100>,\n",
       " <matplotlib.lines.Line2D at 0x7f92080e31c0>,\n",
       " <matplotlib.lines.Line2D at 0x7f92080e3280>,\n",
       " <matplotlib.lines.Line2D at 0x7f92080e3340>,\n",
       " <matplotlib.lines.Line2D at 0x7f92080e3400>,\n",
       " <matplotlib.lines.Line2D at 0x7f92080e34c0>,\n",
       " <matplotlib.lines.Line2D at 0x7f92080e3580>,\n",
       " <matplotlib.lines.Line2D at 0x7f92080e3640>,\n",
       " <matplotlib.lines.Line2D at 0x7f92080e3700>,\n",
       " <matplotlib.lines.Line2D at 0x7f92080e37c0>,\n",
       " <matplotlib.lines.Line2D at 0x7f92080e3880>,\n",
       " <matplotlib.lines.Line2D at 0x7f92080e3940>,\n",
       " <matplotlib.lines.Line2D at 0x7f92080e3a00>,\n",
       " <matplotlib.lines.Line2D at 0x7f92080e3ac0>,\n",
       " <matplotlib.lines.Line2D at 0x7f92080e3b80>,\n",
       " <matplotlib.lines.Line2D at 0x7f92080e3c40>,\n",
       " <matplotlib.lines.Line2D at 0x7f92080e3d00>,\n",
       " <matplotlib.lines.Line2D at 0x7f92080e3dc0>,\n",
       " <matplotlib.lines.Line2D at 0x7f92080e3e80>,\n",
       " <matplotlib.lines.Line2D at 0x7f92080e3f40>,\n",
       " <matplotlib.lines.Line2D at 0x7f92080e9040>,\n",
       " <matplotlib.lines.Line2D at 0x7f92080e9100>,\n",
       " <matplotlib.lines.Line2D at 0x7f92080e91c0>,\n",
       " <matplotlib.lines.Line2D at 0x7f92080e9280>,\n",
       " <matplotlib.lines.Line2D at 0x7f92080e9340>,\n",
       " <matplotlib.lines.Line2D at 0x7f92080e9400>,\n",
       " <matplotlib.lines.Line2D at 0x7f92080e94c0>,\n",
       " <matplotlib.lines.Line2D at 0x7f92080e9580>,\n",
       " <matplotlib.lines.Line2D at 0x7f92080e9640>,\n",
       " <matplotlib.lines.Line2D at 0x7f92080e9700>,\n",
       " <matplotlib.lines.Line2D at 0x7f92080e97c0>,\n",
       " <matplotlib.lines.Line2D at 0x7f92080e9880>,\n",
       " <matplotlib.lines.Line2D at 0x7f92080e9940>,\n",
       " <matplotlib.lines.Line2D at 0x7f92080e9a00>,\n",
       " <matplotlib.lines.Line2D at 0x7f92080e9ac0>,\n",
       " <matplotlib.lines.Line2D at 0x7f92080e9b80>,\n",
       " <matplotlib.lines.Line2D at 0x7f92080e9c40>,\n",
       " <matplotlib.lines.Line2D at 0x7f92080e9d00>,\n",
       " <matplotlib.lines.Line2D at 0x7f92080e9dc0>,\n",
       " <matplotlib.lines.Line2D at 0x7f92080e9e80>,\n",
       " <matplotlib.lines.Line2D at 0x7f92080e9f40>,\n",
       " <matplotlib.lines.Line2D at 0x7f92080ef040>,\n",
       " <matplotlib.lines.Line2D at 0x7f92080ef100>,\n",
       " <matplotlib.lines.Line2D at 0x7f92080ef1c0>,\n",
       " <matplotlib.lines.Line2D at 0x7f92080ef280>,\n",
       " <matplotlib.lines.Line2D at 0x7f92080ef340>,\n",
       " <matplotlib.lines.Line2D at 0x7f92080ef400>,\n",
       " <matplotlib.lines.Line2D at 0x7f92080ef4c0>,\n",
       " <matplotlib.lines.Line2D at 0x7f92080ef580>,\n",
       " <matplotlib.lines.Line2D at 0x7f92080ef640>,\n",
       " <matplotlib.lines.Line2D at 0x7f92080ef700>,\n",
       " <matplotlib.lines.Line2D at 0x7f92080ef7c0>,\n",
       " <matplotlib.lines.Line2D at 0x7f92080ef880>,\n",
       " <matplotlib.lines.Line2D at 0x7f92080ef940>,\n",
       " <matplotlib.lines.Line2D at 0x7f92080efa00>,\n",
       " <matplotlib.lines.Line2D at 0x7f92080efac0>,\n",
       " <matplotlib.lines.Line2D at 0x7f92080efb80>,\n",
       " <matplotlib.lines.Line2D at 0x7f92080efc40>,\n",
       " <matplotlib.lines.Line2D at 0x7f92080efd00>,\n",
       " <matplotlib.lines.Line2D at 0x7f92080efdc0>,\n",
       " <matplotlib.lines.Line2D at 0x7f92080efe80>,\n",
       " <matplotlib.lines.Line2D at 0x7f92080eff40>,\n",
       " <matplotlib.lines.Line2D at 0x7f92080f5040>,\n",
       " <matplotlib.lines.Line2D at 0x7f92080f5100>,\n",
       " <matplotlib.lines.Line2D at 0x7f92080f51c0>,\n",
       " <matplotlib.lines.Line2D at 0x7f92080f5280>,\n",
       " <matplotlib.lines.Line2D at 0x7f920854b3a0>,\n",
       " <matplotlib.lines.Line2D at 0x7f920854b280>,\n",
       " <matplotlib.lines.Line2D at 0x7f920854bac0>,\n",
       " <matplotlib.lines.Line2D at 0x7f920854b160>,\n",
       " <matplotlib.lines.Line2D at 0x7f920854b130>,\n",
       " <matplotlib.lines.Line2D at 0x7f920854b0d0>,\n",
       " <matplotlib.lines.Line2D at 0x7f920854b8e0>,\n",
       " <matplotlib.lines.Line2D at 0x7f920854b7f0>,\n",
       " <matplotlib.lines.Line2D at 0x7f920854b880>,\n",
       " <matplotlib.lines.Line2D at 0x7f920854bee0>,\n",
       " <matplotlib.lines.Line2D at 0x7f920854b700>,\n",
       " <matplotlib.lines.Line2D at 0x7f920854b6d0>,\n",
       " <matplotlib.lines.Line2D at 0x7f920854be80>,\n",
       " <matplotlib.lines.Line2D at 0x7f920854b2e0>,\n",
       " <matplotlib.lines.Line2D at 0x7f920854bb20>,\n",
       " <matplotlib.lines.Line2D at 0x7f920854ba30>,\n",
       " <matplotlib.lines.Line2D at 0x7f920854b9a0>,\n",
       " <matplotlib.lines.Line2D at 0x7f920854b250>,\n",
       " <matplotlib.lines.Line2D at 0x7f920854bc40>,\n",
       " <matplotlib.lines.Line2D at 0x7f920854be20>,\n",
       " <matplotlib.lines.Line2D at 0x7f920854bf70>,\n",
       " <matplotlib.lines.Line2D at 0x7f920946c520>,\n",
       " <matplotlib.lines.Line2D at 0x7f92082b1700>,\n",
       " <matplotlib.lines.Line2D at 0x7f92082b10a0>,\n",
       " <matplotlib.lines.Line2D at 0x7f92082b15b0>,\n",
       " <matplotlib.lines.Line2D at 0x7f92082b1dc0>,\n",
       " <matplotlib.lines.Line2D at 0x7f92082b1cd0>,\n",
       " <matplotlib.lines.Line2D at 0x7f92082b1d90>,\n",
       " <matplotlib.lines.Line2D at 0x7f92082b1ac0>,\n",
       " <matplotlib.lines.Line2D at 0x7f92082b1b80>,\n",
       " <matplotlib.lines.Line2D at 0x7f92082b1580>,\n",
       " <matplotlib.lines.Line2D at 0x7f920855ab50>,\n",
       " <matplotlib.lines.Line2D at 0x7f920855a400>,\n",
       " <matplotlib.lines.Line2D at 0x7f920855abe0>,\n",
       " <matplotlib.lines.Line2D at 0x7f920855a1c0>,\n",
       " <matplotlib.lines.Line2D at 0x7f920855a700>,\n",
       " <matplotlib.lines.Line2D at 0x7f920855a280>,\n",
       " <matplotlib.lines.Line2D at 0x7f920855aa00>,\n",
       " <matplotlib.lines.Line2D at 0x7f920855a3d0>,\n",
       " <matplotlib.lines.Line2D at 0x7f920855a220>,\n",
       " <matplotlib.lines.Line2D at 0x7f920855a430>,\n",
       " <matplotlib.lines.Line2D at 0x7f920855a610>,\n",
       " <matplotlib.lines.Line2D at 0x7f920855a8e0>,\n",
       " <matplotlib.lines.Line2D at 0x7f920855aca0>,\n",
       " <matplotlib.lines.Line2D at 0x7f920855a0a0>,\n",
       " <matplotlib.lines.Line2D at 0x7f920855ad30>,\n",
       " <matplotlib.lines.Line2D at 0x7f920855a3a0>,\n",
       " <matplotlib.lines.Line2D at 0x7f920855ad60>,\n",
       " <matplotlib.lines.Line2D at 0x7f920855a460>,\n",
       " <matplotlib.lines.Line2D at 0x7f920855a5b0>,\n",
       " <matplotlib.lines.Line2D at 0x7f920855a6a0>,\n",
       " <matplotlib.lines.Line2D at 0x7f920855a820>,\n",
       " <matplotlib.lines.Line2D at 0x7f922a9468e0>,\n",
       " <matplotlib.lines.Line2D at 0x7f92080f5430>,\n",
       " <matplotlib.lines.Line2D at 0x7f92080f54f0>,\n",
       " <matplotlib.lines.Line2D at 0x7f92080f55b0>,\n",
       " <matplotlib.lines.Line2D at 0x7f92080f5670>,\n",
       " <matplotlib.lines.Line2D at 0x7f92080f5730>,\n",
       " <matplotlib.lines.Line2D at 0x7f92080f57f0>,\n",
       " <matplotlib.lines.Line2D at 0x7f92080f58b0>,\n",
       " <matplotlib.lines.Line2D at 0x7f92080f5970>,\n",
       " <matplotlib.lines.Line2D at 0x7f92080f5a30>,\n",
       " <matplotlib.lines.Line2D at 0x7f92080f5af0>,\n",
       " <matplotlib.lines.Line2D at 0x7f92080f5bb0>,\n",
       " <matplotlib.lines.Line2D at 0x7f92080f5c70>,\n",
       " <matplotlib.lines.Line2D at 0x7f92080f5d30>,\n",
       " <matplotlib.lines.Line2D at 0x7f92080f5df0>,\n",
       " <matplotlib.lines.Line2D at 0x7f92080f5eb0>,\n",
       " <matplotlib.lines.Line2D at 0x7f92080f5f70>,\n",
       " <matplotlib.lines.Line2D at 0x7f9208466070>,\n",
       " <matplotlib.lines.Line2D at 0x7f9208466130>,\n",
       " <matplotlib.lines.Line2D at 0x7f92084661f0>,\n",
       " <matplotlib.lines.Line2D at 0x7f92084662b0>,\n",
       " <matplotlib.lines.Line2D at 0x7f9208466370>,\n",
       " <matplotlib.lines.Line2D at 0x7f9208466430>,\n",
       " <matplotlib.lines.Line2D at 0x7f92084664f0>,\n",
       " <matplotlib.lines.Line2D at 0x7f92084665b0>,\n",
       " <matplotlib.lines.Line2D at 0x7f9208466670>,\n",
       " <matplotlib.lines.Line2D at 0x7f9208466730>,\n",
       " <matplotlib.lines.Line2D at 0x7f92084667f0>,\n",
       " <matplotlib.lines.Line2D at 0x7f92084668b0>,\n",
       " <matplotlib.lines.Line2D at 0x7f9208466970>,\n",
       " <matplotlib.lines.Line2D at 0x7f9208466a30>,\n",
       " <matplotlib.lines.Line2D at 0x7f9208466af0>,\n",
       " <matplotlib.lines.Line2D at 0x7f9208466bb0>,\n",
       " <matplotlib.lines.Line2D at 0x7f9208466c70>,\n",
       " <matplotlib.lines.Line2D at 0x7f9208466d30>,\n",
       " <matplotlib.lines.Line2D at 0x7f9208466df0>,\n",
       " <matplotlib.lines.Line2D at 0x7f9208466eb0>,\n",
       " <matplotlib.lines.Line2D at 0x7f9208466f70>,\n",
       " <matplotlib.lines.Line2D at 0x7f920807d070>,\n",
       " <matplotlib.lines.Line2D at 0x7f920807d130>,\n",
       " <matplotlib.lines.Line2D at 0x7f920807d1f0>,\n",
       " <matplotlib.lines.Line2D at 0x7f920807d2b0>,\n",
       " <matplotlib.lines.Line2D at 0x7f920807d370>,\n",
       " <matplotlib.lines.Line2D at 0x7f920807d430>,\n",
       " <matplotlib.lines.Line2D at 0x7f920807d4f0>,\n",
       " <matplotlib.lines.Line2D at 0x7f920807d5b0>,\n",
       " <matplotlib.lines.Line2D at 0x7f920807d670>,\n",
       " <matplotlib.lines.Line2D at 0x7f920807d730>,\n",
       " <matplotlib.lines.Line2D at 0x7f920807d7f0>,\n",
       " <matplotlib.lines.Line2D at 0x7f920807d8b0>,\n",
       " <matplotlib.lines.Line2D at 0x7f920807d970>,\n",
       " <matplotlib.lines.Line2D at 0x7f920807da30>,\n",
       " <matplotlib.lines.Line2D at 0x7f920807daf0>,\n",
       " <matplotlib.lines.Line2D at 0x7f920807dbb0>,\n",
       " <matplotlib.lines.Line2D at 0x7f920807dc70>,\n",
       " <matplotlib.lines.Line2D at 0x7f920807dd30>,\n",
       " <matplotlib.lines.Line2D at 0x7f920807ddf0>,\n",
       " <matplotlib.lines.Line2D at 0x7f920807deb0>,\n",
       " <matplotlib.lines.Line2D at 0x7f920807df70>,\n",
       " <matplotlib.lines.Line2D at 0x7f9208083070>,\n",
       " <matplotlib.lines.Line2D at 0x7f9208083130>,\n",
       " <matplotlib.lines.Line2D at 0x7f92080831f0>,\n",
       " <matplotlib.lines.Line2D at 0x7f92080832b0>,\n",
       " <matplotlib.lines.Line2D at 0x7f9208083370>,\n",
       " <matplotlib.lines.Line2D at 0x7f9208083430>,\n",
       " <matplotlib.lines.Line2D at 0x7f92080834f0>,\n",
       " <matplotlib.lines.Line2D at 0x7f92080835b0>,\n",
       " <matplotlib.lines.Line2D at 0x7f9208083670>,\n",
       " <matplotlib.lines.Line2D at 0x7f9208083730>,\n",
       " <matplotlib.lines.Line2D at 0x7f92080837f0>,\n",
       " <matplotlib.lines.Line2D at 0x7f92080838b0>,\n",
       " <matplotlib.lines.Line2D at 0x7f9208083970>,\n",
       " <matplotlib.lines.Line2D at 0x7f9208083a30>,\n",
       " <matplotlib.lines.Line2D at 0x7f9208083af0>,\n",
       " <matplotlib.lines.Line2D at 0x7f9208083bb0>,\n",
       " <matplotlib.lines.Line2D at 0x7f9208083c70>,\n",
       " <matplotlib.lines.Line2D at 0x7f9208083d30>,\n",
       " <matplotlib.lines.Line2D at 0x7f9208083df0>,\n",
       " <matplotlib.lines.Line2D at 0x7f9208083eb0>,\n",
       " <matplotlib.lines.Line2D at 0x7f9208083f70>,\n",
       " <matplotlib.lines.Line2D at 0x7f9208089070>,\n",
       " <matplotlib.lines.Line2D at 0x7f9208089130>,\n",
       " <matplotlib.lines.Line2D at 0x7f92080891f0>,\n",
       " <matplotlib.lines.Line2D at 0x7f92080892b0>,\n",
       " <matplotlib.lines.Line2D at 0x7f9208089370>,\n",
       " <matplotlib.lines.Line2D at 0x7f9208089430>,\n",
       " <matplotlib.lines.Line2D at 0x7f92080894f0>,\n",
       " <matplotlib.lines.Line2D at 0x7f92080895b0>,\n",
       " <matplotlib.lines.Line2D at 0x7f9208089670>,\n",
       " <matplotlib.lines.Line2D at 0x7f9208089730>,\n",
       " <matplotlib.lines.Line2D at 0x7f92080897f0>,\n",
       " <matplotlib.lines.Line2D at 0x7f92080898b0>,\n",
       " <matplotlib.lines.Line2D at 0x7f9208089970>,\n",
       " <matplotlib.lines.Line2D at 0x7f9208089a30>,\n",
       " <matplotlib.lines.Line2D at 0x7f9208089af0>,\n",
       " <matplotlib.lines.Line2D at 0x7f9208089bb0>,\n",
       " <matplotlib.lines.Line2D at 0x7f9208089c70>,\n",
       " <matplotlib.lines.Line2D at 0x7f9208089d30>,\n",
       " <matplotlib.lines.Line2D at 0x7f9208089df0>,\n",
       " <matplotlib.lines.Line2D at 0x7f9208089eb0>,\n",
       " <matplotlib.lines.Line2D at 0x7f9208089f70>,\n",
       " <matplotlib.lines.Line2D at 0x7f920808f070>,\n",
       " <matplotlib.lines.Line2D at 0x7f920808f130>,\n",
       " <matplotlib.lines.Line2D at 0x7f920808f1f0>,\n",
       " <matplotlib.lines.Line2D at 0x7f920808f2b0>,\n",
       " <matplotlib.lines.Line2D at 0x7f920808f370>,\n",
       " <matplotlib.lines.Line2D at 0x7f920808f430>,\n",
       " <matplotlib.lines.Line2D at 0x7f920808f4f0>,\n",
       " <matplotlib.lines.Line2D at 0x7f920808f5b0>,\n",
       " <matplotlib.lines.Line2D at 0x7f920808f670>,\n",
       " <matplotlib.lines.Line2D at 0x7f920808f730>,\n",
       " <matplotlib.lines.Line2D at 0x7f920808f7f0>,\n",
       " <matplotlib.lines.Line2D at 0x7f920808f8b0>,\n",
       " <matplotlib.lines.Line2D at 0x7f920808f970>,\n",
       " <matplotlib.lines.Line2D at 0x7f920808fa30>,\n",
       " <matplotlib.lines.Line2D at 0x7f920808faf0>,\n",
       " <matplotlib.lines.Line2D at 0x7f920808fbb0>,\n",
       " <matplotlib.lines.Line2D at 0x7f920808fc70>,\n",
       " <matplotlib.lines.Line2D at 0x7f920808fd30>,\n",
       " <matplotlib.lines.Line2D at 0x7f920808fdf0>,\n",
       " <matplotlib.lines.Line2D at 0x7f920808feb0>,\n",
       " <matplotlib.lines.Line2D at 0x7f920808ff70>,\n",
       " <matplotlib.lines.Line2D at 0x7f9208095070>,\n",
       " <matplotlib.lines.Line2D at 0x7f9208095130>,\n",
       " <matplotlib.lines.Line2D at 0x7f92080951f0>,\n",
       " <matplotlib.lines.Line2D at 0x7f92080952b0>,\n",
       " <matplotlib.lines.Line2D at 0x7f9208095370>,\n",
       " <matplotlib.lines.Line2D at 0x7f9208095430>,\n",
       " <matplotlib.lines.Line2D at 0x7f92080954f0>,\n",
       " <matplotlib.lines.Line2D at 0x7f92080955b0>,\n",
       " <matplotlib.lines.Line2D at 0x7f9208095670>,\n",
       " <matplotlib.lines.Line2D at 0x7f9208095730>,\n",
       " <matplotlib.lines.Line2D at 0x7f92080957f0>,\n",
       " <matplotlib.lines.Line2D at 0x7f92080958b0>,\n",
       " <matplotlib.lines.Line2D at 0x7f9208095970>,\n",
       " <matplotlib.lines.Line2D at 0x7f9208095a30>,\n",
       " <matplotlib.lines.Line2D at 0x7f9208095af0>,\n",
       " <matplotlib.lines.Line2D at 0x7f9208095bb0>,\n",
       " <matplotlib.lines.Line2D at 0x7f9208095c70>,\n",
       " <matplotlib.lines.Line2D at 0x7f9208095d30>,\n",
       " <matplotlib.lines.Line2D at 0x7f9208095df0>,\n",
       " <matplotlib.lines.Line2D at 0x7f9208095eb0>,\n",
       " <matplotlib.lines.Line2D at 0x7f9208095f70>,\n",
       " <matplotlib.lines.Line2D at 0x7f920809b070>,\n",
       " <matplotlib.lines.Line2D at 0x7f920809b130>,\n",
       " <matplotlib.lines.Line2D at 0x7f920809b1f0>,\n",
       " <matplotlib.lines.Line2D at 0x7f920809b2b0>,\n",
       " <matplotlib.lines.Line2D at 0x7f920809b370>,\n",
       " <matplotlib.lines.Line2D at 0x7f920809b430>,\n",
       " <matplotlib.lines.Line2D at 0x7f920809b4f0>,\n",
       " <matplotlib.lines.Line2D at 0x7f920809b5b0>,\n",
       " <matplotlib.lines.Line2D at 0x7f920809b670>,\n",
       " <matplotlib.lines.Line2D at 0x7f920809b730>,\n",
       " <matplotlib.lines.Line2D at 0x7f920809b7f0>,\n",
       " <matplotlib.lines.Line2D at 0x7f920809b8b0>,\n",
       " <matplotlib.lines.Line2D at 0x7f920809b970>,\n",
       " <matplotlib.lines.Line2D at 0x7f920809ba30>,\n",
       " <matplotlib.lines.Line2D at 0x7f920809baf0>,\n",
       " <matplotlib.lines.Line2D at 0x7f920809bbb0>,\n",
       " <matplotlib.lines.Line2D at 0x7f920809bc70>,\n",
       " <matplotlib.lines.Line2D at 0x7f920809bd30>,\n",
       " <matplotlib.lines.Line2D at 0x7f920809bdf0>,\n",
       " <matplotlib.lines.Line2D at 0x7f920809beb0>,\n",
       " <matplotlib.lines.Line2D at 0x7f920809bf70>,\n",
       " <matplotlib.lines.Line2D at 0x7f92080a0070>,\n",
       " <matplotlib.lines.Line2D at 0x7f92080a0130>,\n",
       " <matplotlib.lines.Line2D at 0x7f92080a01f0>,\n",
       " <matplotlib.lines.Line2D at 0x7f92080a02b0>,\n",
       " <matplotlib.lines.Line2D at 0x7f92080a0370>,\n",
       " <matplotlib.lines.Line2D at 0x7f92080a0430>,\n",
       " <matplotlib.lines.Line2D at 0x7f92080a04f0>,\n",
       " <matplotlib.lines.Line2D at 0x7f92080a05b0>,\n",
       " <matplotlib.lines.Line2D at 0x7f92080a0670>,\n",
       " <matplotlib.lines.Line2D at 0x7f92080a0730>,\n",
       " <matplotlib.lines.Line2D at 0x7f92080a07f0>,\n",
       " <matplotlib.lines.Line2D at 0x7f92080a08b0>,\n",
       " <matplotlib.lines.Line2D at 0x7f92080a0970>,\n",
       " <matplotlib.lines.Line2D at 0x7f92080a0a30>,\n",
       " <matplotlib.lines.Line2D at 0x7f92080a0af0>,\n",
       " <matplotlib.lines.Line2D at 0x7f92080a0bb0>,\n",
       " <matplotlib.lines.Line2D at 0x7f92080a0c70>,\n",
       " <matplotlib.lines.Line2D at 0x7f92080a0d30>,\n",
       " <matplotlib.lines.Line2D at 0x7f92080a0df0>,\n",
       " <matplotlib.lines.Line2D at 0x7f92080a0eb0>,\n",
       " <matplotlib.lines.Line2D at 0x7f92080a0f70>,\n",
       " <matplotlib.lines.Line2D at 0x7f92080a6070>,\n",
       " <matplotlib.lines.Line2D at 0x7f92080a6130>,\n",
       " <matplotlib.lines.Line2D at 0x7f92080a61f0>,\n",
       " <matplotlib.lines.Line2D at 0x7f92080a62b0>,\n",
       " <matplotlib.lines.Line2D at 0x7f92080a6370>,\n",
       " <matplotlib.lines.Line2D at 0x7f92080a6430>,\n",
       " <matplotlib.lines.Line2D at 0x7f92080a64f0>,\n",
       " <matplotlib.lines.Line2D at 0x7f92080a65b0>,\n",
       " <matplotlib.lines.Line2D at 0x7f92080a6670>,\n",
       " <matplotlib.lines.Line2D at 0x7f92080a6730>,\n",
       " <matplotlib.lines.Line2D at 0x7f92080a67f0>,\n",
       " <matplotlib.lines.Line2D at 0x7f92080a68b0>,\n",
       " <matplotlib.lines.Line2D at 0x7f92080a6970>,\n",
       " <matplotlib.lines.Line2D at 0x7f92080a6a30>,\n",
       " <matplotlib.lines.Line2D at 0x7f92080a6af0>,\n",
       " <matplotlib.lines.Line2D at 0x7f92080a6bb0>,\n",
       " <matplotlib.lines.Line2D at 0x7f92080a6c70>,\n",
       " <matplotlib.lines.Line2D at 0x7f92080a6d30>,\n",
       " <matplotlib.lines.Line2D at 0x7f92080a6df0>,\n",
       " <matplotlib.lines.Line2D at 0x7f92080a6eb0>,\n",
       " <matplotlib.lines.Line2D at 0x7f92080a6f70>,\n",
       " <matplotlib.lines.Line2D at 0x7f92080ac070>,\n",
       " <matplotlib.lines.Line2D at 0x7f92080ac130>,\n",
       " <matplotlib.lines.Line2D at 0x7f92080ac1f0>,\n",
       " <matplotlib.lines.Line2D at 0x7f92080ac2b0>,\n",
       " <matplotlib.lines.Line2D at 0x7f92080ac370>,\n",
       " <matplotlib.lines.Line2D at 0x7f92080ac430>,\n",
       " <matplotlib.lines.Line2D at 0x7f92080ac4f0>,\n",
       " <matplotlib.lines.Line2D at 0x7f92080ac5b0>,\n",
       " <matplotlib.lines.Line2D at 0x7f92080ac670>,\n",
       " <matplotlib.lines.Line2D at 0x7f92080ac730>,\n",
       " <matplotlib.lines.Line2D at 0x7f92080ac7f0>,\n",
       " <matplotlib.lines.Line2D at 0x7f92080ac8b0>,\n",
       " <matplotlib.lines.Line2D at 0x7f92080ac970>,\n",
       " <matplotlib.lines.Line2D at 0x7f92080aca30>,\n",
       " <matplotlib.lines.Line2D at 0x7f92080acaf0>,\n",
       " <matplotlib.lines.Line2D at 0x7f92080acbb0>,\n",
       " <matplotlib.lines.Line2D at 0x7f92080acc70>,\n",
       " <matplotlib.lines.Line2D at 0x7f92080acd30>,\n",
       " <matplotlib.lines.Line2D at 0x7f92080acdf0>,\n",
       " <matplotlib.lines.Line2D at 0x7f92080aceb0>,\n",
       " <matplotlib.lines.Line2D at 0x7f92080acf70>,\n",
       " <matplotlib.lines.Line2D at 0x7f92080b2070>,\n",
       " <matplotlib.lines.Line2D at 0x7f92080b2130>,\n",
       " <matplotlib.lines.Line2D at 0x7f92080b21f0>,\n",
       " <matplotlib.lines.Line2D at 0x7f92080b22b0>,\n",
       " <matplotlib.lines.Line2D at 0x7f92080b2370>,\n",
       " <matplotlib.lines.Line2D at 0x7f92080b2430>,\n",
       " <matplotlib.lines.Line2D at 0x7f92080b24f0>,\n",
       " <matplotlib.lines.Line2D at 0x7f92080b25b0>,\n",
       " <matplotlib.lines.Line2D at 0x7f92080b2670>,\n",
       " <matplotlib.lines.Line2D at 0x7f92080b2730>,\n",
       " <matplotlib.lines.Line2D at 0x7f92080b27f0>,\n",
       " <matplotlib.lines.Line2D at 0x7f92080b28b0>,\n",
       " <matplotlib.lines.Line2D at 0x7f92080b2970>,\n",
       " <matplotlib.lines.Line2D at 0x7f92080b2a30>,\n",
       " <matplotlib.lines.Line2D at 0x7f92080b2af0>,\n",
       " <matplotlib.lines.Line2D at 0x7f92080b2bb0>,\n",
       " <matplotlib.lines.Line2D at 0x7f92080b2c70>,\n",
       " <matplotlib.lines.Line2D at 0x7f92080b2d30>,\n",
       " <matplotlib.lines.Line2D at 0x7f92080b2df0>,\n",
       " <matplotlib.lines.Line2D at 0x7f92080b2eb0>,\n",
       " <matplotlib.lines.Line2D at 0x7f92080b2f70>,\n",
       " <matplotlib.lines.Line2D at 0x7f9208038070>,\n",
       " <matplotlib.lines.Line2D at 0x7f9208038130>,\n",
       " <matplotlib.lines.Line2D at 0x7f92080381f0>,\n",
       " <matplotlib.lines.Line2D at 0x7f92080382b0>,\n",
       " <matplotlib.lines.Line2D at 0x7f9208038370>,\n",
       " <matplotlib.lines.Line2D at 0x7f9208038430>,\n",
       " <matplotlib.lines.Line2D at 0x7f92080384f0>,\n",
       " <matplotlib.lines.Line2D at 0x7f92080385b0>,\n",
       " <matplotlib.lines.Line2D at 0x7f9208038670>,\n",
       " <matplotlib.lines.Line2D at 0x7f9208038730>,\n",
       " <matplotlib.lines.Line2D at 0x7f92080387f0>,\n",
       " <matplotlib.lines.Line2D at 0x7f92080388b0>,\n",
       " <matplotlib.lines.Line2D at 0x7f9208038970>,\n",
       " <matplotlib.lines.Line2D at 0x7f9208038a30>,\n",
       " <matplotlib.lines.Line2D at 0x7f9208038af0>,\n",
       " <matplotlib.lines.Line2D at 0x7f9208038bb0>,\n",
       " <matplotlib.lines.Line2D at 0x7f9208038c70>,\n",
       " <matplotlib.lines.Line2D at 0x7f9208038d30>,\n",
       " <matplotlib.lines.Line2D at 0x7f9208038df0>,\n",
       " <matplotlib.lines.Line2D at 0x7f9208038eb0>,\n",
       " <matplotlib.lines.Line2D at 0x7f9208038f70>,\n",
       " <matplotlib.lines.Line2D at 0x7f920803e070>,\n",
       " <matplotlib.lines.Line2D at 0x7f920803e130>,\n",
       " <matplotlib.lines.Line2D at 0x7f920803e1f0>,\n",
       " <matplotlib.lines.Line2D at 0x7f920803e2b0>,\n",
       " <matplotlib.lines.Line2D at 0x7f920803e370>,\n",
       " <matplotlib.lines.Line2D at 0x7f920803e430>,\n",
       " <matplotlib.lines.Line2D at 0x7f920803e4f0>,\n",
       " <matplotlib.lines.Line2D at 0x7f920803e5b0>,\n",
       " <matplotlib.lines.Line2D at 0x7f920803e670>,\n",
       " <matplotlib.lines.Line2D at 0x7f920803e730>,\n",
       " <matplotlib.lines.Line2D at 0x7f920803e7f0>,\n",
       " <matplotlib.lines.Line2D at 0x7f920803e8b0>,\n",
       " <matplotlib.lines.Line2D at 0x7f920803e970>,\n",
       " <matplotlib.lines.Line2D at 0x7f920803ea30>,\n",
       " <matplotlib.lines.Line2D at 0x7f920803eaf0>,\n",
       " <matplotlib.lines.Line2D at 0x7f920803ebb0>,\n",
       " <matplotlib.lines.Line2D at 0x7f920803ec70>,\n",
       " <matplotlib.lines.Line2D at 0x7f920803ed30>,\n",
       " <matplotlib.lines.Line2D at 0x7f920803edf0>,\n",
       " <matplotlib.lines.Line2D at 0x7f920803eeb0>,\n",
       " <matplotlib.lines.Line2D at 0x7f920803ef70>,\n",
       " <matplotlib.lines.Line2D at 0x7f9208044070>,\n",
       " <matplotlib.lines.Line2D at 0x7f9208044130>,\n",
       " <matplotlib.lines.Line2D at 0x7f92080441f0>,\n",
       " <matplotlib.lines.Line2D at 0x7f92080442b0>,\n",
       " <matplotlib.lines.Line2D at 0x7f9208044370>,\n",
       " <matplotlib.lines.Line2D at 0x7f9208044430>,\n",
       " <matplotlib.lines.Line2D at 0x7f92080444f0>,\n",
       " <matplotlib.lines.Line2D at 0x7f92080445b0>,\n",
       " <matplotlib.lines.Line2D at 0x7f9208044670>,\n",
       " <matplotlib.lines.Line2D at 0x7f9208044730>,\n",
       " <matplotlib.lines.Line2D at 0x7f92080447f0>,\n",
       " <matplotlib.lines.Line2D at 0x7f92080448b0>,\n",
       " <matplotlib.lines.Line2D at 0x7f9208044970>,\n",
       " <matplotlib.lines.Line2D at 0x7f9208044a30>,\n",
       " <matplotlib.lines.Line2D at 0x7f9208044af0>,\n",
       " <matplotlib.lines.Line2D at 0x7f9208044bb0>,\n",
       " <matplotlib.lines.Line2D at 0x7f9208044c70>,\n",
       " <matplotlib.lines.Line2D at 0x7f9208044d30>,\n",
       " <matplotlib.lines.Line2D at 0x7f9208044df0>,\n",
       " <matplotlib.lines.Line2D at 0x7f9208044eb0>,\n",
       " <matplotlib.lines.Line2D at 0x7f9208044f70>,\n",
       " <matplotlib.lines.Line2D at 0x7f920804a070>,\n",
       " <matplotlib.lines.Line2D at 0x7f920804a130>,\n",
       " <matplotlib.lines.Line2D at 0x7f920804a1f0>,\n",
       " <matplotlib.lines.Line2D at 0x7f920804a2b0>,\n",
       " <matplotlib.lines.Line2D at 0x7f920804a370>,\n",
       " <matplotlib.lines.Line2D at 0x7f920804a430>,\n",
       " <matplotlib.lines.Line2D at 0x7f920804a4f0>,\n",
       " <matplotlib.lines.Line2D at 0x7f920804a5b0>,\n",
       " <matplotlib.lines.Line2D at 0x7f920804a670>,\n",
       " <matplotlib.lines.Line2D at 0x7f920804a730>,\n",
       " <matplotlib.lines.Line2D at 0x7f920804a7f0>,\n",
       " <matplotlib.lines.Line2D at 0x7f920804a8b0>,\n",
       " <matplotlib.lines.Line2D at 0x7f920804a970>,\n",
       " <matplotlib.lines.Line2D at 0x7f920804aa30>,\n",
       " <matplotlib.lines.Line2D at 0x7f920804aaf0>,\n",
       " <matplotlib.lines.Line2D at 0x7f920804abb0>,\n",
       " <matplotlib.lines.Line2D at 0x7f920804ac70>,\n",
       " <matplotlib.lines.Line2D at 0x7f920804ad30>,\n",
       " <matplotlib.lines.Line2D at 0x7f920804adf0>,\n",
       " <matplotlib.lines.Line2D at 0x7f920804aeb0>,\n",
       " <matplotlib.lines.Line2D at 0x7f920804af70>,\n",
       " <matplotlib.lines.Line2D at 0x7f9208050070>,\n",
       " <matplotlib.lines.Line2D at 0x7f9208050130>,\n",
       " <matplotlib.lines.Line2D at 0x7f92080501f0>,\n",
       " <matplotlib.lines.Line2D at 0x7f92080502b0>,\n",
       " <matplotlib.lines.Line2D at 0x7f9208050370>,\n",
       " <matplotlib.lines.Line2D at 0x7f9208050430>,\n",
       " <matplotlib.lines.Line2D at 0x7f92080504f0>,\n",
       " <matplotlib.lines.Line2D at 0x7f92080505b0>,\n",
       " <matplotlib.lines.Line2D at 0x7f9208050670>,\n",
       " <matplotlib.lines.Line2D at 0x7f9208050730>,\n",
       " <matplotlib.lines.Line2D at 0x7f92080507f0>,\n",
       " <matplotlib.lines.Line2D at 0x7f92080508b0>,\n",
       " <matplotlib.lines.Line2D at 0x7f9208050970>,\n",
       " <matplotlib.lines.Line2D at 0x7f9208050a30>,\n",
       " <matplotlib.lines.Line2D at 0x7f9208050af0>,\n",
       " <matplotlib.lines.Line2D at 0x7f9208050bb0>,\n",
       " <matplotlib.lines.Line2D at 0x7f9208050c70>,\n",
       " <matplotlib.lines.Line2D at 0x7f9208050d30>,\n",
       " <matplotlib.lines.Line2D at 0x7f9208050df0>,\n",
       " <matplotlib.lines.Line2D at 0x7f9208050eb0>,\n",
       " <matplotlib.lines.Line2D at 0x7f9208050f70>,\n",
       " <matplotlib.lines.Line2D at 0x7f9208056070>,\n",
       " <matplotlib.lines.Line2D at 0x7f9208056130>,\n",
       " <matplotlib.lines.Line2D at 0x7f92080561f0>,\n",
       " <matplotlib.lines.Line2D at 0x7f92080562b0>,\n",
       " <matplotlib.lines.Line2D at 0x7f9208056370>,\n",
       " <matplotlib.lines.Line2D at 0x7f9208056430>,\n",
       " <matplotlib.lines.Line2D at 0x7f92080564f0>,\n",
       " <matplotlib.lines.Line2D at 0x7f92080565b0>,\n",
       " <matplotlib.lines.Line2D at 0x7f9208056670>,\n",
       " <matplotlib.lines.Line2D at 0x7f9208056730>,\n",
       " <matplotlib.lines.Line2D at 0x7f92080567f0>,\n",
       " <matplotlib.lines.Line2D at 0x7f92080568b0>,\n",
       " <matplotlib.lines.Line2D at 0x7f9208056970>,\n",
       " <matplotlib.lines.Line2D at 0x7f9208056a30>,\n",
       " <matplotlib.lines.Line2D at 0x7f9208056af0>,\n",
       " <matplotlib.lines.Line2D at 0x7f9208056bb0>,\n",
       " <matplotlib.lines.Line2D at 0x7f9208056c70>,\n",
       " <matplotlib.lines.Line2D at 0x7f9208056d30>,\n",
       " <matplotlib.lines.Line2D at 0x7f9208056df0>,\n",
       " <matplotlib.lines.Line2D at 0x7f9208056eb0>,\n",
       " <matplotlib.lines.Line2D at 0x7f9208056f70>,\n",
       " <matplotlib.lines.Line2D at 0x7f920805c070>,\n",
       " <matplotlib.lines.Line2D at 0x7f920805c130>,\n",
       " <matplotlib.lines.Line2D at 0x7f920805c1f0>,\n",
       " <matplotlib.lines.Line2D at 0x7f920805c2b0>,\n",
       " <matplotlib.lines.Line2D at 0x7f920805c370>,\n",
       " <matplotlib.lines.Line2D at 0x7f920805c430>,\n",
       " <matplotlib.lines.Line2D at 0x7f920805c4f0>,\n",
       " <matplotlib.lines.Line2D at 0x7f920805c5b0>,\n",
       " <matplotlib.lines.Line2D at 0x7f920805c670>,\n",
       " <matplotlib.lines.Line2D at 0x7f920805c730>,\n",
       " <matplotlib.lines.Line2D at 0x7f920805c7f0>,\n",
       " <matplotlib.lines.Line2D at 0x7f920805c8b0>,\n",
       " <matplotlib.lines.Line2D at 0x7f920805c970>,\n",
       " <matplotlib.lines.Line2D at 0x7f920805ca30>,\n",
       " <matplotlib.lines.Line2D at 0x7f920805caf0>,\n",
       " <matplotlib.lines.Line2D at 0x7f920805cbb0>,\n",
       " <matplotlib.lines.Line2D at 0x7f920805cc70>,\n",
       " <matplotlib.lines.Line2D at 0x7f920805cd30>,\n",
       " <matplotlib.lines.Line2D at 0x7f920805cdf0>,\n",
       " <matplotlib.lines.Line2D at 0x7f920805ceb0>,\n",
       " <matplotlib.lines.Line2D at 0x7f920805cf70>,\n",
       " <matplotlib.lines.Line2D at 0x7f9208062070>,\n",
       " <matplotlib.lines.Line2D at 0x7f9208062130>,\n",
       " <matplotlib.lines.Line2D at 0x7f92080621f0>,\n",
       " <matplotlib.lines.Line2D at 0x7f92080622b0>,\n",
       " <matplotlib.lines.Line2D at 0x7f9208062370>,\n",
       " <matplotlib.lines.Line2D at 0x7f9208062430>,\n",
       " <matplotlib.lines.Line2D at 0x7f92080624f0>,\n",
       " <matplotlib.lines.Line2D at 0x7f92080625b0>,\n",
       " <matplotlib.lines.Line2D at 0x7f9208062670>,\n",
       " <matplotlib.lines.Line2D at 0x7f9208062730>,\n",
       " <matplotlib.lines.Line2D at 0x7f92080627f0>,\n",
       " <matplotlib.lines.Line2D at 0x7f92080628b0>,\n",
       " <matplotlib.lines.Line2D at 0x7f9208062970>,\n",
       " <matplotlib.lines.Line2D at 0x7f9208062a30>,\n",
       " <matplotlib.lines.Line2D at 0x7f9208062af0>,\n",
       " <matplotlib.lines.Line2D at 0x7f9208062bb0>,\n",
       " <matplotlib.lines.Line2D at 0x7f9208062c70>,\n",
       " <matplotlib.lines.Line2D at 0x7f9208062d30>,\n",
       " <matplotlib.lines.Line2D at 0x7f9208062df0>,\n",
       " <matplotlib.lines.Line2D at 0x7f9208062eb0>,\n",
       " <matplotlib.lines.Line2D at 0x7f9208062f70>,\n",
       " <matplotlib.lines.Line2D at 0x7f9208067070>,\n",
       " <matplotlib.lines.Line2D at 0x7f9208067130>,\n",
       " <matplotlib.lines.Line2D at 0x7f92080671f0>,\n",
       " <matplotlib.lines.Line2D at 0x7f92080672b0>,\n",
       " <matplotlib.lines.Line2D at 0x7f9208067370>,\n",
       " <matplotlib.lines.Line2D at 0x7f9208067430>,\n",
       " <matplotlib.lines.Line2D at 0x7f92080674f0>,\n",
       " <matplotlib.lines.Line2D at 0x7f92080675b0>,\n",
       " <matplotlib.lines.Line2D at 0x7f9208067670>,\n",
       " <matplotlib.lines.Line2D at 0x7f9208067730>,\n",
       " <matplotlib.lines.Line2D at 0x7f92080677f0>,\n",
       " <matplotlib.lines.Line2D at 0x7f92080678b0>,\n",
       " <matplotlib.lines.Line2D at 0x7f9208067970>,\n",
       " <matplotlib.lines.Line2D at 0x7f9208067a30>,\n",
       " <matplotlib.lines.Line2D at 0x7f9208067af0>,\n",
       " <matplotlib.lines.Line2D at 0x7f9208067bb0>,\n",
       " <matplotlib.lines.Line2D at 0x7f9208067c70>,\n",
       " <matplotlib.lines.Line2D at 0x7f9208067d30>,\n",
       " <matplotlib.lines.Line2D at 0x7f9208067df0>,\n",
       " <matplotlib.lines.Line2D at 0x7f9208067eb0>,\n",
       " <matplotlib.lines.Line2D at 0x7f9208067f70>,\n",
       " <matplotlib.lines.Line2D at 0x7f920806d070>,\n",
       " <matplotlib.lines.Line2D at 0x7f920806d130>,\n",
       " <matplotlib.lines.Line2D at 0x7f920806d1f0>,\n",
       " <matplotlib.lines.Line2D at 0x7f920806d2b0>,\n",
       " <matplotlib.lines.Line2D at 0x7f920806d370>,\n",
       " <matplotlib.lines.Line2D at 0x7f920806d430>,\n",
       " <matplotlib.lines.Line2D at 0x7f920806d4f0>,\n",
       " <matplotlib.lines.Line2D at 0x7f920806d5b0>,\n",
       " <matplotlib.lines.Line2D at 0x7f920806d670>,\n",
       " <matplotlib.lines.Line2D at 0x7f920806d730>,\n",
       " <matplotlib.lines.Line2D at 0x7f920806d7f0>,\n",
       " <matplotlib.lines.Line2D at 0x7f920806d8b0>,\n",
       " <matplotlib.lines.Line2D at 0x7f920806d970>,\n",
       " <matplotlib.lines.Line2D at 0x7f920806da30>,\n",
       " <matplotlib.lines.Line2D at 0x7f920806daf0>,\n",
       " <matplotlib.lines.Line2D at 0x7f920806dbb0>,\n",
       " <matplotlib.lines.Line2D at 0x7f920806dc70>,\n",
       " <matplotlib.lines.Line2D at 0x7f920806dd30>,\n",
       " <matplotlib.lines.Line2D at 0x7f920806ddf0>,\n",
       " <matplotlib.lines.Line2D at 0x7f920806deb0>,\n",
       " <matplotlib.lines.Line2D at 0x7f920806df70>,\n",
       " <matplotlib.lines.Line2D at 0x7f9208074070>,\n",
       " <matplotlib.lines.Line2D at 0x7f9208074130>,\n",
       " <matplotlib.lines.Line2D at 0x7f92080741f0>,\n",
       " <matplotlib.lines.Line2D at 0x7f92080742b0>,\n",
       " <matplotlib.lines.Line2D at 0x7f9208074370>,\n",
       " ...]"
      ]
     },
     "execution_count": 556,
     "metadata": {},
     "output_type": "execute_result"
    },
    {
     "data": {
      "image/png": "[encoded data removed]",
      "text/plain": [
       "<Figure size 432x288 with 1 Axes>"
      ]
     },
     "metadata": {
      "needs_background": "light"
     },
     "output_type": "display_data"
    },
    {
     "data": {
      "application/javascript": [
       "\n",
       "            setTimeout(function() {\n",
       "                var nbb_cell_id = 556;\n",
       "                var nbb_unformatted_code = \"plt.plot(np.exp(preds).T, alpha=0.01, color=\\\"black\\\")\";\n",
       "                var nbb_formatted_code = \"plt.plot(np.exp(preds).T, alpha=0.01, color=\\\"black\\\")\";\n",
       "                var nbb_cells = Jupyter.notebook.get_cells();\n",
       "                for (var i = 0; i < nbb_cells.length; ++i) {\n",
       "                    if (nbb_cells[i].input_prompt_number == nbb_cell_id) {\n",
       "                        if (nbb_cells[i].get_text() == nbb_unformatted_code) {\n",
       "                             nbb_cells[i].set_text(nbb_formatted_code);\n",
       "                        }\n",
       "                        break;\n",
       "                    }\n",
       "                }\n",
       "            }, 500);\n",
       "            "
      ],
      "text/plain": [
       "<IPython.core.display.Javascript object>"
      ]
     },
     "metadata": {},
     "output_type": "display_data"
    }
   ],
   "source": [
    "plt.plot(np.exp(preds).T, alpha=0.01, color=\"black\")"
   ]
  },
  {
   "cell_type": "code",
   "execution_count": 619,
   "id": "46f39378",
   "metadata": {},
   "outputs": [
    {
     "data": {
      "text/plain": [
       "(array([130.,   0., 108.,   0.,   0., 138.,   0., 238.,   0., 386.]),\n",
       " array([1. , 1.4, 1.8, 2.2, 2.6, 3. , 3.4, 3.8, 4.2, 4.6, 5. ]),\n",
       " <BarContainer object of 10 artists>)"
      ]
     },
     "execution_count": 619,
     "metadata": {},
     "output_type": "execute_result"
    },
    {
     "data": {
      "image/png": "[encoded data removed]",
      "text/plain": [
       "<Figure size 432x288 with 1 Axes>"
      ]
     },
     "metadata": {
      "needs_background": "light"
     },
     "output_type": "display_data"
    },
    {
     "data": {
      "application/javascript": [
       "\n",
       "            setTimeout(function() {\n",
       "                var nbb_cell_id = 619;\n",
       "                var nbb_unformatted_code = \"sim_true = []\\nfor i in range(1000):\\n    j = np.random.randint(len(true))\\n    sim_true.append(np.random.choice(np.arange(1, 6), p=true[j, :]))\\nsim_true = np.array(sim_true)\\nplt.hist(sim_true)\";\n",
       "                var nbb_formatted_code = \"sim_true = []\\nfor i in range(1000):\\n    j = np.random.randint(len(true))\\n    sim_true.append(np.random.choice(np.arange(1, 6), p=true[j, :]))\\nsim_true = np.array(sim_true)\\nplt.hist(sim_true)\";\n",
       "                var nbb_cells = Jupyter.notebook.get_cells();\n",
       "                for (var i = 0; i < nbb_cells.length; ++i) {\n",
       "                    if (nbb_cells[i].input_prompt_number == nbb_cell_id) {\n",
       "                        if (nbb_cells[i].get_text() == nbb_unformatted_code) {\n",
       "                             nbb_cells[i].set_text(nbb_formatted_code);\n",
       "                        }\n",
       "                        break;\n",
       "                    }\n",
       "                }\n",
       "            }, 500);\n",
       "            "
      ],
      "text/plain": [
       "<IPython.core.display.Javascript object>"
      ]
     },
     "metadata": {},
     "output_type": "display_data"
    }
   ],
   "source": [
    "sim_true = []\n",
    "for i in range(1000):\n",
    "    j = np.random.randint(len(true))\n",
    "    sim_true.append(np.random.choice(np.arange(1, 6), p=true[j, :]))\n",
    "sim_true = np.array(sim_true)\n",
    "plt.hist(sim_true)"
   ]
  },
  {
   "cell_type": "code",
   "execution_count": 620,
   "id": "b61e1ffb",
   "metadata": {},
   "outputs": [
    {
     "data": {
      "text/plain": [
       "(array([125.,   0., 107.,   0.,   0., 110.,   0., 235.,   0., 423.]),\n",
       " array([1. , 1.4, 1.8, 2.2, 2.6, 3. , 3.4, 3.8, 4.2, 4.6, 5. ]),\n",
       " <BarContainer object of 10 artists>)"
      ]
     },
     "execution_count": 620,
     "metadata": {},
     "output_type": "execute_result"
    },
    {
     "data": {
      "image/png": "[encoded data removed]",
      "text/plain": [
       "<Figure size 432x288 with 1 Axes>"
      ]
     },
     "metadata": {
      "needs_background": "light"
     },
     "output_type": "display_data"
    },
    {
     "data": {
      "application/javascript": [
       "\n",
       "            setTimeout(function() {\n",
       "                var nbb_cell_id = 620;\n",
       "                var nbb_unformatted_code = \"sim_preds = []\\nfor i in range(1000):\\n    j = np.random.randint(len(preds))\\n    sim_preds.append(np.random.choice(np.arange(1, 6), p=np.exp(preds[j, :])))\\nsim_preds = np.array(sim_preds)\\nplt.hist(sim_preds)\";\n",
       "                var nbb_formatted_code = \"sim_preds = []\\nfor i in range(1000):\\n    j = np.random.randint(len(preds))\\n    sim_preds.append(np.random.choice(np.arange(1, 6), p=np.exp(preds[j, :])))\\nsim_preds = np.array(sim_preds)\\nplt.hist(sim_preds)\";\n",
       "                var nbb_cells = Jupyter.notebook.get_cells();\n",
       "                for (var i = 0; i < nbb_cells.length; ++i) {\n",
       "                    if (nbb_cells[i].input_prompt_number == nbb_cell_id) {\n",
       "                        if (nbb_cells[i].get_text() == nbb_unformatted_code) {\n",
       "                             nbb_cells[i].set_text(nbb_formatted_code);\n",
       "                        }\n",
       "                        break;\n",
       "                    }\n",
       "                }\n",
       "            }, 500);\n",
       "            "
      ],
      "text/plain": [
       "<IPython.core.display.Javascript object>"
      ]
     },
     "metadata": {},
     "output_type": "display_data"
    }
   ],
   "source": [
    "sim_preds = []\n",
    "for i in range(1000):\n",
    "    j = np.random.randint(len(preds))\n",
    "    sim_preds.append(np.random.choice(np.arange(1, 6), p=np.exp(preds[j, :])))\n",
    "sim_preds = np.array(sim_preds)\n",
    "plt.hist(sim_preds)"
   ]
  },
  {
   "cell_type": "code",
   "execution_count": null,
   "id": "3120ada0",
   "metadata": {},
   "outputs": [],
   "source": []
  },
  {
   "cell_type": "code",
   "execution_count": null,
   "id": "90b9b721",
   "metadata": {},
   "outputs": [],
   "source": []
  },
  {
   "cell_type": "code",
   "execution_count": 621,
   "id": "055f8f48",
   "metadata": {},
   "outputs": [
    {
     "data": {
      "text/plain": [
       "array([[-1.834317  , -2.1208062 , -1.9693673 , -1.4679078 , -1.0487076 ],\n",
       "       [-1.8189766 , -2.0970259 , -1.9536047 , -1.4731475 , -1.0670493 ],\n",
       "       [-1.8345171 , -2.1132245 , -1.9674327 , -1.4727013 , -1.0488477 ],\n",
       "       ...,\n",
       "       [-1.9517074 , -2.2639477 , -2.0677776 , -1.4385092 , -0.940887  ],\n",
       "       [-2.0725565 , -2.37978   , -2.1812983 , -1.4665046 , -0.82567334],\n",
       "       [-1.8023392 , -2.081836  , -1.9395472 , -1.4719574 , -1.087253  ]],\n",
       "      dtype=float32)"
      ]
     },
     "execution_count": 621,
     "metadata": {},
     "output_type": "execute_result"
    },
    {
     "data": {
      "application/javascript": [
       "\n",
       "            setTimeout(function() {\n",
       "                var nbb_cell_id = 621;\n",
       "                var nbb_unformatted_code = \"preds\";\n",
       "                var nbb_formatted_code = \"preds\";\n",
       "                var nbb_cells = Jupyter.notebook.get_cells();\n",
       "                for (var i = 0; i < nbb_cells.length; ++i) {\n",
       "                    if (nbb_cells[i].input_prompt_number == nbb_cell_id) {\n",
       "                        if (nbb_cells[i].get_text() == nbb_unformatted_code) {\n",
       "                             nbb_cells[i].set_text(nbb_formatted_code);\n",
       "                        }\n",
       "                        break;\n",
       "                    }\n",
       "                }\n",
       "            }, 500);\n",
       "            "
      ],
      "text/plain": [
       "<IPython.core.display.Javascript object>"
      ]
     },
     "metadata": {},
     "output_type": "display_data"
    }
   ],
   "source": [
    "preds"
   ]
  },
  {
   "cell_type": "code",
   "execution_count": 631,
   "id": "a769ffa5",
   "metadata": {},
   "outputs": [
    {
     "data": {
      "application/javascript": [
       "\n",
       "            setTimeout(function() {\n",
       "                var nbb_cell_id = 631;\n",
       "                var nbb_unformatted_code = \"kl_div = true * (np.log(true) - np.log(np.mean(true, axis=0))[None, :])\";\n",
       "                var nbb_formatted_code = \"kl_div = true * (np.log(true) - np.log(np.mean(true, axis=0))[None, :])\";\n",
       "                var nbb_cells = Jupyter.notebook.get_cells();\n",
       "                for (var i = 0; i < nbb_cells.length; ++i) {\n",
       "                    if (nbb_cells[i].input_prompt_number == nbb_cell_id) {\n",
       "                        if (nbb_cells[i].get_text() == nbb_unformatted_code) {\n",
       "                             nbb_cells[i].set_text(nbb_formatted_code);\n",
       "                        }\n",
       "                        break;\n",
       "                    }\n",
       "                }\n",
       "            }, 500);\n",
       "            "
      ],
      "text/plain": [
       "<IPython.core.display.Javascript object>"
      ]
     },
     "metadata": {},
     "output_type": "display_data"
    }
   ],
   "source": [
    "kl_div = true * (np.log(true) - np.log(np.mean(true, axis=0))[None, :])"
   ]
  },
  {
   "cell_type": "code",
   "execution_count": 632,
   "id": "7c04be9b",
   "metadata": {},
   "outputs": [
    {
     "data": {
      "text/plain": [
       "(array([], dtype=int64),)"
      ]
     },
     "execution_count": 632,
     "metadata": {},
     "output_type": "execute_result"
    },
    {
     "data": {
      "application/javascript": [
       "\n",
       "            setTimeout(function() {\n",
       "                var nbb_cell_id = 632;\n",
       "                var nbb_unformatted_code = \"np.where(np.sum(kl_div, axis=1) <= 0)\";\n",
       "                var nbb_formatted_code = \"np.where(np.sum(kl_div, axis=1) <= 0)\";\n",
       "                var nbb_cells = Jupyter.notebook.get_cells();\n",
       "                for (var i = 0; i < nbb_cells.length; ++i) {\n",
       "                    if (nbb_cells[i].input_prompt_number == nbb_cell_id) {\n",
       "                        if (nbb_cells[i].get_text() == nbb_unformatted_code) {\n",
       "                             nbb_cells[i].set_text(nbb_formatted_code);\n",
       "                        }\n",
       "                        break;\n",
       "                    }\n",
       "                }\n",
       "            }, 500);\n",
       "            "
      ],
      "text/plain": [
       "<IPython.core.display.Javascript object>"
      ]
     },
     "metadata": {},
     "output_type": "display_data"
    }
   ],
   "source": [
    "np.where(np.sum(kl_div, axis=1) <= 0)"
   ]
  },
  {
   "cell_type": "code",
   "execution_count": 633,
   "id": "cf7fb58c",
   "metadata": {},
   "outputs": [
    {
     "data": {
      "text/plain": [
       "0.11376517"
      ]
     },
     "execution_count": 633,
     "metadata": {},
     "output_type": "execute_result"
    },
    {
     "data": {
      "application/javascript": [
       "\n",
       "            setTimeout(function() {\n",
       "                var nbb_cell_id = 633;\n",
       "                var nbb_unformatted_code = \"np.mean(np.sum(kl_div, axis=1))\";\n",
       "                var nbb_formatted_code = \"np.mean(np.sum(kl_div, axis=1))\";\n",
       "                var nbb_cells = Jupyter.notebook.get_cells();\n",
       "                for (var i = 0; i < nbb_cells.length; ++i) {\n",
       "                    if (nbb_cells[i].input_prompt_number == nbb_cell_id) {\n",
       "                        if (nbb_cells[i].get_text() == nbb_unformatted_code) {\n",
       "                             nbb_cells[i].set_text(nbb_formatted_code);\n",
       "                        }\n",
       "                        break;\n",
       "                    }\n",
       "                }\n",
       "            }, 500);\n",
       "            "
      ],
      "text/plain": [
       "<IPython.core.display.Javascript object>"
      ]
     },
     "metadata": {},
     "output_type": "display_data"
    }
   ],
   "source": [
    "np.mean(np.sum(kl_div, axis=1))"
   ]
  },
  {
   "cell_type": "code",
   "execution_count": 625,
   "id": "7fbf153b",
   "metadata": {},
   "outputs": [
    {
     "data": {
      "text/plain": [
       "array([9004, 1916, 7481, ..., 4204, 3844, 5365])"
      ]
     },
     "execution_count": 625,
     "metadata": {},
     "output_type": "execute_result"
    },
    {
     "data": {
      "application/javascript": [
       "\n",
       "            setTimeout(function() {\n",
       "                var nbb_cell_id = 625;\n",
       "                var nbb_unformatted_code = \"idx = val_indices.detach().numpy()\\nidx\";\n",
       "                var nbb_formatted_code = \"idx = val_indices.detach().numpy()\\nidx\";\n",
       "                var nbb_cells = Jupyter.notebook.get_cells();\n",
       "                for (var i = 0; i < nbb_cells.length; ++i) {\n",
       "                    if (nbb_cells[i].input_prompt_number == nbb_cell_id) {\n",
       "                        if (nbb_cells[i].get_text() == nbb_unformatted_code) {\n",
       "                             nbb_cells[i].set_text(nbb_formatted_code);\n",
       "                        }\n",
       "                        break;\n",
       "                    }\n",
       "                }\n",
       "            }, 500);\n",
       "            "
      ],
      "text/plain": [
       "<IPython.core.display.Javascript object>"
      ]
     },
     "metadata": {},
     "output_type": "display_data"
    }
   ],
   "source": [
    "idx = val_indices.detach().numpy()\n",
    "idx"
   ]
  },
  {
   "cell_type": "code",
   "execution_count": 628,
   "id": "8cf035aa",
   "metadata": {},
   "outputs": [
    {
     "data": {
      "application/javascript": [
       "\n",
       "            setTimeout(function() {\n",
       "                var nbb_cell_id = 628;\n",
       "                var nbb_unformatted_code = \"kl_div = true[idx] * (np.log(true[idx]) - np.log(np.mean(true[idx], axis=0)[None, :]))\";\n",
       "                var nbb_formatted_code = \"kl_div = true[idx] * (np.log(true[idx]) - np.log(np.mean(true[idx], axis=0)[None, :]))\";\n",
       "                var nbb_cells = Jupyter.notebook.get_cells();\n",
       "                for (var i = 0; i < nbb_cells.length; ++i) {\n",
       "                    if (nbb_cells[i].input_prompt_number == nbb_cell_id) {\n",
       "                        if (nbb_cells[i].get_text() == nbb_unformatted_code) {\n",
       "                             nbb_cells[i].set_text(nbb_formatted_code);\n",
       "                        }\n",
       "                        break;\n",
       "                    }\n",
       "                }\n",
       "            }, 500);\n",
       "            "
      ],
      "text/plain": [
       "<IPython.core.display.Javascript object>"
      ]
     },
     "metadata": {},
     "output_type": "display_data"
    }
   ],
   "source": [
    "kl_div = true[idx] * (np.log(true[idx]) - np.log(np.mean(true[idx], axis=0)[None, :]))"
   ]
  },
  {
   "cell_type": "code",
   "execution_count": 630,
   "id": "fd99548c",
   "metadata": {},
   "outputs": [
    {
     "data": {
      "text/plain": [
       "0.114268154"
      ]
     },
     "execution_count": 630,
     "metadata": {},
     "output_type": "execute_result"
    },
    {
     "data": {
      "application/javascript": [
       "\n",
       "            setTimeout(function() {\n",
       "                var nbb_cell_id = 630;\n",
       "                var nbb_unformatted_code = \"np.mean(np.sum(kl_div, axis=1))\";\n",
       "                var nbb_formatted_code = \"np.mean(np.sum(kl_div, axis=1))\";\n",
       "                var nbb_cells = Jupyter.notebook.get_cells();\n",
       "                for (var i = 0; i < nbb_cells.length; ++i) {\n",
       "                    if (nbb_cells[i].input_prompt_number == nbb_cell_id) {\n",
       "                        if (nbb_cells[i].get_text() == nbb_unformatted_code) {\n",
       "                             nbb_cells[i].set_text(nbb_formatted_code);\n",
       "                        }\n",
       "                        break;\n",
       "                    }\n",
       "                }\n",
       "            }, 500);\n",
       "            "
      ],
      "text/plain": [
       "<IPython.core.display.Javascript object>"
      ]
     },
     "metadata": {},
     "output_type": "display_data"
    }
   ],
   "source": [
    "np.mean(np.sum(kl_div, axis=1))"
   ]
  },
  {
   "cell_type": "code",
   "execution_count": 634,
   "id": "e87e8b59",
   "metadata": {},
   "outputs": [
    {
     "data": {
      "text/plain": [
       "0.0701754385964913"
      ]
     },
     "execution_count": 634,
     "metadata": {},
     "output_type": "execute_result"
    },
    {
     "data": {
      "application/javascript": [
       "\n",
       "            setTimeout(function() {\n",
       "                var nbb_cell_id = 634;\n",
       "                var nbb_unformatted_code = \"(0.114 - 0.106)/0.114\";\n",
       "                var nbb_formatted_code = \"(0.114 - 0.106) / 0.114\";\n",
       "                var nbb_cells = Jupyter.notebook.get_cells();\n",
       "                for (var i = 0; i < nbb_cells.length; ++i) {\n",
       "                    if (nbb_cells[i].input_prompt_number == nbb_cell_id) {\n",
       "                        if (nbb_cells[i].get_text() == nbb_unformatted_code) {\n",
       "                             nbb_cells[i].set_text(nbb_formatted_code);\n",
       "                        }\n",
       "                        break;\n",
       "                    }\n",
       "                }\n",
       "            }, 500);\n",
       "            "
      ],
      "text/plain": [
       "<IPython.core.display.Javascript object>"
      ]
     },
     "metadata": {},
     "output_type": "display_data"
    }
   ],
   "source": [
    "(0.114 - 0.106) / 0.114"
   ]
  },
  {
   "cell_type": "code",
   "execution_count": null,
   "id": "16a26716",
   "metadata": {},
   "outputs": [],
   "source": []
  }
 ],
 "metadata": {
  "kernelspec": {
   "display_name": "Python 3 (ipykernel)",
   "language": "python",
   "name": "python3"
  },
  "language_info": {
   "codemirror_mode": {
    "name": "ipython",
    "version": 3
   },
   "file_extension": ".py",
   "mimetype": "text/x-python",
   "name": "python",
   "nbconvert_exporter": "python",
   "pygments_lexer": "ipython3",
   "version": "3.9.12"
  }
 },
 "nbformat": 4,
 "nbformat_minor": 5
}
