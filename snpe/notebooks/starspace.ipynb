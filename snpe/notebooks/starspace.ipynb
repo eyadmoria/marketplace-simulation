{
 "cells": [
  {
   "cell_type": "code",
   "execution_count": 1,
   "id": "f83732da",
   "metadata": {},
   "outputs": [],
   "source": [
    "%load_ext autoreload\n",
    "%autoreload 2"
   ]
  },
  {
   "cell_type": "code",
   "execution_count": 2,
   "id": "d1149aa1",
   "metadata": {},
   "outputs": [
    {
     "data": {
      "application/javascript": [
       "\n",
       "            setTimeout(function() {\n",
       "                var nbb_cell_id = 2;\n",
       "                var nbb_unformatted_code = \"# Just a formatting related plugin\\n%load_ext nb_black\";\n",
       "                var nbb_formatted_code = \"# Just a formatting related plugin\\n%load_ext nb_black\";\n",
       "                var nbb_cells = Jupyter.notebook.get_cells();\n",
       "                for (var i = 0; i < nbb_cells.length; ++i) {\n",
       "                    if (nbb_cells[i].input_prompt_number == nbb_cell_id) {\n",
       "                        if (nbb_cells[i].get_text() == nbb_unformatted_code) {\n",
       "                             nbb_cells[i].set_text(nbb_formatted_code);\n",
       "                        }\n",
       "                        break;\n",
       "                    }\n",
       "                }\n",
       "            }, 500);\n",
       "            "
      ],
      "text/plain": [
       "<IPython.core.display.Javascript object>"
      ]
     },
     "metadata": {},
     "output_type": "display_data"
    }
   ],
   "source": [
    "# Just a formatting related plugin\n",
    "%load_ext nb_black"
   ]
  },
  {
   "cell_type": "markdown",
   "id": "9710fb8f",
   "metadata": {},
   "source": [
    "# Using the final class to run the starspace training"
   ]
  },
  {
   "cell_type": "code",
   "execution_count": 3,
   "id": "4c398958",
   "metadata": {},
   "outputs": [
    {
     "data": {
      "application/javascript": [
       "\n",
       "            setTimeout(function() {\n",
       "                var nbb_cell_id = 3;\n",
       "                var nbb_unformatted_code = \"import sys\\n\\nsys.path.append(\\\"../\\\")\";\n",
       "                var nbb_formatted_code = \"import sys\\n\\nsys.path.append(\\\"../\\\")\";\n",
       "                var nbb_cells = Jupyter.notebook.get_cells();\n",
       "                for (var i = 0; i < nbb_cells.length; ++i) {\n",
       "                    if (nbb_cells[i].input_prompt_number == nbb_cell_id) {\n",
       "                        if (nbb_cells[i].get_text() == nbb_unformatted_code) {\n",
       "                             nbb_cells[i].set_text(nbb_formatted_code);\n",
       "                        }\n",
       "                        break;\n",
       "                    }\n",
       "                }\n",
       "            }, 500);\n",
       "            "
      ],
      "text/plain": [
       "<IPython.core.display.Javascript object>"
      ]
     },
     "metadata": {},
     "output_type": "display_data"
    }
   ],
   "source": [
    "import sys\n",
    "\n",
    "sys.path.append(\"../\")"
   ]
  },
  {
   "cell_type": "code",
   "execution_count": 4,
   "id": "b2cd77cc",
   "metadata": {},
   "outputs": [
    {
     "data": {
      "application/javascript": [
       "\n",
       "            setTimeout(function() {\n",
       "                var nbb_cell_id = 4;\n",
       "                var nbb_unformatted_code = \"from pathlib import Path\\n\\nARTIFACT_PATH = Path(\\\"../../../gcs_mount/artifacts/rating_spacing_simulator\\\")\\n# ARTIFACT_PATH = Path(\\\"/data/reputation-systems/snpe/artifacts/rating_spacing_simulator\\\")\";\n",
       "                var nbb_formatted_code = \"from pathlib import Path\\n\\nARTIFACT_PATH = Path(\\\"../../../gcs_mount/artifacts/rating_spacing_simulator\\\")\\n# ARTIFACT_PATH = Path(\\\"/data/reputation-systems/snpe/artifacts/rating_spacing_simulator\\\")\";\n",
       "                var nbb_cells = Jupyter.notebook.get_cells();\n",
       "                for (var i = 0; i < nbb_cells.length; ++i) {\n",
       "                    if (nbb_cells[i].input_prompt_number == nbb_cell_id) {\n",
       "                        if (nbb_cells[i].get_text() == nbb_unformatted_code) {\n",
       "                             nbb_cells[i].set_text(nbb_formatted_code);\n",
       "                        }\n",
       "                        break;\n",
       "                    }\n",
       "                }\n",
       "            }, 500);\n",
       "            "
      ],
      "text/plain": [
       "<IPython.core.display.Javascript object>"
      ]
     },
     "metadata": {},
     "output_type": "display_data"
    }
   ],
   "source": [
    "from pathlib import Path\n",
    "\n",
    "ARTIFACT_PATH = Path(\"../../../gcs_mount/artifacts/rating_spacing_simulator\")\n",
    "# ARTIFACT_PATH = Path(\"/data/reputation-systems/snpe/artifacts/rating_spacing_simulator\")"
   ]
  },
  {
   "cell_type": "code",
   "execution_count": 5,
   "id": "c117acf2",
   "metadata": {},
   "outputs": [
    {
     "data": {
      "application/javascript": [
       "\n",
       "            setTimeout(function() {\n",
       "                var nbb_cell_id = 5;\n",
       "                var nbb_unformatted_code = \"from snpe.embeddings.starspace_class import StarSpaceEmbedder\";\n",
       "                var nbb_formatted_code = \"from snpe.embeddings.starspace_class import StarSpaceEmbedder\";\n",
       "                var nbb_cells = Jupyter.notebook.get_cells();\n",
       "                for (var i = 0; i < nbb_cells.length; ++i) {\n",
       "                    if (nbb_cells[i].input_prompt_number == nbb_cell_id) {\n",
       "                        if (nbb_cells[i].get_text() == nbb_unformatted_code) {\n",
       "                             nbb_cells[i].set_text(nbb_formatted_code);\n",
       "                        }\n",
       "                        break;\n",
       "                    }\n",
       "                }\n",
       "            }, 500);\n",
       "            "
      ],
      "text/plain": [
       "<IPython.core.display.Javascript object>"
      ]
     },
     "metadata": {},
     "output_type": "display_data"
    }
   ],
   "source": [
    "from snpe.embeddings.starspace_class import StarSpaceEmbedder"
   ]
  },
  {
   "cell_type": "code",
   "execution_count": 6,
   "id": "f5b331c9",
   "metadata": {},
   "outputs": [
    {
     "data": {
      "application/javascript": [
       "\n",
       "            setTimeout(function() {\n",
       "                var nbb_cell_id = 6;\n",
       "                var nbb_unformatted_code = \"embedder = StarSpaceEmbedder(artifact_path=ARTIFACT_PATH)\";\n",
       "                var nbb_formatted_code = \"embedder = StarSpaceEmbedder(artifact_path=ARTIFACT_PATH)\";\n",
       "                var nbb_cells = Jupyter.notebook.get_cells();\n",
       "                for (var i = 0; i < nbb_cells.length; ++i) {\n",
       "                    if (nbb_cells[i].input_prompt_number == nbb_cell_id) {\n",
       "                        if (nbb_cells[i].get_text() == nbb_unformatted_code) {\n",
       "                             nbb_cells[i].set_text(nbb_formatted_code);\n",
       "                        }\n",
       "                        break;\n",
       "                    }\n",
       "                }\n",
       "            }, 500);\n",
       "            "
      ],
      "text/plain": [
       "<IPython.core.display.Javascript object>"
      ]
     },
     "metadata": {},
     "output_type": "display_data"
    }
   ],
   "source": [
    "embedder = StarSpaceEmbedder(artifact_path=ARTIFACT_PATH)"
   ]
  },
  {
   "cell_type": "code",
   "execution_count": 7,
   "id": "773345cc",
   "metadata": {},
   "outputs": [
    {
     "name": "stderr",
     "output_type": "stream",
     "text": [
      "/data/reputation-systems/snpe/notebooks/../snpe/embeddings/starspace_class.py:26: DtypeWarning: Columns (6) have mixed types. Specify dtype option on import or set low_memory=False.\n",
      "  input_data = pd.read_csv(self.artifact_path / \"pageview_summaries.txt\", sep=\"\\t\")\n"
     ]
    },
    {
     "name": "stdout",
     "output_type": "stream",
     "text": [
      "Loaded input data of shape (3204851, 13)\n",
      "Train set size: (88312,)\n",
      "Test set size: (22079,)\n",
      "Saving train and test datasets\n"
     ]
    },
    {
     "data": {
      "application/javascript": [
       "\n",
       "            setTimeout(function() {\n",
       "                var nbb_cell_id = 7;\n",
       "                var nbb_unformatted_code = \"embedder.process_input_data()\";\n",
       "                var nbb_formatted_code = \"embedder.process_input_data()\";\n",
       "                var nbb_cells = Jupyter.notebook.get_cells();\n",
       "                for (var i = 0; i < nbb_cells.length; ++i) {\n",
       "                    if (nbb_cells[i].input_prompt_number == nbb_cell_id) {\n",
       "                        if (nbb_cells[i].get_text() == nbb_unformatted_code) {\n",
       "                             nbb_cells[i].set_text(nbb_formatted_code);\n",
       "                        }\n",
       "                        break;\n",
       "                    }\n",
       "                }\n",
       "            }, 500);\n",
       "            "
      ],
      "text/plain": [
       "<IPython.core.display.Javascript object>"
      ]
     },
     "metadata": {},
     "output_type": "display_data"
    }
   ],
   "source": [
    "embedder.process_input_data()"
   ]
  },
  {
   "cell_type": "code",
   "execution_count": 8,
   "id": "1e78de04",
   "metadata": {},
   "outputs": [
    {
     "name": "stdout",
     "output_type": "stream",
     "text": [
      "StarSpace command to be run: \n",
      " /StarSpace/starspace train -trainFile /data/gcs_mount/artifacts/rating_spacing_simulator/pageview_train.txt -validationFile /data/gcs_mount/artifacts/rating_spacing_simulator/pageview_test.txt -label product -model /data/gcs_mount/artifacts/rating_spacing_simulator/productspace -trainMode 1 -epoch 100 -validationPatience 10 -dim 100 -thread 32\n",
      "Arguments: \n",
      "lr: 0.01\n",
      "dim: 100\n",
      "epoch: 100\n",
      "maxTrainTime: 8640000\n",
      "validationPatience: 10\n",
      "saveEveryEpoch: 0\n",
      "loss: hinge\n",
      "margin: 0.05\n",
      "similarity: cosine\n",
      "maxNegSamples: 10\n",
      "negSearchLimit: 50\n",
      "batchSize: 5\n",
      "thread: 32\n",
      "minCount: 1\n",
      "minCountLabel: 1\n",
      "label: product\n",
      "label: product\n",
      "ngrams: 1\n",
      "bucket: 2000000\n",
      "adagrad: 1\n",
      "trainMode: 1\n",
      "fileFormat: fastText\n",
      "normalizeText: 0\n",
      "dropoutLHS: 0\n",
      "dropoutRHS: 0\n",
      "useWeight: 0\n",
      "weightSep: :\n",
      "Start to initialize starspace model.\n",
      "Build dict from input file : /data/gcs_mount/artifacts/rating_spacing_simulator/pageview_train.txt\n",
      "Loading data from file : /data/gcs_mount/artifacts/rating_spacing_simulator/pageview_train.txt\n"
     ]
    },
    {
     "name": "stderr",
     "output_type": "stream",
     "text": [
      "\r",
      "Read 0M words\n",
      "Number of words in dictionary:  0\n",
      "Number of labels in dictionary: 31708\n",
      "\r",
      "Epoch: 4.2%  lr: 0.009997  loss: 0.114675  eta: 0h2m  tot: 0h0m0s  (0.0%)"
     ]
    },
    {
     "name": "stdout",
     "output_type": "stream",
     "text": [
      "Total number of examples loaded : 73682\n",
      "Loading data from file : /data/gcs_mount/artifacts/rating_spacing_simulator/pageview_test.txt\n",
      "Total number of examples loaded : 18280\n",
      "Training epoch 0: 0.01 0.0001\n"
     ]
    },
    {
     "name": "stderr",
     "output_type": "stream",
     "text": [
      "Epoch: 100.0%  lr: 0.009900  loss: 0.063181  eta: 0h3m  tot: 0h0m2s  (1.0%)"
     ]
    },
    {
     "name": "stdout",
     "output_type": "stream",
     "text": [
      "\n",
      " ---+++                Epoch    0 Train error : 0.06202153 +++--- ☃\n"
     ]
    },
    {
     "name": "stderr",
     "output_type": "stream",
     "text": [
      "Epoch: 99.8%  lr: 0.000000  loss: 0.046731  eta: <1min   tot: 0h0m0s  (1.0%)"
     ]
    },
    {
     "name": "stdout",
     "output_type": "stream",
     "text": [
      "\n",
      "Validation error: 0.0467632\n",
      "Training epoch 1: 0.0099 0.0001\n"
     ]
    },
    {
     "name": "stderr",
     "output_type": "stream",
     "text": [
      "Epoch: 16.8%  lr: 0.000000  loss: 0.046174  eta: <1min   tot: 0h0m0s  (0.2%)"
     ]
    },
    {
     "name": "stdout",
     "output_type": "stream",
     "text": [
      "\n",
      " ---+++                Epoch    1 Train error : 0.01625742 +++--- ☃\n"
     ]
    },
    {
     "name": "stderr",
     "output_type": "stream",
     "text": [
      "Epoch: 4.2%  lr: 0.009799  loss: 0.010719  eta: 0h3m  tot: 0h0m5s  (2.0%)0%)"
     ]
    },
    {
     "name": "stdout",
     "output_type": "stream",
     "text": [
      "\n",
      "Validation error: 0.0430545\n",
      "Training epoch 2: 0.0098 0.0001\n"
     ]
    },
    {
     "name": "stderr",
     "output_type": "stream",
     "text": [
      "Epoch: 100.0%  lr: 0.009701  loss: 0.011499  eta: 0h3m  tot: 0h0m8s  (3.0%)"
     ]
    },
    {
     "name": "stdout",
     "output_type": "stream",
     "text": [
      "\n",
      " ---+++                Epoch    2 Train error : 0.01094759 +++--- ☃\n"
     ]
    },
    {
     "name": "stderr",
     "output_type": "stream",
     "text": [
      "Epoch: 99.8%  lr: 0.000000  loss: 0.043573  eta: <1min   tot: 0h0m0s  (1.0%)"
     ]
    },
    {
     "name": "stdout",
     "output_type": "stream",
     "text": [
      "\n",
      "Validation error: 0.0414723\n",
      "Training epoch 3: 0.0097 0.0001\n"
     ]
    },
    {
     "name": "stderr",
     "output_type": "stream",
     "text": [
      "Epoch: 16.8%  lr: 0.000000  loss: 0.046142  eta: <1min   tot: 0h0m0s  (0.2%)"
     ]
    },
    {
     "name": "stdout",
     "output_type": "stream",
     "text": [
      "\n",
      " ---+++                Epoch    3 Train error : 0.00849835 +++--- ☃\n"
     ]
    },
    {
     "name": "stderr",
     "output_type": "stream",
     "text": [
      "Epoch: 4.2%  lr: 0.009600  loss: 0.011641  eta: 0h3m  tot: 0h0m11s  (4.0%)%)"
     ]
    },
    {
     "name": "stdout",
     "output_type": "stream",
     "text": [
      "\n",
      "Validation error: 0.0405687\n",
      "Training epoch 4: 0.0096 0.0001\n"
     ]
    },
    {
     "name": "stderr",
     "output_type": "stream",
     "text": [
      "Epoch: 100.0%  lr: 0.009500  loss: 0.007641  eta: 0h3m  tot: 0h0m14s  (5.0%)"
     ]
    },
    {
     "name": "stdout",
     "output_type": "stream",
     "text": [
      "\n",
      " ---+++                Epoch    4 Train error : 0.00745499 +++--- ☃\n"
     ]
    },
    {
     "name": "stderr",
     "output_type": "stream",
     "text": [
      "Epoch: 99.8%  lr: 0.000000  loss: 0.044818  eta: <1min   tot: 0h0m0s  (1.0%)"
     ]
    },
    {
     "name": "stdout",
     "output_type": "stream",
     "text": [
      "\n",
      "Validation error: 0.0401745\n",
      "Training epoch 5: 0.0095 0.0001\n"
     ]
    },
    {
     "name": "stderr",
     "output_type": "stream",
     "text": [
      "Epoch: 16.8%  lr: 0.000000  loss: 0.039126  eta: <1min   tot: 0h0m0s  (0.2%)"
     ]
    },
    {
     "name": "stdout",
     "output_type": "stream",
     "text": [
      "\n",
      " ---+++                Epoch    5 Train error : 0.00645300 +++--- ☃\n"
     ]
    },
    {
     "name": "stderr",
     "output_type": "stream",
     "text": [
      "Epoch: 4.2%  lr: 0.009393  loss: 0.004113  eta: 0h3m  tot: 0h0m17s  (6.0%)%)"
     ]
    },
    {
     "name": "stdout",
     "output_type": "stream",
     "text": [
      "\n",
      "Validation error: 0.0393854\n",
      "Training epoch 6: 0.0094 0.0001\n"
     ]
    },
    {
     "name": "stderr",
     "output_type": "stream",
     "text": [
      "Epoch: 100.0%  lr: 0.009300  loss: 0.005542  eta: 0h3m  tot: 0h0m20s  (7.0%)"
     ]
    },
    {
     "name": "stdout",
     "output_type": "stream",
     "text": [
      "\n",
      " ---+++                Epoch    6 Train error : 0.00578561 +++--- ☃\n"
     ]
    },
    {
     "name": "stderr",
     "output_type": "stream",
     "text": [
      "Epoch: 99.8%  lr: 0.000000  loss: 0.036648  eta: <1min   tot: 0h0m0s  (1.0%)"
     ]
    },
    {
     "name": "stdout",
     "output_type": "stream",
     "text": [
      "\n",
      "Validation error: 0.0394214\n",
      "Training epoch 7: 0.0093 0.0001\n"
     ]
    },
    {
     "name": "stderr",
     "output_type": "stream",
     "text": [
      "Epoch: 16.8%  lr: 0.000000  loss: 0.030048  eta: <1min   tot: 0h0m0s  (0.2%)"
     ]
    },
    {
     "name": "stdout",
     "output_type": "stream",
     "text": [
      "\n",
      " ---+++                Epoch    7 Train error : 0.00525103 +++--- ☃\n"
     ]
    },
    {
     "name": "stderr",
     "output_type": "stream",
     "text": [
      "Epoch: 99.8%  lr: 0.000000  loss: 0.035448  eta: <1min   tot: 0h0m0s  (1.0%)"
     ]
    },
    {
     "name": "stdout",
     "output_type": "stream",
     "text": [
      "\n",
      "Validation error: 0.0392962\n",
      "Training epoch 8: 0.0092 0.0001\n"
     ]
    },
    {
     "name": "stderr",
     "output_type": "stream",
     "text": [
      "Epoch: 100.0%  lr: 0.009100  loss: 0.004897  eta: 0h3m  tot: 0h0m26s  (9.0%)"
     ]
    },
    {
     "name": "stdout",
     "output_type": "stream",
     "text": [
      "\n",
      " ---+++                Epoch    8 Train error : 0.00486533 +++--- ☃\n"
     ]
    },
    {
     "name": "stderr",
     "output_type": "stream",
     "text": [
      "Epoch: 99.8%  lr: 0.000000  loss: 0.038213  eta: <1min   tot: 0h0m0s  (1.0%)"
     ]
    },
    {
     "name": "stdout",
     "output_type": "stream",
     "text": [
      "\n",
      "Validation error: 0.0388541\n",
      "Training epoch 9: 0.0091 0.0001\n"
     ]
    },
    {
     "name": "stderr",
     "output_type": "stream",
     "text": [
      "Epoch: 16.8%  lr: 0.000000  loss: 0.046569  eta: <1min   tot: 0h0m0s  (0.2%))"
     ]
    },
    {
     "name": "stdout",
     "output_type": "stream",
     "text": [
      "\n",
      " ---+++                Epoch    9 Train error : 0.00450197 +++--- ☃\n"
     ]
    },
    {
     "name": "stderr",
     "output_type": "stream",
     "text": [
      "Epoch: 4.2%  lr: 0.008999  loss: 0.004996  eta: 0h3m  tot: 0h0m30s  (10.0%))"
     ]
    },
    {
     "name": "stdout",
     "output_type": "stream",
     "text": [
      "\n",
      "Validation error: 0.038811\n",
      "Training epoch 10: 0.009 0.0001\n"
     ]
    },
    {
     "name": "stderr",
     "output_type": "stream",
     "text": [
      "Epoch: 100.0%  lr: 0.008900  loss: 0.004873  eta: 0h3m  tot: 0h0m32s  (11.0%)"
     ]
    },
    {
     "name": "stdout",
     "output_type": "stream",
     "text": [
      "\n",
      " ---+++                Epoch   10 Train error : 0.00430228 +++--- ☃\n"
     ]
    },
    {
     "name": "stderr",
     "output_type": "stream",
     "text": [
      "Epoch: 99.8%  lr: 0.000000  loss: 0.042140  eta: <1min   tot: 0h0m0s  (1.0%)"
     ]
    },
    {
     "name": "stdout",
     "output_type": "stream",
     "text": [
      "\n",
      "Validation error: 0.038842\n",
      "Training epoch 11: 0.0089 0.0001\n"
     ]
    },
    {
     "name": "stderr",
     "output_type": "stream",
     "text": [
      "Epoch: 16.8%  lr: 0.000000  loss: 0.035785  eta: <1min   tot: 0h0m0s  (0.2%))"
     ]
    },
    {
     "name": "stdout",
     "output_type": "stream",
     "text": [
      "\n",
      " ---+++                Epoch   11 Train error : 0.00410171 +++--- ☃\n"
     ]
    },
    {
     "name": "stderr",
     "output_type": "stream",
     "text": [
      "Epoch: 99.8%  lr: 0.000000  loss: 0.037887  eta: <1min   tot: 0h0m0s  (1.0%)"
     ]
    },
    {
     "name": "stdout",
     "output_type": "stream",
     "text": [
      "\n",
      "Validation error: 0.0384965\n",
      "Training epoch 12: 0.0088 0.0001\n"
     ]
    },
    {
     "name": "stderr",
     "output_type": "stream",
     "text": [
      "Epoch: 16.8%  lr: 0.000000  loss: 0.038166  eta: <1min   tot: 0h0m0s  (0.2%))"
     ]
    },
    {
     "name": "stdout",
     "output_type": "stream",
     "text": [
      "\n",
      " ---+++                Epoch   12 Train error : 0.00383016 +++--- ☃\n"
     ]
    },
    {
     "name": "stderr",
     "output_type": "stream",
     "text": [
      "Epoch: 4.2%  lr: 0.008695  loss: 0.002257  eta: 0h3m  tot: 0h0m39s  (13.0%))"
     ]
    },
    {
     "name": "stdout",
     "output_type": "stream",
     "text": [
      "\n",
      "Validation error: 0.0385843\n",
      "Training epoch 13: 0.0087 0.0001\n"
     ]
    },
    {
     "name": "stderr",
     "output_type": "stream",
     "text": [
      "Epoch: 100.0%  lr: 0.008600  loss: 0.003413  eta: 0h3m  tot: 0h0m41s  (14.0%)"
     ]
    },
    {
     "name": "stdout",
     "output_type": "stream",
     "text": [
      "\n",
      " ---+++                Epoch   13 Train error : 0.00370206 +++--- ☃\n"
     ]
    },
    {
     "name": "stderr",
     "output_type": "stream",
     "text": [
      "Epoch: 99.8%  lr: 0.000000  loss: 0.037894  eta: <1min   tot: 0h0m0s  (1.0%)"
     ]
    },
    {
     "name": "stdout",
     "output_type": "stream",
     "text": [
      "\n",
      "Validation error: 0.0381137\n",
      "Training epoch 14: 0.0086 0.0001\n"
     ]
    },
    {
     "name": "stderr",
     "output_type": "stream",
     "text": [
      "Epoch: 16.8%  lr: 0.000000  loss: 0.040506  eta: <1min   tot: 0h0m0s  (0.2%))"
     ]
    },
    {
     "name": "stdout",
     "output_type": "stream",
     "text": [
      "\n",
      " ---+++                Epoch   14 Train error : 0.00354424 +++--- ☃\n"
     ]
    },
    {
     "name": "stderr",
     "output_type": "stream",
     "text": [
      "Epoch: 99.8%  lr: 0.000000  loss: 0.040392  eta: <1min   tot: 0h0m0s  (1.0%)"
     ]
    },
    {
     "name": "stdout",
     "output_type": "stream",
     "text": [
      "\n",
      "Validation error: 0.0385817\n",
      "Training epoch 15: 0.0085 0.0001\n"
     ]
    },
    {
     "name": "stderr",
     "output_type": "stream",
     "text": [
      "Epoch: 16.8%  lr: 0.000000  loss: 0.043098  eta: <1min   tot: 0h0m0s  (0.2%))"
     ]
    },
    {
     "name": "stdout",
     "output_type": "stream",
     "text": [
      "\n",
      " ---+++                Epoch   15 Train error : 0.00333583 +++--- ☃\n"
     ]
    },
    {
     "name": "stderr",
     "output_type": "stream",
     "text": [
      "Epoch: 4.2%  lr: 0.008399  loss: 0.002498  eta: 0h3m  tot: 0h0m48s  (16.0%))"
     ]
    },
    {
     "name": "stdout",
     "output_type": "stream",
     "text": [
      "\n",
      "Validation error: 0.0385141\n",
      "Training epoch 16: 0.0084 0.0001\n"
     ]
    },
    {
     "name": "stderr",
     "output_type": "stream",
     "text": [
      "Epoch: 100.0%  lr: 0.008301  loss: 0.002857  eta: 0h3m  tot: 0h0m50s  (17.0%)"
     ]
    },
    {
     "name": "stdout",
     "output_type": "stream",
     "text": [
      "\n",
      " ---+++                Epoch   16 Train error : 0.00319568 +++--- ☃\n"
     ]
    },
    {
     "name": "stderr",
     "output_type": "stream",
     "text": [
      "Epoch: 99.8%  lr: 0.000000  loss: 0.036119  eta: <1min   tot: 0h0m0s  (1.0%)"
     ]
    },
    {
     "name": "stdout",
     "output_type": "stream",
     "text": [
      "\n",
      "Validation error: 0.0384931\n",
      "Training epoch 17: 0.0083 0.0001\n"
     ]
    },
    {
     "name": "stderr",
     "output_type": "stream",
     "text": [
      "Epoch: 16.8%  lr: 0.000000  loss: 0.036755  eta: <1min   tot: 0h0m0s  (0.2%))"
     ]
    },
    {
     "name": "stdout",
     "output_type": "stream",
     "text": [
      "\n",
      " ---+++                Epoch   17 Train error : 0.00306332 +++--- ☃\n"
     ]
    },
    {
     "name": "stderr",
     "output_type": "stream",
     "text": [
      "Epoch: 4.2%  lr: 0.008199  loss: 0.001492  eta: 0h3m  tot: 0h0m54s  (18.0%))"
     ]
    },
    {
     "name": "stdout",
     "output_type": "stream",
     "text": [
      "\n",
      "Validation error: 0.0380001\n",
      "Training epoch 18: 0.0082 0.0001\n"
     ]
    },
    {
     "name": "stderr",
     "output_type": "stream",
     "text": [
      "Epoch: 100.0%  lr: 0.008101  loss: 0.003212  eta: 0h3m  tot: 0h0m56s  (19.0%)"
     ]
    },
    {
     "name": "stdout",
     "output_type": "stream",
     "text": [
      "\n",
      " ---+++                Epoch   18 Train error : 0.00297363 +++--- ☃\n"
     ]
    },
    {
     "name": "stderr",
     "output_type": "stream",
     "text": [
      "Epoch: 99.8%  lr: 0.000000  loss: 0.036711  eta: <1min   tot: 0h0m0s  (1.0%)"
     ]
    },
    {
     "name": "stdout",
     "output_type": "stream",
     "text": [
      "\n",
      "Validation error: 0.0378011\n",
      "Training epoch 19: 0.0081 0.0001\n"
     ]
    },
    {
     "name": "stderr",
     "output_type": "stream",
     "text": [
      "Epoch: 16.8%  lr: 0.000000  loss: 0.035768  eta: <1min   tot: 0h0m0s  (0.2%))"
     ]
    },
    {
     "name": "stdout",
     "output_type": "stream",
     "text": [
      "\n",
      " ---+++                Epoch   19 Train error : 0.00298397 +++--- ☃\n"
     ]
    },
    {
     "name": "stderr",
     "output_type": "stream",
     "text": [
      "Epoch: 4.2%  lr: 0.007996  loss: 0.003117  eta: 0h3m  tot: 0h1m0s  (20.0%)%)"
     ]
    },
    {
     "name": "stdout",
     "output_type": "stream",
     "text": [
      "\n",
      "Validation error: 0.0387538\n",
      "Training epoch 20: 0.008 0.0001\n"
     ]
    },
    {
     "name": "stderr",
     "output_type": "stream",
     "text": [
      "Epoch: 100.0%  lr: 0.007900  loss: 0.002882  eta: 0h3m  tot: 0h1m2s  (21.0%)"
     ]
    },
    {
     "name": "stdout",
     "output_type": "stream",
     "text": [
      "\n",
      " ---+++                Epoch   20 Train error : 0.00287006 +++--- ☃\n"
     ]
    },
    {
     "name": "stderr",
     "output_type": "stream",
     "text": [
      "Epoch: 99.8%  lr: 0.000000  loss: 0.038287  eta: <1min   tot: 0h0m0s  (1.0%)"
     ]
    },
    {
     "name": "stdout",
     "output_type": "stream",
     "text": [
      "\n",
      "Validation error: 0.0383756\n",
      "Training epoch 21: 0.0079 0.0001\n"
     ]
    },
    {
     "name": "stderr",
     "output_type": "stream",
     "text": [
      "Epoch: 16.8%  lr: 0.000000  loss: 0.038261  eta: <1min   tot: 0h0m0s  (0.2%)"
     ]
    },
    {
     "name": "stdout",
     "output_type": "stream",
     "text": [
      "\n",
      " ---+++                Epoch   21 Train error : 0.00278273 +++--- ☃\n"
     ]
    },
    {
     "name": "stderr",
     "output_type": "stream",
     "text": [
      "Epoch: 4.2%  lr: 0.007795  loss: 0.002708  eta: 0h3m  tot: 0h1m6s  (22.0%)%)"
     ]
    },
    {
     "name": "stdout",
     "output_type": "stream",
     "text": [
      "\n",
      "Validation error: 0.0380095\n",
      "Training epoch 22: 0.0078 0.0001\n"
     ]
    },
    {
     "name": "stderr",
     "output_type": "stream",
     "text": [
      "Epoch: 100.0%  lr: 0.007700  loss: 0.002516  eta: 0h3m  tot: 0h1m8s  (23.0%)"
     ]
    },
    {
     "name": "stdout",
     "output_type": "stream",
     "text": [
      "\n",
      " ---+++                Epoch   22 Train error : 0.00271147 +++--- ☃\n"
     ]
    },
    {
     "name": "stderr",
     "output_type": "stream",
     "text": [
      "Epoch: 99.8%  lr: 0.000000  loss: 0.041603  eta: <1min   tot: 0h0m0s  (1.0%)"
     ]
    },
    {
     "name": "stdout",
     "output_type": "stream",
     "text": [
      "\n",
      "Validation error: 0.0385417\n",
      "Training epoch 23: 0.0077 0.0001\n"
     ]
    },
    {
     "name": "stderr",
     "output_type": "stream",
     "text": [
      "Epoch: 16.8%  lr: 0.000000  loss: 0.047371  eta: <1min   tot: 0h0m0s  (0.2%))"
     ]
    },
    {
     "name": "stdout",
     "output_type": "stream",
     "text": [
      "\n",
      " ---+++                Epoch   23 Train error : 0.00264169 +++--- ☃\n"
     ]
    },
    {
     "name": "stderr",
     "output_type": "stream",
     "text": [
      "Epoch: 99.8%  lr: 0.000000  loss: 0.041730  eta: <1min   tot: 0h0m0s  (1.0%)"
     ]
    },
    {
     "name": "stdout",
     "output_type": "stream",
     "text": [
      "\n",
      "Validation error: 0.0383183\n",
      "Ran out of Patience! Early stopping based on validation set.\n",
      "Saving model to file : /data/gcs_mount/artifacts/rating_spacing_simulator/productspace\n",
      "Saving model in tsv format : /data/gcs_mount/artifacts/rating_spacing_simulator/productspace.tsv\n"
     ]
    },
    {
     "data": {
      "application/javascript": [
       "\n",
       "            setTimeout(function() {\n",
       "                var nbb_cell_id = 8;\n",
       "                var nbb_unformatted_code = \"embedder.train_starspace()\";\n",
       "                var nbb_formatted_code = \"embedder.train_starspace()\";\n",
       "                var nbb_cells = Jupyter.notebook.get_cells();\n",
       "                for (var i = 0; i < nbb_cells.length; ++i) {\n",
       "                    if (nbb_cells[i].input_prompt_number == nbb_cell_id) {\n",
       "                        if (nbb_cells[i].get_text() == nbb_unformatted_code) {\n",
       "                             nbb_cells[i].set_text(nbb_formatted_code);\n",
       "                        }\n",
       "                        break;\n",
       "                    }\n",
       "                }\n",
       "            }, 500);\n",
       "            "
      ],
      "text/plain": [
       "<IPython.core.display.Javascript object>"
      ]
     },
     "metadata": {},
     "output_type": "display_data"
    }
   ],
   "source": [
    "embedder.train_starspace()"
   ]
  },
  {
   "cell_type": "code",
   "execution_count": 9,
   "id": "8b18a1a9",
   "metadata": {},
   "outputs": [
    {
     "name": "stderr",
     "output_type": "stream",
     "text": [
      "User embeddings: 100% 88312/88312 [00:58<00:00, 1516.73it/s]\n"
     ]
    },
    {
     "data": {
      "application/javascript": [
       "\n",
       "            setTimeout(function() {\n",
       "                var nbb_cell_id = 9;\n",
       "                var nbb_unformatted_code = \"embedder.get_user_embeddings()\";\n",
       "                var nbb_formatted_code = \"embedder.get_user_embeddings()\";\n",
       "                var nbb_cells = Jupyter.notebook.get_cells();\n",
       "                for (var i = 0; i < nbb_cells.length; ++i) {\n",
       "                    if (nbb_cells[i].input_prompt_number == nbb_cell_id) {\n",
       "                        if (nbb_cells[i].get_text() == nbb_unformatted_code) {\n",
       "                             nbb_cells[i].set_text(nbb_formatted_code);\n",
       "                        }\n",
       "                        break;\n",
       "                    }\n",
       "                }\n",
       "            }, 500);\n",
       "            "
      ],
      "text/plain": [
       "<IPython.core.display.Javascript object>"
      ]
     },
     "metadata": {},
     "output_type": "display_data"
    }
   ],
   "source": [
    "embedder.get_user_embeddings()"
   ]
  },
  {
   "cell_type": "markdown",
   "id": "5ad6379a",
   "metadata": {},
   "source": [
    "# Getting user embeddings from the trained product embeddings (rough)"
   ]
  },
  {
   "cell_type": "code",
   "execution_count": 27,
   "id": "87774a68",
   "metadata": {},
   "outputs": [
    {
     "data": {
      "application/javascript": [
       "\n",
       "            setTimeout(function() {\n",
       "                var nbb_cell_id = 27;\n",
       "                var nbb_unformatted_code = \"import pandas as pd\\nfrom snpe.embeddings import ARTIFACT_PATH\\nimport numpy as np\";\n",
       "                var nbb_formatted_code = \"import pandas as pd\\nfrom snpe.embeddings import ARTIFACT_PATH\\nimport numpy as np\";\n",
       "                var nbb_cells = Jupyter.notebook.get_cells();\n",
       "                for (var i = 0; i < nbb_cells.length; ++i) {\n",
       "                    if (nbb_cells[i].input_prompt_number == nbb_cell_id) {\n",
       "                        if (nbb_cells[i].get_text() == nbb_unformatted_code) {\n",
       "                             nbb_cells[i].set_text(nbb_formatted_code);\n",
       "                        }\n",
       "                        break;\n",
       "                    }\n",
       "                }\n",
       "            }, 500);\n",
       "            "
      ],
      "text/plain": [
       "<IPython.core.display.Javascript object>"
      ]
     },
     "metadata": {},
     "output_type": "display_data"
    }
   ],
   "source": [
    "import pandas as pd\n",
    "from snpe.embeddings import ARTIFACT_PATH\n",
    "import numpy as np"
   ]
  },
  {
   "cell_type": "code",
   "execution_count": 16,
   "id": "5fcaf8ef",
   "metadata": {},
   "outputs": [
    {
     "data": {
      "application/javascript": [
       "\n",
       "            setTimeout(function() {\n",
       "                var nbb_cell_id = 16;\n",
       "                var nbb_unformatted_code = \"product_embeddings = pd.read_csv(\\n    ARTIFACT_PATH / \\\"productspace.tsv\\\", sep=\\\"\\\\t\\\", header=None\\n)\\nproduct_embeddings.set_index(0, inplace=True)\";\n",
       "                var nbb_formatted_code = \"product_embeddings = pd.read_csv(\\n    ARTIFACT_PATH / \\\"productspace.tsv\\\", sep=\\\"\\\\t\\\", header=None\\n)\\nproduct_embeddings.set_index(0, inplace=True)\";\n",
       "                var nbb_cells = Jupyter.notebook.get_cells();\n",
       "                for (var i = 0; i < nbb_cells.length; ++i) {\n",
       "                    if (nbb_cells[i].input_prompt_number == nbb_cell_id) {\n",
       "                        if (nbb_cells[i].get_text() == nbb_unformatted_code) {\n",
       "                             nbb_cells[i].set_text(nbb_formatted_code);\n",
       "                        }\n",
       "                        break;\n",
       "                    }\n",
       "                }\n",
       "            }, 500);\n",
       "            "
      ],
      "text/plain": [
       "<IPython.core.display.Javascript object>"
      ]
     },
     "metadata": {},
     "output_type": "display_data"
    }
   ],
   "source": [
    "product_embeddings = pd.read_csv(\n",
    "    ARTIFACT_PATH / \"productspace.tsv\", sep=\"\\t\", header=None\n",
    ")\n",
    "product_embeddings.set_index(0, inplace=True)"
   ]
  },
  {
   "cell_type": "code",
   "execution_count": 17,
   "id": "49e7e0fd",
   "metadata": {},
   "outputs": [
    {
     "data": {
      "text/html": [
       "<div>\n",
       "<style scoped>\n",
       "    .dataframe tbody tr th:only-of-type {\n",
       "        vertical-align: middle;\n",
       "    }\n",
       "\n",
       "    .dataframe tbody tr th {\n",
       "        vertical-align: top;\n",
       "    }\n",
       "\n",
       "    .dataframe thead th {\n",
       "        text-align: right;\n",
       "    }\n",
       "</style>\n",
       "<table border=\"1\" class=\"dataframe\">\n",
       "  <thead>\n",
       "    <tr style=\"text-align: right;\">\n",
       "      <th></th>\n",
       "      <th>1</th>\n",
       "      <th>2</th>\n",
       "      <th>3</th>\n",
       "      <th>4</th>\n",
       "      <th>5</th>\n",
       "      <th>6</th>\n",
       "      <th>7</th>\n",
       "      <th>8</th>\n",
       "      <th>9</th>\n",
       "      <th>10</th>\n",
       "      <th>...</th>\n",
       "      <th>91</th>\n",
       "      <th>92</th>\n",
       "      <th>93</th>\n",
       "      <th>94</th>\n",
       "      <th>95</th>\n",
       "      <th>96</th>\n",
       "      <th>97</th>\n",
       "      <th>98</th>\n",
       "      <th>99</th>\n",
       "      <th>100</th>\n",
       "    </tr>\n",
       "    <tr>\n",
       "      <th>0</th>\n",
       "      <th></th>\n",
       "      <th></th>\n",
       "      <th></th>\n",
       "      <th></th>\n",
       "      <th></th>\n",
       "      <th></th>\n",
       "      <th></th>\n",
       "      <th></th>\n",
       "      <th></th>\n",
       "      <th></th>\n",
       "      <th></th>\n",
       "      <th></th>\n",
       "      <th></th>\n",
       "      <th></th>\n",
       "      <th></th>\n",
       "      <th></th>\n",
       "      <th></th>\n",
       "      <th></th>\n",
       "      <th></th>\n",
       "      <th></th>\n",
       "      <th></th>\n",
       "    </tr>\n",
       "  </thead>\n",
       "  <tbody>\n",
       "    <tr>\n",
       "      <th>product_2398095</th>\n",
       "      <td>-0.001270</td>\n",
       "      <td>-0.000933</td>\n",
       "      <td>-0.000562</td>\n",
       "      <td>-0.002692</td>\n",
       "      <td>0.000490</td>\n",
       "      <td>0.000528</td>\n",
       "      <td>0.002107</td>\n",
       "      <td>0.002334</td>\n",
       "      <td>-0.000293</td>\n",
       "      <td>-0.001277</td>\n",
       "      <td>...</td>\n",
       "      <td>-0.002607</td>\n",
       "      <td>0.003293</td>\n",
       "      <td>-0.000004</td>\n",
       "      <td>-0.001164</td>\n",
       "      <td>0.002318</td>\n",
       "      <td>0.002480</td>\n",
       "      <td>0.002833</td>\n",
       "      <td>-0.004393</td>\n",
       "      <td>-0.000220</td>\n",
       "      <td>-0.001683</td>\n",
       "    </tr>\n",
       "    <tr>\n",
       "      <th>product_2457747</th>\n",
       "      <td>0.002013</td>\n",
       "      <td>0.000114</td>\n",
       "      <td>0.002806</td>\n",
       "      <td>0.001696</td>\n",
       "      <td>0.001744</td>\n",
       "      <td>0.001199</td>\n",
       "      <td>0.000350</td>\n",
       "      <td>-0.000832</td>\n",
       "      <td>0.002622</td>\n",
       "      <td>0.002084</td>\n",
       "      <td>...</td>\n",
       "      <td>0.002565</td>\n",
       "      <td>0.002463</td>\n",
       "      <td>-0.000333</td>\n",
       "      <td>0.001525</td>\n",
       "      <td>0.002123</td>\n",
       "      <td>-0.000465</td>\n",
       "      <td>-0.001525</td>\n",
       "      <td>-0.000547</td>\n",
       "      <td>-0.000481</td>\n",
       "      <td>0.000093</td>\n",
       "    </tr>\n",
       "    <tr>\n",
       "      <th>product_2629881</th>\n",
       "      <td>0.003767</td>\n",
       "      <td>0.000245</td>\n",
       "      <td>-0.002049</td>\n",
       "      <td>0.000590</td>\n",
       "      <td>0.000047</td>\n",
       "      <td>0.002679</td>\n",
       "      <td>0.003511</td>\n",
       "      <td>0.000966</td>\n",
       "      <td>-0.001988</td>\n",
       "      <td>0.004283</td>\n",
       "      <td>...</td>\n",
       "      <td>-0.003949</td>\n",
       "      <td>0.003687</td>\n",
       "      <td>-0.003530</td>\n",
       "      <td>-0.006237</td>\n",
       "      <td>0.001332</td>\n",
       "      <td>-0.001096</td>\n",
       "      <td>0.001900</td>\n",
       "      <td>-0.002084</td>\n",
       "      <td>-0.001496</td>\n",
       "      <td>0.001897</td>\n",
       "    </tr>\n",
       "    <tr>\n",
       "      <th>product_2621353</th>\n",
       "      <td>0.000566</td>\n",
       "      <td>0.001446</td>\n",
       "      <td>-0.003122</td>\n",
       "      <td>0.007804</td>\n",
       "      <td>-0.004827</td>\n",
       "      <td>-0.000950</td>\n",
       "      <td>-0.000454</td>\n",
       "      <td>0.000080</td>\n",
       "      <td>0.002999</td>\n",
       "      <td>-0.003437</td>\n",
       "      <td>...</td>\n",
       "      <td>-0.000699</td>\n",
       "      <td>-0.003576</td>\n",
       "      <td>0.001432</td>\n",
       "      <td>-0.002055</td>\n",
       "      <td>0.000938</td>\n",
       "      <td>0.000461</td>\n",
       "      <td>0.003366</td>\n",
       "      <td>0.000158</td>\n",
       "      <td>0.006616</td>\n",
       "      <td>0.003174</td>\n",
       "    </tr>\n",
       "    <tr>\n",
       "      <th>product_1222540</th>\n",
       "      <td>0.001662</td>\n",
       "      <td>-0.000300</td>\n",
       "      <td>0.001292</td>\n",
       "      <td>0.002790</td>\n",
       "      <td>-0.001168</td>\n",
       "      <td>-0.003105</td>\n",
       "      <td>-0.004183</td>\n",
       "      <td>-0.003883</td>\n",
       "      <td>-0.002435</td>\n",
       "      <td>0.001610</td>\n",
       "      <td>...</td>\n",
       "      <td>-0.005319</td>\n",
       "      <td>0.000394</td>\n",
       "      <td>0.000741</td>\n",
       "      <td>-0.002827</td>\n",
       "      <td>0.002420</td>\n",
       "      <td>-0.005545</td>\n",
       "      <td>0.001209</td>\n",
       "      <td>0.000168</td>\n",
       "      <td>-0.001505</td>\n",
       "      <td>0.002486</td>\n",
       "    </tr>\n",
       "  </tbody>\n",
       "</table>\n",
       "<p>5 rows × 100 columns</p>\n",
       "</div>"
      ],
      "text/plain": [
       "                      1         2         3         4         5         6    \\\n",
       "0                                                                             \n",
       "product_2398095 -0.001270 -0.000933 -0.000562 -0.002692  0.000490  0.000528   \n",
       "product_2457747  0.002013  0.000114  0.002806  0.001696  0.001744  0.001199   \n",
       "product_2629881  0.003767  0.000245 -0.002049  0.000590  0.000047  0.002679   \n",
       "product_2621353  0.000566  0.001446 -0.003122  0.007804 -0.004827 -0.000950   \n",
       "product_1222540  0.001662 -0.000300  0.001292  0.002790 -0.001168 -0.003105   \n",
       "\n",
       "                      7         8         9         10   ...       91   \\\n",
       "0                                                        ...             \n",
       "product_2398095  0.002107  0.002334 -0.000293 -0.001277  ... -0.002607   \n",
       "product_2457747  0.000350 -0.000832  0.002622  0.002084  ...  0.002565   \n",
       "product_2629881  0.003511  0.000966 -0.001988  0.004283  ... -0.003949   \n",
       "product_2621353 -0.000454  0.000080  0.002999 -0.003437  ... -0.000699   \n",
       "product_1222540 -0.004183 -0.003883 -0.002435  0.001610  ... -0.005319   \n",
       "\n",
       "                      92        93        94        95        96        97   \\\n",
       "0                                                                             \n",
       "product_2398095  0.003293 -0.000004 -0.001164  0.002318  0.002480  0.002833   \n",
       "product_2457747  0.002463 -0.000333  0.001525  0.002123 -0.000465 -0.001525   \n",
       "product_2629881  0.003687 -0.003530 -0.006237  0.001332 -0.001096  0.001900   \n",
       "product_2621353 -0.003576  0.001432 -0.002055  0.000938  0.000461  0.003366   \n",
       "product_1222540  0.000394  0.000741 -0.002827  0.002420 -0.005545  0.001209   \n",
       "\n",
       "                      98        99        100  \n",
       "0                                              \n",
       "product_2398095 -0.004393 -0.000220 -0.001683  \n",
       "product_2457747 -0.000547 -0.000481  0.000093  \n",
       "product_2629881 -0.002084 -0.001496  0.001897  \n",
       "product_2621353  0.000158  0.006616  0.003174  \n",
       "product_1222540  0.000168 -0.001505  0.002486  \n",
       "\n",
       "[5 rows x 100 columns]"
      ]
     },
     "execution_count": 17,
     "metadata": {},
     "output_type": "execute_result"
    },
    {
     "data": {
      "application/javascript": [
       "\n",
       "            setTimeout(function() {\n",
       "                var nbb_cell_id = 17;\n",
       "                var nbb_unformatted_code = \"product_embeddings.head()\";\n",
       "                var nbb_formatted_code = \"product_embeddings.head()\";\n",
       "                var nbb_cells = Jupyter.notebook.get_cells();\n",
       "                for (var i = 0; i < nbb_cells.length; ++i) {\n",
       "                    if (nbb_cells[i].input_prompt_number == nbb_cell_id) {\n",
       "                        if (nbb_cells[i].get_text() == nbb_unformatted_code) {\n",
       "                             nbb_cells[i].set_text(nbb_formatted_code);\n",
       "                        }\n",
       "                        break;\n",
       "                    }\n",
       "                }\n",
       "            }, 500);\n",
       "            "
      ],
      "text/plain": [
       "<IPython.core.display.Javascript object>"
      ]
     },
     "metadata": {},
     "output_type": "display_data"
    }
   ],
   "source": [
    "product_embeddings.head()"
   ]
  },
  {
   "cell_type": "code",
   "execution_count": 29,
   "id": "e7d174f1",
   "metadata": {},
   "outputs": [
    {
     "data": {
      "text/plain": [
       "1      0.000196\n",
       "2     -0.000617\n",
       "3      0.000365\n",
       "4      0.000049\n",
       "5     -0.000339\n",
       "         ...   \n",
       "96    -0.001533\n",
       "97     0.002021\n",
       "98    -0.002113\n",
       "99    -0.000862\n",
       "100    0.000401\n",
       "Length: 100, dtype: float64"
      ]
     },
     "execution_count": 29,
     "metadata": {},
     "output_type": "execute_result"
    },
    {
     "data": {
      "application/javascript": [
       "\n",
       "            setTimeout(function() {\n",
       "                var nbb_cell_id = 29;\n",
       "                var nbb_unformatted_code = \"np.mean(product_embeddings.loc[[\\\"product_2398095\\\", \\\"product_1222540\\\"]], axis=0)\";\n",
       "                var nbb_formatted_code = \"np.mean(product_embeddings.loc[[\\\"product_2398095\\\", \\\"product_1222540\\\"]], axis=0)\";\n",
       "                var nbb_cells = Jupyter.notebook.get_cells();\n",
       "                for (var i = 0; i < nbb_cells.length; ++i) {\n",
       "                    if (nbb_cells[i].input_prompt_number == nbb_cell_id) {\n",
       "                        if (nbb_cells[i].get_text() == nbb_unformatted_code) {\n",
       "                             nbb_cells[i].set_text(nbb_formatted_code);\n",
       "                        }\n",
       "                        break;\n",
       "                    }\n",
       "                }\n",
       "            }, 500);\n",
       "            "
      ],
      "text/plain": [
       "<IPython.core.display.Javascript object>"
      ]
     },
     "metadata": {},
     "output_type": "display_data"
    }
   ],
   "source": [
    "np.mean(product_embeddings.loc[[\"product_2398095\", \"product_1222540\"]], axis=0)"
   ]
  },
  {
   "cell_type": "code",
   "execution_count": 24,
   "id": "a4123c24",
   "metadata": {},
   "outputs": [
    {
     "data": {
      "text/html": [
       "<div>\n",
       "<style scoped>\n",
       "    .dataframe tbody tr th:only-of-type {\n",
       "        vertical-align: middle;\n",
       "    }\n",
       "\n",
       "    .dataframe tbody tr th {\n",
       "        vertical-align: top;\n",
       "    }\n",
       "\n",
       "    .dataframe thead th {\n",
       "        text-align: right;\n",
       "    }\n",
       "</style>\n",
       "<table border=\"1\" class=\"dataframe\">\n",
       "  <thead>\n",
       "    <tr style=\"text-align: right;\">\n",
       "      <th></th>\n",
       "      <th>0</th>\n",
       "    </tr>\n",
       "  </thead>\n",
       "  <tbody>\n",
       "    <tr>\n",
       "      <th>0</th>\n",
       "      <td>product_7138126</td>\n",
       "    </tr>\n",
       "    <tr>\n",
       "      <th>1</th>\n",
       "      <td>product_294240</td>\n",
       "    </tr>\n",
       "    <tr>\n",
       "      <th>2</th>\n",
       "      <td>product_2266464</td>\n",
       "    </tr>\n",
       "    <tr>\n",
       "      <th>3</th>\n",
       "      <td>product_1415807 product_324512 product_4810485</td>\n",
       "    </tr>\n",
       "    <tr>\n",
       "      <th>4</th>\n",
       "      <td>product_1412477 product_3052914 product_2979146</td>\n",
       "    </tr>\n",
       "  </tbody>\n",
       "</table>\n",
       "</div>"
      ],
      "text/plain": [
       "                                                 0\n",
       "0                                  product_7138126\n",
       "1                                   product_294240\n",
       "2                                  product_2266464\n",
       "3   product_1415807 product_324512 product_4810485\n",
       "4  product_1412477 product_3052914 product_2979146"
      ]
     },
     "execution_count": 24,
     "metadata": {},
     "output_type": "execute_result"
    },
    {
     "data": {
      "application/javascript": [
       "\n",
       "            setTimeout(function() {\n",
       "                var nbb_cell_id = 24;\n",
       "                var nbb_unformatted_code = \"pageview_train = pd.read_csv(ARTIFACT_PATH / \\\"pageview_train.txt\\\", header=None)\\npageview_train.head()\";\n",
       "                var nbb_formatted_code = \"pageview_train = pd.read_csv(ARTIFACT_PATH / \\\"pageview_train.txt\\\", header=None)\\npageview_train.head()\";\n",
       "                var nbb_cells = Jupyter.notebook.get_cells();\n",
       "                for (var i = 0; i < nbb_cells.length; ++i) {\n",
       "                    if (nbb_cells[i].input_prompt_number == nbb_cell_id) {\n",
       "                        if (nbb_cells[i].get_text() == nbb_unformatted_code) {\n",
       "                             nbb_cells[i].set_text(nbb_formatted_code);\n",
       "                        }\n",
       "                        break;\n",
       "                    }\n",
       "                }\n",
       "            }, 500);\n",
       "            "
      ],
      "text/plain": [
       "<IPython.core.display.Javascript object>"
      ]
     },
     "metadata": {},
     "output_type": "display_data"
    }
   ],
   "source": [
    "pageview_train = pd.read_csv(ARTIFACT_PATH / \"pageview_train.txt\", header=None, sep)\n",
    "pageview_train.head()"
   ]
  },
  {
   "cell_type": "code",
   "execution_count": 30,
   "id": "52e3d0cc",
   "metadata": {},
   "outputs": [
    {
     "data": {
      "application/javascript": [
       "\n",
       "            setTimeout(function() {\n",
       "                var nbb_cell_id = 30;\n",
       "                var nbb_unformatted_code = \"num_users = pageview_train.shape[0]\\nnum_dimensions = product_embeddings.shape[1]\\nuser_embeddings = np.empty((num_users, num_dimensions))\";\n",
       "                var nbb_formatted_code = \"num_users = pageview_train.shape[0]\\nnum_dimensions = product_embeddings.shape[1]\\nuser_embeddings = np.empty((num_users, num_dimensions))\";\n",
       "                var nbb_cells = Jupyter.notebook.get_cells();\n",
       "                for (var i = 0; i < nbb_cells.length; ++i) {\n",
       "                    if (nbb_cells[i].input_prompt_number == nbb_cell_id) {\n",
       "                        if (nbb_cells[i].get_text() == nbb_unformatted_code) {\n",
       "                             nbb_cells[i].set_text(nbb_formatted_code);\n",
       "                        }\n",
       "                        break;\n",
       "                    }\n",
       "                }\n",
       "            }, 500);\n",
       "            "
      ],
      "text/plain": [
       "<IPython.core.display.Javascript object>"
      ]
     },
     "metadata": {},
     "output_type": "display_data"
    }
   ],
   "source": [
    "num_users = pageview_train.shape[0]\n",
    "num_dimensions = product_embeddings.shape[1]\n",
    "user_embeddings = np.empty((num_users, num_dimensions))"
   ]
  },
  {
   "cell_type": "code",
   "execution_count": 31,
   "id": "a14f8e02",
   "metadata": {},
   "outputs": [
    {
     "data": {
      "text/plain": [
       "(88312, 100)"
      ]
     },
     "execution_count": 31,
     "metadata": {},
     "output_type": "execute_result"
    },
    {
     "data": {
      "application/javascript": [
       "\n",
       "            setTimeout(function() {\n",
       "                var nbb_cell_id = 31;\n",
       "                var nbb_unformatted_code = \"user_embeddings.shape\";\n",
       "                var nbb_formatted_code = \"user_embeddings.shape\";\n",
       "                var nbb_cells = Jupyter.notebook.get_cells();\n",
       "                for (var i = 0; i < nbb_cells.length; ++i) {\n",
       "                    if (nbb_cells[i].input_prompt_number == nbb_cell_id) {\n",
       "                        if (nbb_cells[i].get_text() == nbb_unformatted_code) {\n",
       "                             nbb_cells[i].set_text(nbb_formatted_code);\n",
       "                        }\n",
       "                        break;\n",
       "                    }\n",
       "                }\n",
       "            }, 500);\n",
       "            "
      ],
      "text/plain": [
       "<IPython.core.display.Javascript object>"
      ]
     },
     "metadata": {},
     "output_type": "display_data"
    }
   ],
   "source": [
    "user_embeddings.shape"
   ]
  },
  {
   "cell_type": "code",
   "execution_count": 36,
   "id": "1ef793e1",
   "metadata": {},
   "outputs": [
    {
     "data": {
      "application/javascript": [
       "\n",
       "            setTimeout(function() {\n",
       "                var nbb_cell_id = 36;\n",
       "                var nbb_unformatted_code = \"for user in range(num_users):\\n    products_viewed = str.split(pageview_train.iloc[user, 0], \\\" \\\")\\n    user_embeddings[user, :] = np.mean(product_embeddings.loc[products_viewed], axis=0)\";\n",
       "                var nbb_formatted_code = \"for user in range(num_users):\\n    products_viewed = str.split(pageview_train.iloc[user, 0], \\\" \\\")\\n    user_embeddings[user, :] = np.mean(product_embeddings.loc[products_viewed], axis=0)\";\n",
       "                var nbb_cells = Jupyter.notebook.get_cells();\n",
       "                for (var i = 0; i < nbb_cells.length; ++i) {\n",
       "                    if (nbb_cells[i].input_prompt_number == nbb_cell_id) {\n",
       "                        if (nbb_cells[i].get_text() == nbb_unformatted_code) {\n",
       "                             nbb_cells[i].set_text(nbb_formatted_code);\n",
       "                        }\n",
       "                        break;\n",
       "                    }\n",
       "                }\n",
       "            }, 500);\n",
       "            "
      ],
      "text/plain": [
       "<IPython.core.display.Javascript object>"
      ]
     },
     "metadata": {},
     "output_type": "display_data"
    }
   ],
   "source": [
    "for user in range(num_users):\n",
    "    products_viewed = str.split(pageview_train.iloc[user, 0], \" \")\n",
    "    user_embeddings[user, :] = np.mean(product_embeddings.loc[products_viewed], axis=0)"
   ]
  },
  {
   "cell_type": "code",
   "execution_count": 38,
   "id": "ee1746ca",
   "metadata": {},
   "outputs": [
    {
     "data": {
      "text/plain": [
       "['product_3550887',\n",
       " 'product_6524700',\n",
       " 'product_1704532',\n",
       " 'product_3391077',\n",
       " 'product_2935609',\n",
       " 'product_3797248',\n",
       " 'product_6096908',\n",
       " 'product_2685997',\n",
       " 'product_1835494',\n",
       " 'product_4897051',\n",
       " 'product_1844904',\n",
       " 'product_1426841',\n",
       " 'product_1584707',\n",
       " 'product_2132983',\n",
       " 'product_1377299',\n",
       " 'product_3524916']"
      ]
     },
     "execution_count": 38,
     "metadata": {},
     "output_type": "execute_result"
    },
    {
     "data": {
      "application/javascript": [
       "\n",
       "            setTimeout(function() {\n",
       "                var nbb_cell_id = 38;\n",
       "                var nbb_unformatted_code = \"str.split(pageview_train.iloc[user, 0], \\\" \\\")\";\n",
       "                var nbb_formatted_code = \"str.split(pageview_train.iloc[user, 0], \\\" \\\")\";\n",
       "                var nbb_cells = Jupyter.notebook.get_cells();\n",
       "                for (var i = 0; i < nbb_cells.length; ++i) {\n",
       "                    if (nbb_cells[i].input_prompt_number == nbb_cell_id) {\n",
       "                        if (nbb_cells[i].get_text() == nbb_unformatted_code) {\n",
       "                             nbb_cells[i].set_text(nbb_formatted_code);\n",
       "                        }\n",
       "                        break;\n",
       "                    }\n",
       "                }\n",
       "            }, 500);\n",
       "            "
      ],
      "text/plain": [
       "<IPython.core.display.Javascript object>"
      ]
     },
     "metadata": {},
     "output_type": "display_data"
    }
   ],
   "source": [
    "str.split(pageview_train.iloc[user, 0], \" \")"
   ]
  },
  {
   "cell_type": "code",
   "execution_count": 39,
   "id": "d9f9bf1a",
   "metadata": {},
   "outputs": [
    {
     "data": {
      "text/plain": [
       "(16, 100)"
      ]
     },
     "execution_count": 39,
     "metadata": {},
     "output_type": "execute_result"
    },
    {
     "data": {
      "application/javascript": [
       "\n",
       "            setTimeout(function() {\n",
       "                var nbb_cell_id = 39;\n",
       "                var nbb_unformatted_code = \"product_embeddings.loc[products_viewed].shape\";\n",
       "                var nbb_formatted_code = \"product_embeddings.loc[products_viewed].shape\";\n",
       "                var nbb_cells = Jupyter.notebook.get_cells();\n",
       "                for (var i = 0; i < nbb_cells.length; ++i) {\n",
       "                    if (nbb_cells[i].input_prompt_number == nbb_cell_id) {\n",
       "                        if (nbb_cells[i].get_text() == nbb_unformatted_code) {\n",
       "                             nbb_cells[i].set_text(nbb_formatted_code);\n",
       "                        }\n",
       "                        break;\n",
       "                    }\n",
       "                }\n",
       "            }, 500);\n",
       "            "
      ],
      "text/plain": [
       "<IPython.core.display.Javascript object>"
      ]
     },
     "metadata": {},
     "output_type": "display_data"
    }
   ],
   "source": [
    "product_embeddings.loc[products_viewed].shape"
   ]
  },
  {
   "cell_type": "markdown",
   "id": "df503abc",
   "metadata": {},
   "source": [
    "# Testing starspace command line tool (rough)"
   ]
  },
  {
   "cell_type": "code",
   "execution_count": 16,
   "id": "32361424",
   "metadata": {},
   "outputs": [
    {
     "data": {
      "application/javascript": [
       "\n",
       "            setTimeout(function() {\n",
       "                var nbb_cell_id = 16;\n",
       "                var nbb_unformatted_code = \"import pyreadr\\nimport numpy as np\";\n",
       "                var nbb_formatted_code = \"import pyreadr\\nimport numpy as np\";\n",
       "                var nbb_cells = Jupyter.notebook.get_cells();\n",
       "                for (var i = 0; i < nbb_cells.length; ++i) {\n",
       "                    if (nbb_cells[i].input_prompt_number == nbb_cell_id) {\n",
       "                        if (nbb_cells[i].get_text() == nbb_unformatted_code) {\n",
       "                             nbb_cells[i].set_text(nbb_formatted_code);\n",
       "                        }\n",
       "                        break;\n",
       "                    }\n",
       "                }\n",
       "            }, 500);\n",
       "            "
      ],
      "text/plain": [
       "<IPython.core.display.Javascript object>"
      ]
     },
     "metadata": {},
     "output_type": "display_data"
    }
   ],
   "source": [
    "import pyreadr\n",
    "import numpy as np"
   ]
  },
  {
   "cell_type": "code",
   "execution_count": 4,
   "id": "27e70ffc",
   "metadata": {},
   "outputs": [
    {
     "data": {
      "text/html": [
       "<div>\n",
       "<style scoped>\n",
       "    .dataframe tbody tr th:only-of-type {\n",
       "        vertical-align: middle;\n",
       "    }\n",
       "\n",
       "    .dataframe tbody tr th {\n",
       "        vertical-align: top;\n",
       "    }\n",
       "\n",
       "    .dataframe thead th {\n",
       "        text-align: right;\n",
       "    }\n",
       "</style>\n",
       "<table border=\"1\" class=\"dataframe\">\n",
       "  <thead>\n",
       "    <tr style=\"text-align: right;\">\n",
       "      <th></th>\n",
       "      <th>productid</th>\n",
       "      <th>ProductsSeen</th>\n",
       "      <th>hasheduaip</th>\n",
       "      <th>ProductAvgReview</th>\n",
       "      <th>ProductNumberOfReviews</th>\n",
       "      <th>category_name_viewed</th>\n",
       "      <th>categoryid_of_viewed</th>\n",
       "      <th>category_name_focal</th>\n",
       "      <th>categoryid_of_focal</th>\n",
       "    </tr>\n",
       "  </thead>\n",
       "  <tbody>\n",
       "    <tr>\n",
       "      <th>0</th>\n",
       "      <td>1017360</td>\n",
       "      <td>1017360</td>\n",
       "      <td></td>\n",
       "      <td>4.3411</td>\n",
       "      <td>214</td>\n",
       "      <td>TV remote controls</td>\n",
       "      <td>33015078</td>\n",
       "      <td>TV remote controls</td>\n",
       "      <td>33015078</td>\n",
       "    </tr>\n",
       "    <tr>\n",
       "      <th>1</th>\n",
       "      <td>1017360</td>\n",
       "      <td>1076198</td>\n",
       "      <td></td>\n",
       "      <td>4.3411</td>\n",
       "      <td>214</td>\n",
       "      <td>TV remote controls</td>\n",
       "      <td>33015078</td>\n",
       "      <td>TV remote controls</td>\n",
       "      <td>33015078</td>\n",
       "    </tr>\n",
       "    <tr>\n",
       "      <th>2</th>\n",
       "      <td>1017470</td>\n",
       "      <td>326858</td>\n",
       "      <td></td>\n",
       "      <td>3.9091</td>\n",
       "      <td>44</td>\n",
       "      <td>Docking stations and speakers</td>\n",
       "      <td>36065095</td>\n",
       "      <td>Docking stations and speakers</td>\n",
       "      <td>36065095</td>\n",
       "    </tr>\n",
       "    <tr>\n",
       "      <th>3</th>\n",
       "      <td>1017470</td>\n",
       "      <td>1017470</td>\n",
       "      <td></td>\n",
       "      <td>3.9091</td>\n",
       "      <td>44</td>\n",
       "      <td>Docking stations and speakers</td>\n",
       "      <td>36065095</td>\n",
       "      <td>Docking stations and speakers</td>\n",
       "      <td>36065095</td>\n",
       "    </tr>\n",
       "    <tr>\n",
       "      <th>4</th>\n",
       "      <td>1017470</td>\n",
       "      <td>1085567</td>\n",
       "      <td></td>\n",
       "      <td>3.9091</td>\n",
       "      <td>44</td>\n",
       "      <td>Docking stations and speakers</td>\n",
       "      <td>36065095</td>\n",
       "      <td>Docking stations and speakers</td>\n",
       "      <td>36065095</td>\n",
       "    </tr>\n",
       "  </tbody>\n",
       "</table>\n",
       "</div>"
      ],
      "text/plain": [
       "   productid  ProductsSeen hasheduaip  ProductAvgReview  \\\n",
       "0    1017360       1017360                       4.3411   \n",
       "1    1017360       1076198                       4.3411   \n",
       "2    1017470        326858                       3.9091   \n",
       "3    1017470       1017470                       3.9091   \n",
       "4    1017470       1085567                       3.9091   \n",
       "\n",
       "   ProductNumberOfReviews           category_name_viewed categoryid_of_viewed  \\\n",
       "0                     214             TV remote controls             33015078   \n",
       "1                     214             TV remote controls             33015078   \n",
       "2                      44  Docking stations and speakers             36065095   \n",
       "3                      44  Docking stations and speakers             36065095   \n",
       "4                      44  Docking stations and speakers             36065095   \n",
       "\n",
       "             category_name_focal  categoryid_of_focal  \n",
       "0             TV remote controls             33015078  \n",
       "1             TV remote controls             33015078  \n",
       "2  Docking stations and speakers             36065095  \n",
       "3  Docking stations and speakers             36065095  \n",
       "4  Docking stations and speakers             36065095  "
      ]
     },
     "execution_count": 4,
     "metadata": {},
     "output_type": "execute_result"
    },
    {
     "data": {
      "application/javascript": [
       "\n",
       "            setTimeout(function() {\n",
       "                var nbb_cell_id = 4;\n",
       "                var nbb_unformatted_code = \"pageviews = pyreadr.read_r(\\\"../artifacts/marketplace/pageviews_data_bazaarvoice.Rds\\\")\\npageviews = pageviews[None]\\npageviews.head()\";\n",
       "                var nbb_formatted_code = \"pageviews = pyreadr.read_r(\\\"../artifacts/marketplace/pageviews_data_bazaarvoice.Rds\\\")\\npageviews = pageviews[None]\\npageviews.head()\";\n",
       "                var nbb_cells = Jupyter.notebook.get_cells();\n",
       "                for (var i = 0; i < nbb_cells.length; ++i) {\n",
       "                    if (nbb_cells[i].input_prompt_number == nbb_cell_id) {\n",
       "                        if (nbb_cells[i].get_text() == nbb_unformatted_code) {\n",
       "                             nbb_cells[i].set_text(nbb_formatted_code);\n",
       "                        }\n",
       "                        break;\n",
       "                    }\n",
       "                }\n",
       "            }, 500);\n",
       "            "
      ],
      "text/plain": [
       "<IPython.core.display.Javascript object>"
      ]
     },
     "metadata": {},
     "output_type": "display_data"
    }
   ],
   "source": [
    "pageviews = pyreadr.read_r(\"../artifacts/marketplace/pageviews_data_bazaarvoice.Rds\")\n",
    "pageviews = pageviews[None]\n",
    "pageviews.head()"
   ]
  },
  {
   "cell_type": "code",
   "execution_count": 5,
   "id": "42d986ef",
   "metadata": {},
   "outputs": [
    {
     "data": {
      "application/javascript": [
       "\n",
       "            setTimeout(function() {\n",
       "                var nbb_cell_id = 5;\n",
       "                var nbb_unformatted_code = \"import pandas as pd\";\n",
       "                var nbb_formatted_code = \"import pandas as pd\";\n",
       "                var nbb_cells = Jupyter.notebook.get_cells();\n",
       "                for (var i = 0; i < nbb_cells.length; ++i) {\n",
       "                    if (nbb_cells[i].input_prompt_number == nbb_cell_id) {\n",
       "                        if (nbb_cells[i].get_text() == nbb_unformatted_code) {\n",
       "                             nbb_cells[i].set_text(nbb_formatted_code);\n",
       "                        }\n",
       "                        break;\n",
       "                    }\n",
       "                }\n",
       "            }, 500);\n",
       "            "
      ],
      "text/plain": [
       "<IPython.core.display.Javascript object>"
      ]
     },
     "metadata": {},
     "output_type": "display_data"
    }
   ],
   "source": [
    "import pandas as pd"
   ]
  },
  {
   "cell_type": "markdown",
   "id": "256548bd",
   "metadata": {},
   "source": [
    "**We decided to produce starspace embeddings for all products in our dataset (not a single category), but fit a distribution (eg. Normalizing Flow) over only the products in the category we are interested in. We can use the embeddings of all the other products to train a neural network to predict product quality (aka final distribution of ratings) from product_embeddings**"
   ]
  },
  {
   "cell_type": "code",
   "execution_count": 6,
   "id": "bc0541e8",
   "metadata": {},
   "outputs": [
    {
     "name": "stderr",
     "output_type": "stream",
     "text": [
      "/opt/conda/lib/python3.8/site-packages/IPython/core/interactiveshell.py:3165: DtypeWarning: Columns (6) have mixed types.Specify dtype option on import or set low_memory=False.\n",
      "  has_raised = await self.run_ast_nodes(code_ast.body, cell_name,\n"
     ]
    },
    {
     "data": {
      "text/html": [
       "<div>\n",
       "<style scoped>\n",
       "    .dataframe tbody tr th:only-of-type {\n",
       "        vertical-align: middle;\n",
       "    }\n",
       "\n",
       "    .dataframe tbody tr th {\n",
       "        vertical-align: top;\n",
       "    }\n",
       "\n",
       "    .dataframe thead th {\n",
       "        text-align: right;\n",
       "    }\n",
       "</style>\n",
       "<table border=\"1\" class=\"dataframe\">\n",
       "  <thead>\n",
       "    <tr style=\"text-align: right;\">\n",
       "      <th></th>\n",
       "      <th>productid</th>\n",
       "      <th>VisitTimeStamp</th>\n",
       "      <th>ThisProductPurchased</th>\n",
       "      <th>ProductPrice</th>\n",
       "      <th>ProductAvgReview</th>\n",
       "      <th>ProductNumberOfReviews</th>\n",
       "      <th>bvid</th>\n",
       "      <th>hasheduaip</th>\n",
       "      <th>loadid</th>\n",
       "      <th>type</th>\n",
       "      <th>IDofMostRecentReview</th>\n",
       "      <th>WhetherMostRecentReviewWasSeen</th>\n",
       "      <th>ProductsSeen</th>\n",
       "    </tr>\n",
       "  </thead>\n",
       "  <tbody>\n",
       "    <tr>\n",
       "      <th>0</th>\n",
       "      <td>3550887.0</td>\n",
       "      <td>2015-03-14 13:05:09</td>\n",
       "      <td>f</td>\n",
       "      <td>\\N</td>\n",
       "      <td>0.0000</td>\n",
       "      <td>0.0</td>\n",
       "      <td>00001e38-2c31-479e-b9ee-0078bd38244e</td>\n",
       "      <td>NaN</td>\n",
       "      <td>e49d814b3f03f1cd</td>\n",
       "      <td>Product</td>\n",
       "      <td>47118474</td>\n",
       "      <td>t</td>\n",
       "      <td>3550887,2399166,2476773</td>\n",
       "    </tr>\n",
       "    <tr>\n",
       "      <th>1</th>\n",
       "      <td>3550887.0</td>\n",
       "      <td>2015-03-14 13:05:09</td>\n",
       "      <td>f</td>\n",
       "      <td>\\N</td>\n",
       "      <td>NaN</td>\n",
       "      <td>NaN</td>\n",
       "      <td>00001e38-2c31-479e-b9ee-0078bd38244e</td>\n",
       "      <td>NaN</td>\n",
       "      <td>e49d814b3f03f1cd</td>\n",
       "      <td>Product</td>\n",
       "      <td>47118474</td>\n",
       "      <td>t</td>\n",
       "      <td>3550887,2399166,2476773</td>\n",
       "    </tr>\n",
       "    <tr>\n",
       "      <th>2</th>\n",
       "      <td>2399166.0</td>\n",
       "      <td>2015-03-14 13:04:13</td>\n",
       "      <td>f</td>\n",
       "      <td>\\N</td>\n",
       "      <td>4.0000</td>\n",
       "      <td>3.0</td>\n",
       "      <td>00001e38-2c31-479e-b9ee-0078bd38244e</td>\n",
       "      <td>NaN</td>\n",
       "      <td>406e5ed51bb94425</td>\n",
       "      <td>Product</td>\n",
       "      <td>42593044</td>\n",
       "      <td>t</td>\n",
       "      <td>3550887,2399166,2476773</td>\n",
       "    </tr>\n",
       "    <tr>\n",
       "      <th>3</th>\n",
       "      <td>2399166.0</td>\n",
       "      <td>2015-03-14 13:04:13</td>\n",
       "      <td>f</td>\n",
       "      <td>\\N</td>\n",
       "      <td>NaN</td>\n",
       "      <td>NaN</td>\n",
       "      <td>00001e38-2c31-479e-b9ee-0078bd38244e</td>\n",
       "      <td>NaN</td>\n",
       "      <td>406e5ed51bb94425</td>\n",
       "      <td>Product</td>\n",
       "      <td>42593044</td>\n",
       "      <td>t</td>\n",
       "      <td>3550887,2399166,2476773</td>\n",
       "    </tr>\n",
       "    <tr>\n",
       "      <th>4</th>\n",
       "      <td>2476773.0</td>\n",
       "      <td>2015-03-14 12:52:48</td>\n",
       "      <td>f</td>\n",
       "      <td>249.99</td>\n",
       "      <td>4.3333</td>\n",
       "      <td>3.0</td>\n",
       "      <td>00001e38-2c31-479e-b9ee-0078bd38244e</td>\n",
       "      <td>NaN</td>\n",
       "      <td>badbb477b8d204d1</td>\n",
       "      <td>Product</td>\n",
       "      <td>47115055</td>\n",
       "      <td>f</td>\n",
       "      <td>3550887,2399166,2476773</td>\n",
       "    </tr>\n",
       "  </tbody>\n",
       "</table>\n",
       "</div>"
      ],
      "text/plain": [
       "   productid       VisitTimeStamp ThisProductPurchased ProductPrice  \\\n",
       "0  3550887.0  2015-03-14 13:05:09                    f           \\N   \n",
       "1  3550887.0  2015-03-14 13:05:09                    f           \\N   \n",
       "2  2399166.0  2015-03-14 13:04:13                    f           \\N   \n",
       "3  2399166.0  2015-03-14 13:04:13                    f           \\N   \n",
       "4  2476773.0  2015-03-14 12:52:48                    f       249.99   \n",
       "\n",
       "   ProductAvgReview  ProductNumberOfReviews  \\\n",
       "0            0.0000                     0.0   \n",
       "1               NaN                     NaN   \n",
       "2            4.0000                     3.0   \n",
       "3               NaN                     NaN   \n",
       "4            4.3333                     3.0   \n",
       "\n",
       "                                   bvid hasheduaip            loadid     type  \\\n",
       "0  00001e38-2c31-479e-b9ee-0078bd38244e        NaN  e49d814b3f03f1cd  Product   \n",
       "1  00001e38-2c31-479e-b9ee-0078bd38244e        NaN  e49d814b3f03f1cd  Product   \n",
       "2  00001e38-2c31-479e-b9ee-0078bd38244e        NaN  406e5ed51bb94425  Product   \n",
       "3  00001e38-2c31-479e-b9ee-0078bd38244e        NaN  406e5ed51bb94425  Product   \n",
       "4  00001e38-2c31-479e-b9ee-0078bd38244e        NaN  badbb477b8d204d1  Product   \n",
       "\n",
       "  IDofMostRecentReview WhetherMostRecentReviewWasSeen             ProductsSeen  \n",
       "0             47118474                              t  3550887,2399166,2476773  \n",
       "1             47118474                              t  3550887,2399166,2476773  \n",
       "2             42593044                              t  3550887,2399166,2476773  \n",
       "3             42593044                              t  3550887,2399166,2476773  \n",
       "4             47115055                              f  3550887,2399166,2476773  "
      ]
     },
     "execution_count": 6,
     "metadata": {},
     "output_type": "execute_result"
    },
    {
     "data": {
      "application/javascript": [
       "\n",
       "            setTimeout(function() {\n",
       "                var nbb_cell_id = 6;\n",
       "                var nbb_unformatted_code = \"pageview_summaries = pd.read_csv(\\n    \\\"../artifacts/marketplace/pageview_summaries.txt\\\", sep=\\\"\\\\t\\\"\\n)\\npageview_summaries.head()\";\n",
       "                var nbb_formatted_code = \"pageview_summaries = pd.read_csv(\\n    \\\"../artifacts/marketplace/pageview_summaries.txt\\\", sep=\\\"\\\\t\\\"\\n)\\npageview_summaries.head()\";\n",
       "                var nbb_cells = Jupyter.notebook.get_cells();\n",
       "                for (var i = 0; i < nbb_cells.length; ++i) {\n",
       "                    if (nbb_cells[i].input_prompt_number == nbb_cell_id) {\n",
       "                        if (nbb_cells[i].get_text() == nbb_unformatted_code) {\n",
       "                             nbb_cells[i].set_text(nbb_formatted_code);\n",
       "                        }\n",
       "                        break;\n",
       "                    }\n",
       "                }\n",
       "            }, 500);\n",
       "            "
      ],
      "text/plain": [
       "<IPython.core.display.Javascript object>"
      ]
     },
     "metadata": {},
     "output_type": "display_data"
    }
   ],
   "source": [
    "pageview_summaries = pd.read_csv(\n",
    "    \"../artifacts/marketplace/pageview_summaries.txt\", sep=\"\\t\"\n",
    ")\n",
    "pageview_summaries.head()"
   ]
  },
  {
   "cell_type": "code",
   "execution_count": 7,
   "id": "56d86881",
   "metadata": {},
   "outputs": [
    {
     "data": {
      "text/plain": [
       "(3204851, 13)"
      ]
     },
     "execution_count": 7,
     "metadata": {},
     "output_type": "execute_result"
    },
    {
     "data": {
      "application/javascript": [
       "\n",
       "            setTimeout(function() {\n",
       "                var nbb_cell_id = 7;\n",
       "                var nbb_unformatted_code = \"pageview_summaries.shape\";\n",
       "                var nbb_formatted_code = \"pageview_summaries.shape\";\n",
       "                var nbb_cells = Jupyter.notebook.get_cells();\n",
       "                for (var i = 0; i < nbb_cells.length; ++i) {\n",
       "                    if (nbb_cells[i].input_prompt_number == nbb_cell_id) {\n",
       "                        if (nbb_cells[i].get_text() == nbb_unformatted_code) {\n",
       "                             nbb_cells[i].set_text(nbb_formatted_code);\n",
       "                        }\n",
       "                        break;\n",
       "                    }\n",
       "                }\n",
       "            }, 500);\n",
       "            "
      ],
      "text/plain": [
       "<IPython.core.display.Javascript object>"
      ]
     },
     "metadata": {},
     "output_type": "display_data"
    }
   ],
   "source": [
    "pageview_summaries.shape"
   ]
  },
  {
   "cell_type": "code",
   "execution_count": 8,
   "id": "3787f7dd",
   "metadata": {},
   "outputs": [
    {
     "data": {
      "text/plain": [
       "0.3683503538854068"
      ]
     },
     "execution_count": 8,
     "metadata": {},
     "output_type": "execute_result"
    },
    {
     "data": {
      "application/javascript": [
       "\n",
       "            setTimeout(function() {\n",
       "                var nbb_cell_id = 8;\n",
       "                var nbb_unformatted_code = \"pageview_summaries.bvid.isnull().mean()\";\n",
       "                var nbb_formatted_code = \"pageview_summaries.bvid.isnull().mean()\";\n",
       "                var nbb_cells = Jupyter.notebook.get_cells();\n",
       "                for (var i = 0; i < nbb_cells.length; ++i) {\n",
       "                    if (nbb_cells[i].input_prompt_number == nbb_cell_id) {\n",
       "                        if (nbb_cells[i].get_text() == nbb_unformatted_code) {\n",
       "                             nbb_cells[i].set_text(nbb_formatted_code);\n",
       "                        }\n",
       "                        break;\n",
       "                    }\n",
       "                }\n",
       "            }, 500);\n",
       "            "
      ],
      "text/plain": [
       "<IPython.core.display.Javascript object>"
      ]
     },
     "metadata": {},
     "output_type": "display_data"
    }
   ],
   "source": [
    "pageview_summaries.bvid.isnull().mean()"
   ]
  },
  {
   "cell_type": "code",
   "execution_count": 9,
   "id": "c9b18438",
   "metadata": {},
   "outputs": [
    {
     "data": {
      "text/plain": [
       "0.0"
      ]
     },
     "execution_count": 9,
     "metadata": {},
     "output_type": "execute_result"
    },
    {
     "data": {
      "application/javascript": [
       "\n",
       "            setTimeout(function() {\n",
       "                var nbb_cell_id = 9;\n",
       "                var nbb_unformatted_code = \"pageview_summaries.ProductsSeen.isnull().mean()\";\n",
       "                var nbb_formatted_code = \"pageview_summaries.ProductsSeen.isnull().mean()\";\n",
       "                var nbb_cells = Jupyter.notebook.get_cells();\n",
       "                for (var i = 0; i < nbb_cells.length; ++i) {\n",
       "                    if (nbb_cells[i].input_prompt_number == nbb_cell_id) {\n",
       "                        if (nbb_cells[i].get_text() == nbb_unformatted_code) {\n",
       "                             nbb_cells[i].set_text(nbb_formatted_code);\n",
       "                        }\n",
       "                        break;\n",
       "                    }\n",
       "                }\n",
       "            }, 500);\n",
       "            "
      ],
      "text/plain": [
       "<IPython.core.display.Javascript object>"
      ]
     },
     "metadata": {},
     "output_type": "display_data"
    }
   ],
   "source": [
    "pageview_summaries.ProductsSeen.isnull().mean()"
   ]
  },
  {
   "cell_type": "code",
   "execution_count": 10,
   "id": "e387df79",
   "metadata": {},
   "outputs": [
    {
     "data": {
      "text/plain": [
       "0.034444971076658476"
      ]
     },
     "execution_count": 10,
     "metadata": {},
     "output_type": "execute_result"
    },
    {
     "data": {
      "application/javascript": [
       "\n",
       "            setTimeout(function() {\n",
       "                var nbb_cell_id = 10;\n",
       "                var nbb_unformatted_code = \"pageview_summaries[\\\"ProductsSeen\\\"].unique().shape[0] / pageview_summaries.shape[0]\";\n",
       "                var nbb_formatted_code = \"pageview_summaries[\\\"ProductsSeen\\\"].unique().shape[0] / pageview_summaries.shape[0]\";\n",
       "                var nbb_cells = Jupyter.notebook.get_cells();\n",
       "                for (var i = 0; i < nbb_cells.length; ++i) {\n",
       "                    if (nbb_cells[i].input_prompt_number == nbb_cell_id) {\n",
       "                        if (nbb_cells[i].get_text() == nbb_unformatted_code) {\n",
       "                             nbb_cells[i].set_text(nbb_formatted_code);\n",
       "                        }\n",
       "                        break;\n",
       "                    }\n",
       "                }\n",
       "            }, 500);\n",
       "            "
      ],
      "text/plain": [
       "<IPython.core.display.Javascript object>"
      ]
     },
     "metadata": {},
     "output_type": "display_data"
    }
   ],
   "source": [
    "pageview_summaries[\"ProductsSeen\"].unique().shape[0] / pageview_summaries.shape[0]"
   ]
  },
  {
   "cell_type": "code",
   "execution_count": 11,
   "id": "3f66f2ff",
   "metadata": {},
   "outputs": [
    {
     "data": {
      "text/html": [
       "<div>\n",
       "<style scoped>\n",
       "    .dataframe tbody tr th:only-of-type {\n",
       "        vertical-align: middle;\n",
       "    }\n",
       "\n",
       "    .dataframe tbody tr th {\n",
       "        vertical-align: top;\n",
       "    }\n",
       "\n",
       "    .dataframe thead th {\n",
       "        text-align: right;\n",
       "    }\n",
       "</style>\n",
       "<table border=\"1\" class=\"dataframe\">\n",
       "  <thead>\n",
       "    <tr style=\"text-align: right;\">\n",
       "      <th></th>\n",
       "      <th>productid</th>\n",
       "      <th>VisitTimeStamp</th>\n",
       "      <th>ThisProductPurchased</th>\n",
       "      <th>ProductPrice</th>\n",
       "      <th>ProductAvgReview</th>\n",
       "      <th>ProductNumberOfReviews</th>\n",
       "      <th>bvid</th>\n",
       "      <th>hasheduaip</th>\n",
       "      <th>loadid</th>\n",
       "      <th>type</th>\n",
       "      <th>IDofMostRecentReview</th>\n",
       "      <th>WhetherMostRecentReviewWasSeen</th>\n",
       "      <th>ProductsSeen</th>\n",
       "    </tr>\n",
       "  </thead>\n",
       "  <tbody>\n",
       "    <tr>\n",
       "      <th>0</th>\n",
       "      <td>3550887.0</td>\n",
       "      <td>2015-03-14 13:05:09</td>\n",
       "      <td>f</td>\n",
       "      <td>\\N</td>\n",
       "      <td>0.0000</td>\n",
       "      <td>0.0</td>\n",
       "      <td>00001e38-2c31-479e-b9ee-0078bd38244e</td>\n",
       "      <td>NaN</td>\n",
       "      <td>e49d814b3f03f1cd</td>\n",
       "      <td>Product</td>\n",
       "      <td>47118474</td>\n",
       "      <td>t</td>\n",
       "      <td>3550887,2399166,2476773</td>\n",
       "    </tr>\n",
       "    <tr>\n",
       "      <th>1</th>\n",
       "      <td>3550887.0</td>\n",
       "      <td>2015-03-14 13:05:09</td>\n",
       "      <td>f</td>\n",
       "      <td>\\N</td>\n",
       "      <td>NaN</td>\n",
       "      <td>NaN</td>\n",
       "      <td>00001e38-2c31-479e-b9ee-0078bd38244e</td>\n",
       "      <td>NaN</td>\n",
       "      <td>e49d814b3f03f1cd</td>\n",
       "      <td>Product</td>\n",
       "      <td>47118474</td>\n",
       "      <td>t</td>\n",
       "      <td>3550887,2399166,2476773</td>\n",
       "    </tr>\n",
       "    <tr>\n",
       "      <th>2</th>\n",
       "      <td>2399166.0</td>\n",
       "      <td>2015-03-14 13:04:13</td>\n",
       "      <td>f</td>\n",
       "      <td>\\N</td>\n",
       "      <td>4.0000</td>\n",
       "      <td>3.0</td>\n",
       "      <td>00001e38-2c31-479e-b9ee-0078bd38244e</td>\n",
       "      <td>NaN</td>\n",
       "      <td>406e5ed51bb94425</td>\n",
       "      <td>Product</td>\n",
       "      <td>42593044</td>\n",
       "      <td>t</td>\n",
       "      <td>3550887,2399166,2476773</td>\n",
       "    </tr>\n",
       "    <tr>\n",
       "      <th>3</th>\n",
       "      <td>2399166.0</td>\n",
       "      <td>2015-03-14 13:04:13</td>\n",
       "      <td>f</td>\n",
       "      <td>\\N</td>\n",
       "      <td>NaN</td>\n",
       "      <td>NaN</td>\n",
       "      <td>00001e38-2c31-479e-b9ee-0078bd38244e</td>\n",
       "      <td>NaN</td>\n",
       "      <td>406e5ed51bb94425</td>\n",
       "      <td>Product</td>\n",
       "      <td>42593044</td>\n",
       "      <td>t</td>\n",
       "      <td>3550887,2399166,2476773</td>\n",
       "    </tr>\n",
       "    <tr>\n",
       "      <th>4</th>\n",
       "      <td>2476773.0</td>\n",
       "      <td>2015-03-14 12:52:48</td>\n",
       "      <td>f</td>\n",
       "      <td>249.99</td>\n",
       "      <td>4.3333</td>\n",
       "      <td>3.0</td>\n",
       "      <td>00001e38-2c31-479e-b9ee-0078bd38244e</td>\n",
       "      <td>NaN</td>\n",
       "      <td>badbb477b8d204d1</td>\n",
       "      <td>Product</td>\n",
       "      <td>47115055</td>\n",
       "      <td>f</td>\n",
       "      <td>3550887,2399166,2476773</td>\n",
       "    </tr>\n",
       "    <tr>\n",
       "      <th>5</th>\n",
       "      <td>2476773.0</td>\n",
       "      <td>2015-03-14 12:52:48</td>\n",
       "      <td>f</td>\n",
       "      <td>249.99</td>\n",
       "      <td>NaN</td>\n",
       "      <td>NaN</td>\n",
       "      <td>00001e38-2c31-479e-b9ee-0078bd38244e</td>\n",
       "      <td>NaN</td>\n",
       "      <td>badbb477b8d204d1</td>\n",
       "      <td>Product</td>\n",
       "      <td>47115055</td>\n",
       "      <td>f</td>\n",
       "      <td>3550887,2399166,2476773</td>\n",
       "    </tr>\n",
       "    <tr>\n",
       "      <th>6</th>\n",
       "      <td>3191040.0</td>\n",
       "      <td>2015-03-04 13:25:22</td>\n",
       "      <td>f</td>\n",
       "      <td>269.99</td>\n",
       "      <td>4.3333</td>\n",
       "      <td>33.0</td>\n",
       "      <td>00004e69-01d5-4f8a-89e2-e2d5a40836f9</td>\n",
       "      <td>NaN</td>\n",
       "      <td>731e25598da004834</td>\n",
       "      <td>Product</td>\n",
       "      <td>46613093</td>\n",
       "      <td>f</td>\n",
       "      <td>1374467,1393840,3191040</td>\n",
       "    </tr>\n",
       "    <tr>\n",
       "      <th>7</th>\n",
       "      <td>3191040.0</td>\n",
       "      <td>2015-03-04 13:25:22</td>\n",
       "      <td>f</td>\n",
       "      <td>269.99</td>\n",
       "      <td>NaN</td>\n",
       "      <td>NaN</td>\n",
       "      <td>00004e69-01d5-4f8a-89e2-e2d5a40836f9</td>\n",
       "      <td>NaN</td>\n",
       "      <td>731e25598da004834</td>\n",
       "      <td>Product</td>\n",
       "      <td>46613093</td>\n",
       "      <td>f</td>\n",
       "      <td>1374467,1393840,3191040</td>\n",
       "    </tr>\n",
       "    <tr>\n",
       "      <th>8</th>\n",
       "      <td>NaN</td>\n",
       "      <td>2015-03-04 13:42:14</td>\n",
       "      <td>f</td>\n",
       "      <td>\\N</td>\n",
       "      <td>NaN</td>\n",
       "      <td>NaN</td>\n",
       "      <td>00004e69-01d5-4f8a-89e2-e2d5a40836f9</td>\n",
       "      <td>NaN</td>\n",
       "      <td>b9ce352f09ca46629</td>\n",
       "      <td>Category</td>\n",
       "      <td>\\N</td>\n",
       "      <td>f</td>\n",
       "      <td>1374467,1393840,3191040</td>\n",
       "    </tr>\n",
       "    <tr>\n",
       "      <th>9</th>\n",
       "      <td>NaN</td>\n",
       "      <td>2015-03-04 13:27:21</td>\n",
       "      <td>f</td>\n",
       "      <td>\\N</td>\n",
       "      <td>NaN</td>\n",
       "      <td>NaN</td>\n",
       "      <td>00004e69-01d5-4f8a-89e2-e2d5a40836f9</td>\n",
       "      <td>NaN</td>\n",
       "      <td>77f90417db27b970178d</td>\n",
       "      <td>Category</td>\n",
       "      <td>\\N</td>\n",
       "      <td>f</td>\n",
       "      <td>1374467,1393840,3191040</td>\n",
       "    </tr>\n",
       "  </tbody>\n",
       "</table>\n",
       "</div>"
      ],
      "text/plain": [
       "   productid       VisitTimeStamp ThisProductPurchased ProductPrice  \\\n",
       "0  3550887.0  2015-03-14 13:05:09                    f           \\N   \n",
       "1  3550887.0  2015-03-14 13:05:09                    f           \\N   \n",
       "2  2399166.0  2015-03-14 13:04:13                    f           \\N   \n",
       "3  2399166.0  2015-03-14 13:04:13                    f           \\N   \n",
       "4  2476773.0  2015-03-14 12:52:48                    f       249.99   \n",
       "5  2476773.0  2015-03-14 12:52:48                    f       249.99   \n",
       "6  3191040.0  2015-03-04 13:25:22                    f       269.99   \n",
       "7  3191040.0  2015-03-04 13:25:22                    f       269.99   \n",
       "8        NaN  2015-03-04 13:42:14                    f           \\N   \n",
       "9        NaN  2015-03-04 13:27:21                    f           \\N   \n",
       "\n",
       "   ProductAvgReview  ProductNumberOfReviews  \\\n",
       "0            0.0000                     0.0   \n",
       "1               NaN                     NaN   \n",
       "2            4.0000                     3.0   \n",
       "3               NaN                     NaN   \n",
       "4            4.3333                     3.0   \n",
       "5               NaN                     NaN   \n",
       "6            4.3333                    33.0   \n",
       "7               NaN                     NaN   \n",
       "8               NaN                     NaN   \n",
       "9               NaN                     NaN   \n",
       "\n",
       "                                   bvid hasheduaip                loadid  \\\n",
       "0  00001e38-2c31-479e-b9ee-0078bd38244e        NaN      e49d814b3f03f1cd   \n",
       "1  00001e38-2c31-479e-b9ee-0078bd38244e        NaN      e49d814b3f03f1cd   \n",
       "2  00001e38-2c31-479e-b9ee-0078bd38244e        NaN      406e5ed51bb94425   \n",
       "3  00001e38-2c31-479e-b9ee-0078bd38244e        NaN      406e5ed51bb94425   \n",
       "4  00001e38-2c31-479e-b9ee-0078bd38244e        NaN      badbb477b8d204d1   \n",
       "5  00001e38-2c31-479e-b9ee-0078bd38244e        NaN      badbb477b8d204d1   \n",
       "6  00004e69-01d5-4f8a-89e2-e2d5a40836f9        NaN     731e25598da004834   \n",
       "7  00004e69-01d5-4f8a-89e2-e2d5a40836f9        NaN     731e25598da004834   \n",
       "8  00004e69-01d5-4f8a-89e2-e2d5a40836f9        NaN     b9ce352f09ca46629   \n",
       "9  00004e69-01d5-4f8a-89e2-e2d5a40836f9        NaN  77f90417db27b970178d   \n",
       "\n",
       "       type IDofMostRecentReview WhetherMostRecentReviewWasSeen  \\\n",
       "0   Product             47118474                              t   \n",
       "1   Product             47118474                              t   \n",
       "2   Product             42593044                              t   \n",
       "3   Product             42593044                              t   \n",
       "4   Product             47115055                              f   \n",
       "5   Product             47115055                              f   \n",
       "6   Product             46613093                              f   \n",
       "7   Product             46613093                              f   \n",
       "8  Category                   \\N                              f   \n",
       "9  Category                   \\N                              f   \n",
       "\n",
       "              ProductsSeen  \n",
       "0  3550887,2399166,2476773  \n",
       "1  3550887,2399166,2476773  \n",
       "2  3550887,2399166,2476773  \n",
       "3  3550887,2399166,2476773  \n",
       "4  3550887,2399166,2476773  \n",
       "5  3550887,2399166,2476773  \n",
       "6  1374467,1393840,3191040  \n",
       "7  1374467,1393840,3191040  \n",
       "8  1374467,1393840,3191040  \n",
       "9  1374467,1393840,3191040  "
      ]
     },
     "execution_count": 11,
     "metadata": {},
     "output_type": "execute_result"
    },
    {
     "data": {
      "application/javascript": [
       "\n",
       "            setTimeout(function() {\n",
       "                var nbb_cell_id = 11;\n",
       "                var nbb_unformatted_code = \"pageview_summaries.head(10)\";\n",
       "                var nbb_formatted_code = \"pageview_summaries.head(10)\";\n",
       "                var nbb_cells = Jupyter.notebook.get_cells();\n",
       "                for (var i = 0; i < nbb_cells.length; ++i) {\n",
       "                    if (nbb_cells[i].input_prompt_number == nbb_cell_id) {\n",
       "                        if (nbb_cells[i].get_text() == nbb_unformatted_code) {\n",
       "                             nbb_cells[i].set_text(nbb_formatted_code);\n",
       "                        }\n",
       "                        break;\n",
       "                    }\n",
       "                }\n",
       "            }, 500);\n",
       "            "
      ],
      "text/plain": [
       "<IPython.core.display.Javascript object>"
      ]
     },
     "metadata": {},
     "output_type": "display_data"
    }
   ],
   "source": [
    "pageview_summaries.head(10)"
   ]
  },
  {
   "cell_type": "code",
   "execution_count": 12,
   "id": "09a6beb5",
   "metadata": {},
   "outputs": [
    {
     "data": {
      "text/plain": [
       "0           product_3550887 product_2399166 product_2476773\n",
       "1           product_1374467 product_1393840 product_3191040\n",
       "2                                           product_2441715\n",
       "3                           product_6523811 product_2952266\n",
       "4           product_8900645 product_1702462 product_3796586\n",
       "                                ...                        \n",
       "110386      product_4871699 product_4871778 product_4764744\n",
       "110387                      product_3224412 product_3225947\n",
       "110388      product_9015838 product_6249102 product_9015814\n",
       "110389    product_3596102 product_3315819 product_339349...\n",
       "110390    product_2764636 product_3214532 product_152942...\n",
       "Length: 110391, dtype: object"
      ]
     },
     "execution_count": 12,
     "metadata": {},
     "output_type": "execute_result"
    },
    {
     "data": {
      "application/javascript": [
       "\n",
       "            setTimeout(function() {\n",
       "                var nbb_cell_id = 12;\n",
       "                var nbb_unformatted_code = \"pd.Series(pageview_summaries[\\\"ProductsSeen\\\"].unique()).str.split(\\\",\\\").apply(\\n    lambda x: [\\\"product_\\\" + str(token) for token in x]\\n).str.join(\\\" \\\")\";\n",
       "                var nbb_formatted_code = \"pd.Series(pageview_summaries[\\\"ProductsSeen\\\"].unique()).str.split(\\\",\\\").apply(\\n    lambda x: [\\\"product_\\\" + str(token) for token in x]\\n).str.join(\\\" \\\")\";\n",
       "                var nbb_cells = Jupyter.notebook.get_cells();\n",
       "                for (var i = 0; i < nbb_cells.length; ++i) {\n",
       "                    if (nbb_cells[i].input_prompt_number == nbb_cell_id) {\n",
       "                        if (nbb_cells[i].get_text() == nbb_unformatted_code) {\n",
       "                             nbb_cells[i].set_text(nbb_formatted_code);\n",
       "                        }\n",
       "                        break;\n",
       "                    }\n",
       "                }\n",
       "            }, 500);\n",
       "            "
      ],
      "text/plain": [
       "<IPython.core.display.Javascript object>"
      ]
     },
     "metadata": {},
     "output_type": "display_data"
    }
   ],
   "source": [
    "pd.Series(pageview_summaries[\"ProductsSeen\"].unique()).str.split(\",\").apply(\n",
    "    lambda x: [\"product_\" + str(token) for token in x]\n",
    ").str.join(\" \")"
   ]
  },
  {
   "cell_type": "code",
   "execution_count": 13,
   "id": "5e2b958f",
   "metadata": {},
   "outputs": [
    {
     "data": {
      "application/javascript": [
       "\n",
       "            setTimeout(function() {\n",
       "                var nbb_cell_id = 13;\n",
       "                var nbb_unformatted_code = \"pageview_strings = (\\n    pd.Series(pageview_summaries[\\\"ProductsSeen\\\"].unique())\\n    .str.split(\\\",\\\")\\n    .apply(lambda x: [\\\"product_\\\" + str(token) for token in x])\\n    .str.join(\\\" \\\")\\n)\";\n",
       "                var nbb_formatted_code = \"pageview_strings = (\\n    pd.Series(pageview_summaries[\\\"ProductsSeen\\\"].unique())\\n    .str.split(\\\",\\\")\\n    .apply(lambda x: [\\\"product_\\\" + str(token) for token in x])\\n    .str.join(\\\" \\\")\\n)\";\n",
       "                var nbb_cells = Jupyter.notebook.get_cells();\n",
       "                for (var i = 0; i < nbb_cells.length; ++i) {\n",
       "                    if (nbb_cells[i].input_prompt_number == nbb_cell_id) {\n",
       "                        if (nbb_cells[i].get_text() == nbb_unformatted_code) {\n",
       "                             nbb_cells[i].set_text(nbb_formatted_code);\n",
       "                        }\n",
       "                        break;\n",
       "                    }\n",
       "                }\n",
       "            }, 500);\n",
       "            "
      ],
      "text/plain": [
       "<IPython.core.display.Javascript object>"
      ]
     },
     "metadata": {},
     "output_type": "display_data"
    }
   ],
   "source": [
    "pageview_strings = (\n",
    "    pd.Series(pageview_summaries[\"ProductsSeen\"].unique())\n",
    "    .str.split(\",\")\n",
    "    .apply(lambda x: [\"product_\" + str(token) for token in x])\n",
    "    .str.join(\" \")\n",
    ")"
   ]
  },
  {
   "cell_type": "code",
   "execution_count": 13,
   "id": "491a6a43",
   "metadata": {},
   "outputs": [
    {
     "data": {
      "application/javascript": [
       "\n",
       "            setTimeout(function() {\n",
       "                var nbb_cell_id = 13;\n",
       "                var nbb_unformatted_code = \"from sklearn.model_selection import train_test_split\";\n",
       "                var nbb_formatted_code = \"from sklearn.model_selection import train_test_split\";\n",
       "                var nbb_cells = Jupyter.notebook.get_cells();\n",
       "                for (var i = 0; i < nbb_cells.length; ++i) {\n",
       "                    if (nbb_cells[i].input_prompt_number == nbb_cell_id) {\n",
       "                        if (nbb_cells[i].get_text() == nbb_unformatted_code) {\n",
       "                             nbb_cells[i].set_text(nbb_formatted_code);\n",
       "                        }\n",
       "                        break;\n",
       "                    }\n",
       "                }\n",
       "            }, 500);\n",
       "            "
      ],
      "text/plain": [
       "<IPython.core.display.Javascript object>"
      ]
     },
     "metadata": {},
     "output_type": "display_data"
    }
   ],
   "source": [
    "from sklearn.model_selection import train_test_split"
   ]
  },
  {
   "cell_type": "code",
   "execution_count": 14,
   "id": "a8c0476c",
   "metadata": {},
   "outputs": [
    {
     "data": {
      "text/plain": [
       "((88312,), (22079,))"
      ]
     },
     "execution_count": 14,
     "metadata": {},
     "output_type": "execute_result"
    },
    {
     "data": {
      "application/javascript": [
       "\n",
       "            setTimeout(function() {\n",
       "                var nbb_cell_id = 14;\n",
       "                var nbb_unformatted_code = \"pageview_train, pageview_test = train_test_split(pageview_strings, test_size=0.2)\\npageview_train.shape, pageview_test.shape\";\n",
       "                var nbb_formatted_code = \"pageview_train, pageview_test = train_test_split(pageview_strings, test_size=0.2)\\npageview_train.shape, pageview_test.shape\";\n",
       "                var nbb_cells = Jupyter.notebook.get_cells();\n",
       "                for (var i = 0; i < nbb_cells.length; ++i) {\n",
       "                    if (nbb_cells[i].input_prompt_number == nbb_cell_id) {\n",
       "                        if (nbb_cells[i].get_text() == nbb_unformatted_code) {\n",
       "                             nbb_cells[i].set_text(nbb_formatted_code);\n",
       "                        }\n",
       "                        break;\n",
       "                    }\n",
       "                }\n",
       "            }, 500);\n",
       "            "
      ],
      "text/plain": [
       "<IPython.core.display.Javascript object>"
      ]
     },
     "metadata": {},
     "output_type": "display_data"
    }
   ],
   "source": [
    "pageview_train, pageview_test = train_test_split(pageview_strings, test_size=0.2)\n",
    "pageview_train.shape, pageview_test.shape"
   ]
  },
  {
   "cell_type": "code",
   "execution_count": 15,
   "id": "0355be27",
   "metadata": {},
   "outputs": [
    {
     "data": {
      "application/javascript": [
       "\n",
       "            setTimeout(function() {\n",
       "                var nbb_cell_id = 15;\n",
       "                var nbb_unformatted_code = \"pageview_strings.to_csv(\\n    \\\"../artifacts/marketplace/pageview_strings.txt\\\", index=False, encoding=\\\"utf-8\\\"\\n)\\npageview_train.to_csv(\\n    \\\"../artifacts/marketplace/pageview_train.txt\\\", index=False, encoding=\\\"utf-8\\\"\\n)\\npageview_test.to_csv(\\n    \\\"../artifacts/marketplace/pageview_test.txt\\\", index=False, encoding=\\\"utf-8\\\"\\n)\";\n",
       "                var nbb_formatted_code = \"pageview_strings.to_csv(\\n    \\\"../artifacts/marketplace/pageview_strings.txt\\\", index=False, encoding=\\\"utf-8\\\"\\n)\\npageview_train.to_csv(\\n    \\\"../artifacts/marketplace/pageview_train.txt\\\", index=False, encoding=\\\"utf-8\\\"\\n)\\npageview_test.to_csv(\\n    \\\"../artifacts/marketplace/pageview_test.txt\\\", index=False, encoding=\\\"utf-8\\\"\\n)\";\n",
       "                var nbb_cells = Jupyter.notebook.get_cells();\n",
       "                for (var i = 0; i < nbb_cells.length; ++i) {\n",
       "                    if (nbb_cells[i].input_prompt_number == nbb_cell_id) {\n",
       "                        if (nbb_cells[i].get_text() == nbb_unformatted_code) {\n",
       "                             nbb_cells[i].set_text(nbb_formatted_code);\n",
       "                        }\n",
       "                        break;\n",
       "                    }\n",
       "                }\n",
       "            }, 500);\n",
       "            "
      ],
      "text/plain": [
       "<IPython.core.display.Javascript object>"
      ]
     },
     "metadata": {},
     "output_type": "display_data"
    }
   ],
   "source": [
    "pageview_strings.to_csv(\n",
    "    \"../artifacts/marketplace/pageview_strings.txt\", index=False, encoding=\"utf-8\"\n",
    ")\n",
    "pageview_train.to_csv(\n",
    "    \"../artifacts/marketplace/pageview_train.txt\", index=False, encoding=\"utf-8\"\n",
    ")\n",
    "pageview_test.to_csv(\n",
    "    \"../artifacts/marketplace/pageview_test.txt\", index=False, encoding=\"utf-8\"\n",
    ")"
   ]
  },
  {
   "cell_type": "code",
   "execution_count": 26,
   "id": "c4cd7e05",
   "metadata": {},
   "outputs": [
    {
     "data": {
      "application/javascript": [
       "\n",
       "            setTimeout(function() {\n",
       "                var nbb_cell_id = 26;\n",
       "                var nbb_unformatted_code = \"a = np.array(\\n    pd.Series(pageview_summaries[\\\"ProductsSeen\\\"].unique())\\n    .str.split(\\\",\\\")\\n    .apply(lambda x: np.array(x).astype(\\\"int\\\"))\\n)\";\n",
       "                var nbb_formatted_code = \"a = np.array(\\n    pd.Series(pageview_summaries[\\\"ProductsSeen\\\"].unique())\\n    .str.split(\\\",\\\")\\n    .apply(lambda x: np.array(x).astype(\\\"int\\\"))\\n)\";\n",
       "                var nbb_cells = Jupyter.notebook.get_cells();\n",
       "                for (var i = 0; i < nbb_cells.length; ++i) {\n",
       "                    if (nbb_cells[i].input_prompt_number == nbb_cell_id) {\n",
       "                        if (nbb_cells[i].get_text() == nbb_unformatted_code) {\n",
       "                             nbb_cells[i].set_text(nbb_formatted_code);\n",
       "                        }\n",
       "                        break;\n",
       "                    }\n",
       "                }\n",
       "            }, 500);\n",
       "            "
      ],
      "text/plain": [
       "<IPython.core.display.Javascript object>"
      ]
     },
     "metadata": {},
     "output_type": "display_data"
    }
   ],
   "source": [
    "a = np.array(\n",
    "    pd.Series(pageview_summaries[\"ProductsSeen\"].unique())\n",
    "    .str.split(\",\")\n",
    "    .apply(lambda x: np.array(x).astype(\"int\"))\n",
    ")"
   ]
  },
  {
   "cell_type": "code",
   "execution_count": 27,
   "id": "9ee4a22c",
   "metadata": {},
   "outputs": [
    {
     "data": {
      "text/plain": [
       "(478749,)"
      ]
     },
     "execution_count": 27,
     "metadata": {},
     "output_type": "execute_result"
    },
    {
     "data": {
      "application/javascript": [
       "\n",
       "            setTimeout(function() {\n",
       "                var nbb_cell_id = 27;\n",
       "                var nbb_unformatted_code = \"a = np.concatenate(a)\\na.shape\";\n",
       "                var nbb_formatted_code = \"a = np.concatenate(a)\\na.shape\";\n",
       "                var nbb_cells = Jupyter.notebook.get_cells();\n",
       "                for (var i = 0; i < nbb_cells.length; ++i) {\n",
       "                    if (nbb_cells[i].input_prompt_number == nbb_cell_id) {\n",
       "                        if (nbb_cells[i].get_text() == nbb_unformatted_code) {\n",
       "                             nbb_cells[i].set_text(nbb_formatted_code);\n",
       "                        }\n",
       "                        break;\n",
       "                    }\n",
       "                }\n",
       "            }, 500);\n",
       "            "
      ],
      "text/plain": [
       "<IPython.core.display.Javascript object>"
      ]
     },
     "metadata": {},
     "output_type": "display_data"
    }
   ],
   "source": [
    "a = np.concatenate(a)\n",
    "a.shape"
   ]
  },
  {
   "cell_type": "code",
   "execution_count": 29,
   "id": "acad8e27",
   "metadata": {},
   "outputs": [
    {
     "data": {
      "text/plain": [
       "(32933,)"
      ]
     },
     "execution_count": 29,
     "metadata": {},
     "output_type": "execute_result"
    },
    {
     "data": {
      "application/javascript": [
       "\n",
       "            setTimeout(function() {\n",
       "                var nbb_cell_id = 29;\n",
       "                var nbb_unformatted_code = \"np.unique(a).shape\";\n",
       "                var nbb_formatted_code = \"np.unique(a).shape\";\n",
       "                var nbb_cells = Jupyter.notebook.get_cells();\n",
       "                for (var i = 0; i < nbb_cells.length; ++i) {\n",
       "                    if (nbb_cells[i].input_prompt_number == nbb_cell_id) {\n",
       "                        if (nbb_cells[i].get_text() == nbb_unformatted_code) {\n",
       "                             nbb_cells[i].set_text(nbb_formatted_code);\n",
       "                        }\n",
       "                        break;\n",
       "                    }\n",
       "                }\n",
       "            }, 500);\n",
       "            "
      ],
      "text/plain": [
       "<IPython.core.display.Javascript object>"
      ]
     },
     "metadata": {},
     "output_type": "display_data"
    }
   ],
   "source": [
    "np.unique(a).shape"
   ]
  },
  {
   "cell_type": "markdown",
   "id": "9c173561",
   "metadata": {},
   "source": [
    "# Checking artifact deposited by StarSpace\n",
    "\n",
    "**Starspace command**\n",
    "\n",
    "./starspace train -trainFile /media/glia/reputation-systems/snpe/artifacts/marketplace/pageview_train.txt -model productspace -label 'product' -trainMode 1 -epoch 100 -validationPatience 10 -validationFile /media/glia/reputation-systems/snpe/artifacts/marketplace/pageview_test.txt -thread 16\n",
    "\n",
    "\n",
    "Lots and lots of parameters, probably need to set up a model tuning code"
   ]
  },
  {
   "cell_type": "code",
   "execution_count": 47,
   "id": "2c38cf98",
   "metadata": {},
   "outputs": [
    {
     "data": {
      "application/javascript": [
       "\n",
       "            setTimeout(function() {\n",
       "                var nbb_cell_id = 47;\n",
       "                var nbb_unformatted_code = \"product_embeddings = pd.read_csv(\\n    \\\"../artifacts/marketplace/productspace.tsv\\\", sep=\\\"\\\\t\\\", header=None\\n)\";\n",
       "                var nbb_formatted_code = \"product_embeddings = pd.read_csv(\\n    \\\"../artifacts/marketplace/productspace.tsv\\\", sep=\\\"\\\\t\\\", header=None\\n)\";\n",
       "                var nbb_cells = Jupyter.notebook.get_cells();\n",
       "                for (var i = 0; i < nbb_cells.length; ++i) {\n",
       "                    if (nbb_cells[i].input_prompt_number == nbb_cell_id) {\n",
       "                        if (nbb_cells[i].get_text() == nbb_unformatted_code) {\n",
       "                             nbb_cells[i].set_text(nbb_formatted_code);\n",
       "                        }\n",
       "                        break;\n",
       "                    }\n",
       "                }\n",
       "            }, 500);\n",
       "            "
      ],
      "text/plain": [
       "<IPython.core.display.Javascript object>"
      ]
     },
     "metadata": {},
     "output_type": "display_data"
    }
   ],
   "source": [
    "product_embeddings = pd.read_csv(\n",
    "    \"../artifacts/marketplace/productspace.tsv\", sep=\"\\t\", header=None\n",
    ")"
   ]
  },
  {
   "cell_type": "code",
   "execution_count": 48,
   "id": "2509aa09",
   "metadata": {},
   "outputs": [
    {
     "data": {
      "text/html": [
       "<div>\n",
       "<style scoped>\n",
       "    .dataframe tbody tr th:only-of-type {\n",
       "        vertical-align: middle;\n",
       "    }\n",
       "\n",
       "    .dataframe tbody tr th {\n",
       "        vertical-align: top;\n",
       "    }\n",
       "\n",
       "    .dataframe thead th {\n",
       "        text-align: right;\n",
       "    }\n",
       "</style>\n",
       "<table border=\"1\" class=\"dataframe\">\n",
       "  <thead>\n",
       "    <tr style=\"text-align: right;\">\n",
       "      <th></th>\n",
       "      <th>0</th>\n",
       "      <th>1</th>\n",
       "      <th>2</th>\n",
       "      <th>3</th>\n",
       "      <th>4</th>\n",
       "      <th>5</th>\n",
       "      <th>6</th>\n",
       "      <th>7</th>\n",
       "      <th>8</th>\n",
       "      <th>9</th>\n",
       "      <th>...</th>\n",
       "      <th>91</th>\n",
       "      <th>92</th>\n",
       "      <th>93</th>\n",
       "      <th>94</th>\n",
       "      <th>95</th>\n",
       "      <th>96</th>\n",
       "      <th>97</th>\n",
       "      <th>98</th>\n",
       "      <th>99</th>\n",
       "      <th>100</th>\n",
       "    </tr>\n",
       "  </thead>\n",
       "  <tbody>\n",
       "    <tr>\n",
       "      <th>0</th>\n",
       "      <td>product_2398095</td>\n",
       "      <td>-0.000342</td>\n",
       "      <td>0.001594</td>\n",
       "      <td>0.001381</td>\n",
       "      <td>-0.001720</td>\n",
       "      <td>0.000024</td>\n",
       "      <td>0.001139</td>\n",
       "      <td>-0.003441</td>\n",
       "      <td>0.002121</td>\n",
       "      <td>0.000136</td>\n",
       "      <td>...</td>\n",
       "      <td>0.000377</td>\n",
       "      <td>-0.003633</td>\n",
       "      <td>-0.002781</td>\n",
       "      <td>-0.000685</td>\n",
       "      <td>-0.000697</td>\n",
       "      <td>0.000008</td>\n",
       "      <td>0.003361</td>\n",
       "      <td>-0.000343</td>\n",
       "      <td>-0.001666</td>\n",
       "      <td>-0.001669</td>\n",
       "    </tr>\n",
       "    <tr>\n",
       "      <th>1</th>\n",
       "      <td>product_2629881</td>\n",
       "      <td>-0.003545</td>\n",
       "      <td>-0.001928</td>\n",
       "      <td>0.002686</td>\n",
       "      <td>-0.004293</td>\n",
       "      <td>0.002870</td>\n",
       "      <td>0.000466</td>\n",
       "      <td>-0.002480</td>\n",
       "      <td>0.001578</td>\n",
       "      <td>-0.000770</td>\n",
       "      <td>...</td>\n",
       "      <td>-0.000536</td>\n",
       "      <td>-0.000995</td>\n",
       "      <td>0.001846</td>\n",
       "      <td>-0.001848</td>\n",
       "      <td>0.000751</td>\n",
       "      <td>-0.001648</td>\n",
       "      <td>-0.001224</td>\n",
       "      <td>-0.002357</td>\n",
       "      <td>-0.002670</td>\n",
       "      <td>0.005191</td>\n",
       "    </tr>\n",
       "    <tr>\n",
       "      <th>2</th>\n",
       "      <td>product_2457747</td>\n",
       "      <td>0.002997</td>\n",
       "      <td>0.001438</td>\n",
       "      <td>0.001200</td>\n",
       "      <td>0.002703</td>\n",
       "      <td>0.000953</td>\n",
       "      <td>-0.001649</td>\n",
       "      <td>-0.001580</td>\n",
       "      <td>0.000305</td>\n",
       "      <td>0.001011</td>\n",
       "      <td>...</td>\n",
       "      <td>0.000090</td>\n",
       "      <td>-0.001305</td>\n",
       "      <td>0.000379</td>\n",
       "      <td>-0.001880</td>\n",
       "      <td>0.001493</td>\n",
       "      <td>0.002100</td>\n",
       "      <td>-0.000627</td>\n",
       "      <td>0.000235</td>\n",
       "      <td>0.000883</td>\n",
       "      <td>0.002010</td>\n",
       "    </tr>\n",
       "    <tr>\n",
       "      <th>3</th>\n",
       "      <td>product_2621353</td>\n",
       "      <td>0.000150</td>\n",
       "      <td>-0.002810</td>\n",
       "      <td>0.000399</td>\n",
       "      <td>0.000554</td>\n",
       "      <td>0.002330</td>\n",
       "      <td>-0.001891</td>\n",
       "      <td>-0.000404</td>\n",
       "      <td>-0.000718</td>\n",
       "      <td>0.002021</td>\n",
       "      <td>...</td>\n",
       "      <td>0.002116</td>\n",
       "      <td>-0.000727</td>\n",
       "      <td>-0.000577</td>\n",
       "      <td>-0.000851</td>\n",
       "      <td>0.000717</td>\n",
       "      <td>0.001625</td>\n",
       "      <td>0.000882</td>\n",
       "      <td>0.002180</td>\n",
       "      <td>0.001483</td>\n",
       "      <td>-0.002198</td>\n",
       "    </tr>\n",
       "    <tr>\n",
       "      <th>4</th>\n",
       "      <td>product_2598651</td>\n",
       "      <td>-0.001935</td>\n",
       "      <td>-0.001259</td>\n",
       "      <td>0.002641</td>\n",
       "      <td>-0.000337</td>\n",
       "      <td>0.000513</td>\n",
       "      <td>-0.006381</td>\n",
       "      <td>0.001413</td>\n",
       "      <td>-0.001804</td>\n",
       "      <td>0.000256</td>\n",
       "      <td>...</td>\n",
       "      <td>0.000438</td>\n",
       "      <td>0.002462</td>\n",
       "      <td>0.003383</td>\n",
       "      <td>-0.000635</td>\n",
       "      <td>0.002466</td>\n",
       "      <td>-0.004213</td>\n",
       "      <td>0.004412</td>\n",
       "      <td>0.000639</td>\n",
       "      <td>0.003211</td>\n",
       "      <td>-0.000423</td>\n",
       "    </tr>\n",
       "  </tbody>\n",
       "</table>\n",
       "<p>5 rows × 101 columns</p>\n",
       "</div>"
      ],
      "text/plain": [
       "               0         1         2         3         4         5    \\\n",
       "0  product_2398095 -0.000342  0.001594  0.001381 -0.001720  0.000024   \n",
       "1  product_2629881 -0.003545 -0.001928  0.002686 -0.004293  0.002870   \n",
       "2  product_2457747  0.002997  0.001438  0.001200  0.002703  0.000953   \n",
       "3  product_2621353  0.000150 -0.002810  0.000399  0.000554  0.002330   \n",
       "4  product_2598651 -0.001935 -0.001259  0.002641 -0.000337  0.000513   \n",
       "\n",
       "        6         7         8         9    ...       91        92        93   \\\n",
       "0  0.001139 -0.003441  0.002121  0.000136  ...  0.000377 -0.003633 -0.002781   \n",
       "1  0.000466 -0.002480  0.001578 -0.000770  ... -0.000536 -0.000995  0.001846   \n",
       "2 -0.001649 -0.001580  0.000305  0.001011  ...  0.000090 -0.001305  0.000379   \n",
       "3 -0.001891 -0.000404 -0.000718  0.002021  ...  0.002116 -0.000727 -0.000577   \n",
       "4 -0.006381  0.001413 -0.001804  0.000256  ...  0.000438  0.002462  0.003383   \n",
       "\n",
       "        94        95        96        97        98        99        100  \n",
       "0 -0.000685 -0.000697  0.000008  0.003361 -0.000343 -0.001666 -0.001669  \n",
       "1 -0.001848  0.000751 -0.001648 -0.001224 -0.002357 -0.002670  0.005191  \n",
       "2 -0.001880  0.001493  0.002100 -0.000627  0.000235  0.000883  0.002010  \n",
       "3 -0.000851  0.000717  0.001625  0.000882  0.002180  0.001483 -0.002198  \n",
       "4 -0.000635  0.002466 -0.004213  0.004412  0.000639  0.003211 -0.000423  \n",
       "\n",
       "[5 rows x 101 columns]"
      ]
     },
     "execution_count": 48,
     "metadata": {},
     "output_type": "execute_result"
    },
    {
     "data": {
      "application/javascript": [
       "\n",
       "            setTimeout(function() {\n",
       "                var nbb_cell_id = 48;\n",
       "                var nbb_unformatted_code = \"product_embeddings.head()\";\n",
       "                var nbb_formatted_code = \"product_embeddings.head()\";\n",
       "                var nbb_cells = Jupyter.notebook.get_cells();\n",
       "                for (var i = 0; i < nbb_cells.length; ++i) {\n",
       "                    if (nbb_cells[i].input_prompt_number == nbb_cell_id) {\n",
       "                        if (nbb_cells[i].get_text() == nbb_unformatted_code) {\n",
       "                             nbb_cells[i].set_text(nbb_formatted_code);\n",
       "                        }\n",
       "                        break;\n",
       "                    }\n",
       "                }\n",
       "            }, 500);\n",
       "            "
      ],
      "text/plain": [
       "<IPython.core.display.Javascript object>"
      ]
     },
     "metadata": {},
     "output_type": "display_data"
    }
   ],
   "source": [
    "product_embeddings.head()"
   ]
  },
  {
   "cell_type": "code",
   "execution_count": 49,
   "id": "33c9ca0b",
   "metadata": {},
   "outputs": [
    {
     "data": {
      "text/plain": [
       "(31726, 101)"
      ]
     },
     "execution_count": 49,
     "metadata": {},
     "output_type": "execute_result"
    },
    {
     "data": {
      "application/javascript": [
       "\n",
       "            setTimeout(function() {\n",
       "                var nbb_cell_id = 49;\n",
       "                var nbb_unformatted_code = \"product_embeddings.shape\";\n",
       "                var nbb_formatted_code = \"product_embeddings.shape\";\n",
       "                var nbb_cells = Jupyter.notebook.get_cells();\n",
       "                for (var i = 0; i < nbb_cells.length; ++i) {\n",
       "                    if (nbb_cells[i].input_prompt_number == nbb_cell_id) {\n",
       "                        if (nbb_cells[i].get_text() == nbb_unformatted_code) {\n",
       "                             nbb_cells[i].set_text(nbb_formatted_code);\n",
       "                        }\n",
       "                        break;\n",
       "                    }\n",
       "                }\n",
       "            }, 500);\n",
       "            "
      ],
      "text/plain": [
       "<IPython.core.display.Javascript object>"
      ]
     },
     "metadata": {},
     "output_type": "display_data"
    }
   ],
   "source": [
    "product_embeddings.shape"
   ]
  },
  {
   "cell_type": "code",
   "execution_count": null,
   "id": "62a8943a",
   "metadata": {},
   "outputs": [],
   "source": []
  }
 ],
 "metadata": {
  "kernelspec": {
   "display_name": "Python 3 (ipykernel)",
   "language": "python",
   "name": "python3"
  },
  "language_info": {
   "codemirror_mode": {
    "name": "ipython",
    "version": 3
   },
   "file_extension": ".py",
   "mimetype": "text/x-python",
   "name": "python",
   "nbconvert_exporter": "python",
   "pygments_lexer": "ipython3",
   "version": "3.9.12"
  }
 },
 "nbformat": 4,
 "nbformat_minor": 5
}
