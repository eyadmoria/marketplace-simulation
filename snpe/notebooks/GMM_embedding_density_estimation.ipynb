{
 "cells": [
  {
   "cell_type": "code",
   "execution_count": 1,
   "id": "8b9c3699",
   "metadata": {},
   "outputs": [],
   "source": [
    "%load_ext autoreload\n",
    "%autoreload 2"
   ]
  },
  {
   "cell_type": "code",
   "execution_count": 2,
   "id": "e70134ae",
   "metadata": {},
   "outputs": [
    {
     "data": {
      "application/javascript": [
       "\n",
       "            setTimeout(function() {\n",
       "                var nbb_cell_id = 2;\n",
       "                var nbb_unformatted_code = \"# Just a formatting related plugin\\n%load_ext nb_black\";\n",
       "                var nbb_formatted_code = \"# Just a formatting related plugin\\n%load_ext nb_black\";\n",
       "                var nbb_cells = Jupyter.notebook.get_cells();\n",
       "                for (var i = 0; i < nbb_cells.length; ++i) {\n",
       "                    if (nbb_cells[i].input_prompt_number == nbb_cell_id) {\n",
       "                        if (nbb_cells[i].get_text() == nbb_unformatted_code) {\n",
       "                             nbb_cells[i].set_text(nbb_formatted_code);\n",
       "                        }\n",
       "                        break;\n",
       "                    }\n",
       "                }\n",
       "            }, 500);\n",
       "            "
      ],
      "text/plain": [
       "<IPython.core.display.Javascript object>"
      ]
     },
     "metadata": {},
     "output_type": "display_data"
    }
   ],
   "source": [
    "# Just a formatting related plugin\n",
    "%load_ext nb_black"
   ]
  },
  {
   "cell_type": "code",
   "execution_count": 3,
   "id": "d1c38bea",
   "metadata": {},
   "outputs": [
    {
     "data": {
      "application/javascript": [
       "\n",
       "            setTimeout(function() {\n",
       "                var nbb_cell_id = 3;\n",
       "                var nbb_unformatted_code = \"%matplotlib inline\\nimport matplotlib.pyplot as plt\";\n",
       "                var nbb_formatted_code = \"%matplotlib inline\\nimport matplotlib.pyplot as plt\";\n",
       "                var nbb_cells = Jupyter.notebook.get_cells();\n",
       "                for (var i = 0; i < nbb_cells.length; ++i) {\n",
       "                    if (nbb_cells[i].input_prompt_number == nbb_cell_id) {\n",
       "                        if (nbb_cells[i].get_text() == nbb_unformatted_code) {\n",
       "                             nbb_cells[i].set_text(nbb_formatted_code);\n",
       "                        }\n",
       "                        break;\n",
       "                    }\n",
       "                }\n",
       "            }, 500);\n",
       "            "
      ],
      "text/plain": [
       "<IPython.core.display.Javascript object>"
      ]
     },
     "metadata": {},
     "output_type": "display_data"
    }
   ],
   "source": [
    "%matplotlib inline\n",
    "import matplotlib.pyplot as plt"
   ]
  },
  {
   "cell_type": "code",
   "execution_count": 4,
   "id": "d30cc96a",
   "metadata": {},
   "outputs": [
    {
     "data": {
      "application/javascript": [
       "\n",
       "            setTimeout(function() {\n",
       "                var nbb_cell_id = 4;\n",
       "                var nbb_unformatted_code = \"import sys\\n\\nsys.path.append(\\\"../\\\")\";\n",
       "                var nbb_formatted_code = \"import sys\\n\\nsys.path.append(\\\"../\\\")\";\n",
       "                var nbb_cells = Jupyter.notebook.get_cells();\n",
       "                for (var i = 0; i < nbb_cells.length; ++i) {\n",
       "                    if (nbb_cells[i].input_prompt_number == nbb_cell_id) {\n",
       "                        if (nbb_cells[i].get_text() == nbb_unformatted_code) {\n",
       "                             nbb_cells[i].set_text(nbb_formatted_code);\n",
       "                        }\n",
       "                        break;\n",
       "                    }\n",
       "                }\n",
       "            }, 500);\n",
       "            "
      ],
      "text/plain": [
       "<IPython.core.display.Javascript object>"
      ]
     },
     "metadata": {},
     "output_type": "display_data"
    }
   ],
   "source": [
    "import sys\n",
    "\n",
    "sys.path.append(\"../\")"
   ]
  },
  {
   "cell_type": "code",
   "execution_count": 5,
   "id": "3b86263f",
   "metadata": {},
   "outputs": [
    {
     "data": {
      "application/javascript": [
       "\n",
       "            setTimeout(function() {\n",
       "                var nbb_cell_id = 5;\n",
       "                var nbb_unformatted_code = \"from pathlib import Path\\n\\nARTIFACT_PATH = Path(\\\"../../../gcs_mount/artifacts/rating_spacing_simulator\\\")\\n# ARTIFACT_PATH = Path(\\\"/data/reputation-systems/snpe/artifacts/rating_spacing_simulator\\\")\";\n",
       "                var nbb_formatted_code = \"from pathlib import Path\\n\\nARTIFACT_PATH = Path(\\\"../../../gcs_mount/artifacts/rating_spacing_simulator\\\")\\n# ARTIFACT_PATH = Path(\\\"/data/reputation-systems/snpe/artifacts/rating_spacing_simulator\\\")\";\n",
       "                var nbb_cells = Jupyter.notebook.get_cells();\n",
       "                for (var i = 0; i < nbb_cells.length; ++i) {\n",
       "                    if (nbb_cells[i].input_prompt_number == nbb_cell_id) {\n",
       "                        if (nbb_cells[i].get_text() == nbb_unformatted_code) {\n",
       "                             nbb_cells[i].set_text(nbb_formatted_code);\n",
       "                        }\n",
       "                        break;\n",
       "                    }\n",
       "                }\n",
       "            }, 500);\n",
       "            "
      ],
      "text/plain": [
       "<IPython.core.display.Javascript object>"
      ]
     },
     "metadata": {},
     "output_type": "display_data"
    }
   ],
   "source": [
    "from pathlib import Path\n",
    "\n",
    "ARTIFACT_PATH = Path(\"../../../gcs_mount/artifacts/rating_spacing_simulator\")\n",
    "# ARTIFACT_PATH = Path(\"/data/reputation-systems/snpe/artifacts/rating_spacing_simulator\")"
   ]
  },
  {
   "cell_type": "markdown",
   "id": "755b4b97",
   "metadata": {},
   "source": [
    "# Using the final class to fit GMM density estimation models for embeddings"
   ]
  },
  {
   "cell_type": "code",
   "execution_count": 6,
   "id": "a16b2b41",
   "metadata": {},
   "outputs": [
    {
     "data": {
      "application/javascript": [
       "\n",
       "            setTimeout(function() {\n",
       "                var nbb_cell_id = 6;\n",
       "                var nbb_unformatted_code = \"from snpe.embeddings.embeddings_density_est_GMM import EmbeddingDensityGMM\";\n",
       "                var nbb_formatted_code = \"from snpe.embeddings.embeddings_density_est_GMM import EmbeddingDensityGMM\";\n",
       "                var nbb_cells = Jupyter.notebook.get_cells();\n",
       "                for (var i = 0; i < nbb_cells.length; ++i) {\n",
       "                    if (nbb_cells[i].input_prompt_number == nbb_cell_id) {\n",
       "                        if (nbb_cells[i].get_text() == nbb_unformatted_code) {\n",
       "                             nbb_cells[i].set_text(nbb_formatted_code);\n",
       "                        }\n",
       "                        break;\n",
       "                    }\n",
       "                }\n",
       "            }, 500);\n",
       "            "
      ],
      "text/plain": [
       "<IPython.core.display.Javascript object>"
      ]
     },
     "metadata": {},
     "output_type": "display_data"
    }
   ],
   "source": [
    "from snpe.embeddings.embeddings_density_est_GMM import EmbeddingDensityGMM"
   ]
  },
  {
   "cell_type": "code",
   "execution_count": 7,
   "id": "fff11c97",
   "metadata": {},
   "outputs": [
    {
     "data": {
      "application/javascript": [
       "\n",
       "            setTimeout(function() {\n",
       "                var nbb_cell_id = 7;\n",
       "                var nbb_unformatted_code = \"model = EmbeddingDensityGMM(n_components=10, n_init=5, artifact_path=ARTIFACT_PATH)\";\n",
       "                var nbb_formatted_code = \"model = EmbeddingDensityGMM(n_components=10, n_init=5, artifact_path=ARTIFACT_PATH)\";\n",
       "                var nbb_cells = Jupyter.notebook.get_cells();\n",
       "                for (var i = 0; i < nbb_cells.length; ++i) {\n",
       "                    if (nbb_cells[i].input_prompt_number == nbb_cell_id) {\n",
       "                        if (nbb_cells[i].get_text() == nbb_unformatted_code) {\n",
       "                             nbb_cells[i].set_text(nbb_formatted_code);\n",
       "                        }\n",
       "                        break;\n",
       "                    }\n",
       "                }\n",
       "            }, 500);\n",
       "            "
      ],
      "text/plain": [
       "<IPython.core.display.Javascript object>"
      ]
     },
     "metadata": {},
     "output_type": "display_data"
    }
   ],
   "source": [
    "model = EmbeddingDensityGMM(n_components=10, n_init=5, artifact_path=ARTIFACT_PATH)"
   ]
  },
  {
   "cell_type": "code",
   "execution_count": 8,
   "id": "c1d6d3bb",
   "metadata": {},
   "outputs": [
    {
     "name": "stdout",
     "output_type": "stream",
     "text": [
      "Product embeddings of shape: (31708, 100)\n",
      "User embeddings of shape: (88312, 100)\n"
     ]
    },
    {
     "data": {
      "application/javascript": [
       "\n",
       "            setTimeout(function() {\n",
       "                var nbb_cell_id = 8;\n",
       "                var nbb_unformatted_code = \"product_embeddings, user_embeddings = model.process_input_data()\";\n",
       "                var nbb_formatted_code = \"product_embeddings, user_embeddings = model.process_input_data()\";\n",
       "                var nbb_cells = Jupyter.notebook.get_cells();\n",
       "                for (var i = 0; i < nbb_cells.length; ++i) {\n",
       "                    if (nbb_cells[i].input_prompt_number == nbb_cell_id) {\n",
       "                        if (nbb_cells[i].get_text() == nbb_unformatted_code) {\n",
       "                             nbb_cells[i].set_text(nbb_formatted_code);\n",
       "                        }\n",
       "                        break;\n",
       "                    }\n",
       "                }\n",
       "            }, 500);\n",
       "            "
      ],
      "text/plain": [
       "<IPython.core.display.Javascript object>"
      ]
     },
     "metadata": {},
     "output_type": "display_data"
    }
   ],
   "source": [
    "product_embeddings, user_embeddings = model.process_input_data()"
   ]
  },
  {
   "cell_type": "code",
   "execution_count": 9,
   "id": "4029ced0",
   "metadata": {},
   "outputs": [
    {
     "name": "stdout",
     "output_type": "stream",
     "text": [
      "Fitting product model: GaussianMixture(max_iter=500, n_components=10, n_init=5, random_state=42,\n",
      "                verbose=2, verbose_interval=20)\n",
      "28537 samples in train set, 3171 samples in test set\n",
      "Initialization 0\n",
      "  Iteration 20\t time lapse 7.17631s\t ll change 0.51400\n",
      "  Iteration 40\t time lapse 6.20690s\t ll change 0.01391\n",
      "  Iteration 60\t time lapse 6.16037s\t ll change 0.00136\n",
      "Initialization converged: True\t time lapse 21.43348s\t ll 263.95941\n",
      "Initialization 1\n",
      "  Iteration 20\t time lapse 7.44365s\t ll change 0.02425\n",
      "  Iteration 40\t time lapse 6.14302s\t ll change 0.01058\n",
      "  Iteration 60\t time lapse 6.14986s\t ll change 0.00891\n",
      "  Iteration 80\t time lapse 6.20023s\t ll change 0.00094\n",
      "Initialization converged: True\t time lapse 25.93710s\t ll 264.52057\n",
      "Initialization 2\n",
      "  Iteration 20\t time lapse 7.12980s\t ll change 0.02871\n",
      "  Iteration 40\t time lapse 6.22701s\t ll change 0.02474\n",
      "  Iteration 60\t time lapse 6.20031s\t ll change 0.00318\n",
      "Initialization converged: True\t time lapse 23.85191s\t ll 264.65101\n",
      "Initialization 3\n",
      "  Iteration 20\t time lapse 8.35897s\t ll change 0.04366\n",
      "  Iteration 40\t time lapse 6.15278s\t ll change 0.01116\n",
      "  Iteration 60\t time lapse 6.09556s\t ll change 0.00288\n",
      "  Iteration 80\t time lapse 6.07566s\t ll change 0.00113\n",
      "Initialization converged: True\t time lapse 27.88774s\t ll 264.96883\n",
      "Initialization 4\n",
      "  Iteration 20\t time lapse 6.97045s\t ll change 0.02368\n",
      "  Iteration 40\t time lapse 6.15557s\t ll change 0.01347\n",
      "  Iteration 60\t time lapse 6.13760s\t ll change 0.00521\n",
      "Initialization converged: True\t time lapse 24.16765s\t ll 264.89779\n",
      "Fitting user model: GaussianMixture(max_iter=500, n_components=10, n_init=5, random_state=42,\n",
      "                verbose=2, verbose_interval=20)\n",
      "79480 samples in train set, 8832 samples in test set\n",
      "Initialization 0\n",
      "  Iteration 20\t time lapse 20.57925s\t ll change 0.01764\n",
      "  Iteration 40\t time lapse 20.33956s\t ll change 0.00347\n",
      "  Iteration 60\t time lapse 20.21261s\t ll change 0.00139\n",
      "  Iteration 80\t time lapse 19.91021s\t ll change 0.00240\n",
      "  Iteration 100\t time lapse 20.19978s\t ll change 0.00488\n",
      "  Iteration 120\t time lapse 20.38390s\t ll change 0.00432\n",
      "  Iteration 140\t time lapse 20.29673s\t ll change 0.00872\n",
      "  Iteration 160\t time lapse 19.57821s\t ll change 0.00148\n",
      "Initialization converged: True\t time lapse 170.32585s\t ll 288.95650\n",
      "Initialization 1\n",
      "  Iteration 20\t time lapse 21.23538s\t ll change 0.01299\n",
      "  Iteration 40\t time lapse 19.41474s\t ll change 0.00571\n",
      "Initialization converged: True\t time lapse 57.25980s\t ll 288.55262\n",
      "Initialization 2\n",
      "  Iteration 20\t time lapse 20.54813s\t ll change 0.01610\n",
      "  Iteration 40\t time lapse 19.35299s\t ll change 0.00993\n",
      "  Iteration 60\t time lapse 19.39898s\t ll change 0.00338\n",
      "  Iteration 80\t time lapse 19.35161s\t ll change 0.00211\n",
      "Initialization converged: True\t time lapse 90.18756s\t ll 288.55261\n",
      "Initialization 3\n",
      "  Iteration 20\t time lapse 20.84339s\t ll change 0.01140\n",
      "  Iteration 40\t time lapse 19.21346s\t ll change 0.00863\n",
      "  Iteration 60\t time lapse 19.83104s\t ll change 0.00323\n",
      "  Iteration 80\t time lapse 20.03065s\t ll change 0.00172\n",
      "  Iteration 100\t time lapse 19.82740s\t ll change 0.00242\n",
      "  Iteration 120\t time lapse 20.04670s\t ll change 0.00695\n",
      "  Iteration 140\t time lapse 19.82851s\t ll change 0.00299\n",
      "  Iteration 160\t time lapse 19.77775s\t ll change 0.00199\n",
      "Initialization converged: True\t time lapse 163.38063s\t ll 288.88106\n",
      "Initialization 4\n",
      "  Iteration 20\t time lapse 22.08007s\t ll change 0.03040\n",
      "  Iteration 40\t time lapse 19.64811s\t ll change 0.00992\n",
      "  Iteration 60\t time lapse 19.78007s\t ll change 0.00233\n",
      "  Iteration 80\t time lapse 20.20576s\t ll change 0.00306\n",
      "  Iteration 100\t time lapse 20.00651s\t ll change 0.00361\n",
      "  Iteration 120\t time lapse 19.76732s\t ll change 0.01313\n",
      "  Iteration 140\t time lapse 20.06380s\t ll change 0.00250\n",
      "Initialization converged: True\t time lapse 150.50426s\t ll 289.01152\n",
      "Training baseline models\n",
      "Initialization 0\n",
      "Initialization converged: True\t time lapse 0.19357s\t ll 253.05399\n",
      "Initialization 0\n",
      "Initialization converged: True\t time lapse 0.41729s\t ll 276.02635\n",
      "\n",
      "            Report for product embedding GMM density estimator:\n",
      "            Model score: 262.41521883317074\n",
      "            Basline score: 253.2332108071459\n",
      "            Model improvement over baseline:\n",
      "            3.625909886289584 percent\n",
      "        \n",
      "\n",
      "            Report for user embedding GMM density estimator:\n",
      "            Model score: 287.8648715199472\n",
      "            Basline score: 275.7535046979413\n",
      "            Model improvement over baseline:\n",
      "            4.392098963627899 percent\n",
      "        \n"
     ]
    },
    {
     "data": {
      "application/javascript": [
       "\n",
       "            setTimeout(function() {\n",
       "                var nbb_cell_id = 9;\n",
       "                var nbb_unformatted_code = \"model.fit(product_embeddings, user_embeddings)\";\n",
       "                var nbb_formatted_code = \"model.fit(product_embeddings, user_embeddings)\";\n",
       "                var nbb_cells = Jupyter.notebook.get_cells();\n",
       "                for (var i = 0; i < nbb_cells.length; ++i) {\n",
       "                    if (nbb_cells[i].input_prompt_number == nbb_cell_id) {\n",
       "                        if (nbb_cells[i].get_text() == nbb_unformatted_code) {\n",
       "                             nbb_cells[i].set_text(nbb_formatted_code);\n",
       "                        }\n",
       "                        break;\n",
       "                    }\n",
       "                }\n",
       "            }, 500);\n",
       "            "
      ],
      "text/plain": [
       "<IPython.core.display.Javascript object>"
      ]
     },
     "metadata": {},
     "output_type": "display_data"
    }
   ],
   "source": [
    "model.fit(product_embeddings, user_embeddings)"
   ]
  },
  {
   "cell_type": "code",
   "execution_count": 10,
   "id": "16c753fb",
   "metadata": {},
   "outputs": [
    {
     "data": {
      "application/javascript": [
       "\n",
       "            setTimeout(function() {\n",
       "                var nbb_cell_id = 10;\n",
       "                var nbb_unformatted_code = \"model.save()\";\n",
       "                var nbb_formatted_code = \"model.save()\";\n",
       "                var nbb_cells = Jupyter.notebook.get_cells();\n",
       "                for (var i = 0; i < nbb_cells.length; ++i) {\n",
       "                    if (nbb_cells[i].input_prompt_number == nbb_cell_id) {\n",
       "                        if (nbb_cells[i].get_text() == nbb_unformatted_code) {\n",
       "                             nbb_cells[i].set_text(nbb_formatted_code);\n",
       "                        }\n",
       "                        break;\n",
       "                    }\n",
       "                }\n",
       "            }, 500);\n",
       "            "
      ],
      "text/plain": [
       "<IPython.core.display.Javascript object>"
      ]
     },
     "metadata": {},
     "output_type": "display_data"
    }
   ],
   "source": [
    "model.save()"
   ]
  },
  {
   "cell_type": "code",
   "execution_count": null,
   "id": "509f85a3",
   "metadata": {},
   "outputs": [],
   "source": []
  }
 ],
 "metadata": {
  "kernelspec": {
   "display_name": "Python 3 (ipykernel)",
   "language": "python",
   "name": "python3"
  },
  "language_info": {
   "codemirror_mode": {
    "name": "ipython",
    "version": 3
   },
   "file_extension": ".py",
   "mimetype": "text/x-python",
   "name": "python",
   "nbconvert_exporter": "python",
   "pygments_lexer": "ipython3",
   "version": "3.9.12"
  }
 },
 "nbformat": 4,
 "nbformat_minor": 5
}
